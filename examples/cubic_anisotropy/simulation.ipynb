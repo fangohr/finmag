{
 "metadata": {
  "name": ""
 },
 "nbformat": 3,
 "nbformat_minor": 0,
 "worksheets": [
  {
   "cells": [
    {
     "cell_type": "code",
     "collapsed": false,
     "input": [
      "import logging\n",
      "import numpy as np\n",
      "import dolfin as df\n",
      "from finmag import Simulation\n",
      "from finmag.energies import Exchange, CubicAnisotropy\n",
      "from finmag.util.consts import mu0"
     ],
     "language": "python",
     "metadata": {},
     "outputs": [
      {
       "output_type": "stream",
       "stream": "stderr",
       "text": [
        "[2013-11-26 14:54:45] DEBUG: Building modules in 'native'...\n"
       ]
      },
      {
       "output_type": "stream",
       "stream": "stderr",
       "text": [
        "/usr/local/lib/python2.7/dist-packages/mpl_toolkits/__init__.py:2: UserWarning: Module aeon was already imported from /home/mb8g11/Workspace/aeon/aeon/__init__.pyc, but /usr/local/lib/python2.7/dist-packages is being added to sys.path\n",
        "  __import__('pkg_resources').declare_namespace(__name__)\n",
        "/usr/local/lib/python2.7/dist-packages/mpl_toolkits/__init__.py:2: UserWarning: Module PIL was already imported from /usr/local/lib/python2.7/dist-packages/PIL/__init__.pyc, but /usr/lib/python2.7/dist-packages is being added to sys.path\n",
        "  __import__('pkg_resources').declare_namespace(__name__)\n",
        "[2013-11-26 14:54:46] DEBUG:               Finmag: 4077:6b5a22afa0d7f384288ad767603b3ac171e539c7"
       ]
      },
      {
       "output_type": "stream",
       "stream": "stderr",
       "text": [
        "\n"
       ]
      },
      {
       "output_type": "stream",
       "stream": "stderr",
       "text": [
        "[2013-11-26 14:54:46] DEBUG:               Dolfin: 1.2.0\n"
       ]
      },
      {
       "output_type": "stream",
       "stream": "stderr",
       "text": [
        "[2013-11-26 14:54:46] DEBUG:           Matplotlib: 1.2.1\n"
       ]
      },
      {
       "output_type": "stream",
       "stream": "stderr",
       "text": [
        "[2013-11-26 14:54:46] DEBUG:                Numpy: 1.7.1\n"
       ]
      },
      {
       "output_type": "stream",
       "stream": "stderr",
       "text": [
        "[2013-11-26 14:54:46] DEBUG:                Scipy: 0.11.0\n"
       ]
      },
      {
       "output_type": "stream",
       "stream": "stderr",
       "text": [
        "[2013-11-26 14:54:46] DEBUG:              IPython: 1.1.0\n"
       ]
      },
      {
       "output_type": "stream",
       "stream": "stderr",
       "text": [
        "[2013-11-26 14:54:46] DEBUG:               Python: 2.7.4\n"
       ]
      },
      {
       "output_type": "stream",
       "stream": "stderr",
       "text": [
        "[2013-11-26 14:54:46] DEBUG:             Paraview: 3.98.0-1~exp1\n"
       ]
      },
      {
       "output_type": "stream",
       "stream": "stderr",
       "text": [
        "[2013-11-26 14:54:46] DEBUG:             Sundials: 2.5.0-3\n"
       ]
      },
      {
       "output_type": "stream",
       "stream": "stderr",
       "text": [
        "[2013-11-26 14:54:46] DEBUG:         Boost-Python: 1.49.0\n"
       ]
      },
      {
       "output_type": "stream",
       "stream": "stderr",
       "text": [
        "[2013-11-26 14:54:46] DEBUG:                Linux: Ubuntu 13.04\n"
       ]
      }
     ],
     "prompt_number": 1
    },
    {
     "cell_type": "code",
     "collapsed": false,
     "input": [
      "log = logging.getLogger(\"finmag\")\n",
      "log.setLevel(logging.WARNING)"
     ],
     "language": "python",
     "metadata": {},
     "outputs": [],
     "prompt_number": 2
    },
    {
     "cell_type": "code",
     "collapsed": false,
     "input": [
      "mesh = df.BoxMesh(0, 0, 0, 1, 1, 40, 1, 1, 40)"
     ],
     "language": "python",
     "metadata": {},
     "outputs": [],
     "prompt_number": 3
    },
    {
     "cell_type": "code",
     "collapsed": false,
     "input": [
      "Ms = 876626  # A/m\n",
      "A = 1.46e-11  # J/m"
     ],
     "language": "python",
     "metadata": {},
     "outputs": [],
     "prompt_number": 4
    },
    {
     "cell_type": "markdown",
     "metadata": {},
     "source": [
      "Constants K1, K2 and K3 for each run."
     ]
    },
    {
     "cell_type": "code",
     "collapsed": false,
     "input": [
      "constants = ((-8608726,  0,        0),\n",
      "             (-8608726, -6872066,  550135),\n",
      "             (-8608726, -13744132, 1100269),\n",
      "             (-8608726, -27488264, 2200538))"
     ],
     "language": "python",
     "metadata": {},
     "outputs": [],
     "prompt_number": 5
    },
    {
     "cell_type": "markdown",
     "metadata": {},
     "source": [
      "Anisotropy axes."
     ]
    },
    {
     "cell_type": "code",
     "collapsed": false,
     "input": [
      "u1 = (0, -0.7071, 0.7071)\n",
      "u2 = (0,  0.7071, 0.7071)\n",
      "u3 = (-1, 0, 0)  # perpendicular to u1 and u2"
     ],
     "language": "python",
     "metadata": {},
     "outputs": [],
     "prompt_number": 6
    },
    {
     "cell_type": "markdown",
     "metadata": {},
     "source": [
      "Specification of fields close to oommf reference `cubicEight_100pc.mif` on http://www.southampton.ac.uk/~fangohr/software/oxs_cubic8.html."
     ]
    },
    {
     "cell_type": "code",
     "collapsed": false,
     "input": [
      "fields = np.zeros((250, 3))\n",
      "fields[:, 0] = 5\n",
      "fields[:, 1] = 5\n",
      "fields[:, 2] = np.linspace(20000, -20000, 250)\n",
      "fields = fields * 0.001 / mu0  # mT to A/m"
     ],
     "language": "python",
     "metadata": {},
     "outputs": [],
     "prompt_number": 7
    },
    {
     "cell_type": "code",
     "collapsed": false,
     "input": [
      "result = np.zeros((250, 1+len(constants)))\n",
      "result[:, 0] = fields[:, 2]"
     ],
     "language": "python",
     "metadata": {},
     "outputs": [],
     "prompt_number": 8
    },
    {
     "cell_type": "code",
     "collapsed": false,
     "input": [
      "for i, Ksi in enumerate(constants):\n",
      "    sim = Simulation(mesh, Ms, unit_length=1e-9)\n",
      "    sim.set_m((0, 0, 1))\n",
      "    sim.add(Exchange(A))\n",
      "    sim.add(CubicAnisotropy(Ksi[0], u1, Ksi[1], u2, Ksi[2], u3))\n",
      "\n",
      "    # this is not a hysteresis loop, but just a one-way swipe\n",
      "    mzs = sim.hysteresis(fields, lambda sim: sim.m_average[2], dmdt_increased_counter_limit=100)\n",
      "    result[:, 1+i] = mzs"
     ],
     "language": "python",
     "metadata": {},
     "outputs": [
      {
       "output_type": "stream",
       "stream": "stderr",
       "text": [
        "[2013-11-26 15:09:49] WARNING: Stopping time integration after dmdt increased 100 times.\n"
       ]
      },
      {
       "output_type": "stream",
       "stream": "stderr",
       "text": [
        "[2013-11-26 15:20:52] WARNING: Stopping time integration after dmdt increased 100 times.\n"
       ]
      }
     ],
     "prompt_number": 9
    },
    {
     "cell_type": "code",
     "collapsed": false,
     "input": [
      "np.savetxt(\"hysteresis.txt\", result, header=\"field in A/m and corresponding unit magnetisations in z\")"
     ],
     "language": "python",
     "metadata": {},
     "outputs": [],
     "prompt_number": 10
    },
    {
     "cell_type": "code",
     "collapsed": false,
     "input": [
      "fig = plt.figure(figsize=(16, 4))\n",
      "ax = fig.add_subplot(111)\n",
      "ax.plot(result[:, 0], Ms * result[:, 1])\n",
      "ax.plot(result[:, 0], Ms * result[:, 2])\n",
      "ax.plot(result[:, 0], Ms * result[:, 3])\n",
      "ax.plot(result[:, 0], Ms * result[:, 4])\n",
      "ax.set_ylim((- Ms * 1.1, Ms * 1.1))"
     ],
     "language": "python",
     "metadata": {},
     "outputs": [
      {
       "metadata": {},
       "output_type": "pyout",
       "prompt_number": 11,
       "text": [
        "(-964288.6000000001, 964288.6000000001)"
       ]
      },
      {
       "output_type": "stream",
       "stream": "stderr",
       "text": [
        "/usr/local/lib/python2.7/dist-packages/matplotlib/figure.py:1533: UserWarning: This figure includes Axes that are not compatible with tight_layout, so its results might be incorrect.\n",
        "  warnings.warn(\"This figure includes Axes that are not \"\n"
       ]
      },
      {
       "metadata": {},
       "output_type": "display_data",
       "png": "[encoded data removed]",
       "text": [
        "<matplotlib.figure.Figure at 0x3ddd050>"
       ]
      }
     ],
     "prompt_number": 11
    },
    {
     "cell_type": "code",
     "collapsed": false,
     "input": [],
     "language": "python",
     "metadata": {},
     "outputs": [],
     "prompt_number": 11
    }
   ],
   "metadata": {}
  }
 ]
}