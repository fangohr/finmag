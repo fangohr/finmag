{
 "metadata": {
  "name": "create-tailored-manual"
 },
 "nbformat": 3,
 "nbformat_minor": 0,
 "worksheets": [
  {
   "cells": [
    {
     "cell_type": "code",
     "collapsed": false,
     "input": [
      "tutorials = ['tutorial-example2','tutorial-saving-averages-demo','tutorial-use-of-logging']\n",
      "conf = {'nameshort':'Hesjedahl',\n",
      "        'names': ('Thorsten Hesjedahl','Shilei Zhang'),\n",
      "        'header':\".. contents::\\n\\n\",\n",
      "        'ipynbdir':\"The raw ipython notebooks are `available here <ipynb>`__.\\n\\n\" }\n",
      "import tempfile\n",
      "import shutil\n",
      "import os.path\n",
      "import time"
     ],
     "language": "python",
     "metadata": {},
     "outputs": [],
     "prompt_number": 18
    },
    {
     "cell_type": "code",
     "collapsed": false,
     "input": [
      "def targetdirectoryname(conf):\n",
      "    use_build = True\n",
      "    if use_build == False:\n",
      "        tmpdirname = tempfile.mkdtemp()\n",
      "    else:\n",
      "        tmpdirname = '_build'\n",
      "        if not os.path.exists(tmpdirname):   # if we don't use\n",
      "            os.mkdir(tmpdirname)\n",
      "    targetdirname = os.path.join(tmpdirname, 'finmag-tutorial-%s' % conf['nameshort'])\n",
      "\n",
      "    if os.path.exists(targetdirname):\n",
      "            assert use_build == True # otherwise this should be impossible\n",
      "    else:\n",
      "        os.mkdir(targetdirname)\n",
      "\n",
      "    return targetdirname\n",
      "\n",
      "def assemble_rst(rstrootfilenames):\n",
      "\n",
      "    targetdirname = targetdirectoryname(conf) \n",
      "        \n",
      "    \n",
      "    for fileroot in rstrootfilenames:\n",
      "        # copy all rst files (and where we have images also the corresponding _files directories)\n",
      "        # to the target location  \n",
      "        shutil.copy(\"../../ipython_notebooks_dest/%s.rst\" % fileroot, os.path.join(targetdirname,fileroot+\".rst\"))\n",
      "        if os.path.exists(\"../../%s_files\" % fileroot):\n",
      "            targetdirnamefiles = os.path.join(targetdirname,fileroot+\"_files\")\n",
      "            shutil.copytree(\"../../ipython_notebooks_dest/%s_files\" % fileroot, targetdirnamefiles)\n",
      "            \n",
      "            \n",
      "        # also copy the raw ipynb files into the right directory\n",
      "        ipynbdir = os.path.join(targetdirname, 'ipynb')\n",
      "        if not os.path.exists(ipynbdir):\n",
      "            os.mkdir(ipynbdir)\n",
      "        shutil.copy(\"../../ipython_notebooks_src/%s.ipynb\" % fileroot, ipynbdir)\n",
      "        \n",
      "    \n",
      "    # Create index file\n",
      "    fout = open(os.path.join(targetdirname,'index.rst'),'w')\n",
      "    \n",
      "    title = \"Finmag Manual for %s\" % (\",\".join(conf['names']))\n",
      "    fout.write(\"%s\\n\" % title)\n",
      "    fout.write(\"=\" * len(title) + '\\n\\n')\n",
      "\n",
      "    fout.write(\"Tutorial compiled at %s.\\n\\n\" % time.asctime())\n",
      "    \n",
      "    fout.write(conf['header'])\n",
      "    \n",
      "    fout.write(conf['ipynbdir'])\n",
      "  \n",
      "   \n",
      "    # Assemble the index file\n",
      "    for fileroot in rstrootfilenames:\n",
      "        f = open(os.path.join(targetdirname,fileroot + '.rst'),'r')\n",
      "        for line in f:\n",
      "            fout.write(line)\n",
      "        fout.write('\\n\\n')  # need white space before next section to have valid rst\n",
      "    \n",
      "    fout.close()\n",
      "    \n",
      "assemble_rst(tutorials)"
     ],
     "language": "python",
     "metadata": {},
     "outputs": [],
     "prompt_number": 20
    },
    {
     "cell_type": "code",
     "collapsed": false,
     "input": [
      "def compile_rst2html():\n",
      "    import subprocess\n",
      "    targetdirname = targetdirectoryname(conf) \n",
      "    #output = os.system(\")\n",
      "    cmd = \"cd %s; rst2html.py index.rst index.html\" % targetdirname\n",
      "    output = subprocess.check_output(cmd, shell=True)\n",
      "    print (\"Output = %s\" % output)"
     ],
     "language": "python",
     "metadata": {},
     "outputs": [],
     "prompt_number": 21
    },
    {
     "cell_type": "code",
     "collapsed": false,
     "input": [
      "compile_rst2html()"
     ],
     "language": "python",
     "metadata": {},
     "outputs": [
      {
       "output_type": "stream",
       "stream": "stdout",
       "text": [
        "Output = \n"
       ]
      }
     ],
     "prompt_number": 22
    },
    {
     "cell_type": "code",
     "collapsed": false,
     "input": [],
     "language": "python",
     "metadata": {},
     "outputs": []
    }
   ],
   "metadata": {}
  }
 ]
}