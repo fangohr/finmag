{
 "metadata": {
  "name": "create-tailored-manual"
 },
 "nbformat": 3,
 "nbformat_minor": 0,
 "worksheets": [
  {
   "cells": [
    {
     "cell_type": "code",
     "collapsed": false,
     "input": [
      "tutorials = ['tutorial-example2','tutorial-saving-averages-demo','tutorial-use-of-logging']\n",
      "conf = {'nameshort':'Hesjedahl',\n",
      "        'names': ('Thorsten Hesjedahl','Shilei Zhang'),\n",
      "        'header':\".. contents::\\n\\n\"}\n",
      "import tempfile\n",
      "import shutil\n",
      "import os.path\n",
      "import time"
     ],
     "language": "python",
     "metadata": {},
     "outputs": [],
     "prompt_number": 25
    },
    {
     "cell_type": "code",
     "collapsed": false,
     "input": [
      "def assemble_rst(rstrootfilenames):\n",
      "    # create temparory directory to work in\n",
      "    \n",
      "    use_build = True\n",
      "    if use_build == False:\n",
      "        tmpdirname = tempfile.mkdtemp()\n",
      "    else:\n",
      "        tmpdirname = '_build'\n",
      "        if not os.path.exists(tmpdirname):   # if we don't use\n",
      "            os.mkdir(tmpdirname)\n",
      "    \n",
      "    targetdirname = os.path.join(tmpdirname, 'finmag-tutorial-%s' % conf['nameshort'])\n",
      "    if os.path.exists(targetdirname):\n",
      "            assert use_build == True # otherwise this should be impossible\n",
      "    else:\n",
      "        os.mkdir(targetdirname)\n",
      "    \n",
      "    print(\"tmpdirname = %s\" % tmpdirname)\n",
      "    # copy all rst files (and where we have images also the corresponding _files directories)\n",
      "    # to the target location\n",
      "    for fileroot in rstrootfilenames:\n",
      "        shutil.copy(\"../../ipython_notebooks_dest/%s.rst\" % fileroot, os.path.join(targetdirname,fileroot+\".rst\"))\n",
      "        if os.path.exists(\"../../%s_files\" % fileroot):\n",
      "            targetdirnamefiles = os.path.join(targetdirname,fileroot+\"_files\")\n",
      "            shutil.copytree(\"../../ipython_notebooks_dest/%s_files\" % fileroot, targetdirnamefiles)\n",
      "    \n",
      "    # Create index file\n",
      "    fout = open(os.path.join(targetdirname,'index.rst'),'w')\n",
      "    \n",
      "    title = \"Finmag Manual for %s\" % (\",\".join(conf['names']))\n",
      "    fout.write(\"%s\\n\" % title)\n",
      "    fout.write(\"=\" * len(title) + '\\n\\n')\n",
      "\n",
      "    fout.write(\"Tutorial compiled at %s.\\n\\n\" % time.asctime())\n",
      "    \n",
      "    fout.write(conf['header'])\n",
      "  \n",
      "   \n",
      "    # Assemble the index file\n",
      "    for fileroot in rstrootfilenames:\n",
      "        f = open(os.path.join(targetdirname,fileroot + '.rst'),'r')\n",
      "        for line in f:\n",
      "            fout.write(line)\n",
      "        fout.write('\\n\\n')  # need white space before next section to have valid rst\n",
      "    \n",
      "    fout.close()\n",
      "    \n",
      "assemble_rst(tutorials)"
     ],
     "language": "python",
     "metadata": {},
     "outputs": [
      {
       "output_type": "stream",
       "stream": "stdout",
       "text": [
        "tmpdirname = _build\n"
       ]
      }
     ],
     "prompt_number": 43
    },
    {
     "cell_type": "code",
     "collapsed": false,
     "input": [],
     "language": "python",
     "metadata": {},
     "outputs": [],
     "prompt_number": 8
    },
    {
     "cell_type": "code",
     "collapsed": false,
     "input": [
      "shutil.copytree("
     ],
     "language": "python",
     "metadata": {},
     "outputs": []
    }
   ],
   "metadata": {}
  }
 ]
}