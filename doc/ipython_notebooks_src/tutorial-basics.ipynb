{
 "cells": [
  {
   "cell_type": "markdown",
   "metadata": {},
   "source": [
    "# Basic finmag tutorial"
   ]
  },
  {
   "cell_type": "markdown",
   "metadata": {},
   "source": [
    "## Setting up a basic simulation"
   ]
  },
  {
   "cell_type": "markdown",
   "metadata": {},
   "source": [
    "Depending on the functionalities required, different finmag modules should be imported. For the beginning, we import the following:"
   ]
  },
  {
   "cell_type": "code",
   "execution_count": 1,
   "metadata": {
    "collapsed": false
   },
   "outputs": [
    {
     "name": "stderr",
     "output_type": "stream",
     "text": [
      "[2015-11-13 13:33:38] INFO: Finmag logging output will be appended to file: '/home/mb4e10/.finmag/global.log'\n",
      "[2015-11-13 13:33:38] DEBUG: Building modules in 'native'...\n",
      "[2015-11-13 13:33:39] DEBUG: FinMag          3042844973cf14bc02c909b16ece9847aa26b637\n",
      "[2015-11-13 13:33:39] DEBUG: Dolfin          1.6.0                Matplotlib      lazily loaded       \n",
      "[2015-11-13 13:33:39] DEBUG: Numpy           1.10.1               Scipy           0.15.1              \n",
      "[2015-11-13 13:33:39] DEBUG: IPython         4.0.0                Python          2.7.6               \n",
      "[2015-11-13 13:33:39] DEBUG: Paraview        4.0.1-1ubuntu1       Sundials        2.5.0               \n",
      "[2015-11-13 13:33:39] DEBUG: Boost-Python    <unknown>            Linux           Ubuntu 14.04.3 LTS  \n",
      "[2015-11-13 13:33:39] DEBUG: Registering debug signal handler. Press Ctrl-Z any time to stop execution and jump into the debugger.\n"
     ]
    }
   ],
   "source": [
    "import dolfin as df  # enables us to create basic meshes\n",
    "from finmag import Simulation as Sim\n",
    "from finmag.energies import Exchange, DMI, Zeeman, Demag, UniaxialAnisotropy"
   ]
  },
  {
   "cell_type": "markdown",
   "metadata": {},
   "source": [
    "Firstly, we create a three-dimensional mesh with dimensions $l_{x} = 50$, $l_{y} = 50$, and $l_{z} = 10$. So, we need to provide two points as well as the mesh discretisation in all three directions ($n_{x}$, $n_{y}$, $n_{z}$)."
   ]
  },
  {
   "cell_type": "code",
   "execution_count": 2,
   "metadata": {
    "collapsed": true
   },
   "outputs": [],
   "source": [
    "lx = 50  # (m)\n",
    "ly = 50  # (m)\n",
    "lz = 10  # (m)\n",
    "\n",
    "nx = 25  # number of vertices in x-direction\n",
    "ny = 25\n",
    "nz = 5\n",
    "\n",
    "mesh = df.BoxMesh(df.Point(0, 0, 0), df.Point(lx, ly, lz), nx, ny, nz)"
   ]
  },
  {
   "cell_type": "markdown",
   "metadata": {},
   "source": [
    "In the next step, we need to define some basic material parameters:"
   ]
  },
  {
   "cell_type": "code",
   "execution_count": 3,
   "metadata": {
    "collapsed": true
   },
   "outputs": [],
   "source": [
    "Ms = 1e6  # magnetisation saturation (A/m)\n",
    "A = 1e-12  # exchange energy constant (J/m)\n",
    "D = 1e-3  # DMI constant (J/m**2)\n",
    "K = 1e5  # uniaxial anisotropy constant (J/m**3)\n",
    "Kaxis = (0, 0, 1)  # uniaxial anisotropy axis\n",
    "H = (0, 0, 1e7)  # external magnetic field (A/m)"
   ]
  },
  {
   "cell_type": "markdown",
   "metadata": {},
   "source": [
    "Now, we can create a simulation object. The first argument is the mesh, the second one is the magnetisation saturation, and the third one is the unit length. Unit length should be specified because the mesh is initially created in meteres."
   ]
  },
  {
   "cell_type": "code",
   "execution_count": 4,
   "metadata": {
    "collapsed": false
   },
   "outputs": [
    {
     "name": "stderr",
     "output_type": "stream",
     "text": [
      "[2015-11-13 13:34:06] INFO: Finmag logging output will be written to file: '/home/mb4e10/finmag/doc/ipython_notebooks_src/robert/unnamed.log' (any old content will be overwritten).\n",
      "[2015-11-13 13:34:06] DEBUG: Creating DataWriter for file 'unnamed.ndt'\n",
      "[2015-11-13 13:34:06] INFO: Creating Sim object name='unnamed', instance_id=0 (rank=0/1).\n",
      "[2015-11-13 13:34:06] DEBUG:    Total number of Sim objects in this session: 1\n",
      "[2015-11-13 13:34:06] INFO: <Mesh of topological dimension 3 (tetrahedra) with 4056 vertices and 18750 cells, ordered>\n",
      "/usr/local/lib/python2.7/dist-packages/aeon/timer.py:35: UserWarning: You are nesting measurements in __init__::LLG.\n",
      "  warnings.warn(\"You are nesting measurements in {}::{}.\".format(name, group))\n",
      "[2015-11-13 13:34:07] DEBUG: Creating LLG object.\n"
     ]
    }
   ],
   "source": [
    "sim = Sim(mesh, Ms, unit_length=1e-9)"
   ]
  },
  {
   "cell_type": "markdown",
   "metadata": {},
   "source": [
    "When the simulation object is creates, different interactions can be added to it:"
   ]
  },
  {
   "cell_type": "code",
   "execution_count": 5,
   "metadata": {
    "collapsed": false
   },
   "outputs": [
    {
     "name": "stderr",
     "output_type": "stream",
     "text": [
      "[2015-11-13 13:34:11] DEBUG: Creating Exchange object with method box-matrix-petsc, in Jacobian.\n",
      "[2015-11-13 13:34:11] DEBUG: Adding interaction Exchange to simulation.\n",
      "[2015-11-13 13:34:11] DEBUG: Creating DMI object with method box-matrix-petsc, in Jacobian.\n",
      "[2015-11-13 13:34:11] DEBUG: Adding interaction DMI to simulation.\n",
      "[2015-11-13 13:34:11] DEBUG: Adding interaction Zeeman to simulation.\n",
      "[2015-11-13 13:34:11] DEBUG: Creating UniaxialAnisotropy object with method box-matrix-petsc, in Jacobian.\n",
      "[2015-11-13 13:34:11] DEBUG: Adding interaction Anisotropy to simulation.\n",
      "[2015-11-13 13:34:12] DEBUG: Creating Demag object with solver 'FK'.\n",
      "[2015-11-13 13:34:12] DEBUG: Adding interaction Demag to simulation.\n",
      "[2015-11-13 13:34:12] DEBUG: Using Krylov solver for demag.\n",
      "[2015-11-13 13:34:12] DEBUG: Boundary element matrix uses 23.42 MB of memory.\n"
     ]
    }
   ],
   "source": [
    "sim.add(Exchange(A))  # add exchange interaction\n",
    "sim.add(DMI(D))  # add DMI interaction\n",
    "# sim.add(DMI(D, dmi_type='interfacial'))  # interfacial DMI interaction\n",
    "sim.add(Zeeman(H))  # add Zeeman energy\n",
    "sim.add(UniaxialAnisotropy(K, Kaxis))  # add uniaxial anisotropy\n",
    "sim.add(Demag())  # add demagnetisation (magneostatic) energy"
   ]
  },
  {
   "cell_type": "markdown",
   "metadata": {},
   "source": [
    "So, at this point the Hamiltonian is created. Now, we can set parameters in the LLG equation. Precession and damping terms are enabled by default and other terms can be added separately."
   ]
  },
  {
   "cell_type": "code",
   "execution_count": 6,
   "metadata": {
    "collapsed": true
   },
   "outputs": [],
   "source": [
    "sim.alpha = 0.5  # set the Gilbert damping"
   ]
  },
  {
   "cell_type": "markdown",
   "metadata": {},
   "source": [
    "When both Hamiltonian and LLG equations are set, we need to set the intial magnetisation before we relax the system:"
   ]
  },
  {
   "cell_type": "code",
   "execution_count": 7,
   "metadata": {
    "collapsed": true
   },
   "outputs": [],
   "source": [
    "sim.set_m((1, 0, 0))"
   ]
  },
  {
   "cell_type": "markdown",
   "metadata": {},
   "source": [
    "The system is relaxed:"
   ]
  },
  {
   "cell_type": "code",
   "execution_count": 8,
   "metadata": {
    "collapsed": false
   },
   "outputs": [
    {
     "name": "stderr",
     "output_type": "stream",
     "text": [
      "[2015-11-13 13:34:18] INFO: Simulation will run until relaxation of the magnetisation.\n",
      "[2015-11-13 13:34:18] DEBUG: Relaxation parameters: stopping_dmdt=1.0 (degrees per nanosecond), dt_limit=1e-10, dmdt_increased_counter_limit=10\n",
      "[2015-11-13 13:34:18] INFO: Creating integrator with backend sundials and arguments {'reltol': 1e-06, 'abstol': 1e-06}.\n",
      "[2015-11-13 13:34:18] DEBUG: Updating get method for steps in TableWriter(name=unnamed.ndt)\n",
      "[2015-11-13 13:34:18] DEBUG: Updating get method for last_step_dt in TableWriter(name=unnamed.ndt)\n",
      "[2015-11-13 13:34:18] DEBUG: Updating get method for dmdt in TableWriter(name=unnamed.ndt)\n",
      "/usr/local/lib/python2.7/dist-packages/aeon/timer.py:35: UserWarning: You are nesting measurements in compute_field::DMI.\n",
      "  warnings.warn(\"You are nesting measurements in {}::{}.\".format(name, group))\n",
      "/usr/local/lib/python2.7/dist-packages/aeon/timer.py:35: UserWarning: You are nesting measurements in compute_field::UniaxialAnisotropy.\n",
      "  warnings.warn(\"You are nesting measurements in {}::{}.\".format(name, group))\n",
      "/usr/local/lib/python2.7/dist-packages/aeon/timer.py:35: UserWarning: You are nesting measurements in compute_field::Exchange.\n",
      "  warnings.warn(\"You are nesting measurements in {}::{}.\".format(name, group))\n",
      "/usr/local/lib/python2.7/dist-packages/aeon/timer.py:35: UserWarning: You are nesting measurements in compute_field::FKDemag.\n",
      "  warnings.warn(\"You are nesting measurements in {}::{}.\".format(name, group))\n",
      "[2015-11-13 13:34:18] DEBUG: At t=2e-14, last_dmdt=1.33e+05 * stopping_dmdt, next dt=1e-14.\n",
      "[2015-11-13 13:34:19] DEBUG: At t=3e-14, last_dmdt=1.33e+05 * stopping_dmdt, next dt=1e-14.\n",
      "[2015-11-13 13:34:19] DEBUG: At t=4e-14, last_dmdt=1.33e+05 * stopping_dmdt, next dt=1e-14.\n",
      "[2015-11-13 13:34:19] DEBUG: At t=5e-14, last_dmdt=1.33e+05 * stopping_dmdt, next dt=1e-14.\n",
      "[2015-11-13 13:34:19] DEBUG: At t=6e-14, last_dmdt=1.34e+05 * stopping_dmdt, next dt=1e-14.\n",
      "[2015-11-13 13:34:19] DEBUG: At t=7e-14, last_dmdt=1.34e+05 * stopping_dmdt, next dt=1e-14.\n",
      "[2015-11-13 13:34:19] DEBUG: At t=8e-14, last_dmdt=1.34e+05 * stopping_dmdt, next dt=1e-14.\n",
      "[2015-11-13 13:34:19] DEBUG: At t=9.5e-14, last_dmdt=1.33e+05 * stopping_dmdt, next dt=1.5e-14.\n",
      "[2015-11-13 13:34:19] DEBUG: At t=1.17e-13, last_dmdt=1.33e+05 * stopping_dmdt, next dt=2.25e-14.\n",
      "[2015-11-13 13:34:19] DEBUG: At t=1.51e-13, last_dmdt=1.33e+05 * stopping_dmdt, next dt=3.37e-14.\n",
      "[2015-11-13 13:34:19] DEBUG: At t=2.02e-13, last_dmdt=1.32e+05 * stopping_dmdt, next dt=5.06e-14.\n",
      "[2015-11-13 13:34:20] DEBUG: At t=2.78e-13, last_dmdt=1.31e+05 * stopping_dmdt, next dt=7.59e-14.\n",
      "[2015-11-13 13:34:20] DEBUG: At t=3.92e-13, last_dmdt=1.27e+05 * stopping_dmdt, next dt=1.14e-13.\n",
      "[2015-11-13 13:34:20] DEBUG: At t=5.63e-13, last_dmdt=1.2e+05 * stopping_dmdt, next dt=1.71e-13.\n",
      "[2015-11-13 13:34:20] DEBUG: At t=8.19e-13, last_dmdt=1.06e+05 * stopping_dmdt, next dt=2.56e-13.\n",
      "[2015-11-13 13:34:20] DEBUG: At t=1.2e-12, last_dmdt=8.98e+04 * stopping_dmdt, next dt=3.84e-13.\n",
      "[2015-11-13 13:34:21] DEBUG: At t=1.78e-12, last_dmdt=7.21e+04 * stopping_dmdt, next dt=5.77e-13.\n",
      "[2015-11-13 13:34:21] DEBUG: At t=2.64e-12, last_dmdt=4.38e+04 * stopping_dmdt, next dt=8.65e-13.\n",
      "[2015-11-13 13:34:22] DEBUG: At t=3.94e-12, last_dmdt=1.73e+04 * stopping_dmdt, next dt=1.3e-12.\n",
      "[2015-11-13 13:34:22] DEBUG: At t=5.89e-12, last_dmdt=3.76e+03 * stopping_dmdt, next dt=1.95e-12.\n",
      "[2015-11-13 13:34:23] DEBUG: At t=8.81e-12, last_dmdt=448 * stopping_dmdt, next dt=2.92e-12.\n",
      "[2015-11-13 13:34:23] DEBUG: At t=1.32e-11, last_dmdt=29.6 * stopping_dmdt, next dt=4.38e-12.\n",
      "[2015-11-13 13:34:23] DEBUG: Stopping integration at t=1.98e-11, with dmdt=1.05e+07, smaller than threshold=1.75e+07.\n",
      "[2015-11-13 13:34:23] DEBUG: Re-initialising CVODE integrator.\n",
      "[2015-11-13 13:34:23] DEBUG: Re-initialising CVODE integrator.\n",
      "[2015-11-13 13:34:23] INFO: Relaxation finished at time t = 2e-11.\n"
     ]
    }
   ],
   "source": [
    "sim.relax()"
   ]
  },
  {
   "cell_type": "markdown",
   "metadata": {},
   "source": [
    "The magnetisation data can be either:\n",
    "  - shown as the numpy array\n",
    "  - saved to the h5 file\n",
    "  - saved as a pvd file so that it can be visualised in paraview or mayavi"
   ]
  },
  {
   "cell_type": "code",
   "execution_count": 9,
   "metadata": {
    "collapsed": false
   },
   "outputs": [
    {
     "name": "stdout",
     "output_type": "stream",
     "text": [
      "[-0.03065838 -0.04465918 -0.0509022  ...,  0.99740855  0.99715546\n",
      "  0.99694063]\n"
     ]
    }
   ],
   "source": [
    "print sim.llg.m_field.vector().array()  # show as a numpy array"
   ]
  },
  {
   "cell_type": "code",
   "execution_count": 10,
   "metadata": {
    "collapsed": false
   },
   "outputs": [
    {
     "name": "stdout",
     "output_type": "stream",
     "text": [
      "Debug: (0/1) opening file example1.h5\n",
      "Debug: (0/1) writing json file example1.json\n",
      "Debug: (0/1) writing json file example1.json\n"
     ]
    }
   ],
   "source": [
    "# Save the magnetisation in the HDF5 file\n",
    "h5_filename = 'example1'\n",
    "sim.llg.m_field.save_hdf5(h5_filename, t=0)"
   ]
  },
  {
   "cell_type": "markdown",
   "metadata": {},
   "source": [
    "A more detailed tutorial on saving and reading HDF5 files is provided separately."
   ]
  },
  {
   "cell_type": "code",
   "execution_count": 11,
   "metadata": {
    "collapsed": false
   },
   "outputs": [
    {
     "name": "stderr",
     "output_type": "stream",
     "text": [
      "[2015-11-13 13:34:55] DEBUG: Saved field at t=1.97552250671e-11 to file 'relaxed_state.pvd' (snapshot #0; saving took 0.038 seconds).\n"
     ]
    }
   ],
   "source": [
    "# Save the VTK file for visualisation using Paraview or Mayavi\n",
    "pvd_filename = 'relaxed_state.pvd'\n",
    "sim.save_vtk(pvd_filename)"
   ]
  },
  {
   "cell_type": "markdown",
   "metadata": {},
   "source": [
    "## Multiple materials (spatially varying parameters)"
   ]
  },
  {
   "cell_type": "markdown",
   "metadata": {},
   "source": [
    "If multiple materials are present in the system, spatially varying parameters should be provided. The simplest way of doing that is to define a Python function for these parameters. For instance, in the case of DMI:"
   ]
  },
  {
   "cell_type": "code",
   "execution_count": 12,
   "metadata": {
    "collapsed": true
   },
   "outputs": [],
   "source": [
    "def D_fun(pos):\n",
    "    x, y, z = pos[0], pos[1], pos[2]\n",
    "    if x < lx/2.:\n",
    "        return -D\n",
    "    else:\n",
    "        return D"
   ]
  },
  {
   "cell_type": "markdown",
   "metadata": {},
   "source": [
    "Now, this function can be added to the simulation, instead of D. For instance: sim.add(DMI(D_fun)). The same procedure applies for all parameters introduced so far."
   ]
  },
  {
   "cell_type": "markdown",
   "metadata": {},
   "source": [
    "## Extracting magnetisation data"
   ]
  },
  {
   "cell_type": "markdown",
   "metadata": {},
   "source": [
    "The magnetisation at a single point can be sampled as:"
   ]
  },
  {
   "cell_type": "code",
   "execution_count": 13,
   "metadata": {
    "collapsed": false
   },
   "outputs": [
    {
     "name": "stdout",
     "output_type": "stream",
     "text": [
      "[ -5.85305001e-05   1.73350586e-04   9.99999836e-01]\n"
     ]
    }
   ],
   "source": [
    "sampling_point = (20, 15, 5)  # coordinates of a sampling point\n",
    "sampled_magnetisation = sim.llg.m_field.probe(sampling_point)\n",
    "print sampled_magnetisation"
   ]
  }
 ],
 "metadata": {
  "kernelspec": {
   "display_name": "Python 2",
   "language": "python",
   "name": "python2"
  },
  "language_info": {
   "codemirror_mode": {
    "name": "ipython",
    "version": 2
   },
   "file_extension": ".py",
   "mimetype": "text/x-python",
   "name": "python",
   "nbconvert_exporter": "python",
   "pygments_lexer": "ipython2",
   "version": "2.7.6"
  }
 },
 "nbformat": 4,
 "nbformat_minor": 0
}
