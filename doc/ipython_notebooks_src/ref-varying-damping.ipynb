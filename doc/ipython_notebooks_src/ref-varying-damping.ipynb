{
 "metadata": {
  "name": "ref-varying-damping"
 },
 "nbformat": 3,
 "nbformat_minor": 0,
 "worksheets": [
  {
   "cells": [
    {
     "cell_type": "markdown",
     "metadata": {},
     "source": [
      "## Spatially varying damping"
     ]
    },
    {
     "cell_type": "markdown",
     "metadata": {},
     "source": [
      "This is a simple example to show the usuage of spatial damping in finmag. The simulation system is a Permalloy bar with dimensions $200 \\times 20 \\times 10 \\mathrm{nm}^3$. \n",
      "We create the mesh using the dolfin Box class with discretization sizes $5 \\times 5 \\times 10 \\mathrm{nm}^3$ for each cuboid (a cuboid is made up of six tetrahedra)"
     ]
    },
    {
     "cell_type": "code",
     "collapsed": false,
     "input": [
      "import dolfin as df\n",
      "import numpy as np\n",
      "mesh = df.Box(0, 0, 0, 200, 20, 10, 40, 4, 1)"
     ],
     "language": "python",
     "metadata": {},
     "outputs": [],
     "prompt_number": 1
    },
    {
     "cell_type": "markdown",
     "metadata": {},
     "source": [
      "We create a simlation object with this mesh including the exchange and anisotropy interactions."
     ]
    },
    {
     "cell_type": "code",
     "collapsed": false,
     "input": [
      "from finmag import Simulation as Sim\n",
      "from finmag.energies import Exchange\n",
      "from finmag.energies import UniaxialAnisotropy\n",
      "\n",
      "sim = Sim(mesh, 8.6e5, unit_length=1e-9)\n",
      "sim.alpha = 0.01\n",
      "sim.set_m((1, 0, 0))\n",
      "\n",
      "exchange = Exchange(13.0e-12)\n",
      "sim.add(exchange)\n",
      "    \n",
      "anis=UniaxialAnisotropy(K1=1e5,axis=[1,0,0])\n",
      "sim.add(anis)"
     ],
     "language": "python",
     "metadata": {},
     "outputs": [
      {
       "output_type": "stream",
       "stream": "stderr",
       "text": [
        "[2013-01-06 20:28:36] INFO: Finmag logging output will be appended to file: '/home/fangohr/.finmag/global.log'\n"
       ]
      },
      {
       "output_type": "stream",
       "stream": "stderr",
       "text": [
        "[2013-01-06 20:28:36] DEBUG: Building modules in 'native'...\n"
       ]
      },
      {
       "output_type": "stream",
       "stream": "stderr",
       "text": [
        "[2013-01-06 20:28:37] DEBUG:               Finmag: 2573:e2bf7a3952199dad5cde423a7ad026f2cf14528e\n"
       ]
      },
      {
       "output_type": "stream",
       "stream": "stderr",
       "text": [
        "[2013-01-06 20:28:37] DEBUG:               Dolfin: 1.0.0\n"
       ]
      },
      {
       "output_type": "stream",
       "stream": "stderr",
       "text": [
        "[2013-01-06 20:28:37] DEBUG:           Matplotlib: 1.1.1\n"
       ]
      },
      {
       "output_type": "stream",
       "stream": "stderr",
       "text": [
        "[2013-01-06 20:28:37] DEBUG:                Numpy: 1.6.2\n"
       ]
      },
      {
       "output_type": "stream",
       "stream": "stderr",
       "text": [
        "[2013-01-06 20:28:37] DEBUG:                Scipy: 0.10.1\n"
       ]
      },
      {
       "output_type": "stream",
       "stream": "stderr",
       "text": [
        "[2013-01-06 20:28:37] DEBUG:              IPython: 0.13.1\n"
       ]
      },
      {
       "output_type": "stream",
       "stream": "stderr",
       "text": [
        "[2013-01-06 20:28:37] DEBUG:               Python: 2.7.3\n"
       ]
      },
      {
       "output_type": "stream",
       "stream": "stderr",
       "text": [
        "[2013-01-06 20:28:37] DEBUG:             Sundials: 2.5.0-1\n"
       ]
      },
      {
       "output_type": "stream",
       "stream": "stderr",
       "text": [
        "[2013-01-06 20:28:37] DEBUG:         Boost-Python: 1.49.0\n"
       ]
      },
      {
       "output_type": "stream",
       "stream": "stderr",
       "text": [
        "[2013-01-06 20:28:37] DEBUG:                Linux: Ubuntu 12.10\n"
       ]
      },
      {
       "output_type": "stream",
       "stream": "stderr",
       "text": [
        "[2013-01-06 20:28:37] INFO: Finmag logging output will be written to file: '/home/fangohr/hg/finmag/doc/ipython_notebooks_src/unnamed.log' (any old content will be overwritten).\n"
       ]
      },
      {
       "output_type": "stream",
       "stream": "stderr",
       "text": [
        "[2013-01-06 20:28:37] DEBUG: Creating DataWriter for file 'unnamed.ndt'\n"
       ]
      },
      {
       "output_type": "stream",
       "stream": "stderr",
       "text": [
        "[2013-01-06 20:28:37] INFO: Creating Sim object 'unnamed' (rank=0/1) [Sun Jan  6 20:28:37 2013].\n"
       ]
      },
      {
       "output_type": "stream",
       "stream": "stderr",
       "text": [
        "[2013-01-06 20:28:37] INFO: <Mesh of topological dimension 3 (tetrahedra) with 410 vertices and 960 cells, ordered>\n"
       ]
      },
      {
       "output_type": "stream",
       "stream": "stderr",
       "text": [
        "[2013-01-06 20:28:37] DEBUG: Creating LLG object.\n"
       ]
      },
      {
       "output_type": "stream",
       "stream": "stderr",
       "text": [
        "[2013-01-06 20:28:37] DEBUG: Creating Exchange object with method box-matrix-petsc, in Jacobian.\n"
       ]
      },
      {
       "output_type": "stream",
       "stream": "stderr",
       "text": [
        "[2013-01-06 20:28:37] DEBUG: Adding interaction <finmag.energies.exchange.Exchange object at 0x48bdf90> to simulation 'unnamed'\n"
       ]
      },
      {
       "output_type": "stream",
       "stream": "stderr",
       "text": [
        "[2013-01-06 20:28:38] DEBUG: Will create anisotropy axis from '[1, 0, 0]'.\n"
       ]
      },
      {
       "output_type": "stream",
       "stream": "stderr",
       "text": [
        "[2013-01-06 20:28:38] DEBUG: Creating UniaxialAnisotropy object with method box-matrix-petsc, in Jacobian.\n"
       ]
      },
      {
       "output_type": "stream",
       "stream": "stderr",
       "text": [
        "[2013-01-06 20:28:38] DEBUG: Adding interaction <finmag.energies.anisotropy.UniaxialAnisotropy object at 0x491f650> to simulation 'unnamed'\n"
       ]
      }
     ],
     "prompt_number": 2
    },
    {
     "cell_type": "markdown",
     "metadata": {},
     "source": [
      "We expose the bar in a microwave environment, $h=h_0 \\sin(\\omega t)$ in $y$ direction, which can be approached through TimeZeeman class, "
     ]
    },
    {
     "cell_type": "code",
     "collapsed": false,
     "input": [
      "from finmag.energies import TimeZeeman\n",
      "GHz = 1e9\n",
      "omega = 10 * 2 * np.pi * GHz\n",
      "H = df.Expression((\"0.0\", \"H0*sin(omega*t)\", \"0.0\"), H0=1e3,omega=omega, t=0.0)\n",
      "H_app = TimeZeeman(H)\n",
      "\n",
      "def update_H_ext(t):\n",
      "    H_app.update(t)\n",
      "\n",
      "sim.add(H_app, with_time_update=update_H_ext)"
     ],
     "language": "python",
     "metadata": {},
     "outputs": [
      {
       "output_type": "stream",
       "stream": "stderr",
       "text": [
        "[2013-01-06 20:28:38] DEBUG: Adding interaction <finmag.energies.zeeman.TimeZeeman object at 0x49e7510> to simulation 'unnamed'\n"
       ]
      }
     ],
     "prompt_number": 3
    },
    {
     "cell_type": "markdown",
     "metadata": {},
     "source": [
      "Suppose the damping varies linearly from left end (damping 0.01) to the other end (2.02), which can be approached by multiplying a factor to the constant damping,"
     ]
    },
    {
     "cell_type": "code",
     "collapsed": false,
     "input": [
      "llg = sim.llg\n",
      "\n",
      "mult = df.Function(llg.S1)\n",
      "mult.assign(df.Expression(\"1 + x[0]\"))\n",
      "sim.spatial_alpha(0.01,mult)"
     ],
     "language": "python",
     "metadata": {},
     "outputs": [],
     "prompt_number": 4
    },
    {
     "cell_type": "markdown",
     "metadata": {},
     "source": [
      "We simulate the system for $1 $ ns and plot the spatial magnetiastion through the middle line of the bar, namely $y=10$ nm, $z=5$nm, "
     ]
    },
    {
     "cell_type": "code",
     "collapsed": false,
     "input": [
      "times = np.linspace(0, 1e-9, 6)\n",
      "xs=np.linspace(0, 200, 200)\n",
      "for t in times:\n",
      "    sim.run_until(t)\n",
      "    mx = np.array([llg._m(x, 10, 5)[0] for x in xs])\n",
      "    my = np.array([llg._m(x, 10, 5)[1] for x in xs])\n",
      "    mz = np.array([llg._m(x, 10, 5)[2] for x in xs])\n",
      "    ma = np.sqrt(my * my + mz * mz)"
     ],
     "language": "python",
     "metadata": {},
     "outputs": [
      {
       "output_type": "stream",
       "stream": "stderr",
       "text": [
        "[2013-01-06 20:28:38] DEBUG: Creating integrator with backend sundials.\n"
       ]
      },
      {
       "output_type": "stream",
       "stream": "stderr",
       "text": [
        "[2013-01-06 20:28:38] DEBUG: Integrating dynamics up to t = 0\n"
       ]
      },
      {
       "output_type": "stream",
       "stream": "stderr",
       "text": [
        "[2013-01-06 20:28:38] DEBUG: Saving average field values for simulation 'unnamed'\n"
       ]
      },
      {
       "output_type": "stream",
       "stream": "stderr",
       "text": [
        "[2013-01-06 20:28:38] DEBUG: Integrating dynamics up to t = 2e-10\n"
       ]
      },
      {
       "output_type": "stream",
       "stream": "stderr",
       "text": [
        "[2013-01-06 20:28:49] DEBUG: Saving average field values for simulation 'unnamed'\n"
       ]
      },
      {
       "output_type": "stream",
       "stream": "stderr",
       "text": [
        "[2013-01-06 20:28:49] DEBUG: Integrating dynamics up to t = 4e-10\n"
       ]
      },
      {
       "output_type": "stream",
       "stream": "stderr",
       "text": [
        "[2013-01-06 20:29:01] DEBUG: Saving average field values for simulation 'unnamed'\n"
       ]
      },
      {
       "output_type": "stream",
       "stream": "stderr",
       "text": [
        "[2013-01-06 20:29:01] DEBUG: Integrating dynamics up to t = 6e-10\n"
       ]
      },
      {
       "output_type": "stream",
       "stream": "stderr",
       "text": [
        "[2013-01-06 20:29:12] DEBUG: Saving average field values for simulation 'unnamed'\n"
       ]
      },
      {
       "output_type": "stream",
       "stream": "stderr",
       "text": [
        "[2013-01-06 20:29:12] DEBUG: Integrating dynamics up to t = 8e-10\n"
       ]
      },
      {
       "output_type": "stream",
       "stream": "stderr",
       "text": [
        "[2013-01-06 20:29:23] DEBUG: Saving average field values for simulation 'unnamed'\n"
       ]
      },
      {
       "output_type": "stream",
       "stream": "stderr",
       "text": [
        "[2013-01-06 20:29:23] DEBUG: Integrating dynamics up to t = 1e-09\n"
       ]
      },
      {
       "output_type": "stream",
       "stream": "stderr",
       "text": [
        "[2013-01-06 20:29:33] DEBUG: Saving average field values for simulation 'unnamed'\n"
       ]
      }
     ],
     "prompt_number": 5
    },
    {
     "cell_type": "code",
     "collapsed": false,
     "input": [
      "plot(xs, mz, label='m_z')\n",
      "#plot(xs, mx, label='m_x')\n",
      "plot(xs, my, label='m_y')\n",
      "plot(xs, ma, label='|m_y, m_z|')\n",
      "legend()\n",
      "xlabel('x (nm)')\n",
      "ylabel('Amplitude (M/Ms)')"
     ],
     "language": "python",
     "metadata": {},
     "outputs": [
      {
       "output_type": "pyout",
       "prompt_number": 6,
       "text": [
        "<matplotlib.text.Text at 0x4d52290>"
       ]
      },
      {
       "output_type": "display_data",
       "png": "[encoded data removed]"
      }
     ],
     "prompt_number": 6
    }
   ],
   "metadata": {}
  }
 ]
}