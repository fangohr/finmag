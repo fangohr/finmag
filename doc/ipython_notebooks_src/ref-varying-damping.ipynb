{
 "cells": [
  {
   "cell_type": "markdown",
   "metadata": {},
   "source": [
    "# Spatially varying damping"
   ]
  },
  {
   "cell_type": "markdown",
   "metadata": {},
   "source": [
    "**Author**: Weiwei Wang, Max Albert\n",
    "\n",
    "**Date**: Dec 2012 (updated Jan 2014)\n",
    "\n",
    "**Purpose**: Illustrate how to use spatially varying damping in Finmag. This example also shows how to use the `TimeZeeman` class to apply a time-varying external field."
   ]
  },
  {
   "cell_type": "markdown",
   "metadata": {},
   "source": [
    "The simulation system is a Permalloy bar with dimensions $200 \\times 20 \\times 10 \\mathrm{nm}^3$. \n",
    "We create the mesh using the dolfin class `BoxMesh` with discretization sizes $5 \\times 5 \\times 10 \\mathrm{nm}^3$ for each cuboid (a cuboid is made up of six tetrahedra), i.e. we need $40 \\times 4 \\times 1$ subdivisions."
   ]
  },
  {
   "cell_type": "code",
   "execution_count": 1,
   "metadata": {
    "collapsed": false
   },
   "outputs": [],
   "source": [
    "import dolfin as df\n",
    "import numpy as np\n",
    "mesh = df.BoxMesh(0, 0, 0, 200, 20, 10, 40, 4, 1)"
   ]
  },
  {
   "cell_type": "markdown",
   "metadata": {},
   "source": [
    "We create a simulation object with this mesh including the exchange and anisotropy interactions."
   ]
  },
  {
   "cell_type": "code",
   "execution_count": 2,
   "metadata": {
    "collapsed": false
   },
   "outputs": [
    {
     "name": "stderr",
     "output_type": "stream",
     "text": [
      "[2014-09-12 15:27:50] INFO: Finmag logging output will be appended to file: '/home/mb4e10/.finmag/global.log'\n",
      "[2014-09-12 15:27:50] DEBUG: Building modules in 'native'...\n",
      "[2014-09-12 15:27:51] DEBUG: FinMag          5449:331cc720ef8a517ed1c48eb6beccd246e9e63344\n",
      "[2014-09-12 15:27:51] DEBUG: Dolfin          1.4.0                Matplotlib      1.3.1               \n",
      "[2014-09-12 15:27:51] DEBUG: Numpy           1.8.1                Scipy           0.14.0              \n",
      "[2014-09-12 15:27:51] DEBUG: IPython         2.1.0                Python          2.7.6               \n",
      "[2014-09-12 15:27:51] DEBUG: Paraview        4.0.1-1ubuntu1       Sundials        2.5.0               \n",
      "[2014-09-12 15:27:51] DEBUG: Boost-Python    <unknown>            Linux           Ubuntu 14.04.1 LTS  \n",
      "[2014-09-12 15:27:51] DEBUG: Registering debug signal handler. Press Ctrl-Z at any time to stop execution and jump into the debugger.\n",
      "[2014-09-12 15:27:51] INFO: Finmag logging output will be written to file: '/home/mb4e10/finmag/doc/ipython_notebooks_src/unnamed.log' (any old content will be overwritten).\n",
      "[2014-09-12 15:27:51] DEBUG: Creating DataWriter for file 'unnamed.ndt'\n",
      "[2014-09-12 15:27:51] INFO: Creating Sim object 'unnamed' (rank=0/1).\n",
      "[2014-09-12 15:27:51] INFO: <Mesh of topological dimension 3 (tetrahedra) with 410 vertices and 960 cells, ordered>\n",
      "[2014-09-12 15:27:51] DEBUG: Creating LLG object.\n",
      "[2014-09-12 15:27:51] DEBUG: Creating Exchange object with method box-matrix-petsc,  in Jacobian.\n",
      "[2014-09-12 15:27:51] DEBUG: Adding interaction Exchange to simulation.\n",
      "[2014-09-12 15:27:52] DEBUG: Creating UniaxialAnisotropy object with method box-matrix-petsc,  in Jacobian.\n",
      "[2014-09-12 15:27:52] DEBUG: Adding interaction Anisotropy to simulation.\n"
     ]
    }
   ],
   "source": [
    "from finmag import Simulation as Sim\n",
    "from finmag.energies import Exchange\n",
    "from finmag.energies import UniaxialAnisotropy\n",
    "\n",
    "sim = Sim(mesh, 8.6e5, unit_length=1e-9)\n",
    "sim.set_m((1, 0, 0))\n",
    "\n",
    "exchange = Exchange(13.0e-12)\n",
    "sim.add(exchange)\n",
    "    \n",
    "anis = UniaxialAnisotropy(K1=1e5, axis=[1, 0, 0])\n",
    "sim.add(anis)"
   ]
  },
  {
   "cell_type": "markdown",
   "metadata": {},
   "source": [
    "Suppose the damping varies linearly from left end ($\\alpha=0.01$) to the right end ($\\alpha=2.01$). To define this in Finmag, we need to assign a value to `sim.alpha` which represents such a spatially varying function. One option would be to use a `dolfin.Expression` (as in the commented line below), but we can also assign it a Python function directly. This is the option we choose here."
   ]
  },
  {
   "cell_type": "code",
   "execution_count": 3,
   "metadata": {
    "collapsed": false
   },
   "outputs": [],
   "source": [
    "## Define spatially varying damping\n",
    "\n",
    "#\n",
    "# First option: using a dolfin.Expression\n",
    "#\n",
    "#sim.alpha = df.Expression(\"0.01 * (1 + x[0])\")\n",
    "\n",
    "#\n",
    "# Second option: using a Python function which returns\n",
    "# the damping value at a given point.\n",
    "#\n",
    "def damping(pt):\n",
    "    return 0.01 * (1 + pt[0])\n",
    "\n",
    "sim.alpha = damping"
   ]
  },
  {
   "cell_type": "markdown",
   "metadata": {},
   "source": [
    "We expose the bar in a microwave environment, where an external field of strength $h=h_0 \\sin(\\omega t)$ is applied in $y$ direction. To define this in Finmag we use the `TimeZeeman` class, which represents a field that varies in time but is constant in space for each fixed  point in time."
   ]
  },
  {
   "cell_type": "code",
   "execution_count": 4,
   "metadata": {
    "collapsed": false
   },
   "outputs": [
    {
     "name": "stderr",
     "output_type": "stream",
     "text": [
      "[2014-09-12 15:28:02] DEBUG: Adding interaction TimeZeeman to simulation.\n"
     ]
    }
   ],
   "source": [
    "from finmag.energies import TimeZeeman\n",
    "GHz = 1e9\n",
    "omega = 10 * 2 * np.pi * GHz\n",
    "H = df.Expression((\"0.0\", \"H0*sin(omega*t)\", \"0.0\"), H0=1e3,omega=omega, t=0.0)\n",
    "H_app = TimeZeeman(H)\n",
    "\n",
    "def update_H_ext(t):\n",
    "    H_app.update(t)\n",
    "\n",
    "sim.add(H_app, with_time_update=update_H_ext)"
   ]
  },
  {
   "cell_type": "markdown",
   "metadata": {},
   "source": [
    "Now we simulate the system for 1 ns."
   ]
  },
  {
   "cell_type": "code",
   "execution_count": 5,
   "metadata": {
    "collapsed": false
   },
   "outputs": [
    {
     "name": "stderr",
     "output_type": "stream",
     "text": [
      "[2014-09-12 15:28:04] INFO: Create integrator sundials with kwargs={}\n",
      "[2014-09-12 15:28:04] DEBUG: Creating integrator with backend sundials.\n",
      "[2014-09-12 15:28:04] DEBUG: Updating get method for steps in TableWriter(name=unnamed.ndt)\n",
      "[2014-09-12 15:28:04] DEBUG: Updating get method for last_step_dt in TableWriter(name=unnamed.ndt)\n",
      "[2014-09-12 15:28:04] DEBUG: Updating get method for dmdt in TableWriter(name=unnamed.ndt)\n",
      "[2014-09-12 15:28:04] INFO: Simulation will run until t = 1e-09 s.\n",
      "[2014-09-12 15:28:09] INFO: Simulation has reached time t = 1e-09 s.\n"
     ]
    }
   ],
   "source": [
    "sim.run_until(1e-9)"
   ]
  },
  {
   "cell_type": "markdown",
   "metadata": {},
   "source": [
    "Next we probe the spatial magnetisation through the middle line of the bar ($y=10$ nm, $z=5$nm)."
   ]
  },
  {
   "cell_type": "code",
   "execution_count": 6,
   "metadata": {
    "collapsed": false
   },
   "outputs": [],
   "source": [
    "xs = np.linspace(0, 200, 200)\n",
    "m_vals = sim.probe_field('m', [[x, 10, 5] for x in xs])\n",
    "mx = m_vals[:, 0]\n",
    "my = m_vals[:, 1]\n",
    "mz = m_vals[:, 2]\n",
    "ma = np.sqrt(my * my + mz * mz)"
   ]
  },
  {
   "cell_type": "markdown",
   "metadata": {},
   "source": [
    "Finally we plot the result. It can clearly be seen that due to the spatially varying damping the final magnetisation is non-uniform along the x-axis."
   ]
  },
  {
   "cell_type": "code",
   "execution_count": 9,
   "metadata": {
    "collapsed": false
   },
   "outputs": [
    {
     "data": {
      "text/plain": [
       "<matplotlib.text.Text at 0x7f38511f78d0>"
      ]
     },
     "execution_count": 9,
     "metadata": {},
     "output_type": "execute_result"
    },
    {
     "name": "stderr",
     "output_type": "stream",
     "text": [
      "/usr/lib/pymodules/python2.7/matplotlib/figure.py:1595: UserWarning: This figure includes Axes that are not compatible with tight_layout, so its results might be incorrect.\n",
      "  warnings.warn(\"This figure includes Axes that are not \"\n"
     ]
    },
    {
     "data": {
      "image/png": "[encoded data removed]",
      "text/plain": [
       "<matplotlib.figure.Figure at 0x7f385116a450>"
      ]
     },
     "metadata": {},
     "output_type": "display_data"
    }
   ],
   "source": [
    "import matplotlib.pyplot as plt\n",
    "%matplotlib inline\n",
    "\n",
    "plt.plot(xs, mz, label='m_z')\n",
    "plt.plot(xs, my, label='m_y')\n",
    "plt.plot(xs, ma, label='|m_y, m_z|')\n",
    "plt.legend()\n",
    "plt.xlabel('x (nm)')\n",
    "plt.ylabel('Amplitude (M/Ms)')"
   ]
  }
 ],
 "metadata": {
  "kernelspec": {
   "display_name": "Python 2",
   "language": "python",
   "name": "python2"
  },
  "language_info": {
   "codemirror_mode": {
    "name": "ipython",
    "version": 2
   },
   "file_extension": ".py",
   "mimetype": "text/x-python",
   "name": "python",
   "nbconvert_exporter": "python",
   "pygments_lexer": "ipython2",
   "version": "2.7.6"
  }
 },
 "nbformat": 4,
 "nbformat_minor": 0
}
