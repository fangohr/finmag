{
 "metadata": {
  "name": ""
 },
 "nbformat": 3,
 "nbformat_minor": 0,
 "worksheets": [
  {
   "cells": [
    {
     "cell_type": "markdown",
     "metadata": {},
     "source": [
      "## Spatially varying damping"
     ]
    },
    {
     "cell_type": "markdown",
     "metadata": {},
     "source": [
      "This is a simple example to show the usuage of spatial damping in finmag. The simulation system is a Permalloy bar with dimensions $200 \\times 20 \\times 10 \\mathrm{nm}^3$. \n",
      "We create the mesh using the dolfin class `BoxMesh` with discretization sizes $5 \\times 5 \\times 10 \\mathrm{nm}^3$ for each cuboid (a cuboid is made up of six tetrahedra), i.e. we need $40 \\times 4 \\times 1$ subdivisions."
     ]
    },
    {
     "cell_type": "code",
     "collapsed": false,
     "input": [
      "import dolfin as df\n",
      "import numpy as np\n",
      "mesh = df.BoxMesh(0, 0, 0, 200, 20, 10, 40, 4, 1)"
     ],
     "language": "python",
     "metadata": {},
     "outputs": [],
     "prompt_number": 1
    },
    {
     "cell_type": "markdown",
     "metadata": {},
     "source": [
      "We create a simulation object with this mesh including the exchange and anisotropy interactions."
     ]
    },
    {
     "cell_type": "code",
     "collapsed": false,
     "input": [
      "from finmag import Simulation as Sim\n",
      "from finmag.energies import Exchange\n",
      "from finmag.energies import UniaxialAnisotropy\n",
      "\n",
      "sim = Sim(mesh, 8.6e5, unit_length=1e-9)\n",
      "sim.alpha = 0.01\n",
      "sim.set_m((1, 0, 0))\n",
      "\n",
      "exchange = Exchange(13.0e-12)\n",
      "sim.add(exchange)\n",
      "    \n",
      "anis=UniaxialAnisotropy(K1=1e5,axis=[1, 0, 0])\n",
      "sim.add(anis)"
     ],
     "language": "python",
     "metadata": {},
     "outputs": [
      {
       "output_type": "stream",
       "stream": "stderr",
       "text": [
        "[2014-01-16 12:34:21] INFO: Finmag logging output will be appended to file: '/home/albert/.finmag/global.log'\n"
       ]
      },
      {
       "output_type": "stream",
       "stream": "stderr",
       "text": [
        "[2014-01-16 12:34:21] DEBUG: Building modules in 'native'...\n"
       ]
      },
      {
       "output_type": "stream",
       "stream": "stderr",
       "text": [
        "[2014-01-16 12:34:22] DEBUG:               Finmag: 4361:12acdb2e263d9a30affd1f4d081816d6d1a0ccd1\n"
       ]
      },
      {
       "output_type": "stream",
       "stream": "stderr",
       "text": [
        "[2014-01-16 12:34:22] DEBUG: Registering debug signal handler. Press Ctrl-Z at any time to stop execution and jump into the debugger.\n"
       ]
      },
      {
       "output_type": "stream",
       "stream": "stderr",
       "text": [
        "[2014-01-16 12:34:22] INFO: Finmag logging output will be written to file: '/home/albert/work/code/finmag/doc/ipython_notebooks_src/unnamed.log' (any old content will be overwritten).\n"
       ]
      },
      {
       "output_type": "stream",
       "stream": "stderr",
       "text": [
        "[2014-01-16 12:34:22] DEBUG: Creating DataWriter for file 'unnamed.ndt'\n"
       ]
      },
      {
       "output_type": "stream",
       "stream": "stderr",
       "text": [
        "[2014-01-16 12:34:22] INFO: Creating Sim object 'unnamed' (rank=0/1).\n"
       ]
      },
      {
       "output_type": "stream",
       "stream": "stderr",
       "text": [
        "[2014-01-16 12:34:22] INFO: <Mesh of topological dimension 3 (tetrahedra) with 410 vertices and 960 cells, ordered>\n"
       ]
      },
      {
       "output_type": "stream",
       "stream": "stderr",
       "text": [
        "[2014-01-16 12:34:22] DEBUG: Creating LLG object.\n"
       ]
      },
      {
       "output_type": "stream",
       "stream": "stderr",
       "text": [
        "[2014-01-16 12:34:22] DEBUG: Creating Exchange object with method box-matrix-petsc, in Jacobian.\n"
       ]
      },
      {
       "output_type": "stream",
       "stream": "stderr",
       "text": [
        "[2014-01-16 12:34:22] DEBUG: Adding interaction <finmag.energies.exchange.Exchange object at 0x47366d0> to simulation 'unnamed'\n"
       ]
      },
      {
       "output_type": "stream",
       "stream": "stderr",
       "text": [
        "[2014-01-16 12:34:23] DEBUG: Creating UniaxialAnisotropy object with method box-matrix-petsc, in Jacobian.\n"
       ]
      },
      {
       "output_type": "stream",
       "stream": "stderr",
       "text": [
        "[2014-01-16 12:34:23] DEBUG: Adding interaction <finmag.energies.anisotropy.UniaxialAnisotropy object at 0x47e5e10> to simulation 'unnamed'\n"
       ]
      }
     ],
     "prompt_number": 2
    },
    {
     "cell_type": "markdown",
     "metadata": {},
     "source": [
      "We expose the bar in a microwave environment, where an external field of strength $h=h_0 \\sin(\\omega t)$ is applied in $y$ direction. To define this in Finmag we use the `TimeZeeman` class, which represents a field that varies in time but is constant in space for each fixed  point in time."
     ]
    },
    {
     "cell_type": "code",
     "collapsed": false,
     "input": [
      "from finmag.energies import TimeZeeman\n",
      "GHz = 1e9\n",
      "omega = 10 * 2 * np.pi * GHz\n",
      "H = df.Expression((\"0.0\", \"H0*sin(omega*t)\", \"0.0\"), H0=1e3,omega=omega, t=0.0)\n",
      "H_app = TimeZeeman(H)\n",
      "\n",
      "def update_H_ext(t):\n",
      "    H_app.update(t)\n",
      "\n",
      "sim.add(H_app, with_time_update=update_H_ext)"
     ],
     "language": "python",
     "metadata": {},
     "outputs": [
      {
       "output_type": "stream",
       "stream": "stderr",
       "text": [
        "[2014-01-16 12:34:23] DEBUG: Adding interaction <finmag.energies.zeeman.TimeZeeman object at 0x47ff490> to simulation 'unnamed'\n"
       ]
      }
     ],
     "prompt_number": 3
    },
    {
     "cell_type": "markdown",
     "metadata": {},
     "source": [
      "Suppose the damping varies linearly from left end ($\\alpha=0.01$) to the right end ($\\alpha=2.01$). To define this in Finmag, we need to assign a value to `sim.alpha` which represents such a spatially varying function. One option would be to use a `dolfin.Expression` (as in the commented line below), but we can also assign it a Python function directly. This is the option we choose here."
     ]
    },
    {
     "cell_type": "code",
     "collapsed": false,
     "input": [
      "## Define varying damping\n",
      "\n",
      "#\n",
      "# First option: using a dolfin.Expression\n",
      "#\n",
      "#sim.alpha = df.Expression(\"0.01 * (1 + x[0])\")\n",
      "\n",
      "#\n",
      "# Second option: using a Python function which returns\n",
      "# the damping value at a given point.\n",
      "#\n",
      "def damping(pt):\n",
      "    return 0.01 * (1 + pt[0])\n",
      "\n",
      "sim.alpha = damping"
     ],
     "language": "python",
     "metadata": {},
     "outputs": [],
     "prompt_number": 4
    },
    {
     "cell_type": "markdown",
     "metadata": {},
     "source": [
      "Now we simulate the system for 1 ns."
     ]
    },
    {
     "cell_type": "code",
     "collapsed": false,
     "input": [
      "sim.run_until(1e-9)"
     ],
     "language": "python",
     "metadata": {},
     "outputs": [
      {
       "output_type": "stream",
       "stream": "stderr",
       "text": [
        "[2014-01-16 12:34:23] INFO: Create integrator sundials with kwargs={}\n"
       ]
      },
      {
       "output_type": "stream",
       "stream": "stderr",
       "text": [
        "[2014-01-16 12:34:23] DEBUG: Creating integrator with backend sundials.\n"
       ]
      },
      {
       "output_type": "stream",
       "stream": "stderr",
       "text": [
        "[2014-01-16 12:34:23] INFO: Simulation will run until t = 1e-09 s.\n"
       ]
      },
      {
       "output_type": "stream",
       "stream": "stderr",
       "text": [
        "[2014-01-16 12:34:30] INFO: Simulation has reached time t = 1e-09 s.\n"
       ]
      }
     ],
     "prompt_number": 5
    },
    {
     "cell_type": "markdown",
     "metadata": {},
     "source": [
      "Next we probe the spatial magnetisation through the middle line of the bar ($y=10$ nm, $z=5$nm)."
     ]
    },
    {
     "cell_type": "code",
     "collapsed": false,
     "input": [
      "xs = np.linspace(0, 200, 200)\n",
      "m_vals = sim.probe_field('m', [[x, 10, 5] for x in xs])\n",
      "mx = m_vals[:, 0]\n",
      "my = m_vals[:, 1]\n",
      "mz = m_vals[:, 2]\n",
      "ma = np.sqrt(my * my + mz * mz)"
     ],
     "language": "python",
     "metadata": {},
     "outputs": [],
     "prompt_number": 6
    },
    {
     "cell_type": "markdown",
     "metadata": {},
     "source": [
      "Finally we plot the result. It can clearly be seen that due to the spatially varying damping the final magnetisation is non-uniform along the x-axis."
     ]
    },
    {
     "cell_type": "code",
     "collapsed": false,
     "input": [
      "plot(xs, mz, label='m_z')\n",
      "#plot(xs, mx, label='m_x')\n",
      "plot(xs, my, label='m_y')\n",
      "plot(xs, ma, label='|m_y, m_z|')\n",
      "legend()\n",
      "xlabel('x (nm)')\n",
      "ylabel('Amplitude (M/Ms)')"
     ],
     "language": "python",
     "metadata": {},
     "outputs": [
      {
       "metadata": {},
       "output_type": "pyout",
       "prompt_number": 7,
       "text": [
        "<matplotlib.text.Text at 0x4a7bf50>"
       ]
      },
      {
       "output_type": "stream",
       "stream": "stderr",
       "text": [
        "/usr/local/lib/python2.7/dist-packages/matplotlib/figure.py:1595: UserWarning: This figure includes Axes that are not compatible with tight_layout, so its results might be incorrect.\n",
        "  warnings.warn(\"This figure includes Axes that are not \"\n"
       ]
      },
      {
       "metadata": {},
       "output_type": "display_data",
       "png": "[encoded data removed]",
       "text": [
        "<matplotlib.figure.Figure at 0x33b8a50>"
       ]
      }
     ],
     "prompt_number": 7
    },
    {
     "cell_type": "code",
     "collapsed": false,
     "input": [],
     "language": "python",
     "metadata": {},
     "outputs": [],
     "prompt_number": 7
    }
   ],
   "metadata": {}
  }
 ]
}