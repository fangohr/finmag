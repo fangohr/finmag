{
 "cells": [
  {
   "cell_type": "markdown",
   "metadata": {},
   "source": [
    "# Bloch-point domain wall"
   ]
  },
  {
   "cell_type": "markdown",
   "metadata": {},
   "source": [
    "This notebook is written by Marijan Beg (University of Southampton) in order to document some basic finmag functionality to reproduce the BPDW reported in APL 102, 112405 (2013)."
   ]
  },
  {
   "cell_type": "markdown",
   "metadata": {},
   "source": [
    "## Relaxing the system to BPDW state"
   ]
  },
  {
   "cell_type": "markdown",
   "metadata": {},
   "source": [
    "First of all, we need to import everything we need from finmag."
   ]
  },
  {
   "cell_type": "code",
   "execution_count": 3,
   "metadata": {
    "collapsed": false
   },
   "outputs": [],
   "source": [
    "from finmag import Simulation as Sim\n",
    "from finmag.energies import Exchange, Demag\n",
    "from finmag.util.meshes import nanodisk\n",
    "from finmag.util.consts import mu0"
   ]
  },
  {
   "cell_type": "markdown",
   "metadata": {},
   "source": [
    "In the next step, we define all material and geometric parameters."
   ]
  },
  {
   "cell_type": "code",
   "execution_count": 4,
   "metadata": {
    "collapsed": true
   },
   "outputs": [],
   "source": [
    "# Material parameters.\n",
    "\n",
    "Ms = 8.6e5  # saturation magnetisation (A/m)\n",
    "A = 1.3e-11  # exchange energy constant (J/m)\n",
    "\n",
    "# Geometric parameters.\n",
    "L = 1000  # nanowire length (nm)\n",
    "d = 50  # nanowire diameter (nm)"
   ]
  },
  {
   "cell_type": "markdown",
   "metadata": {},
   "source": [
    "Please note that both `L` and `d` are given in nm, not meters (50 instead of 50e-9). The reason for this will be addressed later."
   ]
  },
  {
   "cell_type": "markdown",
   "metadata": {},
   "source": [
    "Knowing the material parameters, we can compute the exchange length which would help us determine what discretisation to choose. The exchange length is:\n",
    "\n",
    "$$l_\\text{ex} = \\sqrt{\\frac{2A}{\\mu_{0}M_\\text{s}^{2}}}$$"
   ]
  },
  {
   "cell_type": "code",
   "execution_count": 5,
   "metadata": {
    "collapsed": false
   },
   "outputs": [
    {
     "name": "stdout",
     "output_type": "stream",
     "text": [
      "Exchange length is 5.28911842031e-09\n"
     ]
    }
   ],
   "source": [
    "import numpy as np\n",
    "\n",
    "# Exchange length.\n",
    "lex = np.sqrt(2*A / (mu0*Ms**2))\n",
    "\n",
    "print 'Exchange length is', lex"
   ]
  },
  {
   "cell_type": "markdown",
   "metadata": {},
   "source": [
    "Accordingly, I will choose the discretisation to be 5 nm. More precisely, this is the maximum distance allowed between two neghbouring nodes in the finite elements mesh. This value can be reduced for better resolution, but this increases the running time.\n",
    "\n",
    "So, the mesh can be created using a `nanodisk` function, where arguments are:\n",
    "\n",
    "- nanowire diameter\n",
    "- nanowire length\n",
    "- discretisation\n",
    "- save resulting mesh file\n",
    "\n",
    "I will choose not to save the mesh files, that is why `save_result=False`."
   ]
  },
  {
   "cell_type": "code",
   "execution_count": 6,
   "metadata": {
    "collapsed": false
   },
   "outputs": [
    {
     "name": "stderr",
     "output_type": "stream",
     "text": [
      "[2016-06-24 11:41:56] DEBUG: Using netgen to convert /tmp/tmpJSZPdx.geo to DIFFPACK format.\n",
      "[2016-06-24 11:42:08] WARNING: Warning: Ignoring netgen's output status of 34304.\n",
      "[2016-06-24 11:42:08] DEBUG: Done!\n",
      "[2016-06-24 11:42:08] DEBUG: Using dolfin-convert to convert /tmp/tmpJSZPdx.grid to xml format.\n",
      "[2016-06-24 11:42:09] DEBUG: Compressing /tmp/tmpJSZPdx.xml\n",
      "[2016-06-24 11:42:10] DEBUG: Removing file '/tmp/tmpJSZPdx.xml.gz' because mesh is created on the fly.\n",
      "[2016-06-24 11:42:10] DEBUG: Removing file '/tmp/tmpJSZPdx.geo' because mesh is created on the fly.\n"
     ]
    }
   ],
   "source": [
    "lmax = 5\n",
    "\n",
    "mesh = nanodisk(d, L, lmax, save_result=False)"
   ]
  },
  {
   "cell_type": "markdown",
   "metadata": {},
   "source": [
    "The simulation object is created by passing the mesh, saturation magnetisation, and the unit length. Because we defined `L` and `d` in meters, we need to pass the `unit_length` parameter to be 1e-9 (1nm)."
   ]
  },
  {
   "cell_type": "code",
   "execution_count": 7,
   "metadata": {
    "collapsed": false
   },
   "outputs": [
    {
     "name": "stderr",
     "output_type": "stream",
     "text": [
      "[2016-06-24 11:43:18] INFO: Finmag logging output will be written to file: '/home/mb4e10/tmp/bpdw/unnamed.log' (any old content will be overwritten).\n",
      "[2016-06-24 11:43:18] DEBUG: Creating DataWriter for file 'unnamed.ndt'\n",
      "[2016-06-24 11:43:18] INFO: Creating Sim object name='unnamed', instance_id=0 (rank=0/1).\n",
      "[2016-06-24 11:43:18] DEBUG:    Total number of Sim objects in this session: 1\n",
      "[2016-06-24 11:43:18] INFO: <Mesh of topological dimension 3 (tetrahedra) with 12488 vertices and 50884 cells, ordered>\n",
      "/usr/local/lib/python2.7/dist-packages/aeon/timer.py:35: UserWarning: You are nesting measurements in __init__::LLG.\n",
      "  warnings.warn(\"You are nesting measurements in {}::{}.\".format(name, group))\n",
      "[2016-06-24 11:43:18] DEBUG: Creating LLG object.\n",
      "/home/mb4e10/finmag/src/finmag/util/helpers.py:1821: VisibleDeprecationWarning: using a non-integer number instead of an integer will result in an error in the future\n",
      "  v2d_xxx = ((v2d_xyz.reshape(n1/dim, dim)).transpose()).reshape(-1,)\n"
     ]
    }
   ],
   "source": [
    "sim = Sim(mesh, Ms, unit_length=1e-9)"
   ]
  },
  {
   "cell_type": "markdown",
   "metadata": {},
   "source": [
    "Our Hamiltonian contains only exchange and demagnetisation energy contributions. We can add these energies to the simulation by running:"
   ]
  },
  {
   "cell_type": "code",
   "execution_count": 8,
   "metadata": {
    "collapsed": false
   },
   "outputs": [
    {
     "name": "stderr",
     "output_type": "stream",
     "text": [
      "[2016-06-24 11:45:27] DEBUG: Creating Exchange object with method box-matrix-petsc, in Jacobian.\n",
      "[2016-06-24 11:45:27] DEBUG: Adding interaction Exchange to simulation.\n",
      "[2016-06-24 11:45:27] DEBUG: Creating Demag object with solver 'FK'.\n",
      "[2016-06-24 11:45:27] DEBUG: Adding interaction Demag to simulation.\n",
      "[2016-06-24 11:45:28] DEBUG: Using Krylov solver for demag.\n",
      "[2016-06-24 11:45:38] DEBUG: Boundary element matrix uses 396.06 MB of memory.\n"
     ]
    }
   ],
   "source": [
    "sim.add(Exchange(A))\n",
    "sim.add(Demag())"
   ]
  },
  {
   "cell_type": "markdown",
   "metadata": {},
   "source": [
    "Please note that Exchange energy requires the exchange energy constant A to be passed, whereas the demagnetisation energy does not have any parameters (Ms was already provided in the simulation object)."
   ]
  },
  {
   "cell_type": "markdown",
   "metadata": {},
   "source": [
    "### Tricky part\n",
    "\n",
    "Before we relax the system, we need to initialise it. Let's imagine that the system is initialised in the (0, 0, 1) direction. Please note that the nanowire is elongated in the z direction."
   ]
  },
  {
   "cell_type": "code",
   "execution_count": 9,
   "metadata": {
    "collapsed": true
   },
   "outputs": [],
   "source": [
    "sim.set_m((0, 0, 1))"
   ]
  },
  {
   "cell_type": "markdown",
   "metadata": {},
   "source": [
    "Finally, we can relax the system."
   ]
  },
  {
   "cell_type": "code",
   "execution_count": 10,
   "metadata": {
    "collapsed": false
   },
   "outputs": [
    {
     "name": "stderr",
     "output_type": "stream",
     "text": [
      "[2016-06-24 11:47:10] INFO: Simulation will run until relaxation of the magnetisation.\n",
      "[2016-06-24 11:47:10] DEBUG: Relaxation parameters: stopping_dmdt=1.0 (degrees per nanosecond), dt_limit=1e-10, dmdt_increased_counter_limit=10\n",
      "[2016-06-24 11:47:10] INFO: Creating integrator with backend sundials and arguments {'reltol': 1e-06, 'abstol': 1e-06}.\n",
      "[2016-06-24 11:47:10] DEBUG: Updating get method for steps in TableWriter(name=unnamed.ndt)\n",
      "[2016-06-24 11:47:10] DEBUG: Updating get method for last_step_dt in TableWriter(name=unnamed.ndt)\n",
      "[2016-06-24 11:47:10] DEBUG: Updating get method for dmdt in TableWriter(name=unnamed.ndt)\n",
      "/usr/local/lib/python2.7/dist-packages/aeon/timer.py:35: UserWarning: You are nesting measurements in compute_field::Exchange.\n",
      "  warnings.warn(\"You are nesting measurements in {}::{}.\".format(name, group))\n",
      "/usr/local/lib/python2.7/dist-packages/aeon/timer.py:35: UserWarning: You are nesting measurements in compute_field::FKDemag.\n",
      "  warnings.warn(\"You are nesting measurements in {}::{}.\".format(name, group))\n",
      "[2016-06-24 11:47:14] DEBUG: At t=2e-14, last_dmdt=4.67e+03 * stopping_dmdt, next dt=1e-14.\n",
      "[2016-06-24 11:47:15] DEBUG: At t=3e-14, last_dmdt=4.65e+03 * stopping_dmdt, next dt=1e-14.\n",
      "[2016-06-24 11:47:16] DEBUG: At t=4.5e-14, last_dmdt=4.64e+03 * stopping_dmdt, next dt=1.5e-14.\n",
      "[2016-06-24 11:47:16] DEBUG: At t=6.75e-14, last_dmdt=4.61e+03 * stopping_dmdt, next dt=2.25e-14.\n",
      "[2016-06-24 11:47:16] DEBUG: At t=1.01e-13, last_dmdt=4.58e+03 * stopping_dmdt, next dt=3.37e-14.\n",
      "[2016-06-24 11:47:18] DEBUG: At t=1.52e-13, last_dmdt=4.52e+03 * stopping_dmdt, next dt=5.06e-14.\n",
      "[2016-06-24 11:47:18] DEBUG: At t=2.28e-13, last_dmdt=4.44e+03 * stopping_dmdt, next dt=7.59e-14.\n",
      "[2016-06-24 11:47:19] DEBUG: At t=3.42e-13, last_dmdt=4.31e+03 * stopping_dmdt, next dt=1.14e-13.\n",
      "[2016-06-24 11:47:20] DEBUG: At t=5.13e-13, last_dmdt=4.12e+03 * stopping_dmdt, next dt=1.71e-13.\n",
      "[2016-06-24 11:47:21] DEBUG: At t=7.69e-13, last_dmdt=3.86e+03 * stopping_dmdt, next dt=2.56e-13.\n",
      "[2016-06-24 11:47:23] DEBUG: At t=1.15e-12, last_dmdt=3.64e+03 * stopping_dmdt, next dt=3.84e-13.\n",
      "[2016-06-24 11:47:25] DEBUG: At t=1.73e-12, last_dmdt=3.44e+03 * stopping_dmdt, next dt=5.77e-13.\n",
      "[2016-06-24 11:47:27] DEBUG: At t=2.59e-12, last_dmdt=3.03e+03 * stopping_dmdt, next dt=8.65e-13.\n",
      "[2016-06-24 11:47:29] DEBUG: At t=3.89e-12, last_dmdt=2.56e+03 * stopping_dmdt, next dt=1.3e-12.\n",
      "[2016-06-24 11:47:32] DEBUG: At t=5.84e-12, last_dmdt=2.31e+03 * stopping_dmdt, next dt=1.95e-12.\n",
      "[2016-06-24 11:47:35] DEBUG: At t=8.76e-12, last_dmdt=1.93e+03 * stopping_dmdt, next dt=2.92e-12.\n",
      "[2016-06-24 11:47:38] DEBUG: At t=1.31e-11, last_dmdt=1.5e+03 * stopping_dmdt, next dt=4.38e-12.\n",
      "[2016-06-24 11:47:42] DEBUG: At t=1.97e-11, last_dmdt=1.11e+03 * stopping_dmdt, next dt=6.57e-12.\n",
      "[2016-06-24 11:47:46] DEBUG: At t=2.96e-11, last_dmdt=702 * stopping_dmdt, next dt=9.85e-12.\n",
      "[2016-06-24 11:47:50] DEBUG: At t=4.43e-11, last_dmdt=394 * stopping_dmdt, next dt=1.48e-11.\n",
      "[2016-06-24 11:47:55] DEBUG: At t=6.65e-11, last_dmdt=139 * stopping_dmdt, next dt=2.22e-11.\n",
      "[2016-06-24 11:48:02] DEBUG: At t=9.98e-11, last_dmdt=35.1 * stopping_dmdt, next dt=3.33e-11.\n",
      "[2016-06-24 11:48:16] DEBUG: At t=1.5e-10, last_dmdt=25.6 * stopping_dmdt, next dt=4.99e-11.\n",
      "[2016-06-24 11:48:34] DEBUG: At t=2.24e-10, last_dmdt=6.34 * stopping_dmdt, next dt=7.48e-11.\n",
      "[2016-06-24 11:48:53] DEBUG: Stopping integration at t=3.24e-10, with dmdt=1.36e+07, smaller than threshold=1.75e+07.\n",
      "[2016-06-24 11:48:53] DEBUG: Re-initialising CVODE integrator.\n",
      "[2016-06-24 11:48:53] DEBUG: Re-initialising CVODE integrator.\n",
      "[2016-06-24 11:48:53] INFO: Relaxation finished at time t = 3.2e-10.\n"
     ]
    }
   ],
   "source": [
    "sim.relax()"
   ]
  },
  {
   "cell_type": "markdown",
   "metadata": {},
   "source": [
    "After the system is relaxed, we can save the relaxed state to the pvd file and analyse it using Paraview (http://www.paraview.org/)."
   ]
  },
  {
   "cell_type": "code",
   "execution_count": 11,
   "metadata": {
    "collapsed": false
   },
   "outputs": [
    {
     "name": "stderr",
     "output_type": "stream",
     "text": [
      "[2016-06-24 11:50:21] WARNING: Removing file 'relaxed_state1.pvd' and all associated .vtu files (because overwrite=True).\n",
      "[2016-06-24 11:50:21] DEBUG: Saved field at t=3.2445482928e-10 to file 'relaxed_state1.pvd' (snapshot #0; saving took 0.155 seconds).\n"
     ]
    }
   ],
   "source": [
    "sim.save_vtk('relaxed_state1.pvd', overwrite=True)"
   ]
  },
  {
   "cell_type": "markdown",
   "metadata": {},
   "source": [
    "If we open that file in Paraview, we can see that no domain wall is present in the sample. More precisely, energy minimisation from the (0, 0, 1) state does not result in domain wall. Because of that, we need to initialise our system differently.\n",
    "\n",
    "I will initialise it so that the lower half of nanowire ($z < L/2$) is magnetised in the (0, 0, 1) direction, and the upper hald in the opposite (0, 0, -1) direction. This can be written using a Python function, which is then passed as an argument to the `set_m` method."
   ]
  },
  {
   "cell_type": "code",
   "execution_count": 12,
   "metadata": {
    "collapsed": false
   },
   "outputs": [
    {
     "name": "stderr",
     "output_type": "stream",
     "text": [
      "[2016-06-24 12:00:47] DEBUG: Re-initialising CVODE integrator.\n"
     ]
    }
   ],
   "source": [
    "def m_init(pos):\n",
    "    x, y, z = pos\n",
    "    if z < L/2.:\n",
    "        return (0, 0, 1)\n",
    "    else:\n",
    "        return (0, 0, -1)\n",
    "\n",
    "sim.set_m(m_init)"
   ]
  },
  {
   "cell_type": "markdown",
   "metadata": {},
   "source": [
    "How we initialised the system, can be checked using Paraview by opening the `initial_state.pvd` file, that we save in the next step."
   ]
  },
  {
   "cell_type": "code",
   "execution_count": 13,
   "metadata": {
    "collapsed": false
   },
   "outputs": [
    {
     "name": "stderr",
     "output_type": "stream",
     "text": [
      "[2016-06-24 12:02:18] DEBUG: Re-initialising CVODE integrator.\n"
     ]
    }
   ],
   "source": [
    "sim.set_m(m_init)"
   ]
  },
  {
   "cell_type": "markdown",
   "metadata": {},
   "source": [
    "Finally, we can relax the system. Please be patient, this relexation can take some time."
   ]
  },
  {
   "cell_type": "code",
   "execution_count": 14,
   "metadata": {
    "collapsed": false
   },
   "outputs": [
    {
     "name": "stderr",
     "output_type": "stream",
     "text": [
      "[2016-06-24 12:02:28] INFO: Creating integrator with backend sundials and arguments {'t0': 0}.\n",
      "[2016-06-24 12:02:28] INFO: Simulation will run until relaxation of the magnetisation.\n",
      "[2016-06-24 12:02:28] DEBUG: Relaxation parameters: stopping_dmdt=1.0 (degrees per nanosecond), dt_limit=1e-10, dmdt_increased_counter_limit=10\n",
      "[2016-06-24 12:02:31] DEBUG: At t=2e-14, last_dmdt=7.49e+03 * stopping_dmdt, next dt=1e-14.\n",
      "[2016-06-24 12:02:31] DEBUG: At t=3e-14, last_dmdt=7.56e+03 * stopping_dmdt, next dt=1e-14.\n",
      "[2016-06-24 12:02:32] DEBUG: At t=4e-14, last_dmdt=7.62e+03 * stopping_dmdt, next dt=1e-14.\n",
      "[2016-06-24 12:02:32] DEBUG: At t=5e-14, last_dmdt=7.69e+03 * stopping_dmdt, next dt=1e-14.\n",
      "[2016-06-24 12:02:32] DEBUG: At t=6e-14, last_dmdt=7.76e+03 * stopping_dmdt, next dt=1e-14.\n",
      "[2016-06-24 12:02:33] DEBUG: At t=7e-14, last_dmdt=7.82e+03 * stopping_dmdt, next dt=1e-14.\n",
      "[2016-06-24 12:02:33] DEBUG: At t=8e-14, last_dmdt=7.89e+03 * stopping_dmdt, next dt=1e-14.\n",
      "[2016-06-24 12:02:34] DEBUG: At t=9e-14, last_dmdt=7.96e+03 * stopping_dmdt, next dt=1e-14.\n",
      "[2016-06-24 12:02:34] DEBUG: At t=1e-13, last_dmdt=8.03e+03 * stopping_dmdt, next dt=1e-14.\n",
      "[2016-06-24 12:02:35] DEBUG: At t=1.1e-13, last_dmdt=8.09e+03 * stopping_dmdt, next dt=1e-14.\n",
      "[2016-06-24 12:02:35] DEBUG: At t=1.2e-13, last_dmdt=8.16e+03 * stopping_dmdt, next dt=1e-14.\n",
      "[2016-06-24 12:02:35] DEBUG: At t=1.3e-13, last_dmdt=8.23e+03 * stopping_dmdt, next dt=1e-14.\n",
      "[2016-06-24 12:02:36] DEBUG: At t=1.4e-13, last_dmdt=8.3e+03 * stopping_dmdt, next dt=1e-14.\n",
      "[2016-06-24 12:02:36] DEBUG: At t=1.5e-13, last_dmdt=8.36e+03 * stopping_dmdt, next dt=1e-14.\n",
      "[2016-06-24 12:02:36] DEBUG: At t=1.6e-13, last_dmdt=8.43e+03 * stopping_dmdt, next dt=1e-14.\n",
      "[2016-06-24 12:02:37] DEBUG: At t=1.7e-13, last_dmdt=8.5e+03 * stopping_dmdt, next dt=1e-14.\n",
      "[2016-06-24 12:02:37] DEBUG: At t=1.8e-13, last_dmdt=8.58e+03 * stopping_dmdt, next dt=1e-14.\n",
      "[2016-06-24 12:02:38] DEBUG: At t=1.9e-13, last_dmdt=8.64e+03 * stopping_dmdt, next dt=1e-14.\n",
      "[2016-06-24 12:02:38] DEBUG: At t=2e-13, last_dmdt=8.71e+03 * stopping_dmdt, next dt=1e-14.\n",
      "[2016-06-24 12:02:38] DEBUG: At t=2.1e-13, last_dmdt=8.78e+03 * stopping_dmdt, next dt=1e-14.\n",
      "[2016-06-24 12:02:39] DEBUG: At t=2.2e-13, last_dmdt=8.85e+03 * stopping_dmdt, next dt=1e-14.\n",
      "[2016-06-24 12:02:39] DEBUG: At t=2.3e-13, last_dmdt=8.92e+03 * stopping_dmdt, next dt=1e-14.\n",
      "[2016-06-24 12:02:39] DEBUG: At t=2.4e-13, last_dmdt=8.99e+03 * stopping_dmdt, next dt=1e-14.\n",
      "[2016-06-24 12:02:40] DEBUG: At t=2.5e-13, last_dmdt=9.07e+03 * stopping_dmdt, next dt=1e-14.\n",
      "[2016-06-24 12:02:40] DEBUG: At t=2.6e-13, last_dmdt=9.14e+03 * stopping_dmdt, next dt=1e-14.\n",
      "[2016-06-24 12:02:41] DEBUG: At t=2.7e-13, last_dmdt=9.21e+03 * stopping_dmdt, next dt=1e-14.\n",
      "[2016-06-24 12:02:41] DEBUG: At t=2.8e-13, last_dmdt=9.28e+03 * stopping_dmdt, next dt=1e-14.\n",
      "[2016-06-24 12:02:41] DEBUG: At t=2.9e-13, last_dmdt=9.35e+03 * stopping_dmdt, next dt=1e-14.\n",
      "[2016-06-24 12:02:42] DEBUG: At t=3e-13, last_dmdt=9.42e+03 * stopping_dmdt, next dt=1e-14.\n",
      "[2016-06-24 12:02:42] DEBUG: At t=3.1e-13, last_dmdt=9.5e+03 * stopping_dmdt, next dt=1e-14.\n",
      "[2016-06-24 12:02:42] DEBUG: At t=3.2e-13, last_dmdt=9.57e+03 * stopping_dmdt, next dt=1e-14.\n",
      "[2016-06-24 12:02:43] DEBUG: At t=3.3e-13, last_dmdt=9.64e+03 * stopping_dmdt, next dt=1e-14.\n",
      "[2016-06-24 12:02:44] DEBUG: At t=3.4e-13, last_dmdt=9.72e+03 * stopping_dmdt, next dt=1e-14.\n",
      "[2016-06-24 12:02:44] DEBUG: At t=3.5e-13, last_dmdt=9.79e+03 * stopping_dmdt, next dt=1e-14.\n",
      "[2016-06-24 12:02:44] DEBUG: At t=3.6e-13, last_dmdt=9.87e+03 * stopping_dmdt, next dt=1e-14.\n",
      "[2016-06-24 12:02:45] DEBUG: At t=3.7e-13, last_dmdt=9.94e+03 * stopping_dmdt, next dt=1e-14.\n",
      "[2016-06-24 12:02:45] DEBUG: At t=3.8e-13, last_dmdt=1e+04 * stopping_dmdt, next dt=1e-14.\n",
      "[2016-06-24 12:02:45] DEBUG: At t=3.9e-13, last_dmdt=1.01e+04 * stopping_dmdt, next dt=1e-14.\n",
      "[2016-06-24 12:02:46] DEBUG: At t=4e-13, last_dmdt=1.02e+04 * stopping_dmdt, next dt=1e-14.\n",
      "[2016-06-24 12:02:46] DEBUG: At t=4.1e-13, last_dmdt=1.02e+04 * stopping_dmdt, next dt=1e-14.\n",
      "[2016-06-24 12:02:46] DEBUG: At t=4.2e-13, last_dmdt=1.03e+04 * stopping_dmdt, next dt=1e-14.\n",
      "[2016-06-24 12:02:47] DEBUG: At t=4.3e-13, last_dmdt=1.04e+04 * stopping_dmdt, next dt=1e-14.\n",
      "[2016-06-24 12:02:47] DEBUG: At t=4.4e-13, last_dmdt=1.05e+04 * stopping_dmdt, next dt=1e-14.\n",
      "[2016-06-24 12:02:47] DEBUG: At t=4.5e-13, last_dmdt=1.05e+04 * stopping_dmdt, next dt=1e-14.\n",
      "[2016-06-24 12:02:48] DEBUG: At t=4.6e-13, last_dmdt=1.06e+04 * stopping_dmdt, next dt=1e-14.\n",
      "[2016-06-24 12:02:48] DEBUG: At t=4.7e-13, last_dmdt=1.07e+04 * stopping_dmdt, next dt=1e-14.\n",
      "[2016-06-24 12:02:49] DEBUG: At t=4.8e-13, last_dmdt=1.08e+04 * stopping_dmdt, next dt=1e-14.\n",
      "[2016-06-24 12:02:49] DEBUG: At t=4.9e-13, last_dmdt=1.08e+04 * stopping_dmdt, next dt=1e-14.\n",
      "[2016-06-24 12:02:49] DEBUG: At t=5e-13, last_dmdt=1.09e+04 * stopping_dmdt, next dt=1e-14.\n",
      "[2016-06-24 12:02:50] DEBUG: At t=5.1e-13, last_dmdt=1.1e+04 * stopping_dmdt, next dt=1e-14.\n",
      "[2016-06-24 12:02:50] DEBUG: At t=5.2e-13, last_dmdt=1.11e+04 * stopping_dmdt, next dt=1e-14.\n",
      "[2016-06-24 12:02:50] DEBUG: At t=5.3e-13, last_dmdt=1.12e+04 * stopping_dmdt, next dt=1e-14.\n",
      "[2016-06-24 12:02:51] DEBUG: At t=5.4e-13, last_dmdt=1.12e+04 * stopping_dmdt, next dt=1e-14.\n",
      "[2016-06-24 12:02:51] DEBUG: At t=5.5e-13, last_dmdt=1.13e+04 * stopping_dmdt, next dt=1e-14.\n",
      "[2016-06-24 12:02:52] DEBUG: At t=5.6e-13, last_dmdt=1.14e+04 * stopping_dmdt, next dt=1e-14.\n",
      "[2016-06-24 12:02:52] DEBUG: At t=5.7e-13, last_dmdt=1.15e+04 * stopping_dmdt, next dt=1e-14.\n",
      "[2016-06-24 12:02:52] DEBUG: At t=5.8e-13, last_dmdt=1.16e+04 * stopping_dmdt, next dt=1e-14.\n",
      "[2016-06-24 12:02:53] DEBUG: At t=5.9e-13, last_dmdt=1.16e+04 * stopping_dmdt, next dt=1e-14.\n",
      "[2016-06-24 12:02:53] DEBUG: At t=6e-13, last_dmdt=1.17e+04 * stopping_dmdt, next dt=1e-14.\n",
      "[2016-06-24 12:02:54] DEBUG: At t=6.1e-13, last_dmdt=1.18e+04 * stopping_dmdt, next dt=1e-14.\n",
      "[2016-06-24 12:02:54] DEBUG: At t=6.2e-13, last_dmdt=1.19e+04 * stopping_dmdt, next dt=1e-14.\n",
      "[2016-06-24 12:02:54] DEBUG: At t=6.3e-13, last_dmdt=1.2e+04 * stopping_dmdt, next dt=1e-14.\n",
      "[2016-06-24 12:02:55] DEBUG: At t=6.4e-13, last_dmdt=1.2e+04 * stopping_dmdt, next dt=1e-14.\n",
      "[2016-06-24 12:02:55] DEBUG: At t=6.5e-13, last_dmdt=1.21e+04 * stopping_dmdt, next dt=1e-14.\n",
      "[2016-06-24 12:02:55] DEBUG: At t=6.6e-13, last_dmdt=1.22e+04 * stopping_dmdt, next dt=1e-14.\n",
      "[2016-06-24 12:02:56] DEBUG: At t=6.7e-13, last_dmdt=1.23e+04 * stopping_dmdt, next dt=1e-14.\n",
      "[2016-06-24 12:02:56] DEBUG: At t=6.8e-13, last_dmdt=1.24e+04 * stopping_dmdt, next dt=1e-14.\n",
      "[2016-06-24 12:02:56] DEBUG: At t=6.9e-13, last_dmdt=1.24e+04 * stopping_dmdt, next dt=1e-14.\n",
      "[2016-06-24 12:02:57] DEBUG: At t=7e-13, last_dmdt=1.25e+04 * stopping_dmdt, next dt=1e-14.\n",
      "[2016-06-24 12:02:57] DEBUG: At t=7.1e-13, last_dmdt=1.26e+04 * stopping_dmdt, next dt=1e-14.\n",
      "[2016-06-24 12:02:58] DEBUG: At t=7.2e-13, last_dmdt=1.27e+04 * stopping_dmdt, next dt=1e-14.\n",
      "[2016-06-24 12:02:58] DEBUG: At t=7.3e-13, last_dmdt=1.28e+04 * stopping_dmdt, next dt=1e-14.\n",
      "[2016-06-24 12:02:58] DEBUG: At t=7.4e-13, last_dmdt=1.29e+04 * stopping_dmdt, next dt=1e-14.\n",
      "[2016-06-24 12:02:59] DEBUG: At t=7.5e-13, last_dmdt=1.29e+04 * stopping_dmdt, next dt=1e-14.\n",
      "[2016-06-24 12:02:59] DEBUG: At t=7.6e-13, last_dmdt=1.3e+04 * stopping_dmdt, next dt=1e-14.\n",
      "[2016-06-24 12:02:59] DEBUG: At t=7.7e-13, last_dmdt=1.31e+04 * stopping_dmdt, next dt=1e-14.\n",
      "[2016-06-24 12:03:00] DEBUG: At t=7.8e-13, last_dmdt=1.32e+04 * stopping_dmdt, next dt=1e-14.\n",
      "[2016-06-24 12:03:00] DEBUG: At t=7.9e-13, last_dmdt=1.33e+04 * stopping_dmdt, next dt=1e-14.\n",
      "[2016-06-24 12:03:00] DEBUG: At t=8e-13, last_dmdt=1.34e+04 * stopping_dmdt, next dt=1e-14.\n",
      "[2016-06-24 12:03:01] DEBUG: At t=8.1e-13, last_dmdt=1.35e+04 * stopping_dmdt, next dt=1e-14.\n",
      "[2016-06-24 12:03:01] DEBUG: At t=8.2e-13, last_dmdt=1.35e+04 * stopping_dmdt, next dt=1e-14.\n",
      "[2016-06-24 12:03:01] DEBUG: At t=8.3e-13, last_dmdt=1.36e+04 * stopping_dmdt, next dt=1e-14.\n",
      "[2016-06-24 12:03:02] DEBUG: At t=8.4e-13, last_dmdt=1.37e+04 * stopping_dmdt, next dt=1e-14.\n",
      "[2016-06-24 12:03:02] DEBUG: At t=8.5e-13, last_dmdt=1.38e+04 * stopping_dmdt, next dt=1e-14.\n",
      "[2016-06-24 12:03:03] DEBUG: At t=8.6e-13, last_dmdt=1.39e+04 * stopping_dmdt, next dt=1e-14.\n",
      "[2016-06-24 12:03:03] DEBUG: At t=8.7e-13, last_dmdt=1.4e+04 * stopping_dmdt, next dt=1e-14.\n",
      "[2016-06-24 12:03:03] DEBUG: At t=8.8e-13, last_dmdt=1.41e+04 * stopping_dmdt, next dt=1e-14.\n",
      "[2016-06-24 12:03:04] DEBUG: At t=8.9e-13, last_dmdt=1.42e+04 * stopping_dmdt, next dt=1e-14.\n",
      "[2016-06-24 12:03:04] DEBUG: At t=9e-13, last_dmdt=1.42e+04 * stopping_dmdt, next dt=1e-14.\n",
      "[2016-06-24 12:03:04] DEBUG: At t=9.1e-13, last_dmdt=1.43e+04 * stopping_dmdt, next dt=1e-14.\n",
      "[2016-06-24 12:03:05] DEBUG: At t=9.2e-13, last_dmdt=1.44e+04 * stopping_dmdt, next dt=1e-14.\n",
      "[2016-06-24 12:03:05] DEBUG: At t=9.3e-13, last_dmdt=1.45e+04 * stopping_dmdt, next dt=1e-14.\n",
      "[2016-06-24 12:03:06] DEBUG: At t=9.4e-13, last_dmdt=1.46e+04 * stopping_dmdt, next dt=1e-14.\n",
      "[2016-06-24 12:03:06] DEBUG: At t=9.5e-13, last_dmdt=1.47e+04 * stopping_dmdt, next dt=1e-14.\n",
      "[2016-06-24 12:03:06] DEBUG: At t=9.6e-13, last_dmdt=1.48e+04 * stopping_dmdt, next dt=1e-14.\n",
      "[2016-06-24 12:03:07] DEBUG: At t=9.7e-13, last_dmdt=1.49e+04 * stopping_dmdt, next dt=1e-14.\n",
      "[2016-06-24 12:03:07] DEBUG: At t=9.8e-13, last_dmdt=1.5e+04 * stopping_dmdt, next dt=1e-14.\n",
      "[2016-06-24 12:03:08] DEBUG: At t=9.9e-13, last_dmdt=1.51e+04 * stopping_dmdt, next dt=1e-14.\n",
      "[2016-06-24 12:03:08] DEBUG: At t=1e-12, last_dmdt=1.51e+04 * stopping_dmdt, next dt=1e-14.\n",
      "[2016-06-24 12:03:08] DEBUG: At t=1.01e-12, last_dmdt=1.52e+04 * stopping_dmdt, next dt=1e-14.\n",
      "[2016-06-24 12:03:09] DEBUG: At t=1.02e-12, last_dmdt=1.53e+04 * stopping_dmdt, next dt=1e-14.\n",
      "[2016-06-24 12:03:09] DEBUG: At t=1.03e-12, last_dmdt=1.54e+04 * stopping_dmdt, next dt=1e-14.\n",
      "[2016-06-24 12:03:09] DEBUG: At t=1.04e-12, last_dmdt=1.55e+04 * stopping_dmdt, next dt=1e-14.\n",
      "[2016-06-24 12:03:10] DEBUG: At t=1.05e-12, last_dmdt=1.56e+04 * stopping_dmdt, next dt=1e-14.\n",
      "[2016-06-24 12:03:10] DEBUG: At t=1.06e-12, last_dmdt=1.57e+04 * stopping_dmdt, next dt=1e-14.\n",
      "[2016-06-24 12:03:10] DEBUG: At t=1.07e-12, last_dmdt=1.58e+04 * stopping_dmdt, next dt=1e-14.\n",
      "[2016-06-24 12:03:11] DEBUG: At t=1.08e-12, last_dmdt=1.59e+04 * stopping_dmdt, next dt=1e-14.\n",
      "[2016-06-24 12:03:11] DEBUG: At t=1.09e-12, last_dmdt=1.6e+04 * stopping_dmdt, next dt=1e-14.\n",
      "[2016-06-24 12:03:11] DEBUG: At t=1.1e-12, last_dmdt=1.61e+04 * stopping_dmdt, next dt=1e-14.\n",
      "[2016-06-24 12:03:12] DEBUG: At t=1.11e-12, last_dmdt=1.62e+04 * stopping_dmdt, next dt=1e-14.\n",
      "[2016-06-24 12:03:12] DEBUG: At t=1.12e-12, last_dmdt=1.63e+04 * stopping_dmdt, next dt=1e-14.\n",
      "[2016-06-24 12:03:13] DEBUG: At t=1.13e-12, last_dmdt=1.64e+04 * stopping_dmdt, next dt=1e-14.\n",
      "[2016-06-24 12:03:13] DEBUG: At t=1.14e-12, last_dmdt=1.65e+04 * stopping_dmdt, next dt=1e-14.\n",
      "[2016-06-24 12:03:13] DEBUG: At t=1.15e-12, last_dmdt=1.66e+04 * stopping_dmdt, next dt=1e-14.\n",
      "[2016-06-24 12:03:14] DEBUG: At t=1.16e-12, last_dmdt=1.67e+04 * stopping_dmdt, next dt=1e-14.\n",
      "[2016-06-24 12:03:14] DEBUG: At t=1.17e-12, last_dmdt=1.67e+04 * stopping_dmdt, next dt=1e-14.\n",
      "[2016-06-24 12:03:14] DEBUG: At t=1.18e-12, last_dmdt=1.68e+04 * stopping_dmdt, next dt=1e-14.\n",
      "[2016-06-24 12:03:15] DEBUG: At t=1.19e-12, last_dmdt=1.69e+04 * stopping_dmdt, next dt=1e-14.\n",
      "[2016-06-24 12:03:15] DEBUG: At t=1.2e-12, last_dmdt=1.7e+04 * stopping_dmdt, next dt=1e-14.\n",
      "[2016-06-24 12:03:15] DEBUG: At t=1.21e-12, last_dmdt=1.71e+04 * stopping_dmdt, next dt=1e-14.\n",
      "[2016-06-24 12:03:16] DEBUG: At t=1.22e-12, last_dmdt=1.72e+04 * stopping_dmdt, next dt=1e-14.\n",
      "[2016-06-24 12:03:16] DEBUG: At t=1.23e-12, last_dmdt=1.73e+04 * stopping_dmdt, next dt=1e-14.\n",
      "[2016-06-24 12:03:17] DEBUG: At t=1.24e-12, last_dmdt=1.74e+04 * stopping_dmdt, next dt=1e-14.\n",
      "[2016-06-24 12:03:17] DEBUG: At t=1.25e-12, last_dmdt=1.75e+04 * stopping_dmdt, next dt=1e-14.\n",
      "[2016-06-24 12:03:17] DEBUG: At t=1.26e-12, last_dmdt=1.76e+04 * stopping_dmdt, next dt=1e-14.\n",
      "[2016-06-24 12:03:18] DEBUG: At t=1.27e-12, last_dmdt=1.77e+04 * stopping_dmdt, next dt=1e-14.\n",
      "[2016-06-24 12:03:18] DEBUG: At t=1.28e-12, last_dmdt=1.78e+04 * stopping_dmdt, next dt=1e-14.\n",
      "[2016-06-24 12:03:18] DEBUG: At t=1.29e-12, last_dmdt=1.79e+04 * stopping_dmdt, next dt=1e-14.\n",
      "[2016-06-24 12:03:19] DEBUG: At t=1.3e-12, last_dmdt=1.8e+04 * stopping_dmdt, next dt=1e-14.\n",
      "[2016-06-24 12:03:19] DEBUG: At t=1.31e-12, last_dmdt=1.81e+04 * stopping_dmdt, next dt=1e-14.\n",
      "[2016-06-24 12:03:19] DEBUG: At t=1.32e-12, last_dmdt=1.82e+04 * stopping_dmdt, next dt=1e-14.\n",
      "[2016-06-24 12:03:20] DEBUG: At t=1.33e-12, last_dmdt=1.83e+04 * stopping_dmdt, next dt=1e-14.\n",
      "[2016-06-24 12:03:20] DEBUG: At t=1.34e-12, last_dmdt=1.84e+04 * stopping_dmdt, next dt=1e-14.\n",
      "[2016-06-24 12:03:21] DEBUG: At t=1.35e-12, last_dmdt=1.85e+04 * stopping_dmdt, next dt=1e-14.\n",
      "[2016-06-24 12:03:21] DEBUG: At t=1.36e-12, last_dmdt=1.86e+04 * stopping_dmdt, next dt=1e-14.\n",
      "[2016-06-24 12:03:22] DEBUG: At t=1.37e-12, last_dmdt=1.87e+04 * stopping_dmdt, next dt=1e-14.\n",
      "[2016-06-24 12:03:22] DEBUG: At t=1.38e-12, last_dmdt=1.88e+04 * stopping_dmdt, next dt=1e-14.\n",
      "[2016-06-24 12:03:22] DEBUG: At t=1.39e-12, last_dmdt=1.89e+04 * stopping_dmdt, next dt=1e-14.\n",
      "[2016-06-24 12:03:23] DEBUG: At t=1.4e-12, last_dmdt=1.9e+04 * stopping_dmdt, next dt=1e-14.\n",
      "[2016-06-24 12:03:23] DEBUG: At t=1.41e-12, last_dmdt=1.91e+04 * stopping_dmdt, next dt=1e-14.\n",
      "[2016-06-24 12:03:23] DEBUG: At t=1.42e-12, last_dmdt=1.92e+04 * stopping_dmdt, next dt=1e-14.\n",
      "[2016-06-24 12:03:24] DEBUG: At t=1.43e-12, last_dmdt=1.94e+04 * stopping_dmdt, next dt=1e-14.\n",
      "[2016-06-24 12:03:24] DEBUG: At t=1.44e-12, last_dmdt=1.95e+04 * stopping_dmdt, next dt=1e-14.\n",
      "[2016-06-24 12:03:25] DEBUG: At t=1.45e-12, last_dmdt=1.96e+04 * stopping_dmdt, next dt=1e-14.\n",
      "[2016-06-24 12:03:25] DEBUG: At t=1.46e-12, last_dmdt=1.97e+04 * stopping_dmdt, next dt=1e-14.\n",
      "[2016-06-24 12:03:25] DEBUG: At t=1.47e-12, last_dmdt=1.98e+04 * stopping_dmdt, next dt=1e-14.\n",
      "[2016-06-24 12:03:26] DEBUG: At t=1.48e-12, last_dmdt=1.99e+04 * stopping_dmdt, next dt=1e-14.\n",
      "[2016-06-24 12:03:26] DEBUG: At t=1.49e-12, last_dmdt=2e+04 * stopping_dmdt, next dt=1e-14.\n",
      "[2016-06-24 12:03:26] DEBUG: At t=1.5e-12, last_dmdt=2.01e+04 * stopping_dmdt, next dt=1e-14.\n",
      "[2016-06-24 12:03:27] DEBUG: At t=1.51e-12, last_dmdt=2.02e+04 * stopping_dmdt, next dt=1e-14.\n",
      "[2016-06-24 12:03:27] DEBUG: At t=1.52e-12, last_dmdt=2.03e+04 * stopping_dmdt, next dt=1e-14.\n",
      "[2016-06-24 12:03:27] DEBUG: At t=1.53e-12, last_dmdt=2.04e+04 * stopping_dmdt, next dt=1e-14.\n",
      "[2016-06-24 12:03:28] DEBUG: At t=1.54e-12, last_dmdt=2.05e+04 * stopping_dmdt, next dt=1e-14.\n",
      "[2016-06-24 12:03:28] DEBUG: At t=1.55e-12, last_dmdt=2.06e+04 * stopping_dmdt, next dt=1e-14.\n",
      "[2016-06-24 12:03:28] DEBUG: At t=1.56e-12, last_dmdt=2.07e+04 * stopping_dmdt, next dt=1e-14.\n",
      "[2016-06-24 12:03:29] DEBUG: At t=1.57e-12, last_dmdt=2.09e+04 * stopping_dmdt, next dt=1e-14.\n",
      "[2016-06-24 12:03:29] DEBUG: At t=1.58e-12, last_dmdt=2.1e+04 * stopping_dmdt, next dt=1e-14.\n",
      "[2016-06-24 12:03:30] DEBUG: At t=1.59e-12, last_dmdt=2.11e+04 * stopping_dmdt, next dt=1e-14.\n",
      "[2016-06-24 12:03:30] DEBUG: At t=1.6e-12, last_dmdt=2.12e+04 * stopping_dmdt, next dt=1e-14.\n",
      "[2016-06-24 12:03:30] DEBUG: At t=1.61e-12, last_dmdt=2.13e+04 * stopping_dmdt, next dt=1e-14.\n",
      "[2016-06-24 12:03:31] DEBUG: At t=1.62e-12, last_dmdt=2.14e+04 * stopping_dmdt, next dt=1e-14.\n",
      "[2016-06-24 12:03:31] DEBUG: At t=1.63e-12, last_dmdt=2.15e+04 * stopping_dmdt, next dt=1e-14.\n",
      "[2016-06-24 12:03:31] DEBUG: At t=1.64e-12, last_dmdt=2.16e+04 * stopping_dmdt, next dt=1e-14.\n",
      "[2016-06-24 12:03:32] DEBUG: At t=1.65e-12, last_dmdt=2.17e+04 * stopping_dmdt, next dt=1e-14.\n",
      "[2016-06-24 12:03:32] DEBUG: At t=1.66e-12, last_dmdt=2.18e+04 * stopping_dmdt, next dt=1e-14.\n",
      "[2016-06-24 12:03:32] DEBUG: At t=1.67e-12, last_dmdt=2.19e+04 * stopping_dmdt, next dt=1e-14.\n",
      "[2016-06-24 12:03:33] DEBUG: At t=1.68e-12, last_dmdt=2.21e+04 * stopping_dmdt, next dt=1e-14.\n",
      "[2016-06-24 12:03:33] DEBUG: At t=1.69e-12, last_dmdt=2.22e+04 * stopping_dmdt, next dt=1e-14.\n",
      "[2016-06-24 12:03:33] DEBUG: At t=1.7e-12, last_dmdt=2.23e+04 * stopping_dmdt, next dt=1e-14.\n",
      "[2016-06-24 12:03:34] DEBUG: At t=1.71e-12, last_dmdt=2.24e+04 * stopping_dmdt, next dt=1e-14.\n",
      "[2016-06-24 12:03:34] DEBUG: At t=1.72e-12, last_dmdt=2.25e+04 * stopping_dmdt, next dt=1e-14.\n",
      "[2016-06-24 12:03:34] DEBUG: At t=1.73e-12, last_dmdt=2.26e+04 * stopping_dmdt, next dt=1e-14.\n",
      "[2016-06-24 12:03:35] DEBUG: At t=1.74e-12, last_dmdt=2.27e+04 * stopping_dmdt, next dt=1e-14.\n",
      "[2016-06-24 12:03:35] DEBUG: At t=1.75e-12, last_dmdt=2.28e+04 * stopping_dmdt, next dt=1e-14.\n",
      "[2016-06-24 12:03:35] DEBUG: At t=1.76e-12, last_dmdt=2.3e+04 * stopping_dmdt, next dt=1e-14.\n",
      "[2016-06-24 12:03:36] DEBUG: At t=1.77e-12, last_dmdt=2.31e+04 * stopping_dmdt, next dt=1e-14.\n",
      "[2016-06-24 12:03:36] DEBUG: At t=1.78e-12, last_dmdt=2.32e+04 * stopping_dmdt, next dt=1e-14.\n",
      "[2016-06-24 12:03:37] DEBUG: At t=1.79e-12, last_dmdt=2.33e+04 * stopping_dmdt, next dt=1e-14.\n",
      "[2016-06-24 12:03:37] DEBUG: At t=1.8e-12, last_dmdt=2.34e+04 * stopping_dmdt, next dt=1e-14.\n",
      "[2016-06-24 12:03:37] DEBUG: At t=1.81e-12, last_dmdt=2.35e+04 * stopping_dmdt, next dt=1e-14.\n",
      "[2016-06-24 12:03:38] DEBUG: At t=1.82e-12, last_dmdt=2.36e+04 * stopping_dmdt, next dt=1e-14.\n",
      "[2016-06-24 12:03:38] DEBUG: At t=1.83e-12, last_dmdt=2.38e+04 * stopping_dmdt, next dt=1e-14.\n",
      "[2016-06-24 12:03:38] DEBUG: At t=1.84e-12, last_dmdt=2.39e+04 * stopping_dmdt, next dt=1e-14.\n",
      "[2016-06-24 12:03:39] DEBUG: At t=1.85e-12, last_dmdt=2.4e+04 * stopping_dmdt, next dt=1e-14.\n",
      "[2016-06-24 12:03:39] DEBUG: At t=1.86e-12, last_dmdt=2.41e+04 * stopping_dmdt, next dt=1e-14.\n",
      "[2016-06-24 12:03:39] DEBUG: At t=1.87e-12, last_dmdt=2.42e+04 * stopping_dmdt, next dt=1e-14.\n",
      "[2016-06-24 12:03:40] DEBUG: At t=1.88e-12, last_dmdt=2.43e+04 * stopping_dmdt, next dt=1e-14.\n",
      "[2016-06-24 12:03:40] DEBUG: At t=1.89e-12, last_dmdt=2.45e+04 * stopping_dmdt, next dt=1e-14.\n",
      "[2016-06-24 12:03:40] DEBUG: At t=1.9e-12, last_dmdt=2.46e+04 * stopping_dmdt, next dt=1e-14.\n",
      "[2016-06-24 12:03:41] DEBUG: At t=1.91e-12, last_dmdt=2.47e+04 * stopping_dmdt, next dt=1e-14.\n",
      "[2016-06-24 12:03:41] DEBUG: At t=1.92e-12, last_dmdt=2.48e+04 * stopping_dmdt, next dt=1e-14.\n",
      "[2016-06-24 12:03:41] DEBUG: At t=1.93e-12, last_dmdt=2.49e+04 * stopping_dmdt, next dt=1e-14.\n",
      "[2016-06-24 12:03:42] DEBUG: At t=1.94e-12, last_dmdt=2.51e+04 * stopping_dmdt, next dt=1e-14.\n",
      "[2016-06-24 12:03:42] DEBUG: At t=1.95e-12, last_dmdt=2.52e+04 * stopping_dmdt, next dt=1e-14.\n",
      "[2016-06-24 12:03:43] DEBUG: At t=1.96e-12, last_dmdt=2.53e+04 * stopping_dmdt, next dt=1e-14.\n",
      "[2016-06-24 12:03:43] DEBUG: At t=1.97e-12, last_dmdt=2.54e+04 * stopping_dmdt, next dt=1e-14.\n",
      "[2016-06-24 12:03:44] DEBUG: At t=1.98e-12, last_dmdt=2.55e+04 * stopping_dmdt, next dt=1e-14.\n",
      "[2016-06-24 12:03:44] DEBUG: At t=1.99e-12, last_dmdt=2.57e+04 * stopping_dmdt, next dt=1e-14.\n",
      "[2016-06-24 12:03:44] DEBUG: At t=2e-12, last_dmdt=2.58e+04 * stopping_dmdt, next dt=1e-14.\n",
      "[2016-06-24 12:03:45] DEBUG: At t=2.01e-12, last_dmdt=2.59e+04 * stopping_dmdt, next dt=1e-14.\n",
      "[2016-06-24 12:03:45] DEBUG: At t=2.02e-12, last_dmdt=2.6e+04 * stopping_dmdt, next dt=1e-14.\n",
      "[2016-06-24 12:03:45] DEBUG: At t=2.03e-12, last_dmdt=2.61e+04 * stopping_dmdt, next dt=1e-14.\n",
      "[2016-06-24 12:03:46] DEBUG: At t=2.04e-12, last_dmdt=2.63e+04 * stopping_dmdt, next dt=1e-14.\n",
      "[2016-06-24 12:03:46] DEBUG: At t=2.05e-12, last_dmdt=2.64e+04 * stopping_dmdt, next dt=1e-14.\n",
      "[2016-06-24 12:03:46] DEBUG: At t=2.06e-12, last_dmdt=2.65e+04 * stopping_dmdt, next dt=1e-14.\n",
      "[2016-06-24 12:03:47] DEBUG: At t=2.07e-12, last_dmdt=2.66e+04 * stopping_dmdt, next dt=1e-14.\n",
      "[2016-06-24 12:03:47] DEBUG: At t=2.08e-12, last_dmdt=2.67e+04 * stopping_dmdt, next dt=1e-14.\n",
      "[2016-06-24 12:03:47] DEBUG: At t=2.09e-12, last_dmdt=2.69e+04 * stopping_dmdt, next dt=1e-14.\n",
      "[2016-06-24 12:03:48] DEBUG: At t=2.1e-12, last_dmdt=2.7e+04 * stopping_dmdt, next dt=1e-14.\n",
      "[2016-06-24 12:03:48] DEBUG: At t=2.11e-12, last_dmdt=2.71e+04 * stopping_dmdt, next dt=1e-14.\n",
      "[2016-06-24 12:03:48] DEBUG: At t=2.12e-12, last_dmdt=2.72e+04 * stopping_dmdt, next dt=1e-14.\n",
      "[2016-06-24 12:03:49] DEBUG: At t=2.13e-12, last_dmdt=2.74e+04 * stopping_dmdt, next dt=1e-14.\n",
      "[2016-06-24 12:03:49] DEBUG: At t=2.14e-12, last_dmdt=2.75e+04 * stopping_dmdt, next dt=1e-14.\n",
      "[2016-06-24 12:03:49] DEBUG: At t=2.15e-12, last_dmdt=2.76e+04 * stopping_dmdt, next dt=1e-14.\n",
      "[2016-06-24 12:03:50] DEBUG: At t=2.16e-12, last_dmdt=2.77e+04 * stopping_dmdt, next dt=1e-14.\n",
      "[2016-06-24 12:03:50] DEBUG: At t=2.17e-12, last_dmdt=2.79e+04 * stopping_dmdt, next dt=1e-14.\n",
      "[2016-06-24 12:03:50] DEBUG: At t=2.18e-12, last_dmdt=2.8e+04 * stopping_dmdt, next dt=1e-14.\n",
      "[2016-06-24 12:03:51] DEBUG: At t=2.19e-12, last_dmdt=2.81e+04 * stopping_dmdt, next dt=1e-14.\n",
      "[2016-06-24 12:03:51] DEBUG: At t=2.2e-12, last_dmdt=2.82e+04 * stopping_dmdt, next dt=1e-14.\n",
      "[2016-06-24 12:03:52] DEBUG: At t=2.21e-12, last_dmdt=2.84e+04 * stopping_dmdt, next dt=1e-14.\n",
      "[2016-06-24 12:03:52] DEBUG: At t=2.22e-12, last_dmdt=2.85e+04 * stopping_dmdt, next dt=1e-14.\n",
      "[2016-06-24 12:03:52] DEBUG: At t=2.23e-12, last_dmdt=2.86e+04 * stopping_dmdt, next dt=1e-14.\n",
      "[2016-06-24 12:03:53] DEBUG: At t=2.24e-12, last_dmdt=2.87e+04 * stopping_dmdt, next dt=1e-14.\n",
      "[2016-06-24 12:03:53] DEBUG: At t=2.25e-12, last_dmdt=2.89e+04 * stopping_dmdt, next dt=1e-14.\n",
      "[2016-06-24 12:03:53] DEBUG: At t=2.26e-12, last_dmdt=2.9e+04 * stopping_dmdt, next dt=1e-14.\n",
      "[2016-06-24 12:03:54] DEBUG: At t=2.27e-12, last_dmdt=2.91e+04 * stopping_dmdt, next dt=1e-14.\n",
      "[2016-06-24 12:03:54] DEBUG: At t=2.28e-12, last_dmdt=2.93e+04 * stopping_dmdt, next dt=1e-14.\n",
      "[2016-06-24 12:03:54] DEBUG: At t=2.29e-12, last_dmdt=2.94e+04 * stopping_dmdt, next dt=1e-14.\n",
      "[2016-06-24 12:03:55] DEBUG: At t=2.3e-12, last_dmdt=2.95e+04 * stopping_dmdt, next dt=1e-14.\n",
      "[2016-06-24 12:03:55] DEBUG: At t=2.31e-12, last_dmdt=2.96e+04 * stopping_dmdt, next dt=1e-14.\n",
      "[2016-06-24 12:03:55] DEBUG: At t=2.32e-12, last_dmdt=2.98e+04 * stopping_dmdt, next dt=1e-14.\n",
      "[2016-06-24 12:03:56] DEBUG: At t=2.33e-12, last_dmdt=2.99e+04 * stopping_dmdt, next dt=1e-14.\n",
      "[2016-06-24 12:03:56] DEBUG: At t=2.34e-12, last_dmdt=3e+04 * stopping_dmdt, next dt=1e-14.\n",
      "[2016-06-24 12:03:56] DEBUG: At t=2.35e-12, last_dmdt=3.02e+04 * stopping_dmdt, next dt=1e-14.\n",
      "[2016-06-24 12:03:57] DEBUG: At t=2.36e-12, last_dmdt=3.03e+04 * stopping_dmdt, next dt=1e-14.\n",
      "[2016-06-24 12:03:57] DEBUG: At t=2.37e-12, last_dmdt=3.04e+04 * stopping_dmdt, next dt=1e-14.\n",
      "[2016-06-24 12:03:57] DEBUG: At t=2.38e-12, last_dmdt=3.06e+04 * stopping_dmdt, next dt=1e-14.\n",
      "[2016-06-24 12:03:58] DEBUG: At t=2.39e-12, last_dmdt=3.07e+04 * stopping_dmdt, next dt=1e-14.\n",
      "[2016-06-24 12:03:58] DEBUG: At t=2.4e-12, last_dmdt=3.08e+04 * stopping_dmdt, next dt=1e-14.\n",
      "[2016-06-24 12:03:59] DEBUG: At t=2.41e-12, last_dmdt=3.09e+04 * stopping_dmdt, next dt=1e-14.\n",
      "[2016-06-24 12:03:59] DEBUG: At t=2.42e-12, last_dmdt=3.11e+04 * stopping_dmdt, next dt=1e-14.\n",
      "[2016-06-24 12:03:59] DEBUG: At t=2.43e-12, last_dmdt=3.12e+04 * stopping_dmdt, next dt=1e-14.\n",
      "[2016-06-24 12:04:00] DEBUG: At t=2.44e-12, last_dmdt=3.13e+04 * stopping_dmdt, next dt=1e-14.\n",
      "[2016-06-24 12:04:00] DEBUG: At t=2.45e-12, last_dmdt=3.15e+04 * stopping_dmdt, next dt=1e-14.\n",
      "[2016-06-24 12:04:00] DEBUG: At t=2.46e-12, last_dmdt=3.16e+04 * stopping_dmdt, next dt=1e-14.\n",
      "[2016-06-24 12:04:01] DEBUG: At t=2.47e-12, last_dmdt=3.17e+04 * stopping_dmdt, next dt=1e-14.\n",
      "[2016-06-24 12:04:01] DEBUG: At t=2.48e-12, last_dmdt=3.19e+04 * stopping_dmdt, next dt=1e-14.\n",
      "[2016-06-24 12:04:01] DEBUG: At t=2.49e-12, last_dmdt=3.2e+04 * stopping_dmdt, next dt=1e-14.\n",
      "[2016-06-24 12:04:02] DEBUG: At t=2.5e-12, last_dmdt=3.21e+04 * stopping_dmdt, next dt=1e-14.\n",
      "[2016-06-24 12:04:02] DEBUG: At t=2.51e-12, last_dmdt=3.23e+04 * stopping_dmdt, next dt=1e-14.\n",
      "[2016-06-24 12:04:03] DEBUG: At t=2.52e-12, last_dmdt=3.24e+04 * stopping_dmdt, next dt=1e-14.\n",
      "[2016-06-24 12:04:03] DEBUG: At t=2.53e-12, last_dmdt=3.25e+04 * stopping_dmdt, next dt=1e-14.\n",
      "[2016-06-24 12:04:03] DEBUG: At t=2.54e-12, last_dmdt=3.27e+04 * stopping_dmdt, next dt=1e-14.\n",
      "[2016-06-24 12:04:04] DEBUG: At t=2.55e-12, last_dmdt=3.28e+04 * stopping_dmdt, next dt=1e-14.\n",
      "[2016-06-24 12:04:04] DEBUG: At t=2.56e-12, last_dmdt=3.29e+04 * stopping_dmdt, next dt=1e-14.\n",
      "[2016-06-24 12:04:04] DEBUG: At t=2.57e-12, last_dmdt=3.31e+04 * stopping_dmdt, next dt=1e-14.\n",
      "[2016-06-24 12:04:05] DEBUG: At t=2.58e-12, last_dmdt=3.32e+04 * stopping_dmdt, next dt=1e-14.\n",
      "[2016-06-24 12:04:05] DEBUG: At t=2.59e-12, last_dmdt=3.33e+04 * stopping_dmdt, next dt=1e-14.\n",
      "[2016-06-24 12:04:06] DEBUG: At t=2.6e-12, last_dmdt=3.35e+04 * stopping_dmdt, next dt=1e-14.\n",
      "[2016-06-24 12:04:06] DEBUG: At t=2.61e-12, last_dmdt=3.36e+04 * stopping_dmdt, next dt=1e-14.\n",
      "[2016-06-24 12:04:06] DEBUG: At t=2.62e-12, last_dmdt=3.37e+04 * stopping_dmdt, next dt=1e-14.\n",
      "[2016-06-24 12:04:07] DEBUG: At t=2.63e-12, last_dmdt=3.39e+04 * stopping_dmdt, next dt=1e-14.\n",
      "[2016-06-24 12:04:07] DEBUG: At t=2.64e-12, last_dmdt=3.4e+04 * stopping_dmdt, next dt=1e-14.\n",
      "[2016-06-24 12:04:07] DEBUG: At t=2.65e-12, last_dmdt=3.41e+04 * stopping_dmdt, next dt=1e-14.\n",
      "[2016-06-24 12:04:08] DEBUG: At t=2.66e-12, last_dmdt=3.43e+04 * stopping_dmdt, next dt=1e-14.\n",
      "[2016-06-24 12:04:08] DEBUG: At t=2.67e-12, last_dmdt=3.44e+04 * stopping_dmdt, next dt=1e-14.\n",
      "[2016-06-24 12:04:08] DEBUG: At t=2.68e-12, last_dmdt=3.45e+04 * stopping_dmdt, next dt=1e-14.\n",
      "[2016-06-24 12:04:09] DEBUG: At t=2.69e-12, last_dmdt=3.47e+04 * stopping_dmdt, next dt=1e-14.\n",
      "[2016-06-24 12:04:09] DEBUG: At t=2.7e-12, last_dmdt=3.48e+04 * stopping_dmdt, next dt=1e-14.\n",
      "[2016-06-24 12:04:09] DEBUG: At t=2.71e-12, last_dmdt=3.49e+04 * stopping_dmdt, next dt=1e-14.\n",
      "[2016-06-24 12:04:10] DEBUG: At t=2.72e-12, last_dmdt=3.51e+04 * stopping_dmdt, next dt=1e-14.\n",
      "[2016-06-24 12:04:10] DEBUG: At t=2.73e-12, last_dmdt=3.52e+04 * stopping_dmdt, next dt=1e-14.\n",
      "[2016-06-24 12:04:10] DEBUG: At t=2.74e-12, last_dmdt=3.54e+04 * stopping_dmdt, next dt=1e-14.\n",
      "[2016-06-24 12:04:11] DEBUG: At t=2.75e-12, last_dmdt=3.55e+04 * stopping_dmdt, next dt=1e-14.\n",
      "[2016-06-24 12:04:11] DEBUG: At t=2.76e-12, last_dmdt=3.56e+04 * stopping_dmdt, next dt=1e-14.\n",
      "[2016-06-24 12:04:11] DEBUG: At t=2.77e-12, last_dmdt=3.58e+04 * stopping_dmdt, next dt=1e-14.\n",
      "[2016-06-24 12:04:12] DEBUG: At t=2.78e-12, last_dmdt=3.59e+04 * stopping_dmdt, next dt=1e-14.\n",
      "[2016-06-24 12:04:12] DEBUG: At t=2.79e-12, last_dmdt=3.6e+04 * stopping_dmdt, next dt=1e-14.\n",
      "[2016-06-24 12:04:13] DEBUG: At t=2.8e-12, last_dmdt=3.62e+04 * stopping_dmdt, next dt=1e-14.\n",
      "[2016-06-24 12:04:13] DEBUG: At t=2.81e-12, last_dmdt=3.63e+04 * stopping_dmdt, next dt=1e-14.\n",
      "[2016-06-24 12:04:13] DEBUG: At t=2.82e-12, last_dmdt=3.64e+04 * stopping_dmdt, next dt=1e-14.\n",
      "[2016-06-24 12:04:14] DEBUG: At t=2.83e-12, last_dmdt=3.66e+04 * stopping_dmdt, next dt=1e-14.\n",
      "[2016-06-24 12:04:14] DEBUG: At t=2.84e-12, last_dmdt=3.67e+04 * stopping_dmdt, next dt=1e-14.\n",
      "[2016-06-24 12:04:14] DEBUG: At t=2.85e-12, last_dmdt=3.69e+04 * stopping_dmdt, next dt=1e-14.\n",
      "[2016-06-24 12:04:15] DEBUG: At t=2.86e-12, last_dmdt=3.7e+04 * stopping_dmdt, next dt=1e-14.\n",
      "[2016-06-24 12:04:15] DEBUG: At t=2.87e-12, last_dmdt=3.71e+04 * stopping_dmdt, next dt=1e-14.\n",
      "[2016-06-24 12:04:15] DEBUG: At t=2.88e-12, last_dmdt=3.73e+04 * stopping_dmdt, next dt=1e-14.\n",
      "[2016-06-24 12:04:16] DEBUG: At t=2.89e-12, last_dmdt=3.74e+04 * stopping_dmdt, next dt=1e-14.\n",
      "[2016-06-24 12:04:16] DEBUG: At t=2.9e-12, last_dmdt=3.75e+04 * stopping_dmdt, next dt=1e-14.\n",
      "[2016-06-24 12:04:16] DEBUG: At t=2.91e-12, last_dmdt=3.77e+04 * stopping_dmdt, next dt=1e-14.\n",
      "[2016-06-24 12:04:17] DEBUG: At t=2.92e-12, last_dmdt=3.78e+04 * stopping_dmdt, next dt=1e-14.\n",
      "[2016-06-24 12:04:17] DEBUG: At t=2.93e-12, last_dmdt=3.8e+04 * stopping_dmdt, next dt=1e-14.\n",
      "[2016-06-24 12:04:17] DEBUG: At t=2.94e-12, last_dmdt=3.81e+04 * stopping_dmdt, next dt=1e-14.\n",
      "[2016-06-24 12:04:18] DEBUG: At t=2.95e-12, last_dmdt=3.82e+04 * stopping_dmdt, next dt=1e-14.\n",
      "[2016-06-24 12:04:18] DEBUG: At t=2.96e-12, last_dmdt=3.84e+04 * stopping_dmdt, next dt=1e-14.\n",
      "[2016-06-24 12:04:18] DEBUG: At t=2.97e-12, last_dmdt=3.85e+04 * stopping_dmdt, next dt=1e-14.\n",
      "[2016-06-24 12:04:19] DEBUG: At t=2.98e-12, last_dmdt=3.87e+04 * stopping_dmdt, next dt=1e-14.\n",
      "[2016-06-24 12:04:19] DEBUG: At t=2.99e-12, last_dmdt=3.88e+04 * stopping_dmdt, next dt=1e-14.\n",
      "[2016-06-24 12:04:20] DEBUG: At t=3e-12, last_dmdt=3.89e+04 * stopping_dmdt, next dt=1e-14.\n",
      "[2016-06-24 12:04:20] DEBUG: At t=3.01e-12, last_dmdt=3.91e+04 * stopping_dmdt, next dt=1e-14.\n",
      "[2016-06-24 12:04:20] DEBUG: At t=3.02e-12, last_dmdt=3.92e+04 * stopping_dmdt, next dt=1e-14.\n",
      "[2016-06-24 12:04:21] DEBUG: At t=3.03e-12, last_dmdt=3.93e+04 * stopping_dmdt, next dt=1e-14.\n",
      "[2016-06-24 12:04:21] DEBUG: At t=3.04e-12, last_dmdt=3.95e+04 * stopping_dmdt, next dt=1e-14.\n",
      "[2016-06-24 12:04:21] DEBUG: At t=3.05e-12, last_dmdt=3.96e+04 * stopping_dmdt, next dt=1e-14.\n",
      "[2016-06-24 12:04:22] DEBUG: At t=3.06e-12, last_dmdt=3.97e+04 * stopping_dmdt, next dt=1e-14.\n",
      "[2016-06-24 12:04:22] DEBUG: At t=3.07e-12, last_dmdt=3.99e+04 * stopping_dmdt, next dt=1e-14.\n",
      "[2016-06-24 12:04:23] DEBUG: At t=3.08e-12, last_dmdt=4e+04 * stopping_dmdt, next dt=1e-14.\n",
      "[2016-06-24 12:04:23] DEBUG: At t=3.09e-12, last_dmdt=4.02e+04 * stopping_dmdt, next dt=1e-14.\n",
      "[2016-06-24 12:04:23] DEBUG: At t=3.1e-12, last_dmdt=4.03e+04 * stopping_dmdt, next dt=1e-14.\n",
      "[2016-06-24 12:04:24] DEBUG: At t=3.11e-12, last_dmdt=4.04e+04 * stopping_dmdt, next dt=1e-14.\n",
      "[2016-06-24 12:04:24] DEBUG: At t=3.12e-12, last_dmdt=4.06e+04 * stopping_dmdt, next dt=1e-14.\n",
      "[2016-06-24 12:04:24] DEBUG: At t=3.13e-12, last_dmdt=4.07e+04 * stopping_dmdt, next dt=1e-14.\n",
      "[2016-06-24 12:04:25] DEBUG: At t=3.14e-12, last_dmdt=4.09e+04 * stopping_dmdt, next dt=1e-14.\n",
      "[2016-06-24 12:04:25] DEBUG: At t=3.15e-12, last_dmdt=4.1e+04 * stopping_dmdt, next dt=1e-14.\n",
      "[2016-06-24 12:04:25] DEBUG: At t=3.16e-12, last_dmdt=4.11e+04 * stopping_dmdt, next dt=1e-14.\n",
      "[2016-06-24 12:04:26] DEBUG: At t=3.17e-12, last_dmdt=4.13e+04 * stopping_dmdt, next dt=1e-14.\n",
      "[2016-06-24 12:04:26] DEBUG: At t=3.18e-12, last_dmdt=4.14e+04 * stopping_dmdt, next dt=1e-14.\n",
      "[2016-06-24 12:04:26] DEBUG: At t=3.19e-12, last_dmdt=4.15e+04 * stopping_dmdt, next dt=1e-14.\n",
      "[2016-06-24 12:04:27] DEBUG: At t=3.2e-12, last_dmdt=4.17e+04 * stopping_dmdt, next dt=1e-14.\n",
      "[2016-06-24 12:04:27] DEBUG: At t=3.21e-12, last_dmdt=4.18e+04 * stopping_dmdt, next dt=1e-14.\n",
      "[2016-06-24 12:04:28] DEBUG: At t=3.22e-12, last_dmdt=4.19e+04 * stopping_dmdt, next dt=1e-14.\n",
      "[2016-06-24 12:04:28] DEBUG: At t=3.23e-12, last_dmdt=4.21e+04 * stopping_dmdt, next dt=1e-14.\n",
      "[2016-06-24 12:04:28] DEBUG: At t=3.24e-12, last_dmdt=4.22e+04 * stopping_dmdt, next dt=1e-14.\n",
      "[2016-06-24 12:04:29] DEBUG: At t=3.25e-12, last_dmdt=4.24e+04 * stopping_dmdt, next dt=1e-14.\n",
      "[2016-06-24 12:04:29] DEBUG: At t=3.26e-12, last_dmdt=4.25e+04 * stopping_dmdt, next dt=1e-14.\n",
      "[2016-06-24 12:04:29] DEBUG: At t=3.27e-12, last_dmdt=4.26e+04 * stopping_dmdt, next dt=1e-14.\n",
      "[2016-06-24 12:04:30] DEBUG: At t=3.28e-12, last_dmdt=4.28e+04 * stopping_dmdt, next dt=1e-14.\n",
      "[2016-06-24 12:04:30] DEBUG: At t=3.29e-12, last_dmdt=4.29e+04 * stopping_dmdt, next dt=1e-14.\n",
      "[2016-06-24 12:04:30] DEBUG: At t=3.3e-12, last_dmdt=4.3e+04 * stopping_dmdt, next dt=1e-14.\n",
      "[2016-06-24 12:04:31] DEBUG: At t=3.31e-12, last_dmdt=4.32e+04 * stopping_dmdt, next dt=1e-14.\n",
      "[2016-06-24 12:04:31] DEBUG: At t=3.32e-12, last_dmdt=4.33e+04 * stopping_dmdt, next dt=1e-14.\n",
      "[2016-06-24 12:04:31] DEBUG: At t=3.33e-12, last_dmdt=4.34e+04 * stopping_dmdt, next dt=1e-14.\n",
      "[2016-06-24 12:04:32] DEBUG: At t=3.34e-12, last_dmdt=4.36e+04 * stopping_dmdt, next dt=1e-14.\n",
      "[2016-06-24 12:04:32] DEBUG: At t=3.35e-12, last_dmdt=4.37e+04 * stopping_dmdt, next dt=1e-14.\n",
      "[2016-06-24 12:04:32] DEBUG: At t=3.36e-12, last_dmdt=4.39e+04 * stopping_dmdt, next dt=1e-14.\n",
      "[2016-06-24 12:04:33] DEBUG: At t=3.37e-12, last_dmdt=4.4e+04 * stopping_dmdt, next dt=1e-14.\n",
      "[2016-06-24 12:04:33] DEBUG: At t=3.38e-12, last_dmdt=4.41e+04 * stopping_dmdt, next dt=1e-14.\n",
      "[2016-06-24 12:04:33] DEBUG: At t=3.39e-12, last_dmdt=4.43e+04 * stopping_dmdt, next dt=1e-14.\n",
      "[2016-06-24 12:04:34] DEBUG: At t=3.4e-12, last_dmdt=4.44e+04 * stopping_dmdt, next dt=1e-14.\n",
      "[2016-06-24 12:04:34] DEBUG: At t=3.41e-12, last_dmdt=4.45e+04 * stopping_dmdt, next dt=1e-14.\n",
      "[2016-06-24 12:04:35] DEBUG: At t=3.42e-12, last_dmdt=4.47e+04 * stopping_dmdt, next dt=1e-14.\n",
      "[2016-06-24 12:04:35] DEBUG: At t=3.43e-12, last_dmdt=4.48e+04 * stopping_dmdt, next dt=1e-14.\n",
      "[2016-06-24 12:04:35] DEBUG: At t=3.44e-12, last_dmdt=4.49e+04 * stopping_dmdt, next dt=1e-14.\n",
      "[2016-06-24 12:04:36] DEBUG: At t=3.45e-12, last_dmdt=4.51e+04 * stopping_dmdt, next dt=1e-14.\n",
      "[2016-06-24 12:04:36] DEBUG: At t=3.46e-12, last_dmdt=4.52e+04 * stopping_dmdt, next dt=1e-14.\n",
      "[2016-06-24 12:04:36] DEBUG: At t=3.47e-12, last_dmdt=4.53e+04 * stopping_dmdt, next dt=1e-14.\n",
      "[2016-06-24 12:04:37] DEBUG: At t=3.48e-12, last_dmdt=4.55e+04 * stopping_dmdt, next dt=1e-14.\n",
      "[2016-06-24 12:04:37] DEBUG: At t=3.49e-12, last_dmdt=4.56e+04 * stopping_dmdt, next dt=1e-14.\n",
      "[2016-06-24 12:04:37] DEBUG: At t=3.5e-12, last_dmdt=4.57e+04 * stopping_dmdt, next dt=1e-14.\n",
      "[2016-06-24 12:04:38] DEBUG: At t=3.51e-12, last_dmdt=4.59e+04 * stopping_dmdt, next dt=1e-14.\n",
      "[2016-06-24 12:04:38] DEBUG: At t=3.52e-12, last_dmdt=4.6e+04 * stopping_dmdt, next dt=1e-14.\n",
      "[2016-06-24 12:04:38] DEBUG: At t=3.53e-12, last_dmdt=4.61e+04 * stopping_dmdt, next dt=1e-14.\n",
      "[2016-06-24 12:04:39] DEBUG: At t=3.54e-12, last_dmdt=4.62e+04 * stopping_dmdt, next dt=1e-14.\n",
      "[2016-06-24 12:04:39] DEBUG: At t=3.55e-12, last_dmdt=4.64e+04 * stopping_dmdt, next dt=1e-14.\n",
      "[2016-06-24 12:04:39] DEBUG: At t=3.56e-12, last_dmdt=4.65e+04 * stopping_dmdt, next dt=1e-14.\n",
      "[2016-06-24 12:04:40] DEBUG: At t=3.57e-12, last_dmdt=4.66e+04 * stopping_dmdt, next dt=1e-14.\n",
      "[2016-06-24 12:04:40] DEBUG: At t=3.58e-12, last_dmdt=4.68e+04 * stopping_dmdt, next dt=1e-14.\n",
      "[2016-06-24 12:04:41] DEBUG: At t=3.59e-12, last_dmdt=4.69e+04 * stopping_dmdt, next dt=1e-14.\n",
      "[2016-06-24 12:04:41] DEBUG: At t=3.6e-12, last_dmdt=4.7e+04 * stopping_dmdt, next dt=1e-14.\n",
      "[2016-06-24 12:04:42] DEBUG: At t=3.61e-12, last_dmdt=4.72e+04 * stopping_dmdt, next dt=1e-14.\n",
      "[2016-06-24 12:04:42] DEBUG: At t=3.62e-12, last_dmdt=4.73e+04 * stopping_dmdt, next dt=1e-14.\n",
      "[2016-06-24 12:04:42] DEBUG: At t=3.63e-12, last_dmdt=4.74e+04 * stopping_dmdt, next dt=1e-14.\n",
      "[2016-06-24 12:04:43] DEBUG: At t=3.64e-12, last_dmdt=4.75e+04 * stopping_dmdt, next dt=1e-14.\n",
      "[2016-06-24 12:04:43] DEBUG: At t=3.65e-12, last_dmdt=4.77e+04 * stopping_dmdt, next dt=1e-14.\n",
      "[2016-06-24 12:04:43] DEBUG: At t=3.66e-12, last_dmdt=4.78e+04 * stopping_dmdt, next dt=1e-14.\n",
      "[2016-06-24 12:04:44] DEBUG: At t=3.67e-12, last_dmdt=4.79e+04 * stopping_dmdt, next dt=1e-14.\n",
      "[2016-06-24 12:04:44] DEBUG: At t=3.68e-12, last_dmdt=4.8e+04 * stopping_dmdt, next dt=1e-14.\n",
      "[2016-06-24 12:04:44] DEBUG: At t=3.69e-12, last_dmdt=4.82e+04 * stopping_dmdt, next dt=1e-14.\n",
      "[2016-06-24 12:04:45] DEBUG: At t=3.7e-12, last_dmdt=4.83e+04 * stopping_dmdt, next dt=1e-14.\n",
      "[2016-06-24 12:04:45] DEBUG: At t=3.71e-12, last_dmdt=4.84e+04 * stopping_dmdt, next dt=1e-14.\n",
      "[2016-06-24 12:04:45] DEBUG: At t=3.72e-12, last_dmdt=4.85e+04 * stopping_dmdt, next dt=1e-14.\n",
      "[2016-06-24 12:04:46] DEBUG: At t=3.73e-12, last_dmdt=4.87e+04 * stopping_dmdt, next dt=1e-14.\n",
      "[2016-06-24 12:04:46] DEBUG: At t=3.74e-12, last_dmdt=4.88e+04 * stopping_dmdt, next dt=1e-14.\n",
      "[2016-06-24 12:04:46] DEBUG: At t=3.75e-12, last_dmdt=4.89e+04 * stopping_dmdt, next dt=1e-14.\n",
      "[2016-06-24 12:04:47] DEBUG: At t=3.76e-12, last_dmdt=4.9e+04 * stopping_dmdt, next dt=1e-14.\n",
      "[2016-06-24 12:04:47] DEBUG: At t=3.77e-12, last_dmdt=4.92e+04 * stopping_dmdt, next dt=1e-14.\n",
      "[2016-06-24 12:04:47] DEBUG: At t=3.78e-12, last_dmdt=4.93e+04 * stopping_dmdt, next dt=1e-14.\n",
      "[2016-06-24 12:04:48] DEBUG: At t=3.79e-12, last_dmdt=4.94e+04 * stopping_dmdt, next dt=1e-14.\n",
      "[2016-06-24 12:04:48] DEBUG: At t=3.8e-12, last_dmdt=4.95e+04 * stopping_dmdt, next dt=1e-14.\n",
      "[2016-06-24 12:04:49] DEBUG: At t=3.81e-12, last_dmdt=4.97e+04 * stopping_dmdt, next dt=1e-14.\n",
      "[2016-06-24 12:04:49] DEBUG: At t=3.82e-12, last_dmdt=4.98e+04 * stopping_dmdt, next dt=1e-14.\n",
      "[2016-06-24 12:04:49] DEBUG: At t=3.83e-12, last_dmdt=4.99e+04 * stopping_dmdt, next dt=1e-14.\n",
      "[2016-06-24 12:04:50] DEBUG: At t=3.84e-12, last_dmdt=5e+04 * stopping_dmdt, next dt=1e-14.\n",
      "[2016-06-24 12:04:50] DEBUG: At t=3.85e-12, last_dmdt=5.01e+04 * stopping_dmdt, next dt=1e-14.\n",
      "[2016-06-24 12:04:50] DEBUG: At t=3.86e-12, last_dmdt=5.02e+04 * stopping_dmdt, next dt=1e-14.\n",
      "[2016-06-24 12:04:51] DEBUG: At t=3.87e-12, last_dmdt=5.04e+04 * stopping_dmdt, next dt=1e-14.\n",
      "[2016-06-24 12:04:51] DEBUG: At t=3.88e-12, last_dmdt=5.05e+04 * stopping_dmdt, next dt=1e-14.\n",
      "[2016-06-24 12:04:51] DEBUG: At t=3.89e-12, last_dmdt=5.06e+04 * stopping_dmdt, next dt=1e-14.\n",
      "[2016-06-24 12:04:52] DEBUG: At t=3.9e-12, last_dmdt=5.07e+04 * stopping_dmdt, next dt=1e-14.\n",
      "[2016-06-24 12:04:52] DEBUG: At t=3.91e-12, last_dmdt=5.08e+04 * stopping_dmdt, next dt=1e-14.\n",
      "[2016-06-24 12:04:52] DEBUG: At t=3.92e-12, last_dmdt=5.09e+04 * stopping_dmdt, next dt=1e-14.\n",
      "[2016-06-24 12:04:53] DEBUG: At t=3.93e-12, last_dmdt=5.11e+04 * stopping_dmdt, next dt=1e-14.\n",
      "[2016-06-24 12:04:53] DEBUG: At t=3.94e-12, last_dmdt=5.12e+04 * stopping_dmdt, next dt=1e-14.\n",
      "[2016-06-24 12:04:53] DEBUG: At t=3.95e-12, last_dmdt=5.13e+04 * stopping_dmdt, next dt=1e-14.\n",
      "[2016-06-24 12:04:54] DEBUG: At t=3.96e-12, last_dmdt=5.14e+04 * stopping_dmdt, next dt=1e-14.\n",
      "[2016-06-24 12:04:54] DEBUG: At t=3.97e-12, last_dmdt=5.15e+04 * stopping_dmdt, next dt=1e-14.\n",
      "[2016-06-24 12:04:55] DEBUG: At t=3.98e-12, last_dmdt=5.16e+04 * stopping_dmdt, next dt=1e-14.\n",
      "[2016-06-24 12:04:55] DEBUG: At t=3.99e-12, last_dmdt=5.17e+04 * stopping_dmdt, next dt=1e-14.\n",
      "[2016-06-24 12:04:55] DEBUG: At t=4e-12, last_dmdt=5.18e+04 * stopping_dmdt, next dt=1e-14.\n",
      "[2016-06-24 12:04:56] DEBUG: At t=4.01e-12, last_dmdt=5.19e+04 * stopping_dmdt, next dt=1e-14.\n",
      "[2016-06-24 12:04:56] DEBUG: At t=4.02e-12, last_dmdt=5.21e+04 * stopping_dmdt, next dt=1e-14.\n",
      "[2016-06-24 12:04:57] DEBUG: At t=4.03e-12, last_dmdt=5.22e+04 * stopping_dmdt, next dt=1e-14.\n",
      "[2016-06-24 12:04:57] DEBUG: At t=4.04e-12, last_dmdt=5.23e+04 * stopping_dmdt, next dt=1e-14.\n",
      "[2016-06-24 12:04:57] DEBUG: At t=4.05e-12, last_dmdt=5.24e+04 * stopping_dmdt, next dt=1e-14.\n",
      "[2016-06-24 12:04:58] DEBUG: At t=4.06e-12, last_dmdt=5.25e+04 * stopping_dmdt, next dt=1e-14.\n",
      "[2016-06-24 12:04:58] DEBUG: At t=4.07e-12, last_dmdt=5.26e+04 * stopping_dmdt, next dt=1e-14.\n",
      "[2016-06-24 12:04:58] DEBUG: At t=4.08e-12, last_dmdt=5.27e+04 * stopping_dmdt, next dt=1e-14.\n",
      "[2016-06-24 12:04:59] DEBUG: At t=4.09e-12, last_dmdt=5.28e+04 * stopping_dmdt, next dt=1e-14.\n",
      "[2016-06-24 12:04:59] DEBUG: At t=4.1e-12, last_dmdt=5.29e+04 * stopping_dmdt, next dt=1e-14.\n",
      "[2016-06-24 12:04:59] DEBUG: At t=4.11e-12, last_dmdt=5.3e+04 * stopping_dmdt, next dt=1e-14.\n",
      "[2016-06-24 12:05:00] DEBUG: At t=4.12e-12, last_dmdt=5.31e+04 * stopping_dmdt, next dt=1e-14.\n",
      "[2016-06-24 12:05:00] DEBUG: At t=4.13e-12, last_dmdt=5.32e+04 * stopping_dmdt, next dt=1e-14.\n",
      "[2016-06-24 12:05:00] DEBUG: At t=4.14e-12, last_dmdt=5.33e+04 * stopping_dmdt, next dt=1e-14.\n",
      "[2016-06-24 12:05:01] DEBUG: At t=4.15e-12, last_dmdt=5.34e+04 * stopping_dmdt, next dt=1e-14.\n",
      "[2016-06-24 12:05:01] DEBUG: At t=4.16e-12, last_dmdt=5.35e+04 * stopping_dmdt, next dt=1e-14.\n",
      "[2016-06-24 12:05:01] DEBUG: At t=4.17e-12, last_dmdt=5.36e+04 * stopping_dmdt, next dt=1e-14.\n",
      "[2016-06-24 12:05:02] DEBUG: At t=4.18e-12, last_dmdt=5.37e+04 * stopping_dmdt, next dt=1e-14.\n",
      "[2016-06-24 12:05:02] DEBUG: At t=4.19e-12, last_dmdt=5.38e+04 * stopping_dmdt, next dt=1e-14.\n",
      "[2016-06-24 12:05:02] DEBUG: At t=4.2e-12, last_dmdt=5.39e+04 * stopping_dmdt, next dt=1e-14.\n",
      "[2016-06-24 12:05:03] DEBUG: At t=4.21e-12, last_dmdt=5.4e+04 * stopping_dmdt, next dt=1e-14.\n",
      "[2016-06-24 12:05:03] DEBUG: At t=4.22e-12, last_dmdt=5.41e+04 * stopping_dmdt, next dt=1e-14.\n",
      "[2016-06-24 12:05:04] DEBUG: At t=4.23e-12, last_dmdt=5.42e+04 * stopping_dmdt, next dt=1e-14.\n",
      "[2016-06-24 12:05:04] DEBUG: At t=4.24e-12, last_dmdt=5.43e+04 * stopping_dmdt, next dt=1e-14.\n",
      "[2016-06-24 12:05:04] DEBUG: At t=4.25e-12, last_dmdt=5.44e+04 * stopping_dmdt, next dt=1e-14.\n",
      "[2016-06-24 12:05:05] DEBUG: At t=4.26e-12, last_dmdt=5.45e+04 * stopping_dmdt, next dt=1e-14.\n",
      "[2016-06-24 12:05:05] DEBUG: At t=4.27e-12, last_dmdt=5.45e+04 * stopping_dmdt, next dt=1e-14.\n",
      "[2016-06-24 12:05:05] DEBUG: At t=4.28e-12, last_dmdt=5.46e+04 * stopping_dmdt, next dt=1e-14.\n",
      "[2016-06-24 12:05:06] DEBUG: At t=4.29e-12, last_dmdt=5.47e+04 * stopping_dmdt, next dt=1e-14.\n",
      "[2016-06-24 12:05:06] DEBUG: At t=4.3e-12, last_dmdt=5.48e+04 * stopping_dmdt, next dt=1e-14.\n",
      "[2016-06-24 12:05:06] DEBUG: At t=4.31e-12, last_dmdt=5.49e+04 * stopping_dmdt, next dt=1e-14.\n",
      "[2016-06-24 12:05:07] DEBUG: At t=4.32e-12, last_dmdt=5.5e+04 * stopping_dmdt, next dt=1e-14.\n",
      "[2016-06-24 12:05:07] DEBUG: At t=4.33e-12, last_dmdt=5.51e+04 * stopping_dmdt, next dt=1e-14.\n",
      "[2016-06-24 12:05:07] DEBUG: At t=4.34e-12, last_dmdt=5.52e+04 * stopping_dmdt, next dt=1e-14.\n",
      "[2016-06-24 12:05:08] DEBUG: At t=4.35e-12, last_dmdt=5.52e+04 * stopping_dmdt, next dt=1e-14.\n",
      "[2016-06-24 12:05:08] DEBUG: At t=4.36e-12, last_dmdt=5.53e+04 * stopping_dmdt, next dt=1e-14.\n",
      "[2016-06-24 12:05:08] DEBUG: At t=4.37e-12, last_dmdt=5.54e+04 * stopping_dmdt, next dt=1e-14.\n",
      "[2016-06-24 12:05:09] DEBUG: At t=4.38e-12, last_dmdt=5.55e+04 * stopping_dmdt, next dt=1e-14.\n",
      "[2016-06-24 12:05:09] DEBUG: At t=4.39e-12, last_dmdt=5.56e+04 * stopping_dmdt, next dt=1e-14.\n",
      "[2016-06-24 12:05:09] DEBUG: At t=4.4e-12, last_dmdt=5.56e+04 * stopping_dmdt, next dt=1e-14.\n",
      "[2016-06-24 12:05:10] DEBUG: At t=4.41e-12, last_dmdt=5.57e+04 * stopping_dmdt, next dt=1e-14.\n",
      "[2016-06-24 12:05:10] DEBUG: At t=4.42e-12, last_dmdt=5.58e+04 * stopping_dmdt, next dt=1e-14.\n",
      "[2016-06-24 12:05:11] DEBUG: At t=4.43e-12, last_dmdt=5.59e+04 * stopping_dmdt, next dt=1e-14.\n",
      "[2016-06-24 12:05:11] DEBUG: At t=4.44e-12, last_dmdt=5.6e+04 * stopping_dmdt, next dt=1e-14.\n",
      "[2016-06-24 12:05:11] DEBUG: At t=4.45e-12, last_dmdt=5.6e+04 * stopping_dmdt, next dt=1e-14.\n",
      "[2016-06-24 12:05:12] DEBUG: At t=4.46e-12, last_dmdt=5.61e+04 * stopping_dmdt, next dt=1e-14.\n",
      "[2016-06-24 12:05:12] DEBUG: At t=4.47e-12, last_dmdt=5.62e+04 * stopping_dmdt, next dt=1e-14.\n",
      "[2016-06-24 12:05:13] DEBUG: At t=4.48e-12, last_dmdt=5.62e+04 * stopping_dmdt, next dt=1e-14.\n",
      "[2016-06-24 12:05:13] DEBUG: At t=4.49e-12, last_dmdt=5.63e+04 * stopping_dmdt, next dt=1e-14.\n",
      "[2016-06-24 12:05:13] DEBUG: At t=4.5e-12, last_dmdt=5.64e+04 * stopping_dmdt, next dt=1e-14.\n",
      "[2016-06-24 12:05:14] DEBUG: At t=4.51e-12, last_dmdt=5.65e+04 * stopping_dmdt, next dt=1e-14.\n",
      "[2016-06-24 12:05:14] DEBUG: At t=4.52e-12, last_dmdt=5.65e+04 * stopping_dmdt, next dt=1e-14.\n",
      "[2016-06-24 12:05:14] DEBUG: At t=4.53e-12, last_dmdt=5.66e+04 * stopping_dmdt, next dt=1e-14.\n",
      "[2016-06-24 12:05:15] DEBUG: At t=4.54e-12, last_dmdt=5.67e+04 * stopping_dmdt, next dt=1e-14.\n",
      "[2016-06-24 12:05:15] DEBUG: At t=4.55e-12, last_dmdt=5.67e+04 * stopping_dmdt, next dt=1e-14.\n",
      "[2016-06-24 12:05:15] DEBUG: At t=4.56e-12, last_dmdt=5.68e+04 * stopping_dmdt, next dt=1e-14.\n",
      "[2016-06-24 12:05:16] DEBUG: At t=4.57e-12, last_dmdt=5.68e+04 * stopping_dmdt, next dt=1e-14.\n",
      "[2016-06-24 12:05:16] DEBUG: At t=4.58e-12, last_dmdt=5.69e+04 * stopping_dmdt, next dt=1e-14.\n",
      "[2016-06-24 12:05:16] DEBUG: At t=4.59e-12, last_dmdt=5.7e+04 * stopping_dmdt, next dt=1e-14.\n",
      "[2016-06-24 12:05:17] DEBUG: At t=4.6e-12, last_dmdt=5.7e+04 * stopping_dmdt, next dt=1e-14.\n",
      "[2016-06-24 12:05:17] DEBUG: At t=4.61e-12, last_dmdt=5.71e+04 * stopping_dmdt, next dt=1e-14.\n",
      "[2016-06-24 12:05:18] DEBUG: At t=4.62e-12, last_dmdt=5.71e+04 * stopping_dmdt, next dt=1e-14.\n",
      "[2016-06-24 12:05:18] DEBUG: At t=4.63e-12, last_dmdt=5.72e+04 * stopping_dmdt, next dt=1e-14.\n",
      "[2016-06-24 12:05:18] DEBUG: At t=4.64e-12, last_dmdt=5.73e+04 * stopping_dmdt, next dt=1e-14.\n",
      "[2016-06-24 12:05:19] DEBUG: At t=4.65e-12, last_dmdt=5.73e+04 * stopping_dmdt, next dt=1e-14.\n",
      "[2016-06-24 12:05:19] DEBUG: At t=4.66e-12, last_dmdt=5.74e+04 * stopping_dmdt, next dt=1e-14.\n",
      "[2016-06-24 12:05:19] DEBUG: At t=4.67e-12, last_dmdt=5.74e+04 * stopping_dmdt, next dt=1e-14.\n",
      "[2016-06-24 12:05:20] DEBUG: At t=4.68e-12, last_dmdt=5.75e+04 * stopping_dmdt, next dt=1e-14.\n",
      "[2016-06-24 12:05:20] DEBUG: At t=4.69e-12, last_dmdt=5.75e+04 * stopping_dmdt, next dt=1e-14.\n",
      "[2016-06-24 12:05:20] DEBUG: At t=4.7e-12, last_dmdt=5.76e+04 * stopping_dmdt, next dt=1e-14.\n",
      "[2016-06-24 12:05:21] DEBUG: At t=4.71e-12, last_dmdt=5.76e+04 * stopping_dmdt, next dt=1e-14.\n",
      "[2016-06-24 12:05:21] DEBUG: At t=4.72e-12, last_dmdt=5.77e+04 * stopping_dmdt, next dt=1e-14.\n",
      "[2016-06-24 12:05:21] DEBUG: At t=4.73e-12, last_dmdt=5.77e+04 * stopping_dmdt, next dt=1e-14.\n",
      "[2016-06-24 12:05:22] DEBUG: At t=4.74e-12, last_dmdt=5.78e+04 * stopping_dmdt, next dt=1e-14.\n",
      "[2016-06-24 12:05:22] DEBUG: At t=4.75e-12, last_dmdt=5.78e+04 * stopping_dmdt, next dt=1e-14.\n",
      "[2016-06-24 12:05:22] DEBUG: At t=4.76e-12, last_dmdt=5.78e+04 * stopping_dmdt, next dt=1e-14.\n",
      "[2016-06-24 12:05:23] DEBUG: At t=4.77e-12, last_dmdt=5.79e+04 * stopping_dmdt, next dt=1e-14.\n",
      "[2016-06-24 12:05:23] DEBUG: At t=4.78e-12, last_dmdt=5.79e+04 * stopping_dmdt, next dt=1e-14.\n",
      "[2016-06-24 12:05:23] DEBUG: At t=4.79e-12, last_dmdt=5.8e+04 * stopping_dmdt, next dt=1e-14.\n",
      "[2016-06-24 12:05:24] DEBUG: At t=4.8e-12, last_dmdt=5.8e+04 * stopping_dmdt, next dt=1e-14.\n",
      "[2016-06-24 12:05:24] DEBUG: At t=4.81e-12, last_dmdt=5.8e+04 * stopping_dmdt, next dt=1e-14.\n",
      "[2016-06-24 12:05:24] DEBUG: At t=4.82e-12, last_dmdt=5.81e+04 * stopping_dmdt, next dt=1e-14.\n",
      "[2016-06-24 12:05:25] DEBUG: At t=4.83e-12, last_dmdt=5.81e+04 * stopping_dmdt, next dt=1e-14.\n",
      "[2016-06-24 12:05:25] DEBUG: At t=4.84e-12, last_dmdt=5.82e+04 * stopping_dmdt, next dt=1e-14.\n",
      "[2016-06-24 12:05:26] DEBUG: At t=4.85e-12, last_dmdt=5.82e+04 * stopping_dmdt, next dt=1e-14.\n",
      "[2016-06-24 12:05:26] DEBUG: At t=4.86e-12, last_dmdt=5.82e+04 * stopping_dmdt, next dt=1e-14.\n",
      "[2016-06-24 12:05:27] DEBUG: At t=4.87e-12, last_dmdt=5.83e+04 * stopping_dmdt, next dt=1e-14.\n",
      "[2016-06-24 12:05:27] DEBUG: At t=4.88e-12, last_dmdt=5.83e+04 * stopping_dmdt, next dt=1e-14.\n",
      "[2016-06-24 12:05:27] DEBUG: At t=4.89e-12, last_dmdt=5.83e+04 * stopping_dmdt, next dt=1e-14.\n",
      "[2016-06-24 12:05:28] DEBUG: At t=4.9e-12, last_dmdt=5.83e+04 * stopping_dmdt, next dt=1e-14.\n",
      "[2016-06-24 12:05:28] DEBUG: At t=4.91e-12, last_dmdt=5.84e+04 * stopping_dmdt, next dt=1e-14.\n",
      "[2016-06-24 12:05:28] DEBUG: At t=4.92e-12, last_dmdt=5.84e+04 * stopping_dmdt, next dt=1e-14.\n",
      "[2016-06-24 12:05:29] DEBUG: At t=4.93e-12, last_dmdt=5.84e+04 * stopping_dmdt, next dt=1e-14.\n",
      "[2016-06-24 12:05:29] DEBUG: At t=4.94e-12, last_dmdt=5.84e+04 * stopping_dmdt, next dt=1e-14.\n",
      "[2016-06-24 12:05:29] DEBUG: At t=4.95e-12, last_dmdt=5.85e+04 * stopping_dmdt, next dt=1e-14.\n",
      "[2016-06-24 12:05:30] DEBUG: At t=4.96e-12, last_dmdt=5.85e+04 * stopping_dmdt, next dt=1e-14.\n",
      "[2016-06-24 12:05:30] DEBUG: At t=4.97e-12, last_dmdt=5.85e+04 * stopping_dmdt, next dt=1e-14.\n",
      "[2016-06-24 12:05:30] DEBUG: At t=4.98e-12, last_dmdt=5.85e+04 * stopping_dmdt, next dt=1e-14.\n",
      "[2016-06-24 12:05:31] DEBUG: At t=4.99e-12, last_dmdt=5.85e+04 * stopping_dmdt, next dt=1e-14.\n",
      "[2016-06-24 12:05:31] DEBUG: At t=5e-12, last_dmdt=5.85e+04 * stopping_dmdt, next dt=1e-14.\n",
      "[2016-06-24 12:05:31] DEBUG: At t=5.01e-12, last_dmdt=5.85e+04 * stopping_dmdt, next dt=1e-14.\n",
      "[2016-06-24 12:05:32] DEBUG: At t=5.02e-12, last_dmdt=5.85e+04 * stopping_dmdt, next dt=1e-14.\n",
      "[2016-06-24 12:05:33] DEBUG: At t=5.03e-12, last_dmdt=5.86e+04 * stopping_dmdt, next dt=1e-14.\n",
      "[2016-06-24 12:05:33] DEBUG: At t=5.04e-12, last_dmdt=5.86e+04 * stopping_dmdt, next dt=1e-14.\n",
      "[2016-06-24 12:05:33] DEBUG: At t=5.05e-12, last_dmdt=5.86e+04 * stopping_dmdt, next dt=1e-14.\n",
      "[2016-06-24 12:05:34] DEBUG: At t=5.06e-12, last_dmdt=5.86e+04 * stopping_dmdt, next dt=1e-14.\n",
      "[2016-06-24 12:05:34] DEBUG: At t=5.07e-12, last_dmdt=5.86e+04 * stopping_dmdt, next dt=1e-14.\n",
      "[2016-06-24 12:05:34] DEBUG: At t=5.08e-12, last_dmdt=5.86e+04 * stopping_dmdt, next dt=1e-14.\n",
      "[2016-06-24 12:05:35] DEBUG: At t=5.09e-12, last_dmdt=5.87e+04 * stopping_dmdt, next dt=1e-14.\n",
      "[2016-06-24 12:05:35] DEBUG: At t=5.1e-12, last_dmdt=5.87e+04 * stopping_dmdt, next dt=1e-14.\n",
      "[2016-06-24 12:05:35] DEBUG: At t=5.11e-12, last_dmdt=5.87e+04 * stopping_dmdt, next dt=1e-14.\n",
      "[2016-06-24 12:05:36] DEBUG: At t=5.12e-12, last_dmdt=5.87e+04 * stopping_dmdt, next dt=1e-14.\n",
      "[2016-06-24 12:05:36] DEBUG: At t=5.14e-12, last_dmdt=5.87e+04 * stopping_dmdt, next dt=1.5e-14.\n",
      "[2016-06-24 12:05:36] DEBUG: At t=5.16e-12, last_dmdt=5.86e+04 * stopping_dmdt, next dt=2.25e-14.\n",
      "[2016-06-24 12:05:37] DEBUG: At t=5.19e-12, last_dmdt=5.86e+04 * stopping_dmdt, next dt=3.37e-14.\n",
      "[2016-06-24 12:05:37] DEBUG: At t=5.24e-12, last_dmdt=5.86e+04 * stopping_dmdt, next dt=5.06e-14.\n",
      "[2016-06-24 12:05:38] DEBUG: At t=5.32e-12, last_dmdt=5.85e+04 * stopping_dmdt, next dt=7.59e-14.\n",
      "[2016-06-24 12:05:39] DEBUG: At t=5.43e-12, last_dmdt=5.82e+04 * stopping_dmdt, next dt=1.14e-13.\n",
      "[2016-06-24 12:05:39] DEBUG: At t=5.6e-12, last_dmdt=5.76e+04 * stopping_dmdt, next dt=1.71e-13.\n",
      "[2016-06-24 12:05:40] DEBUG: At t=5.86e-12, last_dmdt=5.62e+04 * stopping_dmdt, next dt=2.56e-13.\n",
      "[2016-06-24 12:05:41] DEBUG: At t=6.24e-12, last_dmdt=5.29e+04 * stopping_dmdt, next dt=3.84e-13.\n",
      "[2016-06-24 12:05:42] DEBUG: At t=6.82e-12, last_dmdt=4.59e+04 * stopping_dmdt, next dt=5.77e-13.\n",
      "[2016-06-24 12:05:44] DEBUG: At t=7.68e-12, last_dmdt=3.23e+04 * stopping_dmdt, next dt=8.65e-13.\n",
      "[2016-06-24 12:05:46] DEBUG: At t=8.98e-12, last_dmdt=1.64e+04 * stopping_dmdt, next dt=1.3e-12.\n",
      "[2016-06-24 12:05:50] DEBUG: At t=1.09e-11, last_dmdt=1.23e+04 * stopping_dmdt, next dt=1.95e-12.\n",
      "[2016-06-24 12:05:54] DEBUG: At t=1.38e-11, last_dmdt=1.28e+04 * stopping_dmdt, next dt=2.92e-12.\n",
      "[2016-06-24 12:05:57] DEBUG: At t=1.68e-11, last_dmdt=1.21e+04 * stopping_dmdt, next dt=2.92e-12.\n",
      "[2016-06-24 12:06:01] DEBUG: At t=2.11e-11, last_dmdt=7.38e+03 * stopping_dmdt, next dt=4.38e-12.\n",
      "[2016-06-24 12:06:05] DEBUG: At t=2.77e-11, last_dmdt=4.06e+03 * stopping_dmdt, next dt=6.57e-12.\n",
      "[2016-06-24 12:06:11] DEBUG: At t=3.76e-11, last_dmdt=1.41e+03 * stopping_dmdt, next dt=9.85e-12.\n",
      "[2016-06-24 12:06:19] DEBUG: At t=5.23e-11, last_dmdt=841 * stopping_dmdt, next dt=1.48e-11.\n",
      "[2016-06-24 12:06:26] DEBUG: At t=7.45e-11, last_dmdt=926 * stopping_dmdt, next dt=2.22e-11.\n",
      "[2016-06-24 12:06:31] DEBUG: At t=9.67e-11, last_dmdt=1.73e+03 * stopping_dmdt, next dt=2.22e-11.\n",
      "[2016-06-24 12:06:36] DEBUG: At t=1.19e-10, last_dmdt=2.1e+03 * stopping_dmdt, next dt=2.22e-11.\n",
      "[2016-06-24 12:06:40] DEBUG: At t=1.41e-10, last_dmdt=2.45e+03 * stopping_dmdt, next dt=2.22e-11.\n",
      "[2016-06-24 12:06:47] DEBUG: At t=1.63e-10, last_dmdt=1.99e+03 * stopping_dmdt, next dt=2.22e-11.\n",
      "[2016-06-24 12:07:00] DEBUG: At t=1.96e-10, last_dmdt=1.58e+03 * stopping_dmdt, next dt=3.33e-11.\n",
      "[2016-06-24 12:07:16] DEBUG: At t=2.46e-10, last_dmdt=834 * stopping_dmdt, next dt=4.99e-11.\n",
      "[2016-06-24 12:07:32] DEBUG: At t=3.21e-10, last_dmdt=285 * stopping_dmdt, next dt=7.48e-11.\n",
      "[2016-06-24 12:07:51] DEBUG: At t=4.21e-10, last_dmdt=93.6 * stopping_dmdt, next dt=1e-10.\n",
      "[2016-06-24 12:08:09] DEBUG: At t=5.21e-10, last_dmdt=44.1 * stopping_dmdt, next dt=1e-10.\n",
      "[2016-06-24 12:08:31] DEBUG: At t=6.21e-10, last_dmdt=16.5 * stopping_dmdt, next dt=1e-10.\n",
      "[2016-06-24 12:08:50] DEBUG: At t=7.21e-10, last_dmdt=7.37 * stopping_dmdt, next dt=1e-10.\n",
      "[2016-06-24 12:09:11] DEBUG: At t=8.21e-10, last_dmdt=2.76 * stopping_dmdt, next dt=1e-10.\n",
      "[2016-06-24 12:09:30] DEBUG: At t=9.21e-10, last_dmdt=1.16 * stopping_dmdt, next dt=1e-10.\n",
      "[2016-06-24 12:09:49] DEBUG: Stopping integration at t=1.02e-09, with dmdt=1.07e+07, smaller than threshold=1.75e+07.\n",
      "[2016-06-24 12:09:49] DEBUG: Re-initialising CVODE integrator.\n",
      "[2016-06-24 12:09:49] DEBUG: Re-initialising CVODE integrator.\n",
      "[2016-06-24 12:09:49] INFO: Relaxation finished at time t = 1e-09.\n"
     ]
    }
   ],
   "source": [
    "sim.reset_time(0)\n",
    "sim.relax()"
   ]
  },
  {
   "cell_type": "markdown",
   "metadata": {},
   "source": [
    "We save the pvd file and open it with Paraview."
   ]
  },
  {
   "cell_type": "code",
   "execution_count": 15,
   "metadata": {
    "collapsed": false
   },
   "outputs": [
    {
     "name": "stderr",
     "output_type": "stream",
     "text": [
      "[2016-06-24 12:17:36] WARNING: Removing file 'relaxed_state2.pvd' and all associated .vtu files (because overwrite=True).\n",
      "[2016-06-24 12:17:36] DEBUG: Saved field at t=1.02113763469e-09 to file 'relaxed_state2.pvd' (snapshot #0; saving took 0.151 seconds).\n"
     ]
    }
   ],
   "source": [
    "sim.save_vtk('relaxed_state2.pvd', overwrite=True)"
   ]
  },
  {
   "cell_type": "markdown",
   "metadata": {},
   "source": [
    "Now, we obtained the BPDW!"
   ]
  },
  {
   "cell_type": "markdown",
   "metadata": {},
   "source": [
    "We can plot the domain wall profile by sampling the magnetisation along the nanowire centre (0, 0, z)."
   ]
  },
  {
   "cell_type": "code",
   "execution_count": 17,
   "metadata": {
    "collapsed": false
   },
   "outputs": [
    {
     "data": {
      "image/png": "[encoded data removed]",
      "text/plain": [
       "<matplotlib.figure.Figure at 0x7f945a6cdcd0>"
      ]
     },
     "metadata": {},
     "output_type": "display_data"
    }
   ],
   "source": [
    "def dw_profile():\n",
    "    z_array = np.linspace(0, L, 200)\n",
    "    mx = []\n",
    "    my = []\n",
    "    mz = []\n",
    "    for z in z_array:\n",
    "        point = (0, 0, z)\n",
    "        m = sim.llg.m_field.f(point)\n",
    "        mx.append(m[0])\n",
    "        my.append(m[1])\n",
    "        mz.append(m[2])\n",
    "  \n",
    "    return z_array, mx, my, mz\n",
    "    \n",
    "z_array, mx, my, mz = dw_profile()\n",
    "\n",
    "\n",
    "# Plot the profile.\n",
    "import matplotlib.pyplot as plt\n",
    "%matplotlib inline\n",
    "\n",
    "plt.figure(figsize=(12, 6))\n",
    "plt.plot(z_array, mx, label='mx')\n",
    "plt.plot(z_array, my, label='my')\n",
    "plt.plot(z_array, mz, label='mz')\n",
    "plt.legend()\n",
    "plt.grid()\n",
    "plt.show()"
   ]
  },
  {
   "cell_type": "markdown",
   "metadata": {},
   "source": [
    "By analysing this profile, we can coclude that the domain wall position can be defined as a z coorindte where $m_{z}\\approx0$."
   ]
  },
  {
   "cell_type": "code",
   "execution_count": 18,
   "metadata": {
    "collapsed": false
   },
   "outputs": [
    {
     "data": {
      "text/plain": [
       "512.56281407035181"
      ]
     },
     "execution_count": 18,
     "metadata": {},
     "output_type": "execute_result"
    }
   ],
   "source": [
    "def dw_position(z_array, mz):\n",
    "    return z_array[np.where(np.abs(mz)==np.abs(mz).min())[0]][0]\n",
    "\n",
    "dw_position(z_array, mz)"
   ]
  },
  {
   "cell_type": "markdown",
   "metadata": {},
   "source": [
    "Accordingly, the domain wall position is at $z=512.56 \\,\\text{nm}$."
   ]
  },
  {
   "cell_type": "markdown",
   "metadata": {},
   "source": [
    "## Moving domain wall using external field"
   ]
  },
  {
   "cell_type": "markdown",
   "metadata": {},
   "source": [
    "We can now apply an external magnetic field, apply it along the nanowire and track how the domain wall moves. Let's apply B=100 mT field in the (0, 0, 1) direction. Accordingly, the field is:"
   ]
  },
  {
   "cell_type": "code",
   "execution_count": 19,
   "metadata": {
    "collapsed": false
   },
   "outputs": [
    {
     "name": "stderr",
     "output_type": "stream",
     "text": [
      "[2016-06-24 12:30:43] DEBUG: Adding interaction Zeeman to simulation.\n"
     ]
    }
   ],
   "source": [
    "B = 100e-3  # (T)\n",
    "H = (0, 0, B/mu0)\n",
    "\n",
    "from finmag.energies import Zeeman\n",
    "sim.add(Zeeman(H))"
   ]
  },
  {
   "cell_type": "markdown",
   "metadata": {},
   "source": [
    "Now, we will run the time evolution and record the magnetisation every $20 \\,\\text{ps}$ for $0.2 \\,\\text{ns}$."
   ]
  },
  {
   "cell_type": "code",
   "execution_count": 20,
   "metadata": {
    "collapsed": false
   },
   "outputs": [
    {
     "name": "stderr",
     "output_type": "stream",
     "text": [
      "[2016-06-24 12:33:21] INFO: Creating integrator with backend sundials and arguments {'t0': 0}.\n",
      "[2016-06-24 12:33:21] INFO: Simulation will run until t = 0 s.\n",
      "[2016-06-24 12:33:21] INFO: Simulation has reached time t = 0 s.\n",
      "[2016-06-24 12:33:21] INFO: Simulation will run until t = 2e-11 s.\n",
      "[2016-06-24 12:33:37] INFO: Simulation has reached time t = 2e-11 s.\n",
      "[2016-06-24 12:33:37] INFO: Simulation will run until t = 4e-11 s.\n",
      "[2016-06-24 12:33:45] INFO: Simulation has reached time t = 4e-11 s.\n",
      "[2016-06-24 12:33:45] INFO: Simulation will run until t = 6e-11 s.\n",
      "[2016-06-24 12:33:58] INFO: Simulation has reached time t = 6e-11 s.\n",
      "[2016-06-24 12:33:58] INFO: Simulation will run until t = 8e-11 s.\n",
      "[2016-06-24 12:34:14] INFO: Simulation has reached time t = 8e-11 s.\n",
      "[2016-06-24 12:34:14] INFO: Simulation will run until t = 1e-10 s.\n",
      "[2016-06-24 12:34:30] INFO: Simulation has reached time t = 1e-10 s.\n",
      "[2016-06-24 12:34:30] INFO: Simulation will run until t = 1.2e-10 s.\n",
      "[2016-06-24 12:34:46] INFO: Simulation has reached time t = 1.2e-10 s.\n",
      "[2016-06-24 12:34:46] INFO: Simulation will run until t = 1.4e-10 s.\n",
      "[2016-06-24 12:35:01] INFO: Simulation has reached time t = 1.4e-10 s.\n",
      "[2016-06-24 12:35:01] INFO: Simulation will run until t = 1.6e-10 s.\n",
      "[2016-06-24 12:35:15] INFO: Simulation has reached time t = 1.6e-10 s.\n",
      "[2016-06-24 12:35:15] INFO: Simulation will run until t = 1.8e-10 s.\n",
      "[2016-06-24 12:35:28] INFO: Simulation has reached time t = 1.8e-10 s.\n",
      "[2016-06-24 12:35:28] INFO: Simulation will run until t = 2e-10 s.\n",
      "[2016-06-24 12:35:43] INFO: Simulation has reached time t = 2e-10 s.\n"
     ]
    }
   ],
   "source": [
    "T = 0.2e-9\n",
    "dt = 20e-12\n",
    "\n",
    "dw = []\n",
    "t_array = np.arange(0, T, dt)\n",
    "sim.reset_time(0)\n",
    "for t in t_array:\n",
    "    sim.run_until(t)\n",
    "    z_array, mx, my, mz = dw_profile()\n",
    "    dw.append(dw_position(z_array, mz))"
   ]
  },
  {
   "cell_type": "code",
   "execution_count": 21,
   "metadata": {
    "collapsed": false
   },
   "outputs": [
    {
     "data": {
      "image/png": "[encoded data removed]",
      "text/plain": [
       "<matplotlib.figure.Figure at 0x7f945d8d3f90>"
      ]
     },
     "metadata": {},
     "output_type": "display_data"
    }
   ],
   "source": [
    "plt.plot(t_array/1e-9, dw, 'o-')\n",
    "plt.xlabel('t (ns)')\n",
    "plt.ylabel('dw position (nm)')\n",
    "plt.grid()\n",
    "plt.show()"
   ]
  },
  {
   "cell_type": "markdown",
   "metadata": {
    "collapsed": true
   },
   "source": [
    "Domain wall velocity can now be extracted from the slope of the plot (first derivative)."
   ]
  },
  {
   "cell_type": "code",
   "execution_count": 22,
   "metadata": {
    "collapsed": false
   },
   "outputs": [
    {
     "data": {
      "image/png": "[encoded data removed]",
      "text/plain": [
       "<matplotlib.figure.Figure at 0x7f947aeb0590>"
      ]
     },
     "metadata": {},
     "output_type": "display_data"
    }
   ],
   "source": [
    "velocity = []\n",
    "for i in range(len(dw)-1):\n",
    "    v = (dw[i+1] - dw[i])*1e-9 / dt\n",
    "    velocity.append(v)\n",
    "\n",
    "plt.plot(t_array[0:-1]/1e-9, velocity, 'o-')\n",
    "plt.xlabel('t (ns)')\n",
    "plt.ylabel('velocity (m/s)')\n",
    "plt.grid()\n",
    "plt.show()"
   ]
  },
  {
   "cell_type": "code",
   "execution_count": null,
   "metadata": {
    "collapsed": true
   },
   "outputs": [],
   "source": []
  }
 ],
 "metadata": {
  "kernelspec": {
   "display_name": "Python 2",
   "language": "python",
   "name": "python2"
  },
  "language_info": {
   "codemirror_mode": {
    "name": "ipython",
    "version": 2
   },
   "file_extension": ".py",
   "mimetype": "text/x-python",
   "name": "python",
   "nbconvert_exporter": "python",
   "pygments_lexer": "ipython2",
   "version": "2.7.6"
  }
 },
 "nbformat": 4,
 "nbformat_minor": 0
}
