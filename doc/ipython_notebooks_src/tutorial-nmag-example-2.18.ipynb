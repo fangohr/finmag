{
 "cells": [
  {
   "cell_type": "markdown",
   "metadata": {},
   "source": [
    "# Nmag example 2.18"
   ]
  },
  {
   "cell_type": "markdown",
   "metadata": {},
   "source": [
    "This notebook follows example 2.18 in the Nmag tutorial: http://nmag.soton.ac.uk/nmag/current/manual/singlehtml/manual.html#document-example_2Dperiodicity/doc"
   ]
  },
  {
   "cell_type": "code",
   "execution_count": 1,
   "metadata": {
    "collapsed": false
   },
   "outputs": [
    {
     "name": "stderr",
     "output_type": "stream",
     "text": [
      "[2014-09-12 14:43:02] INFO: Finmag logging output will be appended to file: '/home/mb4e10/.finmag/global.log'\n",
      "[2014-09-12 14:43:02] DEBUG: Building modules in 'native'...\n",
      "[2014-09-12 14:43:03] DEBUG: FinMag          5437:fec84699273758d1c95aacbb1c8e304bb2b106bd\n",
      "[2014-09-12 14:43:03] DEBUG: Dolfin          1.4.0                Matplotlib      1.3.1               \n",
      "[2014-09-12 14:43:03] DEBUG: Numpy           1.8.1                Scipy           0.14.0              \n",
      "[2014-09-12 14:43:03] DEBUG: IPython         2.1.0                Python          2.7.6               \n",
      "[2014-09-12 14:43:03] DEBUG: Paraview        4.0.1-1ubuntu1       Sundials        2.5.0               \n",
      "[2014-09-12 14:43:03] DEBUG: Boost-Python    <unknown>            Linux           Ubuntu 14.04.1 LTS  \n",
      "[2014-09-12 14:43:03] DEBUG: Registering debug signal handler. Press Ctrl-Z at any time to stop execution and jump into the debugger.\n"
     ]
    }
   ],
   "source": [
    "import dolfin as df\n",
    "from finmag import Simulation as Sim\n",
    "from finmag import sim_with\n",
    "from finmag.energies import Exchange, Demag\n",
    "from finmag.energies.demag import FKDemag\n",
    "import finmag\n",
    "finmag.set_logging_level('INFO')\n",
    "%matplotlib inline"
   ]
  },
  {
   "cell_type": "markdown",
   "metadata": {},
   "source": [
    "The mesh used in simulation is a box with edge lengths $a$, $b$, and $c$. The distance between vertices along all edges is $l_\\text{max} = 3 \\,\\text{nm}$."
   ]
  },
  {
   "cell_type": "code",
   "execution_count": 2,
   "metadata": {
    "collapsed": false
   },
   "outputs": [],
   "source": [
    "# edge lengths (m)\n",
    "a = 30\n",
    "b = 10\n",
    "c = 10\n",
    "lmax = 3\n",
    "\n",
    "mesh = df.BoxMesh(0, 0, 0, a, b, c, a/lmax, b/lmax, c/lmax)"
   ]
  },
  {
   "cell_type": "markdown",
   "metadata": {},
   "source": [
    "The used material is Permalloy with the following parameters (saturation magnetsiation $M_\\text{s}$, exchange constant $A$, and Gilbert damping $\\alpha$):\n",
    "$$M_\\text{s} = 10^6 \\text{A/m}$$\n",
    "$$A = 13 \\times 10^{-12} \\text{J/m}$$\n",
    "$$\\alpha = 0.02$$"
   ]
  },
  {
   "cell_type": "code",
   "execution_count": 3,
   "metadata": {
    "collapsed": false
   },
   "outputs": [],
   "source": [
    "Ms = 1e6  # magnetisation saturation (A/m)\n",
    "A = 13e-12  # exchange stiffness (J/m)\n",
    "alpha = 0.02  # Gilbert damping"
   ]
  },
  {
   "cell_type": "markdown",
   "metadata": {},
   "source": [
    "Now, the simulation object is created and both exchange and demagnetisation energies are added. The initial magnetisation is set uniform along the (1, 1, 1) direction."
   ]
  },
  {
   "cell_type": "code",
   "execution_count": 4,
   "metadata": {
    "collapsed": false
   },
   "outputs": [
    {
     "name": "stderr",
     "output_type": "stream",
     "text": [
      "[2014-09-12 14:43:09] INFO: Finmag logging output will be written to file: '/home/mb4e10/finmag/doc/ipython_notebooks_src/unnamed.log' (any old content will be overwritten).\n",
      "[2014-09-12 14:43:09] INFO: Creating Sim object 'unnamed' (rank=0/1).\n",
      "[2014-09-12 14:43:09] INFO: <Mesh of topological dimension 3 (tetrahedra) with 176 vertices and 540 cells, ordered>\n",
      "[2014-09-12 14:43:10] INFO: Create integrator sundials with kwargs={}\n",
      "[2014-09-12 14:43:10] INFO: Simulation will run until relaxation of the magnetisation.\n",
      "[2014-09-12 14:43:13] INFO: Relaxation finished at time t = 4.4e-10.\n"
     ]
    }
   ],
   "source": [
    "sim = Sim(mesh, Ms, unit_length=1e-9)\n",
    "\n",
    "sim.add(Exchange(A))\n",
    "sim.add(Demag())\n",
    "sim.set_m((1, 1, 1))\n",
    "#sim_with(mesh, Ms=Ms, m_init=(1, 1, 1), alpha=alpha, A=A, unit_length=1e-9, name='rod')\n",
    "sim.schedule('save_ndt', every=5e-12)\n",
    "sim.relax()"
   ]
  },
  {
   "cell_type": "markdown",
   "metadata": {},
   "source": [
    "The magnetisation is plotted."
   ]
  },
  {
   "cell_type": "code",
   "execution_count": 5,
   "metadata": {
    "collapsed": false
   },
   "outputs": [
    {
     "name": "stderr",
     "output_type": "stream",
     "text": [
      "/usr/lib/pymodules/python2.7/matplotlib/figure.py:1595: UserWarning: This figure includes Axes that are not compatible with tight_layout, so its results might be incorrect.\n",
      "  warnings.warn(\"This figure includes Axes that are not \"\n"
     ]
    },
    {
     "data": {
      "image/png": "[encoded data removed]",
      "text/plain": [
       "<matplotlib.figure.Figure at 0x7f571e786fd0>"
      ]
     },
     "metadata": {},
     "output_type": "display_data"
    }
   ],
   "source": [
    "_ = sim.plot_dynamics(style='-x')"
   ]
  },
  {
   "cell_type": "markdown",
   "metadata": {},
   "source": [
    "## 2D periodicity"
   ]
  },
  {
   "cell_type": "markdown",
   "metadata": {},
   "source": [
    "Now, the same simulation is repeated, but with two dimensional periodicity."
   ]
  },
  {
   "cell_type": "code",
   "execution_count": 6,
   "metadata": {
    "collapsed": false
   },
   "outputs": [],
   "source": [
    "finmag.set_logging_level('DEBUG')"
   ]
  },
  {
   "cell_type": "code",
   "execution_count": 7,
   "metadata": {
    "collapsed": false
   },
   "outputs": [
    {
     "name": "stderr",
     "output_type": "stream",
     "text": [
      "[2014-09-12 14:43:20] INFO: Finmag logging output will be written to file: '/home/mb4e10/finmag/doc/ipython_notebooks_src/rod_periodic.log' (any old content will be overwritten).\n",
      "[2014-09-12 14:43:20] DEBUG: Creating DataWriter for file 'rod_periodic.ndt'\n",
      "[2014-09-12 14:43:20] INFO: Creating Sim object 'rod_periodic' (rank=0/1).\n",
      "[2014-09-12 14:43:20] INFO: <Mesh of topological dimension 3 (tetrahedra) with 176 vertices and 540 cells, ordered>\n",
      "[2014-09-12 14:43:20] DEBUG: Setting 2d periodic boundary conditions (in the xy-plane).\n",
      "[2014-09-12 14:43:20] DEBUG: Creating LLG object.\n",
      "[2014-09-12 14:43:20] DEBUG: Creating Exchange object with method box-matrix-petsc,  in Jacobian.\n",
      "[2014-09-12 14:43:20] DEBUG: Adding interaction Exchange to simulation.\n",
      "[2014-09-12 14:43:20] DEBUG: Creating Demag object with solver 'FK'.\n",
      "[2014-09-12 14:43:20] DEBUG: Demag parameters now: {'phi_1': {'absolute_tolerance': 1e-06, 'relative_tolerance': 1e-06, 'maximum_iterations': 10000}, 'phi_2': {'absolute_tolerance': 1e-06, 'relative_tolerance': 1e-06, 'maximum_iterations': 10000}, 'phi_2_solver': 'default', 'phi_2_preconditioner': 'default', 'phi_1_preconditioner': 'default', 'phi_1_solver': 'default'}\n",
      "[2014-09-12 14:43:20] DEBUG: Adding interaction Demag to simulation.\n",
      "[2014-09-12 14:43:20] DEBUG: Using Krylov solver for demag.\n",
      "[2014-09-12 14:43:20] DEBUG: Creating macro-geometry with demag 11 x 41 tiles (dxdy: 30.0 x 10.0)\n",
      "[2014-09-12 14:43:27] DEBUG: Boundary element matrix uses 0.15 MB of memory.\n",
      "[2014-09-12 14:43:27] DEBUG: Successfully created simulation 'rod_periodic'\n"
     ]
    },
    {
     "data": {
      "text/plain": [
       "<finmag.scheduler.derivedevents.RepeatingTimeEvent at 0x7f571cec6e90>"
      ]
     },
     "execution_count": 7,
     "metadata": {},
     "output_type": "execute_result"
    }
   ],
   "source": [
    "sim2 = sim_with(mesh, Ms=Ms, m_init=[1, 1, 1], alpha=0.5, A=A,\n",
    "                unit_length=1e-9, nx=11, ny=41, pbc='2d', name='rod_periodic')\n",
    "sim2.schedule('save_ndt', every=5e-12)"
   ]
  },
  {
   "cell_type": "code",
   "execution_count": 8,
   "metadata": {
    "collapsed": false
   },
   "outputs": [],
   "source": [
    "finmag.set_logging_level('INFO')"
   ]
  },
  {
   "cell_type": "code",
   "execution_count": 9,
   "metadata": {
    "collapsed": false
   },
   "outputs": [
    {
     "name": "stderr",
     "output_type": "stream",
     "text": [
      "[2014-09-12 14:43:29] INFO: Create integrator sundials with kwargs={}\n",
      "[2014-09-12 14:43:29] INFO: Simulation will run until relaxation of the magnetisation.\n",
      "[2014-09-12 14:43:42] INFO: Relaxation finished at time t = 2.4e-09.\n"
     ]
    }
   ],
   "source": [
    "sim2.relax()"
   ]
  },
  {
   "cell_type": "code",
   "execution_count": 10,
   "metadata": {
    "collapsed": false
   },
   "outputs": [
    {
     "data": {
      "image/png": "[encoded data removed]",
      "text/plain": [
       "<matplotlib.figure.Figure at 0x7f571c628050>"
      ]
     },
     "metadata": {},
     "output_type": "display_data"
    }
   ],
   "source": [
    "_ = sim2.plot_dynamics(style='-x')"
   ]
  }
 ],
 "metadata": {
  "kernelspec": {
   "display_name": "Python 2",
   "language": "python",
   "name": "python2"
  },
  "language_info": {
   "codemirror_mode": {
    "name": "ipython",
    "version": 2
   },
   "file_extension": ".py",
   "mimetype": "text/x-python",
   "name": "python",
   "nbconvert_exporter": "python",
   "pygments_lexer": "ipython2",
   "version": "2.7.6"
  }
 },
 "nbformat": 4,
 "nbformat_minor": 0
}
