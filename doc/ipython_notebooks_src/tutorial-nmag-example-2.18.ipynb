{
 "metadata": {
  "name": "",
  "signature": "sha256:1c422edba2a1d8ac4557bc565b810f7f3b713eddefb7811821cef2a07080cdf8"
 },
 "nbformat": 3,
 "nbformat_minor": 0,
 "worksheets": [
  {
   "cells": [
    {
     "cell_type": "heading",
     "level": 1,
     "metadata": {},
     "source": [
      "Nmag example 2.18"
     ]
    },
    {
     "cell_type": "markdown",
     "metadata": {},
     "source": [
      "This notebook follows example 2.18 in the Nmag tutorial: http://nmag.soton.ac.uk/nmag/current/manual/singlehtml/manual.html#document-example_2Dperiodicity/doc"
     ]
    },
    {
     "cell_type": "code",
     "collapsed": false,
     "input": [
      "import dolfin as df\n",
      "from finmag import Simulation as Sim\n",
      "from finmag import sim_with\n",
      "from finmag.energies import Exchange, Demag\n",
      "from finmag.energies.demag import FKDemag\n",
      "import finmag\n",
      "finmag.set_logging_level('INFO')\n",
      "%matplotlib inline"
     ],
     "language": "python",
     "metadata": {},
     "outputs": [],
     "prompt_number": 30
    },
    {
     "cell_type": "markdown",
     "metadata": {},
     "source": [
      "The mesh used in simulation is a box with edge lengths $a$, $b$, and $c$. The distance between vertices along all edges is $l_\\text{max} = 3 \\,\\text{nm}$."
     ]
    },
    {
     "cell_type": "code",
     "collapsed": false,
     "input": [
      "# edge lengths (m)\n",
      "a = 30\n",
      "b = 10\n",
      "c = 10\n",
      "lmax = 3\n",
      "\n",
      "mesh = df.BoxMesh(0, 0, 0, a, b, c, a/lmax, b/lmax, c/lmax)"
     ],
     "language": "python",
     "metadata": {},
     "outputs": [],
     "prompt_number": 31
    },
    {
     "cell_type": "markdown",
     "metadata": {},
     "source": [
      "The used material is Permalloy with the following parameters (saturation magnetsiation $M_\\text{s}$, exchange constant $A$, and Gilbert damping $\\alpha$):\n",
      "$$M_\\text{s} = 10^6 \\text{A/m}$$\n",
      "$$A = 13 \\times 10^{-12} \\text{J/m}$$\n",
      "$$\\alpha = 0.02$$"
     ]
    },
    {
     "cell_type": "code",
     "collapsed": false,
     "input": [
      "Ms = 1e6  # magnetisation saturation (A/m)\n",
      "A = 13e-12  # exchange stiffness (J/m)\n",
      "alpha = 0.02  # Gilbert damping"
     ],
     "language": "python",
     "metadata": {},
     "outputs": [],
     "prompt_number": 32
    },
    {
     "cell_type": "markdown",
     "metadata": {},
     "source": [
      "Now, the simulation object is created and both exchange and demagnetisation energies are added. The initial magnetisation is set uniform along the (1, 1, 1) direction."
     ]
    },
    {
     "cell_type": "code",
     "collapsed": false,
     "input": [
      "sim = Sim(mesh, Ms, unit_length=1e-9)\n",
      "\n",
      "sim.add(Exchange(A))\n",
      "sim.add(Demag())\n",
      "sim.set_m((1, 1, 1))\n",
      "#sim_with(mesh, Ms=Ms, m_init=(1, 1, 1), alpha=alpha, A=A, unit_length=1e-9, name='rod')\n",
      "sim.schedule('save_ndt', every=5e-12)\n",
      "sim.relax()"
     ],
     "language": "python",
     "metadata": {},
     "outputs": [
      {
       "output_type": "stream",
       "stream": "stderr",
       "text": [
        "[2014-06-20 17:38:13] INFO: Finmag logging output will be written to file: '/home/ww1g11/Softwares/finmag/doc/ipython_notebooks_src/unnamed.log' (any old content will be overwritten).\n"
       ]
      },
      {
       "output_type": "stream",
       "stream": "stderr",
       "text": [
        "[2014-06-20 17:38:13] INFO: Creating Sim object 'unnamed' (rank=0/1).\n"
       ]
      },
      {
       "output_type": "stream",
       "stream": "stderr",
       "text": [
        "[2014-06-20 17:38:13] INFO: <Mesh of topological dimension 3 (tetrahedra) with 176 vertices and 540 cells, ordered>\n"
       ]
      },
      {
       "output_type": "stream",
       "stream": "stderr",
       "text": [
        "[2014-06-20 17:38:13] INFO: Create integrator sundials with kwargs={}\n"
       ]
      },
      {
       "output_type": "stream",
       "stream": "stderr",
       "text": [
        "[2014-06-20 17:38:13] INFO: Simulation will run until relaxation of the magnetisation.\n"
       ]
      },
      {
       "output_type": "stream",
       "stream": "stderr",
       "text": [
        "[2014-06-20 17:38:15] INFO: Relaxation finished at time t = 4.4e-10.\n"
       ]
      }
     ],
     "prompt_number": 33
    },
    {
     "cell_type": "markdown",
     "metadata": {},
     "source": [
      "The magnetisation is plotted."
     ]
    },
    {
     "cell_type": "code",
     "collapsed": false,
     "input": [
      "_ = sim.plot_dynamics(style='-x')"
     ],
     "language": "python",
     "metadata": {},
     "outputs": [
      {
       "metadata": {},
       "output_type": "display_data",
       "png": "[encoded data removed]",
       "text": [
        "<matplotlib.figure.Figure at 0x5cfe190>"
       ]
      }
     ],
     "prompt_number": 34
    },
    {
     "cell_type": "markdown",
     "metadata": {},
     "source": [
      "## 2D periodicity"
     ]
    },
    {
     "cell_type": "markdown",
     "metadata": {},
     "source": [
      "Now, the same simulation is repeated, but with two dimensional periodicity."
     ]
    },
    {
     "cell_type": "code",
     "collapsed": false,
     "input": [
      "finmag.set_logging_level('DEBUG')"
     ],
     "language": "python",
     "metadata": {},
     "outputs": [],
     "prompt_number": 35
    },
    {
     "cell_type": "code",
     "collapsed": false,
     "input": [
      "sim2 = sim_with(mesh, Ms=Ms, m_init=[1, 1, 1], alpha=0.5, A=A,\n",
      "                unit_length=1e-9, nx=11, ny=41, pbc='2d', name='rod_periodic')\n",
      "sim2.schedule('save_ndt', every=5e-12)"
     ],
     "language": "python",
     "metadata": {},
     "outputs": [
      {
       "output_type": "stream",
       "stream": "stderr",
       "text": [
        "[2014-06-20 17:38:15] INFO: Finmag logging output will be written to file: '/home/ww1g11/Softwares/finmag/doc/ipython_notebooks_src/rod_periodic.log' (any old content will be overwritten).\n"
       ]
      },
      {
       "output_type": "stream",
       "stream": "stderr",
       "text": [
        "[2014-06-20 17:38:15] DEBUG: Creating DataWriter for file 'rod_periodic.ndt'\n"
       ]
      },
      {
       "output_type": "stream",
       "stream": "stderr",
       "text": [
        "[2014-06-20 17:38:15] INFO: Creating Sim object 'rod_periodic' (rank=0/1).\n"
       ]
      },
      {
       "output_type": "stream",
       "stream": "stderr",
       "text": [
        "[2014-06-20 17:38:15] INFO: <Mesh of topological dimension 3 (tetrahedra) with 176 vertices and 540 cells, ordered>\n"
       ]
      },
      {
       "output_type": "stream",
       "stream": "stderr",
       "text": [
        "[2014-06-20 17:38:15] DEBUG: Setting 2d periodic boundary conditions (in the xy-plane).\n"
       ]
      },
      {
       "output_type": "stream",
       "stream": "stderr",
       "text": [
        "[2014-06-20 17:38:15] DEBUG: Creating LLG object.\n"
       ]
      },
      {
       "output_type": "stream",
       "stream": "stderr",
       "text": [
        "[2014-06-20 17:38:15] DEBUG: Creating Exchange object with method box-matrix-petsc, in Jacobian.\n"
       ]
      },
      {
       "output_type": "stream",
       "stream": "stderr",
       "text": [
        "[2014-06-20 17:38:15] DEBUG: Adding interaction Exchange to simulation.\n"
       ]
      },
      {
       "output_type": "stream",
       "stream": "stderr",
       "text": [
        "[2014-06-20 17:38:15] DEBUG: Creating Demag object with solver 'FK'.\n"
       ]
      },
      {
       "output_type": "stream",
       "stream": "stderr",
       "text": [
        "[2014-06-20 17:38:15] DEBUG: Adding interaction Demag to simulation.\n"
       ]
      },
      {
       "output_type": "stream",
       "stream": "stderr",
       "text": [
        "[2014-06-20 17:38:15] DEBUG: Creating macro-geometry with demag 11 x 41 tiles (dxdy: 30.0 x 10.0)\n"
       ]
      },
      {
       "output_type": "stream",
       "stream": "stderr",
       "text": [
        "[2014-06-20 17:38:16] DEBUG: Successfully created simulation 'rod_periodic'\n"
       ]
      },
      {
       "metadata": {},
       "output_type": "pyout",
       "prompt_number": 36,
       "text": [
        "<finmag.scheduler.derivedevents.RepeatingTimeEvent at 0x5d6d0d0>"
       ]
      }
     ],
     "prompt_number": 36
    },
    {
     "cell_type": "code",
     "collapsed": false,
     "input": [
      "finmag.set_logging_level('INFO')"
     ],
     "language": "python",
     "metadata": {},
     "outputs": [],
     "prompt_number": 37
    },
    {
     "cell_type": "code",
     "collapsed": false,
     "input": [
      "sim2.relax()"
     ],
     "language": "python",
     "metadata": {},
     "outputs": [
      {
       "output_type": "stream",
       "stream": "stderr",
       "text": [
        "[2014-06-20 17:38:17] INFO: Create integrator sundials with kwargs={}\n"
       ]
      },
      {
       "output_type": "stream",
       "stream": "stderr",
       "text": [
        "[2014-06-20 17:38:17] INFO: Simulation will run until relaxation of the magnetisation.\n"
       ]
      },
      {
       "output_type": "stream",
       "stream": "stderr",
       "text": [
        "[2014-06-20 17:38:29] INFO: Relaxation finished at time t = 2.4e-09.\n"
       ]
      }
     ],
     "prompt_number": 38
    },
    {
     "cell_type": "code",
     "collapsed": false,
     "input": [
      "_ = sim2.plot_dynamics(style='-x')"
     ],
     "language": "python",
     "metadata": {},
     "outputs": [
      {
       "metadata": {},
       "output_type": "display_data",
       "png": "[encoded data removed]",
       "text": [
        "<matplotlib.figure.Figure at 0x5ca6750>"
       ]
      }
     ],
     "prompt_number": 39
    },
    {
     "cell_type": "code",
     "collapsed": false,
     "input": [],
     "language": "python",
     "metadata": {},
     "outputs": [],
     "prompt_number": 39
    }
   ],
   "metadata": {}
  }
 ]
}