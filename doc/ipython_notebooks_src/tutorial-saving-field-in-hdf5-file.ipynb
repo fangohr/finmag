{
 "cells": [
  {
   "cell_type": "markdown",
   "metadata": {},
   "source": [
    "# Saving field data to hdf5 files"
   ]
  },
  {
   "cell_type": "code",
   "execution_count": 21,
   "metadata": {
    "collapsed": false
   },
   "outputs": [],
   "source": [
    "import dolfin as df\n",
    "from finmag import Simulation as Sim\n",
    "from finmag.energies import Exchange, Zeeman\n",
    "from finmag.util.consts import mu0"
   ]
  },
  {
   "cell_type": "markdown",
   "metadata": {},
   "source": [
    "First, we create the simulation object and initialise the magnetisation:"
   ]
  },
  {
   "cell_type": "code",
   "execution_count": 22,
   "metadata": {
    "collapsed": false
   },
   "outputs": [
    {
     "name": "stderr",
     "output_type": "stream",
     "text": [
      "[2015-10-02 13:23:10] INFO: Finmag logging output will be written to file: '/home/mb4e10/finmag/doc/ipython_notebooks_src/unnamed.log' (any old content will be overwritten).\n",
      "[2015-10-02 13:23:10] DEBUG: Creating DataWriter for file 'unnamed.ndt'\n",
      "[2015-10-02 13:23:10] INFO: Creating Sim object name='unnamed', instance_id=8 (rank=0/1).\n",
      "[2015-10-02 13:23:10] DEBUG:    Total number of Sim objects in this session: 9\n",
      "[2015-10-02 13:23:10] INFO: <Mesh of topological dimension 2 (triangles) with 121 vertices and 200 cells, ordered>\n",
      "[2015-10-02 13:23:10] DEBUG: Creating LLG object.\n",
      "[2015-10-02 13:23:10] DEBUG: Creating Exchange object with method box-matrix-petsc, in Jacobian.\n",
      "[2015-10-02 13:23:10] DEBUG: Adding interaction Exchange to simulation.\n",
      "[2015-10-02 13:23:10] DEBUG: Adding interaction Zeeman to simulation.\n"
     ]
    }
   ],
   "source": [
    "mesh = df.RectangleMesh(df.Point(0, 0), df.Point(100, 100), 10, 10)\n",
    "\n",
    "Ms = 1e6\n",
    "A = 1e-11\n",
    "\n",
    "sim = Sim(mesh, Ms, unit_length=1e-9)\n",
    "\n",
    "sim.add(Exchange(A))\n",
    "sim.add(Zeeman((0, 0, 0.1/mu0)))\n",
    "sim.set_m((1, 0, 0))"
   ]
  },
  {
   "cell_type": "markdown",
   "metadata": {},
   "source": [
    "## Saving field"
   ]
  },
  {
   "cell_type": "markdown",
   "metadata": {
    "collapsed": true
   },
   "source": [
    "Now, we run the simulation in uniform timesteps ($\\Delta t = 20 \\,\\text{ps}$) for 0.5 ns and in every time step, we save the magnetisation field.\n",
    "\n",
    "In every step, we provide both the name and time at which the magnetisation is saved."
   ]
  },
  {
   "cell_type": "code",
   "execution_count": 23,
   "metadata": {
    "collapsed": false
   },
   "outputs": [
    {
     "name": "stderr",
     "output_type": "stream",
     "text": [
      "[2015-10-02 13:23:12] INFO: Simulation will run until t = 0 s.\n",
      "[2015-10-02 13:23:12] INFO: Creating integrator with backend sundials and arguments {'reltol': 1e-06, 'abstol': 1e-06}.\n",
      "[2015-10-02 13:23:12] DEBUG: Updating get method for steps in TableWriter(name=unnamed.ndt)\n",
      "[2015-10-02 13:23:12] DEBUG: Updating get method for last_step_dt in TableWriter(name=unnamed.ndt)\n",
      "[2015-10-02 13:23:12] DEBUG: Updating get method for dmdt in TableWriter(name=unnamed.ndt)\n",
      "[2015-10-02 13:23:12] INFO: Simulation has reached time t = 0 s.\n",
      "[2015-10-02 13:23:12] INFO: Simulation will run until t = 2e-12 s.\n",
      "[2015-10-02 13:23:12] INFO: Simulation has reached time t = 2e-12 s.\n",
      "[2015-10-02 13:23:12] INFO: Simulation will run until t = 4e-12 s.\n",
      "[2015-10-02 13:23:12] INFO: Simulation has reached time t = 4e-12 s.\n",
      "[2015-10-02 13:23:12] INFO: Simulation will run until t = 6e-12 s.\n",
      "[2015-10-02 13:23:12] INFO: Simulation has reached time t = 6e-12 s.\n",
      "[2015-10-02 13:23:12] INFO: Simulation will run until t = 8e-12 s.\n",
      "[2015-10-02 13:23:12] INFO: Simulation has reached time t = 8e-12 s.\n",
      "[2015-10-02 13:23:12] INFO: Simulation will run until t = 1e-11 s.\n",
      "[2015-10-02 13:23:12] INFO: Simulation has reached time t = 1e-11 s.\n"
     ]
    },
    {
     "name": "stdout",
     "output_type": "stream",
     "text": [
      "Debug: (0/1) opening file magnetisation.h5\n",
      "Debug: (0/1) writing json file magnetisation.json\n",
      "Debug: (0/1) writing json file magnetisation.json\n",
      "Debug: (0/1) writing json file magnetisation.json\n",
      "Debug: (0/1) writing json file magnetisation.json\n",
      "Debug: (0/1) writing json file magnetisation.json\n",
      "Debug: (0/1) writing json file magnetisation.json\n",
      "Debug: (0/1) writing json file magnetisation.json\n"
     ]
    }
   ],
   "source": [
    "import numpy as np\n",
    "\n",
    "filename = 'magnetisation'\n",
    "\n",
    "T = 0.01e-9\n",
    "dt = 2e-12\n",
    "\n",
    "t_array = np.arange(0, T+dt/2, dt)\n",
    "for t in t_array:\n",
    "    sim.run_until(t)\n",
    "    sim.llg.m_field.save_hdf5(filename, t=sim.t)"
   ]
  },
  {
   "cell_type": "markdown",
   "metadata": {},
   "source": [
    "We can now see that both h5 and json files are created."
   ]
  },
  {
   "cell_type": "code",
   "execution_count": 25,
   "metadata": {
    "collapsed": false
   },
   "outputs": [
    {
     "name": "stdout",
     "output_type": "stream",
     "text": [
      "magnetisation.json\n",
      "magnetisation.h5\n"
     ]
    }
   ],
   "source": [
    "!ls *.json\n",
    "!ls *.h5"
   ]
  },
  {
   "cell_type": "markdown",
   "metadata": {},
   "source": [
    "## Loading field"
   ]
  },
  {
   "cell_type": "markdown",
   "metadata": {},
   "source": [
    "The previously saved field can be loaded from the certain h5 file by providing its filename and time."
   ]
  },
  {
   "cell_type": "code",
   "execution_count": 26,
   "metadata": {
    "collapsed": true
   },
   "outputs": [],
   "source": [
    "loaded_field = sim.llg.m_field.load_hdf5(filename, 4e-12)"
   ]
  },
  {
   "cell_type": "markdown",
   "metadata": {},
   "source": [
    "Now, the elements from this array can be shown:"
   ]
  },
  {
   "cell_type": "code",
   "execution_count": 31,
   "metadata": {
    "collapsed": false
   },
   "outputs": [
    {
     "data": {
      "text/plain": [
       "array([ 0.72294017,  0.42182628, -0.59223996, -0.38197242,  0.61394026,\n",
       "        0.3532982 , -0.62971874, -0.3235068 ,  0.65529298,  0.29414287,\n",
       "       -0.50209312, -0.35089212,  0.41826458,  0.51057019, -0.44469894,\n",
       "       -0.49039961,  0.46868014,  0.47265406, -0.4900798 , -0.44979544,\n",
       "        0.51702303,  0.6189359 , -0.65575968, -0.53306943,  0.46384288,\n",
       "        0.51839873, -0.48643252, -0.50443341,  0.50438803,  0.49025671,\n",
       "       -0.52642727, -0.47707367,  0.3306934 ,  0.31930661, -0.46549863,\n",
       "       -0.51848402,  0.48158754,  0.50394088, -0.49599606, -0.49429373,\n",
       "        0.50820115,  0.48544717, -0.51442969, -0.68388004,  0.67697627,\n",
       "        0.51106036, -0.48083593, -0.50583814,  0.49261386,  0.50073673,\n",
       "       -0.50152701, -0.4976837 ,  0.51169743,  0.49896541, -0.29210569,\n",
       "       -0.29480439,  0.48701652,  0.50929208, -0.49284213, -0.50280036,\n",
       "        0.49763892,  0.50259729, -0.4996328 , -0.50431937,  0.49238904,\n",
       "        0.70153919, -0.68966667, -0.49634251,  0.49419845,  0.50081288,\n",
       "       -0.49724755, -0.50464991,  0.49682658,  0.51120016, -0.49686538,\n",
       "       -0.52111572,  0.26225059,  0.27413322, -0.50202133, -0.50072696,\n",
       "        0.49971602,  0.50341079, -0.49540765, -0.51217888,  0.48804679,\n",
       "        0.52319977, -0.46905788, -0.71734762,  0.70601032,  0.48247209,\n",
       "       -0.51025663, -0.49987193,  0.50356289,  0.5123199 , -0.49411426,\n",
       "       -0.5279274 ,  0.48297132,  0.5498937 , -0.22685844, -0.22606488,\n",
       "        0.50348111,  0.47090091, -0.4863319 , -0.48328643,  0.47379347,\n",
       "        0.49976338, -0.45853266, -0.5254606 ,  0.41880527,  0.73461623,\n",
       "       -0.59866958, -0.58569406,  0.36608752,  0.62766866, -0.34699235,\n",
       "       -0.63929435,  0.32614609,  0.65339295, -0.29428604, -0.68124826,\n",
       "        0.01966968,  0.01966994,  0.7346162 , -0.22685858, -0.71734685,\n",
       "        0.26225095,  0.70153887, -0.29210733, -0.68387974,  0.33069689,\n",
       "        0.6189338 , -0.50209512, -0.68124761,  0.41880582,  0.54989348,\n",
       "       -0.46905809, -0.52111568,  0.49238872,  0.49896458, -0.51443081,\n",
       "       -0.47707001,  0.51702282,  0.29414089, -0.29428563, -0.52546005,\n",
       "        0.48297147,  0.52319933, -0.49686493, -0.50431985,  0.51169686,\n",
       "        0.48544693, -0.52642664, -0.44979351,  0.65529452,  0.6533929 ,\n",
       "       -0.45853303, -0.52792765,  0.48804729,  0.51119997, -0.49963298,\n",
       "       -0.49768485,  0.50820084,  0.49025692, -0.49007869, -0.32350983,\n",
       "        0.32614704,  0.49976303, -0.49411481, -0.51218044,  0.49682546,\n",
       "        0.50259793, -0.50152705, -0.49429489,  0.50438709,  0.47265426,\n",
       "       -0.62971907, -0.63929443,  0.47379469,  0.51231894, -0.4954099 ,\n",
       "       -0.50464696,  0.49764075,  0.500737  , -0.49599635, -0.50443404,\n",
       "        0.46867877,  0.35329925, -0.3469946 , -0.4832856 ,  0.50356356,\n",
       "        0.50340931, -0.49724556, -0.50279898,  0.49261286,  0.50394089,\n",
       "       -0.48643192, -0.49039975,  0.61393972,  0.6276677 , -0.48633137,\n",
       "       -0.49987104,  0.49971557,  0.50081193, -0.49284272, -0.50584049,\n",
       "        0.48158737,  0.51839867, -0.44469878, -0.3819719 ,  0.36608402,\n",
       "        0.47090559, -0.51025418, -0.50072667,  0.4941981 ,  0.50929233,\n",
       "       -0.48083607, -0.51848435,  0.4638425 ,  0.51057059, -0.59223919,\n",
       "       -0.58569565,  0.50348192,  0.4824745 , -0.5020201 , -0.49634275,\n",
       "        0.48701693,  0.51106086, -0.46549854, -0.5330694 ,  0.41826433,\n",
       "        0.42182684, -0.59867204, -0.22606659,  0.70600979,  0.27413031,\n",
       "       -0.68966806, -0.29480494,  0.67697654,  0.31930743, -0.65575851,\n",
       "       -0.35089237,  0.72293959, -0.69063059,  0.53141474,  0.77316687,\n",
       "       -0.58267535, -0.74451447,  0.618889  ,  0.71981082, -0.65395096,\n",
       "       -0.67913966,  0.72828629,  0.70413279, -0.64247678, -0.80601267,\n",
       "        0.66101077,  0.76303824, -0.6985318 , -0.73341139,  0.72638315,\n",
       "        0.70369221, -0.7550419 , -0.68218369,  0.72828531,  0.6952519 ,\n",
       "       -0.66312044, -0.74268994,  0.67640611,  0.71868535, -0.70086263,\n",
       "       -0.69552788,  0.72387129,  0.66764461, -0.75504074, -0.67913987,\n",
       "        0.68638255,  0.75700627, -0.67265647, -0.72793082,  0.69621705,\n",
       "        0.71017941, -0.71272961, -0.69531539,  0.72387098,  0.7036938 ,\n",
       "       -0.65394914, -0.65979636,  0.69932412,  0.72432546, -0.69411741,\n",
       "       -0.71449007,  0.7047397 ,  0.70494062, -0.71272961, -0.69552815,\n",
       "        0.72638245,  0.7198112 , -0.71020631, -0.73371214,  0.69148455,\n",
       "        0.71531508, -0.7018    , -0.71042888,  0.70473996,  0.71017933,\n",
       "       -0.70086252, -0.73341205,  0.61888804,  0.63557425, -0.72116513,\n",
       "       -0.7086548 ,  0.70410619,  0.71097941, -0.70179887, -0.71448997,\n",
       "        0.6962169 ,  0.71868545, -0.69853167, -0.74451504,  0.72861803,\n",
       "        0.71516179, -0.70668341, -0.70750848,  0.7041058 ,  0.71531624,\n",
       "       -0.69411684, -0.72793128,  0.6764058 ,  0.76303846, -0.58267475,\n",
       "       -0.60624411,  0.73855846,  0.69229968, -0.70668299, -0.70865553,\n",
       "        0.69148365,  0.72432573, -0.67265641, -0.74269027,  0.66101028,\n",
       "        0.7731675 , -0.77836706, -0.70214865,  0.73855987,  0.7151623 ,\n",
       "       -0.7211644 , -0.73371265,  0.6993235 ,  0.75700654, -0.66312002,\n",
       "       -0.80601309,  0.53141426,  0.53215273, -0.77836776, -0.60624261,\n",
       "        0.7286183 ,  0.63557397, -0.71020616, -0.65979656,  0.68638212,\n",
       "        0.69525283, -0.64247595, -0.6906312 ])"
      ]
     },
     "execution_count": 31,
     "metadata": {},
     "output_type": "execute_result"
    }
   ],
   "source": [
    "loaded_field.vector().array()"
   ]
  }
 ],
 "metadata": {
  "kernelspec": {
   "display_name": "Python 2",
   "language": "python",
   "name": "python2"
  },
  "language_info": {
   "codemirror_mode": {
    "name": "ipython",
    "version": 2
   },
   "file_extension": ".py",
   "mimetype": "text/x-python",
   "name": "python",
   "nbconvert_exporter": "python",
   "pygments_lexer": "ipython2",
   "version": "2.7.6"
  }
 },
 "nbformat": 4,
 "nbformat_minor": 0
}
