{
 "cells": [
  {
   "cell_type": "markdown",
   "metadata": {},
   "source": [
    "# Saving field data to hdf5 files"
   ]
  },
  {
   "cell_type": "code",
   "execution_count": 1,
   "metadata": {
    "collapsed": false
   },
   "outputs": [
    {
     "name": "stderr",
     "output_type": "stream",
     "text": [
      "[2015-10-16 11:45:09] INFO: Finmag logging output will be appended to file: '/home/mb4e10/.finmag/global.log'\n",
      "[2015-10-16 11:45:09] DEBUG: Building modules in 'native'...\n",
      "[2015-10-16 11:45:09] DEBUG: FinMag          16ac4753324284a325002b66f291256813e877d0\n",
      "[2015-10-16 11:45:09] DEBUG: Dolfin          1.6.0                Matplotlib      lazily loaded       \n",
      "[2015-10-16 11:45:09] DEBUG: Numpy           1.9.2                Scipy           0.15.1              \n",
      "[2015-10-16 11:45:09] DEBUG: IPython         3.2.0                Python          2.7.6               \n",
      "[2015-10-16 11:45:09] DEBUG: Paraview        4.0.1-1ubuntu1       Sundials        2.5.0               \n",
      "[2015-10-16 11:45:09] DEBUG: Boost-Python    <unknown>            Linux           Ubuntu 14.04.3 LTS  \n",
      "[2015-10-16 11:45:09] DEBUG: Registering debug signal handler. Press Ctrl-Z any time to stop execution and jump into the debugger.\n"
     ]
    }
   ],
   "source": [
    "import dolfin as df\n",
    "from finmag import Simulation as Sim\n",
    "from finmag.energies import Exchange, Zeeman, DMI\n",
    "from finmag.util.consts import mu0"
   ]
  },
  {
   "cell_type": "markdown",
   "metadata": {},
   "source": [
    "First, we create the simulation object and initialise the magnetisation:"
   ]
  },
  {
   "cell_type": "code",
   "execution_count": 2,
   "metadata": {
    "collapsed": false
   },
   "outputs": [
    {
     "name": "stderr",
     "output_type": "stream",
     "text": [
      "[2015-10-16 11:45:11] INFO: Finmag logging output will be written to file: '/home/mb4e10/finmag/doc/ipython_notebooks_src/unnamed.log' (any old content will be overwritten).\n",
      "[2015-10-16 11:45:11] DEBUG: Creating DataWriter for file 'unnamed.ndt'\n",
      "[2015-10-16 11:45:11] INFO: Creating Sim object name='unnamed', instance_id=0 (rank=0/1).\n",
      "[2015-10-16 11:45:11] DEBUG:    Total number of Sim objects in this session: 1\n",
      "[2015-10-16 11:45:11] INFO: <Mesh of topological dimension 2 (triangles) with 121 vertices and 200 cells, ordered>\n",
      "/usr/local/lib/python2.7/dist-packages/aeon/timer.py:35: UserWarning: You are nesting measurements in __init__::LLG.\n",
      "  warnings.warn(\"You are nesting measurements in {}::{}.\".format(name, group))\n",
      "[2015-10-16 11:45:11] DEBUG: Creating LLG object.\n",
      "[2015-10-16 11:45:11] DEBUG: Creating Exchange object with method box-matrix-petsc, in Jacobian.\n",
      "[2015-10-16 11:45:11] DEBUG: Adding interaction Exchange to simulation.\n",
      "[2015-10-16 11:45:11] DEBUG: Creating DMI object with method box-matrix-petsc, in Jacobian.\n",
      "[2015-10-16 11:45:11] DEBUG: Adding interaction DMI to simulation.\n",
      "[2015-10-16 11:45:11] DEBUG: Adding interaction Zeeman to simulation.\n"
     ]
    }
   ],
   "source": [
    "mesh = df.RectangleMesh(df.Point(0, 0), df.Point(100, 100), 10, 10)\n",
    "\n",
    "Ms = 1e6\n",
    "A = 1e-11\n",
    "D = 3e-3\n",
    "\n",
    "sim = Sim(mesh, Ms, unit_length=1e-9)\n",
    "\n",
    "sim.add(Exchange(A))\n",
    "sim.add(DMI(D))\n",
    "sim.add(Zeeman((0, 0, 0.1/mu0)))\n",
    "sim.set_m((1, 0, 0))"
   ]
  },
  {
   "cell_type": "markdown",
   "metadata": {},
   "source": [
    "## Saving field"
   ]
  },
  {
   "cell_type": "markdown",
   "metadata": {
    "collapsed": true
   },
   "source": [
    "Now, we run the simulation in uniform timesteps ($\\Delta t = 20 \\,\\text{ps}$) for 0.5 ns and in every time step, we save the magnetisation field.\n",
    "\n",
    "In every step, we provide both the name and time at which the magnetisation is saved."
   ]
  },
  {
   "cell_type": "code",
   "execution_count": 3,
   "metadata": {
    "collapsed": false
   },
   "outputs": [
    {
     "name": "stderr",
     "output_type": "stream",
     "text": [
      "[2015-10-16 11:45:13] INFO: Creating integrator with backend sundials and arguments {'t0': 0}.\n",
      "[2015-10-16 11:45:13] INFO: Simulation will run until t = 0 s.\n",
      "[2015-10-16 11:45:13] INFO: Simulation has reached time t = 0 s.\n",
      "[2015-10-16 11:45:13] INFO: Simulation will run until t = 2e-11 s.\n",
      "/usr/local/lib/python2.7/dist-packages/aeon/timer.py:35: UserWarning: You are nesting measurements in compute_field::DMI.\n",
      "  warnings.warn(\"You are nesting measurements in {}::{}.\".format(name, group))\n",
      "/usr/local/lib/python2.7/dist-packages/aeon/timer.py:35: UserWarning: You are nesting measurements in compute_field::Exchange.\n",
      "  warnings.warn(\"You are nesting measurements in {}::{}.\".format(name, group))\n",
      "[2015-10-16 11:45:13] INFO: Simulation has reached time t = 2e-11 s.\n"
     ]
    },
    {
     "name": "stdout",
     "output_type": "stream",
     "text": [
      "Debug: (0/1) opening file magnetisation.h5\n",
      "Debug: (0/1) writing json file magnetisation.json\n",
      "Debug: (0/1) writing json file magnetisation.json\n",
      "Debug: (0/1) writing json file magnetisation.json"
     ]
    },
    {
     "name": "stderr",
     "output_type": "stream",
     "text": [
      "[2015-10-16 11:45:13] INFO: Simulation will run until t = 4e-11 s.\n",
      "[2015-10-16 11:45:13] INFO: Simulation has reached time t = 4e-11 s.\n",
      "[2015-10-16 11:45:13] INFO: Simulation will run until t = 6e-11 s.\n",
      "[2015-10-16 11:45:13] INFO: Simulation has reached time t = 6e-11 s.\n"
     ]
    },
    {
     "name": "stdout",
     "output_type": "stream",
     "text": [
      "\n",
      "Debug: (0/1) writing json file magnetisation.json\n",
      "Debug: (0/1) writing json file magnetisation.json"
     ]
    },
    {
     "name": "stderr",
     "output_type": "stream",
     "text": [
      "[2015-10-16 11:45:13] INFO: Simulation will run until t = 8e-11 s.\n",
      "[2015-10-16 11:45:13] INFO: Simulation has reached time t = 8e-11 s.\n"
     ]
    },
    {
     "name": "stdout",
     "output_type": "stream",
     "text": [
      "\n",
      "Debug: (0/1) writing json file magnetisation.json"
     ]
    },
    {
     "name": "stderr",
     "output_type": "stream",
     "text": [
      "[2015-10-16 11:45:13] INFO: Simulation will run until t = 1e-10 s.\n",
      "[2015-10-16 11:45:13] INFO: Simulation has reached time t = 1e-10 s.\n"
     ]
    },
    {
     "name": "stdout",
     "output_type": "stream",
     "text": [
      "\n",
      "Debug: (0/1) writing json file magnetisation.json\n"
     ]
    }
   ],
   "source": [
    "import numpy as np\n",
    "\n",
    "filename = 'magnetisation'\n",
    "\n",
    "T = 0.1e-9\n",
    "dt = 20e-12\n",
    "\n",
    "sim.reset_time(0)\n",
    "\n",
    "t_array = np.arange(0, T+dt/2, dt)\n",
    "for t in t_array:\n",
    "    sim.run_until(t)\n",
    "    sim.llg.m_field.save_hdf5(filename, t=sim.t/1e-9)\n",
    "    \n",
    "sim.llg.m_field.close_hdf5()"
   ]
  },
  {
   "cell_type": "markdown",
   "metadata": {},
   "source": [
    "We can now see that both h5 and json files are created."
   ]
  },
  {
   "cell_type": "code",
   "execution_count": 4,
   "metadata": {
    "collapsed": false
   },
   "outputs": [
    {
     "name": "stdout",
     "output_type": "stream",
     "text": [
      "magnetisation.json\n",
      "magnetisation.h5\n"
     ]
    }
   ],
   "source": [
    "!ls *.json\n",
    "!ls *.h5"
   ]
  },
  {
   "cell_type": "markdown",
   "metadata": {},
   "source": [
    "## Loading field"
   ]
  },
  {
   "cell_type": "markdown",
   "metadata": {},
   "source": [
    "An object for reading the data from saved hdf5 file can be created as:"
   ]
  },
  {
   "cell_type": "code",
   "execution_count": 5,
   "metadata": {
    "collapsed": true
   },
   "outputs": [],
   "source": [
    "from dolfinh5tools import openh5\n",
    "h5file = openh5('magnetisation', field_name='m', mode='r')"
   ]
  },
  {
   "cell_type": "markdown",
   "metadata": {},
   "source": [
    "Now, the saved fields list as well as the times at which these fields were saved can be read:"
   ]
  },
  {
   "cell_type": "code",
   "execution_count": 6,
   "metadata": {
    "collapsed": false
   },
   "outputs": [
    {
     "name": "stdout",
     "output_type": "stream",
     "text": [
      "Field: m\n",
      "Saved at times:  [0.0, 0.019999999999999997, 0.039999999999999994, 0.06, 0.07999999999999999, 0.09999999999999998]\n"
     ]
    }
   ],
   "source": [
    "saved_fields = h5file.fields()\n",
    "\n",
    "for field in saved_fields:\n",
    "    print 'Field:', field\n",
    "    print 'Saved at times: ', h5file.times(field_name=field)"
   ]
  },
  {
   "cell_type": "markdown",
   "metadata": {},
   "source": [
    "A particular field (as dolfin function) at a certain time can be loaded as:"
   ]
  },
  {
   "cell_type": "code",
   "execution_count": 7,
   "metadata": {
    "collapsed": false
   },
   "outputs": [
    {
     "data": {
      "text/plain": [
       "array([  1.09775439e-01,  -2.80839261e-01,  -6.79544452e-01,\n",
       "        -8.46365564e-01,  -8.58054012e-01,  -8.38819870e-01,\n",
       "        -8.38157307e-01,  -8.59638416e-01,  -9.03675348e-01,\n",
       "        -9.54891921e-01,  -9.60365618e-01,   4.22114876e-01,\n",
       "         2.26649618e-01,  -7.10651640e-02,  -3.10915117e-01,\n",
       "        -4.23232856e-01,  -4.51488487e-01,  -4.66115630e-01,\n",
       "        -4.96961212e-01,  -5.41093265e-01,  -5.69638387e-01,\n",
       "        -6.31937752e-01,   5.99994163e-01,   4.99941893e-01,\n",
       "         3.22972669e-01,   1.54229268e-01,   4.47356416e-02,\n",
       "        -1.27894211e-02,  -4.21539418e-02,  -7.74036265e-02,\n",
       "        -2.05343558e-01,  -3.11829892e-01,  -3.69322850e-01,\n",
       "         6.74541213e-01,   6.32877253e-01,   5.15926399e-01,\n",
       "         4.01483244e-01,   3.25321674e-01,   2.63329165e-01,\n",
       "         2.30668279e-01,   2.58378671e-01,   6.00991616e-02,\n",
       "        -1.70088844e-01,  -2.72952841e-01,   7.97217121e-01,\n",
       "         7.46530623e-01,   6.37661176e-01,   5.50559474e-01,\n",
       "         4.98449812e-01,   4.35420010e-01,   4.01929820e-01,\n",
       "         5.32737904e-01,   3.38650477e-01,  -4.83102448e-02,\n",
       "        -1.92259562e-01,   8.61330295e-01,   7.99331108e-01,\n",
       "         6.91446842e-01,   6.17476612e-01,   5.76637555e-01,\n",
       "         5.20787529e-01,   5.00515332e-01,   6.77837983e-01,\n",
       "         4.94455900e-01,  -2.85445029e-02,  -1.42595920e-01,\n",
       "         8.34907507e-01,   7.55468070e-01,   6.22714456e-01,\n",
       "         5.33906953e-01,   4.91089637e-01,   4.48608734e-01,\n",
       "         4.36211461e-01,   5.66441451e-01,   3.69344180e-01,\n",
       "        -1.38105338e-01,  -1.86710168e-01,   9.35212899e-01,\n",
       "         8.36570242e-01,   7.19789790e-01,   6.40341122e-01,\n",
       "         6.06459603e-01,   5.82059637e-01,   5.49936623e-01,\n",
       "         6.06962475e-01,   5.67714593e-01,   1.85151144e-01,\n",
       "         5.16569342e-02,   9.64854200e-01,   9.97218401e-01,\n",
       "         9.92648198e-01,   9.69298346e-01,   9.53172080e-01,\n",
       "         9.44138130e-01,   9.19765560e-01,   9.26036723e-01,\n",
       "         9.84367743e-01,   8.96648037e-01,   6.94267399e-01,\n",
       "         6.77672063e-01,   7.08176019e-01,   7.63726398e-01,\n",
       "         8.23572924e-01,   8.61548218e-01,   8.76594142e-01,\n",
       "         9.03621245e-01,   9.25728816e-01,   8.03344114e-01,\n",
       "         6.87254736e-01,   7.81845551e-01,   2.30640835e-01,\n",
       "         1.03966535e-01,   1.52971653e-02,   2.10567068e-02,\n",
       "         5.79717136e-02,   8.27732804e-02,   1.17854547e-01,\n",
       "         1.71917911e-01,   3.67216113e-02,  -1.52494413e-01,\n",
       "        -8.05539060e-02,   9.86513373e-01,   7.09084879e-01,\n",
       "         4.48405676e-01,   4.02211533e-01,   4.63589556e-01,\n",
       "         5.08341338e-01,   5.10833907e-01,   4.71868647e-01,\n",
       "         3.52642066e-01,   8.43908139e-02,  -2.78742382e-01,\n",
       "         8.84951630e-01,   7.99109178e-01,   5.52762126e-01,\n",
       "         4.55149451e-01,   4.72195956e-01,   5.03659722e-01,\n",
       "         5.09464082e-01,   4.80403625e-01,   3.66947058e-01,\n",
       "         1.03940094e-01,  -3.68379093e-01,   5.93047601e-01,\n",
       "         8.43808030e-01,   7.06641900e-01,   5.89248577e-01,\n",
       "         5.56036708e-01,   5.62654966e-01,   5.64342114e-01,\n",
       "         5.71611316e-01,   4.94106355e-01,   1.86961572e-01,\n",
       "        -4.16369561e-01,   1.61222505e-01,   7.50094928e-01,\n",
       "         7.91644616e-01,   7.05787661e-01,   6.58637211e-01,\n",
       "         6.54482957e-01,   6.29603961e-01,   6.46377019e-01,\n",
       "         6.88383144e-01,   3.75132605e-01,  -3.07183783e-01,\n",
       "        -1.95066595e-01,   5.12698472e-01,   7.69008915e-01,\n",
       "         7.58959673e-01,   7.25147150e-01,   7.26954214e-01,\n",
       "         6.74656427e-01,   6.26690936e-01,   8.36681752e-01,\n",
       "         6.13457165e-01,  -9.15674742e-02,  -1.62838328e-01,\n",
       "         3.71078577e-01,   7.04870793e-01,   7.75339815e-01,\n",
       "         7.68255635e-01,   7.77876151e-01,   7.25163689e-01,\n",
       "         6.11016263e-01,   8.65475390e-01,   8.18403405e-01,\n",
       "         1.42877697e-01,   1.07561252e-01,   5.38162890e-01,\n",
       "         7.77362268e-01,   8.28491980e-01,   8.12946312e-01,\n",
       "         8.07248415e-01,   7.66997477e-01,   7.09067300e-01,\n",
       "         9.16859950e-01,   7.97615917e-01,   1.72793622e-01,\n",
       "         2.99230429e-01,   5.46519930e-01,   6.29966337e-01,\n",
       "         6.03626517e-01,   5.52833327e-01,   5.34313293e-01,\n",
       "         5.07924904e-01,   4.43281723e-01,   5.93453477e-01,\n",
       "         5.55202901e-01,  -1.04435396e-02,  -2.53809522e-01,\n",
       "        -6.44255957e-02,   1.07331837e-01,   1.65853129e-01,\n",
       "         1.63053035e-01,   1.70364457e-01,   1.82500954e-01,\n",
       "         7.05949241e-02,   6.21633168e-02,   3.43050908e-01,\n",
       "         1.38211854e-01,  -7.32833864e-01,  -4.91207046e-01,\n",
       "        -2.42107384e-01,  -1.16757672e-01,  -7.40002040e-02,\n",
       "        -5.07221734e-02,  -1.60712281e-02,  -9.89071483e-02,\n",
       "        -2.14208000e-01,   9.76533169e-02,   5.22600086e-01,\n",
       "        -9.58018838e-01,  -6.40000913e-01,  -3.58964047e-01,\n",
       "        -2.19582073e-01,  -1.62858391e-01,  -1.36168316e-01,\n",
       "        -1.04208249e-01,  -1.40807400e-01,  -2.43530700e-01,\n",
       "        -2.56064162e-03,   5.39780190e-01,   1.21411659e-01,\n",
       "         6.46782818e-01,   5.80647662e-01,   3.49129359e-01,\n",
       "         2.20970912e-01,   1.94859820e-01,   1.91156912e-01,\n",
       "         1.95861706e-01,   2.42929102e-01,   2.84709758e-01,\n",
       "         7.51071669e-04,  -1.96671235e-01,   5.56825292e-01,\n",
       "         8.30303410e-01,   8.34368439e-01,   7.73243105e-01,\n",
       "         7.36535824e-01,   7.23313353e-01,   7.22662949e-01,\n",
       "         7.56682640e-01,   8.15296554e-01,   6.81873583e-01,\n",
       "        -5.36937214e-01,   1.95054159e-01,   6.29560026e-01,\n",
       "         7.93094857e-01,   8.29952952e-01,   8.26592936e-01,\n",
       "         8.24464209e-01,   8.16864931e-01,   8.44803681e-01,\n",
       "         9.31561978e-01,   8.30805117e-01,  -7.20417703e-01,\n",
       "        -1.91896130e-01,   3.27290326e-01,   5.83673885e-01,\n",
       "         6.78500623e-01,   7.08738358e-01,   7.41883759e-01,\n",
       "         7.17939887e-01,   7.22852061e-01,   9.11233629e-01,\n",
       "         9.11666258e-01,  -5.71308603e-01,  -4.24066339e-01,\n",
       "         4.48724959e-02,   3.47655638e-01,   4.75088764e-01,\n",
       "         5.30986586e-01,   6.19104938e-01,   5.68726083e-01,\n",
       "         4.30435891e-01,   7.88250381e-01,   9.77061888e-01,\n",
       "        -4.81241976e-01,  -4.72620684e-01,  -1.58297564e-01,\n",
       "         1.32553946e-01,   2.77978910e-01,   3.51694223e-01,\n",
       "         4.72886368e-01,   4.08894681e-01,   8.04178022e-02,\n",
       "         5.73932208e-01,   9.79414854e-01,  -5.39777788e-01,\n",
       "        -3.73696068e-01,  -8.90768240e-02,   1.68950798e-01,\n",
       "         3.12968488e-01,   3.83536622e-01,   4.70567939e-01,\n",
       "         4.19961080e-01,   1.51515898e-01,   5.87138570e-01,\n",
       "         9.67100410e-01,  -1.89309227e-01,   3.82909631e-02,\n",
       "         2.91624971e-01,   4.74971963e-01,   5.71473668e-01,\n",
       "         6.12956808e-01,   6.63009926e-01,   6.59619398e-01,\n",
       "         5.70537851e-01,   8.10844568e-01,   9.98610420e-01,\n",
       "         6.80963913e-02,  -3.74812743e-02,   5.59414816e-02,\n",
       "         1.81530886e-01,   2.54709026e-01,   2.82097729e-01,\n",
       "         3.47454607e-01,   3.70772625e-01,   1.64790339e-01,\n",
       "         2.79889999e-01,   7.06321589e-01,  -6.09512887e-02,\n",
       "        -5.07151165e-01,  -5.98419545e-01,  -5.55063265e-01,\n",
       "        -5.02253520e-01,  -4.78549834e-01,  -4.28030774e-01,\n",
       "        -3.65025362e-01,  -5.55655550e-01,  -7.19822737e-01,\n",
       "        -3.40010000e-01,  -1.70307893e-01,  -7.61307998e-01,\n",
       "        -9.33226055e-01,  -9.75366789e-01,  -9.84944910e-01,\n",
       "        -9.87221769e-01,  -9.87547965e-01,  -9.74996176e-01,\n",
       "        -9.69197783e-01,  -9.88301056e-01,  -8.37942974e-01])"
      ]
     },
     "execution_count": 7,
     "metadata": {},
     "output_type": "execute_result"
    }
   ],
   "source": [
    "m_loaded = h5file.read(t=0.06)\n",
    "m_loaded.vector().array()"
   ]
  }
 ],
 "metadata": {
  "kernelspec": {
   "display_name": "Python 2",
   "language": "python",
   "name": "python2"
  },
  "language_info": {
   "codemirror_mode": {
    "name": "ipython",
    "version": 2
   },
   "file_extension": ".py",
   "mimetype": "text/x-python",
   "name": "python",
   "nbconvert_exporter": "python",
   "pygments_lexer": "ipython2",
   "version": "2.7.6"
  }
 },
 "nbformat": 4,
 "nbformat_minor": 0
}
