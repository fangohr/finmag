{
 "cells": [
  {
   "cell_type": "markdown",
   "metadata": {},
   "source": [
    "This is a very simple notebook to check that our IPython notebook test script correctly ignores the output of code cells whose first line starts with the following comment:\n",
    "\n",
    "    # IPYTHON_TEST_IGNORE_OUTPUT"
   ]
  },
  {
   "cell_type": "code",
   "execution_count": 17,
   "metadata": {
    "collapsed": false
   },
   "outputs": [],
   "source": [
    "from datetime import datetime"
   ]
  },
  {
   "cell_type": "code",
   "execution_count": 1,
   "metadata": {
    "collapsed": false
   },
   "outputs": [
    {
     "name": "stdout",
     "output_type": "stream",
     "text": [
      "42\n"
     ]
    }
   ],
   "source": [
    "# This output should be compared.\n",
    "print 42"
   ]
  },
  {
   "cell_type": "code",
   "execution_count": 18,
   "metadata": {
    "collapsed": false
   },
   "outputs": [
    {
     "name": "stdout",
     "output_type": "stream",
     "text": [
      "2013-12-04 13:45:06.528080\n"
     ]
    }
   ],
   "source": [
    "# IPYTHON_TEST_IGNORE_OUTPUT\n",
    "#\n",
    "# This output will be ignored due to the string above.\n",
    "# If it isn't ignored, the test will fail because the timestamp will be different.\n",
    "print datetime.now()"
   ]
  },
  {
   "cell_type": "code",
   "execution_count": 19,
   "metadata": {
    "collapsed": false
   },
   "outputs": [
    {
     "name": "stdout",
     "output_type": "stream",
     "text": [
      "2013-12-04 13:45:13.226575\n"
     ]
    }
   ],
   "source": [
    "# IPYTHON_TEST_IGNORE_OUTPUT -- There can be additional comments in the first line,\n",
    "# but it must start with the flag string.\n",
    "#\n",
    "print datetime.now()"
   ]
  },
  {
   "cell_type": "code",
   "execution_count": 24,
   "metadata": {
    "collapsed": false
   },
   "outputs": [
    {
     "name": "stdout",
     "output_type": "stream",
     "text": [
      "42\n"
     ]
    }
   ],
   "source": [
    "# This cell will not be ignored, since the string doesn't occur on the first line:\n",
    "# IPYTHON_TEST_IGNORE_OUTPUT\n",
    "#\n",
    "# This is to ensure that it doesn't get overlooked when the notebook is inspected.\n",
    "# Thus if the second line is uncommented then the test should fail.\n",
    "#\n",
    "print 42\n",
    "#print datetime.now()"
   ]
  },
  {
   "cell_type": "code",
   "execution_count": null,
   "metadata": {
    "collapsed": false
   },
   "outputs": [],
   "source": []
  }
 ],
 "metadata": {
  "kernelspec": {
   "display_name": "Python 2",
   "language": "python",
   "name": "python2"
  },
  "language_info": {
   "codemirror_mode": {
    "name": "ipython",
    "version": 2
   },
   "file_extension": ".py",
   "mimetype": "text/x-python",
   "name": "python",
   "nbconvert_exporter": "python",
   "pygments_lexer": "ipython2",
   "version": "2.7.6"
  }
 },
 "nbformat": 4,
 "nbformat_minor": 0
}
