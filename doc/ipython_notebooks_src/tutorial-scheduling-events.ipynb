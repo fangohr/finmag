{
 "metadata": {
  "name": "tutorial-scheduling-events"
 },
 "nbformat": 3,
 "nbformat_minor": 0,
 "worksheets": [
  {
   "cells": [
    {
     "cell_type": "heading",
     "level": 2,
     "metadata": {},
     "source": [
      "Scheduling events"
     ]
    },
    {
     "cell_type": "markdown",
     "metadata": {},
     "source": [
      "First we create a simulation object, and schedule some events:"
     ]
    },
    {
     "cell_type": "code",
     "collapsed": false,
     "input": [
      "import finmag\n",
      "sim = finmag.example.barmini()\n",
      "sim.schedule('restart', every=1e-12)  # save restart data every 1e-12 seconds\n",
      "sim.schedule('save_ndt', every=2e-12)  # save to ndt file every 2e-12 seconds\n"
     ],
     "language": "python",
     "metadata": {},
     "outputs": [
      {
       "output_type": "stream",
       "stream": "stderr",
       "text": [
        "[2013-01-19 07:56:55] INFO: Finmag logging output will be appended to file: '/home/fangohr/.finmag/global.log'\n"
       ]
      },
      {
       "output_type": "stream",
       "stream": "stderr",
       "text": [
        "[2013-01-19 07:56:55] DEBUG:               Finmag: 2712:20add69bd13453e88d76847f47b4fa2ebf03897c\n"
       ]
      },
      {
       "output_type": "stream",
       "stream": "stderr",
       "text": [
        "[2013-01-19 07:56:55] DEBUG:               Dolfin: 1.0.0\n"
       ]
      },
      {
       "output_type": "stream",
       "stream": "stderr",
       "text": [
        "[2013-01-19 07:56:55] DEBUG:           Matplotlib: 1.1.1\n"
       ]
      },
      {
       "output_type": "stream",
       "stream": "stderr",
       "text": [
        "[2013-01-19 07:56:55] DEBUG:                Numpy: 1.6.2\n"
       ]
      },
      {
       "output_type": "stream",
       "stream": "stderr",
       "text": [
        "[2013-01-19 07:56:55] DEBUG:                Scipy: 0.10.1\n"
       ]
      },
      {
       "output_type": "stream",
       "stream": "stderr",
       "text": [
        "[2013-01-19 07:56:55] DEBUG:              IPython: 0.13.1\n"
       ]
      },
      {
       "output_type": "stream",
       "stream": "stderr",
       "text": [
        "[2013-01-19 07:56:55] DEBUG:               Python: 2.7.3\n"
       ]
      },
      {
       "output_type": "stream",
       "stream": "stderr",
       "text": [
        "[2013-01-19 07:56:55] DEBUG:             Paraview: 3.14.1-6build1\n"
       ]
      },
      {
       "output_type": "stream",
       "stream": "stderr",
       "text": [
        "[2013-01-19 07:56:55] DEBUG:             Sundials: 2.5.0-1\n"
       ]
      },
      {
       "output_type": "stream",
       "stream": "stderr",
       "text": [
        "[2013-01-19 07:56:55] DEBUG:         Boost-Python: 1.49.0\n"
       ]
      },
      {
       "output_type": "stream",
       "stream": "stderr",
       "text": [
        "[2013-01-19 07:56:55] DEBUG:                Linux: Ubuntu 12.10\n"
       ]
      },
      {
       "output_type": "stream",
       "stream": "stderr",
       "text": [
        "[2013-01-19 07:56:55] INFO: Finmag logging output will be written to file: '/home/fangohr/hg/finmag/doc/ipython_notebooks_src/barmini.log' (any old content will be overwritten).\n"
       ]
      },
      {
       "output_type": "stream",
       "stream": "stderr",
       "text": [
        "[2013-01-19 07:56:55] DEBUG: Creating DataWriter for file 'barmini.ndt'\n"
       ]
      },
      {
       "output_type": "stream",
       "stream": "stderr",
       "text": [
        "[2013-01-19 07:56:55] INFO: Creating Sim object 'barmini' (rank=0/1) [Sat Jan 19 07:56:55 2013].\n"
       ]
      },
      {
       "output_type": "stream",
       "stream": "stderr",
       "text": [
        "[2013-01-19 07:56:55] INFO: <Mesh of topological dimension 3 (tetrahedra) with 45 vertices and 96 cells, ordered>\n"
       ]
      },
      {
       "output_type": "stream",
       "stream": "stderr",
       "text": [
        "[2013-01-19 07:56:55] DEBUG: Creating LLG object.\n"
       ]
      },
      {
       "output_type": "stream",
       "stream": "stderr",
       "text": [
        "[2013-01-19 07:56:55] DEBUG: Creating Exchange object with method box-matrix-petsc, in Jacobian.\n"
       ]
      },
      {
       "output_type": "stream",
       "stream": "stderr",
       "text": [
        "[2013-01-19 07:56:55] DEBUG: Adding interaction <finmag.energies.exchange.Exchange object at 0x4423910> to simulation 'barmini'\n"
       ]
      },
      {
       "output_type": "stream",
       "stream": "stderr",
       "text": [
        "[2013-01-19 07:56:55] DEBUG: Creating Demag object with FK solver.\n"
       ]
      },
      {
       "output_type": "stream",
       "stream": "stderr",
       "text": [
        "[2013-01-19 07:56:55] DEBUG: Adding interaction <finmag.energies.demag.demag.Demag object at 0x44b7550> to simulation 'barmini'\n"
       ]
      },
      {
       "output_type": "stream",
       "stream": "stderr",
       "text": [
        "[2013-01-19 07:56:55] DEBUG: Demag: Poisson solver parameters.\n",
        "    {'maximum_iterations': 10000, 'divergence_limit': 10000.0, 'relative_tolerance': 1e-06, 'gmres':\n",
        "    {'restart': 30}, 'preconditioner': {'shift_nonzero': 0.0, 'reuse': False,\n",
        "    'same_nonzero_pattern': False, 'ilu': {'fill_level': 0}, 'schwarz': {'overlap': 1}, 'report':\n",
        "    False}, 'error_on_nonconvergence': True, 'monitor_convergence': False, 'nonzero_initial_guess':\n",
        "    False, 'report': True, 'absolute_tolerance': 1e-15}\n"
       ]
      },
      {
       "output_type": "stream",
       "stream": "stderr",
       "text": [
        "[2013-01-19 07:56:55] DEBUG: Demag: Laplace solver parameters.\n",
        "    {'maximum_iterations': 10000, 'divergence_limit': 10000.0, 'relative_tolerance': 1e-06, 'gmres':\n",
        "    {'restart': 30}, 'preconditioner': {'shift_nonzero': 0.0, 'reuse': False,\n",
        "    'same_nonzero_pattern': True, 'ilu': {'fill_level': 0}, 'schwarz': {'overlap': 1}, 'report':\n",
        "    False}, 'error_on_nonconvergence': True, 'monitor_convergence': False, 'nonzero_initial_guess':\n",
        "    False, 'report': True, 'absolute_tolerance': 1e-15}\n"
       ]
      },
      {
       "output_type": "stream",
       "stream": "stdout",
       "text": [
        "paraview version 3.14.1, Date: 2012-02-17\n"
       ]
      }
     ],
     "prompt_number": 1
    },
    {
     "cell_type": "markdown",
     "metadata": {},
     "source": [
      "Now carry out the time integration to see that the scheduling works."
     ]
    },
    {
     "cell_type": "code",
     "collapsed": false,
     "input": [
      "sim.run_until(5e-12)"
     ],
     "language": "python",
     "metadata": {},
     "outputs": [
      {
       "output_type": "stream",
       "stream": "stderr",
       "text": [
        "[2013-01-19 07:56:55] DEBUG: Creating integrator with backend sundials.\n"
       ]
      },
      {
       "output_type": "stream",
       "stream": "stderr",
       "text": [
        "[2013-01-19 07:56:55] DEBUG: Integrating dynamics up to t = 5e-12\n"
       ]
      },
      {
       "output_type": "stream",
       "stream": "stderr",
       "text": [
        "[2013-01-19 07:56:55] DEBUG: Have saved restart data at t=0 to barmini-restart.npz (sim.name=barmini)\n"
       ]
      },
      {
       "output_type": "stream",
       "stream": "stderr",
       "text": [
        "[2013-01-19 07:56:55] DEBUG: Saving data to ndt file at t=0.0 (sim.name=barmini).\n"
       ]
      },
      {
       "output_type": "stream",
       "stream": "stderr",
       "text": [
        "[2013-01-19 07:56:55] DEBUG: Have saved restart data at t=1e-12 to barmini-restart.npz (sim.name=barmini)\n"
       ]
      },
      {
       "output_type": "stream",
       "stream": "stderr",
       "text": [
        "[2013-01-19 07:56:55] DEBUG: Have saved restart data at t=2e-12 to barmini-restart.npz (sim.name=barmini)\n"
       ]
      },
      {
       "output_type": "stream",
       "stream": "stderr",
       "text": [
        "[2013-01-19 07:56:55] DEBUG: Saving data to ndt file at t=2e-12 (sim.name=barmini).\n"
       ]
      },
      {
       "output_type": "stream",
       "stream": "stderr",
       "text": [
        "[2013-01-19 07:56:55] DEBUG: Have saved restart data at t=3e-12 to barmini-restart.npz (sim.name=barmini)\n"
       ]
      },
      {
       "output_type": "stream",
       "stream": "stderr",
       "text": [
        "[2013-01-19 07:56:55] DEBUG: Have saved restart data at t=4e-12 to barmini-restart.npz (sim.name=barmini)\n"
       ]
      },
      {
       "output_type": "stream",
       "stream": "stderr",
       "text": [
        "[2013-01-19 07:56:55] DEBUG: Saving data to ndt file at t=4e-12 (sim.name=barmini).\n"
       ]
      },
      {
       "output_type": "stream",
       "stream": "stderr",
       "text": [
        "[2013-01-19 07:56:56] DEBUG: Have saved restart data at t=5e-12 to barmini-restart.npz (sim.name=barmini)\n"
       ]
      },
      {
       "output_type": "stream",
       "stream": "stderr",
       "text": [
        "[2013-01-19 07:56:56] DEBUG: Saving average field values for simulation 'barmini'.\n"
       ]
      }
     ],
     "prompt_number": 2
    },
    {
     "cell_type": "markdown",
     "metadata": {},
     "source": [
      "And if we carry on with the time integration, the scheduled events are still active:"
     ]
    },
    {
     "cell_type": "code",
     "collapsed": false,
     "input": [
      "sim.run_until(10e-12)"
     ],
     "language": "python",
     "metadata": {},
     "outputs": [
      {
       "output_type": "stream",
       "stream": "stderr",
       "text": [
        "[2013-01-19 07:56:56] DEBUG: Integrating dynamics up to t = 1e-11\n"
       ]
      },
      {
       "output_type": "stream",
       "stream": "stderr",
       "text": [
        "[2013-01-19 07:56:56] DEBUG: Have saved restart data at t=6e-12 to barmini-restart.npz (sim.name=barmini)\n"
       ]
      },
      {
       "output_type": "stream",
       "stream": "stderr",
       "text": [
        "[2013-01-19 07:56:56] DEBUG: Saving data to ndt file at t=6e-12 (sim.name=barmini).\n"
       ]
      },
      {
       "output_type": "stream",
       "stream": "stderr",
       "text": [
        "[2013-01-19 07:56:56] DEBUG: Have saved restart data at t=7e-12 to barmini-restart.npz (sim.name=barmini)\n"
       ]
      },
      {
       "output_type": "stream",
       "stream": "stderr",
       "text": [
        "[2013-01-19 07:56:56] DEBUG: Have saved restart data at t=8e-12 to barmini-restart.npz (sim.name=barmini)\n"
       ]
      },
      {
       "output_type": "stream",
       "stream": "stderr",
       "text": [
        "[2013-01-19 07:56:56] DEBUG: Saving data to ndt file at t=8e-12 (sim.name=barmini).\n"
       ]
      },
      {
       "output_type": "stream",
       "stream": "stderr",
       "text": [
        "[2013-01-19 07:56:56] DEBUG: Have saved restart data at t=9e-12 to barmini-restart.npz (sim.name=barmini)\n"
       ]
      },
      {
       "output_type": "stream",
       "stream": "stderr",
       "text": [
        "[2013-01-19 07:56:56] DEBUG: Have saved restart data at t=1e-11 to barmini-restart.npz (sim.name=barmini)\n"
       ]
      },
      {
       "output_type": "stream",
       "stream": "stderr",
       "text": [
        "[2013-01-19 07:56:56] DEBUG: Saving data to ndt file at t=1e-11 (sim.name=barmini).\n"
       ]
      },
      {
       "output_type": "stream",
       "stream": "stderr",
       "text": [
        "[2013-01-19 07:56:56] DEBUG: Saving average field values for simulation 'barmini'.\n"
       ]
      }
     ],
     "prompt_number": 3
    },
    {
     "cell_type": "markdown",
     "metadata": {},
     "source": [
      "### Using at_end"
     ]
    },
    {
     "cell_type": "markdown",
     "metadata": {},
     "source": [
      "Often, we like to do something at the end of an integration command (like saving a VTK snapshot, or saving averages). Let's create a custom function for this (which also demonstrates how arbitrary actions can be schedule by creating such a custom function)."
     ]
    },
    {
     "cell_type": "code",
     "collapsed": false,
     "input": [
      "def summary(sim):\n",
      "    \"\"\"Our custom function for some thing to be scheduled.\"\"\"\n",
      "    print(\"Completed up to t=%.g\" % sim.t)"
     ],
     "language": "python",
     "metadata": {},
     "outputs": [],
     "prompt_number": 4
    },
    {
     "cell_type": "code",
     "collapsed": false,
     "input": [
      "sim2 = finmag.example.barmini()\n",
      "sim2.schedule('restart', every=1e-12)  # save restart data every 1e-12 seconds\n",
      "sim2.schedule('save_ndt', every=2e-12)  # save to ndt file every 2e-12 seconds\n",
      "sim2.schedule(summary, at_end=True)"
     ],
     "language": "python",
     "metadata": {},
     "outputs": [
      {
       "output_type": "stream",
       "stream": "stderr",
       "text": [
        "[2013-01-19 07:56:56] INFO: Finmag logging output will be written to file: '/home/fangohr/hg/finmag/doc/ipython_notebooks_src/barmini.log' (any old content will be overwritten).\n"
       ]
      },
      {
       "output_type": "stream",
       "stream": "stderr",
       "text": [
        "[2013-01-19 07:56:56] DEBUG: Creating DataWriter for file 'barmini.ndt'\n"
       ]
      },
      {
       "output_type": "stream",
       "stream": "stderr",
       "text": [
        "[2013-01-19 07:56:56] INFO: Creating Sim object 'barmini' (rank=0/1) [Sat Jan 19 07:56:56 2013].\n"
       ]
      },
      {
       "output_type": "stream",
       "stream": "stderr",
       "text": [
        "[2013-01-19 07:56:56] INFO: <Mesh of topological dimension 3 (tetrahedra) with 45 vertices and 96 cells, ordered>\n"
       ]
      },
      {
       "output_type": "stream",
       "stream": "stderr",
       "text": [
        "[2013-01-19 07:56:56] DEBUG: Creating LLG object.\n"
       ]
      },
      {
       "output_type": "stream",
       "stream": "stderr",
       "text": [
        "[2013-01-19 07:56:56] DEBUG: Creating Exchange object with method box-matrix-petsc, in Jacobian.\n"
       ]
      },
      {
       "output_type": "stream",
       "stream": "stderr",
       "text": [
        "[2013-01-19 07:56:56] DEBUG: Adding interaction <finmag.energies.exchange.Exchange object at 0x46355d0> to simulation 'barmini'\n"
       ]
      },
      {
       "output_type": "stream",
       "stream": "stderr",
       "text": [
        "[2013-01-19 07:56:56] DEBUG: Creating Demag object with FK solver.\n"
       ]
      },
      {
       "output_type": "stream",
       "stream": "stderr",
       "text": [
        "[2013-01-19 07:56:56] DEBUG: Adding interaction <finmag.energies.demag.demag.Demag object at 0x458bf10> to simulation 'barmini'\n"
       ]
      },
      {
       "output_type": "stream",
       "stream": "stderr",
       "text": [
        "[2013-01-19 07:56:56] DEBUG: Demag: Poisson solver parameters.\n",
        "    {'maximum_iterations': 10000, 'divergence_limit': 10000.0, 'relative_tolerance': 1e-06, 'gmres':\n",
        "    {'restart': 30}, 'preconditioner': {'shift_nonzero': 0.0, 'reuse': False,\n",
        "    'same_nonzero_pattern': False, 'ilu': {'fill_level': 0}, 'schwarz': {'overlap': 1}, 'report':\n",
        "    False}, 'error_on_nonconvergence': True, 'monitor_convergence': False, 'nonzero_initial_guess':\n",
        "    False, 'report': True, 'absolute_tolerance': 1e-15}\n"
       ]
      },
      {
       "output_type": "stream",
       "stream": "stderr",
       "text": [
        "[2013-01-19 07:56:56] DEBUG: Demag: Laplace solver parameters.\n",
        "    {'maximum_iterations': 10000, 'divergence_limit': 10000.0, 'relative_tolerance': 1e-06, 'gmres':\n",
        "    {'restart': 30}, 'preconditioner': {'shift_nonzero': 0.0, 'reuse': False,\n",
        "    'same_nonzero_pattern': True, 'ilu': {'fill_level': 0}, 'schwarz': {'overlap': 1}, 'report':\n",
        "    False}, 'error_on_nonconvergence': True, 'monitor_convergence': False, 'nonzero_initial_guess':\n",
        "    False, 'report': True, 'absolute_tolerance': 1e-15}\n"
       ]
      }
     ],
     "prompt_number": 5
    },
    {
     "cell_type": "code",
     "collapsed": false,
     "input": [
      "sim2.run_until(10e-12)"
     ],
     "language": "python",
     "metadata": {},
     "outputs": [
      {
       "output_type": "stream",
       "stream": "stderr",
       "text": [
        "[2013-01-19 07:56:56] DEBUG: Creating integrator with backend sundials.\n"
       ]
      },
      {
       "output_type": "stream",
       "stream": "stderr",
       "text": [
        "[2013-01-19 07:56:56] DEBUG: Integrating dynamics up to t = 1e-11\n"
       ]
      },
      {
       "output_type": "stream",
       "stream": "stderr",
       "text": [
        "[2013-01-19 07:56:56] DEBUG: Have saved restart data at t=0 to barmini-restart.npz (sim.name=barmini)\n"
       ]
      },
      {
       "output_type": "stream",
       "stream": "stderr",
       "text": [
        "[2013-01-19 07:56:56] DEBUG: Saving data to ndt file at t=0.0 (sim.name=barmini).\n"
       ]
      },
      {
       "output_type": "stream",
       "stream": "stderr",
       "text": [
        "[2013-01-19 07:56:56] DEBUG: Have saved restart data at t=1e-12 to barmini-restart.npz (sim.name=barmini)\n"
       ]
      },
      {
       "output_type": "stream",
       "stream": "stderr",
       "text": [
        "[2013-01-19 07:56:57] DEBUG: Have saved restart data at t=2e-12 to barmini-restart.npz (sim.name=barmini)\n"
       ]
      },
      {
       "output_type": "stream",
       "stream": "stderr",
       "text": [
        "[2013-01-19 07:56:57] DEBUG: Saving data to ndt file at t=2e-12 (sim.name=barmini).\n"
       ]
      },
      {
       "output_type": "stream",
       "stream": "stderr",
       "text": [
        "[2013-01-19 07:56:57] DEBUG: Have saved restart data at t=3e-12 to barmini-restart.npz (sim.name=barmini)\n"
       ]
      },
      {
       "output_type": "stream",
       "stream": "stderr",
       "text": [
        "[2013-01-19 07:56:57] DEBUG: Have saved restart data at t=4e-12 to barmini-restart.npz (sim.name=barmini)\n"
       ]
      },
      {
       "output_type": "stream",
       "stream": "stderr",
       "text": [
        "[2013-01-19 07:56:57] DEBUG: Saving data to ndt file at t=4e-12 (sim.name=barmini).\n"
       ]
      },
      {
       "output_type": "stream",
       "stream": "stderr",
       "text": [
        "[2013-01-19 07:56:57] DEBUG: Have saved restart data at t=5e-12 to barmini-restart.npz (sim.name=barmini)\n"
       ]
      },
      {
       "output_type": "stream",
       "stream": "stderr",
       "text": [
        "[2013-01-19 07:56:57] DEBUG: Have saved restart data at t=6e-12 to barmini-restart.npz (sim.name=barmini)\n"
       ]
      },
      {
       "output_type": "stream",
       "stream": "stderr",
       "text": [
        "[2013-01-19 07:56:57] DEBUG: Saving data to ndt file at t=6e-12 (sim.name=barmini).\n"
       ]
      },
      {
       "output_type": "stream",
       "stream": "stderr",
       "text": [
        "[2013-01-19 07:56:57] DEBUG: Have saved restart data at t=7e-12 to barmini-restart.npz (sim.name=barmini)\n"
       ]
      },
      {
       "output_type": "stream",
       "stream": "stderr",
       "text": [
        "[2013-01-19 07:56:57] DEBUG: Have saved restart data at t=8e-12 to barmini-restart.npz (sim.name=barmini)\n"
       ]
      },
      {
       "output_type": "stream",
       "stream": "stderr",
       "text": [
        "[2013-01-19 07:56:57] DEBUG: Saving data to ndt file at t=8e-12 (sim.name=barmini).\n"
       ]
      },
      {
       "output_type": "stream",
       "stream": "stderr",
       "text": [
        "[2013-01-19 07:56:57] DEBUG: Have saved restart data at t=9e-12 to barmini-restart.npz (sim.name=barmini)\n"
       ]
      },
      {
       "output_type": "stream",
       "stream": "stderr",
       "text": [
        "[2013-01-19 07:56:57] DEBUG: Have saved restart data at t=1e-11 to barmini-restart.npz (sim.name=barmini)\n"
       ]
      },
      {
       "output_type": "stream",
       "stream": "stderr",
       "text": [
        "[2013-01-19 07:56:57] DEBUG: Saving data to ndt file at t=1e-11 (sim.name=barmini).\n"
       ]
      },
      {
       "output_type": "stream",
       "stream": "stderr",
       "text": [
        "[2013-01-19 07:56:57] DEBUG: Saving average field values for simulation 'barmini'.\n"
       ]
      },
      {
       "output_type": "stream",
       "stream": "stdout",
       "text": [
        "Completed up to t=1e-11\n"
       ]
      }
     ],
     "prompt_number": 6
    },
    {
     "cell_type": "markdown",
     "metadata": {},
     "source": [
      "Carrying on with the integration all the scheduled activities apart from the at_end are still active:"
     ]
    },
    {
     "cell_type": "code",
     "collapsed": false,
     "input": [
      "sim2.run_until(20e-12)"
     ],
     "language": "python",
     "metadata": {},
     "outputs": [
      {
       "output_type": "stream",
       "stream": "stderr",
       "text": [
        "[2013-01-19 07:56:57] DEBUG: Integrating dynamics up to t = 2e-11\n"
       ]
      },
      {
       "output_type": "stream",
       "stream": "stderr",
       "text": [
        "[2013-01-19 07:56:57] DEBUG: Have saved restart data at t=1.1e-11 to barmini-restart.npz (sim.name=barmini)\n"
       ]
      },
      {
       "output_type": "stream",
       "stream": "stderr",
       "text": [
        "[2013-01-19 07:56:57] DEBUG: Have saved restart data at t=1.2e-11 to barmini-restart.npz (sim.name=barmini)\n"
       ]
      },
      {
       "output_type": "stream",
       "stream": "stderr",
       "text": [
        "[2013-01-19 07:56:57] DEBUG: Saving data to ndt file at t=1.2e-11 (sim.name=barmini).\n"
       ]
      },
      {
       "output_type": "stream",
       "stream": "stderr",
       "text": [
        "[2013-01-19 07:56:57] DEBUG: Have saved restart data at t=1.3e-11 to barmini-restart.npz (sim.name=barmini)\n"
       ]
      },
      {
       "output_type": "stream",
       "stream": "stderr",
       "text": [
        "[2013-01-19 07:56:57] DEBUG: Have saved restart data at t=1.4e-11 to barmini-restart.npz (sim.name=barmini)\n"
       ]
      },
      {
       "output_type": "stream",
       "stream": "stderr",
       "text": [
        "[2013-01-19 07:56:57] DEBUG: Saving data to ndt file at t=1.4e-11 (sim.name=barmini).\n"
       ]
      },
      {
       "output_type": "stream",
       "stream": "stderr",
       "text": [
        "[2013-01-19 07:56:57] DEBUG: Have saved restart data at t=1.5e-11 to barmini-restart.npz (sim.name=barmini)\n"
       ]
      },
      {
       "output_type": "stream",
       "stream": "stderr",
       "text": [
        "[2013-01-19 07:56:57] DEBUG: Have saved restart data at t=1.6e-11 to barmini-restart.npz (sim.name=barmini)\n"
       ]
      },
      {
       "output_type": "stream",
       "stream": "stderr",
       "text": [
        "[2013-01-19 07:56:57] DEBUG: Saving data to ndt file at t=1.6e-11 (sim.name=barmini).\n"
       ]
      },
      {
       "output_type": "stream",
       "stream": "stderr",
       "text": [
        "[2013-01-19 07:56:57] DEBUG: Have saved restart data at t=1.7e-11 to barmini-restart.npz (sim.name=barmini)\n"
       ]
      },
      {
       "output_type": "stream",
       "stream": "stderr",
       "text": [
        "[2013-01-19 07:56:57] DEBUG: Have saved restart data at t=1.8e-11 to barmini-restart.npz (sim.name=barmini)\n"
       ]
      },
      {
       "output_type": "stream",
       "stream": "stderr",
       "text": [
        "[2013-01-19 07:56:57] DEBUG: Saving data to ndt file at t=1.8e-11 (sim.name=barmini).\n"
       ]
      },
      {
       "output_type": "stream",
       "stream": "stderr",
       "text": [
        "[2013-01-19 07:56:57] DEBUG: Have saved restart data at t=1.9e-11 to barmini-restart.npz (sim.name=barmini)\n"
       ]
      },
      {
       "output_type": "stream",
       "stream": "stderr",
       "text": [
        "[2013-01-19 07:56:57] DEBUG: Have saved restart data at t=2e-11 to barmini-restart.npz (sim.name=barmini)\n"
       ]
      },
      {
       "output_type": "stream",
       "stream": "stderr",
       "text": [
        "[2013-01-19 07:56:57] DEBUG: Saving data to ndt file at t=2e-11 (sim.name=barmini).\n"
       ]
      },
      {
       "output_type": "stream",
       "stream": "stderr",
       "text": [
        "[2013-01-19 07:56:58] DEBUG: Saving average field values for simulation 'barmini'.\n"
       ]
      },
      {
       "output_type": "stream",
       "stream": "stdout",
       "text": [
        "Completed up to t=2e-11\n"
       ]
      }
     ],
     "prompt_number": 7
    }
   ],
   "metadata": {}
  }
 ]
}