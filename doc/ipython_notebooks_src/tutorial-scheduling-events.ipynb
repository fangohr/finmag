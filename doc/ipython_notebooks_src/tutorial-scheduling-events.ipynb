{
 "metadata": {
  "name": "tutorial-scheduling-events"
 },
 "nbformat": 3,
 "nbformat_minor": 0,
 "worksheets": [
  {
   "cells": [
    {
     "cell_type": "heading",
     "level": 2,
     "metadata": {},
     "source": [
      "Scheduling events"
     ]
    },
    {
     "cell_type": "markdown",
     "metadata": {},
     "source": [
      "First we create a simulation object, and schedule some events:"
     ]
    },
    {
     "cell_type": "code",
     "collapsed": false,
     "input": [
      "import finmag\n",
      "finmag.set_logging_level('INFO')"
     ],
     "language": "python",
     "metadata": {},
     "outputs": [
      {
       "output_type": "stream",
       "stream": "stderr",
       "text": [
        "[2013-02-04 16:08:19] INFO: Finmag logging output will be appended to file: '/home/albert/.finmag/global.log'\n"
       ]
      },
      {
       "output_type": "stream",
       "stream": "stderr",
       "text": [
        "[2013-02-04 16:08:19] DEBUG:               Finmag: 2871:ae1be50c469b414122003ecc3935e4fd629bddf7\n"
       ]
      },
      {
       "output_type": "stream",
       "stream": "stderr",
       "text": [
        "[2013-02-04 16:08:19] DEBUG:               Dolfin: 1.0.0\n"
       ]
      },
      {
       "output_type": "stream",
       "stream": "stderr",
       "text": [
        "[2013-02-04 16:08:19] DEBUG:           Matplotlib: 1.3.x\n"
       ]
      },
      {
       "output_type": "stream",
       "stream": "stderr",
       "text": [
        "[2013-02-04 16:08:19] DEBUG:                Numpy: 1.6.2\n"
       ]
      },
      {
       "output_type": "stream",
       "stream": "stderr",
       "text": [
        "[2013-02-04 16:08:19] DEBUG:                Scipy: 0.10.1\n"
       ]
      },
      {
       "output_type": "stream",
       "stream": "stderr",
       "text": [
        "[2013-02-04 16:08:19] DEBUG:              IPython: 0.14.dev\n"
       ]
      },
      {
       "output_type": "stream",
       "stream": "stderr",
       "text": [
        "[2013-02-04 16:08:19] DEBUG:               Python: 2.7.3\n"
       ]
      },
      {
       "output_type": "stream",
       "stream": "stderr",
       "text": [
        "[2013-02-04 16:08:19] DEBUG:             Paraview: 3.98~rc3-precise1\n"
       ]
      },
      {
       "output_type": "stream",
       "stream": "stderr",
       "text": [
        "[2013-02-04 16:08:19] DEBUG:             Sundials: 2.4.0-5\n"
       ]
      },
      {
       "output_type": "stream",
       "stream": "stderr",
       "text": [
        "[2013-02-04 16:08:19] DEBUG:         Boost-Python: 1.46.1\n"
       ]
      },
      {
       "output_type": "stream",
       "stream": "stderr",
       "text": [
        "[2013-02-04 16:08:19] DEBUG:                Linux: Ubuntu 12.04.2 LTS\n"
       ]
      },
      {
       "output_type": "stream",
       "stream": "stdout",
       "text": [
        "paraview version 3.98.0-enhanced\n"
       ]
      }
     ],
     "prompt_number": 1
    },
    {
     "cell_type": "code",
     "collapsed": false,
     "input": [
      "sim = finmag.example.barmini()\n",
      "sim.schedule('save_restart_data', every=1e-12)  # save restart data every 1e-12 seconds\n",
      "sim.schedule('save_ndt', every=2e-12)  # save to ndt file every 2e-12 seconds"
     ],
     "language": "python",
     "metadata": {},
     "outputs": [
      {
       "output_type": "stream",
       "stream": "stderr",
       "text": [
        "[2013-02-04 16:08:20] INFO: Finmag logging output will be written to file: '/home/albert/work/code/finmag/doc/ipython_notebooks_src/barmini.log' (any old content will be overwritten).\n"
       ]
      },
      {
       "output_type": "stream",
       "stream": "stderr",
       "text": [
        "[2013-02-04 16:08:20] INFO: Creating Sim object 'barmini' (rank=0/1).\n"
       ]
      },
      {
       "output_type": "stream",
       "stream": "stderr",
       "text": [
        "[2013-02-04 16:08:20] INFO: <Mesh of topological dimension 3 (tetrahedra) with 45 vertices and 96 cells, ordered>\n"
       ]
      }
     ],
     "prompt_number": 2
    },
    {
     "cell_type": "markdown",
     "metadata": {},
     "source": [
      "Now carry out the time integration to see that the scheduling works."
     ]
    },
    {
     "cell_type": "code",
     "collapsed": false,
     "input": [
      "sim.run_until(5e-12)"
     ],
     "language": "python",
     "metadata": {},
     "outputs": [
      {
       "output_type": "stream",
       "stream": "stderr",
       "text": [
        "[2013-02-04 16:08:22] INFO: Simulation will run until t = 5e-12 s.\n"
       ]
      },
      {
       "output_type": "stream",
       "stream": "stderr",
       "text": [
        "[2013-02-04 16:08:23] INFO: Simulation has reached time t = 5e-12 s.\n"
       ]
      }
     ],
     "prompt_number": 3
    },
    {
     "cell_type": "markdown",
     "metadata": {},
     "source": [
      "And if we carry on with the time integration, the scheduled events are still active:"
     ]
    },
    {
     "cell_type": "code",
     "collapsed": false,
     "input": [
      "sim.run_until(10e-12)"
     ],
     "language": "python",
     "metadata": {},
     "outputs": [
      {
       "output_type": "stream",
       "stream": "stderr",
       "text": [
        "[2013-02-04 16:08:25] INFO: Simulation will run until t = 1e-11 s.\n"
       ]
      },
      {
       "output_type": "stream",
       "stream": "stderr",
       "text": [
        "[2013-02-04 16:08:26] INFO: Simulation has reached time t = 1e-11 s.\n"
       ]
      }
     ],
     "prompt_number": 4
    },
    {
     "cell_type": "markdown",
     "metadata": {},
     "source": [
      "### Using at_end"
     ]
    },
    {
     "cell_type": "markdown",
     "metadata": {},
     "source": [
      "Often, we like to do something at the end of an integration command (like saving a VTK snapshot, or saving averages). Let's create a custom function for this (which also demonstrates how arbitrary actions can be schedule by creating such a custom function)."
     ]
    },
    {
     "cell_type": "code",
     "collapsed": false,
     "input": [
      "finmag.set_logging_level('INFO')  # we don't need all the debugging output any more"
     ],
     "language": "python",
     "metadata": {},
     "outputs": [],
     "prompt_number": 5
    },
    {
     "cell_type": "code",
     "collapsed": false,
     "input": [
      "def summary(sim):\n",
      "    \"\"\"Our custom function for some thing to be scheduled.\"\"\"\n",
      "    print(\"Completed up to t=%.g\" % sim.t)"
     ],
     "language": "python",
     "metadata": {},
     "outputs": [],
     "prompt_number": 6
    },
    {
     "cell_type": "code",
     "collapsed": false,
     "input": [
      "sim2 = finmag.example.barmini()\n",
      "sim2.schedule(summary, at_end=True)"
     ],
     "language": "python",
     "metadata": {},
     "outputs": [
      {
       "output_type": "stream",
       "stream": "stderr",
       "text": [
        "[2013-02-04 16:08:30] INFO: Finmag logging output will be written to file: '/home/albert/work/code/finmag/doc/ipython_notebooks_src/barmini.log' (any old content will be overwritten).\n"
       ]
      },
      {
       "output_type": "stream",
       "stream": "stderr",
       "text": [
        "[2013-02-04 16:08:30] INFO: Creating Sim object 'barmini' (rank=0/1).\n"
       ]
      },
      {
       "output_type": "stream",
       "stream": "stderr",
       "text": [
        "[2013-02-04 16:08:30] INFO: <Mesh of topological dimension 3 (tetrahedra) with 45 vertices and 96 cells, ordered>\n"
       ]
      }
     ],
     "prompt_number": 7
    },
    {
     "cell_type": "code",
     "collapsed": false,
     "input": [
      "sim2.run_until(10e-12)"
     ],
     "language": "python",
     "metadata": {},
     "outputs": [
      {
       "output_type": "stream",
       "stream": "stderr",
       "text": [
        "[2013-02-04 16:08:30] INFO: Simulation will run until t = 1e-11 s.\n"
       ]
      },
      {
       "output_type": "stream",
       "stream": "stderr",
       "text": [
        "[2013-02-04 16:08:32] INFO: Simulation has reached time t = 1e-11 s.\n"
       ]
      },
      {
       "output_type": "stream",
       "stream": "stdout",
       "text": [
        "Completed up to t=1e-11\n"
       ]
      }
     ],
     "prompt_number": 8
    },
    {
     "cell_type": "markdown",
     "metadata": {},
     "source": [
      "Carrying on with the integration all the scheduled activities apart from the at_end are still active:"
     ]
    },
    {
     "cell_type": "code",
     "collapsed": false,
     "input": [
      "sim2.run_until(20e-12)"
     ],
     "language": "python",
     "metadata": {},
     "outputs": [
      {
       "output_type": "stream",
       "stream": "stderr",
       "text": [
        "[2013-02-04 16:08:32] INFO: Simulation will run until t = 2e-11 s.\n"
       ]
      },
      {
       "output_type": "stream",
       "stream": "stderr",
       "text": [
        "[2013-02-04 16:08:33] INFO: Simulation has reached time t = 2e-11 s.\n"
       ]
      },
      {
       "output_type": "stream",
       "stream": "stdout",
       "text": [
        "Completed up to t=2e-11\n"
       ]
      }
     ],
     "prompt_number": 9
    },
    {
     "cell_type": "markdown",
     "metadata": {},
     "source": [
      "### Realtime scheduling"
     ]
    },
    {
     "cell_type": "markdown",
     "metadata": {},
     "source": [
      "Here is a simple example which uses the `realtime` argument to schedule a function which prints the current simulation time."
     ]
    },
    {
     "cell_type": "code",
     "collapsed": false,
     "input": [
      "sim3 = finmag.example.barmini()"
     ],
     "language": "python",
     "metadata": {},
     "outputs": [
      {
       "output_type": "stream",
       "stream": "stderr",
       "text": [
        "[2013-01-22 17:28:31] INFO: Finmag logging output will be written to file: '/home/albert/work/code/finmag/doc/ipython_notebooks_src/barmini.log' (any old content will be overwritten).\n"
       ]
      },
      {
       "output_type": "stream",
       "stream": "stderr",
       "text": [
        "[2013-01-22 17:28:31] INFO: Creating Sim object 'barmini' (rank=0/1) [Tue Jan 22 17:28:31 2013].\n"
       ]
      },
      {
       "output_type": "stream",
       "stream": "stderr",
       "text": [
        "[2013-01-22 17:28:31] INFO: <Mesh of topological dimension 3 (tetrahedra) with 45 vertices and 96 cells, ordered>\n"
       ]
      }
     ],
     "prompt_number": 35
    },
    {
     "cell_type": "markdown",
     "metadata": {},
     "source": [
      "Schedule a function which prints the current simulation time five times per second. Note that this is not very useful during the calls to `run_until()` because during those the control is with Sundials and the simulation time does not get updated. However, during the call to `relax()` we get some updates on the simulation time (although these updates still do not represent the exact internal time of the Sundials integrator), so this is somewhat helpful."
     ]
    },
    {
     "cell_type": "code",
     "collapsed": false,
     "input": [
      "import time\n",
      "\n",
      "def print_simulation_time(sim):\n",
      "    print(\"Current simulation time: {}\".format(sim.t))\n",
      "\n",
      "sim3.schedule(print_simulation_time, every=0.2, realtime=True)\n",
      "sim3.run_until(1e-10)\n",
      "sim3.run_until(2e-10)\n",
      "sim3.relax()"
     ],
     "language": "python",
     "metadata": {},
     "outputs": [
      {
       "output_type": "stream",
       "stream": "stdout",
       "text": [
        "Current simulation time: 0.0\n",
        "Current simulation time: 0.0"
       ]
      },
      {
       "output_type": "stream",
       "stream": "stdout",
       "text": [
        "\n",
        "Current simulation time: 0.0"
       ]
      },
      {
       "output_type": "stream",
       "stream": "stdout",
       "text": [
        "\n",
        "Current simulation time: 0.0"
       ]
      },
      {
       "output_type": "stream",
       "stream": "stdout",
       "text": [
        "\n",
        "Current simulation time: 0.0"
       ]
      },
      {
       "output_type": "stream",
       "stream": "stdout",
       "text": [
        "\n",
        "Current simulation time: 0.0"
       ]
      },
      {
       "output_type": "stream",
       "stream": "stdout",
       "text": [
        "\n",
        "Current simulation time: 0.0"
       ]
      },
      {
       "output_type": "stream",
       "stream": "stderr",
       "text": [
        "[2013-01-22 17:28:33] INFO: Simulation has reached time t = 1e-10.\n"
       ]
      },
      {
       "output_type": "stream",
       "stream": "stdout",
       "text": [
        "\n",
        "Current simulation time: 1e-10"
       ]
      },
      {
       "output_type": "stream",
       "stream": "stdout",
       "text": [
        "\n",
        "Current simulation time: 1e-10"
       ]
      },
      {
       "output_type": "stream",
       "stream": "stdout",
       "text": [
        "\n",
        "Current simulation time: 1e-10"
       ]
      },
      {
       "output_type": "stream",
       "stream": "stdout",
       "text": [
        "\n",
        "Current simulation time: 1e-10"
       ]
      },
      {
       "output_type": "stream",
       "stream": "stdout",
       "text": [
        "\n",
        "Current simulation time: 2e-10"
       ]
      },
      {
       "output_type": "stream",
       "stream": "stderr",
       "text": [
        "[2013-01-22 17:28:34] INFO: Simulation has reached time t = 2e-10.\n"
       ]
      },
      {
       "output_type": "stream",
       "stream": "stderr",
       "text": [
        "[2013-01-22 17:28:34] INFO: Will integrate until relaxation.\n"
       ]
      },
      {
       "output_type": "stream",
       "stream": "stdout",
       "text": [
        "\n",
        "Current simulation time: 2.13116816711e-10"
       ]
      },
      {
       "output_type": "stream",
       "stream": "stdout",
       "text": [
        "\n",
        "Current simulation time: 2.19685225067e-10"
       ]
      },
      {
       "output_type": "stream",
       "stream": "stdout",
       "text": [
        "\n",
        "Current simulation time: 2.29537837601e-10"
       ]
      },
      {
       "output_type": "stream",
       "stream": "stdout",
       "text": [
        "\n",
        "Current simulation time: 2.44316756401e-10"
       ]
      },
      {
       "output_type": "stream",
       "stream": "stdout",
       "text": [
        "\n",
        "Current simulation time: 2.44316756401e-10"
       ]
      },
      {
       "output_type": "stream",
       "stream": "stdout",
       "text": [
        "\n",
        "Current simulation time: 2.44316756401e-10"
       ]
      },
      {
       "output_type": "stream",
       "stream": "stdout",
       "text": [
        "\n",
        "Current simulation time: 2.66485134602e-10"
       ]
      },
      {
       "output_type": "stream",
       "stream": "stdout",
       "text": [
        "\n",
        "Current simulation time: 2.66485134602e-10"
       ]
      },
      {
       "output_type": "stream",
       "stream": "stdout",
       "text": [
        "\n",
        "Current simulation time: 2.99737701902e-10"
       ]
      },
      {
       "output_type": "stream",
       "stream": "stdout",
       "text": [
        "\n",
        "Current simulation time: 2.99737701902e-10"
       ]
      },
      {
       "output_type": "stream",
       "stream": "stdout",
       "text": [
        "\n",
        "Current simulation time: 3.49616552854e-10"
       ]
      },
      {
       "output_type": "stream",
       "stream": "stdout",
       "text": [
        "\n",
        "Current simulation time: 3.49616552854e-10"
       ]
      },
      {
       "output_type": "stream",
       "stream": "stdout",
       "text": [
        "\n",
        "Current simulation time: 3.49616552854e-10"
       ]
      },
      {
       "output_type": "stream",
       "stream": "stdout",
       "text": [
        "\n",
        "Current simulation time: 3.49616552854e-10"
       ]
      },
      {
       "output_type": "stream",
       "stream": "stdout",
       "text": [
        "\n",
        "Current simulation time: 3.49616552854e-10"
       ]
      },
      {
       "output_type": "stream",
       "stream": "stderr",
       "text": [
        "[2013-01-22 17:28:37] INFO: Relaxation finished at time t = 4.2e-10.\n"
       ]
      },
      {
       "output_type": "stream",
       "stream": "stdout",
       "text": [
        ".\n"
       ]
      }
     ],
     "prompt_number": 36
    },
    {
     "cell_type": "code",
     "collapsed": false,
     "input": [],
     "language": "python",
     "metadata": {},
     "outputs": [],
     "prompt_number": 36
    }
   ],
   "metadata": {}
  }
 ]
}