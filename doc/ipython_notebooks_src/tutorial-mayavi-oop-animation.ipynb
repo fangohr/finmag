{
 "metadata": {
  "name": ""
 },
 "nbformat": 3,
 "nbformat_minor": 0,
 "worksheets": [
  {
   "cells": [
    {
     "cell_type": "heading",
     "level": 1,
     "metadata": {},
     "source": [
      "tutorial-mayavi-oop-animation"
     ]
    },
    {
     "cell_type": "heading",
     "level": 4,
     "metadata": {},
     "source": [
      "Author: Mark Vousden"
     ]
    },
    {
     "cell_type": "heading",
     "level": 4,
     "metadata": {},
     "source": [
      "Last Modified: 28/03/2014"
     ]
    },
    {
     "cell_type": "markdown",
     "metadata": {},
     "source": [
      "This notebook is aimed at users of finmag who have looked at the previous Mayavi tutorial (tutorial-visualising-magnetisation-using-mayavi-mlab) and want to gain familiarity with the OOP approach of using Mayavi. In this notebook we will again create sample data, but this time we will write VTU files representing the DMI energy density as a skyrmion relaxes. These will be loaded by Mayavi to draw surface plots of the DMI energy density of the system as it relaxes. The background colour will be changed and these drawings will be used to generate an animation. As with before, much of the information here has been obtained from the Mayavi documentation[1]."
     ]
    },
    {
     "cell_type": "code",
     "collapsed": false,
     "input": [
      "import dolfin as df\n",
      "import finmag\n",
      "import mayavi\n",
      "import mayavi.api\n",
      "import mayavi.modules.surface\n",
      "import mayavi.filters.extract_vector_components \n",
      "import numpy as np\n",
      "import os\n",
      "\n",
      "print \"Mayavi Version: \" + mayavi.__version__\n",
      "!avconv -version"
     ],
     "language": "python",
     "metadata": {},
     "outputs": [
      {
       "output_type": "stream",
       "stream": "stderr",
       "text": [
        "[2014-03-27 19:51:41] INFO: Finmag logging output will be appended to file: '/home/mark/.finmag/global.log'\n"
       ]
      },
      {
       "output_type": "stream",
       "stream": "stderr",
       "text": [
        "[2014-03-27 19:51:41] DEBUG: Building modules in 'native'...\n"
       ]
      },
      {
       "output_type": "stream",
       "stream": "stderr",
       "text": [
        "[2014-03-27 19:51:42] DEBUG: FinMag          4565:726a12fcf48185b85b581251292be92a11958cbb\n"
       ]
      },
      {
       "output_type": "stream",
       "stream": "stderr",
       "text": [
        "[2014-03-27 19:51:42] DEBUG: Dolfin          1.3.0                Matplotlib      1.2.1               \n"
       ]
      },
      {
       "output_type": "stream",
       "stream": "stderr",
       "text": [
        "[2014-03-27 19:51:42] DEBUG: Numpy           1.7.1                Scipy           0.11.0              \n"
       ]
      },
      {
       "output_type": "stream",
       "stream": "stderr",
       "text": [
        "[2014-03-27 19:51:42] DEBUG: IPython         1.1.0                Python          2.7.4               \n"
       ]
      },
      {
       "output_type": "stream",
       "stream": "stderr",
       "text": [
        "[2014-03-27 19:51:42] DEBUG: Paraview        3.98.0-1~exp1        Sundials        2.5.0               \n"
       ]
      },
      {
       "output_type": "stream",
       "stream": "stderr",
       "text": [
        "[2014-03-27 19:51:42] DEBUG: Boost-Python    1.49.0               Linux           Ubuntu 13.04        \n"
       ]
      },
      {
       "output_type": "stream",
       "stream": "stderr",
       "text": [
        "[2014-03-27 19:51:42] DEBUG: Registering debug signal handler. Press Ctrl-Z at any time to stop execution and jump into the debugger.\n"
       ]
      },
      {
       "output_type": "stream",
       "stream": "stdout",
       "text": [
        "Mayavi Version: 4.1.0\n",
        "\u001b[0;39mavconv version 0.8.9-6:0.8.9-0ubuntu0.13.04.1, Copyright (c) 2000-2013 the Libav developers\r\n",
        "\u001b[0m\u001b[0;39m  built on Nov  9 2013 19:09:48 with gcc 4.7.3\r\n",
        "\u001b[0mavconv 0.8.9-6:0.8.9-0ubuntu0.13.04.1\r\n",
        "libavutil    51. 22. 1 / 51. 22. 1\r\n",
        "libavcodec   53. 35. 0 / 53. 35. 0\r\n",
        "libavformat  53. 21. 1 / 53. 21. 1\r\n",
        "libavdevice  53.  2. 0 / 53.  2. 0\r\n",
        "libavfilter   2. 15. 0 /  2. 15. 0\r\n",
        "libswscale    2.  1. 0 /  2.  1. 0\r\n",
        "libpostproc  52.  0. 0 / 52.  0. 0\r\n"
       ]
      }
     ],
     "prompt_number": 1
    },
    {
     "cell_type": "markdown",
     "metadata": {},
     "source": [
      "Firstly, lets create some simulation data, or skip it if the data is already there."
     ]
    },
    {
     "cell_type": "code",
     "collapsed": false,
     "input": [
      "dataPath = \"./tutorial_2_data/\"\n",
      "dataFile = \"./tutorial_2_data/DMI.pvd\"\n",
      "DFile = df.File(dataFile)\n",
      "\n",
      "# Create directory to store output data neatly.\n",
      "if not os.path.exists(dataPath):\n",
      "    os.makedirs(dataPath)\n",
      "\n",
      "# Check to see if we've done this before to save time.\n",
      "if not os.path.exists(dataFile):\n",
      "    \n",
      "    # Create simulation object with single skyrmion magnetisation.\n",
      "    mesh = df.RectangleMesh(-100, -100, 100, 100, 50, 50)\n",
      "    Ms = 1.567e5\n",
      "    sim = finmag.Simulation(mesh, Ms, unit_length=1e-9)\n",
      "    sim.initialise_skyrmions(skyrmionRadius=70)\n",
      "        \n",
      "    # Add energy objects to the simulation.\n",
      "    sim.add(finmag.energies.DMI(2.466e-4))    \n",
      "    sim.add(finmag.energies.Exchange(3.5322e-13))\n",
      "    sim.add(finmag.energies.Zeeman(np.array([0., 0., 0.5 * Ms])))          \n",
      "    energyD = sim.get_interaction(\"DMI\")\n",
      "    \n",
      "    # Run simulation and save DMI every so often.       \n",
      "    for zI in xrange(101):\n",
      "        sim.run_until(1e-11 * zI)\n",
      "        DFile << energyD.energy_density_function()"
     ],
     "language": "python",
     "metadata": {},
     "outputs": [],
     "prompt_number": 2
    },
    {
     "cell_type": "markdown",
     "metadata": {},
     "source": [
      "Now to start drawing. The first stages will be to become more familiar with the hierarchy of Mayavi. Firstly we will create an engine object, and create a scene object belonging to that engine. That scene will be used for the drawing operations in this notebook, though for advanced applications it is worth noting that an engine can have multiple scenes."
     ]
    },
    {
     "cell_type": "code",
     "collapsed": false,
     "input": [
      "# The engine object we will use to interface with Mayavi. To initialise the engine without off-screen rendering, use an\n",
      "# OffScreenEngine object instead.\n",
      "engine = mayavi.api.Engine()  \n",
      "engine.start()\n",
      "\n",
      "# Create a scene object for this engine, and obtain it. This can be modified freely and safely later.\n",
      "scene = engine.new_scene().scene"
     ],
     "language": "python",
     "metadata": {},
     "outputs": [],
     "prompt_number": 3
    },
    {
     "cell_type": "markdown",
     "metadata": {},
     "source": [
      "The engine doesn't require much configuration, though we do need to configure the scene. More specifically, we want to change the background colour of the scene, which can be done safely now."
     ]
    },
    {
     "cell_type": "code",
     "collapsed": false,
     "input": [
      "# Set the background of the scene to black (RGB=000)\n",
      "scene.background = (0., 0., 0.)"
     ],
     "language": "python",
     "metadata": {},
     "outputs": [],
     "prompt_number": 4
    },
    {
     "cell_type": "markdown",
     "metadata": {},
     "source": [
      "Now we load the data we generated into Mayavi. More specifically, we load the first VTU file of this relaxation and operate on that."
     ]
    },
    {
     "cell_type": "code",
     "collapsed": false,
     "input": [
      "# Load the first VTU file we generated and define our scene using this.\n",
      "vtkxml_file_reader = engine.open(dataPath + \"DMI000000.vtu\")"
     ],
     "language": "python",
     "metadata": {},
     "outputs": [],
     "prompt_number": 5
    },
    {
     "cell_type": "markdown",
     "metadata": {},
     "source": [
      "Now we can apply a surface module to represent our data and set a colourmap to use."
     ]
    },
    {
     "cell_type": "code",
     "collapsed": false,
     "input": [
      "# Create a surface module object, and add it to our data read from file.\n",
      "surface = mayavi.modules.surface.Surface()\n",
      "engine.add_filter(surface, vtkxml_file_reader)\n",
      "\n",
      "# Grab the colour manager.\n",
      "colour_man = engine.scenes[0].children[0].children[0].scalar_lut_manager\n",
      "\n",
      "# Change the colormap to something more friendly.\n",
      "colour_man.lut_mode = 'PuOr'"
     ],
     "language": "python",
     "metadata": {},
     "outputs": [],
     "prompt_number": 6
    },
    {
     "cell_type": "markdown",
     "metadata": {},
     "source": [
      "We can add a colourbar using out colour manager also."
     ]
    },
    {
     "cell_type": "code",
     "collapsed": false,
     "input": [
      "# Show me the colourbar, resize it and move it.\n",
      "colour_man.show_scalar_bar = True\n",
      "colour_man.scalar_bar_representation.position = np.array([ 0.77,  0.03 ])\n",
      "colour_man.scalar_bar_representation.position2 = np.array([ 0.049,  1.09 ])\n",
      "\n",
      "# Show me the legend too, and set the range of values.\n",
      "colour_man.show_legend = True\n",
      "colour_man.label_text_property.color = (1.0, 1.0, 1.0)\n",
      "colour_man.label_text_property.font_size = 40\n",
      "colour_man.number_of_labels = 21\n",
      "\n",
      "lLimit = -8e4\n",
      "uLimit = 2e3\n",
      "colour_man.data_range = np.array([lLimit, uLimit])"
     ],
     "language": "python",
     "metadata": {},
     "outputs": [],
     "prompt_number": 7
    },
    {
     "cell_type": "markdown",
     "metadata": {},
     "source": [
      "Another important aspect of our image is the camera position, which can be fully defined as below. Note that moving the camera requires a specific call to re-render the scene."
     ]
    },
    {
     "cell_type": "code",
     "collapsed": false,
     "input": [
      "height = 400.\n",
      "scene.camera.position = [0, 0., height]\n",
      "scene.camera.clipping_range = [height - 100, height + 100]\n",
      "scene.camera.focal_point = [0., 0., 0.]\n",
      "scene.camera.view_angle = 30.\n",
      "scene.camera.view_up = [0., 1., 0.]\n",
      "\n",
      "# Normally the scene is re-rendered when an object changes. Since we are not changing any filters or modules, the scene\n",
      "# needs to be re-rendered manually.\n",
      "scene.render()"
     ],
     "language": "python",
     "metadata": {},
     "outputs": [],
     "prompt_number": 8
    },
    {
     "cell_type": "markdown",
     "metadata": {},
     "source": [
      "Now that our scene is fully configured as we would like it, we can proceed to create our animation. In Mayavi, this can be achieved by loading the next VTU frame, saving a PNG file, and by using an external program to create the animation. The following example summarises this."
     ]
    },
    {
     "cell_type": "code",
     "collapsed": false,
     "input": [
      "# Iterate over each VTU file.\n",
      "for zI in xrange(101):\n",
      "\n",
      "    # Load the file corresponding to the next timestep. Mayavi is clever and knows that they are connected. This won't\n",
      "    # destroy our pipeline since the engine will only modify this object and not the ones above it in the pipeline. However,\n",
      "    # the range of values specified earlier will need to be restated before saving the image.\n",
      "    vtkxml_file_reader.timestep = zI\n",
      "    colour_man.data_range = np.array([lLimit, uLimit])\n",
      "    scene.save_png(dataPath + \"DMI{:06d}.png\".format(zI))\n",
      "    \n",
      "# Create the animation (how exciting!)\n",
      "!avconv -r 10 -y -i {dataPath}DMI%06d.png -same_quant {dataPath}out.mov -pass 2"
     ],
     "language": "python",
     "metadata": {},
     "outputs": [
      {
       "output_type": "stream",
       "stream": "stdout",
       "text": [
        "\u001b[0;39mavconv version 0.8.9-6:0.8.9-0ubuntu0.13.04.1, Copyright (c) 2000-2013 the Libav developers\r\n",
        "\u001b[0m\u001b[0;39m  built on Nov  9 2013 19:09:48 with gcc 4.7.3\r\n",
        "\u001b[0m\u001b[0;39mInput #0, image2, from './tutorial_2_data/DMI%06d.png':\r\n",
        "\u001b[0m\u001b[0;39m  Duration: \u001b[0m\u001b[0;39m00:00:10.10\u001b[0m\u001b[0;39m, start: \u001b[0m\u001b[0;39m0.000000\u001b[0m\u001b[0;39m, bitrate: \u001b[0m\u001b[0;39mN/A\u001b[0m\u001b[0;39m\r\n",
        "\u001b[0m\u001b[0;39m    Stream #0.0\u001b[0m\u001b[0;39m: Video: png, rgb24, 1920x1026\u001b[0m\u001b[0;39m, 10 fps\u001b[0m\u001b[0;39m, 10 tbr\u001b[0m\u001b[0;39m, 10 tbn\u001b[0m\u001b[0;39m, 10 tbc\u001b[0m\u001b[0;39m\r\n",
        "\u001b[0m\u001b[0;33mIncompatible pixel format 'rgb24' for codec 'mpeg4', auto-selecting format 'yuv420p'\r\n",
        "\u001b[0m\u001b[0;39m[buffer @ 0x1735b00] w:1920 h:1026 pixfmt:rgb24\r\n",
        "\u001b[0m\u001b[0;39m[avsink @ 0x1735d20] auto-inserting filter 'auto-inserted scaler 0' between the filter 'src' and the filter 'out'\r\n",
        "\u001b[0m\u001b[0;39m[scale @ 0x1720be0] w:1920 h:1026 fmt:rgb24 -> w:1920 h:1026 fmt:yuv420p flags:0x4\r\n",
        "\u001b[0m\u001b[0;39mOutput #0, mov, to './tutorial_2_data/out.mov':\r\n",
        "\u001b[0m\u001b[0;39m  Metadata:\r\n",
        "\u001b[0m\u001b[0;39m    encoder         : Lavf53.21.1\r\n",
        "\u001b[0m\u001b[0;39m    Stream #0.0\u001b[0m\u001b[0;39m: Video: mpeg4, yuv420p, 1920x1026, q=2-31, 200 kb/s\u001b[0m\u001b[0;39m, 10 tbn\u001b[0m\u001b[0;39m, 10 tbc\u001b[0m\u001b[0;39m\r\n",
        "\u001b[0m\u001b[0;39mStream mapping:\r\n",
        "\u001b[0m\u001b[0;39m  Stream #0:0 -> #0:0\u001b[0m\u001b[0;39m (png -> mpeg4)\u001b[0m\u001b[0;39m\r\n",
        "\u001b[0m\u001b[0;39mPress ctrl-c to stop encoding\r\n",
        "\u001b[0m"
       ]
      },
      {
       "output_type": "stream",
       "stream": "stdout",
       "text": [
        "\u001b[0;39mframe=   20 fps=  0 q=0.0 size=     545kB time=2.00 bitrate=2232.4kbits/s    \r",
        "\u001b[0m"
       ]
      },
      {
       "output_type": "stream",
       "stream": "stdout",
       "text": [
        "\u001b[0;39mframe=   39 fps= 37 q=0.0 size=     957kB time=3.90 bitrate=2010.0kbits/s    \r",
        "\u001b[0m"
       ]
      },
      {
       "output_type": "stream",
       "stream": "stdout",
       "text": [
        "\u001b[0;39mframe=   57 fps= 36 q=0.0 size=    1326kB time=5.70 bitrate=1905.6kbits/s    \r",
        "\u001b[0m"
       ]
      },
      {
       "output_type": "stream",
       "stream": "stdout",
       "text": [
        "\u001b[0;39mframe=   74 fps= 35 q=0.0 size=    1810kB time=7.40 bitrate=2004.2kbits/s    \r",
        "\u001b[0m"
       ]
      },
      {
       "output_type": "stream",
       "stream": "stdout",
       "text": [
        "\u001b[0;39mframe=   91 fps= 35 q=0.0 size=    2259kB time=9.10 bitrate=2033.8kbits/s    \r",
        "\u001b[0m"
       ]
      },
      {
       "output_type": "stream",
       "stream": "stdout",
       "text": [
        "\u001b[4;31m\u001b[0m\u001b[0;39mframe=  101 fps= 34 q=0.0 Lsize=    2551kB time=10.10 bitrate=2069.1kbits/s    \r",
        "\u001b[0m\u001b[0;39m\r\n",
        "\u001b[0m\u001b[0;39mvideo:2549kB audio:0kB global headers:0kB muxing overhead 0.060636%\r\n",
        "\u001b[0m"
       ]
      }
     ],
     "prompt_number": 9
    },
    {
     "cell_type": "markdown",
     "metadata": {},
     "source": [
      "You may want to experiment with more exotic modules and filters than I have here. There are many examples available on the mayavi documentation website that can be applied using a similar framework to this example. Some may find using a GUI more intuitive to explore the options that Mayavi offers; by using the Record button (the small red circle), it is possible to perform actions in the GUI while dumping actions to a Python script. This script can then be executed to recreate the workspace and pipeline, or it can be modified to manipulate files in a general case."
     ]
    },
    {
     "cell_type": "heading",
     "level": 3,
     "metadata": {},
     "source": [
      "References:"
     ]
    },
    {
     "cell_type": "markdown",
     "metadata": {},
     "source": [
      "[1] http://docs.enthought.com/mayavi/mayavi/"
     ]
    },
    {
     "cell_type": "markdown",
     "metadata": {},
     "source": [
      "[2] http://docs.enthought.com/mayavi/mayavi/overview.html#scenes-data-sources-and-visualization-modules-the-pipeline-model"
     ]
    }
   ],
   "metadata": {}
  }
 ]
}