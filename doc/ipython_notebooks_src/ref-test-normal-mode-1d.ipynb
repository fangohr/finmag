{
 "metadata": {
  "name": ""
 },
 "nbformat": 3,
 "nbformat_minor": 0,
 "worksheets": [
  {
   "cells": [
    {
     "cell_type": "markdown",
     "metadata": {},
     "source": [
      "In this example we test the normal modes using a 1d mesh, only the exchange and anisotropy interactions are considered, the expected frequencies are\n",
      "$$\\frac{\\omega}{\\gamma} = K + D \\left( \\frac{n \\pi}{L} \\right)^2$$\n",
      "where \n",
      "$$K = \\frac{2 K_x}{\\mu_0 M_s} \\qquad  D= \\frac{2 A}{\\mu_0 M_s}$$"
     ]
    },
    {
     "cell_type": "code",
     "collapsed": false,
     "input": [
      "def compute_modes_analytically(ns):\n",
      "    L = 300e-9\n",
      "    A = 1.3e-11\n",
      "    Kx = 8e4\n",
      "    gamma=2.21e5\n",
      "    Ms = 8.0e5\n",
      "    mu0 = 4*np.pi*1e-7\n",
      "    D = 2*A/(mu0*Ms)\n",
      "    K = 2*Kx/(mu0*Ms)\n",
      "    freqs=[]\n",
      "    for i in range(ns):\n",
      "        w=gamma*(K+D*(i*np.pi/L)**2)/(2*np.pi)\n",
      "        freqs.append(w/1e9)\n",
      "    return freqs"
     ],
     "language": "python",
     "metadata": {},
     "outputs": [],
     "prompt_number": 17
    },
    {
     "cell_type": "code",
     "collapsed": false,
     "input": [
      "# IPYTHON_TEST_IGNORE_OUTPUT\n",
      "import dolfin as df\n",
      "from finmag import Simulation\n",
      "from finmag.energies import Exchange, DMI, Demag, Zeeman, UniaxialAnisotropy\n",
      "from finmag.sim.sim import NormalModeSimulation\n",
      "from finmag.util.helpers import set_logging_level\n",
      "set_logging_level(\"INFO\")"
     ],
     "language": "python",
     "metadata": {},
     "outputs": [],
     "prompt_number": 21
    },
    {
     "cell_type": "code",
     "collapsed": false,
     "input": [
      "def compute_normal_modes(mesh,ns=10):\n",
      "    Ms = 8.0e5\n",
      "    sim = NormalModeSimulation(mesh, Ms, unit_length=1e-9, name = 'relax' )\n",
      "\n",
      "    sim.set_m((1,0,0))\n",
      "    A = 1.3e-11\n",
      "    Kx = 8e4\n",
      "\n",
      "    sim.add(Exchange(A))\n",
      "    sim.add(UniaxialAnisotropy(Kx,axis=[1,0,0], name='Kx'))\n",
      "\n",
      "    omega, w = sim.compute_normal_modes(n_values=ns)\n",
      "    freqs=[f for f in omega if f>0]\n",
      "    \n",
      "    return sorted(freqs)"
     ],
     "language": "python",
     "metadata": {},
     "outputs": [],
     "prompt_number": 22
    },
    {
     "cell_type": "code",
     "collapsed": false,
     "input": [
      "# IPYTHON_TEST_IGNORE_OUTPUT\n",
      "mesh = df.IntervalMesh(100,-100,200)\n",
      "freqs=compute_normal_modes(mesh)\n",
      "print freqs\n",
      "freqs2=compute_modes_analytically(5)\n",
      "print freqs2"
     ],
     "language": "python",
     "metadata": {},
     "outputs": [
      {
       "output_type": "stream",
       "stream": "stderr",
       "text": [
        "[2013-12-08 17:26:33] INFO: Finmag logging output will be written to file: '/home/ww1g11/Softwares/finmag/doc/ipython_notebooks_src/relax.log' (any old content will be overwritten).\n"
       ]
      },
      {
       "output_type": "stream",
       "stream": "stderr",
       "text": [
        "[2013-12-08 17:26:33] INFO: Creating Sim object 'relax' (rank=0/1).\n"
       ]
      },
      {
       "output_type": "stream",
       "stream": "stderr",
       "text": [
        "[2013-12-08 17:26:33] INFO: <Mesh of topological dimension 1 (intervals) with 101 vertices and 100 cells, ordered>\n"
       ]
      },
      {
       "output_type": "stream",
       "stream": "stderr",
       "text": [
        "[2013-12-08 17:26:33] INFO: Assembling eigenproblem matrix.\n"
       ]
      },
      {
       "output_type": "stream",
       "stream": "stdout",
       "text": [
        "[5.5984336103584234, 5.698190157222343, 5.9973613501461971, 6.4956519432816391, 7.1925701839395266]\n",
        "[5.597995396239161, 5.697752340683606, 5.997023174016939, 6.49580789623916, 7.194106507350273]\n"
       ]
      }
     ],
     "prompt_number": 23
    },
    {
     "cell_type": "markdown",
     "metadata": {},
     "source": [
      "As we can see, the frequencies obtained using two methods are quite close."
     ]
    }
   ],
   "metadata": {}
  }
 ]
}