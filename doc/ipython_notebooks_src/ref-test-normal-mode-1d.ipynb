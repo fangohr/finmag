{
 "cells": [
  {
   "cell_type": "markdown",
   "metadata": {},
   "source": [
    "# Normal modes of a 1D system with anisotropy and DMI"
   ]
  },
  {
   "cell_type": "markdown",
   "metadata": {},
   "source": [
    "**Purpose**: Compute normal modes of a 1D system with anisotropy and DMI and compare the computed solutions to analytical values.\n",
    "\n",
    "**Author and creation date**: Weiwei Wang, Dec 2013\n",
    "\n",
    "**Modifications by**:"
   ]
  },
  {
   "cell_type": "markdown",
   "metadata": {},
   "source": [
    "In this example we test the normal modes using a 1d mesh. We consider exchange, anisotropy and DMI interactions. The expected frequencies are\n",
    "$$\\frac{\\omega}{\\gamma} = K + D \\left( \\frac{n \\pi}{L} \\right)^2$$\n",
    "where \n",
    "$$K = \\frac{2 K_x}{\\mu_0 M_s} \\qquad  D= \\frac{2 A}{\\mu_0 M_s}$$"
   ]
  },
  {
   "cell_type": "code",
   "execution_count": 10,
   "metadata": {
    "collapsed": false
   },
   "outputs": [],
   "source": [
    "import numpy as np\n",
    "np.set_printoptions(precision=10)  # limit precision for printing to make the notebook reproducible for the tests"
   ]
  },
  {
   "cell_type": "code",
   "execution_count": 12,
   "metadata": {
    "collapsed": false
   },
   "outputs": [],
   "source": [
    "def compute_modes_analytically(ns):\n",
    "    L = 300e-9\n",
    "    A = 1.3e-11\n",
    "    Kx = 8e4\n",
    "    gamma=2.21e5\n",
    "    Ms = 8.0e5\n",
    "    Dx = 4e-4\n",
    "    mu0 = 4*np.pi*1e-7\n",
    "    J = 2*A/(mu0*Ms)\n",
    "    D = 2*Dx/(mu0*Ms)\n",
    "    K = 2*Kx/(mu0*Ms)\n",
    "    freqs = []\n",
    "    for i in range(ns):\n",
    "        w=gamma*(K+J*(i*np.pi/L)**2-0.25*D**2/J)/(2*np.pi)\n",
    "        freqs.append(w/1e9)\n",
    "    return np.array(freqs)"
   ]
  },
  {
   "cell_type": "code",
   "execution_count": 13,
   "metadata": {
    "collapsed": false
   },
   "outputs": [],
   "source": [
    "import dolfin as df\n",
    "from finmag import Simulation\n",
    "from finmag.energies import Exchange, DMI, Demag, Zeeman, UniaxialAnisotropy\n",
    "from finmag.sim.normal_mode_sim import NormalModeSimulation\n",
    "from finmag.util.helpers import set_logging_level\n",
    "set_logging_level(\"INFO\")"
   ]
  },
  {
   "cell_type": "code",
   "execution_count": 15,
   "metadata": {
    "collapsed": false
   },
   "outputs": [],
   "source": [
    "def compute_normal_modes(mesh, ns=10):\n",
    "    Ms = 8.0e5\n",
    "    sim = NormalModeSimulation(mesh, Ms, unit_length=1e-9, name = 'relax' )\n",
    "\n",
    "    sim.set_m((1,0,0))\n",
    "    A = 1.3e-11\n",
    "    Kx = 8e4\n",
    "    Dx = 4e-4\n",
    "\n",
    "    sim.add(Exchange(A))\n",
    "    sim.add(DMI(Dx))\n",
    "    sim.add(UniaxialAnisotropy(Kx,axis=[1,0,0], name='Kx'))\n",
    "\n",
    "    omega, w, rel_errors = sim.compute_normal_modes(n_values=ns, solver='scipy_sparse')\n",
    "    assert np.allclose(rel_errors, 0, atol=1e-11)\n",
    "    omega = np.real_if_close(omega, tol=1e3)\n",
    "    freqs = [f for f in omega if f>0]\n",
    "    \n",
    "    return np.array(sorted(freqs))"
   ]
  },
  {
   "cell_type": "code",
   "execution_count": 16,
   "metadata": {
    "collapsed": false
   },
   "outputs": [
    {
     "name": "stderr",
     "output_type": "stream",
     "text": [
      "[2014-06-09 18:03:28] INFO: Finmag logging output will be written to file: '/home/albert/work/code/finmag/doc/ipython_notebooks_src/relax.log' (any old content will be overwritten).\n",
      "[2014-06-09 18:03:28] INFO: Creating Sim object 'relax' (rank=0/1).\n",
      "[2014-06-09 18:03:28] INFO: <Mesh of topological dimension 1 (intervals) with 101 vertices and 100 cells, ordered>\n",
      "[2014-06-09 18:03:28] INFO: Assembling eigenproblem matrix.\n",
      "[2014-06-09 18:03:29] INFO: Finished assembling eigenproblem matrix.\n",
      "[2014-06-09 18:03:29] INFO: Solving eigenproblem. This may take a while...\n",
      "[2014-06-09 18:03:29] INFO: Computing the eigenvalues and eigenvectors took 0.02 seconds\n"
     ]
    },
    {
     "name": "stdout",
     "output_type": "stream",
     "text": [
      "[  5.3832237919   5.4830865318   5.7825761991   6.2813972336   6.9790573592\n",
      "   7.8748680696   8.9679453077  10.2572103383  11.7413908125  13.4190220233]\n",
      "[ 5.382687881   5.4824448254  5.7817156588  6.280500381   6.9787989921]\n"
     ]
    }
   ],
   "source": [
    "mesh = df.IntervalMesh(100, -100, 200)\n",
    "freqs = compute_normal_modes(mesh)\n",
    "print freqs\n",
    "freqs2 = compute_modes_analytically(5)\n",
    "print freqs2"
   ]
  },
  {
   "cell_type": "markdown",
   "metadata": {},
   "source": [
    "As we can see, the frequencies obtained using two methods are quite close."
   ]
  },
  {
   "cell_type": "code",
   "execution_count": null,
   "metadata": {
    "collapsed": false
   },
   "outputs": [],
   "source": []
  }
 ],
 "metadata": {
  "kernelspec": {
   "display_name": "Python 2",
   "language": "python",
   "name": "python2"
  },
  "language_info": {
   "codemirror_mode": {
    "name": "ipython",
    "version": 2
   },
   "file_extension": ".py",
   "mimetype": "text/x-python",
   "name": "python",
   "nbconvert_exporter": "python",
   "pygments_lexer": "ipython2",
   "version": "2.7.6"
  }
 },
 "nbformat": 4,
 "nbformat_minor": 0
}
