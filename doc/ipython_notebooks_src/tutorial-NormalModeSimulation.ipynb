{
 "metadata": {
  "name": ""
 },
 "nbformat": 3,
 "nbformat_minor": 0,
 "worksheets": [
  {
   "cells": [
    {
     "cell_type": "markdown",
     "metadata": {},
     "source": [
      "# Computing normal modes using the ringdown and eigenvalue method"
     ]
    },
    {
     "cell_type": "markdown",
     "metadata": {},
     "source": [
      "This notebook illustrates how to use the class `NormalModeSimulation` to perform normal mode computations. This class contains a number of convenience methods which make it easy to compute eigenmodes of a system using either the ringdown method (where the system is excited using a short field pulse, for example) or the \"analytical\" eigenvalue method."
     ]
    },
    {
     "cell_type": "code",
     "collapsed": false,
     "input": [
      "from finmag import normal_mode_simulation, sim_with\n",
      "from finmag.util.meshes import nanodisk"
     ],
     "language": "python",
     "metadata": {},
     "outputs": [
      {
       "output_type": "stream",
       "stream": "stderr",
       "text": [
        "[2013-09-02 11:48:02] INFO: Finmag logging output will be appended to file: '/home/albert/.finmag/global.log'\n"
       ]
      },
      {
       "output_type": "stream",
       "stream": "stderr",
       "text": [
        "[2013-09-02 11:48:02] DEBUG: Building modules in 'native'...\n"
       ]
      },
      {
       "output_type": "stream",
       "stream": "stderr",
       "text": [
        "[2013-09-02 11:48:04] DEBUG:               Finmag: 3795:ba4e71f08d3aa4c84e7ce5cfdd1ae6526aeb9d61\n"
       ]
      }
     ],
     "prompt_number": 1
    },
    {
     "cell_type": "markdown",
     "metadata": {},
     "source": [
      "## Creating and relaxing a simulation"
     ]
    },
    {
     "cell_type": "markdown",
     "metadata": {},
     "source": [
      "First we create a simulation and bring it into a relaxed state. We start by creating a mesh of a nanodisk with diameter 60 nm and height 10 nm. For illustration purposes (so that the calculations won't take too long) we choose a relatively coarse mesh discretisation of `maxh` = 5 nm. In a real simulation this should probably be chosen smaller (e.g. `maxh` = 3 nm)."
     ]
    },
    {
     "cell_type": "code",
     "collapsed": false,
     "input": [
      "d = 60\n",
      "h = 10\n",
      "maxh = 5.0\n",
      "\n",
      "mesh = nanodisk(d, h, maxh)\n",
      "print mesh"
     ],
     "language": "python",
     "metadata": {},
     "outputs": [
      {
       "output_type": "stream",
       "stream": "stderr",
       "text": [
        "[2013-09-02 11:48:04] DEBUG: The mesh '/home/albert/work/code/finmag/doc/ipython_notebooks_src/cyl-30_0-10_0-5_0.xml.gz' already exists and is automatically returned.\n"
       ]
      },
      {
       "output_type": "stream",
       "stream": "stdout",
       "text": [
        "<Mesh of topological dimension 3 (tetrahedra) with 333 vertices and 1016 cells, ordered>\n"
       ]
      }
     ],
     "prompt_number": 2
    },
    {
     "cell_type": "markdown",
     "metadata": {},
     "source": [
      "Next we define the material parameters for Permalloy, and choose an initial magnetisation from which to start the simulation (which in our case points along the x-axis). We also choose a large value `alpha=1.0` for the damping in order to speed up the relaxation. Finally, we apply an external field during the relaxation phase which points just slightly off the x-axis. In the ringdown phase below this field will be re-set to point exactly along the x-axis. This causes the magnetisation to precess, and this precession will be recorded and analysed to compute the normal modes."
     ]
    },
    {
     "cell_type": "code",
     "collapsed": false,
     "input": [
      "# Material parameters for Permalloy\n",
      "Ms = 8e5\n",
      "A=13e-12\n",
      "m_init = [1, 0, 0]\n",
      "alpha_relax = 1.0\n",
      "H_ext_relax = [1e5, 1e3, 0]"
     ],
     "language": "python",
     "metadata": {},
     "outputs": [],
     "prompt_number": 3
    },
    {
     "cell_type": "markdown",
     "metadata": {},
     "source": [
      "Now we create the simulation with the parameters defined above."
     ]
    },
    {
     "cell_type": "code",
     "collapsed": false,
     "input": [
      "sim = normal_mode_simulation(mesh, Ms, m_init, alpha=alpha_relax, unit_length=1e-9, A=A, H_ext=H_ext_relax)"
     ],
     "language": "python",
     "metadata": {},
     "outputs": [
      {
       "output_type": "stream",
       "stream": "stderr",
       "text": [
        "[2013-09-02 11:48:04] INFO: Finmag logging output will be written to file: '/home/albert/work/code/finmag/doc/ipython_notebooks_src/unnamed.log' (any old content will be overwritten).\n"
       ]
      },
      {
       "output_type": "stream",
       "stream": "stderr",
       "text": [
        "[2013-09-02 11:48:04] DEBUG: Creating DataWriter for file 'unnamed.ndt'\n"
       ]
      },
      {
       "output_type": "stream",
       "stream": "stderr",
       "text": [
        "[2013-09-02 11:48:04] INFO: Creating Sim object 'unnamed' (rank=0/1).\n"
       ]
      },
      {
       "output_type": "stream",
       "stream": "stderr",
       "text": [
        "[2013-09-02 11:48:04] INFO: <Mesh of topological dimension 3 (tetrahedra) with 333 vertices and 1016 cells, ordered>\n"
       ]
      },
      {
       "output_type": "stream",
       "stream": "stderr",
       "text": [
        "[2013-09-02 11:48:04] DEBUG: Creating LLG object.\n"
       ]
      },
      {
       "output_type": "stream",
       "stream": "stderr",
       "text": [
        "[2013-09-02 11:48:04] DEBUG: Creating Exchange object with method box-matrix-petsc, in Jacobian.\n"
       ]
      },
      {
       "output_type": "stream",
       "stream": "stderr",
       "text": [
        "[2013-09-02 11:48:04] DEBUG: Adding interaction <finmag.energies.exchange.Exchange object at 0x3c34110> to simulation 'unnamed'\n"
       ]
      },
      {
       "output_type": "stream",
       "stream": "stderr",
       "text": [
        "[2013-09-02 11:48:04] DEBUG: Adding interaction <finmag.energies.zeeman.Zeeman object at 0x3c348d0> to simulation 'unnamed'\n"
       ]
      },
      {
       "output_type": "stream",
       "stream": "stderr",
       "text": [
        "[2013-09-02 11:48:04] DEBUG: Creating Demag object with solver 'FK'.\n"
       ]
      },
      {
       "output_type": "stream",
       "stream": "stderr",
       "text": [
        "[2013-09-02 11:48:04] DEBUG: Adding interaction <finmag.energies.demag.fk_demag.FKDemag object at 0x3cce210> to simulation 'unnamed'\n"
       ]
      }
     ],
     "prompt_number": 4
    },
    {
     "cell_type": "markdown",
     "metadata": {},
     "source": [
      "... and relax it (in the presence of the external field)."
     ]
    },
    {
     "cell_type": "code",
     "collapsed": false,
     "input": [
      "sim.relax()"
     ],
     "language": "python",
     "metadata": {},
     "outputs": [
      {
       "output_type": "stream",
       "stream": "stderr",
       "text": [
        "[2013-09-02 11:48:04] INFO: Create integrator sundials with kwargs={}\n"
       ]
      },
      {
       "output_type": "stream",
       "stream": "stderr",
       "text": [
        "[2013-09-02 11:48:04] DEBUG: Creating integrator with backend sundials.\n"
       ]
      },
      {
       "output_type": "stream",
       "stream": "stderr",
       "text": [
        "[2013-09-02 11:48:04] INFO: Simulation will run until relaxation of the magnetisation.\n"
       ]
      },
      {
       "output_type": "stream",
       "stream": "stderr",
       "text": [
        "[2013-09-02 11:48:04] DEBUG: Relaxation parameters: stopping_dmdt=1.0 (degrees per nanosecond), dt_limit=1e-10, dmdt_increased_counter_limit=10\n"
       ]
      },
      {
       "output_type": "stream",
       "stream": "stderr",
       "text": [
        "[2013-09-02 11:48:04] DEBUG: At t=1e-14, last_dmdt=1.54e+03 * stopping_dmdt, next dt=1e-14.\n"
       ]
      },
      {
       "output_type": "stream",
       "stream": "stderr",
       "text": [
        "[2013-09-02 11:48:04] DEBUG: At t=2e-14, last_dmdt=1.53e+03 * stopping_dmdt, next dt=1.5e-14.\n"
       ]
      },
      {
       "output_type": "stream",
       "stream": "stderr",
       "text": [
        "[2013-09-02 11:48:04] DEBUG: At t=3.5e-14, last_dmdt=1.52e+03 * stopping_dmdt, next dt=2.25e-14.\n"
       ]
      },
      {
       "output_type": "stream",
       "stream": "stderr",
       "text": [
        "[2013-09-02 11:48:04] DEBUG: At t=5.75e-14, last_dmdt=1.51e+03 * stopping_dmdt, next dt=3.37e-14.\n"
       ]
      },
      {
       "output_type": "stream",
       "stream": "stderr",
       "text": [
        "[2013-09-02 11:48:04] DEBUG: At t=9.13e-14, last_dmdt=1.48e+03 * stopping_dmdt, next dt=5.06e-14.\n"
       ]
      },
      {
       "output_type": "stream",
       "stream": "stderr",
       "text": [
        "[2013-09-02 11:48:04] DEBUG: At t=1.42e-13, last_dmdt=1.45e+03 * stopping_dmdt, next dt=7.59e-14.\n"
       ]
      },
      {
       "output_type": "stream",
       "stream": "stderr",
       "text": [
        "[2013-09-02 11:48:04] DEBUG: At t=2.18e-13, last_dmdt=1.41e+03 * stopping_dmdt, next dt=1.14e-13.\n"
       ]
      },
      {
       "output_type": "stream",
       "stream": "stderr",
       "text": [
        "[2013-09-02 11:48:04] DEBUG: At t=3.32e-13, last_dmdt=1.36e+03 * stopping_dmdt, next dt=1.71e-13.\n"
       ]
      },
      {
       "output_type": "stream",
       "stream": "stderr",
       "text": [
        "[2013-09-02 11:48:04] DEBUG: At t=5.03e-13, last_dmdt=1.29e+03 * stopping_dmdt, next dt=2.56e-13.\n"
       ]
      },
      {
       "output_type": "stream",
       "stream": "stderr",
       "text": [
        "[2013-09-02 11:48:04] DEBUG: At t=7.59e-13, last_dmdt=1.19e+03 * stopping_dmdt, next dt=3.84e-13.\n"
       ]
      },
      {
       "output_type": "stream",
       "stream": "stderr",
       "text": [
        "[2013-09-02 11:48:04] DEBUG: At t=1.14e-12, last_dmdt=1.05e+03 * stopping_dmdt, next dt=5.77e-13.\n"
       ]
      },
      {
       "output_type": "stream",
       "stream": "stderr",
       "text": [
        "[2013-09-02 11:48:04] DEBUG: At t=1.72e-12, last_dmdt=903 * stopping_dmdt, next dt=8.65e-13.\n"
       ]
      },
      {
       "output_type": "stream",
       "stream": "stderr",
       "text": [
        "[2013-09-02 11:48:05] DEBUG: At t=2.58e-12, last_dmdt=737 * stopping_dmdt, next dt=1.3e-12.\n"
       ]
      },
      {
       "output_type": "stream",
       "stream": "stderr",
       "text": [
        "[2013-09-02 11:48:05] DEBUG: At t=3.88e-12, last_dmdt=569 * stopping_dmdt, next dt=1.95e-12.\n"
       ]
      },
      {
       "output_type": "stream",
       "stream": "stderr",
       "text": [
        "[2013-09-02 11:48:05] DEBUG: At t=5.83e-12, last_dmdt=436 * stopping_dmdt, next dt=2.92e-12.\n"
       ]
      },
      {
       "output_type": "stream",
       "stream": "stderr",
       "text": [
        "[2013-09-02 11:48:05] DEBUG: At t=8.75e-12, last_dmdt=359 * stopping_dmdt, next dt=4.38e-12.\n"
       ]
      },
      {
       "output_type": "stream",
       "stream": "stderr",
       "text": [
        "[2013-09-02 11:48:05] DEBUG: At t=1.31e-11, last_dmdt=266 * stopping_dmdt, next dt=6.57e-12.\n"
       ]
      },
      {
       "output_type": "stream",
       "stream": "stderr",
       "text": [
        "[2013-09-02 11:48:05] DEBUG: At t=1.97e-11, last_dmdt=187 * stopping_dmdt, next dt=9.85e-12.\n"
       ]
      },
      {
       "output_type": "stream",
       "stream": "stderr",
       "text": [
        "[2013-09-02 11:48:05] DEBUG: At t=2.95e-11, last_dmdt=121 * stopping_dmdt, next dt=1.48e-11.\n"
       ]
      },
      {
       "output_type": "stream",
       "stream": "stderr",
       "text": [
        "[2013-09-02 11:48:05] DEBUG: At t=4.43e-11, last_dmdt=59.7 * stopping_dmdt, next dt=2.22e-11.\n"
       ]
      },
      {
       "output_type": "stream",
       "stream": "stderr",
       "text": [
        "[2013-09-02 11:48:05] DEBUG: At t=6.65e-11, last_dmdt=19.8 * stopping_dmdt, next dt=3.33e-11.\n"
       ]
      },
      {
       "output_type": "stream",
       "stream": "stderr",
       "text": [
        "[2013-09-02 11:48:06] DEBUG: At t=9.97e-11, last_dmdt=7.48 * stopping_dmdt, next dt=4.99e-11.\n"
       ]
      },
      {
       "output_type": "stream",
       "stream": "stderr",
       "text": [
        "[2013-09-02 11:48:06] DEBUG: At t=1.5e-10, last_dmdt=1.14 * stopping_dmdt, next dt=7.48e-11.\n"
       ]
      },
      {
       "output_type": "stream",
       "stream": "stderr",
       "text": [
        "[2013-09-02 11:48:06] DEBUG: Stopping integration at t=2.24e-10, with dmdt=2.98e+06, smaller than threshold=1.75e+07.\n"
       ]
      },
      {
       "output_type": "stream",
       "stream": "stderr",
       "text": [
        "[2013-09-02 11:48:06] DEBUG: Re-initialising CVODE integrator.\n"
       ]
      },
      {
       "output_type": "stream",
       "stream": "stderr",
       "text": [
        "[2013-09-02 11:48:06] INFO: Relaxation finished at time t = 2.2e-10.\n"
       ]
      }
     ],
     "prompt_number": 5
    },
    {
     "cell_type": "markdown",
     "metadata": {},
     "source": [
      "This is what the relaxed state looks like (with the magnetisation essentially pointing along the field axis)."
     ]
    },
    {
     "cell_type": "code",
     "collapsed": false,
     "input": [
      "sim.render_scene()"
     ],
     "language": "python",
     "metadata": {},
     "outputs": [
      {
       "output_type": "stream",
       "stream": "stderr",
       "text": [
        "[2013-09-02 11:48:06] DEBUG: Saved field at t=2.2444482928e-10 to file '/tmp/tmp9binWe/paraview_scene_unnamed.pvd' (snapshot #0; saving took 0.00371 seconds).\n"
       ]
      },
      {
       "metadata": {},
       "output_type": "pyout",
       "png": "[encoded data removed]",
       "prompt_number": 6,
       "text": [
        "<IPython.core.display.Image at 0x3e65fd0>"
       ]
      }
     ],
     "prompt_number": 6
    },
    {
     "cell_type": "markdown",
     "metadata": {},
     "source": [
      "Now we redefine some parameters and define a few new ones which define the behaviour during the ringdown phase.\n",
      "\n",
      "  - We choose a small value of `alpha` so that the precession is nearly undamped (which is important to obtain well-defined peaks in the Fourier spectrum).\n",
      "\n",
      "  - We set the external field so that it points exactly along the x-axis. This introduces a small excitation into the system which we can use to measure the eigenmodes.\n",
      "  \n",
      "  - We also save the averaged magnetisation every 10 ps, as well as snapshots of the spatially resolved magnetisation every 10 ps. These will be used to compute the spectrum and export animations of the eigenmodes to VTK."
     ]
    },
    {
     "cell_type": "code",
     "collapsed": false,
     "input": [
      "alpha_ringdown = 0.01\n",
      "H_ext_ringdown = [1e5, 0, 0]\n",
      "t_end = 1e-9\n",
      "save_ndt_every = 1e-11\n",
      "save_m_every = 1e-11\n",
      "m_snapshots_filename = 'snapshots/m_ringdown.npy'"
     ],
     "language": "python",
     "metadata": {},
     "outputs": [],
     "prompt_number": 7
    },
    {
     "cell_type": "markdown",
     "metadata": {},
     "source": [
      "Now we run the actual ringdown. This is as simple as calling the function `sim.run_ringdown` with the parameters defined above."
     ]
    },
    {
     "cell_type": "code",
     "collapsed": false,
     "input": [
      "sim.run_ringdown(t_end=t_end, alpha=alpha_ringdown, H_ext=H_ext_ringdown, save_ndt_every=save_ndt_every,\n",
      "                 save_m_every=save_m_every, m_snapshots_filename=m_snapshots_filename, overwrite=True)"
     ],
     "language": "python",
     "metadata": {},
     "outputs": [
      {
       "output_type": "stream",
       "stream": "stderr",
       "text": [
        "[2013-09-02 11:48:09] DEBUG: Creating integrator with backend sundials.\n"
       ]
      },
      {
       "output_type": "stream",
       "stream": "stderr",
       "text": [
        "[2013-09-02 11:48:09] DEBUG: llg_integrator: kwds = {'t0': 0.0}\n"
       ]
      },
      {
       "output_type": "stream",
       "stream": "stderr",
       "text": [
        "[2013-09-02 11:48:09] DEBUG: Removing scheduled items:\n"
       ]
      },
      {
       "output_type": "stream",
       "stream": "stderr",
       "text": [
        "[2013-09-02 11:48:09] DEBUG: Setting self.t_step_ndt = 1e-11\n"
       ]
      },
      {
       "output_type": "stream",
       "stream": "stderr",
       "text": [
        "[2013-09-02 11:48:09] INFO: Simulation will run until t = 1e-09 s.\n"
       ]
      },
      {
       "output_type": "stream",
       "stream": "stderr",
       "text": [
        "[2013-09-02 11:48:09] DEBUG: Saving data to ndt file at t=0.0 (sim.name=unnamed).\n"
       ]
      },
      {
       "output_type": "stream",
       "stream": "stderr",
       "text": [
        "[2013-09-02 11:48:09] DEBUG: Overwriting 101 existing file(s) 'snapshots/m_ringdown*.npy'.\n"
       ]
      },
      {
       "output_type": "stream",
       "stream": "stderr",
       "text": [
        "[2013-09-02 11:48:09] DEBUG: Saving field data to file 'snapshots/m_ringdown_000000.npy'.\n"
       ]
      },
      {
       "output_type": "stream",
       "stream": "stderr",
       "text": [
        "[2013-09-02 11:48:09] DEBUG: Saving data to ndt file at t=1e-11 (sim.name=unnamed).\n"
       ]
      },
      {
       "output_type": "stream",
       "stream": "stderr",
       "text": [
        "[2013-09-02 11:48:09] DEBUG: Saving field data to file 'snapshots/m_ringdown_000001.npy'.\n"
       ]
      },
      {
       "output_type": "stream",
       "stream": "stderr",
       "text": [
        "[2013-09-02 11:48:09] DEBUG: Saving data to ndt file at t=2e-11 (sim.name=unnamed).\n"
       ]
      },
      {
       "output_type": "stream",
       "stream": "stderr",
       "text": [
        "[2013-09-02 11:48:09] DEBUG: Saving field data to file 'snapshots/m_ringdown_000002.npy'.\n"
       ]
      },
      {
       "output_type": "stream",
       "stream": "stderr",
       "text": [
        "[2013-09-02 11:48:09] DEBUG: Saving data to ndt file at t=3e-11 (sim.name=unnamed).\n"
       ]
      },
      {
       "output_type": "stream",
       "stream": "stderr",
       "text": [
        "[2013-09-02 11:48:09] DEBUG: Saving field data to file 'snapshots/m_ringdown_000003.npy'.\n"
       ]
      },
      {
       "output_type": "stream",
       "stream": "stderr",
       "text": [
        "[2013-09-02 11:48:09] DEBUG: Saving data to ndt file at t=4e-11 (sim.name=unnamed).\n"
       ]
      },
      {
       "output_type": "stream",
       "stream": "stderr",
       "text": [
        "[2013-09-02 11:48:09] DEBUG: Saving field data to file 'snapshots/m_ringdown_000004.npy'.\n"
       ]
      },
      {
       "output_type": "stream",
       "stream": "stderr",
       "text": [
        "[2013-09-02 11:48:10] DEBUG: Saving data to ndt file at t=5e-11 (sim.name=unnamed).\n"
       ]
      },
      {
       "output_type": "stream",
       "stream": "stderr",
       "text": [
        "[2013-09-02 11:48:10] DEBUG: Saving field data to file 'snapshots/m_ringdown_000005.npy'.\n"
       ]
      },
      {
       "output_type": "stream",
       "stream": "stderr",
       "text": [
        "[2013-09-02 11:48:10] DEBUG: Saving data to ndt file at t=6e-11 (sim.name=unnamed).\n"
       ]
      },
      {
       "output_type": "stream",
       "stream": "stderr",
       "text": [
        "[2013-09-02 11:48:10] DEBUG: Saving field data to file 'snapshots/m_ringdown_000006.npy'.\n"
       ]
      },
      {
       "output_type": "stream",
       "stream": "stderr",
       "text": [
        "[2013-09-02 11:48:10] DEBUG: Saving data to ndt file at t=7e-11 (sim.name=unnamed).\n"
       ]
      },
      {
       "output_type": "stream",
       "stream": "stderr",
       "text": [
        "[2013-09-02 11:48:10] DEBUG: Saving field data to file 'snapshots/m_ringdown_000007.npy'.\n"
       ]
      },
      {
       "output_type": "stream",
       "stream": "stderr",
       "text": [
        "[2013-09-02 11:48:10] DEBUG: Saving data to ndt file at t=8e-11 (sim.name=unnamed).\n"
       ]
      },
      {
       "output_type": "stream",
       "stream": "stderr",
       "text": [
        "[2013-09-02 11:48:10] DEBUG: Saving field data to file 'snapshots/m_ringdown_000008.npy'.\n"
       ]
      },
      {
       "output_type": "stream",
       "stream": "stderr",
       "text": [
        "[2013-09-02 11:48:11] DEBUG: Saving data to ndt file at t=9e-11 (sim.name=unnamed).\n"
       ]
      },
      {
       "output_type": "stream",
       "stream": "stderr",
       "text": [
        "[2013-09-02 11:48:11] DEBUG: Saving field data to file 'snapshots/m_ringdown_000009.npy'.\n"
       ]
      },
      {
       "output_type": "stream",
       "stream": "stderr",
       "text": [
        "[2013-09-02 11:48:11] DEBUG: Saving data to ndt file at t=1e-10 (sim.name=unnamed).\n"
       ]
      },
      {
       "output_type": "stream",
       "stream": "stderr",
       "text": [
        "[2013-09-02 11:48:11] DEBUG: Saving field data to file 'snapshots/m_ringdown_000010.npy'.\n"
       ]
      },
      {
       "output_type": "stream",
       "stream": "stderr",
       "text": [
        "[2013-09-02 11:48:11] DEBUG: Saving data to ndt file at t=1.1e-10 (sim.name=unnamed).\n"
       ]
      },
      {
       "output_type": "stream",
       "stream": "stderr",
       "text": [
        "[2013-09-02 11:48:11] DEBUG: Saving field data to file 'snapshots/m_ringdown_000011.npy'.\n"
       ]
      },
      {
       "output_type": "stream",
       "stream": "stderr",
       "text": [
        "[2013-09-02 11:48:11] DEBUG: Saving data to ndt file at t=1.2e-10 (sim.name=unnamed).\n"
       ]
      },
      {
       "output_type": "stream",
       "stream": "stderr",
       "text": [
        "[2013-09-02 11:48:11] DEBUG: Saving field data to file 'snapshots/m_ringdown_000012.npy'.\n"
       ]
      },
      {
       "output_type": "stream",
       "stream": "stderr",
       "text": [
        "[2013-09-02 11:48:12] DEBUG: Saving data to ndt file at t=1.3e-10 (sim.name=unnamed).\n"
       ]
      },
      {
       "output_type": "stream",
       "stream": "stderr",
       "text": [
        "[2013-09-02 11:48:12] DEBUG: Saving field data to file 'snapshots/m_ringdown_000013.npy'.\n"
       ]
      },
      {
       "output_type": "stream",
       "stream": "stderr",
       "text": [
        "[2013-09-02 11:48:12] DEBUG: Saving data to ndt file at t=1.4e-10 (sim.name=unnamed).\n"
       ]
      },
      {
       "output_type": "stream",
       "stream": "stderr",
       "text": [
        "[2013-09-02 11:48:12] DEBUG: Saving field data to file 'snapshots/m_ringdown_000014.npy'.\n"
       ]
      },
      {
       "output_type": "stream",
       "stream": "stderr",
       "text": [
        "[2013-09-02 11:48:12] DEBUG: Saving data to ndt file at t=1.5e-10 (sim.name=unnamed).\n"
       ]
      },
      {
       "output_type": "stream",
       "stream": "stderr",
       "text": [
        "[2013-09-02 11:48:12] DEBUG: Saving field data to file 'snapshots/m_ringdown_000015.npy'.\n"
       ]
      },
      {
       "output_type": "stream",
       "stream": "stderr",
       "text": [
        "[2013-09-02 11:48:13] DEBUG: Saving data to ndt file at t=1.6e-10 (sim.name=unnamed).\n"
       ]
      },
      {
       "output_type": "stream",
       "stream": "stderr",
       "text": [
        "[2013-09-02 11:48:13] DEBUG: Saving field data to file 'snapshots/m_ringdown_000016.npy'.\n"
       ]
      },
      {
       "output_type": "stream",
       "stream": "stderr",
       "text": [
        "[2013-09-02 11:48:13] DEBUG: Saving data to ndt file at t=1.7e-10 (sim.name=unnamed).\n"
       ]
      },
      {
       "output_type": "stream",
       "stream": "stderr",
       "text": [
        "[2013-09-02 11:48:13] DEBUG: Saving field data to file 'snapshots/m_ringdown_000017.npy'.\n"
       ]
      },
      {
       "output_type": "stream",
       "stream": "stderr",
       "text": [
        "[2013-09-02 11:48:14] DEBUG: Saving data to ndt file at t=1.8e-10 (sim.name=unnamed).\n"
       ]
      },
      {
       "output_type": "stream",
       "stream": "stderr",
       "text": [
        "[2013-09-02 11:48:14] DEBUG: Saving field data to file 'snapshots/m_ringdown_000018.npy'.\n"
       ]
      },
      {
       "output_type": "stream",
       "stream": "stderr",
       "text": [
        "[2013-09-02 11:48:14] DEBUG: Saving data to ndt file at t=1.9e-10 (sim.name=unnamed).\n"
       ]
      },
      {
       "output_type": "stream",
       "stream": "stderr",
       "text": [
        "[2013-09-02 11:48:14] DEBUG: Saving field data to file 'snapshots/m_ringdown_000019.npy'.\n"
       ]
      },
      {
       "output_type": "stream",
       "stream": "stderr",
       "text": [
        "[2013-09-02 11:48:15] DEBUG: Saving data to ndt file at t=2e-10 (sim.name=unnamed).\n"
       ]
      },
      {
       "output_type": "stream",
       "stream": "stderr",
       "text": [
        "[2013-09-02 11:48:15] DEBUG: Saving field data to file 'snapshots/m_ringdown_000020.npy'.\n"
       ]
      },
      {
       "output_type": "stream",
       "stream": "stderr",
       "text": [
        "[2013-09-02 11:48:15] DEBUG: Saving data to ndt file at t=2.1e-10 (sim.name=unnamed).\n"
       ]
      },
      {
       "output_type": "stream",
       "stream": "stderr",
       "text": [
        "[2013-09-02 11:48:15] DEBUG: Saving field data to file 'snapshots/m_ringdown_000021.npy'.\n"
       ]
      },
      {
       "output_type": "stream",
       "stream": "stderr",
       "text": [
        "[2013-09-02 11:48:16] DEBUG: Saving data to ndt file at t=2.2e-10 (sim.name=unnamed).\n"
       ]
      },
      {
       "output_type": "stream",
       "stream": "stderr",
       "text": [
        "[2013-09-02 11:48:16] DEBUG: Saving field data to file 'snapshots/m_ringdown_000022.npy'.\n"
       ]
      },
      {
       "output_type": "stream",
       "stream": "stderr",
       "text": [
        "[2013-09-02 11:48:16] DEBUG: Saving data to ndt file at t=2.3e-10 (sim.name=unnamed).\n"
       ]
      },
      {
       "output_type": "stream",
       "stream": "stderr",
       "text": [
        "[2013-09-02 11:48:16] DEBUG: Saving field data to file 'snapshots/m_ringdown_000023.npy'.\n"
       ]
      },
      {
       "output_type": "stream",
       "stream": "stderr",
       "text": [
        "[2013-09-02 11:48:17] DEBUG: Saving data to ndt file at t=2.4e-10 (sim.name=unnamed).\n"
       ]
      },
      {
       "output_type": "stream",
       "stream": "stderr",
       "text": [
        "[2013-09-02 11:48:17] DEBUG: Saving field data to file 'snapshots/m_ringdown_000024.npy'.\n"
       ]
      },
      {
       "output_type": "stream",
       "stream": "stderr",
       "text": [
        "[2013-09-02 11:48:18] DEBUG: Saving data to ndt file at t=2.5e-10 (sim.name=unnamed).\n"
       ]
      },
      {
       "output_type": "stream",
       "stream": "stderr",
       "text": [
        "[2013-09-02 11:48:18] DEBUG: Saving field data to file 'snapshots/m_ringdown_000025.npy'.\n"
       ]
      },
      {
       "output_type": "stream",
       "stream": "stderr",
       "text": [
        "[2013-09-02 11:48:18] DEBUG: Saving data to ndt file at t=2.6e-10 (sim.name=unnamed).\n"
       ]
      },
      {
       "output_type": "stream",
       "stream": "stderr",
       "text": [
        "[2013-09-02 11:48:18] DEBUG: Saving field data to file 'snapshots/m_ringdown_000026.npy'.\n"
       ]
      },
      {
       "output_type": "stream",
       "stream": "stderr",
       "text": [
        "[2013-09-02 11:48:19] DEBUG: Saving data to ndt file at t=2.7e-10 (sim.name=unnamed).\n"
       ]
      },
      {
       "output_type": "stream",
       "stream": "stderr",
       "text": [
        "[2013-09-02 11:48:19] DEBUG: Saving field data to file 'snapshots/m_ringdown_000027.npy'.\n"
       ]
      },
      {
       "output_type": "stream",
       "stream": "stderr",
       "text": [
        "[2013-09-02 11:48:20] DEBUG: Saving data to ndt file at t=2.8e-10 (sim.name=unnamed).\n"
       ]
      },
      {
       "output_type": "stream",
       "stream": "stderr",
       "text": [
        "[2013-09-02 11:48:20] DEBUG: Saving field data to file 'snapshots/m_ringdown_000028.npy'.\n"
       ]
      },
      {
       "output_type": "stream",
       "stream": "stderr",
       "text": [
        "[2013-09-02 11:48:21] DEBUG: Saving data to ndt file at t=2.9e-10 (sim.name=unnamed).\n"
       ]
      },
      {
       "output_type": "stream",
       "stream": "stderr",
       "text": [
        "[2013-09-02 11:48:21] DEBUG: Saving field data to file 'snapshots/m_ringdown_000029.npy'.\n"
       ]
      },
      {
       "output_type": "stream",
       "stream": "stderr",
       "text": [
        "[2013-09-02 11:48:21] DEBUG: Saving data to ndt file at t=3e-10 (sim.name=unnamed).\n"
       ]
      },
      {
       "output_type": "stream",
       "stream": "stderr",
       "text": [
        "[2013-09-02 11:48:21] DEBUG: Saving field data to file 'snapshots/m_ringdown_000030.npy'.\n"
       ]
      },
      {
       "output_type": "stream",
       "stream": "stderr",
       "text": [
        "[2013-09-02 11:48:22] DEBUG: Saving data to ndt file at t=3.1e-10 (sim.name=unnamed).\n"
       ]
      },
      {
       "output_type": "stream",
       "stream": "stderr",
       "text": [
        "[2013-09-02 11:48:23] DEBUG: Saving field data to file 'snapshots/m_ringdown_000031.npy'.\n"
       ]
      },
      {
       "output_type": "stream",
       "stream": "stderr",
       "text": [
        "[2013-09-02 11:48:23] DEBUG: Saving data to ndt file at t=3.2e-10 (sim.name=unnamed).\n"
       ]
      },
      {
       "output_type": "stream",
       "stream": "stderr",
       "text": [
        "[2013-09-02 11:48:23] DEBUG: Saving field data to file 'snapshots/m_ringdown_000032.npy'.\n"
       ]
      },
      {
       "output_type": "stream",
       "stream": "stderr",
       "text": [
        "[2013-09-02 11:48:24] DEBUG: Saving data to ndt file at t=3.3e-10 (sim.name=unnamed).\n"
       ]
      },
      {
       "output_type": "stream",
       "stream": "stderr",
       "text": [
        "[2013-09-02 11:48:24] DEBUG: Saving field data to file 'snapshots/m_ringdown_000033.npy'.\n"
       ]
      },
      {
       "output_type": "stream",
       "stream": "stderr",
       "text": [
        "[2013-09-02 11:48:25] DEBUG: Saving data to ndt file at t=3.4e-10 (sim.name=unnamed).\n"
       ]
      },
      {
       "output_type": "stream",
       "stream": "stderr",
       "text": [
        "[2013-09-02 11:48:25] DEBUG: Saving field data to file 'snapshots/m_ringdown_000034.npy'.\n"
       ]
      },
      {
       "output_type": "stream",
       "stream": "stderr",
       "text": [
        "[2013-09-02 11:48:25] DEBUG: Saving data to ndt file at t=3.5e-10 (sim.name=unnamed).\n"
       ]
      },
      {
       "output_type": "stream",
       "stream": "stderr",
       "text": [
        "[2013-09-02 11:48:25] DEBUG: Saving field data to file 'snapshots/m_ringdown_000035.npy'.\n"
       ]
      },
      {
       "output_type": "stream",
       "stream": "stderr",
       "text": [
        "[2013-09-02 11:48:26] DEBUG: Saving data to ndt file at t=3.6e-10 (sim.name=unnamed).\n"
       ]
      },
      {
       "output_type": "stream",
       "stream": "stderr",
       "text": [
        "[2013-09-02 11:48:26] DEBUG: Saving field data to file 'snapshots/m_ringdown_000036.npy'.\n"
       ]
      },
      {
       "output_type": "stream",
       "stream": "stderr",
       "text": [
        "[2013-09-02 11:48:26] DEBUG: Saving data to ndt file at t=3.7e-10 (sim.name=unnamed).\n"
       ]
      },
      {
       "output_type": "stream",
       "stream": "stderr",
       "text": [
        "[2013-09-02 11:48:26] DEBUG: Saving field data to file 'snapshots/m_ringdown_000037.npy'.\n"
       ]
      },
      {
       "output_type": "stream",
       "stream": "stderr",
       "text": [
        "[2013-09-02 11:48:27] DEBUG: Saving data to ndt file at t=3.8e-10 (sim.name=unnamed).\n"
       ]
      },
      {
       "output_type": "stream",
       "stream": "stderr",
       "text": [
        "[2013-09-02 11:48:27] DEBUG: Saving field data to file 'snapshots/m_ringdown_000038.npy'.\n"
       ]
      },
      {
       "output_type": "stream",
       "stream": "stderr",
       "text": [
        "[2013-09-02 11:48:28] DEBUG: Saving data to ndt file at t=3.9e-10 (sim.name=unnamed).\n"
       ]
      },
      {
       "output_type": "stream",
       "stream": "stderr",
       "text": [
        "[2013-09-02 11:48:28] DEBUG: Saving field data to file 'snapshots/m_ringdown_000039.npy'.\n"
       ]
      },
      {
       "output_type": "stream",
       "stream": "stderr",
       "text": [
        "[2013-09-02 11:48:28] DEBUG: Saving data to ndt file at t=4e-10 (sim.name=unnamed).\n"
       ]
      },
      {
       "output_type": "stream",
       "stream": "stderr",
       "text": [
        "[2013-09-02 11:48:28] DEBUG: Saving field data to file 'snapshots/m_ringdown_000040.npy'.\n"
       ]
      },
      {
       "output_type": "stream",
       "stream": "stderr",
       "text": [
        "[2013-09-02 11:48:29] DEBUG: Saving data to ndt file at t=4.1e-10 (sim.name=unnamed).\n"
       ]
      },
      {
       "output_type": "stream",
       "stream": "stderr",
       "text": [
        "[2013-09-02 11:48:29] DEBUG: Saving field data to file 'snapshots/m_ringdown_000041.npy'.\n"
       ]
      },
      {
       "output_type": "stream",
       "stream": "stderr",
       "text": [
        "[2013-09-02 11:48:29] DEBUG: Saving data to ndt file at t=4.2e-10 (sim.name=unnamed).\n"
       ]
      },
      {
       "output_type": "stream",
       "stream": "stderr",
       "text": [
        "[2013-09-02 11:48:29] DEBUG: Saving field data to file 'snapshots/m_ringdown_000042.npy'.\n"
       ]
      },
      {
       "output_type": "stream",
       "stream": "stderr",
       "text": [
        "[2013-09-02 11:48:30] DEBUG: Saving data to ndt file at t=4.3e-10 (sim.name=unnamed).\n"
       ]
      },
      {
       "output_type": "stream",
       "stream": "stderr",
       "text": [
        "[2013-09-02 11:48:30] DEBUG: Saving field data to file 'snapshots/m_ringdown_000043.npy'.\n"
       ]
      },
      {
       "output_type": "stream",
       "stream": "stderr",
       "text": [
        "[2013-09-02 11:48:30] DEBUG: Saving data to ndt file at t=4.4e-10 (sim.name=unnamed).\n"
       ]
      },
      {
       "output_type": "stream",
       "stream": "stderr",
       "text": [
        "[2013-09-02 11:48:30] DEBUG: Saving field data to file 'snapshots/m_ringdown_000044.npy'.\n"
       ]
      },
      {
       "output_type": "stream",
       "stream": "stderr",
       "text": [
        "[2013-09-02 11:48:30] DEBUG: Saving data to ndt file at t=4.5e-10 (sim.name=unnamed).\n"
       ]
      },
      {
       "output_type": "stream",
       "stream": "stderr",
       "text": [
        "[2013-09-02 11:48:30] DEBUG: Saving field data to file 'snapshots/m_ringdown_000045.npy'.\n"
       ]
      },
      {
       "output_type": "stream",
       "stream": "stderr",
       "text": [
        "[2013-09-02 11:48:31] DEBUG: Saving data to ndt file at t=4.6e-10 (sim.name=unnamed).\n"
       ]
      },
      {
       "output_type": "stream",
       "stream": "stderr",
       "text": [
        "[2013-09-02 11:48:31] DEBUG: Saving field data to file 'snapshots/m_ringdown_000046.npy'.\n"
       ]
      },
      {
       "output_type": "stream",
       "stream": "stderr",
       "text": [
        "[2013-09-02 11:48:31] DEBUG: Saving data to ndt file at t=4.7e-10 (sim.name=unnamed).\n"
       ]
      },
      {
       "output_type": "stream",
       "stream": "stderr",
       "text": [
        "[2013-09-02 11:48:31] DEBUG: Saving field data to file 'snapshots/m_ringdown_000047.npy'.\n"
       ]
      },
      {
       "output_type": "stream",
       "stream": "stderr",
       "text": [
        "[2013-09-02 11:48:31] DEBUG: Saving data to ndt file at t=4.8e-10 (sim.name=unnamed).\n"
       ]
      },
      {
       "output_type": "stream",
       "stream": "stderr",
       "text": [
        "[2013-09-02 11:48:31] DEBUG: Saving field data to file 'snapshots/m_ringdown_000048.npy'.\n"
       ]
      },
      {
       "output_type": "stream",
       "stream": "stderr",
       "text": [
        "[2013-09-02 11:48:32] DEBUG: Saving data to ndt file at t=4.9e-10 (sim.name=unnamed).\n"
       ]
      },
      {
       "output_type": "stream",
       "stream": "stderr",
       "text": [
        "[2013-09-02 11:48:32] DEBUG: Saving field data to file 'snapshots/m_ringdown_000049.npy'.\n"
       ]
      },
      {
       "output_type": "stream",
       "stream": "stderr",
       "text": [
        "[2013-09-02 11:48:32] DEBUG: Saving data to ndt file at t=5e-10 (sim.name=unnamed).\n"
       ]
      },
      {
       "output_type": "stream",
       "stream": "stderr",
       "text": [
        "[2013-09-02 11:48:32] DEBUG: Saving field data to file 'snapshots/m_ringdown_000050.npy'.\n"
       ]
      },
      {
       "output_type": "stream",
       "stream": "stderr",
       "text": [
        "[2013-09-02 11:48:32] DEBUG: Saving data to ndt file at t=5.1e-10 (sim.name=unnamed).\n"
       ]
      },
      {
       "output_type": "stream",
       "stream": "stderr",
       "text": [
        "[2013-09-02 11:48:32] DEBUG: Saving field data to file 'snapshots/m_ringdown_000051.npy'.\n"
       ]
      },
      {
       "output_type": "stream",
       "stream": "stderr",
       "text": [
        "[2013-09-02 11:48:33] DEBUG: Saving data to ndt file at t=5.2e-10 (sim.name=unnamed).\n"
       ]
      },
      {
       "output_type": "stream",
       "stream": "stderr",
       "text": [
        "[2013-09-02 11:48:33] DEBUG: Saving field data to file 'snapshots/m_ringdown_000052.npy'.\n"
       ]
      },
      {
       "output_type": "stream",
       "stream": "stderr",
       "text": [
        "[2013-09-02 11:48:33] DEBUG: Saving data to ndt file at t=5.3e-10 (sim.name=unnamed).\n"
       ]
      },
      {
       "output_type": "stream",
       "stream": "stderr",
       "text": [
        "[2013-09-02 11:48:33] DEBUG: Saving field data to file 'snapshots/m_ringdown_000053.npy'.\n"
       ]
      },
      {
       "output_type": "stream",
       "stream": "stderr",
       "text": [
        "[2013-09-02 11:48:33] DEBUG: Saving data to ndt file at t=5.4e-10 (sim.name=unnamed).\n"
       ]
      },
      {
       "output_type": "stream",
       "stream": "stderr",
       "text": [
        "[2013-09-02 11:48:33] DEBUG: Saving field data to file 'snapshots/m_ringdown_000054.npy'.\n"
       ]
      },
      {
       "output_type": "stream",
       "stream": "stderr",
       "text": [
        "[2013-09-02 11:48:33] DEBUG: Saving data to ndt file at t=5.5e-10 (sim.name=unnamed).\n"
       ]
      },
      {
       "output_type": "stream",
       "stream": "stderr",
       "text": [
        "[2013-09-02 11:48:33] DEBUG: Saving field data to file 'snapshots/m_ringdown_000055.npy'.\n"
       ]
      },
      {
       "output_type": "stream",
       "stream": "stderr",
       "text": [
        "[2013-09-02 11:48:34] DEBUG: Saving data to ndt file at t=5.6e-10 (sim.name=unnamed).\n"
       ]
      },
      {
       "output_type": "stream",
       "stream": "stderr",
       "text": [
        "[2013-09-02 11:48:34] DEBUG: Saving field data to file 'snapshots/m_ringdown_000056.npy'.\n"
       ]
      },
      {
       "output_type": "stream",
       "stream": "stderr",
       "text": [
        "[2013-09-02 11:48:34] DEBUG: Saving data to ndt file at t=5.7e-10 (sim.name=unnamed).\n"
       ]
      },
      {
       "output_type": "stream",
       "stream": "stderr",
       "text": [
        "[2013-09-02 11:48:34] DEBUG: Saving field data to file 'snapshots/m_ringdown_000057.npy'.\n"
       ]
      },
      {
       "output_type": "stream",
       "stream": "stderr",
       "text": [
        "[2013-09-02 11:48:35] DEBUG: Saving data to ndt file at t=5.8e-10 (sim.name=unnamed).\n"
       ]
      },
      {
       "output_type": "stream",
       "stream": "stderr",
       "text": [
        "[2013-09-02 11:48:35] DEBUG: Saving field data to file 'snapshots/m_ringdown_000058.npy'.\n"
       ]
      },
      {
       "output_type": "stream",
       "stream": "stderr",
       "text": [
        "[2013-09-02 11:48:35] DEBUG: Saving data to ndt file at t=5.9e-10 (sim.name=unnamed).\n"
       ]
      },
      {
       "output_type": "stream",
       "stream": "stderr",
       "text": [
        "[2013-09-02 11:48:35] DEBUG: Saving field data to file 'snapshots/m_ringdown_000059.npy'.\n"
       ]
      },
      {
       "output_type": "stream",
       "stream": "stderr",
       "text": [
        "[2013-09-02 11:48:35] DEBUG: Saving data to ndt file at t=6e-10 (sim.name=unnamed).\n"
       ]
      },
      {
       "output_type": "stream",
       "stream": "stderr",
       "text": [
        "[2013-09-02 11:48:35] DEBUG: Saving field data to file 'snapshots/m_ringdown_000060.npy'.\n"
       ]
      },
      {
       "output_type": "stream",
       "stream": "stderr",
       "text": [
        "[2013-09-02 11:48:35] DEBUG: Saving data to ndt file at t=6.1e-10 (sim.name=unnamed).\n"
       ]
      },
      {
       "output_type": "stream",
       "stream": "stderr",
       "text": [
        "[2013-09-02 11:48:36] DEBUG: Saving field data to file 'snapshots/m_ringdown_000061.npy'.\n"
       ]
      },
      {
       "output_type": "stream",
       "stream": "stderr",
       "text": [
        "[2013-09-02 11:48:36] DEBUG: Saving data to ndt file at t=6.2e-10 (sim.name=unnamed).\n"
       ]
      },
      {
       "output_type": "stream",
       "stream": "stderr",
       "text": [
        "[2013-09-02 11:48:36] DEBUG: Saving field data to file 'snapshots/m_ringdown_000062.npy'.\n"
       ]
      },
      {
       "output_type": "stream",
       "stream": "stderr",
       "text": [
        "[2013-09-02 11:48:36] DEBUG: Saving data to ndt file at t=6.3e-10 (sim.name=unnamed).\n"
       ]
      },
      {
       "output_type": "stream",
       "stream": "stderr",
       "text": [
        "[2013-09-02 11:48:36] DEBUG: Saving field data to file 'snapshots/m_ringdown_000063.npy'.\n"
       ]
      },
      {
       "output_type": "stream",
       "stream": "stderr",
       "text": [
        "[2013-09-02 11:48:37] DEBUG: Saving data to ndt file at t=6.4e-10 (sim.name=unnamed).\n"
       ]
      },
      {
       "output_type": "stream",
       "stream": "stderr",
       "text": [
        "[2013-09-02 11:48:37] DEBUG: Saving field data to file 'snapshots/m_ringdown_000064.npy'.\n"
       ]
      },
      {
       "output_type": "stream",
       "stream": "stderr",
       "text": [
        "[2013-09-02 11:48:37] DEBUG: Saving data to ndt file at t=6.5e-10 (sim.name=unnamed).\n"
       ]
      },
      {
       "output_type": "stream",
       "stream": "stderr",
       "text": [
        "[2013-09-02 11:48:37] DEBUG: Saving field data to file 'snapshots/m_ringdown_000065.npy'.\n"
       ]
      },
      {
       "output_type": "stream",
       "stream": "stderr",
       "text": [
        "[2013-09-02 11:48:38] DEBUG: Saving data to ndt file at t=6.6e-10 (sim.name=unnamed).\n"
       ]
      },
      {
       "output_type": "stream",
       "stream": "stderr",
       "text": [
        "[2013-09-02 11:48:38] DEBUG: Saving field data to file 'snapshots/m_ringdown_000066.npy'.\n"
       ]
      },
      {
       "output_type": "stream",
       "stream": "stderr",
       "text": [
        "[2013-09-02 11:48:38] DEBUG: Saving data to ndt file at t=6.7e-10 (sim.name=unnamed).\n"
       ]
      },
      {
       "output_type": "stream",
       "stream": "stderr",
       "text": [
        "[2013-09-02 11:48:38] DEBUG: Saving field data to file 'snapshots/m_ringdown_000067.npy'.\n"
       ]
      },
      {
       "output_type": "stream",
       "stream": "stderr",
       "text": [
        "[2013-09-02 11:48:38] DEBUG: Saving data to ndt file at t=6.8e-10 (sim.name=unnamed).\n"
       ]
      },
      {
       "output_type": "stream",
       "stream": "stderr",
       "text": [
        "[2013-09-02 11:48:38] DEBUG: Saving field data to file 'snapshots/m_ringdown_000068.npy'.\n"
       ]
      },
      {
       "output_type": "stream",
       "stream": "stderr",
       "text": [
        "[2013-09-02 11:48:39] DEBUG: Saving data to ndt file at t=6.9e-10 (sim.name=unnamed).\n"
       ]
      },
      {
       "output_type": "stream",
       "stream": "stderr",
       "text": [
        "[2013-09-02 11:48:39] DEBUG: Saving field data to file 'snapshots/m_ringdown_000069.npy'.\n"
       ]
      },
      {
       "output_type": "stream",
       "stream": "stderr",
       "text": [
        "[2013-09-02 11:48:40] DEBUG: Saving data to ndt file at t=7e-10 (sim.name=unnamed).\n"
       ]
      },
      {
       "output_type": "stream",
       "stream": "stderr",
       "text": [
        "[2013-09-02 11:48:40] DEBUG: Saving field data to file 'snapshots/m_ringdown_000070.npy'.\n"
       ]
      },
      {
       "output_type": "stream",
       "stream": "stderr",
       "text": [
        "[2013-09-02 11:48:41] DEBUG: Saving data to ndt file at t=7.1e-10 (sim.name=unnamed).\n"
       ]
      },
      {
       "output_type": "stream",
       "stream": "stderr",
       "text": [
        "[2013-09-02 11:48:41] DEBUG: Saving field data to file 'snapshots/m_ringdown_000071.npy'.\n"
       ]
      },
      {
       "output_type": "stream",
       "stream": "stderr",
       "text": [
        "[2013-09-02 11:48:41] DEBUG: Saving data to ndt file at t=7.2e-10 (sim.name=unnamed).\n"
       ]
      },
      {
       "output_type": "stream",
       "stream": "stderr",
       "text": [
        "[2013-09-02 11:48:41] DEBUG: Saving field data to file 'snapshots/m_ringdown_000072.npy'.\n"
       ]
      },
      {
       "output_type": "stream",
       "stream": "stderr",
       "text": [
        "[2013-09-02 11:48:42] DEBUG: Saving data to ndt file at t=7.3e-10 (sim.name=unnamed).\n"
       ]
      },
      {
       "output_type": "stream",
       "stream": "stderr",
       "text": [
        "[2013-09-02 11:48:42] DEBUG: Saving field data to file 'snapshots/m_ringdown_000073.npy'.\n"
       ]
      },
      {
       "output_type": "stream",
       "stream": "stderr",
       "text": [
        "[2013-09-02 11:48:43] DEBUG: Saving data to ndt file at t=7.4e-10 (sim.name=unnamed).\n"
       ]
      },
      {
       "output_type": "stream",
       "stream": "stderr",
       "text": [
        "[2013-09-02 11:48:43] DEBUG: Saving field data to file 'snapshots/m_ringdown_000074.npy'.\n"
       ]
      },
      {
       "output_type": "stream",
       "stream": "stderr",
       "text": [
        "[2013-09-02 11:48:43] DEBUG: Saving data to ndt file at t=7.5e-10 (sim.name=unnamed).\n"
       ]
      },
      {
       "output_type": "stream",
       "stream": "stderr",
       "text": [
        "[2013-09-02 11:48:43] DEBUG: Saving field data to file 'snapshots/m_ringdown_000075.npy'.\n"
       ]
      },
      {
       "output_type": "stream",
       "stream": "stderr",
       "text": [
        "[2013-09-02 11:48:44] DEBUG: Saving data to ndt file at t=7.6e-10 (sim.name=unnamed).\n"
       ]
      },
      {
       "output_type": "stream",
       "stream": "stderr",
       "text": [
        "[2013-09-02 11:48:44] DEBUG: Saving field data to file 'snapshots/m_ringdown_000076.npy'.\n"
       ]
      },
      {
       "output_type": "stream",
       "stream": "stderr",
       "text": [
        "[2013-09-02 11:48:44] DEBUG: Saving data to ndt file at t=7.7e-10 (sim.name=unnamed).\n"
       ]
      },
      {
       "output_type": "stream",
       "stream": "stderr",
       "text": [
        "[2013-09-02 11:48:44] DEBUG: Saving field data to file 'snapshots/m_ringdown_000077.npy'.\n"
       ]
      },
      {
       "output_type": "stream",
       "stream": "stderr",
       "text": [
        "[2013-09-02 11:48:45] DEBUG: Saving data to ndt file at t=7.8e-10 (sim.name=unnamed).\n"
       ]
      },
      {
       "output_type": "stream",
       "stream": "stderr",
       "text": [
        "[2013-09-02 11:48:45] DEBUG: Saving field data to file 'snapshots/m_ringdown_000078.npy'.\n"
       ]
      },
      {
       "output_type": "stream",
       "stream": "stderr",
       "text": [
        "[2013-09-02 11:48:45] DEBUG: Saving data to ndt file at t=7.9e-10 (sim.name=unnamed).\n"
       ]
      },
      {
       "output_type": "stream",
       "stream": "stderr",
       "text": [
        "[2013-09-02 11:48:45] DEBUG: Saving field data to file 'snapshots/m_ringdown_000079.npy'.\n"
       ]
      },
      {
       "output_type": "stream",
       "stream": "stderr",
       "text": [
        "[2013-09-02 11:48:46] DEBUG: Saving data to ndt file at t=8e-10 (sim.name=unnamed).\n"
       ]
      },
      {
       "output_type": "stream",
       "stream": "stderr",
       "text": [
        "[2013-09-02 11:48:46] DEBUG: Saving field data to file 'snapshots/m_ringdown_000080.npy'.\n"
       ]
      },
      {
       "output_type": "stream",
       "stream": "stderr",
       "text": [
        "[2013-09-02 11:48:46] DEBUG: Saving data to ndt file at t=8.1e-10 (sim.name=unnamed).\n"
       ]
      },
      {
       "output_type": "stream",
       "stream": "stderr",
       "text": [
        "[2013-09-02 11:48:46] DEBUG: Saving field data to file 'snapshots/m_ringdown_000081.npy'.\n"
       ]
      },
      {
       "output_type": "stream",
       "stream": "stderr",
       "text": [
        "[2013-09-02 11:48:46] DEBUG: Saving data to ndt file at t=8.2e-10 (sim.name=unnamed).\n"
       ]
      },
      {
       "output_type": "stream",
       "stream": "stderr",
       "text": [
        "[2013-09-02 11:48:46] DEBUG: Saving field data to file 'snapshots/m_ringdown_000082.npy'.\n"
       ]
      },
      {
       "output_type": "stream",
       "stream": "stderr",
       "text": [
        "[2013-09-02 11:48:47] DEBUG: Saving data to ndt file at t=8.3e-10 (sim.name=unnamed).\n"
       ]
      },
      {
       "output_type": "stream",
       "stream": "stderr",
       "text": [
        "[2013-09-02 11:48:47] DEBUG: Saving field data to file 'snapshots/m_ringdown_000083.npy'.\n"
       ]
      },
      {
       "output_type": "stream",
       "stream": "stderr",
       "text": [
        "[2013-09-02 11:48:47] DEBUG: Saving data to ndt file at t=8.4e-10 (sim.name=unnamed).\n"
       ]
      },
      {
       "output_type": "stream",
       "stream": "stderr",
       "text": [
        "[2013-09-02 11:48:47] DEBUG: Saving field data to file 'snapshots/m_ringdown_000084.npy'.\n"
       ]
      },
      {
       "output_type": "stream",
       "stream": "stderr",
       "text": [
        "[2013-09-02 11:48:47] DEBUG: Saving data to ndt file at t=8.5e-10 (sim.name=unnamed).\n"
       ]
      },
      {
       "output_type": "stream",
       "stream": "stderr",
       "text": [
        "[2013-09-02 11:48:47] DEBUG: Saving field data to file 'snapshots/m_ringdown_000085.npy'.\n"
       ]
      },
      {
       "output_type": "stream",
       "stream": "stderr",
       "text": [
        "[2013-09-02 11:48:48] DEBUG: Saving data to ndt file at t=8.6e-10 (sim.name=unnamed).\n"
       ]
      },
      {
       "output_type": "stream",
       "stream": "stderr",
       "text": [
        "[2013-09-02 11:48:48] DEBUG: Saving field data to file 'snapshots/m_ringdown_000086.npy'.\n"
       ]
      },
      {
       "output_type": "stream",
       "stream": "stderr",
       "text": [
        "[2013-09-02 11:48:48] DEBUG: Saving data to ndt file at t=8.7e-10 (sim.name=unnamed).\n"
       ]
      },
      {
       "output_type": "stream",
       "stream": "stderr",
       "text": [
        "[2013-09-02 11:48:48] DEBUG: Saving field data to file 'snapshots/m_ringdown_000087.npy'.\n"
       ]
      },
      {
       "output_type": "stream",
       "stream": "stderr",
       "text": [
        "[2013-09-02 11:48:48] DEBUG: Saving data to ndt file at t=8.8e-10 (sim.name=unnamed).\n"
       ]
      },
      {
       "output_type": "stream",
       "stream": "stderr",
       "text": [
        "[2013-09-02 11:48:48] DEBUG: Saving field data to file 'snapshots/m_ringdown_000088.npy'.\n"
       ]
      },
      {
       "output_type": "stream",
       "stream": "stderr",
       "text": [
        "[2013-09-02 11:48:49] DEBUG: Saving data to ndt file at t=8.9e-10 (sim.name=unnamed).\n"
       ]
      },
      {
       "output_type": "stream",
       "stream": "stderr",
       "text": [
        "[2013-09-02 11:48:49] DEBUG: Saving field data to file 'snapshots/m_ringdown_000089.npy'.\n"
       ]
      },
      {
       "output_type": "stream",
       "stream": "stderr",
       "text": [
        "[2013-09-02 11:48:49] DEBUG: Saving data to ndt file at t=9e-10 (sim.name=unnamed).\n"
       ]
      },
      {
       "output_type": "stream",
       "stream": "stderr",
       "text": [
        "[2013-09-02 11:48:49] DEBUG: Saving field data to file 'snapshots/m_ringdown_000090.npy'.\n"
       ]
      },
      {
       "output_type": "stream",
       "stream": "stderr",
       "text": [
        "[2013-09-02 11:48:49] DEBUG: Saving data to ndt file at t=9.1e-10 (sim.name=unnamed).\n"
       ]
      },
      {
       "output_type": "stream",
       "stream": "stderr",
       "text": [
        "[2013-09-02 11:48:49] DEBUG: Saving field data to file 'snapshots/m_ringdown_000091.npy'.\n"
       ]
      },
      {
       "output_type": "stream",
       "stream": "stderr",
       "text": [
        "[2013-09-02 11:48:50] DEBUG: Saving data to ndt file at t=9.2e-10 (sim.name=unnamed).\n"
       ]
      },
      {
       "output_type": "stream",
       "stream": "stderr",
       "text": [
        "[2013-09-02 11:48:50] DEBUG: Saving field data to file 'snapshots/m_ringdown_000092.npy'.\n"
       ]
      },
      {
       "output_type": "stream",
       "stream": "stderr",
       "text": [
        "[2013-09-02 11:48:50] DEBUG: Saving data to ndt file at t=9.3e-10 (sim.name=unnamed).\n"
       ]
      },
      {
       "output_type": "stream",
       "stream": "stderr",
       "text": [
        "[2013-09-02 11:48:50] DEBUG: Saving field data to file 'snapshots/m_ringdown_000093.npy'.\n"
       ]
      },
      {
       "output_type": "stream",
       "stream": "stderr",
       "text": [
        "[2013-09-02 11:48:51] DEBUG: Saving data to ndt file at t=9.4e-10 (sim.name=unnamed).\n"
       ]
      },
      {
       "output_type": "stream",
       "stream": "stderr",
       "text": [
        "[2013-09-02 11:48:51] DEBUG: Saving field data to file 'snapshots/m_ringdown_000094.npy'.\n"
       ]
      },
      {
       "output_type": "stream",
       "stream": "stderr",
       "text": [
        "[2013-09-02 11:48:51] DEBUG: Saving data to ndt file at t=9.5e-10 (sim.name=unnamed).\n"
       ]
      },
      {
       "output_type": "stream",
       "stream": "stderr",
       "text": [
        "[2013-09-02 11:48:51] DEBUG: Saving field data to file 'snapshots/m_ringdown_000095.npy'.\n"
       ]
      },
      {
       "output_type": "stream",
       "stream": "stderr",
       "text": [
        "[2013-09-02 11:48:51] DEBUG: Saving data to ndt file at t=9.6e-10 (sim.name=unnamed).\n"
       ]
      },
      {
       "output_type": "stream",
       "stream": "stderr",
       "text": [
        "[2013-09-02 11:48:51] DEBUG: Saving field data to file 'snapshots/m_ringdown_000096.npy'.\n"
       ]
      },
      {
       "output_type": "stream",
       "stream": "stderr",
       "text": [
        "[2013-09-02 11:48:52] DEBUG: Saving data to ndt file at t=9.7e-10 (sim.name=unnamed).\n"
       ]
      },
      {
       "output_type": "stream",
       "stream": "stderr",
       "text": [
        "[2013-09-02 11:48:52] DEBUG: Saving field data to file 'snapshots/m_ringdown_000097.npy'.\n"
       ]
      },
      {
       "output_type": "stream",
       "stream": "stderr",
       "text": [
        "[2013-09-02 11:48:52] DEBUG: Saving data to ndt file at t=9.8e-10 (sim.name=unnamed).\n"
       ]
      },
      {
       "output_type": "stream",
       "stream": "stderr",
       "text": [
        "[2013-09-02 11:48:52] DEBUG: Saving field data to file 'snapshots/m_ringdown_000098.npy'.\n"
       ]
      },
      {
       "output_type": "stream",
       "stream": "stderr",
       "text": [
        "[2013-09-02 11:48:52] DEBUG: Saving data to ndt file at t=9.9e-10 (sim.name=unnamed).\n"
       ]
      },
      {
       "output_type": "stream",
       "stream": "stderr",
       "text": [
        "[2013-09-02 11:48:52] DEBUG: Saving field data to file 'snapshots/m_ringdown_000099.npy'.\n"
       ]
      },
      {
       "output_type": "stream",
       "stream": "stderr",
       "text": [
        "[2013-09-02 11:48:53] DEBUG: Saving data to ndt file at t=1e-09 (sim.name=unnamed).\n"
       ]
      },
      {
       "output_type": "stream",
       "stream": "stderr",
       "text": [
        "[2013-09-02 11:48:53] DEBUG: Saving field data to file 'snapshots/m_ringdown_000100.npy'.\n"
       ]
      },
      {
       "output_type": "stream",
       "stream": "stderr",
       "text": [
        "[2013-09-02 11:48:53] INFO: Simulation has reached time t = 1e-09 s.\n"
       ]
      }
     ],
     "prompt_number": 8
    },
    {
     "cell_type": "markdown",
     "metadata": {},
     "source": [
      "Let's have a look at the dynamics of the averaged magnetisation during the ringdown. We only plot the components `m_y` and `m_z` because `m_x` remains virtually unchanged. We can achieve this by calling the helper method `sim.plot_dynamics`, which automatically reads the data from the `.ndt` file that is associated with the simulation (this only works because we told it to save averaged magnetisation values to this file during the ringdown phase above)."
     ]
    },
    {
     "cell_type": "code",
     "collapsed": false,
     "input": [
      "_ = sim.plot_dynamics('yz')"
     ],
     "language": "python",
     "metadata": {},
     "outputs": [
      {
       "metadata": {},
       "output_type": "display_data",
       "png": "[encoded data removed]",
       "text": [
        "<matplotlib.figure.Figure at 0x3e69290>"
       ]
      }
     ],
     "prompt_number": 9
    },
    {
     "cell_type": "markdown",
     "metadata": {},
     "source": [
      "We can also plot the FFT spectrum by calling `sim.plot_spectrum`. Again, this automatically reads the data from the `.ndt` file which was saved during the ringdown phase above. The resolution and maximum frequency depend on the length of the simulation (defined by the parameter `t_end` above) and the interval at which the magnetisation was saved (defined by `save_ndt_every`). Since we only ran the simulation for 1 ns, the frequency resolution is relatively coarse here."
     ]
    },
    {
     "cell_type": "code",
     "collapsed": false,
     "input": [
      "_ = sim.plot_spectrum(figsize=(16, 4))"
     ],
     "language": "python",
     "metadata": {},
     "outputs": [
      {
       "metadata": {},
       "output_type": "display_data",
       "png": "[encoded data removed]",
       "text": [
        "<matplotlib.figure.Figure at 0x3e5eb90>"
       ]
      }
     ],
     "prompt_number": 10
    },
    {
     "cell_type": "markdown",
     "metadata": {},
     "source": [
      "We notice a single peak above, and would like to visualise the mode by exporting a VTK file which we can animate in Paraview. In order to do this, we first need to find the exact location of the peak. It seems to be somewhere near 10 GHz, so we use this as a first approximation. The helper function `sim.find_peak_near_frequency` can be used to determine the exact location, as well as the index of the peak in the array of frequencies. This function also expects an argument specifying the magnetisation component ('x', 'y', or 'z') in whose spectrum to search for a peak. We use 'y' here because that ones seems to have the most prominent peak."
     ]
    },
    {
     "cell_type": "code",
     "collapsed": false,
     "input": [
      "peak_idx, peak_freq = sim.find_peak_near_frequency(10e-9, 'y')\n",
      "print \"Found peak at {:.3f} GHz (index in FFT array: {})\".format(peak_freq / 1e9, peak_idx)"
     ],
     "language": "python",
     "metadata": {},
     "outputs": [
      {
       "output_type": "stream",
       "stream": "stdout",
       "text": [
        "Found peak at 7.921 GHz (index in FFT array: 8)\n"
       ]
      }
     ],
     "prompt_number": 11
    },
    {
     "cell_type": "markdown",
     "metadata": {},
     "source": [
      "In order to have a visual confirmation whether the peak was detected correctly, let's use the helper function `sim.plot_peak_near_frequency` (which accepts the same parameters as `sim.find_peak_near_frequency`)."
     ]
    },
    {
     "cell_type": "code",
     "collapsed": false,
     "input": [
      "_ = sim.plot_peak_near_frequency(10e-9, 'y', figsize=(16, 4))"
     ],
     "language": "python",
     "metadata": {},
     "outputs": [
      {
       "metadata": {},
       "output_type": "display_data",
       "png": "[encoded data removed]",
       "text": [
        "<matplotlib.figure.Figure at 0x40dd250>"
       ]
      }
     ],
     "prompt_number": 12
    },
    {
     "cell_type": "markdown",
     "metadata": {},
     "source": [
      "We can now export an animation of the eigenmode corresponding to that peak. The helper function `sim.export_normal_mode_animation_from_ringdown` does this for us. We again give it the approximate frequency and component (these have the same meaning as in the functions discussed previously, as well as an output directory (it is also possible to specify a filename directly). We also tell it to animate one cycle of the oscillation using 10 frames."
     ]
    },
    {
     "cell_type": "code",
     "collapsed": false,
     "input": [
      "sim.export_normal_mode_animation_from_ringdown(\\\n",
      "        'snapshots/m_ringdown_*.npy', f_approx=10e-9, component='y', directory='animations/ringdown',\n",
      "        num_cycles=1, num_frames_per_cycle=10)"
     ],
     "language": "python",
     "metadata": {},
     "outputs": [
      {
       "output_type": "stream",
       "stream": "stderr",
       "text": [
        "[2013-09-02 11:48:54] DEBUG: Array with magnetisation dynamics occupies 0.769798278809 MB of memory\n"
       ]
      },
      {
       "output_type": "stream",
       "stream": "stderr",
       "text": [
        "[2013-09-02 11:48:54] DEBUG: Computing the Fourier transform took 0.021 seconds\n"
       ]
      },
      {
       "output_type": "stream",
       "stream": "stderr",
       "text": [
        "[2013-09-02 11:48:54] DEBUG: Maximum value of the signal: 0.00934989570396\n"
       ]
      },
      {
       "output_type": "stream",
       "stream": "stderr",
       "text": [
        "[2013-09-02 11:48:54] DEBUG: Saving normal mode animation to file 'animations/ringdown/normal_mode_8__7.921_GHz.pvd'.\n"
       ]
      },
      {
       "output_type": "stream",
       "stream": "stderr",
       "text": [
        "[2013-09-02 11:48:54] DEBUG: Saving the data took 0.0662288665771 seconds\n"
       ]
      }
     ],
     "prompt_number": 13
    },
    {
     "cell_type": "markdown",
     "metadata": {},
     "source": [
      "To confirm, the output directory now contains a bunch of VTK files which can be imported into Paraview to inspect the mode in detail."
     ]
    },
    {
     "cell_type": "code",
     "collapsed": false,
     "input": [
      "ls -1 animations/ringdown/"
     ],
     "language": "python",
     "metadata": {},
     "outputs": [
      {
       "output_type": "stream",
       "stream": "stdout",
       "text": [
        "normal_mode_8__7.921_GHz000000.vtu\r\n",
        "normal_mode_8__7.921_GHz000001.vtu\r\n",
        "normal_mode_8__7.921_GHz000002.vtu\r\n",
        "normal_mode_8__7.921_GHz000003.vtu\r\n",
        "normal_mode_8__7.921_GHz000004.vtu\r\n",
        "normal_mode_8__7.921_GHz000005.vtu\r\n",
        "normal_mode_8__7.921_GHz000006.vtu\r\n",
        "normal_mode_8__7.921_GHz000007.vtu\r\n",
        "normal_mode_8__7.921_GHz000008.vtu\r\n",
        "normal_mode_8__7.921_GHz000009.vtu\r\n",
        "normal_mode_8__7.921_GHz.pvd\r\n"
       ]
      }
     ],
     "prompt_number": 14
    },
    {
     "cell_type": "markdown",
     "metadata": {},
     "source": [
      "## Computing normal modes using the eigenvalue method"
     ]
    },
    {
     "cell_type": "markdown",
     "metadata": {},
     "source": [
      "An alternative to the ringdown method is to compute the normal modes using an analytical eigenvalue approach as described in reference [1]. All we need to do is to tell the system how many eigenvalues we want to compute. Optionally, it is possible specify the tolerance, and whether to save the computed matrices for later use (neither of which we are doing here).\n",
      "\n",
      "[1] D'Aquino et al., \"A novel formulation for the numerical computation of magnetization modes in complex micromagnetic systems\", J Comp Phys 228, 17, 6130\u20136149 (2009)."
     ]
    },
    {
     "cell_type": "code",
     "collapsed": false,
     "input": [
      "omega, w = sim.compute_normal_modes(n_values=20)"
     ],
     "language": "python",
     "metadata": {},
     "outputs": [
      {
       "output_type": "stream",
       "stream": "stderr",
       "text": [
        "[2013-09-02 11:48:54] DEBUG: Computing basis of the tangent space and transition matrices.\n"
       ]
      },
      {
       "output_type": "stream",
       "stream": "stderr",
       "text": [
        "[2013-09-02 11:48:54] INFO: Assembling eigenproblem matrix.\n"
       ]
      },
      {
       "output_type": "stream",
       "stream": "stderr",
       "text": [
        "[2013-09-02 11:48:54] DEBUG: Processing row 0/666  (time taken so far: 0.01 seconds)\n"
       ]
      },
      {
       "output_type": "stream",
       "stream": "stderr",
       "text": [
        "[2013-09-02 11:48:55] DEBUG: Processing row 50/666  (time taken so far: 0.64 seconds)\n"
       ]
      },
      {
       "output_type": "stream",
       "stream": "stderr",
       "text": [
        "[2013-09-02 11:48:56] DEBUG: Processing row 100/666  (time taken so far: 1.28 seconds)\n"
       ]
      },
      {
       "output_type": "stream",
       "stream": "stderr",
       "text": [
        "[2013-09-02 11:48:56] DEBUG: Processing row 150/666  (time taken so far: 1.91 seconds)\n"
       ]
      },
      {
       "output_type": "stream",
       "stream": "stderr",
       "text": [
        "[2013-09-02 11:48:57] DEBUG: Processing row 200/666  (time taken so far: 2.55 seconds)\n"
       ]
      },
      {
       "output_type": "stream",
       "stream": "stderr",
       "text": [
        "[2013-09-02 11:48:58] DEBUG: Processing row 250/666  (time taken so far: 3.19 seconds)\n"
       ]
      },
      {
       "output_type": "stream",
       "stream": "stderr",
       "text": [
        "[2013-09-02 11:48:58] DEBUG: Processing row 300/666  (time taken so far: 3.85 seconds)\n"
       ]
      },
      {
       "output_type": "stream",
       "stream": "stderr",
       "text": [
        "[2013-09-02 11:48:59] DEBUG: Processing row 350/666  (time taken so far: 4.52 seconds)\n"
       ]
      },
      {
       "output_type": "stream",
       "stream": "stderr",
       "text": [
        "[2013-09-02 11:49:00] DEBUG: Processing row 400/666  (time taken so far: 5.18 seconds)\n"
       ]
      },
      {
       "output_type": "stream",
       "stream": "stderr",
       "text": [
        "[2013-09-02 11:49:00] DEBUG: Processing row 450/666  (time taken so far: 5.86 seconds)\n"
       ]
      },
      {
       "output_type": "stream",
       "stream": "stderr",
       "text": [
        "[2013-09-02 11:49:01] DEBUG: Processing row 500/666  (time taken so far: 6.53 seconds)\n"
       ]
      },
      {
       "output_type": "stream",
       "stream": "stderr",
       "text": [
        "[2013-09-02 11:49:02] DEBUG: Processing row 550/666  (time taken so far: 7.24 seconds)\n"
       ]
      },
      {
       "output_type": "stream",
       "stream": "stderr",
       "text": [
        "[2013-09-02 11:49:02] DEBUG: Processing row 600/666  (time taken so far: 7.96 seconds)\n"
       ]
      },
      {
       "output_type": "stream",
       "stream": "stderr",
       "text": [
        "[2013-09-02 11:49:03] DEBUG: Processing row 650/666  (time taken so far: 8.59 seconds)\n"
       ]
      },
      {
       "output_type": "stream",
       "stream": "stderr",
       "text": [
        "[2013-09-02 11:49:03] DEBUG: Eigenproblem matrix A occupies 6.77 MB of memory.\n"
       ]
      },
      {
       "output_type": "stream",
       "stream": "stderr",
       "text": [
        "[2013-09-02 11:49:03] DEBUG: Solving eigenproblem. This may take a while...\n"
       ]
      },
      {
       "output_type": "stream",
       "stream": "stderr",
       "text": [
        "[2013-09-02 11:49:05] DEBUG: Computing the eigenvalues and eigenvectors took 2.08 seconds\n"
       ]
      }
     ],
     "prompt_number": 15
    },
    {
     "cell_type": "markdown",
     "metadata": {},
     "source": [
      "The computed normal mode frequencies (in GHz) are returned in the vector `omega`:"
     ]
    },
    {
     "cell_type": "code",
     "collapsed": false,
     "input": [
      "print omega"
     ],
     "language": "python",
     "metadata": {},
     "outputs": [
      {
       "output_type": "stream",
       "stream": "stdout",
       "text": [
        "[  0.64101986   0.64099894   0.79638642   0.79634287   0.96451196\n",
        "   0.964448     1.16152159  19.28874805   3.19867779   1.90546807\n",
        "   1.45535951  -4.10471974  -1.87583612   1.38218227  -1.30698611\n",
        "   1.16096508   8.58424191   2.82500427   1.82655757   1.43139642\n",
        "  -6.54685518  -2.36360757   1.43896558  -1.52957982  -1.07970803\n",
        "  -1.20966274  -0.97747626   1.76685608  -1.06132811  -0.9361246\n",
        "   1.85626251  -0.99165559  -0.93080908  -0.9659351   -0.95046406\n",
        "  -0.96863042  -0.9796585   -1.07959564   2.52705943   2.66766521\n",
        "  -1.30673573   4.37661478  -1.83635979  -1.91071933   4.60186007\n",
        "   2.28259695   2.2830065    2.92629986   4.85155105   2.92753377]\n"
       ]
      }
     ],
     "prompt_number": 16
    },
    {
     "cell_type": "markdown",
     "metadata": {},
     "source": [
      "The corresponding eigenvectors (which encode the \"shapes\" of the normal mode) are returned in the vector `w`. But rather than looking at it directly, we directly export an animation of the first eigenmode, which we can then animate in Paraview."
     ]
    },
    {
     "cell_type": "code",
     "collapsed": false,
     "input": [
      "sim.export_normal_mode_animation(0, directory='animations/eigenvalue', num_cycles=1, num_snapshots_per_cycle=10)"
     ],
     "language": "python",
     "metadata": {},
     "outputs": [
      {
       "output_type": "stream",
       "stream": "stdout",
       "text": [
        "Saving animation snapshot for timestep 0.0 (0/10)\n",
        "Saving animation snapshot for timestep 0.980185746421 (1/10)\n",
        "Saving animation snapshot for timestep 1.96037149284 (2/10)\n",
        "Saving animation snapshot for timestep 2.94055723926 (3/10)\n",
        "Saving animation snapshot for timestep 3.92074298568 (4/10)\n",
        "Saving animation snapshot for timestep 4.9009287321 (5/10)"
       ]
      },
      {
       "output_type": "stream",
       "stream": "stdout",
       "text": [
        "\n",
        "Saving animation snapshot for timestep 5.88111447853 (6/10)\n",
        "Saving animation snapshot for timestep 6.86130022495 (7/10)\n",
        "Saving animation snapshot for timestep 7.84148597137 (8/10)"
       ]
      },
      {
       "output_type": "stream",
       "stream": "stdout",
       "text": [
        "\n",
        "Saving animation snapshot for timestep 8.82167171779 (9/10)\n",
        "Saving the data to file 'animations/eigenvalue/normal_mode_0__0.641_GHz.pvd' took 0.132516145706 seconds\n"
       ]
      }
     ],
     "prompt_number": 17
    },
    {
     "cell_type": "markdown",
     "metadata": {},
     "source": [
      "Again, to confirm that it worked let's list the output files."
     ]
    },
    {
     "cell_type": "code",
     "collapsed": false,
     "input": [
      "ls -1 animations/eigenvalue/"
     ],
     "language": "python",
     "metadata": {},
     "outputs": [
      {
       "output_type": "stream",
       "stream": "stdout",
       "text": [
        "normal_mode_0__0.641_GHz000000.vtu\r\n",
        "normal_mode_0__0.641_GHz000001.vtu\r\n",
        "normal_mode_0__0.641_GHz000002.vtu\r\n",
        "normal_mode_0__0.641_GHz000003.vtu\r\n",
        "normal_mode_0__0.641_GHz000004.vtu\r\n",
        "normal_mode_0__0.641_GHz000005.vtu\r\n",
        "normal_mode_0__0.641_GHz000006.vtu\r\n",
        "normal_mode_0__0.641_GHz000007.vtu\r\n",
        "normal_mode_0__0.641_GHz000008.vtu\r\n",
        "normal_mode_0__0.641_GHz000009.vtu\r\n",
        "normal_mode_0__0.641_GHz.pvd\r\n"
       ]
      }
     ],
     "prompt_number": 19
    },
    {
     "cell_type": "code",
     "collapsed": false,
     "input": [],
     "language": "python",
     "metadata": {},
     "outputs": [],
     "prompt_number": 18
    }
   ],
   "metadata": {}
  }
 ]
}