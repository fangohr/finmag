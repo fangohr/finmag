{
 "cells": [
  {
   "cell_type": "markdown",
   "metadata": {},
   "source": [
    "# Domain wall energy class"
   ]
  },
  {
   "cell_type": "markdown",
   "metadata": {},
   "source": [
    "**Author**: Weiwei Wang\n",
    "\n",
    "**Date**: Dec 2012\n",
    "\n",
    "**Purpose**: TODO"
   ]
  },
  {
   "cell_type": "markdown",
   "metadata": {},
   "source": [
    "As we know, the domain wall will run away if its initial position is not located at the center of the nanowire even without applied field, therefore the domain wall velocity we obtained needs to remove this effect. A straightforward solution is using a longer nanowire, alternatively we provide a energy class -- FixedEnergyDW. First we give a example to reproduce the scene of domain wall running away."
   ]
  },
  {
   "cell_type": "code",
   "execution_count": 1,
   "metadata": {
    "collapsed": false
   },
   "outputs": [
    {
     "name": "stderr",
     "output_type": "stream",
     "text": [
      "[2014-09-12 15:14:07] INFO: Finmag logging output will be appended to file: '/home/mb4e10/.finmag/global.log'\n",
      "[2014-09-12 15:14:07] DEBUG: Building modules in 'native'...\n",
      "[2014-09-12 15:14:09] DEBUG: FinMag          5447:e7409a82df77894c344c17fe5b6b75c49e66ccd6\n",
      "[2014-09-12 15:14:09] DEBUG: Dolfin          1.4.0                Matplotlib      1.3.1               \n",
      "[2014-09-12 15:14:09] DEBUG: Numpy           1.8.1                Scipy           0.14.0              \n",
      "[2014-09-12 15:14:09] DEBUG: IPython         2.1.0                Python          2.7.6               \n",
      "[2014-09-12 15:14:09] DEBUG: Paraview        4.0.1-1ubuntu1       Sundials        2.5.0               \n",
      "[2014-09-12 15:14:09] DEBUG: Boost-Python    <unknown>            Linux           Ubuntu 14.04.1 LTS  \n",
      "[2014-09-12 15:14:09] DEBUG: Registering debug signal handler. Press Ctrl-Z at any time to stop execution and jump into the debugger.\n",
      "[2014-09-12 15:14:10] WARNING: Warning: Ignoring netgen's output status of 34304.\n"
     ]
    }
   ],
   "source": [
    "import dolfin as df\n",
    "import numpy as np\n",
    "from finmag import Simulation as Sim\n",
    "from finmag.energies import Exchange\n",
    "from finmag.energies import Demag\n",
    "from finmag.energies import FixedEnergyDW\n",
    "from finmag.util.helpers import set_logging_level\n",
    "set_logging_level(\"INFO\")\n",
    "\n",
    "import finmag.util.meshes as ng_mesh\n",
    "\n",
    "mesh=ng_mesh.box(0, 0, 0, 500, 20, 5, 5)\n",
    "\n",
    "\n",
    "class init_m(df.Expression):\n",
    "  \n",
    "    def eval(self, value, x):\n",
    "        if x[0] < 100:\n",
    "            value[0] = 1\n",
    "            value[1] = 0\n",
    "        elif x[0] > 120:\n",
    "            value[0] = -1\n",
    "            value[1] = 0\n",
    "        else:\n",
    "            value[0] = 0\n",
    "            value[1] = 1\n",
    "            \n",
    "    def value_shape(self):\n",
    "        return (3,)\n",
    "\n",
    "def relax(max_time=1e-9, num=21, mesh=mesh, init_dw=init_m(), extra_energy=None):\n",
    "    sim = Sim(mesh, 8.6e5, unit_length=1e-9)\n",
    "    sim.alpha = 0.5\n",
    "    sim.set_m(init_dw)\n",
    "\n",
    "    exchange = Exchange(13.0e-12)\n",
    "    sim.add(exchange)\n",
    "    \n",
    "    demag = Demag(solver='FK')\n",
    "    demag.parameters['phi_1']['relative_tolerance'] = 1e-8\n",
    "    demag.parameters['phi_2']['relative_tolerance'] = 1e-8\n",
    "    sim.add(demag)\n",
    "    \n",
    "    if extra_energy:\n",
    "        sim.add(extra_energy)\n",
    "    \n",
    "    ts = np.linspace(0, max_time, num=num)\n",
    "    \n",
    "    \n",
    "    ma=[]\n",
    "    for t in ts:\n",
    "        sim.run_until(t)\n",
    "        #print t\n",
    "        ma.append(sim.m_average)\n",
    "    ma=np.array(ma)\n",
    "    \n",
    "    return ts, ma"
   ]
  },
  {
   "cell_type": "markdown",
   "metadata": {},
   "source": [
    "We relax the system for 8 ns (this will take a few minutes!) and collect the magnetisation data."
   ]
  },
  {
   "cell_type": "code",
   "execution_count": 2,
   "metadata": {
    "collapsed": false
   },
   "outputs": [
    {
     "name": "stderr",
     "output_type": "stream",
     "text": [
      "[2014-09-12 15:14:11] INFO: Finmag logging output will be written to file: '/home/mb4e10/finmag/doc/ipython_notebooks_src/unnamed.log' (any old content will be overwritten).\n",
      "[2014-09-12 15:14:11] INFO: Creating Sim object 'unnamed' (rank=0/1).\n",
      "[2014-09-12 15:14:11] INFO: <Mesh of topological dimension 3 (tetrahedra) with 1013 vertices and 2413 cells, ordered>\n",
      "[2014-09-12 15:14:12] INFO: Create integrator sundials with kwargs={}\n",
      "[2014-09-12 15:14:12] INFO: Simulation will run until t = 0 s.\n",
      "[2014-09-12 15:14:13] INFO: Simulation has reached time t = 0 s.\n",
      "[2014-09-12 15:14:13] INFO: Simulation will run until t = 4e-10 s.\n",
      "[2014-09-12 15:14:21] INFO: Simulation has reached time t = 4e-10 s.\n",
      "[2014-09-12 15:14:21] INFO: Simulation will run until t = 8e-10 s.\n",
      "[2014-09-12 15:14:27] INFO: Simulation has reached time t = 8e-10 s.\n",
      "[2014-09-12 15:14:27] INFO: Simulation will run until t = 1.2e-09 s.\n",
      "[2014-09-12 15:14:33] INFO: Simulation has reached time t = 1.2e-09 s.\n",
      "[2014-09-12 15:14:33] INFO: Simulation will run until t = 1.6e-09 s.\n",
      "[2014-09-12 15:14:40] INFO: Simulation has reached time t = 1.6e-09 s.\n",
      "[2014-09-12 15:14:40] INFO: Simulation will run until t = 2e-09 s.\n",
      "[2014-09-12 15:14:46] INFO: Simulation has reached time t = 2e-09 s.\n",
      "[2014-09-12 15:14:46] INFO: Simulation will run until t = 2.4e-09 s.\n",
      "[2014-09-12 15:14:53] INFO: Simulation has reached time t = 2.4e-09 s.\n",
      "[2014-09-12 15:14:53] INFO: Simulation will run until t = 2.8e-09 s.\n",
      "[2014-09-12 15:15:01] INFO: Simulation has reached time t = 2.8e-09 s.\n",
      "[2014-09-12 15:15:01] INFO: Simulation will run until t = 3.2e-09 s.\n",
      "[2014-09-12 15:15:08] INFO: Simulation has reached time t = 3.2e-09 s.\n",
      "[2014-09-12 15:15:08] INFO: Simulation will run until t = 3.6e-09 s.\n",
      "[2014-09-12 15:15:16] INFO: Simulation has reached time t = 3.6e-09 s.\n",
      "[2014-09-12 15:15:16] INFO: Simulation will run until t = 4e-09 s.\n",
      "[2014-09-12 15:15:24] INFO: Simulation has reached time t = 4e-09 s.\n",
      "[2014-09-12 15:15:24] INFO: Simulation will run until t = 4.4e-09 s.\n",
      "[2014-09-12 15:15:33] INFO: Simulation has reached time t = 4.4e-09 s.\n",
      "[2014-09-12 15:15:33] INFO: Simulation will run until t = 4.8e-09 s.\n",
      "[2014-09-12 15:15:54] INFO: Simulation has reached time t = 4.8e-09 s.\n",
      "[2014-09-12 15:15:54] INFO: Simulation will run until t = 5.2e-09 s.\n",
      "[2014-09-12 15:16:13] INFO: Simulation has reached time t = 5.2e-09 s.\n",
      "[2014-09-12 15:16:13] INFO: Simulation will run until t = 5.6e-09 s.\n",
      "[2014-09-12 15:16:19] INFO: Simulation has reached time t = 5.6e-09 s.\n",
      "[2014-09-12 15:16:19] INFO: Simulation will run until t = 6e-09 s.\n",
      "[2014-09-12 15:16:25] INFO: Simulation has reached time t = 6e-09 s.\n",
      "[2014-09-12 15:16:25] INFO: Simulation will run until t = 6.4e-09 s.\n",
      "[2014-09-12 15:16:31] INFO: Simulation has reached time t = 6.4e-09 s.\n",
      "[2014-09-12 15:16:31] INFO: Simulation will run until t = 6.8e-09 s.\n",
      "[2014-09-12 15:16:37] INFO: Simulation has reached time t = 6.8e-09 s.\n",
      "[2014-09-12 15:16:37] INFO: Simulation will run until t = 7.2e-09 s.\n",
      "[2014-09-12 15:16:43] INFO: Simulation has reached time t = 7.2e-09 s.\n",
      "[2014-09-12 15:16:43] INFO: Simulation will run until t = 7.6e-09 s.\n",
      "[2014-09-12 15:16:49] INFO: Simulation has reached time t = 7.6e-09 s.\n",
      "[2014-09-12 15:16:49] INFO: Simulation will run until t = 8e-09 s.\n",
      "[2014-09-12 15:16:56] INFO: Simulation has reached time t = 8e-09 s.\n"
     ]
    }
   ],
   "source": [
    "ts, ma = relax(max_time=8e-9)"
   ]
  },
  {
   "cell_type": "code",
   "execution_count": 4,
   "metadata": {
    "collapsed": false
   },
   "outputs": [
    {
     "name": "stderr",
     "output_type": "stream",
     "text": [
      "/usr/lib/pymodules/python2.7/matplotlib/figure.py:1595: UserWarning: This figure includes Axes that are not compatible with tight_layout, so its results might be incorrect.\n",
      "  warnings.warn(\"This figure includes Axes that are not \"\n"
     ]
    },
    {
     "data": {
      "image/png": "[encoded data removed]",
      "text/plain": [
       "<matplotlib.figure.Figure at 0x7f6190a74ed0>"
      ]
     },
     "metadata": {},
     "output_type": "display_data"
    }
   ],
   "source": [
    "import pylab\n",
    "%matplotlib inline\n",
    "\n",
    "def plot_data(ts,ma):\n",
    "    pylab.plot(ts, ma[:,0], 'o-', label='m_x')\n",
    "    pylab.plot(ts, ma[:,1], '^-', label='m_y')\n",
    "    pylab.plot(ts, ma[:,2], '+-', label='m_z')\n",
    "    pylab.xlabel('time [s]')\n",
    "    pylab.ylabel('M/Ms') \n",
    "    pylab.legend()\n",
    "\n",
    "plot_data(ts, ma)"
   ]
  },
  {
   "cell_type": "markdown",
   "metadata": {},
   "source": [
    "And now consider the FixedEnergyDW energy and redo the simulation."
   ]
  },
  {
   "cell_type": "code",
   "execution_count": 5,
   "metadata": {
    "collapsed": false
   },
   "outputs": [
    {
     "name": "stderr",
     "output_type": "stream",
     "text": [
      "[2014-09-12 15:17:36] INFO: Finmag logging output will be written to file: '/home/mb4e10/finmag/doc/ipython_notebooks_src/unnamed.log' (any old content will be overwritten).\n",
      "[2014-09-12 15:17:36] INFO: Creating Sim object 'unnamed' (rank=0/1).\n",
      "[2014-09-12 15:17:36] INFO: <Mesh of topological dimension 3 (tetrahedra) with 1013 vertices and 2413 cells, ordered>\n"
     ]
    },
    {
     "ename": "AttributeError",
     "evalue": "'float' object has no attribute 'vector'",
     "output_type": "error",
     "traceback": [
      "\u001b[1;31m---------------------------------------------------------------------------\u001b[0m\n\u001b[1;31mAttributeError\u001b[0m                            Traceback (most recent call last)",
      "\u001b[1;32m<ipython-input-5-e3cb1e7e4f04>\u001b[0m in \u001b[0;36m<module>\u001b[1;34m()\u001b[0m\n\u001b[0;32m      1\u001b[0m \u001b[0mdw\u001b[0m \u001b[1;33m=\u001b[0m \u001b[0mFixedEnergyDW\u001b[0m\u001b[1;33m(\u001b[0m\u001b[0mleft\u001b[0m\u001b[1;33m=\u001b[0m\u001b[1;33m(\u001b[0m\u001b[1;36m1\u001b[0m\u001b[1;33m,\u001b[0m \u001b[1;36m0\u001b[0m\u001b[1;33m,\u001b[0m \u001b[1;36m0\u001b[0m\u001b[1;33m)\u001b[0m\u001b[1;33m,\u001b[0m \u001b[0mright\u001b[0m\u001b[1;33m=\u001b[0m\u001b[1;33m(\u001b[0m\u001b[1;33m-\u001b[0m\u001b[1;36m1\u001b[0m\u001b[1;33m,\u001b[0m \u001b[1;36m0\u001b[0m\u001b[1;33m,\u001b[0m \u001b[1;36m0\u001b[0m\u001b[1;33m)\u001b[0m\u001b[1;33m,\u001b[0m \u001b[0mrepeat_time\u001b[0m\u001b[1;33m=\u001b[0m\u001b[1;36m5\u001b[0m\u001b[1;33m)\u001b[0m\u001b[1;33m\u001b[0m\u001b[0m\n\u001b[1;32m----> 2\u001b[1;33m \u001b[0mts\u001b[0m\u001b[1;33m,\u001b[0m \u001b[0mma\u001b[0m \u001b[1;33m=\u001b[0m \u001b[0mrelax\u001b[0m\u001b[1;33m(\u001b[0m\u001b[0mmax_time\u001b[0m\u001b[1;33m=\u001b[0m\u001b[1;36m8e-9\u001b[0m\u001b[1;33m,\u001b[0m \u001b[0mextra_energy\u001b[0m\u001b[1;33m=\u001b[0m\u001b[0mdw\u001b[0m\u001b[1;33m)\u001b[0m\u001b[1;33m\u001b[0m\u001b[0m\n\u001b[0m\u001b[0;32m      3\u001b[0m \u001b[0mplot_data\u001b[0m\u001b[1;33m(\u001b[0m\u001b[0mts\u001b[0m\u001b[1;33m,\u001b[0m \u001b[0mma\u001b[0m\u001b[1;33m)\u001b[0m\u001b[1;33m\u001b[0m\u001b[0m\n",
      "\u001b[1;32m<ipython-input-1-23a15cbf0988>\u001b[0m in \u001b[0;36mrelax\u001b[1;34m(max_time, num, mesh, init_dw, extra_energy)\u001b[0m\n\u001b[0;32m     43\u001b[0m \u001b[1;33m\u001b[0m\u001b[0m\n\u001b[0;32m     44\u001b[0m     \u001b[1;32mif\u001b[0m \u001b[0mextra_energy\u001b[0m\u001b[1;33m:\u001b[0m\u001b[1;33m\u001b[0m\u001b[0m\n\u001b[1;32m---> 45\u001b[1;33m         \u001b[0msim\u001b[0m\u001b[1;33m.\u001b[0m\u001b[0madd\u001b[0m\u001b[1;33m(\u001b[0m\u001b[0mextra_energy\u001b[0m\u001b[1;33m)\u001b[0m\u001b[1;33m\u001b[0m\u001b[0m\n\u001b[0m\u001b[0;32m     46\u001b[0m \u001b[1;33m\u001b[0m\u001b[0m\n\u001b[0;32m     47\u001b[0m     \u001b[0mts\u001b[0m \u001b[1;33m=\u001b[0m \u001b[0mnp\u001b[0m\u001b[1;33m.\u001b[0m\u001b[0mlinspace\u001b[0m\u001b[1;33m(\u001b[0m\u001b[1;36m0\u001b[0m\u001b[1;33m,\u001b[0m \u001b[0mmax_time\u001b[0m\u001b[1;33m,\u001b[0m \u001b[0mnum\u001b[0m\u001b[1;33m=\u001b[0m\u001b[0mnum\u001b[0m\u001b[1;33m)\u001b[0m\u001b[1;33m\u001b[0m\u001b[0m\n",
      "\u001b[1;32m/home/mb4e10/finmag/src/finmag/sim/sim.pyc\u001b[0m in \u001b[0;36madd\u001b[1;34m(self, interaction, with_time_update)\u001b[0m\n\u001b[0;32m    286\u001b[0m              \u001b[0mstate\u001b[0m \u001b[0mof\u001b[0m \u001b[0mthe\u001b[0m \u001b[0minteraction\u001b[0m \u001b[0maccordingly\u001b[0m\u001b[1;33m.\u001b[0m\u001b[1;33m\u001b[0m\u001b[0m\n\u001b[0;32m    287\u001b[0m         \"\"\"\n\u001b[1;32m--> 288\u001b[1;33m         \u001b[0mself\u001b[0m\u001b[1;33m.\u001b[0m\u001b[0mllg\u001b[0m\u001b[1;33m.\u001b[0m\u001b[0meffective_field\u001b[0m\u001b[1;33m.\u001b[0m\u001b[0madd\u001b[0m\u001b[1;33m(\u001b[0m\u001b[0minteraction\u001b[0m\u001b[1;33m,\u001b[0m \u001b[0mwith_time_update\u001b[0m\u001b[1;33m)\u001b[0m\u001b[1;33m\u001b[0m\u001b[0m\n\u001b[0m\u001b[0;32m    289\u001b[0m \u001b[1;33m\u001b[0m\u001b[0m\n\u001b[0;32m    290\u001b[0m         \u001b[1;32mif\u001b[0m \u001b[0misinstance\u001b[0m\u001b[1;33m(\u001b[0m\u001b[0minteraction\u001b[0m\u001b[1;33m,\u001b[0m \u001b[0mTimeZeeman\u001b[0m\u001b[1;33m)\u001b[0m\u001b[1;33m:\u001b[0m\u001b[1;33m\u001b[0m\u001b[0m\n",
      "\u001b[1;32m/home/mb4e10/finmag/src/finmag/physics/effective_field.pyc\u001b[0m in \u001b[0;36madd\u001b[1;34m(self, interaction, with_time_update)\u001b[0m\n\u001b[0;32m     60\u001b[0m \u001b[1;33m\u001b[0m\u001b[0m\n\u001b[0;32m     61\u001b[0m         \u001b[0mlogger\u001b[0m\u001b[1;33m.\u001b[0m\u001b[0mdebug\u001b[0m\u001b[1;33m(\u001b[0m\u001b[1;34m\"Adding interaction {} to simulation.\"\u001b[0m\u001b[1;33m.\u001b[0m\u001b[0mformat\u001b[0m\u001b[1;33m(\u001b[0m\u001b[0minteraction\u001b[0m\u001b[1;33m.\u001b[0m\u001b[0mname\u001b[0m\u001b[1;33m)\u001b[0m\u001b[1;33m)\u001b[0m\u001b[1;33m\u001b[0m\u001b[0m\n\u001b[1;32m---> 62\u001b[1;33m         \u001b[0minteraction\u001b[0m\u001b[1;33m.\u001b[0m\u001b[0msetup\u001b[0m\u001b[1;33m(\u001b[0m\u001b[0mself\u001b[0m\u001b[1;33m.\u001b[0m\u001b[0mm_field\u001b[0m\u001b[1;33m,\u001b[0m \u001b[0mself\u001b[0m\u001b[1;33m.\u001b[0m\u001b[0mMs\u001b[0m\u001b[1;33m,\u001b[0m \u001b[0mself\u001b[0m\u001b[1;33m.\u001b[0m\u001b[0munit_length\u001b[0m\u001b[1;33m)\u001b[0m\u001b[1;33m\u001b[0m\u001b[0m\n\u001b[0m\u001b[0;32m     63\u001b[0m         \u001b[0mself\u001b[0m\u001b[1;33m.\u001b[0m\u001b[0minteractions\u001b[0m\u001b[1;33m[\u001b[0m\u001b[0minteraction\u001b[0m\u001b[1;33m.\u001b[0m\u001b[0mname\u001b[0m\u001b[1;33m]\u001b[0m \u001b[1;33m=\u001b[0m \u001b[0minteraction\u001b[0m\u001b[1;33m\u001b[0m\u001b[0m\n\u001b[0;32m     64\u001b[0m \u001b[1;33m\u001b[0m\u001b[0m\n",
      "\u001b[1;32m/home/mb4e10/finmag/src/finmag/energies/dw_fixed_energy.pyc\u001b[0m in \u001b[0;36msetup\u001b[1;34m(self, S3, m, Ms, unit_length)\u001b[0m\n\u001b[0;32m     72\u001b[0m         \u001b[0mself\u001b[0m\u001b[1;33m.\u001b[0m\u001b[0mxlength\u001b[0m\u001b[1;33m=\u001b[0m\u001b[0mnp\u001b[0m\u001b[1;33m.\u001b[0m\u001b[0mmax\u001b[0m\u001b[1;33m(\u001b[0m\u001b[0mc\u001b[0m\u001b[1;33m[\u001b[0m\u001b[1;33m:\u001b[0m\u001b[1;33m,\u001b[0m\u001b[1;36m0\u001b[0m\u001b[1;33m]\u001b[0m\u001b[1;33m)\u001b[0m\u001b[1;33m-\u001b[0m\u001b[0mnp\u001b[0m\u001b[1;33m.\u001b[0m\u001b[0mmin\u001b[0m\u001b[1;33m(\u001b[0m\u001b[0mc\u001b[0m\u001b[1;33m[\u001b[0m\u001b[1;33m:\u001b[0m\u001b[1;33m,\u001b[0m\u001b[1;36m0\u001b[0m\u001b[1;33m]\u001b[0m\u001b[1;33m)\u001b[0m\u001b[1;33m\u001b[0m\u001b[0m\n\u001b[0;32m     73\u001b[0m \u001b[1;33m\u001b[0m\u001b[0m\n\u001b[1;32m---> 74\u001b[1;33m         \u001b[0mself\u001b[0m\u001b[1;33m.\u001b[0m\u001b[0m__compute_field\u001b[0m\u001b[1;33m(\u001b[0m\u001b[1;33m)\u001b[0m\u001b[1;33m\u001b[0m\u001b[0m\n\u001b[0m\u001b[0;32m     75\u001b[0m         \u001b[0mtmp\u001b[0m\u001b[1;33m=\u001b[0m\u001b[0mself\u001b[0m\u001b[1;33m.\u001b[0m\u001b[0mtmp_field\u001b[0m\u001b[1;33m.\u001b[0m\u001b[0mreshape\u001b[0m\u001b[1;33m(\u001b[0m\u001b[1;33m(\u001b[0m\u001b[1;36m3\u001b[0m\u001b[1;33m,\u001b[0m\u001b[1;33m-\u001b[0m\u001b[1;36m1\u001b[0m\u001b[1;33m)\u001b[0m\u001b[1;33m,\u001b[0m\u001b[0morder\u001b[0m\u001b[1;33m=\u001b[0m\u001b[1;34m'C'\u001b[0m\u001b[1;33m)\u001b[0m\u001b[1;33m\u001b[0m\u001b[0m\n\u001b[0;32m     76\u001b[0m         \u001b[0mself\u001b[0m\u001b[1;33m.\u001b[0m\u001b[0mfield\u001b[0m\u001b[1;33m=\u001b[0m\u001b[0mnp\u001b[0m\u001b[1;33m.\u001b[0m\u001b[0marray\u001b[0m\u001b[1;33m(\u001b[0m\u001b[0mtmp\u001b[0m\u001b[1;33m[\u001b[0m\u001b[1;33m:\u001b[0m\u001b[1;33m,\u001b[0m\u001b[1;33m:\u001b[0m\u001b[0mn\u001b[0m\u001b[1;33m]\u001b[0m\u001b[1;33m)\u001b[0m\u001b[1;33m\u001b[0m\u001b[0m\n",
      "\u001b[1;32m/home/mb4e10/finmag/src/finmag/energies/dw_fixed_energy.pyc\u001b[0m in \u001b[0;36m__compute_field\u001b[1;34m(self)\u001b[0m\n\u001b[0;32m     94\u001b[0m             \u001b[0mdg\u001b[0m \u001b[1;33m=\u001b[0m \u001b[0mdf\u001b[0m\u001b[1;33m.\u001b[0m\u001b[0mFunctionSpace\u001b[0m\u001b[1;33m(\u001b[0m\u001b[0mmesh\u001b[0m\u001b[1;33m,\u001b[0m \u001b[1;34m\"DG\"\u001b[0m\u001b[1;33m,\u001b[0m \u001b[1;36m0\u001b[0m\u001b[1;33m)\u001b[0m\u001b[1;33m\u001b[0m\u001b[0m\n\u001b[0;32m     95\u001b[0m             \u001b[0mMs_tmp\u001b[0m\u001b[1;33m=\u001b[0m\u001b[0mdf\u001b[0m\u001b[1;33m.\u001b[0m\u001b[0mFunction\u001b[0m\u001b[1;33m(\u001b[0m\u001b[0mdg\u001b[0m\u001b[1;33m)\u001b[0m\u001b[1;33m\u001b[0m\u001b[0m\n\u001b[1;32m---> 96\u001b[1;33m             \u001b[0mMs_list\u001b[0m\u001b[1;33m=\u001b[0m\u001b[0mlist\u001b[0m\u001b[1;33m(\u001b[0m\u001b[0mself\u001b[0m\u001b[1;33m.\u001b[0m\u001b[0mMs\u001b[0m\u001b[1;33m.\u001b[0m\u001b[0mvector\u001b[0m\u001b[1;33m(\u001b[0m\u001b[1;33m)\u001b[0m\u001b[1;33m.\u001b[0m\u001b[0marray\u001b[0m\u001b[1;33m(\u001b[0m\u001b[1;33m)\u001b[0m\u001b[1;33m)\u001b[0m\u001b[1;33m\u001b[0m\u001b[0m\n\u001b[0m\u001b[0;32m     97\u001b[0m             \u001b[0mMs_tmp\u001b[0m\u001b[1;33m.\u001b[0m\u001b[0mvector\u001b[0m\u001b[1;33m(\u001b[0m\u001b[1;33m)\u001b[0m\u001b[1;33m.\u001b[0m\u001b[0mset_local\u001b[0m\u001b[1;33m(\u001b[0m\u001b[0mnp\u001b[0m\u001b[1;33m.\u001b[0m\u001b[0marray\u001b[0m\u001b[1;33m(\u001b[0m\u001b[0mMs_list\u001b[0m\u001b[1;33m+\u001b[0m\u001b[0mMs_list\u001b[0m\u001b[1;33m)\u001b[0m\u001b[1;33m)\u001b[0m\u001b[1;33m\u001b[0m\u001b[0m\n\u001b[0;32m     98\u001b[0m \u001b[1;33m\u001b[0m\u001b[0m\n",
      "\u001b[1;31mAttributeError\u001b[0m: 'float' object has no attribute 'vector'"
     ]
    }
   ],
   "source": [
    "dw = FixedEnergyDW(left=(1, 0, 0), right=(-1, 0, 0), repeat_time=5)\n",
    "ts, ma = relax(max_time=8e-9, extra_energy=dw)\n",
    "plot_data(ts, ma)"
   ]
  },
  {
   "cell_type": "code",
   "execution_count": 11,
   "metadata": {
    "collapsed": false
   },
   "outputs": [],
   "source": []
  }
 ],
 "metadata": {
  "kernelspec": {
   "display_name": "Python 2",
   "language": "python",
   "name": "python2"
  },
  "language_info": {
   "codemirror_mode": {
    "name": "ipython",
    "version": 2
   },
   "file_extension": ".py",
   "mimetype": "text/x-python",
   "name": "python",
   "nbconvert_exporter": "python",
   "pygments_lexer": "ipython2",
   "version": "2.7.6"
  }
 },
 "nbformat": 4,
 "nbformat_minor": 0
}
