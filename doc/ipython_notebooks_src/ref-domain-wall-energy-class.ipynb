{
 "metadata": {
  "name": ""
 },
 "nbformat": 3,
 "nbformat_minor": 0,
 "worksheets": [
  {
   "cells": [
    {
     "cell_type": "markdown",
     "metadata": {},
     "source": [
      "## Domain wall energy class"
     ]
    },
    {
     "cell_type": "markdown",
     "metadata": {},
     "source": [
      "As we know, the domain wall will run away if its initial position is not located at the center of the nanowire even without applied field, therefore the domain wall velocity we obtained needs to remove this effect. A straightforward solution is using a longer nanowire, alternatively we provide a energy class -- FixedEnergyDW. First we give a example to reproduce the scene of domain wall running away."
     ]
    },
    {
     "cell_type": "code",
     "collapsed": false,
     "input": [
      "import dolfin as df\n",
      "import numpy as np\n",
      "from finmag import Simulation as Sim\n",
      "from finmag.energies import Exchange\n",
      "from finmag.energies import Demag\n",
      "from finmag.energies import FixedEnergyDW\n",
      "from finmag.util.helpers import set_logging_level\n",
      "set_logging_level(\"INFO\")\n",
      "\n",
      "import finmag.util.meshes as ng_mesh\n",
      "\n",
      "mesh=ng_mesh.box(0,0,0, 500, 20, 5, 5)\n",
      "\n",
      "\n",
      "class init_m(df.Expression):\n",
      "  \n",
      "    def eval(self, value, x):\n",
      "        if x[0]<100:\n",
      "            value[0]=1\n",
      "            value[1]=0\n",
      "        elif x[0]>120:\n",
      "            value[0]=-1\n",
      "            value[1]=0\n",
      "        else:\n",
      "            value[0]=0\n",
      "            value[1]=1\n",
      "            \n",
      "    def value_shape(self):\n",
      "        return (3,)\n",
      "\n",
      "def relax(max_time=1e-9,num=21,mesh=mesh,init_dw=init_m(),extra_energy=None):\n",
      "    sim = Sim(mesh, 8.6e5, unit_length=1e-9)\n",
      "    sim.alpha = 0.5\n",
      "    sim.set_m(init_dw)\n",
      "\n",
      "    exchange = Exchange(13.0e-12)\n",
      "    sim.add(exchange)\n",
      "    \n",
      "    demag=Demag(solver='FK')\n",
      "    sim.add(demag)\n",
      "    #the next line fails - can you fix this, Weiwei?\n",
      "    demag.demag.poisson_solver.parameters[\"relative_tolerance\"] = 1e-8\n",
      "    demag.demag.laplace_solver.parameters[\"relative_tolerance\"] = 1e-8\n",
      "    \n",
      "    if extra_energy:\n",
      "        sim.add(extra_energy)\n",
      "    \n",
      "    ts = np.linspace(0, max_time, num=num)\n",
      "    \n",
      "    \n",
      "    ma=[]\n",
      "    for t in ts:\n",
      "        sim.run_until(t)\n",
      "        #print t\n",
      "        ma.append(sim.m_average)\n",
      "    ma=np.array(ma)\n",
      "    \n",
      "    return ts, ma"
     ],
     "language": "python",
     "metadata": {},
     "outputs": [],
     "prompt_number": 11
    },
    {
     "cell_type": "markdown",
     "metadata": {},
     "source": [
      "We relax the system for $8$ ns and collect the magnetisation data,"
     ]
    },
    {
     "cell_type": "code",
     "collapsed": false,
     "input": [
      "import pylab\n",
      "def plot_data(ts,ma):\n",
      "    pylab.plot(ts, ma[:,0], 'o-', label='m_x')\n",
      "    pylab.plot(ts, ma[:,1], '^-', label='m_y')\n",
      "    pylab.plot(ts, ma[:,2], '+-', label='m_z')\n",
      "    pylab.xlabel('time [s]')\n",
      "    pylab.ylabel('M/Ms') \n",
      "    pylab.legend()\n",
      "\n",
      "ts, ma = relax(max_time=8e-9)\n",
      "plot_data(ts, ma)"
     ],
     "language": "python",
     "metadata": {},
     "outputs": [
      {
       "output_type": "stream",
       "stream": "stderr",
       "text": [
        "[2013-12-13 21:10:56] INFO: Finmag logging output will be written to file: '/home/fangohr/hg/finmag/doc/ipython_notebooks_src/unnamed.log' (any old content will be overwritten).\n"
       ]
      },
      {
       "output_type": "stream",
       "stream": "stderr",
       "text": [
        "[2013-12-13 21:10:56] INFO: Creating Sim object 'unnamed' (rank=0/1).\n"
       ]
      },
      {
       "output_type": "stream",
       "stream": "stderr",
       "text": [
        "[2013-12-13 21:10:56] INFO: <Mesh of topological dimension 3 (tetrahedra) with 1013 vertices and 2413 cells, ordered>\n"
       ]
      },
      {
       "ename": "AttributeError",
       "evalue": "'FKDemag' object has no attribute 'demag'",
       "output_type": "pyerr",
       "traceback": [
        "\u001b[1;31m---------------------------------------------------------------------------\u001b[0m\n\u001b[1;31mAttributeError\u001b[0m                            Traceback (most recent call last)",
        "\u001b[1;32m<ipython-input-12-8c300dc38fba>\u001b[0m in \u001b[0;36m<module>\u001b[1;34m()\u001b[0m\n\u001b[0;32m      8\u001b[0m     \u001b[0mpylab\u001b[0m\u001b[1;33m.\u001b[0m\u001b[0mlegend\u001b[0m\u001b[1;33m(\u001b[0m\u001b[1;33m)\u001b[0m\u001b[1;33m\u001b[0m\u001b[0m\n\u001b[0;32m      9\u001b[0m \u001b[1;33m\u001b[0m\u001b[0m\n\u001b[1;32m---> 10\u001b[1;33m \u001b[0mts\u001b[0m\u001b[1;33m,\u001b[0m \u001b[0mma\u001b[0m \u001b[1;33m=\u001b[0m \u001b[0mrelax\u001b[0m\u001b[1;33m(\u001b[0m\u001b[0mmax_time\u001b[0m\u001b[1;33m=\u001b[0m\u001b[1;36m8e-9\u001b[0m\u001b[1;33m)\u001b[0m\u001b[1;33m\u001b[0m\u001b[0m\n\u001b[0m\u001b[0;32m     11\u001b[0m \u001b[0mplot_data\u001b[0m\u001b[1;33m(\u001b[0m\u001b[0mts\u001b[0m\u001b[1;33m,\u001b[0m \u001b[0mma\u001b[0m\u001b[1;33m)\u001b[0m\u001b[1;33m\u001b[0m\u001b[0m\n",
        "\u001b[1;32m<ipython-input-11-6e964ba9ca7f>\u001b[0m in \u001b[0;36mrelax\u001b[1;34m(max_time, num, mesh, init_dw, extra_energy)\u001b[0m\n\u001b[0;32m     40\u001b[0m     \u001b[0msim\u001b[0m\u001b[1;33m.\u001b[0m\u001b[0madd\u001b[0m\u001b[1;33m(\u001b[0m\u001b[0mdemag\u001b[0m\u001b[1;33m)\u001b[0m\u001b[1;33m\u001b[0m\u001b[0m\n\u001b[0;32m     41\u001b[0m     \u001b[1;31m#the next line fails - can you fix this, Weiwei?\u001b[0m\u001b[1;33m\u001b[0m\u001b[1;33m\u001b[0m\u001b[0m\n\u001b[1;32m---> 42\u001b[1;33m     \u001b[0mdemag\u001b[0m\u001b[1;33m.\u001b[0m\u001b[0mdemag\u001b[0m\u001b[1;33m.\u001b[0m\u001b[0mpoisson_solver\u001b[0m\u001b[1;33m.\u001b[0m\u001b[0mparameters\u001b[0m\u001b[1;33m[\u001b[0m\u001b[1;34m\"relative_tolerance\"\u001b[0m\u001b[1;33m]\u001b[0m \u001b[1;33m=\u001b[0m \u001b[1;36m1e-8\u001b[0m\u001b[1;33m\u001b[0m\u001b[0m\n\u001b[0m\u001b[0;32m     43\u001b[0m     \u001b[0mdemag\u001b[0m\u001b[1;33m.\u001b[0m\u001b[0mdemag\u001b[0m\u001b[1;33m.\u001b[0m\u001b[0mlaplace_solver\u001b[0m\u001b[1;33m.\u001b[0m\u001b[0mparameters\u001b[0m\u001b[1;33m[\u001b[0m\u001b[1;34m\"relative_tolerance\"\u001b[0m\u001b[1;33m]\u001b[0m \u001b[1;33m=\u001b[0m \u001b[1;36m1e-8\u001b[0m\u001b[1;33m\u001b[0m\u001b[0m\n\u001b[0;32m     44\u001b[0m \u001b[1;33m\u001b[0m\u001b[0m\n",
        "\u001b[1;31mAttributeError\u001b[0m: 'FKDemag' object has no attribute 'demag'"
       ]
      }
     ],
     "prompt_number": 12
    },
    {
     "cell_type": "markdown",
     "metadata": {},
     "source": [
      "And now consider the FixedEnergyDW energy as well and redo the simulation,"
     ]
    },
    {
     "cell_type": "code",
     "collapsed": false,
     "input": [
      "dw=FixedEnergyDW(left=(1,0,0),right=(-1,0,0),repeat_time=5)\n",
      "ts,ma=relax(max_time=8e-9,extra_energy=dw)\n",
      "plot_data(ts,ma)"
     ],
     "language": "python",
     "metadata": {},
     "outputs": [
      {
       "output_type": "stream",
       "stream": "stderr",
       "text": [
        "[2013-01-29 18:20:26] INFO: Finmag logging output will be written to file: '/home/ww1g11/Softwares/finmag/doc/ipython_notebooks_src/unnamed.log' (any old content will be overwritten).\n"
       ]
      },
      {
       "output_type": "stream",
       "stream": "stderr",
       "text": [
        "[2013-01-29 18:20:26] INFO: Creating Sim object 'unnamed' (rank=0/1) [Tue Jan 29 18:20:26 2013].\n"
       ]
      },
      {
       "output_type": "stream",
       "stream": "stderr",
       "text": [
        "[2013-01-29 18:20:26] INFO: <Mesh of topological dimension 3 (tetrahedra) with 1013 vertices and 2413 cells, ordered>\n"
       ]
      },
      {
       "output_type": "stream",
       "stream": "stderr",
       "text": [
        "[2013-01-29 18:20:32] INFO: Simulation has reached time t = 0.\n"
       ]
      },
      {
       "output_type": "stream",
       "stream": "stderr",
       "text": [
        "[2013-01-29 18:20:44] INFO: Simulation has reached time t = 4e-10.\n"
       ]
      },
      {
       "output_type": "stream",
       "stream": "stderr",
       "text": [
        "[2013-01-29 18:20:47] INFO: Simulation has reached time t = 8e-10.\n"
       ]
      },
      {
       "output_type": "stream",
       "stream": "stderr",
       "text": [
        "[2013-01-29 18:20:50] INFO: Simulation has reached time t = 1.2e-09.\n"
       ]
      },
      {
       "output_type": "stream",
       "stream": "stderr",
       "text": [
        "[2013-01-29 18:20:53] INFO: Simulation has reached time t = 1.6e-09.\n"
       ]
      },
      {
       "output_type": "stream",
       "stream": "stderr",
       "text": [
        "[2013-01-29 18:20:55] INFO: Simulation has reached time t = 2e-09.\n"
       ]
      },
      {
       "output_type": "stream",
       "stream": "stderr",
       "text": [
        "[2013-01-29 18:20:59] INFO: Simulation has reached time t = 2.4e-09.\n"
       ]
      },
      {
       "output_type": "stream",
       "stream": "stderr",
       "text": [
        "[2013-01-29 18:21:02] INFO: Simulation has reached time t = 2.8e-09.\n"
       ]
      },
      {
       "output_type": "stream",
       "stream": "stderr",
       "text": [
        "[2013-01-29 18:21:04] INFO: Simulation has reached time t = 3.2e-09.\n"
       ]
      },
      {
       "output_type": "stream",
       "stream": "stderr",
       "text": [
        "[2013-01-29 18:21:07] INFO: Simulation has reached time t = 3.6e-09.\n"
       ]
      },
      {
       "output_type": "stream",
       "stream": "stderr",
       "text": [
        "[2013-01-29 18:21:10] INFO: Simulation has reached time t = 4e-09.\n"
       ]
      },
      {
       "output_type": "stream",
       "stream": "stderr",
       "text": [
        "[2013-01-29 18:21:12] INFO: Simulation has reached time t = 4.4e-09.\n"
       ]
      },
      {
       "output_type": "stream",
       "stream": "stderr",
       "text": [
        "[2013-01-29 18:21:15] INFO: Simulation has reached time t = 4.8e-09.\n"
       ]
      },
      {
       "output_type": "stream",
       "stream": "stderr",
       "text": [
        "[2013-01-29 18:21:18] INFO: Simulation has reached time t = 5.2e-09.\n"
       ]
      },
      {
       "output_type": "stream",
       "stream": "stderr",
       "text": [
        "[2013-01-29 18:21:21] INFO: Simulation has reached time t = 5.6e-09.\n"
       ]
      },
      {
       "output_type": "stream",
       "stream": "stderr",
       "text": [
        "[2013-01-29 18:21:24] INFO: Simulation has reached time t = 6e-09.\n"
       ]
      },
      {
       "output_type": "stream",
       "stream": "stderr",
       "text": [
        "[2013-01-29 18:21:27] INFO: Simulation has reached time t = 6.4e-09.\n"
       ]
      },
      {
       "output_type": "stream",
       "stream": "stderr",
       "text": [
        "[2013-01-29 18:21:30] INFO: Simulation has reached time t = 6.8e-09.\n"
       ]
      },
      {
       "output_type": "stream",
       "stream": "stderr",
       "text": [
        "[2013-01-29 18:21:32] INFO: Simulation has reached time t = 7.2e-09.\n"
       ]
      },
      {
       "output_type": "stream",
       "stream": "stderr",
       "text": [
        "[2013-01-29 18:21:36] INFO: Simulation has reached time t = 7.6e-09.\n"
       ]
      },
      {
       "output_type": "stream",
       "stream": "stderr",
       "text": [
        "[2013-01-29 18:21:39] INFO: Simulation has reached time t = 8e-09.\n"
       ]
      },
      {
       "output_type": "display_data",
       "png": "[encoded data removed]"
      }
     ],
     "prompt_number": 10
    }
   ],
   "metadata": {}
  }
 ]
}