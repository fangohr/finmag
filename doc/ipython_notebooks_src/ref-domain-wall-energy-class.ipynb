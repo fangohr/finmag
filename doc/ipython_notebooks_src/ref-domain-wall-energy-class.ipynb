{
 "metadata": {
  "name": ""
 },
 "nbformat": 3,
 "nbformat_minor": 0,
 "worksheets": [
  {
   "cells": [
    {
     "cell_type": "markdown",
     "metadata": {},
     "source": [
      "# Domain wall energy class"
     ]
    },
    {
     "cell_type": "markdown",
     "metadata": {},
     "source": [
      "**Author**: Weiwei Wang\n",
      "\n",
      "**Date**: Dec 2012\n",
      "\n",
      "**Purpose**: TODO"
     ]
    },
    {
     "cell_type": "markdown",
     "metadata": {},
     "source": [
      "As we know, the domain wall will run away if its initial position is not located at the center of the nanowire even without applied field, therefore the domain wall velocity we obtained needs to remove this effect. A straightforward solution is using a longer nanowire, alternatively we provide a energy class -- FixedEnergyDW. First we give a example to reproduce the scene of domain wall running away."
     ]
    },
    {
     "cell_type": "code",
     "collapsed": false,
     "input": [
      "# IPYTHON_TEST_IGNORE_OUTPUT\n",
      "\n",
      "import dolfin as df\n",
      "import numpy as np\n",
      "from finmag import Simulation as Sim\n",
      "from finmag.energies import Exchange\n",
      "from finmag.energies import Demag\n",
      "from finmag.energies import FixedEnergyDW\n",
      "from finmag.util.helpers import set_logging_level\n",
      "set_logging_level(\"INFO\")\n",
      "\n",
      "import finmag.util.meshes as ng_mesh\n",
      "\n",
      "mesh=ng_mesh.box(0, 0, 0, 500, 20, 5, 5)\n",
      "\n",
      "\n",
      "class init_m(df.Expression):\n",
      "  \n",
      "    def eval(self, value, x):\n",
      "        if x[0] < 100:\n",
      "            value[0] = 1\n",
      "            value[1] = 0\n",
      "        elif x[0] > 120:\n",
      "            value[0] = -1\n",
      "            value[1] = 0\n",
      "        else:\n",
      "            value[0] = 0\n",
      "            value[1] = 1\n",
      "            \n",
      "    def value_shape(self):\n",
      "        return (3,)\n",
      "\n",
      "def relax(max_time=1e-9, num=21, mesh=mesh, init_dw=init_m(), extra_energy=None):\n",
      "    sim = Sim(mesh, 8.6e5, unit_length=1e-9)\n",
      "    sim.alpha = 0.5\n",
      "    sim.set_m(init_dw)\n",
      "\n",
      "    exchange = Exchange(13.0e-12)\n",
      "    sim.add(exchange)\n",
      "    \n",
      "    demag = Demag(solver='FK')\n",
      "    demag.parameters['phi_1']['relative_tolerance'] = 1e-8\n",
      "    demag.parameters['phi_2']['relative_tolerance'] = 1e-8\n",
      "    sim.add(demag)\n",
      "    \n",
      "    if extra_energy:\n",
      "        sim.add(extra_energy)\n",
      "    \n",
      "    ts = np.linspace(0, max_time, num=num)\n",
      "    \n",
      "    \n",
      "    ma=[]\n",
      "    for t in ts:\n",
      "        sim.run_until(t)\n",
      "        #print t\n",
      "        ma.append(sim.m_average)\n",
      "    ma=np.array(ma)\n",
      "    \n",
      "    return ts, ma"
     ],
     "language": "python",
     "metadata": {},
     "outputs": [],
     "prompt_number": 8
    },
    {
     "cell_type": "markdown",
     "metadata": {},
     "source": [
      "We relax the system for 8 ns (this will take a few minutes!) and collect the magnetisation data."
     ]
    },
    {
     "cell_type": "code",
     "collapsed": false,
     "input": [
      "#ts, ma = relax(max_time=8e-9)"
     ],
     "language": "python",
     "metadata": {},
     "outputs": [],
     "prompt_number": 9
    },
    {
     "cell_type": "code",
     "collapsed": false,
     "input": [
      "import pylab\n",
      "\n",
      "def plot_data(ts,ma):\n",
      "    pylab.plot(ts, ma[:,0], 'o-', label='m_x')\n",
      "    pylab.plot(ts, ma[:,1], '^-', label='m_y')\n",
      "    pylab.plot(ts, ma[:,2], '+-', label='m_z')\n",
      "    pylab.xlabel('time [s]')\n",
      "    pylab.ylabel('M/Ms') \n",
      "    pylab.legend()\n",
      "\n",
      "#plot_data(ts, ma)"
     ],
     "language": "python",
     "metadata": {},
     "outputs": [],
     "prompt_number": 10
    },
    {
     "cell_type": "markdown",
     "metadata": {},
     "source": [
      "And now consider the FixedEnergyDW energy and redo the simulation."
     ]
    },
    {
     "cell_type": "code",
     "collapsed": false,
     "input": [
      "#dw = FixedEnergyDW(left=(1, 0, 0), right=(-1, 0, 0), repeat_time=5)\n",
      "#ts, ma = relax(max_time=8e-9, extra_energy=dw)\n",
      "#plot_data(ts, ma)"
     ],
     "language": "python",
     "metadata": {},
     "outputs": [],
     "prompt_number": 11
    },
    {
     "cell_type": "code",
     "collapsed": false,
     "input": [],
     "language": "python",
     "metadata": {},
     "outputs": [],
     "prompt_number": 11
    }
   ],
   "metadata": {}
  }
 ]
}