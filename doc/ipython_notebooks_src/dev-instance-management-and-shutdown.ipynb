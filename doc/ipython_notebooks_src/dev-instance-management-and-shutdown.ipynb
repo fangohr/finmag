{
 "cells": [
  {
   "cell_type": "markdown",
   "metadata": {},
   "source": [
    "# Instance management (of simulation objects) and shutdown()"
   ]
  },
  {
   "cell_type": "markdown",
   "metadata": {},
   "source": [
    "The following is taken from the end of the finmag/src/finmag/sim/sim.py test:\n",
    "\n",
    "```\n",
    "\"\"\"28 March 2015: running jenkins tests has started to fail some weeks\n",
    "ago wiht an error message about too many open files. We find that the\n",
    "simulation specific log-handler files are not closed. If we run many\n",
    "simulations in the same python session, the number of open files\n",
    "increases. It is not clear whether this is the problem, but that is the current working assumption.\n",
    "\n",
    "Part of the problem is that self.close_logfile() is never called, and\n",
    "thus the file is not closed.\n",
    "\n",
    "As part of the investigation, we found that the simulation objects\n",
    "also are not garbage collected. [Marijan reported memory problems when\n",
    "he has many simulation objects created in a for-loop.] This is due to\n",
    "other references to the simulation object existing when it goes out of\n",
    "scope. For example, the Table writer functions have a reference to the\n",
    "simulation object. We thus have cyclic references, and therefore the\n",
    "garbage collection never removes the simulation objects, and thus\n",
    "__del__(self) is never called.\n",
    "\n",
    "As long as we stick to passing a reference to the simulation object\n",
    "around in our code, we can not close the logfile automatically in the\n",
    "__del__ method, because the delete method never executes due to the\n",
    "cyclic references. We want to stick to using references to the\n",
    "simulation object as this is very convenient and allows writing the\n",
    "most generic code (i.e. use user-defined functions that get the\n",
    "simulation object passed as an argument).\n",
    "\n",
    "Sticking to this approach, we need an additional function to 'delete'\n",
    "the simulation object. What this actually needs to do is to remove the\n",
    "cyclic references so that the object can be garbage collected when it\n",
    "goes out of scope. (The same function might as well close the logfile\n",
    "handler, thus addressing the original problem.)\n",
    "\n",
    "This commit introduced a method Simulation.shutdown() which provides\n",
    "this functionality and (at least for simple examples) removes cyclic\n",
    "references from the simulation object.\n",
    "\n",
    "It also provides other goodies that will hopefully allow us to monitor\n",
    "the existence of 'un-garbage-collected' simulation objects, and\n",
    "convenience functions to shut them down, for example as part of our\n",
    "test suite. This is hopeful thinking at the moment and needs more\n",
    "testing to see that it delivers.\n",
    "\"\"\"\n",
    "```"
   ]
  },
  {
   "cell_type": "markdown",
   "metadata": {},
   "source": [
    "Here is an example :"
   ]
  },
  {
   "cell_type": "code",
   "execution_count": 1,
   "metadata": {
    "collapsed": false
   },
   "outputs": [
    {
     "name": "stderr",
     "output_type": "stream",
     "text": [
      "[2015-03-29 20:47:40] INFO: Finmag logging output will be appended to file: '/home/fangohr/.finmag/global.log'\n",
      "[2015-03-29 20:47:40] DEBUG: Building modules in 'native'...\n",
      "[2015-03-29 20:47:40] DEBUG: FinMag          5851:afed2cd505ac94370b511a3398226eeb37aebaf0\n",
      "[2015-03-29 20:47:40] DEBUG: Dolfin          1.4.0                Matplotlib      lazily loaded       \n",
      "[2015-03-29 20:47:40] DEBUG: Numpy           1.8.2                Scipy           0.15.1              \n",
      "[2015-03-29 20:47:40] DEBUG: IPython         2.4.0                Python          2.7.6               \n",
      "[2015-03-29 20:47:40] DEBUG: Paraview        4.0.1-1ubuntu1       Sundials        2.5.0               \n",
      "[2015-03-29 20:47:40] DEBUG: Boost-Python    <unknown>            Linux           Ubuntu 14.04.1 LTS  \n",
      "[2015-03-29 20:47:40] DEBUG: Registering debug signal handler. Press Ctrl-Z any time to stop execution and jump into the debugger.\n"
     ]
    }
   ],
   "source": [
    "import finmag"
   ]
  },
  {
   "cell_type": "code",
   "execution_count": 2,
   "metadata": {
    "collapsed": false
   },
   "outputs": [
    {
     "name": "stderr",
     "output_type": "stream",
     "text": [
      "[2015-03-29 20:47:40] INFO: Finmag logging output will be written to file: '/home/fangohr/hg/finmag/doc/ipython_notebooks_src/s1.log' (any old content will be overwritten).\n",
      "[2015-03-29 20:47:40] DEBUG: Creating DataWriter for file 's1.ndt'\n",
      "[2015-03-29 20:47:40] INFO: Creating Sim object name='s1', instance_id=0 (rank=0/1).\n",
      "[2015-03-29 20:47:40] DEBUG:    Total number of Sim objects in this session: 1\n",
      "[2015-03-29 20:47:40] INFO: <Mesh of topological dimension 3 (tetrahedra) with 45 vertices and 96 cells, ordered>\n",
      "[2015-03-29 20:47:40] DEBUG: Creating LLG object.\n",
      "[2015-03-29 20:47:40] DEBUG: Creating Exchange object with method box-matrix-petsc, in Jacobian.\n",
      "[2015-03-29 20:47:40] DEBUG: Adding interaction Exchange to simulation.\n",
      "[2015-03-29 20:47:40] DEBUG: Creating Demag object with solver 'FK'.\n",
      "[2015-03-29 20:47:40] DEBUG: Demag parameters now: {'phi_1': {'absolute_tolerance': 1e-06, 'relative_tolerance': 1e-06, 'maximum_iterations': 10000}, 'phi_2': {'absolute_tolerance': 1e-06, 'relative_tolerance': 1e-06, 'maximum_iterations': 10000}, 'phi_2_solver': 'default', 'phi_2_preconditioner': 'default', 'phi_1_preconditioner': 'default', 'phi_1_solver': 'default'}\n",
      "[2015-03-29 20:47:40] DEBUG: Adding interaction Demag to simulation.\n",
      "[2015-03-29 20:47:40] DEBUG: Using Krylov solver for demag.\n",
      "[2015-03-29 20:47:40] DEBUG: Creating macro-geometry with demag 1 x 1 tiles (dxdy: 3.0 x 3.0)\n",
      "[2015-03-29 20:47:40] DEBUG: Boundary element matrix uses 0.01 MB of memory.\n",
      "[2015-03-29 20:47:40] DEBUG: Successfully created simulation 's1'\n"
     ]
    }
   ],
   "source": [
    "s1 = finmag.example.barmini(name='s1')"
   ]
  },
  {
   "cell_type": "markdown",
   "metadata": {},
   "source": [
    "Attempting to del the object s1 (pretending it goes out of scope), will not result in its garbage collection:"
   ]
  },
  {
   "cell_type": "code",
   "execution_count": 3,
   "metadata": {
    "collapsed": false
   },
   "outputs": [],
   "source": [
    "del s1"
   ]
  },
  {
   "cell_type": "markdown",
   "metadata": {},
   "source": [
    "## We need to remove cyclic references using the shutdown method():"
   ]
  },
  {
   "cell_type": "code",
   "execution_count": 4,
   "metadata": {
    "collapsed": false
   },
   "outputs": [
    {
     "name": "stderr",
     "output_type": "stream",
     "text": [
      "[2015-03-29 20:47:40] INFO: Finmag logging output will be written to file: '/home/fangohr/hg/finmag/doc/ipython_notebooks_src/s2.log' (any old content will be overwritten).\n",
      "[2015-03-29 20:47:40] DEBUG: Creating DataWriter for file 's2.ndt'\n",
      "[2015-03-29 20:47:40] INFO: Creating Sim object name='s2', instance_id=1 (rank=0/1).\n",
      "[2015-03-29 20:47:40] DEBUG:    Total number of Sim objects in this session: 2\n",
      "[2015-03-29 20:47:40] INFO: <Mesh of topological dimension 3 (tetrahedra) with 45 vertices and 96 cells, ordered>\n",
      "[2015-03-29 20:47:40] DEBUG: Creating LLG object.\n",
      "[2015-03-29 20:47:40] DEBUG: Creating Exchange object with method box-matrix-petsc, in Jacobian.\n",
      "[2015-03-29 20:47:40] DEBUG: Adding interaction Exchange to simulation.\n",
      "[2015-03-29 20:47:40] DEBUG: Creating Demag object with solver 'FK'.\n",
      "[2015-03-29 20:47:40] DEBUG: Demag parameters now: {'phi_1': {'absolute_tolerance': 1e-06, 'relative_tolerance': 1e-06, 'maximum_iterations': 10000}, 'phi_2': {'absolute_tolerance': 1e-06, 'relative_tolerance': 1e-06, 'maximum_iterations': 10000}, 'phi_2_solver': 'default', 'phi_2_preconditioner': 'default', 'phi_1_preconditioner': 'default', 'phi_1_solver': 'default'}\n",
      "[2015-03-29 20:47:40] DEBUG: Adding interaction Demag to simulation.\n",
      "[2015-03-29 20:47:40] DEBUG: Using Krylov solver for demag.\n",
      "[2015-03-29 20:47:40] DEBUG: Creating macro-geometry with demag 1 x 1 tiles (dxdy: 3.0 x 3.0)\n",
      "[2015-03-29 20:47:40] DEBUG: Boundary element matrix uses 0.01 MB of memory.\n",
      "[2015-03-29 20:47:40] DEBUG: Successfully created simulation 's2'\n",
      "[2015-03-29 20:47:40] INFO: Shutting down Simulation object finmag.Simulation(name='s2', instance_id=1) with <Mesh of topological dimension 3 (tetrahedra) with 45 vertices and 96 cells, ordered>\n",
      "[2015-03-29 20:47:40] DEBUG: 1 other Simulation instances alive.\n",
      "[2015-03-29 20:47:40] DEBUG:    shutdown(): 1-refcount 6 for s2\n",
      "[2015-03-29 20:47:40] DEBUG: 'Deletinging all get methods in TableWriter(name=s2.ndt)\n",
      "[2015-03-29 20:47:40] DEBUG: 'Deleting' get method for H_Demag in TableWriter(name=s2.ndt)\n",
      "[2015-03-29 20:47:40] DEBUG: 'Deleting' get method for dmdt in TableWriter(name=s2.ndt)\n",
      "[2015-03-29 20:47:40] DEBUG: 'Deleting' get method for E_total in TableWriter(name=s2.ndt)\n",
      "[2015-03-29 20:47:40] DEBUG: 'Deleting' get method for H_Exchange in TableWriter(name=s2.ndt)\n",
      "[2015-03-29 20:47:40] DEBUG: 'Deleting' get method for m in TableWriter(name=s2.ndt)\n",
      "[2015-03-29 20:47:40] DEBUG: 'Deleting' get method for steps in TableWriter(name=s2.ndt)\n",
      "[2015-03-29 20:47:40] DEBUG: 'Deleting' get method for E_Exchange in TableWriter(name=s2.ndt)\n",
      "[2015-03-29 20:47:40] DEBUG: 'Deleting' get method for time in TableWriter(name=s2.ndt)\n",
      "[2015-03-29 20:47:40] DEBUG: 'Deleting' get method for H_total in TableWriter(name=s2.ndt)\n",
      "[2015-03-29 20:47:40] DEBUG: 'Deleting' get method for E_Demag in TableWriter(name=s2.ndt)\n",
      "[2015-03-29 20:47:40] DEBUG: 'Deleting' get method for last_step_dt in TableWriter(name=s2.ndt)\n",
      "[2015-03-29 20:47:40] DEBUG:    shutdown(): 2-refcount 6 for s2\n",
      "[2015-03-29 20:47:40] DEBUG:    shutdown(): 3-refcount 5 for s2\n",
      "[2015-03-29 20:47:40] DEBUG: Removing scheduled items:\n",
      "[2015-03-29 20:47:41] INFO: Creating integrator with backend sundials and arguments {'reltol': 1e-06, 'abstol': 1e-06}.\n",
      "[2015-03-29 20:47:41] DEBUG: Updating get method for steps in TableWriter(name=s2.ndt)\n",
      "[2015-03-29 20:47:41] DEBUG: Updating get method for last_step_dt in TableWriter(name=s2.ndt)\n",
      "[2015-03-29 20:47:41] DEBUG: Updating get method for dmdt in TableWriter(name=s2.ndt)\n",
      "[2015-03-29 20:47:41] DEBUG:    shutdown(): 4-refcount 5 for s2\n",
      "[2015-03-29 20:47:41] DEBUG:    shutdown(): 5-refcount 5 for s2\n",
      "[2015-03-29 20:47:41] DEBUG:    shutdown(): 6-refcount 4 for s2\n",
      "[2015-03-29 20:47:41] INFO: Closing logging_handler <logging.handlers.RotatingFileHandler object at 0x7fe760fac350> for sim object s2\n",
      "[2015-03-29 20:47:41] DEBUG:    shutdown(): 7-refcount 4 for s2\n"
     ]
    },
    {
     "name": "stdout",
     "output_type": "stream",
     "text": [
      "__del__(): Simulation object name='s2' (instance_id=1) is going out of scope\n"
     ]
    }
   ],
   "source": [
    "s2 = finmag.example.barmini(name='s2')\n",
    "s2.shutdown()\n",
    "del s2"
   ]
  },
  {
   "cell_type": "markdown",
   "metadata": {},
   "source": [
    "## Other convenience tools"
   ]
  },
  {
   "cell_type": "markdown",
   "metadata": {},
   "source": [
    "There is also a convenience 'class' method to show and delete (as much as possible) other simulations"
   ]
  },
  {
   "cell_type": "code",
   "execution_count": 5,
   "metadata": {
    "collapsed": true
   },
   "outputs": [
    {
     "name": "stderr",
     "output_type": "stream",
     "text": [
      "[2015-03-29 20:47:41] INFO: Finmag logging output will be written to file: '/home/fangohr/hg/finmag/doc/ipython_notebooks_src/0.log' (any old content will be overwritten).\n",
      "[2015-03-29 20:47:41] DEBUG: Creating DataWriter for file '0.ndt'\n",
      "[2015-03-29 20:47:41] INFO: Creating Sim object name='0', instance_id=2 (rank=0/1).\n",
      "[2015-03-29 20:47:41] DEBUG:    Total number of Sim objects in this session: 2\n",
      "[2015-03-29 20:47:41] INFO: <Mesh of topological dimension 3 (tetrahedra) with 45 vertices and 96 cells, ordered>\n",
      "[2015-03-29 20:47:41] DEBUG: Creating LLG object.\n",
      "[2015-03-29 20:47:41] DEBUG: Creating Exchange object with method box-matrix-petsc, in Jacobian.\n",
      "[2015-03-29 20:47:41] DEBUG: Adding interaction Exchange to simulation.\n",
      "[2015-03-29 20:47:41] DEBUG: Creating Demag object with solver 'FK'.\n",
      "[2015-03-29 20:47:41] DEBUG: Demag parameters now: {'phi_1': {'absolute_tolerance': 1e-06, 'relative_tolerance': 1e-06, 'maximum_iterations': 10000}, 'phi_2': {'absolute_tolerance': 1e-06, 'relative_tolerance': 1e-06, 'maximum_iterations': 10000}, 'phi_2_solver': 'default', 'phi_2_preconditioner': 'default', 'phi_1_preconditioner': 'default', 'phi_1_solver': 'default'}\n",
      "[2015-03-29 20:47:41] DEBUG: Adding interaction Demag to simulation.\n",
      "[2015-03-29 20:47:41] DEBUG: Using Krylov solver for demag.\n",
      "[2015-03-29 20:47:41] DEBUG: Creating macro-geometry with demag 1 x 1 tiles (dxdy: 3.0 x 3.0)\n",
      "[2015-03-29 20:47:41] DEBUG: Boundary element matrix uses 0.01 MB of memory.\n",
      "[2015-03-29 20:47:41] DEBUG: Successfully created simulation '0'\n",
      "[2015-03-29 20:47:41] INFO: Finmag logging output will be written to file: '/home/fangohr/hg/finmag/doc/ipython_notebooks_src/1.log' (any old content will be overwritten).\n",
      "[2015-03-29 20:47:41] DEBUG: Creating DataWriter for file '1.ndt'\n",
      "[2015-03-29 20:47:41] INFO: Creating Sim object name='1', instance_id=3 (rank=0/1).\n",
      "[2015-03-29 20:47:41] DEBUG:    Total number of Sim objects in this session: 3\n",
      "[2015-03-29 20:47:41] INFO: <Mesh of topological dimension 3 (tetrahedra) with 45 vertices and 96 cells, ordered>\n",
      "[2015-03-29 20:47:41] DEBUG: Creating LLG object.\n",
      "[2015-03-29 20:47:41] DEBUG: Creating Exchange object with method box-matrix-petsc, in Jacobian.\n",
      "[2015-03-29 20:47:41] DEBUG: Adding interaction Exchange to simulation.\n",
      "[2015-03-29 20:47:41] DEBUG: Creating Demag object with solver 'FK'.\n",
      "[2015-03-29 20:47:41] DEBUG: Demag parameters now: {'phi_1': {'absolute_tolerance': 1e-06, 'relative_tolerance': 1e-06, 'maximum_iterations': 10000}, 'phi_2': {'absolute_tolerance': 1e-06, 'relative_tolerance': 1e-06, 'maximum_iterations': 10000}, 'phi_2_solver': 'default', 'phi_2_preconditioner': 'default', 'phi_1_preconditioner': 'default', 'phi_1_solver': 'default'}\n",
      "[2015-03-29 20:47:41] DEBUG: Adding interaction Demag to simulation.\n",
      "[2015-03-29 20:47:41] DEBUG: Using Krylov solver for demag.\n",
      "[2015-03-29 20:47:41] DEBUG: Creating macro-geometry with demag 1 x 1 tiles (dxdy: 3.0 x 3.0)\n",
      "[2015-03-29 20:47:41] DEBUG: Boundary element matrix uses 0.01 MB of memory.\n",
      "[2015-03-29 20:47:41] DEBUG: Successfully created simulation '1'\n",
      "[2015-03-29 20:47:41] INFO: Finmag logging output will be written to file: '/home/fangohr/hg/finmag/doc/ipython_notebooks_src/2.log' (any old content will be overwritten).\n",
      "[2015-03-29 20:47:41] DEBUG: Creating DataWriter for file '2.ndt'\n",
      "[2015-03-29 20:47:41] INFO: Creating Sim object name='2', instance_id=4 (rank=0/1).\n",
      "[2015-03-29 20:47:41] DEBUG:    Total number of Sim objects in this session: 4\n",
      "[2015-03-29 20:47:41] INFO: <Mesh of topological dimension 3 (tetrahedra) with 45 vertices and 96 cells, ordered>\n",
      "[2015-03-29 20:47:41] DEBUG: Creating LLG object.\n",
      "[2015-03-29 20:47:41] DEBUG: Creating Exchange object with method box-matrix-petsc, in Jacobian.\n",
      "[2015-03-29 20:47:41] DEBUG: Adding interaction Exchange to simulation.\n",
      "[2015-03-29 20:47:41] DEBUG: Creating Demag object with solver 'FK'.\n",
      "[2015-03-29 20:47:41] DEBUG: Demag parameters now: {'phi_1': {'absolute_tolerance': 1e-06, 'relative_tolerance': 1e-06, 'maximum_iterations': 10000}, 'phi_2': {'absolute_tolerance': 1e-06, 'relative_tolerance': 1e-06, 'maximum_iterations': 10000}, 'phi_2_solver': 'default', 'phi_2_preconditioner': 'default', 'phi_1_preconditioner': 'default', 'phi_1_solver': 'default'}\n",
      "[2015-03-29 20:47:41] DEBUG: Adding interaction Demag to simulation.\n",
      "[2015-03-29 20:47:41] DEBUG: Using Krylov solver for demag.\n",
      "[2015-03-29 20:47:41] DEBUG: Creating macro-geometry with demag 1 x 1 tiles (dxdy: 3.0 x 3.0)\n",
      "[2015-03-29 20:47:41] DEBUG: Boundary element matrix uses 0.01 MB of memory.\n",
      "[2015-03-29 20:47:41] DEBUG: Successfully created simulation '2'\n",
      "[2015-03-29 20:47:41] INFO: Finmag logging output will be written to file: '/home/fangohr/hg/finmag/doc/ipython_notebooks_src/s4.log' (any old content will be overwritten).\n",
      "[2015-03-29 20:47:41] DEBUG: Creating DataWriter for file 's4.ndt'\n",
      "[2015-03-29 20:47:41] INFO: Creating Sim object name='s4', instance_id=5 (rank=0/1).\n",
      "[2015-03-29 20:47:41] DEBUG:    Total number of Sim objects in this session: 5\n",
      "[2015-03-29 20:47:41] INFO: <Mesh of topological dimension 3 (tetrahedra) with 45 vertices and 96 cells, ordered>\n",
      "[2015-03-29 20:47:41] DEBUG: Creating LLG object.\n",
      "[2015-03-29 20:47:41] DEBUG: Creating Exchange object with method box-matrix-petsc, in Jacobian.\n",
      "[2015-03-29 20:47:41] DEBUG: Adding interaction Exchange to simulation.\n",
      "[2015-03-29 20:47:41] DEBUG: Creating Demag object with solver 'FK'.\n",
      "[2015-03-29 20:47:41] DEBUG: Demag parameters now: {'phi_1': {'absolute_tolerance': 1e-06, 'relative_tolerance': 1e-06, 'maximum_iterations': 10000}, 'phi_2': {'absolute_tolerance': 1e-06, 'relative_tolerance': 1e-06, 'maximum_iterations': 10000}, 'phi_2_solver': 'default', 'phi_2_preconditioner': 'default', 'phi_1_preconditioner': 'default', 'phi_1_solver': 'default'}\n",
      "[2015-03-29 20:47:41] DEBUG: Adding interaction Demag to simulation.\n",
      "[2015-03-29 20:47:41] DEBUG: Using Krylov solver for demag.\n",
      "[2015-03-29 20:47:41] DEBUG: Creating macro-geometry with demag 1 x 1 tiles (dxdy: 3.0 x 3.0)\n",
      "[2015-03-29 20:47:41] DEBUG: Boundary element matrix uses 0.01 MB of memory.\n",
      "[2015-03-29 20:47:41] DEBUG: Successfully created simulation 's4'\n"
     ]
    }
   ],
   "source": [
    "for i in range(3):\n",
    "    finmag.example.barmini(name='%d' % i)\n",
    "    \n",
    "s4 = finmag.example.barmini(name='s4')"
   ]
  },
  {
   "cell_type": "markdown",
   "metadata": {},
   "source": [
    "## Class method to show all active simulation objects:"
   ]
  },
  {
   "cell_type": "code",
   "execution_count": 6,
   "metadata": {
    "collapsed": false
   },
   "outputs": [
    {
     "name": "stderr",
     "output_type": "stream",
     "text": [
      "[2015-03-29 20:47:41] INFO: Showing all Simulation object instances:\n",
      "[2015-03-29 20:47:41] INFO:     sim instance_id=0: name='s1'\n",
      "[2015-03-29 20:47:41] INFO:     sim instance_id=2: name='0'\n",
      "[2015-03-29 20:47:41] INFO:     sim instance_id=3: name='1'\n",
      "[2015-03-29 20:47:41] INFO:     sim instance_id=4: name='2'\n",
      "[2015-03-29 20:47:41] INFO:     sim instance_id=5: name='s4'\n"
     ]
    }
   ],
   "source": [
    "finmag.Simulation.instances_list_all()"
   ]
  },
  {
   "cell_type": "markdown",
   "metadata": {},
   "source": [
    "Class method to (attempt) to delete all active simulation objects:"
   ]
  },
  {
   "cell_type": "code",
   "execution_count": 7,
   "metadata": {
    "collapsed": false
   },
   "outputs": [
    {
     "name": "stderr",
     "output_type": "stream",
     "text": [
      "[2015-03-29 20:47:41] INFO: instances_delete_all() starting:\n",
      "[2015-03-29 20:47:41] INFO: Shutting down Simulation object finmag.Simulation(name='s1', instance_id=0) with <Mesh of topological dimension 3 (tetrahedra) with 45 vertices and 96 cells, ordered>\n",
      "[2015-03-29 20:47:41] DEBUG: 4 other Simulation instances alive.\n",
      "[2015-03-29 20:47:41] DEBUG:    shutdown(): 1-refcount 6 for s1\n",
      "[2015-03-29 20:47:41] DEBUG: 'Deletinging all get methods in TableWriter(name=s1.ndt)\n",
      "[2015-03-29 20:47:41] DEBUG: 'Deleting' get method for H_Demag in TableWriter(name=s1.ndt)\n",
      "[2015-03-29 20:47:41] DEBUG: 'Deleting' get method for dmdt in TableWriter(name=s1.ndt)\n",
      "[2015-03-29 20:47:41] DEBUG: 'Deleting' get method for E_total in TableWriter(name=s1.ndt)\n",
      "[2015-03-29 20:47:41] DEBUG: 'Deleting' get method for H_Exchange in TableWriter(name=s1.ndt)\n",
      "[2015-03-29 20:47:41] DEBUG: 'Deleting' get method for m in TableWriter(name=s1.ndt)\n",
      "[2015-03-29 20:47:41] DEBUG: 'Deleting' get method for steps in TableWriter(name=s1.ndt)\n",
      "[2015-03-29 20:47:41] DEBUG: 'Deleting' get method for E_Exchange in TableWriter(name=s1.ndt)\n",
      "[2015-03-29 20:47:41] DEBUG: 'Deleting' get method for time in TableWriter(name=s1.ndt)\n",
      "[2015-03-29 20:47:41] DEBUG: 'Deleting' get method for H_total in TableWriter(name=s1.ndt)\n",
      "[2015-03-29 20:47:41] DEBUG: 'Deleting' get method for E_Demag in TableWriter(name=s1.ndt)\n",
      "[2015-03-29 20:47:41] DEBUG: 'Deleting' get method for last_step_dt in TableWriter(name=s1.ndt)\n",
      "[2015-03-29 20:47:41] DEBUG:    shutdown(): 2-refcount 6 for s1\n",
      "[2015-03-29 20:47:41] DEBUG:    shutdown(): 3-refcount 5 for s1\n",
      "[2015-03-29 20:47:41] DEBUG: Removing scheduled items:\n",
      "[2015-03-29 20:47:41] INFO: Creating integrator with backend sundials and arguments {'reltol': 1e-06, 'abstol': 1e-06}.\n",
      "[2015-03-29 20:47:41] DEBUG: Updating get method for steps in TableWriter(name=s1.ndt)\n",
      "[2015-03-29 20:47:41] DEBUG: Updating get method for last_step_dt in TableWriter(name=s1.ndt)\n",
      "[2015-03-29 20:47:41] DEBUG: Updating get method for dmdt in TableWriter(name=s1.ndt)\n",
      "[2015-03-29 20:47:41] DEBUG:    shutdown(): 4-refcount 5 for s1\n",
      "[2015-03-29 20:47:41] DEBUG:    shutdown(): 5-refcount 5 for s1\n",
      "[2015-03-29 20:47:41] DEBUG:    shutdown(): 6-refcount 4 for s1\n",
      "[2015-03-29 20:47:41] INFO: Closing logging_handler <logging.handlers.RotatingFileHandler object at 0x7fe761dce590> for sim object s1\n",
      "[2015-03-29 20:47:41] DEBUG:    shutdown(): 7-refcount 4 for s1\n",
      "[2015-03-29 20:47:41] INFO: Shutting down Simulation object finmag.Simulation(name='0', instance_id=2) with <Mesh of topological dimension 3 (tetrahedra) with 45 vertices and 96 cells, ordered>\n",
      "[2015-03-29 20:47:41] DEBUG: 3 other Simulation instances alive.\n",
      "[2015-03-29 20:47:41] DEBUG:    shutdown(): 1-refcount 6 for 0\n",
      "[2015-03-29 20:47:41] DEBUG: 'Deletinging all get methods in TableWriter(name=0.ndt)\n",
      "[2015-03-29 20:47:41] DEBUG: 'Deleting' get method for H_Demag in TableWriter(name=0.ndt)\n",
      "[2015-03-29 20:47:41] DEBUG: 'Deleting' get method for dmdt in TableWriter(name=0.ndt)\n",
      "[2015-03-29 20:47:41] DEBUG: 'Deleting' get method for E_total in TableWriter(name=0.ndt)\n",
      "[2015-03-29 20:47:41] DEBUG: 'Deleting' get method for H_Exchange in TableWriter(name=0.ndt)\n",
      "[2015-03-29 20:47:41] DEBUG: 'Deleting' get method for m in TableWriter(name=0.ndt)\n",
      "[2015-03-29 20:47:41] DEBUG: 'Deleting' get method for steps in TableWriter(name=0.ndt)\n",
      "[2015-03-29 20:47:41] DEBUG: 'Deleting' get method for E_Exchange in TableWriter(name=0.ndt)\n",
      "[2015-03-29 20:47:41] DEBUG: 'Deleting' get method for time in TableWriter(name=0.ndt)\n",
      "[2015-03-29 20:47:41] DEBUG: 'Deleting' get method for H_total in TableWriter(name=0.ndt)\n",
      "[2015-03-29 20:47:41] DEBUG: 'Deleting' get method for E_Demag in TableWriter(name=0.ndt)\n",
      "[2015-03-29 20:47:41] DEBUG: 'Deleting' get method for last_step_dt in TableWriter(name=0.ndt)\n",
      "[2015-03-29 20:47:41] DEBUG:    shutdown(): 2-refcount 6 for 0\n",
      "[2015-03-29 20:47:41] DEBUG:    shutdown(): 3-refcount 5 for 0\n",
      "[2015-03-29 20:47:41] DEBUG: Removing scheduled items:\n",
      "[2015-03-29 20:47:41] INFO: Creating integrator with backend sundials and arguments {'reltol': 1e-06, 'abstol': 1e-06}.\n",
      "[2015-03-29 20:47:41] DEBUG: Updating get method for steps in TableWriter(name=0.ndt)\n",
      "[2015-03-29 20:47:41] DEBUG: Updating get method for last_step_dt in TableWriter(name=0.ndt)\n",
      "[2015-03-29 20:47:41] DEBUG: Updating get method for dmdt in TableWriter(name=0.ndt)\n",
      "[2015-03-29 20:47:41] DEBUG:    shutdown(): 4-refcount 5 for 0\n",
      "[2015-03-29 20:47:41] DEBUG:    shutdown(): 5-refcount 5 for 0\n",
      "[2015-03-29 20:47:41] DEBUG:    shutdown(): 6-refcount 4 for 0\n",
      "[2015-03-29 20:47:41] INFO: Closing logging_handler <logging.handlers.RotatingFileHandler object at 0x7fe760fac250> for sim object 0\n",
      "[2015-03-29 20:47:41] DEBUG:    shutdown(): 7-refcount 4 for 0\n"
     ]
    },
    {
     "name": "stdout",
     "output_type": "stream",
     "text": [
      "__del__(): Simulation object name='s1' (instance_id=0) is going out of scope\n",
      "__del__(): Simulation object name='0' (instance_id=2) is going out of scope"
     ]
    },
    {
     "name": "stderr",
     "output_type": "stream",
     "text": [
      "[2015-03-29 20:47:41] INFO: Shutting down Simulation object finmag.Simulation(name='1', instance_id=3) with <Mesh of topological dimension 3 (tetrahedra) with 45 vertices and 96 cells, ordered>\n",
      "[2015-03-29 20:47:41] DEBUG: 2 other Simulation instances alive.\n",
      "[2015-03-29 20:47:41] DEBUG:    shutdown(): 1-refcount 6 for 1\n",
      "[2015-03-29 20:47:41] DEBUG: 'Deletinging all get methods in TableWriter(name=1.ndt)\n",
      "[2015-03-29 20:47:41] DEBUG: 'Deleting' get method for H_Demag in TableWriter(name=1.ndt)\n",
      "[2015-03-29 20:47:41] DEBUG: 'Deleting' get method for dmdt in TableWriter(name=1.ndt)\n",
      "[2015-03-29 20:47:41] DEBUG: 'Deleting' get method for E_total in TableWriter(name=1.ndt)\n",
      "[2015-03-29 20:47:41] DEBUG: 'Deleting' get method for H_Exchange in TableWriter(name=1.ndt)\n",
      "[2015-03-29 20:47:41] DEBUG: 'Deleting' get method for m in TableWriter(name=1.ndt)\n",
      "[2015-03-29 20:47:41] DEBUG: 'Deleting' get method for steps in TableWriter(name=1.ndt)\n",
      "[2015-03-29 20:47:41] DEBUG: 'Deleting' get method for E_Exchange in TableWriter(name=1.ndt)\n",
      "[2015-03-29 20:47:41] DEBUG: 'Deleting' get method for time in TableWriter(name=1.ndt)\n",
      "[2015-03-29 20:47:41] DEBUG: 'Deleting' get method for H_total in TableWriter(name=1.ndt)\n",
      "[2015-03-29 20:47:41] DEBUG: 'Deleting' get method for E_Demag in TableWriter(name=1.ndt)\n",
      "[2015-03-29 20:47:41] DEBUG: 'Deleting' get method for last_step_dt in TableWriter(name=1.ndt)\n",
      "[2015-03-29 20:47:41] DEBUG:    shutdown(): 2-refcount 6 for 1\n",
      "[2015-03-29 20:47:41] DEBUG:    shutdown(): 3-refcount 5 for 1\n",
      "[2015-03-29 20:47:41] DEBUG: Removing scheduled items:\n",
      "[2015-03-29 20:47:41] INFO: Creating integrator with backend sundials and arguments {'reltol': 1e-06, 'abstol': 1e-06}.\n",
      "[2015-03-29 20:47:41] DEBUG: Updating get method for steps in TableWriter(name=1.ndt)\n",
      "[2015-03-29 20:47:41] DEBUG: Updating get method for last_step_dt in TableWriter(name=1.ndt)\n",
      "[2015-03-29 20:47:41] DEBUG: Updating get method for dmdt in TableWriter(name=1.ndt)\n",
      "[2015-03-29 20:47:41] DEBUG:    shutdown(): 4-refcount 5 for 1\n",
      "[2015-03-29 20:47:41] DEBUG:    shutdown(): 5-refcount 5 for 1\n",
      "[2015-03-29 20:47:41] DEBUG:    shutdown(): 6-refcount 4 for 1\n",
      "[2015-03-29 20:47:41] INFO: Closing logging_handler <logging.handlers.RotatingFileHandler object at 0x7fe7606c2cd0> for sim object 1\n",
      "[2015-03-29 20:47:41] DEBUG:    shutdown(): 7-refcount 4 for 1\n"
     ]
    },
    {
     "name": "stdout",
     "output_type": "stream",
     "text": [
      "\n",
      "__del__(): Simulation object name='1' (instance_id=3) is going out of scope"
     ]
    },
    {
     "name": "stderr",
     "output_type": "stream",
     "text": [
      "[2015-03-29 20:47:41] INFO: Shutting down Simulation object finmag.Simulation(name='2', instance_id=4) with <Mesh of topological dimension 3 (tetrahedra) with 45 vertices and 96 cells, ordered>\n",
      "[2015-03-29 20:47:42] DEBUG: 1 other Simulation instances alive.\n",
      "[2015-03-29 20:47:42] DEBUG:    shutdown(): 1-refcount 6 for 2\n",
      "[2015-03-29 20:47:42] DEBUG: 'Deletinging all get methods in TableWriter(name=2.ndt)\n",
      "[2015-03-29 20:47:42] DEBUG: 'Deleting' get method for H_Demag in TableWriter(name=2.ndt)\n",
      "[2015-03-29 20:47:42] DEBUG: 'Deleting' get method for dmdt in TableWriter(name=2.ndt)\n",
      "[2015-03-29 20:47:42] DEBUG: 'Deleting' get method for E_total in TableWriter(name=2.ndt)\n",
      "[2015-03-29 20:47:42] DEBUG: 'Deleting' get method for H_Exchange in TableWriter(name=2.ndt)\n",
      "[2015-03-29 20:47:42] DEBUG: 'Deleting' get method for m in TableWriter(name=2.ndt)\n",
      "[2015-03-29 20:47:42] DEBUG: 'Deleting' get method for steps in TableWriter(name=2.ndt)\n",
      "[2015-03-29 20:47:42] DEBUG: 'Deleting' get method for E_Exchange in TableWriter(name=2.ndt)\n",
      "[2015-03-29 20:47:42] DEBUG: 'Deleting' get method for time in TableWriter(name=2.ndt)\n",
      "[2015-03-29 20:47:42] DEBUG: 'Deleting' get method for H_total in TableWriter(name=2.ndt)\n",
      "[2015-03-29 20:47:42] DEBUG: 'Deleting' get method for E_Demag in TableWriter(name=2.ndt)\n",
      "[2015-03-29 20:47:42] DEBUG: 'Deleting' get method for last_step_dt in TableWriter(name=2.ndt)\n",
      "[2015-03-29 20:47:42] DEBUG:    shutdown(): 2-refcount 6 for 2\n",
      "[2015-03-29 20:47:42] DEBUG:    shutdown(): 3-refcount 5 for 2\n",
      "[2015-03-29 20:47:42] DEBUG: Removing scheduled items:\n",
      "[2015-03-29 20:47:42] INFO: Creating integrator with backend sundials and arguments {'reltol': 1e-06, 'abstol': 1e-06}.\n",
      "[2015-03-29 20:47:42] DEBUG: Updating get method for steps in TableWriter(name=2.ndt)\n",
      "[2015-03-29 20:47:42] DEBUG: Updating get method for last_step_dt in TableWriter(name=2.ndt)\n",
      "[2015-03-29 20:47:42] DEBUG: Updating get method for dmdt in TableWriter(name=2.ndt)\n",
      "[2015-03-29 20:47:42] DEBUG:    shutdown(): 4-refcount 5 for 2\n",
      "[2015-03-29 20:47:42] DEBUG:    shutdown(): 5-refcount 5 for 2\n",
      "[2015-03-29 20:47:42] DEBUG:    shutdown(): 6-refcount 4 for 2\n",
      "[2015-03-29 20:47:42] INFO: Closing logging_handler <logging.handlers.RotatingFileHandler object at 0x7fe7606bc710> for sim object 2\n",
      "[2015-03-29 20:47:42] DEBUG:    shutdown(): 7-refcount 4 for 2\n"
     ]
    },
    {
     "name": "stdout",
     "output_type": "stream",
     "text": [
      "\n",
      "__del__(): Simulation object name='2' (instance_id=4) is going out of scope"
     ]
    },
    {
     "name": "stderr",
     "output_type": "stream",
     "text": [
      "[2015-03-29 20:47:42] INFO: Shutting down Simulation object finmag.Simulation(name='s4', instance_id=5) with <Mesh of topological dimension 3 (tetrahedra) with 45 vertices and 96 cells, ordered>\n",
      "[2015-03-29 20:47:42] DEBUG: 0 other Simulation instances alive.\n",
      "[2015-03-29 20:47:42] DEBUG:    shutdown(): 1-refcount 7 for s4\n",
      "[2015-03-29 20:47:42] DEBUG: 'Deletinging all get methods in TableWriter(name=s4.ndt)\n",
      "[2015-03-29 20:47:42] DEBUG: 'Deleting' get method for H_Demag in TableWriter(name=s4.ndt)\n",
      "[2015-03-29 20:47:42] DEBUG: 'Deleting' get method for dmdt in TableWriter(name=s4.ndt)\n",
      "[2015-03-29 20:47:42] DEBUG: 'Deleting' get method for E_total in TableWriter(name=s4.ndt)\n",
      "[2015-03-29 20:47:42] DEBUG: 'Deleting' get method for H_Exchange in TableWriter(name=s4.ndt)\n",
      "[2015-03-29 20:47:42] DEBUG: 'Deleting' get method for m in TableWriter(name=s4.ndt)\n",
      "[2015-03-29 20:47:42] DEBUG: 'Deleting' get method for steps in TableWriter(name=s4.ndt)\n",
      "[2015-03-29 20:47:42] DEBUG: 'Deleting' get method for E_Exchange in TableWriter(name=s4.ndt)\n",
      "[2015-03-29 20:47:42] DEBUG: 'Deleting' get method for time in TableWriter(name=s4.ndt)\n",
      "[2015-03-29 20:47:42] DEBUG: 'Deleting' get method for H_total in TableWriter(name=s4.ndt)\n",
      "[2015-03-29 20:47:42] DEBUG: 'Deleting' get method for E_Demag in TableWriter(name=s4.ndt)\n",
      "[2015-03-29 20:47:42] DEBUG: 'Deleting' get method for last_step_dt in TableWriter(name=s4.ndt)\n",
      "[2015-03-29 20:47:42] DEBUG:    shutdown(): 2-refcount 7 for s4\n",
      "[2015-03-29 20:47:42] DEBUG:    shutdown(): 3-refcount 6 for s4\n",
      "[2015-03-29 20:47:42] DEBUG: Removing scheduled items:\n",
      "[2015-03-29 20:47:42] INFO: Creating integrator with backend sundials and arguments {'reltol': 1e-06, 'abstol': 1e-06}.\n",
      "[2015-03-29 20:47:42] DEBUG: Updating get method for steps in TableWriter(name=s4.ndt)\n",
      "[2015-03-29 20:47:42] DEBUG: Updating get method for last_step_dt in TableWriter(name=s4.ndt)\n",
      "[2015-03-29 20:47:42] DEBUG: Updating get method for dmdt in TableWriter(name=s4.ndt)\n",
      "[2015-03-29 20:47:42] DEBUG:    shutdown(): 4-refcount 6 for s4\n",
      "[2015-03-29 20:47:42] DEBUG:    shutdown(): 5-refcount 6 for s4\n",
      "[2015-03-29 20:47:42] DEBUG:    shutdown(): 6-refcount 5 for s4\n",
      "[2015-03-29 20:47:42] INFO: Closing logging_handler <logging.handlers.RotatingFileHandler object at 0x7fe7606dadd0> for sim object s4\n",
      "[2015-03-29 20:47:42] DEBUG:    shutdown(): 7-refcount 5 for s4\n",
      "[2015-03-29 20:47:42] DEBUG: instances_delete_all() ending\n"
     ]
    },
    {
     "name": "stdout",
     "output_type": "stream",
     "text": [
      "\n"
     ]
    }
   ],
   "source": [
    "finmag.Simulation.instances_delete_all()"
   ]
  },
  {
   "cell_type": "markdown",
   "metadata": {},
   "source": [
    "s4 cannot be garbage collected, because the variable s4 is a reference to it. Once we delete it, the object should be garbage collected:"
   ]
  },
  {
   "cell_type": "code",
   "execution_count": 8,
   "metadata": {
    "collapsed": false
   },
   "outputs": [
    {
     "name": "stdout",
     "output_type": "stream",
     "text": [
      "__del__(): Simulation object name='s4' (instance_id=5) is going out of scope\n"
     ]
    }
   ],
   "source": [
    "del s4"
   ]
  },
  {
   "cell_type": "markdown",
   "metadata": {},
   "source": [
    "## Summary"
   ]
  },
  {
   "cell_type": "markdown",
   "metadata": {},
   "source": [
    "If we use multiple simulation objects, it is recommended to use the ``shutdown()`` method when the object is not needed anymore. (See example below). This is likely to be only important if simulations are created in a for loop in a single session, but good practice to shutdown an object when it is not needed anymore. \n",
    "\n",
    "Typical example:\n"
   ]
  },
  {
   "cell_type": "code",
   "execution_count": 9,
   "metadata": {
    "collapsed": false
   },
   "outputs": [],
   "source": [
    "import finmag"
   ]
  },
  {
   "cell_type": "code",
   "execution_count": 10,
   "metadata": {
    "collapsed": false
   },
   "outputs": [
    {
     "name": "stderr",
     "output_type": "stream",
     "text": [
      "[2015-03-29 20:47:42] INFO: Finmag logging output will be written to file: '/home/fangohr/hg/finmag/doc/ipython_notebooks_src/bar.log' (any old content will be overwritten).\n",
      "[2015-03-29 20:47:42] DEBUG: Creating DataWriter for file 'bar.ndt'\n",
      "[2015-03-29 20:47:42] INFO: Creating Sim object name='bar', instance_id=6 (rank=0/1).\n",
      "[2015-03-29 20:47:42] DEBUG:    Total number of Sim objects in this session: 1\n",
      "[2015-03-29 20:47:42] INFO: <Mesh of topological dimension 3 (tetrahedra) with 13056 vertices and 67500 cells, ordered>\n",
      "[2015-03-29 20:47:42] DEBUG: Creating LLG object.\n",
      "[2015-03-29 20:47:43] DEBUG: Creating Exchange object with method box-matrix-petsc, in Jacobian.\n",
      "[2015-03-29 20:47:43] DEBUG: Adding interaction Exchange to simulation.\n",
      "[2015-03-29 20:47:44] DEBUG: Creating Demag object with solver 'FK'.\n",
      "[2015-03-29 20:47:44] DEBUG: Demag parameters now: {'phi_1': {'absolute_tolerance': 1e-06, 'relative_tolerance': 1e-06, 'maximum_iterations': 10000}, 'phi_2': {'absolute_tolerance': 1e-06, 'relative_tolerance': 1e-06, 'maximum_iterations': 10000}, 'phi_2_solver': 'default', 'phi_2_preconditioner': 'default', 'phi_1_preconditioner': 'default', 'phi_1_solver': 'default'}\n",
      "[2015-03-29 20:47:44] DEBUG: Adding interaction Demag to simulation.\n",
      "[2015-03-29 20:47:44] DEBUG: Using Krylov solver for demag.\n",
      "[2015-03-29 20:47:44] DEBUG: Creating macro-geometry with demag 1 x 1 tiles (dxdy: 30.0 x 30.0)\n",
      "[2015-03-29 20:47:54] DEBUG: Boundary element matrix uses 90.91 MB of memory.\n",
      "[2015-03-29 20:47:55] DEBUG: Successfully created simulation 'bar'\n"
     ]
    }
   ],
   "source": [
    "# create some simulation\n",
    "s = finmag.example.bar()"
   ]
  },
  {
   "cell_type": "code",
   "execution_count": 11,
   "metadata": {
    "collapsed": false
   },
   "outputs": [
    {
     "name": "stderr",
     "output_type": "stream",
     "text": [
      "[2015-03-29 20:47:55] INFO: Simulation will run until t = 1e-15 s.\n",
      "[2015-03-29 20:47:55] INFO: Creating integrator with backend sundials and arguments {'reltol': 1e-06, 'abstol': 1e-06}.\n",
      "[2015-03-29 20:47:55] DEBUG: Updating get method for steps in TableWriter(name=bar.ndt)\n",
      "[2015-03-29 20:47:55] DEBUG: Updating get method for last_step_dt in TableWriter(name=bar.ndt)\n",
      "[2015-03-29 20:47:55] DEBUG: Updating get method for dmdt in TableWriter(name=bar.ndt)\n",
      "[2015-03-29 20:47:56] INFO: Simulation has reached time t = 1e-15 s.\n"
     ]
    }
   ],
   "source": [
    "# do some work with the simulation\n",
    "s.run_until(1e-15)\n",
    "# when all is finished, shut it down"
   ]
  },
  {
   "cell_type": "code",
   "execution_count": 12,
   "metadata": {
    "collapsed": false
   },
   "outputs": [
    {
     "name": "stderr",
     "output_type": "stream",
     "text": [
      "[2015-03-29 20:47:56] INFO: Shutting down Simulation object finmag.Simulation(name='bar', instance_id=6) with <Mesh of topological dimension 3 (tetrahedra) with 13056 vertices and 67500 cells, ordered>\n",
      "[2015-03-29 20:47:56] DEBUG: 0 other Simulation instances alive.\n",
      "[2015-03-29 20:47:56] DEBUG:    shutdown(): 1-refcount 6 for bar\n",
      "[2015-03-29 20:47:56] DEBUG: 'Deletinging all get methods in TableWriter(name=bar.ndt)\n",
      "[2015-03-29 20:47:56] DEBUG: 'Deleting' get method for H_Demag in TableWriter(name=bar.ndt)\n",
      "[2015-03-29 20:47:56] DEBUG: 'Deleting' get method for dmdt in TableWriter(name=bar.ndt)\n",
      "[2015-03-29 20:47:56] DEBUG: 'Deleting' get method for E_total in TableWriter(name=bar.ndt)\n",
      "[2015-03-29 20:47:56] DEBUG: 'Deleting' get method for H_Exchange in TableWriter(name=bar.ndt)\n",
      "[2015-03-29 20:47:56] DEBUG: 'Deleting' get method for m in TableWriter(name=bar.ndt)\n",
      "[2015-03-29 20:47:56] DEBUG: 'Deleting' get method for steps in TableWriter(name=bar.ndt)\n",
      "[2015-03-29 20:47:56] DEBUG: 'Deleting' get method for E_Exchange in TableWriter(name=bar.ndt)\n",
      "[2015-03-29 20:47:56] DEBUG: 'Deleting' get method for time in TableWriter(name=bar.ndt)\n",
      "[2015-03-29 20:47:56] DEBUG: 'Deleting' get method for H_total in TableWriter(name=bar.ndt)\n",
      "[2015-03-29 20:47:56] DEBUG: 'Deleting' get method for E_Demag in TableWriter(name=bar.ndt)\n",
      "[2015-03-29 20:47:56] DEBUG: 'Deleting' get method for last_step_dt in TableWriter(name=bar.ndt)\n",
      "[2015-03-29 20:47:56] DEBUG:    shutdown(): 2-refcount 6 for bar\n",
      "[2015-03-29 20:47:56] DEBUG:    shutdown(): 3-refcount 5 for bar\n",
      "[2015-03-29 20:47:56] DEBUG: Removing scheduled items:\n",
      "[2015-03-29 20:47:56] DEBUG:    shutdown(): 4-refcount 5 for bar\n",
      "[2015-03-29 20:47:56] DEBUG:    shutdown(): 5-refcount 5 for bar\n",
      "[2015-03-29 20:47:56] DEBUG:    shutdown(): 6-refcount 4 for bar\n",
      "[2015-03-29 20:47:56] INFO: Closing logging_handler <logging.handlers.RotatingFileHandler object at 0x7fe7606766d0> for sim object bar\n",
      "[2015-03-29 20:47:56] DEBUG:    shutdown(): 7-refcount 4 for bar\n"
     ]
    },
    {
     "data": {
      "text/plain": [
       "4"
      ]
     },
     "execution_count": 12,
     "metadata": {},
     "output_type": "execute_result"
    }
   ],
   "source": [
    "# save data, and prepare to destruct simulation object:\n",
    "s.shutdown()"
   ]
  },
  {
   "cell_type": "markdown",
   "metadata": {},
   "source": [
    "if desired, delete (last) reference to simulation object, or wait for it to go out of scope: "
   ]
  },
  {
   "cell_type": "code",
   "execution_count": 13,
   "metadata": {
    "collapsed": false
   },
   "outputs": [
    {
     "name": "stdout",
     "output_type": "stream",
     "text": [
      "__del__(): Simulation object name='bar' (instance_id=6) is going out of scope\n"
     ]
    }
   ],
   "source": [
    "del s"
   ]
  },
  {
   "cell_type": "code",
   "execution_count": 13,
   "metadata": {
    "collapsed": false
   },
   "outputs": [],
   "source": []
  }
 ],
 "metadata": {
  "kernelspec": {
   "display_name": "Python 2",
   "language": "python",
   "name": "python2"
  },
  "language_info": {
   "codemirror_mode": {
    "name": "ipython",
    "version": 2
   },
   "file_extension": ".py",
   "mimetype": "text/x-python",
   "name": "python",
   "nbconvert_exporter": "python",
   "pygments_lexer": "ipython2",
   "version": "2.7.6"
  }
 },
 "nbformat": 4,
 "nbformat_minor": 0
}
