{
 "metadata": {
  "name": "SkyrmionExample1"
 },
 "nbformat": 3,
 "nbformat_minor": 0,
 "worksheets": [
  {
   "cells": [
    {
     "cell_type": "markdown",
     "metadata": {},
     "source": [
      "##Example 1: Skyrmion state"
     ]
    },
    {
     "cell_type": "markdown",
     "metadata": {},
     "source": [
      "###Importing all required modules"
     ]
    },
    {
     "cell_type": "markdown",
     "metadata": {},
     "source": [
      "The first step in creating the skyrmion simulation is importing all required modules. "
     ]
    },
    {
     "cell_type": "markdown",
     "metadata": {},
     "source": [
      "Module **dolfin** contains some basic finite elements methods. Subsequently, it will be used for creating some basic meshes and their plotting. To import dolfin module type:"
     ]
    },
    {
     "cell_type": "code",
     "collapsed": false,
     "input": [
      "import dolfin as df"
     ],
     "language": "python",
     "metadata": {},
     "outputs": [],
     "prompt_number": 1
    },
    {
     "cell_type": "markdown",
     "metadata": {},
     "source": [
      "The energy terms, required for skyrmion formation are:\n",
      "\n",
      "* *Exchange*,\n",
      "* *DMI* and\n",
      "* *Zeeman*.\n",
      "\n",
      "Therefore these energies must be imported into the simulation. All energy terms that finmag is capable of simulating are in **finmag.energies** module. Three crucial energy terms are imported using the following commands"
     ]
    },
    {
     "cell_type": "code",
     "collapsed": true,
     "input": [
      "from finmag.energies import Exchange"
     ],
     "language": "python",
     "metadata": {},
     "outputs": [
      {
       "output_type": "stream",
       "stream": "stderr",
       "text": [
        "[2012-12-10 10:37:26] INFO: Finmag logging output will be appended to file: '/home/fangohr/.finmag/global.log'\n"
       ]
      },
      {
       "output_type": "stream",
       "stream": "stderr",
       "text": [
        "[2012-12-10 10:37:26] DEBUG: Building modules in 'native'...\n"
       ]
      },
      {
       "output_type": "stream",
       "stream": "stderr",
       "text": [
        "[2012-12-10 10:37:27] DEBUG: This is Finmag version 2365:e470724bdd1e7dccc42a5d0bdb43bae4fc879cdf\n"
       ]
      }
     ],
     "prompt_number": 2
    },
    {
     "cell_type": "code",
     "collapsed": false,
     "input": [
      "from finmag.energies import DMI"
     ],
     "language": "python",
     "metadata": {},
     "outputs": [],
     "prompt_number": 3
    },
    {
     "cell_type": "code",
     "collapsed": false,
     "input": [
      "from finmag.energies import Zeeman"
     ],
     "language": "python",
     "metadata": {},
     "outputs": [],
     "prompt_number": 4
    },
    {
     "cell_type": "markdown",
     "metadata": {},
     "source": [
      "Alternatively, all these energy terms can be imported in only one line of the code:"
     ]
    },
    {
     "cell_type": "code",
     "collapsed": false,
     "input": [
      "from finmag.energies import Exchange, DMI, Zeeman"
     ],
     "language": "python",
     "metadata": {},
     "outputs": [],
     "prompt_number": 5
    },
    {
     "cell_type": "markdown",
     "metadata": {},
     "source": [
      "Other energy terms, such as **Anisotropy** and **Demag** can be added in the same way."
     ]
    },
    {
     "cell_type": "markdown",
     "metadata": {},
     "source": [
      "The next class which should be imported is the **Simulation** class as a part of finmag module."
     ]
    },
    {
     "cell_type": "code",
     "collapsed": false,
     "input": [
      "from finmag import Simulation as Sim"
     ],
     "language": "python",
     "metadata": {},
     "outputs": [],
     "prompt_number": 6
    },
    {
     "cell_type": "markdown",
     "metadata": {},
     "source": [
      "Additional modules should be also added in this section if they are going to be used subsequently."
     ]
    },
    {
     "cell_type": "markdown",
     "metadata": {},
     "source": [
      "##Creating a mesh\n",
      "Before the simulation can be created, a suitable mesh which coresponds to the simulated sample must be created.\n",
      "In the skyrmion study most used domain is thin film sample which can be imagined as a three-dimensional box with $x$ and $y$ dimensions significantly larger than the film thickess $z$. The command for creating a 3D mesh object which coresponds to a thin film is **Box** as a part of **dolfin** module (previously imported as **df**). The required arguments for this operation are:\n",
      "\n",
      "* The coordinates of the origin. In this case origin $(x_{0},y_{0},z_{0})=(0,0,0)$ is chosen.\n",
      "* Dimensions of a three dimensional box $x$, $y$ and $z$. \n",
      "* Number of mesh vertices along each coordinate ($n_{x}$, $n_{y}$ and $n_{z}$).\n",
      "\n",
      "Therefore, mesh, using the **Box** command is created with the following list of arguments: ($x_{0}$, $y_{0}$, $z_{0}$, $x$, $y$, $z$, $n_{x}$, $n_{y}$, $n_{z}$)\n",
      "\n",
      "The following command creates the mesh for thin film sample with dimensions: $x = 50 nm$, $y = 50 nm$ and thickess $z = 1 nm$. Number of vertices is chosen such that their spacing is $1 nm$, thus, $n_{x}=50$, $n_{y}=50$ and $n_{z}=1$."
     ]
    },
    {
     "cell_type": "code",
     "collapsed": false,
     "input": [
      "mesh = df.Box(0,0,0,50e-9,50e-9,1e-9,50,50,1)"
     ],
     "language": "python",
     "metadata": {},
     "outputs": [],
     "prompt_number": 7
    },
    {
     "cell_type": "markdown",
     "metadata": {},
     "source": [
      "The information about a created mesh can be displayed by using the **print_mesh_info** method which is a part of **finmag.util.meshes** module. After this module is imported, **mesh_info** command with a mesh object as an argument can be run."
     ]
    },
    {
     "cell_type": "code",
     "collapsed": false,
     "input": [
      "from finmag.util.meshes import print_mesh_info\n",
      "print_mesh_info(mesh)"
     ],
     "language": "python",
     "metadata": {},
     "outputs": [
      {
       "output_type": "stream",
       "stream": "stdout",
       "text": [
        "===== Mesh info: ==============================\n",
        " 15000 cells (= volume elements)\n",
        " 35200 facets\n",
        " 10400 surface facets\n",
        " 24800 interior facets\n",
        " 25401 edges\n",
        "  5202 vertices\n",
        "\n",
        "===== Distribution of edge lengths: ===========\n",
        "0.000 \n",
        "0.000 **********************************************************************\n",
        "0.000 \n",
        "0.000 \n",
        "0.000 \n",
        "0.000 \n",
        "0.000 \n",
        "0.000 \n",
        "0.000 \n",
        "0.000 \n",
        "0.000 \n",
        "0.000 \n",
        "0.000 *******************************************************\n",
        "0.000 \n",
        "0.000 \n",
        "0.000 \n",
        "0.000 \n",
        "0.000 \n",
        "0.000 \n",
        "0.000 \n",
        "0.000 **************\n",
        "\n"
       ]
      }
     ],
     "prompt_number": 8
    },
    {
     "cell_type": "markdown",
     "metadata": {},
     "source": [
      "Alternatively, mesh can be visualised by using the command **plot_mesh** which is also a part of **finmag.util.helpers** module, but unstable Matplotlib 1.3.X version must be installed. Alternatively, mesh can be visualised by dolfin's **plot** method in the following way."
     ]
    },
    {
     "cell_type": "code",
     "collapsed": false,
     "input": [
      "df.plot(mesh)"
     ],
     "language": "python",
     "metadata": {},
     "outputs": [
      {
       "output_type": "pyout",
       "prompt_number": 9,
       "text": [
        "<viper.viper_dolfin.Viper at 0x4bb4350>"
       ]
      }
     ],
     "prompt_number": 9
    },
    {
     "cell_type": "markdown",
     "metadata": {},
     "source": [
      "##Magnetisation saturation parameter\n",
      "\n",
      "The next parameter which should be defined, before the simulation object is created, is magnetisation saturation parameter $M_{s}$. For example $M_{s}$ with value $8\\cdot10^{5}$ A/m is defined with the following command:"
     ]
    },
    {
     "cell_type": "code",
     "collapsed": false,
     "input": [
      "Ms = 8e5"
     ],
     "language": "python",
     "metadata": {},
     "outputs": [],
     "prompt_number": 10
    },
    {
     "cell_type": "markdown",
     "metadata": {},
     "source": [
      "##Creation of simulation object\n",
      "\n",
      "After mesh and $M_{s}$ parameters are defined, **Simulation** class instance can be created. It requires two arguments:\n",
      "\n",
      "* mesh and\n",
      "* $M_{s}$\n",
      "\n",
      "**Simulation** class is imported from the finmag module as **Sim** and therefore its instance is created using the following command:"
     ]
    },
    {
     "cell_type": "code",
     "collapsed": false,
     "input": [
      "sim1 = Sim(mesh, Ms, name='skyrmion1')"
     ],
     "language": "python",
     "metadata": {},
     "outputs": [
      {
       "output_type": "stream",
       "stream": "stderr",
       "text": [
        "[2012-12-10 10:37:29] INFO: Finmag logging output will be appended to file: '/home/fangohr/hg/finmag/doc/ipython_notebooks_src/skyrmion1.log'\n"
       ]
      },
      {
       "output_type": "stream",
       "stream": "stderr",
       "text": [
        "[2012-12-10 10:37:29] DEBUG: Creating DataWriter for file 'skyrmion1.ndt'\n"
       ]
      },
      {
       "output_type": "stream",
       "stream": "stderr",
       "text": [
        "[2012-12-10 10:37:29] INFO: Creating Sim object 'skyrmion1' (rank=0/1) [Mon Dec 10 10:37:29 2012].\n"
       ]
      },
      {
       "output_type": "stream",
       "stream": "stderr",
       "text": [
        "[2012-12-10 10:37:29] INFO: <Mesh of topological dimension 3 (tetrahedra) with 5202 vertices and 15000 cells, ordered>\n"
       ]
      },
      {
       "output_type": "stream",
       "stream": "stderr",
       "text": [
        "[2012-12-10 10:37:29] DEBUG: Creating LLG object.\n"
       ]
      }
     ],
     "prompt_number": 11
    },
    {
     "cell_type": "markdown",
     "metadata": {},
     "source": [
      "The next thing which should be done is to set the initial state of magnetisation in the sample. The initial magnetisation state is defined by using the **set_m** method as a part of **Simulation** class. The required argument is a tuple of three components $(m_{x},m_{y},m_{z})$. The initial magnetisation state which points towards $+x$ direction is set in the following way:"
     ]
    },
    {
     "cell_type": "code",
     "collapsed": false,
     "input": [
      "sim1.set_m((1, 0, 0))"
     ],
     "language": "python",
     "metadata": {},
     "outputs": [],
     "prompt_number": 12
    },
    {
     "cell_type": "markdown",
     "metadata": {},
     "source": [
      "The current state of the magnetisation can be visualised by using the Paraview or Mayavi software. However, before the magnetisation configuratin can be visualised, **.pvd** file must be created. Method **snapshot** is a part of **Simulation** class and takes the name of the file as an argument. If no argument is specified, name of the file is chosen automatically. If the **.pvd** file already exists it would not be overwritten unless an additional **force_overwrite** argument is not set to True. "
     ]
    },
    {
     "cell_type": "code",
     "collapsed": false,
     "input": [
      "sim1.snapshot('initial_state.pvd', force_overwrite=True)"
     ],
     "language": "python",
     "metadata": {},
     "outputs": [
      {
       "output_type": "stream",
       "stream": "stderr",
       "text": [
        "[2012-12-10 10:37:29] WARNING: Removing file 'initial_state.pvd' and all associated .vtu files (because force_overwrite=True).\n"
       ]
      },
      {
       "output_type": "stream",
       "stream": "stderr",
       "text": [
        "[2012-12-10 10:37:29] INFO: Saved snapshot of magnetisation at t=0 to file 'initial_state.pvd' (saving took 0.0344 seconds).\n"
       ]
      }
     ],
     "prompt_number": 13
    },
    {
     "cell_type": "markdown",
     "metadata": {},
     "source": [
      "##Adding energy terms into the simulation\n",
      "\n",
      "After the simulation object is created, required energy terms for the skyrmion formation must be added into the simulation.\n",
      "Exchange energy term \n",
      "\\begin{equation} E_\\mathrm{ex} = A\\int_{\\Omega}(\\nabla \\vec{M})^{2} dV \\end{equation} \n",
      "which is uniquely characterised by exchange energy constant $A$ can be created by using already imported **Exchange** class, where exchange energy parameter is added as an argument. If \n",
      "\\begin{equation} A=1\\cdot10^{-11} \\mathrm{J/m}\\end{equation} \n",
      "exchange object is created in the following way:"
     ]
    },
    {
     "cell_type": "code",
     "collapsed": false,
     "input": [
      "A = 1e-11\n",
      "exchange = Exchange(A)"
     ],
     "language": "python",
     "metadata": {},
     "outputs": [
      {
       "output_type": "stream",
       "stream": "stderr",
       "text": [
        "[2012-12-10 10:37:29] DEBUG: Creating Exchange object with method box-matrix-petsc, in Jacobian.\n"
       ]
      }
     ],
     "prompt_number": 14
    },
    {
     "cell_type": "markdown",
     "metadata": {},
     "source": [
      "Similarly, DMI energy term \n",
      "\\begin{equation} \n",
      "E_{DMI}=D\\int_{\\Omega}\\vec{M}\\cdot(\\nabla\\times\\vec{M})dV\n",
      "\\end{equation}\n",
      "which is characterised by Dzyaloshinskii-Moriya energy parameter can be created by using the **DMI** method which taked the value of $D$ as an argument. According to equation: \n",
      "\\begin{equation}\n",
      "L_{D}=\\frac{4\\pi A}{|D|}\n",
      "\\end{equation}\n",
      "where $L_{D}$ is the characteristic length of spiral modulation, parameter $D$ can be estimated. For instance, in the case of MnSi, the $L_{D}$ parameter is $18$ nm and accordingly DMI energy parameter is: $$D = 6.98\\cdot10^{-3} J/m^{2}$$ "
     ]
    },
    {
     "cell_type": "code",
     "collapsed": false,
     "input": [
      "D = 6.98e-3\n",
      "dmi = DMI(D)"
     ],
     "language": "python",
     "metadata": {},
     "outputs": [
      {
       "output_type": "stream",
       "stream": "stderr",
       "text": [
        "[2012-12-10 10:37:29] DEBUG: Creating DMI object with method box-matrix-petsc, in Jacobian.\n"
       ]
      }
     ],
     "prompt_number": 15
    },
    {
     "cell_type": "markdown",
     "metadata": {},
     "source": [
      "The final energy term which must be included into the simulation is Zeeman energy: \n",
      "\\begin{equation}\n",
      "E_{H}=-\\mu_{0}\\int_{\\Omega}\\vec{M}\\cdot\\vec{H}dV\n",
      "\\end{equation}\n",
      "which requires the value of $\\vec{H}$ as a list of three external field components $[H_{x},H_{y},H_{z}]$. If the external field is applied only in z direction with $H_{z}=1.6\\cdot10^{6} A/m$, the zeeman object is created:"
     ]
    },
    {
     "cell_type": "code",
     "collapsed": false,
     "input": [
      "H = [0,0,1600000]\n",
      "zeeman = Zeeman(H)"
     ],
     "language": "python",
     "metadata": {},
     "outputs": [],
     "prompt_number": 16
    },
    {
     "cell_type": "markdown",
     "metadata": {},
     "source": [
      "After energy objects are created, they can be added into the simulator by using the **add** method:"
     ]
    },
    {
     "cell_type": "code",
     "collapsed": false,
     "input": [
      "sim1.add(exchange)\n",
      "sim1.add(dmi)\n",
      "sim1.add(zeeman)"
     ],
     "language": "python",
     "metadata": {},
     "outputs": [
      {
       "output_type": "stream",
       "stream": "stderr",
       "text": [
        "[2012-12-10 10:37:30] DEBUG: Adding interaction <finmag.energies.exchange.Exchange object at 0x4bc0550> to simulation 'skyrmion1'\n"
       ]
      },
      {
       "output_type": "stream",
       "stream": "stderr",
       "text": [
        "[2012-12-10 10:37:30] DEBUG: Adding interaction <finmag.energies.dmi.DMI object at 0x4bc0610> to simulation 'skyrmion1'\n"
       ]
      },
      {
       "output_type": "stream",
       "stream": "stderr",
       "text": [
        "[2012-12-10 10:37:31] DEBUG: Adding interaction <finmag.energies.zeeman.Zeeman object at 0x4bc0590> to simulation 'skyrmion1'\n"
       ]
      }
     ],
     "prompt_number": 17
    },
    {
     "cell_type": "code",
     "collapsed": false,
     "input": [
      "import finmag\n",
      "sim1b = finmag.sim_with(mesh, Ms, m_init=[1, 0, 0], A=A, D=D, demag_solver=None, H_ext=H)"
     ],
     "language": "python",
     "metadata": {},
     "outputs": [
      {
       "output_type": "stream",
       "stream": "stderr",
       "text": [
        "[2012-12-10 10:37:31] INFO: Finmag logging output will be appended to file: '/home/fangohr/hg/finmag/doc/ipython_notebooks_src/unnamed.log'\n"
       ]
      },
      {
       "output_type": "stream",
       "stream": "stderr",
       "text": [
        "[2012-12-10 10:37:31] DEBUG: Creating DataWriter for file 'unnamed.ndt'\n"
       ]
      },
      {
       "output_type": "stream",
       "stream": "stderr",
       "text": [
        "[2012-12-10 10:37:31] INFO: Creating Sim object 'unnamed' (rank=0/1) [Mon Dec 10 10:37:31 2012].\n"
       ]
      },
      {
       "output_type": "stream",
       "stream": "stderr",
       "text": [
        "[2012-12-10 10:37:31] INFO: <Mesh of topological dimension 3 (tetrahedra) with 5202 vertices and 15000 cells, ordered>\n"
       ]
      },
      {
       "output_type": "stream",
       "stream": "stderr",
       "text": [
        "[2012-12-10 10:37:31] DEBUG: Creating LLG object.\n"
       ]
      },
      {
       "output_type": "stream",
       "stream": "stderr",
       "text": [
        "[2012-12-10 10:37:31] DEBUG: Creating Exchange object with method box-matrix-petsc, in Jacobian.\n"
       ]
      },
      {
       "output_type": "stream",
       "stream": "stderr",
       "text": [
        "[2012-12-10 10:37:31] DEBUG: Adding interaction <finmag.energies.exchange.Exchange object at 0x5ad9590> to simulation 'unnamed'\n"
       ]
      },
      {
       "output_type": "stream",
       "stream": "stderr",
       "text": [
        "[2012-12-10 10:37:31] DEBUG: Adding interaction <finmag.energies.zeeman.Zeeman object at 0x5ae5e50> to simulation 'unnamed'\n"
       ]
      },
      {
       "output_type": "stream",
       "stream": "stderr",
       "text": [
        "[2012-12-10 10:37:31] DEBUG: Creating DMI object with method box-matrix-petsc, in Jacobian.\n"
       ]
      },
      {
       "output_type": "stream",
       "stream": "stderr",
       "text": [
        "[2012-12-10 10:37:31] DEBUG: Adding interaction <finmag.energies.dmi.DMI object at 0x5ae5510> to simulation 'unnamed'\n"
       ]
      }
     ],
     "prompt_number": 18
    },
    {
     "cell_type": "markdown",
     "metadata": {},
     "source": [
      "##Running the simulation and a skyrmion visualisation\n",
      "After the whole simulation object is created, simulation can be executed. The simulation is executed by using the **run_until** command. This command takes the final time of simulation $t_{final}$ as an argument. If the final simulation time is $0.3 ns$, time integration is executed by typing (This make take a few minutes to execute.):"
     ]
    },
    {
     "cell_type": "code",
     "collapsed": false,
     "input": [
      "sim1.run_until(0.3e-9)"
     ],
     "language": "python",
     "metadata": {},
     "outputs": [
      {
       "output_type": "stream",
       "stream": "stderr",
       "text": [
        "[2012-12-10 10:37:32] DEBUG: Creating LLGIntegrator with backend sundials.\n"
       ]
      }
     ],
     "prompt_number": 19
    },
    {
     "cell_type": "markdown",
     "metadata": {},
     "source": [
      "After the simulation is finished, the state of an object can be visualised by using the VTK visualisation software. The **.pvd** file is created by using the **snapshot** method in the following way:"
     ]
    },
    {
     "cell_type": "code",
     "collapsed": false,
     "input": [
      "sim1.snapshot('skyrmion_state.pvd', force_overwrite=True)"
     ],
     "language": "python",
     "metadata": {},
     "outputs": [
      {
       "output_type": "stream",
       "stream": "stderr",
       "text": [
        "[2012-12-10 10:39:12] WARNING: Removing file 'skyrmion_state.pvd' and all associated .vtu files (because force_overwrite=True).\n"
       ]
      },
      {
       "output_type": "stream",
       "stream": "stderr",
       "text": [
        "[2012-12-10 10:39:13] INFO: Saved snapshot of magnetisation at t=3e-10 to file 'skyrmion_state.pvd' (saving took 0.037 seconds).\n"
       ]
      }
     ],
     "prompt_number": 20
    },
    {
     "cell_type": "markdown",
     "metadata": {},
     "source": [
      "After showing the magnetisation state after the simulation, it can be seen that a single skyrmion is formed in the sample."
     ]
    },
    {
     "cell_type": "markdown",
     "metadata": {},
     "source": [
      "In the absence of tools like paraview or MayaVi (which can visualise the saved ``pvd`` files) we can get a rough presentation of the data with this command:"
     ]
    },
    {
     "cell_type": "code",
     "collapsed": false,
     "input": [
      "df.plot(sim1.llg._m)"
     ],
     "language": "python",
     "metadata": {},
     "outputs": [
      {
       "output_type": "pyout",
       "prompt_number": 21,
       "text": [
        "<viper.viper_dolfin.Viper at 0x5afb8d0>"
       ]
      }
     ],
     "prompt_number": 21
    },
    {
     "cell_type": "markdown",
     "metadata": {},
     "source": [
      "#Example 2: Helical state"
     ]
    },
    {
     "cell_type": "markdown",
     "metadata": {},
     "source": [
      "In the previous simulation, a single skyrmion was formed in the thin film sample with $A=1\\cdot10^{-11} \\mathrm{J/m}$, $D=6.98\\cdot10^{-3} \\mathrm{J/m^{2}}$ and with an applied external magnetic field perpendicular to thin film $H_{ex}=1.6\\cdot10^{6} \\mathrm{A/m}$. If an external field is now decreased, it is expected that the final state corresponds to helical magnetisation modulation.\n",
      "Subsequently, helical magnetisation state will be simulated."
     ]
    },
    {
     "cell_type": "markdown",
     "metadata": {},
     "source": [
      "Firtly, required modules are imported."
     ]
    },
    {
     "cell_type": "code",
     "collapsed": false,
     "input": [
      "import dolfin as df\n",
      "from finmag.energies import Exchange, DMI, Zeeman\n",
      "from finmag import Simulation as Sim"
     ],
     "language": "python",
     "metadata": {},
     "outputs": [],
     "prompt_number": 22
    },
    {
     "cell_type": "markdown",
     "metadata": {},
     "source": [
      "Now, thin film mesh is created using **Box**. The sample is the same as in the previous case with one corner of mesh at $(0,0,0)$ and the other at $(50nm,50nm,1nm)$ and the number of vertices along all the coordinates are $(50,50,1)$."
     ]
    },
    {
     "cell_type": "code",
     "collapsed": false,
     "input": [
      "thin_film_mesh = df.Box(0,0,0,50e-9,50e-9,1e-9,30,30,1)"
     ],
     "language": "python",
     "metadata": {},
     "outputs": [],
     "prompt_number": 23
    },
    {
     "cell_type": "markdown",
     "metadata": {},
     "source": [
      "Magnetisation saturation is the same as in the previous case $M_{s}=5\\cdot10^{5} A/m$."
     ]
    },
    {
     "cell_type": "code",
     "collapsed": false,
     "input": [
      "Ms = 8e5"
     ],
     "language": "python",
     "metadata": {},
     "outputs": [],
     "prompt_number": 24
    },
    {
     "cell_type": "markdown",
     "metadata": {},
     "source": [
      "Now, the simulation instance can be created."
     ]
    },
    {
     "cell_type": "code",
     "collapsed": false,
     "input": [
      "sim = Sim(thin_film_mesh, Ms, name='helical')"
     ],
     "language": "python",
     "metadata": {},
     "outputs": [
      {
       "output_type": "stream",
       "stream": "stderr",
       "text": [
        "[2012-12-10 10:39:14] INFO: Finmag logging output will be appended to file: '/home/fangohr/hg/finmag/doc/ipython_notebooks_src/helical.log'\n"
       ]
      },
      {
       "output_type": "stream",
       "stream": "stderr",
       "text": [
        "[2012-12-10 10:39:14] DEBUG: Creating DataWriter for file 'helical.ndt'\n"
       ]
      },
      {
       "output_type": "stream",
       "stream": "stderr",
       "text": [
        "[2012-12-10 10:39:14] INFO: Creating Sim object 'helical' (rank=0/1) [Mon Dec 10 10:39:14 2012].\n"
       ]
      },
      {
       "output_type": "stream",
       "stream": "stderr",
       "text": [
        "[2012-12-10 10:39:14] INFO: <Mesh of topological dimension 3 (tetrahedra) with 1922 vertices and 5400 cells, ordered>\n"
       ]
      },
      {
       "output_type": "stream",
       "stream": "stderr",
       "text": [
        "[2012-12-10 10:39:14] DEBUG: Creating LLG object.\n"
       ]
      }
     ],
     "prompt_number": 25
    },
    {
     "cell_type": "markdown",
     "metadata": {},
     "source": [
      "Initial magnetisation state should be specified with **set_m** method. In this case, it will be set parallel to $+z$ direction."
     ]
    },
    {
     "cell_type": "code",
     "collapsed": false,
     "input": [
      "sim.set_m((0,0,1))"
     ],
     "language": "python",
     "metadata": {},
     "outputs": [],
     "prompt_number": 26
    },
    {
     "cell_type": "markdown",
     "metadata": {},
     "source": [
      "At this stage, energy terms must be added. Exchange and DMI energy parameters are the same as in the previous skyrmion simulation and correspond to MnSi characteristic modulation length $L_{D}=18 nm$ ($A=1\\cdot10^{-11} J/m$, $D=6.98\\cdot10^{-3} J/m^{2}$)."
     ]
    },
    {
     "cell_type": "code",
     "collapsed": false,
     "input": [
      "sim.add(Exchange(1e-11))\n",
      "sim.add(DMI(6.98e-3))"
     ],
     "language": "python",
     "metadata": {},
     "outputs": [
      {
       "output_type": "stream",
       "stream": "stderr",
       "text": [
        "[2012-12-10 10:39:15] DEBUG: Creating Exchange object with method box-matrix-petsc, in Jacobian.\n"
       ]
      },
      {
       "output_type": "stream",
       "stream": "stderr",
       "text": [
        "[2012-12-10 10:39:15] DEBUG: Adding interaction <finmag.energies.exchange.Exchange object at 0x67ea950> to simulation 'helical'\n"
       ]
      },
      {
       "output_type": "stream",
       "stream": "stderr",
       "text": [
        "[2012-12-10 10:39:15] DEBUG: Creating DMI object with method box-matrix-petsc, in Jacobian.\n"
       ]
      },
      {
       "output_type": "stream",
       "stream": "stderr",
       "text": [
        "[2012-12-10 10:39:15] DEBUG: Adding interaction <finmag.energies.dmi.DMI object at 0x67ea990> to simulation 'helical'\n"
       ]
      }
     ],
     "prompt_number": 27
    },
    {
     "cell_type": "markdown",
     "metadata": {},
     "source": [
      "Zero external field should be specified as well. Since the helical state of magnetisation is required, it can be assumed that very small external field should be applied. If external field is applied perpendicular to the sample $H_{ex}=500 A/m$, Zeeman energy can be added into the simulation by typing:"
     ]
    },
    {
     "cell_type": "code",
     "collapsed": false,
     "input": [
      "sim.add(Zeeman([0,0,0]))"
     ],
     "language": "python",
     "metadata": {},
     "outputs": [
      {
       "output_type": "stream",
       "stream": "stderr",
       "text": [
        "[2012-12-10 10:39:15] DEBUG: Adding interaction <finmag.energies.zeeman.Zeeman object at 0x67ea890> to simulation 'helical'\n"
       ]
      }
     ],
     "prompt_number": 28
    },
    {
     "cell_type": "markdown",
     "metadata": {},
     "source": [
      "Now, the simulation is set and it can be executed with final simulation time $t_\\mathrm{final} = 0.3 \\mathrm{ns}$ (executation may take a few minutes):"
     ]
    },
    {
     "cell_type": "code",
     "collapsed": false,
     "input": [
      "tfinal = 0.3e-9\n",
      "sim.run_until(tfinal)"
     ],
     "language": "python",
     "metadata": {},
     "outputs": [
      {
       "output_type": "stream",
       "stream": "stderr",
       "text": [
        "[2012-12-10 10:39:16] DEBUG: Creating LLGIntegrator with backend sundials.\n"
       ]
      }
     ],
     "prompt_number": 29
    },
    {
     "cell_type": "markdown",
     "metadata": {},
     "source": [
      "The state of the magnetsiation can be saved into the **.pvd** file with the following command."
     ]
    },
    {
     "cell_type": "code",
     "collapsed": false,
     "input": [
      "sim.snapshot('helical_state.pvd', force_overwrite=True)"
     ],
     "language": "python",
     "metadata": {},
     "outputs": [
      {
       "output_type": "stream",
       "stream": "stderr",
       "text": [
        "[2012-12-10 10:39:50] WARNING: Removing file 'helical_state.pvd' and all associated .vtu files (because force_overwrite=True).\n"
       ]
      },
      {
       "output_type": "stream",
       "stream": "stderr",
       "text": [
        "[2012-12-10 10:39:50] INFO: Saved snapshot of magnetisation at t=3e-10 to file 'helical_state.pvd' (saving took 0.011 seconds).\n"
       ]
      }
     ],
     "prompt_number": 30
    },
    {
     "cell_type": "code",
     "collapsed": false,
     "input": [
      "df.plot(sim1.llg._m)"
     ],
     "language": "python",
     "metadata": {},
     "outputs": [
      {
       "output_type": "pyout",
       "prompt_number": 31,
       "text": [
        "<viper.viper_dolfin.Viper at 0x5afb8d0>"
       ]
      }
     ],
     "prompt_number": 31
    },
    {
     "cell_type": "markdown",
     "metadata": {},
     "source": [
      "#Example 3: Ferromagnetic state\n"
     ]
    },
    {
     "cell_type": "markdown",
     "metadata": {},
     "source": [
      "In this trivial case, if an external field is dramatically increased, ferromagnetic state is expected. Also, the complete simulation file required for simulating Dzyaloshinskii-Moriya energy induced modulations is presented."
     ]
    },
    {
     "cell_type": "code",
     "collapsed": false,
     "input": [
      "import dolfin as df\n",
      "from finmag.energies import Exchange, DMI, Zeeman\n",
      "from finmag import Simulation as Sim\n",
      "\n",
      "mesh = df.Box(0,0,0,50e-9,50e-9,1e-9,50,50,1)\n",
      "\n",
      "Ms = 8e5\n",
      "\n",
      "sim = Sim(mesh, Ms, name='ferromagnetic')\n",
      "\n",
      "sim.set_m((0,1,0))\n",
      "\n",
      "sim.add(Exchange(1e-11))\n",
      "sim.add(DMI(6.98e-3))\n",
      "sim.add(Zeeman([0,0,1e8]))\n",
      "\n",
      "t_final=0.3e-9\n",
      "\n",
      "sim.run_until(t_final)\n",
      "\n",
      "sim.snapshot('ferromagnetic_state.pvd', force_overwrite=True)"
     ],
     "language": "python",
     "metadata": {},
     "outputs": [
      {
       "output_type": "stream",
       "stream": "stderr",
       "text": [
        "[2012-12-10 10:39:50] INFO: Finmag logging output will be appended to file: '/home/fangohr/hg/finmag/doc/ipython_notebooks_src/ferromagnetic.log'\n"
       ]
      },
      {
       "output_type": "stream",
       "stream": "stderr",
       "text": [
        "[2012-12-10 10:39:50] DEBUG: Creating DataWriter for file 'ferromagnetic.ndt'\n"
       ]
      },
      {
       "output_type": "stream",
       "stream": "stderr",
       "text": [
        "[2012-12-10 10:39:50] INFO: Creating Sim object 'ferromagnetic' (rank=0/1) [Mon Dec 10 10:39:50 2012].\n"
       ]
      },
      {
       "output_type": "stream",
       "stream": "stderr",
       "text": [
        "[2012-12-10 10:39:50] INFO: <Mesh of topological dimension 3 (tetrahedra) with 5202 vertices and 15000 cells, ordered>\n"
       ]
      },
      {
       "output_type": "stream",
       "stream": "stderr",
       "text": [
        "[2012-12-10 10:39:50] DEBUG: Creating LLG object.\n"
       ]
      },
      {
       "output_type": "stream",
       "stream": "stderr",
       "text": [
        "[2012-12-10 10:39:50] DEBUG: Creating Exchange object with method box-matrix-petsc, in Jacobian.\n"
       ]
      },
      {
       "output_type": "stream",
       "stream": "stderr",
       "text": [
        "[2012-12-10 10:39:50] DEBUG: Adding interaction <finmag.energies.exchange.Exchange object at 0x6804c10> to simulation 'ferromagnetic'\n"
       ]
      },
      {
       "output_type": "stream",
       "stream": "stderr",
       "text": [
        "[2012-12-10 10:39:51] DEBUG: Creating DMI object with method box-matrix-petsc, in Jacobian.\n"
       ]
      },
      {
       "output_type": "stream",
       "stream": "stderr",
       "text": [
        "[2012-12-10 10:39:51] DEBUG: Adding interaction <finmag.energies.dmi.DMI object at 0x5af0950> to simulation 'ferromagnetic'\n"
       ]
      },
      {
       "output_type": "stream",
       "stream": "stderr",
       "text": [
        "[2012-12-10 10:39:51] DEBUG: Adding interaction <finmag.energies.zeeman.Zeeman object at 0x5af0690> to simulation 'ferromagnetic'\n"
       ]
      },
      {
       "output_type": "stream",
       "stream": "stderr",
       "text": [
        "[2012-12-10 10:39:51] DEBUG: Creating LLGIntegrator with backend sundials.\n"
       ]
      },
      {
       "output_type": "stream",
       "stream": "stderr",
       "text": [
        "[2012-12-10 10:40:02] WARNING: Removing file 'ferromagnetic_state.pvd' and all associated .vtu files (because force_overwrite=True).\n"
       ]
      },
      {
       "output_type": "stream",
       "stream": "stderr",
       "text": [
        "[2012-12-10 10:40:02] INFO: Saved snapshot of magnetisation at t=3e-10 to file 'ferromagnetic_state.pvd' (saving took 0.035 seconds).\n"
       ]
      }
     ],
     "prompt_number": 32
    },
    {
     "cell_type": "code",
     "collapsed": false,
     "input": [
      "df.plot(sim.llg._m,)"
     ],
     "language": "python",
     "metadata": {},
     "outputs": [
      {
       "output_type": "pyout",
       "prompt_number": 33,
       "text": [
        "<viper.viper_dolfin.Viper at 0x67f8b10>"
       ]
      }
     ],
     "prompt_number": 33
    },
    {
     "cell_type": "markdown",
     "metadata": {},
     "source": [
      "It can be seen that ferromagnetic state is obtained."
     ]
    }
   ],
   "metadata": {}
  }
 ]
}