{
 "cells": [
  {
   "cell_type": "markdown",
   "metadata": {},
   "source": [
    "## About logging"
   ]
  },
  {
   "cell_type": "markdown",
   "metadata": {},
   "source": [
    "For a given simulation, such as ``demosim.py`` (which we create here for simplicity)"
   ]
  },
  {
   "cell_type": "code",
   "execution_count": 2,
   "metadata": {
    "collapsed": false
   },
   "outputs": [
    {
     "name": "stdout",
     "output_type": "stream",
     "text": [
      "Writing demosim.py\n"
     ]
    }
   ],
   "source": [
    "%%file demosim.py\n",
    "import finmag\n",
    "sim = finmag.example.barmini()"
   ]
  },
  {
   "cell_type": "markdown",
   "metadata": {},
   "source": [
    "We expect different kinds of logging output when this simulation starts (the ``--colour=none`` supresses coloured output and is not important here):"
   ]
  },
  {
   "cell_type": "code",
   "execution_count": 4,
   "metadata": {
    "collapsed": false
   },
   "outputs": [
    {
     "name": "stdout",
     "output_type": "stream",
     "text": [
      "[2014-12-22 13:58:12] INFO: Finmag logging output will be appended to file: '/home/fangohr/.finmag/global.log'\n",
      "[2014-12-22 13:58:12] DEBUG: Building modules in 'native'...\n",
      "[2014-12-22 13:58:12] DEBUG: FinMag          5673:b147a6571a121bf17f3bbbf4dd3e40013cc8dd59\n",
      "[2014-12-22 13:58:12] DEBUG: Dolfin          1.4.0                Matplotlib      lazily loaded       \n",
      "[2014-12-22 13:58:12] DEBUG: Numpy           1.8.2                Scipy           0.13.3              \n",
      "[2014-12-22 13:58:12] DEBUG: IPython         2.1.0                Python          2.7.6               \n",
      "[2014-12-22 13:58:13] DEBUG: Paraview        4.0.1-1ubuntu1       Sundials        2.5.0               \n",
      "[2014-12-22 13:58:13] DEBUG: Boost-Python    <unknown>            Linux           Ubuntu 14.04.1 LTS  \n",
      "[2014-12-22 13:58:13] DEBUG: Registering debug signal handler. Press Ctrl-Z at any time to stop execution and jump into the debugger.\n",
      "[2014-12-22 13:58:13] INFO: Finmag logging output will be written to file: '/home/fangohr/hg/finmag/doc/ipython_notebooks_src/barmini.log' (any old content will be overwritten).\n",
      "[2014-12-22 13:58:13] DEBUG: Creating DataWriter for file 'barmini.ndt'\n",
      "[2014-12-22 13:58:13] INFO: Creating Sim object 'barmini' (rank=0/1).\n",
      "[2014-12-22 13:58:13] INFO: <Mesh of topological dimension 3 (tetrahedra) with 45 vertices and 96 cells, ordered>\n",
      "[2014-12-22 13:58:13] DEBUG: Creating LLG object.\n",
      "[2014-12-22 13:58:13] DEBUG: Creating Exchange object with method box-matrix-petsc,  in Jacobian.\n",
      "[2014-12-22 13:58:13] DEBUG: Adding interaction Exchange to simulation.\n",
      "[2014-12-22 13:58:13] DEBUG: Creating Demag object with solver 'FK'.\n",
      "[2014-12-22 13:58:13] DEBUG: Demag parameters now: {'phi_1': {'absolute_tolerance': 1e-06, 'relative_tolerance': 1e-06, 'maximum_iterations': 10000}, 'phi_2': {'absolute_tolerance': 1e-06, 'relative_tolerance': 1e-06, 'maximum_iterations': 10000}, 'phi_2_solver': 'default', 'phi_2_preconditioner': 'default', 'phi_1_preconditioner': 'default', 'phi_1_solver': 'default'}\n",
      "[2014-12-22 13:58:13] DEBUG: Adding interaction Demag to simulation.\n",
      "[2014-12-22 13:58:13] DEBUG: Using Krylov solver for demag.\n",
      "[2014-12-22 13:58:13] DEBUG: Creating macro-geometry with demag 1 x 1 tiles (dxdy: 3.0 x 3.0)\n",
      "[2014-12-22 13:58:13] DEBUG: Boundary element matrix uses 0.01 MB of memory.\n",
      "[2014-12-22 13:58:13] DEBUG: Successfully created simulation 'barmini'\n"
     ]
    }
   ],
   "source": [
    "!python demosim.py --colour=none"
   ]
  },
  {
   "cell_type": "markdown",
   "metadata": {},
   "source": [
    "We note that there are log messages of different *levels*, such as ``DEBUG`` and ``INFO``. There are also other levels, such as ``WARN`` and ``ERROR``. These are in increasing order of importance. A minimum importance level can be set, to filter out the less important messages."
   ]
  },
  {
   "cell_type": "markdown",
   "metadata": {},
   "source": [
    "### Changing the logging level when running a simulation"
   ]
  },
  {
   "cell_type": "markdown",
   "metadata": {},
   "source": [
    "To reduce the level of messages to only show those of importance of ``INFO`` or higher, we can use the ``-v info`` switch:"
   ]
  },
  {
   "cell_type": "code",
   "execution_count": 5,
   "metadata": {
    "collapsed": false
   },
   "outputs": [
    {
     "name": "stdout",
     "output_type": "stream",
     "text": [
      "[2014-12-22 13:58:19] INFO: Finmag logging output will be appended to file: '/home/fangohr/.finmag/global.log'\n",
      "[2014-12-22 13:58:19] INFO: Finmag logging output will be written to file: '/home/fangohr/hg/finmag/doc/ipython_notebooks_src/barmini.log' (any old content will be overwritten).\n",
      "[2014-12-22 13:58:19] INFO: Creating Sim object 'barmini' (rank=0/1).\n",
      "[2014-12-22 13:58:19] INFO: <Mesh of topological dimension 3 (tetrahedra) with 45 vertices and 96 cells, ordered>\n"
     ]
    }
   ],
   "source": [
    "!python demosim.py --verbosity=info --colour=none"
   ]
  },
  {
   "cell_type": "markdown",
   "metadata": {},
   "source": [
    "### Changing the logging default level"
   ]
  },
  {
   "cell_type": "markdown",
   "metadata": {},
   "source": [
    "If you find that you want to change the loglevel by default to info, say, you can do so by editing the file ``~/.finmagrc`` and adding a line to the logging section:"
   ]
  },
  {
   "cell_type": "markdown",
   "metadata": {},
   "source": [
    "``[logging]``\n",
    "\n",
    "``console_logging_level=info``"
   ]
  },
  {
   "cell_type": "markdown",
   "metadata": {},
   "source": [
    "### Changing the loglevel from inside simulation script"
   ]
  },
  {
   "cell_type": "markdown",
   "metadata": {},
   "source": [
    "The simplest way to change the logging level from inside a script is as follows.\n",
    "\n",
    "(Note that due to a minor bug the output below still contains some message on the DEBUG level. However, this only happens during the initial import of Finmag. All subsequent output will be restricted to the INFO level.)"
   ]
  },
  {
   "cell_type": "code",
   "execution_count": 6,
   "metadata": {
    "collapsed": false
   },
   "outputs": [
    {
     "name": "stderr",
     "output_type": "stream",
     "text": [
      "[2014-12-22 13:58:26] INFO: Finmag logging output will be appended to file: '/home/fangohr/.finmag/global.log'\n",
      "[2014-12-22 13:58:26] DEBUG: Building modules in 'native'...\n",
      "[2014-12-22 13:58:27] DEBUG: FinMag          5673:b147a6571a121bf17f3bbbf4dd3e40013cc8dd59\n",
      "[2014-12-22 13:58:27] DEBUG: Dolfin          1.4.0                Matplotlib      lazily loaded       \n",
      "[2014-12-22 13:58:27] DEBUG: Numpy           1.8.2                Scipy           0.13.3              \n",
      "[2014-12-22 13:58:27] DEBUG: IPython         2.1.0                Python          2.7.6               \n",
      "[2014-12-22 13:58:27] DEBUG: Paraview        4.0.1-1ubuntu1       Sundials        2.5.0               \n",
      "[2014-12-22 13:58:27] DEBUG: Boost-Python    <unknown>            Linux           Ubuntu 14.04.1 LTS  \n",
      "[2014-12-22 13:58:27] DEBUG: Registering debug signal handler. Press Ctrl-Z at any time to stop execution and jump into the debugger.\n"
     ]
    }
   ],
   "source": [
    "from finmag import set_logging_level\n",
    "set_logging_level(\"INFO\")"
   ]
  },
  {
   "cell_type": "markdown",
   "metadata": {},
   "source": [
    "### \"Under the hood\""
   ]
  },
  {
   "cell_type": "markdown",
   "metadata": {},
   "source": [
    "Here we describe the more low-level approach of changing the logging level, which is also how the logging level is set internally in Finmag. This option gives greatest flexibility because it allows to emit one's own logging messages for the desired level, but it also requires more low-level Python commands. "
   ]
  },
  {
   "cell_type": "markdown",
   "metadata": {},
   "source": [
    "First, we need to get access to the logger object. This can be done from within any Python program - the link is created through the name ``finmag`` of the logger:"
   ]
  },
  {
   "cell_type": "code",
   "execution_count": 7,
   "metadata": {
    "collapsed": false
   },
   "outputs": [],
   "source": [
    "import logging\n",
    "import finmag\n",
    "logger = logging.getLogger('finmag')"
   ]
  },
  {
   "cell_type": "markdown",
   "metadata": {},
   "source": [
    "Once we have the logger object, we can (i) change the filter level, and (ii) add our own messages to the logging. We combine the two actions in a little demo:"
   ]
  },
  {
   "cell_type": "code",
   "execution_count": 8,
   "metadata": {
    "collapsed": false
   },
   "outputs": [
    {
     "name": "stderr",
     "output_type": "stream",
     "text": [
      "[2014-12-22 13:58:31] DEBUG: This is debug message\n",
      "[2014-12-22 13:58:31] INFO: This is of level info\n",
      "[2014-12-22 13:58:31] WARNING: This is a Warning!\n",
      "[2014-12-22 13:58:31] INFO: About to change loglevel to INFO\n",
      "[2014-12-22 13:58:31] INFO: Another info message\n",
      "[2014-12-22 13:58:31] WARNING: Another warning\n",
      "[2014-12-22 13:58:31] INFO: Changing loglevel to WARN\n",
      "[2014-12-22 13:58:31] WARNING: Another warning message\n"
     ]
    }
   ],
   "source": [
    "logger.setLevel(logging.DEBUG)\n",
    "logger.debug(\"This is debug message\")\n",
    "logger.info(\"This is of level info\")\n",
    "logger.warn(\"This is a Warning!\")\n",
    "logger.info(\"About to change loglevel to INFO\")\n",
    "logger.setLevel(logging.INFO)\n",
    "logger.debug(\"This is a debug message that should not be shown\")\n",
    "logger.info(\"Another info message\")\n",
    "logger.warn(\"Another warning\")\n",
    "logger.info(\"Changing loglevel to WARN\")\n",
    "logger.setLevel(logging.WARN)\n",
    "logger.debug(\"A debug message -- not coming through because of WARN > DEBUG\")\n",
    "logger.info(\"An info message -- not coming through because of WARN > INFO\")\n",
    "logger.warn(\"Another warning message\")"
   ]
  },
  {
   "cell_type": "code",
   "execution_count": null,
   "metadata": {
    "collapsed": false
   },
   "outputs": [],
   "source": []
  }
 ],
 "metadata": {
  "kernelspec": {
   "display_name": "Python 2",
   "language": "python",
   "name": "python2"
  },
  "language_info": {
   "codemirror_mode": {
    "name": "ipython",
    "version": 2
   },
   "file_extension": ".py",
   "mimetype": "text/x-python",
   "name": "python",
   "nbconvert_exporter": "python",
   "pygments_lexer": "ipython2",
   "version": "2.7.6"
  }
 },
 "nbformat": 4,
 "nbformat_minor": 0
}
