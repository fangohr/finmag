{
 "metadata": {
  "name": "tutorial-use-of-logging"
 },
 "nbformat": 3,
 "nbformat_minor": 0,
 "worksheets": [
  {
   "cells": [
    {
     "cell_type": "markdown",
     "metadata": {},
     "source": [
      "## About logging"
     ]
    },
    {
     "cell_type": "markdown",
     "metadata": {},
     "source": [
      "For a given simulation, such as ``demosim.py`` (which we create here for simplicity)"
     ]
    },
    {
     "cell_type": "code",
     "collapsed": false,
     "input": [
      "s = \"\"\"import finmag\n",
      "sim = finmag.example.barmini()\n",
      "\"\"\"\n",
      "open(\"demosim.py\",\"w\").write(s)"
     ],
     "language": "python",
     "metadata": {},
     "outputs": [],
     "prompt_number": 1
    },
    {
     "cell_type": "markdown",
     "metadata": {},
     "source": [
      "We expect different kinds of logging output when this simulation starts (the ``--logcol=none`` supresses coloured output and is not important here):"
     ]
    },
    {
     "cell_type": "code",
     "collapsed": false,
     "input": [
      "!python demosim.py --logcol=none "
     ],
     "language": "python",
     "metadata": {},
     "outputs": [
      {
       "output_type": "stream",
       "stream": "stdout",
       "text": [
        "[21:01:42] DEBUG: Building modules in 'native'...\r\n"
       ]
      },
      {
       "output_type": "stream",
       "stream": "stdout",
       "text": [
        "[21:01:44] DEBUG: This is Finmag version 2293:91a77ee7901b8eb0b8c0f94b7b1938645eabceac\r\n",
        "[21:01:44] INFO: Creating Sim object 'barmini'' (rank=0/1) [Sun Dec  2 21:01:44 2012].\r\n",
        "[21:01:44] INFO: <Mesh of topological dimension 3 (tetrahedra) with 45 vertices and 96 cells, ordered>\r\n",
        "[21:01:44] DEBUG: Creating LLG object.\r\n",
        "[21:01:44] DEBUG: Creating Exchange object with method box-matrix-petsc, in Jacobian.\r\n"
       ]
      },
      {
       "output_type": "stream",
       "stream": "stdout",
       "text": [
        "[21:01:44] DEBUG: Creating Demag object with FK solver.\r\n"
       ]
      },
      {
       "output_type": "stream",
       "stream": "stdout",
       "text": [
        "[21:01:44] DEBUG: Demag: Poisson solver parameters.\r\n",
        "    {'maximum_iterations': 10000, 'divergence_limit': 10000.0, 'relative_tolerance': 1e-06, 'gmres':\r\n",
        "    {'restart': 30}, 'preconditioner': {'shift_nonzero': 0.0, 'reuse': False,\r\n",
        "    'same_nonzero_pattern': False, 'ilu': {'fill_level': 0}, 'schwarz': {'overlap': 1}, 'report':\r\n",
        "    False}, 'error_on_nonconvergence': True, 'monitor_convergence': False, 'nonzero_initial_guess':\r\n",
        "    False, 'report': True, 'absolute_tolerance': 1e-15}\r\n",
        "[21:01:44] DEBUG: Demag: Laplace solver parameters.\r\n",
        "    {'maximum_iterations': 10000, 'divergence_limit': 10000.0, 'relative_tolerance': 1e-06, 'gmres':\r\n",
        "    {'restart': 30}, 'preconditioner': {'shift_nonzero': 0.0, 'reuse': False,\r\n",
        "    'same_nonzero_pattern': True, 'ilu': {'fill_level': 0}, 'schwarz': {'overlap': 1}, 'report':\r\n",
        "    False}, 'error_on_nonconvergence': True, 'monitor_convergence': False, 'nonzero_initial_guess':\r\n",
        "    False, 'report': True, 'absolute_tolerance': 1e-15}\r\n"
       ]
      }
     ],
     "prompt_number": 14
    },
    {
     "cell_type": "markdown",
     "metadata": {},
     "source": [
      "We note that there are log messages of different *levels*, such as ``DEBUG`` and ``INFO``. There are also other levels, such as ``WARN`` and ``ERROR``. These are in increasing order of importance. A minimum importance level can be set, to filter out the less important messages."
     ]
    },
    {
     "cell_type": "markdown",
     "metadata": {},
     "source": [
      "### Changing the logging level when running a simulation"
     ]
    },
    {
     "cell_type": "markdown",
     "metadata": {},
     "source": [
      "To reduce the level of messages to only show those of importance of ``INFO`` or higher, we can use the ``-v info`` switch:"
     ]
    },
    {
     "cell_type": "code",
     "collapsed": false,
     "input": [
      "!python demosim.py --verbosity=info --logcol=none"
     ],
     "language": "python",
     "metadata": {},
     "outputs": [
      {
       "output_type": "stream",
       "stream": "stdout",
       "text": [
        "[21:02:28] INFO: Creating Sim object 'barmini'' (rank=0/1) [Sun Dec  2 21:02:28 2012].\r\n",
        "[21:02:28] INFO: <Mesh of topological dimension 3 (tetrahedra) with 45 vertices and 96 cells, ordered>\r\n"
       ]
      }
     ],
     "prompt_number": 15
    },
    {
     "cell_type": "markdown",
     "metadata": {},
     "source": [
      "### Changing the logging default level"
     ]
    },
    {
     "cell_type": "markdown",
     "metadata": {},
     "source": [
      "If you find that you want to change the loglevel by default to info, say, you can do so by editing the file ``~/.finmagrc`` and adding a line to the logging section, i.e.\n",
      "\n",
      "``[logging]``\n",
      "\n",
      "``console_logging_level=info``"
     ]
    },
    {
     "cell_type": "markdown",
     "metadata": {},
     "source": [
      "### Changing the loglevel from inside simulation script"
     ]
    },
    {
     "cell_type": "markdown",
     "metadata": {},
     "source": [
      "This option gives greatest flexibility but also requires more low level Python commands. First, we need to get access to the logger object. This can be done from within any Python program - the link is created through the name ``finmag`` of the logger:"
     ]
    },
    {
     "cell_type": "code",
     "collapsed": false,
     "input": [
      "import logging\n",
      "import finmag\n",
      "logger = logging.getLogger('finmag')"
     ],
     "language": "python",
     "metadata": {},
     "outputs": [
      {
       "output_type": "stream",
       "stream": "stderr",
       "text": [
        "[19:43:51] DEBUG: Building modules in 'native'...\n"
       ]
      },
      {
       "output_type": "stream",
       "stream": "stderr",
       "text": [
        "[19:43:52] DEBUG: This is Finmag version 2292:aa3c48018491c35bb2b7dabcd6fae62d5146773a\n"
       ]
      }
     ],
     "prompt_number": 4
    },
    {
     "cell_type": "markdown",
     "metadata": {},
     "source": [
      "Once we have the logger object, we can (i) change the filter level, and (ii) add our own messages to the logging. We combine the two actions in a little demo:"
     ]
    },
    {
     "cell_type": "code",
     "collapsed": false,
     "input": [
      "logger.setLevel(logging.DEBUG)\n",
      "logger.debug(\"This is debug message\")\n",
      "logger.info(\"This is of level info\")\n",
      "logger.warn(\"This is a Warning!\")\n",
      "logger.info(\"About to change loglevel to INFO\")\n",
      "logger.setLevel(logging.INFO)\n",
      "logger.debug(\"This is a debug message that should not be shown\")\n",
      "logger.info(\"Another info message\")\n",
      "logger.warn(\"Another warning\")\n",
      "logger.info(\"Changing loglevel to WARN\")\n",
      "logger.setLevel(logging.WARN)\n",
      "logger.debug(\"A debug message -- not coming through because of WARN > DEBUG\")\n",
      "logger.info(\"An info message -- not coming through because of WARN > INFO\")\n",
      "logger.warn(\"Another warning message\")"
     ],
     "language": "python",
     "metadata": {},
     "outputs": [
      {
       "output_type": "stream",
       "stream": "stderr",
       "text": [
        "[19:45:58] DEBUG: This is debug message\n"
       ]
      },
      {
       "output_type": "stream",
       "stream": "stderr",
       "text": [
        "[19:45:58] INFO: This is of level info\n"
       ]
      },
      {
       "output_type": "stream",
       "stream": "stderr",
       "text": [
        "[19:45:58] WARNING: This is a Warning!\n"
       ]
      },
      {
       "output_type": "stream",
       "stream": "stderr",
       "text": [
        "[19:45:58] INFO: About to change loglevel to INFO\n"
       ]
      },
      {
       "output_type": "stream",
       "stream": "stderr",
       "text": [
        "[19:45:58] INFO: Another info message\n"
       ]
      },
      {
       "output_type": "stream",
       "stream": "stderr",
       "text": [
        "[19:45:58] WARNING: Another warning\n"
       ]
      },
      {
       "output_type": "stream",
       "stream": "stderr",
       "text": [
        "[19:45:58] INFO: Changing loglevel to WARN\n"
       ]
      },
      {
       "output_type": "stream",
       "stream": "stderr",
       "text": [
        "[19:45:58] WARNING: Another warning message\n"
       ]
      }
     ],
     "prompt_number": 11
    }
   ],
   "metadata": {}
  }
 ]
}