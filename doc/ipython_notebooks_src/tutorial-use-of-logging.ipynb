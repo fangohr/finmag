{
 "metadata": {
  "name": ""
 },
 "nbformat": 3,
 "nbformat_minor": 0,
 "worksheets": [
  {
   "cells": [
    {
     "cell_type": "markdown",
     "metadata": {},
     "source": [
      "## About logging"
     ]
    },
    {
     "cell_type": "markdown",
     "metadata": {},
     "source": [
      "For a given simulation, such as ``demosim.py`` (which we create here for simplicity)"
     ]
    },
    {
     "cell_type": "code",
     "collapsed": false,
     "input": [
      "s = \"\"\"\\\n",
      "import finmag\n",
      "sim = finmag.example.barmini()\n",
      "\"\"\"\n",
      "with open(\"demosim.py\", \"w\") as f:\n",
      "    f.write(s)"
     ],
     "language": "python",
     "metadata": {},
     "outputs": [],
     "prompt_number": 1
    },
    {
     "cell_type": "markdown",
     "metadata": {},
     "source": [
      "We expect different kinds of logging output when this simulation starts (the ``--colour=none`` supresses coloured output and is not important here):"
     ]
    },
    {
     "cell_type": "code",
     "collapsed": false,
     "input": [
      "!python demosim.py --colour=none"
     ],
     "language": "python",
     "metadata": {},
     "outputs": [
      {
       "output_type": "stream",
       "stream": "stdout",
       "text": [
        "[2013-12-04 14:29:22] INFO: Finmag logging output will be appended to file: '/home/albert/.finmag/global.log'\r\n",
        "[2013-12-04 14:29:22] DEBUG: Building modules in 'native'...\r\n"
       ]
      },
      {
       "output_type": "stream",
       "stream": "stdout",
       "text": [
        "[2013-12-04 14:29:23] DEBUG:               Finmag: 4130:d51b1a202d4bfc61684a866f3b0da6b3d2cf52b4\r\n",
        "[2013-12-04 14:29:23] DEBUG:               Dolfin: 1.2.0+\r\n",
        "[2013-12-04 14:29:23] DEBUG:           Matplotlib: 1.3.1\r\n",
        "[2013-12-04 14:29:23] DEBUG:                Numpy: 1.8.0\r\n",
        "[2013-12-04 14:29:23] DEBUG:                Scipy: 0.11.0\r\n",
        "[2013-12-04 14:29:23] DEBUG:              IPython: 1.1.0\r\n",
        "[2013-12-04 14:29:23] DEBUG:               Python: 2.7.3\r\n"
       ]
      },
      {
       "output_type": "stream",
       "stream": "stdout",
       "text": [
        "[2013-12-04 14:29:23] DEBUG:             Paraview: 3.98~rc3-precise1\r\n"
       ]
      },
      {
       "output_type": "stream",
       "stream": "stdout",
       "text": [
        "[2013-12-04 14:29:23] DEBUG:             Sundials: 2.4.0-5\r\n",
        "[2013-12-04 14:29:23] DEBUG:         Boost-Python: 1.46.1\r\n",
        "[2013-12-04 14:29:23] DEBUG:                Linux: Ubuntu 12.04.3 LTS\r\n",
        "[2013-12-04 14:29:23] INFO: Finmag logging output will be written to file: '/home/albert/work/code/finmag/doc/ipython_notebooks_src/barmini.log' (any old content will be overwritten).\r\n",
        "[2013-12-04 14:29:23] DEBUG: Creating DataWriter for file 'barmini.ndt'\r\n",
        "[2013-12-04 14:29:23] INFO: Creating Sim object 'barmini' (rank=0/1).\r\n",
        "[2013-12-04 14:29:23] INFO: <Mesh of topological dimension 3 (tetrahedra) with 45 vertices and 96 cells, ordered>\r\n",
        "[2013-12-04 14:29:23] DEBUG: Creating LLG object.\r\n"
       ]
      },
      {
       "output_type": "stream",
       "stream": "stdout",
       "text": [
        "[2013-12-04 14:29:23] DEBUG: Creating Exchange object with method box-matrix-petsc, in Jacobian.\r\n",
        "[2013-12-04 14:29:23] DEBUG: Adding interaction <finmag.energies.exchange.Exchange object at 0x5585c90> to simulation 'barmini'\r\n",
        "[2013-12-04 14:29:23] DEBUG: Creating Demag object with solver 'FK'.\r\n",
        "[2013-12-04 14:29:23] DEBUG: Adding interaction <finmag.energies.demag.fk_demag.FKDemag object at 0x5578110> to simulation 'barmini'\r\n"
       ]
      },
      {
       "output_type": "stream",
       "stream": "stdout",
       "text": [
        "[2013-12-04 14:29:23] DEBUG: Successfully created simulation 'barmini'\r\n"
       ]
      }
     ],
     "prompt_number": 2
    },
    {
     "cell_type": "markdown",
     "metadata": {},
     "source": [
      "We note that there are log messages of different *levels*, such as ``DEBUG`` and ``INFO``. There are also other levels, such as ``WARN`` and ``ERROR``. These are in increasing order of importance. A minimum importance level can be set, to filter out the less important messages."
     ]
    },
    {
     "cell_type": "markdown",
     "metadata": {},
     "source": [
      "### Changing the logging level when running a simulation"
     ]
    },
    {
     "cell_type": "markdown",
     "metadata": {},
     "source": [
      "To reduce the level of messages to only show those of importance of ``INFO`` or higher, we can use the ``-v info`` switch:"
     ]
    },
    {
     "cell_type": "code",
     "collapsed": false,
     "input": [
      "!python demosim.py --verbosity=info --colour=none"
     ],
     "language": "python",
     "metadata": {},
     "outputs": [
      {
       "output_type": "stream",
       "stream": "stdout",
       "text": [
        "[2013-12-04 14:29:45] INFO: Finmag logging output will be appended to file: '/home/albert/.finmag/global.log'\r\n"
       ]
      },
      {
       "output_type": "stream",
       "stream": "stdout",
       "text": [
        "[2013-12-04 14:29:46] INFO: Finmag logging output will be written to file: '/home/albert/work/code/finmag/doc/ipython_notebooks_src/barmini.log' (any old content will be overwritten).\r\n",
        "[2013-12-04 14:29:46] INFO: Creating Sim object 'barmini' (rank=0/1).\r\n",
        "[2013-12-04 14:29:46] INFO: <Mesh of topological dimension 3 (tetrahedra) with 45 vertices and 96 cells, ordered>\r\n"
       ]
      }
     ],
     "prompt_number": 3
    },
    {
     "cell_type": "markdown",
     "metadata": {},
     "source": [
      "### Changing the logging default level"
     ]
    },
    {
     "cell_type": "markdown",
     "metadata": {},
     "source": [
      "If you find that you want to change the loglevel by default to info, say, you can do so by editing the file ``~/.finmagrc`` and adding a line to the logging section:"
     ]
    },
    {
     "cell_type": "markdown",
     "metadata": {},
     "source": [
      "``[logging]``\n",
      "\n",
      "``console_logging_level=info``"
     ]
    },
    {
     "cell_type": "markdown",
     "metadata": {},
     "source": [
      "### Changing the loglevel from inside simulation script"
     ]
    },
    {
     "cell_type": "markdown",
     "metadata": {},
     "source": [
      "The simplest way to change the logging level from inside a script is as follows.\n",
      "\n",
      "(Note that due to a minor bug the output below still contains some message on the DEBUG level. However, this only happens during the initial import of Finmag. All subsequent output will be restricted to the INFO level.)"
     ]
    },
    {
     "cell_type": "code",
     "collapsed": false,
     "input": [
      "from finmag import set_logging_level\n",
      "set_logging_level(\"INFO\")"
     ],
     "language": "python",
     "metadata": {},
     "outputs": [
      {
       "output_type": "stream",
       "stream": "stderr",
       "text": [
        "[2013-12-04 14:30:33] INFO: Finmag logging output will be appended to file: '/home/albert/.finmag/global.log'\n"
       ]
      },
      {
       "output_type": "stream",
       "stream": "stderr",
       "text": [
        "[2013-12-04 14:30:33] DEBUG: Building modules in 'native'...\n"
       ]
      },
      {
       "output_type": "stream",
       "stream": "stderr",
       "text": [
        "[2013-12-04 14:30:35] DEBUG:               Finmag: 4130:d51b1a202d4bfc61684a866f3b0da6b3d2cf52b4\n"
       ]
      },
      {
       "output_type": "stream",
       "stream": "stderr",
       "text": [
        "[2013-12-04 14:30:35] DEBUG:               Dolfin: 1.2.0+\n"
       ]
      },
      {
       "output_type": "stream",
       "stream": "stderr",
       "text": [
        "[2013-12-04 14:30:35] DEBUG:           Matplotlib: 1.3.1\n"
       ]
      },
      {
       "output_type": "stream",
       "stream": "stderr",
       "text": [
        "[2013-12-04 14:30:35] DEBUG:                Numpy: 1.8.0\n"
       ]
      },
      {
       "output_type": "stream",
       "stream": "stderr",
       "text": [
        "[2013-12-04 14:30:35] DEBUG:                Scipy: 0.11.0\n"
       ]
      },
      {
       "output_type": "stream",
       "stream": "stderr",
       "text": [
        "[2013-12-04 14:30:35] DEBUG:              IPython: 1.1.0\n"
       ]
      },
      {
       "output_type": "stream",
       "stream": "stderr",
       "text": [
        "[2013-12-04 14:30:35] DEBUG:               Python: 2.7.3\n"
       ]
      },
      {
       "output_type": "stream",
       "stream": "stderr",
       "text": [
        "[2013-12-04 14:30:35] DEBUG:             Paraview: 3.98~rc3-precise1\n"
       ]
      },
      {
       "output_type": "stream",
       "stream": "stderr",
       "text": [
        "[2013-12-04 14:30:35] DEBUG:             Sundials: 2.4.0-5\n"
       ]
      },
      {
       "output_type": "stream",
       "stream": "stderr",
       "text": [
        "[2013-12-04 14:30:35] DEBUG:         Boost-Python: 1.46.1\n"
       ]
      },
      {
       "output_type": "stream",
       "stream": "stderr",
       "text": [
        "[2013-12-04 14:30:35] DEBUG:                Linux: Ubuntu 12.04.3 LTS\n"
       ]
      }
     ],
     "prompt_number": 5
    },
    {
     "cell_type": "markdown",
     "metadata": {},
     "source": [
      "### \"Under the hood\""
     ]
    },
    {
     "cell_type": "markdown",
     "metadata": {},
     "source": [
      "Here we describe the more low-level approach of changing the logging level, which is also how the logging level is set internally in Finmag. This option gives greatest flexibility because it allows to emit one's own logging messages for the desired level, but it also requires more low-level Python commands. "
     ]
    },
    {
     "cell_type": "markdown",
     "metadata": {},
     "source": [
      "First, we need to get access to the logger object. This can be done from within any Python program - the link is created through the name ``finmag`` of the logger:"
     ]
    },
    {
     "cell_type": "code",
     "collapsed": false,
     "input": [
      "import logging\n",
      "import finmag\n",
      "logger = logging.getLogger('finmag')"
     ],
     "language": "python",
     "metadata": {},
     "outputs": [],
     "prompt_number": 6
    },
    {
     "cell_type": "markdown",
     "metadata": {},
     "source": [
      "Once we have the logger object, we can (i) change the filter level, and (ii) add our own messages to the logging. We combine the two actions in a little demo:"
     ]
    },
    {
     "cell_type": "code",
     "collapsed": false,
     "input": [
      "logger.setLevel(logging.DEBUG)\n",
      "logger.debug(\"This is debug message\")\n",
      "logger.info(\"This is of level info\")\n",
      "logger.warn(\"This is a Warning!\")\n",
      "logger.info(\"About to change loglevel to INFO\")\n",
      "logger.setLevel(logging.INFO)\n",
      "logger.debug(\"This is a debug message that should not be shown\")\n",
      "logger.info(\"Another info message\")\n",
      "logger.warn(\"Another warning\")\n",
      "logger.info(\"Changing loglevel to WARN\")\n",
      "logger.setLevel(logging.WARN)\n",
      "logger.debug(\"A debug message -- not coming through because of WARN > DEBUG\")\n",
      "logger.info(\"An info message -- not coming through because of WARN > INFO\")\n",
      "logger.warn(\"Another warning message\")"
     ],
     "language": "python",
     "metadata": {},
     "outputs": [
      {
       "output_type": "stream",
       "stream": "stderr",
       "text": [
        "[2013-12-04 14:32:40] DEBUG: This is debug message\n"
       ]
      },
      {
       "output_type": "stream",
       "stream": "stderr",
       "text": [
        "[2013-12-04 14:32:40] INFO: This is of level info\n"
       ]
      },
      {
       "output_type": "stream",
       "stream": "stderr",
       "text": [
        "[2013-12-04 14:32:40] WARNING: This is a Warning!\n"
       ]
      },
      {
       "output_type": "stream",
       "stream": "stderr",
       "text": [
        "[2013-12-04 14:32:40] INFO: About to change loglevel to INFO\n"
       ]
      },
      {
       "output_type": "stream",
       "stream": "stderr",
       "text": [
        "[2013-12-04 14:32:40] INFO: Another info message\n"
       ]
      },
      {
       "output_type": "stream",
       "stream": "stderr",
       "text": [
        "[2013-12-04 14:32:40] WARNING: Another warning\n"
       ]
      },
      {
       "output_type": "stream",
       "stream": "stderr",
       "text": [
        "[2013-12-04 14:32:40] INFO: Changing loglevel to WARN\n"
       ]
      },
      {
       "output_type": "stream",
       "stream": "stderr",
       "text": [
        "[2013-12-04 14:32:40] WARNING: Another warning message\n"
       ]
      }
     ],
     "prompt_number": 8
    },
    {
     "cell_type": "code",
     "collapsed": false,
     "input": [],
     "language": "python",
     "metadata": {},
     "outputs": []
    }
   ],
   "metadata": {}
  }
 ]
}