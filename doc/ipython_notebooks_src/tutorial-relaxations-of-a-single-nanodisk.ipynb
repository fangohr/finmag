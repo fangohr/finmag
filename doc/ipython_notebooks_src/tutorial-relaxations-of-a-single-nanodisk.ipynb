{
 "metadata": {
  "name": "tutorial-relaxations-of-a-single-nanodisk"
 },
 "nbformat": 3,
 "nbformat_minor": 0,
 "worksheets": [
  {
   "cells": [
    {
     "cell_type": "markdown",
     "metadata": {},
     "source": [
      "# Relaxations of a single nanodisk"
     ]
    },
    {
     "cell_type": "markdown",
     "metadata": {},
     "source": [
      "In this demo simulation we explore the relaxation behaviour of a single nanodisk. The same relaxation is performed with two different initial configurations of the magnetisation M."
     ]
    },
    {
     "cell_type": "markdown",
     "metadata": {},
     "source": [
      "First we import all the relevant modules and functions. We also change the logging level from the default 'DEBUG' to 'INFO' to avoid cluttering the notebook with lots of debugging message."
     ]
    },
    {
     "cell_type": "code",
     "collapsed": false,
     "input": [
      "from paraview import servermanager\n",
      "from finmag.util.meshes import cylinder, plot_mesh\n",
      "from finmag import sim_with\n",
      "from finmag.util.helpers import vector_valued_function\n",
      "from finmag.util.visualization import render_paraview_scene\n",
      "import os\n",
      "import glob\n",
      "import finmag\n",
      "import numpy as np\n",
      "finmag.set_logging_level(\"INFO\")"
     ],
     "language": "python",
     "metadata": {},
     "outputs": [
      {
       "output_type": "stream",
       "stream": "stderr",
       "text": [
        "[2013-01-22 18:58:49] INFO: Finmag logging output will be appended to file: '/home/albert/.finmag/global.log'\n"
       ]
      },
      {
       "output_type": "stream",
       "stream": "stderr",
       "text": [
        "[2013-01-22 18:58:49] DEBUG:               Finmag: 2782:8afddde2ae52eac6c4ada6f06e3dbf9b15a694e9\n"
       ]
      },
      {
       "output_type": "stream",
       "stream": "stderr",
       "text": [
        "[2013-01-22 18:58:49] DEBUG:               Dolfin: 1.0.0\n"
       ]
      },
      {
       "output_type": "stream",
       "stream": "stderr",
       "text": [
        "[2013-01-22 18:58:49] DEBUG:           Matplotlib: 1.3.x\n"
       ]
      },
      {
       "output_type": "stream",
       "stream": "stderr",
       "text": [
        "[2013-01-22 18:58:49] DEBUG:                Numpy: 1.6.2\n"
       ]
      },
      {
       "output_type": "stream",
       "stream": "stderr",
       "text": [
        "[2013-01-22 18:58:49] DEBUG:                Scipy: 0.10.1\n"
       ]
      },
      {
       "output_type": "stream",
       "stream": "stderr",
       "text": [
        "[2013-01-22 18:58:49] DEBUG:              IPython: 0.14.dev\n"
       ]
      },
      {
       "output_type": "stream",
       "stream": "stderr",
       "text": [
        "[2013-01-22 18:58:49] DEBUG:               Python: 2.7.3\n"
       ]
      },
      {
       "output_type": "stream",
       "stream": "stderr",
       "text": [
        "[2013-01-22 18:58:49] DEBUG:             Paraview: 3.98~rc3-precise1\n"
       ]
      },
      {
       "output_type": "stream",
       "stream": "stderr",
       "text": [
        "[2013-01-22 18:58:49] DEBUG:             Sundials: 2.4.0-5\n"
       ]
      },
      {
       "output_type": "stream",
       "stream": "stderr",
       "text": [
        "[2013-01-22 18:58:49] DEBUG:         Boost-Python: 1.46.1\n"
       ]
      },
      {
       "output_type": "stream",
       "stream": "stderr",
       "text": [
        "[2013-01-22 18:58:49] DEBUG:                Linux: Ubuntu 12.04.1 LTS\n"
       ]
      },
      {
       "output_type": "stream",
       "stream": "stdout",
       "text": [
        "paraview version 3.98.0-enhanced\n"
       ]
      }
     ],
     "prompt_number": 1
    },
    {
     "cell_type": "markdown",
     "metadata": {},
     "source": [
      "First we set the parameters which define the geometry, such as the disk radius/height and their separation. The two disks are put on the positive and negative x-axis with equal distances to the origin."
     ]
    },
    {
     "cell_type": "code",
     "collapsed": false,
     "input": [
      "# Geometry parameters:\n",
      "\n",
      "r = 25      # disk radius\n",
      "h = 10      # disk height\n",
      "maxh = 5.0  # mesh discretisation\n",
      "unit_length = 1e-9  # the mesh units are given in nm"
     ],
     "language": "python",
     "metadata": {},
     "outputs": [],
     "prompt_number": 2
    },
    {
     "cell_type": "markdown",
     "metadata": {},
     "source": [
      "Next we set the material parameters for Permalloy and define the two values for the initial magnetisation."
     ]
    },
    {
     "cell_type": "code",
     "collapsed": false,
     "input": [
      "# Material parameters\n",
      "Ms = 8.6e5\n",
      "A = 13.0e-12\n",
      "alpha = 1.0\n",
      "m_init_1 = np.array([-0.2, 0.1, 0.7])  # m_init for first disk\n",
      "m_init_2 = np.array([0.3, 0.2, -0.6])  # m_init for second disk\n",
      "demag_solver = 'FK'"
     ],
     "language": "python",
     "metadata": {},
     "outputs": [],
     "prompt_number": 3
    },
    {
     "cell_type": "markdown",
     "metadata": {},
     "source": [
      "We also define some helper strings used in filename, directory names etc., which make it easier to distinguish between simulations with different parameters."
     ]
    },
    {
     "cell_type": "code",
     "collapsed": false,
     "input": [
      "geom_descr = \"r_{:05.1f}__h_{:05.1f}__maxh_{:04.1f}\".format(r, h, maxh)\n",
      "sim_descr_1 = \"sim_{}__m_init_{:03.1f}_{:03.1f}_{:03.1f}\".format(geom_descr, m_init_1[0], m_init_1[1], m_init_1[2])\n",
      "sim_descr_2 = \"sim_{}__m_init_{:03.1f}_{:03.1f}_{:03.1f}\".format(geom_descr, m_init_2[0], m_init_2[1], m_init_2[2])\n",
      "meshfilename = os.path.join(\"meshes\", \"mesh__{}.geo\".format(geom_descr))\n",
      "#print \"geom_descr: {}\".format(geom_descr)\n",
      "#print \"sim_descr_1: {}\".format(sim_descr_1)\n",
      "#print \"sim_descr_2: {}\".format(sim_descr_2)\n",
      "#print \"meshfilename: {}\".format(meshfilename)"
     ],
     "language": "python",
     "metadata": {},
     "outputs": [],
     "prompt_number": 4
    },
    {
     "cell_type": "markdown",
     "metadata": {},
     "source": [
      "Create the mesh and plot it to be sure that it looks ok. Unfortunately, matplotlib doesn't support equal aspect ratios for 3D plots (yet), but the axes labels indicate that the disk has the correct proportions."
     ]
    },
    {
     "cell_type": "code",
     "collapsed": false,
     "input": [
      "mesh = cylinder(r, h, maxh, filename=meshfilename)\n",
      "plot_mesh(mesh, figsize=(10, 5))"
     ],
     "language": "python",
     "metadata": {},
     "outputs": [
      {
       "output_type": "pyout",
       "prompt_number": 5,
       "text": [
        "<matplotlib.axes.Axes3DSubplot at 0x55aee50>"
       ]
      },
      {
       "output_type": "display_data",
       "png": "[encoded data removed]",
       "text": [
        "<matplotlib.figure.Figure at 0x55aecd0>"
       ]
      }
     ],
     "prompt_number": 5
    },
    {
     "cell_type": "markdown",
     "metadata": {},
     "source": [
      "## Relaxing the first nanodisk"
     ]
    },
    {
     "cell_type": "markdown",
     "metadata": {},
     "source": [
      "Now create the Simulation object with the mesh and material parameters defined above, where the initial magnetisation equals `m_init_1`."
     ]
    },
    {
     "cell_type": "code",
     "collapsed": false,
     "input": [
      "sim = sim_with(mesh, Ms=Ms, m_init=m_init_1, alpha=alpha,\n",
      "               unit_length=unit_length, A=A,\n",
      "               demag_solver=demag_solver,\n",
      "               name=\"sim__relaxation_of_nanodisk_1\")"
     ],
     "language": "python",
     "metadata": {},
     "outputs": [
      {
       "output_type": "stream",
       "stream": "stderr",
       "text": [
        "[2013-01-22 18:58:50] INFO: Finmag logging output will be written to file: '/home/albert/work/code/finmag/doc/ipython_notebooks_src/sim__relaxation_of_nanodisk_1.log' (any old content will be overwritten).\n"
       ]
      },
      {
       "output_type": "stream",
       "stream": "stderr",
       "text": [
        "[2013-01-22 18:58:50] INFO: Creating Sim object 'sim__relaxation_of_nanodisk_1' (rank=0/1) [Tue Jan 22 18:58:50 2013].\n"
       ]
      },
      {
       "output_type": "stream",
       "stream": "stderr",
       "text": [
        "[2013-01-22 18:58:50] INFO: <Mesh of topological dimension 3 (tetrahedra) with 268 vertices and 797 cells, ordered>\n"
       ]
      }
     ],
     "prompt_number": 6
    },
    {
     "cell_type": "markdown",
     "metadata": {},
     "source": [
      "Next, we relax the configuration. While doing so, we save vtk snapshots of the magnetisation configuration every 50 ps for later analysis. \n",
      "\n",
      "Since the simulation takes a few mintes to finish, we also print a message every 2.5 ns (of simulation time) to keep us informed about the progress (note that this would not be necessary if we had used the 'DEBUG' logging level above, but it is also a nice illustration of how to use the scheduler for these purposes)."
     ]
    },
    {
     "cell_type": "code",
     "collapsed": false,
     "input": [
      "def print_simulation_time(sim):\n",
      "    finmag.logger.info(\"Reached simulation time: {} ns\".format(sim.t * 1e9))\n",
      "\n",
      "sim.schedule(print_simulation_time, every=2.5e-9)\n",
      "sim.relax(save_snapshots=True, save_every=5e-11, force_overwrite=True,\n",
      "          filename='snapshots/{}/relaxation.pvd'.format(sim_descr_1))"
     ],
     "language": "python",
     "metadata": {},
     "outputs": [
      {
       "output_type": "stream",
       "stream": "stderr",
       "text": [
        "[2013-01-22 18:58:50] INFO: Will integrate until relaxation.\n"
       ]
      },
      {
       "output_type": "stream",
       "stream": "stderr",
       "text": [
        "[2013-01-22 18:58:50] WARNING: Removing file 'snapshots/sim_r_025.0__h_010.0__maxh_05.0__m_init_-0.2_0.1_0.7/relaxation.pvd' and all associated .vtu files (because force_overwrite=True).\n"
       ]
      },
      {
       "output_type": "stream",
       "stream": "stderr",
       "text": [
        "[2013-01-22 18:58:50] INFO: Reached simulation time: 0.0 ns\n"
       ]
      },
      {
       "output_type": "stream",
       "stream": "stderr",
       "text": [
        "[2013-01-22 18:58:59] INFO: Reached simulation time: 2.5 ns\n"
       ]
      },
      {
       "output_type": "stream",
       "stream": "stderr",
       "text": [
        "[2013-01-22 18:59:04] INFO: Reached simulation time: 5.0 ns\n"
       ]
      },
      {
       "output_type": "stream",
       "stream": "stderr",
       "text": [
        "[2013-01-22 18:59:08] INFO: Reached simulation time: 7.5 ns\n"
       ]
      },
      {
       "output_type": "stream",
       "stream": "stderr",
       "text": [
        "[2013-01-22 18:59:12] INFO: Reached simulation time: 10.0 ns\n"
       ]
      },
      {
       "output_type": "stream",
       "stream": "stderr",
       "text": [
        "[2013-01-22 18:59:15] INFO: Reached simulation time: 12.5 ns\n"
       ]
      },
      {
       "output_type": "stream",
       "stream": "stderr",
       "text": [
        "[2013-01-22 18:59:17] INFO: Relaxation finished at time t = 1.4e-08.\n"
       ]
      }
     ],
     "prompt_number": 7
    },
    {
     "cell_type": "markdown",
     "metadata": {},
     "source": [
      "Here is an image of the initial state. It shows that the disk has a uniform magnetisation which points in a relatively vertical direction (the color represents the z-component of M)."
     ]
    },
    {
     "cell_type": "code",
     "collapsed": false,
     "input": [
      "render_paraview_scene('snapshots/{}/relaxation000000.vtu'.format(sim_descr_1),\n",
      "                      'snapshots/{}/initial_state.png'.format(sim_descr_1),\n",
      "                      color_by_axis='Z', rescale_colormap_to_data_range=False)"
     ],
     "language": "python",
     "metadata": {},
     "outputs": [
      {
       "output_type": "pyout",
       "png": "[encoded data removed]",
       "prompt_number": 8,
       "text": [
        "<IPython.core.display.Image at 0x407dbd0>"
       ]
      }
     ],
     "prompt_number": 8
    },
    {
     "cell_type": "markdown",
     "metadata": {},
     "source": [
      "And this is an image of the relaxed state, which shows that M now lies essentially in the plane of the disk (but is still uniform)."
     ]
    },
    {
     "cell_type": "code",
     "collapsed": false,
     "input": [
      "final_snapshot_1 = glob.glob('snapshots/{}/relaxation*.vtu'.format(sim_descr_1))[-1]\n",
      "print \"Final vtk snapshot: {}\".format(final_snapshot_1)"
     ],
     "language": "python",
     "metadata": {},
     "outputs": [
      {
       "output_type": "stream",
       "stream": "stdout",
       "text": [
        "Final vtk snapshot: snapshots/sim_r_025.0__h_010.0__maxh_05.0__m_init_-0.2_0.1_0.7/relaxation000020.vtu\n"
       ]
      }
     ],
     "prompt_number": 9
    },
    {
     "cell_type": "code",
     "collapsed": false,
     "input": [
      "render_paraview_scene(final_snapshot_1,\n",
      "                      'snapshots/{}/relaxed_state.png'.format(sim_descr_1),\n",
      "                      color_by_axis='Z', rescale_colormap_to_data_range=False)"
     ],
     "language": "python",
     "metadata": {},
     "outputs": [
      {
       "output_type": "pyout",
       "png": "[encoded data removed]",
       "prompt_number": 10,
       "text": [
        "<IPython.core.display.Image at 0x55aea90>"
       ]
      }
     ],
     "prompt_number": 10
    },
    {
     "cell_type": "markdown",
     "metadata": {},
     "source": [
      "## Second relaxation with different `m_init`"
     ]
    },
    {
     "cell_type": "markdown",
     "metadata": {},
     "source": [
      "We now repeat the relaxation with the alternative value of m_init:"
     ]
    },
    {
     "cell_type": "code",
     "collapsed": false,
     "input": [
      "print \"m_init_2: {}\".format(m_init_2)"
     ],
     "language": "python",
     "metadata": {},
     "outputs": [
      {
       "output_type": "stream",
       "stream": "stdout",
       "text": [
        "m_init_2: [ 0.3  0.2 -0.6]\n"
       ]
      }
     ],
     "prompt_number": 11
    },
    {
     "cell_type": "code",
     "collapsed": false,
     "input": [
      "sim2 = sim_with(mesh, Ms=Ms, m_init=m_init_2, alpha=alpha,\n",
      "                unit_length=unit_length, A=A,\n",
      "                demag_solver=demag_solver,\n",
      "                name=\"sim__relaxation_of_nanodisk_2\")"
     ],
     "language": "python",
     "metadata": {},
     "outputs": [
      {
       "output_type": "stream",
       "stream": "stderr",
       "text": [
        "[2013-01-22 18:59:19] INFO: Finmag logging output will be written to file: '/home/albert/work/code/finmag/doc/ipython_notebooks_src/sim__relaxation_of_nanodisk_2.log' (any old content will be overwritten).\n"
       ]
      },
      {
       "output_type": "stream",
       "stream": "stderr",
       "text": [
        "[2013-01-22 18:59:19] INFO: Creating Sim object 'sim__relaxation_of_nanodisk_2' (rank=0/1) [Tue Jan 22 18:59:19 2013].\n"
       ]
      },
      {
       "output_type": "stream",
       "stream": "stderr",
       "text": [
        "[2013-01-22 18:59:19] INFO: <Mesh of topological dimension 3 (tetrahedra) with 268 vertices and 797 cells, ordered>\n"
       ]
      }
     ],
     "prompt_number": 12
    },
    {
     "cell_type": "code",
     "collapsed": false,
     "input": [
      "def print_simulation_time(sim):\n",
      "    finmag.logger.info(\"Reached simulation time: {} ns\".format(sim.t * 1e9))\n",
      "\n",
      "sim2.schedule(print_simulation_time, every=2.5e-9)\n",
      "finmag.set_logging_level('DEBUG')\n",
      "sim2.relax(save_snapshots=True, save_every=5e-11, force_overwrite=True,\n",
      "           filename='snapshots/{}/relaxation.pvd'.format(sim_descr_2))"
     ],
     "language": "python",
     "metadata": {},
     "outputs": [
      {
       "output_type": "stream",
       "stream": "stderr",
       "text": [
        "[2013-01-22 18:59:20] DEBUG: Creating integrator with backend sundials.\n"
       ]
      },
      {
       "output_type": "stream",
       "stream": "stderr",
       "text": [
        "[2013-01-22 18:59:20] INFO: Will integrate until relaxation.\n"
       ]
      },
      {
       "output_type": "stream",
       "stream": "stderr",
       "text": [
        "[2013-01-22 18:59:20] WARNING: Removing file 'snapshots/sim_r_025.0__h_010.0__maxh_05.0__m_init_0.3_0.2_-0.6/relaxation.pvd' and all associated .vtu files (because force_overwrite=True).\n"
       ]
      },
      {
       "output_type": "stream",
       "stream": "stderr",
       "text": [
        "[2013-01-22 18:59:20] INFO: Reached simulation time: 0.0 ns\n"
       ]
      },
      {
       "output_type": "stream",
       "stream": "stderr",
       "text": [
        "[2013-01-22 18:59:20] DEBUG: Saved snapshot at t=0.0 to file 'snapshots/sim_r_025.0__h_010.0__maxh_05.0__m_init_0.3_0.2_-0.6/relaxation.pvd' (saving took 0.00265 seconds).\n"
       ]
      },
      {
       "output_type": "stream",
       "stream": "stderr",
       "text": [
        "[2013-01-22 18:59:20] DEBUG: Saving average field values for simulation 'sim__relaxation_of_nanodisk_2'.\n"
       ]
      },
      {
       "output_type": "stream",
       "stream": "stderr",
       "text": [
        "[2013-01-22 18:59:20] DEBUG: SundialsIntegrator: t=1e-14, last_dmdt=2.42e+03 * stopping_dmdt, next dt=1.5e-14.\n"
       ]
      },
      {
       "output_type": "stream",
       "stream": "stderr",
       "text": [
        "[2013-01-22 18:59:20] DEBUG: SundialsIntegrator: t=2.5e-14, last_dmdt=2.42e+03 * stopping_dmdt, next dt=1.5e-14.\n"
       ]
      },
      {
       "output_type": "stream",
       "stream": "stderr",
       "text": [
        "[2013-01-22 18:59:20] DEBUG: SundialsIntegrator: dmdt 1.00018160147 times larger than last time (counting 1/500).\n"
       ]
      },
      {
       "output_type": "stream",
       "stream": "stderr",
       "text": [
        "[2013-01-22 18:59:20] DEBUG: SundialsIntegrator: t=4e-14, last_dmdt=2.42e+03 * stopping_dmdt, next dt=1.5e-14.\n"
       ]
      },
      {
       "output_type": "stream",
       "stream": "stderr",
       "text": [
        "[2013-01-22 18:59:20] DEBUG: SundialsIntegrator: dmdt 1.00022094959 times larger than last time (counting 2/500).\n"
       ]
      },
      {
       "output_type": "stream",
       "stream": "stderr",
       "text": [
        "[2013-01-22 18:59:20] DEBUG: SundialsIntegrator: t=5.5e-14, last_dmdt=2.42e+03 * stopping_dmdt, next dt=1.5e-14.\n"
       ]
      },
      {
       "output_type": "stream",
       "stream": "stderr",
       "text": [
        "[2013-01-22 18:59:20] DEBUG: SundialsIntegrator: dmdt 1.0002208946 times larger than last time (counting 3/500).\n"
       ]
      },
      {
       "output_type": "stream",
       "stream": "stderr",
       "text": [
        "[2013-01-22 18:59:20] DEBUG: SundialsIntegrator: t=7e-14, last_dmdt=2.42e+03 * stopping_dmdt, next dt=1.5e-14.\n"
       ]
      },
      {
       "output_type": "stream",
       "stream": "stderr",
       "text": [
        "[2013-01-22 18:59:20] DEBUG: SundialsIntegrator: dmdt 1.0002206621 times larger than last time (counting 4/500).\n"
       ]
      },
      {
       "output_type": "stream",
       "stream": "stderr",
       "text": [
        "[2013-01-22 18:59:20] DEBUG: SundialsIntegrator: t=8.5e-14, last_dmdt=2.43e+03 * stopping_dmdt, next dt=1.5e-14.\n"
       ]
      },
      {
       "output_type": "stream",
       "stream": "stderr",
       "text": [
        "[2013-01-22 18:59:20] DEBUG: SundialsIntegrator: dmdt 1.00022066471 times larger than last time (counting 5/500).\n"
       ]
      },
      {
       "output_type": "stream",
       "stream": "stderr",
       "text": [
        "[2013-01-22 18:59:20] DEBUG: SundialsIntegrator: t=1e-13, last_dmdt=2.43e+03 * stopping_dmdt, next dt=1.5e-14.\n"
       ]
      },
      {
       "output_type": "stream",
       "stream": "stderr",
       "text": [
        "[2013-01-22 18:59:20] DEBUG: SundialsIntegrator: dmdt 1.00022042834 times larger than last time (counting 6/500).\n"
       ]
      },
      {
       "output_type": "stream",
       "stream": "stderr",
       "text": [
        "[2013-01-22 18:59:20] DEBUG: SundialsIntegrator: t=1.15e-13, last_dmdt=2.43e+03 * stopping_dmdt, next dt=1.5e-14.\n"
       ]
      },
      {
       "output_type": "stream",
       "stream": "stderr",
       "text": [
        "[2013-01-22 18:59:20] DEBUG: SundialsIntegrator: dmdt 1.00022049186 times larger than last time (counting 7/500).\n"
       ]
      },
      {
       "output_type": "stream",
       "stream": "stderr",
       "text": [
        "[2013-01-22 18:59:20] DEBUG: SundialsIntegrator: t=1.3e-13, last_dmdt=2.43e+03 * stopping_dmdt, next dt=1.5e-14.\n"
       ]
      },
      {
       "output_type": "stream",
       "stream": "stderr",
       "text": [
        "[2013-01-22 18:59:20] DEBUG: SundialsIntegrator: dmdt 1.00022021797 times larger than last time (counting 8/500).\n"
       ]
      },
      {
       "output_type": "stream",
       "stream": "stderr",
       "text": [
        "[2013-01-22 18:59:20] DEBUG: SundialsIntegrator: t=1.45e-13, last_dmdt=2.43e+03 * stopping_dmdt, next dt=1.5e-14.\n"
       ]
      },
      {
       "output_type": "stream",
       "stream": "stderr",
       "text": [
        "[2013-01-22 18:59:20] DEBUG: SundialsIntegrator: dmdt 1.0002200759 times larger than last time (counting 9/500).\n"
       ]
      },
      {
       "output_type": "stream",
       "stream": "stderr",
       "text": [
        "[2013-01-22 18:59:20] DEBUG: SundialsIntegrator: t=1.6e-13, last_dmdt=2.43e+03 * stopping_dmdt, next dt=1.5e-14.\n"
       ]
      },
      {
       "output_type": "stream",
       "stream": "stderr",
       "text": [
        "[2013-01-22 18:59:20] DEBUG: SundialsIntegrator: dmdt 1.00021988414 times larger than last time (counting 10/500).\n"
       ]
      },
      {
       "output_type": "stream",
       "stream": "stderr",
       "text": [
        "[2013-01-22 18:59:20] DEBUG: SundialsIntegrator: t=1.75e-13, last_dmdt=2.43e+03 * stopping_dmdt, next dt=1.5e-14.\n"
       ]
      },
      {
       "output_type": "stream",
       "stream": "stderr",
       "text": [
        "[2013-01-22 18:59:20] DEBUG: SundialsIntegrator: dmdt 1.00021972698 times larger than last time (counting 11/500).\n"
       ]
      },
      {
       "output_type": "stream",
       "stream": "stderr",
       "text": [
        "[2013-01-22 18:59:20] DEBUG: SundialsIntegrator: t=1.9e-13, last_dmdt=2.43e+03 * stopping_dmdt, next dt=1.5e-14.\n"
       ]
      },
      {
       "output_type": "stream",
       "stream": "stderr",
       "text": [
        "[2013-01-22 18:59:20] DEBUG: SundialsIntegrator: dmdt 1.00021956532 times larger than last time (counting 12/500).\n"
       ]
      },
      {
       "output_type": "stream",
       "stream": "stderr",
       "text": [
        "[2013-01-22 18:59:20] DEBUG: SundialsIntegrator: t=2.05e-13, last_dmdt=2.43e+03 * stopping_dmdt, next dt=1.5e-14.\n"
       ]
      },
      {
       "output_type": "stream",
       "stream": "stderr",
       "text": [
        "[2013-01-22 18:59:20] DEBUG: SundialsIntegrator: dmdt 1.00021941898 times larger than last time (counting 13/500).\n"
       ]
      },
      {
       "output_type": "stream",
       "stream": "stderr",
       "text": [
        "[2013-01-22 18:59:20] DEBUG: SundialsIntegrator: t=2.2e-13, last_dmdt=2.43e+03 * stopping_dmdt, next dt=1.5e-14.\n"
       ]
      },
      {
       "output_type": "stream",
       "stream": "stderr",
       "text": [
        "[2013-01-22 18:59:20] DEBUG: SundialsIntegrator: dmdt 1.00021927261 times larger than last time (counting 14/500).\n"
       ]
      },
      {
       "output_type": "stream",
       "stream": "stderr",
       "text": [
        "[2013-01-22 18:59:20] DEBUG: SundialsIntegrator: t=2.35e-13, last_dmdt=2.43e+03 * stopping_dmdt, next dt=1.5e-14.\n"
       ]
      },
      {
       "output_type": "stream",
       "stream": "stderr",
       "text": [
        "[2013-01-22 18:59:20] DEBUG: SundialsIntegrator: dmdt 1.00021912622 times larger than last time (counting 15/500).\n"
       ]
      },
      {
       "output_type": "stream",
       "stream": "stderr",
       "text": [
        "[2013-01-22 18:59:20] DEBUG: SundialsIntegrator: t=2.5e-13, last_dmdt=2.43e+03 * stopping_dmdt, next dt=1.5e-14.\n"
       ]
      },
      {
       "output_type": "stream",
       "stream": "stderr",
       "text": [
        "[2013-01-22 18:59:20] DEBUG: SundialsIntegrator: dmdt 1.00021897965 times larger than last time (counting 16/500).\n"
       ]
      },
      {
       "output_type": "stream",
       "stream": "stderr",
       "text": [
        "[2013-01-22 18:59:20] DEBUG: SundialsIntegrator: t=2.65e-13, last_dmdt=2.43e+03 * stopping_dmdt, next dt=1.5e-14.\n"
       ]
      },
      {
       "output_type": "stream",
       "stream": "stderr",
       "text": [
        "[2013-01-22 18:59:20] DEBUG: SundialsIntegrator: dmdt 1.00021883724 times larger than last time (counting 17/500).\n"
       ]
      },
      {
       "output_type": "stream",
       "stream": "stderr",
       "text": [
        "[2013-01-22 18:59:20] DEBUG: SundialsIntegrator: t=2.8e-13, last_dmdt=2.43e+03 * stopping_dmdt, next dt=1.5e-14.\n"
       ]
      },
      {
       "output_type": "stream",
       "stream": "stderr",
       "text": [
        "[2013-01-22 18:59:20] DEBUG: SundialsIntegrator: dmdt 1.00021869307 times larger than last time (counting 18/500).\n"
       ]
      },
      {
       "output_type": "stream",
       "stream": "stderr",
       "text": [
        "[2013-01-22 18:59:20] DEBUG: SundialsIntegrator: t=2.95e-13, last_dmdt=2.43e+03 * stopping_dmdt, next dt=1.5e-14.\n"
       ]
      },
      {
       "output_type": "stream",
       "stream": "stderr",
       "text": [
        "[2013-01-22 18:59:20] DEBUG: SundialsIntegrator: dmdt 1.00021855021 times larger than last time (counting 19/500).\n"
       ]
      },
      {
       "output_type": "stream",
       "stream": "stderr",
       "text": [
        "[2013-01-22 18:59:20] DEBUG: SundialsIntegrator: t=3.1e-13, last_dmdt=2.43e+03 * stopping_dmdt, next dt=1.5e-14.\n"
       ]
      },
      {
       "output_type": "stream",
       "stream": "stderr",
       "text": [
        "[2013-01-22 18:59:20] DEBUG: SundialsIntegrator: dmdt 1.00021840675 times larger than last time (counting 20/500).\n"
       ]
      },
      {
       "output_type": "stream",
       "stream": "stderr",
       "text": [
        "[2013-01-22 18:59:20] DEBUG: SundialsIntegrator: t=3.25e-13, last_dmdt=2.43e+03 * stopping_dmdt, next dt=1.5e-14.\n"
       ]
      },
      {
       "output_type": "stream",
       "stream": "stderr",
       "text": [
        "[2013-01-22 18:59:20] DEBUG: SundialsIntegrator: dmdt 1.00021826539 times larger than last time (counting 21/500).\n"
       ]
      },
      {
       "output_type": "stream",
       "stream": "stderr",
       "text": [
        "[2013-01-22 18:59:20] DEBUG: SundialsIntegrator: t=3.4e-13, last_dmdt=2.43e+03 * stopping_dmdt, next dt=1.5e-14.\n"
       ]
      },
      {
       "output_type": "stream",
       "stream": "stderr",
       "text": [
        "[2013-01-22 18:59:20] DEBUG: SundialsIntegrator: dmdt 1.0002181237 times larger than last time (counting 22/500).\n"
       ]
      },
      {
       "output_type": "stream",
       "stream": "stderr",
       "text": [
        "[2013-01-22 18:59:20] DEBUG: SundialsIntegrator: t=3.55e-13, last_dmdt=2.43e+03 * stopping_dmdt, next dt=1.5e-14.\n"
       ]
      },
      {
       "output_type": "stream",
       "stream": "stderr",
       "text": [
        "[2013-01-22 18:59:20] DEBUG: SundialsIntegrator: dmdt 1.00021798188 times larger than last time (counting 23/500).\n"
       ]
      },
      {
       "output_type": "stream",
       "stream": "stderr",
       "text": [
        "[2013-01-22 18:59:20] DEBUG: SundialsIntegrator: t=3.7e-13, last_dmdt=2.44e+03 * stopping_dmdt, next dt=1.5e-14.\n"
       ]
      },
      {
       "output_type": "stream",
       "stream": "stderr",
       "text": [
        "[2013-01-22 18:59:20] DEBUG: SundialsIntegrator: dmdt 1.00021784139 times larger than last time (counting 24/500).\n"
       ]
      },
      {
       "output_type": "stream",
       "stream": "stderr",
       "text": [
        "[2013-01-22 18:59:20] DEBUG: SundialsIntegrator: t=3.85e-13, last_dmdt=2.44e+03 * stopping_dmdt, next dt=1.5e-14.\n"
       ]
      },
      {
       "output_type": "stream",
       "stream": "stderr",
       "text": [
        "[2013-01-22 18:59:20] DEBUG: SundialsIntegrator: dmdt 1.00021770089 times larger than last time (counting 25/500).\n"
       ]
      },
      {
       "output_type": "stream",
       "stream": "stderr",
       "text": [
        "[2013-01-22 18:59:20] DEBUG: SundialsIntegrator: t=4e-13, last_dmdt=2.44e+03 * stopping_dmdt, next dt=1.5e-14.\n"
       ]
      },
      {
       "output_type": "stream",
       "stream": "stderr",
       "text": [
        "[2013-01-22 18:59:20] DEBUG: SundialsIntegrator: dmdt 1.0002175608 times larger than last time (counting 26/500).\n"
       ]
      },
      {
       "output_type": "stream",
       "stream": "stderr",
       "text": [
        "[2013-01-22 18:59:20] DEBUG: SundialsIntegrator: t=4.15e-13, last_dmdt=2.44e+03 * stopping_dmdt, next dt=1.5e-14.\n"
       ]
      },
      {
       "output_type": "stream",
       "stream": "stderr",
       "text": [
        "[2013-01-22 18:59:20] DEBUG: SundialsIntegrator: dmdt 1.00021742118 times larger than last time (counting 27/500).\n"
       ]
      },
      {
       "output_type": "stream",
       "stream": "stderr",
       "text": [
        "[2013-01-22 18:59:20] DEBUG: SundialsIntegrator: t=4.3e-13, last_dmdt=2.44e+03 * stopping_dmdt, next dt=1.5e-14.\n"
       ]
      },
      {
       "output_type": "stream",
       "stream": "stderr",
       "text": [
        "[2013-01-22 18:59:20] DEBUG: SundialsIntegrator: dmdt 1.00021728189 times larger than last time (counting 28/500).\n"
       ]
      },
      {
       "output_type": "stream",
       "stream": "stderr",
       "text": [
        "[2013-01-22 18:59:20] DEBUG: SundialsIntegrator: t=4.45e-13, last_dmdt=2.44e+03 * stopping_dmdt, next dt=1.5e-14.\n"
       ]
      },
      {
       "output_type": "stream",
       "stream": "stderr",
       "text": [
        "[2013-01-22 18:59:20] DEBUG: SundialsIntegrator: dmdt 1.00021714273 times larger than last time (counting 29/500).\n"
       ]
      },
      {
       "output_type": "stream",
       "stream": "stderr",
       "text": [
        "[2013-01-22 18:59:20] DEBUG: SundialsIntegrator: t=4.6e-13, last_dmdt=2.44e+03 * stopping_dmdt, next dt=1.5e-14.\n"
       ]
      },
      {
       "output_type": "stream",
       "stream": "stderr",
       "text": [
        "[2013-01-22 18:59:20] DEBUG: SundialsIntegrator: dmdt 1.00021700368 times larger than last time (counting 30/500).\n"
       ]
      },
      {
       "output_type": "stream",
       "stream": "stderr",
       "text": [
        "[2013-01-22 18:59:20] DEBUG: SundialsIntegrator: t=4.75e-13, last_dmdt=2.44e+03 * stopping_dmdt, next dt=1.5e-14.\n"
       ]
      },
      {
       "output_type": "stream",
       "stream": "stderr",
       "text": [
        "[2013-01-22 18:59:20] DEBUG: SundialsIntegrator: dmdt 1.00021686542 times larger than last time (counting 31/500).\n"
       ]
      },
      {
       "output_type": "stream",
       "stream": "stderr",
       "text": [
        "[2013-01-22 18:59:20] DEBUG: SundialsIntegrator: t=4.9e-13, last_dmdt=2.44e+03 * stopping_dmdt, next dt=1.5e-14.\n"
       ]
      },
      {
       "output_type": "stream",
       "stream": "stderr",
       "text": [
        "[2013-01-22 18:59:20] DEBUG: SundialsIntegrator: dmdt 1.00021672724 times larger than last time (counting 32/500).\n"
       ]
      },
      {
       "output_type": "stream",
       "stream": "stderr",
       "text": [
        "[2013-01-22 18:59:20] DEBUG: SundialsIntegrator: t=5.05e-13, last_dmdt=2.44e+03 * stopping_dmdt, next dt=1.5e-14.\n"
       ]
      },
      {
       "output_type": "stream",
       "stream": "stderr",
       "text": [
        "[2013-01-22 18:59:20] DEBUG: SundialsIntegrator: dmdt 1.00021658907 times larger than last time (counting 33/500).\n"
       ]
      },
      {
       "output_type": "stream",
       "stream": "stderr",
       "text": [
        "[2013-01-22 18:59:20] DEBUG: SundialsIntegrator: t=5.2e-13, last_dmdt=2.44e+03 * stopping_dmdt, next dt=1.5e-14.\n"
       ]
      },
      {
       "output_type": "stream",
       "stream": "stderr",
       "text": [
        "[2013-01-22 18:59:20] DEBUG: SundialsIntegrator: dmdt 1.00021644949 times larger than last time (counting 34/500).\n"
       ]
      },
      {
       "output_type": "stream",
       "stream": "stderr",
       "text": [
        "[2013-01-22 18:59:20] DEBUG: SundialsIntegrator: t=5.35e-13, last_dmdt=2.44e+03 * stopping_dmdt, next dt=1.5e-14.\n"
       ]
      },
      {
       "output_type": "stream",
       "stream": "stderr",
       "text": [
        "[2013-01-22 18:59:20] DEBUG: SundialsIntegrator: dmdt 1.00021631235 times larger than last time (counting 35/500).\n"
       ]
      },
      {
       "output_type": "stream",
       "stream": "stderr",
       "text": [
        "[2013-01-22 18:59:20] DEBUG: SundialsIntegrator: t=5.5e-13, last_dmdt=2.44e+03 * stopping_dmdt, next dt=1.5e-14.\n"
       ]
      },
      {
       "output_type": "stream",
       "stream": "stderr",
       "text": [
        "[2013-01-22 18:59:20] DEBUG: SundialsIntegrator: dmdt 1.00021617453 times larger than last time (counting 36/500).\n"
       ]
      },
      {
       "output_type": "stream",
       "stream": "stderr",
       "text": [
        "[2013-01-22 18:59:20] DEBUG: SundialsIntegrator: t=5.65e-13, last_dmdt=2.44e+03 * stopping_dmdt, next dt=1.5e-14.\n"
       ]
      },
      {
       "output_type": "stream",
       "stream": "stderr",
       "text": [
        "[2013-01-22 18:59:20] DEBUG: SundialsIntegrator: dmdt 1.00021603685 times larger than last time (counting 37/500).\n"
       ]
      },
      {
       "output_type": "stream",
       "stream": "stderr",
       "text": [
        "[2013-01-22 18:59:20] DEBUG: SundialsIntegrator: t=5.8e-13, last_dmdt=2.44e+03 * stopping_dmdt, next dt=1.5e-14.\n"
       ]
      },
      {
       "output_type": "stream",
       "stream": "stderr",
       "text": [
        "[2013-01-22 18:59:20] DEBUG: SundialsIntegrator: dmdt 1.00021589699 times larger than last time (counting 38/500).\n"
       ]
      },
      {
       "output_type": "stream",
       "stream": "stderr",
       "text": [
        "[2013-01-22 18:59:20] DEBUG: SundialsIntegrator: t=5.95e-13, last_dmdt=2.44e+03 * stopping_dmdt, next dt=1.5e-14.\n"
       ]
      },
      {
       "output_type": "stream",
       "stream": "stderr",
       "text": [
        "[2013-01-22 18:59:20] DEBUG: SundialsIntegrator: dmdt 1.00021575965 times larger than last time (counting 39/500).\n"
       ]
      },
      {
       "output_type": "stream",
       "stream": "stderr",
       "text": [
        "[2013-01-22 18:59:20] DEBUG: SundialsIntegrator: t=6.1e-13, last_dmdt=2.44e+03 * stopping_dmdt, next dt=1.5e-14.\n"
       ]
      },
      {
       "output_type": "stream",
       "stream": "stderr",
       "text": [
        "[2013-01-22 18:59:20] DEBUG: SundialsIntegrator: dmdt 1.00021562169 times larger than last time (counting 40/500).\n"
       ]
      },
      {
       "output_type": "stream",
       "stream": "stderr",
       "text": [
        "[2013-01-22 18:59:20] DEBUG: SundialsIntegrator: t=6.25e-13, last_dmdt=2.44e+03 * stopping_dmdt, next dt=1.5e-14.\n"
       ]
      },
      {
       "output_type": "stream",
       "stream": "stderr",
       "text": [
        "[2013-01-22 18:59:20] DEBUG: SundialsIntegrator: dmdt 1.0002154836 times larger than last time (counting 41/500).\n"
       ]
      },
      {
       "output_type": "stream",
       "stream": "stderr",
       "text": [
        "[2013-01-22 18:59:20] DEBUG: SundialsIntegrator: t=6.4e-13, last_dmdt=2.44e+03 * stopping_dmdt, next dt=1.5e-14.\n"
       ]
      },
      {
       "output_type": "stream",
       "stream": "stderr",
       "text": [
        "[2013-01-22 18:59:20] DEBUG: SundialsIntegrator: dmdt 1.00021534408 times larger than last time (counting 42/500).\n"
       ]
      },
      {
       "output_type": "stream",
       "stream": "stderr",
       "text": [
        "[2013-01-22 18:59:20] DEBUG: SundialsIntegrator: t=6.55e-13, last_dmdt=2.45e+03 * stopping_dmdt, next dt=1.5e-14.\n"
       ]
      },
      {
       "output_type": "stream",
       "stream": "stderr",
       "text": [
        "[2013-01-22 18:59:20] DEBUG: SundialsIntegrator: dmdt 1.00021520522 times larger than last time (counting 43/500).\n"
       ]
      },
      {
       "output_type": "stream",
       "stream": "stderr",
       "text": [
        "[2013-01-22 18:59:20] DEBUG: SundialsIntegrator: t=6.7e-13, last_dmdt=2.45e+03 * stopping_dmdt, next dt=1.5e-14.\n"
       ]
      },
      {
       "output_type": "stream",
       "stream": "stderr",
       "text": [
        "[2013-01-22 18:59:20] DEBUG: SundialsIntegrator: dmdt 1.0002150668 times larger than last time (counting 44/500).\n"
       ]
      },
      {
       "output_type": "stream",
       "stream": "stderr",
       "text": [
        "[2013-01-22 18:59:20] DEBUG: SundialsIntegrator: t=6.85e-13, last_dmdt=2.45e+03 * stopping_dmdt, next dt=1.5e-14.\n"
       ]
      },
      {
       "output_type": "stream",
       "stream": "stderr",
       "text": [
        "[2013-01-22 18:59:20] DEBUG: SundialsIntegrator: dmdt 1.00021492782 times larger than last time (counting 45/500).\n"
       ]
      },
      {
       "output_type": "stream",
       "stream": "stderr",
       "text": [
        "[2013-01-22 18:59:20] DEBUG: SundialsIntegrator: t=7e-13, last_dmdt=2.45e+03 * stopping_dmdt, next dt=1.5e-14.\n"
       ]
      },
      {
       "output_type": "stream",
       "stream": "stderr",
       "text": [
        "[2013-01-22 18:59:20] DEBUG: SundialsIntegrator: dmdt 1.00021478788 times larger than last time (counting 46/500).\n"
       ]
      },
      {
       "output_type": "stream",
       "stream": "stderr",
       "text": [
        "[2013-01-22 18:59:20] DEBUG: SundialsIntegrator: t=7.15e-13, last_dmdt=2.45e+03 * stopping_dmdt, next dt=1.5e-14.\n"
       ]
      },
      {
       "output_type": "stream",
       "stream": "stderr",
       "text": [
        "[2013-01-22 18:59:20] DEBUG: SundialsIntegrator: dmdt 1.00024186814 times larger than last time (counting 47/500).\n"
       ]
      },
      {
       "output_type": "stream",
       "stream": "stderr",
       "text": [
        "[2013-01-22 18:59:20] DEBUG: SundialsIntegrator: t=7.3e-13, last_dmdt=2.45e+03 * stopping_dmdt, next dt=1.5e-14.\n"
       ]
      },
      {
       "output_type": "stream",
       "stream": "stderr",
       "text": [
        "[2013-01-22 18:59:20] DEBUG: SundialsIntegrator: dmdt 1.00032015795 times larger than last time (counting 48/500).\n"
       ]
      },
      {
       "output_type": "stream",
       "stream": "stderr",
       "text": [
        "[2013-01-22 18:59:20] DEBUG: SundialsIntegrator: t=7.45e-13, last_dmdt=2.45e+03 * stopping_dmdt, next dt=1.5e-14.\n"
       ]
      },
      {
       "output_type": "stream",
       "stream": "stderr",
       "text": [
        "[2013-01-22 18:59:20] DEBUG: SundialsIntegrator: dmdt 1.00031927589 times larger than last time (counting 49/500).\n"
       ]
      },
      {
       "output_type": "stream",
       "stream": "stderr",
       "text": [
        "[2013-01-22 18:59:20] DEBUG: SundialsIntegrator: t=7.6e-13, last_dmdt=2.45e+03 * stopping_dmdt, next dt=1.5e-14.\n"
       ]
      },
      {
       "output_type": "stream",
       "stream": "stderr",
       "text": [
        "[2013-01-22 18:59:20] DEBUG: SundialsIntegrator: dmdt 1.00031839523 times larger than last time (counting 50/500).\n"
       ]
      },
      {
       "output_type": "stream",
       "stream": "stderr",
       "text": [
        "[2013-01-22 18:59:20] DEBUG: SundialsIntegrator: t=7.75e-13, last_dmdt=2.45e+03 * stopping_dmdt, next dt=1.5e-14.\n"
       ]
      },
      {
       "output_type": "stream",
       "stream": "stderr",
       "text": [
        "[2013-01-22 18:59:20] DEBUG: SundialsIntegrator: dmdt 1.00031751595 times larger than last time (counting 51/500).\n"
       ]
      },
      {
       "output_type": "stream",
       "stream": "stderr",
       "text": [
        "[2013-01-22 18:59:20] DEBUG: SundialsIntegrator: t=7.9e-13, last_dmdt=2.45e+03 * stopping_dmdt, next dt=1.5e-14.\n"
       ]
      },
      {
       "output_type": "stream",
       "stream": "stderr",
       "text": [
        "[2013-01-22 18:59:20] DEBUG: SundialsIntegrator: dmdt 1.00031663809 times larger than last time (counting 52/500).\n"
       ]
      },
      {
       "output_type": "stream",
       "stream": "stderr",
       "text": [
        "[2013-01-22 18:59:20] DEBUG: SundialsIntegrator: t=8.05e-13, last_dmdt=2.45e+03 * stopping_dmdt, next dt=1.5e-14.\n"
       ]
      },
      {
       "output_type": "stream",
       "stream": "stderr",
       "text": [
        "[2013-01-22 18:59:20] DEBUG: SundialsIntegrator: dmdt 1.0003157616 times larger than last time (counting 53/500).\n"
       ]
      },
      {
       "output_type": "stream",
       "stream": "stderr",
       "text": [
        "[2013-01-22 18:59:20] DEBUG: SundialsIntegrator: t=8.2e-13, last_dmdt=2.45e+03 * stopping_dmdt, next dt=1.5e-14.\n"
       ]
      },
      {
       "output_type": "stream",
       "stream": "stderr",
       "text": [
        "[2013-01-22 18:59:20] DEBUG: SundialsIntegrator: dmdt 1.00031488648 times larger than last time (counting 54/500).\n"
       ]
      },
      {
       "output_type": "stream",
       "stream": "stderr",
       "text": [
        "[2013-01-22 18:59:20] DEBUG: SundialsIntegrator: t=8.35e-13, last_dmdt=2.45e+03 * stopping_dmdt, next dt=1.5e-14.\n"
       ]
      },
      {
       "output_type": "stream",
       "stream": "stderr",
       "text": [
        "[2013-01-22 18:59:20] DEBUG: SundialsIntegrator: dmdt 1.00031401259 times larger than last time (counting 55/500).\n"
       ]
      },
      {
       "output_type": "stream",
       "stream": "stderr",
       "text": [
        "[2013-01-22 18:59:20] DEBUG: SundialsIntegrator: t=8.5e-13, last_dmdt=2.45e+03 * stopping_dmdt, next dt=1.5e-14.\n"
       ]
      },
      {
       "output_type": "stream",
       "stream": "stderr",
       "text": [
        "[2013-01-22 18:59:20] DEBUG: SundialsIntegrator: dmdt 1.00031314022 times larger than last time (counting 56/500).\n"
       ]
      },
      {
       "output_type": "stream",
       "stream": "stderr",
       "text": [
        "[2013-01-22 18:59:20] DEBUG: SundialsIntegrator: t=8.65e-13, last_dmdt=2.46e+03 * stopping_dmdt, next dt=1.5e-14.\n"
       ]
      },
      {
       "output_type": "stream",
       "stream": "stderr",
       "text": [
        "[2013-01-22 18:59:20] DEBUG: SundialsIntegrator: dmdt 1.00031226914 times larger than last time (counting 57/500).\n"
       ]
      },
      {
       "output_type": "stream",
       "stream": "stderr",
       "text": [
        "[2013-01-22 18:59:20] DEBUG: SundialsIntegrator: t=8.8e-13, last_dmdt=2.46e+03 * stopping_dmdt, next dt=1.5e-14.\n"
       ]
      },
      {
       "output_type": "stream",
       "stream": "stderr",
       "text": [
        "[2013-01-22 18:59:20] DEBUG: SundialsIntegrator: dmdt 1.0003113994 times larger than last time (counting 58/500).\n"
       ]
      },
      {
       "output_type": "stream",
       "stream": "stderr",
       "text": [
        "[2013-01-22 18:59:20] DEBUG: SundialsIntegrator: t=8.95e-13, last_dmdt=2.46e+03 * stopping_dmdt, next dt=1.5e-14.\n"
       ]
      },
      {
       "output_type": "stream",
       "stream": "stderr",
       "text": [
        "[2013-01-22 18:59:20] DEBUG: SundialsIntegrator: dmdt 1.00031053098 times larger than last time (counting 59/500).\n"
       ]
      },
      {
       "output_type": "stream",
       "stream": "stderr",
       "text": [
        "[2013-01-22 18:59:20] DEBUG: SundialsIntegrator: t=9.1e-13, last_dmdt=2.46e+03 * stopping_dmdt, next dt=1.5e-14.\n"
       ]
      },
      {
       "output_type": "stream",
       "stream": "stderr",
       "text": [
        "[2013-01-22 18:59:20] DEBUG: SundialsIntegrator: dmdt 1.00030966389 times larger than last time (counting 60/500).\n"
       ]
      },
      {
       "output_type": "stream",
       "stream": "stderr",
       "text": [
        "[2013-01-22 18:59:20] DEBUG: SundialsIntegrator: t=9.25e-13, last_dmdt=2.46e+03 * stopping_dmdt, next dt=1.5e-14.\n"
       ]
      },
      {
       "output_type": "stream",
       "stream": "stderr",
       "text": [
        "[2013-01-22 18:59:20] DEBUG: SundialsIntegrator: dmdt 1.00030879788 times larger than last time (counting 61/500).\n"
       ]
      },
      {
       "output_type": "stream",
       "stream": "stderr",
       "text": [
        "[2013-01-22 18:59:20] DEBUG: SundialsIntegrator: t=9.4e-13, last_dmdt=2.46e+03 * stopping_dmdt, next dt=1.5e-14.\n"
       ]
      },
      {
       "output_type": "stream",
       "stream": "stderr",
       "text": [
        "[2013-01-22 18:59:20] DEBUG: SundialsIntegrator: dmdt 1.00030793303 times larger than last time (counting 62/500).\n"
       ]
      },
      {
       "output_type": "stream",
       "stream": "stderr",
       "text": [
        "[2013-01-22 18:59:20] DEBUG: SundialsIntegrator: t=9.55e-13, last_dmdt=2.46e+03 * stopping_dmdt, next dt=1.5e-14.\n"
       ]
      },
      {
       "output_type": "stream",
       "stream": "stderr",
       "text": [
        "[2013-01-22 18:59:20] DEBUG: SundialsIntegrator: dmdt 1.00030706996 times larger than last time (counting 63/500).\n"
       ]
      },
      {
       "output_type": "stream",
       "stream": "stderr",
       "text": [
        "[2013-01-22 18:59:20] DEBUG: SundialsIntegrator: t=9.7e-13, last_dmdt=2.46e+03 * stopping_dmdt, next dt=1.5e-14.\n"
       ]
      },
      {
       "output_type": "stream",
       "stream": "stderr",
       "text": [
        "[2013-01-22 18:59:20] DEBUG: SundialsIntegrator: dmdt 1.00030620793 times larger than last time (counting 64/500).\n"
       ]
      },
      {
       "output_type": "stream",
       "stream": "stderr",
       "text": [
        "[2013-01-22 18:59:20] DEBUG: SundialsIntegrator: t=9.85e-13, last_dmdt=2.46e+03 * stopping_dmdt, next dt=1.5e-14.\n"
       ]
      },
      {
       "output_type": "stream",
       "stream": "stderr",
       "text": [
        "[2013-01-22 18:59:20] DEBUG: SundialsIntegrator: dmdt 1.00030534717 times larger than last time (counting 65/500).\n"
       ]
      },
      {
       "output_type": "stream",
       "stream": "stderr",
       "text": [
        "[2013-01-22 18:59:20] DEBUG: SundialsIntegrator: t=1e-12, last_dmdt=2.46e+03 * stopping_dmdt, next dt=1.5e-14.\n"
       ]
      },
      {
       "output_type": "stream",
       "stream": "stderr",
       "text": [
        "[2013-01-22 18:59:20] DEBUG: SundialsIntegrator: dmdt 1.00030448765 times larger than last time (counting 66/500).\n"
       ]
      },
      {
       "output_type": "stream",
       "stream": "stderr",
       "text": [
        "[2013-01-22 18:59:20] DEBUG: SundialsIntegrator: t=1.02e-12, last_dmdt=2.46e+03 * stopping_dmdt, next dt=1.5e-14.\n"
       ]
      },
      {
       "output_type": "stream",
       "stream": "stderr",
       "text": [
        "[2013-01-22 18:59:20] DEBUG: SundialsIntegrator: dmdt 1.00030362938 times larger than last time (counting 67/500).\n"
       ]
      },
      {
       "output_type": "stream",
       "stream": "stderr",
       "text": [
        "[2013-01-22 18:59:20] DEBUG: SundialsIntegrator: t=1.03e-12, last_dmdt=2.46e+03 * stopping_dmdt, next dt=1.5e-14.\n"
       ]
      },
      {
       "output_type": "stream",
       "stream": "stderr",
       "text": [
        "[2013-01-22 18:59:20] DEBUG: SundialsIntegrator: dmdt 1.00030277126 times larger than last time (counting 68/500).\n"
       ]
      },
      {
       "output_type": "stream",
       "stream": "stderr",
       "text": [
        "[2013-01-22 18:59:20] DEBUG: SundialsIntegrator: t=1.05e-12, last_dmdt=2.46e+03 * stopping_dmdt, next dt=1.5e-14.\n"
       ]
      },
      {
       "output_type": "stream",
       "stream": "stderr",
       "text": [
        "[2013-01-22 18:59:20] DEBUG: SundialsIntegrator: dmdt 1.00030191551 times larger than last time (counting 69/500).\n"
       ]
      },
      {
       "output_type": "stream",
       "stream": "stderr",
       "text": [
        "[2013-01-22 18:59:20] DEBUG: SundialsIntegrator: t=1.06e-12, last_dmdt=2.47e+03 * stopping_dmdt, next dt=1.5e-14.\n"
       ]
      },
      {
       "output_type": "stream",
       "stream": "stderr",
       "text": [
        "[2013-01-22 18:59:20] DEBUG: SundialsIntegrator: dmdt 1.00030106083 times larger than last time (counting 70/500).\n"
       ]
      },
      {
       "output_type": "stream",
       "stream": "stderr",
       "text": [
        "[2013-01-22 18:59:20] DEBUG: SundialsIntegrator: t=1.08e-12, last_dmdt=2.47e+03 * stopping_dmdt, next dt=1.5e-14.\n"
       ]
      },
      {
       "output_type": "stream",
       "stream": "stderr",
       "text": [
        "[2013-01-22 18:59:20] DEBUG: SundialsIntegrator: dmdt 1.00030020714 times larger than last time (counting 71/500).\n"
       ]
      },
      {
       "output_type": "stream",
       "stream": "stderr",
       "text": [
        "[2013-01-22 18:59:20] DEBUG: SundialsIntegrator: t=1.09e-12, last_dmdt=2.47e+03 * stopping_dmdt, next dt=1.5e-14.\n"
       ]
      },
      {
       "output_type": "stream",
       "stream": "stderr",
       "text": [
        "[2013-01-22 18:59:20] DEBUG: SundialsIntegrator: dmdt 1.00029935461 times larger than last time (counting 72/500).\n"
       ]
      },
      {
       "output_type": "stream",
       "stream": "stderr",
       "text": [
        "[2013-01-22 18:59:20] DEBUG: SundialsIntegrator: t=1.11e-12, last_dmdt=2.47e+03 * stopping_dmdt, next dt=1.5e-14.\n"
       ]
      },
      {
       "output_type": "stream",
       "stream": "stderr",
       "text": [
        "[2013-01-22 18:59:20] DEBUG: SundialsIntegrator: dmdt 1.00029850322 times larger than last time (counting 73/500).\n"
       ]
      },
      {
       "output_type": "stream",
       "stream": "stderr",
       "text": [
        "[2013-01-22 18:59:20] DEBUG: SundialsIntegrator: t=1.12e-12, last_dmdt=2.47e+03 * stopping_dmdt, next dt=1.5e-14.\n"
       ]
      },
      {
       "output_type": "stream",
       "stream": "stderr",
       "text": [
        "[2013-01-22 18:59:20] DEBUG: SundialsIntegrator: dmdt 1.00029765274 times larger than last time (counting 74/500).\n"
       ]
      },
      {
       "output_type": "stream",
       "stream": "stderr",
       "text": [
        "[2013-01-22 18:59:20] DEBUG: SundialsIntegrator: t=1.14e-12, last_dmdt=2.47e+03 * stopping_dmdt, next dt=1.5e-14.\n"
       ]
      },
      {
       "output_type": "stream",
       "stream": "stderr",
       "text": [
        "[2013-01-22 18:59:20] DEBUG: SundialsIntegrator: dmdt 1.00029680273 times larger than last time (counting 75/500).\n"
       ]
      },
      {
       "output_type": "stream",
       "stream": "stderr",
       "text": [
        "[2013-01-22 18:59:20] DEBUG: SundialsIntegrator: t=1.15e-12, last_dmdt=2.47e+03 * stopping_dmdt, next dt=1.5e-14.\n"
       ]
      },
      {
       "output_type": "stream",
       "stream": "stderr",
       "text": [
        "[2013-01-22 18:59:20] DEBUG: SundialsIntegrator: dmdt 1.000295955 times larger than last time (counting 76/500).\n"
       ]
      },
      {
       "output_type": "stream",
       "stream": "stderr",
       "text": [
        "[2013-01-22 18:59:20] DEBUG: SundialsIntegrator: t=1.17e-12, last_dmdt=2.47e+03 * stopping_dmdt, next dt=1.5e-14.\n"
       ]
      },
      {
       "output_type": "stream",
       "stream": "stderr",
       "text": [
        "[2013-01-22 18:59:20] DEBUG: SundialsIntegrator: dmdt 1.00029510784 times larger than last time (counting 77/500).\n"
       ]
      },
      {
       "output_type": "stream",
       "stream": "stderr",
       "text": [
        "[2013-01-22 18:59:20] DEBUG: SundialsIntegrator: t=1.18e-12, last_dmdt=2.47e+03 * stopping_dmdt, next dt=1.5e-14.\n"
       ]
      },
      {
       "output_type": "stream",
       "stream": "stderr",
       "text": [
        "[2013-01-22 18:59:20] DEBUG: SundialsIntegrator: dmdt 1.00029426172 times larger than last time (counting 78/500).\n"
       ]
      },
      {
       "output_type": "stream",
       "stream": "stderr",
       "text": [
        "[2013-01-22 18:59:20] DEBUG: SundialsIntegrator: t=1.2e-12, last_dmdt=2.47e+03 * stopping_dmdt, next dt=1.5e-14.\n"
       ]
      },
      {
       "output_type": "stream",
       "stream": "stderr",
       "text": [
        "[2013-01-22 18:59:20] DEBUG: SundialsIntegrator: dmdt 1.00029341665 times larger than last time (counting 79/500).\n"
       ]
      },
      {
       "output_type": "stream",
       "stream": "stderr",
       "text": [
        "[2013-01-22 18:59:20] DEBUG: SundialsIntegrator: t=1.21e-12, last_dmdt=2.47e+03 * stopping_dmdt, next dt=1.5e-14.\n"
       ]
      },
      {
       "output_type": "stream",
       "stream": "stderr",
       "text": [
        "[2013-01-22 18:59:20] DEBUG: SundialsIntegrator: dmdt 1.00029257259 times larger than last time (counting 80/500).\n"
       ]
      },
      {
       "output_type": "stream",
       "stream": "stderr",
       "text": [
        "[2013-01-22 18:59:20] DEBUG: SundialsIntegrator: t=1.23e-12, last_dmdt=2.47e+03 * stopping_dmdt, next dt=1.5e-14.\n"
       ]
      },
      {
       "output_type": "stream",
       "stream": "stderr",
       "text": [
        "[2013-01-22 18:59:20] DEBUG: SundialsIntegrator: dmdt 1.00029172923 times larger than last time (counting 81/500).\n"
       ]
      },
      {
       "output_type": "stream",
       "stream": "stderr",
       "text": [
        "[2013-01-22 18:59:20] DEBUG: SundialsIntegrator: t=1.24e-12, last_dmdt=2.47e+03 * stopping_dmdt, next dt=1.5e-14.\n"
       ]
      },
      {
       "output_type": "stream",
       "stream": "stderr",
       "text": [
        "[2013-01-22 18:59:20] DEBUG: SundialsIntegrator: dmdt 1.00029088706 times larger than last time (counting 82/500).\n"
       ]
      },
      {
       "output_type": "stream",
       "stream": "stderr",
       "text": [
        "[2013-01-22 18:59:20] DEBUG: SundialsIntegrator: t=1.26e-12, last_dmdt=2.47e+03 * stopping_dmdt, next dt=1.5e-14.\n"
       ]
      },
      {
       "output_type": "stream",
       "stream": "stderr",
       "text": [
        "[2013-01-22 18:59:20] DEBUG: SundialsIntegrator: dmdt 1.00029004601 times larger than last time (counting 83/500).\n"
       ]
      },
      {
       "output_type": "stream",
       "stream": "stderr",
       "text": [
        "[2013-01-22 18:59:20] DEBUG: SundialsIntegrator: t=1.27e-12, last_dmdt=2.48e+03 * stopping_dmdt, next dt=1.5e-14.\n"
       ]
      },
      {
       "output_type": "stream",
       "stream": "stderr",
       "text": [
        "[2013-01-22 18:59:20] DEBUG: SundialsIntegrator: dmdt 1.00028920579 times larger than last time (counting 84/500).\n"
       ]
      },
      {
       "output_type": "stream",
       "stream": "stderr",
       "text": [
        "[2013-01-22 18:59:20] DEBUG: SundialsIntegrator: t=1.29e-12, last_dmdt=2.48e+03 * stopping_dmdt, next dt=1.5e-14.\n"
       ]
      },
      {
       "output_type": "stream",
       "stream": "stderr",
       "text": [
        "[2013-01-22 18:59:20] DEBUG: SundialsIntegrator: dmdt 1.0002883665 times larger than last time (counting 85/500).\n"
       ]
      },
      {
       "output_type": "stream",
       "stream": "stderr",
       "text": [
        "[2013-01-22 18:59:20] DEBUG: SundialsIntegrator: t=1.3e-12, last_dmdt=2.48e+03 * stopping_dmdt, next dt=1.5e-14.\n"
       ]
      },
      {
       "output_type": "stream",
       "stream": "stderr",
       "text": [
        "[2013-01-22 18:59:20] DEBUG: SundialsIntegrator: dmdt 1.00028752813 times larger than last time (counting 86/500).\n"
       ]
      },
      {
       "output_type": "stream",
       "stream": "stderr",
       "text": [
        "[2013-01-22 18:59:20] DEBUG: SundialsIntegrator: t=1.32e-12, last_dmdt=2.48e+03 * stopping_dmdt, next dt=1.5e-14.\n"
       ]
      },
      {
       "output_type": "stream",
       "stream": "stderr",
       "text": [
        "[2013-01-22 18:59:20] DEBUG: SundialsIntegrator: dmdt 1.00028669067 times larger than last time (counting 87/500).\n"
       ]
      },
      {
       "output_type": "stream",
       "stream": "stderr",
       "text": [
        "[2013-01-22 18:59:20] DEBUG: SundialsIntegrator: t=1.33e-12, last_dmdt=2.48e+03 * stopping_dmdt, next dt=1.5e-14.\n"
       ]
      },
      {
       "output_type": "stream",
       "stream": "stderr",
       "text": [
        "[2013-01-22 18:59:20] DEBUG: SundialsIntegrator: dmdt 1.00028585403 times larger than last time (counting 88/500).\n"
       ]
      },
      {
       "output_type": "stream",
       "stream": "stderr",
       "text": [
        "[2013-01-22 18:59:20] DEBUG: SundialsIntegrator: t=1.35e-12, last_dmdt=2.48e+03 * stopping_dmdt, next dt=1.5e-14.\n"
       ]
      },
      {
       "output_type": "stream",
       "stream": "stderr",
       "text": [
        "[2013-01-22 18:59:20] DEBUG: SundialsIntegrator: dmdt 1.00028501837 times larger than last time (counting 89/500).\n"
       ]
      },
      {
       "output_type": "stream",
       "stream": "stderr",
       "text": [
        "[2013-01-22 18:59:20] DEBUG: SundialsIntegrator: t=1.36e-12, last_dmdt=2.48e+03 * stopping_dmdt, next dt=1.5e-14.\n"
       ]
      },
      {
       "output_type": "stream",
       "stream": "stderr",
       "text": [
        "[2013-01-22 18:59:20] DEBUG: SundialsIntegrator: dmdt 1.00028418352 times larger than last time (counting 90/500).\n"
       ]
      },
      {
       "output_type": "stream",
       "stream": "stderr",
       "text": [
        "[2013-01-22 18:59:20] DEBUG: SundialsIntegrator: t=1.38e-12, last_dmdt=2.48e+03 * stopping_dmdt, next dt=1.5e-14.\n"
       ]
      },
      {
       "output_type": "stream",
       "stream": "stderr",
       "text": [
        "[2013-01-22 18:59:20] DEBUG: SundialsIntegrator: dmdt 1.00028334952 times larger than last time (counting 91/500).\n"
       ]
      },
      {
       "output_type": "stream",
       "stream": "stderr",
       "text": [
        "[2013-01-22 18:59:20] DEBUG: SundialsIntegrator: t=1.39e-12, last_dmdt=2.48e+03 * stopping_dmdt, next dt=1.5e-14.\n"
       ]
      },
      {
       "output_type": "stream",
       "stream": "stderr",
       "text": [
        "[2013-01-22 18:59:20] DEBUG: SundialsIntegrator: dmdt 1.00028251634 times larger than last time (counting 92/500).\n"
       ]
      },
      {
       "output_type": "stream",
       "stream": "stderr",
       "text": [
        "[2013-01-22 18:59:20] DEBUG: SundialsIntegrator: t=1.41e-12, last_dmdt=2.48e+03 * stopping_dmdt, next dt=1.5e-14.\n"
       ]
      },
      {
       "output_type": "stream",
       "stream": "stderr",
       "text": [
        "[2013-01-22 18:59:20] DEBUG: SundialsIntegrator: dmdt 1.00028168398 times larger than last time (counting 93/500).\n"
       ]
      },
      {
       "output_type": "stream",
       "stream": "stderr",
       "text": [
        "[2013-01-22 18:59:20] DEBUG: SundialsIntegrator: t=1.42e-12, last_dmdt=2.48e+03 * stopping_dmdt, next dt=1.5e-14.\n"
       ]
      },
      {
       "output_type": "stream",
       "stream": "stderr",
       "text": [
        "[2013-01-22 18:59:20] DEBUG: SundialsIntegrator: dmdt 1.00028085241 times larger than last time (counting 94/500).\n"
       ]
      },
      {
       "output_type": "stream",
       "stream": "stderr",
       "text": [
        "[2013-01-22 18:59:20] DEBUG: SundialsIntegrator: t=1.44e-12, last_dmdt=2.48e+03 * stopping_dmdt, next dt=1.5e-14.\n"
       ]
      },
      {
       "output_type": "stream",
       "stream": "stderr",
       "text": [
        "[2013-01-22 18:59:20] DEBUG: SundialsIntegrator: dmdt 1.00028002163 times larger than last time (counting 95/500).\n"
       ]
      },
      {
       "output_type": "stream",
       "stream": "stderr",
       "text": [
        "[2013-01-22 18:59:20] DEBUG: SundialsIntegrator: t=1.45e-12, last_dmdt=2.48e+03 * stopping_dmdt, next dt=1.5e-14.\n"
       ]
      },
      {
       "output_type": "stream",
       "stream": "stderr",
       "text": [
        "[2013-01-22 18:59:20] DEBUG: SundialsIntegrator: dmdt 1.00027919162 times larger than last time (counting 96/500).\n"
       ]
      },
      {
       "output_type": "stream",
       "stream": "stderr",
       "text": [
        "[2013-01-22 18:59:20] DEBUG: SundialsIntegrator: t=1.47e-12, last_dmdt=2.48e+03 * stopping_dmdt, next dt=1.5e-14.\n"
       ]
      },
      {
       "output_type": "stream",
       "stream": "stderr",
       "text": [
        "[2013-01-22 18:59:20] DEBUG: SundialsIntegrator: dmdt 1.00027836236 times larger than last time (counting 97/500).\n"
       ]
      },
      {
       "output_type": "stream",
       "stream": "stderr",
       "text": [
        "[2013-01-22 18:59:20] DEBUG: SundialsIntegrator: t=1.48e-12, last_dmdt=2.49e+03 * stopping_dmdt, next dt=1.5e-14.\n"
       ]
      },
      {
       "output_type": "stream",
       "stream": "stderr",
       "text": [
        "[2013-01-22 18:59:20] DEBUG: SundialsIntegrator: dmdt 1.00027753384 times larger than last time (counting 98/500).\n"
       ]
      },
      {
       "output_type": "stream",
       "stream": "stderr",
       "text": [
        "[2013-01-22 18:59:20] DEBUG: SundialsIntegrator: t=1.5e-12, last_dmdt=2.49e+03 * stopping_dmdt, next dt=1.5e-14.\n"
       ]
      },
      {
       "output_type": "stream",
       "stream": "stderr",
       "text": [
        "[2013-01-22 18:59:20] DEBUG: SundialsIntegrator: dmdt 1.00027670604 times larger than last time (counting 99/500).\n"
       ]
      },
      {
       "output_type": "stream",
       "stream": "stderr",
       "text": [
        "[2013-01-22 18:59:20] DEBUG: SundialsIntegrator: t=1.51e-12, last_dmdt=2.49e+03 * stopping_dmdt, next dt=1.5e-14.\n"
       ]
      },
      {
       "output_type": "stream",
       "stream": "stderr",
       "text": [
        "[2013-01-22 18:59:20] DEBUG: SundialsIntegrator: dmdt 1.00027587896 times larger than last time (counting 100/500).\n"
       ]
      },
      {
       "output_type": "stream",
       "stream": "stderr",
       "text": [
        "[2013-01-22 18:59:20] DEBUG: SundialsIntegrator: t=1.53e-12, last_dmdt=2.49e+03 * stopping_dmdt, next dt=1.5e-14.\n"
       ]
      },
      {
       "output_type": "stream",
       "stream": "stderr",
       "text": [
        "[2013-01-22 18:59:20] DEBUG: SundialsIntegrator: dmdt 1.00027505261 times larger than last time (counting 101/500).\n"
       ]
      },
      {
       "output_type": "stream",
       "stream": "stderr",
       "text": [
        "[2013-01-22 18:59:20] DEBUG: SundialsIntegrator: t=1.54e-12, last_dmdt=2.49e+03 * stopping_dmdt, next dt=1.5e-14.\n"
       ]
      },
      {
       "output_type": "stream",
       "stream": "stderr",
       "text": [
        "[2013-01-22 18:59:20] DEBUG: SundialsIntegrator: dmdt 1.00027422688 times larger than last time (counting 102/500).\n"
       ]
      },
      {
       "output_type": "stream",
       "stream": "stderr",
       "text": [
        "[2013-01-22 18:59:20] DEBUG: SundialsIntegrator: t=1.56e-12, last_dmdt=2.49e+03 * stopping_dmdt, next dt=1.5e-14.\n"
       ]
      },
      {
       "output_type": "stream",
       "stream": "stderr",
       "text": [
        "[2013-01-22 18:59:20] DEBUG: SundialsIntegrator: dmdt 1.00027340183 times larger than last time (counting 103/500).\n"
       ]
      },
      {
       "output_type": "stream",
       "stream": "stderr",
       "text": [
        "[2013-01-22 18:59:20] DEBUG: SundialsIntegrator: t=1.57e-12, last_dmdt=2.49e+03 * stopping_dmdt, next dt=1.5e-14.\n"
       ]
      },
      {
       "output_type": "stream",
       "stream": "stderr",
       "text": [
        "[2013-01-22 18:59:20] DEBUG: SundialsIntegrator: dmdt 1.00027257744 times larger than last time (counting 104/500).\n"
       ]
      },
      {
       "output_type": "stream",
       "stream": "stderr",
       "text": [
        "[2013-01-22 18:59:20] DEBUG: SundialsIntegrator: t=1.59e-12, last_dmdt=2.49e+03 * stopping_dmdt, next dt=1.5e-14.\n"
       ]
      },
      {
       "output_type": "stream",
       "stream": "stderr",
       "text": [
        "[2013-01-22 18:59:20] DEBUG: SundialsIntegrator: dmdt 1.00027175368 times larger than last time (counting 105/500).\n"
       ]
      },
      {
       "output_type": "stream",
       "stream": "stderr",
       "text": [
        "[2013-01-22 18:59:20] DEBUG: SundialsIntegrator: t=1.6e-12, last_dmdt=2.49e+03 * stopping_dmdt, next dt=1.5e-14.\n"
       ]
      },
      {
       "output_type": "stream",
       "stream": "stderr",
       "text": [
        "[2013-01-22 18:59:20] DEBUG: SundialsIntegrator: dmdt 1.00027093054 times larger than last time (counting 106/500).\n"
       ]
      },
      {
       "output_type": "stream",
       "stream": "stderr",
       "text": [
        "[2013-01-22 18:59:20] DEBUG: SundialsIntegrator: t=1.62e-12, last_dmdt=2.49e+03 * stopping_dmdt, next dt=1.5e-14.\n"
       ]
      },
      {
       "output_type": "stream",
       "stream": "stderr",
       "text": [
        "[2013-01-22 18:59:20] DEBUG: SundialsIntegrator: dmdt 1.00027010791 times larger than last time (counting 107/500).\n"
       ]
      },
      {
       "output_type": "stream",
       "stream": "stderr",
       "text": [
        "[2013-01-22 18:59:20] DEBUG: SundialsIntegrator: t=1.63e-12, last_dmdt=2.49e+03 * stopping_dmdt, next dt=1.5e-14.\n"
       ]
      },
      {
       "output_type": "stream",
       "stream": "stderr",
       "text": [
        "[2013-01-22 18:59:20] DEBUG: SundialsIntegrator: dmdt 1.00026928573 times larger than last time (counting 108/500).\n"
       ]
      },
      {
       "output_type": "stream",
       "stream": "stderr",
       "text": [
        "[2013-01-22 18:59:20] DEBUG: SundialsIntegrator: t=1.65e-12, last_dmdt=2.49e+03 * stopping_dmdt, next dt=1.5e-14.\n"
       ]
      },
      {
       "output_type": "stream",
       "stream": "stderr",
       "text": [
        "[2013-01-22 18:59:20] DEBUG: SundialsIntegrator: dmdt 1.00026846449 times larger than last time (counting 109/500).\n"
       ]
      },
      {
       "output_type": "stream",
       "stream": "stderr",
       "text": [
        "[2013-01-22 18:59:20] DEBUG: SundialsIntegrator: t=1.66e-12, last_dmdt=2.49e+03 * stopping_dmdt, next dt=1.5e-14.\n"
       ]
      },
      {
       "output_type": "stream",
       "stream": "stderr",
       "text": [
        "[2013-01-22 18:59:20] DEBUG: SundialsIntegrator: dmdt 1.00026764365 times larger than last time (counting 110/500).\n"
       ]
      },
      {
       "output_type": "stream",
       "stream": "stderr",
       "text": [
        "[2013-01-22 18:59:20] DEBUG: SundialsIntegrator: t=1.68e-12, last_dmdt=2.49e+03 * stopping_dmdt, next dt=1.5e-14.\n"
       ]
      },
      {
       "output_type": "stream",
       "stream": "stderr",
       "text": [
        "[2013-01-22 18:59:20] DEBUG: SundialsIntegrator: dmdt 1.00026682335 times larger than last time (counting 111/500).\n"
       ]
      },
      {
       "output_type": "stream",
       "stream": "stderr",
       "text": [
        "[2013-01-22 18:59:20] DEBUG: SundialsIntegrator: t=1.69e-12, last_dmdt=2.49e+03 * stopping_dmdt, next dt=1.5e-14.\n"
       ]
      },
      {
       "output_type": "stream",
       "stream": "stderr",
       "text": [
        "[2013-01-22 18:59:20] DEBUG: SundialsIntegrator: dmdt 1.00026600358 times larger than last time (counting 112/500).\n"
       ]
      },
      {
       "output_type": "stream",
       "stream": "stderr",
       "text": [
        "[2013-01-22 18:59:20] DEBUG: SundialsIntegrator: t=1.71e-12, last_dmdt=2.5e+03 * stopping_dmdt, next dt=1.5e-14.\n"
       ]
      },
      {
       "output_type": "stream",
       "stream": "stderr",
       "text": [
        "[2013-01-22 18:59:20] DEBUG: SundialsIntegrator: dmdt 1.00026518433 times larger than last time (counting 113/500).\n"
       ]
      },
      {
       "output_type": "stream",
       "stream": "stderr",
       "text": [
        "[2013-01-22 18:59:20] DEBUG: SundialsIntegrator: t=1.72e-12, last_dmdt=2.5e+03 * stopping_dmdt, next dt=1.5e-14.\n"
       ]
      },
      {
       "output_type": "stream",
       "stream": "stderr",
       "text": [
        "[2013-01-22 18:59:20] DEBUG: SundialsIntegrator: dmdt 1.00026436557 times larger than last time (counting 114/500).\n"
       ]
      },
      {
       "output_type": "stream",
       "stream": "stderr",
       "text": [
        "[2013-01-22 18:59:20] DEBUG: SundialsIntegrator: t=1.74e-12, last_dmdt=2.5e+03 * stopping_dmdt, next dt=1.5e-14.\n"
       ]
      },
      {
       "output_type": "stream",
       "stream": "stderr",
       "text": [
        "[2013-01-22 18:59:20] DEBUG: SundialsIntegrator: dmdt 1.0002635473 times larger than last time (counting 115/500).\n"
       ]
      },
      {
       "output_type": "stream",
       "stream": "stderr",
       "text": [
        "[2013-01-22 18:59:20] DEBUG: SundialsIntegrator: t=1.75e-12, last_dmdt=2.5e+03 * stopping_dmdt, next dt=1.5e-14.\n"
       ]
      },
      {
       "output_type": "stream",
       "stream": "stderr",
       "text": [
        "[2013-01-22 18:59:20] DEBUG: SundialsIntegrator: dmdt 1.00026272951 times larger than last time (counting 116/500).\n"
       ]
      },
      {
       "output_type": "stream",
       "stream": "stderr",
       "text": [
        "[2013-01-22 18:59:20] DEBUG: SundialsIntegrator: t=1.77e-12, last_dmdt=2.5e+03 * stopping_dmdt, next dt=1.5e-14.\n"
       ]
      },
      {
       "output_type": "stream",
       "stream": "stderr",
       "text": [
        "[2013-01-22 18:59:20] DEBUG: SundialsIntegrator: dmdt 1.00026191213 times larger than last time (counting 117/500).\n"
       ]
      },
      {
       "output_type": "stream",
       "stream": "stderr",
       "text": [
        "[2013-01-22 18:59:20] DEBUG: SundialsIntegrator: t=1.78e-12, last_dmdt=2.5e+03 * stopping_dmdt, next dt=1.5e-14.\n"
       ]
      },
      {
       "output_type": "stream",
       "stream": "stderr",
       "text": [
        "[2013-01-22 18:59:20] DEBUG: SundialsIntegrator: dmdt 1.00026109493 times larger than last time (counting 118/500).\n"
       ]
      },
      {
       "output_type": "stream",
       "stream": "stderr",
       "text": [
        "[2013-01-22 18:59:20] DEBUG: SundialsIntegrator: t=1.8e-12, last_dmdt=2.5e+03 * stopping_dmdt, next dt=1.5e-14.\n"
       ]
      },
      {
       "output_type": "stream",
       "stream": "stderr",
       "text": [
        "[2013-01-22 18:59:20] DEBUG: SundialsIntegrator: dmdt 1.00026027865 times larger than last time (counting 119/500).\n"
       ]
      },
      {
       "output_type": "stream",
       "stream": "stderr",
       "text": [
        "[2013-01-22 18:59:20] DEBUG: SundialsIntegrator: t=1.81e-12, last_dmdt=2.5e+03 * stopping_dmdt, next dt=1.5e-14.\n"
       ]
      },
      {
       "output_type": "stream",
       "stream": "stderr",
       "text": [
        "[2013-01-22 18:59:20] DEBUG: SundialsIntegrator: dmdt 1.00025946257 times larger than last time (counting 120/500).\n"
       ]
      },
      {
       "output_type": "stream",
       "stream": "stderr",
       "text": [
        "[2013-01-22 18:59:20] DEBUG: SundialsIntegrator: t=1.83e-12, last_dmdt=2.5e+03 * stopping_dmdt, next dt=1.5e-14.\n"
       ]
      },
      {
       "output_type": "stream",
       "stream": "stderr",
       "text": [
        "[2013-01-22 18:59:20] DEBUG: SundialsIntegrator: dmdt 1.00025864688 times larger than last time (counting 121/500).\n"
       ]
      },
      {
       "output_type": "stream",
       "stream": "stderr",
       "text": [
        "[2013-01-22 18:59:20] DEBUG: SundialsIntegrator: t=1.84e-12, last_dmdt=2.5e+03 * stopping_dmdt, next dt=1.5e-14.\n"
       ]
      },
      {
       "output_type": "stream",
       "stream": "stderr",
       "text": [
        "[2013-01-22 18:59:20] DEBUG: SundialsIntegrator: dmdt 1.00025783158 times larger than last time (counting 122/500).\n"
       ]
      },
      {
       "output_type": "stream",
       "stream": "stderr",
       "text": [
        "[2013-01-22 18:59:20] DEBUG: SundialsIntegrator: t=1.86e-12, last_dmdt=2.5e+03 * stopping_dmdt, next dt=1.5e-14.\n"
       ]
      },
      {
       "output_type": "stream",
       "stream": "stderr",
       "text": [
        "[2013-01-22 18:59:20] DEBUG: SundialsIntegrator: dmdt 1.00025701664 times larger than last time (counting 123/500).\n"
       ]
      },
      {
       "output_type": "stream",
       "stream": "stderr",
       "text": [
        "[2013-01-22 18:59:20] DEBUG: SundialsIntegrator: t=1.87e-12, last_dmdt=2.5e+03 * stopping_dmdt, next dt=1.5e-14.\n"
       ]
      },
      {
       "output_type": "stream",
       "stream": "stderr",
       "text": [
        "[2013-01-22 18:59:20] DEBUG: SundialsIntegrator: dmdt 1.00025620206 times larger than last time (counting 124/500).\n"
       ]
      },
      {
       "output_type": "stream",
       "stream": "stderr",
       "text": [
        "[2013-01-22 18:59:20] DEBUG: SundialsIntegrator: t=1.89e-12, last_dmdt=2.5e+03 * stopping_dmdt, next dt=1.5e-14.\n"
       ]
      },
      {
       "output_type": "stream",
       "stream": "stderr",
       "text": [
        "[2013-01-22 18:59:20] DEBUG: SundialsIntegrator: dmdt 1.00025538781 times larger than last time (counting 125/500).\n"
       ]
      },
      {
       "output_type": "stream",
       "stream": "stderr",
       "text": [
        "[2013-01-22 18:59:20] DEBUG: SundialsIntegrator: t=1.9e-12, last_dmdt=2.5e+03 * stopping_dmdt, next dt=1.5e-14.\n"
       ]
      },
      {
       "output_type": "stream",
       "stream": "stderr",
       "text": [
        "[2013-01-22 18:59:20] DEBUG: SundialsIntegrator: dmdt 1.00025457389 times larger than last time (counting 126/500).\n"
       ]
      },
      {
       "output_type": "stream",
       "stream": "stderr",
       "text": [
        "[2013-01-22 18:59:20] DEBUG: SundialsIntegrator: t=1.92e-12, last_dmdt=2.5e+03 * stopping_dmdt, next dt=1.5e-14.\n"
       ]
      },
      {
       "output_type": "stream",
       "stream": "stderr",
       "text": [
        "[2013-01-22 18:59:20] DEBUG: SundialsIntegrator: dmdt 1.00025376028 times larger than last time (counting 127/500).\n"
       ]
      },
      {
       "output_type": "stream",
       "stream": "stderr",
       "text": [
        "[2013-01-22 18:59:20] DEBUG: SundialsIntegrator: t=1.93e-12, last_dmdt=2.5e+03 * stopping_dmdt, next dt=1.5e-14.\n"
       ]
      },
      {
       "output_type": "stream",
       "stream": "stderr",
       "text": [
        "[2013-01-22 18:59:20] DEBUG: SundialsIntegrator: dmdt 1.00025294752 times larger than last time (counting 128/500).\n"
       ]
      },
      {
       "output_type": "stream",
       "stream": "stderr",
       "text": [
        "[2013-01-22 18:59:20] DEBUG: SundialsIntegrator: t=1.95e-12, last_dmdt=2.51e+03 * stopping_dmdt, next dt=1.5e-14.\n"
       ]
      },
      {
       "output_type": "stream",
       "stream": "stderr",
       "text": [
        "[2013-01-22 18:59:20] DEBUG: SundialsIntegrator: dmdt 1.00025213419 times larger than last time (counting 129/500).\n"
       ]
      },
      {
       "output_type": "stream",
       "stream": "stderr",
       "text": [
        "[2013-01-22 18:59:20] DEBUG: SundialsIntegrator: t=1.96e-12, last_dmdt=2.51e+03 * stopping_dmdt, next dt=1.5e-14.\n"
       ]
      },
      {
       "output_type": "stream",
       "stream": "stderr",
       "text": [
        "[2013-01-22 18:59:20] DEBUG: SundialsIntegrator: dmdt 1.00025132146 times larger than last time (counting 130/500).\n"
       ]
      },
      {
       "output_type": "stream",
       "stream": "stderr",
       "text": [
        "[2013-01-22 18:59:20] DEBUG: SundialsIntegrator: t=1.98e-12, last_dmdt=2.51e+03 * stopping_dmdt, next dt=1.5e-14.\n"
       ]
      },
      {
       "output_type": "stream",
       "stream": "stderr",
       "text": [
        "[2013-01-22 18:59:20] DEBUG: SundialsIntegrator: dmdt 1.000250509 times larger than last time (counting 131/500).\n"
       ]
      },
      {
       "output_type": "stream",
       "stream": "stderr",
       "text": [
        "[2013-01-22 18:59:20] DEBUG: SundialsIntegrator: t=1.99e-12, last_dmdt=2.51e+03 * stopping_dmdt, next dt=1.5e-14.\n"
       ]
      },
      {
       "output_type": "stream",
       "stream": "stderr",
       "text": [
        "[2013-01-22 18:59:20] DEBUG: SundialsIntegrator: dmdt 1.00024969678 times larger than last time (counting 132/500).\n"
       ]
      },
      {
       "output_type": "stream",
       "stream": "stderr",
       "text": [
        "[2013-01-22 18:59:20] DEBUG: SundialsIntegrator: t=2.01e-12, last_dmdt=2.51e+03 * stopping_dmdt, next dt=1.5e-14.\n"
       ]
      },
      {
       "output_type": "stream",
       "stream": "stderr",
       "text": [
        "[2013-01-22 18:59:20] DEBUG: SundialsIntegrator: dmdt 1.0002488848 times larger than last time (counting 133/500).\n"
       ]
      },
      {
       "output_type": "stream",
       "stream": "stderr",
       "text": [
        "[2013-01-22 18:59:20] DEBUG: SundialsIntegrator: t=2.02e-12, last_dmdt=2.51e+03 * stopping_dmdt, next dt=1.5e-14.\n"
       ]
      },
      {
       "output_type": "stream",
       "stream": "stderr",
       "text": [
        "[2013-01-22 18:59:20] DEBUG: SundialsIntegrator: dmdt 1.00024807302 times larger than last time (counting 134/500).\n"
       ]
      },
      {
       "output_type": "stream",
       "stream": "stderr",
       "text": [
        "[2013-01-22 18:59:20] DEBUG: SundialsIntegrator: t=2.04e-12, last_dmdt=2.51e+03 * stopping_dmdt, next dt=1.5e-14.\n"
       ]
      },
      {
       "output_type": "stream",
       "stream": "stderr",
       "text": [
        "[2013-01-22 18:59:20] DEBUG: SundialsIntegrator: dmdt 1.00024726145 times larger than last time (counting 135/500).\n"
       ]
      },
      {
       "output_type": "stream",
       "stream": "stderr",
       "text": [
        "[2013-01-22 18:59:20] DEBUG: SundialsIntegrator: t=2.05e-12, last_dmdt=2.51e+03 * stopping_dmdt, next dt=1.5e-14.\n"
       ]
      },
      {
       "output_type": "stream",
       "stream": "stderr",
       "text": [
        "[2013-01-22 18:59:20] DEBUG: SundialsIntegrator: dmdt 1.00024645007 times larger than last time (counting 136/500).\n"
       ]
      },
      {
       "output_type": "stream",
       "stream": "stderr",
       "text": [
        "[2013-01-22 18:59:20] DEBUG: SundialsIntegrator: t=2.07e-12, last_dmdt=2.51e+03 * stopping_dmdt, next dt=1.5e-14.\n"
       ]
      },
      {
       "output_type": "stream",
       "stream": "stderr",
       "text": [
        "[2013-01-22 18:59:20] DEBUG: SundialsIntegrator: dmdt 1.00024563886 times larger than last time (counting 137/500).\n"
       ]
      },
      {
       "output_type": "stream",
       "stream": "stderr",
       "text": [
        "[2013-01-22 18:59:20] DEBUG: SundialsIntegrator: t=2.08e-12, last_dmdt=2.51e+03 * stopping_dmdt, next dt=1.5e-14.\n"
       ]
      },
      {
       "output_type": "stream",
       "stream": "stderr",
       "text": [
        "[2013-01-22 18:59:20] DEBUG: SundialsIntegrator: dmdt 1.00024482922 times larger than last time (counting 138/500).\n"
       ]
      },
      {
       "output_type": "stream",
       "stream": "stderr",
       "text": [
        "[2013-01-22 18:59:20] DEBUG: SundialsIntegrator: t=2.09e-12, last_dmdt=2.51e+03 * stopping_dmdt, next dt=1.5e-14.\n"
       ]
      },
      {
       "output_type": "stream",
       "stream": "stderr",
       "text": [
        "[2013-01-22 18:59:20] DEBUG: SundialsIntegrator: dmdt 1.00024401797 times larger than last time (counting 139/500).\n"
       ]
      },
      {
       "output_type": "stream",
       "stream": "stderr",
       "text": [
        "[2013-01-22 18:59:20] DEBUG: SundialsIntegrator: t=2.11e-12, last_dmdt=2.51e+03 * stopping_dmdt, next dt=1.5e-14.\n"
       ]
      },
      {
       "output_type": "stream",
       "stream": "stderr",
       "text": [
        "[2013-01-22 18:59:20] DEBUG: SundialsIntegrator: dmdt 1.00024320703 times larger than last time (counting 140/500).\n"
       ]
      },
      {
       "output_type": "stream",
       "stream": "stderr",
       "text": [
        "[2013-01-22 18:59:20] DEBUG: SundialsIntegrator: t=2.12e-12, last_dmdt=2.51e+03 * stopping_dmdt, next dt=1.5e-14.\n"
       ]
      },
      {
       "output_type": "stream",
       "stream": "stderr",
       "text": [
        "[2013-01-22 18:59:20] DEBUG: SundialsIntegrator: dmdt 1.00024239654 times larger than last time (counting 141/500).\n"
       ]
      },
      {
       "output_type": "stream",
       "stream": "stderr",
       "text": [
        "[2013-01-22 18:59:20] DEBUG: SundialsIntegrator: t=2.14e-12, last_dmdt=2.51e+03 * stopping_dmdt, next dt=1.5e-14.\n"
       ]
      },
      {
       "output_type": "stream",
       "stream": "stderr",
       "text": [
        "[2013-01-22 18:59:20] DEBUG: SundialsIntegrator: dmdt 1.00024158617 times larger than last time (counting 142/500).\n"
       ]
      },
      {
       "output_type": "stream",
       "stream": "stderr",
       "text": [
        "[2013-01-22 18:59:20] DEBUG: SundialsIntegrator: t=2.15e-12, last_dmdt=2.51e+03 * stopping_dmdt, next dt=1.5e-14.\n"
       ]
      },
      {
       "output_type": "stream",
       "stream": "stderr",
       "text": [
        "[2013-01-22 18:59:20] DEBUG: SundialsIntegrator: dmdt 1.00024077591 times larger than last time (counting 143/500).\n"
       ]
      },
      {
       "output_type": "stream",
       "stream": "stderr",
       "text": [
        "[2013-01-22 18:59:20] DEBUG: SundialsIntegrator: t=2.17e-12, last_dmdt=2.51e+03 * stopping_dmdt, next dt=1.5e-14.\n"
       ]
      },
      {
       "output_type": "stream",
       "stream": "stderr",
       "text": [
        "[2013-01-22 18:59:20] DEBUG: SundialsIntegrator: dmdt 1.00023996574 times larger than last time (counting 144/500).\n"
       ]
      },
      {
       "output_type": "stream",
       "stream": "stderr",
       "text": [
        "[2013-01-22 18:59:20] DEBUG: SundialsIntegrator: t=2.18e-12, last_dmdt=2.52e+03 * stopping_dmdt, next dt=1.5e-14.\n"
       ]
      },
      {
       "output_type": "stream",
       "stream": "stderr",
       "text": [
        "[2013-01-22 18:59:20] DEBUG: SundialsIntegrator: dmdt 1.00023915565 times larger than last time (counting 145/500).\n"
       ]
      },
      {
       "output_type": "stream",
       "stream": "stderr",
       "text": [
        "[2013-01-22 18:59:20] DEBUG: SundialsIntegrator: t=2.2e-12, last_dmdt=2.52e+03 * stopping_dmdt, next dt=1.5e-14.\n"
       ]
      },
      {
       "output_type": "stream",
       "stream": "stderr",
       "text": [
        "[2013-01-22 18:59:20] DEBUG: SundialsIntegrator: dmdt 1.0002590412 times larger than last time (counting 146/500).\n"
       ]
      },
      {
       "output_type": "stream",
       "stream": "stderr",
       "text": [
        "[2013-01-22 18:59:20] DEBUG: SundialsIntegrator: t=2.21e-12, last_dmdt=2.52e+03 * stopping_dmdt, next dt=1.5e-14.\n"
       ]
      },
      {
       "output_type": "stream",
       "stream": "stderr",
       "text": [
        "[2013-01-22 18:59:20] DEBUG: SundialsIntegrator: dmdt 1.00028361392 times larger than last time (counting 147/500).\n"
       ]
      },
      {
       "output_type": "stream",
       "stream": "stderr",
       "text": [
        "[2013-01-22 18:59:20] DEBUG: SundialsIntegrator: t=2.23e-12, last_dmdt=2.52e+03 * stopping_dmdt, next dt=1.5e-14.\n"
       ]
      },
      {
       "output_type": "stream",
       "stream": "stderr",
       "text": [
        "[2013-01-22 18:59:20] DEBUG: SundialsIntegrator: dmdt 1.0002829118 times larger than last time (counting 148/500).\n"
       ]
      },
      {
       "output_type": "stream",
       "stream": "stderr",
       "text": [
        "[2013-01-22 18:59:20] DEBUG: SundialsIntegrator: t=2.24e-12, last_dmdt=2.52e+03 * stopping_dmdt, next dt=1.5e-14.\n"
       ]
      },
      {
       "output_type": "stream",
       "stream": "stderr",
       "text": [
        "[2013-01-22 18:59:20] DEBUG: SundialsIntegrator: dmdt 1.00028221068 times larger than last time (counting 149/500).\n"
       ]
      },
      {
       "output_type": "stream",
       "stream": "stderr",
       "text": [
        "[2013-01-22 18:59:20] DEBUG: SundialsIntegrator: t=2.26e-12, last_dmdt=2.52e+03 * stopping_dmdt, next dt=1.5e-14.\n"
       ]
      },
      {
       "output_type": "stream",
       "stream": "stderr",
       "text": [
        "[2013-01-22 18:59:20] DEBUG: SundialsIntegrator: dmdt 1.00028151026 times larger than last time (counting 150/500).\n"
       ]
      },
      {
       "output_type": "stream",
       "stream": "stderr",
       "text": [
        "[2013-01-22 18:59:20] DEBUG: SundialsIntegrator: t=2.27e-12, last_dmdt=2.52e+03 * stopping_dmdt, next dt=1.5e-14.\n"
       ]
      },
      {
       "output_type": "stream",
       "stream": "stderr",
       "text": [
        "[2013-01-22 18:59:20] DEBUG: SundialsIntegrator: dmdt 1.00028080894 times larger than last time (counting 151/500).\n"
       ]
      },
      {
       "output_type": "stream",
       "stream": "stderr",
       "text": [
        "[2013-01-22 18:59:20] DEBUG: SundialsIntegrator: t=2.29e-12, last_dmdt=2.52e+03 * stopping_dmdt, next dt=1.5e-14.\n"
       ]
      },
      {
       "output_type": "stream",
       "stream": "stderr",
       "text": [
        "[2013-01-22 18:59:20] DEBUG: SundialsIntegrator: dmdt 1.00028010744 times larger than last time (counting 152/500).\n"
       ]
      },
      {
       "output_type": "stream",
       "stream": "stderr",
       "text": [
        "[2013-01-22 18:59:20] DEBUG: SundialsIntegrator: t=2.3e-12, last_dmdt=2.52e+03 * stopping_dmdt, next dt=1.5e-14.\n"
       ]
      },
      {
       "output_type": "stream",
       "stream": "stderr",
       "text": [
        "[2013-01-22 18:59:20] DEBUG: SundialsIntegrator: dmdt 1.00027940574 times larger than last time (counting 153/500).\n"
       ]
      },
      {
       "output_type": "stream",
       "stream": "stderr",
       "text": [
        "[2013-01-22 18:59:20] DEBUG: SundialsIntegrator: t=2.32e-12, last_dmdt=2.52e+03 * stopping_dmdt, next dt=1.5e-14.\n"
       ]
      },
      {
       "output_type": "stream",
       "stream": "stderr",
       "text": [
        "[2013-01-22 18:59:20] DEBUG: SundialsIntegrator: dmdt 1.00027870384 times larger than last time (counting 154/500).\n"
       ]
      },
      {
       "output_type": "stream",
       "stream": "stderr",
       "text": [
        "[2013-01-22 18:59:20] DEBUG: SundialsIntegrator: t=2.33e-12, last_dmdt=2.52e+03 * stopping_dmdt, next dt=1.5e-14.\n"
       ]
      },
      {
       "output_type": "stream",
       "stream": "stderr",
       "text": [
        "[2013-01-22 18:59:20] DEBUG: SundialsIntegrator: dmdt 1.0002780017 times larger than last time (counting 155/500).\n"
       ]
      },
      {
       "output_type": "stream",
       "stream": "stderr",
       "text": [
        "[2013-01-22 18:59:20] DEBUG: SundialsIntegrator: t=2.35e-12, last_dmdt=2.52e+03 * stopping_dmdt, next dt=1.5e-14.\n"
       ]
      },
      {
       "output_type": "stream",
       "stream": "stderr",
       "text": [
        "[2013-01-22 18:59:20] DEBUG: SundialsIntegrator: dmdt 1.00027729933 times larger than last time (counting 156/500).\n"
       ]
      },
      {
       "output_type": "stream",
       "stream": "stderr",
       "text": [
        "[2013-01-22 18:59:20] DEBUG: SundialsIntegrator: t=2.36e-12, last_dmdt=2.52e+03 * stopping_dmdt, next dt=1.5e-14.\n"
       ]
      },
      {
       "output_type": "stream",
       "stream": "stderr",
       "text": [
        "[2013-01-22 18:59:20] DEBUG: SundialsIntegrator: dmdt 1.00027659671 times larger than last time (counting 157/500).\n"
       ]
      },
      {
       "output_type": "stream",
       "stream": "stderr",
       "text": [
        "[2013-01-22 18:59:20] DEBUG: SundialsIntegrator: t=2.38e-12, last_dmdt=2.52e+03 * stopping_dmdt, next dt=1.5e-14.\n"
       ]
      },
      {
       "output_type": "stream",
       "stream": "stderr",
       "text": [
        "[2013-01-22 18:59:20] DEBUG: SundialsIntegrator: dmdt 1.00027570983 times larger than last time (counting 158/500).\n"
       ]
      },
      {
       "output_type": "stream",
       "stream": "stderr",
       "text": [
        "[2013-01-22 18:59:20] DEBUG: SundialsIntegrator: t=2.39e-12, last_dmdt=2.53e+03 * stopping_dmdt, next dt=1.5e-14.\n"
       ]
      },
      {
       "output_type": "stream",
       "stream": "stderr",
       "text": [
        "[2013-01-22 18:59:20] DEBUG: SundialsIntegrator: dmdt 1.00027481649 times larger than last time (counting 159/500).\n"
       ]
      },
      {
       "output_type": "stream",
       "stream": "stderr",
       "text": [
        "[2013-01-22 18:59:20] DEBUG: SundialsIntegrator: t=2.41e-12, last_dmdt=2.53e+03 * stopping_dmdt, next dt=1.5e-14.\n"
       ]
      },
      {
       "output_type": "stream",
       "stream": "stderr",
       "text": [
        "[2013-01-22 18:59:20] DEBUG: SundialsIntegrator: dmdt 1.00027427601 times larger than last time (counting 160/500).\n"
       ]
      },
      {
       "output_type": "stream",
       "stream": "stderr",
       "text": [
        "[2013-01-22 18:59:20] DEBUG: SundialsIntegrator: t=2.42e-12, last_dmdt=2.53e+03 * stopping_dmdt, next dt=1.5e-14.\n"
       ]
      },
      {
       "output_type": "stream",
       "stream": "stderr",
       "text": [
        "[2013-01-22 18:59:20] DEBUG: SundialsIntegrator: dmdt 1.00027353226 times larger than last time (counting 161/500).\n"
       ]
      },
      {
       "output_type": "stream",
       "stream": "stderr",
       "text": [
        "[2013-01-22 18:59:20] DEBUG: SundialsIntegrator: t=2.44e-12, last_dmdt=2.53e+03 * stopping_dmdt, next dt=1.5e-14.\n"
       ]
      },
      {
       "output_type": "stream",
       "stream": "stderr",
       "text": [
        "[2013-01-22 18:59:20] DEBUG: SundialsIntegrator: dmdt 1.00027278421 times larger than last time (counting 162/500).\n"
       ]
      },
      {
       "output_type": "stream",
       "stream": "stderr",
       "text": [
        "[2013-01-22 18:59:20] DEBUG: SundialsIntegrator: t=2.45e-12, last_dmdt=2.53e+03 * stopping_dmdt, next dt=1.5e-14.\n"
       ]
      },
      {
       "output_type": "stream",
       "stream": "stderr",
       "text": [
        "[2013-01-22 18:59:20] DEBUG: SundialsIntegrator: dmdt 1.00027203169 times larger than last time (counting 163/500).\n"
       ]
      },
      {
       "output_type": "stream",
       "stream": "stderr",
       "text": [
        "[2013-01-22 18:59:20] DEBUG: SundialsIntegrator: t=2.47e-12, last_dmdt=2.53e+03 * stopping_dmdt, next dt=1.5e-14.\n"
       ]
      },
      {
       "output_type": "stream",
       "stream": "stderr",
       "text": [
        "[2013-01-22 18:59:20] DEBUG: SundialsIntegrator: dmdt 1.00027127453 times larger than last time (counting 164/500).\n"
       ]
      },
      {
       "output_type": "stream",
       "stream": "stderr",
       "text": [
        "[2013-01-22 18:59:20] DEBUG: SundialsIntegrator: t=2.48e-12, last_dmdt=2.53e+03 * stopping_dmdt, next dt=1.5e-14.\n"
       ]
      },
      {
       "output_type": "stream",
       "stream": "stderr",
       "text": [
        "[2013-01-22 18:59:20] DEBUG: SundialsIntegrator: dmdt 1.00027051255 times larger than last time (counting 165/500).\n"
       ]
      },
      {
       "output_type": "stream",
       "stream": "stderr",
       "text": [
        "[2013-01-22 18:59:20] DEBUG: SundialsIntegrator: t=2.5e-12, last_dmdt=2.53e+03 * stopping_dmdt, next dt=1.5e-14.\n"
       ]
      },
      {
       "output_type": "stream",
       "stream": "stderr",
       "text": [
        "[2013-01-22 18:59:20] DEBUG: SundialsIntegrator: dmdt 1.00026974559 times larger than last time (counting 166/500).\n"
       ]
      },
      {
       "output_type": "stream",
       "stream": "stderr",
       "text": [
        "[2013-01-22 18:59:20] DEBUG: SundialsIntegrator: t=2.51e-12, last_dmdt=2.53e+03 * stopping_dmdt, next dt=1.5e-14.\n"
       ]
      },
      {
       "output_type": "stream",
       "stream": "stderr",
       "text": [
        "[2013-01-22 18:59:20] DEBUG: SundialsIntegrator: dmdt 1.00026897347 times larger than last time (counting 167/500).\n"
       ]
      },
      {
       "output_type": "stream",
       "stream": "stderr",
       "text": [
        "[2013-01-22 18:59:20] DEBUG: SundialsIntegrator: t=2.53e-12, last_dmdt=2.53e+03 * stopping_dmdt, next dt=1.5e-14.\n"
       ]
      },
      {
       "output_type": "stream",
       "stream": "stderr",
       "text": [
        "[2013-01-22 18:59:20] DEBUG: SundialsIntegrator: dmdt 1.0002684945 times larger than last time (counting 168/500).\n"
       ]
      },
      {
       "output_type": "stream",
       "stream": "stderr",
       "text": [
        "[2013-01-22 18:59:20] DEBUG: SundialsIntegrator: t=2.54e-12, last_dmdt=2.53e+03 * stopping_dmdt, next dt=1.5e-14.\n"
       ]
      },
      {
       "output_type": "stream",
       "stream": "stderr",
       "text": [
        "[2013-01-22 18:59:20] DEBUG: SundialsIntegrator: dmdt 1.00026861481 times larger than last time (counting 169/500).\n"
       ]
      },
      {
       "output_type": "stream",
       "stream": "stderr",
       "text": [
        "[2013-01-22 18:59:20] DEBUG: SundialsIntegrator: t=2.56e-12, last_dmdt=2.53e+03 * stopping_dmdt, next dt=1.5e-14.\n"
       ]
      },
      {
       "output_type": "stream",
       "stream": "stderr",
       "text": [
        "[2013-01-22 18:59:20] DEBUG: SundialsIntegrator: dmdt 1.00026720937 times larger than last time (counting 170/500).\n"
       ]
      },
      {
       "output_type": "stream",
       "stream": "stderr",
       "text": [
        "[2013-01-22 18:59:20] DEBUG: SundialsIntegrator: t=2.57e-12, last_dmdt=2.53e+03 * stopping_dmdt, next dt=1.5e-14.\n"
       ]
      },
      {
       "output_type": "stream",
       "stream": "stderr",
       "text": [
        "[2013-01-22 18:59:20] DEBUG: SundialsIntegrator: dmdt 1.00026652735 times larger than last time (counting 171/500).\n"
       ]
      },
      {
       "output_type": "stream",
       "stream": "stderr",
       "text": [
        "[2013-01-22 18:59:20] DEBUG: SundialsIntegrator: t=2.59e-12, last_dmdt=2.53e+03 * stopping_dmdt, next dt=1.5e-14.\n"
       ]
      },
      {
       "output_type": "stream",
       "stream": "stderr",
       "text": [
        "[2013-01-22 18:59:20] DEBUG: SundialsIntegrator: dmdt 1.00026585064 times larger than last time (counting 172/500).\n"
       ]
      },
      {
       "output_type": "stream",
       "stream": "stderr",
       "text": [
        "[2013-01-22 18:59:20] DEBUG: SundialsIntegrator: t=2.6e-12, last_dmdt=2.53e+03 * stopping_dmdt, next dt=1.5e-14.\n"
       ]
      },
      {
       "output_type": "stream",
       "stream": "stderr",
       "text": [
        "[2013-01-22 18:59:20] DEBUG: SundialsIntegrator: dmdt 1.00026517955 times larger than last time (counting 173/500).\n"
       ]
      },
      {
       "output_type": "stream",
       "stream": "stderr",
       "text": [
        "[2013-01-22 18:59:20] DEBUG: SundialsIntegrator: t=2.62e-12, last_dmdt=2.54e+03 * stopping_dmdt, next dt=1.5e-14.\n"
       ]
      },
      {
       "output_type": "stream",
       "stream": "stderr",
       "text": [
        "[2013-01-22 18:59:20] DEBUG: SundialsIntegrator: dmdt 1.00026451436 times larger than last time (counting 174/500).\n"
       ]
      },
      {
       "output_type": "stream",
       "stream": "stderr",
       "text": [
        "[2013-01-22 18:59:20] DEBUG: SundialsIntegrator: t=2.63e-12, last_dmdt=2.54e+03 * stopping_dmdt, next dt=1.5e-14.\n"
       ]
      },
      {
       "output_type": "stream",
       "stream": "stderr",
       "text": [
        "[2013-01-22 18:59:20] DEBUG: SundialsIntegrator: dmdt 1.00026385535 times larger than last time (counting 175/500).\n"
       ]
      },
      {
       "output_type": "stream",
       "stream": "stderr",
       "text": [
        "[2013-01-22 18:59:20] DEBUG: SundialsIntegrator: t=2.65e-12, last_dmdt=2.54e+03 * stopping_dmdt, next dt=1.5e-14.\n"
       ]
      },
      {
       "output_type": "stream",
       "stream": "stderr",
       "text": [
        "[2013-01-22 18:59:20] DEBUG: SundialsIntegrator: dmdt 1.00026320283 times larger than last time (counting 176/500).\n"
       ]
      },
      {
       "output_type": "stream",
       "stream": "stderr",
       "text": [
        "[2013-01-22 18:59:20] DEBUG: SundialsIntegrator: t=2.66e-12, last_dmdt=2.54e+03 * stopping_dmdt, next dt=1.5e-14.\n"
       ]
      },
      {
       "output_type": "stream",
       "stream": "stderr",
       "text": [
        "[2013-01-22 18:59:20] DEBUG: SundialsIntegrator: dmdt 1.00026255707 times larger than last time (counting 177/500).\n"
       ]
      },
      {
       "output_type": "stream",
       "stream": "stderr",
       "text": [
        "[2013-01-22 18:59:20] DEBUG: SundialsIntegrator: t=2.68e-12, last_dmdt=2.54e+03 * stopping_dmdt, next dt=1.5e-14.\n"
       ]
      },
      {
       "output_type": "stream",
       "stream": "stderr",
       "text": [
        "[2013-01-22 18:59:20] DEBUG: SundialsIntegrator: dmdt 1.00026186589 times larger than last time (counting 178/500).\n"
       ]
      },
      {
       "output_type": "stream",
       "stream": "stderr",
       "text": [
        "[2013-01-22 18:59:20] DEBUG: SundialsIntegrator: t=2.69e-12, last_dmdt=2.54e+03 * stopping_dmdt, next dt=1.5e-14.\n"
       ]
      },
      {
       "output_type": "stream",
       "stream": "stderr",
       "text": [
        "[2013-01-22 18:59:20] DEBUG: SundialsIntegrator: dmdt 1.00026047999 times larger than last time (counting 179/500).\n"
       ]
      },
      {
       "output_type": "stream",
       "stream": "stderr",
       "text": [
        "[2013-01-22 18:59:20] DEBUG: SundialsIntegrator: t=2.71e-12, last_dmdt=2.54e+03 * stopping_dmdt, next dt=1.5e-14.\n"
       ]
      },
      {
       "output_type": "stream",
       "stream": "stderr",
       "text": [
        "[2013-01-22 18:59:20] DEBUG: SundialsIntegrator: dmdt 1.00026031741 times larger than last time (counting 180/500).\n"
       ]
      },
      {
       "output_type": "stream",
       "stream": "stderr",
       "text": [
        "[2013-01-22 18:59:20] DEBUG: SundialsIntegrator: t=2.72e-12, last_dmdt=2.54e+03 * stopping_dmdt, next dt=1.5e-14.\n"
       ]
      },
      {
       "output_type": "stream",
       "stream": "stderr",
       "text": [
        "[2013-01-22 18:59:20] DEBUG: SundialsIntegrator: dmdt 1.000259634 times larger than last time (counting 181/500).\n"
       ]
      },
      {
       "output_type": "stream",
       "stream": "stderr",
       "text": [
        "[2013-01-22 18:59:20] DEBUG: SundialsIntegrator: t=2.74e-12, last_dmdt=2.54e+03 * stopping_dmdt, next dt=1.5e-14.\n"
       ]
      },
      {
       "output_type": "stream",
       "stream": "stderr",
       "text": [
        "[2013-01-22 18:59:20] DEBUG: SundialsIntegrator: dmdt 1.00025895187 times larger than last time (counting 182/500).\n"
       ]
      },
      {
       "output_type": "stream",
       "stream": "stderr",
       "text": [
        "[2013-01-22 18:59:20] DEBUG: SundialsIntegrator: t=2.75e-12, last_dmdt=2.54e+03 * stopping_dmdt, next dt=1.5e-14.\n"
       ]
      },
      {
       "output_type": "stream",
       "stream": "stderr",
       "text": [
        "[2013-01-22 18:59:20] DEBUG: SundialsIntegrator: dmdt 1.00025827102 times larger than last time (counting 183/500).\n"
       ]
      },
      {
       "output_type": "stream",
       "stream": "stderr",
       "text": [
        "[2013-01-22 18:59:20] DEBUG: SundialsIntegrator: t=2.77e-12, last_dmdt=2.54e+03 * stopping_dmdt, next dt=1.5e-14.\n"
       ]
      },
      {
       "output_type": "stream",
       "stream": "stderr",
       "text": [
        "[2013-01-22 18:59:20] DEBUG: SundialsIntegrator: dmdt 1.00025759143 times larger than last time (counting 184/500).\n"
       ]
      },
      {
       "output_type": "stream",
       "stream": "stderr",
       "text": [
        "[2013-01-22 18:59:20] DEBUG: SundialsIntegrator: t=2.78e-12, last_dmdt=2.54e+03 * stopping_dmdt, next dt=1.5e-14.\n"
       ]
      },
      {
       "output_type": "stream",
       "stream": "stderr",
       "text": [
        "[2013-01-22 18:59:20] DEBUG: SundialsIntegrator: dmdt 1.0002569131 times larger than last time (counting 185/500).\n"
       ]
      },
      {
       "output_type": "stream",
       "stream": "stderr",
       "text": [
        "[2013-01-22 18:59:20] DEBUG: SundialsIntegrator: t=2.8e-12, last_dmdt=2.54e+03 * stopping_dmdt, next dt=1.5e-14.\n"
       ]
      },
      {
       "output_type": "stream",
       "stream": "stderr",
       "text": [
        "[2013-01-22 18:59:20] DEBUG: SundialsIntegrator: dmdt 1.00025623602 times larger than last time (counting 186/500).\n"
       ]
      },
      {
       "output_type": "stream",
       "stream": "stderr",
       "text": [
        "[2013-01-22 18:59:20] DEBUG: SundialsIntegrator: t=2.81e-12, last_dmdt=2.54e+03 * stopping_dmdt, next dt=1.5e-14.\n"
       ]
      },
      {
       "output_type": "stream",
       "stream": "stderr",
       "text": [
        "[2013-01-22 18:59:20] DEBUG: SundialsIntegrator: dmdt 1.00025556017 times larger than last time (counting 187/500).\n"
       ]
      },
      {
       "output_type": "stream",
       "stream": "stderr",
       "text": [
        "[2013-01-22 18:59:20] DEBUG: SundialsIntegrator: t=2.83e-12, last_dmdt=2.54e+03 * stopping_dmdt, next dt=1.5e-14.\n"
       ]
      },
      {
       "output_type": "stream",
       "stream": "stderr",
       "text": [
        "[2013-01-22 18:59:20] DEBUG: SundialsIntegrator: dmdt 1.00025488554 times larger than last time (counting 188/500).\n"
       ]
      },
      {
       "output_type": "stream",
       "stream": "stderr",
       "text": [
        "[2013-01-22 18:59:20] DEBUG: SundialsIntegrator: t=2.84e-12, last_dmdt=2.55e+03 * stopping_dmdt, next dt=1.5e-14.\n"
       ]
      },
      {
       "output_type": "stream",
       "stream": "stderr",
       "text": [
        "[2013-01-22 18:59:20] DEBUG: SundialsIntegrator: dmdt 1.00025366073 times larger than last time (counting 189/500).\n"
       ]
      },
      {
       "output_type": "stream",
       "stream": "stderr",
       "text": [
        "[2013-01-22 18:59:20] DEBUG: SundialsIntegrator: t=2.86e-12, last_dmdt=2.55e+03 * stopping_dmdt, next dt=1.5e-14.\n"
       ]
      },
      {
       "output_type": "stream",
       "stream": "stderr",
       "text": [
        "[2013-01-22 18:59:20] DEBUG: SundialsIntegrator: dmdt 1.00025323843 times larger than last time (counting 190/500).\n"
       ]
      },
      {
       "output_type": "stream",
       "stream": "stderr",
       "text": [
        "[2013-01-22 18:59:20] DEBUG: SundialsIntegrator: t=2.87e-12, last_dmdt=2.55e+03 * stopping_dmdt, next dt=1.5e-14.\n"
       ]
      },
      {
       "output_type": "stream",
       "stream": "stderr",
       "text": [
        "[2013-01-22 18:59:20] DEBUG: SundialsIntegrator: dmdt 1.00025256902 times larger than last time (counting 191/500).\n"
       ]
      },
      {
       "output_type": "stream",
       "stream": "stderr",
       "text": [
        "[2013-01-22 18:59:20] DEBUG: SundialsIntegrator: t=2.89e-12, last_dmdt=2.55e+03 * stopping_dmdt, next dt=1.5e-14.\n"
       ]
      },
      {
       "output_type": "stream",
       "stream": "stderr",
       "text": [
        "[2013-01-22 18:59:20] DEBUG: SundialsIntegrator: dmdt 1.00025184455 times larger than last time (counting 192/500).\n"
       ]
      },
      {
       "output_type": "stream",
       "stream": "stderr",
       "text": [
        "[2013-01-22 18:59:20] DEBUG: SundialsIntegrator: t=2.9e-12, last_dmdt=2.55e+03 * stopping_dmdt, next dt=1.5e-14.\n"
       ]
      },
      {
       "output_type": "stream",
       "stream": "stderr",
       "text": [
        "[2013-01-22 18:59:20] DEBUG: SundialsIntegrator: dmdt 1.00025111596 times larger than last time (counting 193/500).\n"
       ]
      },
      {
       "output_type": "stream",
       "stream": "stderr",
       "text": [
        "[2013-01-22 18:59:20] DEBUG: SundialsIntegrator: t=2.92e-12, last_dmdt=2.55e+03 * stopping_dmdt, next dt=1.5e-14.\n"
       ]
      },
      {
       "output_type": "stream",
       "stream": "stderr",
       "text": [
        "[2013-01-22 18:59:20] DEBUG: SundialsIntegrator: dmdt 1.00025038304 times larger than last time (counting 194/500).\n"
       ]
      },
      {
       "output_type": "stream",
       "stream": "stderr",
       "text": [
        "[2013-01-22 18:59:20] DEBUG: SundialsIntegrator: t=2.93e-12, last_dmdt=2.55e+03 * stopping_dmdt, next dt=1.5e-14.\n"
       ]
      },
      {
       "output_type": "stream",
       "stream": "stderr",
       "text": [
        "[2013-01-22 18:59:20] DEBUG: SundialsIntegrator: dmdt 1.00024964557 times larger than last time (counting 195/500).\n"
       ]
      },
      {
       "output_type": "stream",
       "stream": "stderr",
       "text": [
        "[2013-01-22 18:59:20] DEBUG: SundialsIntegrator: t=2.95e-12, last_dmdt=2.55e+03 * stopping_dmdt, next dt=1.5e-14.\n"
       ]
      },
      {
       "output_type": "stream",
       "stream": "stderr",
       "text": [
        "[2013-01-22 18:59:20] DEBUG: SundialsIntegrator: dmdt 1.00024890334 times larger than last time (counting 196/500).\n"
       ]
      },
      {
       "output_type": "stream",
       "stream": "stderr",
       "text": [
        "[2013-01-22 18:59:20] DEBUG: SundialsIntegrator: t=2.96e-12, last_dmdt=2.55e+03 * stopping_dmdt, next dt=1.5e-14.\n"
       ]
      },
      {
       "output_type": "stream",
       "stream": "stderr",
       "text": [
        "[2013-01-22 18:59:20] DEBUG: SundialsIntegrator: dmdt 1.00024815613 times larger than last time (counting 197/500).\n"
       ]
      },
      {
       "output_type": "stream",
       "stream": "stderr",
       "text": [
        "[2013-01-22 18:59:20] DEBUG: SundialsIntegrator: t=2.98e-12, last_dmdt=2.55e+03 * stopping_dmdt, next dt=1.5e-14.\n"
       ]
      },
      {
       "output_type": "stream",
       "stream": "stderr",
       "text": [
        "[2013-01-22 18:59:20] DEBUG: SundialsIntegrator: dmdt 1.00024740374 times larger than last time (counting 198/500).\n"
       ]
      },
      {
       "output_type": "stream",
       "stream": "stderr",
       "text": [
        "[2013-01-22 18:59:20] DEBUG: SundialsIntegrator: t=2.99e-12, last_dmdt=2.55e+03 * stopping_dmdt, next dt=1.5e-14.\n"
       ]
      },
      {
       "output_type": "stream",
       "stream": "stderr",
       "text": [
        "[2013-01-22 18:59:20] DEBUG: SundialsIntegrator: dmdt 1.00024686551 times larger than last time (counting 199/500).\n"
       ]
      },
      {
       "output_type": "stream",
       "stream": "stderr",
       "text": [
        "[2013-01-22 18:59:20] DEBUG: SundialsIntegrator: t=3.01e-12, last_dmdt=2.55e+03 * stopping_dmdt, next dt=1.5e-14.\n"
       ]
      },
      {
       "output_type": "stream",
       "stream": "stderr",
       "text": [
        "[2013-01-22 18:59:20] DEBUG: SundialsIntegrator: dmdt 1.00024607621 times larger than last time (counting 200/500).\n"
       ]
      },
      {
       "output_type": "stream",
       "stream": "stderr",
       "text": [
        "[2013-01-22 18:59:20] DEBUG: SundialsIntegrator: t=3.02e-12, last_dmdt=2.55e+03 * stopping_dmdt, next dt=1.5e-14.\n"
       ]
      },
      {
       "output_type": "stream",
       "stream": "stderr",
       "text": [
        "[2013-01-22 18:59:20] DEBUG: SundialsIntegrator: dmdt 1.0002452627 times larger than last time (counting 201/500).\n"
       ]
      },
      {
       "output_type": "stream",
       "stream": "stderr",
       "text": [
        "[2013-01-22 18:59:20] DEBUG: SundialsIntegrator: t=3.04e-12, last_dmdt=2.55e+03 * stopping_dmdt, next dt=1.5e-14.\n"
       ]
      },
      {
       "output_type": "stream",
       "stream": "stderr",
       "text": [
        "[2013-01-22 18:59:20] DEBUG: SundialsIntegrator: dmdt 1.00024451513 times larger than last time (counting 202/500).\n"
       ]
      },
      {
       "output_type": "stream",
       "stream": "stderr",
       "text": [
        "[2013-01-22 18:59:20] DEBUG: SundialsIntegrator: t=3.05e-12, last_dmdt=2.55e+03 * stopping_dmdt, next dt=1.5e-14.\n"
       ]
      },
      {
       "output_type": "stream",
       "stream": "stderr",
       "text": [
        "[2013-01-22 18:59:20] DEBUG: SundialsIntegrator: dmdt 1.00024376406 times larger than last time (counting 203/500).\n"
       ]
      },
      {
       "output_type": "stream",
       "stream": "stderr",
       "text": [
        "[2013-01-22 18:59:20] DEBUG: SundialsIntegrator: t=3.07e-12, last_dmdt=2.55e+03 * stopping_dmdt, next dt=1.5e-14.\n"
       ]
      },
      {
       "output_type": "stream",
       "stream": "stderr",
       "text": [
        "[2013-01-22 18:59:20] DEBUG: SundialsIntegrator: dmdt 1.00024300938 times larger than last time (counting 204/500).\n"
       ]
      },
      {
       "output_type": "stream",
       "stream": "stderr",
       "text": [
        "[2013-01-22 18:59:20] DEBUG: SundialsIntegrator: t=3.08e-12, last_dmdt=2.56e+03 * stopping_dmdt, next dt=1.5e-14.\n"
       ]
      },
      {
       "output_type": "stream",
       "stream": "stderr",
       "text": [
        "[2013-01-22 18:59:20] DEBUG: SundialsIntegrator: dmdt 1.00024225101 times larger than last time (counting 205/500).\n"
       ]
      },
      {
       "output_type": "stream",
       "stream": "stderr",
       "text": [
        "[2013-01-22 18:59:20] DEBUG: SundialsIntegrator: t=3.1e-12, last_dmdt=2.56e+03 * stopping_dmdt, next dt=1.5e-14.\n"
       ]
      },
      {
       "output_type": "stream",
       "stream": "stderr",
       "text": [
        "[2013-01-22 18:59:20] DEBUG: SundialsIntegrator: dmdt 1.00024148885 times larger than last time (counting 206/500).\n"
       ]
      },
      {
       "output_type": "stream",
       "stream": "stderr",
       "text": [
        "[2013-01-22 18:59:20] DEBUG: SundialsIntegrator: t=3.11e-12, last_dmdt=2.56e+03 * stopping_dmdt, next dt=1.5e-14.\n"
       ]
      },
      {
       "output_type": "stream",
       "stream": "stderr",
       "text": [
        "[2013-01-22 18:59:20] DEBUG: SundialsIntegrator: dmdt 1.0002407228 times larger than last time (counting 207/500).\n"
       ]
      },
      {
       "output_type": "stream",
       "stream": "stderr",
       "text": [
        "[2013-01-22 18:59:20] DEBUG: SundialsIntegrator: t=3.13e-12, last_dmdt=2.56e+03 * stopping_dmdt, next dt=1.5e-14.\n"
       ]
      },
      {
       "output_type": "stream",
       "stream": "stderr",
       "text": [
        "[2013-01-22 18:59:20] DEBUG: SundialsIntegrator: dmdt 1.00023995279 times larger than last time (counting 208/500).\n"
       ]
      },
      {
       "output_type": "stream",
       "stream": "stderr",
       "text": [
        "[2013-01-22 18:59:20] DEBUG: SundialsIntegrator: t=3.14e-12, last_dmdt=2.56e+03 * stopping_dmdt, next dt=1.5e-14.\n"
       ]
      },
      {
       "output_type": "stream",
       "stream": "stderr",
       "text": [
        "[2013-01-22 18:59:20] DEBUG: SundialsIntegrator: dmdt 1.00023941337 times larger than last time (counting 209/500).\n"
       ]
      },
      {
       "output_type": "stream",
       "stream": "stderr",
       "text": [
        "[2013-01-22 18:59:20] DEBUG: SundialsIntegrator: t=3.16e-12, last_dmdt=2.56e+03 * stopping_dmdt, next dt=1.5e-14.\n"
       ]
      },
      {
       "output_type": "stream",
       "stream": "stderr",
       "text": [
        "[2013-01-22 18:59:20] DEBUG: SundialsIntegrator: dmdt 1.00023873674 times larger than last time (counting 210/500).\n"
       ]
      },
      {
       "output_type": "stream",
       "stream": "stderr",
       "text": [
        "[2013-01-22 18:59:20] DEBUG: SundialsIntegrator: t=3.17e-12, last_dmdt=2.56e+03 * stopping_dmdt, next dt=1.5e-14.\n"
       ]
      },
      {
       "output_type": "stream",
       "stream": "stderr",
       "text": [
        "[2013-01-22 18:59:20] DEBUG: SundialsIntegrator: dmdt 1.00023783005 times larger than last time (counting 211/500).\n"
       ]
      },
      {
       "output_type": "stream",
       "stream": "stderr",
       "text": [
        "[2013-01-22 18:59:20] DEBUG: SundialsIntegrator: t=3.19e-12, last_dmdt=2.56e+03 * stopping_dmdt, next dt=1.5e-14.\n"
       ]
      },
      {
       "output_type": "stream",
       "stream": "stderr",
       "text": [
        "[2013-01-22 18:59:20] DEBUG: SundialsIntegrator: dmdt 1.00023708302 times larger than last time (counting 212/500).\n"
       ]
      },
      {
       "output_type": "stream",
       "stream": "stderr",
       "text": [
        "[2013-01-22 18:59:20] DEBUG: SundialsIntegrator: t=3.2e-12, last_dmdt=2.56e+03 * stopping_dmdt, next dt=1.5e-14.\n"
       ]
      },
      {
       "output_type": "stream",
       "stream": "stderr",
       "text": [
        "[2013-01-22 18:59:20] DEBUG: SundialsIntegrator: dmdt 1.00023633549 times larger than last time (counting 213/500).\n"
       ]
      },
      {
       "output_type": "stream",
       "stream": "stderr",
       "text": [
        "[2013-01-22 18:59:20] DEBUG: SundialsIntegrator: t=3.22e-12, last_dmdt=2.56e+03 * stopping_dmdt, next dt=1.5e-14.\n"
       ]
      },
      {
       "output_type": "stream",
       "stream": "stderr",
       "text": [
        "[2013-01-22 18:59:20] DEBUG: SundialsIntegrator: dmdt 1.00023558754 times larger than last time (counting 214/500).\n"
       ]
      },
      {
       "output_type": "stream",
       "stream": "stderr",
       "text": [
        "[2013-01-22 18:59:20] DEBUG: SundialsIntegrator: t=3.23e-12, last_dmdt=2.56e+03 * stopping_dmdt, next dt=1.5e-14.\n"
       ]
      },
      {
       "output_type": "stream",
       "stream": "stderr",
       "text": [
        "[2013-01-22 18:59:20] DEBUG: SundialsIntegrator: dmdt 1.00023483924 times larger than last time (counting 215/500).\n"
       ]
      },
      {
       "output_type": "stream",
       "stream": "stderr",
       "text": [
        "[2013-01-22 18:59:20] DEBUG: SundialsIntegrator: t=3.25e-12, last_dmdt=2.56e+03 * stopping_dmdt, next dt=1.5e-14.\n"
       ]
      },
      {
       "output_type": "stream",
       "stream": "stderr",
       "text": [
        "[2013-01-22 18:59:20] DEBUG: SundialsIntegrator: dmdt 1.00023409065 times larger than last time (counting 216/500).\n"
       ]
      },
      {
       "output_type": "stream",
       "stream": "stderr",
       "text": [
        "[2013-01-22 18:59:20] DEBUG: SundialsIntegrator: t=3.26e-12, last_dmdt=2.56e+03 * stopping_dmdt, next dt=1.5e-14.\n"
       ]
      },
      {
       "output_type": "stream",
       "stream": "stderr",
       "text": [
        "[2013-01-22 18:59:20] DEBUG: SundialsIntegrator: dmdt 1.00023334184 times larger than last time (counting 217/500).\n"
       ]
      },
      {
       "output_type": "stream",
       "stream": "stderr",
       "text": [
        "[2013-01-22 18:59:20] DEBUG: SundialsIntegrator: t=3.28e-12, last_dmdt=2.56e+03 * stopping_dmdt, next dt=1.5e-14.\n"
       ]
      },
      {
       "output_type": "stream",
       "stream": "stderr",
       "text": [
        "[2013-01-22 18:59:20] DEBUG: SundialsIntegrator: dmdt 1.00023259288 times larger than last time (counting 218/500).\n"
       ]
      },
      {
       "output_type": "stream",
       "stream": "stderr",
       "text": [
        "[2013-01-22 18:59:20] DEBUG: SundialsIntegrator: t=3.29e-12, last_dmdt=2.56e+03 * stopping_dmdt, next dt=1.5e-14.\n"
       ]
      },
      {
       "output_type": "stream",
       "stream": "stderr",
       "text": [
        "[2013-01-22 18:59:20] DEBUG: SundialsIntegrator: dmdt 1.00023184762 times larger than last time (counting 219/500).\n"
       ]
      },
      {
       "output_type": "stream",
       "stream": "stderr",
       "text": [
        "[2013-01-22 18:59:20] DEBUG: SundialsIntegrator: t=3.31e-12, last_dmdt=2.56e+03 * stopping_dmdt, next dt=1.5e-14.\n"
       ]
      },
      {
       "output_type": "stream",
       "stream": "stderr",
       "text": [
        "[2013-01-22 18:59:20] DEBUG: SundialsIntegrator: dmdt 1.00023110427 times larger than last time (counting 220/500).\n"
       ]
      },
      {
       "output_type": "stream",
       "stream": "stderr",
       "text": [
        "[2013-01-22 18:59:20] DEBUG: SundialsIntegrator: t=3.32e-12, last_dmdt=2.57e+03 * stopping_dmdt, next dt=1.5e-14.\n"
       ]
      },
      {
       "output_type": "stream",
       "stream": "stderr",
       "text": [
        "[2013-01-22 18:59:20] DEBUG: SundialsIntegrator: dmdt 1.00023035077 times larger than last time (counting 221/500).\n"
       ]
      },
      {
       "output_type": "stream",
       "stream": "stderr",
       "text": [
        "[2013-01-22 18:59:20] DEBUG: SundialsIntegrator: t=3.34e-12, last_dmdt=2.57e+03 * stopping_dmdt, next dt=1.5e-14.\n"
       ]
      },
      {
       "output_type": "stream",
       "stream": "stderr",
       "text": [
        "[2013-01-22 18:59:20] DEBUG: SundialsIntegrator: dmdt 1.00022960279 times larger than last time (counting 222/500).\n"
       ]
      },
      {
       "output_type": "stream",
       "stream": "stderr",
       "text": [
        "[2013-01-22 18:59:20] DEBUG: SundialsIntegrator: t=3.35e-12, last_dmdt=2.57e+03 * stopping_dmdt, next dt=1.5e-14.\n"
       ]
      },
      {
       "output_type": "stream",
       "stream": "stderr",
       "text": [
        "[2013-01-22 18:59:20] DEBUG: SundialsIntegrator: dmdt 1.00022885507 times larger than last time (counting 223/500).\n"
       ]
      },
      {
       "output_type": "stream",
       "stream": "stderr",
       "text": [
        "[2013-01-22 18:59:20] DEBUG: SundialsIntegrator: t=3.37e-12, last_dmdt=2.57e+03 * stopping_dmdt, next dt=1.5e-14.\n"
       ]
      },
      {
       "output_type": "stream",
       "stream": "stderr",
       "text": [
        "[2013-01-22 18:59:20] DEBUG: SundialsIntegrator: dmdt 1.00022810767 times larger than last time (counting 224/500).\n"
       ]
      },
      {
       "output_type": "stream",
       "stream": "stderr",
       "text": [
        "[2013-01-22 18:59:20] DEBUG: SundialsIntegrator: t=3.38e-12, last_dmdt=2.57e+03 * stopping_dmdt, next dt=1.5e-14.\n"
       ]
      },
      {
       "output_type": "stream",
       "stream": "stderr",
       "text": [
        "[2013-01-22 18:59:20] DEBUG: SundialsIntegrator: dmdt 1.00022736067 times larger than last time (counting 225/500).\n"
       ]
      },
      {
       "output_type": "stream",
       "stream": "stderr",
       "text": [
        "[2013-01-22 18:59:20] DEBUG: SundialsIntegrator: t=3.4e-12, last_dmdt=2.57e+03 * stopping_dmdt, next dt=1.5e-14.\n"
       ]
      },
      {
       "output_type": "stream",
       "stream": "stderr",
       "text": [
        "[2013-01-22 18:59:20] DEBUG: SundialsIntegrator: dmdt 1.00022661412 times larger than last time (counting 226/500).\n"
       ]
      },
      {
       "output_type": "stream",
       "stream": "stderr",
       "text": [
        "[2013-01-22 18:59:20] DEBUG: SundialsIntegrator: t=3.41e-12, last_dmdt=2.57e+03 * stopping_dmdt, next dt=1.5e-14.\n"
       ]
      },
      {
       "output_type": "stream",
       "stream": "stderr",
       "text": [
        "[2013-01-22 18:59:20] DEBUG: SundialsIntegrator: dmdt 1.0002258681 times larger than last time (counting 227/500).\n"
       ]
      },
      {
       "output_type": "stream",
       "stream": "stderr",
       "text": [
        "[2013-01-22 18:59:20] DEBUG: SundialsIntegrator: t=3.43e-12, last_dmdt=2.57e+03 * stopping_dmdt, next dt=1.5e-14.\n"
       ]
      },
      {
       "output_type": "stream",
       "stream": "stderr",
       "text": [
        "[2013-01-22 18:59:20] DEBUG: SundialsIntegrator: dmdt 1.00022512266 times larger than last time (counting 228/500).\n"
       ]
      },
      {
       "output_type": "stream",
       "stream": "stderr",
       "text": [
        "[2013-01-22 18:59:20] DEBUG: SundialsIntegrator: t=3.44e-12, last_dmdt=2.57e+03 * stopping_dmdt, next dt=1.5e-14.\n"
       ]
      },
      {
       "output_type": "stream",
       "stream": "stderr",
       "text": [
        "[2013-01-22 18:59:20] DEBUG: SundialsIntegrator: dmdt 1.00022433935 times larger than last time (counting 229/500).\n"
       ]
      },
      {
       "output_type": "stream",
       "stream": "stderr",
       "text": [
        "[2013-01-22 18:59:20] DEBUG: SundialsIntegrator: t=3.46e-12, last_dmdt=2.57e+03 * stopping_dmdt, next dt=1.5e-14.\n"
       ]
      },
      {
       "output_type": "stream",
       "stream": "stderr",
       "text": [
        "[2013-01-22 18:59:20] DEBUG: SundialsIntegrator: dmdt 1.00022341806 times larger than last time (counting 230/500).\n"
       ]
      },
      {
       "output_type": "stream",
       "stream": "stderr",
       "text": [
        "[2013-01-22 18:59:20] DEBUG: SundialsIntegrator: t=3.47e-12, last_dmdt=2.57e+03 * stopping_dmdt, next dt=1.5e-14.\n"
       ]
      },
      {
       "output_type": "stream",
       "stream": "stderr",
       "text": [
        "[2013-01-22 18:59:20] DEBUG: SundialsIntegrator: dmdt 1.00022279026 times larger than last time (counting 231/500).\n"
       ]
      },
      {
       "output_type": "stream",
       "stream": "stderr",
       "text": [
        "[2013-01-22 18:59:20] DEBUG: SundialsIntegrator: t=3.49e-12, last_dmdt=2.57e+03 * stopping_dmdt, next dt=1.5e-14.\n"
       ]
      },
      {
       "output_type": "stream",
       "stream": "stderr",
       "text": [
        "[2013-01-22 18:59:20] DEBUG: SundialsIntegrator: dmdt 1.00022202841 times larger than last time (counting 232/500).\n"
       ]
      },
      {
       "output_type": "stream",
       "stream": "stderr",
       "text": [
        "[2013-01-22 18:59:20] DEBUG: SundialsIntegrator: t=3.5e-12, last_dmdt=2.57e+03 * stopping_dmdt, next dt=1.5e-14.\n"
       ]
      },
      {
       "output_type": "stream",
       "stream": "stderr",
       "text": [
        "[2013-01-22 18:59:20] DEBUG: SundialsIntegrator: dmdt 1.0002212655 times larger than last time (counting 233/500).\n"
       ]
      },
      {
       "output_type": "stream",
       "stream": "stderr",
       "text": [
        "[2013-01-22 18:59:20] DEBUG: SundialsIntegrator: t=3.52e-12, last_dmdt=2.57e+03 * stopping_dmdt, next dt=1.5e-14.\n"
       ]
      },
      {
       "output_type": "stream",
       "stream": "stderr",
       "text": [
        "[2013-01-22 18:59:20] DEBUG: SundialsIntegrator: dmdt 1.00022050151 times larger than last time (counting 234/500).\n"
       ]
      },
      {
       "output_type": "stream",
       "stream": "stderr",
       "text": [
        "[2013-01-22 18:59:20] DEBUG: SundialsIntegrator: t=3.53e-12, last_dmdt=2.57e+03 * stopping_dmdt, next dt=1.5e-14.\n"
       ]
      },
      {
       "output_type": "stream",
       "stream": "stderr",
       "text": [
        "[2013-01-22 18:59:20] DEBUG: SundialsIntegrator: dmdt 1.00021973642 times larger than last time (counting 235/500).\n"
       ]
      },
      {
       "output_type": "stream",
       "stream": "stderr",
       "text": [
        "[2013-01-22 18:59:20] DEBUG: SundialsIntegrator: t=3.55e-12, last_dmdt=2.57e+03 * stopping_dmdt, next dt=1.5e-14.\n"
       ]
      },
      {
       "output_type": "stream",
       "stream": "stderr",
       "text": [
        "[2013-01-22 18:59:20] DEBUG: SundialsIntegrator: dmdt 1.00021897021 times larger than last time (counting 236/500).\n"
       ]
      },
      {
       "output_type": "stream",
       "stream": "stderr",
       "text": [
        "[2013-01-22 18:59:20] DEBUG: SundialsIntegrator: t=3.56e-12, last_dmdt=2.57e+03 * stopping_dmdt, next dt=1.5e-14.\n"
       ]
      },
      {
       "output_type": "stream",
       "stream": "stderr",
       "text": [
        "[2013-01-22 18:59:20] DEBUG: SundialsIntegrator: dmdt 1.00021820286 times larger than last time (counting 237/500).\n"
       ]
      },
      {
       "output_type": "stream",
       "stream": "stderr",
       "text": [
        "[2013-01-22 18:59:20] DEBUG: SundialsIntegrator: t=3.58e-12, last_dmdt=2.57e+03 * stopping_dmdt, next dt=1.5e-14.\n"
       ]
      },
      {
       "output_type": "stream",
       "stream": "stderr",
       "text": [
        "[2013-01-22 18:59:20] DEBUG: SundialsIntegrator: dmdt 1.00021743436 times larger than last time (counting 238/500).\n"
       ]
      },
      {
       "output_type": "stream",
       "stream": "stderr",
       "text": [
        "[2013-01-22 18:59:20] DEBUG: SundialsIntegrator: t=3.59e-12, last_dmdt=2.58e+03 * stopping_dmdt, next dt=1.5e-14.\n"
       ]
      },
      {
       "output_type": "stream",
       "stream": "stderr",
       "text": [
        "[2013-01-22 18:59:20] DEBUG: SundialsIntegrator: dmdt 1.00021666334 times larger than last time (counting 239/500).\n"
       ]
      },
      {
       "output_type": "stream",
       "stream": "stderr",
       "text": [
        "[2013-01-22 18:59:20] DEBUG: SundialsIntegrator: t=3.61e-12, last_dmdt=2.58e+03 * stopping_dmdt, next dt=1.5e-14.\n"
       ]
      },
      {
       "output_type": "stream",
       "stream": "stderr",
       "text": [
        "[2013-01-22 18:59:20] DEBUG: SundialsIntegrator: dmdt 1.00021577166 times larger than last time (counting 240/500).\n"
       ]
      },
      {
       "output_type": "stream",
       "stream": "stderr",
       "text": [
        "[2013-01-22 18:59:20] DEBUG: SundialsIntegrator: t=3.62e-12, last_dmdt=2.58e+03 * stopping_dmdt, next dt=1.5e-14.\n"
       ]
      },
      {
       "output_type": "stream",
       "stream": "stderr",
       "text": [
        "[2013-01-22 18:59:20] DEBUG: SundialsIntegrator: dmdt 1.00021507153 times larger than last time (counting 241/500).\n"
       ]
      },
      {
       "output_type": "stream",
       "stream": "stderr",
       "text": [
        "[2013-01-22 18:59:20] DEBUG: SundialsIntegrator: t=3.64e-12, last_dmdt=2.58e+03 * stopping_dmdt, next dt=1.5e-14.\n"
       ]
      },
      {
       "output_type": "stream",
       "stream": "stderr",
       "text": [
        "[2013-01-22 18:59:20] DEBUG: SundialsIntegrator: dmdt 1.00021428838 times larger than last time (counting 242/500).\n"
       ]
      },
      {
       "output_type": "stream",
       "stream": "stderr",
       "text": [
        "[2013-01-22 18:59:20] DEBUG: SundialsIntegrator: t=3.65e-12, last_dmdt=2.58e+03 * stopping_dmdt, next dt=1.5e-14.\n"
       ]
      },
      {
       "output_type": "stream",
       "stream": "stderr",
       "text": [
        "[2013-01-22 18:59:20] DEBUG: SundialsIntegrator: dmdt 1.00021350299 times larger than last time (counting 243/500).\n"
       ]
      },
      {
       "output_type": "stream",
       "stream": "stderr",
       "text": [
        "[2013-01-22 18:59:20] DEBUG: SundialsIntegrator: t=3.67e-12, last_dmdt=2.58e+03 * stopping_dmdt, next dt=1.5e-14.\n"
       ]
      },
      {
       "output_type": "stream",
       "stream": "stderr",
       "text": [
        "[2013-01-22 18:59:20] DEBUG: SundialsIntegrator: dmdt 1.00021271529 times larger than last time (counting 244/500).\n"
       ]
      },
      {
       "output_type": "stream",
       "stream": "stderr",
       "text": [
        "[2013-01-22 18:59:20] DEBUG: SundialsIntegrator: t=3.68e-12, last_dmdt=2.58e+03 * stopping_dmdt, next dt=1.5e-14.\n"
       ]
      },
      {
       "output_type": "stream",
       "stream": "stderr",
       "text": [
        "[2013-01-22 18:59:20] DEBUG: SundialsIntegrator: dmdt 1.00021192522 times larger than last time (counting 245/500).\n"
       ]
      },
      {
       "output_type": "stream",
       "stream": "stderr",
       "text": [
        "[2013-01-22 18:59:20] DEBUG: SundialsIntegrator: t=3.7e-12, last_dmdt=2.58e+03 * stopping_dmdt, next dt=1.5e-14.\n"
       ]
      },
      {
       "output_type": "stream",
       "stream": "stderr",
       "text": [
        "[2013-01-22 18:59:20] DEBUG: SundialsIntegrator: dmdt 1.00021113274 times larger than last time (counting 246/500).\n"
       ]
      },
      {
       "output_type": "stream",
       "stream": "stderr",
       "text": [
        "[2013-01-22 18:59:20] DEBUG: SundialsIntegrator: t=3.71e-12, last_dmdt=2.58e+03 * stopping_dmdt, next dt=1.5e-14.\n"
       ]
      },
      {
       "output_type": "stream",
       "stream": "stderr",
       "text": [
        "[2013-01-22 18:59:20] DEBUG: SundialsIntegrator: dmdt 1.00021033776 times larger than last time (counting 247/500).\n"
       ]
      },
      {
       "output_type": "stream",
       "stream": "stderr",
       "text": [
        "[2013-01-22 18:59:20] DEBUG: SundialsIntegrator: t=3.73e-12, last_dmdt=2.58e+03 * stopping_dmdt, next dt=1.5e-14.\n"
       ]
      },
      {
       "output_type": "stream",
       "stream": "stderr",
       "text": [
        "[2013-01-22 18:59:20] DEBUG: SundialsIntegrator: dmdt 1.00020954025 times larger than last time (counting 248/500).\n"
       ]
      },
      {
       "output_type": "stream",
       "stream": "stderr",
       "text": [
        "[2013-01-22 18:59:21] DEBUG: SundialsIntegrator: t=3.74e-12, last_dmdt=2.58e+03 * stopping_dmdt, next dt=1.5e-14.\n"
       ]
      },
      {
       "output_type": "stream",
       "stream": "stderr",
       "text": [
        "[2013-01-22 18:59:21] DEBUG: SundialsIntegrator: dmdt 1.00020874015 times larger than last time (counting 249/500).\n"
       ]
      },
      {
       "output_type": "stream",
       "stream": "stderr",
       "text": [
        "[2013-01-22 18:59:21] DEBUG: SundialsIntegrator: t=3.76e-12, last_dmdt=2.58e+03 * stopping_dmdt, next dt=1.5e-14.\n"
       ]
      },
      {
       "output_type": "stream",
       "stream": "stderr",
       "text": [
        "[2013-01-22 18:59:21] DEBUG: SundialsIntegrator: dmdt 1.00020801775 times larger than last time (counting 250/500).\n"
       ]
      },
      {
       "output_type": "stream",
       "stream": "stderr",
       "text": [
        "[2013-01-22 18:59:21] DEBUG: SundialsIntegrator: t=3.77e-12, last_dmdt=2.58e+03 * stopping_dmdt, next dt=1.5e-14.\n"
       ]
      },
      {
       "output_type": "stream",
       "stream": "stderr",
       "text": [
        "[2013-01-22 18:59:21] DEBUG: SundialsIntegrator: dmdt 1.00020718402 times larger than last time (counting 251/500).\n"
       ]
      },
      {
       "output_type": "stream",
       "stream": "stderr",
       "text": [
        "[2013-01-22 18:59:21] DEBUG: SundialsIntegrator: t=3.79e-12, last_dmdt=2.58e+03 * stopping_dmdt, next dt=1.5e-14.\n"
       ]
      },
      {
       "output_type": "stream",
       "stream": "stderr",
       "text": [
        "[2013-01-22 18:59:21] DEBUG: SundialsIntegrator: dmdt 1.00020637073 times larger than last time (counting 252/500).\n"
       ]
      },
      {
       "output_type": "stream",
       "stream": "stderr",
       "text": [
        "[2013-01-22 18:59:21] DEBUG: SundialsIntegrator: t=3.8e-12, last_dmdt=2.58e+03 * stopping_dmdt, next dt=1.5e-14.\n"
       ]
      },
      {
       "output_type": "stream",
       "stream": "stderr",
       "text": [
        "[2013-01-22 18:59:21] DEBUG: SundialsIntegrator: dmdt 1.00020556831 times larger than last time (counting 253/500).\n"
       ]
      },
      {
       "output_type": "stream",
       "stream": "stderr",
       "text": [
        "[2013-01-22 18:59:21] DEBUG: SundialsIntegrator: t=3.82e-12, last_dmdt=2.58e+03 * stopping_dmdt, next dt=1.5e-14.\n"
       ]
      },
      {
       "output_type": "stream",
       "stream": "stderr",
       "text": [
        "[2013-01-22 18:59:21] DEBUG: SundialsIntegrator: dmdt 1.00020476385 times larger than last time (counting 254/500).\n"
       ]
      },
      {
       "output_type": "stream",
       "stream": "stderr",
       "text": [
        "[2013-01-22 18:59:21] DEBUG: SundialsIntegrator: t=3.83e-12, last_dmdt=2.58e+03 * stopping_dmdt, next dt=1.5e-14.\n"
       ]
      },
      {
       "output_type": "stream",
       "stream": "stderr",
       "text": [
        "[2013-01-22 18:59:21] DEBUG: SundialsIntegrator: dmdt 1.00020395734 times larger than last time (counting 255/500).\n"
       ]
      },
      {
       "output_type": "stream",
       "stream": "stderr",
       "text": [
        "[2013-01-22 18:59:21] DEBUG: SundialsIntegrator: t=3.85e-12, last_dmdt=2.58e+03 * stopping_dmdt, next dt=1.5e-14.\n"
       ]
      },
      {
       "output_type": "stream",
       "stream": "stderr",
       "text": [
        "[2013-01-22 18:59:21] DEBUG: SundialsIntegrator: dmdt 1.00020314874 times larger than last time (counting 256/500).\n"
       ]
      },
      {
       "output_type": "stream",
       "stream": "stderr",
       "text": [
        "[2013-01-22 18:59:21] DEBUG: SundialsIntegrator: t=3.86e-12, last_dmdt=2.59e+03 * stopping_dmdt, next dt=1.5e-14.\n"
       ]
      },
      {
       "output_type": "stream",
       "stream": "stderr",
       "text": [
        "[2013-01-22 18:59:21] DEBUG: SundialsIntegrator: dmdt 1.00020233805 times larger than last time (counting 257/500).\n"
       ]
      },
      {
       "output_type": "stream",
       "stream": "stderr",
       "text": [
        "[2013-01-22 18:59:21] DEBUG: SundialsIntegrator: t=3.88e-12, last_dmdt=2.59e+03 * stopping_dmdt, next dt=1.5e-14.\n"
       ]
      },
      {
       "output_type": "stream",
       "stream": "stderr",
       "text": [
        "[2013-01-22 18:59:21] DEBUG: SundialsIntegrator: dmdt 1.00020152524 times larger than last time (counting 258/500).\n"
       ]
      },
      {
       "output_type": "stream",
       "stream": "stderr",
       "text": [
        "[2013-01-22 18:59:21] DEBUG: SundialsIntegrator: t=3.89e-12, last_dmdt=2.59e+03 * stopping_dmdt, next dt=1.5e-14.\n"
       ]
      },
      {
       "output_type": "stream",
       "stream": "stderr",
       "text": [
        "[2013-01-22 18:59:21] DEBUG: SundialsIntegrator: dmdt 1.00020071029 times larger than last time (counting 259/500).\n"
       ]
      },
      {
       "output_type": "stream",
       "stream": "stderr",
       "text": [
        "[2013-01-22 18:59:21] DEBUG: SundialsIntegrator: t=3.91e-12, last_dmdt=2.59e+03 * stopping_dmdt, next dt=1.5e-14.\n"
       ]
      },
      {
       "output_type": "stream",
       "stream": "stderr",
       "text": [
        "[2013-01-22 18:59:21] DEBUG: SundialsIntegrator: dmdt 1.00019995397 times larger than last time (counting 260/500).\n"
       ]
      },
      {
       "output_type": "stream",
       "stream": "stderr",
       "text": [
        "[2013-01-22 18:59:21] DEBUG: SundialsIntegrator: t=3.92e-12, last_dmdt=2.59e+03 * stopping_dmdt, next dt=1.5e-14.\n"
       ]
      },
      {
       "output_type": "stream",
       "stream": "stderr",
       "text": [
        "[2013-01-22 18:59:21] DEBUG: SundialsIntegrator: dmdt 1.00019913713 times larger than last time (counting 261/500).\n"
       ]
      },
      {
       "output_type": "stream",
       "stream": "stderr",
       "text": [
        "[2013-01-22 18:59:21] DEBUG: SundialsIntegrator: t=3.94e-12, last_dmdt=2.59e+03 * stopping_dmdt, next dt=1.5e-14.\n"
       ]
      },
      {
       "output_type": "stream",
       "stream": "stderr",
       "text": [
        "[2013-01-22 18:59:21] DEBUG: SundialsIntegrator: dmdt 1.00019829755 times larger than last time (counting 262/500).\n"
       ]
      },
      {
       "output_type": "stream",
       "stream": "stderr",
       "text": [
        "[2013-01-22 18:59:21] DEBUG: SundialsIntegrator: t=3.95e-12, last_dmdt=2.59e+03 * stopping_dmdt, next dt=1.5e-14.\n"
       ]
      },
      {
       "output_type": "stream",
       "stream": "stderr",
       "text": [
        "[2013-01-22 18:59:21] DEBUG: SundialsIntegrator: dmdt 1.00019748219 times larger than last time (counting 263/500).\n"
       ]
      },
      {
       "output_type": "stream",
       "stream": "stderr",
       "text": [
        "[2013-01-22 18:59:21] DEBUG: SundialsIntegrator: t=3.97e-12, last_dmdt=2.59e+03 * stopping_dmdt, next dt=1.5e-14.\n"
       ]
      },
      {
       "output_type": "stream",
       "stream": "stderr",
       "text": [
        "[2013-01-22 18:59:21] DEBUG: SundialsIntegrator: dmdt 1.0001966654 times larger than last time (counting 264/500).\n"
       ]
      },
      {
       "output_type": "stream",
       "stream": "stderr",
       "text": [
        "[2013-01-22 18:59:21] DEBUG: SundialsIntegrator: t=3.98e-12, last_dmdt=2.59e+03 * stopping_dmdt, next dt=1.5e-14.\n"
       ]
      },
      {
       "output_type": "stream",
       "stream": "stderr",
       "text": [
        "[2013-01-22 18:59:21] DEBUG: SundialsIntegrator: dmdt 1.0001958472 times larger than last time (counting 265/500).\n"
       ]
      },
      {
       "output_type": "stream",
       "stream": "stderr",
       "text": [
        "[2013-01-22 18:59:21] DEBUG: SundialsIntegrator: t=4e-12, last_dmdt=2.59e+03 * stopping_dmdt, next dt=1.5e-14.\n"
       ]
      },
      {
       "output_type": "stream",
       "stream": "stderr",
       "text": [
        "[2013-01-22 18:59:21] DEBUG: SundialsIntegrator: dmdt 1.00019502758 times larger than last time (counting 266/500).\n"
       ]
      },
      {
       "output_type": "stream",
       "stream": "stderr",
       "text": [
        "[2013-01-22 18:59:21] DEBUG: SundialsIntegrator: t=4.01e-12, last_dmdt=2.59e+03 * stopping_dmdt, next dt=1.5e-14.\n"
       ]
      },
      {
       "output_type": "stream",
       "stream": "stderr",
       "text": [
        "[2013-01-22 18:59:21] DEBUG: SundialsIntegrator: dmdt 1.00019420657 times larger than last time (counting 267/500).\n"
       ]
      },
      {
       "output_type": "stream",
       "stream": "stderr",
       "text": [
        "[2013-01-22 18:59:21] DEBUG: SundialsIntegrator: t=4.03e-12, last_dmdt=2.59e+03 * stopping_dmdt, next dt=1.5e-14.\n"
       ]
      },
      {
       "output_type": "stream",
       "stream": "stderr",
       "text": [
        "[2013-01-22 18:59:21] DEBUG: SundialsIntegrator: dmdt 1.00019338417 times larger than last time (counting 268/500).\n"
       ]
      },
      {
       "output_type": "stream",
       "stream": "stderr",
       "text": [
        "[2013-01-22 18:59:21] DEBUG: SundialsIntegrator: t=4.04e-12, last_dmdt=2.59e+03 * stopping_dmdt, next dt=1.5e-14.\n"
       ]
      },
      {
       "output_type": "stream",
       "stream": "stderr",
       "text": [
        "[2013-01-22 18:59:21] DEBUG: SundialsIntegrator: dmdt 1.0001925604 times larger than last time (counting 269/500).\n"
       ]
      },
      {
       "output_type": "stream",
       "stream": "stderr",
       "text": [
        "[2013-01-22 18:59:21] DEBUG: SundialsIntegrator: t=4.06e-12, last_dmdt=2.59e+03 * stopping_dmdt, next dt=1.5e-14.\n"
       ]
      },
      {
       "output_type": "stream",
       "stream": "stderr",
       "text": [
        "[2013-01-22 18:59:21] DEBUG: SundialsIntegrator: dmdt 1.00019172565 times larger than last time (counting 270/500).\n"
       ]
      },
      {
       "output_type": "stream",
       "stream": "stderr",
       "text": [
        "[2013-01-22 18:59:21] DEBUG: SundialsIntegrator: t=4.07e-12, last_dmdt=2.59e+03 * stopping_dmdt, next dt=1.5e-14.\n"
       ]
      },
      {
       "output_type": "stream",
       "stream": "stderr",
       "text": [
        "[2013-01-22 18:59:21] DEBUG: SundialsIntegrator: dmdt 1.00019089222 times larger than last time (counting 271/500).\n"
       ]
      },
      {
       "output_type": "stream",
       "stream": "stderr",
       "text": [
        "[2013-01-22 18:59:21] DEBUG: SundialsIntegrator: t=4.09e-12, last_dmdt=2.59e+03 * stopping_dmdt, next dt=1.5e-14.\n"
       ]
      },
      {
       "output_type": "stream",
       "stream": "stderr",
       "text": [
        "[2013-01-22 18:59:21] DEBUG: SundialsIntegrator: dmdt 1.00019007111 times larger than last time (counting 272/500).\n"
       ]
      },
      {
       "output_type": "stream",
       "stream": "stderr",
       "text": [
        "[2013-01-22 18:59:21] DEBUG: SundialsIntegrator: t=4.1e-12, last_dmdt=2.59e+03 * stopping_dmdt, next dt=1.5e-14.\n"
       ]
      },
      {
       "output_type": "stream",
       "stream": "stderr",
       "text": [
        "[2013-01-22 18:59:21] DEBUG: SundialsIntegrator: dmdt 1.00018924009 times larger than last time (counting 273/500).\n"
       ]
      },
      {
       "output_type": "stream",
       "stream": "stderr",
       "text": [
        "[2013-01-22 18:59:21] DEBUG: SundialsIntegrator: t=4.12e-12, last_dmdt=2.59e+03 * stopping_dmdt, next dt=1.5e-14.\n"
       ]
      },
      {
       "output_type": "stream",
       "stream": "stderr",
       "text": [
        "[2013-01-22 18:59:21] DEBUG: SundialsIntegrator: dmdt 1.00018840755 times larger than last time (counting 274/500).\n"
       ]
      },
      {
       "output_type": "stream",
       "stream": "stderr",
       "text": [
        "[2013-01-22 18:59:21] DEBUG: SundialsIntegrator: t=4.13e-12, last_dmdt=2.59e+03 * stopping_dmdt, next dt=1.5e-14.\n"
       ]
      },
      {
       "output_type": "stream",
       "stream": "stderr",
       "text": [
        "[2013-01-22 18:59:21] DEBUG: SundialsIntegrator: dmdt 1.0001875735 times larger than last time (counting 275/500).\n"
       ]
      },
      {
       "output_type": "stream",
       "stream": "stderr",
       "text": [
        "[2013-01-22 18:59:21] DEBUG: SundialsIntegrator: t=4.15e-12, last_dmdt=2.59e+03 * stopping_dmdt, next dt=1.5e-14.\n"
       ]
      },
      {
       "output_type": "stream",
       "stream": "stderr",
       "text": [
        "[2013-01-22 18:59:21] DEBUG: SundialsIntegrator: dmdt 1.00018673795 times larger than last time (counting 276/500).\n"
       ]
      },
      {
       "output_type": "stream",
       "stream": "stderr",
       "text": [
        "[2013-01-22 18:59:21] DEBUG: SundialsIntegrator: t=4.16e-12, last_dmdt=2.6e+03 * stopping_dmdt, next dt=1.5e-14.\n"
       ]
      },
      {
       "output_type": "stream",
       "stream": "stderr",
       "text": [
        "[2013-01-22 18:59:21] DEBUG: SundialsIntegrator: dmdt 1.0001859009 times larger than last time (counting 277/500).\n"
       ]
      },
      {
       "output_type": "stream",
       "stream": "stderr",
       "text": [
        "[2013-01-22 18:59:21] DEBUG: SundialsIntegrator: t=4.18e-12, last_dmdt=2.6e+03 * stopping_dmdt, next dt=1.5e-14.\n"
       ]
      },
      {
       "output_type": "stream",
       "stream": "stderr",
       "text": [
        "[2013-01-22 18:59:21] DEBUG: SundialsIntegrator: dmdt 1.00018506234 times larger than last time (counting 278/500).\n"
       ]
      },
      {
       "output_type": "stream",
       "stream": "stderr",
       "text": [
        "[2013-01-22 18:59:21] DEBUG: SundialsIntegrator: t=4.19e-12, last_dmdt=2.6e+03 * stopping_dmdt, next dt=1.5e-14.\n"
       ]
      },
      {
       "output_type": "stream",
       "stream": "stderr",
       "text": [
        "[2013-01-22 18:59:21] DEBUG: SundialsIntegrator: dmdt 1.00018422227 times larger than last time (counting 279/500).\n"
       ]
      },
      {
       "output_type": "stream",
       "stream": "stderr",
       "text": [
        "[2013-01-22 18:59:21] DEBUG: SundialsIntegrator: t=4.21e-12, last_dmdt=2.6e+03 * stopping_dmdt, next dt=1.5e-14.\n"
       ]
      },
      {
       "output_type": "stream",
       "stream": "stderr",
       "text": [
        "[2013-01-22 18:59:21] DEBUG: SundialsIntegrator: dmdt 1.00018336609 times larger than last time (counting 280/500).\n"
       ]
      },
      {
       "output_type": "stream",
       "stream": "stderr",
       "text": [
        "[2013-01-22 18:59:21] DEBUG: SundialsIntegrator: t=4.22e-12, last_dmdt=2.6e+03 * stopping_dmdt, next dt=1.5e-14.\n"
       ]
      },
      {
       "output_type": "stream",
       "stream": "stderr",
       "text": [
        "[2013-01-22 18:59:21] DEBUG: SundialsIntegrator: dmdt 1.0001824911 times larger than last time (counting 281/500).\n"
       ]
      },
      {
       "output_type": "stream",
       "stream": "stderr",
       "text": [
        "[2013-01-22 18:59:21] DEBUG: SundialsIntegrator: t=4.24e-12, last_dmdt=2.6e+03 * stopping_dmdt, next dt=1.5e-14.\n"
       ]
      },
      {
       "output_type": "stream",
       "stream": "stderr",
       "text": [
        "[2013-01-22 18:59:21] DEBUG: SundialsIntegrator: dmdt 1.00018166954 times larger than last time (counting 282/500).\n"
       ]
      },
      {
       "output_type": "stream",
       "stream": "stderr",
       "text": [
        "[2013-01-22 18:59:21] DEBUG: SundialsIntegrator: t=4.25e-12, last_dmdt=2.6e+03 * stopping_dmdt, next dt=1.5e-14.\n"
       ]
      },
      {
       "output_type": "stream",
       "stream": "stderr",
       "text": [
        "[2013-01-22 18:59:21] DEBUG: SundialsIntegrator: dmdt 1.00018081902 times larger than last time (counting 283/500).\n"
       ]
      },
      {
       "output_type": "stream",
       "stream": "stderr",
       "text": [
        "[2013-01-22 18:59:21] DEBUG: SundialsIntegrator: t=4.27e-12, last_dmdt=2.6e+03 * stopping_dmdt, next dt=1.5e-14.\n"
       ]
      },
      {
       "output_type": "stream",
       "stream": "stderr",
       "text": [
        "[2013-01-22 18:59:21] DEBUG: SundialsIntegrator: dmdt 1.00017996656 times larger than last time (counting 284/500).\n"
       ]
      },
      {
       "output_type": "stream",
       "stream": "stderr",
       "text": [
        "[2013-01-22 18:59:21] DEBUG: SundialsIntegrator: t=4.28e-12, last_dmdt=2.6e+03 * stopping_dmdt, next dt=1.5e-14.\n"
       ]
      },
      {
       "output_type": "stream",
       "stream": "stderr",
       "text": [
        "[2013-01-22 18:59:21] DEBUG: SundialsIntegrator: dmdt 1.00017911215 times larger than last time (counting 285/500).\n"
       ]
      },
      {
       "output_type": "stream",
       "stream": "stderr",
       "text": [
        "[2013-01-22 18:59:21] DEBUG: SundialsIntegrator: t=4.3e-12, last_dmdt=2.6e+03 * stopping_dmdt, next dt=1.5e-14.\n"
       ]
      },
      {
       "output_type": "stream",
       "stream": "stderr",
       "text": [
        "[2013-01-22 18:59:21] DEBUG: SundialsIntegrator: dmdt 1.00017825578 times larger than last time (counting 286/500).\n"
       ]
      },
      {
       "output_type": "stream",
       "stream": "stderr",
       "text": [
        "[2013-01-22 18:59:21] DEBUG: SundialsIntegrator: t=4.31e-12, last_dmdt=2.6e+03 * stopping_dmdt, next dt=1.5e-14.\n"
       ]
      },
      {
       "output_type": "stream",
       "stream": "stderr",
       "text": [
        "[2013-01-22 18:59:21] DEBUG: SundialsIntegrator: dmdt 1.00017739742 times larger than last time (counting 287/500).\n"
       ]
      },
      {
       "output_type": "stream",
       "stream": "stderr",
       "text": [
        "[2013-01-22 18:59:21] DEBUG: SundialsIntegrator: t=4.33e-12, last_dmdt=2.6e+03 * stopping_dmdt, next dt=1.5e-14.\n"
       ]
      },
      {
       "output_type": "stream",
       "stream": "stderr",
       "text": [
        "[2013-01-22 18:59:21] DEBUG: SundialsIntegrator: dmdt 1.00017653707 times larger than last time (counting 288/500).\n"
       ]
      },
      {
       "output_type": "stream",
       "stream": "stderr",
       "text": [
        "[2013-01-22 18:59:21] DEBUG: SundialsIntegrator: t=4.34e-12, last_dmdt=2.6e+03 * stopping_dmdt, next dt=1.5e-14.\n"
       ]
      },
      {
       "output_type": "stream",
       "stream": "stderr",
       "text": [
        "[2013-01-22 18:59:21] DEBUG: SundialsIntegrator: dmdt 1.0001756747 times larger than last time (counting 289/500).\n"
       ]
      },
      {
       "output_type": "stream",
       "stream": "stderr",
       "text": [
        "[2013-01-22 18:59:21] DEBUG: SundialsIntegrator: t=4.36e-12, last_dmdt=2.6e+03 * stopping_dmdt, next dt=1.5e-14.\n"
       ]
      },
      {
       "output_type": "stream",
       "stream": "stderr",
       "text": [
        "[2013-01-22 18:59:21] DEBUG: SundialsIntegrator: dmdt 1.00017481079 times larger than last time (counting 290/500).\n"
       ]
      },
      {
       "output_type": "stream",
       "stream": "stderr",
       "text": [
        "[2013-01-22 18:59:21] DEBUG: SundialsIntegrator: t=4.37e-12, last_dmdt=2.6e+03 * stopping_dmdt, next dt=1.5e-14.\n"
       ]
      },
      {
       "output_type": "stream",
       "stream": "stderr",
       "text": [
        "[2013-01-22 18:59:21] DEBUG: SundialsIntegrator: dmdt 1.00017394807 times larger than last time (counting 291/500).\n"
       ]
      },
      {
       "output_type": "stream",
       "stream": "stderr",
       "text": [
        "[2013-01-22 18:59:21] DEBUG: SundialsIntegrator: t=4.39e-12, last_dmdt=2.6e+03 * stopping_dmdt, next dt=1.5e-14.\n"
       ]
      },
      {
       "output_type": "stream",
       "stream": "stderr",
       "text": [
        "[2013-01-22 18:59:21] DEBUG: SundialsIntegrator: dmdt 1.00017307726 times larger than last time (counting 292/500).\n"
       ]
      },
      {
       "output_type": "stream",
       "stream": "stderr",
       "text": [
        "[2013-01-22 18:59:21] DEBUG: SundialsIntegrator: t=4.4e-12, last_dmdt=2.6e+03 * stopping_dmdt, next dt=1.5e-14.\n"
       ]
      },
      {
       "output_type": "stream",
       "stream": "stderr",
       "text": [
        "[2013-01-22 18:59:21] DEBUG: SundialsIntegrator: dmdt 1.00017220707 times larger than last time (counting 293/500).\n"
       ]
      },
      {
       "output_type": "stream",
       "stream": "stderr",
       "text": [
        "[2013-01-22 18:59:21] DEBUG: SundialsIntegrator: t=4.42e-12, last_dmdt=2.6e+03 * stopping_dmdt, next dt=1.5e-14.\n"
       ]
      },
      {
       "output_type": "stream",
       "stream": "stderr",
       "text": [
        "[2013-01-22 18:59:21] DEBUG: SundialsIntegrator: dmdt 1.00017133483 times larger than last time (counting 294/500).\n"
       ]
      },
      {
       "output_type": "stream",
       "stream": "stderr",
       "text": [
        "[2013-01-22 18:59:21] DEBUG: SundialsIntegrator: t=4.43e-12, last_dmdt=2.6e+03 * stopping_dmdt, next dt=1.5e-14.\n"
       ]
      },
      {
       "output_type": "stream",
       "stream": "stderr",
       "text": [
        "[2013-01-22 18:59:21] DEBUG: SundialsIntegrator: dmdt 1.00017046054 times larger than last time (counting 295/500).\n"
       ]
      },
      {
       "output_type": "stream",
       "stream": "stderr",
       "text": [
        "[2013-01-22 18:59:21] DEBUG: SundialsIntegrator: t=4.45e-12, last_dmdt=2.6e+03 * stopping_dmdt, next dt=1.5e-14.\n"
       ]
      },
      {
       "output_type": "stream",
       "stream": "stderr",
       "text": [
        "[2013-01-22 18:59:21] DEBUG: SundialsIntegrator: dmdt 1.00016958417 times larger than last time (counting 296/500).\n"
       ]
      },
      {
       "output_type": "stream",
       "stream": "stderr",
       "text": [
        "[2013-01-22 18:59:21] DEBUG: SundialsIntegrator: t=4.46e-12, last_dmdt=2.6e+03 * stopping_dmdt, next dt=1.5e-14.\n"
       ]
      },
      {
       "output_type": "stream",
       "stream": "stderr",
       "text": [
        "[2013-01-22 18:59:21] DEBUG: SundialsIntegrator: dmdt 1.00016870571 times larger than last time (counting 297/500).\n"
       ]
      },
      {
       "output_type": "stream",
       "stream": "stderr",
       "text": [
        "[2013-01-22 18:59:21] DEBUG: SundialsIntegrator: t=4.48e-12, last_dmdt=2.6e+03 * stopping_dmdt, next dt=1.5e-14.\n"
       ]
      },
      {
       "output_type": "stream",
       "stream": "stderr",
       "text": [
        "[2013-01-22 18:59:21] DEBUG: SundialsIntegrator: dmdt 1.00016782516 times larger than last time (counting 298/500).\n"
       ]
      },
      {
       "output_type": "stream",
       "stream": "stderr",
       "text": [
        "[2013-01-22 18:59:21] DEBUG: SundialsIntegrator: t=4.49e-12, last_dmdt=2.61e+03 * stopping_dmdt, next dt=1.5e-14.\n"
       ]
      },
      {
       "output_type": "stream",
       "stream": "stderr",
       "text": [
        "[2013-01-22 18:59:21] DEBUG: SundialsIntegrator: dmdt 1.0001669425 times larger than last time (counting 299/500).\n"
       ]
      },
      {
       "output_type": "stream",
       "stream": "stderr",
       "text": [
        "[2013-01-22 18:59:21] DEBUG: SundialsIntegrator: t=4.51e-12, last_dmdt=2.61e+03 * stopping_dmdt, next dt=1.5e-14.\n"
       ]
      },
      {
       "output_type": "stream",
       "stream": "stderr",
       "text": [
        "[2013-01-22 18:59:21] DEBUG: SundialsIntegrator: dmdt 1.00016605772 times larger than last time (counting 300/500).\n"
       ]
      },
      {
       "output_type": "stream",
       "stream": "stderr",
       "text": [
        "[2013-01-22 18:59:21] DEBUG: SundialsIntegrator: t=4.52e-12, last_dmdt=2.61e+03 * stopping_dmdt, next dt=1.5e-14.\n"
       ]
      },
      {
       "output_type": "stream",
       "stream": "stderr",
       "text": [
        "[2013-01-22 18:59:21] DEBUG: SundialsIntegrator: dmdt 1.00016519531 times larger than last time (counting 301/500).\n"
       ]
      },
      {
       "output_type": "stream",
       "stream": "stderr",
       "text": [
        "[2013-01-22 18:59:21] DEBUG: SundialsIntegrator: t=4.54e-12, last_dmdt=2.61e+03 * stopping_dmdt, next dt=1.5e-14.\n"
       ]
      },
      {
       "output_type": "stream",
       "stream": "stderr",
       "text": [
        "[2013-01-22 18:59:21] DEBUG: SundialsIntegrator: dmdt 1.00016429322 times larger than last time (counting 302/500).\n"
       ]
      },
      {
       "output_type": "stream",
       "stream": "stderr",
       "text": [
        "[2013-01-22 18:59:21] DEBUG: SundialsIntegrator: t=4.55e-12, last_dmdt=2.61e+03 * stopping_dmdt, next dt=1.5e-14.\n"
       ]
      },
      {
       "output_type": "stream",
       "stream": "stderr",
       "text": [
        "[2013-01-22 18:59:21] DEBUG: SundialsIntegrator: dmdt 1.000163403 times larger than last time (counting 303/500).\n"
       ]
      },
      {
       "output_type": "stream",
       "stream": "stderr",
       "text": [
        "[2013-01-22 18:59:21] DEBUG: SundialsIntegrator: t=4.57e-12, last_dmdt=2.61e+03 * stopping_dmdt, next dt=1.5e-14.\n"
       ]
      },
      {
       "output_type": "stream",
       "stream": "stderr",
       "text": [
        "[2013-01-22 18:59:21] DEBUG: SundialsIntegrator: dmdt 1.00016251184 times larger than last time (counting 304/500).\n"
       ]
      },
      {
       "output_type": "stream",
       "stream": "stderr",
       "text": [
        "[2013-01-22 18:59:21] DEBUG: SundialsIntegrator: t=4.58e-12, last_dmdt=2.61e+03 * stopping_dmdt, next dt=1.5e-14.\n"
       ]
      },
      {
       "output_type": "stream",
       "stream": "stderr",
       "text": [
        "[2013-01-22 18:59:21] DEBUG: SundialsIntegrator: dmdt 1.00016161871 times larger than last time (counting 305/500).\n"
       ]
      },
      {
       "output_type": "stream",
       "stream": "stderr",
       "text": [
        "[2013-01-22 18:59:21] DEBUG: SundialsIntegrator: t=4.6e-12, last_dmdt=2.61e+03 * stopping_dmdt, next dt=1.5e-14.\n"
       ]
      },
      {
       "output_type": "stream",
       "stream": "stderr",
       "text": [
        "[2013-01-22 18:59:21] DEBUG: SundialsIntegrator: dmdt 1.0001607236 times larger than last time (counting 306/500).\n"
       ]
      },
      {
       "output_type": "stream",
       "stream": "stderr",
       "text": [
        "[2013-01-22 18:59:21] DEBUG: SundialsIntegrator: t=4.61e-12, last_dmdt=2.61e+03 * stopping_dmdt, next dt=1.5e-14.\n"
       ]
      },
      {
       "output_type": "stream",
       "stream": "stderr",
       "text": [
        "[2013-01-22 18:59:21] DEBUG: SundialsIntegrator: dmdt 1.00015982651 times larger than last time (counting 307/500).\n"
       ]
      },
      {
       "output_type": "stream",
       "stream": "stderr",
       "text": [
        "[2013-01-22 18:59:21] DEBUG: SundialsIntegrator: t=4.63e-12, last_dmdt=2.61e+03 * stopping_dmdt, next dt=1.5e-14.\n"
       ]
      },
      {
       "output_type": "stream",
       "stream": "stderr",
       "text": [
        "[2013-01-22 18:59:21] DEBUG: SundialsIntegrator: dmdt 1.00015892743 times larger than last time (counting 308/500).\n"
       ]
      },
      {
       "output_type": "stream",
       "stream": "stderr",
       "text": [
        "[2013-01-22 18:59:21] DEBUG: SundialsIntegrator: t=4.64e-12, last_dmdt=2.61e+03 * stopping_dmdt, next dt=1.5e-14.\n"
       ]
      },
      {
       "output_type": "stream",
       "stream": "stderr",
       "text": [
        "[2013-01-22 18:59:21] DEBUG: SundialsIntegrator: dmdt 1.00015802636 times larger than last time (counting 309/500).\n"
       ]
      },
      {
       "output_type": "stream",
       "stream": "stderr",
       "text": [
        "[2013-01-22 18:59:21] DEBUG: SundialsIntegrator: t=4.66e-12, last_dmdt=2.61e+03 * stopping_dmdt, next dt=1.5e-14.\n"
       ]
      },
      {
       "output_type": "stream",
       "stream": "stderr",
       "text": [
        "[2013-01-22 18:59:21] DEBUG: SundialsIntegrator: dmdt 1.00015712329 times larger than last time (counting 310/500).\n"
       ]
      },
      {
       "output_type": "stream",
       "stream": "stderr",
       "text": [
        "[2013-01-22 18:59:21] DEBUG: SundialsIntegrator: t=4.67e-12, last_dmdt=2.61e+03 * stopping_dmdt, next dt=1.5e-14.\n"
       ]
      },
      {
       "output_type": "stream",
       "stream": "stderr",
       "text": [
        "[2013-01-22 18:59:21] DEBUG: SundialsIntegrator: dmdt 1.0001562264 times larger than last time (counting 311/500).\n"
       ]
      },
      {
       "output_type": "stream",
       "stream": "stderr",
       "text": [
        "[2013-01-22 18:59:21] DEBUG: SundialsIntegrator: t=4.69e-12, last_dmdt=2.61e+03 * stopping_dmdt, next dt=1.5e-14.\n"
       ]
      },
      {
       "output_type": "stream",
       "stream": "stderr",
       "text": [
        "[2013-01-22 18:59:21] DEBUG: SundialsIntegrator: dmdt 1.0001553174 times larger than last time (counting 312/500).\n"
       ]
      },
      {
       "output_type": "stream",
       "stream": "stderr",
       "text": [
        "[2013-01-22 18:59:21] DEBUG: SundialsIntegrator: t=4.7e-12, last_dmdt=2.61e+03 * stopping_dmdt, next dt=1.5e-14.\n"
       ]
      },
      {
       "output_type": "stream",
       "stream": "stderr",
       "text": [
        "[2013-01-22 18:59:21] DEBUG: SundialsIntegrator: dmdt 1.00015440721 times larger than last time (counting 313/500).\n"
       ]
      },
      {
       "output_type": "stream",
       "stream": "stderr",
       "text": [
        "[2013-01-22 18:59:21] DEBUG: SundialsIntegrator: t=4.72e-12, last_dmdt=2.61e+03 * stopping_dmdt, next dt=1.5e-14.\n"
       ]
      },
      {
       "output_type": "stream",
       "stream": "stderr",
       "text": [
        "[2013-01-22 18:59:21] DEBUG: SundialsIntegrator: dmdt 1.00015349705 times larger than last time (counting 314/500).\n"
       ]
      },
      {
       "output_type": "stream",
       "stream": "stderr",
       "text": [
        "[2013-01-22 18:59:21] DEBUG: SundialsIntegrator: t=4.74e-12, last_dmdt=2.61e+03 * stopping_dmdt, next dt=1.5e-14.\n"
       ]
      },
      {
       "output_type": "stream",
       "stream": "stderr",
       "text": [
        "[2013-01-22 18:59:21] DEBUG: SundialsIntegrator: dmdt 1.00015258496 times larger than last time (counting 315/500).\n"
       ]
      },
      {
       "output_type": "stream",
       "stream": "stderr",
       "text": [
        "[2013-01-22 18:59:21] DEBUG: SundialsIntegrator: t=4.75e-12, last_dmdt=2.61e+03 * stopping_dmdt, next dt=1.5e-14.\n"
       ]
      },
      {
       "output_type": "stream",
       "stream": "stderr",
       "text": [
        "[2013-01-22 18:59:21] DEBUG: SundialsIntegrator: dmdt 1.00015167094 times larger than last time (counting 316/500).\n"
       ]
      },
      {
       "output_type": "stream",
       "stream": "stderr",
       "text": [
        "[2013-01-22 18:59:21] DEBUG: SundialsIntegrator: t=4.77e-12, last_dmdt=2.61e+03 * stopping_dmdt, next dt=1.5e-14.\n"
       ]
      },
      {
       "output_type": "stream",
       "stream": "stderr",
       "text": [
        "[2013-01-22 18:59:21] DEBUG: SundialsIntegrator: dmdt 1.00015075498 times larger than last time (counting 317/500).\n"
       ]
      },
      {
       "output_type": "stream",
       "stream": "stderr",
       "text": [
        "[2013-01-22 18:59:21] DEBUG: SundialsIntegrator: t=4.78e-12, last_dmdt=2.61e+03 * stopping_dmdt, next dt=1.5e-14.\n"
       ]
      },
      {
       "output_type": "stream",
       "stream": "stderr",
       "text": [
        "[2013-01-22 18:59:21] DEBUG: SundialsIntegrator: dmdt 1.00014983708 times larger than last time (counting 318/500).\n"
       ]
      },
      {
       "output_type": "stream",
       "stream": "stderr",
       "text": [
        "[2013-01-22 18:59:21] DEBUG: SundialsIntegrator: t=4.8e-12, last_dmdt=2.61e+03 * stopping_dmdt, next dt=1.5e-14.\n"
       ]
      },
      {
       "output_type": "stream",
       "stream": "stderr",
       "text": [
        "[2013-01-22 18:59:21] DEBUG: SundialsIntegrator: dmdt 1.00014891725 times larger than last time (counting 319/500).\n"
       ]
      },
      {
       "output_type": "stream",
       "stream": "stderr",
       "text": [
        "[2013-01-22 18:59:21] DEBUG: SundialsIntegrator: t=4.81e-12, last_dmdt=2.61e+03 * stopping_dmdt, next dt=1.5e-14.\n"
       ]
      },
      {
       "output_type": "stream",
       "stream": "stderr",
       "text": [
        "[2013-01-22 18:59:21] DEBUG: SundialsIntegrator: dmdt 1.00014799548 times larger than last time (counting 320/500).\n"
       ]
      },
      {
       "output_type": "stream",
       "stream": "stderr",
       "text": [
        "[2013-01-22 18:59:21] DEBUG: SundialsIntegrator: t=4.83e-12, last_dmdt=2.61e+03 * stopping_dmdt, next dt=1.5e-14.\n"
       ]
      },
      {
       "output_type": "stream",
       "stream": "stderr",
       "text": [
        "[2013-01-22 18:59:21] DEBUG: SundialsIntegrator: dmdt 1.00014707037 times larger than last time (counting 321/500).\n"
       ]
      },
      {
       "output_type": "stream",
       "stream": "stderr",
       "text": [
        "[2013-01-22 18:59:21] DEBUG: SundialsIntegrator: t=4.84e-12, last_dmdt=2.61e+03 * stopping_dmdt, next dt=1.5e-14.\n"
       ]
      },
      {
       "output_type": "stream",
       "stream": "stderr",
       "text": [
        "[2013-01-22 18:59:21] DEBUG: SundialsIntegrator: dmdt 1.00014614444 times larger than last time (counting 322/500).\n"
       ]
      },
      {
       "output_type": "stream",
       "stream": "stderr",
       "text": [
        "[2013-01-22 18:59:21] DEBUG: SundialsIntegrator: t=4.86e-12, last_dmdt=2.62e+03 * stopping_dmdt, next dt=1.5e-14.\n"
       ]
      },
      {
       "output_type": "stream",
       "stream": "stderr",
       "text": [
        "[2013-01-22 18:59:21] DEBUG: SundialsIntegrator: dmdt 1.00014521744 times larger than last time (counting 323/500).\n"
       ]
      },
      {
       "output_type": "stream",
       "stream": "stderr",
       "text": [
        "[2013-01-22 18:59:21] DEBUG: SundialsIntegrator: t=4.87e-12, last_dmdt=2.62e+03 * stopping_dmdt, next dt=1.5e-14.\n"
       ]
      },
      {
       "output_type": "stream",
       "stream": "stderr",
       "text": [
        "[2013-01-22 18:59:21] DEBUG: SundialsIntegrator: dmdt 1.00014428773 times larger than last time (counting 324/500).\n"
       ]
      },
      {
       "output_type": "stream",
       "stream": "stderr",
       "text": [
        "[2013-01-22 18:59:21] DEBUG: SundialsIntegrator: t=4.89e-12, last_dmdt=2.62e+03 * stopping_dmdt, next dt=1.5e-14.\n"
       ]
      },
      {
       "output_type": "stream",
       "stream": "stderr",
       "text": [
        "[2013-01-22 18:59:21] DEBUG: SundialsIntegrator: dmdt 1.00014335605 times larger than last time (counting 325/500).\n"
       ]
      },
      {
       "output_type": "stream",
       "stream": "stderr",
       "text": [
        "[2013-01-22 18:59:21] DEBUG: SundialsIntegrator: t=4.9e-12, last_dmdt=2.62e+03 * stopping_dmdt, next dt=1.5e-14.\n"
       ]
      },
      {
       "output_type": "stream",
       "stream": "stderr",
       "text": [
        "[2013-01-22 18:59:21] DEBUG: SundialsIntegrator: dmdt 1.00014242241 times larger than last time (counting 326/500).\n"
       ]
      },
      {
       "output_type": "stream",
       "stream": "stderr",
       "text": [
        "[2013-01-22 18:59:21] DEBUG: SundialsIntegrator: t=4.92e-12, last_dmdt=2.62e+03 * stopping_dmdt, next dt=1.5e-14.\n"
       ]
      },
      {
       "output_type": "stream",
       "stream": "stderr",
       "text": [
        "[2013-01-22 18:59:21] DEBUG: SundialsIntegrator: dmdt 1.0001414868 times larger than last time (counting 327/500).\n"
       ]
      },
      {
       "output_type": "stream",
       "stream": "stderr",
       "text": [
        "[2013-01-22 18:59:21] DEBUG: SundialsIntegrator: t=4.93e-12, last_dmdt=2.62e+03 * stopping_dmdt, next dt=1.5e-14.\n"
       ]
      },
      {
       "output_type": "stream",
       "stream": "stderr",
       "text": [
        "[2013-01-22 18:59:21] DEBUG: SundialsIntegrator: dmdt 1.00014054923 times larger than last time (counting 328/500).\n"
       ]
      },
      {
       "output_type": "stream",
       "stream": "stderr",
       "text": [
        "[2013-01-22 18:59:21] DEBUG: SundialsIntegrator: t=4.95e-12, last_dmdt=2.62e+03 * stopping_dmdt, next dt=1.5e-14.\n"
       ]
      },
      {
       "output_type": "stream",
       "stream": "stderr",
       "text": [
        "[2013-01-22 18:59:21] DEBUG: SundialsIntegrator: dmdt 1.0001396097 times larger than last time (counting 329/500).\n"
       ]
      },
      {
       "output_type": "stream",
       "stream": "stderr",
       "text": [
        "[2013-01-22 18:59:21] DEBUG: SundialsIntegrator: t=4.96e-12, last_dmdt=2.62e+03 * stopping_dmdt, next dt=1.5e-14.\n"
       ]
      },
      {
       "output_type": "stream",
       "stream": "stderr",
       "text": [
        "[2013-01-22 18:59:21] DEBUG: SundialsIntegrator: dmdt 1.00013866819 times larger than last time (counting 330/500).\n"
       ]
      },
      {
       "output_type": "stream",
       "stream": "stderr",
       "text": [
        "[2013-01-22 18:59:21] DEBUG: SundialsIntegrator: t=4.98e-12, last_dmdt=2.62e+03 * stopping_dmdt, next dt=1.5e-14.\n"
       ]
      },
      {
       "output_type": "stream",
       "stream": "stderr",
       "text": [
        "[2013-01-22 18:59:21] DEBUG: SundialsIntegrator: dmdt 1.00013772431 times larger than last time (counting 331/500).\n"
       ]
      },
      {
       "output_type": "stream",
       "stream": "stderr",
       "text": [
        "[2013-01-22 18:59:21] DEBUG: SundialsIntegrator: t=4.99e-12, last_dmdt=2.62e+03 * stopping_dmdt, next dt=1.5e-14.\n"
       ]
      },
      {
       "output_type": "stream",
       "stream": "stderr",
       "text": [
        "[2013-01-22 18:59:21] DEBUG: SundialsIntegrator: dmdt 1.00013677851 times larger than last time (counting 332/500).\n"
       ]
      },
      {
       "output_type": "stream",
       "stream": "stderr",
       "text": [
        "[2013-01-22 18:59:21] DEBUG: SundialsIntegrator: t=5.01e-12, last_dmdt=2.62e+03 * stopping_dmdt, next dt=1.5e-14.\n"
       ]
      },
      {
       "output_type": "stream",
       "stream": "stderr",
       "text": [
        "[2013-01-22 18:59:21] DEBUG: SundialsIntegrator: dmdt 1.00013583154 times larger than last time (counting 333/500).\n"
       ]
      },
      {
       "output_type": "stream",
       "stream": "stderr",
       "text": [
        "[2013-01-22 18:59:21] DEBUG: SundialsIntegrator: t=5.02e-12, last_dmdt=2.62e+03 * stopping_dmdt, next dt=1.5e-14.\n"
       ]
      },
      {
       "output_type": "stream",
       "stream": "stderr",
       "text": [
        "[2013-01-22 18:59:21] DEBUG: SundialsIntegrator: dmdt 1.00013488213 times larger than last time (counting 334/500).\n"
       ]
      },
      {
       "output_type": "stream",
       "stream": "stderr",
       "text": [
        "[2013-01-22 18:59:21] DEBUG: SundialsIntegrator: t=5.04e-12, last_dmdt=2.62e+03 * stopping_dmdt, next dt=1.5e-14.\n"
       ]
      },
      {
       "output_type": "stream",
       "stream": "stderr",
       "text": [
        "[2013-01-22 18:59:21] DEBUG: SundialsIntegrator: dmdt 1.00013393074 times larger than last time (counting 335/500).\n"
       ]
      },
      {
       "output_type": "stream",
       "stream": "stderr",
       "text": [
        "[2013-01-22 18:59:21] DEBUG: SundialsIntegrator: t=5.05e-12, last_dmdt=2.62e+03 * stopping_dmdt, next dt=1.5e-14.\n"
       ]
      },
      {
       "output_type": "stream",
       "stream": "stderr",
       "text": [
        "[2013-01-22 18:59:21] DEBUG: SundialsIntegrator: dmdt 1.00013297738 times larger than last time (counting 336/500).\n"
       ]
      },
      {
       "output_type": "stream",
       "stream": "stderr",
       "text": [
        "[2013-01-22 18:59:21] DEBUG: SundialsIntegrator: t=5.07e-12, last_dmdt=2.62e+03 * stopping_dmdt, next dt=1.5e-14.\n"
       ]
      },
      {
       "output_type": "stream",
       "stream": "stderr",
       "text": [
        "[2013-01-22 18:59:21] DEBUG: SundialsIntegrator: dmdt 1.00013202204 times larger than last time (counting 337/500).\n"
       ]
      },
      {
       "output_type": "stream",
       "stream": "stderr",
       "text": [
        "[2013-01-22 18:59:21] DEBUG: SundialsIntegrator: t=5.08e-12, last_dmdt=2.62e+03 * stopping_dmdt, next dt=1.5e-14.\n"
       ]
      },
      {
       "output_type": "stream",
       "stream": "stderr",
       "text": [
        "[2013-01-22 18:59:21] DEBUG: SundialsIntegrator: dmdt 1.00013106472 times larger than last time (counting 338/500).\n"
       ]
      },
      {
       "output_type": "stream",
       "stream": "stderr",
       "text": [
        "[2013-01-22 18:59:21] DEBUG: SundialsIntegrator: t=5.1e-12, last_dmdt=2.62e+03 * stopping_dmdt, next dt=1.5e-14.\n"
       ]
      },
      {
       "output_type": "stream",
       "stream": "stderr",
       "text": [
        "[2013-01-22 18:59:21] DEBUG: SundialsIntegrator: dmdt 1.00013010542 times larger than last time (counting 339/500).\n"
       ]
      },
      {
       "output_type": "stream",
       "stream": "stderr",
       "text": [
        "[2013-01-22 18:59:21] DEBUG: SundialsIntegrator: t=5.11e-12, last_dmdt=2.62e+03 * stopping_dmdt, next dt=1.5e-14.\n"
       ]
      },
      {
       "output_type": "stream",
       "stream": "stderr",
       "text": [
        "[2013-01-22 18:59:21] DEBUG: SundialsIntegrator: dmdt 1.00012914414 times larger than last time (counting 340/500).\n"
       ]
      },
      {
       "output_type": "stream",
       "stream": "stderr",
       "text": [
        "[2013-01-22 18:59:21] DEBUG: SundialsIntegrator: t=5.13e-12, last_dmdt=2.62e+03 * stopping_dmdt, next dt=1.5e-14.\n"
       ]
      },
      {
       "output_type": "stream",
       "stream": "stderr",
       "text": [
        "[2013-01-22 18:59:21] DEBUG: SundialsIntegrator: dmdt 1.00012818087 times larger than last time (counting 341/500).\n"
       ]
      },
      {
       "output_type": "stream",
       "stream": "stderr",
       "text": [
        "[2013-01-22 18:59:21] DEBUG: SundialsIntegrator: t=5.14e-12, last_dmdt=2.62e+03 * stopping_dmdt, next dt=1.5e-14.\n"
       ]
      },
      {
       "output_type": "stream",
       "stream": "stderr",
       "text": [
        "[2013-01-22 18:59:21] DEBUG: SundialsIntegrator: dmdt 1.00012721562 times larger than last time (counting 342/500).\n"
       ]
      },
      {
       "output_type": "stream",
       "stream": "stderr",
       "text": [
        "[2013-01-22 18:59:21] DEBUG: SundialsIntegrator: t=5.16e-12, last_dmdt=2.62e+03 * stopping_dmdt, next dt=1.5e-14.\n"
       ]
      },
      {
       "output_type": "stream",
       "stream": "stderr",
       "text": [
        "[2013-01-22 18:59:21] DEBUG: SundialsIntegrator: dmdt 1.00012624838 times larger than last time (counting 343/500).\n"
       ]
      },
      {
       "output_type": "stream",
       "stream": "stderr",
       "text": [
        "[2013-01-22 18:59:21] DEBUG: SundialsIntegrator: t=5.17e-12, last_dmdt=2.62e+03 * stopping_dmdt, next dt=1.5e-14.\n"
       ]
      },
      {
       "output_type": "stream",
       "stream": "stderr",
       "text": [
        "[2013-01-22 18:59:21] DEBUG: SundialsIntegrator: dmdt 1.00012527916 times larger than last time (counting 344/500).\n"
       ]
      },
      {
       "output_type": "stream",
       "stream": "stderr",
       "text": [
        "[2013-01-22 18:59:21] DEBUG: SundialsIntegrator: t=5.19e-12, last_dmdt=2.62e+03 * stopping_dmdt, next dt=1.5e-14.\n"
       ]
      },
      {
       "output_type": "stream",
       "stream": "stderr",
       "text": [
        "[2013-01-22 18:59:21] DEBUG: SundialsIntegrator: dmdt 1.00012430794 times larger than last time (counting 345/500).\n"
       ]
      },
      {
       "output_type": "stream",
       "stream": "stderr",
       "text": [
        "[2013-01-22 18:59:21] DEBUG: SundialsIntegrator: t=5.2e-12, last_dmdt=2.62e+03 * stopping_dmdt, next dt=1.5e-14.\n"
       ]
      },
      {
       "output_type": "stream",
       "stream": "stderr",
       "text": [
        "[2013-01-22 18:59:21] DEBUG: SundialsIntegrator: dmdt 1.00012333473 times larger than last time (counting 346/500).\n"
       ]
      },
      {
       "output_type": "stream",
       "stream": "stderr",
       "text": [
        "[2013-01-22 18:59:21] DEBUG: SundialsIntegrator: t=5.22e-12, last_dmdt=2.62e+03 * stopping_dmdt, next dt=1.5e-14.\n"
       ]
      },
      {
       "output_type": "stream",
       "stream": "stderr",
       "text": [
        "[2013-01-22 18:59:21] DEBUG: SundialsIntegrator: dmdt 1.00012236142 times larger than last time (counting 347/500).\n"
       ]
      },
      {
       "output_type": "stream",
       "stream": "stderr",
       "text": [
        "[2013-01-22 18:59:21] DEBUG: SundialsIntegrator: t=5.23e-12, last_dmdt=2.62e+03 * stopping_dmdt, next dt=1.5e-14.\n"
       ]
      },
      {
       "output_type": "stream",
       "stream": "stderr",
       "text": [
        "[2013-01-22 18:59:21] DEBUG: SundialsIntegrator: dmdt 1.00012138567 times larger than last time (counting 348/500).\n"
       ]
      },
      {
       "output_type": "stream",
       "stream": "stderr",
       "text": [
        "[2013-01-22 18:59:21] DEBUG: SundialsIntegrator: t=5.25e-12, last_dmdt=2.62e+03 * stopping_dmdt, next dt=1.5e-14.\n"
       ]
      },
      {
       "output_type": "stream",
       "stream": "stderr",
       "text": [
        "[2013-01-22 18:59:21] DEBUG: SundialsIntegrator: dmdt 1.00012040448 times larger than last time (counting 349/500).\n"
       ]
      },
      {
       "output_type": "stream",
       "stream": "stderr",
       "text": [
        "[2013-01-22 18:59:21] DEBUG: SundialsIntegrator: t=5.26e-12, last_dmdt=2.62e+03 * stopping_dmdt, next dt=1.5e-14.\n"
       ]
      },
      {
       "output_type": "stream",
       "stream": "stderr",
       "text": [
        "[2013-01-22 18:59:21] DEBUG: SundialsIntegrator: dmdt 1.00011942346 times larger than last time (counting 350/500).\n"
       ]
      },
      {
       "output_type": "stream",
       "stream": "stderr",
       "text": [
        "[2013-01-22 18:59:21] DEBUG: SundialsIntegrator: t=5.28e-12, last_dmdt=2.62e+03 * stopping_dmdt, next dt=1.5e-14.\n"
       ]
      },
      {
       "output_type": "stream",
       "stream": "stderr",
       "text": [
        "[2013-01-22 18:59:21] DEBUG: SundialsIntegrator: dmdt 1.00011844045 times larger than last time (counting 351/500).\n"
       ]
      },
      {
       "output_type": "stream",
       "stream": "stderr",
       "text": [
        "[2013-01-22 18:59:21] DEBUG: SundialsIntegrator: t=5.29e-12, last_dmdt=2.62e+03 * stopping_dmdt, next dt=1.5e-14.\n"
       ]
      },
      {
       "output_type": "stream",
       "stream": "stderr",
       "text": [
        "[2013-01-22 18:59:21] DEBUG: SundialsIntegrator: dmdt 1.00011745545 times larger than last time (counting 352/500).\n"
       ]
      },
      {
       "output_type": "stream",
       "stream": "stderr",
       "text": [
        "[2013-01-22 18:59:21] DEBUG: SundialsIntegrator: t=5.31e-12, last_dmdt=2.63e+03 * stopping_dmdt, next dt=1.5e-14.\n"
       ]
      },
      {
       "output_type": "stream",
       "stream": "stderr",
       "text": [
        "[2013-01-22 18:59:21] DEBUG: SundialsIntegrator: dmdt 1.00011646845 times larger than last time (counting 353/500).\n"
       ]
      },
      {
       "output_type": "stream",
       "stream": "stderr",
       "text": [
        "[2013-01-22 18:59:21] DEBUG: SundialsIntegrator: t=5.32e-12, last_dmdt=2.63e+03 * stopping_dmdt, next dt=1.5e-14.\n"
       ]
      },
      {
       "output_type": "stream",
       "stream": "stderr",
       "text": [
        "[2013-01-22 18:59:21] DEBUG: SundialsIntegrator: dmdt 1.00011547946 times larger than last time (counting 354/500).\n"
       ]
      },
      {
       "output_type": "stream",
       "stream": "stderr",
       "text": [
        "[2013-01-22 18:59:21] DEBUG: SundialsIntegrator: t=5.34e-12, last_dmdt=2.63e+03 * stopping_dmdt, next dt=1.5e-14.\n"
       ]
      },
      {
       "output_type": "stream",
       "stream": "stderr",
       "text": [
        "[2013-01-22 18:59:21] DEBUG: SundialsIntegrator: dmdt 1.00011448846 times larger than last time (counting 355/500).\n"
       ]
      },
      {
       "output_type": "stream",
       "stream": "stderr",
       "text": [
        "[2013-01-22 18:59:21] DEBUG: SundialsIntegrator: t=5.35e-12, last_dmdt=2.63e+03 * stopping_dmdt, next dt=1.5e-14.\n"
       ]
      },
      {
       "output_type": "stream",
       "stream": "stderr",
       "text": [
        "[2013-01-22 18:59:21] DEBUG: SundialsIntegrator: dmdt 1.00011349548 times larger than last time (counting 356/500).\n"
       ]
      },
      {
       "output_type": "stream",
       "stream": "stderr",
       "text": [
        "[2013-01-22 18:59:21] DEBUG: SundialsIntegrator: t=5.37e-12, last_dmdt=2.63e+03 * stopping_dmdt, next dt=1.5e-14.\n"
       ]
      },
      {
       "output_type": "stream",
       "stream": "stderr",
       "text": [
        "[2013-01-22 18:59:21] DEBUG: SundialsIntegrator: dmdt 1.00011250049 times larger than last time (counting 357/500).\n"
       ]
      },
      {
       "output_type": "stream",
       "stream": "stderr",
       "text": [
        "[2013-01-22 18:59:21] DEBUG: SundialsIntegrator: t=5.38e-12, last_dmdt=2.63e+03 * stopping_dmdt, next dt=1.5e-14.\n"
       ]
      },
      {
       "output_type": "stream",
       "stream": "stderr",
       "text": [
        "[2013-01-22 18:59:21] DEBUG: SundialsIntegrator: dmdt 1.00011150349 times larger than last time (counting 358/500).\n"
       ]
      },
      {
       "output_type": "stream",
       "stream": "stderr",
       "text": [
        "[2013-01-22 18:59:21] DEBUG: SundialsIntegrator: t=5.4e-12, last_dmdt=2.63e+03 * stopping_dmdt, next dt=1.5e-14.\n"
       ]
      },
      {
       "output_type": "stream",
       "stream": "stderr",
       "text": [
        "[2013-01-22 18:59:21] DEBUG: SundialsIntegrator: dmdt 1.00011050449 times larger than last time (counting 359/500).\n"
       ]
      },
      {
       "output_type": "stream",
       "stream": "stderr",
       "text": [
        "[2013-01-22 18:59:21] DEBUG: SundialsIntegrator: t=5.41e-12, last_dmdt=2.63e+03 * stopping_dmdt, next dt=1.5e-14.\n"
       ]
      },
      {
       "output_type": "stream",
       "stream": "stderr",
       "text": [
        "[2013-01-22 18:59:21] DEBUG: SundialsIntegrator: dmdt 1.00010950349 times larger than last time (counting 360/500).\n"
       ]
      },
      {
       "output_type": "stream",
       "stream": "stderr",
       "text": [
        "[2013-01-22 18:59:21] DEBUG: SundialsIntegrator: t=5.43e-12, last_dmdt=2.63e+03 * stopping_dmdt, next dt=1.5e-14.\n"
       ]
      },
      {
       "output_type": "stream",
       "stream": "stderr",
       "text": [
        "[2013-01-22 18:59:21] DEBUG: SundialsIntegrator: dmdt 1.00010850048 times larger than last time (counting 361/500).\n"
       ]
      },
      {
       "output_type": "stream",
       "stream": "stderr",
       "text": [
        "[2013-01-22 18:59:21] DEBUG: SundialsIntegrator: t=5.44e-12, last_dmdt=2.63e+03 * stopping_dmdt, next dt=1.5e-14.\n"
       ]
      },
      {
       "output_type": "stream",
       "stream": "stderr",
       "text": [
        "[2013-01-22 18:59:21] DEBUG: SundialsIntegrator: dmdt 1.00010749545 times larger than last time (counting 362/500).\n"
       ]
      },
      {
       "output_type": "stream",
       "stream": "stderr",
       "text": [
        "[2013-01-22 18:59:21] DEBUG: SundialsIntegrator: t=5.46e-12, last_dmdt=2.63e+03 * stopping_dmdt, next dt=1.5e-14.\n"
       ]
      },
      {
       "output_type": "stream",
       "stream": "stderr",
       "text": [
        "[2013-01-22 18:59:21] DEBUG: SundialsIntegrator: dmdt 1.00010650056 times larger than last time (counting 363/500).\n"
       ]
      },
      {
       "output_type": "stream",
       "stream": "stderr",
       "text": [
        "[2013-01-22 18:59:21] DEBUG: SundialsIntegrator: t=5.47e-12, last_dmdt=2.63e+03 * stopping_dmdt, next dt=1.5e-14.\n"
       ]
      },
      {
       "output_type": "stream",
       "stream": "stderr",
       "text": [
        "[2013-01-22 18:59:21] DEBUG: SundialsIntegrator: dmdt 1.0001054996 times larger than last time (counting 364/500).\n"
       ]
      },
      {
       "output_type": "stream",
       "stream": "stderr",
       "text": [
        "[2013-01-22 18:59:21] DEBUG: SundialsIntegrator: t=5.49e-12, last_dmdt=2.63e+03 * stopping_dmdt, next dt=1.5e-14.\n"
       ]
      },
      {
       "output_type": "stream",
       "stream": "stderr",
       "text": [
        "[2013-01-22 18:59:21] DEBUG: SundialsIntegrator: dmdt 1.00010447637 times larger than last time (counting 365/500).\n"
       ]
      },
      {
       "output_type": "stream",
       "stream": "stderr",
       "text": [
        "[2013-01-22 18:59:21] DEBUG: SundialsIntegrator: t=5.5e-12, last_dmdt=2.63e+03 * stopping_dmdt, next dt=1.5e-14.\n"
       ]
      },
      {
       "output_type": "stream",
       "stream": "stderr",
       "text": [
        "[2013-01-22 18:59:21] DEBUG: SundialsIntegrator: dmdt 1.0001034643 times larger than last time (counting 366/500).\n"
       ]
      },
      {
       "output_type": "stream",
       "stream": "stderr",
       "text": [
        "[2013-01-22 18:59:21] DEBUG: SundialsIntegrator: t=5.52e-12, last_dmdt=2.63e+03 * stopping_dmdt, next dt=1.5e-14.\n"
       ]
      },
      {
       "output_type": "stream",
       "stream": "stderr",
       "text": [
        "[2013-01-22 18:59:21] DEBUG: SundialsIntegrator: dmdt 1.00010245028 times larger than last time (counting 367/500).\n"
       ]
      },
      {
       "output_type": "stream",
       "stream": "stderr",
       "text": [
        "[2013-01-22 18:59:21] DEBUG: SundialsIntegrator: t=5.53e-12, last_dmdt=2.63e+03 * stopping_dmdt, next dt=1.5e-14.\n"
       ]
      },
      {
       "output_type": "stream",
       "stream": "stderr",
       "text": [
        "[2013-01-22 18:59:21] DEBUG: SundialsIntegrator: dmdt 1.00010143431 times larger than last time (counting 368/500).\n"
       ]
      },
      {
       "output_type": "stream",
       "stream": "stderr",
       "text": [
        "[2013-01-22 18:59:21] DEBUG: SundialsIntegrator: t=5.55e-12, last_dmdt=2.63e+03 * stopping_dmdt, next dt=1.5e-14.\n"
       ]
      },
      {
       "output_type": "stream",
       "stream": "stderr",
       "text": [
        "[2013-01-22 18:59:21] DEBUG: SundialsIntegrator: dmdt 1.00010041639 times larger than last time (counting 369/500).\n"
       ]
      },
      {
       "output_type": "stream",
       "stream": "stderr",
       "text": [
        "[2013-01-22 18:59:21] DEBUG: SundialsIntegrator: t=5.56e-12, last_dmdt=2.63e+03 * stopping_dmdt, next dt=1.5e-14.\n"
       ]
      },
      {
       "output_type": "stream",
       "stream": "stderr",
       "text": [
        "[2013-01-22 18:59:21] DEBUG: SundialsIntegrator: dmdt 1.00009939651 times larger than last time (counting 370/500).\n"
       ]
      },
      {
       "output_type": "stream",
       "stream": "stderr",
       "text": [
        "[2013-01-22 18:59:21] DEBUG: SundialsIntegrator: t=5.58e-12, last_dmdt=2.63e+03 * stopping_dmdt, next dt=1.5e-14.\n"
       ]
      },
      {
       "output_type": "stream",
       "stream": "stderr",
       "text": [
        "[2013-01-22 18:59:21] DEBUG: SundialsIntegrator: dmdt 1.00009837468 times larger than last time (counting 371/500).\n"
       ]
      },
      {
       "output_type": "stream",
       "stream": "stderr",
       "text": [
        "[2013-01-22 18:59:21] DEBUG: SundialsIntegrator: t=5.59e-12, last_dmdt=2.63e+03 * stopping_dmdt, next dt=1.5e-14.\n"
       ]
      },
      {
       "output_type": "stream",
       "stream": "stderr",
       "text": [
        "[2013-01-22 18:59:21] DEBUG: SundialsIntegrator: dmdt 1.0000973509 times larger than last time (counting 372/500).\n"
       ]
      },
      {
       "output_type": "stream",
       "stream": "stderr",
       "text": [
        "[2013-01-22 18:59:21] DEBUG: SundialsIntegrator: t=5.61e-12, last_dmdt=2.63e+03 * stopping_dmdt, next dt=1.5e-14.\n"
       ]
      },
      {
       "output_type": "stream",
       "stream": "stderr",
       "text": [
        "[2013-01-22 18:59:21] DEBUG: SundialsIntegrator: dmdt 1.00009632517 times larger than last time (counting 373/500).\n"
       ]
      },
      {
       "output_type": "stream",
       "stream": "stderr",
       "text": [
        "[2013-01-22 18:59:21] DEBUG: SundialsIntegrator: t=5.62e-12, last_dmdt=2.63e+03 * stopping_dmdt, next dt=1.5e-14.\n"
       ]
      },
      {
       "output_type": "stream",
       "stream": "stderr",
       "text": [
        "[2013-01-22 18:59:21] DEBUG: SundialsIntegrator: dmdt 1.00009529748 times larger than last time (counting 374/500).\n"
       ]
      },
      {
       "output_type": "stream",
       "stream": "stderr",
       "text": [
        "[2013-01-22 18:59:21] DEBUG: SundialsIntegrator: t=5.64e-12, last_dmdt=2.63e+03 * stopping_dmdt, next dt=1.5e-14.\n"
       ]
      },
      {
       "output_type": "stream",
       "stream": "stderr",
       "text": [
        "[2013-01-22 18:59:21] DEBUG: SundialsIntegrator: dmdt 1.00009426784 times larger than last time (counting 375/500).\n"
       ]
      },
      {
       "output_type": "stream",
       "stream": "stderr",
       "text": [
        "[2013-01-22 18:59:21] DEBUG: SundialsIntegrator: t=5.65e-12, last_dmdt=2.63e+03 * stopping_dmdt, next dt=1.5e-14.\n"
       ]
      },
      {
       "output_type": "stream",
       "stream": "stderr",
       "text": [
        "[2013-01-22 18:59:21] DEBUG: SundialsIntegrator: dmdt 1.00009323624 times larger than last time (counting 376/500).\n"
       ]
      },
      {
       "output_type": "stream",
       "stream": "stderr",
       "text": [
        "[2013-01-22 18:59:21] DEBUG: SundialsIntegrator: t=5.67e-12, last_dmdt=2.63e+03 * stopping_dmdt, next dt=1.5e-14.\n"
       ]
      },
      {
       "output_type": "stream",
       "stream": "stderr",
       "text": [
        "[2013-01-22 18:59:21] DEBUG: SundialsIntegrator: dmdt 1.00009220269 times larger than last time (counting 377/500).\n"
       ]
      },
      {
       "output_type": "stream",
       "stream": "stderr",
       "text": [
        "[2013-01-22 18:59:21] DEBUG: SundialsIntegrator: t=5.68e-12, last_dmdt=2.63e+03 * stopping_dmdt, next dt=1.5e-14.\n"
       ]
      },
      {
       "output_type": "stream",
       "stream": "stderr",
       "text": [
        "[2013-01-22 18:59:21] DEBUG: SundialsIntegrator: dmdt 1.00009116719 times larger than last time (counting 378/500).\n"
       ]
      },
      {
       "output_type": "stream",
       "stream": "stderr",
       "text": [
        "[2013-01-22 18:59:21] DEBUG: SundialsIntegrator: t=5.7e-12, last_dmdt=2.63e+03 * stopping_dmdt, next dt=1.5e-14.\n"
       ]
      },
      {
       "output_type": "stream",
       "stream": "stderr",
       "text": [
        "[2013-01-22 18:59:21] DEBUG: SundialsIntegrator: dmdt 1.00009014688 times larger than last time (counting 379/500).\n"
       ]
      },
      {
       "output_type": "stream",
       "stream": "stderr",
       "text": [
        "[2013-01-22 18:59:21] DEBUG: SundialsIntegrator: t=5.71e-12, last_dmdt=2.63e+03 * stopping_dmdt, next dt=1.5e-14.\n"
       ]
      },
      {
       "output_type": "stream",
       "stream": "stderr",
       "text": [
        "[2013-01-22 18:59:21] DEBUG: SundialsIntegrator: dmdt 1.00008911758 times larger than last time (counting 380/500).\n"
       ]
      },
      {
       "output_type": "stream",
       "stream": "stderr",
       "text": [
        "[2013-01-22 18:59:21] DEBUG: SundialsIntegrator: t=5.73e-12, last_dmdt=2.63e+03 * stopping_dmdt, next dt=1.5e-14.\n"
       ]
      },
      {
       "output_type": "stream",
       "stream": "stderr",
       "text": [
        "[2013-01-22 18:59:21] DEBUG: SundialsIntegrator: dmdt 1.00008805996 times larger than last time (counting 381/500).\n"
       ]
      },
      {
       "output_type": "stream",
       "stream": "stderr",
       "text": [
        "[2013-01-22 18:59:21] DEBUG: SundialsIntegrator: t=5.74e-12, last_dmdt=2.63e+03 * stopping_dmdt, next dt=1.5e-14.\n"
       ]
      },
      {
       "output_type": "stream",
       "stream": "stderr",
       "text": [
        "[2013-01-22 18:59:21] DEBUG: SundialsIntegrator: dmdt 1.00008701802 times larger than last time (counting 382/500).\n"
       ]
      },
      {
       "output_type": "stream",
       "stream": "stderr",
       "text": [
        "[2013-01-22 18:59:21] DEBUG: SundialsIntegrator: t=5.76e-12, last_dmdt=2.63e+03 * stopping_dmdt, next dt=1.5e-14.\n"
       ]
      },
      {
       "output_type": "stream",
       "stream": "stderr",
       "text": [
        "[2013-01-22 18:59:21] DEBUG: SundialsIntegrator: dmdt 1.00008597422 times larger than last time (counting 383/500).\n"
       ]
      },
      {
       "output_type": "stream",
       "stream": "stderr",
       "text": [
        "[2013-01-22 18:59:21] DEBUG: SundialsIntegrator: t=5.77e-12, last_dmdt=2.63e+03 * stopping_dmdt, next dt=1.5e-14.\n"
       ]
      },
      {
       "output_type": "stream",
       "stream": "stderr",
       "text": [
        "[2013-01-22 18:59:21] DEBUG: SundialsIntegrator: dmdt 1.00008492856 times larger than last time (counting 384/500).\n"
       ]
      },
      {
       "output_type": "stream",
       "stream": "stderr",
       "text": [
        "[2013-01-22 18:59:21] DEBUG: SundialsIntegrator: t=5.79e-12, last_dmdt=2.63e+03 * stopping_dmdt, next dt=1.5e-14.\n"
       ]
      },
      {
       "output_type": "stream",
       "stream": "stderr",
       "text": [
        "[2013-01-22 18:59:21] DEBUG: SundialsIntegrator: dmdt 1.00008388104 times larger than last time (counting 385/500).\n"
       ]
      },
      {
       "output_type": "stream",
       "stream": "stderr",
       "text": [
        "[2013-01-22 18:59:21] DEBUG: SundialsIntegrator: t=5.8e-12, last_dmdt=2.63e+03 * stopping_dmdt, next dt=1.5e-14.\n"
       ]
      },
      {
       "output_type": "stream",
       "stream": "stderr",
       "text": [
        "[2013-01-22 18:59:21] DEBUG: SundialsIntegrator: dmdt 1.00008283167 times larger than last time (counting 386/500).\n"
       ]
      },
      {
       "output_type": "stream",
       "stream": "stderr",
       "text": [
        "[2013-01-22 18:59:21] DEBUG: SundialsIntegrator: t=5.82e-12, last_dmdt=2.63e+03 * stopping_dmdt, next dt=1.5e-14.\n"
       ]
      },
      {
       "output_type": "stream",
       "stream": "stderr",
       "text": [
        "[2013-01-22 18:59:21] DEBUG: SundialsIntegrator: dmdt 1.00008178044 times larger than last time (counting 387/500).\n"
       ]
      },
      {
       "output_type": "stream",
       "stream": "stderr",
       "text": [
        "[2013-01-22 18:59:21] DEBUG: SundialsIntegrator: t=5.83e-12, last_dmdt=2.63e+03 * stopping_dmdt, next dt=1.5e-14.\n"
       ]
      },
      {
       "output_type": "stream",
       "stream": "stderr",
       "text": [
        "[2013-01-22 18:59:21] DEBUG: SundialsIntegrator: dmdt 1.00008072736 times larger than last time (counting 388/500).\n"
       ]
      },
      {
       "output_type": "stream",
       "stream": "stderr",
       "text": [
        "[2013-01-22 18:59:21] DEBUG: SundialsIntegrator: t=5.85e-12, last_dmdt=2.63e+03 * stopping_dmdt, next dt=1.5e-14.\n"
       ]
      },
      {
       "output_type": "stream",
       "stream": "stderr",
       "text": [
        "[2013-01-22 18:59:21] DEBUG: SundialsIntegrator: dmdt 1.00007967243 times larger than last time (counting 389/500).\n"
       ]
      },
      {
       "output_type": "stream",
       "stream": "stderr",
       "text": [
        "[2013-01-22 18:59:21] DEBUG: SundialsIntegrator: t=5.86e-12, last_dmdt=2.63e+03 * stopping_dmdt, next dt=1.5e-14.\n"
       ]
      },
      {
       "output_type": "stream",
       "stream": "stderr",
       "text": [
        "[2013-01-22 18:59:21] DEBUG: SundialsIntegrator: dmdt 1.00007861566 times larger than last time (counting 390/500).\n"
       ]
      },
      {
       "output_type": "stream",
       "stream": "stderr",
       "text": [
        "[2013-01-22 18:59:21] DEBUG: SundialsIntegrator: t=5.88e-12, last_dmdt=2.63e+03 * stopping_dmdt, next dt=1.5e-14.\n"
       ]
      },
      {
       "output_type": "stream",
       "stream": "stderr",
       "text": [
        "[2013-01-22 18:59:21] DEBUG: SundialsIntegrator: dmdt 1.00007755704 times larger than last time (counting 391/500).\n"
       ]
      },
      {
       "output_type": "stream",
       "stream": "stderr",
       "text": [
        "[2013-01-22 18:59:21] DEBUG: SundialsIntegrator: t=5.89e-12, last_dmdt=2.64e+03 * stopping_dmdt, next dt=1.5e-14.\n"
       ]
      },
      {
       "output_type": "stream",
       "stream": "stderr",
       "text": [
        "[2013-01-22 18:59:21] DEBUG: SundialsIntegrator: dmdt 1.00007649658 times larger than last time (counting 392/500).\n"
       ]
      },
      {
       "output_type": "stream",
       "stream": "stderr",
       "text": [
        "[2013-01-22 18:59:21] DEBUG: SundialsIntegrator: t=5.91e-12, last_dmdt=2.64e+03 * stopping_dmdt, next dt=1.5e-14.\n"
       ]
      },
      {
       "output_type": "stream",
       "stream": "stderr",
       "text": [
        "[2013-01-22 18:59:21] DEBUG: SundialsIntegrator: dmdt 1.00007543429 times larger than last time (counting 393/500).\n"
       ]
      },
      {
       "output_type": "stream",
       "stream": "stderr",
       "text": [
        "[2013-01-22 18:59:21] DEBUG: SundialsIntegrator: t=5.92e-12, last_dmdt=2.64e+03 * stopping_dmdt, next dt=1.5e-14.\n"
       ]
      },
      {
       "output_type": "stream",
       "stream": "stderr",
       "text": [
        "[2013-01-22 18:59:21] DEBUG: SundialsIntegrator: dmdt 1.00007437015 times larger than last time (counting 394/500).\n"
       ]
      },
      {
       "output_type": "stream",
       "stream": "stderr",
       "text": [
        "[2013-01-22 18:59:21] DEBUG: SundialsIntegrator: t=5.94e-12, last_dmdt=2.64e+03 * stopping_dmdt, next dt=1.5e-14.\n"
       ]
      },
      {
       "output_type": "stream",
       "stream": "stderr",
       "text": [
        "[2013-01-22 18:59:21] DEBUG: SundialsIntegrator: dmdt 1.00007331741 times larger than last time (counting 395/500).\n"
       ]
      },
      {
       "output_type": "stream",
       "stream": "stderr",
       "text": [
        "[2013-01-22 18:59:21] DEBUG: SundialsIntegrator: t=5.95e-12, last_dmdt=2.64e+03 * stopping_dmdt, next dt=1.5e-14.\n"
       ]
      },
      {
       "output_type": "stream",
       "stream": "stderr",
       "text": [
        "[2013-01-22 18:59:21] DEBUG: SundialsIntegrator: dmdt 1.00007225645 times larger than last time (counting 396/500).\n"
       ]
      },
      {
       "output_type": "stream",
       "stream": "stderr",
       "text": [
        "[2013-01-22 18:59:21] DEBUG: SundialsIntegrator: t=5.97e-12, last_dmdt=2.64e+03 * stopping_dmdt, next dt=1.5e-14.\n"
       ]
      },
      {
       "output_type": "stream",
       "stream": "stderr",
       "text": [
        "[2013-01-22 18:59:21] DEBUG: SundialsIntegrator: dmdt 1.00007117497 times larger than last time (counting 397/500).\n"
       ]
      },
      {
       "output_type": "stream",
       "stream": "stderr",
       "text": [
        "[2013-01-22 18:59:21] DEBUG: SundialsIntegrator: t=5.98e-12, last_dmdt=2.64e+03 * stopping_dmdt, next dt=1.5e-14.\n"
       ]
      },
      {
       "output_type": "stream",
       "stream": "stderr",
       "text": [
        "[2013-01-22 18:59:21] DEBUG: SundialsIntegrator: dmdt 1.00007010454 times larger than last time (counting 398/500).\n"
       ]
      },
      {
       "output_type": "stream",
       "stream": "stderr",
       "text": [
        "[2013-01-22 18:59:21] DEBUG: SundialsIntegrator: t=6e-12, last_dmdt=2.64e+03 * stopping_dmdt, next dt=1.5e-14.\n"
       ]
      },
      {
       "output_type": "stream",
       "stream": "stderr",
       "text": [
        "[2013-01-22 18:59:21] DEBUG: SundialsIntegrator: dmdt 1.00006903235 times larger than last time (counting 399/500).\n"
       ]
      },
      {
       "output_type": "stream",
       "stream": "stderr",
       "text": [
        "[2013-01-22 18:59:21] DEBUG: SundialsIntegrator: t=6.01e-12, last_dmdt=2.64e+03 * stopping_dmdt, next dt=1.5e-14.\n"
       ]
      },
      {
       "output_type": "stream",
       "stream": "stderr",
       "text": [
        "[2013-01-22 18:59:21] DEBUG: SundialsIntegrator: dmdt 1.0000679584 times larger than last time (counting 400/500).\n"
       ]
      },
      {
       "output_type": "stream",
       "stream": "stderr",
       "text": [
        "[2013-01-22 18:59:21] DEBUG: SundialsIntegrator: t=6.03e-12, last_dmdt=2.64e+03 * stopping_dmdt, next dt=1.5e-14.\n"
       ]
      },
      {
       "output_type": "stream",
       "stream": "stderr",
       "text": [
        "[2013-01-22 18:59:21] DEBUG: SundialsIntegrator: dmdt 1.00006688271 times larger than last time (counting 401/500).\n"
       ]
      },
      {
       "output_type": "stream",
       "stream": "stderr",
       "text": [
        "[2013-01-22 18:59:21] DEBUG: SundialsIntegrator: t=6.04e-12, last_dmdt=2.64e+03 * stopping_dmdt, next dt=1.5e-14.\n"
       ]
      },
      {
       "output_type": "stream",
       "stream": "stderr",
       "text": [
        "[2013-01-22 18:59:21] DEBUG: SundialsIntegrator: dmdt 1.00006580527 times larger than last time (counting 402/500).\n"
       ]
      },
      {
       "output_type": "stream",
       "stream": "stderr",
       "text": [
        "[2013-01-22 18:59:21] DEBUG: SundialsIntegrator: t=6.06e-12, last_dmdt=2.64e+03 * stopping_dmdt, next dt=1.5e-14.\n"
       ]
      },
      {
       "output_type": "stream",
       "stream": "stderr",
       "text": [
        "[2013-01-22 18:59:21] DEBUG: SundialsIntegrator: dmdt 1.00006472609 times larger than last time (counting 403/500).\n"
       ]
      },
      {
       "output_type": "stream",
       "stream": "stderr",
       "text": [
        "[2013-01-22 18:59:21] DEBUG: SundialsIntegrator: t=6.07e-12, last_dmdt=2.64e+03 * stopping_dmdt, next dt=1.5e-14.\n"
       ]
      },
      {
       "output_type": "stream",
       "stream": "stderr",
       "text": [
        "[2013-01-22 18:59:21] DEBUG: SundialsIntegrator: dmdt 1.00006364517 times larger than last time (counting 404/500).\n"
       ]
      },
      {
       "output_type": "stream",
       "stream": "stderr",
       "text": [
        "[2013-01-22 18:59:21] DEBUG: SundialsIntegrator: t=6.09e-12, last_dmdt=2.64e+03 * stopping_dmdt, next dt=1.5e-14.\n"
       ]
      },
      {
       "output_type": "stream",
       "stream": "stderr",
       "text": [
        "[2013-01-22 18:59:21] DEBUG: SundialsIntegrator: dmdt 1.00006256252 times larger than last time (counting 405/500).\n"
       ]
      },
      {
       "output_type": "stream",
       "stream": "stderr",
       "text": [
        "[2013-01-22 18:59:21] DEBUG: SundialsIntegrator: t=6.1e-12, last_dmdt=2.64e+03 * stopping_dmdt, next dt=1.5e-14.\n"
       ]
      },
      {
       "output_type": "stream",
       "stream": "stderr",
       "text": [
        "[2013-01-22 18:59:21] DEBUG: SundialsIntegrator: dmdt 1.00006147814 times larger than last time (counting 406/500).\n"
       ]
      },
      {
       "output_type": "stream",
       "stream": "stderr",
       "text": [
        "[2013-01-22 18:59:21] DEBUG: SundialsIntegrator: t=6.12e-12, last_dmdt=2.64e+03 * stopping_dmdt, next dt=1.5e-14.\n"
       ]
      },
      {
       "output_type": "stream",
       "stream": "stderr",
       "text": [
        "[2013-01-22 18:59:21] DEBUG: SundialsIntegrator: dmdt 1.00006039204 times larger than last time (counting 407/500).\n"
       ]
      },
      {
       "output_type": "stream",
       "stream": "stderr",
       "text": [
        "[2013-01-22 18:59:21] DEBUG: SundialsIntegrator: t=6.13e-12, last_dmdt=2.64e+03 * stopping_dmdt, next dt=1.5e-14.\n"
       ]
      },
      {
       "output_type": "stream",
       "stream": "stderr",
       "text": [
        "[2013-01-22 18:59:21] DEBUG: SundialsIntegrator: dmdt 1.00005930421 times larger than last time (counting 408/500).\n"
       ]
      },
      {
       "output_type": "stream",
       "stream": "stderr",
       "text": [
        "[2013-01-22 18:59:21] DEBUG: SundialsIntegrator: t=6.15e-12, last_dmdt=2.64e+03 * stopping_dmdt, next dt=1.5e-14.\n"
       ]
      },
      {
       "output_type": "stream",
       "stream": "stderr",
       "text": [
        "[2013-01-22 18:59:21] DEBUG: SundialsIntegrator: dmdt 1.00005821467 times larger than last time (counting 409/500).\n"
       ]
      },
      {
       "output_type": "stream",
       "stream": "stderr",
       "text": [
        "[2013-01-22 18:59:21] DEBUG: SundialsIntegrator: t=6.16e-12, last_dmdt=2.64e+03 * stopping_dmdt, next dt=1.5e-14.\n"
       ]
      },
      {
       "output_type": "stream",
       "stream": "stderr",
       "text": [
        "[2013-01-22 18:59:21] DEBUG: SundialsIntegrator: dmdt 1.00005712341 times larger than last time (counting 410/500).\n"
       ]
      },
      {
       "output_type": "stream",
       "stream": "stderr",
       "text": [
        "[2013-01-22 18:59:21] DEBUG: SundialsIntegrator: t=6.18e-12, last_dmdt=2.64e+03 * stopping_dmdt, next dt=1.5e-14.\n"
       ]
      },
      {
       "output_type": "stream",
       "stream": "stderr",
       "text": [
        "[2013-01-22 18:59:21] DEBUG: SundialsIntegrator: dmdt 1.00005603884 times larger than last time (counting 411/500).\n"
       ]
      },
      {
       "output_type": "stream",
       "stream": "stderr",
       "text": [
        "[2013-01-22 18:59:21] DEBUG: SundialsIntegrator: t=6.19e-12, last_dmdt=2.64e+03 * stopping_dmdt, next dt=1.5e-14.\n"
       ]
      },
      {
       "output_type": "stream",
       "stream": "stderr",
       "text": [
        "[2013-01-22 18:59:21] DEBUG: SundialsIntegrator: dmdt 1.00005494793 times larger than last time (counting 412/500).\n"
       ]
      },
      {
       "output_type": "stream",
       "stream": "stderr",
       "text": [
        "[2013-01-22 18:59:21] DEBUG: SundialsIntegrator: t=6.21e-12, last_dmdt=2.64e+03 * stopping_dmdt, next dt=1.5e-14.\n"
       ]
      },
      {
       "output_type": "stream",
       "stream": "stderr",
       "text": [
        "[2013-01-22 18:59:21] DEBUG: SundialsIntegrator: dmdt 1.00005384445 times larger than last time (counting 413/500).\n"
       ]
      },
      {
       "output_type": "stream",
       "stream": "stderr",
       "text": [
        "[2013-01-22 18:59:21] DEBUG: SundialsIntegrator: t=6.22e-12, last_dmdt=2.64e+03 * stopping_dmdt, next dt=1.5e-14.\n"
       ]
      },
      {
       "output_type": "stream",
       "stream": "stderr",
       "text": [
        "[2013-01-22 18:59:21] DEBUG: SundialsIntegrator: dmdt 1.00005274701 times larger than last time (counting 414/500).\n"
       ]
      },
      {
       "output_type": "stream",
       "stream": "stderr",
       "text": [
        "[2013-01-22 18:59:21] DEBUG: SundialsIntegrator: t=6.24e-12, last_dmdt=2.64e+03 * stopping_dmdt, next dt=1.5e-14.\n"
       ]
      },
      {
       "output_type": "stream",
       "stream": "stderr",
       "text": [
        "[2013-01-22 18:59:21] DEBUG: SundialsIntegrator: dmdt 1.00005164791 times larger than last time (counting 415/500).\n"
       ]
      },
      {
       "output_type": "stream",
       "stream": "stderr",
       "text": [
        "[2013-01-22 18:59:21] DEBUG: SundialsIntegrator: t=6.25e-12, last_dmdt=2.64e+03 * stopping_dmdt, next dt=1.5e-14.\n"
       ]
      },
      {
       "output_type": "stream",
       "stream": "stderr",
       "text": [
        "[2013-01-22 18:59:21] DEBUG: SundialsIntegrator: dmdt 1.00005054717 times larger than last time (counting 416/500).\n"
       ]
      },
      {
       "output_type": "stream",
       "stream": "stderr",
       "text": [
        "[2013-01-22 18:59:21] DEBUG: SundialsIntegrator: t=6.27e-12, last_dmdt=2.64e+03 * stopping_dmdt, next dt=1.5e-14.\n"
       ]
      },
      {
       "output_type": "stream",
       "stream": "stderr",
       "text": [
        "[2013-01-22 18:59:21] DEBUG: SundialsIntegrator: dmdt 1.00004944478 times larger than last time (counting 417/500).\n"
       ]
      },
      {
       "output_type": "stream",
       "stream": "stderr",
       "text": [
        "[2013-01-22 18:59:21] DEBUG: SundialsIntegrator: t=6.28e-12, last_dmdt=2.64e+03 * stopping_dmdt, next dt=1.5e-14.\n"
       ]
      },
      {
       "output_type": "stream",
       "stream": "stderr",
       "text": [
        "[2013-01-22 18:59:21] DEBUG: SundialsIntegrator: dmdt 1.00004834075 times larger than last time (counting 418/500).\n"
       ]
      },
      {
       "output_type": "stream",
       "stream": "stderr",
       "text": [
        "[2013-01-22 18:59:21] DEBUG: SundialsIntegrator: t=6.3e-12, last_dmdt=2.64e+03 * stopping_dmdt, next dt=1.5e-14.\n"
       ]
      },
      {
       "output_type": "stream",
       "stream": "stderr",
       "text": [
        "[2013-01-22 18:59:21] DEBUG: SundialsIntegrator: dmdt 1.0000472351 times larger than last time (counting 419/500).\n"
       ]
      },
      {
       "output_type": "stream",
       "stream": "stderr",
       "text": [
        "[2013-01-22 18:59:21] DEBUG: SundialsIntegrator: t=6.31e-12, last_dmdt=2.64e+03 * stopping_dmdt, next dt=1.5e-14.\n"
       ]
      },
      {
       "output_type": "stream",
       "stream": "stderr",
       "text": [
        "[2013-01-22 18:59:21] DEBUG: SundialsIntegrator: dmdt 1.00004612781 times larger than last time (counting 420/500).\n"
       ]
      },
      {
       "output_type": "stream",
       "stream": "stderr",
       "text": [
        "[2013-01-22 18:59:21] DEBUG: SundialsIntegrator: t=6.33e-12, last_dmdt=2.64e+03 * stopping_dmdt, next dt=1.5e-14.\n"
       ]
      },
      {
       "output_type": "stream",
       "stream": "stderr",
       "text": [
        "[2013-01-22 18:59:21] DEBUG: SundialsIntegrator: dmdt 1.0000450189 times larger than last time (counting 421/500).\n"
       ]
      },
      {
       "output_type": "stream",
       "stream": "stderr",
       "text": [
        "[2013-01-22 18:59:21] DEBUG: SundialsIntegrator: t=6.34e-12, last_dmdt=2.64e+03 * stopping_dmdt, next dt=1.5e-14.\n"
       ]
      },
      {
       "output_type": "stream",
       "stream": "stderr",
       "text": [
        "[2013-01-22 18:59:21] DEBUG: SundialsIntegrator: dmdt 1.00004390837 times larger than last time (counting 422/500).\n"
       ]
      },
      {
       "output_type": "stream",
       "stream": "stderr",
       "text": [
        "[2013-01-22 18:59:21] DEBUG: SundialsIntegrator: t=6.36e-12, last_dmdt=2.64e+03 * stopping_dmdt, next dt=1.5e-14.\n"
       ]
      },
      {
       "output_type": "stream",
       "stream": "stderr",
       "text": [
        "[2013-01-22 18:59:21] DEBUG: SundialsIntegrator: dmdt 1.00004279622 times larger than last time (counting 423/500).\n"
       ]
      },
      {
       "output_type": "stream",
       "stream": "stderr",
       "text": [
        "[2013-01-22 18:59:21] DEBUG: SundialsIntegrator: t=6.37e-12, last_dmdt=2.64e+03 * stopping_dmdt, next dt=1.5e-14.\n"
       ]
      },
      {
       "output_type": "stream",
       "stream": "stderr",
       "text": [
        "[2013-01-22 18:59:21] DEBUG: SundialsIntegrator: dmdt 1.00004168247 times larger than last time (counting 424/500).\n"
       ]
      },
      {
       "output_type": "stream",
       "stream": "stderr",
       "text": [
        "[2013-01-22 18:59:21] DEBUG: SundialsIntegrator: t=6.39e-12, last_dmdt=2.64e+03 * stopping_dmdt, next dt=1.5e-14.\n"
       ]
      },
      {
       "output_type": "stream",
       "stream": "stderr",
       "text": [
        "[2013-01-22 18:59:21] DEBUG: SundialsIntegrator: dmdt 1.00004056711 times larger than last time (counting 425/500).\n"
       ]
      },
      {
       "output_type": "stream",
       "stream": "stderr",
       "text": [
        "[2013-01-22 18:59:21] DEBUG: SundialsIntegrator: t=6.4e-12, last_dmdt=2.64e+03 * stopping_dmdt, next dt=1.5e-14.\n"
       ]
      },
      {
       "output_type": "stream",
       "stream": "stderr",
       "text": [
        "[2013-01-22 18:59:21] DEBUG: SundialsIntegrator: dmdt 1.00003945016 times larger than last time (counting 426/500).\n"
       ]
      },
      {
       "output_type": "stream",
       "stream": "stderr",
       "text": [
        "[2013-01-22 18:59:21] DEBUG: SundialsIntegrator: t=6.42e-12, last_dmdt=2.64e+03 * stopping_dmdt, next dt=1.5e-14.\n"
       ]
      },
      {
       "output_type": "stream",
       "stream": "stderr",
       "text": [
        "[2013-01-22 18:59:21] DEBUG: SundialsIntegrator: dmdt 1.00003833969 times larger than last time (counting 427/500).\n"
       ]
      },
      {
       "output_type": "stream",
       "stream": "stderr",
       "text": [
        "[2013-01-22 18:59:21] DEBUG: SundialsIntegrator: t=6.43e-12, last_dmdt=2.64e+03 * stopping_dmdt, next dt=1.5e-14.\n"
       ]
      },
      {
       "output_type": "stream",
       "stream": "stderr",
       "text": [
        "[2013-01-22 18:59:21] DEBUG: SundialsIntegrator: dmdt 1.00003722266 times larger than last time (counting 428/500).\n"
       ]
      },
      {
       "output_type": "stream",
       "stream": "stderr",
       "text": [
        "[2013-01-22 18:59:21] DEBUG: SundialsIntegrator: t=6.45e-12, last_dmdt=2.64e+03 * stopping_dmdt, next dt=1.5e-14.\n"
       ]
      },
      {
       "output_type": "stream",
       "stream": "stderr",
       "text": [
        "[2013-01-22 18:59:21] DEBUG: SundialsIntegrator: dmdt 1.00003609448 times larger than last time (counting 429/500).\n"
       ]
      },
      {
       "output_type": "stream",
       "stream": "stderr",
       "text": [
        "[2013-01-22 18:59:21] DEBUG: SundialsIntegrator: t=6.46e-12, last_dmdt=2.64e+03 * stopping_dmdt, next dt=1.5e-14.\n"
       ]
      },
      {
       "output_type": "stream",
       "stream": "stderr",
       "text": [
        "[2013-01-22 18:59:21] DEBUG: SundialsIntegrator: dmdt 1.00003497176 times larger than last time (counting 430/500).\n"
       ]
      },
      {
       "output_type": "stream",
       "stream": "stderr",
       "text": [
        "[2013-01-22 18:59:21] DEBUG: SundialsIntegrator: t=6.48e-12, last_dmdt=2.64e+03 * stopping_dmdt, next dt=1.5e-14.\n"
       ]
      },
      {
       "output_type": "stream",
       "stream": "stderr",
       "text": [
        "[2013-01-22 18:59:21] DEBUG: SundialsIntegrator: dmdt 1.0000338475 times larger than last time (counting 431/500).\n"
       ]
      },
      {
       "output_type": "stream",
       "stream": "stderr",
       "text": [
        "[2013-01-22 18:59:21] DEBUG: SundialsIntegrator: t=6.49e-12, last_dmdt=2.64e+03 * stopping_dmdt, next dt=1.5e-14.\n"
       ]
      },
      {
       "output_type": "stream",
       "stream": "stderr",
       "text": [
        "[2013-01-22 18:59:21] DEBUG: SundialsIntegrator: dmdt 1.00003272171 times larger than last time (counting 432/500).\n"
       ]
      },
      {
       "output_type": "stream",
       "stream": "stderr",
       "text": [
        "[2013-01-22 18:59:21] DEBUG: SundialsIntegrator: t=6.51e-12, last_dmdt=2.64e+03 * stopping_dmdt, next dt=1.5e-14.\n"
       ]
      },
      {
       "output_type": "stream",
       "stream": "stderr",
       "text": [
        "[2013-01-22 18:59:21] DEBUG: SundialsIntegrator: dmdt 1.0000315944 times larger than last time (counting 433/500).\n"
       ]
      },
      {
       "output_type": "stream",
       "stream": "stderr",
       "text": [
        "[2013-01-22 18:59:21] DEBUG: SundialsIntegrator: t=6.52e-12, last_dmdt=2.64e+03 * stopping_dmdt, next dt=1.5e-14.\n"
       ]
      },
      {
       "output_type": "stream",
       "stream": "stderr",
       "text": [
        "[2013-01-22 18:59:21] DEBUG: SundialsIntegrator: dmdt 1.00003046556 times larger than last time (counting 434/500).\n"
       ]
      },
      {
       "output_type": "stream",
       "stream": "stderr",
       "text": [
        "[2013-01-22 18:59:21] DEBUG: SundialsIntegrator: t=6.54e-12, last_dmdt=2.64e+03 * stopping_dmdt, next dt=1.5e-14.\n"
       ]
      },
      {
       "output_type": "stream",
       "stream": "stderr",
       "text": [
        "[2013-01-22 18:59:21] DEBUG: SundialsIntegrator: dmdt 1.00002933521 times larger than last time (counting 435/500).\n"
       ]
      },
      {
       "output_type": "stream",
       "stream": "stderr",
       "text": [
        "[2013-01-22 18:59:21] DEBUG: SundialsIntegrator: t=6.55e-12, last_dmdt=2.64e+03 * stopping_dmdt, next dt=1.5e-14.\n"
       ]
      },
      {
       "output_type": "stream",
       "stream": "stderr",
       "text": [
        "[2013-01-22 18:59:21] DEBUG: SundialsIntegrator: dmdt 1.00002820336 times larger than last time (counting 436/500).\n"
       ]
      },
      {
       "output_type": "stream",
       "stream": "stderr",
       "text": [
        "[2013-01-22 18:59:21] DEBUG: SundialsIntegrator: t=6.57e-12, last_dmdt=2.64e+03 * stopping_dmdt, next dt=1.5e-14.\n"
       ]
      },
      {
       "output_type": "stream",
       "stream": "stderr",
       "text": [
        "[2013-01-22 18:59:21] DEBUG: SundialsIntegrator: dmdt 1.00002706999 times larger than last time (counting 437/500).\n"
       ]
      },
      {
       "output_type": "stream",
       "stream": "stderr",
       "text": [
        "[2013-01-22 18:59:21] DEBUG: SundialsIntegrator: t=6.58e-12, last_dmdt=2.64e+03 * stopping_dmdt, next dt=1.5e-14.\n"
       ]
      },
      {
       "output_type": "stream",
       "stream": "stderr",
       "text": [
        "[2013-01-22 18:59:21] DEBUG: SundialsIntegrator: dmdt 1.00002593513 times larger than last time (counting 438/500).\n"
       ]
      },
      {
       "output_type": "stream",
       "stream": "stderr",
       "text": [
        "[2013-01-22 18:59:21] DEBUG: SundialsIntegrator: t=6.6e-12, last_dmdt=2.64e+03 * stopping_dmdt, next dt=1.5e-14.\n"
       ]
      },
      {
       "output_type": "stream",
       "stream": "stderr",
       "text": [
        "[2013-01-22 18:59:21] DEBUG: SundialsIntegrator: dmdt 1.00002479878 times larger than last time (counting 439/500).\n"
       ]
      },
      {
       "output_type": "stream",
       "stream": "stderr",
       "text": [
        "[2013-01-22 18:59:21] DEBUG: SundialsIntegrator: t=6.61e-12, last_dmdt=2.64e+03 * stopping_dmdt, next dt=1.5e-14.\n"
       ]
      },
      {
       "output_type": "stream",
       "stream": "stderr",
       "text": [
        "[2013-01-22 18:59:21] DEBUG: SundialsIntegrator: dmdt 1.00002366094 times larger than last time (counting 440/500).\n"
       ]
      },
      {
       "output_type": "stream",
       "stream": "stderr",
       "text": [
        "[2013-01-22 18:59:21] DEBUG: SundialsIntegrator: t=6.63e-12, last_dmdt=2.64e+03 * stopping_dmdt, next dt=1.5e-14.\n"
       ]
      },
      {
       "output_type": "stream",
       "stream": "stderr",
       "text": [
        "[2013-01-22 18:59:21] DEBUG: SundialsIntegrator: dmdt 1.00002252162 times larger than last time (counting 441/500).\n"
       ]
      },
      {
       "output_type": "stream",
       "stream": "stderr",
       "text": [
        "[2013-01-22 18:59:21] DEBUG: SundialsIntegrator: t=6.64e-12, last_dmdt=2.64e+03 * stopping_dmdt, next dt=1.5e-14.\n"
       ]
      },
      {
       "output_type": "stream",
       "stream": "stderr",
       "text": [
        "[2013-01-22 18:59:21] DEBUG: SundialsIntegrator: dmdt 1.00002138082 times larger than last time (counting 442/500).\n"
       ]
      },
      {
       "output_type": "stream",
       "stream": "stderr",
       "text": [
        "[2013-01-22 18:59:21] DEBUG: SundialsIntegrator: t=6.66e-12, last_dmdt=2.64e+03 * stopping_dmdt, next dt=1.5e-14.\n"
       ]
      },
      {
       "output_type": "stream",
       "stream": "stderr",
       "text": [
        "[2013-01-22 18:59:21] DEBUG: SundialsIntegrator: dmdt 1.00002024857 times larger than last time (counting 443/500).\n"
       ]
      },
      {
       "output_type": "stream",
       "stream": "stderr",
       "text": [
        "[2013-01-22 18:59:21] DEBUG: SundialsIntegrator: t=6.67e-12, last_dmdt=2.64e+03 * stopping_dmdt, next dt=1.5e-14.\n"
       ]
      },
      {
       "output_type": "stream",
       "stream": "stderr",
       "text": [
        "[2013-01-22 18:59:21] DEBUG: SundialsIntegrator: dmdt 1.00001910809 times larger than last time (counting 444/500).\n"
       ]
      },
      {
       "output_type": "stream",
       "stream": "stderr",
       "text": [
        "[2013-01-22 18:59:21] DEBUG: SundialsIntegrator: t=6.69e-12, last_dmdt=2.64e+03 * stopping_dmdt, next dt=1.5e-14.\n"
       ]
      },
      {
       "output_type": "stream",
       "stream": "stderr",
       "text": [
        "[2013-01-22 18:59:21] DEBUG: SundialsIntegrator: dmdt 1.00001795535 times larger than last time (counting 445/500).\n"
       ]
      },
      {
       "output_type": "stream",
       "stream": "stderr",
       "text": [
        "[2013-01-22 18:59:21] DEBUG: SundialsIntegrator: t=6.7e-12, last_dmdt=2.64e+03 * stopping_dmdt, next dt=1.5e-14.\n"
       ]
      },
      {
       "output_type": "stream",
       "stream": "stderr",
       "text": [
        "[2013-01-22 18:59:21] DEBUG: SundialsIntegrator: dmdt 1.00001680941 times larger than last time (counting 446/500).\n"
       ]
      },
      {
       "output_type": "stream",
       "stream": "stderr",
       "text": [
        "[2013-01-22 18:59:21] DEBUG: SundialsIntegrator: t=6.72e-12, last_dmdt=2.64e+03 * stopping_dmdt, next dt=1.5e-14.\n"
       ]
      },
      {
       "output_type": "stream",
       "stream": "stderr",
       "text": [
        "[2013-01-22 18:59:21] DEBUG: SundialsIntegrator: dmdt 1.00001566207 times larger than last time (counting 447/500).\n"
       ]
      },
      {
       "output_type": "stream",
       "stream": "stderr",
       "text": [
        "[2013-01-22 18:59:21] DEBUG: SundialsIntegrator: t=6.73e-12, last_dmdt=2.64e+03 * stopping_dmdt, next dt=1.5e-14.\n"
       ]
      },
      {
       "output_type": "stream",
       "stream": "stderr",
       "text": [
        "[2013-01-22 18:59:21] DEBUG: SundialsIntegrator: dmdt 1.00001451334 times larger than last time (counting 448/500).\n"
       ]
      },
      {
       "output_type": "stream",
       "stream": "stderr",
       "text": [
        "[2013-01-22 18:59:21] DEBUG: SundialsIntegrator: t=6.75e-12, last_dmdt=2.64e+03 * stopping_dmdt, next dt=1.5e-14.\n"
       ]
      },
      {
       "output_type": "stream",
       "stream": "stderr",
       "text": [
        "[2013-01-22 18:59:21] DEBUG: SundialsIntegrator: dmdt 1.00001336322 times larger than last time (counting 449/500).\n"
       ]
      },
      {
       "output_type": "stream",
       "stream": "stderr",
       "text": [
        "[2013-01-22 18:59:21] DEBUG: SundialsIntegrator: t=6.76e-12, last_dmdt=2.64e+03 * stopping_dmdt, next dt=1.5e-14.\n"
       ]
      },
      {
       "output_type": "stream",
       "stream": "stderr",
       "text": [
        "[2013-01-22 18:59:21] DEBUG: SundialsIntegrator: dmdt 1.00001221172 times larger than last time (counting 450/500).\n"
       ]
      },
      {
       "output_type": "stream",
       "stream": "stderr",
       "text": [
        "[2013-01-22 18:59:21] DEBUG: SundialsIntegrator: t=6.78e-12, last_dmdt=2.64e+03 * stopping_dmdt, next dt=1.5e-14.\n"
       ]
      },
      {
       "output_type": "stream",
       "stream": "stderr",
       "text": [
        "[2013-01-22 18:59:21] DEBUG: SundialsIntegrator: dmdt 1.00001105885 times larger than last time (counting 451/500).\n"
       ]
      },
      {
       "output_type": "stream",
       "stream": "stderr",
       "text": [
        "[2013-01-22 18:59:21] DEBUG: SundialsIntegrator: t=6.79e-12, last_dmdt=2.64e+03 * stopping_dmdt, next dt=1.5e-14.\n"
       ]
      },
      {
       "output_type": "stream",
       "stream": "stderr",
       "text": [
        "[2013-01-22 18:59:21] DEBUG: SundialsIntegrator: dmdt 1.0000099046 times larger than last time (counting 452/500).\n"
       ]
      },
      {
       "output_type": "stream",
       "stream": "stderr",
       "text": [
        "[2013-01-22 18:59:21] DEBUG: SundialsIntegrator: t=6.81e-12, last_dmdt=2.64e+03 * stopping_dmdt, next dt=1.5e-14.\n"
       ]
      },
      {
       "output_type": "stream",
       "stream": "stderr",
       "text": [
        "[2013-01-22 18:59:21] DEBUG: SundialsIntegrator: dmdt 1.000008749 times larger than last time (counting 453/500).\n"
       ]
      },
      {
       "output_type": "stream",
       "stream": "stderr",
       "text": [
        "[2013-01-22 18:59:21] DEBUG: SundialsIntegrator: t=6.82e-12, last_dmdt=2.64e+03 * stopping_dmdt, next dt=1.5e-14.\n"
       ]
      },
      {
       "output_type": "stream",
       "stream": "stderr",
       "text": [
        "[2013-01-22 18:59:21] DEBUG: SundialsIntegrator: dmdt 1.00000759204 times larger than last time (counting 454/500).\n"
       ]
      },
      {
       "output_type": "stream",
       "stream": "stderr",
       "text": [
        "[2013-01-22 18:59:21] DEBUG: SundialsIntegrator: t=6.84e-12, last_dmdt=2.64e+03 * stopping_dmdt, next dt=1.5e-14.\n"
       ]
      },
      {
       "output_type": "stream",
       "stream": "stderr",
       "text": [
        "[2013-01-22 18:59:21] DEBUG: SundialsIntegrator: dmdt 1.00000643373 times larger than last time (counting 455/500).\n"
       ]
      },
      {
       "output_type": "stream",
       "stream": "stderr",
       "text": [
        "[2013-01-22 18:59:21] DEBUG: SundialsIntegrator: t=6.85e-12, last_dmdt=2.64e+03 * stopping_dmdt, next dt=1.5e-14.\n"
       ]
      },
      {
       "output_type": "stream",
       "stream": "stderr",
       "text": [
        "[2013-01-22 18:59:21] DEBUG: SundialsIntegrator: dmdt 1.00000527407 times larger than last time (counting 456/500).\n"
       ]
      },
      {
       "output_type": "stream",
       "stream": "stderr",
       "text": [
        "[2013-01-22 18:59:21] DEBUG: SundialsIntegrator: t=6.87e-12, last_dmdt=2.64e+03 * stopping_dmdt, next dt=1.5e-14.\n"
       ]
      },
      {
       "output_type": "stream",
       "stream": "stderr",
       "text": [
        "[2013-01-22 18:59:21] DEBUG: SundialsIntegrator: dmdt 1.00000411308 times larger than last time (counting 457/500).\n"
       ]
      },
      {
       "output_type": "stream",
       "stream": "stderr",
       "text": [
        "[2013-01-22 18:59:21] DEBUG: SundialsIntegrator: t=6.88e-12, last_dmdt=2.64e+03 * stopping_dmdt, next dt=1.5e-14.\n"
       ]
      },
      {
       "output_type": "stream",
       "stream": "stderr",
       "text": [
        "[2013-01-22 18:59:21] DEBUG: SundialsIntegrator: dmdt 1.00000295077 times larger than last time (counting 458/500).\n"
       ]
      },
      {
       "output_type": "stream",
       "stream": "stderr",
       "text": [
        "[2013-01-22 18:59:21] DEBUG: SundialsIntegrator: t=6.9e-12, last_dmdt=2.64e+03 * stopping_dmdt, next dt=1.5e-14.\n"
       ]
      },
      {
       "output_type": "stream",
       "stream": "stderr",
       "text": [
        "[2013-01-22 18:59:21] DEBUG: SundialsIntegrator: dmdt 1.00000179554 times larger than last time (counting 459/500).\n"
       ]
      },
      {
       "output_type": "stream",
       "stream": "stderr",
       "text": [
        "[2013-01-22 18:59:21] DEBUG: SundialsIntegrator: t=6.91e-12, last_dmdt=2.64e+03 * stopping_dmdt, next dt=1.5e-14.\n"
       ]
      },
      {
       "output_type": "stream",
       "stream": "stderr",
       "text": [
        "[2013-01-22 18:59:21] DEBUG: SundialsIntegrator: dmdt 1.00000063285 times larger than last time (counting 460/500).\n"
       ]
      },
      {
       "output_type": "stream",
       "stream": "stderr",
       "text": [
        "[2013-01-22 18:59:21] DEBUG: SundialsIntegrator: t=6.93e-12, last_dmdt=2.64e+03 * stopping_dmdt, next dt=2.25e-14.\n"
       ]
      },
      {
       "output_type": "stream",
       "stream": "stderr",
       "text": [
        "[2013-01-22 18:59:21] DEBUG: SundialsIntegrator: t=6.95e-12, last_dmdt=2.64e+03 * stopping_dmdt, next dt=3.37e-14.\n"
       ]
      },
      {
       "output_type": "stream",
       "stream": "stderr",
       "text": [
        "[2013-01-22 18:59:21] DEBUG: SundialsIntegrator: t=6.98e-12, last_dmdt=2.64e+03 * stopping_dmdt, next dt=5.06e-14.\n"
       ]
      },
      {
       "output_type": "stream",
       "stream": "stderr",
       "text": [
        "[2013-01-22 18:59:21] DEBUG: SundialsIntegrator: t=7.03e-12, last_dmdt=2.64e+03 * stopping_dmdt, next dt=7.59e-14.\n"
       ]
      },
      {
       "output_type": "stream",
       "stream": "stderr",
       "text": [
        "[2013-01-22 18:59:21] DEBUG: SundialsIntegrator: t=7.11e-12, last_dmdt=2.64e+03 * stopping_dmdt, next dt=1.14e-13.\n"
       ]
      },
      {
       "output_type": "stream",
       "stream": "stderr",
       "text": [
        "[2013-01-22 18:59:21] DEBUG: SundialsIntegrator: t=7.22e-12, last_dmdt=2.64e+03 * stopping_dmdt, next dt=1.71e-13.\n"
       ]
      },
      {
       "output_type": "stream",
       "stream": "stderr",
       "text": [
        "[2013-01-22 18:59:21] DEBUG: SundialsIntegrator: t=7.39e-12, last_dmdt=2.64e+03 * stopping_dmdt, next dt=2.56e-13.\n"
       ]
      },
      {
       "output_type": "stream",
       "stream": "stderr",
       "text": [
        "[2013-01-22 18:59:21] DEBUG: SundialsIntegrator: t=7.65e-12, last_dmdt=2.64e+03 * stopping_dmdt, next dt=3.84e-13.\n"
       ]
      },
      {
       "output_type": "stream",
       "stream": "stderr",
       "text": [
        "[2013-01-22 18:59:21] DEBUG: SundialsIntegrator: t=8.03e-12, last_dmdt=2.64e+03 * stopping_dmdt, next dt=5.77e-13.\n"
       ]
      },
      {
       "output_type": "stream",
       "stream": "stderr",
       "text": [
        "[2013-01-22 18:59:21] DEBUG: SundialsIntegrator: t=8.61e-12, last_dmdt=2.63e+03 * stopping_dmdt, next dt=8.65e-13.\n"
       ]
      },
      {
       "output_type": "stream",
       "stream": "stderr",
       "text": [
        "[2013-01-22 18:59:21] DEBUG: SundialsIntegrator: t=9.47e-12, last_dmdt=2.61e+03 * stopping_dmdt, next dt=1.3e-12.\n"
       ]
      },
      {
       "output_type": "stream",
       "stream": "stderr",
       "text": [
        "[2013-01-22 18:59:21] DEBUG: SundialsIntegrator: t=1.08e-11, last_dmdt=2.57e+03 * stopping_dmdt, next dt=1.95e-12.\n"
       ]
      },
      {
       "output_type": "stream",
       "stream": "stderr",
       "text": [
        "[2013-01-22 18:59:21] DEBUG: SundialsIntegrator: t=1.27e-11, last_dmdt=2.48e+03 * stopping_dmdt, next dt=2.92e-12.\n"
       ]
      },
      {
       "output_type": "stream",
       "stream": "stderr",
       "text": [
        "[2013-01-22 18:59:21] DEBUG: SundialsIntegrator: t=1.56e-11, last_dmdt=2.29e+03 * stopping_dmdt, next dt=4.38e-12.\n"
       ]
      },
      {
       "output_type": "stream",
       "stream": "stderr",
       "text": [
        "[2013-01-22 18:59:21] DEBUG: SundialsIntegrator: t=2e-11, last_dmdt=1.97e+03 * stopping_dmdt, next dt=6.57e-12.\n"
       ]
      },
      {
       "output_type": "stream",
       "stream": "stderr",
       "text": [
        "[2013-01-22 18:59:22] DEBUG: SundialsIntegrator: t=2.66e-11, last_dmdt=1.86e+03 * stopping_dmdt, next dt=9.85e-12.\n"
       ]
      },
      {
       "output_type": "stream",
       "stream": "stderr",
       "text": [
        "[2013-01-22 18:59:22] DEBUG: SundialsIntegrator: t=3.64e-11, last_dmdt=1.6e+03 * stopping_dmdt, next dt=1.48e-11.\n"
       ]
      },
      {
       "output_type": "stream",
       "stream": "stderr",
       "text": [
        "[2013-01-22 18:59:22] DEBUG: Saved snapshot at t=5e-11 to file 'snapshots/sim_r_025.0__h_010.0__maxh_05.0__m_init_0.3_0.2_-0.6/relaxation.pvd' (saving took 0.00298 seconds).\n"
       ]
      },
      {
       "output_type": "stream",
       "stream": "stderr",
       "text": [
        "[2013-01-22 18:59:22] DEBUG: Saving average field values for simulation 'sim__relaxation_of_nanodisk_2'.\n"
       ]
      },
      {
       "output_type": "stream",
       "stream": "stderr",
       "text": [
        "[2013-01-22 18:59:22] DEBUG: SundialsIntegrator: t=5.12e-11, last_dmdt=1.1e+03 * stopping_dmdt, next dt=2.22e-11.\n"
       ]
      },
      {
       "output_type": "stream",
       "stream": "stderr",
       "text": [
        "[2013-01-22 18:59:22] DEBUG: SundialsIntegrator: t=7.34e-11, last_dmdt=545 * stopping_dmdt, next dt=3.33e-11.\n"
       ]
      },
      {
       "output_type": "stream",
       "stream": "stderr",
       "text": [
        "[2013-01-22 18:59:23] DEBUG: Saved snapshot at t=1e-10 to file 'snapshots/sim_r_025.0__h_010.0__maxh_05.0__m_init_0.3_0.2_-0.6/relaxation.pvd' (saving took 0.00292 seconds).\n"
       ]
      },
      {
       "output_type": "stream",
       "stream": "stderr",
       "text": [
        "[2013-01-22 18:59:23] DEBUG: Saving average field values for simulation 'sim__relaxation_of_nanodisk_2'.\n"
       ]
      },
      {
       "output_type": "stream",
       "stream": "stderr",
       "text": [
        "[2013-01-22 18:59:23] DEBUG: SundialsIntegrator: t=1.07e-10, last_dmdt=170 * stopping_dmdt, next dt=4.99e-11.\n"
       ]
      },
      {
       "output_type": "stream",
       "stream": "stderr",
       "text": [
        "[2013-01-22 18:59:23] DEBUG: Saved snapshot at t=1.5e-10 to file 'snapshots/sim_r_025.0__h_010.0__maxh_05.0__m_init_0.3_0.2_-0.6/relaxation.pvd' (saving took 0.00295 seconds).\n"
       ]
      },
      {
       "output_type": "stream",
       "stream": "stderr",
       "text": [
        "[2013-01-22 18:59:23] DEBUG: Saving average field values for simulation 'sim__relaxation_of_nanodisk_2'.\n"
       ]
      },
      {
       "output_type": "stream",
       "stream": "stderr",
       "text": [
        "[2013-01-22 18:59:23] DEBUG: SundialsIntegrator: t=1.57e-10, last_dmdt=25.3 * stopping_dmdt, next dt=7.48e-11.\n"
       ]
      },
      {
       "output_type": "stream",
       "stream": "stderr",
       "text": [
        "[2013-01-22 18:59:24] DEBUG: Saved snapshot at t=2e-10 to file 'snapshots/sim_r_025.0__h_010.0__maxh_05.0__m_init_0.3_0.2_-0.6/relaxation.pvd' (saving took 0.0029 seconds).\n"
       ]
      },
      {
       "output_type": "stream",
       "stream": "stderr",
       "text": [
        "[2013-01-22 18:59:24] DEBUG: Saving average field values for simulation 'sim__relaxation_of_nanodisk_2'.\n"
       ]
      },
      {
       "output_type": "stream",
       "stream": "stderr",
       "text": [
        "[2013-01-22 18:59:24] DEBUG: SundialsIntegrator: t=2.31e-10, last_dmdt=4.59 * stopping_dmdt, next dt=1e-10.\n"
       ]
      },
      {
       "output_type": "stream",
       "stream": "stderr",
       "text": [
        "[2013-01-22 18:59:25] DEBUG: Saved snapshot at t=2.5e-10 to file 'snapshots/sim_r_025.0__h_010.0__maxh_05.0__m_init_0.3_0.2_-0.6/relaxation.pvd' (saving took 0.00307 seconds).\n"
       ]
      },
      {
       "output_type": "stream",
       "stream": "stderr",
       "text": [
        "[2013-01-22 18:59:25] DEBUG: Saving average field values for simulation 'sim__relaxation_of_nanodisk_2'.\n"
       ]
      },
      {
       "output_type": "stream",
       "stream": "stderr",
       "text": [
        "[2013-01-22 18:59:25] DEBUG: Saved snapshot at t=3e-10 to file 'snapshots/sim_r_025.0__h_010.0__maxh_05.0__m_init_0.3_0.2_-0.6/relaxation.pvd' (saving took 0.00288 seconds).\n"
       ]
      },
      {
       "output_type": "stream",
       "stream": "stderr",
       "text": [
        "[2013-01-22 18:59:25] DEBUG: Saving average field values for simulation 'sim__relaxation_of_nanodisk_2'.\n"
       ]
      },
      {
       "output_type": "stream",
       "stream": "stderr",
       "text": [
        "[2013-01-22 18:59:25] DEBUG: SundialsIntegrator: t=3.31e-10, last_dmdt=4.25 * stopping_dmdt, next dt=1e-10.\n"
       ]
      },
      {
       "output_type": "stream",
       "stream": "stderr",
       "text": [
        "[2013-01-22 18:59:25] DEBUG: Saved snapshot at t=3.5e-10 to file 'snapshots/sim_r_025.0__h_010.0__maxh_05.0__m_init_0.3_0.2_-0.6/relaxation.pvd' (saving took 0.0029 seconds).\n"
       ]
      },
      {
       "output_type": "stream",
       "stream": "stderr",
       "text": [
        "[2013-01-22 18:59:25] DEBUG: Saving average field values for simulation 'sim__relaxation_of_nanodisk_2'.\n"
       ]
      },
      {
       "output_type": "stream",
       "stream": "stderr",
       "text": [
        "[2013-01-22 18:59:26] DEBUG: Saved snapshot at t=4e-10 to file 'snapshots/sim_r_025.0__h_010.0__maxh_05.0__m_init_0.3_0.2_-0.6/relaxation.pvd' (saving took 0.00293 seconds).\n"
       ]
      },
      {
       "output_type": "stream",
       "stream": "stderr",
       "text": [
        "[2013-01-22 18:59:26] DEBUG: Saving average field values for simulation 'sim__relaxation_of_nanodisk_2'.\n"
       ]
      },
      {
       "output_type": "stream",
       "stream": "stderr",
       "text": [
        "[2013-01-22 18:59:26] DEBUG: SundialsIntegrator: t=4.31e-10, last_dmdt=4.08 * stopping_dmdt, next dt=1e-10.\n"
       ]
      },
      {
       "output_type": "stream",
       "stream": "stderr",
       "text": [
        "[2013-01-22 18:59:26] DEBUG: Saved snapshot at t=4.5e-10 to file 'snapshots/sim_r_025.0__h_010.0__maxh_05.0__m_init_0.3_0.2_-0.6/relaxation.pvd' (saving took 0.0029 seconds).\n"
       ]
      },
      {
       "output_type": "stream",
       "stream": "stderr",
       "text": [
        "[2013-01-22 18:59:26] DEBUG: Saving average field values for simulation 'sim__relaxation_of_nanodisk_2'.\n"
       ]
      },
      {
       "output_type": "stream",
       "stream": "stderr",
       "text": [
        "[2013-01-22 18:59:26] DEBUG: Saved snapshot at t=5e-10 to file 'snapshots/sim_r_025.0__h_010.0__maxh_05.0__m_init_0.3_0.2_-0.6/relaxation.pvd' (saving took 0.0029 seconds).\n"
       ]
      },
      {
       "output_type": "stream",
       "stream": "stderr",
       "text": [
        "[2013-01-22 18:59:26] DEBUG: Saving average field values for simulation 'sim__relaxation_of_nanodisk_2'.\n"
       ]
      },
      {
       "output_type": "stream",
       "stream": "stderr",
       "text": [
        "[2013-01-22 18:59:27] DEBUG: SundialsIntegrator: t=5.31e-10, last_dmdt=4.05 * stopping_dmdt, next dt=1e-10.\n"
       ]
      },
      {
       "output_type": "stream",
       "stream": "stderr",
       "text": [
        "[2013-01-22 18:59:27] DEBUG: Saved snapshot at t=5.5e-10 to file 'snapshots/sim_r_025.0__h_010.0__maxh_05.0__m_init_0.3_0.2_-0.6/relaxation.pvd' (saving took 0.00298 seconds).\n"
       ]
      },
      {
       "output_type": "stream",
       "stream": "stderr",
       "text": [
        "[2013-01-22 18:59:27] DEBUG: Saving average field values for simulation 'sim__relaxation_of_nanodisk_2'.\n"
       ]
      },
      {
       "output_type": "stream",
       "stream": "stderr",
       "text": [
        "[2013-01-22 18:59:27] DEBUG: Saved snapshot at t=6e-10 to file 'snapshots/sim_r_025.0__h_010.0__maxh_05.0__m_init_0.3_0.2_-0.6/relaxation.pvd' (saving took 0.00293 seconds).\n"
       ]
      },
      {
       "output_type": "stream",
       "stream": "stderr",
       "text": [
        "[2013-01-22 18:59:27] DEBUG: Saving average field values for simulation 'sim__relaxation_of_nanodisk_2'.\n"
       ]
      },
      {
       "output_type": "stream",
       "stream": "stderr",
       "text": [
        "[2013-01-22 18:59:28] DEBUG: SundialsIntegrator: t=6.31e-10, last_dmdt=4 * stopping_dmdt, next dt=1e-10.\n"
       ]
      },
      {
       "output_type": "stream",
       "stream": "stderr",
       "text": [
        "[2013-01-22 18:59:28] DEBUG: Saved snapshot at t=6.5e-10 to file 'snapshots/sim_r_025.0__h_010.0__maxh_05.0__m_init_0.3_0.2_-0.6/relaxation.pvd' (saving took 0.00289 seconds).\n"
       ]
      },
      {
       "output_type": "stream",
       "stream": "stderr",
       "text": [
        "[2013-01-22 18:59:28] DEBUG: Saving average field values for simulation 'sim__relaxation_of_nanodisk_2'.\n"
       ]
      },
      {
       "output_type": "stream",
       "stream": "stderr",
       "text": [
        "[2013-01-22 18:59:28] DEBUG: Saved snapshot at t=7e-10 to file 'snapshots/sim_r_025.0__h_010.0__maxh_05.0__m_init_0.3_0.2_-0.6/relaxation.pvd' (saving took 0.00293 seconds).\n"
       ]
      },
      {
       "output_type": "stream",
       "stream": "stderr",
       "text": [
        "[2013-01-22 18:59:28] DEBUG: Saving average field values for simulation 'sim__relaxation_of_nanodisk_2'.\n"
       ]
      },
      {
       "output_type": "stream",
       "stream": "stderr",
       "text": [
        "[2013-01-22 18:59:29] DEBUG: SundialsIntegrator: t=7.31e-10, last_dmdt=3.96 * stopping_dmdt, next dt=1e-10.\n"
       ]
      },
      {
       "output_type": "stream",
       "stream": "stderr",
       "text": [
        "[2013-01-22 18:59:29] DEBUG: Saved snapshot at t=7.5e-10 to file 'snapshots/sim_r_025.0__h_010.0__maxh_05.0__m_init_0.3_0.2_-0.6/relaxation.pvd' (saving took 0.003 seconds).\n"
       ]
      },
      {
       "output_type": "stream",
       "stream": "stderr",
       "text": [
        "[2013-01-22 18:59:29] DEBUG: Saving average field values for simulation 'sim__relaxation_of_nanodisk_2'.\n"
       ]
      },
      {
       "output_type": "stream",
       "stream": "stderr",
       "text": [
        "[2013-01-22 18:59:29] DEBUG: Saved snapshot at t=8e-10 to file 'snapshots/sim_r_025.0__h_010.0__maxh_05.0__m_init_0.3_0.2_-0.6/relaxation.pvd' (saving took 0.00293 seconds).\n"
       ]
      },
      {
       "output_type": "stream",
       "stream": "stderr",
       "text": [
        "[2013-01-22 18:59:29] DEBUG: Saving average field values for simulation 'sim__relaxation_of_nanodisk_2'.\n"
       ]
      },
      {
       "output_type": "stream",
       "stream": "stderr",
       "text": [
        "[2013-01-22 18:59:30] DEBUG: SundialsIntegrator: t=8.31e-10, last_dmdt=3.92 * stopping_dmdt, next dt=1e-10.\n"
       ]
      },
      {
       "output_type": "stream",
       "stream": "stderr",
       "text": [
        "[2013-01-22 18:59:30] DEBUG: Saved snapshot at t=8.5e-10 to file 'snapshots/sim_r_025.0__h_010.0__maxh_05.0__m_init_0.3_0.2_-0.6/relaxation.pvd' (saving took 0.003 seconds).\n"
       ]
      },
      {
       "output_type": "stream",
       "stream": "stderr",
       "text": [
        "[2013-01-22 18:59:30] DEBUG: Saving average field values for simulation 'sim__relaxation_of_nanodisk_2'.\n"
       ]
      },
      {
       "output_type": "stream",
       "stream": "stderr",
       "text": [
        "[2013-01-22 18:59:30] DEBUG: Saved snapshot at t=9e-10 to file 'snapshots/sim_r_025.0__h_010.0__maxh_05.0__m_init_0.3_0.2_-0.6/relaxation.pvd' (saving took 0.00292 seconds).\n"
       ]
      },
      {
       "output_type": "stream",
       "stream": "stderr",
       "text": [
        "[2013-01-22 18:59:30] DEBUG: Saving average field values for simulation 'sim__relaxation_of_nanodisk_2'.\n"
       ]
      },
      {
       "output_type": "stream",
       "stream": "stderr",
       "text": [
        "[2013-01-22 18:59:30] DEBUG: SundialsIntegrator: t=9.31e-10, last_dmdt=3.88 * stopping_dmdt, next dt=1e-10.\n"
       ]
      },
      {
       "output_type": "stream",
       "stream": "stderr",
       "text": [
        "[2013-01-22 18:59:30] DEBUG: Saved snapshot at t=9.5e-10 to file 'snapshots/sim_r_025.0__h_010.0__maxh_05.0__m_init_0.3_0.2_-0.6/relaxation.pvd' (saving took 0.003 seconds).\n"
       ]
      },
      {
       "output_type": "stream",
       "stream": "stderr",
       "text": [
        "[2013-01-22 18:59:30] DEBUG: Saving average field values for simulation 'sim__relaxation_of_nanodisk_2'.\n"
       ]
      },
      {
       "output_type": "stream",
       "stream": "stderr",
       "text": [
        "[2013-01-22 18:59:31] DEBUG: Saved snapshot at t=1e-09 to file 'snapshots/sim_r_025.0__h_010.0__maxh_05.0__m_init_0.3_0.2_-0.6/relaxation.pvd' (saving took 0.00293 seconds).\n"
       ]
      },
      {
       "output_type": "stream",
       "stream": "stderr",
       "text": [
        "[2013-01-22 18:59:31] DEBUG: Saving average field values for simulation 'sim__relaxation_of_nanodisk_2'.\n"
       ]
      },
      {
       "output_type": "stream",
       "stream": "stderr",
       "text": [
        "[2013-01-22 18:59:31] DEBUG: SundialsIntegrator: t=1.03e-09, last_dmdt=3.83 * stopping_dmdt, next dt=1e-10.\n"
       ]
      },
      {
       "output_type": "stream",
       "stream": "stderr",
       "text": [
        "[2013-01-22 18:59:31] DEBUG: Saved snapshot at t=1.05e-09 to file 'snapshots/sim_r_025.0__h_010.0__maxh_05.0__m_init_0.3_0.2_-0.6/relaxation.pvd' (saving took 0.00291 seconds).\n"
       ]
      },
      {
       "output_type": "stream",
       "stream": "stderr",
       "text": [
        "[2013-01-22 18:59:31] DEBUG: Saving average field values for simulation 'sim__relaxation_of_nanodisk_2'.\n"
       ]
      },
      {
       "output_type": "stream",
       "stream": "stderr",
       "text": [
        "[2013-01-22 18:59:31] DEBUG: Saved snapshot at t=1.1e-09 to file 'snapshots/sim_r_025.0__h_010.0__maxh_05.0__m_init_0.3_0.2_-0.6/relaxation.pvd' (saving took 0.00293 seconds).\n"
       ]
      },
      {
       "output_type": "stream",
       "stream": "stderr",
       "text": [
        "[2013-01-22 18:59:31] DEBUG: Saving average field values for simulation 'sim__relaxation_of_nanodisk_2'.\n"
       ]
      },
      {
       "output_type": "stream",
       "stream": "stderr",
       "text": [
        "[2013-01-22 18:59:32] DEBUG: SundialsIntegrator: t=1.13e-09, last_dmdt=3.79 * stopping_dmdt, next dt=1e-10.\n"
       ]
      },
      {
       "output_type": "stream",
       "stream": "stderr",
       "text": [
        "[2013-01-22 18:59:32] DEBUG: Saved snapshot at t=1.15e-09 to file 'snapshots/sim_r_025.0__h_010.0__maxh_05.0__m_init_0.3_0.2_-0.6/relaxation.pvd' (saving took 0.00291 seconds).\n"
       ]
      },
      {
       "output_type": "stream",
       "stream": "stderr",
       "text": [
        "[2013-01-22 18:59:32] DEBUG: Saving average field values for simulation 'sim__relaxation_of_nanodisk_2'.\n"
       ]
      },
      {
       "output_type": "stream",
       "stream": "stderr",
       "text": [
        "[2013-01-22 18:59:32] DEBUG: Saved snapshot at t=1.2e-09 to file 'snapshots/sim_r_025.0__h_010.0__maxh_05.0__m_init_0.3_0.2_-0.6/relaxation.pvd' (saving took 0.00291 seconds).\n"
       ]
      },
      {
       "output_type": "stream",
       "stream": "stderr",
       "text": [
        "[2013-01-22 18:59:32] DEBUG: Saving average field values for simulation 'sim__relaxation_of_nanodisk_2'.\n"
       ]
      },
      {
       "output_type": "stream",
       "stream": "stderr",
       "text": [
        "[2013-01-22 18:59:32] DEBUG: SundialsIntegrator: t=1.23e-09, last_dmdt=3.74 * stopping_dmdt, next dt=1e-10.\n"
       ]
      },
      {
       "output_type": "stream",
       "stream": "stderr",
       "text": [
        "[2013-01-22 18:59:32] DEBUG: Saved snapshot at t=1.25e-09 to file 'snapshots/sim_r_025.0__h_010.0__maxh_05.0__m_init_0.3_0.2_-0.6/relaxation.pvd' (saving took 0.00297 seconds).\n"
       ]
      },
      {
       "output_type": "stream",
       "stream": "stderr",
       "text": [
        "[2013-01-22 18:59:32] DEBUG: Saving average field values for simulation 'sim__relaxation_of_nanodisk_2'.\n"
       ]
      },
      {
       "output_type": "stream",
       "stream": "stderr",
       "text": [
        "[2013-01-22 18:59:33] DEBUG: Saved snapshot at t=1.3e-09 to file 'snapshots/sim_r_025.0__h_010.0__maxh_05.0__m_init_0.3_0.2_-0.6/relaxation.pvd' (saving took 0.00292 seconds).\n"
       ]
      },
      {
       "output_type": "stream",
       "stream": "stderr",
       "text": [
        "[2013-01-22 18:59:33] DEBUG: Saving average field values for simulation 'sim__relaxation_of_nanodisk_2'.\n"
       ]
      },
      {
       "output_type": "stream",
       "stream": "stderr",
       "text": [
        "[2013-01-22 18:59:33] DEBUG: SundialsIntegrator: t=1.33e-09, last_dmdt=3.7 * stopping_dmdt, next dt=1e-10.\n"
       ]
      },
      {
       "output_type": "stream",
       "stream": "stderr",
       "text": [
        "[2013-01-22 18:59:33] DEBUG: Saved snapshot at t=1.35e-09 to file 'snapshots/sim_r_025.0__h_010.0__maxh_05.0__m_init_0.3_0.2_-0.6/relaxation.pvd' (saving took 0.00297 seconds).\n"
       ]
      },
      {
       "output_type": "stream",
       "stream": "stderr",
       "text": [
        "[2013-01-22 18:59:33] DEBUG: Saving average field values for simulation 'sim__relaxation_of_nanodisk_2'.\n"
       ]
      },
      {
       "output_type": "stream",
       "stream": "stderr",
       "text": [
        "[2013-01-22 18:59:33] DEBUG: Saved snapshot at t=1.4e-09 to file 'snapshots/sim_r_025.0__h_010.0__maxh_05.0__m_init_0.3_0.2_-0.6/relaxation.pvd' (saving took 0.00293 seconds).\n"
       ]
      },
      {
       "output_type": "stream",
       "stream": "stderr",
       "text": [
        "[2013-01-22 18:59:33] DEBUG: Saving average field values for simulation 'sim__relaxation_of_nanodisk_2'.\n"
       ]
      },
      {
       "output_type": "stream",
       "stream": "stderr",
       "text": [
        "[2013-01-22 18:59:34] DEBUG: SundialsIntegrator: t=1.43e-09, last_dmdt=3.66 * stopping_dmdt, next dt=1e-10.\n"
       ]
      },
      {
       "output_type": "stream",
       "stream": "stderr",
       "text": [
        "[2013-01-22 18:59:34] DEBUG: Saved snapshot at t=1.45e-09 to file 'snapshots/sim_r_025.0__h_010.0__maxh_05.0__m_init_0.3_0.2_-0.6/relaxation.pvd' (saving took 0.00292 seconds).\n"
       ]
      },
      {
       "output_type": "stream",
       "stream": "stderr",
       "text": [
        "[2013-01-22 18:59:34] DEBUG: Saving average field values for simulation 'sim__relaxation_of_nanodisk_2'.\n"
       ]
      },
      {
       "output_type": "stream",
       "stream": "stderr",
       "text": [
        "[2013-01-22 18:59:34] DEBUG: Saved snapshot at t=1.5e-09 to file 'snapshots/sim_r_025.0__h_010.0__maxh_05.0__m_init_0.3_0.2_-0.6/relaxation.pvd' (saving took 0.00295 seconds).\n"
       ]
      },
      {
       "output_type": "stream",
       "stream": "stderr",
       "text": [
        "[2013-01-22 18:59:34] DEBUG: Saving average field values for simulation 'sim__relaxation_of_nanodisk_2'.\n"
       ]
      },
      {
       "output_type": "stream",
       "stream": "stderr",
       "text": [
        "[2013-01-22 18:59:34] DEBUG: SundialsIntegrator: t=1.53e-09, last_dmdt=3.61 * stopping_dmdt, next dt=1e-10.\n"
       ]
      },
      {
       "output_type": "stream",
       "stream": "stderr",
       "text": [
        "[2013-01-22 18:59:34] DEBUG: Saved snapshot at t=1.55e-09 to file 'snapshots/sim_r_025.0__h_010.0__maxh_05.0__m_init_0.3_0.2_-0.6/relaxation.pvd' (saving took 0.00293 seconds).\n"
       ]
      },
      {
       "output_type": "stream",
       "stream": "stderr",
       "text": [
        "[2013-01-22 18:59:34] DEBUG: Saving average field values for simulation 'sim__relaxation_of_nanodisk_2'.\n"
       ]
      },
      {
       "output_type": "stream",
       "stream": "stderr",
       "text": [
        "[2013-01-22 18:59:35] DEBUG: Saved snapshot at t=1.6e-09 to file 'snapshots/sim_r_025.0__h_010.0__maxh_05.0__m_init_0.3_0.2_-0.6/relaxation.pvd' (saving took 0.00292 seconds).\n"
       ]
      },
      {
       "output_type": "stream",
       "stream": "stderr",
       "text": [
        "[2013-01-22 18:59:35] DEBUG: Saving average field values for simulation 'sim__relaxation_of_nanodisk_2'.\n"
       ]
      },
      {
       "output_type": "stream",
       "stream": "stderr",
       "text": [
        "[2013-01-22 18:59:35] DEBUG: SundialsIntegrator: t=1.63e-09, last_dmdt=3.57 * stopping_dmdt, next dt=1e-10.\n"
       ]
      },
      {
       "output_type": "stream",
       "stream": "stderr",
       "text": [
        "[2013-01-22 18:59:35] DEBUG: Saved snapshot at t=1.65e-09 to file 'snapshots/sim_r_025.0__h_010.0__maxh_05.0__m_init_0.3_0.2_-0.6/relaxation.pvd' (saving took 0.0029 seconds).\n"
       ]
      },
      {
       "output_type": "stream",
       "stream": "stderr",
       "text": [
        "[2013-01-22 18:59:35] DEBUG: Saving average field values for simulation 'sim__relaxation_of_nanodisk_2'.\n"
       ]
      },
      {
       "output_type": "stream",
       "stream": "stderr",
       "text": [
        "[2013-01-22 18:59:35] DEBUG: Saved snapshot at t=1.7e-09 to file 'snapshots/sim_r_025.0__h_010.0__maxh_05.0__m_init_0.3_0.2_-0.6/relaxation.pvd' (saving took 0.00289 seconds).\n"
       ]
      },
      {
       "output_type": "stream",
       "stream": "stderr",
       "text": [
        "[2013-01-22 18:59:35] DEBUG: Saving average field values for simulation 'sim__relaxation_of_nanodisk_2'.\n"
       ]
      },
      {
       "output_type": "stream",
       "stream": "stderr",
       "text": [
        "[2013-01-22 18:59:35] DEBUG: SundialsIntegrator: t=1.73e-09, last_dmdt=3.52 * stopping_dmdt, next dt=1e-10.\n"
       ]
      },
      {
       "output_type": "stream",
       "stream": "stderr",
       "text": [
        "[2013-01-22 18:59:35] DEBUG: Saved snapshot at t=1.75e-09 to file 'snapshots/sim_r_025.0__h_010.0__maxh_05.0__m_init_0.3_0.2_-0.6/relaxation.pvd' (saving took 0.00289 seconds).\n"
       ]
      },
      {
       "output_type": "stream",
       "stream": "stderr",
       "text": [
        "[2013-01-22 18:59:35] DEBUG: Saving average field values for simulation 'sim__relaxation_of_nanodisk_2'.\n"
       ]
      },
      {
       "output_type": "stream",
       "stream": "stderr",
       "text": [
        "[2013-01-22 18:59:36] DEBUG: Saved snapshot at t=1.8e-09 to file 'snapshots/sim_r_025.0__h_010.0__maxh_05.0__m_init_0.3_0.2_-0.6/relaxation.pvd' (saving took 0.00292 seconds).\n"
       ]
      },
      {
       "output_type": "stream",
       "stream": "stderr",
       "text": [
        "[2013-01-22 18:59:36] DEBUG: Saving average field values for simulation 'sim__relaxation_of_nanodisk_2'.\n"
       ]
      },
      {
       "output_type": "stream",
       "stream": "stderr",
       "text": [
        "[2013-01-22 18:59:36] DEBUG: SundialsIntegrator: t=1.83e-09, last_dmdt=3.48 * stopping_dmdt, next dt=1e-10.\n"
       ]
      },
      {
       "output_type": "stream",
       "stream": "stderr",
       "text": [
        "[2013-01-22 18:59:36] DEBUG: Saved snapshot at t=1.85e-09 to file 'snapshots/sim_r_025.0__h_010.0__maxh_05.0__m_init_0.3_0.2_-0.6/relaxation.pvd' (saving took 0.00305 seconds).\n"
       ]
      },
      {
       "output_type": "stream",
       "stream": "stderr",
       "text": [
        "[2013-01-22 18:59:36] DEBUG: Saving average field values for simulation 'sim__relaxation_of_nanodisk_2'.\n"
       ]
      },
      {
       "output_type": "stream",
       "stream": "stderr",
       "text": [
        "[2013-01-22 18:59:36] DEBUG: Saved snapshot at t=1.9e-09 to file 'snapshots/sim_r_025.0__h_010.0__maxh_05.0__m_init_0.3_0.2_-0.6/relaxation.pvd' (saving took 0.00292 seconds).\n"
       ]
      },
      {
       "output_type": "stream",
       "stream": "stderr",
       "text": [
        "[2013-01-22 18:59:36] DEBUG: Saving average field values for simulation 'sim__relaxation_of_nanodisk_2'.\n"
       ]
      },
      {
       "output_type": "stream",
       "stream": "stderr",
       "text": [
        "[2013-01-22 18:59:37] DEBUG: SundialsIntegrator: t=1.93e-09, last_dmdt=3.43 * stopping_dmdt, next dt=1e-10.\n"
       ]
      },
      {
       "output_type": "stream",
       "stream": "stderr",
       "text": [
        "[2013-01-22 18:59:37] DEBUG: Saved snapshot at t=1.95e-09 to file 'snapshots/sim_r_025.0__h_010.0__maxh_05.0__m_init_0.3_0.2_-0.6/relaxation.pvd' (saving took 0.00293 seconds).\n"
       ]
      },
      {
       "output_type": "stream",
       "stream": "stderr",
       "text": [
        "[2013-01-22 18:59:37] DEBUG: Saving average field values for simulation 'sim__relaxation_of_nanodisk_2'.\n"
       ]
      },
      {
       "output_type": "stream",
       "stream": "stderr",
       "text": [
        "[2013-01-22 18:59:37] DEBUG: Saved snapshot at t=2e-09 to file 'snapshots/sim_r_025.0__h_010.0__maxh_05.0__m_init_0.3_0.2_-0.6/relaxation.pvd' (saving took 0.00293 seconds).\n"
       ]
      },
      {
       "output_type": "stream",
       "stream": "stderr",
       "text": [
        "[2013-01-22 18:59:37] DEBUG: Saving average field values for simulation 'sim__relaxation_of_nanodisk_2'.\n"
       ]
      },
      {
       "output_type": "stream",
       "stream": "stderr",
       "text": [
        "[2013-01-22 18:59:37] DEBUG: SundialsIntegrator: t=2.03e-09, last_dmdt=3.39 * stopping_dmdt, next dt=1e-10.\n"
       ]
      },
      {
       "output_type": "stream",
       "stream": "stderr",
       "text": [
        "[2013-01-22 18:59:37] DEBUG: Saved snapshot at t=2.05e-09 to file 'snapshots/sim_r_025.0__h_010.0__maxh_05.0__m_init_0.3_0.2_-0.6/relaxation.pvd' (saving took 0.00294 seconds).\n"
       ]
      },
      {
       "output_type": "stream",
       "stream": "stderr",
       "text": [
        "[2013-01-22 18:59:37] DEBUG: Saving average field values for simulation 'sim__relaxation_of_nanodisk_2'.\n"
       ]
      },
      {
       "output_type": "stream",
       "stream": "stderr",
       "text": [
        "[2013-01-22 18:59:38] DEBUG: Saved snapshot at t=2.1e-09 to file 'snapshots/sim_r_025.0__h_010.0__maxh_05.0__m_init_0.3_0.2_-0.6/relaxation.pvd' (saving took 0.00291 seconds).\n"
       ]
      },
      {
       "output_type": "stream",
       "stream": "stderr",
       "text": [
        "[2013-01-22 18:59:38] DEBUG: Saving average field values for simulation 'sim__relaxation_of_nanodisk_2'.\n"
       ]
      },
      {
       "output_type": "stream",
       "stream": "stderr",
       "text": [
        "[2013-01-22 18:59:38] DEBUG: SundialsIntegrator: t=2.13e-09, last_dmdt=3.35 * stopping_dmdt, next dt=1e-10.\n"
       ]
      },
      {
       "output_type": "stream",
       "stream": "stderr",
       "text": [
        "[2013-01-22 18:59:38] DEBUG: Saved snapshot at t=2.15e-09 to file 'snapshots/sim_r_025.0__h_010.0__maxh_05.0__m_init_0.3_0.2_-0.6/relaxation.pvd' (saving took 0.00293 seconds).\n"
       ]
      },
      {
       "output_type": "stream",
       "stream": "stderr",
       "text": [
        "[2013-01-22 18:59:38] DEBUG: Saving average field values for simulation 'sim__relaxation_of_nanodisk_2'.\n"
       ]
      },
      {
       "output_type": "stream",
       "stream": "stderr",
       "text": [
        "[2013-01-22 18:59:38] DEBUG: Saved snapshot at t=2.2e-09 to file 'snapshots/sim_r_025.0__h_010.0__maxh_05.0__m_init_0.3_0.2_-0.6/relaxation.pvd' (saving took 0.00292 seconds).\n"
       ]
      },
      {
       "output_type": "stream",
       "stream": "stderr",
       "text": [
        "[2013-01-22 18:59:38] DEBUG: Saving average field values for simulation 'sim__relaxation_of_nanodisk_2'.\n"
       ]
      },
      {
       "output_type": "stream",
       "stream": "stderr",
       "text": [
        "[2013-01-22 18:59:38] DEBUG: SundialsIntegrator: t=2.23e-09, last_dmdt=3.3 * stopping_dmdt, next dt=1e-10.\n"
       ]
      },
      {
       "output_type": "stream",
       "stream": "stderr",
       "text": [
        "[2013-01-22 18:59:39] DEBUG: Saved snapshot at t=2.25e-09 to file 'snapshots/sim_r_025.0__h_010.0__maxh_05.0__m_init_0.3_0.2_-0.6/relaxation.pvd' (saving took 0.00292 seconds).\n"
       ]
      },
      {
       "output_type": "stream",
       "stream": "stderr",
       "text": [
        "[2013-01-22 18:59:39] DEBUG: Saving average field values for simulation 'sim__relaxation_of_nanodisk_2'.\n"
       ]
      },
      {
       "output_type": "stream",
       "stream": "stderr",
       "text": [
        "[2013-01-22 18:59:39] DEBUG: Saved snapshot at t=2.3e-09 to file 'snapshots/sim_r_025.0__h_010.0__maxh_05.0__m_init_0.3_0.2_-0.6/relaxation.pvd' (saving took 0.00297 seconds).\n"
       ]
      },
      {
       "output_type": "stream",
       "stream": "stderr",
       "text": [
        "[2013-01-22 18:59:39] DEBUG: Saving average field values for simulation 'sim__relaxation_of_nanodisk_2'.\n"
       ]
      },
      {
       "output_type": "stream",
       "stream": "stderr",
       "text": [
        "[2013-01-22 18:59:39] DEBUG: SundialsIntegrator: t=2.33e-09, last_dmdt=3.26 * stopping_dmdt, next dt=1e-10.\n"
       ]
      },
      {
       "output_type": "stream",
       "stream": "stderr",
       "text": [
        "[2013-01-22 18:59:39] DEBUG: Saved snapshot at t=2.35e-09 to file 'snapshots/sim_r_025.0__h_010.0__maxh_05.0__m_init_0.3_0.2_-0.6/relaxation.pvd' (saving took 0.00292 seconds).\n"
       ]
      },
      {
       "output_type": "stream",
       "stream": "stderr",
       "text": [
        "[2013-01-22 18:59:39] DEBUG: Saving average field values for simulation 'sim__relaxation_of_nanodisk_2'.\n"
       ]
      },
      {
       "output_type": "stream",
       "stream": "stderr",
       "text": [
        "[2013-01-22 18:59:40] DEBUG: Saved snapshot at t=2.4e-09 to file 'snapshots/sim_r_025.0__h_010.0__maxh_05.0__m_init_0.3_0.2_-0.6/relaxation.pvd' (saving took 0.00299 seconds).\n"
       ]
      },
      {
       "output_type": "stream",
       "stream": "stderr",
       "text": [
        "[2013-01-22 18:59:40] DEBUG: Saving average field values for simulation 'sim__relaxation_of_nanodisk_2'.\n"
       ]
      },
      {
       "output_type": "stream",
       "stream": "stderr",
       "text": [
        "[2013-01-22 18:59:40] DEBUG: SundialsIntegrator: t=2.43e-09, last_dmdt=3.21 * stopping_dmdt, next dt=1e-10.\n"
       ]
      },
      {
       "output_type": "stream",
       "stream": "stderr",
       "text": [
        "[2013-01-22 18:59:40] DEBUG: Saved snapshot at t=2.45e-09 to file 'snapshots/sim_r_025.0__h_010.0__maxh_05.0__m_init_0.3_0.2_-0.6/relaxation.pvd' (saving took 0.00297 seconds).\n"
       ]
      },
      {
       "output_type": "stream",
       "stream": "stderr",
       "text": [
        "[2013-01-22 18:59:40] DEBUG: Saving average field values for simulation 'sim__relaxation_of_nanodisk_2'.\n"
       ]
      },
      {
       "output_type": "stream",
       "stream": "stderr",
       "text": [
        "[2013-01-22 18:59:40] INFO: Reached simulation time: 2.5 ns\n"
       ]
      },
      {
       "output_type": "stream",
       "stream": "stderr",
       "text": [
        "[2013-01-22 18:59:40] DEBUG: Saved snapshot at t=2.5e-09 to file 'snapshots/sim_r_025.0__h_010.0__maxh_05.0__m_init_0.3_0.2_-0.6/relaxation.pvd' (saving took 0.00362 seconds).\n"
       ]
      },
      {
       "output_type": "stream",
       "stream": "stderr",
       "text": [
        "[2013-01-22 18:59:40] DEBUG: Saving average field values for simulation 'sim__relaxation_of_nanodisk_2'.\n"
       ]
      },
      {
       "output_type": "stream",
       "stream": "stderr",
       "text": [
        "[2013-01-22 18:59:40] DEBUG: SundialsIntegrator: t=2.53e-09, last_dmdt=3.17 * stopping_dmdt, next dt=1e-10.\n"
       ]
      },
      {
       "output_type": "stream",
       "stream": "stderr",
       "text": [
        "[2013-01-22 18:59:41] DEBUG: Saved snapshot at t=2.55e-09 to file 'snapshots/sim_r_025.0__h_010.0__maxh_05.0__m_init_0.3_0.2_-0.6/relaxation.pvd' (saving took 0.00296 seconds).\n"
       ]
      },
      {
       "output_type": "stream",
       "stream": "stderr",
       "text": [
        "[2013-01-22 18:59:41] DEBUG: Saving average field values for simulation 'sim__relaxation_of_nanodisk_2'.\n"
       ]
      },
      {
       "output_type": "stream",
       "stream": "stderr",
       "text": [
        "[2013-01-22 18:59:41] DEBUG: Saved snapshot at t=2.6e-09 to file 'snapshots/sim_r_025.0__h_010.0__maxh_05.0__m_init_0.3_0.2_-0.6/relaxation.pvd' (saving took 0.00298 seconds).\n"
       ]
      },
      {
       "output_type": "stream",
       "stream": "stderr",
       "text": [
        "[2013-01-22 18:59:41] DEBUG: Saving average field values for simulation 'sim__relaxation_of_nanodisk_2'.\n"
       ]
      },
      {
       "output_type": "stream",
       "stream": "stderr",
       "text": [
        "[2013-01-22 18:59:41] DEBUG: SundialsIntegrator: t=2.63e-09, last_dmdt=3.12 * stopping_dmdt, next dt=1e-10.\n"
       ]
      },
      {
       "output_type": "stream",
       "stream": "stderr",
       "text": [
        "[2013-01-22 18:59:41] DEBUG: Saved snapshot at t=2.65e-09 to file 'snapshots/sim_r_025.0__h_010.0__maxh_05.0__m_init_0.3_0.2_-0.6/relaxation.pvd' (saving took 0.00294 seconds).\n"
       ]
      },
      {
       "output_type": "stream",
       "stream": "stderr",
       "text": [
        "[2013-01-22 18:59:41] DEBUG: Saving average field values for simulation 'sim__relaxation_of_nanodisk_2'.\n"
       ]
      },
      {
       "output_type": "stream",
       "stream": "stderr",
       "text": [
        "[2013-01-22 18:59:42] DEBUG: Saved snapshot at t=2.7e-09 to file 'snapshots/sim_r_025.0__h_010.0__maxh_05.0__m_init_0.3_0.2_-0.6/relaxation.pvd' (saving took 0.00298 seconds).\n"
       ]
      },
      {
       "output_type": "stream",
       "stream": "stderr",
       "text": [
        "[2013-01-22 18:59:42] DEBUG: Saving average field values for simulation 'sim__relaxation_of_nanodisk_2'.\n"
       ]
      },
      {
       "output_type": "stream",
       "stream": "stderr",
       "text": [
        "[2013-01-22 18:59:42] DEBUG: SundialsIntegrator: t=2.73e-09, last_dmdt=3.08 * stopping_dmdt, next dt=1e-10.\n"
       ]
      },
      {
       "output_type": "stream",
       "stream": "stderr",
       "text": [
        "[2013-01-22 18:59:42] DEBUG: Saved snapshot at t=2.75e-09 to file 'snapshots/sim_r_025.0__h_010.0__maxh_05.0__m_init_0.3_0.2_-0.6/relaxation.pvd' (saving took 0.00294 seconds).\n"
       ]
      },
      {
       "output_type": "stream",
       "stream": "stderr",
       "text": [
        "[2013-01-22 18:59:42] DEBUG: Saving average field values for simulation 'sim__relaxation_of_nanodisk_2'.\n"
       ]
      },
      {
       "output_type": "stream",
       "stream": "stderr",
       "text": [
        "[2013-01-22 18:59:42] DEBUG: Saved snapshot at t=2.8e-09 to file 'snapshots/sim_r_025.0__h_010.0__maxh_05.0__m_init_0.3_0.2_-0.6/relaxation.pvd' (saving took 0.00298 seconds).\n"
       ]
      },
      {
       "output_type": "stream",
       "stream": "stderr",
       "text": [
        "[2013-01-22 18:59:42] DEBUG: Saving average field values for simulation 'sim__relaxation_of_nanodisk_2'.\n"
       ]
      },
      {
       "output_type": "stream",
       "stream": "stderr",
       "text": [
        "[2013-01-22 18:59:43] DEBUG: SundialsIntegrator: t=2.83e-09, last_dmdt=3.04 * stopping_dmdt, next dt=1e-10.\n"
       ]
      },
      {
       "output_type": "stream",
       "stream": "stderr",
       "text": [
        "[2013-01-22 18:59:43] DEBUG: Saved snapshot at t=2.85e-09 to file 'snapshots/sim_r_025.0__h_010.0__maxh_05.0__m_init_0.3_0.2_-0.6/relaxation.pvd' (saving took 0.00294 seconds).\n"
       ]
      },
      {
       "output_type": "stream",
       "stream": "stderr",
       "text": [
        "[2013-01-22 18:59:43] DEBUG: Saving average field values for simulation 'sim__relaxation_of_nanodisk_2'.\n"
       ]
      },
      {
       "output_type": "stream",
       "stream": "stderr",
       "text": [
        "[2013-01-22 18:59:43] DEBUG: Saved snapshot at t=2.9e-09 to file 'snapshots/sim_r_025.0__h_010.0__maxh_05.0__m_init_0.3_0.2_-0.6/relaxation.pvd' (saving took 0.00295 seconds).\n"
       ]
      },
      {
       "output_type": "stream",
       "stream": "stderr",
       "text": [
        "[2013-01-22 18:59:43] DEBUG: Saving average field values for simulation 'sim__relaxation_of_nanodisk_2'.\n"
       ]
      },
      {
       "output_type": "stream",
       "stream": "stderr",
       "text": [
        "[2013-01-22 18:59:43] DEBUG: SundialsIntegrator: t=2.93e-09, last_dmdt=2.99 * stopping_dmdt, next dt=1e-10.\n"
       ]
      },
      {
       "output_type": "stream",
       "stream": "stderr",
       "text": [
        "[2013-01-22 18:59:44] DEBUG: Saved snapshot at t=2.95e-09 to file 'snapshots/sim_r_025.0__h_010.0__maxh_05.0__m_init_0.3_0.2_-0.6/relaxation.pvd' (saving took 0.00296 seconds).\n"
       ]
      },
      {
       "output_type": "stream",
       "stream": "stderr",
       "text": [
        "[2013-01-22 18:59:44] DEBUG: Saving average field values for simulation 'sim__relaxation_of_nanodisk_2'.\n"
       ]
      },
      {
       "output_type": "stream",
       "stream": "stderr",
       "text": [
        "[2013-01-22 18:59:44] DEBUG: Saved snapshot at t=3e-09 to file 'snapshots/sim_r_025.0__h_010.0__maxh_05.0__m_init_0.3_0.2_-0.6/relaxation.pvd' (saving took 0.00298 seconds).\n"
       ]
      },
      {
       "output_type": "stream",
       "stream": "stderr",
       "text": [
        "[2013-01-22 18:59:44] DEBUG: Saving average field values for simulation 'sim__relaxation_of_nanodisk_2'.\n"
       ]
      },
      {
       "output_type": "stream",
       "stream": "stderr",
       "text": [
        "[2013-01-22 18:59:44] DEBUG: SundialsIntegrator: t=3.03e-09, last_dmdt=2.95 * stopping_dmdt, next dt=1e-10.\n"
       ]
      },
      {
       "output_type": "stream",
       "stream": "stderr",
       "text": [
        "[2013-01-22 18:59:44] DEBUG: Saved snapshot at t=3.05e-09 to file 'snapshots/sim_r_025.0__h_010.0__maxh_05.0__m_init_0.3_0.2_-0.6/relaxation.pvd' (saving took 0.00294 seconds).\n"
       ]
      },
      {
       "output_type": "stream",
       "stream": "stderr",
       "text": [
        "[2013-01-22 18:59:44] DEBUG: Saving average field values for simulation 'sim__relaxation_of_nanodisk_2'.\n"
       ]
      },
      {
       "output_type": "stream",
       "stream": "stderr",
       "text": [
        "[2013-01-22 18:59:44] DEBUG: Saved snapshot at t=3.1e-09 to file 'snapshots/sim_r_025.0__h_010.0__maxh_05.0__m_init_0.3_0.2_-0.6/relaxation.pvd' (saving took 0.00296 seconds).\n"
       ]
      },
      {
       "output_type": "stream",
       "stream": "stderr",
       "text": [
        "[2013-01-22 18:59:44] DEBUG: Saving average field values for simulation 'sim__relaxation_of_nanodisk_2'.\n"
       ]
      },
      {
       "output_type": "stream",
       "stream": "stderr",
       "text": [
        "[2013-01-22 18:59:45] DEBUG: SundialsIntegrator: t=3.13e-09, last_dmdt=2.91 * stopping_dmdt, next dt=1e-10.\n"
       ]
      },
      {
       "output_type": "stream",
       "stream": "stderr",
       "text": [
        "[2013-01-22 18:59:45] DEBUG: Saved snapshot at t=3.15e-09 to file 'snapshots/sim_r_025.0__h_010.0__maxh_05.0__m_init_0.3_0.2_-0.6/relaxation.pvd' (saving took 0.00296 seconds).\n"
       ]
      },
      {
       "output_type": "stream",
       "stream": "stderr",
       "text": [
        "[2013-01-22 18:59:45] DEBUG: Saving average field values for simulation 'sim__relaxation_of_nanodisk_2'.\n"
       ]
      },
      {
       "output_type": "stream",
       "stream": "stderr",
       "text": [
        "[2013-01-22 18:59:45] DEBUG: Saved snapshot at t=3.2e-09 to file 'snapshots/sim_r_025.0__h_010.0__maxh_05.0__m_init_0.3_0.2_-0.6/relaxation.pvd' (saving took 0.00296 seconds).\n"
       ]
      },
      {
       "output_type": "stream",
       "stream": "stderr",
       "text": [
        "[2013-01-22 18:59:45] DEBUG: Saving average field values for simulation 'sim__relaxation_of_nanodisk_2'.\n"
       ]
      },
      {
       "output_type": "stream",
       "stream": "stderr",
       "text": [
        "[2013-01-22 18:59:45] DEBUG: SundialsIntegrator: t=3.23e-09, last_dmdt=2.86 * stopping_dmdt, next dt=1e-10.\n"
       ]
      },
      {
       "output_type": "stream",
       "stream": "stderr",
       "text": [
        "[2013-01-22 18:59:46] DEBUG: Saved snapshot at t=3.25e-09 to file 'snapshots/sim_r_025.0__h_010.0__maxh_05.0__m_init_0.3_0.2_-0.6/relaxation.pvd' (saving took 0.00296 seconds).\n"
       ]
      },
      {
       "output_type": "stream",
       "stream": "stderr",
       "text": [
        "[2013-01-22 18:59:46] DEBUG: Saving average field values for simulation 'sim__relaxation_of_nanodisk_2'.\n"
       ]
      },
      {
       "output_type": "stream",
       "stream": "stderr",
       "text": [
        "[2013-01-22 18:59:46] DEBUG: Saved snapshot at t=3.3e-09 to file 'snapshots/sim_r_025.0__h_010.0__maxh_05.0__m_init_0.3_0.2_-0.6/relaxation.pvd' (saving took 0.00295 seconds).\n"
       ]
      },
      {
       "output_type": "stream",
       "stream": "stderr",
       "text": [
        "[2013-01-22 18:59:46] DEBUG: Saving average field values for simulation 'sim__relaxation_of_nanodisk_2'.\n"
       ]
      },
      {
       "output_type": "stream",
       "stream": "stderr",
       "text": [
        "[2013-01-22 18:59:46] DEBUG: SundialsIntegrator: t=3.33e-09, last_dmdt=2.82 * stopping_dmdt, next dt=1e-10.\n"
       ]
      },
      {
       "output_type": "stream",
       "stream": "stderr",
       "text": [
        "[2013-01-22 18:59:46] DEBUG: Saved snapshot at t=3.35e-09 to file 'snapshots/sim_r_025.0__h_010.0__maxh_05.0__m_init_0.3_0.2_-0.6/relaxation.pvd' (saving took 0.00299 seconds).\n"
       ]
      },
      {
       "output_type": "stream",
       "stream": "stderr",
       "text": [
        "[2013-01-22 18:59:46] DEBUG: Saving average field values for simulation 'sim__relaxation_of_nanodisk_2'.\n"
       ]
      },
      {
       "output_type": "stream",
       "stream": "stderr",
       "text": [
        "[2013-01-22 18:59:46] DEBUG: Saved snapshot at t=3.4e-09 to file 'snapshots/sim_r_025.0__h_010.0__maxh_05.0__m_init_0.3_0.2_-0.6/relaxation.pvd' (saving took 0.003 seconds).\n"
       ]
      },
      {
       "output_type": "stream",
       "stream": "stderr",
       "text": [
        "[2013-01-22 18:59:46] DEBUG: Saving average field values for simulation 'sim__relaxation_of_nanodisk_2'.\n"
       ]
      },
      {
       "output_type": "stream",
       "stream": "stderr",
       "text": [
        "[2013-01-22 18:59:47] DEBUG: SundialsIntegrator: t=3.43e-09, last_dmdt=2.78 * stopping_dmdt, next dt=1e-10.\n"
       ]
      },
      {
       "output_type": "stream",
       "stream": "stderr",
       "text": [
        "[2013-01-22 18:59:47] DEBUG: Saved snapshot at t=3.45e-09 to file 'snapshots/sim_r_025.0__h_010.0__maxh_05.0__m_init_0.3_0.2_-0.6/relaxation.pvd' (saving took 0.00295 seconds).\n"
       ]
      },
      {
       "output_type": "stream",
       "stream": "stderr",
       "text": [
        "[2013-01-22 18:59:47] DEBUG: Saving average field values for simulation 'sim__relaxation_of_nanodisk_2'.\n"
       ]
      },
      {
       "output_type": "stream",
       "stream": "stderr",
       "text": [
        "[2013-01-22 18:59:47] DEBUG: Saved snapshot at t=3.5e-09 to file 'snapshots/sim_r_025.0__h_010.0__maxh_05.0__m_init_0.3_0.2_-0.6/relaxation.pvd' (saving took 0.00299 seconds).\n"
       ]
      },
      {
       "output_type": "stream",
       "stream": "stderr",
       "text": [
        "[2013-01-22 18:59:47] DEBUG: Saving average field values for simulation 'sim__relaxation_of_nanodisk_2'.\n"
       ]
      },
      {
       "output_type": "stream",
       "stream": "stderr",
       "text": [
        "[2013-01-22 18:59:47] DEBUG: SundialsIntegrator: t=3.53e-09, last_dmdt=2.73 * stopping_dmdt, next dt=1e-10.\n"
       ]
      },
      {
       "output_type": "stream",
       "stream": "stderr",
       "text": [
        "[2013-01-22 18:59:47] DEBUG: Saved snapshot at t=3.55e-09 to file 'snapshots/sim_r_025.0__h_010.0__maxh_05.0__m_init_0.3_0.2_-0.6/relaxation.pvd' (saving took 0.00299 seconds).\n"
       ]
      },
      {
       "output_type": "stream",
       "stream": "stderr",
       "text": [
        "[2013-01-22 18:59:47] DEBUG: Saving average field values for simulation 'sim__relaxation_of_nanodisk_2'.\n"
       ]
      },
      {
       "output_type": "stream",
       "stream": "stderr",
       "text": [
        "[2013-01-22 18:59:48] DEBUG: Saved snapshot at t=3.6e-09 to file 'snapshots/sim_r_025.0__h_010.0__maxh_05.0__m_init_0.3_0.2_-0.6/relaxation.pvd' (saving took 0.00296 seconds).\n"
       ]
      },
      {
       "output_type": "stream",
       "stream": "stderr",
       "text": [
        "[2013-01-22 18:59:48] DEBUG: Saving average field values for simulation 'sim__relaxation_of_nanodisk_2'.\n"
       ]
      },
      {
       "output_type": "stream",
       "stream": "stderr",
       "text": [
        "[2013-01-22 18:59:48] DEBUG: SundialsIntegrator: t=3.63e-09, last_dmdt=2.69 * stopping_dmdt, next dt=1e-10.\n"
       ]
      },
      {
       "output_type": "stream",
       "stream": "stderr",
       "text": [
        "[2013-01-22 18:59:48] DEBUG: Saved snapshot at t=3.65e-09 to file 'snapshots/sim_r_025.0__h_010.0__maxh_05.0__m_init_0.3_0.2_-0.6/relaxation.pvd' (saving took 0.00297 seconds).\n"
       ]
      },
      {
       "output_type": "stream",
       "stream": "stderr",
       "text": [
        "[2013-01-22 18:59:48] DEBUG: Saving average field values for simulation 'sim__relaxation_of_nanodisk_2'.\n"
       ]
      },
      {
       "output_type": "stream",
       "stream": "stderr",
       "text": [
        "[2013-01-22 18:59:48] DEBUG: Saved snapshot at t=3.7e-09 to file 'snapshots/sim_r_025.0__h_010.0__maxh_05.0__m_init_0.3_0.2_-0.6/relaxation.pvd' (saving took 0.00298 seconds).\n"
       ]
      },
      {
       "output_type": "stream",
       "stream": "stderr",
       "text": [
        "[2013-01-22 18:59:48] DEBUG: Saving average field values for simulation 'sim__relaxation_of_nanodisk_2'.\n"
       ]
      },
      {
       "output_type": "stream",
       "stream": "stderr",
       "text": [
        "[2013-01-22 18:59:48] DEBUG: SundialsIntegrator: t=3.73e-09, last_dmdt=2.65 * stopping_dmdt, next dt=1e-10.\n"
       ]
      },
      {
       "output_type": "stream",
       "stream": "stderr",
       "text": [
        "[2013-01-22 18:59:49] DEBUG: Saved snapshot at t=3.75e-09 to file 'snapshots/sim_r_025.0__h_010.0__maxh_05.0__m_init_0.3_0.2_-0.6/relaxation.pvd' (saving took 0.00297 seconds).\n"
       ]
      },
      {
       "output_type": "stream",
       "stream": "stderr",
       "text": [
        "[2013-01-22 18:59:49] DEBUG: Saving average field values for simulation 'sim__relaxation_of_nanodisk_2'.\n"
       ]
      },
      {
       "output_type": "stream",
       "stream": "stderr",
       "text": [
        "[2013-01-22 18:59:49] DEBUG: Saved snapshot at t=3.8e-09 to file 'snapshots/sim_r_025.0__h_010.0__maxh_05.0__m_init_0.3_0.2_-0.6/relaxation.pvd' (saving took 0.00296 seconds).\n"
       ]
      },
      {
       "output_type": "stream",
       "stream": "stderr",
       "text": [
        "[2013-01-22 18:59:49] DEBUG: Saving average field values for simulation 'sim__relaxation_of_nanodisk_2'.\n"
       ]
      },
      {
       "output_type": "stream",
       "stream": "stderr",
       "text": [
        "[2013-01-22 18:59:49] DEBUG: SundialsIntegrator: t=3.83e-09, last_dmdt=2.61 * stopping_dmdt, next dt=1e-10.\n"
       ]
      },
      {
       "output_type": "stream",
       "stream": "stderr",
       "text": [
        "[2013-01-22 18:59:49] DEBUG: Saved snapshot at t=3.85e-09 to file 'snapshots/sim_r_025.0__h_010.0__maxh_05.0__m_init_0.3_0.2_-0.6/relaxation.pvd' (saving took 0.00297 seconds).\n"
       ]
      },
      {
       "output_type": "stream",
       "stream": "stderr",
       "text": [
        "[2013-01-22 18:59:49] DEBUG: Saving average field values for simulation 'sim__relaxation_of_nanodisk_2'.\n"
       ]
      },
      {
       "output_type": "stream",
       "stream": "stderr",
       "text": [
        "[2013-01-22 18:59:50] DEBUG: Saved snapshot at t=3.9e-09 to file 'snapshots/sim_r_025.0__h_010.0__maxh_05.0__m_init_0.3_0.2_-0.6/relaxation.pvd' (saving took 0.00297 seconds).\n"
       ]
      },
      {
       "output_type": "stream",
       "stream": "stderr",
       "text": [
        "[2013-01-22 18:59:50] DEBUG: Saving average field values for simulation 'sim__relaxation_of_nanodisk_2'.\n"
       ]
      },
      {
       "output_type": "stream",
       "stream": "stderr",
       "text": [
        "[2013-01-22 18:59:50] DEBUG: SundialsIntegrator: t=3.93e-09, last_dmdt=2.57 * stopping_dmdt, next dt=1e-10.\n"
       ]
      },
      {
       "output_type": "stream",
       "stream": "stderr",
       "text": [
        "[2013-01-22 18:59:50] DEBUG: Saved snapshot at t=3.95e-09 to file 'snapshots/sim_r_025.0__h_010.0__maxh_05.0__m_init_0.3_0.2_-0.6/relaxation.pvd' (saving took 0.00299 seconds).\n"
       ]
      },
      {
       "output_type": "stream",
       "stream": "stderr",
       "text": [
        "[2013-01-22 18:59:50] DEBUG: Saving average field values for simulation 'sim__relaxation_of_nanodisk_2'.\n"
       ]
      },
      {
       "output_type": "stream",
       "stream": "stderr",
       "text": [
        "[2013-01-22 18:59:50] DEBUG: Saved snapshot at t=4e-09 to file 'snapshots/sim_r_025.0__h_010.0__maxh_05.0__m_init_0.3_0.2_-0.6/relaxation.pvd' (saving took 0.00297 seconds).\n"
       ]
      },
      {
       "output_type": "stream",
       "stream": "stderr",
       "text": [
        "[2013-01-22 18:59:50] DEBUG: Saving average field values for simulation 'sim__relaxation_of_nanodisk_2'.\n"
       ]
      },
      {
       "output_type": "stream",
       "stream": "stderr",
       "text": [
        "[2013-01-22 18:59:50] DEBUG: SundialsIntegrator: t=4.03e-09, last_dmdt=2.53 * stopping_dmdt, next dt=1e-10.\n"
       ]
      },
      {
       "output_type": "stream",
       "stream": "stderr",
       "text": [
        "[2013-01-22 18:59:51] DEBUG: Saved snapshot at t=4.05e-09 to file 'snapshots/sim_r_025.0__h_010.0__maxh_05.0__m_init_0.3_0.2_-0.6/relaxation.pvd' (saving took 0.00301 seconds).\n"
       ]
      },
      {
       "output_type": "stream",
       "stream": "stderr",
       "text": [
        "[2013-01-22 18:59:51] DEBUG: Saving average field values for simulation 'sim__relaxation_of_nanodisk_2'.\n"
       ]
      },
      {
       "output_type": "stream",
       "stream": "stderr",
       "text": [
        "[2013-01-22 18:59:51] DEBUG: Saved snapshot at t=4.1e-09 to file 'snapshots/sim_r_025.0__h_010.0__maxh_05.0__m_init_0.3_0.2_-0.6/relaxation.pvd' (saving took 0.00296 seconds).\n"
       ]
      },
      {
       "output_type": "stream",
       "stream": "stderr",
       "text": [
        "[2013-01-22 18:59:51] DEBUG: Saving average field values for simulation 'sim__relaxation_of_nanodisk_2'.\n"
       ]
      },
      {
       "output_type": "stream",
       "stream": "stderr",
       "text": [
        "[2013-01-22 18:59:51] DEBUG: SundialsIntegrator: t=4.13e-09, last_dmdt=2.49 * stopping_dmdt, next dt=1e-10.\n"
       ]
      },
      {
       "output_type": "stream",
       "stream": "stderr",
       "text": [
        "[2013-01-22 18:59:51] DEBUG: Saved snapshot at t=4.15e-09 to file 'snapshots/sim_r_025.0__h_010.0__maxh_05.0__m_init_0.3_0.2_-0.6/relaxation.pvd' (saving took 0.00294 seconds).\n"
       ]
      },
      {
       "output_type": "stream",
       "stream": "stderr",
       "text": [
        "[2013-01-22 18:59:51] DEBUG: Saving average field values for simulation 'sim__relaxation_of_nanodisk_2'.\n"
       ]
      },
      {
       "output_type": "stream",
       "stream": "stderr",
       "text": [
        "[2013-01-22 18:59:51] DEBUG: Saved snapshot at t=4.2e-09 to file 'snapshots/sim_r_025.0__h_010.0__maxh_05.0__m_init_0.3_0.2_-0.6/relaxation.pvd' (saving took 0.00292 seconds).\n"
       ]
      },
      {
       "output_type": "stream",
       "stream": "stderr",
       "text": [
        "[2013-01-22 18:59:51] DEBUG: Saving average field values for simulation 'sim__relaxation_of_nanodisk_2'.\n"
       ]
      },
      {
       "output_type": "stream",
       "stream": "stderr",
       "text": [
        "[2013-01-22 18:59:52] DEBUG: SundialsIntegrator: t=4.23e-09, last_dmdt=2.45 * stopping_dmdt, next dt=1e-10.\n"
       ]
      },
      {
       "output_type": "stream",
       "stream": "stderr",
       "text": [
        "[2013-01-22 18:59:52] DEBUG: Saved snapshot at t=4.25e-09 to file 'snapshots/sim_r_025.0__h_010.0__maxh_05.0__m_init_0.3_0.2_-0.6/relaxation.pvd' (saving took 0.00295 seconds).\n"
       ]
      },
      {
       "output_type": "stream",
       "stream": "stderr",
       "text": [
        "[2013-01-22 18:59:52] DEBUG: Saving average field values for simulation 'sim__relaxation_of_nanodisk_2'.\n"
       ]
      },
      {
       "output_type": "stream",
       "stream": "stderr",
       "text": [
        "[2013-01-22 18:59:52] DEBUG: Saved snapshot at t=4.3e-09 to file 'snapshots/sim_r_025.0__h_010.0__maxh_05.0__m_init_0.3_0.2_-0.6/relaxation.pvd' (saving took 0.00299 seconds).\n"
       ]
      },
      {
       "output_type": "stream",
       "stream": "stderr",
       "text": [
        "[2013-01-22 18:59:52] DEBUG: Saving average field values for simulation 'sim__relaxation_of_nanodisk_2'.\n"
       ]
      },
      {
       "output_type": "stream",
       "stream": "stderr",
       "text": [
        "[2013-01-22 18:59:53] DEBUG: SundialsIntegrator: t=4.33e-09, last_dmdt=2.41 * stopping_dmdt, next dt=1e-10.\n"
       ]
      },
      {
       "output_type": "stream",
       "stream": "stderr",
       "text": [
        "[2013-01-22 18:59:53] DEBUG: Saved snapshot at t=4.35e-09 to file 'snapshots/sim_r_025.0__h_010.0__maxh_05.0__m_init_0.3_0.2_-0.6/relaxation.pvd' (saving took 0.00297 seconds).\n"
       ]
      },
      {
       "output_type": "stream",
       "stream": "stderr",
       "text": [
        "[2013-01-22 18:59:53] DEBUG: Saving average field values for simulation 'sim__relaxation_of_nanodisk_2'.\n"
       ]
      },
      {
       "output_type": "stream",
       "stream": "stderr",
       "text": [
        "[2013-01-22 18:59:53] DEBUG: Saved snapshot at t=4.4e-09 to file 'snapshots/sim_r_025.0__h_010.0__maxh_05.0__m_init_0.3_0.2_-0.6/relaxation.pvd' (saving took 0.003 seconds).\n"
       ]
      },
      {
       "output_type": "stream",
       "stream": "stderr",
       "text": [
        "[2013-01-22 18:59:53] DEBUG: Saving average field values for simulation 'sim__relaxation_of_nanodisk_2'.\n"
       ]
      },
      {
       "output_type": "stream",
       "stream": "stderr",
       "text": [
        "[2013-01-22 18:59:53] DEBUG: SundialsIntegrator: t=4.43e-09, last_dmdt=2.37 * stopping_dmdt, next dt=1e-10.\n"
       ]
      },
      {
       "output_type": "stream",
       "stream": "stderr",
       "text": [
        "[2013-01-22 18:59:53] DEBUG: Saved snapshot at t=4.45e-09 to file 'snapshots/sim_r_025.0__h_010.0__maxh_05.0__m_init_0.3_0.2_-0.6/relaxation.pvd' (saving took 0.00298 seconds).\n"
       ]
      },
      {
       "output_type": "stream",
       "stream": "stderr",
       "text": [
        "[2013-01-22 18:59:53] DEBUG: Saving average field values for simulation 'sim__relaxation_of_nanodisk_2'.\n"
       ]
      },
      {
       "output_type": "stream",
       "stream": "stderr",
       "text": [
        "[2013-01-22 18:59:54] DEBUG: Saved snapshot at t=4.5e-09 to file 'snapshots/sim_r_025.0__h_010.0__maxh_05.0__m_init_0.3_0.2_-0.6/relaxation.pvd' (saving took 0.00299 seconds).\n"
       ]
      },
      {
       "output_type": "stream",
       "stream": "stderr",
       "text": [
        "[2013-01-22 18:59:54] DEBUG: Saving average field values for simulation 'sim__relaxation_of_nanodisk_2'.\n"
       ]
      },
      {
       "output_type": "stream",
       "stream": "stderr",
       "text": [
        "[2013-01-22 18:59:54] DEBUG: SundialsIntegrator: t=4.53e-09, last_dmdt=2.33 * stopping_dmdt, next dt=1e-10.\n"
       ]
      },
      {
       "output_type": "stream",
       "stream": "stderr",
       "text": [
        "[2013-01-22 18:59:54] DEBUG: Saved snapshot at t=4.55e-09 to file 'snapshots/sim_r_025.0__h_010.0__maxh_05.0__m_init_0.3_0.2_-0.6/relaxation.pvd' (saving took 0.00297 seconds).\n"
       ]
      },
      {
       "output_type": "stream",
       "stream": "stderr",
       "text": [
        "[2013-01-22 18:59:54] DEBUG: Saving average field values for simulation 'sim__relaxation_of_nanodisk_2'.\n"
       ]
      },
      {
       "output_type": "stream",
       "stream": "stderr",
       "text": [
        "[2013-01-22 18:59:54] DEBUG: Saved snapshot at t=4.6e-09 to file 'snapshots/sim_r_025.0__h_010.0__maxh_05.0__m_init_0.3_0.2_-0.6/relaxation.pvd' (saving took 0.00299 seconds).\n"
       ]
      },
      {
       "output_type": "stream",
       "stream": "stderr",
       "text": [
        "[2013-01-22 18:59:54] DEBUG: Saving average field values for simulation 'sim__relaxation_of_nanodisk_2'.\n"
       ]
      },
      {
       "output_type": "stream",
       "stream": "stderr",
       "text": [
        "[2013-01-22 18:59:54] DEBUG: SundialsIntegrator: t=4.63e-09, last_dmdt=2.29 * stopping_dmdt, next dt=1e-10.\n"
       ]
      },
      {
       "output_type": "stream",
       "stream": "stderr",
       "text": [
        "[2013-01-22 18:59:55] DEBUG: Saved snapshot at t=4.65e-09 to file 'snapshots/sim_r_025.0__h_010.0__maxh_05.0__m_init_0.3_0.2_-0.6/relaxation.pvd' (saving took 0.003 seconds).\n"
       ]
      },
      {
       "output_type": "stream",
       "stream": "stderr",
       "text": [
        "[2013-01-22 18:59:55] DEBUG: Saving average field values for simulation 'sim__relaxation_of_nanodisk_2'.\n"
       ]
      },
      {
       "output_type": "stream",
       "stream": "stderr",
       "text": [
        "[2013-01-22 18:59:55] DEBUG: Saved snapshot at t=4.7e-09 to file 'snapshots/sim_r_025.0__h_010.0__maxh_05.0__m_init_0.3_0.2_-0.6/relaxation.pvd' (saving took 0.00297 seconds).\n"
       ]
      },
      {
       "output_type": "stream",
       "stream": "stderr",
       "text": [
        "[2013-01-22 18:59:55] DEBUG: Saving average field values for simulation 'sim__relaxation_of_nanodisk_2'.\n"
       ]
      },
      {
       "output_type": "stream",
       "stream": "stderr",
       "text": [
        "[2013-01-22 18:59:55] DEBUG: SundialsIntegrator: t=4.73e-09, last_dmdt=2.26 * stopping_dmdt, next dt=1e-10.\n"
       ]
      },
      {
       "output_type": "stream",
       "stream": "stderr",
       "text": [
        "[2013-01-22 18:59:55] DEBUG: Saved snapshot at t=4.75e-09 to file 'snapshots/sim_r_025.0__h_010.0__maxh_05.0__m_init_0.3_0.2_-0.6/relaxation.pvd' (saving took 0.003 seconds).\n"
       ]
      },
      {
       "output_type": "stream",
       "stream": "stderr",
       "text": [
        "[2013-01-22 18:59:55] DEBUG: Saving average field values for simulation 'sim__relaxation_of_nanodisk_2'.\n"
       ]
      },
      {
       "output_type": "stream",
       "stream": "stderr",
       "text": [
        "[2013-01-22 18:59:56] DEBUG: Saved snapshot at t=4.8e-09 to file 'snapshots/sim_r_025.0__h_010.0__maxh_05.0__m_init_0.3_0.2_-0.6/relaxation.pvd' (saving took 0.00295 seconds).\n"
       ]
      },
      {
       "output_type": "stream",
       "stream": "stderr",
       "text": [
        "[2013-01-22 18:59:56] DEBUG: Saving average field values for simulation 'sim__relaxation_of_nanodisk_2'.\n"
       ]
      },
      {
       "output_type": "stream",
       "stream": "stderr",
       "text": [
        "[2013-01-22 18:59:56] DEBUG: SundialsIntegrator: t=4.83e-09, last_dmdt=2.22 * stopping_dmdt, next dt=1e-10.\n"
       ]
      },
      {
       "output_type": "stream",
       "stream": "stderr",
       "text": [
        "[2013-01-22 18:59:56] DEBUG: Saved snapshot at t=4.85e-09 to file 'snapshots/sim_r_025.0__h_010.0__maxh_05.0__m_init_0.3_0.2_-0.6/relaxation.pvd' (saving took 0.00297 seconds).\n"
       ]
      },
      {
       "output_type": "stream",
       "stream": "stderr",
       "text": [
        "[2013-01-22 18:59:56] DEBUG: Saving average field values for simulation 'sim__relaxation_of_nanodisk_2'.\n"
       ]
      },
      {
       "output_type": "stream",
       "stream": "stderr",
       "text": [
        "[2013-01-22 18:59:56] DEBUG: Saved snapshot at t=4.9e-09 to file 'snapshots/sim_r_025.0__h_010.0__maxh_05.0__m_init_0.3_0.2_-0.6/relaxation.pvd' (saving took 0.00307 seconds).\n"
       ]
      },
      {
       "output_type": "stream",
       "stream": "stderr",
       "text": [
        "[2013-01-22 18:59:56] DEBUG: Saving average field values for simulation 'sim__relaxation_of_nanodisk_2'.\n"
       ]
      },
      {
       "output_type": "stream",
       "stream": "stderr",
       "text": [
        "[2013-01-22 18:59:56] DEBUG: SundialsIntegrator: t=4.93e-09, last_dmdt=2.18 * stopping_dmdt, next dt=1e-10.\n"
       ]
      },
      {
       "output_type": "stream",
       "stream": "stderr",
       "text": [
        "[2013-01-22 18:59:56] DEBUG: Saved snapshot at t=4.95e-09 to file 'snapshots/sim_r_025.0__h_010.0__maxh_05.0__m_init_0.3_0.2_-0.6/relaxation.pvd' (saving took 0.00297 seconds).\n"
       ]
      },
      {
       "output_type": "stream",
       "stream": "stderr",
       "text": [
        "[2013-01-22 18:59:56] DEBUG: Saving average field values for simulation 'sim__relaxation_of_nanodisk_2'.\n"
       ]
      },
      {
       "output_type": "stream",
       "stream": "stderr",
       "text": [
        "[2013-01-22 18:59:57] INFO: Reached simulation time: 5.0 ns\n"
       ]
      },
      {
       "output_type": "stream",
       "stream": "stderr",
       "text": [
        "[2013-01-22 18:59:57] DEBUG: Saved snapshot at t=5e-09 to file 'snapshots/sim_r_025.0__h_010.0__maxh_05.0__m_init_0.3_0.2_-0.6/relaxation.pvd' (saving took 0.00302 seconds).\n"
       ]
      },
      {
       "output_type": "stream",
       "stream": "stderr",
       "text": [
        "[2013-01-22 18:59:57] DEBUG: Saving average field values for simulation 'sim__relaxation_of_nanodisk_2'.\n"
       ]
      },
      {
       "output_type": "stream",
       "stream": "stderr",
       "text": [
        "[2013-01-22 18:59:57] DEBUG: SundialsIntegrator: t=5.03e-09, last_dmdt=2.15 * stopping_dmdt, next dt=1e-10.\n"
       ]
      },
      {
       "output_type": "stream",
       "stream": "stderr",
       "text": [
        "[2013-01-22 18:59:57] DEBUG: Saved snapshot at t=5.05e-09 to file 'snapshots/sim_r_025.0__h_010.0__maxh_05.0__m_init_0.3_0.2_-0.6/relaxation.pvd' (saving took 0.00302 seconds).\n"
       ]
      },
      {
       "output_type": "stream",
       "stream": "stderr",
       "text": [
        "[2013-01-22 18:59:57] DEBUG: Saving average field values for simulation 'sim__relaxation_of_nanodisk_2'.\n"
       ]
      },
      {
       "output_type": "stream",
       "stream": "stderr",
       "text": [
        "[2013-01-22 18:59:57] DEBUG: Saved snapshot at t=5.1e-09 to file 'snapshots/sim_r_025.0__h_010.0__maxh_05.0__m_init_0.3_0.2_-0.6/relaxation.pvd' (saving took 0.00297 seconds).\n"
       ]
      },
      {
       "output_type": "stream",
       "stream": "stderr",
       "text": [
        "[2013-01-22 18:59:57] DEBUG: Saving average field values for simulation 'sim__relaxation_of_nanodisk_2'.\n"
       ]
      },
      {
       "output_type": "stream",
       "stream": "stderr",
       "text": [
        "[2013-01-22 18:59:58] DEBUG: SundialsIntegrator: t=5.13e-09, last_dmdt=2.11 * stopping_dmdt, next dt=1e-10.\n"
       ]
      },
      {
       "output_type": "stream",
       "stream": "stderr",
       "text": [
        "[2013-01-22 18:59:58] DEBUG: Saved snapshot at t=5.15e-09 to file 'snapshots/sim_r_025.0__h_010.0__maxh_05.0__m_init_0.3_0.2_-0.6/relaxation.pvd' (saving took 0.00302 seconds).\n"
       ]
      },
      {
       "output_type": "stream",
       "stream": "stderr",
       "text": [
        "[2013-01-22 18:59:58] DEBUG: Saving average field values for simulation 'sim__relaxation_of_nanodisk_2'.\n"
       ]
      },
      {
       "output_type": "stream",
       "stream": "stderr",
       "text": [
        "[2013-01-22 18:59:58] DEBUG: Saved snapshot at t=5.2e-09 to file 'snapshots/sim_r_025.0__h_010.0__maxh_05.0__m_init_0.3_0.2_-0.6/relaxation.pvd' (saving took 0.00301 seconds).\n"
       ]
      },
      {
       "output_type": "stream",
       "stream": "stderr",
       "text": [
        "[2013-01-22 18:59:58] DEBUG: Saving average field values for simulation 'sim__relaxation_of_nanodisk_2'.\n"
       ]
      },
      {
       "output_type": "stream",
       "stream": "stderr",
       "text": [
        "[2013-01-22 18:59:59] DEBUG: SundialsIntegrator: t=5.23e-09, last_dmdt=2.08 * stopping_dmdt, next dt=1e-10.\n"
       ]
      },
      {
       "output_type": "stream",
       "stream": "stderr",
       "text": [
        "[2013-01-22 18:59:59] DEBUG: Saved snapshot at t=5.25e-09 to file 'snapshots/sim_r_025.0__h_010.0__maxh_05.0__m_init_0.3_0.2_-0.6/relaxation.pvd' (saving took 0.00298 seconds).\n"
       ]
      },
      {
       "output_type": "stream",
       "stream": "stderr",
       "text": [
        "[2013-01-22 18:59:59] DEBUG: Saving average field values for simulation 'sim__relaxation_of_nanodisk_2'.\n"
       ]
      },
      {
       "output_type": "stream",
       "stream": "stderr",
       "text": [
        "[2013-01-22 18:59:59] DEBUG: Saved snapshot at t=5.3e-09 to file 'snapshots/sim_r_025.0__h_010.0__maxh_05.0__m_init_0.3_0.2_-0.6/relaxation.pvd' (saving took 0.00298 seconds).\n"
       ]
      },
      {
       "output_type": "stream",
       "stream": "stderr",
       "text": [
        "[2013-01-22 18:59:59] DEBUG: Saving average field values for simulation 'sim__relaxation_of_nanodisk_2'.\n"
       ]
      },
      {
       "output_type": "stream",
       "stream": "stderr",
       "text": [
        "[2013-01-22 18:59:59] DEBUG: SundialsIntegrator: t=5.33e-09, last_dmdt=2.04 * stopping_dmdt, next dt=1e-10.\n"
       ]
      },
      {
       "output_type": "stream",
       "stream": "stderr",
       "text": [
        "[2013-01-22 18:59:59] DEBUG: Saved snapshot at t=5.35e-09 to file 'snapshots/sim_r_025.0__h_010.0__maxh_05.0__m_init_0.3_0.2_-0.6/relaxation.pvd' (saving took 0.00298 seconds).\n"
       ]
      },
      {
       "output_type": "stream",
       "stream": "stderr",
       "text": [
        "[2013-01-22 18:59:59] DEBUG: Saving average field values for simulation 'sim__relaxation_of_nanodisk_2'.\n"
       ]
      },
      {
       "output_type": "stream",
       "stream": "stderr",
       "text": [
        "[2013-01-22 19:00:00] DEBUG: Saved snapshot at t=5.4e-09 to file 'snapshots/sim_r_025.0__h_010.0__maxh_05.0__m_init_0.3_0.2_-0.6/relaxation.pvd' (saving took 0.00298 seconds).\n"
       ]
      },
      {
       "output_type": "stream",
       "stream": "stderr",
       "text": [
        "[2013-01-22 19:00:00] DEBUG: Saving average field values for simulation 'sim__relaxation_of_nanodisk_2'.\n"
       ]
      },
      {
       "output_type": "stream",
       "stream": "stderr",
       "text": [
        "[2013-01-22 19:00:00] DEBUG: SundialsIntegrator: t=5.43e-09, last_dmdt=2.01 * stopping_dmdt, next dt=1e-10.\n"
       ]
      },
      {
       "output_type": "stream",
       "stream": "stderr",
       "text": [
        "[2013-01-22 19:00:00] DEBUG: Saved snapshot at t=5.45e-09 to file 'snapshots/sim_r_025.0__h_010.0__maxh_05.0__m_init_0.3_0.2_-0.6/relaxation.pvd' (saving took 0.00302 seconds).\n"
       ]
      },
      {
       "output_type": "stream",
       "stream": "stderr",
       "text": [
        "[2013-01-22 19:00:00] DEBUG: Saving average field values for simulation 'sim__relaxation_of_nanodisk_2'.\n"
       ]
      },
      {
       "output_type": "stream",
       "stream": "stderr",
       "text": [
        "[2013-01-22 19:00:00] DEBUG: Saved snapshot at t=5.5e-09 to file 'snapshots/sim_r_025.0__h_010.0__maxh_05.0__m_init_0.3_0.2_-0.6/relaxation.pvd' (saving took 0.003 seconds).\n"
       ]
      },
      {
       "output_type": "stream",
       "stream": "stderr",
       "text": [
        "[2013-01-22 19:00:00] DEBUG: Saving average field values for simulation 'sim__relaxation_of_nanodisk_2'.\n"
       ]
      },
      {
       "output_type": "stream",
       "stream": "stderr",
       "text": [
        "[2013-01-22 19:00:01] DEBUG: SundialsIntegrator: t=5.53e-09, last_dmdt=1.98 * stopping_dmdt, next dt=1e-10.\n"
       ]
      },
      {
       "output_type": "stream",
       "stream": "stderr",
       "text": [
        "[2013-01-22 19:00:01] DEBUG: Saved snapshot at t=5.55e-09 to file 'snapshots/sim_r_025.0__h_010.0__maxh_05.0__m_init_0.3_0.2_-0.6/relaxation.pvd' (saving took 0.00306 seconds).\n"
       ]
      },
      {
       "output_type": "stream",
       "stream": "stderr",
       "text": [
        "[2013-01-22 19:00:01] DEBUG: Saving average field values for simulation 'sim__relaxation_of_nanodisk_2'.\n"
       ]
      },
      {
       "output_type": "stream",
       "stream": "stderr",
       "text": [
        "[2013-01-22 19:00:01] DEBUG: Saved snapshot at t=5.6e-09 to file 'snapshots/sim_r_025.0__h_010.0__maxh_05.0__m_init_0.3_0.2_-0.6/relaxation.pvd' (saving took 0.00299 seconds).\n"
       ]
      },
      {
       "output_type": "stream",
       "stream": "stderr",
       "text": [
        "[2013-01-22 19:00:01] DEBUG: Saving average field values for simulation 'sim__relaxation_of_nanodisk_2'.\n"
       ]
      },
      {
       "output_type": "stream",
       "stream": "stderr",
       "text": [
        "[2013-01-22 19:00:01] DEBUG: SundialsIntegrator: t=5.63e-09, last_dmdt=1.94 * stopping_dmdt, next dt=1e-10.\n"
       ]
      },
      {
       "output_type": "stream",
       "stream": "stderr",
       "text": [
        "[2013-01-22 19:00:01] DEBUG: Saved snapshot at t=5.65e-09 to file 'snapshots/sim_r_025.0__h_010.0__maxh_05.0__m_init_0.3_0.2_-0.6/relaxation.pvd' (saving took 0.003 seconds).\n"
       ]
      },
      {
       "output_type": "stream",
       "stream": "stderr",
       "text": [
        "[2013-01-22 19:00:01] DEBUG: Saving average field values for simulation 'sim__relaxation_of_nanodisk_2'.\n"
       ]
      },
      {
       "output_type": "stream",
       "stream": "stderr",
       "text": [
        "[2013-01-22 19:00:02] DEBUG: Saved snapshot at t=5.7e-09 to file 'snapshots/sim_r_025.0__h_010.0__maxh_05.0__m_init_0.3_0.2_-0.6/relaxation.pvd' (saving took 0.00303 seconds).\n"
       ]
      },
      {
       "output_type": "stream",
       "stream": "stderr",
       "text": [
        "[2013-01-22 19:00:02] DEBUG: Saving average field values for simulation 'sim__relaxation_of_nanodisk_2'.\n"
       ]
      },
      {
       "output_type": "stream",
       "stream": "stderr",
       "text": [
        "[2013-01-22 19:00:02] DEBUG: SundialsIntegrator: t=5.73e-09, last_dmdt=1.91 * stopping_dmdt, next dt=1e-10.\n"
       ]
      },
      {
       "output_type": "stream",
       "stream": "stderr",
       "text": [
        "[2013-01-22 19:00:02] DEBUG: Saved snapshot at t=5.75e-09 to file 'snapshots/sim_r_025.0__h_010.0__maxh_05.0__m_init_0.3_0.2_-0.6/relaxation.pvd' (saving took 0.003 seconds).\n"
       ]
      },
      {
       "output_type": "stream",
       "stream": "stderr",
       "text": [
        "[2013-01-22 19:00:02] DEBUG: Saving average field values for simulation 'sim__relaxation_of_nanodisk_2'.\n"
       ]
      },
      {
       "output_type": "stream",
       "stream": "stderr",
       "text": [
        "[2013-01-22 19:00:02] DEBUG: Saved snapshot at t=5.8e-09 to file 'snapshots/sim_r_025.0__h_010.0__maxh_05.0__m_init_0.3_0.2_-0.6/relaxation.pvd' (saving took 0.00298 seconds).\n"
       ]
      },
      {
       "output_type": "stream",
       "stream": "stderr",
       "text": [
        "[2013-01-22 19:00:02] DEBUG: Saving average field values for simulation 'sim__relaxation_of_nanodisk_2'.\n"
       ]
      },
      {
       "output_type": "stream",
       "stream": "stderr",
       "text": [
        "[2013-01-22 19:00:03] DEBUG: SundialsIntegrator: t=5.83e-09, last_dmdt=1.88 * stopping_dmdt, next dt=1e-10.\n"
       ]
      },
      {
       "output_type": "stream",
       "stream": "stderr",
       "text": [
        "[2013-01-22 19:00:03] DEBUG: Saved snapshot at t=5.85e-09 to file 'snapshots/sim_r_025.0__h_010.0__maxh_05.0__m_init_0.3_0.2_-0.6/relaxation.pvd' (saving took 0.003 seconds).\n"
       ]
      },
      {
       "output_type": "stream",
       "stream": "stderr",
       "text": [
        "[2013-01-22 19:00:03] DEBUG: Saving average field values for simulation 'sim__relaxation_of_nanodisk_2'.\n"
       ]
      },
      {
       "output_type": "stream",
       "stream": "stderr",
       "text": [
        "[2013-01-22 19:00:03] DEBUG: Saved snapshot at t=5.9e-09 to file 'snapshots/sim_r_025.0__h_010.0__maxh_05.0__m_init_0.3_0.2_-0.6/relaxation.pvd' (saving took 0.00301 seconds).\n"
       ]
      },
      {
       "output_type": "stream",
       "stream": "stderr",
       "text": [
        "[2013-01-22 19:00:03] DEBUG: Saving average field values for simulation 'sim__relaxation_of_nanodisk_2'.\n"
       ]
      },
      {
       "output_type": "stream",
       "stream": "stderr",
       "text": [
        "[2013-01-22 19:00:03] DEBUG: SundialsIntegrator: t=5.93e-09, last_dmdt=1.85 * stopping_dmdt, next dt=1e-10.\n"
       ]
      },
      {
       "output_type": "stream",
       "stream": "stderr",
       "text": [
        "[2013-01-22 19:00:03] DEBUG: Saved snapshot at t=5.95e-09 to file 'snapshots/sim_r_025.0__h_010.0__maxh_05.0__m_init_0.3_0.2_-0.6/relaxation.pvd' (saving took 0.00301 seconds).\n"
       ]
      },
      {
       "output_type": "stream",
       "stream": "stderr",
       "text": [
        "[2013-01-22 19:00:03] DEBUG: Saving average field values for simulation 'sim__relaxation_of_nanodisk_2'.\n"
       ]
      },
      {
       "output_type": "stream",
       "stream": "stderr",
       "text": [
        "[2013-01-22 19:00:04] DEBUG: Saved snapshot at t=6e-09 to file 'snapshots/sim_r_025.0__h_010.0__maxh_05.0__m_init_0.3_0.2_-0.6/relaxation.pvd' (saving took 0.00301 seconds).\n"
       ]
      },
      {
       "output_type": "stream",
       "stream": "stderr",
       "text": [
        "[2013-01-22 19:00:04] DEBUG: Saving average field values for simulation 'sim__relaxation_of_nanodisk_2'.\n"
       ]
      },
      {
       "output_type": "stream",
       "stream": "stderr",
       "text": [
        "[2013-01-22 19:00:04] DEBUG: SundialsIntegrator: t=6.03e-09, last_dmdt=1.82 * stopping_dmdt, next dt=1e-10.\n"
       ]
      },
      {
       "output_type": "stream",
       "stream": "stderr",
       "text": [
        "[2013-01-22 19:00:04] DEBUG: Saved snapshot at t=6.05e-09 to file 'snapshots/sim_r_025.0__h_010.0__maxh_05.0__m_init_0.3_0.2_-0.6/relaxation.pvd' (saving took 0.00304 seconds).\n"
       ]
      },
      {
       "output_type": "stream",
       "stream": "stderr",
       "text": [
        "[2013-01-22 19:00:04] DEBUG: Saving average field values for simulation 'sim__relaxation_of_nanodisk_2'.\n"
       ]
      },
      {
       "output_type": "stream",
       "stream": "stderr",
       "text": [
        "[2013-01-22 19:00:04] DEBUG: Saved snapshot at t=6.1e-09 to file 'snapshots/sim_r_025.0__h_010.0__maxh_05.0__m_init_0.3_0.2_-0.6/relaxation.pvd' (saving took 0.00306 seconds).\n"
       ]
      },
      {
       "output_type": "stream",
       "stream": "stderr",
       "text": [
        "[2013-01-22 19:00:04] DEBUG: Saving average field values for simulation 'sim__relaxation_of_nanodisk_2'.\n"
       ]
      },
      {
       "output_type": "stream",
       "stream": "stderr",
       "text": [
        "[2013-01-22 19:00:05] DEBUG: SundialsIntegrator: t=6.13e-09, last_dmdt=1.79 * stopping_dmdt, next dt=1e-10.\n"
       ]
      },
      {
       "output_type": "stream",
       "stream": "stderr",
       "text": [
        "[2013-01-22 19:00:05] DEBUG: Saved snapshot at t=6.15e-09 to file 'snapshots/sim_r_025.0__h_010.0__maxh_05.0__m_init_0.3_0.2_-0.6/relaxation.pvd' (saving took 0.00301 seconds).\n"
       ]
      },
      {
       "output_type": "stream",
       "stream": "stderr",
       "text": [
        "[2013-01-22 19:00:05] DEBUG: Saving average field values for simulation 'sim__relaxation_of_nanodisk_2'.\n"
       ]
      },
      {
       "output_type": "stream",
       "stream": "stderr",
       "text": [
        "[2013-01-22 19:00:05] DEBUG: Saved snapshot at t=6.2e-09 to file 'snapshots/sim_r_025.0__h_010.0__maxh_05.0__m_init_0.3_0.2_-0.6/relaxation.pvd' (saving took 0.00306 seconds).\n"
       ]
      },
      {
       "output_type": "stream",
       "stream": "stderr",
       "text": [
        "[2013-01-22 19:00:05] DEBUG: Saving average field values for simulation 'sim__relaxation_of_nanodisk_2'.\n"
       ]
      },
      {
       "output_type": "stream",
       "stream": "stderr",
       "text": [
        "[2013-01-22 19:00:05] DEBUG: SundialsIntegrator: t=6.23e-09, last_dmdt=1.76 * stopping_dmdt, next dt=1e-10.\n"
       ]
      },
      {
       "output_type": "stream",
       "stream": "stderr",
       "text": [
        "[2013-01-22 19:00:06] DEBUG: Saved snapshot at t=6.25e-09 to file 'snapshots/sim_r_025.0__h_010.0__maxh_05.0__m_init_0.3_0.2_-0.6/relaxation.pvd' (saving took 0.0037 seconds).\n"
       ]
      },
      {
       "output_type": "stream",
       "stream": "stderr",
       "text": [
        "[2013-01-22 19:00:06] DEBUG: Saving average field values for simulation 'sim__relaxation_of_nanodisk_2'.\n"
       ]
      },
      {
       "output_type": "stream",
       "stream": "stderr",
       "text": [
        "[2013-01-22 19:00:06] DEBUG: Saved snapshot at t=6.3e-09 to file 'snapshots/sim_r_025.0__h_010.0__maxh_05.0__m_init_0.3_0.2_-0.6/relaxation.pvd' (saving took 0.00303 seconds).\n"
       ]
      },
      {
       "output_type": "stream",
       "stream": "stderr",
       "text": [
        "[2013-01-22 19:00:06] DEBUG: Saving average field values for simulation 'sim__relaxation_of_nanodisk_2'.\n"
       ]
      },
      {
       "output_type": "stream",
       "stream": "stderr",
       "text": [
        "[2013-01-22 19:00:06] DEBUG: SundialsIntegrator: t=6.33e-09, last_dmdt=1.73 * stopping_dmdt, next dt=1e-10.\n"
       ]
      },
      {
       "output_type": "stream",
       "stream": "stderr",
       "text": [
        "[2013-01-22 19:00:06] DEBUG: Saved snapshot at t=6.35e-09 to file 'snapshots/sim_r_025.0__h_010.0__maxh_05.0__m_init_0.3_0.2_-0.6/relaxation.pvd' (saving took 0.00303 seconds).\n"
       ]
      },
      {
       "output_type": "stream",
       "stream": "stderr",
       "text": [
        "[2013-01-22 19:00:06] DEBUG: Saving average field values for simulation 'sim__relaxation_of_nanodisk_2'.\n"
       ]
      },
      {
       "output_type": "stream",
       "stream": "stderr",
       "text": [
        "[2013-01-22 19:00:06] DEBUG: Saved snapshot at t=6.4e-09 to file 'snapshots/sim_r_025.0__h_010.0__maxh_05.0__m_init_0.3_0.2_-0.6/relaxation.pvd' (saving took 0.00302 seconds).\n"
       ]
      },
      {
       "output_type": "stream",
       "stream": "stderr",
       "text": [
        "[2013-01-22 19:00:06] DEBUG: Saving average field values for simulation 'sim__relaxation_of_nanodisk_2'.\n"
       ]
      },
      {
       "output_type": "stream",
       "stream": "stderr",
       "text": [
        "[2013-01-22 19:00:07] DEBUG: SundialsIntegrator: t=6.43e-09, last_dmdt=1.7 * stopping_dmdt, next dt=1e-10.\n"
       ]
      },
      {
       "output_type": "stream",
       "stream": "stderr",
       "text": [
        "[2013-01-22 19:00:07] DEBUG: Saved snapshot at t=6.45e-09 to file 'snapshots/sim_r_025.0__h_010.0__maxh_05.0__m_init_0.3_0.2_-0.6/relaxation.pvd' (saving took 0.00299 seconds).\n"
       ]
      },
      {
       "output_type": "stream",
       "stream": "stderr",
       "text": [
        "[2013-01-22 19:00:07] DEBUG: Saving average field values for simulation 'sim__relaxation_of_nanodisk_2'.\n"
       ]
      },
      {
       "output_type": "stream",
       "stream": "stderr",
       "text": [
        "[2013-01-22 19:00:07] DEBUG: Saved snapshot at t=6.5e-09 to file 'snapshots/sim_r_025.0__h_010.0__maxh_05.0__m_init_0.3_0.2_-0.6/relaxation.pvd' (saving took 0.003 seconds).\n"
       ]
      },
      {
       "output_type": "stream",
       "stream": "stderr",
       "text": [
        "[2013-01-22 19:00:07] DEBUG: Saving average field values for simulation 'sim__relaxation_of_nanodisk_2'.\n"
       ]
      },
      {
       "output_type": "stream",
       "stream": "stderr",
       "text": [
        "[2013-01-22 19:00:07] DEBUG: SundialsIntegrator: t=6.53e-09, last_dmdt=1.67 * stopping_dmdt, next dt=1e-10.\n"
       ]
      },
      {
       "output_type": "stream",
       "stream": "stderr",
       "text": [
        "[2013-01-22 19:00:08] DEBUG: Saved snapshot at t=6.55e-09 to file 'snapshots/sim_r_025.0__h_010.0__maxh_05.0__m_init_0.3_0.2_-0.6/relaxation.pvd' (saving took 0.00311 seconds).\n"
       ]
      },
      {
       "output_type": "stream",
       "stream": "stderr",
       "text": [
        "[2013-01-22 19:00:08] DEBUG: Saving average field values for simulation 'sim__relaxation_of_nanodisk_2'.\n"
       ]
      },
      {
       "output_type": "stream",
       "stream": "stderr",
       "text": [
        "[2013-01-22 19:00:08] DEBUG: Saved snapshot at t=6.6e-09 to file 'snapshots/sim_r_025.0__h_010.0__maxh_05.0__m_init_0.3_0.2_-0.6/relaxation.pvd' (saving took 0.00297 seconds).\n"
       ]
      },
      {
       "output_type": "stream",
       "stream": "stderr",
       "text": [
        "[2013-01-22 19:00:08] DEBUG: Saving average field values for simulation 'sim__relaxation_of_nanodisk_2'.\n"
       ]
      },
      {
       "output_type": "stream",
       "stream": "stderr",
       "text": [
        "[2013-01-22 19:00:08] DEBUG: SundialsIntegrator: t=6.63e-09, last_dmdt=1.64 * stopping_dmdt, next dt=1e-10.\n"
       ]
      },
      {
       "output_type": "stream",
       "stream": "stderr",
       "text": [
        "[2013-01-22 19:00:08] DEBUG: Saved snapshot at t=6.65e-09 to file 'snapshots/sim_r_025.0__h_010.0__maxh_05.0__m_init_0.3_0.2_-0.6/relaxation.pvd' (saving took 0.00301 seconds).\n"
       ]
      },
      {
       "output_type": "stream",
       "stream": "stderr",
       "text": [
        "[2013-01-22 19:00:08] DEBUG: Saving average field values for simulation 'sim__relaxation_of_nanodisk_2'.\n"
       ]
      },
      {
       "output_type": "stream",
       "stream": "stderr",
       "text": [
        "[2013-01-22 19:00:08] DEBUG: Saved snapshot at t=6.7e-09 to file 'snapshots/sim_r_025.0__h_010.0__maxh_05.0__m_init_0.3_0.2_-0.6/relaxation.pvd' (saving took 0.00304 seconds).\n"
       ]
      },
      {
       "output_type": "stream",
       "stream": "stderr",
       "text": [
        "[2013-01-22 19:00:08] DEBUG: Saving average field values for simulation 'sim__relaxation_of_nanodisk_2'.\n"
       ]
      },
      {
       "output_type": "stream",
       "stream": "stderr",
       "text": [
        "[2013-01-22 19:00:09] DEBUG: SundialsIntegrator: t=6.73e-09, last_dmdt=1.61 * stopping_dmdt, next dt=1e-10.\n"
       ]
      },
      {
       "output_type": "stream",
       "stream": "stderr",
       "text": [
        "[2013-01-22 19:00:09] DEBUG: Saved snapshot at t=6.75e-09 to file 'snapshots/sim_r_025.0__h_010.0__maxh_05.0__m_init_0.3_0.2_-0.6/relaxation.pvd' (saving took 0.00353 seconds).\n"
       ]
      },
      {
       "output_type": "stream",
       "stream": "stderr",
       "text": [
        "[2013-01-22 19:00:09] DEBUG: Saving average field values for simulation 'sim__relaxation_of_nanodisk_2'.\n"
       ]
      },
      {
       "output_type": "stream",
       "stream": "stderr",
       "text": [
        "[2013-01-22 19:00:09] DEBUG: Saved snapshot at t=6.8e-09 to file 'snapshots/sim_r_025.0__h_010.0__maxh_05.0__m_init_0.3_0.2_-0.6/relaxation.pvd' (saving took 0.00301 seconds).\n"
       ]
      },
      {
       "output_type": "stream",
       "stream": "stderr",
       "text": [
        "[2013-01-22 19:00:09] DEBUG: Saving average field values for simulation 'sim__relaxation_of_nanodisk_2'.\n"
       ]
      },
      {
       "output_type": "stream",
       "stream": "stderr",
       "text": [
        "[2013-01-22 19:00:10] DEBUG: SundialsIntegrator: t=6.83e-09, last_dmdt=1.58 * stopping_dmdt, next dt=1e-10.\n"
       ]
      },
      {
       "output_type": "stream",
       "stream": "stderr",
       "text": [
        "[2013-01-22 19:00:10] DEBUG: Saved snapshot at t=6.85e-09 to file 'snapshots/sim_r_025.0__h_010.0__maxh_05.0__m_init_0.3_0.2_-0.6/relaxation.pvd' (saving took 0.00305 seconds).\n"
       ]
      },
      {
       "output_type": "stream",
       "stream": "stderr",
       "text": [
        "[2013-01-22 19:00:10] DEBUG: Saving average field values for simulation 'sim__relaxation_of_nanodisk_2'.\n"
       ]
      },
      {
       "output_type": "stream",
       "stream": "stderr",
       "text": [
        "[2013-01-22 19:00:10] DEBUG: Saved snapshot at t=6.9e-09 to file 'snapshots/sim_r_025.0__h_010.0__maxh_05.0__m_init_0.3_0.2_-0.6/relaxation.pvd' (saving took 0.00303 seconds).\n"
       ]
      },
      {
       "output_type": "stream",
       "stream": "stderr",
       "text": [
        "[2013-01-22 19:00:10] DEBUG: Saving average field values for simulation 'sim__relaxation_of_nanodisk_2'.\n"
       ]
      },
      {
       "output_type": "stream",
       "stream": "stderr",
       "text": [
        "[2013-01-22 19:00:10] DEBUG: SundialsIntegrator: t=6.93e-09, last_dmdt=1.56 * stopping_dmdt, next dt=1e-10.\n"
       ]
      },
      {
       "output_type": "stream",
       "stream": "stderr",
       "text": [
        "[2013-01-22 19:00:11] DEBUG: Saved snapshot at t=6.95e-09 to file 'snapshots/sim_r_025.0__h_010.0__maxh_05.0__m_init_0.3_0.2_-0.6/relaxation.pvd' (saving took 0.00312 seconds).\n"
       ]
      },
      {
       "output_type": "stream",
       "stream": "stderr",
       "text": [
        "[2013-01-22 19:00:11] DEBUG: Saving average field values for simulation 'sim__relaxation_of_nanodisk_2'.\n"
       ]
      },
      {
       "output_type": "stream",
       "stream": "stderr",
       "text": [
        "[2013-01-22 19:00:11] DEBUG: Saved snapshot at t=7e-09 to file 'snapshots/sim_r_025.0__h_010.0__maxh_05.0__m_init_0.3_0.2_-0.6/relaxation.pvd' (saving took 0.00367 seconds).\n"
       ]
      },
      {
       "output_type": "stream",
       "stream": "stderr",
       "text": [
        "[2013-01-22 19:00:11] DEBUG: Saving average field values for simulation 'sim__relaxation_of_nanodisk_2'.\n"
       ]
      },
      {
       "output_type": "stream",
       "stream": "stderr",
       "text": [
        "[2013-01-22 19:00:11] DEBUG: SundialsIntegrator: t=7.03e-09, last_dmdt=1.53 * stopping_dmdt, next dt=1e-10.\n"
       ]
      },
      {
       "output_type": "stream",
       "stream": "stderr",
       "text": [
        "[2013-01-22 19:00:11] DEBUG: Saved snapshot at t=7.05e-09 to file 'snapshots/sim_r_025.0__h_010.0__maxh_05.0__m_init_0.3_0.2_-0.6/relaxation.pvd' (saving took 0.00303 seconds).\n"
       ]
      },
      {
       "output_type": "stream",
       "stream": "stderr",
       "text": [
        "[2013-01-22 19:00:11] DEBUG: Saving average field values for simulation 'sim__relaxation_of_nanodisk_2'.\n"
       ]
      },
      {
       "output_type": "stream",
       "stream": "stderr",
       "text": [
        "[2013-01-22 19:00:11] DEBUG: Saved snapshot at t=7.1e-09 to file 'snapshots/sim_r_025.0__h_010.0__maxh_05.0__m_init_0.3_0.2_-0.6/relaxation.pvd' (saving took 0.00302 seconds).\n"
       ]
      },
      {
       "output_type": "stream",
       "stream": "stderr",
       "text": [
        "[2013-01-22 19:00:11] DEBUG: Saving average field values for simulation 'sim__relaxation_of_nanodisk_2'.\n"
       ]
      },
      {
       "output_type": "stream",
       "stream": "stderr",
       "text": [
        "[2013-01-22 19:00:12] DEBUG: SundialsIntegrator: t=7.13e-09, last_dmdt=1.5 * stopping_dmdt, next dt=1e-10.\n"
       ]
      },
      {
       "output_type": "stream",
       "stream": "stderr",
       "text": [
        "[2013-01-22 19:00:12] DEBUG: Saved snapshot at t=7.15e-09 to file 'snapshots/sim_r_025.0__h_010.0__maxh_05.0__m_init_0.3_0.2_-0.6/relaxation.pvd' (saving took 0.00301 seconds).\n"
       ]
      },
      {
       "output_type": "stream",
       "stream": "stderr",
       "text": [
        "[2013-01-22 19:00:12] DEBUG: Saving average field values for simulation 'sim__relaxation_of_nanodisk_2'.\n"
       ]
      },
      {
       "output_type": "stream",
       "stream": "stderr",
       "text": [
        "[2013-01-22 19:00:12] DEBUG: Saved snapshot at t=7.2e-09 to file 'snapshots/sim_r_025.0__h_010.0__maxh_05.0__m_init_0.3_0.2_-0.6/relaxation.pvd' (saving took 0.00306 seconds).\n"
       ]
      },
      {
       "output_type": "stream",
       "stream": "stderr",
       "text": [
        "[2013-01-22 19:00:12] DEBUG: Saving average field values for simulation 'sim__relaxation_of_nanodisk_2'.\n"
       ]
      },
      {
       "output_type": "stream",
       "stream": "stderr",
       "text": [
        "[2013-01-22 19:00:12] DEBUG: SundialsIntegrator: t=7.23e-09, last_dmdt=1.48 * stopping_dmdt, next dt=1e-10.\n"
       ]
      },
      {
       "output_type": "stream",
       "stream": "stderr",
       "text": [
        "[2013-01-22 19:00:12] DEBUG: Saved snapshot at t=7.25e-09 to file 'snapshots/sim_r_025.0__h_010.0__maxh_05.0__m_init_0.3_0.2_-0.6/relaxation.pvd' (saving took 0.00302 seconds).\n"
       ]
      },
      {
       "output_type": "stream",
       "stream": "stderr",
       "text": [
        "[2013-01-22 19:00:12] DEBUG: Saving average field values for simulation 'sim__relaxation_of_nanodisk_2'.\n"
       ]
      },
      {
       "output_type": "stream",
       "stream": "stderr",
       "text": [
        "[2013-01-22 19:00:13] DEBUG: Saved snapshot at t=7.3e-09 to file 'snapshots/sim_r_025.0__h_010.0__maxh_05.0__m_init_0.3_0.2_-0.6/relaxation.pvd' (saving took 0.00301 seconds).\n"
       ]
      },
      {
       "output_type": "stream",
       "stream": "stderr",
       "text": [
        "[2013-01-22 19:00:13] DEBUG: Saving average field values for simulation 'sim__relaxation_of_nanodisk_2'.\n"
       ]
      },
      {
       "output_type": "stream",
       "stream": "stderr",
       "text": [
        "[2013-01-22 19:00:13] DEBUG: SundialsIntegrator: t=7.33e-09, last_dmdt=1.45 * stopping_dmdt, next dt=1e-10.\n"
       ]
      },
      {
       "output_type": "stream",
       "stream": "stderr",
       "text": [
        "[2013-01-22 19:00:13] DEBUG: Saved snapshot at t=7.35e-09 to file 'snapshots/sim_r_025.0__h_010.0__maxh_05.0__m_init_0.3_0.2_-0.6/relaxation.pvd' (saving took 0.00302 seconds).\n"
       ]
      },
      {
       "output_type": "stream",
       "stream": "stderr",
       "text": [
        "[2013-01-22 19:00:13] DEBUG: Saving average field values for simulation 'sim__relaxation_of_nanodisk_2'.\n"
       ]
      },
      {
       "output_type": "stream",
       "stream": "stderr",
       "text": [
        "[2013-01-22 19:00:13] DEBUG: Saved snapshot at t=7.4e-09 to file 'snapshots/sim_r_025.0__h_010.0__maxh_05.0__m_init_0.3_0.2_-0.6/relaxation.pvd' (saving took 0.00401 seconds).\n"
       ]
      },
      {
       "output_type": "stream",
       "stream": "stderr",
       "text": [
        "[2013-01-22 19:00:13] DEBUG: Saving average field values for simulation 'sim__relaxation_of_nanodisk_2'.\n"
       ]
      },
      {
       "output_type": "stream",
       "stream": "stderr",
       "text": [
        "[2013-01-22 19:00:13] DEBUG: SundialsIntegrator: t=7.43e-09, last_dmdt=1.43 * stopping_dmdt, next dt=1e-10.\n"
       ]
      },
      {
       "output_type": "stream",
       "stream": "stderr",
       "text": [
        "[2013-01-22 19:00:14] DEBUG: Saved snapshot at t=7.45e-09 to file 'snapshots/sim_r_025.0__h_010.0__maxh_05.0__m_init_0.3_0.2_-0.6/relaxation.pvd' (saving took 0.00333 seconds).\n"
       ]
      },
      {
       "output_type": "stream",
       "stream": "stderr",
       "text": [
        "[2013-01-22 19:00:14] DEBUG: Saving average field values for simulation 'sim__relaxation_of_nanodisk_2'.\n"
       ]
      },
      {
       "output_type": "stream",
       "stream": "stderr",
       "text": [
        "[2013-01-22 19:00:14] INFO: Reached simulation time: 7.5 ns\n"
       ]
      },
      {
       "output_type": "stream",
       "stream": "stderr",
       "text": [
        "[2013-01-22 19:00:14] DEBUG: Saved snapshot at t=7.5e-09 to file 'snapshots/sim_r_025.0__h_010.0__maxh_05.0__m_init_0.3_0.2_-0.6/relaxation.pvd' (saving took 0.00304 seconds).\n"
       ]
      },
      {
       "output_type": "stream",
       "stream": "stderr",
       "text": [
        "[2013-01-22 19:00:14] DEBUG: Saving average field values for simulation 'sim__relaxation_of_nanodisk_2'.\n"
       ]
      },
      {
       "output_type": "stream",
       "stream": "stderr",
       "text": [
        "[2013-01-22 19:00:14] DEBUG: SundialsIntegrator: t=7.53e-09, last_dmdt=1.4 * stopping_dmdt, next dt=1e-10.\n"
       ]
      },
      {
       "output_type": "stream",
       "stream": "stderr",
       "text": [
        "[2013-01-22 19:00:14] DEBUG: Saved snapshot at t=7.55e-09 to file 'snapshots/sim_r_025.0__h_010.0__maxh_05.0__m_init_0.3_0.2_-0.6/relaxation.pvd' (saving took 0.00302 seconds).\n"
       ]
      },
      {
       "output_type": "stream",
       "stream": "stderr",
       "text": [
        "[2013-01-22 19:00:14] DEBUG: Saving average field values for simulation 'sim__relaxation_of_nanodisk_2'.\n"
       ]
      },
      {
       "output_type": "stream",
       "stream": "stderr",
       "text": [
        "[2013-01-22 19:00:15] DEBUG: Saved snapshot at t=7.6e-09 to file 'snapshots/sim_r_025.0__h_010.0__maxh_05.0__m_init_0.3_0.2_-0.6/relaxation.pvd' (saving took 0.00303 seconds).\n"
       ]
      },
      {
       "output_type": "stream",
       "stream": "stderr",
       "text": [
        "[2013-01-22 19:00:15] DEBUG: Saving average field values for simulation 'sim__relaxation_of_nanodisk_2'.\n"
       ]
      },
      {
       "output_type": "stream",
       "stream": "stderr",
       "text": [
        "[2013-01-22 19:00:15] DEBUG: SundialsIntegrator: t=7.63e-09, last_dmdt=1.38 * stopping_dmdt, next dt=1e-10.\n"
       ]
      },
      {
       "output_type": "stream",
       "stream": "stderr",
       "text": [
        "[2013-01-22 19:00:15] DEBUG: Saved snapshot at t=7.65e-09 to file 'snapshots/sim_r_025.0__h_010.0__maxh_05.0__m_init_0.3_0.2_-0.6/relaxation.pvd' (saving took 0.00302 seconds).\n"
       ]
      },
      {
       "output_type": "stream",
       "stream": "stderr",
       "text": [
        "[2013-01-22 19:00:15] DEBUG: Saving average field values for simulation 'sim__relaxation_of_nanodisk_2'.\n"
       ]
      },
      {
       "output_type": "stream",
       "stream": "stderr",
       "text": [
        "[2013-01-22 19:00:15] DEBUG: Saved snapshot at t=7.7e-09 to file 'snapshots/sim_r_025.0__h_010.0__maxh_05.0__m_init_0.3_0.2_-0.6/relaxation.pvd' (saving took 0.00302 seconds).\n"
       ]
      },
      {
       "output_type": "stream",
       "stream": "stderr",
       "text": [
        "[2013-01-22 19:00:15] DEBUG: Saving average field values for simulation 'sim__relaxation_of_nanodisk_2'.\n"
       ]
      },
      {
       "output_type": "stream",
       "stream": "stderr",
       "text": [
        "[2013-01-22 19:00:15] DEBUG: SundialsIntegrator: t=7.73e-09, last_dmdt=1.35 * stopping_dmdt, next dt=1e-10.\n"
       ]
      },
      {
       "output_type": "stream",
       "stream": "stderr",
       "text": [
        "[2013-01-22 19:00:16] DEBUG: Saved snapshot at t=7.75e-09 to file 'snapshots/sim_r_025.0__h_010.0__maxh_05.0__m_init_0.3_0.2_-0.6/relaxation.pvd' (saving took 0.00317 seconds).\n"
       ]
      },
      {
       "output_type": "stream",
       "stream": "stderr",
       "text": [
        "[2013-01-22 19:00:16] DEBUG: Saving average field values for simulation 'sim__relaxation_of_nanodisk_2'.\n"
       ]
      },
      {
       "output_type": "stream",
       "stream": "stderr",
       "text": [
        "[2013-01-22 19:00:16] DEBUG: Saved snapshot at t=7.8e-09 to file 'snapshots/sim_r_025.0__h_010.0__maxh_05.0__m_init_0.3_0.2_-0.6/relaxation.pvd' (saving took 0.00313 seconds).\n"
       ]
      },
      {
       "output_type": "stream",
       "stream": "stderr",
       "text": [
        "[2013-01-22 19:00:16] DEBUG: Saving average field values for simulation 'sim__relaxation_of_nanodisk_2'.\n"
       ]
      },
      {
       "output_type": "stream",
       "stream": "stderr",
       "text": [
        "[2013-01-22 19:00:16] DEBUG: SundialsIntegrator: t=7.83e-09, last_dmdt=1.33 * stopping_dmdt, next dt=1e-10.\n"
       ]
      },
      {
       "output_type": "stream",
       "stream": "stderr",
       "text": [
        "[2013-01-22 19:00:16] DEBUG: Saved snapshot at t=7.85e-09 to file 'snapshots/sim_r_025.0__h_010.0__maxh_05.0__m_init_0.3_0.2_-0.6/relaxation.pvd' (saving took 0.00403 seconds).\n"
       ]
      },
      {
       "output_type": "stream",
       "stream": "stderr",
       "text": [
        "[2013-01-22 19:00:16] DEBUG: Saving average field values for simulation 'sim__relaxation_of_nanodisk_2'.\n"
       ]
      },
      {
       "output_type": "stream",
       "stream": "stderr",
       "text": [
        "[2013-01-22 19:00:16] DEBUG: Saved snapshot at t=7.9e-09 to file 'snapshots/sim_r_025.0__h_010.0__maxh_05.0__m_init_0.3_0.2_-0.6/relaxation.pvd' (saving took 0.00306 seconds).\n"
       ]
      },
      {
       "output_type": "stream",
       "stream": "stderr",
       "text": [
        "[2013-01-22 19:00:16] DEBUG: Saving average field values for simulation 'sim__relaxation_of_nanodisk_2'.\n"
       ]
      },
      {
       "output_type": "stream",
       "stream": "stderr",
       "text": [
        "[2013-01-22 19:00:17] DEBUG: SundialsIntegrator: t=7.93e-09, last_dmdt=1.3 * stopping_dmdt, next dt=1e-10.\n"
       ]
      },
      {
       "output_type": "stream",
       "stream": "stderr",
       "text": [
        "[2013-01-22 19:00:17] DEBUG: Saved snapshot at t=7.95e-09 to file 'snapshots/sim_r_025.0__h_010.0__maxh_05.0__m_init_0.3_0.2_-0.6/relaxation.pvd' (saving took 0.00306 seconds).\n"
       ]
      },
      {
       "output_type": "stream",
       "stream": "stderr",
       "text": [
        "[2013-01-22 19:00:17] DEBUG: Saving average field values for simulation 'sim__relaxation_of_nanodisk_2'.\n"
       ]
      },
      {
       "output_type": "stream",
       "stream": "stderr",
       "text": [
        "[2013-01-22 19:00:17] DEBUG: Saved snapshot at t=8e-09 to file 'snapshots/sim_r_025.0__h_010.0__maxh_05.0__m_init_0.3_0.2_-0.6/relaxation.pvd' (saving took 0.00302 seconds).\n"
       ]
      },
      {
       "output_type": "stream",
       "stream": "stderr",
       "text": [
        "[2013-01-22 19:00:17] DEBUG: Saving average field values for simulation 'sim__relaxation_of_nanodisk_2'.\n"
       ]
      },
      {
       "output_type": "stream",
       "stream": "stderr",
       "text": [
        "[2013-01-22 19:00:17] DEBUG: SundialsIntegrator: t=8.03e-09, last_dmdt=1.28 * stopping_dmdt, next dt=1e-10.\n"
       ]
      },
      {
       "output_type": "stream",
       "stream": "stderr",
       "text": [
        "[2013-01-22 19:00:17] DEBUG: Saved snapshot at t=8.05e-09 to file 'snapshots/sim_r_025.0__h_010.0__maxh_05.0__m_init_0.3_0.2_-0.6/relaxation.pvd' (saving took 0.00305 seconds).\n"
       ]
      },
      {
       "output_type": "stream",
       "stream": "stderr",
       "text": [
        "[2013-01-22 19:00:17] DEBUG: Saving average field values for simulation 'sim__relaxation_of_nanodisk_2'.\n"
       ]
      },
      {
       "output_type": "stream",
       "stream": "stderr",
       "text": [
        "[2013-01-22 19:00:18] DEBUG: Saved snapshot at t=8.1e-09 to file 'snapshots/sim_r_025.0__h_010.0__maxh_05.0__m_init_0.3_0.2_-0.6/relaxation.pvd' (saving took 0.00302 seconds).\n"
       ]
      },
      {
       "output_type": "stream",
       "stream": "stderr",
       "text": [
        "[2013-01-22 19:00:18] DEBUG: Saving average field values for simulation 'sim__relaxation_of_nanodisk_2'.\n"
       ]
      },
      {
       "output_type": "stream",
       "stream": "stderr",
       "text": [
        "[2013-01-22 19:00:18] DEBUG: SundialsIntegrator: t=8.13e-09, last_dmdt=1.26 * stopping_dmdt, next dt=1e-10.\n"
       ]
      },
      {
       "output_type": "stream",
       "stream": "stderr",
       "text": [
        "[2013-01-22 19:00:18] DEBUG: Saved snapshot at t=8.15e-09 to file 'snapshots/sim_r_025.0__h_010.0__maxh_05.0__m_init_0.3_0.2_-0.6/relaxation.pvd' (saving took 0.00304 seconds).\n"
       ]
      },
      {
       "output_type": "stream",
       "stream": "stderr",
       "text": [
        "[2013-01-22 19:00:18] DEBUG: Saving average field values for simulation 'sim__relaxation_of_nanodisk_2'.\n"
       ]
      },
      {
       "output_type": "stream",
       "stream": "stderr",
       "text": [
        "[2013-01-22 19:00:18] DEBUG: Saved snapshot at t=8.2e-09 to file 'snapshots/sim_r_025.0__h_010.0__maxh_05.0__m_init_0.3_0.2_-0.6/relaxation.pvd' (saving took 0.00308 seconds).\n"
       ]
      },
      {
       "output_type": "stream",
       "stream": "stderr",
       "text": [
        "[2013-01-22 19:00:18] DEBUG: Saving average field values for simulation 'sim__relaxation_of_nanodisk_2'.\n"
       ]
      },
      {
       "output_type": "stream",
       "stream": "stderr",
       "text": [
        "[2013-01-22 19:00:19] DEBUG: SundialsIntegrator: t=8.23e-09, last_dmdt=1.24 * stopping_dmdt, next dt=1e-10.\n"
       ]
      },
      {
       "output_type": "stream",
       "stream": "stderr",
       "text": [
        "[2013-01-22 19:00:19] DEBUG: Saved snapshot at t=8.25e-09 to file 'snapshots/sim_r_025.0__h_010.0__maxh_05.0__m_init_0.3_0.2_-0.6/relaxation.pvd' (saving took 0.00305 seconds).\n"
       ]
      },
      {
       "output_type": "stream",
       "stream": "stderr",
       "text": [
        "[2013-01-22 19:00:19] DEBUG: Saving average field values for simulation 'sim__relaxation_of_nanodisk_2'.\n"
       ]
      },
      {
       "output_type": "stream",
       "stream": "stderr",
       "text": [
        "[2013-01-22 19:00:19] DEBUG: Saved snapshot at t=8.3e-09 to file 'snapshots/sim_r_025.0__h_010.0__maxh_05.0__m_init_0.3_0.2_-0.6/relaxation.pvd' (saving took 0.00305 seconds).\n"
       ]
      },
      {
       "output_type": "stream",
       "stream": "stderr",
       "text": [
        "[2013-01-22 19:00:19] DEBUG: Saving average field values for simulation 'sim__relaxation_of_nanodisk_2'.\n"
       ]
      },
      {
       "output_type": "stream",
       "stream": "stderr",
       "text": [
        "[2013-01-22 19:00:19] DEBUG: SundialsIntegrator: t=8.33e-09, last_dmdt=1.21 * stopping_dmdt, next dt=1e-10.\n"
       ]
      },
      {
       "output_type": "stream",
       "stream": "stderr",
       "text": [
        "[2013-01-22 19:00:19] DEBUG: Saved snapshot at t=8.35e-09 to file 'snapshots/sim_r_025.0__h_010.0__maxh_05.0__m_init_0.3_0.2_-0.6/relaxation.pvd' (saving took 0.00304 seconds).\n"
       ]
      },
      {
       "output_type": "stream",
       "stream": "stderr",
       "text": [
        "[2013-01-22 19:00:19] DEBUG: Saving average field values for simulation 'sim__relaxation_of_nanodisk_2'.\n"
       ]
      },
      {
       "output_type": "stream",
       "stream": "stderr",
       "text": [
        "[2013-01-22 19:00:20] DEBUG: Saved snapshot at t=8.4e-09 to file 'snapshots/sim_r_025.0__h_010.0__maxh_05.0__m_init_0.3_0.2_-0.6/relaxation.pvd' (saving took 0.00305 seconds).\n"
       ]
      },
      {
       "output_type": "stream",
       "stream": "stderr",
       "text": [
        "[2013-01-22 19:00:20] DEBUG: Saving average field values for simulation 'sim__relaxation_of_nanodisk_2'.\n"
       ]
      },
      {
       "output_type": "stream",
       "stream": "stderr",
       "text": [
        "[2013-01-22 19:00:20] DEBUG: SundialsIntegrator: t=8.43e-09, last_dmdt=1.19 * stopping_dmdt, next dt=1e-10.\n"
       ]
      },
      {
       "output_type": "stream",
       "stream": "stderr",
       "text": [
        "[2013-01-22 19:00:20] DEBUG: Saved snapshot at t=8.45e-09 to file 'snapshots/sim_r_025.0__h_010.0__maxh_05.0__m_init_0.3_0.2_-0.6/relaxation.pvd' (saving took 0.00307 seconds).\n"
       ]
      },
      {
       "output_type": "stream",
       "stream": "stderr",
       "text": [
        "[2013-01-22 19:00:20] DEBUG: Saving average field values for simulation 'sim__relaxation_of_nanodisk_2'.\n"
       ]
      },
      {
       "output_type": "stream",
       "stream": "stderr",
       "text": [
        "[2013-01-22 19:00:20] DEBUG: Saved snapshot at t=8.5e-09 to file 'snapshots/sim_r_025.0__h_010.0__maxh_05.0__m_init_0.3_0.2_-0.6/relaxation.pvd' (saving took 0.00306 seconds).\n"
       ]
      },
      {
       "output_type": "stream",
       "stream": "stderr",
       "text": [
        "[2013-01-22 19:00:20] DEBUG: Saving average field values for simulation 'sim__relaxation_of_nanodisk_2'.\n"
       ]
      },
      {
       "output_type": "stream",
       "stream": "stderr",
       "text": [
        "[2013-01-22 19:00:21] DEBUG: SundialsIntegrator: t=8.53e-09, last_dmdt=1.17 * stopping_dmdt, next dt=1e-10.\n"
       ]
      },
      {
       "output_type": "stream",
       "stream": "stderr",
       "text": [
        "[2013-01-22 19:00:21] DEBUG: Saved snapshot at t=8.55e-09 to file 'snapshots/sim_r_025.0__h_010.0__maxh_05.0__m_init_0.3_0.2_-0.6/relaxation.pvd' (saving took 0.00302 seconds).\n"
       ]
      },
      {
       "output_type": "stream",
       "stream": "stderr",
       "text": [
        "[2013-01-22 19:00:21] DEBUG: Saving average field values for simulation 'sim__relaxation_of_nanodisk_2'.\n"
       ]
      },
      {
       "output_type": "stream",
       "stream": "stderr",
       "text": [
        "[2013-01-22 19:00:21] DEBUG: Saved snapshot at t=8.6e-09 to file 'snapshots/sim_r_025.0__h_010.0__maxh_05.0__m_init_0.3_0.2_-0.6/relaxation.pvd' (saving took 0.00304 seconds).\n"
       ]
      },
      {
       "output_type": "stream",
       "stream": "stderr",
       "text": [
        "[2013-01-22 19:00:21] DEBUG: Saving average field values for simulation 'sim__relaxation_of_nanodisk_2'.\n"
       ]
      },
      {
       "output_type": "stream",
       "stream": "stderr",
       "text": [
        "[2013-01-22 19:00:21] DEBUG: SundialsIntegrator: t=8.63e-09, last_dmdt=1.15 * stopping_dmdt, next dt=1e-10.\n"
       ]
      },
      {
       "output_type": "stream",
       "stream": "stderr",
       "text": [
        "[2013-01-22 19:00:21] DEBUG: Saved snapshot at t=8.65e-09 to file 'snapshots/sim_r_025.0__h_010.0__maxh_05.0__m_init_0.3_0.2_-0.6/relaxation.pvd' (saving took 0.00303 seconds).\n"
       ]
      },
      {
       "output_type": "stream",
       "stream": "stderr",
       "text": [
        "[2013-01-22 19:00:21] DEBUG: Saving average field values for simulation 'sim__relaxation_of_nanodisk_2'.\n"
       ]
      },
      {
       "output_type": "stream",
       "stream": "stderr",
       "text": [
        "[2013-01-22 19:00:22] DEBUG: Saved snapshot at t=8.7e-09 to file 'snapshots/sim_r_025.0__h_010.0__maxh_05.0__m_init_0.3_0.2_-0.6/relaxation.pvd' (saving took 0.00307 seconds).\n"
       ]
      },
      {
       "output_type": "stream",
       "stream": "stderr",
       "text": [
        "[2013-01-22 19:00:22] DEBUG: Saving average field values for simulation 'sim__relaxation_of_nanodisk_2'.\n"
       ]
      },
      {
       "output_type": "stream",
       "stream": "stderr",
       "text": [
        "[2013-01-22 19:00:22] DEBUG: SundialsIntegrator: t=8.73e-09, last_dmdt=1.13 * stopping_dmdt, next dt=1e-10.\n"
       ]
      },
      {
       "output_type": "stream",
       "stream": "stderr",
       "text": [
        "[2013-01-22 19:00:22] DEBUG: Saved snapshot at t=8.75e-09 to file 'snapshots/sim_r_025.0__h_010.0__maxh_05.0__m_init_0.3_0.2_-0.6/relaxation.pvd' (saving took 0.00305 seconds).\n"
       ]
      },
      {
       "output_type": "stream",
       "stream": "stderr",
       "text": [
        "[2013-01-22 19:00:22] DEBUG: Saving average field values for simulation 'sim__relaxation_of_nanodisk_2'.\n"
       ]
      },
      {
       "output_type": "stream",
       "stream": "stderr",
       "text": [
        "[2013-01-22 19:00:23] DEBUG: Saved snapshot at t=8.8e-09 to file 'snapshots/sim_r_025.0__h_010.0__maxh_05.0__m_init_0.3_0.2_-0.6/relaxation.pvd' (saving took 0.00307 seconds).\n"
       ]
      },
      {
       "output_type": "stream",
       "stream": "stderr",
       "text": [
        "[2013-01-22 19:00:23] DEBUG: Saving average field values for simulation 'sim__relaxation_of_nanodisk_2'.\n"
       ]
      },
      {
       "output_type": "stream",
       "stream": "stderr",
       "text": [
        "[2013-01-22 19:00:23] DEBUG: SundialsIntegrator: t=8.83e-09, last_dmdt=1.11 * stopping_dmdt, next dt=1e-10.\n"
       ]
      },
      {
       "output_type": "stream",
       "stream": "stderr",
       "text": [
        "[2013-01-22 19:00:23] DEBUG: Saved snapshot at t=8.85e-09 to file 'snapshots/sim_r_025.0__h_010.0__maxh_05.0__m_init_0.3_0.2_-0.6/relaxation.pvd' (saving took 0.00305 seconds).\n"
       ]
      },
      {
       "output_type": "stream",
       "stream": "stderr",
       "text": [
        "[2013-01-22 19:00:23] DEBUG: Saving average field values for simulation 'sim__relaxation_of_nanodisk_2'.\n"
       ]
      },
      {
       "output_type": "stream",
       "stream": "stderr",
       "text": [
        "[2013-01-22 19:00:23] DEBUG: Saved snapshot at t=8.9e-09 to file 'snapshots/sim_r_025.0__h_010.0__maxh_05.0__m_init_0.3_0.2_-0.6/relaxation.pvd' (saving took 0.00304 seconds).\n"
       ]
      },
      {
       "output_type": "stream",
       "stream": "stderr",
       "text": [
        "[2013-01-22 19:00:23] DEBUG: Saving average field values for simulation 'sim__relaxation_of_nanodisk_2'.\n"
       ]
      },
      {
       "output_type": "stream",
       "stream": "stderr",
       "text": [
        "[2013-01-22 19:00:24] DEBUG: SundialsIntegrator: t=8.93e-09, last_dmdt=1.09 * stopping_dmdt, next dt=1e-10.\n"
       ]
      },
      {
       "output_type": "stream",
       "stream": "stderr",
       "text": [
        "[2013-01-22 19:00:24] DEBUG: Saved snapshot at t=8.95e-09 to file 'snapshots/sim_r_025.0__h_010.0__maxh_05.0__m_init_0.3_0.2_-0.6/relaxation.pvd' (saving took 0.00305 seconds).\n"
       ]
      },
      {
       "output_type": "stream",
       "stream": "stderr",
       "text": [
        "[2013-01-22 19:00:24] DEBUG: Saving average field values for simulation 'sim__relaxation_of_nanodisk_2'.\n"
       ]
      },
      {
       "output_type": "stream",
       "stream": "stderr",
       "text": [
        "[2013-01-22 19:00:24] DEBUG: Saved snapshot at t=9e-09 to file 'snapshots/sim_r_025.0__h_010.0__maxh_05.0__m_init_0.3_0.2_-0.6/relaxation.pvd' (saving took 0.00304 seconds).\n"
       ]
      },
      {
       "output_type": "stream",
       "stream": "stderr",
       "text": [
        "[2013-01-22 19:00:24] DEBUG: Saving average field values for simulation 'sim__relaxation_of_nanodisk_2'.\n"
       ]
      },
      {
       "output_type": "stream",
       "stream": "stderr",
       "text": [
        "[2013-01-22 19:00:24] DEBUG: SundialsIntegrator: t=9.03e-09, last_dmdt=1.07 * stopping_dmdt, next dt=1e-10.\n"
       ]
      },
      {
       "output_type": "stream",
       "stream": "stderr",
       "text": [
        "[2013-01-22 19:00:24] DEBUG: Saved snapshot at t=9.05e-09 to file 'snapshots/sim_r_025.0__h_010.0__maxh_05.0__m_init_0.3_0.2_-0.6/relaxation.pvd' (saving took 0.00307 seconds).\n"
       ]
      },
      {
       "output_type": "stream",
       "stream": "stderr",
       "text": [
        "[2013-01-22 19:00:24] DEBUG: Saving average field values for simulation 'sim__relaxation_of_nanodisk_2'.\n"
       ]
      },
      {
       "output_type": "stream",
       "stream": "stderr",
       "text": [
        "[2013-01-22 19:00:25] DEBUG: Saved snapshot at t=9.1e-09 to file 'snapshots/sim_r_025.0__h_010.0__maxh_05.0__m_init_0.3_0.2_-0.6/relaxation.pvd' (saving took 0.00307 seconds).\n"
       ]
      },
      {
       "output_type": "stream",
       "stream": "stderr",
       "text": [
        "[2013-01-22 19:00:25] DEBUG: Saving average field values for simulation 'sim__relaxation_of_nanodisk_2'.\n"
       ]
      },
      {
       "output_type": "stream",
       "stream": "stderr",
       "text": [
        "[2013-01-22 19:00:25] DEBUG: SundialsIntegrator: t=9.13e-09, last_dmdt=1.05 * stopping_dmdt, next dt=1e-10.\n"
       ]
      },
      {
       "output_type": "stream",
       "stream": "stderr",
       "text": [
        "[2013-01-22 19:00:25] DEBUG: Saved snapshot at t=9.15e-09 to file 'snapshots/sim_r_025.0__h_010.0__maxh_05.0__m_init_0.3_0.2_-0.6/relaxation.pvd' (saving took 0.00306 seconds).\n"
       ]
      },
      {
       "output_type": "stream",
       "stream": "stderr",
       "text": [
        "[2013-01-22 19:00:25] DEBUG: Saving average field values for simulation 'sim__relaxation_of_nanodisk_2'.\n"
       ]
      },
      {
       "output_type": "stream",
       "stream": "stderr",
       "text": [
        "[2013-01-22 19:00:25] DEBUG: Saved snapshot at t=9.2e-09 to file 'snapshots/sim_r_025.0__h_010.0__maxh_05.0__m_init_0.3_0.2_-0.6/relaxation.pvd' (saving took 0.00306 seconds).\n"
       ]
      },
      {
       "output_type": "stream",
       "stream": "stderr",
       "text": [
        "[2013-01-22 19:00:25] DEBUG: Saving average field values for simulation 'sim__relaxation_of_nanodisk_2'.\n"
       ]
      },
      {
       "output_type": "stream",
       "stream": "stderr",
       "text": [
        "[2013-01-22 19:00:26] DEBUG: SundialsIntegrator: t=9.23e-09, last_dmdt=1.03 * stopping_dmdt, next dt=1e-10.\n"
       ]
      },
      {
       "output_type": "stream",
       "stream": "stderr",
       "text": [
        "[2013-01-22 19:00:26] DEBUG: Saved snapshot at t=9.25e-09 to file 'snapshots/sim_r_025.0__h_010.0__maxh_05.0__m_init_0.3_0.2_-0.6/relaxation.pvd' (saving took 0.00307 seconds).\n"
       ]
      },
      {
       "output_type": "stream",
       "stream": "stderr",
       "text": [
        "[2013-01-22 19:00:26] DEBUG: Saving average field values for simulation 'sim__relaxation_of_nanodisk_2'.\n"
       ]
      },
      {
       "output_type": "stream",
       "stream": "stderr",
       "text": [
        "[2013-01-22 19:00:26] DEBUG: Saved snapshot at t=9.3e-09 to file 'snapshots/sim_r_025.0__h_010.0__maxh_05.0__m_init_0.3_0.2_-0.6/relaxation.pvd' (saving took 0.00305 seconds).\n"
       ]
      },
      {
       "output_type": "stream",
       "stream": "stderr",
       "text": [
        "[2013-01-22 19:00:26] DEBUG: Saving average field values for simulation 'sim__relaxation_of_nanodisk_2'.\n"
       ]
      },
      {
       "output_type": "stream",
       "stream": "stderr",
       "text": [
        "[2013-01-22 19:00:26] DEBUG: SundialsIntegrator: t=9.33e-09, last_dmdt=1.02 * stopping_dmdt, next dt=1e-10.\n"
       ]
      },
      {
       "output_type": "stream",
       "stream": "stderr",
       "text": [
        "[2013-01-22 19:00:27] DEBUG: Saved snapshot at t=9.35e-09 to file 'snapshots/sim_r_025.0__h_010.0__maxh_05.0__m_init_0.3_0.2_-0.6/relaxation.pvd' (saving took 0.00309 seconds).\n"
       ]
      },
      {
       "output_type": "stream",
       "stream": "stderr",
       "text": [
        "[2013-01-22 19:00:27] DEBUG: Saving average field values for simulation 'sim__relaxation_of_nanodisk_2'.\n"
       ]
      },
      {
       "output_type": "stream",
       "stream": "stderr",
       "text": [
        "[2013-01-22 19:00:27] DEBUG: Saved snapshot at t=9.4e-09 to file 'snapshots/sim_r_025.0__h_010.0__maxh_05.0__m_init_0.3_0.2_-0.6/relaxation.pvd' (saving took 0.00314 seconds).\n"
       ]
      },
      {
       "output_type": "stream",
       "stream": "stderr",
       "text": [
        "[2013-01-22 19:00:27] DEBUG: Saving average field values for simulation 'sim__relaxation_of_nanodisk_2'.\n"
       ]
      },
      {
       "output_type": "stream",
       "stream": "stderr",
       "text": [
        "[2013-01-22 19:00:27] DEBUG: SundialsIntegrator: Stopping at t=9.43e-09, with last_dmdt=1.74e+07, smaller than stopping_dmdt=1.75e+07.\n"
       ]
      },
      {
       "output_type": "stream",
       "stream": "stderr",
       "text": [
        "[2013-01-22 19:00:27] DEBUG: Saved snapshot at t=9.43133482928e-09 to file 'snapshots/sim_r_025.0__h_010.0__maxh_05.0__m_init_0.3_0.2_-0.6/relaxation.pvd' (saving took 0.00312 seconds).\n"
       ]
      },
      {
       "output_type": "stream",
       "stream": "stderr",
       "text": [
        "[2013-01-22 19:00:27] DEBUG: Saving average field values for simulation 'sim__relaxation_of_nanodisk_2'.\n"
       ]
      },
      {
       "output_type": "stream",
       "stream": "stderr",
       "text": [
        "[2013-01-22 19:00:27] INFO: Relaxation finished at time t = 9.4e-09.\n"
       ]
      }
     ],
     "prompt_number": 13
    },
    {
     "cell_type": "markdown",
     "metadata": {},
     "source": [
      "This is the initial state (where M points down):"
     ]
    },
    {
     "cell_type": "code",
     "collapsed": false,
     "input": [
      "render_paraview_scene('snapshots/{}/relaxation000000.vtu'.format(sim_descr_2),\n",
      "                      'snapshots/{}/initial_state.png'.format(sim_descr_2),\n",
      "                      color_by_axis='Z', rescale_colormap_to_data_range=False)"
     ],
     "language": "python",
     "metadata": {},
     "outputs": [
      {
       "output_type": "stream",
       "stream": "stderr",
       "text": [
        "[2013-01-22 19:00:28] DEBUG: Adding cone glyphs.\n"
       ]
      },
      {
       "output_type": "stream",
       "stream": "stderr",
       "text": [
        "[2013-01-22 19:00:28] DEBUG: Using automatically determined glyph_scale_factor = 4.9 (determined from approximate mesh spacing 4.9 and maximum field magnitude 1). This may need manual tweaking in case glyphs appear very large or very small.\n"
       ]
      },
      {
       "output_type": "stream",
       "stream": "stderr",
       "text": [
        "[2013-01-22 19:00:28] DEBUG: Trimming border from rendered scene.\n"
       ]
      },
      {
       "output_type": "pyout",
       "png": "[encoded data removed]",
       "prompt_number": 14,
       "text": [
        "<IPython.core.display.Image at 0x2c0bf10>"
       ]
      }
     ],
     "prompt_number": 14
    },
    {
     "cell_type": "markdown",
     "metadata": {},
     "source": [
      "And this is the relaxed state, where M points in-plane (but in a different direction than for the first relaxation):"
     ]
    },
    {
     "cell_type": "code",
     "collapsed": false,
     "input": [
      "final_snapshot_2 = glob.glob('snapshots/{}/relaxation*.vtu'.format(sim_descr_2))[-1]\n",
      "print \"Final vtk snapshot: {}\".format(final_snapshot_2)"
     ],
     "language": "python",
     "metadata": {},
     "outputs": [
      {
       "output_type": "stream",
       "stream": "stdout",
       "text": [
        "Final vtk snapshot: snapshots/sim_r_025.0__h_010.0__maxh_05.0__m_init_0.3_0.2_-0.6/relaxation000020.vtu\n"
       ]
      }
     ],
     "prompt_number": 17
    },
    {
     "cell_type": "code",
     "collapsed": false,
     "input": [
      "render_paraview_scene(final_snapshot_2,\n",
      "                      'snapshots/{}/relaxed_state.png'.format(sim_descr_2),\n",
      "                      color_by_axis='Z', rescale_colormap_to_data_range=False)"
     ],
     "language": "python",
     "metadata": {},
     "outputs": [
      {
       "output_type": "stream",
       "stream": "stderr",
       "text": [
        "[2013-01-22 19:00:58] DEBUG: Adding cone glyphs.\n"
       ]
      },
      {
       "output_type": "stream",
       "stream": "stderr",
       "text": [
        "[2013-01-22 19:00:59] DEBUG: Using automatically determined glyph_scale_factor = 4.9 (determined from approximate mesh spacing 4.9 and maximum field magnitude 1). This may need manual tweaking in case glyphs appear very large or very small.\n"
       ]
      },
      {
       "output_type": "stream",
       "stream": "stderr",
       "text": [
        "[2013-01-22 19:00:59] DEBUG: Trimming border from rendered scene.\n"
       ]
      },
      {
       "output_type": "pyout",
       "png": "[encoded data removed]",
       "prompt_number": 18,
       "text": [
        "<IPython.core.display.Image at 0x59a2d50>"
       ]
      }
     ],
     "prompt_number": 18
    },
    {
     "cell_type": "code",
     "collapsed": false,
     "input": [],
     "language": "python",
     "metadata": {},
     "outputs": [],
     "prompt_number": 16
    }
   ],
   "metadata": {}
  }
 ]
}