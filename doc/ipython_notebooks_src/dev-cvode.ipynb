{
 "metadata": {
  "name": "cvode"
 },
 "nbformat": 3,
 "nbformat_minor": 0,
 "worksheets": [
  {
   "cells": [
    {
     "cell_type": "markdown",
     "metadata": {},
     "source": [
      "## About the cvode time integration -- developers notes"
     ]
    },
    {
     "cell_type": "markdown",
     "metadata": {},
     "source": [
      "In this notebook, we review some of the properties of the cvode-based time integration. This is currently unfinished and needs further work.\n",
      "The plan is to use this as a basis to review the way we interact with the CVODE time integration (relating both to what value of time we \n",
      "should use when saving the ndt file and to when we need to update the magnetisation after CVODE has completed its work)."
     ]
    },
    {
     "cell_type": "markdown",
     "metadata": {},
     "source": [
      "More detailed information can be found in the [CVODE manual, pdf](https://computation.llnl.gov/casc/sundials/documentation/cv_guide.pdf)"
     ]
    },
    {
     "cell_type": "code",
     "collapsed": false,
     "input": [
      "import numpy as np\n",
      "from finmag.util.ode import cvode\n",
      "import finmag.native.sundials as sundials\n",
      "integrator = sundials.cvode(sundials.CV_ADAMS, sundials.CV_FUNCTIONAL)\n",
      "def rhs(t, y, ydot):\n",
      "            ydot[:] = 0.5 * y\n",
      "            return 0"
     ],
     "language": "python",
     "metadata": {},
     "outputs": [
      {
       "output_type": "stream",
       "stream": "stderr",
       "text": [
        "[2012-12-12 17:11:41] INFO: Finmag logging output will be appended to file: '/home/fangohr/.finmag/global.log'\n"
       ]
      },
      {
       "output_type": "stream",
       "stream": "stderr",
       "text": [
        "[2012-12-12 17:11:41] DEBUG: Building modules in 'native'...\n"
       ]
      },
      {
       "output_type": "stream",
       "stream": "stderr",
       "text": [
        "[2012-12-12 17:12:02] DEBUG:               Finmag: 2426:d493ef6fdae46fb37c405343f69f3b8997f40213\n"
       ]
      },
      {
       "output_type": "stream",
       "stream": "stderr",
       "text": [
        "[2012-12-12 17:12:02] DEBUG:               Dolfin: 1.0.0\n"
       ]
      },
      {
       "output_type": "stream",
       "stream": "stderr",
       "text": [
        "[2012-12-12 17:12:02] DEBUG:           Matplotlib: 1.2.0\n"
       ]
      },
      {
       "output_type": "stream",
       "stream": "stderr",
       "text": [
        "[2012-12-12 17:12:02] DEBUG:                Numpy: 1.6.1\n"
       ]
      },
      {
       "output_type": "stream",
       "stream": "stderr",
       "text": [
        "[2012-12-12 17:12:02] DEBUG:                Scipy: 0.9.0\n"
       ]
      },
      {
       "output_type": "stream",
       "stream": "stderr",
       "text": [
        "[2012-12-12 17:12:02] DEBUG:              IPython: 0.13.1\n"
       ]
      },
      {
       "output_type": "stream",
       "stream": "stderr",
       "text": [
        "[2012-12-12 17:12:02] DEBUG:                Linux: Ubuntu 12.04.1 LTS\n"
       ]
      }
     ],
     "prompt_number": 1
    },
    {
     "cell_type": "code",
     "collapsed": false,
     "input": [
      "yout = np.zeros(1)\n",
      "ts = np.linspace(0.1, 1, 10)*0.1\n",
      "integrator.init(rhs, 0, np.array([1.]))\n",
      "integrator.set_scalar_tolerances(1e-9, 1e-9)\n",
      "for i, t in enumerate(ts):\n",
      "    retval = integrator.advance_time(t, yout)\n",
      "    assert retval == 0.0\n",
      "    print(\"t={:6.4}, yout = {:14}\".format(t,yout)),\n",
      "    print(\"current_time = {:15.10}\".format(integrator.get_current_time())),\n",
      "    print(\"num_steps = {:6}\".format(integrator.get_num_steps())),\n",
      "    print(\"cur_step = {:6}\".format(integrator.get_current_step())),\n",
      "    print(\"rhsevals = {:6}\".format(integrator.get_num_rhs_evals()))"
     ],
     "language": "python",
     "metadata": {},
     "outputs": [
      {
       "output_type": "stream",
       "stream": "stdout",
       "text": [
        "t=  0.01, yout = [ 1.00501252]  current_time =   0.01362599042 num_steps =      7 cur_step = 0.0192238139121 rhsevals =     19\n",
        "t=  0.02, yout = [ 1.01005017]  current_time =   0.03284980433 num_steps =      8 cur_step = 0.0192238139121 rhsevals =     20\n",
        "t=  0.03, yout = [ 1.01511307]  current_time =   0.03284980433 num_steps =      8 cur_step = 0.0192238139121 rhsevals =     20\n",
        "t=  0.04, yout = [ 1.02020134]  current_time =   0.05207361824 num_steps =      9 cur_step = 0.0507205360613 rhsevals =     22\n",
        "t=  0.05, yout = [ 1.02531512]  current_time =   0.05207361824 num_steps =      9 cur_step = 0.0507205360613 rhsevals =     22\n",
        "t=  0.06, yout = [ 1.03045454]  current_time =   0.07952981349 num_steps =     10 cur_step = 0.0274561952488 rhsevals =     26\n",
        "t=  0.07, yout = [ 1.03561971]  current_time =   0.07952981349 num_steps =     10 cur_step = 0.0274561952488 rhsevals =     26\n",
        "t=  0.08, yout = [ 1.04081078]  current_time =    0.1069860087 num_steps =     11 cur_step = 0.0505824642197 rhsevals =     27\n",
        "t=  0.09, yout = [ 1.04602786]  current_time =    0.1069860087 num_steps =     11 cur_step = 0.0505824642197 rhsevals =     27\n",
        "t=   0.1, yout = [ 1.0512711]   current_time =    0.1069860087 num_steps =     11 cur_step = 0.0505824642197 rhsevals =     27\n"
       ]
      }
     ],
     "prompt_number": 2
    },
    {
     "cell_type": "markdown",
     "metadata": {},
     "source": [
      "Things to observe:\n",
      "\n",
      "* t is the value up to which we want to integrate (for every row) and\n",
      "* yout is the best approximation of the solution that CVODE can give us\n",
      "* current_time is the *internal* time t up to which the integration has been carried out. \n",
      "* num_steps in the number of integration steps that have been done\n",
      "* cur_step is the current step size (i.e. dt in this example) that will be attempted for the next step.\n",
      "* rhsevals is the number of evaluations of the rhs side (i.e. computin dm/dt, and thus computing the demag \n",
      "  field, etc)\n",
      "* the return value of ``integrator.get_last_step()`` (not in table above) shows the dt for the last step executed."
     ]
    },
    {
     "cell_type": "code",
     "collapsed": false,
     "input": [
      "integrator.get_last_step()"
     ],
     "language": "python",
     "metadata": {},
     "outputs": [
      {
       "output_type": "pyout",
       "prompt_number": 3,
       "text": [
        "0.02745619524875278"
       ]
      }
     ],
     "prompt_number": 3
    },
    {
     "cell_type": "code",
     "collapsed": false,
     "input": [
      "integrator.get_actual_init_step()  # the step size that was attempted as the very first step "
     ],
     "language": "python",
     "metadata": {},
     "outputs": [
      {
       "output_type": "pyout",
       "prompt_number": 4,
       "text": [
        "6.324555320338399e-05"
       ]
      }
     ],
     "prompt_number": 4
    },
    {
     "cell_type": "markdown",
     "metadata": {},
     "source": [
      "    There is a convenient function to get a number of statistics in one shot: "
     ]
    },
    {
     "cell_type": "code",
     "collapsed": false,
     "input": [
      "stats = integrator.get_integrator_stats()\n",
      "nsteps, nfevals, nlinsetups, netfails, qlast, qcur, hinused, hlast, hcur, tcur = stats\n",
      "print stats"
     ],
     "language": "python",
     "metadata": {},
     "outputs": [
      {
       "output_type": "stream",
       "stream": "stdout",
       "text": [
        "(11, 27, 0, 3, 4, 4, 6.324555320338399e-05, 0.02745619524875278, 0.050582464219736924, 0.10698600873915648)\n"
       ]
      }
     ],
     "prompt_number": 7
    }
   ],
   "metadata": {}
  }
 ]
}
