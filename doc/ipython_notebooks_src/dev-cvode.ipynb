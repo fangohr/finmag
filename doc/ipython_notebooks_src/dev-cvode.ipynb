{
 "metadata": {
  "name": "dev-cvode"
 },
 "nbformat": 3,
 "nbformat_minor": 0,
 "worksheets": [
  {
   "cells": [
    {
     "cell_type": "markdown",
     "metadata": {},
     "source": [
      "## About the cvode time integration -- developers notes"
     ]
    },
    {
     "cell_type": "markdown",
     "metadata": {},
     "source": [
      "In this notebook, we review some of the properties of the cvode-based time integration.\n",
      "We have used this to review the way we interact with the CVODE time integration (relating both to what value of time we \n",
      "should use when saving the ndt file and to when we need to update the magnetisation after CVODE has completed its work), but it seems \n",
      "to be useful material to remind us how cvode works, or for new people joining the team."
     ]
    },
    {
     "cell_type": "markdown",
     "metadata": {},
     "source": [
      "More detailed information can be found in the [CVODE manual, pdf](https://computation.llnl.gov/casc/sundials/documentation/cv_guide.pdf)"
     ]
    },
    {
     "cell_type": "code",
     "collapsed": false,
     "input": [
      "import numpy as np\n",
      "from finmag.util.ode import cvode\n",
      "import finmag.native.sundials as sundials\n",
      "integrator = sundials.cvode(sundials.CV_ADAMS, sundials.CV_FUNCTIONAL)\n",
      "def rhs(t, y, ydot):\n",
      "            ydot[:] = 0.5 * y\n",
      "            return 0"
     ],
     "language": "python",
     "metadata": {},
     "outputs": [
      {
       "output_type": "stream",
       "stream": "stderr",
       "text": [
        "[2013-02-06 09:20:50] INFO: Finmag logging output will be appended to file: '/home/fangohr/.finmag/global.log'\n"
       ]
      },
      {
       "output_type": "stream",
       "stream": "stderr",
       "text": [
        "[2013-02-06 09:20:50] DEBUG: Building modules in 'native'...\n"
       ]
      },
      {
       "output_type": "stream",
       "stream": "stderr",
       "text": [
        "[2013-02-06 09:20:51] DEBUG:               Finmag: 2890:6b91cb22f391ae562d45071c3c624587aa215c1a\n"
       ]
      },
      {
       "output_type": "stream",
       "stream": "stderr",
       "text": [
        "[2013-02-06 09:20:51] DEBUG:               Dolfin: 1.0.0\n"
       ]
      },
      {
       "output_type": "stream",
       "stream": "stderr",
       "text": [
        "[2013-02-06 09:20:51] DEBUG:           Matplotlib: 1.2.0\n"
       ]
      },
      {
       "output_type": "stream",
       "stream": "stderr",
       "text": [
        "[2013-02-06 09:20:51] DEBUG:                Numpy: 1.6.1\n"
       ]
      },
      {
       "output_type": "stream",
       "stream": "stderr",
       "text": [
        "[2013-02-06 09:20:51] DEBUG:                Scipy: 0.9.0\n"
       ]
      },
      {
       "output_type": "stream",
       "stream": "stderr",
       "text": [
        "[2013-02-06 09:20:51] DEBUG:              IPython: 0.13.1\n"
       ]
      },
      {
       "output_type": "stream",
       "stream": "stderr",
       "text": [
        "[2013-02-06 09:20:51] DEBUG:               Python: 2.7.3\n"
       ]
      },
      {
       "output_type": "stream",
       "stream": "stderr",
       "text": [
        "[2013-02-06 09:20:51] DEBUG:             Paraview: 3.14.1-1ubuntu1\n"
       ]
      },
      {
       "output_type": "stream",
       "stream": "stderr",
       "text": [
        "[2013-02-06 09:20:51] DEBUG:             Sundials: 2.4.0-5\n"
       ]
      },
      {
       "output_type": "stream",
       "stream": "stderr",
       "text": [
        "[2013-02-06 09:20:51] DEBUG:         Boost-Python: 1.46.1\n"
       ]
      },
      {
       "output_type": "stream",
       "stream": "stderr",
       "text": [
        "[2013-02-06 09:20:51] DEBUG:                Linux: Ubuntu 12.04.1 LTS\n"
       ]
      }
     ],
     "prompt_number": 1
    },
    {
     "cell_type": "code",
     "collapsed": false,
     "input": [
      "yout = np.zeros(1)\n",
      "ts = np.linspace(0.1, 1, 10)*0.1\n",
      "integrator.init(rhs, 0, np.array([1.]))\n",
      "integrator.set_scalar_tolerances(1e-9, 1e-9)\n",
      "for i, t in enumerate(ts):\n",
      "    retval = integrator.advance_time(t, yout)\n",
      "    assert retval == 0.0\n",
      "    print(\"t={:6.4}, yout = {:14}, yexact={:14}, \".format(t,yout,np.exp(0.5*t))),\n",
      "    print(\"current_time = {:9.6g}\".format(integrator.get_current_time())),\n",
      "    print(\"num_steps = {:6}\".format(integrator.get_num_steps())),\n",
      "    print(\"cur_step = {:6.4g}\".format(integrator.get_current_step())),\n",
      "    print(\"rhsevals = {:6}\".format(integrator.get_num_rhs_evals()))\n",
      "    absdiff = abs(yout - math.exp(0.5*t)),\n",
      "    #print(\"absdiff= {:.5g}\".format(float(absdiff[0])))\n",
      "    assert absdiff[0] < 2e-9, \"absdiff=%g\" % absdiff"
     ],
     "language": "python",
     "metadata": {},
     "outputs": [
      {
       "output_type": "stream",
       "stream": "stdout",
       "text": [
        "t=  0.01, yout = [ 1.00501252] , yexact= 1.00501252086,  current_time =  0.013626 num_steps =      7 cur_step = 0.01922 rhsevals =     19\n",
        "t=  0.02, yout = [ 1.01005017] , yexact= 1.01005016708,  current_time = 0.0328498 num_steps =      8 cur_step = 0.01922 rhsevals =     20\n",
        "t=  0.03, yout = [ 1.01511307] , yexact= 1.01511306462,  current_time = 0.0328498 num_steps =      8 cur_step = 0.01922 rhsevals =     20\n",
        "t=  0.04, yout = [ 1.02020134] , yexact= 1.02020134003,  current_time = 0.0520736 num_steps =      9 cur_step = 0.05072 rhsevals =     22\n",
        "t=  0.05, yout = [ 1.02531512] , yexact= 1.02531512052,  current_time = 0.0520736 num_steps =      9 cur_step = 0.05072 rhsevals =     22\n",
        "t=  0.06, yout = [ 1.03045454] , yexact= 1.03045453395,  current_time = 0.0795298 num_steps =     10 cur_step = 0.02746 rhsevals =     26\n",
        "t=  0.07, yout = [ 1.03561971] , yexact=  1.0356197088,  current_time = 0.0795298 num_steps =     10 cur_step = 0.02746 rhsevals =     26\n",
        "t=  0.08, yout = [ 1.04081078] , yexact= 1.04081077419,  current_time =  0.106986 num_steps =     11 cur_step = 0.05058 rhsevals =     27\n",
        "t=  0.09, yout = [ 1.04602786] , yexact= 1.04602785991,  current_time =  0.106986 num_steps =     11 cur_step = 0.05058 rhsevals =     27\n",
        "t=   0.1, yout = [ 1.0512711]  , yexact= 1.05127109638,  current_time =  0.106986 num_steps =     11 cur_step = 0.05058 rhsevals =     27\n"
       ]
      }
     ],
     "prompt_number": 2
    },
    {
     "cell_type": "markdown",
     "metadata": {},
     "source": [
      "Things to observe:\n",
      "\n",
      "* t is the value up to which we want to integrate (for every row) and\n",
      "* yout is the best approximation of the solution that CVODE can give us (for the time t which we requested)\n",
      "* current_time is the *internal* time t up to which the integration has been carried out. \n",
      "* num_steps in the number of integration steps that have been done\n",
      "* cur_step is the current step size (i.e. dt in this example) that will be attempted for the next step.\n",
      "* rhsevals is the number of evaluations of the rhs side (i.e. computin dm/dt, and thus computing the demag \n",
      "  field, etc)\n",
      "* the return value of ``integrator.get_last_step()`` (not in table above) shows the dt for the last step executed."
     ]
    },
    {
     "cell_type": "code",
     "collapsed": false,
     "input": [
      "integrator.get_last_step()"
     ],
     "language": "python",
     "metadata": {},
     "outputs": [
      {
       "output_type": "pyout",
       "prompt_number": 3,
       "text": [
        "0.02745619524875278"
       ]
      }
     ],
     "prompt_number": 3
    },
    {
     "cell_type": "code",
     "collapsed": false,
     "input": [
      "integrator.get_actual_init_step()  # the step size that was attempted as the very first step "
     ],
     "language": "python",
     "metadata": {},
     "outputs": [
      {
       "output_type": "pyout",
       "prompt_number": 4,
       "text": [
        "6.324555320338399e-05"
       ]
      }
     ],
     "prompt_number": 4
    },
    {
     "cell_type": "markdown",
     "metadata": {},
     "source": [
      "There is a convenient function to get a number of statistics in one shot: "
     ]
    },
    {
     "cell_type": "code",
     "collapsed": false,
     "input": [
      "stats = integrator.get_integrator_stats()\n",
      "nsteps, nfevals, nlinsetups, netfails, qlast, qcur, hinused, hlast, hcur, tcur = stats\n",
      "print stats"
     ],
     "language": "python",
     "metadata": {},
     "outputs": [
      {
       "output_type": "stream",
       "stream": "stdout",
       "text": [
        "(11, 27, 0, 3, 4, 4, 6.324555320338399e-05, 0.02745619524875278, 0.050582464219736924, 0.10698600873915648)\n"
       ]
      }
     ],
     "prompt_number": 5
    }
   ],
   "metadata": {}
  }
 ]
}