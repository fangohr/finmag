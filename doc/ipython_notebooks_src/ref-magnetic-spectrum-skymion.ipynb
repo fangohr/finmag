{
 "metadata": {
  "name": ""
 },
 "nbformat": 3,
 "nbformat_minor": 0,
 "worksheets": [
  {
   "cells": [
    {
     "cell_type": "markdown",
     "metadata": {},
     "source": [
      "# Magnetic spectrum of a Skyrmion"
     ]
    },
    {
     "cell_type": "markdown",
     "metadata": {},
     "source": [
      "**Author**: Weiwei Wang\n",
      "\n",
      "**Date**: Feb 2013\n",
      "\n",
      "**Purpose**: A simple example to compute the magnetic spectrum of a nanodisk with DMI interaction."
     ]
    },
    {
     "cell_type": "code",
     "collapsed": false,
     "input": [
      "%matplotlib inline"
     ],
     "language": "python",
     "metadata": {},
     "outputs": [],
     "prompt_number": 1
    },
    {
     "cell_type": "code",
     "collapsed": false,
     "input": [
      "import os\n",
      "import numpy as np\n",
      "from numpy import fft\n",
      "import dolfin as df\n",
      "from finmag import Simulation as Sim\n",
      "from finmag.energies import DMI\n",
      "from finmag.energies import Demag\n",
      "from finmag.energies import Exchange\n",
      "from finmag.energies import TimeZeeman\n",
      "from finmag.util.meshes import cylinder\n",
      "from finmag.util.fileio import Tablereader\n",
      "\n",
      "from finmag.util.helpers import set_logging_level\n",
      "set_logging_level(\"INFO\")\n",
      "\n",
      "\n",
      "mesh =cylinder(20,3,3)\n",
      "\n",
      "Ms = 8.6e5\n",
      "A = 1.3e-11\n",
      "D = 4e-3\n",
      "\n",
      "initial_m_file = \"mxyz_0.npy\""
     ],
     "language": "python",
     "metadata": {},
     "outputs": [
      {
       "output_type": "stream",
       "stream": "stderr",
       "text": [
        "[2014-01-17 12:19:58] INFO: Finmag logging output will be appended to file: '/home/albert/.finmag/global.log'\n"
       ]
      },
      {
       "output_type": "stream",
       "stream": "stderr",
       "text": [
        "[2014-01-17 12:19:58] DEBUG: Building modules in 'native'...\n"
       ]
      },
      {
       "output_type": "stream",
       "stream": "stderr",
       "text": [
        "[2014-01-17 12:19:59] DEBUG:               Finmag: 4384:a183bd590b132d9c31d06c51008977885a53cb62\n"
       ]
      },
      {
       "output_type": "stream",
       "stream": "stderr",
       "text": [
        "[2014-01-17 12:19:59] DEBUG: Registering debug signal handler. Press Ctrl-Z at any time to stop execution and jump into the debugger.\n"
       ]
      },
      {
       "output_type": "stream",
       "stream": "stderr",
       "text": [
        "[2014-01-17 12:20:00] WARNING: Warning: Ignoring netgen's output status of 34304.\n"
       ]
      }
     ],
     "prompt_number": 2
    },
    {
     "cell_type": "markdown",
     "metadata": {},
     "source": [
      "The parameters are listed as above, first we define a function to relax the system and save it to a npy file."
     ]
    },
    {
     "cell_type": "code",
     "collapsed": false,
     "input": [
      "def relax_system():\n",
      "    sim = Sim(mesh, Ms,unit_length=1e-9)\n",
      "    sim.set_m((1, 1, 1))\n",
      "\n",
      "    sim.add(Exchange(A))\n",
      "    sim.add(DMI(D))\n",
      "    sim.add(Demag())\n",
      "\n",
      "    sim.relax()\n",
      "    np.save(initial_m_file, sim.m)\n",
      "    \n",
      "if not os.path.exists(initial_m_file):\n",
      "    relax_system()"
     ],
     "language": "python",
     "metadata": {},
     "outputs": [
      {
       "output_type": "stream",
       "stream": "stderr",
       "text": [
        "[2014-01-17 12:20:18] INFO: Finmag logging output will be written to file: '/home/albert/work/code/finmag/doc/ipython_notebooks_src/unnamed.log' (any old content will be overwritten).\n"
       ]
      },
      {
       "output_type": "stream",
       "stream": "stderr",
       "text": [
        "[2014-01-17 12:20:18] INFO: Creating Sim object 'unnamed' (rank=0/1).\n"
       ]
      },
      {
       "output_type": "stream",
       "stream": "stderr",
       "text": [
        "[2014-01-17 12:20:18] INFO: <Mesh of topological dimension 3 (tetrahedra) with 300 vertices and 774 cells, ordered>\n"
       ]
      },
      {
       "output_type": "stream",
       "stream": "stderr",
       "text": [
        "[2014-01-17 12:20:18] INFO: Create integrator sundials with kwargs={}\n"
       ]
      },
      {
       "output_type": "stream",
       "stream": "stderr",
       "text": [
        "[2014-01-17 12:20:18] INFO: Simulation will run until relaxation of the magnetisation.\n"
       ]
      },
      {
       "output_type": "stream",
       "stream": "stderr",
       "text": [
        "[2014-01-17 12:20:39] INFO: Relaxation finished at time t = 7.9e-10.\n"
       ]
      }
     ],
     "prompt_number": 3
    },
    {
     "cell_type": "markdown",
     "metadata": {},
     "source": [
      "Then we apply an exponentially decaying field to the system and collect the average magnetisation every 1 ps.\n",
      "\n",
      "*Note:* This computation will take a while! (Ca. 10 minutes)"
     ]
    },
    {
     "cell_type": "code",
     "collapsed": false,
     "input": [
      "def excite_system():\n",
      "    \n",
      "    H = df.Expression((\"0.0\", \"H0*exp(-omega*t)\", \"0.0\"), H0=300, omega=7.675e9, t=0.0)\n",
      "    H_app = TimeZeeman(H)\n",
      "    \n",
      "    def update_H_ext(t):\n",
      "        H_app.update(t)\n",
      "    \n",
      "    sim = Sim(mesh, Ms, unit_length=1e-9,name='excite_system')\n",
      "    sim.alpha = 0.02\n",
      "    sim.set_m(np.load(initial_m_file))\n",
      "    sim.add(H_app, with_time_update=update_H_ext)\n",
      "    sim.add(Exchange(A))\n",
      "    sim.add(DMI(D))\n",
      "    sim.add(Demag())\n",
      "    \n",
      "    sim.schedule('save_ndt', every=1e-12)\n",
      "    sim.run_until(3e-9)\n",
      "\n",
      "if not os.path.exists('excite_system.ndt'):\n",
      "    excite_system()"
     ],
     "language": "python",
     "metadata": {},
     "outputs": [
      {
       "output_type": "stream",
       "stream": "stderr",
       "text": [
        "[2014-01-17 12:22:30] INFO: Finmag logging output will be written to file: '/home/albert/work/code/finmag/doc/ipython_notebooks_src/excite_system.log' (any old content will be overwritten).\n"
       ]
      },
      {
       "output_type": "stream",
       "stream": "stderr",
       "text": [
        "[2014-01-17 12:22:30] INFO: Creating Sim object 'excite_system' (rank=0/1).\n"
       ]
      },
      {
       "output_type": "stream",
       "stream": "stderr",
       "text": [
        "[2014-01-17 12:22:30] INFO: <Mesh of topological dimension 3 (tetrahedra) with 300 vertices and 774 cells, ordered>\n"
       ]
      },
      {
       "output_type": "stream",
       "stream": "stderr",
       "text": [
        "[2014-01-17 12:22:30] INFO: Create integrator sundials with kwargs={}\n"
       ]
      },
      {
       "output_type": "stream",
       "stream": "stderr",
       "text": [
        "[2014-01-17 12:22:30] INFO: Simulation will run until t = 3e-09 s.\n"
       ]
      },
      {
       "output_type": "stream",
       "stream": "stderr",
       "text": [
        "[2014-01-17 12:34:35] INFO: Simulation has reached time t = 3e-09 s.\n"
       ]
      }
     ],
     "prompt_number": 4
    },
    {
     "cell_type": "markdown",
     "metadata": {},
     "source": [
      "The data is analysed using fft, which is implemented in the following function,"
     ]
    },
    {
     "cell_type": "code",
     "collapsed": false,
     "input": [
      "import matplotlib.pyplot as plt\n",
      "\n",
      "def deal_plot():\n",
      "    data = Tablereader('excite_system.ndt')\n",
      "    ts = data['time']\n",
      "    N = len(ts)\n",
      "    dt = ts[-1]/(N-1)\n",
      "    print 'dt=',dt\n",
      "    freq = fft.fftshift(fft.fftfreq(N, dt))\n",
      "\n",
      "    freq[:] *= 1e-9\n",
      "\n",
      "    \n",
      "    H = 300 * np.exp(-7.675e9*ts)\n",
      "    M = data['m_y']*Ms\n",
      "    \n",
      "    fH = fft.fftshift(fft.fft(H))\n",
      "    fM = fft.fftshift(fft.fft(M))\n",
      "    \n",
      "    a = fH.real\n",
      "    b = fH.imag\n",
      "    c = fM.real\n",
      "    d = fM.imag\n",
      "    \n",
      "    rx = (a*c+b*d)/(a*a+b*b)\n",
      "    ix = (b*c-a*d)/(a*a+b*b)\n",
      "    \n",
      "    plt.plot(freq, ix, '.-')\n",
      "    #plt.legend()\n",
      "    plt.xlim([0, 10])\n",
      "    plt.ylim([-5, 30])\n",
      "    plt.xlabel('Frequency (GHz)')\n",
      "    plt.ylabel('Susceptibility')\n",
      "    \n",
      "deal_plot()"
     ],
     "language": "python",
     "metadata": {},
     "outputs": [
      {
       "output_type": "stream",
       "stream": "stdout",
       "text": [
        "dt= 1e-12\n"
       ]
      },
      {
       "output_type": "stream",
       "stream": "stderr",
       "text": [
        "/usr/local/lib/python2.7/dist-packages/matplotlib/figure.py:1595: UserWarning: This figure includes Axes that are not compatible with tight_layout, so its results might be incorrect.\n",
        "  warnings.warn(\"This figure includes Axes that are not \"\n"
       ]
      },
      {
       "metadata": {},
       "output_type": "display_data",
       "png": "[encoded data removed]",
       "text": [
        "<matplotlib.figure.Figure at 0x4c4b510>"
       ]
      }
     ],
     "prompt_number": 5
    },
    {
     "cell_type": "markdown",
     "metadata": {},
     "source": [
      "It turns out that the demag is import to obtain the magnetic spectrum here."
     ]
    }
   ],
   "metadata": {}
  }
 ]
}