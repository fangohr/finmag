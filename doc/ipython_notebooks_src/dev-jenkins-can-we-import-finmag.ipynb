{
 "cells": [
  {
   "cell_type": "markdown",
   "metadata": {},
   "source": [
    "# Dev testing jenkins"
   ]
  },
  {
   "cell_type": "markdown",
   "metadata": {},
   "source": [
    "**Author**: Hans Fangohr, Max Albert, Marc-Antonio Bisotti\n",
    "\n",
    "**Date**: Dec 2013\n",
    "\n",
    "**Purpose**: Try to check whether the ipython notebook reproduction testing facility can see the finmag module, and a variable defined in one cell can be seen in another.\n",
    "\n",
    "This should work, of course."
   ]
  },
  {
   "cell_type": "code",
   "execution_count": 1,
   "metadata": {
    "collapsed": false
   },
   "outputs": [
    {
     "name": "stderr",
     "output_type": "stream",
     "text": [
      "[2014-09-12 14:48:48] INFO: Finmag logging output will be appended to file: '/home/mb4e10/.finmag/global.log'\n",
      "[2014-09-12 14:48:48] DEBUG: Building modules in 'native'...\n",
      "[2014-09-12 14:48:50] DEBUG: FinMag          5439:eaf3f1c53b27be3aceaec7eca2c513087ddddf33\n",
      "[2014-09-12 14:48:50] DEBUG: Dolfin          1.4.0                Matplotlib      1.3.1               \n",
      "[2014-09-12 14:48:50] DEBUG: Numpy           1.8.1                Scipy           0.14.0              \n",
      "[2014-09-12 14:48:50] DEBUG: IPython         2.1.0                Python          2.7.6               \n",
      "[2014-09-12 14:48:50] DEBUG: Paraview        4.0.1-1ubuntu1       Sundials        2.5.0               \n",
      "[2014-09-12 14:48:50] DEBUG: Boost-Python    <unknown>            Linux           Ubuntu 14.04.1 LTS  \n",
      "[2014-09-12 14:48:50] DEBUG: Registering debug signal handler. Press Ctrl-Z at any time to stop execution and jump into the debugger.\n"
     ]
    }
   ],
   "source": [
    "import sys\n",
    "import os\n",
    "import dolfin\n",
    "import finmag"
   ]
  },
  {
   "cell_type": "code",
   "execution_count": 2,
   "metadata": {
    "collapsed": false
   },
   "outputs": [],
   "source": [
    "a = 42"
   ]
  },
  {
   "cell_type": "code",
   "execution_count": 3,
   "metadata": {
    "collapsed": false
   },
   "outputs": [
    {
     "name": "stdout",
     "output_type": "stream",
     "text": [
      "42\n"
     ]
    }
   ],
   "source": [
    "print a"
   ]
  },
  {
   "cell_type": "code",
   "execution_count": 4,
   "metadata": {
    "collapsed": false
   },
   "outputs": [
    {
     "name": "stdout",
     "output_type": "stream",
     "text": [
      "['', '/home/mb4e10/finmag/src', '/usr/lib/python2.7', '/usr/lib/python2.7/plat-x86_64-linux-gnu', '/usr/lib/python2.7/lib-tk', '/usr/lib/python2.7/lib-old', '/usr/lib/python2.7/lib-dynload', '/usr/local/lib/python2.7/dist-packages', '/usr/lib/python2.7/dist-packages', '/usr/lib/python2.7/dist-packages/PILcompat', '/usr/lib/python2.7/dist-packages/gtk-2.0', '/usr/lib/pymodules/python2.7', '/usr/lib/python2.7/dist-packages/ubuntu-sso-client', '/usr/local/lib/python2.7/dist-packages/IPython/extensions']\n"
     ]
    }
   ],
   "source": [
    "# IPYTHON_TEST_IGNORE_OUTPUT\n",
    "print(sys.path)"
   ]
  },
  {
   "cell_type": "markdown",
   "metadata": {},
   "source": [
    "And some more checks (from MA's debugging):"
   ]
  },
  {
   "cell_type": "code",
   "execution_count": 5,
   "metadata": {
    "collapsed": false
   },
   "outputs": [
    {
     "name": "stdout",
     "output_type": "stream",
     "text": [
      "/home/mb4e10\n",
      "/home/mb4e10/finmag/src\n"
     ]
    }
   ],
   "source": [
    "# IPYTHON_TEST_IGNORE_OUTPUT\n",
    "print os.environ.get(\"HOME\")\n",
    "print os.environ.get(\"PYTHONPATH\")"
   ]
  },
  {
   "cell_type": "code",
   "execution_count": 6,
   "metadata": {
    "collapsed": false
   },
   "outputs": [
    {
     "name": "stdout",
     "output_type": "stream",
     "text": [
      "1.4.0\n"
     ]
    }
   ],
   "source": [
    "# IPYTHON_TEST_IGNORE_OUTPUT\n",
    "print dolfin.__version__"
   ]
  },
  {
   "cell_type": "code",
   "execution_count": 7,
   "metadata": {
    "collapsed": false
   },
   "outputs": [
    {
     "name": "stdout",
     "output_type": "stream",
     "text": [
      "<module 'finmag' from '/home/mb4e10/finmag/src/finmag/__init__.pyc'>\n",
      "5439:eaf3f1c53b27be3aceaec7eca2c513087ddddf33\n"
     ]
    }
   ],
   "source": [
    "# IPYTHON_TEST_IGNORE_OUTPUT\n",
    "print finmag\n",
    "print finmag.__version__"
   ]
  }
 ],
 "metadata": {
  "kernelspec": {
   "display_name": "Python 2",
   "language": "python",
   "name": "python2"
  },
  "language_info": {
   "codemirror_mode": {
    "name": "ipython",
    "version": 2
   },
   "file_extension": ".py",
   "mimetype": "text/x-python",
   "name": "python",
   "nbconvert_exporter": "python",
   "pygments_lexer": "ipython2",
   "version": "2.7.6"
  }
 },
 "nbformat": 4,
 "nbformat_minor": 0
}
