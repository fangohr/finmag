{
 "metadata": {
  "name": "",
  "signature": "sha256:5b0ddaa52c3c826236dd76fe3f3a864ff6a840f3300c325009b1a08ceb40f5a1"
 },
 "nbformat": 3,
 "nbformat_minor": 0,
 "worksheets": [
  {
   "cells": [
    {
     "cell_type": "markdown",
     "metadata": {},
     "source": [
      "# Paper Rohart and Thiaville"
     ]
    },
    {
     "cell_type": "markdown",
     "metadata": {},
     "source": [
      "from http://arxiv.org/abs/1310.0666\n",
      "\n",
      "We try to reproduce their results, understand the importance of the DMI boundary conditions (equation 20), and to implement some of it."
     ]
    },
    {
     "cell_type": "code",
     "collapsed": false,
     "input": [
      "# needs ipython >= 1.0.0\n",
      "%matplotlib inline   \n",
      "import finmag\n",
      "import dolfin as df\n",
      "from finmag.util.meshes import nodal_volume\n",
      "finmag.logger.setLevel(finmag.logging.INFO)\n"
     ],
     "language": "python",
     "metadata": {},
     "outputs": [
      {
       "output_type": "stream",
       "stream": "stderr",
       "text": [
        "[2014-06-06 14:22:11] INFO: Finmag logging output will be appended to file: '/home/fangohr/.finmag/global.log'\n"
       ]
      },
      {
       "output_type": "stream",
       "stream": "stderr",
       "text": [
        "[2014-06-06 14:22:11] DEBUG: Building modules in 'native'...\n"
       ]
      },
      {
       "output_type": "stream",
       "stream": "stderr",
       "text": [
        "[2014-06-06 14:22:13] DEBUG: FinMag          4746:3d8b5d6c4e0043ca9ba24a836e5ca33a8c87da00\n"
       ]
      },
      {
       "output_type": "stream",
       "stream": "stderr",
       "text": [
        "[2014-06-06 14:22:13] DEBUG: Dolfin          1.3.0                Matplotlib      1.3.1               \n"
       ]
      },
      {
       "output_type": "stream",
       "stream": "stderr",
       "text": [
        "[2014-06-06 14:22:13] DEBUG: Numpy           1.8.1                Scipy           0.13.3              \n"
       ]
      },
      {
       "output_type": "stream",
       "stream": "stderr",
       "text": [
        "[2014-06-06 14:22:13] DEBUG: IPython         2.0.0                Python          2.7.6               \n"
       ]
      },
      {
       "output_type": "stream",
       "stream": "stderr",
       "text": [
        "[2014-06-06 14:22:13] DEBUG: Paraview        4.0.1-1ubuntu1       Sundials        2.5.0               \n"
       ]
      },
      {
       "output_type": "stream",
       "stream": "stderr",
       "text": [
        "[2014-06-06 14:22:13] DEBUG: Boost-Python    <unknown>            Linux           Ubuntu 14.04 LTS    \n"
       ]
      },
      {
       "output_type": "stream",
       "stream": "stderr",
       "text": [
        "[2014-06-06 14:22:13] DEBUG: Registering debug signal handler. Press Ctrl-Z at any time to stop execution and jump into the debugger.\n"
       ]
      }
     ],
     "prompt_number": 1
    },
    {
     "cell_type": "code",
     "collapsed": false,
     "input": [
      "a = -50  # in nm\n",
      "b = 50   # in nm\n",
      "nx = 2 * 50 \n",
      "mesh = df.IntervalMesh(nx, a, b)\n"
     ],
     "language": "python",
     "metadata": {},
     "outputs": [],
     "prompt_number": 2
    },
    {
     "cell_type": "code",
     "collapsed": false,
     "input": [
      "def compute_gradient_x(sim):\n",
      "    tau = df.TrialFunction(sim.S3)\n",
      "    sigma = df.TestFunction(sim.S3)\n",
      "    \n",
      "    vol = nodal_volume(sim.S3)\n",
      "    \n",
      "    gradM = df.assemble(df.dot(df.grad(tau)[:,0],sigma)*df.dx).array()\n",
      "    \n",
      "    return np.dot(gradM, sim.llg._m.vector().array())/vol\n",
      "    \n",
      "\n",
      "\n",
      "def plot_m(sim, u=None):\n",
      "    \"\"\"Given a 1d simulation object, plot mx, my, mz along x.\n",
      "    \n",
      "    u is the solution for theta from equation (4)\"\"\"\n",
      "    errmsg = \"works only for 1d meshes, but mesh from simulation '{}' has {}d domain\".format(\n",
      "              sim.name, sim.mesh.geometry().dim())\n",
      "    assert sim.mesh.geometry().dim() == 1, errmsg\n",
      "\n",
      "    from matplotlib import pyplot\n",
      "    fig = pyplot.figure(figsize=(10,6))\n",
      "    ax = fig.add_subplot(111)\n",
      "    \n",
      "    xs = sim.mesh.coordinates()\n",
      "    m = finmag.util.helpers.vectors(sim.llg._m.vector().array())\n",
      "    \n",
      "    gradm = compute_gradient_x(sim)\n",
      "    gradm.shape=(3,-1)\n",
      "    \n",
      "    \n",
      "    tau = df.TrialFunction(sim.S3)\n",
      "    \n",
      "    ax.plot(xs, m[:, 0], '.g', label='$m_x$')\n",
      "    ax.plot(xs, m[:, 1], '-r', label='$m_y$')\n",
      "    ax.plot(xs, m[:, 2], 's-b', label='$m_z$')\n",
      "    ax.plot(xs,gradm[0], '--', label='grad_mx')\n",
      "    ax.legend()\n",
      "    ax.set_xlabel('x [m]')\n",
      "    \n",
      "    if u is not None:\n",
      "        #mu = u.vector().array()   # <- works only for CG1 function space\n",
      "        mu = map(u, xs)\n",
      "        my = np.sin(mu)    # get m_y from theta\n",
      "        # ax.plot(xs, mu, label='analytical theta')\n",
      "        ax.plot(xs, my, label='analytical m_x')\n",
      "        ax.legend(loc='upper center')\n",
      "    \n",
      "    #df.plot(sim.llg._m)\n",
      "    return m"
     ],
     "language": "python",
     "metadata": {},
     "outputs": [],
     "prompt_number": 3
    },
    {
     "cell_type": "code",
     "collapsed": false,
     "input": [
      "import numpy as np\n",
      "from finmag import Simulation\n",
      "from finmag.energies import Exchange, DMI, Demag, Zeeman, UniaxialAnisotropy\n",
      "import matplotlib.pyplot as plt\n",
      "finmag.set_logging_level('INFO')\n"
     ],
     "language": "python",
     "metadata": {},
     "outputs": [],
     "prompt_number": 4
    },
    {
     "cell_type": "code",
     "collapsed": false,
     "input": [
      "def analytical(mesh, A=16e-12,D=3.6e-3,K=510e3):\n",
      "    \"\"\"solving the equation (4) in the paper using CG method.\"\"\"\n",
      "    Delta = np.sqrt(A/K)\n",
      "    xi = 2*A/D\n",
      "    \n",
      "    Delta_s = Delta*1e9\n",
      "    \n",
      "    V = df.FunctionSpace(mesh, \"Lagrange\", 1)\n",
      "    u  = df.TrialFunction(V)\n",
      "    v  = df.TestFunction(V)\n",
      "    u_ = df.Function(V)      \n",
      "    F  = -df.inner(df.nabla_grad(u), df.nabla_grad(v))*df.dx-(0.5/Delta_s**2)*df.sin(2*u)*v*df.dx\n",
      "    F  = df.action(F, u_)\n",
      "\n",
      "    J  = df.derivative(F, u_, u)   \n",
      "    \n",
      "    #the boundary condition is from equation (8)\n",
      "    theta0 = np.arcsin(Delta/xi)\n",
      "    ss = 'x[0]<0? %g: %g '%(-theta0,theta0)\n",
      "    \n",
      "    u0 = df.Expression(ss)\n",
      "    def u0_boundary(x, on_boundary):\n",
      "        return on_boundary\n",
      "\n",
      "    bc = df.DirichletBC(V, u0, u0_boundary)\n",
      "    \n",
      "    \n",
      "    problem = df.NonlinearVariationalProblem(F, u_,bcs=bc,J=J)\n",
      "    solver  = df.NonlinearVariationalSolver(problem)\n",
      "    solver.solve()\n",
      "\n",
      "    #df.plot(u_)\n",
      "    return u_\n"
     ],
     "language": "python",
     "metadata": {},
     "outputs": [],
     "prompt_number": 5
    },
    {
     "cell_type": "code",
     "collapsed": false,
     "input": [
      "def setup_simulation(\n",
      "    A = 16e-12,  # J/m, i.e. 16 pJ/m as in Rohart et al just before III 1D Case starts\n",
      "    D = 3.6e-3,  # J/m^2, i.e. 3.6mJ/m^2 as in papert, same place\n",
      "    K = 510e3,   # J/m^3, 510kJ/m^3 as in paper \n",
      "    Ms = 1.1e6):   # A/m, value quoted at the end of III 3a for the demag calculations\n",
      "\n",
      "    sim = Simulation(Ms=Ms, mesh=mesh, name='dmi-1d', unit_length=1e-9)\n",
      "    \n",
      "    sim.set_m([0, 0, 1])\n",
      "    sim.add(Exchange(A))\n",
      "    sim.add(DMI(D, dmi_type=\"interfacial\"))\n",
      "    #sim.add(Zeeman((0,0,0)))\n",
      "    sim.add(UniaxialAnisotropy(K, (0, 0, 1)))\n",
      "    return sim"
     ],
     "language": "python",
     "metadata": {},
     "outputs": [],
     "prompt_number": 9
    },
    {
     "cell_type": "code",
     "collapsed": false,
     "input": [
      "def run_scenario(D):\n",
      "    sim = setup_simulation(D=D)\n",
      "    sim.relax()\n",
      "    m = plot_m(sim, analytical(mesh))\n",
      "    return sim"
     ],
     "language": "python",
     "metadata": {},
     "outputs": [],
     "prompt_number": 10
    },
    {
     "cell_type": "code",
     "collapsed": false,
     "input": [
      "sim = run_scenario(D=3.6e-3)"
     ],
     "language": "python",
     "metadata": {},
     "outputs": [
      {
       "output_type": "stream",
       "stream": "stderr",
       "text": [
        "[2014-06-06 14:26:53] INFO: Finmag logging output will be written to file: '/home/fangohr/hg/finmag/doc/ipython_notebooks_src/dmi_1d.log' (any old content will be overwritten).\n"
       ]
      },
      {
       "output_type": "stream",
       "stream": "stderr",
       "text": [
        "[2014-06-06 14:26:53] INFO: Creating Sim object 'dmi-1d' (rank=0/1).\n"
       ]
      },
      {
       "output_type": "stream",
       "stream": "stderr",
       "text": [
        "[2014-06-06 14:26:53] INFO: <Mesh of topological dimension 1 (intervals) with 101 vertices and 100 cells, ordered>\n"
       ]
      },
      {
       "output_type": "stream",
       "stream": "stderr",
       "text": [
        "[2014-06-06 14:27:01] INFO: Create integrator sundials with kwargs={}\n"
       ]
      },
      {
       "output_type": "stream",
       "stream": "stderr",
       "text": [
        "[2014-06-06 14:27:01] INFO: Simulation will run until relaxation of the magnetisation.\n"
       ]
      },
      {
       "output_type": "stream",
       "stream": "stderr",
       "text": [
        "[2014-06-06 14:27:09] INFO: Relaxation finished at time t = 1e-10.\n"
       ]
      },
      {
       "output_type": "stream",
       "stream": "stderr",
       "text": [
        "/usr/lib/pymodules/python2.7/matplotlib/figure.py:1595: UserWarning: This figure includes Axes that are not compatible with tight_layout, so its results might be incorrect.\n",
        "  warnings.warn(\"This figure includes Axes that are not \"\n"
       ]
      },
      {
       "metadata": {},
       "output_type": "display_data",
       "png": "[encoded data removed]",
       "text": [
        "<matplotlib.figure.Figure at 0x7f242f892b50>"
       ]
      }
     ],
     "prompt_number": 11
    },
    {
     "cell_type": "markdown",
     "metadata": {},
     "source": [
      "# Conclusions\n",
      "\n",
      "We can nicely reproduce the analytical result from Rohart and Thiaville."
     ]
    },
    {
     "cell_type": "markdown",
     "metadata": {},
     "source": [
      "  "
     ]
    },
    {
     "cell_type": "markdown",
     "metadata": {},
     "source": [
      "## Boundary conditions"
     ]
    },
    {
     "cell_type": "markdown",
     "metadata": {},
     "source": [
      "The agreement above, confirms Weiwei's and Hans' current understandingthat the boundary conditions (6) and (20) in the paper are only required for finding the analytical solution."
     ]
    },
    {
     "cell_type": "markdown",
     "metadata": {},
     "source": [
      "## On the different DMI terms.\n",
      "\n",
      "Hans starts: In finmag, our bulk (!) energy density for the DMI term is given by $D \\vec{M} \\cdot (\\nabla \\times \\vec{M})$.\n",
      "\n",
      "When going to a 2d system (extending in x and y), we use the assumption that $\\frac{\\partial M_{\\alpha}}{\\partial z} = 0$ for $\\alpha = x, y, z$. \n",
      "\n",
      "This gives:\n",
      "$$ D \\vec{M} \\cdot (\\nabla \\times \\vec{M})$$\n",
      "$$= D (M_x, M_y, M_z) \\cdot (\\frac{\\partial M_z}{\\partial y} - \\frac{\\partial M_y}{\\partial z}, \\frac{\\partial M_x}{\\partial z} - \\frac{\\partial M_z}{\\partial x}, \\frac{\\partial M_y}{\\partial x} - \\frac{\\partial M_x}{\\partial y})$$\n",
      "$$= D (M_x, M_y, M_z) \\cdot (\\frac{\\partial M_z}{\\partial y}, - \\frac{\\partial M_z}{\\partial x}, \\frac{\\partial M_y}{\\partial x} - \\frac{\\partial M_x}{\\partial y})$$\n",
      "$$= D(M_x\\frac{\\partial M_z}{\\partial y} - M_y\\frac{\\partial M_z}{\\partial x} + M_z\\frac{\\partial M_y}{\\partial x} - M_z\\frac{\\partial M_x}{\\partial y})\n",
      "$$ which is the same expression as in Eq. 19 in the paper, but the sign of D is different, which is equivalent to changing x and y components.\n",
      "\n",
      "Marijan explains:\n",
      "\n",
      "The x and y components interchanged? There are two types of DMI systems. One is when the material has noncentrosymmetric lattice (MnSi, FeGe, FeCoSi, ...) and the DMI term is $D \\vec{M} \\cdot (\\nabla \\times \\vec{M})$ - the one we use in finmag. On the other hand, if an ultra-thin layer of one material (e.g. Fe) is deposited on heavy atom material (e.g. Ir), due to the interface between these two materials, inversion symmetry is broken and DMI emerges. In this case, the DMI looks like equation (2) in Thiaville paper. Both terms are topologically equivalent (Lifschitz invariants), but the magnetisation looks different. In case 1 (our case): the helix structure looks like a Bloch wall, i.e., the magnetisation is in the plane perpendicular to propagation direction. In case two (Thiaville case), the magnetisation changes in Neel wall configuration. The same story is with skyrmions. In our case, the magnetisation form a Bloch wall between the skyrmion core and its periphery, but in Thiaville case it forms Neel wall. For an example of this type of skyrmion look at http://www.nature.com/nnano/journal/v8/n11/full/nnano.2013.210.html\n",
      "Like in the case of domain walls, everything is the same, just the x and y components are swapped.\n",
      "\n",
      "Addition Jan 2014: we have now added interfacial dmi to finmag, and that is the term we need to use to compare with the Rohart paper. All is well then.\n"
     ]
    },
    {
     "cell_type": "code",
     "collapsed": false,
     "input": [],
     "language": "python",
     "metadata": {},
     "outputs": []
    }
   ],
   "metadata": {}
  }
 ]
}