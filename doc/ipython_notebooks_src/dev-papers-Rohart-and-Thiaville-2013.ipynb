{
 "metadata": {
  "name": ""
 },
 "nbformat": 3,
 "nbformat_minor": 0,
 "worksheets": [
  {
   "cells": [
    {
     "cell_type": "markdown",
     "metadata": {},
     "source": [
      "# Paper Rohart and Thiaville"
     ]
    },
    {
     "cell_type": "markdown",
     "metadata": {},
     "source": [
      "from http://arxiv.org/abs/1310.0666\n",
      "\n",
      "We try to reproduce their results, understand the importance of the DMI boundary conditions (equation 20), and to implement some of it."
     ]
    },
    {
     "cell_type": "code",
     "collapsed": false,
     "input": [
      "# needs ipython >= 1.0.0\n",
      "%matplotlib inline   \n",
      "import finmag\n",
      "import dolfin as df\n",
      "from finmag.util.meshes import nodal_volume\n",
      "finmag.logger.setLevel(finmag.logging.INFO)\n"
     ],
     "language": "python",
     "metadata": {},
     "outputs": [],
     "prompt_number": 68
    },
    {
     "cell_type": "code",
     "collapsed": false,
     "input": [
      "a = -50  # in nm\n",
      "b = 50   # in nm\n",
      "nx = 2 * 50 \n",
      "mesh = df.IntervalMesh(nx, a, b)\n"
     ],
     "language": "python",
     "metadata": {},
     "outputs": [],
     "prompt_number": 69
    },
    {
     "cell_type": "code",
     "collapsed": false,
     "input": [
      "def compute_gradient_x(sim):\n",
      "    tau = df.TrialFunction(sim.S3)\n",
      "    sigma = df.TestFunction(sim.S3)\n",
      "    \n",
      "    vol = nodal_volume(sim.S3)\n",
      "    \n",
      "    gradM = df.assemble(df.dot(df.grad(tau)[:,0],sigma)*df.dx).array()\n",
      "    \n",
      "    return np.dot(gradM, sim.llg._m.vector().array())/vol\n",
      "    \n",
      "\n",
      "\n",
      "def plot_m(sim, u=None):\n",
      "    \"\"\"Given a 1d simulation object, plot mx, my, mz along x.\n",
      "    \n",
      "    u is the solution for theta from equation (4)\"\"\"\n",
      "    errmsg = \"works only for 1d meshes, but mesh from simulation '{}' has {}d domain\".format(\n",
      "              sim.name, sim.mesh.geometry().dim())\n",
      "    assert sim.mesh.geometry().dim() == 1, errmsg\n",
      "\n",
      "    from matplotlib import pyplot\n",
      "    fig = pyplot.figure(figsize=(10,6))\n",
      "    ax = fig.add_subplot(111)\n",
      "    \n",
      "    xs = sim.mesh.coordinates()\n",
      "    m = finmag.util.helpers.vectors(sim.llg._m.vector().array())\n",
      "    \n",
      "    gradm = compute_gradient_x(sim)\n",
      "    gradm.shape=(3,-1)\n",
      "    \n",
      "    \n",
      "    tau = df.TrialFunction(sim.S3)\n",
      "    \n",
      "    ax.plot(xs, m[:, 0], '.g', label='$m_x$')\n",
      "    ax.plot(xs, m[:, 1], '-r', label='$m_y$')\n",
      "    ax.plot(xs, m[:, 2], 's-b', label='$m_z$')\n",
      "    ax.plot(xs,gradm[0], '--', label='grad_mx')\n",
      "    ax.legend()\n",
      "    ax.set_xlabel('x [m]')\n",
      "    \n",
      "    if u is not None:\n",
      "        #mu = u.vector().array()   # <- works only for CG1 function space\n",
      "        mu = map(u, xs)\n",
      "        my = np.sin(mu)    # get m_y from theta\n",
      "        # ax.plot(xs, mu, label='analytical theta')\n",
      "        ax.plot(xs, my, label='analytical m_x')\n",
      "        ax.legend(loc='upper center')\n",
      "    \n",
      "    #df.plot(sim.llg._m)\n",
      "    return m"
     ],
     "language": "python",
     "metadata": {},
     "outputs": [],
     "prompt_number": 71
    },
    {
     "cell_type": "code",
     "collapsed": false,
     "input": [
      "import numpy as np\n",
      "from finmag import Simulation\n",
      "from finmag.energies import Exchange, DMI, Demag, Zeeman, UniaxialAnisotropy\n",
      "import matplotlib.pyplot as plt\n",
      "finmag.set_logging_level('INFO')\n"
     ],
     "language": "python",
     "metadata": {},
     "outputs": [],
     "prompt_number": 72
    },
    {
     "cell_type": "code",
     "collapsed": false,
     "input": [
      "def analytical(mesh, A=16e-12,D=3.6e-3,K=510e3):\n",
      "    \"\"\"solving the equation (4) in the paper using CG method.\"\"\"\n",
      "    Delta = np.sqrt(A/K)\n",
      "    xi = 2*A/D\n",
      "    \n",
      "    Delta_s = Delta*1e9\n",
      "    \n",
      "    V = df.FunctionSpace(mesh, \"Lagrange\", 1)\n",
      "    u  = df.TrialFunction(V)\n",
      "    v  = df.TestFunction(V)\n",
      "    u_ = df.Function(V)      \n",
      "    F  = -df.inner(df.nabla_grad(u), df.nabla_grad(v))*df.dx-(0.5/Delta_s**2)*df.sin(2*u)*v*df.dx\n",
      "    F  = df.action(F, u_)\n",
      "\n",
      "    J  = df.derivative(F, u_, u)   \n",
      "    \n",
      "    #the boundary condition is from equation (8)\n",
      "    theta0 = np.arcsin(Delta/xi)\n",
      "    ss = 'x[0]<0? %g: %g '%(-theta0,theta0)\n",
      "    \n",
      "    u0 = df.Expression(ss)\n",
      "    def u0_boundary(x, on_boundary):\n",
      "        return on_boundary\n",
      "\n",
      "    bc = df.DirichletBC(V, u0, u0_boundary)\n",
      "    \n",
      "    \n",
      "    problem = df.NonlinearVariationalProblem(F, u_,bcs=bc,J=J)\n",
      "    solver  = df.NonlinearVariationalSolver(problem)\n",
      "    solver.solve()\n",
      "\n",
      "    #df.plot(u_)\n",
      "    return u_\n"
     ],
     "language": "python",
     "metadata": {},
     "outputs": [],
     "prompt_number": 73
    },
    {
     "cell_type": "code",
     "collapsed": false,
     "input": [
      "def setup_simulation(\n",
      "    A = 16e-12,  # J/m, i.e. 16 pJ/m as in Rohart et al just before III 1D Case starts\n",
      "    D = 3.6e-3,  # J/m^2, i.e. 3.6mJ/m^2 as in papert, same place\n",
      "    K = 510e3,   # J/m^3, 510kJ/m^3 as in paper \n",
      "    Ms = 1.1e6):   # A/m, value quoted at the end of III 3a for the demag calculations\n",
      "\n",
      "    sim = Simulation(Ms=Ms, mesh=mesh, name='dmi-1d', unit_length=1e-9)\n",
      "    \n",
      "    sim.set_m([0, 0, 1])\n",
      "    sim.add(Exchange(A))\n",
      "    sim.add(DMI(D, interfacial=True))\n",
      "    #sim.add(Zeeman((0,0,0)))\n",
      "    sim.add(UniaxialAnisotropy(K, (0, 0, 1)))\n",
      "    return sim"
     ],
     "language": "python",
     "metadata": {},
     "outputs": [],
     "prompt_number": 74
    },
    {
     "cell_type": "code",
     "collapsed": false,
     "input": [
      "def run_scenario(D):\n",
      "    sim = setup_simulation(D=D)\n",
      "    sim.relax()\n",
      "    m = plot_m(sim, analytical(mesh))\n",
      "    "
     ],
     "language": "python",
     "metadata": {},
     "outputs": [],
     "prompt_number": 75
    },
    {
     "cell_type": "code",
     "collapsed": false,
     "input": [
      "run_scenario(D=3.6e-3)"
     ],
     "language": "python",
     "metadata": {},
     "outputs": [
      {
       "output_type": "stream",
       "stream": "stderr",
       "text": [
        "[2014-01-07 21:11:55] INFO: Finmag logging output will be written to file: '/home/ww1g11/Softwares/finmag/doc/ipython_notebooks_src/dmi_1d.log' (any old content will be overwritten).\n"
       ]
      },
      {
       "output_type": "stream",
       "stream": "stderr",
       "text": [
        "[2014-01-07 21:11:55] INFO: Creating Sim object 'dmi-1d' (rank=0/1).\n"
       ]
      },
      {
       "output_type": "stream",
       "stream": "stderr",
       "text": [
        "[2014-01-07 21:11:55] INFO: <Mesh of topological dimension 1 (intervals) with 101 vertices and 100 cells, ordered>\n"
       ]
      },
      {
       "output_type": "stream",
       "stream": "stderr",
       "text": [
        "[2014-01-07 21:11:55] INFO: Create integrator sundials with kwargs={}\n"
       ]
      },
      {
       "output_type": "stream",
       "stream": "stderr",
       "text": [
        "[2014-01-07 21:11:55] INFO: Simulation will run until relaxation of the magnetisation.\n"
       ]
      },
      {
       "output_type": "stream",
       "stream": "stderr",
       "text": [
        "[2014-01-07 21:11:56] INFO: Relaxation finished at time t = 1.5e-10.\n"
       ]
      },
      {
       "metadata": {},
       "output_type": "display_data",
       "png": "[encoded data removed]",
       "text": [
        "<matplotlib.figure.Figure at 0x5315b90>"
       ]
      }
     ],
     "prompt_number": 76
    },
    {
     "cell_type": "markdown",
     "metadata": {},
     "source": [
      "Observations:\n",
      "\n",
      "We need to compare with figure 1 in the paper.\n",
      "\n",
      "1. $m_x$ and $m_y$ seem to be swapped\n",
      "\n",
      "2. Our $m_y$ is left high and rigth low. Let's change the sign of $D$:"
     ]
    },
    {
     "cell_type": "code",
     "collapsed": false,
     "input": [
      "run_scenario(D=-3.6e-3)"
     ],
     "language": "python",
     "metadata": {},
     "outputs": [
      {
       "output_type": "stream",
       "stream": "stderr",
       "text": [
        "[2014-01-07 21:12:14] INFO: Finmag logging output will be written to file: '/home/ww1g11/Softwares/finmag/doc/ipython_notebooks_src/dmi_1d.log' (any old content will be overwritten).\n"
       ]
      },
      {
       "output_type": "stream",
       "stream": "stderr",
       "text": [
        "[2014-01-07 21:12:14] INFO: Creating Sim object 'dmi-1d' (rank=0/1).\n"
       ]
      },
      {
       "output_type": "stream",
       "stream": "stderr",
       "text": [
        "[2014-01-07 21:12:14] INFO: <Mesh of topological dimension 1 (intervals) with 101 vertices and 100 cells, ordered>\n"
       ]
      },
      {
       "output_type": "stream",
       "stream": "stderr",
       "text": [
        "[2014-01-07 21:12:14] INFO: Create integrator sundials with kwargs={}\n"
       ]
      },
      {
       "output_type": "stream",
       "stream": "stderr",
       "text": [
        "[2014-01-07 21:12:14] INFO: Simulation will run until relaxation of the magnetisation.\n"
       ]
      },
      {
       "output_type": "stream",
       "stream": "stderr",
       "text": [
        "[2014-01-07 21:12:15] INFO: Relaxation finished at time t = 1.5e-10.\n"
       ]
      },
      {
       "metadata": {},
       "output_type": "display_data",
       "png": "[encoded data removed]",
       "text": [
        "<matplotlib.figure.Figure at 0x50c1710>"
       ]
      }
     ],
     "prompt_number": 77
    },
    {
     "cell_type": "markdown",
     "metadata": {},
     "source": [
      "Now we have the same shape. So somewhere (somebody?) must have a sign wrong. (Could potentially also be the wrong sign in the anisotropy.) \n",
      "\n",
      "However, the agreement between analytical data ($m_y$) and simuation data is very good."
     ]
    },
    {
     "cell_type": "markdown",
     "metadata": {},
     "source": [
      "# Conclusions so far"
     ]
    },
    {
     "cell_type": "markdown",
     "metadata": {},
     "source": [
      "* Must check that we have the right sign in D code\n",
      "\n",
      "* Should find out why m_x and m_y are swapped relative to Rohart. They could have made a mistake,  \n",
      "  but we need to understand it. Reading the paper is likely to help, and in particular following\n",
      "  the analytical considerations will be useful\n",
      "  \n",
      "* While we have some symmetries wrong (could be just a -1 in some place), the overall shape looks  \n",
      "  remarkable similar despite not having implemented the boundary conditions as suggested in the\n",
      "  paper (equation 6 in 1d and equation (20) in general. \n",
      "  "
     ]
    },
    {
     "cell_type": "markdown",
     "metadata": {},
     "source": [
      "## Boundary conditions"
     ]
    },
    {
     "cell_type": "markdown",
     "metadata": {},
     "source": [
      "Weiwei and Hans' current understanding is that the boundary conditions (6) and (20) in the paper are only required for for finding the analytical solution."
     ]
    },
    {
     "cell_type": "markdown",
     "metadata": {},
     "source": [
      "## Open questions: the sign of D and confusion of $m_x$ and $m_y$\n",
      "\n",
      "In finmag, our energy density for the DMI term is given by $D \\vec{M} \\cdot (\\nabla \\times \\vec{M})$.\n",
      "\n",
      "When going to a 2d system (extending in x and y), we use the assumption that $\\frac{\\partial M_{\\alpha}}{\\partial z} = 0$ for $\\alpha = x, y, z$. \n",
      "\n",
      "This gives:\n",
      "$$ D \\vec{M} \\cdot (\\nabla \\times \\vec{M})$$\n",
      "$$= D (M_x, M_y, M_z) \\cdot (\\frac{\\partial M_z}{\\partial y} - \\frac{\\partial M_y}{\\partial z}, \\frac{\\partial M_x}{\\partial z} - \\frac{\\partial M_z}{\\partial x}, \\frac{\\partial M_y}{\\partial x} - \\frac{\\partial M_x}{\\partial y})$$\n",
      "$$= D (M_x, M_y, M_z) \\cdot (\\frac{\\partial M_z}{\\partial y}, - \\frac{\\partial M_z}{\\partial x}, \\frac{\\partial M_y}{\\partial x} - \\frac{\\partial M_x}{\\partial y})$$\n",
      "$$= D(M_x\\frac{\\partial M_z}{\\partial y} - M_y\\frac{\\partial M_z}{\\partial x} + M_z\\frac{\\partial M_y}{\\partial x} - M_z\\frac{\\partial M_x}{\\partial y})\n",
      "$$ which is the same expression as in Eq. 19 in the paper, but the sign of D is different. The different sign of D can be ONLY a consequence of different energy expression, i.e., they are using $-D\\vec{M}\\cdot(\\nabla \\times \\vec{M})$. I cannot check the references they use for this expression since we do not have an access to these papers. However, we have plenty of references (e.g. Karin Everschor thesis) that DMI is computed like we do (with no minus sign).\n",
      "\n",
      "The x and y components interchanged? There are two types of DMI systems. One is when the material has noncentrosymmetric lattice (MnSi, FeGe, FeCoSi, ...) and the DMI term is $D \\vec{M} \\cdot (\\nabla \\times \\vec{M})$ - the one we use in finmag. On the other hand, if an ultra-thin layer of one material (e.g. Fe) is deposited on heavy atom material (e.g. Ir), due to the interface between these two materials, inversion symmetry is broken and DMI emerges. In this case, the DMI looks like equation (2) in Thiaville paper. Both terms are topologically equivalent (Lifschitz invariants), but the magnetisation looks different. In case 1 (our case): the helix structure looks like a Bloch wall, i.e., the magnetisation is in the plane perpendicular to propagation direction. In case two (Thiaville case), the magnetisation changes in Neel wall configuration. The same story is with skyrmions. In our case, the magnetisation form a Bloch wall between the skyrmion core and its periphery, but in Thiaville case it forms Neel wall. For an example of this type of skyrmion look at http://www.nature.com/nnano/journal/v8/n11/full/nnano.2013.210.html\n",
      "Like in the case of domain walls, everything is the same, just the x and y components are swapped."
     ]
    },
    {
     "cell_type": "markdown",
     "metadata": {},
     "source": [
      "* What is the confusion about m_x and m_y?"
     ]
    },
    {
     "cell_type": "markdown",
     "metadata": {},
     "source": [
      "## Ultrathin films"
     ]
    },
    {
     "cell_type": "markdown",
     "metadata": {},
     "source": [
      "Okay, I have just implemented a prototype for the ultrathin DMI interaction. Let's try this:"
     ]
    },
    {
     "cell_type": "code",
     "collapsed": false,
     "input": [
      "import finmag.energies.dmi\n",
      "def setup_simulation(\n",
      "    A = 16e-12,  # J/m, i.e. 16 pJ/m as in Rohart et al just before III 1D Case starts\n",
      "    D = 3.6e-3,  # J/m^2, i.e. 3.6mJ/m^2 as in papert, same place\n",
      "    K = 510e3,   # J/m^3, 510kJ/m^3 as in paper \n",
      "    Ms = 1.1e6):   # A/m, value quoted at the end of III 3a for the demag calculations\n",
      "\n",
      "    sim = Simulation(Ms=Ms, mesh=mesh, name='dmi-1d', unit_length=1e-9)\n",
      "    \n",
      "    sim.set_m([0, 0, 1])\n",
      "    sim.add(Exchange(A))\n",
      "    sim.add(DMI(D))\n",
      "    #sim.add(Zeeman((0,0,0)))\n",
      "    sim.add(UniaxialAnisotropy(K, (0, 0, 1)))\n",
      "    return sim"
     ],
     "language": "python",
     "metadata": {},
     "outputs": [],
     "prompt_number": 78
    },
    {
     "cell_type": "code",
     "collapsed": false,
     "input": [],
     "language": "python",
     "metadata": {},
     "outputs": []
    }
   ],
   "metadata": {}
  }
 ]
}