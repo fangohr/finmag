{
 "metadata": {
  "name": ""
 },
 "nbformat": 3,
 "nbformat_minor": 0,
 "worksheets": [
  {
   "cells": [
    {
     "cell_type": "markdown",
     "metadata": {},
     "source": [
      "# Paper Rohart and Thiaville"
     ]
    },
    {
     "cell_type": "markdown",
     "metadata": {},
     "source": [
      "from http://arxiv.org/abs/1310.0666\n",
      "\n",
      "We try to reproduce their results, understand the importance of the DMI boundary conditions (equation 20), and to implement some of it."
     ]
    },
    {
     "cell_type": "code",
     "collapsed": false,
     "input": [
      "# needs ipython >= 1.0.0\n",
      "%matplotlib inline   \n",
      "import finmag\n",
      "import dolfin as df\n",
      "finmag.logger.setLevel(finmag.logging.INFO)\n"
     ],
     "language": "python",
     "metadata": {},
     "outputs": [],
     "prompt_number": 27
    },
    {
     "cell_type": "code",
     "collapsed": false,
     "input": [
      "a = -50  # in nm\n",
      "b = 50   # in nm\n",
      "nx = 2 * 50 \n",
      "mesh = df.IntervalMesh(nx, a, b)\n"
     ],
     "language": "python",
     "metadata": {},
     "outputs": [],
     "prompt_number": 28
    },
    {
     "cell_type": "code",
     "collapsed": false,
     "input": [
      "def plot_m(sim, u=None):\n",
      "    \"\"\"Given a 1d simulation object, plot mx, my, mz along x.\"\"\"\n",
      "    errmsg = \"works only for 1d meshes, but mesh from simulation '{}' has {}d domain\".format(\n",
      "              sim.name, sim.mesh.geometry().dim())\n",
      "    assert sim.mesh.geometry().dim() == 1, errmsg\n",
      "\n",
      "    from matplotlib import pyplot\n",
      "    fig = pyplot.figure(figsize=(10,6))\n",
      "    ax = fig.add_subplot(111)\n",
      "    \n",
      "    xs = sim.mesh.coordinates()\n",
      "    m = finmag.util.helpers.vectors(sim.llg._m.vector().array())\n",
      "    \n",
      "    ax.plot(xs, m[:, 0], '-r', label='$m_x$')\n",
      "    ax.plot(xs, m[:, 1], '.g', label='$m_y$')\n",
      "    ax.plot(xs, m[:, 2], 's-b', label='$m_z$')\n",
      "    ax.legend()\n",
      "    ax.set_xlabel('x [m]')\n",
      "    \n",
      "    if u is not None:\n",
      "        #mu = u.vector().array()   # <- works only for CG1 function space\n",
      "        mu = map(u, xs)\n",
      "        ax.plot(xs, mu, label='analytical')\n",
      "        ax.legend(loc='upper center')\n",
      "    \n",
      "    #df.plot(sim.llg._m)\n",
      "    return m"
     ],
     "language": "python",
     "metadata": {},
     "outputs": [],
     "prompt_number": 29
    },
    {
     "cell_type": "code",
     "collapsed": false,
     "input": [
      "import numpy as np\n",
      "from finmag import Simulation\n",
      "from finmag.energies import Exchange, DMI, Demag, Zeeman, UniaxialAnisotropy\n",
      "import matplotlib.pyplot as plt\n",
      "finmag.set_logging_level('INFO')\n"
     ],
     "language": "python",
     "metadata": {},
     "outputs": [],
     "prompt_number": 30
    },
    {
     "cell_type": "code",
     "collapsed": false,
     "input": [
      "def analytical(mesh, A=16e-12,D=3.6e-3,K=510e3):\n",
      "    \"\"\"solving the equation (4) in the paper using CG method.\"\"\"\n",
      "    Delta = np.sqrt(A/K)\n",
      "    xi = 2*A/D\n",
      "    \n",
      "    Delta_s = Delta*1e9\n",
      "    \n",
      "    V = df.FunctionSpace(mesh, \"Lagrange\", 1)\n",
      "    u  = df.TrialFunction(V)\n",
      "    v  = df.TestFunction(V)\n",
      "    u_ = df.Function(V)      \n",
      "    F  = -df.inner(df.nabla_grad(u), df.nabla_grad(v))*df.dx-(0.5/Delta_s**2)*df.sin(2*u)*v*df.dx\n",
      "    F  = df.action(F, u_)\n",
      "\n",
      "    J  = df.derivative(F, u_, u)   \n",
      "    \n",
      "    #the boundary condition is from equation (8)\n",
      "    theta0 = np.arcsin(Delta/xi)\n",
      "    ss = 'x[0]<0? %f: %f '%(-theta0,theta0)\n",
      "    \n",
      "    u0 = df.Expression(ss)\n",
      "    def u0_boundary(x, on_boundary):\n",
      "        return on_boundary\n",
      "\n",
      "    bc = df.DirichletBC(V, u0, u0_boundary)\n",
      "    \n",
      "    \n",
      "    problem = df.NonlinearVariationalProblem(F, u_,bcs=bc,J=J)\n",
      "    solver  = df.NonlinearVariationalSolver(problem)\n",
      "    solver.solve()\n",
      "\n",
      "    #df.plot(u_)\n",
      "    return u_\n"
     ],
     "language": "python",
     "metadata": {},
     "outputs": [],
     "prompt_number": 31
    },
    {
     "cell_type": "code",
     "collapsed": false,
     "input": [
      "def setup_simulation(\n",
      "    A = 16e-12,  # J/m, i.e. 16 pJ/m as in Rohart et al just before III 1D Case starts\n",
      "    D = 3.6e-3,  # J/m^2, i.e. 3.6mJ/m^2 as in papert, same place\n",
      "    K = 510e3,   # J/m^3, 510kJ/m^3 as in paper \n",
      "    Ms = 1.1e6):   # A/m, value quoted at the end of III 3a for the demag calculations\n",
      "\n",
      "    sim = Simulation(Ms=Ms, mesh=mesh, name='dmi-1d', unit_length=1e-9)\n",
      "    \n",
      "    sim.set_m([0, 0, 1])\n",
      "    sim.add(Exchange(A))\n",
      "    sim.add(DMI(D))\n",
      "    #sim.add(Zeeman((0,0,0)))\n",
      "    sim.add(UniaxialAnisotropy(K, (0, 0, 1)))\n",
      "    return sim"
     ],
     "language": "python",
     "metadata": {},
     "outputs": [],
     "prompt_number": 32
    },
    {
     "cell_type": "code",
     "collapsed": false,
     "input": [
      "def run_scenario(D):\n",
      "    sim = setup_simulation(D=D)\n",
      "    sim.relax()\n",
      "    m = plot_m(sim, analytical(mesh))\n",
      "    "
     ],
     "language": "python",
     "metadata": {},
     "outputs": [],
     "prompt_number": 33
    },
    {
     "cell_type": "code",
     "collapsed": false,
     "input": [
      "run_scenario(D=3.6e-3)"
     ],
     "language": "python",
     "metadata": {},
     "outputs": [
      {
       "output_type": "stream",
       "stream": "stderr",
       "text": [
        "[2013-11-12 12:09:59] INFO: Finmag logging output will be written to file: '/home/fangohr2/hg/finmag/doc/ipython_notebooks_src/dmi_1d.log' (any old content will be overwritten).\n"
       ]
      },
      {
       "output_type": "stream",
       "stream": "stderr",
       "text": [
        "[2013-11-12 12:09:59] INFO: Creating Sim object 'dmi-1d' (rank=0/1).\n"
       ]
      },
      {
       "output_type": "stream",
       "stream": "stderr",
       "text": [
        "[2013-11-12 12:09:59] INFO: <Mesh of topological dimension 1 (intervals) with 101 vertices and 100 cells, ordered>\n"
       ]
      },
      {
       "output_type": "stream",
       "stream": "stderr",
       "text": [
        "[2013-11-12 12:09:59] INFO: Create integrator sundials with kwargs={}\n"
       ]
      },
      {
       "output_type": "stream",
       "stream": "stderr",
       "text": [
        "[2013-11-12 12:09:59] INFO: Simulation will run until relaxation of the magnetisation.\n"
       ]
      },
      {
       "output_type": "stream",
       "stream": "stderr",
       "text": [
        "[2013-11-12 12:10:00] INFO: Relaxation finished at time t = 1.5e-10.\n"
       ]
      },
      {
       "metadata": {},
       "output_type": "display_data",
       "png": "[encoded data removed]",
       "text": [
        "<matplotlib.figure.Figure at 0x495b890>"
       ]
      }
     ],
     "prompt_number": 34
    },
    {
     "cell_type": "markdown",
     "metadata": {},
     "source": [
      "Observations:\n",
      "\n",
      "We need to compare with figure 1 in the paper.\n",
      "\n",
      "1. $m_x$ and $m_y$ seem to be swapped\n",
      "\n",
      "2. Our $m_y$ is left high and rigth low. Let's change the sign of $D$:"
     ]
    },
    {
     "cell_type": "code",
     "collapsed": false,
     "input": [
      "run_scenario(D=-3.6e-3)"
     ],
     "language": "python",
     "metadata": {},
     "outputs": [
      {
       "output_type": "stream",
       "stream": "stderr",
       "text": [
        "[2013-11-12 12:10:00] INFO: Finmag logging output will be written to file: '/home/fangohr2/hg/finmag/doc/ipython_notebooks_src/dmi_1d.log' (any old content will be overwritten).\n"
       ]
      },
      {
       "output_type": "stream",
       "stream": "stderr",
       "text": [
        "[2013-11-12 12:10:00] INFO: Creating Sim object 'dmi-1d' (rank=0/1).\n"
       ]
      },
      {
       "output_type": "stream",
       "stream": "stderr",
       "text": [
        "[2013-11-12 12:10:00] INFO: <Mesh of topological dimension 1 (intervals) with 101 vertices and 100 cells, ordered>\n"
       ]
      },
      {
       "output_type": "stream",
       "stream": "stderr",
       "text": [
        "[2013-11-12 12:10:00] INFO: Create integrator sundials with kwargs={}\n"
       ]
      },
      {
       "output_type": "stream",
       "stream": "stderr",
       "text": [
        "[2013-11-12 12:10:00] INFO: Simulation will run until relaxation of the magnetisation.\n"
       ]
      },
      {
       "output_type": "stream",
       "stream": "stderr",
       "text": [
        "[2013-11-12 12:10:01] INFO: Relaxation finished at time t = 1.5e-10.\n"
       ]
      },
      {
       "metadata": {},
       "output_type": "display_data",
       "png": "[encoded data removed]",
       "text": [
        "<matplotlib.figure.Figure at 0x4989850>"
       ]
      }
     ],
     "prompt_number": 35
    },
    {
     "cell_type": "markdown",
     "metadata": {},
     "source": [
      "Now we have the same shape. So somewhere (somebody?) must have a sign wrong. (Could potentially also be the wrong sign in the anisotropy.)"
     ]
    },
    {
     "cell_type": "markdown",
     "metadata": {},
     "source": [
      "# Conclusions so far"
     ]
    },
    {
     "cell_type": "markdown",
     "metadata": {},
     "source": [
      "* Must check that we have the right sign in D code\n",
      "\n",
      "* Should find out why m_x and m_y are swapped relative to Rohart. They could have made a mistake,  \n",
      "  but we need to understand it. Reading the paper is likely to help, and in particular following\n",
      "  the analytical considerations will be useful\n",
      "  \n",
      "* While we have some symmetries wrong (could be just a -1 in some place), the overall shape looks  \n",
      "  remarkable similar despite not having implemented the boundary conditions as suggested in the\n",
      "  paper (equation 6 in 1d and equation (20) in general. \n",
      "  "
     ]
    },
    {
     "cell_type": "markdown",
     "metadata": {},
     "source": [
      "## Boundary conditions"
     ]
    },
    {
     "cell_type": "markdown",
     "metadata": {},
     "source": [
      "Weiwei and Hans' current understanding is that the boundary conditions (6) and (20) in the paper are only required for for finding the analytical solution."
     ]
    },
    {
     "cell_type": "markdown",
     "metadata": {},
     "source": [
      "## Open questions\n",
      "\n",
      "* has D the right sign? \n",
      "\n",
      "* What is the confusion about m_x and m_y?"
     ]
    }
   ],
   "metadata": {}
  }
 ]
}