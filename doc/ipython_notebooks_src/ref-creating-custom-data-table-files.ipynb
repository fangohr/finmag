{
 "cells": [
  {
   "cell_type": "markdown",
   "metadata": {},
   "source": [
    "# Saving and reading spatially averaged field data"
   ]
  },
  {
   "cell_type": "markdown",
   "metadata": {},
   "source": [
    "## Writing data to file"
   ]
  },
  {
   "cell_type": "markdown",
   "metadata": {},
   "source": [
    "We generally want to save some of the simulation data when we run a simulation. Saving the average magnetisation vector as a function of time is a common task, and one method of doing this explicitly is describe here."
   ]
  },
  {
   "cell_type": "code",
   "execution_count": 1,
   "metadata": {
    "collapsed": false
   },
   "outputs": [
    {
     "name": "stderr",
     "output_type": "stream",
     "text": [
      "[2014-06-09 15:52:30] INFO: Finmag logging output will be appended to file: '/home/albert/.finmag/global.log'\n",
      "[2014-06-09 15:52:30] DEBUG: Building modules in 'native'...\n",
      "[2014-06-09 15:52:31] DEBUG: FinMag          5031:181e7b67713b0d377857cf9e722e70d0c1be4301\n",
      "[2014-06-09 15:52:31] DEBUG: Dolfin          1.4.0                Matplotlib      1.3.1               \n",
      "[2014-06-09 15:52:31] DEBUG: Numpy           1.8.1                Scipy           0.12.0              \n",
      "[2014-06-09 15:52:31] DEBUG: IPython         2.1.0                Python          2.7.5+              \n",
      "[2014-06-09 15:52:31] DEBUG: Paraview        4.0.1-1              Sundials        2.5.0               \n",
      "[2014-06-09 15:52:31] DEBUG: Boost-Python    <unknown>            Linux           Linux Mint 16 Petra \n",
      "[2014-06-09 15:52:31] DEBUG: Registering debug signal handler. Press Ctrl-Z at any time to stop execution and jump into the debugger.\n"
     ]
    }
   ],
   "source": [
    "import numpy\n",
    "import finmag\n",
    "import sys"
   ]
  },
  {
   "cell_type": "markdown",
   "metadata": {},
   "source": [
    "The `bar()` function provides a simulation object for a Permalloy bar with dimensions 30x30x100nm with the initial magnetisation pointing into the (1,0,1) direction. The `barmini()` function is a miniature analogue which runs much faster and is used in this demonstration."
   ]
  },
  {
   "cell_type": "code",
   "execution_count": 12,
   "metadata": {
    "collapsed": false
   },
   "outputs": [
    {
     "name": "stderr",
     "output_type": "stream",
     "text": [
      "[2014-06-09 15:54:19] INFO: Finmag logging output will be written to file: '/home/albert/work/code/finmag/doc/ipython_notebooks_src/barmini.log' (any old content will be overwritten).\n",
      "[2014-06-09 15:54:19] DEBUG: Creating DataWriter for file 'barmini.ndt'\n",
      "[2014-06-09 15:54:19] INFO: Creating Sim object 'barmini' (rank=0/1).\n",
      "[2014-06-09 15:54:19] INFO: <Mesh of topological dimension 3 (tetrahedra) with 45 vertices and 96 cells, ordered>\n",
      "[2014-06-09 15:54:19] DEBUG: Creating LLG object.\n",
      "[2014-06-09 15:54:19] DEBUG: Creating Exchange object with method box-matrix-petsc, in Jacobian.\n",
      "[2014-06-09 15:54:19] DEBUG: Adding interaction Exchange to simulation.\n",
      "[2014-06-09 15:54:19] DEBUG: Creating Demag object with solver 'FK'.\n",
      "[2014-06-09 15:54:19] DEBUG: Adding interaction Demag to simulation.\n",
      "[2014-06-09 15:54:19] DEBUG: Successfully created simulation 'barmini'\n"
     ]
    }
   ],
   "source": [
    "sim = finmag.example.barmini()"
   ]
  },
  {
   "cell_type": "markdown",
   "metadata": {},
   "source": [
    "### Low-level approach"
   ]
  },
  {
   "cell_type": "markdown",
   "metadata": {},
   "source": [
    "We create the object (``tablef``) that writes the spatially averaged data into a file. This is similar to OOMMF's odt files (Oommf Data Table) and Nmag's ndt files (Nmag Data Table)."
   ]
  },
  {
   "cell_type": "code",
   "execution_count": 13,
   "metadata": {
    "collapsed": false
   },
   "outputs": [
    {
     "name": "stderr",
     "output_type": "stream",
     "text": [
      "[2014-06-09 15:54:22] DEBUG: Creating DataWriter for file 'data.ndt'\n"
     ]
    }
   ],
   "source": [
    "import finmag.util\n",
    "import finmag.util.fileio\n",
    "tablef = finmag.util.fileio.Tablewriter('data.ndt', sim, override = True)"
   ]
  },
  {
   "cell_type": "markdown",
   "metadata": {},
   "source": [
    "And run a simulation in small chunks of time to demonstrate the basic idea:"
   ]
  },
  {
   "cell_type": "code",
   "execution_count": 14,
   "metadata": {
    "collapsed": false
   },
   "outputs": [
    {
     "name": "stdout",
     "output_type": "stream",
     "text": [
      "Integrating towards t = 0s\n"
     ]
    },
    {
     "name": "stderr",
     "output_type": "stream",
     "text": [
      "[2014-06-09 15:54:24] INFO: Create integrator sundials with kwargs={}\n",
      "[2014-06-09 15:54:24] DEBUG: Creating integrator with backend sundials.\n",
      "[2014-06-09 15:54:24] INFO: Simulation will run until t = 0 s.\n",
      "[2014-06-09 15:54:24] INFO: Simulation has reached time t = 0 s.\n"
     ]
    },
    {
     "name": "stdout",
     "output_type": "stream",
     "text": [
      "Integrating towards t = 5.26316e-12s\n"
     ]
    },
    {
     "name": "stderr",
     "output_type": "stream",
     "text": [
      "[2014-06-09 15:54:24] INFO: Simulation will run until t = 5.3e-12 s.\n",
      "[2014-06-09 15:54:24] INFO: Simulation has reached time t = 5.3e-12 s.\n"
     ]
    },
    {
     "name": "stdout",
     "output_type": "stream",
     "text": [
      "Integrating towards t = 1.05263e-11s\n"
     ]
    },
    {
     "name": "stderr",
     "output_type": "stream",
     "text": [
      "[2014-06-09 15:54:24] INFO: Simulation will run until t = 1.1e-11 s.\n",
      "[2014-06-09 15:54:24] INFO: Simulation has reached time t = 1.1e-11 s.\n"
     ]
    },
    {
     "name": "stdout",
     "output_type": "stream",
     "text": [
      "Integrating towards t = 1.57895e-11s\n"
     ]
    },
    {
     "name": "stderr",
     "output_type": "stream",
     "text": [
      "[2014-06-09 15:54:24] INFO: Simulation will run until t = 1.6e-11 s.\n",
      "[2014-06-09 15:54:24] INFO: Simulation has reached time t = 1.6e-11 s.\n"
     ]
    },
    {
     "name": "stdout",
     "output_type": "stream",
     "text": [
      "Integrating towards t = 2.10526e-11s\n"
     ]
    },
    {
     "name": "stderr",
     "output_type": "stream",
     "text": [
      "[2014-06-09 15:54:24] INFO: Simulation will run until t = 2.1e-11 s.\n",
      "[2014-06-09 15:54:24] INFO: Simulation has reached time t = 2.1e-11 s.\n"
     ]
    },
    {
     "name": "stdout",
     "output_type": "stream",
     "text": [
      "Integrating towards t = 2.63158e-11s\n"
     ]
    },
    {
     "name": "stderr",
     "output_type": "stream",
     "text": [
      "[2014-06-09 15:54:24] INFO: Simulation will run until t = 2.6e-11 s.\n",
      "[2014-06-09 15:54:24] INFO: Simulation has reached time t = 2.6e-11 s.\n"
     ]
    },
    {
     "name": "stdout",
     "output_type": "stream",
     "text": [
      "Integrating towards t = 3.15789e-11s\n"
     ]
    },
    {
     "name": "stderr",
     "output_type": "stream",
     "text": [
      "[2014-06-09 15:54:24] INFO: Simulation will run until t = 3.2e-11 s.\n",
      "[2014-06-09 15:54:24] INFO: Simulation has reached time t = 3.2e-11 s.\n"
     ]
    },
    {
     "name": "stdout",
     "output_type": "stream",
     "text": [
      "Integrating towards t = 3.68421e-11s\n"
     ]
    },
    {
     "name": "stderr",
     "output_type": "stream",
     "text": [
      "[2014-06-09 15:54:24] INFO: Simulation will run until t = 3.7e-11 s.\n",
      "[2014-06-09 15:54:24] INFO: Simulation has reached time t = 3.7e-11 s.\n"
     ]
    },
    {
     "name": "stdout",
     "output_type": "stream",
     "text": [
      "Integrating towards t = 4.21053e-11s\n"
     ]
    },
    {
     "name": "stderr",
     "output_type": "stream",
     "text": [
      "[2014-06-09 15:54:24] INFO: Simulation will run until t = 4.2e-11 s.\n",
      "[2014-06-09 15:54:24] INFO: Simulation has reached time t = 4.2e-11 s.\n"
     ]
    },
    {
     "name": "stdout",
     "output_type": "stream",
     "text": [
      "Integrating towards t = 4.73684e-11s\n"
     ]
    },
    {
     "name": "stderr",
     "output_type": "stream",
     "text": [
      "[2014-06-09 15:54:24] INFO: Simulation will run until t = 4.7e-11 s.\n",
      "[2014-06-09 15:54:24] INFO: Simulation has reached time t = 4.7e-11 s.\n"
     ]
    },
    {
     "name": "stdout",
     "output_type": "stream",
     "text": [
      "Integrating towards t = 5.26316e-11s\n"
     ]
    },
    {
     "name": "stderr",
     "output_type": "stream",
     "text": [
      "[2014-06-09 15:54:24] INFO: Simulation will run until t = 5.3e-11 s.\n",
      "[2014-06-09 15:54:24] INFO: Simulation has reached time t = 5.3e-11 s.\n"
     ]
    },
    {
     "name": "stdout",
     "output_type": "stream",
     "text": [
      "Integrating towards t = 5.78947e-11s\n"
     ]
    },
    {
     "name": "stderr",
     "output_type": "stream",
     "text": [
      "[2014-06-09 15:54:24] INFO: Simulation will run until t = 5.8e-11 s.\n",
      "[2014-06-09 15:54:24] INFO: Simulation has reached time t = 5.8e-11 s.\n"
     ]
    },
    {
     "name": "stdout",
     "output_type": "stream",
     "text": [
      "Integrating towards t = 6.31579e-11s\n"
     ]
    },
    {
     "name": "stderr",
     "output_type": "stream",
     "text": [
      "[2014-06-09 15:54:24] INFO: Simulation will run until t = 6.3e-11 s.\n",
      "[2014-06-09 15:54:24] INFO: Simulation has reached time t = 6.3e-11 s.\n"
     ]
    },
    {
     "name": "stdout",
     "output_type": "stream",
     "text": [
      "Integrating towards t = 6.84211e-11s\n"
     ]
    },
    {
     "name": "stderr",
     "output_type": "stream",
     "text": [
      "[2014-06-09 15:54:24] INFO: Simulation will run until t = 6.8e-11 s.\n",
      "[2014-06-09 15:54:24] INFO: Simulation has reached time t = 6.8e-11 s.\n"
     ]
    },
    {
     "name": "stdout",
     "output_type": "stream",
     "text": [
      "Integrating towards t = 7.36842e-11s\n"
     ]
    },
    {
     "name": "stderr",
     "output_type": "stream",
     "text": [
      "[2014-06-09 15:54:24] INFO: Simulation will run until t = 7.4e-11 s.\n",
      "[2014-06-09 15:54:24] INFO: Simulation has reached time t = 7.4e-11 s.\n"
     ]
    },
    {
     "name": "stdout",
     "output_type": "stream",
     "text": [
      "Integrating towards t = 7.89474e-11s\n"
     ]
    },
    {
     "name": "stderr",
     "output_type": "stream",
     "text": [
      "[2014-06-09 15:54:24] INFO: Simulation will run until t = 7.9e-11 s.\n",
      "[2014-06-09 15:54:25] INFO: Simulation has reached time t = 7.9e-11 s.\n"
     ]
    },
    {
     "name": "stdout",
     "output_type": "stream",
     "text": [
      "Integrating towards t = 8.42105e-11s\n"
     ]
    },
    {
     "name": "stderr",
     "output_type": "stream",
     "text": [
      "[2014-06-09 15:54:25] INFO: Simulation will run until t = 8.4e-11 s.\n",
      "[2014-06-09 15:54:25] INFO: Simulation has reached time t = 8.4e-11 s.\n"
     ]
    },
    {
     "name": "stdout",
     "output_type": "stream",
     "text": [
      "Integrating towards t = 8.94737e-11s\n"
     ]
    },
    {
     "name": "stderr",
     "output_type": "stream",
     "text": [
      "[2014-06-09 15:54:25] INFO: Simulation will run until t = 8.9e-11 s.\n",
      "[2014-06-09 15:54:25] INFO: Simulation has reached time t = 8.9e-11 s.\n"
     ]
    },
    {
     "name": "stdout",
     "output_type": "stream",
     "text": [
      "Integrating towards t = 9.47368e-11s\n"
     ]
    },
    {
     "name": "stderr",
     "output_type": "stream",
     "text": [
      "[2014-06-09 15:54:25] INFO: Simulation will run until t = 9.5e-11 s.\n",
      "[2014-06-09 15:54:25] INFO: Simulation has reached time t = 9.5e-11 s.\n"
     ]
    },
    {
     "name": "stdout",
     "output_type": "stream",
     "text": [
      "Integrating towards t = 1e-10s\n"
     ]
    },
    {
     "name": "stderr",
     "output_type": "stream",
     "text": [
      "[2014-06-09 15:54:25] INFO: Simulation will run until t = 1e-10 s.\n",
      "[2014-06-09 15:54:25] INFO: Simulation has reached time t = 1e-10 s.\n"
     ]
    },
    {
     "name": "stdout",
     "output_type": "stream",
     "text": [
      "Done\n"
     ]
    }
   ],
   "source": [
    "for time in numpy.linspace(0, 1e-10, 20):\n",
    "    print(\"Integrating towards t = %gs\" % time)\n",
    "    sys.stdout.flush()\n",
    "    sim.run_until(time)\n",
    "    tablef.save()\n",
    "print(\"Done\"),"
   ]
  },
  {
   "cell_type": "markdown",
   "metadata": {},
   "source": [
    "Each call of ``tablef.save()`` saves the current time and spatially averaged values of the magnetisation into the data file. This will be extended to also save other fields in the future. We can inspect the data file which is just an text file:"
   ]
  },
  {
   "cell_type": "code",
   "execution_count": 9,
   "metadata": {
    "collapsed": false
   },
   "outputs": [
    {
     "name": "stdout",
     "output_type": "stream",
     "text": [
      "#               time                m_x                m_y                m_z \r\n",
      "#                <s>                 <>                 <>                 <> \r\n",
      "                   0     0.707106781187                  0     0.707106781187 \r\n",
      "   5.26315789474e-12     0.660830608443     0.102431836773     0.743493357301 \r\n",
      "   1.05263157895e-11     0.598004836982     0.194848725254     0.777428610565 \r\n",
      "   1.57894736842e-11     0.521065455993     0.273289470043     0.808564099508 \r\n",
      "   2.10526315789e-11     0.433538764465     0.334626812167     0.836685564067 \r\n",
      "   2.63157894737e-11     0.339694945052      0.37687088209     0.861714300164 \r\n",
      "   3.15789473684e-11     0.244133503946     0.399330181318     0.883692656166 \r\n",
      "   3.68421052632e-11      0.15135137213     0.402612607613     0.902760357397 \r\n",
      "   4.21052631579e-11    0.0653703104822     0.388479518357     0.919126279411 \r\n",
      "   4.73684210526e-11   -0.0105541568917     0.359592263978     0.933041632879 \r\n",
      "   5.26315789474e-11   -0.0740982195878     0.319206586023     0.944777131333 \r\n",
      "   5.78947368421e-11    -0.123928181111     0.270849938212      0.95460479873 \r\n",
      "   6.31578947368e-11    -0.159658996921     0.218040440342     0.962786104925 \r\n",
      "   6.84210526316e-11    -0.181740766593     0.164042127411     0.969562727461 \r\n",
      "   7.36842105263e-11    -0.191299397473     0.111690580643      0.97515247373 \r\n",
      "   7.89473684211e-11    -0.189954879929    0.0632855994035     0.979747423575 \r\n",
      "   8.42105263158e-11    -0.179643685396    0.0205427388722     0.983514014063 \r\n",
      "   8.94736842105e-11    -0.162443715001   -0.0154121093479     0.986594289501 \r\n",
      "   9.47368421053e-11    -0.140436333445   -0.0440002143044      0.98910853555 \r\n",
      "               1e-10    -0.115584044692   -0.0651273178314     0.991157482095 \r\n"
     ]
    }
   ],
   "source": [
    "!cat data.ndt"
   ]
  },
  {
   "cell_type": "markdown",
   "metadata": {},
   "source": [
    "### High-level approach"
   ]
  },
  {
   "cell_type": "markdown",
   "metadata": {},
   "source": [
    "These commands shown above are fairly low level commands, which are wrapped up in the simulation method ``save_averages`` for end-user convenience. using the scheduler system, the above loop can be much more conveniently written as follows."
   ]
  },
  {
   "cell_type": "code",
   "execution_count": 10,
   "metadata": {
    "collapsed": false
   },
   "outputs": [
    {
     "name": "stderr",
     "output_type": "stream",
     "text": [
      "[2014-06-09 15:53:26] INFO: Finmag logging output will be written to file: '/home/albert/work/code/finmag/doc/ipython_notebooks_src/barmini.log' (any old content will be overwritten).\n",
      "[2014-06-09 15:53:26] DEBUG: Creating DataWriter for file 'barmini.ndt'\n",
      "[2014-06-09 15:53:26] INFO: Creating Sim object 'barmini' (rank=0/1).\n",
      "[2014-06-09 15:53:26] INFO: <Mesh of topological dimension 3 (tetrahedra) with 45 vertices and 96 cells, ordered>\n",
      "[2014-06-09 15:53:26] DEBUG: Creating LLG object.\n",
      "[2014-06-09 15:53:26] DEBUG: Creating Exchange object with method box-matrix-petsc, in Jacobian.\n",
      "[2014-06-09 15:53:26] DEBUG: Adding interaction Exchange to simulation.\n",
      "[2014-06-09 15:53:26] DEBUG: Creating Demag object with solver 'FK'.\n",
      "[2014-06-09 15:53:26] DEBUG: Adding interaction Demag to simulation.\n",
      "[2014-06-09 15:53:26] DEBUG: Successfully created simulation 'barmini'\n",
      "[2014-06-09 15:53:26] INFO: Create integrator sundials with kwargs={}\n",
      "[2014-06-09 15:53:26] DEBUG: Creating integrator with backend sundials.\n",
      "[2014-06-09 15:53:26] INFO: Simulation will run until t = 1e-10 s.\n",
      "[2014-06-09 15:53:26] DEBUG: Saving data to ndt file at t=0.0 (sim.name=barmini).\n",
      "[2014-06-09 15:53:26] DEBUG: Saving data to ndt file at t=5e-12 (sim.name=barmini).\n",
      "[2014-06-09 15:53:26] DEBUG: Saving data to ndt file at t=1e-11 (sim.name=barmini).\n",
      "[2014-06-09 15:53:26] DEBUG: Saving data to ndt file at t=1.5e-11 (sim.name=barmini).\n",
      "[2014-06-09 15:53:26] DEBUG: Saving data to ndt file at t=2e-11 (sim.name=barmini).\n",
      "[2014-06-09 15:53:26] DEBUG: Saving data to ndt file at t=2.5e-11 (sim.name=barmini).\n",
      "[2014-06-09 15:53:26] DEBUG: Saving data to ndt file at t=3e-11 (sim.name=barmini).\n",
      "[2014-06-09 15:53:26] DEBUG: Saving data to ndt file at t=3.5e-11 (sim.name=barmini).\n",
      "[2014-06-09 15:53:26] DEBUG: Saving data to ndt file at t=4e-11 (sim.name=barmini).\n",
      "[2014-06-09 15:53:26] DEBUG: Saving data to ndt file at t=4.5e-11 (sim.name=barmini).\n",
      "[2014-06-09 15:53:26] DEBUG: Saving data to ndt file at t=5e-11 (sim.name=barmini).\n",
      "[2014-06-09 15:53:26] DEBUG: Saving data to ndt file at t=5.5e-11 (sim.name=barmini).\n",
      "[2014-06-09 15:53:26] DEBUG: Saving data to ndt file at t=6e-11 (sim.name=barmini).\n",
      "[2014-06-09 15:53:26] DEBUG: Saving data to ndt file at t=6.5e-11 (sim.name=barmini).\n",
      "[2014-06-09 15:53:26] DEBUG: Saving data to ndt file at t=7e-11 (sim.name=barmini).\n",
      "[2014-06-09 15:53:26] DEBUG: Saving data to ndt file at t=7.5e-11 (sim.name=barmini).\n",
      "[2014-06-09 15:53:26] DEBUG: Saving data to ndt file at t=8e-11 (sim.name=barmini).\n",
      "[2014-06-09 15:53:27] DEBUG: Saving data to ndt file at t=8.5e-11 (sim.name=barmini).\n",
      "[2014-06-09 15:53:27] DEBUG: Saving data to ndt file at t=9e-11 (sim.name=barmini).\n",
      "[2014-06-09 15:53:27] DEBUG: Saving data to ndt file at t=9.5e-11 (sim.name=barmini).\n",
      "[2014-06-09 15:53:27] DEBUG: Saving data to ndt file at t=1e-10 (sim.name=barmini).\n",
      "[2014-06-09 15:53:27] INFO: Simulation has reached time t = 1e-10 s.\n"
     ]
    }
   ],
   "source": [
    "sim = finmag.example.barmini()\n",
    "sim.schedule('save_averages', every=5e-12)\n",
    "sim.run_until(1e-10)"
   ]
  },
  {
   "cell_type": "markdown",
   "metadata": {},
   "source": [
    "The data is automatically saved to a `.ndt` file with the same name as the simulation (`barmini` in this case). Note that this file contains many more columns, which correspond to the average energy and field values of the various interactions (in this case the exchange and demag interactions)."
   ]
  },
  {
   "cell_type": "code",
   "execution_count": 11,
   "metadata": {
    "collapsed": false
   },
   "outputs": [
    {
     "name": "stdout",
     "output_type": "stream",
     "text": [
      "#               time            E_Demag         E_Exchange            E_total          H_Demag_x          H_Demag_y          H_Demag_z       H_Exchange_x       H_Exchange_y       H_Exchange_z          H_total_x          H_total_y          H_total_z             dmdt_x             dmdt_y             dmdt_z       last_step_dt                m_x                m_y                m_z              steps \r\n",
      "#                <s>                <J>                <J>                <J>              <A/m>              <A/m>              <A/m>              <A/m>              <A/m>              <A/m>              <A/m>              <A/m>              <A/m>             <A/ms>             <A/ms>             <A/ms>                <1>                 <>                 <>                 <>                <1> \r\n",
      "                   0  9.99434122264e-21                  0  9.99434122264e-21     -210808.743122     -19907.0801882     -70862.1056989 -1.89115971695e-09                  0 -1.89115971695e-09     -210808.743122     -19907.0801882     -70862.1056989                  0                  0                  0                  0     0.707106781187                  0     0.707106781187                  0 \r\n",
      "               5e-12  9.41792836501e-21  1.32227807727e-23  9.43115114578e-21     -200306.005196     -47503.7232414     -74204.5088012     -10722.4849261       16686.963442      7462.36856728     -211028.490122     -30816.7597994     -66742.1402339     -10653897434.9      18745693837.4      6883418066.39  2.15106906713e-13     0.663552369781    0.0975125150885      0.74172892704                 70 \r\n"
     ]
    }
   ],
   "source": [
    "!head -n4 barmini.ndt"
   ]
  },
  {
   "cell_type": "markdown",
   "metadata": {},
   "source": [
    "The most convenient way of reading back this data is by using the `Tablereader`, which is described in the next section."
   ]
  },
  {
   "cell_type": "markdown",
   "metadata": {},
   "source": [
    "## Reading and processing data"
   ]
  },
  {
   "cell_type": "code",
   "execution_count": 8,
   "metadata": {
    "collapsed": false
   },
   "outputs": [],
   "source": [
    "data = finmag.util.fileio.Tablereader('barmini.ndt')"
   ]
  },
  {
   "cell_type": "code",
   "execution_count": 9,
   "metadata": {
    "collapsed": false
   },
   "outputs": [
    {
     "data": {
      "text/plain": [
       "<matplotlib.legend.Legend at 0x4b13890>"
      ]
     },
     "execution_count": 9,
     "metadata": {},
     "output_type": "execute_result"
    },
    {
     "name": "stderr",
     "output_type": "stream",
     "text": [
      "/usr/local/lib/python2.7/dist-packages/matplotlib/figure.py:1595: UserWarning: This figure includes Axes that are not compatible with tight_layout, so its results might be incorrect.\n",
      "  warnings.warn(\"This figure includes Axes that are not \"\n"
     ]
    },
    {
     "data": {
      "image/png": "[encoded data removed]",
      "text/plain": [
       "<matplotlib.figure.Figure at 0x33eed90>"
      ]
     },
     "metadata": {},
     "output_type": "display_data"
    }
   ],
   "source": [
    "%matplotlib inline\n",
    "import pylab\n",
    "pylab.plot(data['time'], data['m_y'], 'o-', label='m_x')\n",
    "pylab.plot(data['time'], data['m_x'], '^-', label='m_y')\n",
    "pylab.plot(data['time'], data['m_z'], '+-', label='m_z')\n",
    "pylab.xlabel('time [s]')\n",
    "pylab.ylabel('magnetisation/Ms') \n",
    "pylab.legend()"
   ]
  },
  {
   "cell_type": "markdown",
   "metadata": {},
   "source": [
    "It is possible to read multiple columns at once by providing multiple field names (which returns a 2-dimensional numpy array with as many columns). We use this to illustrate an alternative way of plotting the above data."
   ]
  },
  {
   "cell_type": "code",
   "execution_count": 10,
   "metadata": {
    "collapsed": false
   },
   "outputs": [
    {
     "data": {
      "text/plain": [
       "[<matplotlib.lines.Line2D at 0x4ee0e10>]"
      ]
     },
     "execution_count": 10,
     "metadata": {},
     "output_type": "execute_result"
    },
    {
     "data": {
      "image/png": "[encoded data removed]",
      "text/plain": [
       "<matplotlib.figure.Figure at 0x4ad5790>"
      ]
     },
     "metadata": {},
     "output_type": "display_data"
    }
   ],
   "source": [
    "import numpy\n",
    "t = data['time']\n",
    "mx, my, mz = data['m_x', 'm_y', 'm_z']\n",
    "pylab.plot(t, mx, '^-')\n",
    "pylab.plot(t, my, 'o-')\n",
    "pylab.plot(t, mz, '+-')"
   ]
  },
  {
   "cell_type": "markdown",
   "metadata": {},
   "source": [
    "The ``Reader`` object has an extra ``read()`` method which reads the file again. This can be used if the data has changed:\n"
   ]
  },
  {
   "cell_type": "code",
   "execution_count": 11,
   "metadata": {
    "collapsed": false
   },
   "outputs": [
    {
     "name": "stdout",
     "output_type": "stream",
     "text": [
      "1e-10\n"
     ]
    }
   ],
   "source": [
    "lastt = data['time'][-1] #last saved time in file\n",
    "print(lastt)"
   ]
  },
  {
   "cell_type": "code",
   "execution_count": 12,
   "metadata": {
    "collapsed": false
   },
   "outputs": [
    {
     "name": "stderr",
     "output_type": "stream",
     "text": [
      "[2014-06-09 15:44:59] INFO: Simulation will run until t = 1.2e-10 s.\n",
      "[2014-06-09 15:44:59] DEBUG: Saving data to ndt file at t=1.05e-10 (sim.name=barmini).\n",
      "[2014-06-09 15:44:59] DEBUG: Saving data to ndt file at t=1.1e-10 (sim.name=barmini).\n",
      "[2014-06-09 15:44:59] DEBUG: Saving data to ndt file at t=1.15e-10 (sim.name=barmini).\n",
      "[2014-06-09 15:44:59] INFO: Simulation has reached time t = 1.1e-10 s.\n"
     ]
    }
   ],
   "source": [
    "sim.run_until(lastt + 15e-12)\n",
    "tablef.save()"
   ]
  },
  {
   "cell_type": "code",
   "execution_count": 13,
   "metadata": {
    "collapsed": false
   },
   "outputs": [
    {
     "data": {
      "text/plain": [
       "1e-10"
      ]
     },
     "execution_count": 13,
     "metadata": {},
     "output_type": "execute_result"
    }
   ],
   "source": [
    "data['time'][-1]"
   ]
  },
  {
   "cell_type": "code",
   "execution_count": 14,
   "metadata": {
    "collapsed": false
   },
   "outputs": [
    {
     "data": {
      "text/plain": [
       "1.15e-10"
      ]
     },
     "execution_count": 14,
     "metadata": {},
     "output_type": "execute_result"
    }
   ],
   "source": [
    "data.reload()\n",
    "data.timesteps()[-1]"
   ]
  }
 ],
 "metadata": {
  "kernelspec": {
   "display_name": "Python 2",
   "language": "python",
   "name": "python2"
  },
  "language_info": {
   "codemirror_mode": {
    "name": "ipython",
    "version": 2
   },
   "file_extension": ".py",
   "mimetype": "text/x-python",
   "name": "python",
   "nbconvert_exporter": "python",
   "pygments_lexer": "ipython2",
   "version": "2.7.6"
  }
 },
 "nbformat": 4,
 "nbformat_minor": 0
}
