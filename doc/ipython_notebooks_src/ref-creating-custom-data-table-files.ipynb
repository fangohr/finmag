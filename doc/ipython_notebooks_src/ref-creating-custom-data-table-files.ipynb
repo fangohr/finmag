{
 "metadata": {
  "name": ""
 },
 "nbformat": 3,
 "nbformat_minor": 0,
 "worksheets": [
  {
   "cells": [
    {
     "cell_type": "markdown",
     "metadata": {},
     "source": [
      "# Saving and reading spatially averaged field data"
     ]
    },
    {
     "cell_type": "markdown",
     "metadata": {},
     "source": [
      "## Writing data to file"
     ]
    },
    {
     "cell_type": "markdown",
     "metadata": {},
     "source": [
      "We generally want to save some of the simulation data when we run a simulation. Saving the average magnetisation vector as a function of time is a common task, and one method of doing this explicitly is describe here."
     ]
    },
    {
     "cell_type": "code",
     "collapsed": false,
     "input": [
      "import numpy\n",
      "import finmag"
     ],
     "language": "python",
     "metadata": {},
     "outputs": [
      {
       "output_type": "stream",
       "stream": "stderr",
       "text": [
        "[2013-12-13 20:28:33] INFO: Finmag logging output will be appended to file: '/home/fangohr/.finmag/global.log'\n"
       ]
      },
      {
       "output_type": "stream",
       "stream": "stderr",
       "text": [
        "[2013-12-13 20:28:33] DEBUG: Building modules in 'native'...\n"
       ]
      },
      {
       "output_type": "stream",
       "stream": "stderr",
       "text": [
        "[2013-12-13 20:28:35] DEBUG:               Finmag: 4245:fbdf1a46832b2e813b8483e0b7d93bfda4eedea1\n"
       ]
      },
      {
       "output_type": "stream",
       "stream": "stderr",
       "text": [
        "[2013-12-13 20:28:35] DEBUG:               Dolfin: 1.2.0+\n"
       ]
      },
      {
       "output_type": "stream",
       "stream": "stderr",
       "text": [
        "[2013-12-13 20:28:35] DEBUG:           Matplotlib: 1.3.1\n"
       ]
      },
      {
       "output_type": "stream",
       "stream": "stderr",
       "text": [
        "[2013-12-13 20:28:35] DEBUG:                Numpy: 1.6.2\n"
       ]
      },
      {
       "output_type": "stream",
       "stream": "stderr",
       "text": [
        "[2013-12-13 20:28:35] DEBUG:                Scipy: 0.13.0\n"
       ]
      },
      {
       "output_type": "stream",
       "stream": "stderr",
       "text": [
        "[2013-12-13 20:28:35] DEBUG:              IPython: 1.1.0\n"
       ]
      },
      {
       "output_type": "stream",
       "stream": "stderr",
       "text": [
        "[2013-12-13 20:28:35] DEBUG:               Python: 2.7.3\n"
       ]
      },
      {
       "output_type": "stream",
       "stream": "stderr",
       "text": [
        "[2013-12-13 20:28:35] DEBUG:             Paraview: 3.14.1-6build1\n"
       ]
      },
      {
       "output_type": "stream",
       "stream": "stderr",
       "text": [
        "[2013-12-13 20:28:36] DEBUG:             Sundials: 2.5.0-1\n"
       ]
      },
      {
       "output_type": "stream",
       "stream": "stderr",
       "text": [
        "[2013-12-13 20:28:36] DEBUG:         Boost-Python: 1.49.0\n"
       ]
      },
      {
       "output_type": "stream",
       "stream": "stderr",
       "text": [
        "[2013-12-13 20:28:36] DEBUG:                Linux: Linux Mint 14 Nadia\n"
       ]
      },
      {
       "output_type": "stream",
       "stream": "stderr",
       "text": [
        "[2013-12-13 20:28:36] DEBUG: Registering debug signal handler. Press Ctrl-Z at any time to stop execution and jump into the debugger.\n"
       ]
      }
     ],
     "prompt_number": 1
    },
    {
     "cell_type": "markdown",
     "metadata": {},
     "source": [
      "The `bar()` function provides a simulation object for a Permalloy bar with dimensions 30x30x100nm with the initial magnetisation pointing into the (1,0,1) direction. The `barmini()` function is a miniature analogue which runs much faster and is used in this demonstration."
     ]
    },
    {
     "cell_type": "code",
     "collapsed": false,
     "input": [
      "sim = finmag.example.barmini()"
     ],
     "language": "python",
     "metadata": {},
     "outputs": [
      {
       "output_type": "stream",
       "stream": "stderr",
       "text": [
        "[2013-12-13 20:28:36] INFO: Finmag logging output will be written to file: '/home/fangohr/hg/finmag/doc/ipython_notebooks_src/barmini.log' (any old content will be overwritten).\n"
       ]
      },
      {
       "output_type": "stream",
       "stream": "stderr",
       "text": [
        "[2013-12-13 20:28:36] DEBUG: Creating DataWriter for file 'barmini.ndt'\n"
       ]
      },
      {
       "output_type": "stream",
       "stream": "stderr",
       "text": [
        "[2013-12-13 20:28:36] INFO: Creating Sim object 'barmini' (rank=0/1).\n"
       ]
      },
      {
       "output_type": "stream",
       "stream": "stderr",
       "text": [
        "[2013-12-13 20:28:36] INFO: <Mesh of topological dimension 3 (tetrahedra) with 45 vertices and 96 cells, ordered>\n"
       ]
      },
      {
       "output_type": "stream",
       "stream": "stderr",
       "text": [
        "[2013-12-13 20:28:36] DEBUG: Creating LLG object.\n"
       ]
      },
      {
       "output_type": "stream",
       "stream": "stderr",
       "text": [
        "[2013-12-13 20:28:36] DEBUG: Creating Exchange object with method box-matrix-petsc, in Jacobian.\n"
       ]
      },
      {
       "output_type": "stream",
       "stream": "stderr",
       "text": [
        "[2013-12-13 20:28:36] DEBUG: Adding interaction <finmag.energies.exchange.Exchange object at 0x5285650> to simulation 'barmini'\n"
       ]
      },
      {
       "output_type": "stream",
       "stream": "stderr",
       "text": [
        "[2013-12-13 20:28:36] DEBUG: Creating Demag object with solver 'FK'.\n"
       ]
      },
      {
       "output_type": "stream",
       "stream": "stderr",
       "text": [
        "[2013-12-13 20:28:36] DEBUG: Adding interaction <finmag.energies.demag.fk_demag.FKDemag object at 0x535ba50> to simulation 'barmini'\n"
       ]
      },
      {
       "output_type": "stream",
       "stream": "stderr",
       "text": [
        "[2013-12-13 20:28:36] DEBUG: Successfully created simulation 'barmini'\n"
       ]
      }
     ],
     "prompt_number": 2
    },
    {
     "cell_type": "markdown",
     "metadata": {},
     "source": [
      "### Low-level approach"
     ]
    },
    {
     "cell_type": "markdown",
     "metadata": {},
     "source": [
      "We create the object (``tablef``) that writes the spatially averaged data into a file. This is similar to OOMMF's odt files (Oommf Data Table) and Nmag's ndt files (Nmag Data Table)."
     ]
    },
    {
     "cell_type": "code",
     "collapsed": false,
     "input": [
      "import finmag.util\n",
      "import finmag.util.fileio\n",
      "tablef = finmag.util.fileio.Tablewriter('data.ndt', sim, override = True)"
     ],
     "language": "python",
     "metadata": {},
     "outputs": [
      {
       "output_type": "stream",
       "stream": "stderr",
       "text": [
        "[2013-12-13 20:28:36] DEBUG: Creating DataWriter for file 'data.ndt'\n"
       ]
      }
     ],
     "prompt_number": 3
    },
    {
     "cell_type": "markdown",
     "metadata": {},
     "source": [
      "And run a simulation in small chunks of time to demonstrate the basic idea:"
     ]
    },
    {
     "cell_type": "code",
     "collapsed": false,
     "input": [
      "for time in numpy.linspace(0, 1e-10, 20):\n",
      "    print(\"Integrating towards t = %gs\" % time)\n",
      "    sim.run_until(time)\n",
      "    tablef.save()\n",
      "print(\"Done\"),"
     ],
     "language": "python",
     "metadata": {},
     "outputs": [
      {
       "output_type": "stream",
       "stream": "stderr",
       "text": [
        "[2013-12-13 20:28:36] INFO: Create integrator sundials with kwargs={}\n"
       ]
      },
      {
       "output_type": "stream",
       "stream": "stderr",
       "text": [
        "[2013-12-13 20:28:36] DEBUG: Creating integrator with backend sundials.\n"
       ]
      },
      {
       "output_type": "stream",
       "stream": "stderr",
       "text": [
        "[2013-12-13 20:28:36] INFO: Simulation will run until t = 0 s.\n"
       ]
      },
      {
       "output_type": "stream",
       "stream": "stderr",
       "text": [
        "[2013-12-13 20:28:36] INFO: Simulation has reached time t = 0 s.\n"
       ]
      },
      {
       "output_type": "stream",
       "stream": "stdout",
       "text": [
        "Integrating towards t = 0s\n",
        "Integrating towards t = 5.26316e-12s"
       ]
      },
      {
       "output_type": "stream",
       "stream": "stderr",
       "text": [
        "[2013-12-13 20:28:36] INFO: Simulation will run until t = 5.3e-12 s.\n"
       ]
      },
      {
       "output_type": "stream",
       "stream": "stderr",
       "text": [
        "[2013-12-13 20:28:37] INFO: Simulation has reached time t = 5.3e-12 s.\n"
       ]
      },
      {
       "output_type": "stream",
       "stream": "stdout",
       "text": [
        "\n",
        "Integrating towards t = 1.05263e-11s"
       ]
      },
      {
       "output_type": "stream",
       "stream": "stderr",
       "text": [
        "[2013-12-13 20:28:37] INFO: Simulation will run until t = 1.1e-11 s.\n"
       ]
      },
      {
       "output_type": "stream",
       "stream": "stderr",
       "text": [
        "[2013-12-13 20:28:37] INFO: Simulation has reached time t = 1.1e-11 s.\n"
       ]
      },
      {
       "output_type": "stream",
       "stream": "stdout",
       "text": [
        "\n",
        "Integrating towards t = 1.57895e-11s"
       ]
      },
      {
       "output_type": "stream",
       "stream": "stderr",
       "text": [
        "[2013-12-13 20:28:37] INFO: Simulation will run until t = 1.6e-11 s.\n"
       ]
      },
      {
       "output_type": "stream",
       "stream": "stderr",
       "text": [
        "[2013-12-13 20:28:37] INFO: Simulation has reached time t = 1.6e-11 s.\n"
       ]
      },
      {
       "output_type": "stream",
       "stream": "stdout",
       "text": [
        "\n",
        "Integrating towards t = 2.10526e-11s"
       ]
      },
      {
       "output_type": "stream",
       "stream": "stderr",
       "text": [
        "[2013-12-13 20:28:37] INFO: Simulation will run until t = 2.1e-11 s.\n"
       ]
      },
      {
       "output_type": "stream",
       "stream": "stderr",
       "text": [
        "[2013-12-13 20:28:37] INFO: Simulation has reached time t = 2.1e-11 s.\n"
       ]
      },
      {
       "output_type": "stream",
       "stream": "stdout",
       "text": [
        "\n",
        "Integrating towards t = 2.63158e-11s"
       ]
      },
      {
       "output_type": "stream",
       "stream": "stderr",
       "text": [
        "[2013-12-13 20:28:37] INFO: Simulation will run until t = 2.6e-11 s.\n"
       ]
      },
      {
       "output_type": "stream",
       "stream": "stderr",
       "text": [
        "[2013-12-13 20:28:37] INFO: Simulation has reached time t = 2.6e-11 s.\n"
       ]
      },
      {
       "output_type": "stream",
       "stream": "stdout",
       "text": [
        "\n",
        "Integrating towards t = 3.15789e-11s"
       ]
      },
      {
       "output_type": "stream",
       "stream": "stderr",
       "text": [
        "[2013-12-13 20:28:37] INFO: Simulation will run until t = 3.2e-11 s.\n"
       ]
      },
      {
       "output_type": "stream",
       "stream": "stderr",
       "text": [
        "[2013-12-13 20:28:38] INFO: Simulation has reached time t = 3.2e-11 s.\n"
       ]
      },
      {
       "output_type": "stream",
       "stream": "stdout",
       "text": [
        "\n",
        "Integrating towards t = 3.68421e-11s"
       ]
      },
      {
       "output_type": "stream",
       "stream": "stderr",
       "text": [
        "[2013-12-13 20:28:38] INFO: Simulation will run until t = 3.7e-11 s.\n"
       ]
      },
      {
       "output_type": "stream",
       "stream": "stderr",
       "text": [
        "[2013-12-13 20:28:38] INFO: Simulation has reached time t = 3.7e-11 s.\n"
       ]
      },
      {
       "output_type": "stream",
       "stream": "stdout",
       "text": [
        "\n",
        "Integrating towards t = 4.21053e-11s"
       ]
      },
      {
       "output_type": "stream",
       "stream": "stderr",
       "text": [
        "[2013-12-13 20:28:38] INFO: Simulation will run until t = 4.2e-11 s.\n"
       ]
      },
      {
       "output_type": "stream",
       "stream": "stderr",
       "text": [
        "[2013-12-13 20:28:38] INFO: Simulation has reached time t = 4.2e-11 s.\n"
       ]
      },
      {
       "output_type": "stream",
       "stream": "stdout",
       "text": [
        "\n",
        "Integrating towards t = 4.73684e-11s"
       ]
      },
      {
       "output_type": "stream",
       "stream": "stderr",
       "text": [
        "[2013-12-13 20:28:38] INFO: Simulation will run until t = 4.7e-11 s.\n"
       ]
      },
      {
       "output_type": "stream",
       "stream": "stderr",
       "text": [
        "[2013-12-13 20:28:38] INFO: Simulation has reached time t = 4.7e-11 s.\n"
       ]
      },
      {
       "output_type": "stream",
       "stream": "stdout",
       "text": [
        "\n",
        "Integrating towards t = 5.26316e-11s"
       ]
      },
      {
       "output_type": "stream",
       "stream": "stderr",
       "text": [
        "[2013-12-13 20:28:38] INFO: Simulation will run until t = 5.3e-11 s.\n"
       ]
      },
      {
       "output_type": "stream",
       "stream": "stderr",
       "text": [
        "[2013-12-13 20:28:38] INFO: Simulation has reached time t = 5.3e-11 s.\n"
       ]
      },
      {
       "output_type": "stream",
       "stream": "stdout",
       "text": [
        "\n",
        "Integrating towards t = 5.78947e-11s"
       ]
      },
      {
       "output_type": "stream",
       "stream": "stderr",
       "text": [
        "[2013-12-13 20:28:38] INFO: Simulation will run until t = 5.8e-11 s.\n"
       ]
      },
      {
       "output_type": "stream",
       "stream": "stderr",
       "text": [
        "[2013-12-13 20:28:39] INFO: Simulation has reached time t = 5.8e-11 s.\n"
       ]
      },
      {
       "output_type": "stream",
       "stream": "stdout",
       "text": [
        "\n",
        "Integrating towards t = 6.31579e-11s"
       ]
      },
      {
       "output_type": "stream",
       "stream": "stderr",
       "text": [
        "[2013-12-13 20:28:39] INFO: Simulation will run until t = 6.3e-11 s.\n"
       ]
      },
      {
       "output_type": "stream",
       "stream": "stderr",
       "text": [
        "[2013-12-13 20:28:39] INFO: Simulation has reached time t = 6.3e-11 s.\n"
       ]
      },
      {
       "output_type": "stream",
       "stream": "stdout",
       "text": [
        "\n",
        "Integrating towards t = 6.84211e-11s"
       ]
      },
      {
       "output_type": "stream",
       "stream": "stderr",
       "text": [
        "[2013-12-13 20:28:39] INFO: Simulation will run until t = 6.8e-11 s.\n"
       ]
      },
      {
       "output_type": "stream",
       "stream": "stderr",
       "text": [
        "[2013-12-13 20:28:39] INFO: Simulation has reached time t = 6.8e-11 s.\n"
       ]
      },
      {
       "output_type": "stream",
       "stream": "stdout",
       "text": [
        "\n",
        "Integrating towards t = 7.36842e-11s"
       ]
      },
      {
       "output_type": "stream",
       "stream": "stderr",
       "text": [
        "[2013-12-13 20:28:39] INFO: Simulation will run until t = 7.4e-11 s.\n"
       ]
      },
      {
       "output_type": "stream",
       "stream": "stderr",
       "text": [
        "[2013-12-13 20:28:39] INFO: Simulation has reached time t = 7.4e-11 s.\n"
       ]
      },
      {
       "output_type": "stream",
       "stream": "stdout",
       "text": [
        "\n",
        "Integrating towards t = 7.89474e-11s"
       ]
      },
      {
       "output_type": "stream",
       "stream": "stderr",
       "text": [
        "[2013-12-13 20:28:39] INFO: Simulation will run until t = 7.9e-11 s.\n"
       ]
      },
      {
       "output_type": "stream",
       "stream": "stderr",
       "text": [
        "[2013-12-13 20:28:39] INFO: Simulation has reached time t = 7.9e-11 s.\n"
       ]
      },
      {
       "output_type": "stream",
       "stream": "stdout",
       "text": [
        "\n",
        "Integrating towards t = 8.42105e-11s"
       ]
      },
      {
       "output_type": "stream",
       "stream": "stderr",
       "text": [
        "[2013-12-13 20:28:40] INFO: Simulation will run until t = 8.4e-11 s.\n"
       ]
      },
      {
       "output_type": "stream",
       "stream": "stderr",
       "text": [
        "[2013-12-13 20:28:40] INFO: Simulation has reached time t = 8.4e-11 s.\n"
       ]
      },
      {
       "output_type": "stream",
       "stream": "stdout",
       "text": [
        "\n",
        "Integrating towards t = 8.94737e-11s"
       ]
      },
      {
       "output_type": "stream",
       "stream": "stderr",
       "text": [
        "[2013-12-13 20:28:40] INFO: Simulation will run until t = 8.9e-11 s.\n"
       ]
      },
      {
       "output_type": "stream",
       "stream": "stderr",
       "text": [
        "[2013-12-13 20:28:40] INFO: Simulation has reached time t = 8.9e-11 s.\n"
       ]
      },
      {
       "output_type": "stream",
       "stream": "stdout",
       "text": [
        "\n",
        "Integrating towards t = 9.47368e-11s"
       ]
      },
      {
       "output_type": "stream",
       "stream": "stderr",
       "text": [
        "[2013-12-13 20:28:40] INFO: Simulation will run until t = 9.5e-11 s.\n"
       ]
      },
      {
       "output_type": "stream",
       "stream": "stderr",
       "text": [
        "[2013-12-13 20:28:40] INFO: Simulation has reached time t = 9.5e-11 s.\n"
       ]
      },
      {
       "output_type": "stream",
       "stream": "stdout",
       "text": [
        "\n",
        "Integrating towards t = 1e-10s"
       ]
      },
      {
       "output_type": "stream",
       "stream": "stderr",
       "text": [
        "[2013-12-13 20:28:40] INFO: Simulation will run until t = 1e-10 s.\n"
       ]
      },
      {
       "output_type": "stream",
       "stream": "stderr",
       "text": [
        "[2013-12-13 20:28:40] INFO: Simulation has reached time t = 1e-10 s.\n"
       ]
      },
      {
       "output_type": "stream",
       "stream": "stdout",
       "text": [
        "\n",
        "Done"
       ]
      },
      {
       "output_type": "stream",
       "stream": "stdout",
       "text": [
        "\n"
       ]
      }
     ],
     "prompt_number": 4
    },
    {
     "cell_type": "markdown",
     "metadata": {},
     "source": [
      "Each call of ``tablef.save()`` saves the current time and spatially averaged values of the magnetisation into the data file. This will be extended to also save other fields in the future. We can inspect the data file which is just an text file:"
     ]
    },
    {
     "cell_type": "code",
     "collapsed": false,
     "input": [
      "!cat data.ndt"
     ],
     "language": "python",
     "metadata": {},
     "outputs": [
      {
       "output_type": "stream",
       "stream": "stdout",
       "text": [
        "#               time                m_x                m_y                m_z \r\n",
        "#                <s>                 <>                 <>                 <> \r\n",
        "                   0     0.707106781187                  0     0.707106781187 \r\n",
        "   5.26315789474e-12     0.660830608443     0.102431836773     0.743493357301 \r\n",
        "   1.05263157895e-11     0.598004836982     0.194848725254     0.777428610565 \r\n",
        "   1.57894736842e-11     0.521065455993     0.273289470043     0.808564099508 \r\n",
        "   2.10526315789e-11     0.433538764465     0.334626812167     0.836685564067 \r\n",
        "   2.63157894737e-11     0.339694945052      0.37687088209     0.861714300164 \r\n",
        "   3.15789473684e-11     0.244133503945     0.399330181317     0.883692656166 \r\n",
        "   3.68421052632e-11     0.151351372129     0.402612607613     0.902760357397 \r\n",
        "   4.21052631579e-11    0.0653703104842     0.388479518359     0.919126279411 \r\n",
        "   4.73684210526e-11   -0.0105541568903      0.35959226398     0.933041632879 \r\n",
        "   5.26315789474e-11   -0.0740982195129     0.319206586297     0.944777131353 \r\n",
        "   5.78947368421e-11    -0.123928180776     0.270849938647      0.95460479869 \r\n",
        "   6.31578947368e-11    -0.159658996445     0.218040440136     0.962786104814 \r\n",
        "   6.84210526316e-11    -0.181740758304     0.164042111621     0.969562727758 \r\n",
        "   7.36842105263e-11    -0.191299381121     0.111690560361     0.975152476364 \r\n",
        "   7.89473684211e-11     -0.18995487983    0.0632856033685     0.979747427225 \r\n",
        "   8.42105263158e-11    -0.179644149344    0.0205429112891     0.983514022534 \r\n",
        "   8.94736842105e-11    -0.162445813284   -0.0154117634328      0.98659422271 \r\n",
        "   9.47368421053e-11    -0.140439874093   -0.0440003858826     0.989108332559 \r\n",
        "               1e-10    -0.115587842349    -0.065128366915     0.991157148032 \r\n"
       ]
      }
     ],
     "prompt_number": 5
    },
    {
     "cell_type": "markdown",
     "metadata": {},
     "source": [
      "### High-level approach"
     ]
    },
    {
     "cell_type": "markdown",
     "metadata": {},
     "source": [
      "These commands shown above are fairly low level commands, which are wrapped up in the simulation method ``save_averages`` for end-user convenience. using the scheduler system, the above loop can be much more conveniently written as follows."
     ]
    },
    {
     "cell_type": "code",
     "collapsed": false,
     "input": [
      "sim = finmag.example.barmini()\n",
      "sim.schedule('save_averages', every=5e-12)\n",
      "sim.run_until(1e-10)"
     ],
     "language": "python",
     "metadata": {},
     "outputs": [
      {
       "output_type": "stream",
       "stream": "stderr",
       "text": [
        "[2013-12-13 20:28:41] INFO: Finmag logging output will be written to file: '/home/fangohr/hg/finmag/doc/ipython_notebooks_src/barmini.log' (any old content will be overwritten).\n"
       ]
      },
      {
       "output_type": "stream",
       "stream": "stderr",
       "text": [
        "[2013-12-13 20:28:41] DEBUG: Creating DataWriter for file 'barmini.ndt'\n"
       ]
      },
      {
       "output_type": "stream",
       "stream": "stderr",
       "text": [
        "[2013-12-13 20:28:41] INFO: Creating Sim object 'barmini' (rank=0/1).\n"
       ]
      },
      {
       "output_type": "stream",
       "stream": "stderr",
       "text": [
        "[2013-12-13 20:28:41] INFO: <Mesh of topological dimension 3 (tetrahedra) with 45 vertices and 96 cells, ordered>\n"
       ]
      },
      {
       "output_type": "stream",
       "stream": "stderr",
       "text": [
        "[2013-12-13 20:28:41] DEBUG: Creating LLG object.\n"
       ]
      },
      {
       "output_type": "stream",
       "stream": "stderr",
       "text": [
        "[2013-12-13 20:28:41] DEBUG: Creating Exchange object with method box-matrix-petsc, in Jacobian.\n"
       ]
      },
      {
       "output_type": "stream",
       "stream": "stderr",
       "text": [
        "[2013-12-13 20:28:41] DEBUG: Adding interaction <finmag.energies.exchange.Exchange object at 0x5415bd0> to simulation 'barmini'\n"
       ]
      },
      {
       "output_type": "stream",
       "stream": "stderr",
       "text": [
        "[2013-12-13 20:28:41] DEBUG: Creating Demag object with solver 'FK'.\n"
       ]
      },
      {
       "output_type": "stream",
       "stream": "stderr",
       "text": [
        "[2013-12-13 20:28:41] DEBUG: Adding interaction <finmag.energies.demag.fk_demag.FKDemag object at 0x54f3c90> to simulation 'barmini'\n"
       ]
      },
      {
       "output_type": "stream",
       "stream": "stderr",
       "text": [
        "[2013-12-13 20:28:41] DEBUG: Successfully created simulation 'barmini'\n"
       ]
      },
      {
       "output_type": "stream",
       "stream": "stderr",
       "text": [
        "[2013-12-13 20:28:41] INFO: Create integrator sundials with kwargs={}\n"
       ]
      },
      {
       "output_type": "stream",
       "stream": "stderr",
       "text": [
        "[2013-12-13 20:28:41] DEBUG: Creating integrator with backend sundials.\n"
       ]
      },
      {
       "output_type": "stream",
       "stream": "stderr",
       "text": [
        "[2013-12-13 20:28:41] INFO: Simulation will run until t = 1e-10 s.\n"
       ]
      },
      {
       "output_type": "stream",
       "stream": "stderr",
       "text": [
        "[2013-12-13 20:28:41] DEBUG: Saving data to ndt file at t=0.0 (sim.name=barmini).\n"
       ]
      },
      {
       "output_type": "stream",
       "stream": "stderr",
       "text": [
        "[2013-12-13 20:28:41] DEBUG: Saving data to ndt file at t=5e-12 (sim.name=barmini).\n"
       ]
      },
      {
       "output_type": "stream",
       "stream": "stderr",
       "text": [
        "[2013-12-13 20:28:41] DEBUG: Saving data to ndt file at t=1e-11 (sim.name=barmini).\n"
       ]
      },
      {
       "output_type": "stream",
       "stream": "stderr",
       "text": [
        "[2013-12-13 20:28:42] DEBUG: Saving data to ndt file at t=1.5e-11 (sim.name=barmini).\n"
       ]
      },
      {
       "output_type": "stream",
       "stream": "stderr",
       "text": [
        "[2013-12-13 20:28:42] DEBUG: Saving data to ndt file at t=2e-11 (sim.name=barmini).\n"
       ]
      },
      {
       "output_type": "stream",
       "stream": "stderr",
       "text": [
        "[2013-12-13 20:28:42] DEBUG: Saving data to ndt file at t=2.5e-11 (sim.name=barmini).\n"
       ]
      },
      {
       "output_type": "stream",
       "stream": "stderr",
       "text": [
        "[2013-12-13 20:28:42] DEBUG: Saving data to ndt file at t=3e-11 (sim.name=barmini).\n"
       ]
      },
      {
       "output_type": "stream",
       "stream": "stderr",
       "text": [
        "[2013-12-13 20:28:42] DEBUG: Saving data to ndt file at t=3.5e-11 (sim.name=barmini).\n"
       ]
      },
      {
       "output_type": "stream",
       "stream": "stderr",
       "text": [
        "[2013-12-13 20:28:42] DEBUG: Saving data to ndt file at t=4e-11 (sim.name=barmini).\n"
       ]
      },
      {
       "output_type": "stream",
       "stream": "stderr",
       "text": [
        "[2013-12-13 20:28:43] DEBUG: Saving data to ndt file at t=4.5e-11 (sim.name=barmini).\n"
       ]
      },
      {
       "output_type": "stream",
       "stream": "stderr",
       "text": [
        "[2013-12-13 20:28:43] DEBUG: Saving data to ndt file at t=5e-11 (sim.name=barmini).\n"
       ]
      },
      {
       "output_type": "stream",
       "stream": "stderr",
       "text": [
        "[2013-12-13 20:28:43] DEBUG: Saving data to ndt file at t=5.5e-11 (sim.name=barmini).\n"
       ]
      },
      {
       "output_type": "stream",
       "stream": "stderr",
       "text": [
        "[2013-12-13 20:28:43] DEBUG: Saving data to ndt file at t=6e-11 (sim.name=barmini).\n"
       ]
      },
      {
       "output_type": "stream",
       "stream": "stderr",
       "text": [
        "[2013-12-13 20:28:43] DEBUG: Saving data to ndt file at t=6.5e-11 (sim.name=barmini).\n"
       ]
      },
      {
       "output_type": "stream",
       "stream": "stderr",
       "text": [
        "[2013-12-13 20:28:44] DEBUG: Saving data to ndt file at t=7e-11 (sim.name=barmini).\n"
       ]
      },
      {
       "output_type": "stream",
       "stream": "stderr",
       "text": [
        "[2013-12-13 20:28:44] DEBUG: Saving data to ndt file at t=7.5e-11 (sim.name=barmini).\n"
       ]
      },
      {
       "output_type": "stream",
       "stream": "stderr",
       "text": [
        "[2013-12-13 20:28:44] DEBUG: Saving data to ndt file at t=8e-11 (sim.name=barmini).\n"
       ]
      },
      {
       "output_type": "stream",
       "stream": "stderr",
       "text": [
        "[2013-12-13 20:28:44] DEBUG: Saving data to ndt file at t=8.5e-11 (sim.name=barmini).\n"
       ]
      },
      {
       "output_type": "stream",
       "stream": "stderr",
       "text": [
        "[2013-12-13 20:28:44] DEBUG: Saving data to ndt file at t=9e-11 (sim.name=barmini).\n"
       ]
      },
      {
       "output_type": "stream",
       "stream": "stderr",
       "text": [
        "[2013-12-13 20:28:44] DEBUG: Saving data to ndt file at t=9.5e-11 (sim.name=barmini).\n"
       ]
      },
      {
       "output_type": "stream",
       "stream": "stderr",
       "text": [
        "[2013-12-13 20:28:45] DEBUG: Saving data to ndt file at t=1e-10 (sim.name=barmini).\n"
       ]
      },
      {
       "output_type": "stream",
       "stream": "stderr",
       "text": [
        "[2013-12-13 20:28:45] INFO: Simulation has reached time t = 1e-10 s.\n"
       ]
      }
     ],
     "prompt_number": 6
    },
    {
     "cell_type": "markdown",
     "metadata": {},
     "source": [
      "The data is automatically saved to a `.ndt` file with the same name as the simulation (`barmini` in this case). Note that this file contains many more columns, which correspond to the average energy and field values of the various interactions (in this case the exchange and demag interactions)."
     ]
    },
    {
     "cell_type": "code",
     "collapsed": false,
     "input": [
      "!head -n4 barmini.ndt"
     ],
     "language": "python",
     "metadata": {},
     "outputs": [
      {
       "output_type": "stream",
       "stream": "stdout",
       "text": [
        "#               time            E_Demag         E_Exchange            E_total          H_Demag_x          H_Demag_y          H_Demag_z       H_Exchange_x       H_Exchange_y       H_Exchange_z          H_total_x          H_total_y          H_total_z       last_step_dt                m_x                m_y                m_z              steps \r\n",
        "#                <s>                <J>                <J>                <J>              <A/m>              <A/m>              <A/m>              <A/m>              <A/m>              <A/m>              <A/m>              <A/m>              <A/m>                <1>                 <>                 <>                 <>                <1> \r\n",
        "                   0  9.99434122264e-21                  0  9.99434122264e-21     -210808.743122     -19907.0801882     -70862.1056989 -1.89115971695e-09                  0 -1.89115971695e-09     -210808.743122     -19907.0801882     -70862.1056989                  0     0.707106781187                  0     0.707106781187                  0 \r\n",
        "               5e-12  9.41792836501e-21  1.32227807727e-23  9.43115114578e-21     -200306.005196     -47503.7232414     -74204.5088012     -10722.4849262       16686.963442      7462.36856735     -211028.490122     -30816.7597994     -66742.1402339  2.15106906687e-13     0.663552369781    0.0975125150885      0.74172892704                 70 \r\n"
       ]
      }
     ],
     "prompt_number": 7
    },
    {
     "cell_type": "markdown",
     "metadata": {},
     "source": [
      "The most convenient way of reading back this data is by using the `Tablereader`, which is described in the next section."
     ]
    },
    {
     "cell_type": "markdown",
     "metadata": {},
     "source": [
      "## Reading and processing data"
     ]
    },
    {
     "cell_type": "code",
     "collapsed": false,
     "input": [
      "data = finmag.util.fileio.Tablereader('data.ndt')"
     ],
     "language": "python",
     "metadata": {},
     "outputs": [],
     "prompt_number": 8
    },
    {
     "cell_type": "code",
     "collapsed": false,
     "input": [
      "%matplotlib inline\n",
      "import pylab\n",
      "pylab.plot(data['time'], data['m_y'], 'o-', label='m_x')\n",
      "pylab.plot(data['time'], data['m_x'], '^-', label='m_y')\n",
      "pylab.plot(data['time'], data['m_z'], '+-', label='m_z')\n",
      "pylab.xlabel('time [s]')\n",
      "pylab.ylabel('magnetisation/Ms') \n",
      "pylab.legend()"
     ],
     "language": "python",
     "metadata": {},
     "outputs": [
      {
       "metadata": {},
       "output_type": "pyout",
       "prompt_number": 9,
       "text": [
        "<matplotlib.legend.Legend at 0x5707110>"
       ]
      },
      {
       "output_type": "stream",
       "stream": "stderr",
       "text": [
        "/usr/local/lib/python2.7/dist-packages/matplotlib/figure.py:1595: UserWarning: This figure includes Axes that are not compatible with tight_layout, so its results might be incorrect.\n",
        "  warnings.warn(\"This figure includes Axes that are not \"\n"
       ]
      },
      {
       "metadata": {},
       "output_type": "display_data",
       "png": "[encoded data removed]",
       "text": [
        "<matplotlib.figure.Figure at 0x55bf310>"
       ]
      }
     ],
     "prompt_number": 9
    },
    {
     "cell_type": "markdown",
     "metadata": {},
     "source": [
      "It is possible to read multiple columns at once by providing multiple field names (which returns a 2-dimensional numpy array with as many columns). We use this to illustrate an alternative way of plotting the above data."
     ]
    },
    {
     "cell_type": "code",
     "collapsed": false,
     "input": [
      "import numpy\n",
      "t = data['time']\n",
      "mx, my, mz = data['m_x', 'm_y', 'm_z']\n",
      "pylab.plot(t, mx, '^-')\n",
      "pylab.plot(t, my, 'o-')\n",
      "pylab.plot(t, mz, '+-')"
     ],
     "language": "python",
     "metadata": {},
     "outputs": [
      {
       "metadata": {},
       "output_type": "pyout",
       "prompt_number": 10,
       "text": [
        "[<matplotlib.lines.Line2D at 0x59a5ed0>]"
       ]
      },
      {
       "metadata": {},
       "output_type": "display_data",
       "png": "[encoded data removed]",
       "text": [
        "<matplotlib.figure.Figure at 0x55c1590>"
       ]
      }
     ],
     "prompt_number": 10
    },
    {
     "cell_type": "markdown",
     "metadata": {},
     "source": [
      "The ``Reader`` object has an extra ``read()`` method which reads the file again. This can be used if the data has changed:\n"
     ]
    },
    {
     "cell_type": "code",
     "collapsed": false,
     "input": [
      "lastt = data['time'][-1] #last saved time in file\n",
      "print(lastt)"
     ],
     "language": "python",
     "metadata": {},
     "outputs": [
      {
       "output_type": "stream",
       "stream": "stdout",
       "text": [
        "1e-10\n"
       ]
      }
     ],
     "prompt_number": 11
    },
    {
     "cell_type": "code",
     "collapsed": false,
     "input": [
      "sim.run_until(lastt + 15e-12)\n",
      "tablef.save()"
     ],
     "language": "python",
     "metadata": {},
     "outputs": [
      {
       "output_type": "stream",
       "stream": "stderr",
       "text": [
        "[2013-12-13 20:34:31] INFO: Simulation will run until t = 1.2e-10 s.\n"
       ]
      },
      {
       "output_type": "stream",
       "stream": "stderr",
       "text": [
        "[2013-12-13 20:34:31] DEBUG: Saving data to ndt file at t=1.1e-10 (sim.name=barmini).\n"
       ]
      },
      {
       "output_type": "stream",
       "stream": "stderr",
       "text": [
        "[2013-12-13 20:34:31] DEBUG: Saving data to ndt file at t=1.15e-10 (sim.name=barmini).\n"
       ]
      },
      {
       "output_type": "stream",
       "stream": "stderr",
       "text": [
        "[2013-12-13 20:34:31] INFO: Simulation has reached time t = 1.1e-10 s.\n"
       ]
      }
     ],
     "prompt_number": 15
    },
    {
     "cell_type": "code",
     "collapsed": false,
     "input": [
      "data['time'][-1]"
     ],
     "language": "python",
     "metadata": {},
     "outputs": [
      {
       "metadata": {},
       "output_type": "pyout",
       "prompt_number": 16,
       "text": [
        "1e-10"
       ]
      }
     ],
     "prompt_number": 16
    },
    {
     "cell_type": "code",
     "collapsed": false,
     "input": [
      "data.reload()\n",
      "data.timesteps()[-1]"
     ],
     "language": "python",
     "metadata": {},
     "outputs": [
      {
       "metadata": {},
       "output_type": "pyout",
       "prompt_number": 17,
       "text": [
        "1e-10"
       ]
      }
     ],
     "prompt_number": 17
    },
    {
     "cell_type": "code",
     "collapsed": false,
     "input": [
      "sim.t"
     ],
     "language": "python",
     "metadata": {},
     "outputs": [
      {
       "metadata": {},
       "output_type": "pyout",
       "prompt_number": 19,
       "text": [
        "1.1499999999999996e-10"
       ]
      }
     ],
     "prompt_number": 19
    },
    {
     "cell_type": "markdown",
     "metadata": {},
     "source": [
      "XXX Something not working here. Not saving the rigth time? Hans, 13 DEc 2013"
     ]
    },
    {
     "cell_type": "code",
     "collapsed": false,
     "input": [],
     "language": "python",
     "metadata": {},
     "outputs": []
    }
   ],
   "metadata": {}
  }
 ]
}