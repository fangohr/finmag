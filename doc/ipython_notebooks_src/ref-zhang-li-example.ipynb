{
 "metadata": {
  "name": ""
 },
 "nbformat": 3,
 "nbformat_minor": 0,
 "worksheets": [
  {
   "cells": [
    {
     "cell_type": "heading",
     "level": 2,
     "metadata": {},
     "source": [
      "Running simulation with spin-transfer torque (STT)"
     ]
    },
    {
     "cell_type": "markdown",
     "metadata": {},
     "source": [
      "The implemented equation in finmag with STT is [1,2],\n",
      "\n",
      "\\begin{equation}\n",
      "\\frac{\\partial \\vec{m}}{\\partial t} = - \\gamma \\vec{m} \\times \\vec{H} + \\alpha \\vec{m} \\times  \\frac{\\partial \\vec{m}}{\\partial t}  + u (\\vec{j}_s \\cdot \\nabla) \\vec{m} - \\beta u [\\vec{m}\\times (\\vec{j}_s \\cdot \\nabla)\\vec{m}]\n",
      "\\end{equation}\n",
      "\n",
      "where $\\vec{j}_s$ is the current density. $u$ is the material parameter, and in default,\n",
      "\n",
      "$$u=u_{ZL}=\\frac{u_0}{1+\\beta^2}$$\n",
      "\n",
      "There is an option \"using_u0\" in sim.set_zhangli method, u=u0 if \"using_u0 = True\" and\n",
      "\n",
      "$$u_0=\\frac{g \\mu_B P}{2 |e| M_s}=\\frac{g \\mu_B P a^3}{2 |e| \\mu_s}$$\n",
      "\n",
      "where $\\mu_B=|e|\\hbar/(2m)$ is the Bohr magneton, P is the polarization rate, e is the electron charge.\n",
      "\n",
      "\n",
      "Notice that $\\partial_x \\vec{m} \\cdot \\vec{m}=0$ so $u_0 (\\vec{j}_s \\cdot \\nabla) \\vec{m}=  - u_0 \\vec{m}\\times[\\vec{m}\\times (\\vec{j}_s \\cdot \\nabla)\\vec{m}]$. Besides,\n",
      "we can change the equation to atomistic one by introducing $\\vec{s}=-\\vec{S}$ where $\\vec{S}$ is the local spin such that\n",
      "\n",
      "\n",
      "$$\\vec{M}=-\\frac{g \\mu_B}{a^3}\\vec{S} =\\frac{g \\mu_B}{a^3}\\vec{s}$$\n",
      "\n",
      "\n",
      "so $u_0=p a^3/(2|e|s)$, furthermore,\n",
      "\n",
      "$$\n",
      "   \\frac{\\partial \\vec{s}}{\\partial t} = - \\gamma \\vec{s} \\times \\vec{H} + \\frac{\\alpha}{s} \\vec{s} \\times  \\frac{\\partial \\vec{s}}{\\partial t}   + \\frac{p a^3}{2|e|s} (\\vec{j}_s \\cdot \\nabla) \\vec{s} -  \\frac{p a^3 \\beta}{2|e|s^2} [\\vec{s}\\times (\\vec{j}_s \\cdot \\nabla)\\vec{s}]\n",
      "$$\n",
      "\n",
      "\n",
      "\n",
      "\n",
      "\n",
      "[1] S. Zhang and Z. Li, Roles of nonequilibrium conduction electrons on the magnetization dynamics of ferromagnets, Phys. Rev. Lett. 93, 127204 (2004).\n",
      "\n",
      "[2] A. Thiaville, Y. Nakatani, J. Miltat and Y. Suzuki, Micromagnetic understanding of current-driven domain wall motion in patterned nanowires, Europhys. Lett. 69, 990 (2005).\n",
      "\n"
     ]
    },
    {
     "cell_type": "markdown",
     "metadata": {},
     "source": [
      "We give an short example on how to use the spin-transfer torque in finmag, first import the related python modules and create a 1d mesh,"
     ]
    },
    {
     "cell_type": "code",
     "collapsed": false,
     "input": [
      "# IPYTHON_TEST_IGNORE_OUTPUT\n",
      "import dolfin as df\n",
      "import numpy as np\n",
      "from finmag import Simulation as Sim\n",
      "from finmag.energies import Exchange, UniaxialAnisotropy\n",
      "from finmag.util.helpers import set_logging_level\n",
      "set_logging_level(\"INFO\")\n",
      "\n",
      "mesh=df.IntervalMesh(50,0,100)"
     ],
     "language": "python",
     "metadata": {},
     "outputs": [],
     "prompt_number": 37
    },
    {
     "cell_type": "markdown",
     "metadata": {},
     "source": [
      "We define a function to generate the 1d domain wall profile,"
     ]
    },
    {
     "cell_type": "code",
     "collapsed": false,
     "input": [
      "def init_m(pos):\n",
      "    x=pos[0]\n",
      "\n",
      "    delta = np.sqrt(13e-12/520e3)*1e9\n",
      "    sx = -np.tanh((x-50)/delta)\n",
      "    sy = 1/np.cosh((x-50)/delta)\n",
      "    return (sx,sy,0)"
     ],
     "language": "python",
     "metadata": {},
     "outputs": [],
     "prompt_number": 38
    },
    {
     "cell_type": "markdown",
     "metadata": {},
     "source": [
      "Similarly, we define a function for the current density profile, here the current density is uniformly distributed along x direction,"
     ]
    },
    {
     "cell_type": "code",
     "collapsed": false,
     "input": [
      "def init_J(pos):\n",
      "    return (1e12,0,0)"
     ],
     "language": "python",
     "metadata": {},
     "outputs": [],
     "prompt_number": 39
    },
    {
     "cell_type": "markdown",
     "metadata": {},
     "source": [
      "We create a simulation instance and considering the exchange and anisotropy interactions, "
     ]
    },
    {
     "cell_type": "code",
     "collapsed": false,
     "input": [
      "# IPYTHON_TEST_IGNORE_OUTPUT\n",
      "sim = Sim(mesh, Ms=8.6e5, unit_length=1e-9)\n",
      "\n",
      "sim.set_m(init_m)\n",
      "    \n",
      "sim.add(UniaxialAnisotropy(K1=520e3, axis=[1, 0, 0]))\n",
      "sim.add(Exchange(A=13e-12))\n",
      "sim.alpha = 0.01"
     ],
     "language": "python",
     "metadata": {},
     "outputs": [
      {
       "output_type": "stream",
       "stream": "stderr",
       "text": [
        "[2013-12-04 15:19:59] INFO: Finmag logging output will be written to file: '/home/ww1g11/Softwares/finmag/doc/ipython_notebooks_src/unnamed.log' (any old content will be overwritten).\n"
       ]
      },
      {
       "output_type": "stream",
       "stream": "stderr",
       "text": [
        "[2013-12-04 15:19:59] INFO: Creating Sim object 'unnamed' (rank=0/1).\n"
       ]
      },
      {
       "output_type": "stream",
       "stream": "stderr",
       "text": [
        "[2013-12-04 15:19:59] INFO: <Mesh of topological dimension 1 (intervals) with 51 vertices and 50 cells, ordered>\n"
       ]
      }
     ],
     "prompt_number": 40
    },
    {
     "cell_type": "markdown",
     "metadata": {},
     "source": [
      "We using the spin-transfer torque with parameters polarisation=0.5 and beta=0.01"
     ]
    },
    {
     "cell_type": "code",
     "collapsed": false,
     "input": [
      "sim.set_zhangli(init_J, 0.5, 0.01)"
     ],
     "language": "python",
     "metadata": {},
     "outputs": [],
     "prompt_number": 41
    },
    {
     "cell_type": "markdown",
     "metadata": {},
     "source": [
      "We run the simulation for 1e-10 s,"
     ]
    },
    {
     "cell_type": "code",
     "collapsed": false,
     "input": [
      "# IPYTHON_TEST_IGNORE_OUTPUT\n",
      "m0 = sim.m.copy()\n",
      "sim.run_until(1e-10)\n",
      "m1 = sim.m.copy()"
     ],
     "language": "python",
     "metadata": {},
     "outputs": [
      {
       "output_type": "stream",
       "stream": "stderr",
       "text": [
        "[2013-12-04 15:19:59] INFO: Create integrator sundials with kwargs={}\n"
       ]
      },
      {
       "output_type": "stream",
       "stream": "stderr",
       "text": [
        "[2013-12-04 15:19:59] INFO: Simulation will run until t = 1e-10 s.\n"
       ]
      },
      {
       "output_type": "stream",
       "stream": "stderr",
       "text": [
        "[2013-12-04 15:20:00] INFO: Simulation has reached time t = 1e-10 s.\n"
       ]
      }
     ],
     "prompt_number": 42
    },
    {
     "cell_type": "markdown",
     "metadata": {},
     "source": [
      "And finially, we plot the domain wall to see whether it moves or not,"
     ]
    },
    {
     "cell_type": "code",
     "collapsed": false,
     "input": [
      "# IPYTHON_TEST_IGNORE_OUTPUT\n",
      "m0.shape=(3,-1)\n",
      "m1.shape=(3,-1)\n",
      "\n",
      "plot(m0[0], '.-', label='m_x_t=0')\n",
      "plot(m0[1], '.-', label='m_y_t=0')\n",
      "plot(m1[0], '^-', label='m_x_1e-10')\n",
      "plot(m1[1], '^-', label='m_y_t=1e-10')\n",
      "xlabel('x (nm)')\n",
      "ylabel('m')\n",
      "legend()"
     ],
     "language": "python",
     "metadata": {},
     "outputs": [
      {
       "metadata": {},
       "output_type": "pyout",
       "prompt_number": 43,
       "text": [
        "<matplotlib.legend.Legend at 0x547df90>"
       ]
      },
      {
       "metadata": {},
       "output_type": "display_data",
       "png": "[encoded data removed]",
       "text": [
        "<matplotlib.figure.Figure at 0x4989fd0>"
       ]
      }
     ],
     "prompt_number": 43
    }
   ],
   "metadata": {}
  }
 ]
}