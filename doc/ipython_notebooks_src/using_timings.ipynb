{
 "metadata": {
  "name": "using_timings"
 },
 "nbformat": 3,
 "nbformat_minor": 0,
 "worksheets": [
  {
   "cells": [
    {
     "cell_type": "heading",
     "level": 1,
     "metadata": {},
     "source": [
      "How to see where Time is spent in Finmag Simulations"
     ]
    },
    {
     "cell_type": "heading",
     "level": 2,
     "metadata": {},
     "source": [
      "Step 1. Let finmag run"
     ]
    },
    {
     "cell_type": "markdown",
     "metadata": {},
     "source": [
      "Let's run a sample simulation just to let finmag do some work."
     ]
    },
    {
     "cell_type": "code",
     "collapsed": false,
     "input": [
      "import dolfin as df\n",
      "import logging\n",
      "from finmag import Simulation\n",
      "from finmag.energies import Zeeman, Exchange, UniaxialAnisotropy, Demag\n",
      "\n",
      "log = logging.getLogger(name='finmag')\n",
      "log.setLevel(logging.ERROR)\n",
      "\n",
      "mesh = df.Box(0, 0, 0, 100, 10, 10, 50, 5, 5)\n",
      "\n",
      "Ms = 8.6e5\n",
      "A = 13.0e-12\n",
      "H = 1.1 * Ms\n",
      "K1 = 4e3\n",
      "\n",
      "sim = Simulation(mesh, Ms, unit_length=1)\n",
      "sim.set_m((1, 0, 0))\n",
      "sim.add(Exchange(A))\n",
      "sim.add(Demag())\n",
      "sim.add(Zeeman((0, 0, H)))\n",
      "sim.add(UniaxialAnisotropy(K1, (0, 1, 0)))\n",
      "sim.run_until(1e-9)\n",
      "\n",
      "print sim.m_average"
     ],
     "language": "python",
     "metadata": {},
     "outputs": [
      {
       "output_type": "stream",
       "stream": "stdout",
       "text": [
        "[  1.56534232e-04   6.17778204e-04   9.93204268e-01]\n"
       ]
      }
     ],
     "prompt_number": 4
    },
    {
     "cell_type": "heading",
     "level": 2,
     "metadata": {},
     "source": [
      "Step 2. Have a look at the timings"
     ]
    },
    {
     "cell_type": "markdown",
     "metadata": {},
     "source": [
      "finmag will keep track of the runtimes behind the scenes. The information is available in the timings object that lives in *finmag.util.timings* and can be printed using the *report* method. It will show the methods or functions that took the most time to execute. The maximum number of items reported can be set by passing an integer value to the *report* method."
     ]
    },
    {
     "cell_type": "code",
     "collapsed": false,
     "input": [
      "from finmag.util.timings import timings\n",
      "print timings.report(20)"
     ],
     "language": "python",
     "metadata": {},
     "outputs": [
      {
       "output_type": "stream",
       "stream": "stdout",
       "text": [
        "Timings: Showing the up to 20 slowest items.\n",
        "\n",
        "+--------------------+------------------------------+--------+------------+--------------+\n",
        "| class/module       | name                         |  calls |  total (s) | per call (s) |\n",
        "+--------------------+------------------------------+--------+------------+--------------+\n",
        "| FemBemFKSolver     | 1st linear solve             |    535 |       2.46 |       0.0046 |\n",
        "| FemBemFKSolver     | Compute phi2 inside          |    535 |       1.56 |      0.00292 |\n",
        "| LLG                | sundials_jtimes              |    773 |      0.971 |      0.00126 |\n",
        "| FemBemFKSolver     | Compute Phi2                 |    535 |      0.616 |      0.00115 |\n",
        "| Exchange           | compute_field                |   1308 |      0.549 |      0.00042 |\n",
        "| FemBemFKSolver     | 2nd linear solve             |    535 |      0.509 |     0.000952 |\n",
        "| UniaxialAnisotropy | compute_field                |   1308 |      0.466 |     0.000356 |\n",
        "| FemBemFKSolver     | build BEM                    |      1 |      0.343 |        0.343 |\n",
        "| LLG                | solve                        |    535 |      0.282 |     0.000527 |\n",
        "| Exchange           | setup                        |      1 |      0.165 |        0.165 |\n",
        "| UniaxialAnisotropy | setup                        |      1 |      0.161 |        0.161 |\n",
        "| FemBemFKSolver     | __compute_field_magpar       |    535 |      0.122 |     0.000229 |\n",
        "| FemBemFKSolver     | phi1 - matrix product        |    535 |      0.111 |     0.000207 |\n",
        "| FemBemFKSolver     | FKSolver init                |      1 |     0.0769 |       0.0769 |\n",
        "| Simulation         | __init__                     |      1 |     0.0549 |       0.0549 |\n",
        "| FemBemFKSolver     | Restrict phi1 to boundary    |    535 |     0.0471 |      8.8e-05 |\n",
        "| FemBemFKSolver     | Add phi1 and phi2            |    535 |      0.044 |     8.23e-05 |\n",
        "| FemBemFKSolver     | phi2 <- Phi2                 |    535 |     0.0407 |     7.62e-05 |\n",
        "| LLG                | __init__                     |      1 |    0.00538 |      0.00538 |\n",
        "| FemBemFKSolver     | phi1 - solve                 |    535 |    0.00171 |      3.2e-06 |\n",
        "+--------------------+------------------------------+--------+------------+--------------+\n",
        "\n",
        "Timings grouped by class or module.\n",
        "\n",
        "+--------------------+----------+------+\n",
        "| class/module       | time (s) |    % |\n",
        "+--------------------+----------+------+\n",
        "| FemBemFKSolver     |     5.94 |   65 |\n",
        "| LLG                |     1.26 |   14 |\n",
        "| Exchange           |    0.714 |  7.8 |\n",
        "| UniaxialAnisotropy |    0.627 |  6.9 |\n",
        "| untimed            |    0.523 |  5.7 |\n",
        "| Simulation         |   0.0549 |  0.6 |\n",
        "+--------------------+----------+------+\n",
        "\n",
        "Total wall time 9.115 s.\n",
        "\n"
       ]
      }
     ],
     "prompt_number": 2
    },
    {
     "cell_type": "heading",
     "level": 2,
     "metadata": {},
     "source": [
      "Bonus. Make a pretty picture"
     ]
    },
    {
     "cell_type": "markdown",
     "metadata": {},
     "source": [
      "The data is best visualised using a pie chart."
     ]
    },
    {
     "cell_type": "code",
     "collapsed": false,
     "input": [
      "import matplotlib.pyplot as plt\n",
      "groups, times, shares = zip(* timings.grouped_timings())\n",
      "plt.pie(shares, labels=groups)"
     ],
     "language": "python",
     "metadata": {},
     "outputs": [
      {
       "output_type": "pyout",
       "prompt_number": 3,
       "text": [
        "([<matplotlib.patches.Wedge at 0x56f23d0>,\n",
        "  <matplotlib.patches.Wedge at 0x56f2850>,\n",
        "  <matplotlib.patches.Wedge at 0x56f2dd0>,\n",
        "  <matplotlib.patches.Wedge at 0x56f2910>,\n",
        "  <matplotlib.patches.Wedge at 0x56f4810>,\n",
        "  <matplotlib.patches.Wedge at 0x56f4d10>],\n",
        " [<matplotlib.text.Text at 0x56f2790>,\n",
        "  <matplotlib.text.Text at 0x56f2d10>,\n",
        "  <matplotlib.text.Text at 0x56f4250>,\n",
        "  <matplotlib.text.Text at 0x56f4750>,\n",
        "  <matplotlib.text.Text at 0x56f4c50>,\n",
        "  <matplotlib.text.Text at 0x56f8190>])"
       ]
      },
      {
       "output_type": "display_data",
       "png": "[encoded data removed]"
      }
     ],
     "prompt_number": 3
    },
    {
     "cell_type": "heading",
     "level": 3,
     "metadata": {},
     "source": [
      "A word of caution to the users of this ipython notebook"
     ]
    },
    {
     "cell_type": "markdown",
     "metadata": {},
     "source": [
      "The timings code takes a final look on the clock when the *report* method is called. If there is a long delay between the moment you run the simulation and the moment you ask for the report, the relative timings will be meaningless because the delay is added to the total runtime."
     ]
    }
   ],
   "metadata": {}
  }
 ]
}