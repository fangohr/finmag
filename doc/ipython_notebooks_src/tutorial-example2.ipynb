{
 "metadata": {
  "name": "tutorial-example2"
 },
 "nbformat": 3,
 "nbformat_minor": 0,
 "worksheets": [
  {
   "cells": [
    {
     "cell_type": "heading",
     "level": 2,
     "metadata": {},
     "source": [
      "Tutorial example 2: magnetisation dynamics in Permalloy bar"
     ]
    },
    {
     "cell_type": "markdown",
     "metadata": {},
     "source": [
      "Before we can run a simulation, we need to create a mesh. We use the dolfin library to do this, which has an inbuilt function ``Box`` for \n",
      "creating cuboidal meshes. "
     ]
    },
    {
     "cell_type": "code",
     "collapsed": false,
     "input": [
      "import dolfin as df\n",
      "xmin, ymin, zmin = 0, 0, 0      # one corner of cuboid\n",
      "xmax, ymax, zmax = 30, 30, 100  # other corner of cuboid\n",
      "nx, ny, nz = 15, 15, 50         # number of subdivisions (use ~2nm edgelength)\n",
      "mesh = df.Box(xmin, ymin, zmin, xmax, ymax, zmax, nx, ny, nz)"
     ],
     "language": "python",
     "metadata": {},
     "outputs": [],
     "prompt_number": 4
    },
    {
     "cell_type": "markdown",
     "metadata": {},
     "source": [
      "The ``mesh`` object we obtain can provide some information about itself, for example by printing it:\n"
     ]
    },
    {
     "cell_type": "code",
     "collapsed": false,
     "input": [
      "print(mesh)"
     ],
     "language": "python",
     "metadata": {},
     "outputs": [
      {
       "output_type": "stream",
       "stream": "stdout",
       "text": [
        "<Mesh of topological dimension 3 (tetrahedra) with 13056 vertices and 67500 cells, ordered>\n"
       ]
      }
     ],
     "prompt_number": 5
    },
    {
     "cell_type": "markdown",
     "metadata": {},
     "source": [
      "Or we can use a helper function from the finmag library to obtain some more detailed information:"
     ]
    },
    {
     "cell_type": "code",
     "collapsed": false,
     "input": [
      "import finmag\n",
      "print(finmag.util.meshes.mesh_info(mesh))"
     ],
     "language": "python",
     "metadata": {},
     "outputs": [
      {
       "output_type": "stream",
       "stream": "stdout",
       "text": [
        "===== Mesh info: ==============================\n",
        " 67500 cells (= volume elements)\n",
        "138450 facets\n",
        "  6900 surface facets\n",
        "131550 interior facets\n",
        " 84005 edges\n",
        " 13056 vertices\n",
        "\n",
        "===== Distribution of edge lengths: ===========\n",
        "2.000 \n",
        "2.073 **********************************************************************\n",
        "2.146 \n",
        "2.220 \n",
        "2.293 \n",
        "2.366 \n",
        "2.439 \n",
        "2.512 \n",
        "2.586 \n",
        "2.659 \n",
        "2.732 \n",
        "2.805 \n",
        "2.878 *******************************************************************\n",
        "2.952 \n",
        "3.025 \n",
        "3.098 \n",
        "3.171 \n",
        "3.244 \n",
        "3.318 \n",
        "3.391 \n",
        "3.464 *********************\n",
        "\n"
       ]
      }
     ],
     "prompt_number": 6
    },
    {
     "cell_type": "markdown",
     "metadata": {},
     "source": [
      "To proceed with the micromagnetic simulation, we need to create a simulation object. This needs to be given the mesh, the saturation magnetisation of the system (here a constant $M_s = 0.86\\cdot 10^6\\,\\mathrm{A/m}$, and a number ``unit_length`` which defines what the spacing of 1.0 in the mesh corresponds to in reality (we choose nanometres here):"
     ]
    },
    {
     "cell_type": "code",
     "collapsed": false,
     "input": [
      "sim = finmag.Simulation(mesh, Ms=0.86e6, unit_length=1e-9)"
     ],
     "language": "python",
     "metadata": {},
     "outputs": [
      {
       "output_type": "stream",
       "stream": "stderr",
       "text": [
        "[10:00:25] INFO: Creating Sim object (rank=0/1) [Fri Nov 16 10:00:25 2012].\n"
       ]
      },
      {
       "output_type": "stream",
       "stream": "stderr",
       "text": [
        "[10:00:25] INFO: <Mesh of topological dimension 3 (tetrahedra) with 13056 vertices and 67500 cells, ordered>\n"
       ]
      },
      {
       "output_type": "stream",
       "stream": "stderr",
       "text": [
        "[10:00:25] DEBUG: Creating LLG object.\n"
       ]
      }
     ],
     "prompt_number": 4
    },
    {
     "cell_type": "markdown",
     "metadata": {},
     "source": [
      "More content to follow ... (HF)"
     ]
    },
    {
     "cell_type": "code",
     "collapsed": false,
     "input": [
      "\n",
      "import os\n",
      "import logging\n",
      "import numpy as np\n",
      "#import dolfin as df\n",
      "#import progressbar as pb\n",
      "import finmag\n",
      "#from finmag.energies import Exchange, Demag\n",
      "#from finmag.util.meshes import from_geofile, mesh_volume\n",
      "\n",
      "sim = finmag.sim_with(mesh, Ms=0.86e6, alpha=0.5, unit_length=1e-9, A=13e-12, m_init=(1, 0, 1))\n",
      "\n",
      "fh = open(os.path.join(\"averages.txt\"), \"w\")\n",
      "fe = open(os.path.join(\"energies.txt\"), \"w\")\n",
      "\n",
      "#times = np.linspace(0, 3.0e-10, 60 + 1)\n",
      "times = np.linspace(0, 3.0e-11, 6 + 1)\n",
      "for counter, t in enumerate(times):\n",
      "        print(\"In iteration {} at time {}\".format(counter,t))\n",
      "        # Integrate\n",
      "        sim.run_until(t)\n",
      "\n",
      "        # Save averages to file\n",
      "        mx, my, mz = sim.llg.m_average\n",
      "        fh.write(str(t) + \" \" + str(mx) + \" \" + str(my) + \" \" + str(mz) + \"\\n\")\n",
      "\n",
      "        # Energies\n",
      "        #E_e = exchange.compute_energy()\n",
      "        #E_d = demag.compute_energy()\n",
      "        #fe.write(str(E_e) + \" \" + str(E_d) + \"\\n\")\n",
      "\n",
      "        # Energy densities\n",
      "        #if counter == 10:\n",
      "            #exch_energy = exchange.energy_density_function()\n",
      "            #demag_energy = demag.demag.energy_density_function()\n",
      "            #finmag_exch, finmag_demag = [], []\n",
      "            #R = range(100)\n",
      "            #for i in R:\n",
      "            #    finmag_exch.append(exch_energy([15, 15, i]))\n",
      "            #    finmag_demag.append(demag_energy([15, 15, i]))\n",
      "            # Store data\n",
      "            #np.save(os.path.join(\"finmag_exch_density.npy\"), np.array(finmag_exch))\n",
      "            #np.save(os.path.join(\"finmag_demag_density.npy\"), np.array(finmag_demag))\n",
      "\n",
      "fh.close()\n",
      "fe.close()\n",
      "print(\"Done\")\n"
     ],
     "language": "python",
     "metadata": {},
     "outputs": [
      {
       "output_type": "stream",
       "stream": "stderr",
       "text": [
        "[12:45:05] INFO: Creating Sim object (rank=0/1) [Fri Nov 16 12:45:05 2012].\n"
       ]
      },
      {
       "output_type": "stream",
       "stream": "stderr",
       "text": [
        "[12:45:05] INFO: <Mesh of topological dimension 3 (tetrahedra) with 13056 vertices and 67500 cells, ordered>\n"
       ]
      },
      {
       "output_type": "stream",
       "stream": "stderr",
       "text": [
        "[12:45:05] DEBUG: Creating LLG object.\n"
       ]
      },
      {
       "output_type": "stream",
       "stream": "stderr",
       "text": [
        "[12:45:05] DEBUG: Creating Exchange object with method box-matrix-petsc, in Jacobian.\n"
       ]
      },
      {
       "output_type": "stream",
       "stream": "stderr",
       "text": [
        "[12:45:07] DEBUG: Creating Demag object with FK solver.\n"
       ]
      },
      {
       "output_type": "stream",
       "stream": "stderr",
       "text": [
        "[12:45:09] DEBUG: Demag: Poisson solver parameters.\n",
        "    {'maximum_iterations': 10000, 'divergence_limit': 10000.0, 'relative_tolerance': 1e-06, 'gmres':\n",
        "    {'restart': 30}, 'preconditioner': {'shift_nonzero': 0.0, 'reuse': False,\n",
        "    'same_nonzero_pattern': False, 'ilu': {'fill_level': 0}, 'schwarz': {'overlap': 1}, 'report':\n",
        "    False}, 'error_on_nonconvergence': True, 'monitor_convergence': False, 'nonzero_initial_guess':\n",
        "    False, 'report': True, 'absolute_tolerance': 1e-15}\n"
       ]
      },
      {
       "output_type": "stream",
       "stream": "stderr",
       "text": [
        "[12:45:09] DEBUG: Demag: Laplace solver parameters.\n",
        "    {'maximum_iterations': 10000, 'divergence_limit': 10000.0, 'relative_tolerance': 1e-06, 'gmres':\n",
        "    {'restart': 30}, 'preconditioner': {'shift_nonzero': 0.0, 'reuse': False,\n",
        "    'same_nonzero_pattern': True, 'ilu': {'fill_level': 0}, 'schwarz': {'overlap': 1}, 'report':\n",
        "    False}, 'error_on_nonconvergence': True, 'monitor_convergence': False, 'nonzero_initial_guess':\n",
        "    False, 'report': True, 'absolute_tolerance': 1e-15}\n"
       ]
      },
      {
       "output_type": "stream",
       "stream": "stderr",
       "text": [
        "[12:45:09] DEBUG: Creating LLGIntegrator with backend sundials.\n"
       ]
      },
      {
       "ename": "NameError",
       "evalue": "name 'exchange' is not defined",
       "output_type": "pyerr",
       "traceback": [
        "\u001b[1;31m---------------------------------------------------------------------------\u001b[0m\n\u001b[1;31mNameError\u001b[0m                                 Traceback (most recent call last)",
        "\u001b[1;32m<ipython-input-7-3859895f31e6>\u001b[0m in \u001b[0;36m<module>\u001b[1;34m()\u001b[0m\n\u001b[0;32m     26\u001b[0m \u001b[1;33m\u001b[0m\u001b[0m\n\u001b[0;32m     27\u001b[0m         \u001b[1;31m# Energies\u001b[0m\u001b[1;33m\u001b[0m\u001b[1;33m\u001b[0m\u001b[0m\n\u001b[1;32m---> 28\u001b[1;33m         \u001b[0mE_e\u001b[0m \u001b[1;33m=\u001b[0m \u001b[0mexchange\u001b[0m\u001b[1;33m.\u001b[0m\u001b[0mcompute_energy\u001b[0m\u001b[1;33m(\u001b[0m\u001b[1;33m)\u001b[0m\u001b[1;33m\u001b[0m\u001b[0m\n\u001b[0m\u001b[0;32m     29\u001b[0m         \u001b[0mE_d\u001b[0m \u001b[1;33m=\u001b[0m \u001b[0mdemag\u001b[0m\u001b[1;33m.\u001b[0m\u001b[0mcompute_energy\u001b[0m\u001b[1;33m(\u001b[0m\u001b[1;33m)\u001b[0m\u001b[1;33m\u001b[0m\u001b[0m\n\u001b[0;32m     30\u001b[0m         \u001b[0mfe\u001b[0m\u001b[1;33m.\u001b[0m\u001b[0mwrite\u001b[0m\u001b[1;33m(\u001b[0m\u001b[0mstr\u001b[0m\u001b[1;33m(\u001b[0m\u001b[0mE_e\u001b[0m\u001b[1;33m)\u001b[0m \u001b[1;33m+\u001b[0m \u001b[1;34m\" \"\u001b[0m \u001b[1;33m+\u001b[0m \u001b[0mstr\u001b[0m\u001b[1;33m(\u001b[0m\u001b[0mE_d\u001b[0m\u001b[1;33m)\u001b[0m \u001b[1;33m+\u001b[0m \u001b[1;34m\"\\n\"\u001b[0m\u001b[1;33m)\u001b[0m\u001b[1;33m\u001b[0m\u001b[0m\n",
        "\u001b[1;31mNameError\u001b[0m: name 'exchange' is not defined"
       ]
      },
      {
       "output_type": "stream",
       "stream": "stdout",
       "text": [
        "In iteration 0 at time 0.0\n"
       ]
      }
     ],
     "prompt_number": 7
    },
    {
     "cell_type": "code",
     "collapsed": false,
     "input": [
      "data = np.loadtxt('averages.txt')\n",
      "time = data[:,0]\n",
      "mx = data[:,1]\n",
      "my = data[:,2]\n",
      "mz = data[:,3]\n",
      "import pylab\n",
      "pylab.plot(time, mx, 'o-', label='mx')\n",
      "pylab.plot(time, my, 'x-',label='my')\n",
      "pylab.plot(time, mz, label='mz')\n",
      "pylab.xlabel('time [s]')\n",
      "pylab.ylabel('Magnetisation [A/m]')\n",
      "pylab.legend()"
     ],
     "language": "python",
     "metadata": {},
     "outputs": [
      {
       "output_type": "pyout",
       "prompt_number": 16,
       "text": [
        "<matplotlib.legend.Legend at 0xb782890>"
       ]
      },
      {
       "output_type": "display_data",
       "png": "[encoded data removed]"
      }
     ],
     "prompt_number": 16
    },
    {
     "cell_type": "code",
     "collapsed": false,
     "input": [
      "am"
     ],
     "language": "python",
     "metadata": {},
     "outputs": [
      {
       "output_type": "pyout",
       "prompt_number": 17,
       "text": [
        "array([[  0.00000000e+00,   7.07106781e-01,   0.00000000e+00,\n",
        "          7.07106781e-01],\n",
        "       [  5.00000000e-12,   6.52968266e-01,   1.11123656e-01,\n",
        "          7.44084518e-01],\n",
        "       [  1.00000000e-11,   5.77505181e-01,   2.04890940e-01,\n",
        "          7.76489320e-01],\n",
        "       [  1.50000000e-11,   4.87085687e-01,   2.75735390e-01,\n",
        "          8.07255001e-01],\n",
        "       [  2.00000000e-11,   3.88503108e-01,   3.21138764e-01,\n",
        "          8.35944696e-01],\n",
        "       [  2.50000000e-11,   2.89467276e-01,   3.41082291e-01,\n",
        "          8.60983337e-01],\n",
        "       [  3.00000000e-11,   1.97690652e-01,   3.38126824e-01,\n",
        "          8.81679593e-01]])"
       ]
      }
     ],
     "prompt_number": 17
    }
   ],
   "metadata": {}
  }
 ]
}