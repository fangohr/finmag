{
 "metadata": {
  "name": "tutorial-example2"
 },
 "nbformat": 3,
 "nbformat_minor": 0,
 "worksheets": [
  {
   "cells": [
    {
     "cell_type": "heading",
     "level": 2,
     "metadata": {},
     "source": [
      "Tutorial example 2: magnetisation dynamics in Permalloy bar"
     ]
    },
    {
     "cell_type": "markdown",
     "metadata": {},
     "source": [
      "Before we can run a simulation, we need to create a mesh. We use the dolfin library to do this, which has an inbuilt function ``Box`` for \n",
      "creating cuboidal meshes. "
     ]
    },
    {
     "cell_type": "code",
     "collapsed": false,
     "input": [
      "import dolfin as df\n",
      "xmin, ymin, zmin = 0, 0, 0      # one corner of cuboid\n",
      "xmax, ymax, zmax = 30, 30, 100  # other corner of cuboid\n",
      "nx, ny, nz = 15, 15, 50         # number of subdivisions (use ~2nm edgelength)\n",
      "mesh = df.Box(xmin, ymin, zmin, xmax, ymax, zmax, nx, ny, nz)"
     ],
     "language": "python",
     "metadata": {},
     "outputs": [],
     "prompt_number": 1
    },
    {
     "cell_type": "markdown",
     "metadata": {},
     "source": [
      "The ``mesh`` object we obtain can provide some information about itself, for example by printing it:\n"
     ]
    },
    {
     "cell_type": "code",
     "collapsed": false,
     "input": [
      "print(mesh)"
     ],
     "language": "python",
     "metadata": {},
     "outputs": [
      {
       "output_type": "stream",
       "stream": "stdout",
       "text": [
        "<Mesh of topological dimension 3 (tetrahedra) with 13056 vertices and 67500 cells, ordered>\n"
       ]
      }
     ],
     "prompt_number": 2
    },
    {
     "cell_type": "markdown",
     "metadata": {},
     "source": [
      "Or we can use a helper function from the finmag library to obtain some more detailed information:"
     ]
    },
    {
     "cell_type": "code",
     "collapsed": false,
     "input": [
      "import finmag\n",
      "print(finmag.util.meshes.mesh_info(mesh))"
     ],
     "language": "python",
     "metadata": {},
     "outputs": [
      {
       "output_type": "stream",
       "stream": "stderr",
       "text": [
        "[10:39:10] DEBUG: Executing sim/__init__.py\n"
       ]
      },
      {
       "output_type": "stream",
       "stream": "stderr",
       "text": [
        "[10:39:10] DEBUG: Executing energies/__init__.py.\n"
       ]
      },
      {
       "output_type": "stream",
       "stream": "stderr",
       "text": [
        "[10:39:11] DEBUG: This is Finmag version 2099:3b266d7d7033e0a88cd5d553134ec378948dcd95\n"
       ]
      },
      {
       "output_type": "stream",
       "stream": "stdout",
       "text": [
        "===== Mesh info: ==============================\n",
        " 67500 cells (= volume elements)\n",
        "138450 facets\n",
        "  6900 surface facets\n",
        "131550 interior facets\n",
        " 84005 edges\n",
        " 13056 vertices\n",
        "\n",
        "===== Distribution of edge lengths: ===========\n",
        "2.000 \n",
        "2.073 **********************************************************************\n",
        "2.146 \n",
        "2.220 \n",
        "2.293 \n",
        "2.366 \n",
        "2.439 \n",
        "2.512 \n",
        "2.586 \n",
        "2.659 \n",
        "2.732 \n",
        "2.805 \n",
        "2.878 *******************************************************************\n",
        "2.952 \n",
        "3.025 \n",
        "3.098 \n",
        "3.171 \n",
        "3.244 \n",
        "3.318 \n",
        "3.391 \n",
        "3.464 *********************\n",
        "\n"
       ]
      }
     ],
     "prompt_number": 3
    },
    {
     "cell_type": "markdown",
     "metadata": {},
     "source": [
      "To proceed with the micromagnetic simulation, we need to create a simulation object. This needs to be given the mesh, the saturation magnetisation of the system (here a constant $M_s = 0.86\\cdot 10^6\\,\\mathrm{A/m}$, and a number ``unit_length`` which defines what the spacing of 1.0 in the mesh corresponds to in reality (we choose nanometres here):"
     ]
    },
    {
     "cell_type": "code",
     "collapsed": false,
     "input": [
      "sim = finmag.Simulation(mesh, Ms=0.86e6, unit_length=1e-9)"
     ],
     "language": "python",
     "metadata": {},
     "outputs": [
      {
       "output_type": "stream",
       "stream": "stderr",
       "text": [
        "[10:41:46] INFO: Creating Sim object (rank=0/1) [Thu Nov 15 10:41:46 2012].\n"
       ]
      },
      {
       "output_type": "stream",
       "stream": "stderr",
       "text": [
        "[10:41:46] INFO: <Mesh of topological dimension 3 (tetrahedra) with 13056 vertices and 67500 cells, ordered>\n"
       ]
      },
      {
       "output_type": "stream",
       "stream": "stderr",
       "text": [
        "[10:41:46] DEBUG: Creating LLG object.\n"
       ]
      }
     ],
     "prompt_number": 5
    },
    {
     "cell_type": "markdown",
     "metadata": {},
     "source": [
      "More content to follow ... (HF)"
     ]
    },
    {
     "cell_type": "code",
     "collapsed": false,
     "input": [],
     "language": "python",
     "metadata": {},
     "outputs": []
    }
   ],
   "metadata": {}
  }
 ]
}