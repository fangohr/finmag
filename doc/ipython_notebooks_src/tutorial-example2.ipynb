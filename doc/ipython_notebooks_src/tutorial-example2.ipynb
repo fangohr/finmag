{
 "metadata": {
  "name": "tutorial-example2"
 },
 "nbformat": 3,
 "nbformat_minor": 0,
 "worksheets": [
  {
   "cells": [
    {
     "cell_type": "heading",
     "level": 2,
     "metadata": {},
     "source": [
      "Tutorial example 2: magnetisation dynamics in Permalloy bar"
     ]
    },
    {
     "cell_type": "markdown",
     "metadata": {},
     "source": [
      "Before we can run a simulation, we need to create a mesh. We use the dolfin library to do this, which has an inbuilt function ``Box`` for \n",
      "creating cuboidal meshes. "
     ]
    },
    {
     "cell_type": "code",
     "collapsed": false,
     "input": [
      "import dolfin as df\n",
      "xmin, ymin, zmin = 0, 0, 0      # one corner of cuboid\n",
      "xmax, ymax, zmax = 30, 30, 100  # other corner of cuboid\n",
      "nx, ny, nz = 15, 15, 50         # number of subdivisions (use ~2nm edgelength)\n",
      "mesh = df.Box(xmin, ymin, zmin, xmax, ymax, zmax, nx, ny, nz)"
     ],
     "language": "python",
     "metadata": {},
     "outputs": [],
     "prompt_number": 13
    },
    {
     "cell_type": "markdown",
     "metadata": {},
     "source": [
      "The ``mesh`` object we obtain can provide some information about itself, for example by printing it:\n"
     ]
    },
    {
     "cell_type": "code",
     "collapsed": false,
     "input": [
      "print(mesh)"
     ],
     "language": "python",
     "metadata": {},
     "outputs": [
      {
       "output_type": "stream",
       "stream": "stdout",
       "text": [
        "<Mesh of topological dimension 3 (tetrahedra) with 13056 vertices and 67500 cells, ordered>\n"
       ]
      }
     ],
     "prompt_number": 2
    },
    {
     "cell_type": "markdown",
     "metadata": {},
     "source": [
      "Or we can use a helper function from the finmag library to obtain some more detailed information:"
     ]
    },
    {
     "cell_type": "code",
     "collapsed": false,
     "input": [
      "import finmag\n",
      "print(finmag.util.meshes.mesh_info(mesh))"
     ],
     "language": "python",
     "metadata": {},
     "outputs": [
      {
       "output_type": "stream",
       "stream": "stderr",
       "text": [
        "[10:00:18] DEBUG: Executing sim/__init__.py\n"
       ]
      },
      {
       "output_type": "stream",
       "stream": "stderr",
       "text": [
        "[10:00:18] DEBUG: Executing energies/__init__.py.\n"
       ]
      },
      {
       "output_type": "stream",
       "stream": "stderr",
       "text": [
        "[10:00:19] DEBUG: This is Finmag version 2117:acc67d16c7969e15e528772c55b0580d627fec26\n"
       ]
      },
      {
       "output_type": "stream",
       "stream": "stdout",
       "text": [
        "===== Mesh info: ==============================\n",
        " 67500 cells (= volume elements)\n",
        "138450 facets\n",
        "  6900 surface facets\n",
        "131550 interior facets\n",
        " 84005 edges\n",
        " 13056 vertices\n",
        "\n",
        "===== Distribution of edge lengths: ===========\n",
        "2.000 \n",
        "2.073 **********************************************************************\n",
        "2.146 \n",
        "2.220 \n",
        "2.293 \n",
        "2.366 \n",
        "2.439 \n",
        "2.512 \n",
        "2.586 \n",
        "2.659 \n",
        "2.732 \n",
        "2.805 \n",
        "2.878 *******************************************************************\n",
        "2.952 \n",
        "3.025 \n",
        "3.098 \n",
        "3.171 \n",
        "3.244 \n",
        "3.318 \n",
        "3.391 \n",
        "3.464 *********************\n",
        "\n"
       ]
      }
     ],
     "prompt_number": 3
    },
    {
     "cell_type": "markdown",
     "metadata": {},
     "source": [
      "To proceed with the micromagnetic simulation, we need to create a simulation object. This needs to be given the mesh, the saturation magnetisation of the system (here a constant $M_s = 0.86\\cdot 10^6\\,\\mathrm{A/m}$, and a number ``unit_length`` which defines what the spacing of 1.0 in the mesh corresponds to in reality (we choose nanometres here):"
     ]
    },
    {
     "cell_type": "code",
     "collapsed": false,
     "input": [
      "sim = finmag.Simulation(mesh, Ms=0.86e6, unit_length=1e-9)"
     ],
     "language": "python",
     "metadata": {},
     "outputs": [
      {
       "output_type": "stream",
       "stream": "stderr",
       "text": [
        "[10:00:25] INFO: Creating Sim object (rank=0/1) [Fri Nov 16 10:00:25 2012].\n"
       ]
      },
      {
       "output_type": "stream",
       "stream": "stderr",
       "text": [
        "[10:00:25] INFO: <Mesh of topological dimension 3 (tetrahedra) with 13056 vertices and 67500 cells, ordered>\n"
       ]
      },
      {
       "output_type": "stream",
       "stream": "stderr",
       "text": [
        "[10:00:25] DEBUG: Creating LLG object.\n"
       ]
      }
     ],
     "prompt_number": 4
    },
    {
     "cell_type": "markdown",
     "metadata": {},
     "source": [
      "More content to follow ... (HF)"
     ]
    },
    {
     "cell_type": "code",
     "collapsed": false,
     "input": [
      "import os\n",
      "import logging\n",
      "import pylab as p\n",
      "import numpy as np\n",
      "import dolfin as df\n",
      "import progressbar as pb\n",
      "from finmag import Simulation as Sim\n",
      "from finmag.energies import Exchange, Demag\n",
      "from finmag.util.meshes import from_geofile, mesh_volume\n",
      "\n",
      "logger = logging.getLogger(name='finmag')\n",
      "\n",
      "sim = Sim(mesh, Ms=0.86e6, unit_length=1e-9)\n",
      "sim.alpha = 0.5\n",
      "sim.set_m((1, 0, 1))\n",
      "\n",
      "exchange = finmag.energies.Exchange(13.0e-12)\n",
      "sim.add(exchange)\n",
      "demag = finmag.energies.Demag(solver=\"FK\")\n",
      "sim.add(demag)\n",
      "\n",
      "fh = open(os.path.join(\"averages.txt\"), \"w\")\n",
      "fe = open(os.path.join(\"energies.txt\"), \"w\")\n",
      "\n",
      "logger.info(\"Time integration\")\n",
      "#times = np.linspace(0, 3.0e-10, 60 + 1)\n",
      "times = np.linspace(0, 3.0e-10, 60 + 1)\n",
      "for counter, t in enumerate(times):\n",
      "        print(\"In iteration {} at time {}\".format(counter,t))\n",
      "        # Integrate\n",
      "        sim.run_until(t)\n",
      "\n",
      "        # Save averages to file\n",
      "        mx, my, mz = sim.llg.m_average\n",
      "        fh.write(str(t) + \" \" + str(mx) + \" \" + str(my) + \" \" + str(mz) + \"\\n\")\n",
      "\n",
      "        # Energies\n",
      "        E_e = exchange.compute_energy()\n",
      "        E_d = demag.compute_energy()\n",
      "        fe.write(str(E_e) + \" \" + str(E_d) + \"\\n\")\n",
      "\n",
      "        # Energy densities\n",
      "        if counter == 10:\n",
      "            exch_energy = exchange.energy_density_function()\n",
      "            demag_energy = demag.demag.energy_density_function()\n",
      "            finmag_exch, finmag_demag = [], []\n",
      "            R = range(100)\n",
      "            for i in R:\n",
      "                finmag_exch.append(exch_energy([15, 15, i]))\n",
      "                finmag_demag.append(demag_energy([15, 15, i]))\n",
      "            # Store data\n",
      "            np.save(os.path.join(\"finmag_exch_density.npy\"), np.array(finmag_exch))\n",
      "            np.save(os.path.join(\"finmag_demag_density.npy\"), np.array(finmag_demag))\n",
      "\n",
      "fh.close()\n",
      "fe.close()\n",
      "print(\"Done\")\n"
     ],
     "language": "python",
     "metadata": {},
     "outputs": [
      {
       "output_type": "stream",
       "stream": "stderr",
       "text": [
        "[10:03:41] INFO: Creating Sim object (rank=0/1) [Fri Nov 16 10:03:41 2012].\n"
       ]
      },
      {
       "output_type": "stream",
       "stream": "stderr",
       "text": [
        "[10:03:41] INFO: <Mesh of topological dimension 3 (tetrahedra) with 13056 vertices and 67500 cells, ordered>\n"
       ]
      },
      {
       "output_type": "stream",
       "stream": "stderr",
       "text": [
        "[10:03:41] DEBUG: Creating LLG object.\n"
       ]
      },
      {
       "output_type": "stream",
       "stream": "stderr",
       "text": [
        "[10:03:41] DEBUG: Creating Exchange object with method box-matrix-petsc, in Jacobian.\n"
       ]
      },
      {
       "output_type": "stream",
       "stream": "stderr",
       "text": [
        "[10:03:43] DEBUG: Creating Demag object with FK solver.\n"
       ]
      },
      {
       "output_type": "stream",
       "stream": "stderr",
       "text": [
        "[10:03:46] DEBUG: Demag: Poisson solver parameters.\n",
        "    {'maximum_iterations': 10000, 'divergence_limit': 10000.0, 'relative_tolerance': 1e-06, 'gmres':\n",
        "    {'restart': 30}, 'preconditioner': {'shift_nonzero': 0.0, 'reuse': False,\n",
        "    'same_nonzero_pattern': False, 'ilu': {'fill_level': 0}, 'schwarz': {'overlap': 1}, 'report':\n",
        "    False}, 'error_on_nonconvergence': True, 'monitor_convergence': False, 'nonzero_initial_guess':\n",
        "    False, 'report': True, 'absolute_tolerance': 1e-15}\n"
       ]
      },
      {
       "output_type": "stream",
       "stream": "stderr",
       "text": [
        "[10:03:46] DEBUG: Demag: Laplace solver parameters.\n",
        "    {'maximum_iterations': 10000, 'divergence_limit': 10000.0, 'relative_tolerance': 1e-06, 'gmres':\n",
        "    {'restart': 30}, 'preconditioner': {'shift_nonzero': 0.0, 'reuse': False,\n",
        "    'same_nonzero_pattern': True, 'ilu': {'fill_level': 0}, 'schwarz': {'overlap': 1}, 'report':\n",
        "    False}, 'error_on_nonconvergence': True, 'monitor_convergence': False, 'nonzero_initial_guess':\n",
        "    False, 'report': True, 'absolute_tolerance': 1e-15}\n"
       ]
      },
      {
       "output_type": "stream",
       "stream": "stderr",
       "text": [
        "[10:03:46] INFO: Time integration\n"
       ]
      },
      {
       "output_type": "stream",
       "stream": "stderr",
       "text": [
        "[10:03:46] DEBUG: Creating LLGIntegrator with backend sundials.\n"
       ]
      },
      {
       "output_type": "stream",
       "stream": "stdout",
       "text": [
        "In iteration 0 at time 0.0\n",
        "In iteration 1 at time 5e-12"
       ]
      },
      {
       "output_type": "stream",
       "stream": "stdout",
       "text": [
        "\n",
        "In iteration 2 at time 1e-11"
       ]
      },
      {
       "output_type": "stream",
       "stream": "stdout",
       "text": [
        "\n",
        "In iteration 3 at time 1.5e-11"
       ]
      },
      {
       "output_type": "stream",
       "stream": "stdout",
       "text": [
        "\n",
        "In iteration 4 at time 2e-11"
       ]
      },
      {
       "output_type": "stream",
       "stream": "stdout",
       "text": [
        "\n",
        "In iteration 5 at time 2.5e-11"
       ]
      },
      {
       "output_type": "stream",
       "stream": "stdout",
       "text": [
        "\n",
        "In iteration 6 at time 3e-11"
       ]
      },
      {
       "output_type": "stream",
       "stream": "stdout",
       "text": [
        "\n",
        "In iteration 7 at time 3.5e-11"
       ]
      },
      {
       "output_type": "stream",
       "stream": "stdout",
       "text": [
        "\n",
        "In iteration 8 at time 4e-11"
       ]
      },
      {
       "output_type": "stream",
       "stream": "stdout",
       "text": [
        "\n",
        "In iteration 9 at time 4.5e-11"
       ]
      },
      {
       "output_type": "stream",
       "stream": "stdout",
       "text": [
        "\n",
        "In iteration 10 at time 5e-11"
       ]
      },
      {
       "output_type": "stream",
       "stream": "stdout",
       "text": [
        "\n",
        "In iteration 11 at time 5.5e-11"
       ]
      },
      {
       "output_type": "stream",
       "stream": "stdout",
       "text": [
        "\n",
        "In iteration 12 at time 6e-11"
       ]
      },
      {
       "output_type": "stream",
       "stream": "stdout",
       "text": [
        "\n",
        "In iteration 13 at time 6.5e-11"
       ]
      },
      {
       "output_type": "stream",
       "stream": "stdout",
       "text": [
        "\n",
        "In iteration 14 at time 7e-11"
       ]
      },
      {
       "output_type": "stream",
       "stream": "stdout",
       "text": [
        "\n",
        "In iteration 15 at time 7.5e-11"
       ]
      },
      {
       "output_type": "stream",
       "stream": "stdout",
       "text": [
        "\n",
        "In iteration 16 at time 8e-11"
       ]
      },
      {
       "output_type": "stream",
       "stream": "stdout",
       "text": [
        "\n",
        "In iteration 17 at time 8.5e-11"
       ]
      },
      {
       "output_type": "stream",
       "stream": "stdout",
       "text": [
        "\n",
        "In iteration 18 at time 9e-11"
       ]
      },
      {
       "output_type": "stream",
       "stream": "stdout",
       "text": [
        "\n",
        "In iteration 19 at time 9.5e-11"
       ]
      },
      {
       "output_type": "stream",
       "stream": "stdout",
       "text": [
        "\n",
        "In iteration 20 at time 1e-10"
       ]
      },
      {
       "output_type": "stream",
       "stream": "stdout",
       "text": [
        "\n",
        "In iteration 21 at time 1.05e-10"
       ]
      },
      {
       "output_type": "stream",
       "stream": "stdout",
       "text": [
        "\n",
        "In iteration 22 at time 1.1e-10"
       ]
      },
      {
       "output_type": "stream",
       "stream": "stdout",
       "text": [
        "\n",
        "In iteration 23 at time 1.15e-10"
       ]
      },
      {
       "output_type": "stream",
       "stream": "stdout",
       "text": [
        "\n",
        "In iteration 24 at time 1.2e-10"
       ]
      },
      {
       "output_type": "stream",
       "stream": "stdout",
       "text": [
        "\n",
        "In iteration 25 at time 1.25e-10"
       ]
      },
      {
       "output_type": "stream",
       "stream": "stdout",
       "text": [
        "\n",
        "In iteration 26 at time 1.3e-10"
       ]
      },
      {
       "output_type": "stream",
       "stream": "stdout",
       "text": [
        "\n",
        "In iteration 27 at time 1.35e-10"
       ]
      },
      {
       "output_type": "stream",
       "stream": "stdout",
       "text": [
        "\n",
        "In iteration 28 at time 1.4e-10"
       ]
      },
      {
       "output_type": "stream",
       "stream": "stdout",
       "text": [
        "\n",
        "In iteration 29 at time 1.45e-10"
       ]
      },
      {
       "output_type": "stream",
       "stream": "stdout",
       "text": [
        "\n",
        "In iteration 30 at time 1.5e-10"
       ]
      },
      {
       "output_type": "stream",
       "stream": "stdout",
       "text": [
        "\n",
        "In iteration 31 at time 1.55e-10"
       ]
      },
      {
       "output_type": "stream",
       "stream": "stdout",
       "text": [
        "\n",
        "In iteration 32 at time 1.6e-10"
       ]
      },
      {
       "output_type": "stream",
       "stream": "stdout",
       "text": [
        "\n",
        "In iteration 33 at time 1.65e-10"
       ]
      },
      {
       "output_type": "stream",
       "stream": "stdout",
       "text": [
        "\n",
        "In iteration 34 at time 1.7e-10"
       ]
      },
      {
       "output_type": "stream",
       "stream": "stdout",
       "text": [
        "\n",
        "In iteration 35 at time 1.75e-10"
       ]
      },
      {
       "output_type": "stream",
       "stream": "stdout",
       "text": [
        "\n",
        "In iteration 36 at time 1.8e-10"
       ]
      },
      {
       "output_type": "stream",
       "stream": "stdout",
       "text": [
        "\n",
        "In iteration 37 at time 1.85e-10"
       ]
      },
      {
       "output_type": "stream",
       "stream": "stdout",
       "text": [
        "\n",
        "In iteration 38 at time 1.9e-10"
       ]
      },
      {
       "output_type": "stream",
       "stream": "stdout",
       "text": [
        "\n",
        "In iteration 39 at time 1.95e-10"
       ]
      },
      {
       "output_type": "stream",
       "stream": "stdout",
       "text": [
        "\n",
        "In iteration 40 at time 2e-10"
       ]
      },
      {
       "output_type": "stream",
       "stream": "stdout",
       "text": [
        "\n",
        "In iteration 41 at time 2.05e-10"
       ]
      },
      {
       "output_type": "stream",
       "stream": "stdout",
       "text": [
        "\n",
        "In iteration 42 at time 2.1e-10"
       ]
      },
      {
       "output_type": "stream",
       "stream": "stdout",
       "text": [
        "\n",
        "In iteration 43 at time 2.15e-10"
       ]
      },
      {
       "output_type": "stream",
       "stream": "stdout",
       "text": [
        "\n",
        "In iteration 44 at time 2.2e-10"
       ]
      },
      {
       "output_type": "stream",
       "stream": "stdout",
       "text": [
        "\n",
        "In iteration 45 at time 2.25e-10"
       ]
      },
      {
       "output_type": "stream",
       "stream": "stdout",
       "text": [
        "\n",
        "In iteration 46 at time 2.3e-10"
       ]
      },
      {
       "output_type": "stream",
       "stream": "stdout",
       "text": [
        "\n",
        "In iteration 47 at time 2.35e-10"
       ]
      },
      {
       "output_type": "stream",
       "stream": "stdout",
       "text": [
        "\n",
        "In iteration 48 at time 2.4e-10"
       ]
      },
      {
       "output_type": "stream",
       "stream": "stdout",
       "text": [
        "\n",
        "In iteration 49 at time 2.45e-10"
       ]
      },
      {
       "output_type": "stream",
       "stream": "stdout",
       "text": [
        "\n",
        "In iteration 50 at time 2.5e-10"
       ]
      },
      {
       "output_type": "stream",
       "stream": "stdout",
       "text": [
        "\n",
        "In iteration 51 at time 2.55e-10"
       ]
      },
      {
       "output_type": "stream",
       "stream": "stdout",
       "text": [
        "\n",
        "In iteration 52 at time 2.6e-10"
       ]
      },
      {
       "output_type": "stream",
       "stream": "stdout",
       "text": [
        "\n",
        "In iteration 53 at time 2.65e-10"
       ]
      },
      {
       "output_type": "stream",
       "stream": "stdout",
       "text": [
        "\n",
        "In iteration 54 at time 2.7e-10"
       ]
      },
      {
       "output_type": "stream",
       "stream": "stdout",
       "text": [
        "\n",
        "In iteration 55 at time 2.75e-10"
       ]
      },
      {
       "output_type": "stream",
       "stream": "stdout",
       "text": [
        "\n",
        "In iteration 56 at time 2.8e-10"
       ]
      },
      {
       "output_type": "stream",
       "stream": "stdout",
       "text": [
        "\n",
        "In iteration 57 at time 2.85e-10"
       ]
      },
      {
       "output_type": "stream",
       "stream": "stdout",
       "text": [
        "\n",
        "In iteration 58 at time 2.9e-10"
       ]
      },
      {
       "output_type": "stream",
       "stream": "stdout",
       "text": [
        "\n",
        "In iteration 59 at time 2.95e-10"
       ]
      },
      {
       "output_type": "stream",
       "stream": "stdout",
       "text": [
        "\n",
        "In iteration 60 at time 3e-10"
       ]
      },
      {
       "output_type": "stream",
       "stream": "stdout",
       "text": [
        "\n",
        "Done"
       ]
      },
      {
       "output_type": "stream",
       "stream": "stdout",
       "text": [
        "\n"
       ]
      }
     ],
     "prompt_number": 14
    },
    {
     "cell_type": "code",
     "collapsed": false,
     "input": [
      "data = np.loadtxt('averages.txt')\n",
      "time = data[:,0]\n",
      "mx = data[:,0]\n",
      "my = data[:,1]\n",
      "mz = data[:,2]\n",
      "import pylab\n",
      "pylab.plot(time, mx, 'o-', label='mx')\n",
      "pylab.plot(time, my, 'x-',label='my')\n",
      "pylab.plot(time, mz, label='mz')\n",
      "pylab.xlabel('time [s]')\n",
      "pylab.ylabel('Magnetisation [A/m]')\n",
      "pylab.legend()"
     ],
     "language": "python",
     "metadata": {},
     "outputs": [
      {
       "output_type": "pyout",
       "prompt_number": 12,
       "text": [
        "<matplotlib.legend.Legend at 0x91b7490>"
       ]
      },
      {
       "output_type": "display_data",
       "png": "[encoded data removed]"
      }
     ],
     "prompt_number": 12
    },
    {
     "cell_type": "code",
     "collapsed": false,
     "input": [
      "am"
     ],
     "language": "python",
     "metadata": {},
     "outputs": [
      {
       "output_type": "pyout",
       "prompt_number": 17,
       "text": [
        "array([[  0.00000000e+00,   7.07106781e-01,   0.00000000e+00,\n",
        "          7.07106781e-01],\n",
        "       [  5.00000000e-12,   6.52968266e-01,   1.11123656e-01,\n",
        "          7.44084518e-01],\n",
        "       [  1.00000000e-11,   5.77505181e-01,   2.04890940e-01,\n",
        "          7.76489320e-01],\n",
        "       [  1.50000000e-11,   4.87085687e-01,   2.75735390e-01,\n",
        "          8.07255001e-01],\n",
        "       [  2.00000000e-11,   3.88503108e-01,   3.21138764e-01,\n",
        "          8.35944696e-01],\n",
        "       [  2.50000000e-11,   2.89467276e-01,   3.41082291e-01,\n",
        "          8.60983337e-01],\n",
        "       [  3.00000000e-11,   1.97690652e-01,   3.38126824e-01,\n",
        "          8.81679593e-01]])"
       ]
      }
     ],
     "prompt_number": 17
    },
    {
     "cell_type": "code",
     "collapsed": false,
     "input": [
      "t = "
     ],
     "language": "python",
     "metadata": {},
     "outputs": []
    }
   ],
   "metadata": {}
  }
 ]
}