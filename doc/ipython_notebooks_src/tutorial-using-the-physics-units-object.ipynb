{
 "metadata": {
  "name": "",
  "signature": "sha256:3986bb9c77a37d9549ad58159c680b35ecb45e5a3442b4529ff752bdb9b46d64"
 },
 "nbformat": 3,
 "nbformat_minor": 0,
 "worksheets": [
  {
   "cells": [
    {
     "cell_type": "markdown",
     "metadata": {},
     "source": [
      "# Physical quantities (numerical value with units) in Python"
     ]
    },
    {
     "cell_type": "markdown",
     "metadata": {},
     "source": [
      "Original file from http://www.southampton.ac.uk/~fangohr/blog/Python/physics-module.ipynb"
     ]
    },
    {
     "cell_type": "markdown",
     "metadata": {},
     "source": [
      "Within finmag, we have included the ``physics`` module at ``finmag.util.physics`` and also imported the PhysicalQuantity Object ``Q`` into the main name space for convenience, i.e. we can use"
     ]
    },
    {
     "cell_type": "code",
     "collapsed": false,
     "input": [
      "import finmag"
     ],
     "language": "python",
     "metadata": {},
     "outputs": [],
     "prompt_number": 50
    },
    {
     "cell_type": "code",
     "collapsed": false,
     "input": [
      "s = finmag.Q(10, 'm') \n",
      "t = finmag.Q(5, 's')\n",
      "v = s / t\n",
      "print(v)"
     ],
     "language": "python",
     "metadata": {},
     "outputs": [
      {
       "output_type": "stream",
       "stream": "stdout",
       "text": [
        "2 m/s\n"
       ]
      }
     ],
     "prompt_number": 51
    },
    {
     "cell_type": "markdown",
     "metadata": {},
     "source": [
      "What follows below is the original notebook, only adjusted for using Q from within finmag."
     ]
    },
    {
     "cell_type": "markdown",
     "metadata": {},
     "source": [
      "## Introduction"
     ]
    },
    {
     "cell_type": "markdown",
     "metadata": {},
     "source": [
      "The idea to combine units (such as metres, seconds and kilograms) with numbers to represent physical quantities is not new: I saw this first in the late 1980s in the MS DOS based [MathCad 2.5](http://en.wikipedia.org/wiki/Mathcad). A similar feature has been provided by Konrad Hinsen's [Scientific.Physics.PhysicalQuantities](http://dirac.cnrs-orleans.fr/plone/software/scientificpython) tools. Our own open-source software [Nmag](http://nmag.soton.ac.uk) has provided [related functionality](http://nmag.soton.ac.uk/nmag/0.2/manual/html/command_reference.html#si) as a very minor part of the overall package although we should have used Konrad's code instead of re-inventing the wheel. The idea of carrying information regarding the \"unit of measure\" has also [been picked up my Microsoft's F#](http://msdn.microsoft.com/en-us/library/dd233243.aspx) and probably many other tools. \n",
      "\n",
      "Let us agree to refer to something as a *physical quantity* $q$ if it is made of up of a numerical value (such as 10) and (some product of powers of) units (such as metre to the power one): for example $q = 10\\mathrm{m}$.\n",
      "\n",
      "It took me a while to realise that the excellent [IPython](http://ipython.org) provides computation with physical quantities (based on Konrad Hinsen's code and kindly contributed by [Georg Brandl](https://bitbucket.org/birkenfeld/ipython-physics)). This physics module can be used as an ipython notebook extension (and then provides extra syntactic sugar), but can also be used outside the ipython notebook: either in a Python program or in a Python interpreter session. So it is a generic standalone module (at the moment just a file ``physics.py``) which allows to work conveniently with physical quantities in Python.\n",
      "\n",
      "I'll try to summarise basic installation and usage instructions here to provide an idea of what the tool can be used for (corrections and improvements welcome)."
     ]
    },
    {
     "cell_type": "markdown",
     "metadata": {},
     "source": [
      "### Importing the physics module"
     ]
    },
    {
     "cell_type": "markdown",
     "metadata": {},
     "source": [
      "We can get the physics module via"
     ]
    },
    {
     "cell_type": "code",
     "collapsed": false,
     "input": [
      "from finmag.util import physics"
     ],
     "language": "python",
     "metadata": {},
     "outputs": [],
     "prompt_number": 52
    },
    {
     "cell_type": "markdown",
     "metadata": {},
     "source": [
      "The main idea of the physics module can be demonstrated by using the ``physics.PhysicalQuantity`` object. The package provides the name ``Q`` as a shortcut for ``PhysicalQuantity``, and we import that object directly:"
     ]
    },
    {
     "cell_type": "code",
     "collapsed": false,
     "input": [
      "Q = physics.Q"
     ],
     "language": "python",
     "metadata": {},
     "outputs": [],
     "prompt_number": 53
    },
    {
     "cell_type": "markdown",
     "metadata": {},
     "source": [
      "However, for added convenience, we have also made Q available in the finmag name space as shown above, so we can use"
     ]
    },
    {
     "cell_type": "code",
     "collapsed": false,
     "input": [
      "Q = finmag.Q"
     ],
     "language": "python",
     "metadata": {},
     "outputs": [],
     "prompt_number": 54
    },
    {
     "cell_type": "markdown",
     "metadata": {},
     "source": [
      "### First steps"
     ]
    },
    {
     "cell_type": "markdown",
     "metadata": {},
     "source": [
      "We can create ``PhysicalQuantity`` objects by initialising them with a number, and some units. Imagine we have the distance 10 metres to work with, and want to refer to this as ``s``:"
     ]
    },
    {
     "cell_type": "code",
     "collapsed": false,
     "input": [
      "s = Q(10, 'm')"
     ],
     "language": "python",
     "metadata": {},
     "outputs": [],
     "prompt_number": 55
    },
    {
     "cell_type": "code",
     "collapsed": false,
     "input": [
      "type(s)"
     ],
     "language": "python",
     "metadata": {},
     "outputs": [
      {
       "metadata": {},
       "output_type": "pyout",
       "prompt_number": 56,
       "text": [
        "finmag.util.physics.PhysicalQuantity"
       ]
      }
     ],
     "prompt_number": 56
    },
    {
     "cell_type": "code",
     "collapsed": false,
     "input": [
      "print(s)"
     ],
     "language": "python",
     "metadata": {},
     "outputs": [
      {
       "output_type": "stream",
       "stream": "stdout",
       "text": [
        "10 m\n"
       ]
      }
     ],
     "prompt_number": 57
    },
    {
     "cell_type": "markdown",
     "metadata": {},
     "source": [
      "We now have a ``PhysicalQuantity`` object ``s`` and can carry out the usual manipulations we do with the number 10, and the units will be exposed to the same operations, and updated accordingly. For example, if we ask what the area of a square with side length ``s`` would be, we can evaluate ``s**2``:"
     ]
    },
    {
     "cell_type": "code",
     "collapsed": false,
     "input": [
      "s**2"
     ],
     "language": "python",
     "metadata": {},
     "outputs": [
      {
       "metadata": {},
       "output_type": "pyout",
       "prompt_number": 58,
       "text": [
        "100 m^2"
       ]
      }
     ],
     "prompt_number": 58
    },
    {
     "cell_type": "markdown",
     "metadata": {},
     "source": [
      "Of course we know that ``10**2``=$10^2=100$, but if we square the physical quantity ``s``, we square the number *and the unit* ``m`` correctly, and the output above shows ``100 m^2``. When dealing with more complex units and more complicated expressions, the extra information on the units can be extremely useful to detect errors."
     ]
    },
    {
     "cell_type": "markdown",
     "metadata": {},
     "source": [
      "Different ``PhysicalQuantity`` objects can be combined, for example to compute the velocity ``v`` for something that moves the distance ``s`` in the time ``t``:"
     ]
    },
    {
     "cell_type": "code",
     "collapsed": false,
     "input": [
      "t = Q(2, 's')  # create physical quantity to represent the duration of 2 seconds\n",
      "print(t)"
     ],
     "language": "python",
     "metadata": {},
     "outputs": [
      {
       "output_type": "stream",
       "stream": "stdout",
       "text": [
        "2 s\n"
       ]
      }
     ],
     "prompt_number": 59
    },
    {
     "cell_type": "code",
     "collapsed": false,
     "input": [
      "v = s / t      # and compute the velocity when travelling distance s in time t\n",
      "print(v)"
     ],
     "language": "python",
     "metadata": {},
     "outputs": [
      {
       "output_type": "stream",
       "stream": "stdout",
       "text": [
        "5 m/s\n"
       ]
      }
     ],
     "prompt_number": 60
    },
    {
     "cell_type": "markdown",
     "metadata": {},
     "source": [
      "If we do want to access the numerical value of the quantity, we can use the ``value`` attribute of the the ``PhysicalQuantity`` object:"
     ]
    },
    {
     "cell_type": "code",
     "collapsed": false,
     "input": [
      "v.value"
     ],
     "language": "python",
     "metadata": {},
     "outputs": [
      {
       "metadata": {},
       "output_type": "pyout",
       "prompt_number": 61,
       "text": [
        "5"
       ]
      }
     ],
     "prompt_number": 61
    },
    {
     "cell_type": "markdown",
     "metadata": {},
     "source": [
      "Similarly, we can ask for only the units of the quantity using ``.unit``:"
     ]
    },
    {
     "cell_type": "code",
     "collapsed": false,
     "input": [
      "v.unit"
     ],
     "language": "python",
     "metadata": {},
     "outputs": [
      {
       "metadata": {},
       "output_type": "pyout",
       "prompt_number": 62,
       "text": [
        "<PhysicalUnit m/s>"
       ]
      }
     ],
     "prompt_number": 62
    },
    {
     "cell_type": "markdown",
     "metadata": {},
     "source": [
      "## SI or not SI?"
     ]
    },
    {
     "cell_type": "markdown",
     "metadata": {},
     "source": [
      "The nearly globally used system of measurements is the International System of units (so-called [SI units](http://en.wikipedia.org/wiki/SI_units)), which [goes back a long time](http://en.wikipedia.org/wiki/Outline_of_the_metric_system) and is based on the metre, second, kilogram, ampere, kelvin, candela and mole as the base units.\n",
      "\n",
      "As long as we express all quantities in these base units, and compute other entities (correctly) purely based on their numerical value, we can rely on the resulting quantity having the right number for these base units. "
     ]
    },
    {
     "cell_type": "markdown",
     "metadata": {},
     "source": [
      "### Example (in base units)"
     ]
    },
    {
     "cell_type": "markdown",
     "metadata": {},
     "source": [
      "Here is an example: we measure the distance in metres, say 10,000 metres (the base unit for distance is metre), and we establish that it took as 1800 seconds (the base unit for time is seconds) to travel that distance by bicycle. We can compute the average velocity by dividing the distance by time, and get the average velocity in the base units:"
     ]
    },
    {
     "cell_type": "code",
     "collapsed": false,
     "input": [
      "s1 = 10000     # we know this is expressed in metres, even though s1 does not know.\n",
      "t1 = 1800      # we knows this is expressed in seconds. Of course t1 does not know.\n",
      "v1 = s1 / t1   # we know that the result will be expressed in m/s. And v1 does not know.\n",
      "print(v1)"
     ],
     "language": "python",
     "metadata": {},
     "outputs": [
      {
       "output_type": "stream",
       "stream": "stdout",
       "text": [
        "5\n"
       ]
      }
     ],
     "prompt_number": 63
    },
    {
     "cell_type": "markdown",
     "metadata": {},
     "source": [
      "So our average velocity, while travelling 10,000 metres in 1,800 seconds, is 5 metres per second. The calculation only returns the value 5 but we know the units are metres per second because this is the way to express velocity in base units)."
     ]
    },
    {
     "cell_type": "markdown",
     "metadata": {},
     "source": [
      "### Example (not in base units)"
     ]
    },
    {
     "cell_type": "markdown",
     "metadata": {},
     "source": [
      "We tend to speak about velocities of vehicles in kilometre per hour, km/h, (or miles per hour) which are not SI base units. So we need to convert the result of 5 m/s into, say, km/h. We can do this manually by starting from 5 m/s, and then we substitute m with km/1000 and substitute s with h/3600:"
     ]
    },
    {
     "cell_type": "markdown",
     "metadata": {},
     "source": [
      "$$ 5 \\frac{m}{s} = 5 \\frac{m}{1} \\frac{1}{s} = 5 \\frac{km}{1000}\\frac{3600}{h} = 5 \\frac{km}{h}3.6 = 5\\cdot 3.6 \\frac{km}{h} = 18 \\frac{km}{h}$$"
     ]
    },
    {
     "cell_type": "markdown",
     "metadata": {},
     "source": [
      "We can repeat the same exercise using the ``PhysicalQuantity`` objects, which will make the conversion to km/h much easier:"
     ]
    },
    {
     "cell_type": "code",
     "collapsed": false,
     "input": [
      "s2 = Q(10000, 'm')\n",
      "t2 = Q(1800, 's')\n",
      "v2 = s2 / t2\n",
      "print(v2)"
     ],
     "language": "python",
     "metadata": {},
     "outputs": [
      {
       "output_type": "stream",
       "stream": "stdout",
       "text": [
        "5 m/s\n"
       ]
      }
     ],
     "prompt_number": 64
    },
    {
     "cell_type": "markdown",
     "metadata": {},
     "source": [
      "The ``PhysicalQuantity`` provides a convenient ``convert``  method, that can change the way the quantity is expressed into any (compatible) units. So to learn what ``v2`` is in km/h, we can use"
     ]
    },
    {
     "cell_type": "code",
     "collapsed": false,
     "input": [
      "v2.convert('km/h')\n",
      "print(v2)"
     ],
     "language": "python",
     "metadata": {},
     "outputs": [
      {
       "output_type": "stream",
       "stream": "stdout",
       "text": [
        "18 km/h\n"
       ]
      }
     ],
     "prompt_number": 65
    },
    {
     "cell_type": "markdown",
     "metadata": {},
     "source": [
      "We can change the way that ``v2`` represents its quantity as often as we like. In particular, we may go back to m/s:"
     ]
    },
    {
     "cell_type": "code",
     "collapsed": false,
     "input": [
      "v2.convert('m/s')\n",
      "print(v2)"
     ],
     "language": "python",
     "metadata": {},
     "outputs": [
      {
       "output_type": "stream",
       "stream": "stdout",
       "text": [
        "5 m/s\n"
       ]
      }
     ],
     "prompt_number": 66
    },
    {
     "cell_type": "markdown",
     "metadata": {},
     "source": [
      "Or to nanometre per nanosecond (useful in a nanotechnology context, for example the velocity of a read/write head moving relative to the rotating disk in a hard drive is of the order of nanometres per nanosecond):"
     ]
    },
    {
     "cell_type": "code",
     "collapsed": false,
     "input": [
      "v2.convert('nm/ns')\n",
      "print(v2)"
     ],
     "language": "python",
     "metadata": {},
     "outputs": [
      {
       "output_type": "stream",
       "stream": "stdout",
       "text": [
        "5 nm/ns\n"
       ]
      }
     ],
     "prompt_number": 67
    },
    {
     "cell_type": "markdown",
     "metadata": {},
     "source": [
      "Or to miles per hour - admittedly we need to know that ``miles`` are abbreviated ``mi`` within the ``physics.py`` file. The best way to find out is to look into the source code if necessary (see below). So here we go in (British) miles per hour:"
     ]
    },
    {
     "cell_type": "code",
     "collapsed": false,
     "input": [
      "v2.convert('mi/h')\n",
      "print(v2)"
     ],
     "language": "python",
     "metadata": {},
     "outputs": [
      {
       "output_type": "stream",
       "stream": "stdout",
       "text": [
        "11.184681 mi/h\n"
       ]
      }
     ],
     "prompt_number": 68
    },
    {
     "cell_type": "markdown",
     "metadata": {},
     "source": [
      "The various unit identifiers such as ``mi`` for miles are created in the ``physics.py`` file, often with a useful comment. So if we have that file handy (in ``finmag/util/physics.py``), we could also just grep for ``mile`` and see what names come up."
     ]
    },
    {
     "cell_type": "markdown",
     "metadata": {},
     "source": [
      "### Convert quantity to SI units"
     ]
    },
    {
     "cell_type": "markdown",
     "metadata": {},
     "source": [
      "Finally, the ``PhysicalQuantity`` object has a convenient property ``base`` which returns the quantity expressed in base units which are SI units for the ``physics`` package:"
     ]
    },
    {
     "cell_type": "code",
     "collapsed": false,
     "input": [
      "v2  # we had previously expressed this velocity in units of miles per hour"
     ],
     "language": "python",
     "metadata": {},
     "outputs": [
      {
       "metadata": {},
       "output_type": "pyout",
       "prompt_number": 69,
       "text": [
        "11.184681 mi/h"
       ]
      }
     ],
     "prompt_number": 69
    },
    {
     "cell_type": "code",
     "collapsed": false,
     "input": [
      "v2.base  "
     ],
     "language": "python",
     "metadata": {},
     "outputs": [
      {
       "metadata": {},
       "output_type": "pyout",
       "prompt_number": 70,
       "text": [
        "5 m/s"
       ]
      }
     ],
     "prompt_number": 70
    },
    {
     "cell_type": "markdown",
     "metadata": {},
     "source": [
      "And for those who are missing the CGS system, there is a also a property ``cgs`` that expresses the physical quantity in base units of Centimetres, Grams and Seconds (CGS): "
     ]
    },
    {
     "cell_type": "code",
     "collapsed": false,
     "input": [
      "v2.cgs"
     ],
     "language": "python",
     "metadata": {},
     "outputs": [
      {
       "metadata": {},
       "output_type": "pyout",
       "prompt_number": 71,
       "text": [
        "500 cm/s"
       ]
      }
     ],
     "prompt_number": 71
    },
    {
     "cell_type": "markdown",
     "metadata": {},
     "source": [
      "## ``PhysicalQuantities`` stick to their units"
     ]
    },
    {
     "cell_type": "markdown",
     "metadata": {},
     "source": [
      "We note that ``PhysicalQuantity`` objects remember their representation: if we create a distance as an Astronomical Unit ``au`` (roughly the distance Earth to Sun), then we do so because this is a sensible length scale for the given problem. It thus makes sense (as a design decision for the behaviour of ``PhysicalQuantities``) to stick to the representation of the quantity in the same units when we use it or a derived quantity. For example"
     ]
    },
    {
     "cell_type": "code",
     "collapsed": false,
     "input": [
      "longdistance = Q(2, 'au')\n",
      "print(\"Twice the distance Earth-Sun is %s.\" % longdistance)\n",
      "print(\"which is %s in SI base units.\" % longdistance.base)\n",
      "print(\"But an astronomer may argue that %s looks more friendly.\" % longdistance)"
     ],
     "language": "python",
     "metadata": {},
     "outputs": [
      {
       "output_type": "stream",
       "stream": "stdout",
       "text": [
        "Twice the distance Earth-Sun is 2 au.\n",
        "which is 2.9919574e+11 m in SI base units.\n",
        "But an astronomer may argue that 2 au looks more friendly.\n"
       ]
      }
     ],
     "prompt_number": 72
    },
    {
     "cell_type": "markdown",
     "metadata": {},
     "source": [
      "## Predefined physics constants"
     ]
    },
    {
     "cell_type": "markdown",
     "metadata": {},
     "source": [
      "Now that we are looking at astronomical distances, we may as well ask: how long does it take light to travel 2 astronomical units? The ``physics`` package has a number of important physical constants available which may help us here and which we can access:"
     ]
    },
    {
     "cell_type": "code",
     "collapsed": false,
     "input": [
      "physics._constants"
     ],
     "language": "python",
     "metadata": {},
     "outputs": [
      {
       "metadata": {},
       "output_type": "pyout",
       "prompt_number": 73,
       "text": [
        "[('pi', 3.141592653589793),\n",
        " ('e', 2.718281828459045),\n",
        " ('c0', 2.9979246e+08 m/s),\n",
        " ('mu0', 1.2566371e-06 kg*m/A^2/s^2),\n",
        " ('eps0', 8.8541878e-12 A^2*s^4/kg/m^3),\n",
        " ('Grav', 6.67384e-11 m^3/s^2/kg),\n",
        " ('hpl', 6.6260696e-34 s*J),\n",
        " ('hbar', 1.0545717e-34 s*J),\n",
        " ('e0', 1.6021766e-19 C),\n",
        " ('me', 9.1093829e-31 kg),\n",
        " ('mp', 1.6726218e-27 kg),\n",
        " ('mn', 1.6749274e-27 kg),\n",
        " ('NA', 6.0221413e+23 1/mol),\n",
        " ('kb', 1.3806488e-23 J/K),\n",
        " ('g0', 9.80665 m/s^2),\n",
        " ('R', 8.3144621 J/K/mol),\n",
        " ('alpha', 0.0072973525698),\n",
        " ('Ry', 10973732 1/m),\n",
        " ('mu_n', -9.6623647e-27 J/T),\n",
        " ('gamma', 183.24718 MHz/T),\n",
        " ('h0', 0.704),\n",
        " ('sigmaT', 6.652453e-29 m^2)]"
       ]
      }
     ],
     "prompt_number": 73
    },
    {
     "cell_type": "markdown",
     "metadata": {},
     "source": [
      "One of those is the velocity of light 'c0', so we can divide the distance by the velocity to get the travel time:"
     ]
    },
    {
     "cell_type": "code",
     "collapsed": false,
     "input": [
      "longdistance / Q(1, 'c0')"
     ],
     "language": "python",
     "metadata": {},
     "outputs": [
      {
       "metadata": {},
       "output_type": "pyout",
       "prompt_number": 74,
       "text": [
        "2 au/c0"
       ]
      }
     ],
     "prompt_number": 74
    },
    {
     "cell_type": "markdown",
     "metadata": {},
     "source": [
      "The resulting ``PhysicalQuantity`` sticks to the use of ``c0`` and ``au`` as the units, because we started from them. Of course we can convert this into any (compatible) units we like. The easiest way is to use the ``base`` property:"
     ]
    },
    {
     "cell_type": "code",
     "collapsed": false,
     "input": [
      "traveltime = longdistance / Q(1, 'c0')\n",
      "traveltime.base"
     ],
     "language": "python",
     "metadata": {},
     "outputs": [
      {
       "metadata": {},
       "output_type": "pyout",
       "prompt_number": 75,
       "text": [
        "998.00957 s"
       ]
      }
     ],
     "prompt_number": 75
    },
    {
     "cell_type": "markdown",
     "metadata": {},
     "source": [
      "So the light needs about 1000 seconds to travel 2 astronomical units. How much is that in minutes?"
     ]
    },
    {
     "cell_type": "code",
     "collapsed": false,
     "input": [
      "traveltime.convert('min')\n",
      "print traveltime"
     ],
     "language": "python",
     "metadata": {},
     "outputs": [
      {
       "output_type": "stream",
       "stream": "stdout",
       "text": [
        "16.633493 min\n"
       ]
      }
     ],
     "prompt_number": 76
    },
    {
     "cell_type": "markdown",
     "metadata": {},
     "source": [
      "We could of course have defined the velocity of light ourselves, for example"
     ]
    },
    {
     "cell_type": "code",
     "collapsed": false,
     "input": [
      "c = Q(2.99792458e8, 'm/s')\n",
      "print (longdistance / c).base"
     ],
     "language": "python",
     "metadata": {},
     "outputs": [
      {
       "output_type": "stream",
       "stream": "stdout",
       "text": [
        "998.00957 s\n"
       ]
      }
     ],
     "prompt_number": 77
    },
    {
     "cell_type": "markdown",
     "metadata": {},
     "source": [
      "## Equality of ``PhysicalQuantities``"
     ]
    },
    {
     "cell_type": "markdown",
     "metadata": {},
     "source": [
      "For clarity, let's create two objects ``x`` and ``y`` that describe the same velocity but expressed as 18 km/h and 5 m/s, respectively:"
     ]
    },
    {
     "cell_type": "code",
     "collapsed": false,
     "input": [
      "x = Q(5, 'm/s')\n",
      "y = Q(18, 'km/h')\n",
      "print(\"x = %s\" % x)\n",
      "print(\"y = %s\" % y)"
     ],
     "language": "python",
     "metadata": {},
     "outputs": [
      {
       "output_type": "stream",
       "stream": "stdout",
       "text": [
        "x = 5 m/s\n",
        "y = 18 km/h\n"
       ]
      }
     ],
     "prompt_number": 78
    },
    {
     "cell_type": "markdown",
     "metadata": {},
     "source": [
      "The velocities appear different when printed, yet they describe the *same velocity*, i.e. they represent the *same quantity*. The ``PhysicalQuantity`` comparison confirms this:"
     ]
    },
    {
     "cell_type": "code",
     "collapsed": false,
     "input": [
      "x == y"
     ],
     "language": "python",
     "metadata": {},
     "outputs": [
      {
       "metadata": {},
       "output_type": "pyout",
       "prompt_number": 79,
       "text": [
        "True"
       ]
      }
     ],
     "prompt_number": 79
    },
    {
     "cell_type": "markdown",
     "metadata": {},
     "source": [
      "Another way to compare quantities is to refer back to their unique representation using base units:"
     ]
    },
    {
     "cell_type": "code",
     "collapsed": false,
     "input": [
      "print(x.base)\n",
      "print(y.base)"
     ],
     "language": "python",
     "metadata": {},
     "outputs": [
      {
       "output_type": "stream",
       "stream": "stdout",
       "text": [
        "5 m/s\n",
        "5 m/s\n"
       ]
      }
     ],
     "prompt_number": 80
    },
    {
     "cell_type": "markdown",
     "metadata": {},
     "source": [
      "## Application example: kinetic and potential energy (and Tom Daley)"
     ]
    },
    {
     "cell_type": "markdown",
     "metadata": {},
     "source": [
      "We review the features introduced above by computing the kinetic energy of a car that has a mass of 1000 kg and moves at a velocity of 50 km/h:"
     ]
    },
    {
     "cell_type": "code",
     "collapsed": false,
     "input": [
      "m = Q(1000, 'kg')"
     ],
     "language": "python",
     "metadata": {},
     "outputs": [],
     "prompt_number": 81
    },
    {
     "cell_type": "code",
     "collapsed": false,
     "input": [
      "v = Q(50, 'km/h')"
     ],
     "language": "python",
     "metadata": {},
     "outputs": [],
     "prompt_number": 82
    },
    {
     "cell_type": "markdown",
     "metadata": {},
     "source": [
      "The ``PhysicalQuantity`` object ``v`` remembers that it has been created with the value 50 and the unit ``km/h``:"
     ]
    },
    {
     "cell_type": "code",
     "collapsed": false,
     "input": [
      "v"
     ],
     "language": "python",
     "metadata": {},
     "outputs": [
      {
       "metadata": {},
       "output_type": "pyout",
       "prompt_number": 83,
       "text": [
        "50 km/h"
       ]
      }
     ],
     "prompt_number": 83
    },
    {
     "cell_type": "markdown",
     "metadata": {},
     "source": [
      "We can convert it into SI units (of metre and seconds here), using the ``.base`` attribute which returns the same physical quantity in SI base units:"
     ]
    },
    {
     "cell_type": "code",
     "collapsed": false,
     "input": [
      "v.base"
     ],
     "language": "python",
     "metadata": {},
     "outputs": [
      {
       "metadata": {},
       "output_type": "pyout",
       "prompt_number": 84,
       "text": [
        "13.888889 m/s"
       ]
      }
     ],
     "prompt_number": 84
    },
    {
     "cell_type": "markdown",
     "metadata": {},
     "source": [
      "Or we can use the ``convert`` method that will change the way the object ``v`` is presented from km/h to m/s: "
     ]
    },
    {
     "cell_type": "code",
     "collapsed": false,
     "input": [
      "v.convert('m/s')\n",
      "v"
     ],
     "language": "python",
     "metadata": {},
     "outputs": [
      {
       "metadata": {},
       "output_type": "pyout",
       "prompt_number": 85,
       "text": [
        "13.888889 m/s"
       ]
      }
     ],
     "prompt_number": 85
    },
    {
     "cell_type": "markdown",
     "metadata": {},
     "source": [
      "The kinetic energy $E_\\mathrm{k}$ is $E_\\mathrm{k} = \\frac{1}{2} m v^2$, and we can conveniently compute this as"
     ]
    },
    {
     "cell_type": "code",
     "collapsed": false,
     "input": [
      "Ek = 0.5 * m * v **2\n",
      "Ek"
     ],
     "language": "python",
     "metadata": {},
     "outputs": [
      {
       "metadata": {},
       "output_type": "pyout",
       "prompt_number": 86,
       "text": [
        "96450.617 m^2*kg/s^2"
       ]
      }
     ],
     "prompt_number": 86
    },
    {
     "cell_type": "markdown",
     "metadata": {},
     "source": [
      "The physics extension has used the information it had about the mass [kg] and the velocity [m/s] to work out the correct units for the kinetic energy that contains the mass [kg] and the velocity squared [m^2 / s^2]. \n",
      "\n",
      "Or to get this in kilo Joule (kJ):"
     ]
    },
    {
     "cell_type": "code",
     "collapsed": false,
     "input": [
      "Ek.convert('kJ')\n",
      "Ek"
     ],
     "language": "python",
     "metadata": {},
     "outputs": [
      {
       "metadata": {},
       "output_type": "pyout",
       "prompt_number": 87,
       "text": [
        "96.450617 kJ"
       ]
      }
     ],
     "prompt_number": 87
    },
    {
     "cell_type": "markdown",
     "metadata": {},
     "source": [
      "We may now ask from what height the same car would have to fall from to reach the same kinetic energy (on the surface of planet Earth). We do this by comparing the potential energy $E_\\mathrm{p} = m g h$ with the kinetic energy $E_\\mathrm{k}$ that we have at a velocity of 50 km/h, where $g = 9.81\\mathrm{kg/s^2}$ is the Earth's gravitational acceleration at the surface of the planet. And thus $h = \\frac{E_{\\mathrm{k}}}{m g}$:"
     ]
    },
    {
     "cell_type": "code",
     "collapsed": false,
     "input": [
      "g = Q(9.81, 'm/s^2')"
     ],
     "language": "python",
     "metadata": {},
     "outputs": [],
     "prompt_number": 88
    },
    {
     "cell_type": "code",
     "collapsed": false,
     "input": [
      "h = Ek / (m * g)"
     ],
     "language": "python",
     "metadata": {},
     "outputs": [],
     "prompt_number": 89
    },
    {
     "cell_type": "code",
     "collapsed": false,
     "input": [
      "h"
     ],
     "language": "python",
     "metadata": {},
     "outputs": [
      {
       "metadata": {},
       "output_type": "pyout",
       "prompt_number": 90,
       "text": [
        "0.0098318672 kJ*s^2/m/kg"
       ]
      }
     ],
     "prompt_number": 90
    },
    {
     "cell_type": "markdown",
     "metadata": {},
     "source": [
      "``h`` seems to remember that we wanted the energy expressed in kJ. Let's look at the base units of h:"
     ]
    },
    {
     "cell_type": "code",
     "collapsed": false,
     "input": [
      "h.base"
     ],
     "language": "python",
     "metadata": {},
     "outputs": [
      {
       "metadata": {},
       "output_type": "pyout",
       "prompt_number": 91,
       "text": [
        "9.8318672 m"
       ]
      }
     ],
     "prompt_number": 91
    },
    {
     "cell_type": "markdown",
     "metadata": {},
     "source": [
      "Let's force h to be displayed in metres, it's what we normally want:"
     ]
    },
    {
     "cell_type": "code",
     "collapsed": false,
     "input": [
      "h.convert('m')\n",
      "h"
     ],
     "language": "python",
     "metadata": {},
     "outputs": [
      {
       "metadata": {},
       "output_type": "pyout",
       "prompt_number": 92,
       "text": [
        "9.8318672 m"
       ]
      }
     ],
     "prompt_number": 92
    },
    {
     "cell_type": "markdown",
     "metadata": {},
     "source": [
      "What does this quantity $h$ mean? It means that the kinetic energy of a car travelling with 50 km/h is the same as the energy of that car falling (in vacuum) from a height of $\\approx 9.83\\mathrm{m}$. This may appear to be a fairly large height: jumping from a ten metre tower is generally seen as dangerous (unless one is jumping into water, and even then this is not risk free). However, what it actually shows is that the travelling at (only) 50 km/h is also a somewhat risky procedure.\n",
      "\n",
      "The fact that our calculation not only returned a numerical value (i.e. 9.83) but also a unit (i.e. metres) gives some extra confidence in the result: at least we have not made a mistake which would lead to the result having the wrong units (and almost certainly the wrong value as well)."
     ]
    },
    {
     "cell_type": "markdown",
     "metadata": {},
     "source": [
      "We should say for completeness, that there are better ways of obtaining this result: for example we can see that the mass of the object (and thus the total kinetic energy) does not actually matter for the question posed, and that generally the fall height $h$ relates to a travelling velocity $v$ through "
     ]
    },
    {
     "cell_type": "markdown",
     "metadata": {},
     "source": [
      "$$ h = \\frac{v^2}{2g}$$"
     ]
    },
    {
     "cell_type": "markdown",
     "metadata": {},
     "source": [
      "so that for the particular numbers we have"
     ]
    },
    {
     "cell_type": "code",
     "collapsed": false,
     "input": [
      "v**2 / (2 * g)"
     ],
     "language": "python",
     "metadata": {},
     "outputs": [
      {
       "metadata": {},
       "output_type": "pyout",
       "prompt_number": 93,
       "text": [
        "9.8318672 m"
       ]
      }
     ],
     "prompt_number": 93
    },
    {
     "cell_type": "markdown",
     "metadata": {},
     "source": [
      "Another way of cross checking this result is that for objects under the constant acceleration $g$, the velocity changes as $v(t) = g t$, and the travelled distance is given by $s(t) = \\frac{1}{2} g t^2$. Solving the latter equation for $t$ provides $t(s) = \\sqrt{2\\frac{s}{g}}$, *i.e.* for our example where $s=h$:"
     ]
    },
    {
     "cell_type": "code",
     "collapsed": false,
     "input": [
      "import numpy as np\n",
      "t = np.sqrt(2*h/g)"
     ],
     "language": "python",
     "metadata": {},
     "outputs": [],
     "prompt_number": 97
    },
    {
     "cell_type": "code",
     "collapsed": false,
     "input": [
      "t"
     ],
     "language": "python",
     "metadata": {},
     "outputs": [
      {
       "metadata": {},
       "output_type": "pyout",
       "prompt_number": 98,
       "text": [
        "1.4157889 s"
       ]
      }
     ],
     "prompt_number": 98
    },
    {
     "cell_type": "markdown",
     "metadata": {},
     "source": [
      "This means it takes 1.416 seconds to fall a height of 9.83 metres. The velocity is then obtain as $v(t) = g t$"
     ]
    },
    {
     "cell_type": "code",
     "collapsed": false,
     "input": [
      "v2 = g * t"
     ],
     "language": "python",
     "metadata": {},
     "outputs": [],
     "prompt_number": 99
    },
    {
     "cell_type": "code",
     "collapsed": false,
     "input": [
      "v2"
     ],
     "language": "python",
     "metadata": {},
     "outputs": [
      {
       "metadata": {},
       "output_type": "pyout",
       "prompt_number": 100,
       "text": [
        "13.888889 m/s"
       ]
      }
     ],
     "prompt_number": 100
    },
    {
     "cell_type": "code",
     "collapsed": false,
     "input": [
      "v2.convert('km/h')"
     ],
     "language": "python",
     "metadata": {},
     "outputs": [],
     "prompt_number": 101
    },
    {
     "cell_type": "code",
     "collapsed": false,
     "input": [
      "v2"
     ],
     "language": "python",
     "metadata": {},
     "outputs": [
      {
       "metadata": {},
       "output_type": "pyout",
       "prompt_number": 102,
       "text": [
        "50 km/h"
       ]
      }
     ],
     "prompt_number": 102
    },
    {
     "cell_type": "markdown",
     "metadata": {},
     "source": [
      "The velocity v2 that we have computed independently based on the fall height $h$ matches the velocity v we started from to determine the right fall height; giving us more confidence in the correctness of the procedure."
     ]
    },
    {
     "cell_type": "markdown",
     "metadata": {},
     "source": [
      "A quick reminder regarding the material presented in this section: the IPython Notebook notation (i.e. ``x = 5 m`` instead of ``x = Q(5, 'm')``) can only be used within the Ipython Notebook. To save a Python program that carries out calculations of quantities, we need to use the ``PhysicalQuantity`` constructor ``Q`` as shown in the first part of this post."
     ]
    },
    {
     "cell_type": "markdown",
     "metadata": {},
     "source": [
      "## Summary"
     ]
    },
    {
     "cell_type": "markdown",
     "metadata": {},
     "source": [
      "In the same way that computer-assisted symbolic calculation is often undervalued, I believe that we as computational scientists and engineers should make more use of calculations with physical quantities that carry information about the units of a numerical value. I have certainly spend a lot of time getting units right (often getting them wrong first), and see others making similar mistakes in long handwritten calculations. Mixup of units can lead to the failure of major projects such as the so-called [metric mixup](http://en.wikipedia.org/wiki/Mars_Climate_Orbiter#Cause_of_failure) of the Mars Climate Orbiter leading to its crash in 1999.\n",
      "\n",
      "In practical simulation and modelling we are often given physical quantities from experimentalists or sensors or theoretical scientists that need to be converted, for example from non-SI to SI units or into simulation units. Even independent of computer simulations, we regularly need to convert physical quantities between different unit systems for calculations and further processing of data.\n",
      "\n",
      "Where appropriate and possible in our software, we should explicitly carry around the units in which a quantity is expressed together with the numerical value (for example using the ``physics`` module) - instead of assuming we know in which units a quantity is expressed. This avoids errors introduced by incorrect/missing documentation or misunderstandings regarding the units for the numerical values. Furthermore, instead of working out on paper the conversion factor for a numerical value based on one set of units to another set of units, we should delegate this algorithmic task to the computer. This makes the process more reproducible, more flexible, and documents the conversion. "
     ]
    },
    {
     "cell_type": "markdown",
     "metadata": {},
     "source": [
      "--------------------\n",
      "\n",
      "Software versions used: the ipython-physics repository commit used for the testing above was ``66ece9cb6b0916502ccf8f9984c7a1a28e8b1a17`` from 22 Oct 2012. The IPython version was 0.13.1."
     ]
    }
   ],
   "metadata": {}
  }
 ]
}