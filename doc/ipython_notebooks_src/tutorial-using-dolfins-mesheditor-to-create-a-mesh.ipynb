{
 "metadata": {
  "name": "",
  "signature": "sha256:61d6afab91ca47abe62a2a8bafec4c34e1f6749075ca900565f3f332253eadde"
 },
 "nbformat": 3,
 "nbformat_minor": 0,
 "worksheets": [
  {
   "cells": [
    {
     "cell_type": "markdown",
     "metadata": {},
     "source": [
      "# Creating regular meshes programmatically with `dolfin's` `MeshEditor`"
     ]
    },
    {
     "cell_type": "code",
     "collapsed": false,
     "input": [
      "import dolfin as df\n",
      "import numpy as np\n",
      "from finmag.util.meshes import plot_mesh_with_paraview"
     ],
     "language": "python",
     "metadata": {},
     "outputs": [
      {
       "output_type": "stream",
       "stream": "stderr",
       "text": [
        "[2014-06-10 00:05:02] INFO: Finmag logging output will be appended to file: '/home/albert/.finmag/global.log'\n"
       ]
      },
      {
       "output_type": "stream",
       "stream": "stderr",
       "text": [
        "[2014-06-10 00:05:02] DEBUG: Building modules in 'native'...\n"
       ]
      },
      {
       "output_type": "stream",
       "stream": "stderr",
       "text": [
        "[2014-06-10 00:05:03] DEBUG: FinMag          5072:2db217c82cd39b8f104be0c1aae11108bfb7b865\n"
       ]
      },
      {
       "output_type": "stream",
       "stream": "stderr",
       "text": [
        "[2014-06-10 00:05:03] DEBUG: Dolfin          1.4.0                Matplotlib      1.3.1               \n"
       ]
      },
      {
       "output_type": "stream",
       "stream": "stderr",
       "text": [
        "[2014-06-10 00:05:03] DEBUG: Numpy           1.8.1                Scipy           0.12.0              \n"
       ]
      },
      {
       "output_type": "stream",
       "stream": "stderr",
       "text": [
        "[2014-06-10 00:05:03] DEBUG: IPython         2.1.0                Python          2.7.5+              \n"
       ]
      },
      {
       "output_type": "stream",
       "stream": "stderr",
       "text": [
        "[2014-06-10 00:05:03] DEBUG: Paraview        4.0.1-1              Sundials        2.5.0               \n"
       ]
      },
      {
       "output_type": "stream",
       "stream": "stderr",
       "text": [
        "[2014-06-10 00:05:03] DEBUG: Boost-Python    <unknown>            Linux           Linux Mint 16 Petra \n"
       ]
      },
      {
       "output_type": "stream",
       "stream": "stderr",
       "text": [
        "[2014-06-10 00:05:03] DEBUG: Registering debug signal handler. Press Ctrl-Z at any time to stop execution and jump into the debugger.\n"
       ]
      }
     ],
     "prompt_number": 1
    },
    {
     "cell_type": "markdown",
     "metadata": {},
     "source": [
      "Usually it is best to use external software like `Netgen` or `Gmsh` to create meshes because these can create meshes of high quality for finite element applications. However, in some situations it can be helpful to use very regular meshes (e.g. for debugging, to test certain assumptions).\n",
      "\n",
      "In this tutorial we show how to create such meshes programmatically using `dolfin's` `MeshEditor`."
     ]
    },
    {
     "cell_type": "markdown",
     "metadata": {},
     "source": [
      "As an example we create a mesh which consists of a 3D array of tetrahedra of the same shape. This array should consist of `nx`, `ny`, `nz` tetrahedra in the x, y, z-directions, respectively."
     ]
    },
    {
     "cell_type": "code",
     "collapsed": false,
     "input": [
      "nx = 5\n",
      "ny = 3\n",
      "nz = 2\n",
      "\n",
      "N = nx * ny * nz  # total number of cells in the mesh"
     ],
     "language": "python",
     "metadata": {},
     "outputs": [],
     "prompt_number": 2
    },
    {
     "cell_type": "markdown",
     "metadata": {},
     "source": [
      "First we need to create an instance of the `MeshEditor` class."
     ]
    },
    {
     "cell_type": "code",
     "collapsed": false,
     "input": [
      "editor = df.MeshEditor()"
     ],
     "language": "python",
     "metadata": {},
     "outputs": [],
     "prompt_number": 3
    },
    {
     "cell_type": "markdown",
     "metadata": {},
     "source": [
      "Next we create an 'empty' mesh and open it in the editor. The `open` command needs two keyword arguments which specify the topological and geometrical dimension, respectively. Since we would like to create a 3D mesh, these are both equal to 3 in our case."
     ]
    },
    {
     "cell_type": "code",
     "collapsed": false,
     "input": [
      "mesh = df.Mesh()\n",
      "editor.open(mesh, 3, 3)"
     ],
     "language": "python",
     "metadata": {},
     "outputs": [],
     "prompt_number": 4
    },
    {
     "cell_type": "markdown",
     "metadata": {},
     "source": [
      "Next we need to let the `MeshEditor` know how many vertices and cells the final mesh should have."
     ]
    },
    {
     "cell_type": "code",
     "collapsed": false,
     "input": [
      "editor.init_vertices(4*N)\n",
      "editor.init_cells(N)"
     ],
     "language": "python",
     "metadata": {},
     "outputs": [],
     "prompt_number": 5
    },
    {
     "cell_type": "markdown",
     "metadata": {},
     "source": [
      "Finally, we can add all the vertices and cells. Since all cells look the same, we start by defining the vertices of a standard simplex and simply translate them by a certain amount for each cell.\n",
      "\n",
      "The `add_vertex` command accepts the index of the vertex to be added as the first argument and a `numpy.array` of vertex coordinates as the second argument. Note that it is important that the entries of the coordinate array are of type `float`, otherwise `dolfin` will throw an error.\n",
      "\n",
      "Similarly, the `add_cell` command accepts the index of the cell to be added as the first argument and the list of vertex indices of that cell as the second argument. Again, this list must be a numpy array with entries of type `uintp`, otherwise `dolfin` throws an error."
     ]
    },
    {
     "cell_type": "code",
     "collapsed": false,
     "input": [
      "# Define vertices of a standard simplex\n",
      "v0 = np.array([0., 0., 0.])\n",
      "v1 = np.array([1., 0., 0.])\n",
      "v2 = np.array([0., 1., 0.])\n",
      "v3 = np.array([0., 0., 1.])\n",
      "\n",
      "cur_cell = 0\n",
      "for i in xrange(nx):\n",
      "    for j in xrange(ny):\n",
      "        for k in xrange(nz):\n",
      "            d = np.array([2. * i, 2. * j, 2. * k])  # displacement vector for the current cell\n",
      "\n",
      "            idx0 = 4 * cur_cell\n",
      "            idx1 = idx0 + 1\n",
      "            idx2 = idx0 + 2\n",
      "            idx3 = idx0 + 3\n",
      "\n",
      "            editor.add_vertex(idx0, v0 + d)\n",
      "            editor.add_vertex(idx1, v1 + d)\n",
      "            editor.add_vertex(idx2, v2 + d)\n",
      "            editor.add_vertex(idx3, v3 + d)\n",
      "\n",
      "            editor.add_cell(cur_cell, np.array([idx0, idx1, idx2, idx3], dtype=np.uintp))\n",
      "            cur_cell += 1"
     ],
     "language": "python",
     "metadata": {},
     "outputs": [],
     "prompt_number": 6
    },
    {
     "cell_type": "markdown",
     "metadata": {},
     "source": [
      "Finally, we need to close the `MeshEditor` (otherwise random crashes can occur)."
     ]
    },
    {
     "cell_type": "code",
     "collapsed": false,
     "input": [
      "editor.close()"
     ],
     "language": "python",
     "metadata": {},
     "outputs": [],
     "prompt_number": 7
    },
    {
     "cell_type": "markdown",
     "metadata": {},
     "source": [
      "Plotting the mesh we see that indeed the array of tetrahedra has been constructed as expected."
     ]
    },
    {
     "cell_type": "code",
     "collapsed": false,
     "input": [
      "plot_mesh_with_paraview(mesh, camera_position=[150, -50, 20], use_parallel_projection=True)"
     ],
     "language": "python",
     "metadata": {},
     "outputs": [
      {
       "metadata": {},
       "output_type": "pyout",
       "png": "[encoded data removed]",
       "prompt_number": 8,
       "text": [
        "<IPython.core.display.Image at 0x45fe4d0>"
       ]
      }
     ],
     "prompt_number": 8
    }
   ],
   "metadata": {}
  }
 ]
}