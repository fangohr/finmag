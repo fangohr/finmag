{
 "metadata": {
  "name": "",
  "signature": "sha256:a72ae18a388e2482b666fc3e6f86db5aacef28737f233fe9335e92aedcc5b338"
 },
 "nbformat": 3,
 "nbformat_minor": 0,
 "worksheets": [
  {
   "cells": [
    {
     "cell_type": "code",
     "collapsed": false,
     "input": [
      "import numpy as np\n",
      "import dolfin as df\n",
      "import matplotlib.pyplot as plt\n",
      "from math import pi, sin"
     ],
     "language": "python",
     "metadata": {},
     "outputs": [],
     "prompt_number": 2
    },
    {
     "cell_type": "heading",
     "level": 1,
     "metadata": {},
     "source": [
      "Measuring Power"
     ]
    },
    {
     "cell_type": "markdown",
     "metadata": {},
     "source": [
      "The aim is to measure the power of a spin-wave."
     ]
    },
    {
     "cell_type": "code",
     "collapsed": false,
     "input": [
      "from finmag import Simulation\n",
      "from finmag.energies import TimeZeemanPython, Exchange"
     ],
     "language": "python",
     "metadata": {},
     "outputs": [
      {
       "output_type": "stream",
       "stream": "stderr",
       "text": [
        "[2014-12-09 14:57:08] INFO: Finmag logging output will be appended to file: '/home/theta/.finmag/global.log'\n"
       ]
      },
      {
       "output_type": "stream",
       "stream": "stderr",
       "text": [
        "[2014-12-09 14:57:08] DEBUG: Building modules in 'native'...\n"
       ]
      },
      {
       "output_type": "stream",
       "stream": "stderr",
       "text": [
        "[2014-12-09 14:57:09] DEBUG: FinMag          5689:cefdc780736251c8a552ec097e529474e2bdf620\n"
       ]
      },
      {
       "output_type": "stream",
       "stream": "stderr",
       "text": [
        "[2014-12-09 14:57:09] DEBUG: Dolfin          1.4.0                Matplotlib      1.3.1               \n"
       ]
      },
      {
       "output_type": "stream",
       "stream": "stderr",
       "text": [
        "[2014-12-09 14:57:09] DEBUG: Numpy           1.8.2                Scipy           0.13.3              \n"
       ]
      },
      {
       "output_type": "stream",
       "stream": "stderr",
       "text": [
        "[2014-12-09 14:57:09] DEBUG: IPython         2.3.1                Python          2.7.6               \n"
       ]
      },
      {
       "output_type": "stream",
       "stream": "stderr",
       "text": [
        "[2014-12-09 14:57:09] DEBUG: Paraview        4.0.1-1ubuntu1       Sundials        2.5.0               \n"
       ]
      },
      {
       "output_type": "stream",
       "stream": "stderr",
       "text": [
        "[2014-12-09 14:57:09] DEBUG: Boost-Python    <unknown>            Linux           Ubuntu 14.04.1 LTS  \n"
       ]
      },
      {
       "output_type": "stream",
       "stream": "stderr",
       "text": [
        "[2014-12-09 14:57:09] DEBUG: Registering debug signal handler. Press Ctrl-Z at any time to stop execution and jump into the debugger.\n"
       ]
      }
     ],
     "prompt_number": 3
    },
    {
     "cell_type": "heading",
     "level": 2,
     "metadata": {},
     "source": [
      "1d-Example"
     ]
    },
    {
     "cell_type": "markdown",
     "metadata": {},
     "source": [
      "We start with an 1d-system of length 1 micrometer."
     ]
    },
    {
     "cell_type": "code",
     "collapsed": false,
     "input": [
      "length = 10\n",
      "unit_length = 1e-9\n",
      "cells = 5\n",
      "mesh = df.IntervalMesh(cells, 0, length)\n",
      "print \"Distance between vertices is {} nm.\".format(float(abs(mesh.coordinates()[0] - mesh.coordinates()[1])))"
     ],
     "language": "python",
     "metadata": {},
     "outputs": [
      {
       "output_type": "stream",
       "stream": "stdout",
       "text": [
        "Distance between vertices is 2.0 nm.\n"
       ]
      }
     ],
     "prompt_number": 4
    },
    {
     "cell_type": "markdown",
     "metadata": {},
     "source": [
      "Material parameters for Permalloy will be used."
     ]
    },
    {
     "cell_type": "code",
     "collapsed": false,
     "input": [
      "Ms = 860e3  # saturation magnetisation in A/m\n",
      "A = 13e-12  # exchange stiffness in J/m\n",
      "alpha = 0.02  # damping constant"
     ],
     "language": "python",
     "metadata": {},
     "outputs": [],
     "prompt_number": 5
    },
    {
     "cell_type": "markdown",
     "metadata": {},
     "source": [
      "A high-frequency pulse will be used to excite spin-waves at one end of the nanowire."
     ]
    },
    {
     "cell_type": "code",
     "collapsed": false,
     "input": [
      "amplitude = Ms / 2\n",
      "f = 100e9  # ordinary frequency in Hz\n",
      "omega = 2 * pi * f  # angular frequency in Hz\n",
      "H0 = df.Expression((\"0\", \"x[0] <= 1 ? 1 : 0\", \"0\"))\n",
      "Ht = lambda t: sin(omega * t)\n",
      "H = TimeZeemanPython(H0, Ht, name=\"Pulse\")"
     ],
     "language": "python",
     "metadata": {},
     "outputs": [],
     "prompt_number": 24
    },
    {
     "cell_type": "markdown",
     "metadata": {},
     "source": [
      "Set up the simulation."
     ]
    },
    {
     "cell_type": "code",
     "collapsed": false,
     "input": [
      "sim = Simulation(mesh, Ms, unit_length)\n",
      "sim.alpha = alpha\n",
      "sim.add(Exchange(A))\n",
      "sim.add(H)"
     ],
     "language": "python",
     "metadata": {},
     "outputs": [
      {
       "output_type": "stream",
       "stream": "stderr",
       "text": [
        "[2014-12-09 14:58:54] INFO: Finmag logging output will be written to file: '/home/theta/Workspace/finmag/doc/ipython_notebooks_src/unnamed.log' (any old content will be overwritten).\n"
       ]
      },
      {
       "output_type": "stream",
       "stream": "stderr",
       "text": [
        "[2014-12-09 14:58:54] DEBUG: Creating DataWriter for file 'unnamed.ndt'\n"
       ]
      },
      {
       "output_type": "stream",
       "stream": "stderr",
       "text": [
        "[2014-12-09 14:58:54] INFO: Creating Sim object 'unnamed' (rank=0/1).\n"
       ]
      },
      {
       "output_type": "stream",
       "stream": "stderr",
       "text": [
        "[2014-12-09 14:58:54] INFO: <Mesh of topological dimension 1 (intervals) with 6 vertices and 5 cells, ordered>\n"
       ]
      },
      {
       "output_type": "stream",
       "stream": "stderr",
       "text": [
        "[2014-12-09 14:58:54] DEBUG: Creating LLG object.\n"
       ]
      },
      {
       "output_type": "stream",
       "stream": "stderr",
       "text": [
        "[2014-12-09 14:58:54] DEBUG: Creating Exchange object with method box-matrix-petsc,  in Jacobian.\n"
       ]
      },
      {
       "output_type": "stream",
       "stream": "stderr",
       "text": [
        "[2014-12-09 14:58:54] DEBUG: Adding interaction Exchange to simulation.\n"
       ]
      },
      {
       "output_type": "stream",
       "stream": "stderr",
       "text": [
        "[2014-12-09 14:58:54] DEBUG: Adding interaction Pulse to simulation.\n"
       ]
      }
     ],
     "prompt_number": 25
    },
    {
     "cell_type": "markdown",
     "metadata": {},
     "source": [
      "Before we run the simulation, let's have a look at the applied field direction at $x=0$. In principle, we would have to `setup` the pulse to use our mesh, but adding the pulse to the simulation object in the last step has handled this for us."
     ]
    },
    {
     "cell_type": "code",
     "collapsed": false,
     "input": [
      "ts = np.linspace(0, 100e-12, 1e4)\n",
      "Hyt = [H.update(t).compute_field().reshape((3, -1))[1, 0] for t in ts]\n",
      "\n",
      "fig = plt.figure(figsize=(12, 4))\n",
      "ax = fig.add_subplot(111)\n",
      "ax.plot(ts * 1e9, Hyt, label=\"H_y\")\n",
      "ax.set_xlim((0, 0.1))\n",
      "ax.set_xlabel(\"time (ns)\")\n",
      "ax.set_ylim((-1, 1))\n",
      "ax.legend()"
     ],
     "language": "python",
     "metadata": {},
     "outputs": [
      {
       "metadata": {},
       "output_type": "pyout",
       "prompt_number": 43,
       "text": [
        "<matplotlib.legend.Legend at 0x7fc4d307b590>"
       ]
      },
      {
       "metadata": {},
       "output_type": "display_data",
       "png": "[encoded data removed]",
       "text": [
        "<matplotlib.figure.Figure at 0x7fc4d3127d50>"
       ]
      }
     ],
     "prompt_number": 43
    },
    {
     "cell_type": "code",
     "collapsed": false,
     "input": [],
     "language": "python",
     "metadata": {},
     "outputs": [],
     "prompt_number": 8
    }
   ],
   "metadata": {}
  }
 ]
}