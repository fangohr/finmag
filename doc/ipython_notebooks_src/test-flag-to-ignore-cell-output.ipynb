{
 "metadata": {
  "name": ""
 },
 "nbformat": 3,
 "nbformat_minor": 0,
 "worksheets": [
  {
   "cells": [
    {
     "cell_type": "markdown",
     "metadata": {},
     "source": [
      "This is a very simple notebook to check that our IPython notebook test script correctly ignores the output of code cells whose input has been marked with a the string `IPYTHON_TEST_IGNORE_OUTPUT` (this string can occur anywhere in the cell)."
     ]
    },
    {
     "cell_type": "code",
     "collapsed": false,
     "input": [
      "# This output should be compared.\n",
      "print 42"
     ],
     "language": "python",
     "metadata": {},
     "outputs": [
      {
       "output_type": "stream",
       "stream": "stdout",
       "text": [
        "42\n"
       ]
      }
     ],
     "prompt_number": 1
    },
    {
     "cell_type": "code",
     "collapsed": false,
     "input": [
      "# IPYTHON_TEST_IGNORE_OUTPUT\n",
      "#\n",
      "# This output will be ignored due to the string above.\n",
      "# If it isn't ignored, the test will fail because the timestamp will be different.\n",
      "import datetime\n",
      "print datetime.datetime.now()"
     ],
     "language": "python",
     "metadata": {},
     "outputs": [
      {
       "output_type": "stream",
       "stream": "stdout",
       "text": [
        "2013-12-04 13:34:08.936127\n"
       ]
      }
     ],
     "prompt_number": 12
    },
    {
     "cell_type": "code",
     "collapsed": false,
     "input": [
      "# Note that the 'ignore' flag can occur anywhere in the input, not just in\n",
      "# the first line (but for example here: IPYTHON_TEST_IGNORE_OUTPUT) and even\n",
      "# in the middle of comments.\n",
      "import datetime\n",
      "print datetime.datetime.now()"
     ],
     "language": "python",
     "metadata": {},
     "outputs": [
      {
       "output_type": "stream",
       "stream": "stdout",
       "text": [
        "2013-12-04 13:35:24.263388\n"
       ]
      }
     ],
     "prompt_number": 15
    },
    {
     "cell_type": "code",
     "collapsed": false,
     "input": [],
     "language": "python",
     "metadata": {},
     "outputs": []
    }
   ],
   "metadata": {}
  }
 ]
}