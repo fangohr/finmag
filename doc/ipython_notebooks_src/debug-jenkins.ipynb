{
 "metadata": {
  "name": ""
 },
 "nbformat": 3,
 "nbformat_minor": 0,
 "worksheets": [
  {
   "cells": [
    {
     "cell_type": "code",
     "collapsed": false,
     "input": [
      "import os\n",
      "print os.environ.get(\"HOME\")\n",
      "print os.environ.get(\"PYTHONPATH\")"
     ],
     "language": "python",
     "metadata": {},
     "outputs": [
      {
       "output_type": "stream",
       "stream": "stdout",
       "text": [
        "/home/mb8g11\n",
        "/home/mb8g11/Workspace/simlib/src:/home/mb8g11/Workspace/finmag/src:/home/mb8g11/Workspace/nmag/nsim/interface:/home/mb8g11/Workspace/mb8g11/simulations:/home/mb8g11/Workspace/aeon\n"
       ]
      }
     ],
     "prompt_number": 6
    },
    {
     "cell_type": "code",
     "collapsed": false,
     "input": [
      "import dolfin\n",
      "print dolfin.__version__"
     ],
     "language": "python",
     "metadata": {},
     "outputs": [
      {
       "output_type": "stream",
       "stream": "stdout",
       "text": [
        "1.2.0\n"
       ]
      }
     ],
     "prompt_number": 2
    },
    {
     "cell_type": "code",
     "collapsed": false,
     "input": [
      "import finmag\n",
      "print finmag\n",
      "print finmag.__version__"
     ],
     "language": "python",
     "metadata": {},
     "outputs": [
      {
       "output_type": "stream",
       "stream": "stdout",
       "text": [
        "<module 'finmag' from '/home/mb8g11/Workspace/finmag/src/finmag/__init__.pyc'>\n",
        "4276:ca9a293d2eb1be023ec644b138677d9b6e6c1d4b\n"
       ]
      }
     ],
     "prompt_number": 7
    },
    {
     "cell_type": "code",
     "collapsed": false,
     "input": [],
     "language": "python",
     "metadata": {},
     "outputs": []
    }
   ],
   "metadata": {}
  }
 ]
}