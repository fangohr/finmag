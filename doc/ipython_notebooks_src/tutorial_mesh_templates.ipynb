{
 "metadata": {
  "name": "",
  "signature": "sha256:282aaaf4f9a606a4fc4d64ed258d5f4d14b324d6292a035ed30e4051325f3972"
 },
 "nbformat": 3,
 "nbformat_minor": 0,
 "worksheets": [
  {
   "cells": [
    {
     "cell_type": "markdown",
     "metadata": {},
     "source": [
      "# Creating complex meshes using mesh templates"
     ]
    },
    {
     "cell_type": "markdown",
     "metadata": {},
     "source": [
      "**Author**: Max Albert\n",
      "\n",
      "**Date**: Sep 2013\n",
      "\n",
      "**Purpose**: Illustrate the `mesh_template` functionality to build up complex meshes in Finmag. TODO: Actually, this is obsolete since `dolfin` already comes with a CSG (Constructive Solid Geometry) module. We should turn this tutorial into a tutorial about that module."
     ]
    },
    {
     "cell_type": "markdown",
     "metadata": {},
     "source": [
      "Finmag provides convenience functions (such as `sphere`, `box`, `nanodisk`) in the module `finmag.util.meshes` which allow the user to quickly create meshes for frequently used shapes.\n",
      "\n",
      "However, sometimes there is a need to create more complex meshes, for example a nanodisk with two spherical particles nearby. In order to do this, Finmag provides a more flexible mechanims using so-called *mesh templates*. These provide \"blueprints\" for various mesh primitives, which can be combined to form more complex meshes. It is also possible to render a mesh composed of mesh templates using different mesh discretisations.\n",
      "\n",
      "In the following we give some examples how to create simple and more complex meshes using mesh templates."
     ]
    },
    {
     "cell_type": "markdown",
     "metadata": {},
     "source": [
      "## Mesh primitives"
     ]
    },
    {
     "cell_type": "markdown",
     "metadata": {},
     "source": [
      "First we import the templates `Sphere` and `Nanodisk`, as well as the helper function `plot_mesh_with_paraview` which allows us to quickly visualise the meshes. We also set the logging level to 'INFO' in order to avoid cluttering the screen with debugging messages."
     ]
    },
    {
     "cell_type": "code",
     "collapsed": false,
     "input": [
      "from finmag.util.mesh_templates import Sphere, Nanodisk\n",
      "from finmag.util.meshes import plot_mesh_with_paraview\n",
      "import finmag\n",
      "finmag.set_logging_level('INFO')"
     ],
     "language": "python",
     "metadata": {},
     "outputs": [
      {
       "output_type": "stream",
       "stream": "stderr",
       "text": [
        "[2014-01-16 16:15:12] INFO: Finmag logging output will be appended to file: '/home/albert/.finmag/global.log'\n"
       ]
      },
      {
       "output_type": "stream",
       "stream": "stderr",
       "text": [
        "[2014-01-16 16:15:12] DEBUG: Building modules in 'native'...\n"
       ]
      },
      {
       "output_type": "stream",
       "stream": "stderr",
       "text": [
        "[2014-01-16 16:15:13] DEBUG:               Finmag: 4367:d53f0318482b9f3ee02ecdc45939365264e8ea6d\n"
       ]
      },
      {
       "output_type": "stream",
       "stream": "stderr",
       "text": [
        "[2014-01-16 16:15:13] DEBUG: Registering debug signal handler. Press Ctrl-Z at any time to stop execution and jump into the debugger.\n"
       ]
      }
     ],
     "prompt_number": 1
    },
    {
     "cell_type": "markdown",
     "metadata": {},
     "source": [
      "Next we can create a template for a spherical mesh. It accepts the usual arguments for the radius and the center of the sphere, as well as an optional `name` argument (which we do not provide here)."
     ]
    },
    {
     "cell_type": "code",
     "collapsed": false,
     "input": [
      "sphere = Sphere(r=20.0, center=(0, 0, 1))"
     ],
     "language": "python",
     "metadata": {},
     "outputs": [],
     "prompt_number": 2
    },
    {
     "cell_type": "markdown",
     "metadata": {},
     "source": [
      "We can create a mesh from this template by telling it the desired mesh discretisation:"
     ]
    },
    {
     "cell_type": "markdown",
     "metadata": {},
     "source": [
      "We can use the *exact same* template to create a spherical mesh with a coarser discretisation:"
     ]
    },
    {
     "cell_type": "code",
     "collapsed": false,
     "input": [
      "mesh2 = sphere.create_mesh(maxh=10.0)"
     ],
     "language": "python",
     "metadata": {},
     "outputs": [
      {
       "metadata": {},
       "output_type": "pyout",
       "png": "[encoded data removed]",
       "prompt_number": 4,
       "text": [
        "<IPython.core.display.Image at 0x2f45c10>"
       ]
      }
     ],
     "prompt_number": 4
    },
    {
     "cell_type": "code",
     "collapsed": false,
     "input": [
      "# IPYTHON_TEST_IGNORE_OUTPUT\n",
      "plot_mesh_with_paraview(mesh2)"
     ],
     "language": "python",
     "metadata": {},
     "outputs": []
    },
    {
     "cell_type": "markdown",
     "metadata": {},
     "source": [
      "So far this isn't too exciting, and we could have done all this using the simpler functions in `finmag.util.meshes`. So let's move on to building more complex meshes."
     ]
    },
    {
     "cell_type": "markdown",
     "metadata": {},
     "source": [
      "## Building more complex meshes by combining primitives"
     ]
    },
    {
     "cell_type": "markdown",
     "metadata": {},
     "source": [
      "Let's create three templates: one nanodisk and two spherical particles next to it. Here we provide the `name` arguments because they will be usefule below."
     ]
    },
    {
     "cell_type": "code",
     "collapsed": false,
     "input": [
      "nanodisk = Nanodisk(d=60, h=5, center=(0, 0, 0), valign='bottom', name='nanodisk')\n",
      "sphere1 = Sphere(r=10, center=(-20, 0, 20), name='sphere1')\n",
      "sphere2 = Sphere(r=5, center=(+15, 0, 15), name='sphere2')"
     ],
     "language": "python",
     "metadata": {},
     "outputs": [],
     "prompt_number": 5
    },
    {
     "cell_type": "markdown",
     "metadata": {},
     "source": [
      "We can build a template for a mesh which combines all three of these primitives by simply \"adding\" them together."
     ]
    },
    {
     "cell_type": "code",
     "collapsed": false,
     "input": [
      "disk_with_particles = nanodisk + sphere1 + sphere2"
     ],
     "language": "python",
     "metadata": {},
     "outputs": [],
     "prompt_number": 6
    },
    {
     "cell_type": "markdown",
     "metadata": {},
     "source": [
      "Then we can then \"render\" this template to create a mesh (exactly as we did above) by providing the mesh discretisation parameter `maxh`."
     ]
    },
    {
     "cell_type": "code",
     "collapsed": false,
     "input": [
      "mesh = disk_with_particles.create_mesh(maxh=5.0)"
     ],
     "language": "python",
     "metadata": {},
     "outputs": [
      {
       "metadata": {},
       "output_type": "pyout",
       "png": "[encoded data removed]",
       "prompt_number": 7,
       "text": [
        "<IPython.core.display.Image at 0x41dc950>"
       ]
      }
     ],
     "prompt_number": 7
    },
    {
     "cell_type": "code",
     "collapsed": false,
     "input": [
      "# IPYTHON_TEST_IGNORE_OUTPUT\n",
      "plot_mesh_with_paraview(mesh, camera_position=[0, -200, 100])"
     ],
     "language": "python",
     "metadata": {},
     "outputs": []
    },
    {
     "cell_type": "markdown",
     "metadata": {},
     "source": [
      "In case we'd like to use different values of `maxh` for each of the primitives, the `create_mesh()` method allows to pass in arguments of the form `maxh_NAME`, where `NAME` is the name of one of those primitives. All primitives for which no specific discretisation parameter is provided will use the \"global\" value of `maxh`. In the following example, we render the nanodisk with a coarser discretisation (`maxh_nanodisk=10.0`) than before and the first sphere with a finer discretisation (`maxh_sphere1=2.0`). The second sphere uses the global value `maxh=5.0` as before."
     ]
    },
    {
     "cell_type": "code",
     "collapsed": false,
     "input": [
      "mesh = disk_with_particles.create_mesh(maxh=5.0, maxh_nanodisk=10.0, maxh_sphere1=2.0)"
     ],
     "language": "python",
     "metadata": {},
     "outputs": [
      {
       "metadata": {},
       "output_type": "pyout",
       "png": "[encoded data removed]",
       "prompt_number": 8,
       "text": [
        "<IPython.core.display.Image at 0x4293f10>"
       ]
      }
     ],
     "prompt_number": 8
    },
    {
     "cell_type": "code",
     "collapsed": false,
     "input": [
      "# IPYTHON_TEST_IGNORE_OUTPUT\n",
      "plot_mesh_with_paraview(mesh, camera_position=[0, -200, 100])"
     ],
     "language": "python",
     "metadata": {},
     "outputs": []
    }
   ],
   "metadata": {}
  }
 ]
}