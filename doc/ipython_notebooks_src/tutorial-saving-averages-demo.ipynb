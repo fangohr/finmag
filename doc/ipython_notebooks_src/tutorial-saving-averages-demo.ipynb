{
 "metadata": {
  "name": "",
  "signature": "sha256:304bece1c99034f4daf2848624de3b5a371b8a6a9904da2b16ac596fdaa91f94"
 },
 "nbformat": 3,
 "nbformat_minor": 0,
 "worksheets": [
  {
   "cells": [
    {
     "cell_type": "markdown",
     "metadata": {},
     "source": [
      "## Saving spatially averaged magnetisation into a file"
     ]
    },
    {
     "cell_type": "markdown",
     "metadata": {},
     "source": [
      "### Writing data to file"
     ]
    },
    {
     "cell_type": "markdown",
     "metadata": {},
     "source": [
      "We generally want to save some of the simulation data when we run a simulation. Saving the average magnetisation vector as a function of time is a common task, and here we demonstrate how this can be done. We will create a space separated text file where the rows correspond to different magnetisation configurations (typically corresponding to different times), and the columns show some data (typically spatially averaged entities). For now, only the normalised magnetisation average is saved, but this will be extended in the future."
     ]
    },
    {
     "cell_type": "code",
     "collapsed": false,
     "input": [
      "import finmag"
     ],
     "language": "python",
     "metadata": {},
     "outputs": [
      {
       "output_type": "stream",
       "stream": "stderr",
       "text": [
        "[2014-06-20 17:07:38] INFO: Finmag logging output will be appended to file: '/home/fangohr/.finmag/global.log'\n"
       ]
      },
      {
       "output_type": "stream",
       "stream": "stderr",
       "text": [
        "[2014-06-20 17:07:38] DEBUG: Building modules in 'native'...\n"
       ]
      },
      {
       "output_type": "stream",
       "stream": "stderr",
       "text": [
        "[2014-06-20 17:07:39] DEBUG: FinMag          5136:bc06bcb9808177dd75601ba43e91753311d4307b\n"
       ]
      },
      {
       "output_type": "stream",
       "stream": "stderr",
       "text": [
        "[2014-06-20 17:07:39] DEBUG: Dolfin          1.4.0                Matplotlib      1.3.1               \n"
       ]
      },
      {
       "output_type": "stream",
       "stream": "stderr",
       "text": [
        "[2014-06-20 17:07:39] DEBUG: Numpy           1.8.1                Scipy           0.13.3              \n"
       ]
      },
      {
       "output_type": "stream",
       "stream": "stderr",
       "text": [
        "[2014-06-20 17:07:39] DEBUG: IPython         2.1.0                Python          2.7.6               \n"
       ]
      },
      {
       "output_type": "stream",
       "stream": "stderr",
       "text": [
        "[2014-06-20 17:07:39] DEBUG: Paraview        4.0.1-1ubuntu1       Sundials        2.5.0               \n"
       ]
      },
      {
       "output_type": "stream",
       "stream": "stderr",
       "text": [
        "[2014-06-20 17:07:39] DEBUG: Boost-Python    <unknown>            Linux           Ubuntu 14.04 LTS    \n"
       ]
      },
      {
       "output_type": "stream",
       "stream": "stderr",
       "text": [
        "[2014-06-20 17:07:39] DEBUG: Registering debug signal handler. Press Ctrl-Z at any time to stop execution and jump into the debugger.\n"
       ]
      }
     ],
     "prompt_number": 1
    },
    {
     "cell_type": "markdown",
     "metadata": {},
     "source": [
      "The ``bar()`` function provides a simulation object for a Permalloy bar with dimensions 30x30x100nm with the initial magnetisation pointing into the (1,0,1) direction. There is a smaller version of the geometry, (3x3x10nm) which is returned by the function ``barmini``, and which we use here:"
     ]
    },
    {
     "cell_type": "code",
     "collapsed": false,
     "input": [
      "sim = finmag.example.barmini()"
     ],
     "language": "python",
     "metadata": {},
     "outputs": [
      {
       "output_type": "stream",
       "stream": "stderr",
       "text": [
        "[2014-06-20 17:07:43] INFO: Finmag logging output will be written to file: '/home/fangohr/hg/finmag-ndt-bug-fix/doc/ipython_notebooks_src/barmini.log' (any old content will be overwritten).\n"
       ]
      },
      {
       "output_type": "stream",
       "stream": "stderr",
       "text": [
        "[2014-06-20 17:07:43] DEBUG: Creating DataWriter for file 'barmini.ndt'\n"
       ]
      },
      {
       "output_type": "stream",
       "stream": "stderr",
       "text": [
        "[2014-06-20 17:07:43] INFO: Creating Sim object 'barmini' (rank=0/1).\n"
       ]
      },
      {
       "output_type": "stream",
       "stream": "stderr",
       "text": [
        "[2014-06-20 17:07:43] INFO: <Mesh of topological dimension 3 (tetrahedra) with 45 vertices and 96 cells, ordered>\n"
       ]
      },
      {
       "output_type": "stream",
       "stream": "stderr",
       "text": [
        "[2014-06-20 17:07:43] DEBUG: Creating LLG object.\n"
       ]
      },
      {
       "output_type": "stream",
       "stream": "stderr",
       "text": [
        "[2014-06-20 17:07:43] DEBUG: Creating Exchange object with method box-matrix-petsc, in Jacobian.\n"
       ]
      },
      {
       "output_type": "stream",
       "stream": "stderr",
       "text": [
        "[2014-06-20 17:07:43] DEBUG: Adding interaction Exchange to simulation.\n"
       ]
      },
      {
       "output_type": "stream",
       "stream": "stderr",
       "text": [
        "[2014-06-20 17:07:43] DEBUG: Creating Demag object with solver 'FK'.\n"
       ]
      },
      {
       "output_type": "stream",
       "stream": "stderr",
       "text": [
        "[2014-06-20 17:07:43] DEBUG: Adding interaction Demag to simulation.\n"
       ]
      },
      {
       "output_type": "stream",
       "stream": "stderr",
       "text": [
        "[2014-06-20 17:07:43] DEBUG: Successfully created simulation 'barmini'\n"
       ]
      }
     ],
     "prompt_number": 2
    },
    {
     "cell_type": "markdown",
     "metadata": {},
     "source": [
      "Note the DEBUG line that reads \"Creating DataWriter for file 'barmini.ndt'\". At this point the file 'barmini.ndt' is created (overriding an existing file of the same name if it exists). \n",
      "\n",
      "The format of the file is similar to OOMMF's odt files (Oommf Data Table) and Nmag's ndt files (Nmag Data Table). We can append the current (spatially averaged) magnetisation to this file\n",
      "by calling ``sim.save_averages()``:"
     ]
    },
    {
     "cell_type": "code",
     "collapsed": false,
     "input": [
      "sim.save_averages()"
     ],
     "language": "python",
     "metadata": {},
     "outputs": [
      {
       "output_type": "stream",
       "stream": "stderr",
       "text": [
        "[2014-06-20 17:07:44] DEBUG: Saving data to ndt file at t=0.0 (sim.name=barmini).\n"
       ]
      }
     ],
     "prompt_number": 3
    },
    {
     "cell_type": "markdown",
     "metadata": {},
     "source": [
      "And to confirm that this has taken place, let's have a look at the data file:"
     ]
    },
    {
     "cell_type": "code",
     "collapsed": false,
     "input": [
      "!cat barmini.ndt\n"
     ],
     "language": "python",
     "metadata": {},
     "outputs": [
      {
       "output_type": "stream",
       "stream": "stdout",
       "text": [
        "#               time            E_Demag         E_Exchange            E_total          H_Demag_x          H_Demag_y          H_Demag_z       H_Exchange_x       H_Exchange_y       H_Exchange_z          H_total_x          H_total_y          H_total_z             dmdt_x             dmdt_y             dmdt_z       last_step_dt                m_x                m_y                m_z              steps \r\n",
        "#                <s>                <J>                <J>                <J>              <A/m>              <A/m>              <A/m>              <A/m>              <A/m>              <A/m>              <A/m>              <A/m>              <A/m>             <A/ms>             <A/ms>             <A/ms>                <1>                 <>                 <>                 <>                <1> \r\n",
        "                   0  9.99434122264e-21                  0  9.99434122264e-21     -210808.743122     -19907.0801882     -70862.1056989 -1.89115971695e-09                  0 -1.89115971695e-09     -210808.743122     -19907.0801882     -70862.1056989                nan                nan                nan                nan     0.707106781187                  0     0.707106781187                nan \r\n"
       ]
      }
     ],
     "prompt_number": 4
    },
    {
     "cell_type": "markdown",
     "metadata": {},
     "source": [
      "The first line contains the title for every column, the second line the (SI) units in which the entity is measured, and the third and any other lines contain the actual data."
     ]
    },
    {
     "cell_type": "markdown",
     "metadata": {},
     "source": [
      "Let's use the scheduler to save the average magnetisation every 10 picoseconds. We use the ``sim.schedule`` method for this. Then we'll run the simulation for 0.2 nanoseconds."
     ]
    },
    {
     "cell_type": "code",
     "collapsed": false,
     "input": [
      "sim.schedule(\"save_ndt\", every=10e-12)\n",
      "sim.run_until(0.2e-9)"
     ],
     "language": "python",
     "metadata": {},
     "outputs": [
      {
       "output_type": "stream",
       "stream": "stderr",
       "text": [
        "[2014-06-20 17:07:51] INFO: Create integrator sundials with kwargs={}\n"
       ]
      },
      {
       "output_type": "stream",
       "stream": "stderr",
       "text": [
        "[2014-06-20 17:07:51] DEBUG: Creating integrator with backend sundials.\n"
       ]
      },
      {
       "output_type": "stream",
       "stream": "stderr",
       "text": [
        "[2014-06-20 17:07:51] DEBUG: Updating get method for steps in TableWriter(name=barmini.ndt)\n"
       ]
      },
      {
       "output_type": "stream",
       "stream": "stderr",
       "text": [
        "[2014-06-20 17:07:51] DEBUG: Updating get method for last_step_dt in TableWriter(name=barmini.ndt)\n"
       ]
      },
      {
       "output_type": "stream",
       "stream": "stderr",
       "text": [
        "[2014-06-20 17:07:51] DEBUG: Updating get method for dmdt in TableWriter(name=barmini.ndt)\n"
       ]
      },
      {
       "output_type": "stream",
       "stream": "stderr",
       "text": [
        "[2014-06-20 17:07:51] INFO: Simulation will run until t = 2e-10 s.\n"
       ]
      },
      {
       "output_type": "stream",
       "stream": "stderr",
       "text": [
        "[2014-06-20 17:07:51] DEBUG: Saving data to ndt file at t=0.0 (sim.name=barmini).\n"
       ]
      },
      {
       "output_type": "stream",
       "stream": "stderr",
       "text": [
        "[2014-06-20 17:07:52] DEBUG: Saving data to ndt file at t=1e-11 (sim.name=barmini).\n"
       ]
      },
      {
       "output_type": "stream",
       "stream": "stderr",
       "text": [
        "[2014-06-20 17:07:52] DEBUG: Saving data to ndt file at t=2e-11 (sim.name=barmini).\n"
       ]
      },
      {
       "output_type": "stream",
       "stream": "stderr",
       "text": [
        "[2014-06-20 17:07:52] DEBUG: Saving data to ndt file at t=3e-11 (sim.name=barmini).\n"
       ]
      },
      {
       "output_type": "stream",
       "stream": "stderr",
       "text": [
        "[2014-06-20 17:07:52] DEBUG: Saving data to ndt file at t=4e-11 (sim.name=barmini).\n"
       ]
      },
      {
       "output_type": "stream",
       "stream": "stderr",
       "text": [
        "[2014-06-20 17:07:52] DEBUG: Saving data to ndt file at t=5e-11 (sim.name=barmini).\n"
       ]
      },
      {
       "output_type": "stream",
       "stream": "stderr",
       "text": [
        "[2014-06-20 17:07:52] DEBUG: Saving data to ndt file at t=6e-11 (sim.name=barmini).\n"
       ]
      },
      {
       "output_type": "stream",
       "stream": "stderr",
       "text": [
        "[2014-06-20 17:07:52] DEBUG: Saving data to ndt file at t=7e-11 (sim.name=barmini).\n"
       ]
      },
      {
       "output_type": "stream",
       "stream": "stderr",
       "text": [
        "[2014-06-20 17:07:53] DEBUG: Saving data to ndt file at t=8e-11 (sim.name=barmini).\n"
       ]
      },
      {
       "output_type": "stream",
       "stream": "stderr",
       "text": [
        "[2014-06-20 17:07:53] DEBUG: Saving data to ndt file at t=9e-11 (sim.name=barmini).\n"
       ]
      },
      {
       "output_type": "stream",
       "stream": "stderr",
       "text": [
        "[2014-06-20 17:07:53] DEBUG: Saving data to ndt file at t=1e-10 (sim.name=barmini).\n"
       ]
      },
      {
       "output_type": "stream",
       "stream": "stderr",
       "text": [
        "[2014-06-20 17:07:53] DEBUG: Saving data to ndt file at t=1.1e-10 (sim.name=barmini).\n"
       ]
      },
      {
       "output_type": "stream",
       "stream": "stderr",
       "text": [
        "[2014-06-20 17:07:53] DEBUG: Saving data to ndt file at t=1.2e-10 (sim.name=barmini).\n"
       ]
      },
      {
       "output_type": "stream",
       "stream": "stderr",
       "text": [
        "[2014-06-20 17:07:53] DEBUG: Saving data to ndt file at t=1.3e-10 (sim.name=barmini).\n"
       ]
      },
      {
       "output_type": "stream",
       "stream": "stderr",
       "text": [
        "[2014-06-20 17:07:53] DEBUG: Saving data to ndt file at t=1.4e-10 (sim.name=barmini).\n"
       ]
      },
      {
       "output_type": "stream",
       "stream": "stderr",
       "text": [
        "[2014-06-20 17:07:53] DEBUG: Saving data to ndt file at t=1.5e-10 (sim.name=barmini).\n"
       ]
      },
      {
       "output_type": "stream",
       "stream": "stderr",
       "text": [
        "[2014-06-20 17:07:54] DEBUG: Saving data to ndt file at t=1.6e-10 (sim.name=barmini).\n"
       ]
      },
      {
       "output_type": "stream",
       "stream": "stderr",
       "text": [
        "[2014-06-20 17:07:54] DEBUG: Saving data to ndt file at t=1.7e-10 (sim.name=barmini).\n"
       ]
      },
      {
       "output_type": "stream",
       "stream": "stderr",
       "text": [
        "[2014-06-20 17:07:54] DEBUG: Saving data to ndt file at t=1.8e-10 (sim.name=barmini).\n"
       ]
      },
      {
       "output_type": "stream",
       "stream": "stderr",
       "text": [
        "[2014-06-20 17:07:54] DEBUG: Saving data to ndt file at t=1.9e-10 (sim.name=barmini).\n"
       ]
      },
      {
       "output_type": "stream",
       "stream": "stderr",
       "text": [
        "[2014-06-20 17:07:54] DEBUG: Saving data to ndt file at t=2e-10 (sim.name=barmini).\n"
       ]
      },
      {
       "output_type": "stream",
       "stream": "stderr",
       "text": [
        "[2014-06-20 17:07:54] INFO: Simulation has reached time t = 2e-10 s.\n"
       ]
      }
     ],
     "prompt_number": 5
    },
    {
     "cell_type": "markdown",
     "metadata": {},
     "source": [
      "Let's look at the data file now:"
     ]
    },
    {
     "cell_type": "code",
     "collapsed": false,
     "input": [
      "!cat barmini.ndt"
     ],
     "language": "python",
     "metadata": {},
     "outputs": [
      {
       "output_type": "stream",
       "stream": "stdout",
       "text": [
        "#               time            E_Demag         E_Exchange            E_total          H_Demag_x          H_Demag_y          H_Demag_z       H_Exchange_x       H_Exchange_y       H_Exchange_z          H_total_x          H_total_y          H_total_z             dmdt_x             dmdt_y             dmdt_z       last_step_dt                m_x                m_y                m_z              steps \r\n",
        "#                <s>                <J>                <J>                <J>              <A/m>              <A/m>              <A/m>              <A/m>              <A/m>              <A/m>              <A/m>              <A/m>              <A/m>             <A/ms>             <A/ms>             <A/ms>                <1>                 <>                 <>                 <>                <1> \r\n",
        "                   0  9.99434122264e-21                  0  9.99434122264e-21     -210808.743122     -19907.0801882     -70862.1056989 -1.89115971695e-09                  0 -1.89115971695e-09     -210808.743122     -19907.0801882     -70862.1056989                nan                nan                nan                nan     0.707106781187                  0     0.707106781187                nan \r\n",
        "                   0  9.99434122264e-21                  0  9.99434122264e-21     -210808.743122     -19907.0801882     -70862.1056989 -1.89115971695e-09                  0 -1.89115971695e-09     -210808.743122     -19907.0801882     -70862.1056989                  0                  0                  0                  0     0.707106781187                  0     0.707106781187                  0 \r\n",
        "               1e-11  8.87339845217e-21  1.34661186459e-23  8.88686457081e-21     -185356.876617     -72304.3341031     -77437.8693299      -9847.0082107      12332.4032492      4775.64197802     -195203.884828     -59971.9308539     -72662.2273519     -13356292150.5      16760061860.2      6338651913.43  3.27369656973e-13        0.604972292     0.186175975204     0.774156336645                 87 \r\n",
        "               2e-11  7.85887334551e-21  1.21617581487e-23  7.87103510366e-21     -144214.201021     -109701.737349     -82639.6493977     -3721.42348888      3705.36983462      597.289015897      -147935.62451     -105996.367514     -82042.3603818     -17394592422.7      10740105174.8       5241048309.3  2.08476779606e-13     0.451693205272     0.323840697574     0.831308126799                120 \r\n",
        "               3e-11  6.98841993447e-21  1.07271051033e-23  6.99914703957e-21     -94288.1645427     -127206.593823     -86119.3621743      4948.28272551     -2038.18047056     -610.737802961     -89339.8818172     -129244.774293     -86730.0999773     -18400461900.8      3375919109.85      4069665043.95  3.29801648424e-13     0.272708028706     0.394657389716     0.877412970772                153 \r\n",
        "               4e-11  6.28693956595e-21  9.39000170824e-24  6.29632956766e-21     -44401.2952765     -124663.534093     -88124.0501104      12345.3866726     -3929.86513519      387.405468513     -32055.9086039     -128593.399228     -87736.6446419     -16385153882.8     -3207785703.32      3088192326.79  2.09290386708e-13    0.0987180374411     0.396068080557     0.912889048931                182 \r\n",
        "               5e-11  5.74958702627e-21  8.25045860487e-24  5.75783748487e-21     -2396.12338372     -106205.240944     -89077.6224438      16535.6819419     -3207.77965291      1968.92866001      14139.5585582     -109413.020597     -87108.6937838     -12163921966.6     -7925533407.78      2218036304.54  3.29391530604e-13   -0.0439804197718     0.340617907485     0.939164949329                214 \r\n",
        "               6e-11  5.35368046918e-21  7.40502687995e-24  5.36108549606e-21      26831.4202926     -78425.2476103     -89430.3910027      17770.2545234     -1250.48965714      2967.67010872      44601.6748159     -79675.7372674      -86462.720894     -7036333474.22     -10191723300.3      1584571875.93  2.91449371897e-13     -0.13990419118     0.250068993837     0.958061092602                244 \r\n",
        "               7e-11  5.07033738579e-21   6.8351725928e-24  5.07717255839e-21      41898.0582942     -48222.4616977      -89551.274848      17100.4394529      1256.96787373      3139.67455767      58998.4977471     -46965.4938239     -86411.6002903     -2250888706.75     -10227909111.1      1124751009.46  4.34829168106e-13    -0.185856136002     0.148045879843      0.97135527672                273 \r\n",
        "               8e-11  4.87179833133e-21  6.44525455883e-24  4.87824358589e-21      44355.9550098     -21170.2966414     -89680.5315577      15419.3402611        3992.592618      2812.03012363      59775.2952709     -17177.7040234     -86868.5014341      1611775517.04     -8594949315.59      759090835.016  3.51636214792e-13    -0.188543598981    0.0542389790072     0.980562437476                309 \r\n",
        "               9e-11  4.73474152985e-21  6.16071018187e-24  4.74090224003e-21      37551.3028406     -724.718380048     -89931.5602198       13331.937945      6632.76090336      2364.22688908      50883.2407856      5908.04252331     -87567.3333307       3964472876.3     -6098154320.77      509189254.805  3.51636214792e-13    -0.160425977703   -0.0186075620009     0.986869481723                337 \r\n",
        "               1e-10  4.64111763227e-21  5.94160408313e-24  4.64705923636e-21      25440.4179857      11822.3213912     -90320.6982618      11269.2104376      8858.04300701      1967.78508304      36709.6284233      20680.3643982     -88352.9131787      4961765559.55     -3324059710.14      382552027.497  3.51636214792e-13    -0.115584825779   -0.0651275969821     0.991157442671                366 \r\n",
        "             1.1e-10  4.57763488763e-21  5.76608649673e-24  4.58340097412e-21      11667.1198819      16917.7223896     -90805.6635099      9531.67720339      10458.1903157      1612.30980358      21198.7970853      27375.9127053     -89193.3537064      4830283611.58     -968725797.878      258060474.903  3.51636214792e-13   -0.0666118770434   -0.0860661490539     0.994057544887                394 \r\n",
        "             1.2e-10  4.53480361642e-21  5.62185579129e-24  4.54042547221e-21      -992.74461216        16118.50127     -91320.5661783      8276.30620749      11367.7940159       1236.6248096      7283.56159533      27486.2952859     -90083.9413687      3951472865.23      842943609.977      148596913.725  1.38535556121e-13   -0.0228215781286    -0.086221105566      0.99601216359                426 \r\n",
        "             1.3e-10  4.50600022812e-21  5.50474013372e-24  4.51150496825e-21     -10836.4273291      11464.3724133     -91801.3589243      7544.44280109      11643.4115024      823.385995775     -3291.98452802      23107.7839157     -90977.9729285      2719165966.07      1898399886.99      95426084.7416  3.50360195389e-13    0.0103179356363   -0.0723092262272     0.997326534266                460 \r\n",
        "             1.4e-10  4.48666656234e-21  5.41357271321e-24  4.49208013505e-21     -17177.7003093      4972.47287216     -92200.6852838      7291.16213402      11426.6377266      412.688079813     -9886.53817527      16399.1105988     -91787.9972039      1453638045.78      2299180645.25      61505798.0899  3.43142676204e-13    0.0308718384747   -0.0511968797201     0.998208982317                494 \r\n",
        "             1.5e-10  4.47370108169e-21   5.3471465734e-24  4.47904822826e-21     -20130.5816421     -1694.79160873     -92493.4990607      7419.63848732      10903.4788375      67.2262527526     -12710.9431548      9208.68722881     -92426.2728079      356589986.622      2197559998.41      40926088.2719  1.32706616503e-13    0.0396099687578   -0.0286963466934     0.998800758231                525 \r\n",
        "             1.6e-10  4.46500723333e-21  5.30445799393e-24  4.47031169133e-21     -20328.2720645     -7390.73588331     -92676.0385847      7799.78341293      10264.8150831     -166.737189621     -12528.4886516      2874.07919977     -92842.7757743     -450490084.216      1764487350.03      26945606.2718  5.14970106057e-13    0.0389920833472  -0.00894259064883     0.999197223767                555 \r\n",
        "             1.7e-10  4.45917428562e-21   5.2804593244e-24  4.46445474494e-21     -18647.1076609     -11505.0370674     -92760.8850168      8294.16661862      9660.94261656     -278.003958566     -10352.9410422     -1844.09445088     -93038.8889754     -898428981.218      1194335024.28      28138734.0754  4.82589397544e-13    0.0322026784742   0.00574072227787     0.999462591201                581 \r\n",
        "             1.8e-10  4.45525842308e-21   5.2710373523e-24  4.46052946044e-21     -15982.8643568     -13887.3154647     -92770.4826905      8785.15003003      9187.38700712     -286.393824445     -7197.71432674     -4699.92845754      -93056.876515     -1058914931.73      599409350.285      12178056.8267  4.51375586242e-13    0.0223900719631    0.0146258884233      0.99964006713                608 \r\n",
        "             1.9e-10  4.45262730449e-21  5.27103998094e-24  4.45789834447e-21      -13096.472889     -14720.6423935     -92730.8480429      9189.89746905      8881.77820373     -227.634008716     -3906.57541996     -5838.86418974     -92958.4820516     -987290855.667      108705597.465      6654941.42389  5.45214070868e-13     0.012158315006    0.0181760017208     0.999758646883                634 \r\n",
        "               2e-10  4.45085801632e-21  5.27655275084e-24  4.45613456907e-21     -10533.5843915     -14381.0812924     -92666.5611503      9468.78544142      8738.85618513     -138.292341674     -1064.79895005     -5642.22510732      -92804.853492     -780975825.796     -233343125.084      8139132.76553  6.35215677635e-13   0.00331921426753    0.0175745387128     0.999837844164                659 \r\n"
       ]
      }
     ],
     "prompt_number": 6
    },
    {
     "cell_type": "markdown",
     "metadata": {},
     "source": [
      "### Post processing"
     ]
    },
    {
     "cell_type": "markdown",
     "metadata": {},
     "source": [
      "Post processing of this file can be done with other programs (numpy, MS Excel, Gnuplot, Xmgrace, ...) or directly from Python. Finmag provides a convenience function that helps reading the ndt file, and which returns a data object that carries the data from the file:"
     ]
    },
    {
     "cell_type": "code",
     "collapsed": false,
     "input": [
      "data = finmag.util.fileio.Tablereader('barmini.ndt')"
     ],
     "language": "python",
     "metadata": {},
     "outputs": [],
     "prompt_number": 7
    },
    {
     "cell_type": "code",
     "collapsed": false,
     "input": [
      "%matplotlib inline\n",
      "import pylab\n",
      "pylab.plot(data['time'], data['m_y'], 'o-', label='m_x')\n",
      "pylab.plot(data['time'], data['m_x'], '^-', label='m_y')\n",
      "pylab.plot(data['time'], data['m_z'], '+-', label='m_z')\n",
      "pylab.xlabel('time [s]')\n",
      "pylab.ylabel('magnetisation/Ms') \n",
      "pylab.legend()"
     ],
     "language": "python",
     "metadata": {},
     "outputs": [
      {
       "metadata": {},
       "output_type": "pyout",
       "prompt_number": 8,
       "text": [
        "<matplotlib.legend.Legend at 0x7f5ab8799310>"
       ]
      },
      {
       "output_type": "stream",
       "stream": "stderr",
       "text": [
        "/usr/lib/pymodules/python2.7/matplotlib/figure.py:1595: UserWarning: This figure includes Axes that are not compatible with tight_layout, so its results might be incorrect.\n",
        "  warnings.warn(\"This figure includes Axes that are not \"\n"
       ]
      },
      {
       "metadata": {},
       "output_type": "display_data",
       "png": "[encoded data removed]",
       "text": [
        "<matplotlib.figure.Figure at 0x7f5ab9cadfd0>"
       ]
      }
     ],
     "prompt_number": 8
    },
    {
     "cell_type": "markdown",
     "metadata": {},
     "source": [
      "The ``Reader`` object has an extra ``reload()`` method which reads the file again. This can be used if the data has changed:\n"
     ]
    },
    {
     "cell_type": "code",
     "collapsed": false,
     "input": [
      "lastt = data['time'][-1]  # last saved time in file\n",
      "print(lastt)"
     ],
     "language": "python",
     "metadata": {},
     "outputs": [
      {
       "output_type": "stream",
       "stream": "stdout",
       "text": [
        "2e-10\n"
       ]
      }
     ],
     "prompt_number": 9
    },
    {
     "cell_type": "code",
     "collapsed": false,
     "input": [
      "sim.run_until(lastt + 0.1e-9)"
     ],
     "language": "python",
     "metadata": {},
     "outputs": [
      {
       "output_type": "stream",
       "stream": "stderr",
       "text": [
        "[2014-06-20 17:08:14] INFO: Simulation will run until t = 3e-10 s.\n"
       ]
      },
      {
       "output_type": "stream",
       "stream": "stderr",
       "text": [
        "[2014-06-20 17:08:14] DEBUG: Saving data to ndt file at t=2.1e-10 (sim.name=barmini).\n"
       ]
      },
      {
       "output_type": "stream",
       "stream": "stderr",
       "text": [
        "[2014-06-20 17:08:14] DEBUG: Saving data to ndt file at t=2.2e-10 (sim.name=barmini).\n"
       ]
      },
      {
       "output_type": "stream",
       "stream": "stderr",
       "text": [
        "[2014-06-20 17:08:14] DEBUG: Saving data to ndt file at t=2.3e-10 (sim.name=barmini).\n"
       ]
      },
      {
       "output_type": "stream",
       "stream": "stderr",
       "text": [
        "[2014-06-20 17:08:14] DEBUG: Saving data to ndt file at t=2.4e-10 (sim.name=barmini).\n"
       ]
      },
      {
       "output_type": "stream",
       "stream": "stderr",
       "text": [
        "[2014-06-20 17:08:14] DEBUG: Saving data to ndt file at t=2.5e-10 (sim.name=barmini).\n"
       ]
      },
      {
       "output_type": "stream",
       "stream": "stderr",
       "text": [
        "[2014-06-20 17:08:14] DEBUG: Saving data to ndt file at t=2.6e-10 (sim.name=barmini).\n"
       ]
      },
      {
       "output_type": "stream",
       "stream": "stderr",
       "text": [
        "[2014-06-20 17:08:15] DEBUG: Saving data to ndt file at t=2.7e-10 (sim.name=barmini).\n"
       ]
      },
      {
       "output_type": "stream",
       "stream": "stderr",
       "text": [
        "[2014-06-20 17:08:15] DEBUG: Saving data to ndt file at t=2.8e-10 (sim.name=barmini).\n"
       ]
      },
      {
       "output_type": "stream",
       "stream": "stderr",
       "text": [
        "[2014-06-20 17:08:15] DEBUG: Saving data to ndt file at t=2.9e-10 (sim.name=barmini).\n"
       ]
      },
      {
       "output_type": "stream",
       "stream": "stderr",
       "text": [
        "[2014-06-20 17:08:15] DEBUG: Saving data to ndt file at t=3e-10 (sim.name=barmini).\n"
       ]
      },
      {
       "output_type": "stream",
       "stream": "stderr",
       "text": [
        "[2014-06-20 17:08:15] INFO: Simulation has reached time t = 3e-10 s.\n"
       ]
      }
     ],
     "prompt_number": 10
    },
    {
     "cell_type": "code",
     "collapsed": false,
     "input": [
      "print data['time'][-1]"
     ],
     "language": "python",
     "metadata": {},
     "outputs": [
      {
       "output_type": "stream",
       "stream": "stdout",
       "text": [
        "2e-10\n"
       ]
      }
     ],
     "prompt_number": 11
    },
    {
     "cell_type": "code",
     "collapsed": false,
     "input": [
      "data.reload()\n",
      "data['time'][-1]"
     ],
     "language": "python",
     "metadata": {},
     "outputs": [
      {
       "metadata": {},
       "output_type": "pyout",
       "prompt_number": 12,
       "text": [
        "3e-10"
       ]
      }
     ],
     "prompt_number": 12
    }
   ],
   "metadata": {}
  }
 ]
}