{
 "metadata": {
  "name": ""
 },
 "nbformat": 3,
 "nbformat_minor": 0,
 "worksheets": [
  {
   "cells": [
    {
     "cell_type": "markdown",
     "metadata": {},
     "source": [
      "## Saving spatially averaged magnetisation into a file"
     ]
    },
    {
     "cell_type": "markdown",
     "metadata": {},
     "source": [
      "### Writing data to file"
     ]
    },
    {
     "cell_type": "markdown",
     "metadata": {},
     "source": [
      "We generally want to save some of the simulation data when we run a simulation. Saving the average magnetisation vector as a function of time is a common task, and here we demonstrate how this can be done. We will create a space separated text file where the rows correspond to different magnetisation configurations (typically corresponding to different times), and the columns show some data (typically spatially averaged entities). For now, only the normalised magnetisation average is saved, but this will be extended in the future."
     ]
    },
    {
     "cell_type": "code",
     "collapsed": false,
     "input": [
      "import finmag"
     ],
     "language": "python",
     "metadata": {},
     "outputs": [],
     "prompt_number": 60
    },
    {
     "cell_type": "markdown",
     "metadata": {},
     "source": [
      "The ``bar()`` function provides a simulation object for a Permalloy bar with dimensions 30x30x100nm with the initial magnetisation pointing into the (1,0,1) direction. There is a smaller version of the geometry, (3x3x10nm) which is returned by the function ``barmini``, and which we use here:"
     ]
    },
    {
     "cell_type": "code",
     "collapsed": false,
     "input": [
      "sim = finmag.example.barmini()"
     ],
     "language": "python",
     "metadata": {},
     "outputs": [
      {
       "output_type": "stream",
       "stream": "stderr",
       "text": [
        "[2014-02-04 18:37:05] INFO: Finmag logging output will be written to file: '/home/mb8g11/Workspace/finmag/doc/ipython_notebooks_src/barmini.log' (any old content will be overwritten).\n"
       ]
      },
      {
       "output_type": "stream",
       "stream": "stderr",
       "text": [
        "[2014-02-04 18:37:05] DEBUG: Creating DataWriter for file 'barmini.ndt'\n"
       ]
      },
      {
       "output_type": "stream",
       "stream": "stderr",
       "text": [
        "[2014-02-04 18:37:05] INFO: Creating Sim object 'barmini' (rank=0/1).\n"
       ]
      },
      {
       "output_type": "stream",
       "stream": "stderr",
       "text": [
        "[2014-02-04 18:37:05] INFO: <Mesh of topological dimension 3 (tetrahedra) with 45 vertices and 96 cells, ordered>\n"
       ]
      },
      {
       "output_type": "stream",
       "stream": "stderr",
       "text": [
        "[2014-02-04 18:37:05] DEBUG: Creating LLG object.\n"
       ]
      },
      {
       "output_type": "stream",
       "stream": "stderr",
       "text": [
        "[2014-02-04 18:37:05] DEBUG: Creating Exchange object with method box-matrix-petsc, in Jacobian.\n"
       ]
      },
      {
       "output_type": "stream",
       "stream": "stderr",
       "text": [
        "[2014-02-04 18:37:05] DEBUG: Adding interaction <finmag.energies.exchange.Exchange object at 0x566f650> to simulation 'barmini'\n"
       ]
      },
      {
       "output_type": "stream",
       "stream": "stderr",
       "text": [
        "[2014-02-04 18:37:05] DEBUG: Creating Demag object with solver 'FK'.\n"
       ]
      },
      {
       "output_type": "stream",
       "stream": "stderr",
       "text": [
        "[2014-02-04 18:37:05] DEBUG: Adding interaction <finmag.energies.demag.fk_demag.FKDemag object at 0x575e690> to simulation 'barmini'\n"
       ]
      },
      {
       "output_type": "stream",
       "stream": "stderr",
       "text": [
        "[2014-02-04 18:37:05] WARNING: There is outdated code in FKDemag.__init__() setting the \"same_nonzero_pattern\" parameter which might be good to remove since the syntax has changed in recent dolfin versions.\n"
       ]
      },
      {
       "output_type": "stream",
       "stream": "stderr",
       "text": [
        "[2014-02-04 18:37:05] DEBUG: Successfully created simulation 'barmini'\n"
       ]
      }
     ],
     "prompt_number": 61
    },
    {
     "cell_type": "markdown",
     "metadata": {},
     "source": [
      "Note the DEBUG line that reads \"Creating DataWriter for file 'barmini.ndt'\". At this point the file 'barmini.ndt' is created (overriding an existing file of the same name if it exists). \n",
      "\n",
      "The format of the file is similar to OOMMF's odt files (Oommf Data Table) and Nmag's ndt files (Nmag Data Table). We can append the current (spatially averaged) magnetisation to this file\n",
      "by calling ``sim.save_averages()``:"
     ]
    },
    {
     "cell_type": "code",
     "collapsed": false,
     "input": [
      "sim.save_averages()"
     ],
     "language": "python",
     "metadata": {},
     "outputs": [
      {
       "output_type": "stream",
       "stream": "stderr",
       "text": [
        "[2014-02-04 18:37:05] DEBUG: Saving data to ndt file at t=0.0 (sim.name=barmini).\n"
       ]
      }
     ],
     "prompt_number": 62
    },
    {
     "cell_type": "markdown",
     "metadata": {},
     "source": [
      "And to confirm that this has taken place, let's have a look at the data file:"
     ]
    },
    {
     "cell_type": "code",
     "collapsed": false,
     "input": [
      "!cat barmini.ndt\n"
     ],
     "language": "python",
     "metadata": {},
     "outputs": [
      {
       "output_type": "stream",
       "stream": "stdout",
       "text": [
        "#               time            E_Demag         E_Exchange            E_total          H_Demag_x          H_Demag_y          H_Demag_z       H_Exchange_x       H_Exchange_y       H_Exchange_z          H_total_x          H_total_y          H_total_z                m_x                m_y                m_z \r\n",
        "#                <s>                <J>                <J>                <J>              <A/m>              <A/m>              <A/m>              <A/m>              <A/m>              <A/m>              <A/m>              <A/m>              <A/m>                 <>                 <>                 <> \r\n",
        "                   0  9.99434122264e-21                  0  9.99434122264e-21     -210808.743122     -19907.0801882     -70862.1056989 -1.89115971695e-09                  0 -1.89115971695e-09     -210808.743122     -19907.0801882     -70862.1056989     0.707106781187                  0     0.707106781187 \r\n"
       ]
      }
     ],
     "prompt_number": 63
    },
    {
     "cell_type": "markdown",
     "metadata": {},
     "source": [
      "The first line contains the title for every column, the second line the (SI) units in which the entity is measured, and the third and any other lines contain the actual data."
     ]
    },
    {
     "cell_type": "markdown",
     "metadata": {},
     "source": [
      "Let's use the scheduler to save the average magnetisation every 10 picoseconds. We use the ``sim.schedule`` method for this. Then we'll run the simulation for 0.2 nanoseconds."
     ]
    },
    {
     "cell_type": "code",
     "collapsed": false,
     "input": [
      "sim.schedule(\"save_ndt\", every=10e-12)\n",
      "sim.run_until(0.2e-9)"
     ],
     "language": "python",
     "metadata": {},
     "outputs": [
      {
       "output_type": "stream",
       "stream": "stderr",
       "text": [
        "[2014-02-04 18:37:06] INFO: Create integrator sundials with kwargs={}\n"
       ]
      },
      {
       "output_type": "stream",
       "stream": "stderr",
       "text": [
        "[2014-02-04 18:37:06] DEBUG: Creating integrator with backend sundials.\n"
       ]
      },
      {
       "output_type": "stream",
       "stream": "stderr",
       "text": [
        "[2014-02-04 18:37:06] INFO: Simulation will run until t = 2e-10 s.\n"
       ]
      },
      {
       "output_type": "stream",
       "stream": "stderr",
       "text": [
        "[2014-02-04 18:37:06] DEBUG: Saving data to ndt file at t=0.0 (sim.name=barmini).\n"
       ]
      },
      {
       "output_type": "stream",
       "stream": "stderr",
       "text": [
        "[2014-02-04 18:37:06] DEBUG: Saving data to ndt file at t=1e-11 (sim.name=barmini).\n"
       ]
      },
      {
       "output_type": "stream",
       "stream": "stderr",
       "text": [
        "[2014-02-04 18:37:06] DEBUG: Saving data to ndt file at t=2e-11 (sim.name=barmini).\n"
       ]
      },
      {
       "output_type": "stream",
       "stream": "stderr",
       "text": [
        "[2014-02-04 18:37:06] DEBUG: Saving data to ndt file at t=3e-11 (sim.name=barmini).\n"
       ]
      },
      {
       "output_type": "stream",
       "stream": "stderr",
       "text": [
        "[2014-02-04 18:37:06] DEBUG: Saving data to ndt file at t=4e-11 (sim.name=barmini).\n"
       ]
      },
      {
       "output_type": "stream",
       "stream": "stderr",
       "text": [
        "[2014-02-04 18:37:06] DEBUG: Saving data to ndt file at t=5e-11 (sim.name=barmini).\n"
       ]
      },
      {
       "output_type": "stream",
       "stream": "stderr",
       "text": [
        "[2014-02-04 18:37:06] DEBUG: Saving data to ndt file at t=6e-11 (sim.name=barmini).\n"
       ]
      },
      {
       "output_type": "stream",
       "stream": "stderr",
       "text": [
        "[2014-02-04 18:37:06] DEBUG: Saving data to ndt file at t=7e-11 (sim.name=barmini).\n"
       ]
      },
      {
       "output_type": "stream",
       "stream": "stderr",
       "text": [
        "[2014-02-04 18:37:07] DEBUG: Saving data to ndt file at t=8e-11 (sim.name=barmini).\n"
       ]
      },
      {
       "output_type": "stream",
       "stream": "stderr",
       "text": [
        "[2014-02-04 18:37:07] DEBUG: Saving data to ndt file at t=9e-11 (sim.name=barmini).\n"
       ]
      },
      {
       "output_type": "stream",
       "stream": "stderr",
       "text": [
        "[2014-02-04 18:37:07] DEBUG: Saving data to ndt file at t=1e-10 (sim.name=barmini).\n"
       ]
      },
      {
       "output_type": "stream",
       "stream": "stderr",
       "text": [
        "[2014-02-04 18:37:07] DEBUG: Saving data to ndt file at t=1.1e-10 (sim.name=barmini).\n"
       ]
      },
      {
       "output_type": "stream",
       "stream": "stderr",
       "text": [
        "[2014-02-04 18:37:07] DEBUG: Saving data to ndt file at t=1.2e-10 (sim.name=barmini).\n"
       ]
      },
      {
       "output_type": "stream",
       "stream": "stderr",
       "text": [
        "[2014-02-04 18:37:07] DEBUG: Saving data to ndt file at t=1.3e-10 (sim.name=barmini).\n"
       ]
      },
      {
       "output_type": "stream",
       "stream": "stderr",
       "text": [
        "[2014-02-04 18:37:07] DEBUG: Saving data to ndt file at t=1.4e-10 (sim.name=barmini).\n"
       ]
      },
      {
       "output_type": "stream",
       "stream": "stderr",
       "text": [
        "[2014-02-04 18:37:07] DEBUG: Saving data to ndt file at t=1.5e-10 (sim.name=barmini).\n"
       ]
      },
      {
       "output_type": "stream",
       "stream": "stderr",
       "text": [
        "[2014-02-04 18:37:08] DEBUG: Saving data to ndt file at t=1.6e-10 (sim.name=barmini).\n"
       ]
      },
      {
       "output_type": "stream",
       "stream": "stderr",
       "text": [
        "[2014-02-04 18:37:08] DEBUG: Saving data to ndt file at t=1.7e-10 (sim.name=barmini).\n"
       ]
      },
      {
       "output_type": "stream",
       "stream": "stderr",
       "text": [
        "[2014-02-04 18:37:08] DEBUG: Saving data to ndt file at t=1.8e-10 (sim.name=barmini).\n"
       ]
      },
      {
       "output_type": "stream",
       "stream": "stderr",
       "text": [
        "[2014-02-04 18:37:08] DEBUG: Saving data to ndt file at t=1.9e-10 (sim.name=barmini).\n"
       ]
      },
      {
       "output_type": "stream",
       "stream": "stderr",
       "text": [
        "[2014-02-04 18:37:08] DEBUG: Saving data to ndt file at t=2e-10 (sim.name=barmini).\n"
       ]
      },
      {
       "output_type": "stream",
       "stream": "stderr",
       "text": [
        "[2014-02-04 18:37:08] INFO: Simulation has reached time t = 2e-10 s.\n"
       ]
      }
     ],
     "prompt_number": 64
    },
    {
     "cell_type": "markdown",
     "metadata": {},
     "source": [
      "Let's look at the data file now:"
     ]
    },
    {
     "cell_type": "code",
     "collapsed": false,
     "input": [
      "!cat barmini.ndt"
     ],
     "language": "python",
     "metadata": {},
     "outputs": [
      {
       "output_type": "stream",
       "stream": "stdout",
       "text": [
        "#               time            E_Demag         E_Exchange            E_total          H_Demag_x          H_Demag_y          H_Demag_z       H_Exchange_x       H_Exchange_y       H_Exchange_z          H_total_x          H_total_y          H_total_z                m_x                m_y                m_z \r\n",
        "#                <s>                <J>                <J>                <J>              <A/m>              <A/m>              <A/m>              <A/m>              <A/m>              <A/m>              <A/m>              <A/m>              <A/m>                 <>                 <>                 <> \r\n",
        "                   0  9.99434122264e-21                  0  9.99434122264e-21     -210808.743122     -19907.0801882     -70862.1056989 -1.89115971695e-09                  0 -1.89115971695e-09     -210808.743122     -19907.0801882     -70862.1056989     0.707106781187                  0     0.707106781187 \r\n",
        "                   0  9.99434122264e-21                  0  9.99434122264e-21     -210808.743122     -19907.0801882     -70862.1056989 -1.89115971695e-09                  0 -1.89115971695e-09     -210808.743122     -19907.0801882     -70862.1056989                  0     0.707106781187                  0     0.707106781187                  0 \r\n",
        "               1e-11  8.87339845217e-21  1.34661186459e-23  8.88686457081e-21     -185356.876617     -72304.3341031     -77437.8693299      -9847.0082107      12332.4032492      4775.64197801     -195203.884828     -59971.9308539     -72662.2273519   3.2736965734e-13        0.604972292     0.186175975204     0.774156336645                 87 \r\n",
        "               2e-11  7.85887334551e-21  1.21617581486e-23  7.87103510366e-21     -144214.201021     -109701.737349     -82639.6493977      -3721.4234888      3705.36983485      597.289015767      -147935.62451     -105996.367514     -82042.3603819  2.08476781076e-13     0.451693205272     0.323840697574     0.831308126799                120 \r\n",
        "               3e-11  6.98841993447e-21  1.07271051034e-23  6.99914703957e-21     -94288.1645428     -127206.593823     -86119.3621743       4948.2827255     -2038.18047053      -610.73780297     -89339.8818173     -129244.774293     -86730.0999773  3.29801646665e-13     0.272708028706     0.394657389716     0.877412970772                153 \r\n",
        "               4e-11  6.28693956595e-21  9.39000170771e-24  6.29632956765e-21     -44401.2952765     -124663.534093     -88124.0501104      12345.3866724     -3929.86513455      387.405468251     -32055.9086042     -128593.399227     -87736.6446422  2.09290352089e-13    0.0987180374412     0.396068080557     0.912889048931                182 \r\n",
        "               5e-11  5.74958702627e-21  8.25045860461e-24  5.75783748487e-21       -2396.123384     -106205.240944     -89077.6224438      16535.6819424     -3207.77965251      1968.92865998      14139.5585584     -109413.020596     -87108.6937838  3.29391615023e-13   -0.0439804197708     0.340617907486     0.939164949329                214 \r\n",
        "               6e-11  5.35368046914e-21  7.40502693707e-24  5.36108549607e-21       26831.420292     -78425.2476106     -89430.3910025      17770.2544903     -1250.48963643      2967.67010018      44601.6747823      -79675.737247     -86462.7209023  2.91447874455e-13    -0.139904191178     0.250068993838     0.958061092602                244 \r\n",
        "               7e-11   5.0703373857e-21  6.83517278719e-24  5.07717255849e-21      41898.0582983     -48222.4616964     -89551.2748481      17100.4406678      1256.96810625      3139.67476928      58998.4989661     -46965.4935901     -86411.6000788  4.34799337928e-13    -0.185856136008     0.148045879836      0.97135527672                273 \r\n",
        "               8e-11  4.87179829203e-21  6.44524763029e-24  4.87824353966e-21      44355.9537512     -21170.2959581      -89680.531452      15419.2692708      3992.69804529      2812.01006007       59775.223022     -17177.5979128     -86868.5213919  3.45635747651e-13    -0.188543594246    0.0542389764068      0.98056243597                309 \r\n",
        "               9e-11  4.73474544359e-21  6.16061638771e-24  4.74090605997e-21      37551.5450142     -724.739026479      -89931.551952      13331.9453254       6632.6937518       2364.2337948      50883.4903396      5907.95472532     -87567.3181572  3.54173474135e-13    -0.160426822331   -0.0186074336762     0.986869448207                338 \r\n",
        "               1e-10  4.64111862168e-21   5.9416150294e-24  4.64706023671e-21      25440.5322218      11822.3542483     -90320.6886178      11269.1648421      8858.12234312       1967.7943637       36709.697064      20680.4765914     -88352.8942541  3.54173474135e-13    -0.115585213793   -0.0651276833362     0.991157378574                367 \r\n",
        "             1.1e-10  4.57763511031e-21  5.76605701805e-24  4.58340116732e-21      11667.1590723        16917.74684     -90805.6592754       9531.8056232      10457.9005236      1612.29748218      21198.9646955      27375.6473636     -89193.3617932  3.54173474135e-13   -0.0666120063014   -0.0860662245029     0.994057515628                395 \r\n",
        "             1.2e-10  4.53480385748e-21  5.62191510982e-24  4.54042577259e-21     -992.716093858      16118.5320154     -91320.5639458      8276.80924324      11367.8687134       1236.6462146      7284.09314938      27486.4007288     -90083.9177312  5.86137028183e-13   -0.0228216709075     -0.08622120745     0.996012156955                425 \r\n",
        "             1.3e-10  4.50599985764e-21  5.50483435038e-24  4.51150469199e-21     -10836.4238636      11464.3319703     -91801.3596526        7544.128385      11644.1828509      823.446413439     -3292.29547862      23108.5148212     -90977.9132391  5.68393113713e-13      0.01031791273   -0.0723090851574     0.997326535182                457 \r\n",
        "             1.4e-10  4.48666668986e-21  5.41350647914e-24  4.49208019634e-21     -17177.6962592       4972.4855338     -92200.6853139      7291.23425915      11426.4800958      412.683737754     -9886.46200009      16398.9656296     -91788.0015761  3.73518960814e-13    0.0308718268416   -0.0511969234218     0.998208985504                493 \r\n",
        "             1.5e-10  4.47370155815e-21  5.34741572901e-24  4.47904897388e-21     -20130.6615107     -1694.69737929     -92493.4976191      7419.41340139      10904.2240765      67.2622516336     -12711.2481093      9209.52669722     -92426.2353675  5.01364805304e-13     0.039610266527   -0.0286966898876     0.998800756029                525 \r\n",
        "             1.6e-10  4.46500678182e-21  5.30416439031e-24  4.47031094621e-21     -20328.1335991      -7390.7880976     -92676.0370691      7799.46470633      10264.0916313      -166.73551282     -12528.6688928      2873.30353365     -92842.7725819  5.06695583182e-13    0.0389915888079  -0.00894238127015     0.999197226394                552 \r\n",
        "             1.7e-10  4.45917398333e-21  5.28036787488e-24  4.46445435121e-21     -18646.9492082     -11505.0299346     -92760.8830514      8294.35108579      9660.71021603     -278.006370673     -10352.5981225     -1844.31971855      -93038.889422  5.95782197252e-13    0.0322021303113   0.00574073012659     0.999462611388                580 \r\n",
        "             1.8e-10  4.45525837082e-21  5.27072364904e-24  4.46052909447e-21     -15982.7789391     -13887.2750769     -92770.4799877      8784.97936348      9186.87684083     -286.378140083     -7197.79957565     -4700.39823611     -93056.8581278  4.36243672641e-13    0.0223897823784    0.0146257638425     0.999640070498                606 \r\n",
        "             1.9e-10  4.45262666401e-21  5.27118825252e-24  4.45789785226e-21     -13096.2722615     -14720.4389314     -92730.8387551      9189.76615382      8882.28833844     -227.628319928      -3906.5061077       -5838.150593      -92958.467075  3.56325243119e-13    0.0121576623467    0.0181753421331     0.999758654102                631 \r\n",
        "               2e-10  4.45085766098e-21  5.27656949651e-24  4.45613423047e-21      -10533.489076     -14380.8687101     -92666.5543248      9469.01585447      8738.58927265     -138.279015097     -1064.47322154      -5642.2794375     -92804.8333399  3.76130029653e-13    0.0033189319171     0.017573819667     0.999837853013                656 \r\n"
       ]
      }
     ],
     "prompt_number": 65
    },
    {
     "cell_type": "markdown",
     "metadata": {},
     "source": [
      "### Post processing"
     ]
    },
    {
     "cell_type": "markdown",
     "metadata": {},
     "source": [
      "Post processing of this file can be done with other programs (numpy, MS Excel, Gnuplot, Xmgrace, ...) or directly from Python. Finmag provides a convenience function that helps reading the ndt file, and which returns a data object that carries the data from the file:"
     ]
    },
    {
     "cell_type": "code",
     "collapsed": false,
     "input": [
      "data = finmag.util.fileio.Tablereader('barmini.ndt')"
     ],
     "language": "python",
     "metadata": {},
     "outputs": [],
     "prompt_number": 66
    },
    {
     "cell_type": "code",
     "collapsed": false,
     "input": [
      "import pylab\n",
      "pylab.plot(data['time'], data['m_y'], 'o-', label='m_x')\n",
      "pylab.plot(data['time'], data['m_x'], '^-', label='m_y')\n",
      "pylab.plot(data['time'], data['m_z'], '+-', label='m_z')\n",
      "pylab.xlabel('time [s]')\n",
      "pylab.ylabel('magnetisation/Ms') \n",
      "pylab.legend()"
     ],
     "language": "python",
     "metadata": {},
     "outputs": [
      {
       "metadata": {},
       "output_type": "pyout",
       "prompt_number": 67,
       "text": [
        "<matplotlib.legend.Legend at 0x56d1550>"
       ]
      },
      {
       "metadata": {},
       "output_type": "display_data",
       "png": "[encoded data removed]",
       "text": [
        "<matplotlib.figure.Figure at 0x5411d10>"
       ]
      }
     ],
     "prompt_number": 67
    },
    {
     "cell_type": "markdown",
     "metadata": {},
     "source": [
      "The ``Reader`` object has an extra ``reload()`` method which reads the file again. This can be used if the data has changed:\n"
     ]
    },
    {
     "cell_type": "code",
     "collapsed": false,
     "input": [
      "lastt = data['time'][-1]  # last saved time in file\n",
      "print(lastt)"
     ],
     "language": "python",
     "metadata": {},
     "outputs": [
      {
       "output_type": "stream",
       "stream": "stdout",
       "text": [
        "2e-10\n"
       ]
      }
     ],
     "prompt_number": 68
    },
    {
     "cell_type": "code",
     "collapsed": false,
     "input": [
      "sim.run_until(lastt + 0.1e-9)"
     ],
     "language": "python",
     "metadata": {},
     "outputs": [
      {
       "output_type": "stream",
       "stream": "stderr",
       "text": [
        "[2014-02-04 18:37:09] INFO: Simulation will run until t = 3e-10 s.\n"
       ]
      },
      {
       "output_type": "stream",
       "stream": "stderr",
       "text": [
        "[2014-02-04 18:37:09] DEBUG: Saving data to ndt file at t=2.1e-10 (sim.name=barmini).\n"
       ]
      },
      {
       "output_type": "stream",
       "stream": "stderr",
       "text": [
        "[2014-02-04 18:37:09] DEBUG: Saving data to ndt file at t=2.2e-10 (sim.name=barmini).\n"
       ]
      },
      {
       "output_type": "stream",
       "stream": "stderr",
       "text": [
        "[2014-02-04 18:37:09] DEBUG: Saving data to ndt file at t=2.3e-10 (sim.name=barmini).\n"
       ]
      },
      {
       "output_type": "stream",
       "stream": "stderr",
       "text": [
        "[2014-02-04 18:37:09] DEBUG: Saving data to ndt file at t=2.4e-10 (sim.name=barmini).\n"
       ]
      },
      {
       "output_type": "stream",
       "stream": "stderr",
       "text": [
        "[2014-02-04 18:37:09] DEBUG: Saving data to ndt file at t=2.5e-10 (sim.name=barmini).\n"
       ]
      },
      {
       "output_type": "stream",
       "stream": "stderr",
       "text": [
        "[2014-02-04 18:37:09] DEBUG: Saving data to ndt file at t=2.6e-10 (sim.name=barmini).\n"
       ]
      },
      {
       "output_type": "stream",
       "stream": "stderr",
       "text": [
        "[2014-02-04 18:37:09] DEBUG: Saving data to ndt file at t=2.7e-10 (sim.name=barmini).\n"
       ]
      },
      {
       "output_type": "stream",
       "stream": "stderr",
       "text": [
        "[2014-02-04 18:37:10] DEBUG: Saving data to ndt file at t=2.8e-10 (sim.name=barmini).\n"
       ]
      },
      {
       "output_type": "stream",
       "stream": "stderr",
       "text": [
        "[2014-02-04 18:37:10] DEBUG: Saving data to ndt file at t=2.9e-10 (sim.name=barmini).\n"
       ]
      },
      {
       "output_type": "stream",
       "stream": "stderr",
       "text": [
        "[2014-02-04 18:37:10] DEBUG: Saving data to ndt file at t=3e-10 (sim.name=barmini).\n"
       ]
      },
      {
       "output_type": "stream",
       "stream": "stderr",
       "text": [
        "[2014-02-04 18:37:10] INFO: Simulation has reached time t = 3e-10 s.\n"
       ]
      }
     ],
     "prompt_number": 69
    },
    {
     "cell_type": "code",
     "collapsed": false,
     "input": [
      "print data['time'][-1]"
     ],
     "language": "python",
     "metadata": {},
     "outputs": [
      {
       "output_type": "stream",
       "stream": "stdout",
       "text": [
        "2e-10\n"
       ]
      }
     ],
     "prompt_number": 70
    },
    {
     "cell_type": "code",
     "collapsed": false,
     "input": [
      "data.reload()\n",
      "data['time'][-1]"
     ],
     "language": "python",
     "metadata": {},
     "outputs": [
      {
       "metadata": {},
       "output_type": "pyout",
       "prompt_number": 71,
       "text": [
        "3e-10"
       ]
      }
     ],
     "prompt_number": 71
    },
    {
     "cell_type": "code",
     "collapsed": false,
     "input": [],
     "language": "python",
     "metadata": {},
     "outputs": [],
     "prompt_number": 71
    }
   ],
   "metadata": {}
  }
 ]
}