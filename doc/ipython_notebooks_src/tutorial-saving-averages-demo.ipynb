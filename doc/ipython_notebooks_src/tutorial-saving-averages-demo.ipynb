{
 "metadata": {
  "name": "tutorial-saving-averages-demo"
 },
 "nbformat": 3,
 "nbformat_minor": 0,
 "worksheets": [
  {
   "cells": [
    {
     "cell_type": "markdown",
     "metadata": {},
     "source": [
      "## Saving spatially averaged magnetisation into a file"
     ]
    },
    {
     "cell_type": "markdown",
     "metadata": {},
     "source": [
      "### Writing data to file"
     ]
    },
    {
     "cell_type": "markdown",
     "metadata": {},
     "source": [
      "We generally want to save some of the simulation data when we run a simulation. Saving the average magnetisation vector as a function of time is a common task, and here we demonstrate how this can be done. We will create a space separated text file where the rows correspond to different magnetisation configurations (typically corresponding to different times), and the columns show some data (typically spatially averaged entities). For now, only the normalised magnetisation average is saved, but this will be extended in the future."
     ]
    },
    {
     "cell_type": "code",
     "collapsed": false,
     "input": [
      "import finmag"
     ],
     "language": "python",
     "metadata": {},
     "outputs": [
      {
       "output_type": "stream",
       "stream": "stderr",
       "text": [
        "[2012-12-07 17:06:23] INFO: Finmag logging output will be appended to file: '/home/fangohr/.finmag/global.log'\n"
       ]
      },
      {
       "output_type": "stream",
       "stream": "stderr",
       "text": [
        "[2012-12-07 17:06:23] DEBUG: Building modules in 'native'...\n"
       ]
      },
      {
       "output_type": "stream",
       "stream": "stderr",
       "text": [
        "[2012-12-07 17:06:24] DEBUG: This is Finmag version 2356:2ea0c7105fa7d0a51d9a336346e5b3acf19f0ae9\n"
       ]
      }
     ],
     "prompt_number": 1
    },
    {
     "cell_type": "markdown",
     "metadata": {},
     "source": [
      "The ``bar()`` function provides a simulation object for a Permalloy bar with dimensions 30x30x100nm with the initial magnetisation pointing into the (1,0,1) direction:"
     ]
    },
    {
     "cell_type": "code",
     "collapsed": false,
     "input": [
      "sim = finmag.example.barmini()"
     ],
     "language": "python",
     "metadata": {},
     "outputs": [
      {
       "output_type": "stream",
       "stream": "stderr",
       "text": [
        "[2012-12-07 17:06:24] INFO: Finmag logging output will be appended to file: '/home/fangohr/hg/finmag/doc/ipython_notebooks_src/barmini.log'\n"
       ]
      },
      {
       "output_type": "stream",
       "stream": "stderr",
       "text": [
        "[2012-12-07 17:06:24] DEBUG: Creating DataWriter for file 'barmini.ndt'\n"
       ]
      },
      {
       "output_type": "stream",
       "stream": "stderr",
       "text": [
        "[2012-12-07 17:06:24] INFO: Creating Sim object 'barmini' (rank=0/1) [Fri Dec  7 17:06:24 2012].\n"
       ]
      },
      {
       "output_type": "stream",
       "stream": "stderr",
       "text": [
        "[2012-12-07 17:06:24] INFO: <Mesh of topological dimension 3 (tetrahedra) with 45 vertices and 96 cells, ordered>\n"
       ]
      },
      {
       "output_type": "stream",
       "stream": "stderr",
       "text": [
        "[2012-12-07 17:06:24] DEBUG: Creating LLG object.\n"
       ]
      },
      {
       "output_type": "stream",
       "stream": "stderr",
       "text": [
        "[2012-12-07 17:06:24] DEBUG: Creating Exchange object with method box-matrix-petsc, in Jacobian.\n"
       ]
      },
      {
       "output_type": "stream",
       "stream": "stderr",
       "text": [
        "[2012-12-07 17:06:25] DEBUG: Creating Demag object with FK solver.\n"
       ]
      },
      {
       "output_type": "stream",
       "stream": "stderr",
       "text": [
        "[2012-12-07 17:06:25] DEBUG: Demag: Poisson solver parameters.\n",
        "    {'maximum_iterations': 10000, 'divergence_limit': 10000.0, 'relative_tolerance': 1e-06, 'gmres':\n",
        "    {'restart': 30}, 'preconditioner': {'shift_nonzero': 0.0, 'reuse': False,\n",
        "    'same_nonzero_pattern': False, 'ilu': {'fill_level': 0}, 'schwarz': {'overlap': 1}, 'report':\n",
        "    False}, 'error_on_nonconvergence': True, 'monitor_convergence': False, 'nonzero_initial_guess':\n",
        "    False, 'report': True, 'absolute_tolerance': 1e-15}\n"
       ]
      },
      {
       "output_type": "stream",
       "stream": "stderr",
       "text": [
        "[2012-12-07 17:06:25] DEBUG: Demag: Laplace solver parameters.\n",
        "    {'maximum_iterations': 10000, 'divergence_limit': 10000.0, 'relative_tolerance': 1e-06, 'gmres':\n",
        "    {'restart': 30}, 'preconditioner': {'shift_nonzero': 0.0, 'reuse': False,\n",
        "    'same_nonzero_pattern': True, 'ilu': {'fill_level': 0}, 'schwarz': {'overlap': 1}, 'report':\n",
        "    False}, 'error_on_nonconvergence': True, 'monitor_convergence': False, 'nonzero_initial_guess':\n",
        "    False, 'report': True, 'absolute_tolerance': 1e-15}\n"
       ]
      }
     ],
     "prompt_number": 2
    },
    {
     "cell_type": "markdown",
     "metadata": {},
     "source": [
      "Note the DEBUG line that reads \"Creating DataWriter for file 'barmini.ndt'\". At this point the file 'barmini.ndt' is created (overriding an existing file of the same name if it exists). \n",
      "\n",
      "The format of the file is similar to OOMMF's odt files (Oommf Data Table) and Nmag's ndt files (Nmag Data Table). We can append the current (spatially averaged) magnetisation to this file\n",
      "by calling ``sim.save_averages()``:"
     ]
    },
    {
     "cell_type": "code",
     "collapsed": false,
     "input": [
      "sim.save_averages()"
     ],
     "language": "python",
     "metadata": {},
     "outputs": [],
     "prompt_number": 3
    },
    {
     "cell_type": "markdown",
     "metadata": {},
     "source": [
      "And to confirm that this has taken place, let's have a look at the data file:"
     ]
    },
    {
     "cell_type": "code",
     "collapsed": false,
     "input": [
      "!cat barmini.ndt\n"
     ],
     "language": "python",
     "metadata": {},
     "outputs": [
      {
       "output_type": "stream",
       "stream": "stdout",
       "text": [
        "           time             m_x             m_y             m_z \r\n",
        "            <s>              <>              <>              <> \r\n",
        "              0        0.707107               0        0.707107 \r\n"
       ]
      }
     ],
     "prompt_number": 4
    },
    {
     "cell_type": "markdown",
     "metadata": {},
     "source": [
      "The first line contains the title for every column, the second line the (SI) units in which the entity is measured, and the third and any other lines contain the actual data."
     ]
    },
    {
     "cell_type": "markdown",
     "metadata": {},
     "source": [
      "As this is usually desired, the ``sim.run_until(targettime)`` function will save the average values *automatically* when it reaches the time ``targettime``. We demonstrate this with this for-loop: "
     ]
    },
    {
     "cell_type": "code",
     "collapsed": false,
     "input": [
      "for time in numpy.linspace(0, 1e-10,20):\n",
      "    print(\"Integrating towards t = %gs\" % time)\n",
      "    sim.run_until(time)\n",
      "print(\"Done\"),"
     ],
     "language": "python",
     "metadata": {},
     "outputs": [
      {
       "output_type": "stream",
       "stream": "stderr",
       "text": [
        "[2012-12-07 17:06:25] DEBUG: Creating LLGIntegrator with backend sundials.\n"
       ]
      },
      {
       "output_type": "stream",
       "stream": "stdout",
       "text": [
        "Integrating towards t = 0s\n",
        "Integrating towards t = 5.26316e-12s\n",
        "Integrating towards t = 1.05263e-11s"
       ]
      },
      {
       "output_type": "stream",
       "stream": "stdout",
       "text": [
        "\n",
        "Integrating towards t = 1.57895e-11s"
       ]
      },
      {
       "output_type": "stream",
       "stream": "stdout",
       "text": [
        "\n",
        "Integrating towards t = 2.10526e-11s"
       ]
      },
      {
       "output_type": "stream",
       "stream": "stdout",
       "text": [
        "\n",
        "Integrating towards t = 2.63158e-11s"
       ]
      },
      {
       "output_type": "stream",
       "stream": "stdout",
       "text": [
        "\n",
        "Integrating towards t = 3.15789e-11s"
       ]
      },
      {
       "output_type": "stream",
       "stream": "stdout",
       "text": [
        "\n",
        "Integrating towards t = 3.68421e-11s"
       ]
      },
      {
       "output_type": "stream",
       "stream": "stdout",
       "text": [
        "\n",
        "Integrating towards t = 4.21053e-11s"
       ]
      },
      {
       "output_type": "stream",
       "stream": "stdout",
       "text": [
        "\n",
        "Integrating towards t = 4.73684e-11s"
       ]
      },
      {
       "output_type": "stream",
       "stream": "stdout",
       "text": [
        "\n",
        "Integrating towards t = 5.26316e-11s"
       ]
      },
      {
       "output_type": "stream",
       "stream": "stdout",
       "text": [
        "\n",
        "Integrating towards t = 5.78947e-11s"
       ]
      },
      {
       "output_type": "stream",
       "stream": "stdout",
       "text": [
        "\n",
        "Integrating towards t = 6.31579e-11s"
       ]
      },
      {
       "output_type": "stream",
       "stream": "stdout",
       "text": [
        "\n",
        "Integrating towards t = 6.84211e-11s"
       ]
      },
      {
       "output_type": "stream",
       "stream": "stdout",
       "text": [
        "\n",
        "Integrating towards t = 7.36842e-11s"
       ]
      },
      {
       "output_type": "stream",
       "stream": "stdout",
       "text": [
        "\n",
        "Integrating towards t = 7.89474e-11s"
       ]
      },
      {
       "output_type": "stream",
       "stream": "stdout",
       "text": [
        "\n",
        "Integrating towards t = 8.42105e-11s"
       ]
      },
      {
       "output_type": "stream",
       "stream": "stdout",
       "text": [
        "\n",
        "Integrating towards t = 8.94737e-11s"
       ]
      },
      {
       "output_type": "stream",
       "stream": "stdout",
       "text": [
        "\n",
        "Integrating towards t = 9.47368e-11s"
       ]
      },
      {
       "output_type": "stream",
       "stream": "stdout",
       "text": [
        "\n",
        "Integrating towards t = 1e-10s"
       ]
      },
      {
       "output_type": "stream",
       "stream": "stdout",
       "text": [
        "\n",
        "Done"
       ]
      },
      {
       "output_type": "stream",
       "stream": "stdout",
       "text": [
        ".\n"
       ]
      }
     ],
     "prompt_number": 5
    },
    {
     "cell_type": "markdown",
     "metadata": {},
     "source": [
      "Let's look at the data file now:"
     ]
    },
    {
     "cell_type": "code",
     "collapsed": false,
     "input": [
      "!cat barmini.ndt"
     ],
     "language": "python",
     "metadata": {},
     "outputs": [
      {
       "output_type": "stream",
       "stream": "stdout",
       "text": [
        "           time             m_x             m_y             m_z \r\n",
        "            <s>              <>              <>              <> \r\n",
        "              0        0.707107               0        0.707107 \r\n",
        "              0        0.707107               0        0.707107 \r\n",
        "    5.26316e-12        0.660831        0.102432        0.743493 \r\n",
        "    1.05263e-11        0.598005        0.194849        0.777429 \r\n",
        "    1.57895e-11        0.521066         0.27329        0.808564 \r\n",
        "    2.10526e-11        0.433539        0.334627        0.836685 \r\n",
        "    2.63158e-11        0.339695        0.376872        0.861714 \r\n",
        "    3.15789e-11        0.244132        0.399331        0.883693 \r\n",
        "    3.68421e-11         0.15135        0.402613         0.90276 \r\n",
        "    4.21053e-11       0.0653682         0.38848        0.919126 \r\n",
        "    4.73684e-11      -0.0105565        0.359592        0.933042 \r\n",
        "    5.26316e-11      -0.0741007        0.319205        0.944777 \r\n",
        "    5.78947e-11       -0.123931        0.270849        0.954605 \r\n",
        "    6.31579e-11       -0.159661        0.218039        0.962786 \r\n",
        "    6.84211e-11       -0.181742        0.164039        0.969563 \r\n",
        "    7.36842e-11       -0.191299        0.111687        0.975153 \r\n",
        "    7.89474e-11       -0.189954       0.0632821        0.979748 \r\n",
        "    8.42105e-11       -0.179642       0.0205395        0.983514 \r\n",
        "    8.94737e-11       -0.162442      -0.0154145        0.986595 \r\n",
        "    9.47368e-11       -0.140436      -0.0440022        0.989109 \r\n",
        "          1e-10       -0.115584      -0.0651294        0.991157 \r\n"
       ]
      }
     ],
     "prompt_number": 6
    },
    {
     "cell_type": "markdown",
     "metadata": {},
     "source": [
      "### Post processing"
     ]
    },
    {
     "cell_type": "markdown",
     "metadata": {},
     "source": [
      "Post processing of this file can be done with other programs (MS excel, Gnuplot, Xmgrace, ...) or directly from Python. Finmag provides a convenience function that helps reading the ndt file, and which returns a data object that carries the data from the file:"
     ]
    },
    {
     "cell_type": "code",
     "collapsed": false,
     "input": [
      "data = finmag.util.fileio.Tablereader('barmini.ndt')"
     ],
     "language": "python",
     "metadata": {},
     "outputs": [],
     "prompt_number": 7
    },
    {
     "cell_type": "code",
     "collapsed": false,
     "input": [
      "import pylab\n",
      "pylab.plot(data['time'], data['m_y'], 'o-', label='m_x')\n",
      "pylab.plot(data['time'], data['m_x'], '^-', label='m_y')\n",
      "pylab.plot(data['time'], data['m_z'], '+-', label='m_z')\n",
      "pylab.xlabel('time [s]')\n",
      "pylab.ylabel('magnetisation/Ms') \n",
      "pylab.legend()"
     ],
     "language": "python",
     "metadata": {},
     "outputs": [
      {
       "output_type": "pyout",
       "prompt_number": 8,
       "text": [
        "<matplotlib.legend.Legend at 0x39737d0>"
       ]
      },
      {
       "output_type": "display_data",
       "png": "[encoded data removed]"
      }
     ],
     "prompt_number": 8
    },
    {
     "cell_type": "markdown",
     "metadata": {},
     "source": [
      "The ``Reader`` object has an extra ``read()`` method which reads the file again. This can be used if the data has changed:\n"
     ]
    },
    {
     "cell_type": "code",
     "collapsed": false,
     "input": [
      "lastt = data['time'][-1] #last saved time in file\n",
      "print(lastt)"
     ],
     "language": "python",
     "metadata": {},
     "outputs": [
      {
       "output_type": "stream",
       "stream": "stdout",
       "text": [
        "1e-10\n"
       ]
      }
     ],
     "prompt_number": 9
    },
    {
     "cell_type": "code",
     "collapsed": false,
     "input": [
      "sim.run_until(lastt + 5e-12)"
     ],
     "language": "python",
     "metadata": {},
     "outputs": [],
     "prompt_number": 10
    },
    {
     "cell_type": "code",
     "collapsed": false,
     "input": [
      "data['time'][-1]"
     ],
     "language": "python",
     "metadata": {},
     "outputs": [
      {
       "output_type": "pyout",
       "prompt_number": 11,
       "text": [
        "1e-10"
       ]
      }
     ],
     "prompt_number": 11
    },
    {
     "cell_type": "code",
     "collapsed": false,
     "input": [
      "data.reload()\n",
      "data.time()[-1]"
     ],
     "language": "python",
     "metadata": {},
     "outputs": [
      {
       "output_type": "pyout",
       "prompt_number": 12,
       "text": [
        "1.05e-10"
       ]
      }
     ],
     "prompt_number": 12
    }
   ],
   "metadata": {}
  }
 ]
}