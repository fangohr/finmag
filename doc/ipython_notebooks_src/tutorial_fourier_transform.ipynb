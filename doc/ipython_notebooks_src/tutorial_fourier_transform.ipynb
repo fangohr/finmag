{
 "metadata": {
  "name": "fourier_transform"
 },
 "nbformat": 3,
 "nbformat_minor": 0,
 "worksheets": [
  {
   "cells": [
    {
     "cell_type": "heading",
     "level": 1,
     "metadata": {},
     "source": [
      "Fourier Transforms with Numpy"
     ]
    },
    {
     "cell_type": "code",
     "collapsed": false,
     "input": [
      "import numpy as np\n",
      "from math import pi\n",
      "from finmag.util.plot_helpers import surface_2d, surface_3d"
     ],
     "language": "python",
     "metadata": {},
     "outputs": [],
     "prompt_number": 251
    },
    {
     "cell_type": "heading",
     "level": 2,
     "metadata": {},
     "source": [
      "1D Fourier Transform"
     ]
    },
    {
     "cell_type": "heading",
     "level": 3,
     "metadata": {},
     "source": [
      "Of Gaussian Function"
     ]
    },
    {
     "cell_type": "markdown",
     "metadata": {},
     "source": [
      "Let's start by defining and plotting a simple \"bell curve\"."
     ]
    },
    {
     "cell_type": "code",
     "collapsed": false,
     "input": [
      "def bell_curve(xs, a=1.0, b=0.0, c=1.0):\n",
      "    \"\"\"\n",
      "    Return bell curve with height a, position of centre b\n",
      "    and c is related to the FWHM.\n",
      "\n",
      "    \"\"\"\n",
      "    return a * np.exp(- (xs - b)**2 / (2 * c**2))\n",
      "\n",
      "dx = 1\n",
      "x = np.arange(-50, 51, dx)\n",
      "y = bell_curve(x, c=1.0)\n",
      "\n",
      "title(\"Gaussian\")\n",
      "xlabel(\"x\")\n",
      "ylabel(\"y\")\n",
      "plot(x, y)"
     ],
     "language": "python",
     "metadata": {},
     "outputs": [
      {
       "ename": "TypeError",
       "evalue": "'str' object is not callable",
       "output_type": "pyerr",
       "traceback": [
        "\u001b[1;31m---------------------------------------------------------------------------\u001b[0m\n\u001b[1;31mTypeError\u001b[0m                                 Traceback (most recent call last)",
        "\u001b[1;32m<ipython-input-252-ae55a2d35b16>\u001b[0m in \u001b[0;36m<module>\u001b[1;34m()\u001b[0m\n\u001b[0;32m     11\u001b[0m \u001b[0my\u001b[0m \u001b[1;33m=\u001b[0m \u001b[0mbell_curve\u001b[0m\u001b[1;33m(\u001b[0m\u001b[0mx\u001b[0m\u001b[1;33m,\u001b[0m \u001b[0mc\u001b[0m\u001b[1;33m=\u001b[0m\u001b[1;36m1.0\u001b[0m\u001b[1;33m)\u001b[0m\u001b[1;33m\u001b[0m\u001b[0m\n\u001b[0;32m     12\u001b[0m \u001b[1;33m\u001b[0m\u001b[0m\n\u001b[1;32m---> 13\u001b[1;33m \u001b[0mtitle\u001b[0m\u001b[1;33m(\u001b[0m\u001b[1;34m\"Gaussian\"\u001b[0m\u001b[1;33m)\u001b[0m\u001b[1;33m\u001b[0m\u001b[0m\n\u001b[0m\u001b[0;32m     14\u001b[0m \u001b[0mxlabel\u001b[0m\u001b[1;33m(\u001b[0m\u001b[1;34m\"x\"\u001b[0m\u001b[1;33m)\u001b[0m\u001b[1;33m\u001b[0m\u001b[0m\n\u001b[0;32m     15\u001b[0m \u001b[0mylabel\u001b[0m\u001b[1;33m(\u001b[0m\u001b[1;34m\"y\"\u001b[0m\u001b[1;33m)\u001b[0m\u001b[1;33m\u001b[0m\u001b[0m\n",
        "\u001b[1;31mTypeError\u001b[0m: 'str' object is not callable"
       ]
      }
     ],
     "prompt_number": 252
    },
    {
     "cell_type": "markdown",
     "metadata": {},
     "source": [
      "The Fourier transform is computed with numpy.fft.fft."
     ]
    },
    {
     "cell_type": "code",
     "collapsed": false,
     "input": [
      "k = np.fft.fftfreq(len(x), d=dx)\n",
      "yk = np.fft.fft(y)\n",
      "\n",
      "title(\"Fourier Transform of Gaussian\")\n",
      "xlabel(\"k\")\n",
      "ylabel(\"y\")\n",
      "plot(k, np.real(yk), 'r', label=\"$\\Re$\")\n",
      "plot(k, np.imag(yk), 'g', label=\"$\\Im$\")\n",
      "plot(k, np.abs(yk), 'r--', label=\"abs\")\n",
      "legend()"
     ],
     "language": "python",
     "metadata": {},
     "outputs": []
    },
    {
     "cell_type": "markdown",
     "metadata": {},
     "source": [
      "We can see that the absolute value of the transform contains the data we expect.\n",
      "\n",
      "Let's try to plot both curves in one plot."
     ]
    },
    {
     "cell_type": "code",
     "collapsed": false,
     "input": [
      "xlabel(\"x\")\n",
      "ylabel(\"y\")\n",
      "plot(x, y, \"b\", label=\"$\\mathrm{f}(x)$\")\n",
      "plot(x, np.abs(yk)/np.sqrt(len(x)), \"r\", label=\"$\\hat{\\mathrm{f}}(x)$\")\n",
      "legend()"
     ],
     "language": "python",
     "metadata": {},
     "outputs": []
    },
    {
     "cell_type": "markdown",
     "metadata": {},
     "source": [
      "That doesn't look right. The problem is that numpy.fft.fft's results are in so-called standard-order: First the zero-frequency term, then the positive frequency terms and finally the negative frequency terms. The function numpy.fft.fftshift puts the zero-frequency in the middle."
     ]
    },
    {
     "cell_type": "code",
     "collapsed": false,
     "input": [
      "xlabel(\"x\")\n",
      "ylabel(\"y\")\n",
      "plot(x, y, \"b\", label=\"$\\mathrm{f}(x)$\")\n",
      "plot(x, np.fft.fftshift(np.abs(yk))/np.sqrt(len(x)), \"r\", label=\"$\\hat{\\mathrm{f}}(x)$\")\n",
      "legend()\n",
      "title(\"Gaussian and its Fourier Transform\")"
     ],
     "language": "python",
     "metadata": {},
     "outputs": []
    },
    {
     "cell_type": "markdown",
     "metadata": {},
     "source": [
      "By playing with the variable c which controls the width of the initial gaussian, you can see the uncertainty principle in action: The more concentrated the function, the more its Fourier transform is spread out and vice-versa."
     ]
    },
    {
     "cell_type": "heading",
     "level": 3,
     "metadata": {},
     "source": [
      "Of Magnetisation Rotation"
     ]
    },
    {
     "cell_type": "markdown",
     "metadata": {},
     "source": [
      "Let's imagine a magnetisation vector rotating about the $z$-axis in a clockwise direction. The plot of $m_\\mathrm{x}$ is a cosine wave.\n",
      "\n",
      "What's the frequency of the rotation?"
     ]
    },
    {
     "cell_type": "code",
     "collapsed": false,
     "input": [
      "dx = 0.1\n",
      "x = np.arange(0, 10 * pi, dx)\n",
      "y = np.cos(x)\n",
      "\n",
      "k = np.fft.fftfreq(len(x), d=dx)\n",
      "yk = np.fft.fft(y)\n",
      "\n",
      "xlabel(\"x\")\n",
      "ylabel(\"y\")\n",
      "plot(x, y, \"b\")\n",
      "title(\"Cosine wave\")\n",
      "show()\n",
      "\n",
      "xlabel(\"k\")\n",
      "ylabel(\"y\")\n",
      "plot(k, np.abs(yk)/np.sqrt(len(x)), \"r\")\n",
      "title(\"Fourier Transform of Cosine Wave\")"
     ],
     "language": "python",
     "metadata": {},
     "outputs": []
    },
    {
     "cell_type": "markdown",
     "metadata": {},
     "source": [
      "The Fourier Transform can't distinguish between a positive vector rotating with a positive frequency and a negative vector rotating with a negative frequency.\n",
      "\n",
      "The solution is to input both $m_\\mathrm{x}$ and $m_\\mathrm{y}$ into the Fourier Transform. The plot of $m_\\mathrm{y}$ is a sine wave and the Fourier Transform is designed to handle two orthogonal input functions. The $m_\\mathrm{y}$ will become the imaginary part of the input."
     ]
    },
    {
     "cell_type": "code",
     "collapsed": false,
     "input": [
      "y_real = np.cos(x)\n",
      "y_imag = - np.sin(x)\n",
      "y = y_real + 1j * y_imag\n",
      "\n",
      "k = np.fft.fftfreq(len(x), d=dx)\n",
      "yk = np.abs(np.fft.fft(y)) / np.sqrt(len(x))\n",
      "\n",
      "xlabel(\"x\")\n",
      "ylabel(\"y\")\n",
      "plot(x, y_real, \"b\", label=\"$\\Re=\\cos(x)$\")\n",
      "plot(x, y_imag, \"g\", label=\"$\\Im=-\\sin(x)$\")\n",
      "legend()\n",
      "title(\"Combining sine and cosine wave\")\n",
      "show()\n",
      "\n",
      "xlabel(\"k\")\n",
      "ylabel(\"y\")\n",
      "plot(k, yk, \"r\", label=\"$\\mathcal{F}$\")\n",
      "legend()\n",
      "title(\"Fourier Transform of Combination\")"
     ],
     "language": "python",
     "metadata": {},
     "outputs": []
    },
    {
     "cell_type": "markdown",
     "metadata": {},
     "source": [
      "We find that the frequency is:\n",
      "\n"
     ]
    },
    {
     "cell_type": "code",
     "collapsed": false,
     "input": [
      "freq = k[np.argmax(yk)]\n",
      "print freq"
     ],
     "language": "python",
     "metadata": {},
     "outputs": []
    },
    {
     "cell_type": "markdown",
     "metadata": {},
     "source": [
      "Which corresponds to an angular frequency of"
     ]
    },
    {
     "cell_type": "code",
     "collapsed": false,
     "input": [
      "angular_frequency = 2 * pi * freq\n",
      "print angular_frequency"
     ],
     "language": "python",
     "metadata": {},
     "outputs": []
    },
    {
     "cell_type": "markdown",
     "metadata": {},
     "source": [
      "Which is indeed one revolution per second in negative (clockwise) direction."
     ]
    },
    {
     "cell_type": "heading",
     "level": 2,
     "metadata": {},
     "source": [
      "2D Fourier Transform"
     ]
    },
    {
     "cell_type": "markdown",
     "metadata": {},
     "source": [
      "The Fourier transformation can be generalised to higher dimensions. The signals we will deal with are functions over 2D space, resulting of the probing of one component of the magnetisation along an axis over time."
     ]
    },
    {
     "cell_type": "code",
     "collapsed": false,
     "input": [
      "xs = np.linspace(0, 600, 201); dx = abs(xs[1] - xs[0])\n",
      "ts = np.linspace(0, 100, 101); dt = abs(ts[1] - ts[0])\n",
      "print \"Number of space values: {}. Spacing: {}.\".format(len(xs), dx)\n",
      "print \"Number of time values: {}. Spacing: {}.\".format(len(ts), dt)"
     ],
     "language": "python",
     "metadata": {},
     "outputs": []
    },
    {
     "cell_type": "markdown",
     "metadata": {},
     "source": [
      "This is our fake magnetisation data."
     ]
    },
    {
     "cell_type": "code",
     "collapsed": false,
     "input": [
      "my = np.zeros((len(ts), len(xs)))\n",
      "\n",
      "for t in ts:\n",
      "    my[t][:] = t * np.sin(2 * pi * 3 * xs/abs(np.min(xs)-np.max(xs))) / 1e3\n",
      "    \n",
      "print \"Shape of array: {}.\".format(my.shape)\n",
      "print \"Minimum: {}, Maximum: {}.\".format(np.min(my), np.max(my))"
     ],
     "language": "python",
     "metadata": {},
     "outputs": []
    },
    {
     "cell_type": "markdown",
     "metadata": {},
     "source": [
      "It can be plotted in real space."
     ]
    },
    {
     "cell_type": "code",
     "collapsed": false,
     "input": [
      "headline = \"Variation of y-Component of Magnetisation\"\n",
      "labels = (\"x (nm)\", \"time (ps)\", \"m_y\")\n",
      "\n",
      "surface_2d(xs, ts, my, labels, headline)\n",
      "surface_3d(xs, ts, my, labels, headline)"
     ],
     "language": "python",
     "metadata": {},
     "outputs": []
    },
    {
     "cell_type": "markdown",
     "metadata": {},
     "source": [
      "The Fourier Transform in 2D is computed with numpy.fft.fft2. The Fourier transform is a function of complex variables. Its spectrum is $F(u, v) = R(u, v) + i I(u, v)$\n",
      "\n",
      "The Amplitude Spectrum is $|F(u,v)| = \\sqrt{R^2(u,v) + I^2(u,v)}$\n",
      "\n",
      "We are mainly interested in the logarithm of the Power Spectrum $P(u,v) = |F(u, v)|^2 = R^2(u,v) + I^2(u,v)$"
     ]
    },
    {
     "cell_type": "code",
     "collapsed": false,
     "input": [
      "F = np.fft.fftshift(np.fft.fft2(my)) # Fourier\n",
      "P = np.power(np.abs(F), 2)           # power spectrum\n",
      "log_P = np.log10(P)                  # log power spectrum\n",
      "\n",
      "surface_2d(xs, ts, log_P)"
     ],
     "language": "python",
     "metadata": {},
     "outputs": []
    },
    {
     "cell_type": "markdown",
     "metadata": {},
     "source": [
      "We can also get the spatial and temporal frequencies with numpy.fft.fftfreq. Since we expressed the points in time in picoseconds ($10^{-12}\\mathrm{s}$) and we'd like temporal frequencies in GHz (= $10^{9}\\mathrm{s}^{-1}$) we multiply by 1000."
     ]
    },
    {
     "cell_type": "code",
     "collapsed": false,
     "input": [
      "frequency = 1e3 * np.fft.fftshift(np.fft.fftfreq(len(ts), dt))\n",
      "wavenumber = np.fft.fftshift(np.fft.fftfreq(len(xs), dx))"
     ],
     "language": "python",
     "metadata": {},
     "outputs": []
    },
    {
     "cell_type": "markdown",
     "metadata": {},
     "source": [
      "And we can finally plot the dispersion relation."
     ]
    },
    {
     "cell_type": "code",
     "collapsed": false,
     "input": [
      "surface_2d(wavenumber, frequency, log_P, (\"k (1/nm)\", \"omega (GHz)\", \"power\"), \"Dispersion Relation\")"
     ],
     "language": "python",
     "metadata": {},
     "outputs": []
    }
   ],
   "metadata": {}
  }
 ]
}