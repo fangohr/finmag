{
 "metadata": {
  "name": "tutorial-using-ipython-notebook"
 },
 "nbformat": 3,
 "nbformat_minor": 0,
 "worksheets": [
  {
   "cells": [
    {
     "cell_type": "markdown",
     "metadata": {},
     "source": [
      "## These tutorial files"
     ]
    },
    {
     "cell_type": "markdown",
     "metadata": {},
     "source": [
      "### What is the best way to read these tutorials?"
     ]
    },
    {
     "cell_type": "markdown",
     "metadata": {},
     "source": [
      "All sections in this collection of mini tutorials are created through one IPython Notebook file. The [IPython Notebook](http://ipython.org/ipython-doc/dev/interactive/htmlnotebook.html) is an emerging new technology that has great potential in accelerating computational science (in particular where Python is being used). The interface is inspired by Mathematica's interface.\n",
      "\n",
      "We suggest that you familiarise yourself with the IPython notebook first, following examples on the IPython home page. There are also Youtube demonstrations available.\n",
      "\n",
      "The best way to look at the finmag tutorials is then to open the ``ipynb`` files in an ipython notebook. This allows to execute the code snippets that are shown in the notebook (by pressing SHIFT+RETURN) cell by cell, and to watch the simulation take place in real time. It also allows to change parameters in the simulation or the post processing and is a convenient way of (i) exploring the simulation framework and (ii) exploring new physics with the framework.\n",
      "\n",
      "The provided html file should be seen as a static version and a summary of the commands that are directly accessible and runnable inside the ipython note book (the cells may have to be executed in the right order, from top to bottom, to make sure all objects are defined as required). "
     ]
    },
    {
     "cell_type": "markdown",
     "metadata": {},
     "source": [
      "### Something missing?"
     ]
    },
    {
     "cell_type": "markdown",
     "metadata": {},
     "source": [
      "Almost certainly you will be missing some functionality. We encourage you to get in touch and tell us what feature you like to see, or what you try to achieve. For some of these requests, we may have working code that is no documented. Others may be easy to provide, and we will try to do so. For some, there is no quick fix of course, but it is worth reporting your requirements in any case. If in doubt, get in touch with Hans <fangohr@soton.ac.uk>."
     ]
    }
   ],
   "metadata": {}
  }
 ]
}