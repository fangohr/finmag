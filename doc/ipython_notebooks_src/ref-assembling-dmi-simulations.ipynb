{
 "metadata": {
  "name": ""
 },
 "nbformat": 3,
 "nbformat_minor": 0,
 "worksheets": [
  {
   "cells": [
    {
     "cell_type": "markdown",
     "metadata": {},
     "source": [
      "##Assembling DMI simulations"
     ]
    },
    {
     "cell_type": "markdown",
     "metadata": {},
     "source": [
      "###Importing all required modules"
     ]
    },
    {
     "cell_type": "markdown",
     "metadata": {},
     "source": [
      "The first step in creating the skyrmion simulation is importing all required modules. "
     ]
    },
    {
     "cell_type": "markdown",
     "metadata": {},
     "source": [
      "Module **dolfin** contains some basic finite elements methods. Subsequently, it will be used for creating some basic meshes and their plotting. To import dolfin module type:"
     ]
    },
    {
     "cell_type": "code",
     "collapsed": false,
     "input": [
      "import dolfin as df"
     ],
     "language": "python",
     "metadata": {},
     "outputs": [],
     "prompt_number": 1
    },
    {
     "cell_type": "markdown",
     "metadata": {},
     "source": [
      "The energy terms, required for skyrmion formation are:\n",
      "\n",
      "* Exchange,\n",
      "* DMI and\n",
      "* Zeeman.\n",
      "\n",
      "Therefore these energies must be imported into the simulation. All energy terms that finmag is capable of simulating are in **finmag.energies** module. Three crucial energy terms are imported using the following commands"
     ]
    },
    {
     "cell_type": "code",
     "collapsed": true,
     "input": [
      "from finmag.energies import Exchange"
     ],
     "language": "python",
     "metadata": {},
     "outputs": [
      {
       "output_type": "stream",
       "stream": "stderr",
       "text": [
        "[2013-12-04 14:01:09] INFO: Finmag logging output will be appended to file: '/home/albert/.finmag/global.log'\n"
       ]
      },
      {
       "output_type": "stream",
       "stream": "stderr",
       "text": [
        "[2013-12-04 14:01:09] DEBUG: Building modules in 'native'...\n"
       ]
      },
      {
       "output_type": "stream",
       "stream": "stderr",
       "text": [
        "[2013-12-04 14:01:10] DEBUG:               Finmag: 4128:37430980dca8238f1ae4987aa4e61875bc01e99d\n"
       ]
      },
      {
       "output_type": "stream",
       "stream": "stderr",
       "text": [
        "[2013-12-04 14:01:10] DEBUG:               Dolfin: 1.2.0+\n"
       ]
      },
      {
       "output_type": "stream",
       "stream": "stderr",
       "text": [
        "[2013-12-04 14:01:10] DEBUG:           Matplotlib: 1.3.1\n"
       ]
      },
      {
       "output_type": "stream",
       "stream": "stderr",
       "text": [
        "[2013-12-04 14:01:10] DEBUG:                Numpy: 1.8.0\n"
       ]
      },
      {
       "output_type": "stream",
       "stream": "stderr",
       "text": [
        "[2013-12-04 14:01:10] DEBUG:                Scipy: 0.11.0\n"
       ]
      },
      {
       "output_type": "stream",
       "stream": "stderr",
       "text": [
        "[2013-12-04 14:01:10] DEBUG:              IPython: 1.1.0\n"
       ]
      },
      {
       "output_type": "stream",
       "stream": "stderr",
       "text": [
        "[2013-12-04 14:01:10] DEBUG:               Python: 2.7.3\n"
       ]
      },
      {
       "output_type": "stream",
       "stream": "stderr",
       "text": [
        "[2013-12-04 14:01:10] DEBUG:             Paraview: 3.98~rc3-precise1\n"
       ]
      },
      {
       "output_type": "stream",
       "stream": "stderr",
       "text": [
        "[2013-12-04 14:01:11] DEBUG:             Sundials: 2.4.0-5\n"
       ]
      },
      {
       "output_type": "stream",
       "stream": "stderr",
       "text": [
        "[2013-12-04 14:01:11] DEBUG:         Boost-Python: 1.46.1\n"
       ]
      },
      {
       "output_type": "stream",
       "stream": "stderr",
       "text": [
        "[2013-12-04 14:01:11] DEBUG:                Linux: Ubuntu 12.04.3 LTS\n"
       ]
      }
     ],
     "prompt_number": 2
    },
    {
     "cell_type": "code",
     "collapsed": false,
     "input": [
      "from finmag.energies import DMI"
     ],
     "language": "python",
     "metadata": {},
     "outputs": [],
     "prompt_number": 3
    },
    {
     "cell_type": "code",
     "collapsed": false,
     "input": [
      "from finmag.energies import Zeeman"
     ],
     "language": "python",
     "metadata": {},
     "outputs": [],
     "prompt_number": 4
    },
    {
     "cell_type": "markdown",
     "metadata": {},
     "source": [
      "Alternatively, all these energy terms can be imported in only one line of the code:"
     ]
    },
    {
     "cell_type": "code",
     "collapsed": false,
     "input": [
      "from finmag.energies import Exchange, DMI, Zeeman"
     ],
     "language": "python",
     "metadata": {},
     "outputs": [],
     "prompt_number": 5
    },
    {
     "cell_type": "markdown",
     "metadata": {},
     "source": [
      "Other energy terms, such as **Anisotropy** and **Demag** can be added in the same way."
     ]
    },
    {
     "cell_type": "markdown",
     "metadata": {},
     "source": [
      "The next class which should be imported is the **Simulation** class as a part of finmag module."
     ]
    },
    {
     "cell_type": "code",
     "collapsed": false,
     "input": [
      "from finmag import Simulation as Sim"
     ],
     "language": "python",
     "metadata": {},
     "outputs": [],
     "prompt_number": 6
    },
    {
     "cell_type": "markdown",
     "metadata": {},
     "source": [
      "Additional modules should be also added in this section if they are going to be used subsequently."
     ]
    },
    {
     "cell_type": "markdown",
     "metadata": {},
     "source": [
      "###Creating a mesh\n",
      "Before the simulation can be created, a suitable mesh which coresponds to the simulated sample must be created.\n",
      "In the skyrmion study most used domain is thin film sample which can be imagined as a three-dimensional box with $x$ and $y$ dimensions significantly larger than the film thickess $z$. The command for creating a 3D mesh object which coresponds to a thin film is **Box** as a part of **dolfin** module (previously imported as **df**). The required arguments for this operation are:\n",
      "\n",
      "* The coordinates of the origin. In this case origin $(x_{0},y_{0},z_{0})=(0,0,0)$ is chosen.\n",
      "* Dimensions of a three dimensional box $x$, $y$ and $z$. \n",
      "* Number of mesh vertices along each coordinate ($n_\\mathrm{x}$, $n_\\mathrm{y}$ and $n_\\mathrm{z}$).\n",
      "\n",
      "Therefore, mesh, using the **Box** command is created with the following list of arguments: ($x_{0}$, $y_{0}$, $z_{0}$, $x$, $y$, $z$, $n_\\mathrm{x}$, $n_\\mathrm{y}$, $n_\\mathrm{z}$)\n",
      "\n",
      "The following command creates the mesh for thin film sample with dimensions: $x = 50$ nm, $y = 50$ nm and thickess $z = 1$ nm. Number of vertices is chosen such that their spacing is $1$ nm, thus, $n_\\mathrm{x}=50$, $n_\\mathrm{y}=50$ and $n_\\mathrm{z}=1$."
     ]
    },
    {
     "cell_type": "code",
     "collapsed": false,
     "input": [
      "mesh = df.BoxMesh(0,0,0,50e-9,50e-9,1e-9,50,50,1)"
     ],
     "language": "python",
     "metadata": {},
     "outputs": [],
     "prompt_number": 8
    },
    {
     "cell_type": "markdown",
     "metadata": {},
     "source": [
      "The information about a created mesh can be displayed by using the **print_mesh_info** method which is a part of **finmag.util.meshes** module. After this module is imported, **mesh_info** command with a mesh object as an argument can be run."
     ]
    },
    {
     "cell_type": "code",
     "collapsed": false,
     "input": [
      "from finmag.util.meshes import print_mesh_info\n",
      "print_mesh_info(mesh)"
     ],
     "language": "python",
     "metadata": {},
     "outputs": [
      {
       "output_type": "stream",
       "stream": "stdout",
       "text": [
        "===== Mesh info: ==============================\n",
        " 15000 cells (= volume elements)\n",
        " 35200 facets\n",
        " 10400 surface facets\n",
        " 24800 interior facets\n",
        " 25401 edges\n",
        "  5202 vertices\n",
        "\n",
        "===== Distribution of edge lengths: ===========\n",
        "0.000 \n",
        "0.000 **********************************************************************\n",
        "0.000 \n",
        "0.000 \n",
        "0.000 \n",
        "0.000 \n",
        "0.000 \n",
        "0.000 \n",
        "0.000 \n",
        "0.000 \n",
        "0.000 \n",
        "0.000 \n",
        "0.000 *******************************************************\n",
        "0.000 \n",
        "0.000 \n",
        "0.000 \n",
        "0.000 \n",
        "0.000 \n",
        "0.000 \n",
        "0.000 \n",
        "0.000 **************\n",
        "\n"
       ]
      }
     ],
     "prompt_number": 9
    },
    {
     "cell_type": "markdown",
     "metadata": {},
     "source": [
      "Alternatively, mesh can be visualised by using the command **plot_mesh** which is also a part of **finmag.util.helpers** module, but unstable Matplotlib 1.3.X version must be installed. Alternatively, mesh can be visualised by dolfin's **plot** method in the following way."
     ]
    },
    {
     "cell_type": "code",
     "collapsed": false,
     "input": [
      "df.plot(mesh)"
     ],
     "language": "python",
     "metadata": {},
     "outputs": [
      {
       "metadata": {},
       "output_type": "pyout",
       "prompt_number": 10,
       "text": [
        "<dolfin.cpp.io.VTKPlotter; proxy of <Swig Object of type 'boost::shared_ptr< dolfin::VTKPlotter > *' at 0x4033480> >"
       ]
      }
     ],
     "prompt_number": 10
    },
    {
     "cell_type": "markdown",
     "metadata": {},
     "source": [
      "###Magnetisation saturation parameter\n",
      "\n",
      "The next parameter which should be defined, before the simulation object is created, is magnetisation saturation parameter $M_\\mathrm{S}$. For example $M_\\mathrm{S}$ with value $8\\cdot10^{5}$ A/m is defined with the following command:"
     ]
    },
    {
     "cell_type": "code",
     "collapsed": false,
     "input": [
      "Ms = 8e5"
     ],
     "language": "python",
     "metadata": {},
     "outputs": [],
     "prompt_number": 11
    },
    {
     "cell_type": "markdown",
     "metadata": {},
     "source": [
      "###Creation of simulation object\n",
      "\n",
      "After mesh and $M_\\mathrm{S}$ parameters are defined, **Simulation** class instance can be created. It requires two arguments:\n",
      "\n",
      "* mesh and\n",
      "* $M_\\mathrm{S}$\n",
      "\n",
      "**Simulation** class is imported from the finmag module as **Sim** and therefore its instance is created using the following command:"
     ]
    },
    {
     "cell_type": "code",
     "collapsed": false,
     "input": [
      "sim1 = Sim(mesh, Ms, name='skyrmion1')"
     ],
     "language": "python",
     "metadata": {},
     "outputs": [
      {
       "output_type": "stream",
       "stream": "stderr",
       "text": [
        "[2013-12-04 14:01:51] INFO: Finmag logging output will be written to file: '/home/albert/work/code/finmag/doc/ipython_notebooks_src/skyrmion1.log' (any old content will be overwritten).\n"
       ]
      },
      {
       "output_type": "stream",
       "stream": "stderr",
       "text": [
        "[2013-12-04 14:01:51] DEBUG: Creating DataWriter for file 'skyrmion1.ndt'\n"
       ]
      },
      {
       "output_type": "stream",
       "stream": "stderr",
       "text": [
        "[2013-12-04 14:01:51] INFO: Creating Sim object 'skyrmion1' (rank=0/1).\n"
       ]
      },
      {
       "output_type": "stream",
       "stream": "stderr",
       "text": [
        "[2013-12-04 14:01:51] INFO: <Mesh of topological dimension 3 (tetrahedra) with 5202 vertices and 15000 cells, ordered>\n"
       ]
      },
      {
       "output_type": "stream",
       "stream": "stderr",
       "text": [
        "[2013-12-04 14:01:51] DEBUG: Creating LLG object.\n"
       ]
      }
     ],
     "prompt_number": 12
    },
    {
     "cell_type": "markdown",
     "metadata": {},
     "source": [
      "The next thing which should be done is to set the initial state of magnetisation in the sample. The initial magnetisation state is defined by using the **set_m** method as a part of **Simulation** class. The required argument is a tuple of three components $(m_\\mathrm{x},m_\\mathrm{y},m_\\mathrm{z})$. The initial magnetisation state which points towards $+x$ direction is set in the following way:"
     ]
    },
    {
     "cell_type": "code",
     "collapsed": false,
     "input": [
      "sim1.set_m((1, 0, 0))"
     ],
     "language": "python",
     "metadata": {},
     "outputs": [],
     "prompt_number": 13
    },
    {
     "cell_type": "markdown",
     "metadata": {},
     "source": [
      "The current state of the magnetisation can be visualised by using the Paraview or Mayavi software. However, before the magnetisation configuratin can be visualised, **.pvd** file must be created. Method **save_vtk** is a part of **Simulation** class and takes the name of the file as an argument. If no argument is specified, name of the file is chosen automatically. If the **.pvd** file already exists it would not be overwritten unless an additional **overwrite** argument is not set to True. "
     ]
    },
    {
     "cell_type": "code",
     "collapsed": false,
     "input": [
      "sim1.save_vtk('initial_state.pvd', overwrite=True)"
     ],
     "language": "python",
     "metadata": {},
     "outputs": [
      {
       "output_type": "stream",
       "stream": "stderr",
       "text": [
        "[2013-12-04 14:02:39] DEBUG: Saved field at t=0.0 to file 'initial_state.pvd' (snapshot #0; saving took 0.045 seconds).\n"
       ]
      }
     ],
     "prompt_number": 17
    },
    {
     "cell_type": "markdown",
     "metadata": {},
     "source": [
      "###Adding energy terms into the simulation\n",
      "\n",
      "After the simulation object is created, required energy terms for the skyrmion formation must be added into the simulation.\n",
      "Exchange energy term \n",
      "\\begin{equation} E_\\mathrm{ex} = A\\int_{\\Omega}(\\nabla \\vec{M})^{2} \\mathrm{d}V \\end{equation} \n",
      "which is uniquely characterised by exchange energy constant $A$ can be created by using already imported **Exchange** class, where exchange energy parameter is added as an argument. If \n",
      "\\begin{equation} A=1\\cdot10^{-11} \\mathrm{J/m}\\end{equation} \n",
      "exchange object is created in the following way:"
     ]
    },
    {
     "cell_type": "code",
     "collapsed": false,
     "input": [
      "A = 1e-11\n",
      "exchange = Exchange(A)"
     ],
     "language": "python",
     "metadata": {},
     "outputs": [
      {
       "output_type": "stream",
       "stream": "stderr",
       "text": [
        "[2013-12-04 14:02:44] DEBUG: Creating Exchange object with method box-matrix-petsc, in Jacobian.\n"
       ]
      }
     ],
     "prompt_number": 18
    },
    {
     "cell_type": "markdown",
     "metadata": {},
     "source": [
      "Similarly, DMI energy term \n",
      "\\begin{equation} \n",
      "E_{dmi}=D\\int_{\\Omega}\\vec{M}\\cdot(\\nabla\\times\\vec{M})\\mathrm{d}V\n",
      "\\end{equation}\n",
      "which is characterised by Dzyaloshinskii-Moriya energy parameter can be created by using the **DMI** method which taked the value of $D$ as an argument. According to equation: \n",
      "\\begin{equation}\n",
      "L_\\mathrm{D}=\\frac{4\\pi A}{|D|}\n",
      "\\end{equation}\n",
      "where $L_{D}$ is the characteristic length of spiral modulation, parameter $D$ can be estimated. For instance, in the case of MnSi, the $L_{D}$ parameter is $18$ nm and accordingly DMI energy parameter is: $$D = 6.98\\cdot10^{-3} \\mathrm{J/m^{2}}$$ "
     ]
    },
    {
     "cell_type": "code",
     "collapsed": false,
     "input": [
      "D = 6.98e-3\n",
      "dmi = DMI(D)"
     ],
     "language": "python",
     "metadata": {},
     "outputs": [
      {
       "output_type": "stream",
       "stream": "stderr",
       "text": [
        "[2013-12-04 14:02:46] DEBUG: Creating DMI object with method box-matrix-petsc, in Jacobian.\n"
       ]
      }
     ],
     "prompt_number": 19
    },
    {
     "cell_type": "markdown",
     "metadata": {},
     "source": [
      "The final energy term which must be included into the simulation is Zeeman energy: \n",
      "\\begin{equation}\n",
      "E_\\mathrm{H}=-\\mu_{0}\\int_{\\Omega}\\vec{M}\\cdot\\vec{H}\\mathrm{d}V\n",
      "\\end{equation}\n",
      "which requires the value of $\\vec{H}$ as a list of three external field components $[H_\\mathrm{x},H_\\mathrm{y},H_\\mathrm{z}]$. If the external field is applied only in z direction with $H_\\mathrm{z}=1.6\\cdot10^{6} \\mathrm{A/m}$, the zeeman object is created:"
     ]
    },
    {
     "cell_type": "code",
     "collapsed": false,
     "input": [
      "H = [0,0,1600000]\n",
      "zeeman = Zeeman(H)"
     ],
     "language": "python",
     "metadata": {},
     "outputs": [],
     "prompt_number": 20
    },
    {
     "cell_type": "markdown",
     "metadata": {},
     "source": [
      "After energy objects are created, they can be added into the simulator by using the **add** method:"
     ]
    },
    {
     "cell_type": "code",
     "collapsed": false,
     "input": [
      "sim1.add(exchange)\n",
      "sim1.add(dmi)\n",
      "sim1.add(zeeman)"
     ],
     "language": "python",
     "metadata": {},
     "outputs": [
      {
       "output_type": "stream",
       "stream": "stderr",
       "text": [
        "[2013-12-04 14:02:51] DEBUG: Adding interaction <finmag.energies.exchange.Exchange object at 0x409cd10> to simulation 'skyrmion1'\n"
       ]
      },
      {
       "output_type": "stream",
       "stream": "stderr",
       "text": [
        "[2013-12-04 14:02:51] DEBUG: Adding interaction <finmag.energies.dmi.DMI object at 0x409c910> to simulation 'skyrmion1'\n"
       ]
      },
      {
       "output_type": "stream",
       "stream": "stderr",
       "text": [
        "[2013-12-04 14:02:58] DEBUG: Adding interaction <finmag.energies.zeeman.Zeeman object at 0x409cf10> to simulation 'skyrmion1'\n"
       ]
      }
     ],
     "prompt_number": 21
    },
    {
     "cell_type": "markdown",
     "metadata": {},
     "source": [
      "###Running the simulation and final state visualisation\n",
      "After the whole simulation object is created, simulation can be executed. The simulation is executed by using the **run_until** command. This command takes the final time of simulation $t_{final}$ as an argument. If the final simulation time is $0.3 ns$, time integration is executed by typing (This make take a few minutes to execute.):"
     ]
    },
    {
     "cell_type": "code",
     "collapsed": false,
     "input": [
      "sim1.run_until(0.3e-9)"
     ],
     "language": "python",
     "metadata": {},
     "outputs": [
      {
       "output_type": "stream",
       "stream": "stderr",
       "text": [
        "[2013-12-04 14:02:58] INFO: Create integrator sundials with kwargs={}\n"
       ]
      },
      {
       "output_type": "stream",
       "stream": "stderr",
       "text": [
        "[2013-12-04 14:02:58] DEBUG: Creating integrator with backend sundials.\n"
       ]
      },
      {
       "output_type": "stream",
       "stream": "stderr",
       "text": [
        "[2013-12-04 14:02:58] INFO: Simulation will run until t = 3e-10 s.\n"
       ]
      },
      {
       "output_type": "stream",
       "stream": "stderr",
       "text": [
        "[2013-12-04 14:04:55] INFO: Simulation has reached time t = 3e-10 s.\n"
       ]
      }
     ],
     "prompt_number": 22
    },
    {
     "cell_type": "markdown",
     "metadata": {},
     "source": [
      "After the simulation is finished, the state of an object can be visualised by using the VTK visualisation software. The **.pvd** file is created by using the **save_vtk** method in the following way:"
     ]
    },
    {
     "cell_type": "code",
     "collapsed": false,
     "input": [
      "sim1.save_vtk('skyrmion_state.pvd', overwrite=True)"
     ],
     "language": "python",
     "metadata": {},
     "outputs": [
      {
       "output_type": "stream",
       "stream": "stderr",
       "text": [
        "[2013-12-04 14:04:55] DEBUG: Saved field at t=3e-10 to file 'skyrmion_state.pvd' (snapshot #0; saving took 0.0518 seconds).\n"
       ]
      }
     ],
     "prompt_number": 23
    },
    {
     "cell_type": "markdown",
     "metadata": {},
     "source": [
      "After showing the magnetisation state after the simulation, it can be seen that a single skyrmion is formed in the sample."
     ]
    },
    {
     "cell_type": "markdown",
     "metadata": {},
     "source": [
      "In the absence of tools like paraview or MayaVi (which can visualise the saved ``pvd`` files) we can get a rough presentation of the data with this command:"
     ]
    },
    {
     "cell_type": "code",
     "collapsed": false,
     "input": [
      "df.plot(sim1.llg._m)"
     ],
     "language": "python",
     "metadata": {},
     "outputs": [
      {
       "metadata": {},
       "output_type": "pyout",
       "prompt_number": 24,
       "text": [
        "<dolfin.cpp.io.VTKPlotter; proxy of <Swig Object of type 'boost::shared_ptr< dolfin::VTKPlotter > *' at 0x40c7420> >"
       ]
      }
     ],
     "prompt_number": 24
    },
    {
     "cell_type": "code",
     "collapsed": false,
     "input": [],
     "language": "python",
     "metadata": {},
     "outputs": []
    }
   ],
   "metadata": {}
  }
 ]
}