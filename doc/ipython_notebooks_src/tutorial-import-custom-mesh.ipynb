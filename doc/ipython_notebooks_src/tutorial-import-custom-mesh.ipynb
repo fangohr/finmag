{
 "metadata": {
  "name": ""
 },
 "nbformat": 3,
 "nbformat_minor": 0,
 "worksheets": [
  {
   "cells": [
    {
     "cell_type": "heading",
     "level": 1,
     "metadata": {},
     "source": [
      "tutorial-import-custom-mesh"
     ]
    },
    {
     "cell_type": "markdown",
     "metadata": {},
     "source": [
      "This tutorial aims to show the following:\n",
      "\n",
      " - How to import a custom mesh with different regions into dolfin.\n",
      " - How to run a simulation with this mesh by assigning different properties to different regions.\n",
      "\n",
      "Firstly, the user is advised to lightly peruse the GMSH manual, with specific attention to the tutorial for this instruction. The manual can be found at: http://geuz.org/gmsh/doc/texinfo/gmsh.html#Tutorial. The mesh created in this tutorial will be done so using GMSH, but any meshing tool that can produce meshes of the type documented in dolfin-convert are appropriate (man page available here: http://man.cx/dolfin-convert)."
     ]
    },
    {
     "cell_type": "code",
     "collapsed": false,
     "input": [
      "# IPYTHON_TEST_IGNORE_OUTPUT\n",
      "\n",
      "# This tutorial was written for use with dolfin version 1.3.0.\n",
      "import finmag"
     ],
     "language": "python",
     "metadata": {},
     "outputs": [
      {
       "output_type": "stream",
       "stream": "stderr",
       "text": [
        "[2014-01-24 12:58:04] INFO: Finmag logging output will be appended to file: '/home/mark/.finmag/global.log'\n"
       ]
      },
      {
       "output_type": "stream",
       "stream": "stderr",
       "text": [
        "[2014-01-24 12:58:04] DEBUG: Building modules in 'native'...\n"
       ]
      },
      {
       "output_type": "stream",
       "stream": "stderr",
       "text": [
        "[2014-01-24 12:58:05] DEBUG:               Finmag: 4403:134345eca9065a2b84583cfa49e5008fa8715296\n"
       ]
      },
      {
       "output_type": "stream",
       "stream": "stderr",
       "text": [
        "[2014-01-24 12:58:05] DEBUG:               Dolfin: 1.3.0\n"
       ]
      },
      {
       "output_type": "stream",
       "stream": "stderr",
       "text": [
        "[2014-01-24 12:58:05] DEBUG:           Matplotlib: 1.2.1\n"
       ]
      },
      {
       "output_type": "stream",
       "stream": "stderr",
       "text": [
        "[2014-01-24 12:58:05] DEBUG:                Numpy: 1.7.1\n"
       ]
      },
      {
       "output_type": "stream",
       "stream": "stderr",
       "text": [
        "[2014-01-24 12:58:05] DEBUG:                Scipy: 0.11.0\n"
       ]
      },
      {
       "output_type": "stream",
       "stream": "stderr",
       "text": [
        "[2014-01-24 12:58:05] DEBUG:              IPython: 1.1.0\n"
       ]
      },
      {
       "output_type": "stream",
       "stream": "stderr",
       "text": [
        "[2014-01-24 12:58:05] DEBUG:               Python: 2.7.4\n"
       ]
      },
      {
       "output_type": "stream",
       "stream": "stderr",
       "text": [
        "[2014-01-24 12:58:05] DEBUG:             Paraview: 3.98.0-1~exp1\n"
       ]
      },
      {
       "output_type": "stream",
       "stream": "stderr",
       "text": [
        "[2014-01-24 12:58:05] DEBUG:             Sundials: 2.5.0-3\n"
       ]
      },
      {
       "output_type": "stream",
       "stream": "stderr",
       "text": [
        "[2014-01-24 12:58:05] DEBUG:         Boost-Python: 1.49.0\n"
       ]
      },
      {
       "output_type": "stream",
       "stream": "stderr",
       "text": [
        "[2014-01-24 12:58:05] DEBUG:                Linux: Ubuntu 13.04\n"
       ]
      },
      {
       "output_type": "stream",
       "stream": "stderr",
       "text": [
        "[2014-01-24 12:58:05] DEBUG: Registering debug signal handler. Press Ctrl-Z at any time to stop execution and jump into the debugger.\n"
       ]
      }
     ],
     "prompt_number": 1
    },
    {
     "cell_type": "markdown",
     "metadata": {},
     "source": [
      "Lets begin by creating a custom geometry in GMSH. If this is confusing, check out the tutorial in the link above."
     ]
    },
    {
     "cell_type": "code",
     "collapsed": false,
     "input": [
      "title = \"tutorial-import-custom-mesh\"\n",
      "\n",
      "# Populate the mesh \".geo\" file with points, lines, line loops and physical surfaces.\n",
      "meshText = \"/* This is a mesh created by the {} notebook. */\\n\".format(title)\n",
      "meshText += \"Point(1) = {0, 0, 0, 5};\\n\"\n",
      "meshText += \"Point(2) = {100, 0, 0, 5};\\n\"\n",
      "meshText += \"Point(3) = {100, 100, 0, 5};\\n\"\n",
      "meshText += \"Point(4) = {0, 100, 0, 5};\\n\"\n",
      "\n",
      "meshText += \"Line(1) = {1, 2};\\n\"\n",
      "meshText += \"Line(2) = {2, 3};\\n\"\n",
      "meshText += \"Line(3) = {3, 4};\\n\"\n",
      "meshText += \"Line(4) = {4, 1};\\n\"\n",
      "meshText += \"Line(5) = {3, 1};\\n\"\n",
      "\n",
      "meshText += \"Line Loop(1) = {1, 2, 5};\\n\"\n",
      "meshText += \"Line Loop(2) = {3, 4, -5};\\n\"\n",
      "\n",
      "meshText += \"Plane Surface(1) = {1};\\n\"\n",
      "meshText += \"Plane Surface(2) = {2};\\n\"\n",
      "\n",
      "meshText += \"Physical Surface(1) = {1};\\n\"\n",
      "meshText += \"Physical Surface(2) = {2};\\n\"\n",
      "\n",
      "# Write to the \".geo\" file.\n",
      "meshTextOut = open(title + \".geo\", \"w\")\n",
      "meshTextOut.write(meshText)\n",
      "meshTextOut.close()"
     ],
     "language": "python",
     "metadata": {},
     "outputs": [],
     "prompt_number": 2
    },
    {
     "cell_type": "markdown",
     "metadata": {},
     "source": [
      "Now we can mesh this geometry to create our custom mesh, then convert the mesh into the dolfin xml format."
     ]
    },
    {
     "cell_type": "code",
     "collapsed": false,
     "input": [
      "# IPYTHON_TEST_IGNORE_OUTPUT\n",
      "\n",
      "# If one wants to perform this all from a python prompt, using the\n",
      "# \"system\" function from the os module will produce identical results.\n",
      "\n",
      "# Mesh the geo file defined earlier.\n",
      "!gmsh {title}.geo -2 -o {title}.msh\n",
      "\n",
      "# Convert the mesh into a dolfin-compatible \".xml\" mesh.\n",
      "print\n",
      "!dolfin-convert {title}.msh {title}.xml"
     ],
     "language": "python",
     "metadata": {},
     "outputs": [
      {
       "output_type": "stream",
       "stream": "stdout",
       "text": [
        "Info    : Running 'gmsh tutorial-import-custom-mesh.geo -2 -o tutorial-import-custom-mesh.msh' [Gmsh 2.6.2, 1 node, max. 8 threads]\r\n",
        "Info    : Started on Fri Jan 24 12:58:05 2014\r\n",
        "Info    : Reading 'tutorial-import-custom-mesh.geo'...\r\n",
        "Info    : Done reading 'tutorial-import-custom-mesh.geo'\r\n",
        "Info    : Meshing 1D...\r\n",
        "Info    : Meshing curve 1 (Line)\r\n",
        "Info    : Meshing curve 2 (Line)\r\n",
        "Info    : Meshing curve 3 (Line)\r\n",
        "Info    : Meshing curve 4 (Line)\r\n",
        "Info    : Meshing curve 5 (Line)\r\n",
        "Info    : Done meshing 1D (0.004 s)\r\n",
        "Info    : Meshing 2D...\r\n",
        "Info    : Meshing surface 1 (Plane, Delaunay)\r\n",
        "Info    : Meshing surface 2 (Plane, Delaunay)\r\n",
        "Info    : Done meshing 2D (0.004 s)\r\n",
        "Info    : 527 vertices 1084 elements\r\n",
        "Info    : Writing 'tutorial-import-custom-mesh.msh'...\r\n",
        "Info    : Done writing 'tutorial-import-custom-mesh.msh'\r\n",
        "Info    : Stopped on Fri Jan 24 12:58:05 2014\r\n"
       ]
      },
      {
       "output_type": "stream",
       "stream": "stdout",
       "text": [
        "\n"
       ]
      },
      {
       "output_type": "stream",
       "stream": "stdout",
       "text": [
        "Converting from Gmsh format (.msh, .gmsh) to DOLFIN XML format\r\n",
        "Expecting 527 vertices\r\n",
        "Found all vertices\r\n",
        "Expecting 976 cells\r\n",
        "Found all cells\r\n",
        "Conversion done\r\n"
       ]
      }
     ],
     "prompt_number": 3
    },
    {
     "cell_type": "markdown",
     "metadata": {},
     "source": [
      "This mesh can now be used in dolfin by importing the corresponding \".xml\" file."
     ]
    },
    {
     "cell_type": "code",
     "collapsed": false,
     "input": [
      "# IPYTHON_TEST_IGNORE_OUTPUT\n",
      "\n",
      "# Import dolfin and create our mesh object.\n",
      "import dolfin as df\n",
      "mesh = df.Mesh(title + \".xml\")\n",
      "\n",
      "# We can also take a look at our shiny custom mesh. Note the diagonal line defining the different regions from the bottom-left\n",
      "# corner to the lower-right corner.\n",
      "# df.plot(mesh)"
     ],
     "language": "python",
     "metadata": {},
     "outputs": [],
     "prompt_number": 4
    },
    {
     "cell_type": "markdown",
     "metadata": {},
     "source": [
      "The fun doesn't stop there of course! We can also import our region information as a dolfin meshfunction associated with the dolfin Mesh object we have just created. This function is only defined over the cells of the mesh, meaning it takes the index of a cell as a parameter and returns the value of the function."
     ]
    },
    {
     "cell_type": "code",
     "collapsed": false,
     "input": [
      "myMeshFunction = df.MeshFunction(\"size_t\", mesh, title + \"_physical_region.xml\")\n",
      "print(\"Cell 0 has value {}, and cell -1 has value {}.\".format(myMeshFunction[0], myMeshFunction[-1]))"
     ],
     "language": "python",
     "metadata": {},
     "outputs": [
      {
       "output_type": "stream",
       "stream": "stdout",
       "text": [
        "Cell 0 has value 1, and cell -1 has value 2.\n"
       ]
      }
     ],
     "prompt_number": 5
    },
    {
     "cell_type": "markdown",
     "metadata": {},
     "source": [
      "We can use this function to define a simulation parameter. By way of example we can initialise the magnetisation so that it is in-plane in one region and out-of-plane in the other. The challenge here is that the dolfin Meshfunction object takes a cell index, but finmag samples in the centre of the cells using a co-ordinate system. This means we need a way to convert from a co-ordinate in the mesh to the index of the cell associated with that co-ordinate."
     ]
    },
    {
     "cell_type": "code",
     "collapsed": false,
     "input": [
      "import numpy as np\n",
      "\n",
      "# Define a function that takes a position on the mesh, and returns the magnetisation at that point.\n",
      "def m_Func(pos):\n",
      "    \n",
      "    # Convert the position vector into a dolfin Point object.\n",
      "    point = df.Point(*pos)\n",
      "    \n",
      "    # Find the index of the cell corresponding to this position.\n",
      "    index = mesh.bounding_box_tree().compute_first_entity_collision(point)\n",
      "    \n",
      "    # Resolve the meshfunction at this index, and normalise to be either 1 or -1.\n",
      "    ID = myMeshFunction[index] * 2 - 3\n",
      "    \n",
      "    # Return the corresponding external field value.\n",
      "    return np.array([0, 0, ID])"
     ],
     "language": "python",
     "metadata": {},
     "outputs": [],
     "prompt_number": 6
    },
    {
     "cell_type": "markdown",
     "metadata": {},
     "source": [
      "To prove to you that it works, we will build a simulation object, apply the magnetisation and plot it."
     ]
    },
    {
     "cell_type": "code",
     "collapsed": false,
     "input": [
      "# IPYTHON_TEST_IGNORE_OUTPUT\n",
      "\n",
      "sim = finmag.Simulation(mesh, 1e5, name=title, unit_length=1e-9)\n",
      "sim.set_m(m_Func)\n",
      "df.plot(sim.llg._m, scale=0.7, scalarbar=False, title=sim.name)\n",
      "df.interactive()"
     ],
     "language": "python",
     "metadata": {},
     "outputs": [
      {
       "output_type": "stream",
       "stream": "stderr",
       "text": [
        "[2014-01-24 12:59:33] INFO: Finmag logging output will be written to file: '/home/mark/Dropbox/Academia/Research/Investigations/03_Inv/iPython_Notebook/tutorial_import_custom_mesh.log' (any old content will be overwritten).\n"
       ]
      },
      {
       "output_type": "stream",
       "stream": "stderr",
       "text": [
        "[2014-01-24 12:59:33] DEBUG: Creating DataWriter for file 'tutorial_import_custom_mesh.ndt'\n"
       ]
      },
      {
       "output_type": "stream",
       "stream": "stderr",
       "text": [
        "[2014-01-24 12:59:33] INFO: Creating Sim object 'tutorial-import-custom-mesh' (rank=0/1).\n"
       ]
      },
      {
       "output_type": "stream",
       "stream": "stderr",
       "text": [
        "[2014-01-24 12:59:33] INFO: <Mesh of topological dimension 2 (triangles) with 527 vertices and 976 cells, ordered>\n"
       ]
      },
      {
       "output_type": "stream",
       "stream": "stderr",
       "text": [
        "[2014-01-24 12:59:33] DEBUG: Creating LLG object.\n"
       ]
      }
     ],
     "prompt_number": 8
    }
   ],
   "metadata": {}
  }
 ]
}