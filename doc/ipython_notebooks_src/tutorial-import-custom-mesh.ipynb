{
 "metadata": {
  "name": "",
  "signature": "sha256:3f541585aa310189e7640a1385b855616e16a94584693cbec874dda8e2efd7ad"
 },
 "nbformat": 3,
 "nbformat_minor": 0,
 "worksheets": [
  {
   "cells": [
    {
     "cell_type": "markdown",
     "metadata": {},
     "source": [
      "# Importing and using a custom mesh with different regions"
     ]
    },
    {
     "cell_type": "markdown",
     "metadata": {},
     "source": [
      "**Author**: Mark Vousden\n",
      "\n",
      "**Date**: Jan 2014\n",
      "\n",
      "**Purpose**: This tutorial aims to show the following:\n",
      "\n",
      " - How to import a custom mesh with different regions into dolfin.\n",
      " - How to run a simulation with this mesh by assigning different properties to different regions."
     ]
    },
    {
     "cell_type": "markdown",
     "metadata": {},
     "source": [
      "Firstly, the user is advised to lightly peruse the GMSH manual, with specific attention to the tutorial for this instruction. The manual can be found at: http://geuz.org/gmsh/doc/texinfo/gmsh.html#Tutorial. The mesh created in this tutorial will be done so using GMSH, but any meshing tool that can produce meshes of the type documented in dolfin-convert are appropriate (man page available here: http://man.cx/dolfin-convert)."
     ]
    },
    {
     "cell_type": "code",
     "collapsed": false,
     "input": [
      "# This tutorial was written for use with dolfin version 1.3.0.\n",
      "import finmag"
     ],
     "language": "python",
     "metadata": {},
     "outputs": [
      {
       "output_type": "stream",
       "stream": "stderr",
       "text": [
        "[2014-09-12 15:00:14] INFO: Finmag logging output will be appended to file: '/home/mb4e10/.finmag/global.log'\n"
       ]
      },
      {
       "output_type": "stream",
       "stream": "stderr",
       "text": [
        "[2014-09-12 15:00:14] DEBUG: Building modules in 'native'...\n"
       ]
      },
      {
       "output_type": "stream",
       "stream": "stderr",
       "text": [
        "[2014-09-12 15:00:15] DEBUG: FinMag          5445:9b5cc89ebfd9dc950a9d0700af2313ec46300828\n"
       ]
      },
      {
       "output_type": "stream",
       "stream": "stderr",
       "text": [
        "[2014-09-12 15:00:15] DEBUG: Dolfin          1.4.0                Matplotlib      1.3.1               \n"
       ]
      },
      {
       "output_type": "stream",
       "stream": "stderr",
       "text": [
        "[2014-09-12 15:00:15] DEBUG: Numpy           1.8.1                Scipy           0.14.0              \n"
       ]
      },
      {
       "output_type": "stream",
       "stream": "stderr",
       "text": [
        "[2014-09-12 15:00:15] DEBUG: IPython         2.1.0                Python          2.7.6               \n"
       ]
      },
      {
       "output_type": "stream",
       "stream": "stderr",
       "text": [
        "[2014-09-12 15:00:15] DEBUG: Paraview        4.0.1-1ubuntu1       Sundials        2.5.0               \n"
       ]
      },
      {
       "output_type": "stream",
       "stream": "stderr",
       "text": [
        "[2014-09-12 15:00:15] DEBUG: Boost-Python    <unknown>            Linux           Ubuntu 14.04.1 LTS  \n"
       ]
      },
      {
       "output_type": "stream",
       "stream": "stderr",
       "text": [
        "[2014-09-12 15:00:15] DEBUG: Registering debug signal handler. Press Ctrl-Z at any time to stop execution and jump into the debugger.\n"
       ]
      }
     ],
     "prompt_number": 1
    },
    {
     "cell_type": "markdown",
     "metadata": {},
     "source": [
      "Lets begin by creating a custom geometry in GMSH. If this is confusing, check out the tutorial in the link above."
     ]
    },
    {
     "cell_type": "code",
     "collapsed": false,
     "input": [
      "import textwrap\n",
      "\n",
      "title = \"tutorial-import-custom-mesh\"\n",
      "\n",
      "# Populate the mesh \".geo\" file with points, lines, line loops and physical surfaces.\n",
      "meshText = textwrap.dedent(\"\"\"\n",
      "    /* This is a mesh created by the %s notebook. */\n",
      "    Point(1) = {0, 0, 0, 5};\n",
      "    Point(2) = {100, 0, 0, 5};\n",
      "    Point(3) = {100, 100, 0, 5};\n",
      "    Point(4) = {0, 100, 0, 5};\n",
      "\n",
      "    Line(1) = {1, 2};\n",
      "    Line(2) = {2, 3};\n",
      "    Line(3) = {3, 4};\n",
      "    Line(4) = {4, 1};\n",
      "    Line(5) = {3, 1};\n",
      "\n",
      "    Line Loop(1) = {1, 2, 5};\n",
      "    Line Loop(2) = {3, 4, -5};\n",
      "\n",
      "    Plane Surface(1) = {1};\n",
      "    Plane Surface(2) = {2};\n",
      "\n",
      "    Physical Surface(1) = {1};\n",
      "    Physical Surface(2) = {2};\n",
      "    \"\"\" % title)\n",
      "\n",
      "# Write to the \".geo\" file.\n",
      "meshTextOut = open(title + \".geo\", \"w\")\n",
      "meshTextOut.write(meshText)\n",
      "meshTextOut.close()"
     ],
     "language": "python",
     "metadata": {},
     "outputs": [],
     "prompt_number": 2
    },
    {
     "cell_type": "markdown",
     "metadata": {},
     "source": [
      "Now we can mesh this geometry to create our custom mesh, then convert the mesh into the dolfin xml format."
     ]
    },
    {
     "cell_type": "code",
     "collapsed": false,
     "input": [
      "# If one wants to perform this all from a python prompt, using the\n",
      "# \"system\" function from the os module will produce identical results.\n",
      "\n",
      "# Mesh the geo file defined earlier.\n",
      "!gmsh {title}.geo -2 -o {title}.msh\n",
      "\n",
      "# Convert the mesh into a dolfin-compatible \".xml\" mesh.\n",
      "print\n",
      "!dolfin-convert {title}.msh {title}.xml"
     ],
     "language": "python",
     "metadata": {},
     "outputs": [
      {
       "output_type": "stream",
       "stream": "stdout",
       "text": [
        "Info    : Running 'gmsh tutorial-import-custom-mesh.geo -2 -o tutorial-import-custom-mesh.msh' [Gmsh 2.8.3, 1 node, max. 1 thread]\r\n",
        "Info    : Started on Fri Sep 12 15:00:20 2014\r\n",
        "Info    : Reading 'tutorial-import-custom-mesh.geo'...\r\n"
       ]
      },
      {
       "output_type": "stream",
       "stream": "stdout",
       "text": [
        "Info    : Done reading 'tutorial-import-custom-mesh.geo'\r\n",
        "Info    : Meshing 1D...\r\n",
        "Info    : Meshing curve 1 (Line)\r\n"
       ]
      },
      {
       "output_type": "stream",
       "stream": "stdout",
       "text": [
        "Info    : Meshing curve 2 (Line)\r\n",
        "Info    : Meshing curve 3 (Line)\r\n",
        "Info    : Meshing curve 4 (Line)\r\n",
        "Info    : Meshing curve 5 (Line)\r\n",
        "Info    : Done meshing 1D (0.00081 s)\r\n",
        "Info    : Meshing 2D...\r\n",
        "Info    : Meshing surface 1 (Plane, Delaunay)\r\n"
       ]
      },
      {
       "output_type": "stream",
       "stream": "stdout",
       "text": [
        "Info    : Meshing surface 2 (Plane, Delaunay)\r\n",
        "Info    : Done meshing 2D (0.0769489 s)\r\n",
        "Info    : 558 vertices 1147 elements\r\n",
        "Info    : Writing 'tutorial-import-custom-mesh.msh'...\r\n"
       ]
      },
      {
       "output_type": "stream",
       "stream": "stdout",
       "text": [
        "Info    : Done writing 'tutorial-import-custom-mesh.msh'\r\n",
        "Info    : Stopped on Fri Sep 12 15:00:21 2014\r\n"
       ]
      },
      {
       "output_type": "stream",
       "stream": "stdout",
       "text": [
        "\n"
       ]
      },
      {
       "output_type": "stream",
       "stream": "stdout",
       "text": [
        "Converting from Gmsh format (.msh, .gmsh) to DOLFIN XML format\r\n",
        "Expecting 558 vertices\r\n"
       ]
      },
      {
       "output_type": "stream",
       "stream": "stdout",
       "text": [
        "Found all vertices\r\n",
        "Expecting 1034 cells\r\n",
        "Found all cells\r\n",
        "Conversion done\r\n"
       ]
      }
     ],
     "prompt_number": 3
    },
    {
     "cell_type": "markdown",
     "metadata": {},
     "source": [
      "This mesh can now be used in dolfin by importing the corresponding \".xml\" file."
     ]
    },
    {
     "cell_type": "code",
     "collapsed": false,
     "input": [
      "# Import dolfin and create our mesh object.\n",
      "import dolfin as df\n",
      "mesh = df.Mesh(title + \".xml\")\n",
      "\n",
      "# We can also take a look at our shiny custom mesh. Note the diagonal line defining the different regions from the bottom-left\n",
      "# corner to the lower-right corner.\n",
      "# df.plot(mesh)"
     ],
     "language": "python",
     "metadata": {},
     "outputs": [],
     "prompt_number": 4
    },
    {
     "cell_type": "markdown",
     "metadata": {},
     "source": [
      "The fun doesn't stop there of course! We can also import our region information as a dolfin meshfunction associated with the dolfin Mesh object we have just created. This function is only defined over the cells of the mesh, meaning it takes the index of a cell as a parameter and returns the value of the function."
     ]
    },
    {
     "cell_type": "code",
     "collapsed": false,
     "input": [
      "myMeshFunction = df.MeshFunction(\"size_t\", mesh, title + \"_physical_region.xml\")\n",
      "print(\"Cell 0 has value {}, and cell -1 has value {}.\".format(myMeshFunction[0], myMeshFunction[-1]))"
     ],
     "language": "python",
     "metadata": {},
     "outputs": [
      {
       "output_type": "stream",
       "stream": "stdout",
       "text": [
        "Cell 0 has value 1, and cell -1 has value 2.\n"
       ]
      }
     ],
     "prompt_number": 5
    },
    {
     "cell_type": "markdown",
     "metadata": {},
     "source": [
      "We can use this function to define a simulation parameter. By way of example we can initialise the magnetisation so that it is in-plane in one region and out-of-plane in the other. The challenge here is that the dolfin Meshfunction object takes a cell index, but finmag samples in the centre of the cells using a co-ordinate system. This means we need a way to convert from a co-ordinate in the mesh to the index of the cell associated with that co-ordinate."
     ]
    },
    {
     "cell_type": "code",
     "collapsed": false,
     "input": [
      "import numpy as np\n",
      "\n",
      "# Define a function that takes a position on the mesh, and returns the magnetisation at that point.\n",
      "def m_Func(pos):\n",
      "    \n",
      "    # Convert the position vector into a dolfin Point object.\n",
      "    point = df.Point(*pos)\n",
      "    \n",
      "    # Find the index of the cell corresponding to this position.\n",
      "    index = mesh.bounding_box_tree().compute_first_entity_collision(point)\n",
      "    \n",
      "    # Resolve the meshfunction at this index, and normalise to be either 1 or -1.\n",
      "    ID = myMeshFunction[index] * 2 - 3\n",
      "    \n",
      "    # Return the corresponding magnetisation value.\n",
      "    return np.array([0, 0, ID])"
     ],
     "language": "python",
     "metadata": {},
     "outputs": [],
     "prompt_number": 6
    },
    {
     "cell_type": "markdown",
     "metadata": {},
     "source": [
      "To prove to you that it works, we will build a simulation object, apply the magnetisation and plot it."
     ]
    },
    {
     "cell_type": "code",
     "collapsed": false,
     "input": [
      "sim = finmag.Simulation(mesh, 1e5, name=title, unit_length=1e-9)\n",
      "sim.set_m(m_Func)\n",
      "sim.render_scene(color_by_axis='z', add_glyphs=False, use_display=0)"
     ],
     "language": "python",
     "metadata": {},
     "outputs": [
      {
       "output_type": "stream",
       "stream": "stderr",
       "text": [
        "[2014-09-12 15:00:51] INFO: Finmag logging output will be written to file: '/home/mb4e10/finmag/doc/ipython_notebooks_src/tutorial_import_custom_mesh.log' (any old content will be overwritten).\n"
       ]
      },
      {
       "output_type": "stream",
       "stream": "stderr",
       "text": [
        "[2014-09-12 15:00:51] DEBUG: Creating DataWriter for file 'tutorial_import_custom_mesh.ndt'\n"
       ]
      },
      {
       "output_type": "stream",
       "stream": "stderr",
       "text": [
        "[2014-09-12 15:00:51] INFO: Creating Sim object 'tutorial-import-custom-mesh' (rank=0/1).\n"
       ]
      },
      {
       "output_type": "stream",
       "stream": "stderr",
       "text": [
        "[2014-09-12 15:00:51] INFO: <Mesh of topological dimension 2 (triangles) with 558 vertices and 1034 cells, ordered>\n"
       ]
      },
      {
       "output_type": "stream",
       "stream": "stderr",
       "text": [
        "[2014-09-12 15:00:51] DEBUG: Creating LLG object.\n"
       ]
      },
      {
       "output_type": "stream",
       "stream": "stderr",
       "text": [
        "[2014-09-12 15:00:52] DEBUG: Saved field at t=0.0 to file '/tmp/tmpiu1kx0/paraview_scene_tutorial-import-custom-mesh.pvd' (snapshot #0; saving took 0.00313 seconds).\n"
       ]
      },
      {
       "metadata": {},
       "output_type": "pyout",
       "png": "[encoded data removed]",
       "prompt_number": 9,
       "text": [
        "<IPython.core.display.Image at 0x7f10f52ed050>"
       ]
      }
     ],
     "prompt_number": 9
    }
   ],
   "metadata": {}
  }
 ]
}