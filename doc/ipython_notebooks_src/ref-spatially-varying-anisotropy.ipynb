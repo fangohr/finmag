{
 "metadata": {
  "name": "ref-spatially-varying-anisotropy"
 },
 "nbformat": 3,
 "nbformat_minor": 0,
 "worksheets": [
  {
   "cells": [
    {
     "cell_type": "code",
     "collapsed": false,
     "input": [
      "import finmag"
     ],
     "language": "python",
     "metadata": {},
     "outputs": [
      {
       "output_type": "stream",
       "stream": "stderr",
       "text": [
        "[2013-01-17 15:20:32] DEBUG:               Finmag: 2691:33759d4d9eefb23faecea34dd99a052de16e29eb\n"
       ]
      },
      {
       "output_type": "stream",
       "stream": "stderr",
       "text": [
        "[2013-01-17 15:20:32] DEBUG:               Dolfin: 1.0.0\n"
       ]
      },
      {
       "output_type": "stream",
       "stream": "stderr",
       "text": [
        "[2013-01-17 15:20:32] DEBUG:           Matplotlib: 1.2.0\n"
       ]
      },
      {
       "output_type": "stream",
       "stream": "stderr",
       "text": [
        "[2013-01-17 15:20:32] DEBUG:                Numpy: 1.6.2\n"
       ]
      },
      {
       "output_type": "stream",
       "stream": "stderr",
       "text": [
        "[2013-01-17 15:20:32] DEBUG:                Scipy: 0.10.1\n"
       ]
      },
      {
       "output_type": "stream",
       "stream": "stderr",
       "text": [
        "[2013-01-17 15:20:32] DEBUG:              IPython: 0.13\n"
       ]
      },
      {
       "output_type": "stream",
       "stream": "stderr",
       "text": [
        "[2013-01-17 15:20:32] DEBUG:               Python: 2.7.3\n"
       ]
      },
      {
       "output_type": "stream",
       "stream": "stderr",
       "text": [
        "[2013-01-17 15:20:32] DEBUG:             Sundials: 2.4.0-5\n"
       ]
      },
      {
       "output_type": "stream",
       "stream": "stderr",
       "text": [
        "[2013-01-17 15:20:32] DEBUG:         Boost-Python: 1.46.1\n"
       ]
      },
      {
       "output_type": "stream",
       "stream": "stderr",
       "text": [
        "[2013-01-17 15:20:32] DEBUG:                Linux: Ubuntu 12.04.1 LTS\n"
       ]
      },
      {
       "output_type": "stream",
       "stream": "stdout",
       "text": [
        "paraview version 3.14.1, Date: 2012-02-17\n"
       ]
      }
     ],
     "prompt_number": 1
    },
    {
     "cell_type": "code",
     "collapsed": false,
     "input": [
      "import os\n",
      "import numpy as np\n",
      "import pylab\n",
      "import dolfin as df\n",
      "\n",
      "from finmag import Simulation\n",
      "from finmag.energies import UniaxialAnisotropy, Exchange, Demag\n",
      "\n",
      "\"\"\"\n",
      "Demonstrating spatially varying anisotropy. Example with anisotropy vectors as follows:\n",
      "\n",
      "-----------------------------------\n",
      "\n",
      "--> --> --> --> --> --> --> --> -->\n",
      "--> --> --> --> --> --> --> --> -->\n",
      "--> --> --> --> --> --> --> --> -->\n",
      "\n",
      "-----------------------------------\n",
      "\n",
      "^  ^  ^  ^  ^  ^  ^  ^  ^  ^  ^  ^ \n",
      "|  |  |  |  |  |  |  |  |  |  |  | \n",
      "|  |  |  |  |  |  |  |  |  |  |  | \n",
      "\n",
      "-----------------------------------\n",
      "\"\"\"\n",
      "\n",
      "if True:\n",
      "    mu0   = 4.0 * np.pi * 10**-7  # vacuum permeability             N/A^2\n",
      "    Ms    = 1.0e6                 # saturation magnetisation        A/m\n",
      "    A     = 13.0e-12              # exchange coupling strength      J/m\n",
      "    Km    = 0.5 * mu0 * Ms**2     # magnetostatic energy density scale   kg/ms^2\n",
      "    lexch = (A/Km)**0.5           # exchange length                 m\n",
      "    K1    = Km\n",
      "\n",
      "    L = lexch # cube length in m\n",
      "    nx = 10\n",
      "    Lx = L*nx\n",
      "    ny = 1\n",
      "    Ly = ny*L\n",
      "    nz = 30\n",
      "    Lz = nz*L\n",
      "    mesh = df.Box(0, 0, 0, Lx, Ly, Lz, nx, ny, nz)\n",
      "\n",
      "\n",
      "    #anisotropy direction starts is [0,0,1] in lower half of the film\n",
      "    #and [1,0,0] in upper half. This is a toy model of the exchange spring\n",
      "    #systems that Bob Stamps is working on.\n",
      "    expr_a = df.Expression((\"x[2]<=Lz/2. ? 0 : 1\",\"0\", \"x[2]<=Lz/2. ? 1 : 0\"),Lz=Lz)\n",
      "\n",
      "    #discretise material parameter as discontinous Galerkin order 0 basis function\n",
      "    V3_DG0 = df.VectorFunctionSpace(mesh,\"DG\",0,dim=3)\n",
      "    a = df.interpolate(expr_a,V3_DG0)\n",
      "\n",
      "    sim = Simulation(mesh, Ms)\n",
      "    sim.set_m((1,0,1))\n",
      "    sim.add(UniaxialAnisotropy(K1, a))\n",
      "    sim.add(Exchange(A))\n",
      "    \n",
      "    #sim.relax()\n",
      "    sim.run_until(100e-12)\n",
      "\n",
      "    #create simple plot\n",
      "    xpos=[]\n",
      "    Mx = []\n",
      "    Mz = []\n",
      "    ax = []\n",
      "    az = []\n",
      "\n",
      "    aS3 = df.interpolate(a,sim.S3) \n",
      "\n",
      "    zs = np.linspace(0,Lz,200)\n",
      "    for z in zs:\n",
      "        pos = (Lx/2., Ly/2., z )\n",
      "        Mx.append(sim.llg._m(pos)[0])\n",
      "        Mz.append(sim.llg._m(pos)[2])\n",
      "        ax.append(a(pos)[0])\n",
      "        az.append(a(pos)[2])\n",
      "        \n",
      "    pylab.plot(Mx,zs/1e-9,'-',label='Magnetisation Mx')\n",
      "    pylab.plot(Mz,zs/1e-9,'--',label='Magnetisation Mz')\n",
      "    pylab.plot(ax,zs/1e-9,'-o',label='Anisotropy vector ax')\n",
      "    pylab.plot(az,zs/1e-9,'-x',label='Anisotropy vector az')\n",
      "    pylab.ylabel('position z in film [nm]')\n",
      "    pylab.legend(loc='upper center')\n",
      "\n",
      "if True:\n",
      "        #this only works with an X-display, so comment out for jenkins\n",
      "    #v = df.plot(sim.llg._m, \n",
      "    #            title='exchange spring across layers with different anisotropy directions',\n",
      "    #            axes=True)\n",
      "    \n",
      "    #v.elevate(-90) \n",
      "    #v.update(sim.llg._m)    # bring settings above into action\n",
      "    ##v.write_png(os.path.join(MODULE_DIR,'exchangespring.png')) #this is broken in my dolfin, HF\n",
      "    #                                                            #the bitmap looks random  \n",
      "    #v.write_ps(os.path.join(MODULE_DIR,'exchangespring'))       #will write exchangespring.eps\n",
      "    #os.system(\"ps2png exchangespring.eps exchangespring.png\")   #create the png file for documentation\n",
      "\n",
      "    f=df.File('exchangespring.pvd')    #same more data for paraview\n",
      "    f << sim.llg._m\n",
      "\n",
      "    "
     ],
     "language": "python",
     "metadata": {},
     "outputs": [
      {
       "output_type": "stream",
       "stream": "stderr",
       "text": [
        "[2013-01-17 15:20:32] INFO: Finmag logging output will be written to file: '/home/cilix/work/code/finmag/doc/ipython_notebooks_src/unnamed.log' (any old content will be overwritten).\n"
       ]
      },
      {
       "output_type": "stream",
       "stream": "stderr",
       "text": [
        "[2013-01-17 15:20:32] DEBUG: Creating DataWriter for file 'unnamed.ndt'\n"
       ]
      },
      {
       "output_type": "stream",
       "stream": "stderr",
       "text": [
        "[2013-01-17 15:20:32] INFO: Creating Sim object 'unnamed' (rank=0/1) [Thu Jan 17 15:20:32 2013].\n"
       ]
      },
      {
       "output_type": "stream",
       "stream": "stderr",
       "text": [
        "[2013-01-17 15:20:32] INFO: <Mesh of topological dimension 3 (tetrahedra) with 682 vertices and 1800 cells, ordered>\n"
       ]
      },
      {
       "output_type": "stream",
       "stream": "stderr",
       "text": [
        "[2013-01-17 15:20:32] DEBUG: Creating LLG object.\n"
       ]
      },
      {
       "output_type": "stream",
       "stream": "stderr",
       "text": [
        "[2013-01-17 15:20:32] DEBUG: Found anisotropy axis of type '<class 'dolfin.functions.function.Function'>'.\n"
       ]
      },
      {
       "output_type": "stream",
       "stream": "stderr",
       "text": [
        "[2013-01-17 15:20:32] DEBUG: Creating UniaxialAnisotropy object with method box-matrix-petsc, in Jacobian.\n"
       ]
      },
      {
       "output_type": "stream",
       "stream": "stderr",
       "text": [
        "[2013-01-17 15:20:32] DEBUG: Adding interaction <finmag.energies.anisotropy.UniaxialAnisotropy object at 0x3e12c90> to simulation 'unnamed'\n"
       ]
      },
      {
       "output_type": "stream",
       "stream": "stderr",
       "text": [
        "[2013-01-17 15:20:32] DEBUG: Creating Exchange object with method box-matrix-petsc, in Jacobian.\n"
       ]
      },
      {
       "output_type": "stream",
       "stream": "stderr",
       "text": [
        "[2013-01-17 15:20:32] DEBUG: Adding interaction <finmag.energies.exchange.Exchange object at 0x3e34810> to simulation 'unnamed'\n"
       ]
      },
      {
       "output_type": "stream",
       "stream": "stderr",
       "text": [
        "[2013-01-17 15:20:33] DEBUG: Creating integrator with backend sundials.\n"
       ]
      },
      {
       "output_type": "stream",
       "stream": "stderr",
       "text": [
        "[2013-01-17 15:20:33] DEBUG: Integrating dynamics up to t = 1e-10\n"
       ]
      },
      {
       "output_type": "stream",
       "stream": "stderr",
       "text": [
        "[2013-01-17 15:20:33] DEBUG: Saving average field values for simulation 'unnamed'.\n"
       ]
      }
     ],
     "prompt_number": 2
    },
    {
     "cell_type": "code",
     "collapsed": false,
     "input": [
      "import finmag.util.visualization"
     ],
     "language": "python",
     "metadata": {},
     "outputs": [],
     "prompt_number": 3
    },
    {
     "cell_type": "code",
     "collapsed": false,
     "input": [
      "finmag.util.visualization.render_paraview_scene('exchangespring000000.vtu', 'exchangespring.png')"
     ],
     "language": "python",
     "metadata": {},
     "outputs": [
      {
       "output_type": "stream",
       "stream": "stderr",
       "text": [
        "[2013-01-17 15:20:34] DEBUG: Rescaling colormap to data range: (9.983678864955436e-06, 1.0)\n"
       ]
      },
      {
       "output_type": "stream",
       "stream": "stderr",
       "text": [
        "[2013-01-17 15:20:34] DEBUG: Adding cone glyphs.\n"
       ]
      },
      {
       "output_type": "stream",
       "stream": "stderr",
       "text": [
        "[2013-01-17 15:20:34] DEBUG: Using automatically determined glyph_scale_factor = 4.5e-09 (determined from approximate mesh spacing 4.5e-09 and maximum field magnitude 1). This may need manual tweaking in case glyphs appear very large or very small.\n"
       ]
      },
      {
       "output_type": "pyout",
       "png": "[encoded data removed]",
       "prompt_number": 4,
       "text": [
        "<IPython.core.display.Image at 0x4477dd0>"
       ]
      }
     ],
     "prompt_number": 4
    },
    {
     "cell_type": "code",
     "collapsed": false,
     "input": [
      "help(finmag.util.visualization.render_paraview_scene)"
     ],
     "language": "python",
     "metadata": {},
     "outputs": []
    },
    {
     "cell_type": "code",
     "collapsed": false,
     "input": [],
     "language": "python",
     "metadata": {},
     "outputs": []
    }
   ],
   "metadata": {}
  }
 ]
}