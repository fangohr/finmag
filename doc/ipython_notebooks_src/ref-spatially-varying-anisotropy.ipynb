{
 "cells": [
  {
   "cell_type": "markdown",
   "metadata": {},
   "source": [
    "# Spatially varying anisotropy (using a Python function)"
   ]
  },
  {
   "cell_type": "markdown",
   "metadata": {},
   "source": [
    "**Author** Hans Fangohr, images Max Albert\n",
    "\n",
    "** Date** Jan 2013, updated Jan 2015 (Max Albert)\n",
    "\n",
    "**Purpose** Demonstrate how material parameters can vary as a function of space."
   ]
  },
  {
   "cell_type": "code",
   "execution_count": 1,
   "metadata": {
    "collapsed": false
   },
   "outputs": [
    {
     "name": "stdout",
     "output_type": "stream",
     "text": [
      "Last time executed Fri Nov 13 13:16:08 2015\n"
     ]
    }
   ],
   "source": [
    "import time ; print(\"Last time executed {}\".format(time.asctime()))"
   ]
  },
  {
   "cell_type": "code",
   "execution_count": 2,
   "metadata": {
    "collapsed": false
   },
   "outputs": [],
   "source": [
    "%matplotlib inline"
   ]
  },
  {
   "cell_type": "code",
   "execution_count": 3,
   "metadata": {
    "collapsed": false
   },
   "outputs": [
    {
     "name": "stderr",
     "output_type": "stream",
     "text": [
      "[2015-11-13 13:16:15] INFO: Finmag logging output will be appended to file: '/home/mb4e10/.finmag/global.log'\n",
      "[2015-11-13 13:16:15] DEBUG: Building modules in 'native'...\n",
      "[2015-11-13 13:16:15] DEBUG: FinMag          3042844973cf14bc02c909b16ece9847aa26b637\n",
      "[2015-11-13 13:16:15] DEBUG: Dolfin          1.6.0                Matplotlib      1.4.2               \n",
      "[2015-11-13 13:16:15] DEBUG: Numpy           1.10.1               Scipy           0.15.1              \n",
      "[2015-11-13 13:16:15] DEBUG: IPython         4.0.0                Python          2.7.6               \n",
      "[2015-11-13 13:16:15] DEBUG: Paraview        4.0.1-1ubuntu1       Sundials        2.5.0               \n",
      "[2015-11-13 13:16:15] DEBUG: Boost-Python    <unknown>            Linux           Ubuntu 14.04.3 LTS  \n",
      "[2015-11-13 13:16:15] DEBUG: Registering debug signal handler. Press Ctrl-Z any time to stop execution and jump into the debugger.\n"
     ]
    }
   ],
   "source": [
    "import os\n",
    "import pylab\n",
    "import finmag\n",
    "import numpy as np\n",
    "import dolfin as df\n",
    "\n",
    "from finmag import Simulation\n",
    "from finmag.energies import UniaxialAnisotropy, Exchange, Demag"
   ]
  },
  {
   "cell_type": "markdown",
   "metadata": {},
   "source": [
    "Demonstrating spatially varying anisotropy. Example with anisotropy vectors as follows:\n",
    "\n",
    "```\n",
    "-----------------------------------\n",
    "\n",
    "--> --> --> --> --> --> --> --> -->\n",
    "--> --> --> --> --> --> --> --> -->\n",
    "--> --> --> --> --> --> --> --> -->\n",
    "\n",
    "-----------------------------------\n",
    "\n",
    "^  ^  ^  ^  ^  ^  ^  ^  ^  ^  ^  ^ \n",
    "|  |  |  |  |  |  |  |  |  |  |  | \n",
    "|  |  |  |  |  |  |  |  |  |  |  | \n",
    "\n",
    "-----------------------------------\n",
    "```"
   ]
  },
  {
   "cell_type": "markdown",
   "metadata": {},
   "source": [
    "Define the material constants..."
   ]
  },
  {
   "cell_type": "code",
   "execution_count": 4,
   "metadata": {
    "collapsed": false
   },
   "outputs": [],
   "source": [
    "mu0   = 4.0 * np.pi * 10**-7  # vacuum permeability             N/A^2\n",
    "Ms    = 1.0e6                 # saturation magnetisation        A/m\n",
    "A     = 13.0e-12              # exchange coupling strength      J/m\n",
    "Km    = 0.5 * mu0 * Ms**2     # magnetostatic energy density scale   kg/ms^2\n",
    "lexch = (A/Km)**0.5           # exchange length                 m\n",
    "K1    = Km*0.1"
   ]
  },
  {
   "cell_type": "markdown",
   "metadata": {},
   "source": [
    "... and the mesh geometry."
   ]
  },
  {
   "cell_type": "code",
   "execution_count": 6,
   "metadata": {
    "collapsed": false
   },
   "outputs": [],
   "source": [
    "L = lexch # cube length in m\n",
    "nx = 10\n",
    "Lx = nx*L\n",
    "ny = 1\n",
    "Ly = ny*L\n",
    "nz = 30\n",
    "Lz = nz*L\n",
    "mesh = df.BoxMesh(df.Point(0, 0, 0), df.Point(Lx, Ly, Lz), nx, ny, nz)"
   ]
  },
  {
   "cell_type": "code",
   "execution_count": 7,
   "metadata": {
    "collapsed": false
   },
   "outputs": [],
   "source": [
    "# Anisotropy direction starts is [0,0,1] in lower half of the film\n",
    "# and [1,0,0] in upper half. This is a toy model of the exchange spring\n",
    "# systems that Bob Stamps is working on.\n",
    "\n",
    "def expr_a(pt):\n",
    "    x, y, z = pt\n",
    "    if z <= 0.5*Lz:\n",
    "        return [0, 0, 1]\n",
    "    else:\n",
    "        return [1, 0, 0]\n",
    "    \n",
    "# Alternatively, one can use the following dolfin Expression, but this is much less readable.\n",
    "#\n",
    "#expr_a = df.Expression((\\\"x[2]<=Lz/2. ? 0 : 1\\\",\\\"0\\\", \\\"x[2]<=Lz/2. ? 1 : 0\\\"), Lz=Lz)"
   ]
  },
  {
   "cell_type": "markdown",
   "metadata": {},
   "source": [
    "We can directly use this Python function to create a `UniaxialAnisotropy` object which gets added to our simulation."
   ]
  },
  {
   "cell_type": "code",
   "execution_count": 8,
   "metadata": {
    "collapsed": false
   },
   "outputs": [
    {
     "name": "stderr",
     "output_type": "stream",
     "text": [
      "[2015-11-13 13:16:48] INFO: Finmag logging output will be written to file: '/home/mb4e10/finmag/doc/ipython_notebooks_src/unnamed.log' (any old content will be overwritten).\n",
      "[2015-11-13 13:16:48] DEBUG: Creating DataWriter for file 'unnamed.ndt'\n",
      "[2015-11-13 13:16:48] INFO: Creating Sim object name='unnamed', instance_id=0 (rank=0/1).\n",
      "[2015-11-13 13:16:48] DEBUG:    Total number of Sim objects in this session: 1\n",
      "[2015-11-13 13:16:48] INFO: <Mesh of topological dimension 3 (tetrahedra) with 682 vertices and 1800 cells, ordered>\n",
      "/usr/local/lib/python2.7/dist-packages/aeon/timer.py:35: UserWarning: You are nesting measurements in __init__::LLG.\n",
      "  warnings.warn(\"You are nesting measurements in {}::{}.\".format(name, group))\n",
      "[2015-11-13 13:16:48] DEBUG: Creating LLG object.\n",
      "[2015-11-13 13:16:48] DEBUG: Creating UniaxialAnisotropy object with method box-matrix-petsc, in Jacobian.\n",
      "[2015-11-13 13:16:48] DEBUG: Adding interaction Anisotropy to simulation.\n",
      "[2015-11-13 13:16:49] DEBUG: Creating Exchange object with method box-matrix-petsc, in Jacobian.\n",
      "[2015-11-13 13:16:49] DEBUG: Adding interaction Exchange to simulation.\n"
     ]
    }
   ],
   "source": [
    "sim = Simulation(mesh, Ms)\n",
    "sim.set_m([1, 0, 1])\n",
    "sim.add(UniaxialAnisotropy(K1, expr_a))\n",
    "sim.add(Exchange(A))"
   ]
  },
  {
   "cell_type": "markdown",
   "metadata": {},
   "source": [
    "Run the simulation for 1 ns..."
   ]
  },
  {
   "cell_type": "code",
   "execution_count": 9,
   "metadata": {
    "collapsed": false
   },
   "outputs": [
    {
     "name": "stderr",
     "output_type": "stream",
     "text": [
      "[2015-11-13 13:16:57] INFO: Simulation will run until t = 1e-09 s.\n",
      "[2015-11-13 13:16:57] INFO: Creating integrator with backend sundials and arguments {'reltol': 1e-06, 'abstol': 1e-06}.\n",
      "[2015-11-13 13:16:57] DEBUG: Updating get method for steps in TableWriter(name=unnamed.ndt)\n",
      "[2015-11-13 13:16:57] DEBUG: Updating get method for last_step_dt in TableWriter(name=unnamed.ndt)\n",
      "[2015-11-13 13:16:57] DEBUG: Updating get method for dmdt in TableWriter(name=unnamed.ndt)\n",
      "/usr/local/lib/python2.7/dist-packages/aeon/timer.py:35: UserWarning: You are nesting measurements in compute_field::UniaxialAnisotropy.\n",
      "  warnings.warn(\"You are nesting measurements in {}::{}.\".format(name, group))\n",
      "/usr/local/lib/python2.7/dist-packages/aeon/timer.py:35: UserWarning: You are nesting measurements in compute_field::Exchange.\n",
      "  warnings.warn(\"You are nesting measurements in {}::{}.\".format(name, group))\n",
      "[2015-11-13 13:17:07] INFO: Simulation has reached time t = 1e-09 s.\n"
     ]
    }
   ],
   "source": [
    "#sim.relax()\n",
    "sim.run_until(1e-9)"
   ]
  },
  {
   "cell_type": "markdown",
   "metadata": {},
   "source": [
    "... and plot the result."
   ]
  },
  {
   "cell_type": "code",
   "execution_count": 10,
   "metadata": {
    "collapsed": false
   },
   "outputs": [
    {
     "name": "stderr",
     "output_type": "stream",
     "text": [
      "/usr/lib/python2.7/dist-packages/dolfin/functions/function.py:549: FutureWarning: elementwise comparison failed; returning scalar instead, but in the future will perform elementwise comparison\n",
      "  if len(args) == 1 and args[0] in ('+','-'):\n"
     ]
    },
    {
     "data": {
      "text/plain": [
       "<matplotlib.legend.Legend at 0x7f7a1f8e8690>"
      ]
     },
     "execution_count": 10,
     "metadata": {},
     "output_type": "execute_result"
    },
    {
     "data": {
      "image/png": "[encoded data removed]",
      "text/plain": [
       "<matplotlib.figure.Figure at 0x7f7a2406c390>"
      ]
     },
     "metadata": {},
     "output_type": "display_data"
    }
   ],
   "source": [
    "# Create a simple plot\n",
    "xpos=[]\n",
    "Mx = []\n",
    "Mz = []\n",
    "ax = []\n",
    "az = []\n",
    "\n",
    "## For plotting, we probe the field at 200 points\n",
    "## along a line in z-direction.\n",
    "probing_pts, probed_vals = \\\n",
    "    sim.probe_field_along_line('m',\n",
    "                               [Lx/2., Ly/2., 0],\n",
    "                               [Lx/2., Ly/2, Lz],\n",
    "                               N=200)\n",
    "zs = probing_pts[:, 2]\n",
    "Mx = probed_vals[:, 0]\n",
    "Mz = probed_vals[:, 2]\n",
    "\n",
    "## We also evaluate the original profile \n",
    "a_vals = np.array([expr_a(pos) for pos in probing_pts])\n",
    "ax = a_vals[:, 0]\n",
    "az = a_vals[:, 2]\n",
    "    \n",
    "pylab.plot(Mx, zs/1e-9, '-', label='Magnetisation Mx')\n",
    "pylab.plot(Mz, zs/1e-9, '--', label='Magnetisation Mz')\n",
    "pylab.plot(ax, zs/1e-9, '-o', label='Anisotropy vector ax')\n",
    "pylab.plot(az, zs/1e-9, '-x', label='Anisotropy vector az')\n",
    "pylab.ylabel('position z in film [nm]')\n",
    "pylab.legend(loc='upper center')\n",
    "\n",
    "#this only works with an X-display, so comment out for jenkins\n",
    "#v = df.plot(sim.llg._m, \n",
    "#            title='exchange spring across layers with different anisotropy directions',\n",
    "#            axes=True)\n",
    "\n",
    "#v.elevate(-90) \n",
    "#v.update(sim.llg._m)    # bring settings above into action\n",
    "##v.write_png(os.path.join(MODULE_DIR,'exchangespring.png')) #this is broken in my dolfin, HF\n",
    "#                                                            #the bitmap looks random  \n",
    "#v.write_ps(os.path.join(MODULE_DIR,'exchangespring'))       #will write exchangespring.eps\n",
    "#os.system(\"ps2png exchangespring.eps exchangespring.png\")   #create the png file for documentation"
   ]
  }
 ],
 "metadata": {
  "kernelspec": {
   "display_name": "Python 2",
   "language": "python",
   "name": "python2"
  },
  "language_info": {
   "codemirror_mode": {
    "name": "ipython",
    "version": 2
   },
   "file_extension": ".py",
   "mimetype": "text/x-python",
   "name": "python",
   "nbconvert_exporter": "python",
   "pygments_lexer": "ipython2",
   "version": "2.7.6"
  }
 },
 "nbformat": 4,
 "nbformat_minor": 0
}
