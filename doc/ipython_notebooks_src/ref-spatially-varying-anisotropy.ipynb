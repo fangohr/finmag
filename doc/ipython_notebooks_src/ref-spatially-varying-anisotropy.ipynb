{
 "metadata": {
  "name": "",
  "signature": "sha256:da4fd61afc005bf3cf42c8f746b78c977418a61eab3a09805561e1838b0c6d1c"
 },
 "nbformat": 3,
 "nbformat_minor": 0,
 "worksheets": [
  {
   "cells": [
    {
     "cell_type": "markdown",
     "metadata": {},
     "source": [
      "# Spatially varying anisotropy (using a dolfin.Expression)"
     ]
    },
    {
     "cell_type": "markdown",
     "metadata": {},
     "source": [
      "**Author** Hans Fangohr, images Max Albert\n",
      "\n",
      "** Date** Jan 2013\n",
      "\n",
      "**Purpose** Demonstrate how material parameters can vary as a function of space"
     ]
    },
    {
     "cell_type": "code",
     "collapsed": false,
     "input": [
      "import time"
     ],
     "language": "python",
     "metadata": {},
     "outputs": [],
     "prompt_number": 1
    },
    {
     "cell_type": "code",
     "collapsed": false,
     "input": [
      "import time ; print(\"Last time executed {}\".format(time.asctime()))"
     ],
     "language": "python",
     "metadata": {},
     "outputs": [
      {
       "output_type": "stream",
       "stream": "stdout",
       "text": [
        "Last time executed Fri Sep 12 16:47:45 2014\n"
       ]
      }
     ],
     "prompt_number": 2
    },
    {
     "cell_type": "code",
     "collapsed": false,
     "input": [
      "%matplotlib inline"
     ],
     "language": "python",
     "metadata": {},
     "outputs": [],
     "prompt_number": 3
    },
    {
     "cell_type": "code",
     "collapsed": false,
     "input": [
      "import os\n",
      "import pylab\n",
      "import finmag\n",
      "import numpy as np\n",
      "import dolfin as df\n",
      "\n",
      "from finmag import Simulation\n",
      "from finmag.energies import UniaxialAnisotropy, Exchange, Demag"
     ],
     "language": "python",
     "metadata": {},
     "outputs": [
      {
       "output_type": "stream",
       "stream": "stderr",
       "text": [
        "[2014-09-12 16:47:49] INFO: Finmag logging output will be appended to file: '/home/david/.finmag/global.log'\n"
       ]
      },
      {
       "output_type": "stream",
       "stream": "stderr",
       "text": [
        "[2014-09-12 16:47:49] DEBUG: Building modules in 'native'...\n"
       ]
      },
      {
       "output_type": "stream",
       "stream": "stderr",
       "text": [
        "[2014-09-12 16:47:51] DEBUG: FinMag          5469:6c5fea9e944dbde24c3966f0113e0d852042da0d\n"
       ]
      },
      {
       "output_type": "stream",
       "stream": "stderr",
       "text": [
        "[2014-09-12 16:47:51] DEBUG: Dolfin          1.4.0                Matplotlib      1.3.1               \n"
       ]
      },
      {
       "output_type": "stream",
       "stream": "stderr",
       "text": [
        "[2014-09-12 16:47:51] DEBUG: Numpy           1.8.1                Scipy           0.14.0              \n"
       ]
      },
      {
       "output_type": "stream",
       "stream": "stderr",
       "text": [
        "[2014-09-12 16:47:51] DEBUG: IPython         2.1.0                Python          2.7.6               \n"
       ]
      },
      {
       "output_type": "stream",
       "stream": "stderr",
       "text": [
        "[2014-09-12 16:47:51] DEBUG: Paraview        4.0.1-1ubuntu1       Sundials        2.5.0               \n"
       ]
      },
      {
       "output_type": "stream",
       "stream": "stderr",
       "text": [
        "[2014-09-12 16:47:51] DEBUG: Boost-Python    <unknown>            Linux           Ubuntu 14.04.1 LTS  \n"
       ]
      },
      {
       "output_type": "stream",
       "stream": "stderr",
       "text": [
        "[2014-09-12 16:47:51] DEBUG: Registering debug signal handler. Press Ctrl-Z at any time to stop execution and jump into the debugger.\n"
       ]
      }
     ],
     "prompt_number": 4
    },
    {
     "cell_type": "markdown",
     "metadata": {},
     "source": [
      "Demonstrating spatially varying anisotropy. Example with anisotropy vectors as follows:\n",
      "\n",
      "```\n",
      "-----------------------------------\n",
      "\n",
      "--> --> --> --> --> --> --> --> -->\n",
      "--> --> --> --> --> --> --> --> -->\n",
      "--> --> --> --> --> --> --> --> -->\n",
      "\n",
      "-----------------------------------\n",
      "\n",
      "^  ^  ^  ^  ^  ^  ^  ^  ^  ^  ^  ^ \n",
      "|  |  |  |  |  |  |  |  |  |  |  | \n",
      "|  |  |  |  |  |  |  |  |  |  |  | \n",
      "\n",
      "-----------------------------------\n",
      "```"
     ]
    },
    {
     "cell_type": "markdown",
     "metadata": {},
     "source": [
      "Define the material constants..."
     ]
    },
    {
     "cell_type": "code",
     "collapsed": false,
     "input": [
      "mu0   = 4.0 * np.pi * 10**-7  # vacuum permeability             N/A^2\n",
      "Ms    = 1.0e6                 # saturation magnetisation        A/m\n",
      "A     = 13.0e-12              # exchange coupling strength      J/m\n",
      "Km    = 0.5 * mu0 * Ms**2     # magnetostatic energy density scale   kg/ms^2\n",
      "lexch = (A/Km)**0.5           # exchange length                 m\n",
      "K1    = Km*0.1"
     ],
     "language": "python",
     "metadata": {},
     "outputs": [],
     "prompt_number": 5
    },
    {
     "cell_type": "markdown",
     "metadata": {},
     "source": [
      "... and the mesh geometry."
     ]
    },
    {
     "cell_type": "code",
     "collapsed": false,
     "input": [
      "L = lexch # cube length in m\n",
      "nx = 10\n",
      "Lx = L*nx\n",
      "ny = 1\n",
      "Ly = ny*L\n",
      "nz = 30\n",
      "Lz = nz*L\n",
      "mesh = df.BoxMesh(0, 0, 0, Lx, Ly, Lz, nx, ny, nz)"
     ],
     "language": "python",
     "metadata": {},
     "outputs": [],
     "prompt_number": 6
    },
    {
     "cell_type": "code",
     "collapsed": false,
     "input": [
      "# Anisotropy direction starts is [0,0,1] in lower half of the film\n",
      "# and [1,0,0] in upper half. This is a toy model of the exchange spring\n",
      "# systems that Bob Stamps is working on.\n",
      "expr_a = df.Expression((\"x[2]<=Lz/2. ? 0 : 1\",\"0\", \"x[2]<=Lz/2. ? 1 : 0\"), Lz=Lz)"
     ],
     "language": "python",
     "metadata": {},
     "outputs": [],
     "prompt_number": 7
    },
    {
     "cell_type": "markdown",
     "metadata": {},
     "source": [
      "We can directly use this dolfin Expression to create a `UniaxialAnisotropy` object which gets added to our simulation."
     ]
    },
    {
     "cell_type": "code",
     "collapsed": false,
     "input": [
      "sim = Simulation(mesh, Ms)\n",
      "sim.set_m([1, 0, 1])\n",
      "sim.add(UniaxialAnisotropy(K1, expr_a))\n",
      "sim.add(Exchange(A))"
     ],
     "language": "python",
     "metadata": {},
     "outputs": [
      {
       "output_type": "stream",
       "stream": "stderr",
       "text": [
        "[2014-09-12 16:47:52] INFO: Finmag logging output will be written to file: '/home/david/hg/finmag/doc/ipython_notebooks_src/unnamed.log' (any old content will be overwritten).\n"
       ]
      },
      {
       "output_type": "stream",
       "stream": "stderr",
       "text": [
        "[2014-09-12 16:47:52] DEBUG: Creating DataWriter for file 'unnamed.ndt'\n"
       ]
      },
      {
       "output_type": "stream",
       "stream": "stderr",
       "text": [
        "[2014-09-12 16:47:52] INFO: Creating Sim object 'unnamed' (rank=0/1).\n"
       ]
      },
      {
       "output_type": "stream",
       "stream": "stderr",
       "text": [
        "[2014-09-12 16:47:52] INFO: <Mesh of topological dimension 3 (tetrahedra) with 682 vertices and 1800 cells, ordered>\n"
       ]
      },
      {
       "output_type": "stream",
       "stream": "stderr",
       "text": [
        "[2014-09-12 16:47:52] DEBUG: Creating LLG object.\n"
       ]
      },
      {
       "output_type": "stream",
       "stream": "stderr",
       "text": [
        "[2014-09-12 16:47:52] DEBUG: Creating UniaxialAnisotropy object with method box-matrix-petsc,  in Jacobian.\n"
       ]
      },
      {
       "output_type": "stream",
       "stream": "stderr",
       "text": [
        "[2014-09-12 16:47:52] DEBUG: Adding interaction Anisotropy to simulation.\n"
       ]
      },
      {
       "output_type": "stream",
       "stream": "stderr",
       "text": [
        "[2014-09-12 16:47:52] DEBUG: Creating Exchange object with method box-matrix-petsc,  in Jacobian.\n"
       ]
      },
      {
       "output_type": "stream",
       "stream": "stderr",
       "text": [
        "[2014-09-12 16:47:52] DEBUG: Adding interaction Exchange to simulation.\n"
       ]
      }
     ],
     "prompt_number": 8
    },
    {
     "cell_type": "markdown",
     "metadata": {},
     "source": [
      "Run the simulation for 1 ns..."
     ]
    },
    {
     "cell_type": "code",
     "collapsed": false,
     "input": [
      "#sim.relax()\n",
      "sim.run_until(1e-9)"
     ],
     "language": "python",
     "metadata": {},
     "outputs": [
      {
       "output_type": "stream",
       "stream": "stderr",
       "text": [
        "[2014-09-12 16:47:52] INFO: Create integrator sundials with kwargs={}\n"
       ]
      },
      {
       "output_type": "stream",
       "stream": "stderr",
       "text": [
        "[2014-09-12 16:47:52] DEBUG: Creating integrator with backend sundials.\n"
       ]
      },
      {
       "output_type": "stream",
       "stream": "stderr",
       "text": [
        "[2014-09-12 16:47:52] DEBUG: Updating get method for steps in TableWriter(name=unnamed.ndt)\n"
       ]
      },
      {
       "output_type": "stream",
       "stream": "stderr",
       "text": [
        "[2014-09-12 16:47:52] DEBUG: Updating get method for last_step_dt in TableWriter(name=unnamed.ndt)\n"
       ]
      },
      {
       "output_type": "stream",
       "stream": "stderr",
       "text": [
        "[2014-09-12 16:47:52] DEBUG: Updating get method for dmdt in TableWriter(name=unnamed.ndt)\n"
       ]
      },
      {
       "output_type": "stream",
       "stream": "stderr",
       "text": [
        "[2014-09-12 16:47:52] INFO: Simulation will run until t = 1e-09 s.\n"
       ]
      },
      {
       "output_type": "stream",
       "stream": "stderr",
       "text": [
        "[2014-09-12 16:47:54] INFO: Simulation has reached time t = 1e-09 s.\n"
       ]
      }
     ],
     "prompt_number": 9
    },
    {
     "cell_type": "markdown",
     "metadata": {},
     "source": [
      "... and plot the result."
     ]
    },
    {
     "cell_type": "code",
     "collapsed": false,
     "input": [
      "# Create a simple plot\n",
      "xpos=[]\n",
      "Mx = []\n",
      "Mz = []\n",
      "ax = []\n",
      "az = []\n",
      "\n",
      "# For plotting, we discretise material parameter as\n",
      "# discontinous Galerkin order 0 basis function.\n",
      "V3_DG0 = df.VectorFunctionSpace(mesh, \"DG\", 0, dim=3)\n",
      "a = df.interpolate(expr_a, V3_DG0)\n",
      "\n",
      "# TODO: The probing can be streamlined (we don't need to iterate over the positions).\n",
      "#       Also, it would be nice to have a 'probe_along_line()' function.  -- Max, 17.1.2014\n",
      "zs = np.linspace(0, Lz, 200)\n",
      "for z in zs:\n",
      "   pos = (Lx/2., Ly/2., z )\n",
      "   Mx.append(sim.llg.m_field.f(pos)[0])\n",
      "   Mz.append(sim.llg.m_field.f(pos)[2])\n",
      "   ax.append(a(pos)[0])\n",
      "   az.append(a(pos)[2])\n",
      "    \n",
      "pylab.plot(Mx, zs/1e-9, '-', label='Magnetisation Mx')\n",
      "pylab.plot(Mz, zs/1e-9, '--', label='Magnetisation Mz')\n",
      "pylab.plot(ax, zs/1e-9, '-o', label='Anisotropy vector ax')\n",
      "pylab.plot(az, zs/1e-9, '-x', label='Anisotropy vector az')\n",
      "pylab.ylabel('position z in film [nm]')\n",
      "pylab.legend(loc='upper center')\n",
      "\n",
      "#this only works with an X-display, so comment out for jenkins\n",
      "#v = df.plot(sim.llg._m, \n",
      "#            title='exchange spring across layers with different anisotropy directions',\n",
      "#            axes=True)\n",
      "\n",
      "#v.elevate(-90) \n",
      "#v.update(sim.llg._m)    # bring settings above into action\n",
      "##v.write_png(os.path.join(MODULE_DIR,'exchangespring.png')) #this is broken in my dolfin, HF\n",
      "#                                                            #the bitmap looks random  \n",
      "#v.write_ps(os.path.join(MODULE_DIR,'exchangespring'))       #will write exchangespring.eps\n",
      "#os.system(\"ps2png exchangespring.eps exchangespring.png\")   #create the png file for documentation"
     ],
     "language": "python",
     "metadata": {},
     "outputs": [
      {
       "metadata": {},
       "output_type": "pyout",
       "prompt_number": 10,
       "text": [
        "<matplotlib.legend.Legend at 0x7fb03d1c0390>"
       ]
      },
      {
       "output_type": "stream",
       "stream": "stderr",
       "text": [
        "/usr/lib/pymodules/python2.7/matplotlib/figure.py:1595: UserWarning: This figure includes Axes that are not compatible with tight_layout, so its results might be incorrect.\n",
        "  warnings.warn(\"This figure includes Axes that are not \"\n"
       ]
      },
      {
       "metadata": {},
       "output_type": "display_data",
       "png": "[encoded data removed]",
       "text": [
        "<matplotlib.figure.Figure at 0x7fb03ee40cd0>"
       ]
      }
     ],
     "prompt_number": 10
    },
    {
     "cell_type": "code",
     "collapsed": false,
     "input": [
      "sim.render_scene(use_display=0)"
     ],
     "language": "python",
     "metadata": {},
     "outputs": [
      {
       "output_type": "stream",
       "stream": "stderr",
       "text": [
        "[2014-09-12 16:48:52] DEBUG: Saved field at t=1e-09 to file '/tmp/tmp9iHT9t/paraview_scene_unnamed.pvd' (snapshot #0; saving took 0.00762 seconds).\n"
       ]
      },
      {
       "metadata": {},
       "output_type": "pyout",
       "png": "[encoded data removed]",
       "prompt_number": 13,
       "text": [
        "<IPython.core.display.Image at 0x7fb037fe6c50>"
       ]
      }
     ],
     "prompt_number": 13
    },
    {
     "cell_type": "code",
     "collapsed": false,
     "input": [],
     "language": "python",
     "metadata": {},
     "outputs": [],
     "prompt_number": 11
    }
   ],
   "metadata": {}
  }
 ]
}