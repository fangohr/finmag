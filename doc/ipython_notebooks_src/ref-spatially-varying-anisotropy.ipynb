{
 "metadata": {
  "name": "ref-spatially-varying-anisotropy"
 },
 "nbformat": 3,
 "nbformat_minor": 0,
 "worksheets": [
  {
   "cells": [
    {
     "cell_type": "code",
     "collapsed": false,
     "input": [
      "import finmag"
     ],
     "language": "python",
     "metadata": {},
     "outputs": [
      {
       "output_type": "stream",
       "stream": "stderr",
       "text": [
        "[2013-01-17 09:03:45] INFO: Finmag logging output will be appended to file: '/home/fangohr/.finmag/global.log'\n"
       ]
      },
      {
       "output_type": "stream",
       "stream": "stderr",
       "text": [
        "[2013-01-17 09:03:45] DEBUG:               Finmag: 2681:3d32c18d378781622292d8ed6b4f88196cf9411c\n"
       ]
      },
      {
       "output_type": "stream",
       "stream": "stderr",
       "text": [
        "[2013-01-17 09:03:45] DEBUG:               Dolfin: 1.0.0\n"
       ]
      },
      {
       "output_type": "stream",
       "stream": "stderr",
       "text": [
        "[2013-01-17 09:03:45] DEBUG:           Matplotlib: 1.1.1\n"
       ]
      },
      {
       "output_type": "stream",
       "stream": "stderr",
       "text": [
        "[2013-01-17 09:03:45] DEBUG:                Numpy: 1.6.2\n"
       ]
      },
      {
       "output_type": "stream",
       "stream": "stderr",
       "text": [
        "[2013-01-17 09:03:45] DEBUG:                Scipy: 0.10.1\n"
       ]
      },
      {
       "output_type": "stream",
       "stream": "stderr",
       "text": [
        "[2013-01-17 09:03:45] DEBUG:              IPython: 0.13.1\n"
       ]
      },
      {
       "output_type": "stream",
       "stream": "stderr",
       "text": [
        "[2013-01-17 09:03:45] DEBUG:               Python: 2.7.3\n"
       ]
      },
      {
       "output_type": "stream",
       "stream": "stderr",
       "text": [
        "[2013-01-17 09:03:45] DEBUG:             Sundials: 2.5.0-1\n"
       ]
      },
      {
       "output_type": "stream",
       "stream": "stderr",
       "text": [
        "[2013-01-17 09:03:45] DEBUG:         Boost-Python: 1.49.0\n"
       ]
      },
      {
       "output_type": "stream",
       "stream": "stderr",
       "text": [
        "[2013-01-17 09:03:45] DEBUG:                Linux: Ubuntu 12.10\n"
       ]
      },
      {
       "output_type": "stream",
       "stream": "stdout",
       "text": [
        "paraview version 3.14.1, Date: 2012-02-17\n"
       ]
      }
     ],
     "prompt_number": 1
    },
    {
     "cell_type": "code",
     "collapsed": false,
     "input": [
      "import os\n",
      "import numpy as np\n",
      "import pylab\n",
      "import dolfin as df\n",
      "\n",
      "from finmag import Simulation\n",
      "from finmag.energies import UniaxialAnisotropy, Exchange, Demag\n",
      "\n",
      "\"\"\"\n",
      "Demonstrating spatially varying anisotropy. Example with anisotropy vectors as follows:\n",
      "\n",
      "-----------------------------------\n",
      "\n",
      "--> --> --> --> --> --> --> --> -->\n",
      "--> --> --> --> --> --> --> --> -->\n",
      "--> --> --> --> --> --> --> --> -->\n",
      "\n",
      "-----------------------------------\n",
      "\n",
      "^  ^  ^  ^  ^  ^  ^  ^  ^  ^  ^  ^ \n",
      "|  |  |  |  |  |  |  |  |  |  |  | \n",
      "|  |  |  |  |  |  |  |  |  |  |  | \n",
      "\n",
      "-----------------------------------\n",
      "\"\"\"\n",
      "\n",
      "if True:\n",
      "    mu0   = 4.0 * np.pi * 10**-7  # vacuum permeability             N/A^2\n",
      "    Ms    = 1.0e6                 # saturation magnetisation        A/m\n",
      "    A     = 13.0e-12              # exchange coupling strength      J/m\n",
      "    Km    = 0.5 * mu0 * Ms**2     # magnetostatic energy density scale   kg/ms^2\n",
      "    lexch = (A/Km)**0.5           # exchange length                 m\n",
      "    K1    = Km\n",
      "\n",
      "    L = lexch # cube length in m\n",
      "    nx = 10\n",
      "    Lx = L*nx\n",
      "    ny = 1\n",
      "    Ly = ny*L\n",
      "    nz = 30\n",
      "    Lz = nz*L\n",
      "    mesh = df.Box(0, 0, 0, Lx, Ly, Lz, nx, ny, nz)\n",
      "\n",
      "\n",
      "    #anisotropy direction starts is [0,0,1] in lower half of the film\n",
      "    #and [1,0,0] in upper half. This is a toy model of the exchange spring\n",
      "    #systems that Bob Stamps is working on.\n",
      "    expr_a = df.Expression((\"x[2]<=Lz/2. ? 0 : 1\",\"0\", \"x[2]<=Lz/2. ? 1 : 0\"),Lz=Lz)\n",
      "\n",
      "    #discretise material parameter as discontinous Galerkin order 0 basis function\n",
      "    V3_DG0 = df.VectorFunctionSpace(mesh,\"DG\",0,dim=3)\n",
      "    a = df.interpolate(expr_a,V3_DG0)\n",
      "\n",
      "    sim = Simulation(mesh, Ms)\n",
      "    sim.set_m((1,0,1))\n",
      "    sim.add(UniaxialAnisotropy(K1, a))\n",
      "    sim.add(Exchange(A))\n",
      "    \n",
      "    #sim.relax()\n",
      "    sim.run_until(100e-12)\n",
      "\n",
      "    #create simple plot\n",
      "    xpos=[]\n",
      "    Mx = []\n",
      "    Mz = []\n",
      "    ax = []\n",
      "    az = []\n",
      "\n",
      "    aS3 = df.interpolate(a,sim.S3) \n",
      "\n",
      "    zs = np.linspace(0,Lz,200)\n",
      "    for z in zs:\n",
      "        pos = (Lx/2., Ly/2., z )\n",
      "        Mx.append(sim.llg._m(pos)[0])\n",
      "        Mz.append(sim.llg._m(pos)[2])\n",
      "        ax.append(a(pos)[0])\n",
      "        az.append(a(pos)[2])\n",
      "        \n",
      "    pylab.plot(Mx,zs/1e-9,'-',label='Magnetisation Mx')\n",
      "    pylab.plot(Mz,zs/1e-9,'--',label='Magnetisation Mz')\n",
      "    pylab.plot(ax,zs/1e-9,'-o',label='Anisotropy vector ax')\n",
      "    pylab.plot(az,zs/1e-9,'-x',label='Anisotropy vector az')\n",
      "    pylab.ylabel('position z in film [nm]')\n",
      "    pylab.legend(loc='upper center')\n",
      "\n",
      "if True:\n",
      "        #this only works with an X-display, so comment out for jenkins\n",
      "    #v = df.plot(sim.llg._m, \n",
      "    #            title='exchange spring across layers with different anisotropy directions',\n",
      "    #            axes=True)\n",
      "    \n",
      "    #v.elevate(-90) \n",
      "    #v.update(sim.llg._m)    # bring settings above into action\n",
      "    ##v.write_png(os.path.join(MODULE_DIR,'exchangespring.png')) #this is broken in my dolfin, HF\n",
      "    #                                                            #the bitmap looks random  \n",
      "    #v.write_ps(os.path.join(MODULE_DIR,'exchangespring'))       #will write exchangespring.eps\n",
      "    #os.system(\"ps2png exchangespring.eps exchangespring.png\")   #create the png file for documentation\n",
      "\n",
      "    f=df.File('exchangespring.pvd')    #same more data for paraview\n",
      "    f << sim.llg._m\n",
      "\n",
      "    "
     ],
     "language": "python",
     "metadata": {},
     "outputs": [
      {
       "output_type": "stream",
       "stream": "stderr",
       "text": [
        "[2013-01-17 09:03:45] INFO: Finmag logging output will be written to file: '/home/fangohr/hg/finmag/doc/ipython_notebooks_src/unnamed.log' (any old content will be overwritten).\n"
       ]
      },
      {
       "output_type": "stream",
       "stream": "stderr",
       "text": [
        "[2013-01-17 09:03:45] DEBUG: Creating DataWriter for file 'unnamed.ndt'\n"
       ]
      },
      {
       "output_type": "stream",
       "stream": "stderr",
       "text": [
        "[2013-01-17 09:03:45] INFO: Creating Sim object 'unnamed' (rank=0/1) [Thu Jan 17 09:03:45 2013].\n"
       ]
      },
      {
       "output_type": "stream",
       "stream": "stderr",
       "text": [
        "[2013-01-17 09:03:45] INFO: <Mesh of topological dimension 3 (tetrahedra) with 682 vertices and 1800 cells, ordered>\n"
       ]
      },
      {
       "output_type": "stream",
       "stream": "stderr",
       "text": [
        "[2013-01-17 09:03:45] DEBUG: Creating LLG object.\n"
       ]
      },
      {
       "output_type": "stream",
       "stream": "stderr",
       "text": [
        "[2013-01-17 09:03:46] DEBUG: Found anisotropy axis of type '<class 'dolfin.functions.function.Function'>'.\n"
       ]
      },
      {
       "output_type": "stream",
       "stream": "stderr",
       "text": [
        "[2013-01-17 09:03:46] DEBUG: Creating UniaxialAnisotropy object with method box-matrix-petsc, in Jacobian.\n"
       ]
      },
      {
       "output_type": "stream",
       "stream": "stderr",
       "text": [
        "[2013-01-17 09:03:46] DEBUG: Adding interaction <finmag.energies.anisotropy.UniaxialAnisotropy object at 0x3739550> to simulation 'unnamed'\n"
       ]
      },
      {
       "output_type": "stream",
       "stream": "stderr",
       "text": [
        "[2013-01-17 09:03:46] DEBUG: Creating Exchange object with method box-matrix-petsc, in Jacobian.\n"
       ]
      },
      {
       "output_type": "stream",
       "stream": "stderr",
       "text": [
        "[2013-01-17 09:03:46] DEBUG: Adding interaction <finmag.energies.exchange.Exchange object at 0x36ff290> to simulation 'unnamed'\n"
       ]
      },
      {
       "output_type": "stream",
       "stream": "stderr",
       "text": [
        "[2013-01-17 09:03:46] DEBUG: Creating integrator with backend sundials.\n"
       ]
      },
      {
       "output_type": "stream",
       "stream": "stderr",
       "text": [
        "[2013-01-17 09:03:46] DEBUG: Integrating dynamics up to t = 1e-10\n"
       ]
      },
      {
       "output_type": "stream",
       "stream": "stderr",
       "text": [
        "[2013-01-17 09:03:46] DEBUG: Saving average field values for simulation 'unnamed'.\n"
       ]
      },
      {
       "output_type": "display_data",
       "png": "[encoded data removed]"
      }
     ],
     "prompt_number": 2
    },
    {
     "cell_type": "code",
     "collapsed": false,
     "input": [
      "run()"
     ],
     "language": "python",
     "metadata": {},
     "outputs": [
      {
       "output_type": "stream",
       "stream": "stderr",
       "text": [
        "ERROR: File `u'().py'` not found."
       ]
      }
     ],
     "prompt_number": 3
    },
    {
     "cell_type": "code",
     "collapsed": false,
     "input": [
      "sim.t"
     ],
     "language": "python",
     "metadata": {},
     "outputs": [
      {
       "output_type": "pyout",
       "prompt_number": 4,
       "text": [
        "1e-10"
       ]
      }
     ],
     "prompt_number": 4
    },
    {
     "cell_type": "code",
     "collapsed": false,
     "input": [
      "import finmag.util.visualization"
     ],
     "language": "python",
     "metadata": {},
     "outputs": [],
     "prompt_number": 5
    },
    {
     "cell_type": "code",
     "collapsed": false,
     "input": [
      "finmag.util.visualization.render_paraview_scene('exchangespring000000.vtu','exchangespring.png')"
     ],
     "language": "python",
     "metadata": {},
     "outputs": [
      {
       "output_type": "stream",
       "stream": "stderr",
       "text": [
        "[2013-01-17 09:03:48] DEBUG: Rescaling colormap to data range: (9.983678864955436e-06, 1.0)\n"
       ]
      },
      {
       "output_type": "stream",
       "stream": "stderr",
       "text": [
        "[2013-01-17 09:03:48] DEBUG: Adding cone glyphs.\n"
       ]
      },
      {
       "ename": "AttributeError",
       "evalue": "Attribute KeepRandomPoints does not exist.  This class does not allow addition of new attributes to avoid mistakes due to typos. Use add_attribute() if you really want to add this attribute.",
       "output_type": "pyerr",
       "traceback": [
        "\u001b[1;31m---------------------------------------------------------------------------\u001b[0m\n\u001b[1;31mAttributeError\u001b[0m                            Traceback (most recent call last)",
        "\u001b[1;32m<ipython-input-6-b3cbb3af43ca>\u001b[0m in \u001b[0;36m<module>\u001b[1;34m()\u001b[0m\n\u001b[1;32m----> 1\u001b[1;33m \u001b[0mfinmag\u001b[0m\u001b[1;33m.\u001b[0m\u001b[0mutil\u001b[0m\u001b[1;33m.\u001b[0m\u001b[0mvisualization\u001b[0m\u001b[1;33m.\u001b[0m\u001b[0mrender_paraview_scene\u001b[0m\u001b[1;33m(\u001b[0m\u001b[1;34m'exchangespring000000.vtu'\u001b[0m\u001b[1;33m,\u001b[0m\u001b[1;34m'exchangespring.png'\u001b[0m\u001b[1;33m)\u001b[0m\u001b[1;33m\u001b[0m\u001b[0m\n\u001b[0m",
        "\u001b[1;32m/home/fangohr/hg/finmag/src/finmag/util/visualization.pyc\u001b[0m in \u001b[0;36mrender_paraview_scene\u001b[1;34m(vtu_file, outfile, field_name, camera_position, camera_focal_point, camera_view_up, view_size, magnification, fit_view_to_scene, color_by_axis, colormap, rescale_colormap_to_data_range, show_colorbar, colorbar_label_format, add_glyphs, glyph_type, glyph_scale_factor, glyph_random_mode, glyph_mask_points, glyph_max_number_of_points, show_orientation_axes, show_center_axes, representation, palette)\u001b[0m\n\u001b[0;32m    316\u001b[0m         \u001b[0mglyph\u001b[0m\u001b[1;33m.\u001b[0m\u001b[0mScaleMode\u001b[0m \u001b[1;33m=\u001b[0m \u001b[1;34m'vector'\u001b[0m\u001b[1;33m\u001b[0m\u001b[0m\n\u001b[0;32m    317\u001b[0m         \u001b[0mglyph\u001b[0m\u001b[1;33m.\u001b[0m\u001b[0mVectors\u001b[0m \u001b[1;33m=\u001b[0m \u001b[1;33m[\u001b[0m\u001b[1;34m'POINTS'\u001b[0m\u001b[1;33m,\u001b[0m \u001b[1;34m'm'\u001b[0m\u001b[1;33m]\u001b[0m\u001b[1;33m\u001b[0m\u001b[0m\n\u001b[1;32m--> 318\u001b[1;33m         \u001b[0mglyph\u001b[0m\u001b[1;33m.\u001b[0m\u001b[0mKeepRandomPoints\u001b[0m \u001b[1;33m=\u001b[0m \u001b[1;36m1\u001b[0m  \u001b[1;31m# only relevant for animation IIUC, but can't hurt setting it\u001b[0m\u001b[1;33m\u001b[0m\u001b[0m\n\u001b[0m\u001b[0;32m    319\u001b[0m         \u001b[0mglyph\u001b[0m\u001b[1;33m.\u001b[0m\u001b[0mRandomMode\u001b[0m \u001b[1;33m=\u001b[0m \u001b[0mglyph_random_mode\u001b[0m\u001b[1;33m\u001b[0m\u001b[0m\n\u001b[0;32m    320\u001b[0m         \u001b[0mglyph\u001b[0m\u001b[1;33m.\u001b[0m\u001b[0mMaskPoints\u001b[0m \u001b[1;33m=\u001b[0m \u001b[0mglyph_mask_points\u001b[0m\u001b[1;33m\u001b[0m\u001b[0m\n",
        "\u001b[1;32m/usr/lib/python2.7/dist-packages/paraview/servermanager.pyc\u001b[0m in \u001b[0;36m__setattr__\u001b[1;34m(self, name, value)\u001b[0m\n\u001b[0;32m    207\u001b[0m                   \u001b[1;34m\" This class does not allow addition of new attributes to avoid \"\u001b[0m \u001b[1;33m+\u001b[0m\u001b[1;33m\u001b[0m\u001b[0m\n\u001b[0;32m    208\u001b[0m                   \u001b[1;34m\"mistakes due to typos. Use add_attribute() if you really want \"\u001b[0m \u001b[1;33m+\u001b[0m\u001b[1;33m\u001b[0m\u001b[0m\n\u001b[1;32m--> 209\u001b[1;33m                   \"to add this attribute.\")\n\u001b[0m\u001b[0;32m    210\u001b[0m             \u001b[0mself\u001b[0m\u001b[1;33m.\u001b[0m\u001b[0m__dict__\u001b[0m\u001b[1;33m[\u001b[0m\u001b[0mname\u001b[0m\u001b[1;33m]\u001b[0m \u001b[1;33m=\u001b[0m \u001b[0mvalue\u001b[0m\u001b[1;33m\u001b[0m\u001b[0m\n\u001b[0;32m    211\u001b[0m         \u001b[1;32melse\u001b[0m\u001b[1;33m:\u001b[0m\u001b[1;33m\u001b[0m\u001b[0m\n",
        "\u001b[1;31mAttributeError\u001b[0m: Attribute KeepRandomPoints does not exist.  This class does not allow addition of new attributes to avoid mistakes due to typos. Use add_attribute() if you really want to add this attribute."
       ]
      }
     ],
     "prompt_number": 6
    },
    {
     "cell_type": "code",
     "collapsed": false,
     "input": [
      "help(finmag.util.visualization.render_paraview_scene)"
     ],
     "language": "python",
     "metadata": {},
     "outputs": []
    },
    {
     "cell_type": "code",
     "collapsed": false,
     "input": [],
     "language": "python",
     "metadata": {},
     "outputs": []
    }
   ],
   "metadata": {}
  }
 ]
}