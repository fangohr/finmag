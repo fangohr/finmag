{
 "metadata": {
  "name": "tutorial-sampling-m-at-arbitrary-positions"
 },
 "nbformat": 3,
 "nbformat_minor": 0,
 "worksheets": [
  {
   "cells": [
    {
     "cell_type": "code",
     "collapsed": false,
     "input": [
      "import finmag\n",
      "sim = finmag.example.barmini()\n"
     ],
     "language": "python",
     "metadata": {},
     "outputs": [
      {
       "output_type": "stream",
       "stream": "stderr",
       "text": [
        "[2013-01-31 17:02:19] INFO: Finmag logging output will be written to file: '/home/fangohr/hg/finmag/doc/ipython_notebooks_src/barmini.log' (any old content will be overwritten).\n"
       ]
      },
      {
       "output_type": "stream",
       "stream": "stderr",
       "text": [
        "[2013-01-31 17:02:19] DEBUG: Creating DataWriter for file 'barmini.ndt'\n"
       ]
      },
      {
       "output_type": "stream",
       "stream": "stderr",
       "text": [
        "[2013-01-31 17:02:19] INFO: Creating Sim object 'barmini' (rank=0/1) [Thu Jan 31 17:02:19 2013].\n"
       ]
      },
      {
       "output_type": "stream",
       "stream": "stderr",
       "text": [
        "[2013-01-31 17:02:19] INFO: <Mesh of topological dimension 3 (tetrahedra) with 45 vertices and 96 cells, ordered>\n"
       ]
      },
      {
       "output_type": "stream",
       "stream": "stderr",
       "text": [
        "[2013-01-31 17:02:19] DEBUG: Creating LLG object.\n"
       ]
      },
      {
       "output_type": "stream",
       "stream": "stderr",
       "text": [
        "[2013-01-31 17:02:19] DEBUG: Creating Exchange object with method box-matrix-petsc, in Jacobian.\n"
       ]
      },
      {
       "output_type": "stream",
       "stream": "stderr",
       "text": [
        "[2013-01-31 17:02:19] DEBUG: Adding interaction <finmag.energies.exchange.Exchange object at 0x531e090> to simulation 'barmini'\n"
       ]
      },
      {
       "output_type": "stream",
       "stream": "stderr",
       "text": [
        "[2013-01-31 17:02:19] DEBUG: Creating Demag object with FK solver.\n"
       ]
      },
      {
       "output_type": "stream",
       "stream": "stderr",
       "text": [
        "[2013-01-31 17:02:19] DEBUG: Adding interaction <finmag.energies.demag.demag.Demag object at 0x5342090> to simulation 'barmini'\n"
       ]
      },
      {
       "output_type": "stream",
       "stream": "stderr",
       "text": [
        "[2013-01-31 17:02:19] DEBUG: Demag: Poisson solver parameters.\n",
        "    {'maximum_iterations': 10000, 'divergence_limit': 10000.0, 'relative_tolerance': 1e-06, 'gmres':\n",
        "    {'restart': 30}, 'preconditioner': {'shift_nonzero': 0.0, 'reuse': False,\n",
        "    'same_nonzero_pattern': False, 'ilu': {'fill_level': 0}, 'schwarz': {'overlap': 1}, 'report':\n",
        "    False}, 'error_on_nonconvergence': True, 'monitor_convergence': False, 'nonzero_initial_guess':\n",
        "    False, 'report': True, 'absolute_tolerance': 1e-15}\n"
       ]
      },
      {
       "output_type": "stream",
       "stream": "stderr",
       "text": [
        "[2013-01-31 17:02:19] DEBUG: Demag: Laplace solver parameters.\n",
        "    {'maximum_iterations': 10000, 'divergence_limit': 10000.0, 'relative_tolerance': 1e-06, 'gmres':\n",
        "    {'restart': 30}, 'preconditioner': {'shift_nonzero': 0.0, 'reuse': False,\n",
        "    'same_nonzero_pattern': True, 'ilu': {'fill_level': 0}, 'schwarz': {'overlap': 1}, 'report':\n",
        "    False}, 'error_on_nonconvergence': True, 'monitor_convergence': False, 'nonzero_initial_guess':\n",
        "    False, 'report': True, 'absolute_tolerance': 1e-15}\n"
       ]
      }
     ],
     "prompt_number": 3
    },
    {
     "cell_type": "code",
     "collapsed": false,
     "input": [
      "sim.run_until(1e-9)"
     ],
     "language": "python",
     "metadata": {},
     "outputs": [
      {
       "output_type": "stream",
       "stream": "stderr",
       "text": [
        "[2013-01-31 17:02:19] DEBUG: Creating integrator with backend sundials.\n"
       ]
      },
      {
       "output_type": "stream",
       "stream": "stderr",
       "text": [
        "[2013-01-31 17:02:19] INFO: Simulation will run until t = 1e-09 s.\n"
       ]
      },
      {
       "output_type": "stream",
       "stream": "stderr",
       "text": [
        "[2013-01-31 17:02:25] INFO: Simulation has reached time t = 1e-09 s.\n"
       ]
      }
     ],
     "prompt_number": 4
    },
    {
     "cell_type": "code",
     "collapsed": false,
     "input": [
      "m = sim.llg._m    # the way we get to m will change in the future"
     ],
     "language": "python",
     "metadata": {},
     "outputs": [],
     "prompt_number": 5
    },
    {
     "cell_type": "markdown",
     "metadata": {},
     "source": [
      "m is a function object, and can be used as a callable. If we give it a position within the define region, it will return the magnetisation at that point. If the point does not coincide with a mesh node (which is very likely), it will interpolate with the basis function of that function object. It will basically return the best approximation of the true m we have."
     ]
    },
    {
     "cell_type": "markdown",
     "metadata": {},
     "source": [
      "In this example, the mesh is defined with opposite corners [0, 0, 0] and [3, 3, 10]. We can see that trying to read a value outside this region results in an error:"
     ]
    },
    {
     "cell_type": "code",
     "collapsed": false,
     "input": [
      "zs = np.linspace(0, 10, 11)\n",
      "for z in zs:\n",
      "    mylocal_mvec = m(1.5, 1.5, z)\n",
      "    print(mylocal_mvec) "
     ],
     "language": "python",
     "metadata": {},
     "outputs": [
      {
       "output_type": "stream",
       "stream": "stdout",
       "text": [
        "[ -1.66775687e-04  -1.66774145e-04   9.99999972e-01]\n",
        "[  3.03294339e-06   3.03676384e-06   9.99999957e-01]\n",
        "[  1.72841574e-04   1.72847673e-04   9.99999941e-01]\n",
        "[  2.07230170e-04   2.07236736e-04   9.99999947e-01]\n",
        "[  1.06198731e-04   1.06203952e-04   9.99999973e-01]\n",
        "[  5.16729207e-06   5.17116860e-06   1.00000000e+00]\n",
        "[  1.06198769e-04   1.06203987e-04   9.99999973e-01]\n",
        "[  2.07230246e-04   2.07236806e-04   9.99999947e-01]\n",
        "[  1.72841816e-04   1.72847910e-04   9.99999941e-01]\n",
        "[  3.03347972e-06   3.03730118e-06   9.99999957e-01]\n",
        "[ -1.66774856e-04  -1.66773308e-04   9.99999972e-01]\n"
       ]
      }
     ],
     "prompt_number": 36
    },
    {
     "cell_type": "markdown",
     "metadata": {},
     "source": [
      "Imagine we only want to use the x-component of the magnetisation. This would be"
     ]
    },
    {
     "cell_type": "code",
     "collapsed": false,
     "input": [
      "mylocal_mvec[0]"
     ],
     "language": "python",
     "metadata": {},
     "outputs": [
      {
       "output_type": "pyout",
       "prompt_number": 38,
       "text": [
        "-0.00016677485649521483"
       ]
      }
     ],
     "prompt_number": 38
    },
    {
     "cell_type": "markdown",
     "metadata": {},
     "source": [
      "We can compress the forloop into a list comprehension to get all the Mx values in a list, and to plot them against z, say:"
     ]
    },
    {
     "cell_type": "code",
     "collapsed": false,
     "input": [
      "Mx = [ m(1.5, 1.5, z)[0] for z in zs]\n",
      "print Mx"
     ],
     "language": "python",
     "metadata": {},
     "outputs": [
      {
       "output_type": "stream",
       "stream": "stdout",
       "text": [
        "[-0.00016677568712498712, 3.0329433943878851e-06, 0.0001728415739137624, 0.00020723016975208891, 0.00010619873090936641, 5.1672920666438775e-06, 0.00010619876885909582, 0.00020723024565154783, 0.000172841815939176, 3.0334797219806146e-06, -0.00016677485649521483]\n"
       ]
      }
     ],
     "prompt_number": 39
    },
    {
     "cell_type": "code",
     "collapsed": false,
     "input": [
      "import pylab\n",
      "pylab.plot(zs, Mx)\n",
      "pylab.xlabel('z [nm]')\n",
      "pylab.ylabel('M_x/M_s')"
     ],
     "language": "python",
     "metadata": {},
     "outputs": [
      {
       "output_type": "pyout",
       "prompt_number": 40,
       "text": [
        "<matplotlib.text.Text at 0x5639890>"
       ]
      },
      {
       "output_type": "display_data",
       "png": "[encoded data removed]"
      }
     ],
     "prompt_number": 40
    },
    {
     "cell_type": "markdown",
     "metadata": {},
     "source": [
      "This looks like we should use a finer resolution:"
     ]
    },
    {
     "cell_type": "code",
     "collapsed": false,
     "input": [
      "zs = np.linspace(0, 10, 100)\n",
      "Mx = [ m(1.5, 1.5, z)[0] for z in zs]\n",
      "pylab.plot(zs, Mx)\n",
      "pylab.xlabel('z [nm]')\n",
      "pylab.ylabel('M_x/M_s')"
     ],
     "language": "python",
     "metadata": {},
     "outputs": [
      {
       "output_type": "pyout",
       "prompt_number": 41,
       "text": [
        "<matplotlib.text.Text at 0x5646fd0>"
       ]
      },
      {
       "output_type": "display_data",
       "png": "[encoded data removed]"
      }
     ],
     "prompt_number": 41
    },
    {
     "cell_type": "code",
     "collapsed": false,
     "input": [],
     "language": "python",
     "metadata": {},
     "outputs": []
    }
   ],
   "metadata": {}
  }
 ]
}