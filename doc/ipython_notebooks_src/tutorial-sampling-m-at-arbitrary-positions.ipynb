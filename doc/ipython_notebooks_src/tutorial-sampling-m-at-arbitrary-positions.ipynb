{
 "metadata": {
  "name": "tutorial-sampling-m-at-arbitrary-positions"
 },
 "nbformat": 3,
 "nbformat_minor": 0,
 "worksheets": [
  {
   "cells": [
    {
     "cell_type": "heading",
     "level": 2,
     "metadata": {},
     "source": [
      "Sampling the magnetisation at arbitrary positions"
     ]
    },
    {
     "cell_type": "code",
     "collapsed": false,
     "input": [
      "import finmag\n",
      "sim = finmag.example.bar()\n"
     ],
     "language": "python",
     "metadata": {},
     "outputs": [
      {
       "output_type": "stream",
       "stream": "stderr",
       "text": [
        "[2013-02-01 13:40:05] INFO: Finmag logging output will be appended to file: '/home/fangohr/.finmag/global.log'\n"
       ]
      },
      {
       "output_type": "stream",
       "stream": "stderr",
       "text": [
        "[2013-02-01 13:40:05] DEBUG:               Finmag: 2840:64924e210ad5ee3d163bb01aafee43066c15bc59\n"
       ]
      },
      {
       "output_type": "stream",
       "stream": "stderr",
       "text": [
        "[2013-02-01 13:40:05] DEBUG:               Dolfin: 1.0.0\n"
       ]
      },
      {
       "output_type": "stream",
       "stream": "stderr",
       "text": [
        "[2013-02-01 13:40:05] DEBUG:           Matplotlib: 1.2.0\n"
       ]
      },
      {
       "output_type": "stream",
       "stream": "stderr",
       "text": [
        "[2013-02-01 13:40:05] DEBUG:                Numpy: 1.6.1\n"
       ]
      },
      {
       "output_type": "stream",
       "stream": "stderr",
       "text": [
        "[2013-02-01 13:40:05] DEBUG:                Scipy: 0.9.0\n"
       ]
      },
      {
       "output_type": "stream",
       "stream": "stderr",
       "text": [
        "[2013-02-01 13:40:05] DEBUG:              IPython: 0.13.1\n"
       ]
      },
      {
       "output_type": "stream",
       "stream": "stderr",
       "text": [
        "[2013-02-01 13:40:05] DEBUG:               Python: 2.7.3\n"
       ]
      },
      {
       "output_type": "stream",
       "stream": "stderr",
       "text": [
        "[2013-02-01 13:40:05] DEBUG:             Paraview: 3.14.1-1ubuntu1\n"
       ]
      },
      {
       "output_type": "stream",
       "stream": "stderr",
       "text": [
        "[2013-02-01 13:40:05] DEBUG:             Sundials: 2.4.0-5\n"
       ]
      },
      {
       "output_type": "stream",
       "stream": "stderr",
       "text": [
        "[2013-02-01 13:40:05] DEBUG:         Boost-Python: 1.46.1\n"
       ]
      },
      {
       "output_type": "stream",
       "stream": "stderr",
       "text": [
        "[2013-02-01 13:40:05] DEBUG:                Linux: Ubuntu 12.04.1 LTS\n"
       ]
      },
      {
       "output_type": "stream",
       "stream": "stderr",
       "text": [
        "[2013-02-01 13:40:05] INFO: Finmag logging output will be written to file: '/home/fangohr/hg/finmag/doc/ipython_notebooks_src/bar.log' (any old content will be overwritten).\n"
       ]
      },
      {
       "output_type": "stream",
       "stream": "stderr",
       "text": [
        "[2013-02-01 13:40:05] DEBUG: Creating DataWriter for file 'bar.ndt'\n"
       ]
      },
      {
       "output_type": "stream",
       "stream": "stderr",
       "text": [
        "[2013-02-01 13:40:05] INFO: Creating Sim object 'bar' (rank=0/1) [Fri Feb  1 13:40:05 2013].\n"
       ]
      },
      {
       "output_type": "stream",
       "stream": "stderr",
       "text": [
        "[2013-02-01 13:40:05] INFO: <Mesh of topological dimension 3 (tetrahedra) with 13056 vertices and 67500 cells, ordered>\n"
       ]
      },
      {
       "output_type": "stream",
       "stream": "stderr",
       "text": [
        "[2013-02-01 13:40:05] DEBUG: Creating LLG object.\n"
       ]
      },
      {
       "output_type": "stream",
       "stream": "stderr",
       "text": [
        "[2013-02-01 13:40:06] DEBUG: Creating Exchange object with method box-matrix-petsc, in Jacobian.\n"
       ]
      },
      {
       "output_type": "stream",
       "stream": "stderr",
       "text": [
        "[2013-02-01 13:40:06] DEBUG: Adding interaction <finmag.energies.exchange.Exchange object at 0x53e8f50> to simulation 'bar'\n"
       ]
      },
      {
       "output_type": "stream",
       "stream": "stderr",
       "text": [
        "[2013-02-01 13:40:08] DEBUG: Creating Demag object with FK solver.\n"
       ]
      },
      {
       "output_type": "stream",
       "stream": "stderr",
       "text": [
        "[2013-02-01 13:40:08] DEBUG: Adding interaction <finmag.energies.demag.demag.Demag object at 0x5409ed0> to simulation 'bar'\n"
       ]
      },
      {
       "output_type": "stream",
       "stream": "stderr",
       "text": [
        "[2013-02-01 13:40:11] DEBUG: Demag: Poisson solver parameters.\n",
        "    {'maximum_iterations': 10000, 'divergence_limit': 10000.0, 'relative_tolerance': 1e-06, 'gmres':\n",
        "    {'restart': 30}, 'preconditioner': {'shift_nonzero': 0.0, 'reuse': False,\n",
        "    'same_nonzero_pattern': False, 'ilu': {'fill_level': 0}, 'schwarz': {'overlap': 1}, 'report':\n",
        "    False}, 'error_on_nonconvergence': True, 'monitor_convergence': False, 'nonzero_initial_guess':\n",
        "    False, 'report': True, 'absolute_tolerance': 1e-15}\n"
       ]
      },
      {
       "output_type": "stream",
       "stream": "stderr",
       "text": [
        "[2013-02-01 13:40:11] DEBUG: Demag: Laplace solver parameters.\n",
        "    {'maximum_iterations': 10000, 'divergence_limit': 10000.0, 'relative_tolerance': 1e-06, 'gmres':\n",
        "    {'restart': 30}, 'preconditioner': {'shift_nonzero': 0.0, 'reuse': False,\n",
        "    'same_nonzero_pattern': True, 'ilu': {'fill_level': 0}, 'schwarz': {'overlap': 1}, 'report':\n",
        "    False}, 'error_on_nonconvergence': True, 'monitor_convergence': False, 'nonzero_initial_guess':\n",
        "    False, 'report': True, 'absolute_tolerance': 1e-15}\n"
       ]
      }
     ],
     "prompt_number": 1
    },
    {
     "cell_type": "code",
     "collapsed": false,
     "input": [
      "sim.run_until(0.5e-9)"
     ],
     "language": "python",
     "metadata": {},
     "outputs": [
      {
       "output_type": "stream",
       "stream": "stderr",
       "text": [
        "[2013-02-01 13:40:11] DEBUG: Creating integrator with backend sundials.\n"
       ]
      },
      {
       "output_type": "stream",
       "stream": "stderr",
       "text": [
        "[2013-02-01 13:40:11] INFO: Simulation will run until t = 5e-10 s.\n"
       ]
      },
      {
       "output_type": "stream",
       "stream": "stderr",
       "text": [
        "[2013-02-01 13:44:07] INFO: Simulation has reached time t = 5e-10 s.\n"
       ]
      }
     ],
     "prompt_number": 2
    },
    {
     "cell_type": "code",
     "collapsed": false,
     "input": [
      "m = sim.llg._m    # the way we get to m will change in the future, so this line will updating at some point"
     ],
     "language": "python",
     "metadata": {},
     "outputs": [],
     "prompt_number": 3
    },
    {
     "cell_type": "markdown",
     "metadata": {},
     "source": [
      "m is a function object, and can be used as a callable. If we give it a position within the define region, it will return the magnetisation at that point. If the point does not coincide with a mesh node (which is very likely), it will interpolate with the basis function of that function object. It will basically return the best approximation of the true m we have."
     ]
    },
    {
     "cell_type": "markdown",
     "metadata": {},
     "source": [
      "In this example, the mesh is defined with opposite corners [0, 0, 0] and [10, 10, 30]. If we try to read a value outside this range, we get an error, but inside the mesh we can choose the postions freely:"
     ]
    },
    {
     "cell_type": "code",
     "collapsed": false,
     "input": [
      "zs = np.linspace(0, 30, 11)\n",
      "for z in zs:\n",
      "    mylocal_mvec = m(5, 5, z)\n",
      "    print(mylocal_mvec) "
     ],
     "language": "python",
     "metadata": {},
     "outputs": [
      {
       "output_type": "stream",
       "stream": "stdout",
       "text": [
        "[ 0.22315989  0.23587957  0.94555393]\n",
        "[ 0.20486164  0.21675951  0.95383054]\n",
        "[ 0.16817385  0.17854052  0.96931011]\n",
        "[ 0.12986726  0.13824722  0.98131861]\n",
        "[ 0.09472124  0.10119285  0.99028579]\n",
        "[ 0.06870362  0.07339654  0.99473196]\n",
        "[ 0.04781343  0.05101747  0.9975315 ]\n",
        "[ 0.03422291  0.0362226   0.99870074]\n",
        "[ 0.02380307  0.0248683   0.99940107]\n",
        "[ 0.01738333  0.0177568   0.99967688]\n",
        "[ 0.01245201  0.01232039  0.99984479]\n"
       ]
      }
     ],
     "prompt_number": 4
    },
    {
     "cell_type": "markdown",
     "metadata": {},
     "source": [
      "Imagine we only want to use the x-component of the magnetisation:"
     ]
    },
    {
     "cell_type": "code",
     "collapsed": false,
     "input": [
      "m(0,0,0)   # get vector"
     ],
     "language": "python",
     "metadata": {},
     "outputs": [
      {
       "output_type": "pyout",
       "prompt_number": 5,
       "text": [
        "array([ 0.26889211,  0.27914983,  0.92183101])"
       ]
      }
     ],
     "prompt_number": 5
    },
    {
     "cell_type": "code",
     "collapsed": false,
     "input": [
      "m(0,0,0)[0]  # [0] to extract x component"
     ],
     "language": "python",
     "metadata": {},
     "outputs": [
      {
       "output_type": "pyout",
       "prompt_number": 6,
       "text": [
        "0.26889210579245609"
       ]
      }
     ],
     "prompt_number": 6
    },
    {
     "cell_type": "markdown",
     "metadata": {},
     "source": [
      "We can compress the for loop shown above into a list comprehension to get all the Mx values in a list, and to plot them against z, say:"
     ]
    },
    {
     "cell_type": "code",
     "collapsed": false,
     "input": [
      "zs = np.linspace(0, 30, 11)\n",
      "Mx = [ m(5, 5, z)[0] for z in zs]\n",
      "print Mx"
     ],
     "language": "python",
     "metadata": {},
     "outputs": [
      {
       "output_type": "stream",
       "stream": "stdout",
       "text": [
        "[0.22315989069451891, 0.20486164025423154, 0.16817384656258616, 0.12986725671074092, 0.094721235719569002, 0.068703617963736419, 0.047813429149282272, 0.034222910247828281, 0.023803071018792032, 0.017383326390536226, 0.012452012668084591]\n"
       ]
      }
     ],
     "prompt_number": 7
    },
    {
     "cell_type": "markdown",
     "metadata": {},
     "source": [
      "And let's plot how $M_x$ changes as a function of z as well:"
     ]
    },
    {
     "cell_type": "code",
     "collapsed": false,
     "input": [
      "import pylab\n",
      "pylab.plot(zs, Mx,'o-')\n",
      "pylab.xlabel('z [nm]')\n",
      "pylab.ylabel('M_x/M_s')"
     ],
     "language": "python",
     "metadata": {},
     "outputs": [
      {
       "output_type": "pyout",
       "prompt_number": 8,
       "text": [
        "<matplotlib.text.Text at 0x670b8d0>"
       ]
      },
      {
       "output_type": "display_data",
       "png": "[encoded data removed]"
      }
     ],
     "prompt_number": 8
    },
    {
     "cell_type": "markdown",
     "metadata": {},
     "source": [
      "Note that we sample the function $M(x,y,z)$ at arbitrary positions, that have no correlation with the mesh nodes or cells. This is good and convenient: it means we can change the resolution of the data we have, and we can sample at equidistant points which allows to carry out fast fourier transforms on the data."
     ]
    },
    {
     "cell_type": "markdown",
     "metadata": {},
     "source": [
      "If we sample the data quite finely, we can see the linear interpolation that takes places between values of $M$ on the mesh nodes. Here is an example where we resolve the magnetisation component $M_x(5, 5, z)$ for $z=0$nm to $z=3nm$ in 20 steps: "
     ]
    },
    {
     "cell_type": "code",
     "collapsed": false,
     "input": [
      "zs = np.linspace(0, 3, 20)\n",
      "Mx = [ m(5, 5, z)[0] for z in zs]\n",
      "pylab.plot(zs, Mx, '-x')\n",
      "pylab.xlabel('z [nm]')\n",
      "pylab.ylabel('M_x/M_s')"
     ],
     "language": "python",
     "metadata": {},
     "outputs": [
      {
       "output_type": "pyout",
       "prompt_number": 9,
       "text": [
        "<matplotlib.text.Text at 0x7fd2ed0>"
       ]
      },
      {
       "output_type": "display_data",
       "png": "[encoded data removed]"
      }
     ],
     "prompt_number": 9
    },
    {
     "cell_type": "markdown",
     "metadata": {},
     "source": [
      "We can see that there is a node around $z=2nm$, for example."
     ]
    }
   ],
   "metadata": {}
  }
 ]
}