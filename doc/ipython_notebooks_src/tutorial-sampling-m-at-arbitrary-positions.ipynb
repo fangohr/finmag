{
 "metadata": {
  "name": "",
  "signature": "sha256:f42a36981e340704783e9c326e3b078f0630504bd4315c8e95811c8aafc8d1d6"
 },
 "nbformat": 3,
 "nbformat_minor": 0,
 "worksheets": [
  {
   "cells": [
    {
     "cell_type": "heading",
     "level": 2,
     "metadata": {},
     "source": [
      "Sampling the magnetisation at arbitrary positions"
     ]
    },
    {
     "cell_type": "code",
     "collapsed": false,
     "input": [
      "import numpy as np\n",
      "import finmag\n",
      "#np.set_printoptions(precision=5)  # Only print a limited number of digits to make the notebook reproducible for the tests"
     ],
     "language": "python",
     "metadata": {},
     "outputs": [
      {
       "output_type": "stream",
       "stream": "stderr",
       "text": [
        "[2014-06-09 23:27:31] INFO: Finmag logging output will be appended to file: '/home/albert/.finmag/global.log'\n"
       ]
      },
      {
       "output_type": "stream",
       "stream": "stderr",
       "text": [
        "[2014-06-09 23:27:31] DEBUG: Building modules in 'native'...\n"
       ]
      },
      {
       "output_type": "stream",
       "stream": "stderr",
       "text": [
        "[2014-06-09 23:27:32] DEBUG: FinMag          5064:f8b6c3edbbb8a3b3f57dfb458234885262a14eec\n"
       ]
      },
      {
       "output_type": "stream",
       "stream": "stderr",
       "text": [
        "[2014-06-09 23:27:32] DEBUG: Dolfin          1.4.0                Matplotlib      1.3.1               \n"
       ]
      },
      {
       "output_type": "stream",
       "stream": "stderr",
       "text": [
        "[2014-06-09 23:27:32] DEBUG: Numpy           1.8.1                Scipy           0.12.0              \n"
       ]
      },
      {
       "output_type": "stream",
       "stream": "stderr",
       "text": [
        "[2014-06-09 23:27:32] DEBUG: IPython         2.1.0                Python          2.7.5+              \n"
       ]
      },
      {
       "output_type": "stream",
       "stream": "stderr",
       "text": [
        "[2014-06-09 23:27:32] DEBUG: Paraview        4.0.1-1              Sundials        2.5.0               \n"
       ]
      },
      {
       "output_type": "stream",
       "stream": "stderr",
       "text": [
        "[2014-06-09 23:27:32] DEBUG: Boost-Python    <unknown>            Linux           Linux Mint 16 Petra \n"
       ]
      },
      {
       "output_type": "stream",
       "stream": "stderr",
       "text": [
        "[2014-06-09 23:27:32] DEBUG: Registering debug signal handler. Press Ctrl-Z at any time to stop execution and jump into the debugger.\n"
       ]
      }
     ],
     "prompt_number": 1
    },
    {
     "cell_type": "code",
     "collapsed": false,
     "input": [
      "sim = finmag.example.barmini()"
     ],
     "language": "python",
     "metadata": {},
     "outputs": [
      {
       "output_type": "stream",
       "stream": "stderr",
       "text": [
        "[2014-06-09 23:27:32] INFO: Finmag logging output will be written to file: '/home/albert/work/code/finmag/doc/ipython_notebooks_src/barmini.log' (any old content will be overwritten).\n"
       ]
      },
      {
       "output_type": "stream",
       "stream": "stderr",
       "text": [
        "[2014-06-09 23:27:32] DEBUG: Creating DataWriter for file 'barmini.ndt'\n"
       ]
      },
      {
       "output_type": "stream",
       "stream": "stderr",
       "text": [
        "[2014-06-09 23:27:32] INFO: Creating Sim object 'barmini' (rank=0/1).\n"
       ]
      },
      {
       "output_type": "stream",
       "stream": "stderr",
       "text": [
        "[2014-06-09 23:27:32] INFO: <Mesh of topological dimension 3 (tetrahedra) with 45 vertices and 96 cells, ordered>\n"
       ]
      },
      {
       "output_type": "stream",
       "stream": "stderr",
       "text": [
        "[2014-06-09 23:27:32] DEBUG: Creating LLG object.\n"
       ]
      },
      {
       "output_type": "stream",
       "stream": "stderr",
       "text": [
        "[2014-06-09 23:27:32] DEBUG: Creating Exchange object with method box-matrix-petsc, in Jacobian.\n"
       ]
      },
      {
       "output_type": "stream",
       "stream": "stderr",
       "text": [
        "[2014-06-09 23:27:32] DEBUG: Adding interaction Exchange to simulation.\n"
       ]
      },
      {
       "output_type": "stream",
       "stream": "stderr",
       "text": [
        "[2014-06-09 23:27:32] DEBUG: Creating Demag object with solver 'FK'.\n"
       ]
      },
      {
       "output_type": "stream",
       "stream": "stderr",
       "text": [
        "[2014-06-09 23:27:32] DEBUG: Adding interaction Demag to simulation.\n"
       ]
      },
      {
       "output_type": "stream",
       "stream": "stderr",
       "text": [
        "[2014-06-09 23:27:32] DEBUG: Successfully created simulation 'barmini'\n"
       ]
      }
     ],
     "prompt_number": 2
    },
    {
     "cell_type": "code",
     "collapsed": false,
     "input": [
      "sim.run_until(1e-9)"
     ],
     "language": "python",
     "metadata": {},
     "outputs": [
      {
       "output_type": "stream",
       "stream": "stderr",
       "text": [
        "[2014-06-09 23:27:33] INFO: Create integrator sundials with kwargs={}\n"
       ]
      },
      {
       "output_type": "stream",
       "stream": "stderr",
       "text": [
        "[2014-06-09 23:27:33] DEBUG: Creating integrator with backend sundials.\n"
       ]
      },
      {
       "output_type": "stream",
       "stream": "stderr",
       "text": [
        "[2014-06-09 23:27:33] INFO: Simulation will run until t = 1e-09 s.\n"
       ]
      },
      {
       "output_type": "stream",
       "stream": "stderr",
       "text": [
        "[2014-06-09 23:27:38] INFO: Simulation has reached time t = 1e-09 s.\n"
       ]
      }
     ],
     "prompt_number": 3
    },
    {
     "cell_type": "markdown",
     "metadata": {},
     "source": [
      "probe_field is a member function object of the simulation class that takes a position and field ('m' for magnetisation) within the defined region and returns the value of a field at that point. If the point does not coincide with a mesh node (which is very likely), it will interpolate with the basis function of that function object. In short, it will return the best approximation of the true m we have. In this example, the mesh is defined with opposite corners [0, 0, 0] and [3, 3, 10]. If a value is requested outside this range (extrapolation) an error is returned. However, inside the mesh we can choose the postions freely:"
     ]
    },
    {
     "cell_type": "code",
     "collapsed": false,
     "input": [
      "zs = np.linspace(0, 10, 11)\n",
      "for z in zs:\n",
      "    mylocal_mvec = sim.probe_field('m', (2, 2, z))\n",
      "    print(\"[{:7.4f}, {:7.4f} {:7.4f}]\".format(mylocal_mvec[0], mylocal_mvec[1], mylocal_mvec[2]))\n",
      "    \n",
      "#Higher decimal values vary slightly between runs. This is not intended."
     ],
     "language": "python",
     "metadata": {},
     "outputs": [
      {
       "output_type": "stream",
       "stream": "stdout",
       "text": [
        "[-0.0014, -0.0014  1.0000]\n",
        "[-0.0009, -0.0009  1.0000]\n",
        "[-0.0008, -0.0008  1.0000]\n",
        "[-0.0003, -0.0003  1.0000]\n",
        "[-0.0000, -0.0000  1.0000]\n",
        "[-0.0001, -0.0001  1.0000]\n",
        "[ 0.0003,  0.0003  1.0000]\n",
        "[ 0.0004,  0.0004  1.0000]\n",
        "[ 0.0009,  0.0009  1.0000]\n",
        "[ 0.0011,  0.0011  1.0000]\n",
        "[ 0.0010,  0.0010  1.0000]\n"
       ]
      }
     ],
     "prompt_number": 4
    },
    {
     "cell_type": "markdown",
     "metadata": {},
     "source": [
      "Imagine we only want to use the x-component of the magnetisation:"
     ]
    },
    {
     "cell_type": "code",
     "collapsed": false,
     "input": [
      "print(\"{:.4f}\".format(sim.probe_field('m',[0, 0, 0])[0]))"
     ],
     "language": "python",
     "metadata": {},
     "outputs": [
      {
       "output_type": "stream",
       "stream": "stdout",
       "text": [
        "0.0032\n"
       ]
      }
     ],
     "prompt_number": 5
    },
    {
     "cell_type": "markdown",
     "metadata": {},
     "source": [
      "We can compress the for loop shown above into a list comprehension to get all the Mx values in a list, and to plot them against z, say:"
     ]
    },
    {
     "cell_type": "code",
     "collapsed": false,
     "input": [
      "zs = np.linspace(0, 10, 11)\n",
      "Mx = [ sim.probe_field('m',(2, 2, z))[0] for z in zs]"
     ],
     "language": "python",
     "metadata": {},
     "outputs": [],
     "prompt_number": 6
    },
    {
     "cell_type": "markdown",
     "metadata": {},
     "source": [
      "And let's plot how $M_x$ changes as a function of z as well:"
     ]
    },
    {
     "cell_type": "code",
     "collapsed": false,
     "input": [
      "import pylab\n",
      "pylab.plot(zs, Mx,'o-')\n",
      "pylab.xlabel('z [nm]')\n",
      "pylab.ylabel('M_x/M_s')"
     ],
     "language": "python",
     "metadata": {},
     "outputs": [
      {
       "metadata": {},
       "output_type": "pyout",
       "prompt_number": 8,
       "text": [
        "<matplotlib.text.Text at 0x56776d0>"
       ]
      },
      {
       "metadata": {},
       "output_type": "display_data",
       "png": "[encoded data removed]",
       "text": [
        "<matplotlib.figure.Figure at 0x57cca50>"
       ]
      }
     ],
     "prompt_number": 8
    },
    {
     "cell_type": "markdown",
     "metadata": {},
     "source": [
      "Note that we sample the function $M(x,y,z)$ at arbitrary positions, that have no correlation with the mesh nodes or cells. This is good and convenient: it means we can change the resolution of the data we have, and we can sample at equidistant points which allows to carry out fast fourier transforms on the data."
     ]
    },
    {
     "cell_type": "markdown",
     "metadata": {},
     "source": [
      "If we sample the data quite finely, we can see the linear interpolation that takes places between values of $M$ on the mesh nodes. Here is an example where we resolve the magnetisation component $M_x(2, 2, z)$ for $z=0$nm to $z=3nm$ in 20 steps: "
     ]
    },
    {
     "cell_type": "code",
     "collapsed": false,
     "input": [
      "zs = np.linspace(0, 3, 20)\n",
      "Mx = [ sim.probe_field('m', (2, 2, z))[0] for z in zs]\n",
      "pylab.plot(zs, Mx, '-x')\n",
      "pylab.xlabel('z [nm]')\n",
      "pylab.ylabel('M_x/M_s')"
     ],
     "language": "python",
     "metadata": {},
     "outputs": [
      {
       "metadata": {},
       "output_type": "pyout",
       "prompt_number": 9,
       "text": [
        "<matplotlib.text.Text at 0x5ae9ed0>"
       ]
      },
      {
       "metadata": {},
       "output_type": "display_data",
       "png": "[encoded data removed]",
       "text": [
        "<matplotlib.figure.Figure at 0x5ac8bd0>"
       ]
      }
     ],
     "prompt_number": 9
    }
   ],
   "metadata": {}
  }
 ]
}