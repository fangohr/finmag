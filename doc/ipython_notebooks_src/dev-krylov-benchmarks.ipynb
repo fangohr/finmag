{
 "metadata": {
  "name": "dev-krylov-benchmarks"
 },
 "nbformat": 3,
 "nbformat_minor": 0,
 "worksheets": [
  {
   "cells": [
    {
     "cell_type": "code",
     "collapsed": false,
     "input": [
      "import pickle\n",
      "import dolfin as df\n",
      "import matplotlib.pyplot as plt\n",
      "import finmag.energies.demag.fk_demag as fk\n",
      "from finmag.util.meshes import sphere, box, plot_mesh_with_paraview\n",
      "from finmag.util.helpers import vectors\n",
      "from finmag.util.timings import default_timer"
     ],
     "language": "python",
     "metadata": {},
     "outputs": [
      {
       "output_type": "stream",
       "stream": "stderr",
       "text": [
        "[2013-04-10 17:07:15] DEBUG: Building modules in 'native'...\n"
       ]
      },
      {
       "output_type": "stream",
       "stream": "stderr",
       "text": [
        "[2013-04-10 17:07:16] DEBUG:               Finmag: 3414:0ea753be3fa785dc8a9749b527a8e88f79e45ec8\n"
       ]
      },
      {
       "output_type": "stream",
       "stream": "stderr",
       "text": [
        "[2013-04-10 17:07:16] DEBUG:               Dolfin: 1.2.0\n"
       ]
      },
      {
       "output_type": "stream",
       "stream": "stderr",
       "text": [
        "[2013-04-10 17:07:16] DEBUG:           Matplotlib: 1.2.1\n"
       ]
      },
      {
       "output_type": "stream",
       "stream": "stderr",
       "text": [
        "[2013-04-10 17:07:16] DEBUG:                Numpy: 1.7.1\n"
       ]
      },
      {
       "output_type": "stream",
       "stream": "stderr",
       "text": [
        "[2013-04-10 17:07:16] DEBUG:                Scipy: 0.11.0\n"
       ]
      },
      {
       "output_type": "stream",
       "stream": "stderr",
       "text": [
        "[2013-04-10 17:07:16] DEBUG:              IPython: 0.13.2\n"
       ]
      },
      {
       "output_type": "stream",
       "stream": "stderr",
       "text": [
        "[2013-04-10 17:07:16] DEBUG:               Python: 2.7.3\n"
       ]
      },
      {
       "output_type": "stream",
       "stream": "stderr",
       "text": [
        "[2013-04-10 17:07:16] DEBUG:             Paraview: 3.14.1-6build1\n"
       ]
      },
      {
       "output_type": "stream",
       "stream": "stderr",
       "text": [
        "[2013-04-10 17:07:16] DEBUG:             Sundials: 2.5.0-1\n"
       ]
      },
      {
       "output_type": "stream",
       "stream": "stderr",
       "text": [
        "[2013-04-10 17:07:16] DEBUG:         Boost-Python: 1.49.0\n"
       ]
      },
      {
       "output_type": "stream",
       "stream": "stderr",
       "text": [
        "[2013-04-10 17:07:16] DEBUG:                Linux: Ubuntu 12.10\n"
       ]
      }
     ],
     "prompt_number": 1
    },
    {
     "cell_type": "heading",
     "level": 1,
     "metadata": {},
     "source": [
      "Krylov-Solvers used in Demagnetising Field Computation"
     ]
    },
    {
     "cell_type": "markdown",
     "metadata": {},
     "source": [
      "To see which Krylov subspace methods are available in dolfin, use *krylov\\_solver\\_methods*."
     ]
    },
    {
     "cell_type": "code",
     "collapsed": false,
     "input": [
      "for name, description in df.krylov_solver_methods():\n",
      "    print \"{:<20} {}\".format(name, description)"
     ],
     "language": "python",
     "metadata": {},
     "outputs": [
      {
       "output_type": "stream",
       "stream": "stdout",
       "text": [
        "default              default Krylov method\n",
        "cg                   Conjugate gradient method\n",
        "gmres                Generalized minimal residual method\n",
        "minres               Minimal residual method\n",
        "tfqmr                Transpose-free quasi-minimal residual method\n",
        "richardson           Richardson method\n",
        "bicgstab             Biconjugate gradient stabilized method\n"
       ]
      }
     ],
     "prompt_number": 2
    },
    {
     "cell_type": "markdown",
     "metadata": {},
     "source": [
      "The problems may be preconditioned using one of the methods in *krylov\\_solver\\_preconditioners*."
     ]
    },
    {
     "cell_type": "code",
     "collapsed": false,
     "input": [
      "for name, description in df.krylov_solver_preconditioners():\n",
      "    print \"{:<20} {}\".format(name, description)"
     ],
     "language": "python",
     "metadata": {},
     "outputs": [
      {
       "output_type": "stream",
       "stream": "stdout",
       "text": [
        "default              default preconditioner\n",
        "none                 No preconditioner\n",
        "ilu                  Incomplete LU factorization\n",
        "icc                  Incomplete Cholesky factorization\n",
        "sor                  Successive over-relaxation\n",
        "jacobi               Jacobi iteration\n",
        "bjacobi              Block Jacobi iteration\n",
        "additive_schwarz     Additive Schwarz\n",
        "amg                  Algebraic multigrid\n",
        "hypre_amg            Hypre algebraic multigrid (BoomerAMG)\n",
        "hypre_euclid         Hypre parallel incomplete LU factorization\n",
        "hypre_parasails      Hypre parallel sparse approximate inverse\n"
       ]
      }
     ],
     "prompt_number": 3
    },
    {
     "cell_type": "markdown",
     "metadata": {},
     "source": [
      "Since, in principle, every solver can be used with any preconditioner, there are several combinations to check."
     ]
    },
    {
     "cell_type": "code",
     "collapsed": false,
     "input": [
      "m = len(df.krylov_solver_methods())\n",
      "n = len(df.krylov_solver_preconditioners())\n",
      "print \"There are {} diferent combinations of solver and preconditioner.\".format(m * n)"
     ],
     "language": "python",
     "metadata": {},
     "outputs": [
      {
       "output_type": "stream",
       "stream": "stdout",
       "text": [
        "There are 84 diferent combinations of solver and preconditioner.\n"
       ]
      }
     ],
     "prompt_number": 4
    },
    {
     "cell_type": "heading",
     "level": 2,
     "metadata": {},
     "source": [
      "A Sample Problem with Analytical Solution"
     ]
    },
    {
     "cell_type": "markdown",
     "metadata": {},
     "source": [
      "The demagnetising field of an homogeneously magnetised sphere."
     ]
    },
    {
     "cell_type": "code",
     "collapsed": false,
     "input": [
      "mesh = sphere(20.0, 1.0)\n",
      "print mesh\n",
      "S3 = df.VectorFunctionSpace(mesh, \"CG\", 1)\n",
      "m = df.Function(S3)\n",
      "m.assign(df.Constant((1, 0, 0)))\n",
      "Ms = 1\n",
      "unit_length = 1e-9\n",
      "H_expected = np.array([-1.0/3.0, 0.0, 0.0])\n",
      "\n",
      "print \"The used mesh.\"\n",
      "plot_mesh_with_paraview(mesh)"
     ],
     "language": "python",
     "metadata": {},
     "outputs": [
      {
       "output_type": "stream",
       "stream": "stderr",
       "text": [
        "[2013-04-10 17:07:16] DEBUG: The mesh './sphere-20-3.xml.gz' already exists and is automatically returned.\n"
       ]
      },
      {
       "output_type": "stream",
       "stream": "stdout",
       "text": [
        "The used mesh.\n",
        "tmpdir: /tmp/tmpsUz9Bd\n"
       ]
      },
      {
       "output_type": "pyout",
       "png": "[encoded data removed]",
       "prompt_number": 5,
       "text": [
        "<IPython.core.display.Image at 0x4bdfb50>"
       ]
      }
     ],
     "prompt_number": 5
    },
    {
     "cell_type": "markdown",
     "metadata": {},
     "source": [
      "There are two linear systems involved in the computation of the magnetic potential. We will record the time needed to solve it."
     ]
    },
    {
     "cell_type": "code",
     "collapsed": false,
     "input": [
      "results = []\n",
      "failed = []"
     ],
     "language": "python",
     "metadata": {},
     "outputs": [],
     "prompt_number": 6
    },
    {
     "cell_type": "markdown",
     "metadata": {},
     "source": [
      "We can now test all the possible combinations of solver/preconditioner for the solution of the first linear system."
     ]
    },
    {
     "cell_type": "code",
     "collapsed": false,
     "input": [
      "try:\n",
      "    with open(\"results_phi1.pickled\", \"r\") as f:\n",
      "        results = pickle.load(f)\n",
      "        print \"Results loaded from file.\"\n",
      "except IOError:\n",
      "    print \"No recorded results found. Will run benchmarks.\"\n",
      "    \n",
      "    for method, desc in df.krylov_solver_methods():\n",
      "        print \"Using {}, the {}.\".format(method, desc)\n",
      "        results_for_this_method = []\n",
      "        \n",
      "        for prec, desc in df.krylov_solver_preconditioners():\n",
      "            print \"\\tCombined with {}, the {}.\".format(prec, desc)\n",
      "            demag = fk.FKDemag()\n",
      "            demag.parameters[\"phi_1_solver\"] = method\n",
      "            demag.parameters[\"phi_1_preconditioner\"] = prec\n",
      "            demag.setup(S3, m, Ms, unit_length)\n",
      "            try:\n",
      "                H = vectors(demag.compute_field())\n",
      "            except RuntimeError as e:\n",
      "                print \"\\t\\tFailed to complete.\"\n",
      "                default_timer.stop_last()  # stop the running 'compute_field' timer\n",
      "                failed.append({'method': method, 'preconditioner': prec, 'message': e.message})\n",
      "            else:   \n",
      "                max_diff = np.max(np.abs(H - H_expected))\n",
      "                phi1_time = fk.fk_timer.time_per_call(\"first linear solve\", \"FKDemag\")\n",
      "                results_for_this_method.append({'method': method, 'preconditioner': prec, 'error': max_diff, 'time': phi1_time})\n",
      "                print \"\\t\\tCompleted the first linear solve in {:.3} s.\".format(phi1_time)\n",
      "            fk.fk_timer.reset()\n",
      "            \n",
      "        results.append(results_for_this_method)\n",
      "\n",
      "    with open(\"results_phi1.pickled\", \"w\") as f:\n",
      "        pickle.dump(results, f)"
     ],
     "language": "python",
     "metadata": {},
     "outputs": [
      {
       "output_type": "stream",
       "stream": "stdout",
       "text": [
        "No recorded results found. Will run benchmarks.\n",
        "Using default, the default Krylov method.\n",
        "\tCombined with default, the default preconditioner.\n",
        "\t\tCompleted the first linear solve in 0.00138 s."
       ]
      },
      {
       "output_type": "stream",
       "stream": "stdout",
       "text": [
        "\n",
        "\tCombined with none, the No preconditioner.\n",
        "\t\tCompleted the first linear solve in 0.00266 s."
       ]
      },
      {
       "output_type": "stream",
       "stream": "stdout",
       "text": [
        "\n",
        "\tCombined with ilu, the Incomplete LU factorization.\n",
        "\t\tCompleted the first linear solve in 0.00132 s."
       ]
      },
      {
       "output_type": "stream",
       "stream": "stdout",
       "text": [
        "\n",
        "\tCombined with icc, the Incomplete Cholesky factorization.\n",
        "\t\tCompleted the first linear solve in 0.00135 s."
       ]
      },
      {
       "output_type": "stream",
       "stream": "stdout",
       "text": [
        "\n",
        "\tCombined with sor, the Successive over-relaxation.\n",
        "\t\tCompleted the first linear solve in 0.00144 s."
       ]
      },
      {
       "output_type": "stream",
       "stream": "stdout",
       "text": [
        "\n",
        "\tCombined with jacobi, the Jacobi iteration.\n",
        "\t\tCompleted the first linear solve in 0.00207 s."
       ]
      },
      {
       "output_type": "stream",
       "stream": "stdout",
       "text": [
        "\n",
        "\tCombined with bjacobi, the Block Jacobi iteration.\n",
        "\t\tCompleted the first linear solve in 0.00188 s."
       ]
      },
      {
       "output_type": "stream",
       "stream": "stdout",
       "text": [
        "\n",
        "\tCombined with additive_schwarz, the Additive Schwarz.\n",
        "\t\tCompleted the first linear solve in 0.00167 s."
       ]
      },
      {
       "output_type": "stream",
       "stream": "stdout",
       "text": [
        "\n",
        "\tCombined with amg, the Algebraic multigrid.\n",
        "\t\tCompleted the first linear solve in 0.0117 s."
       ]
      },
      {
       "output_type": "stream",
       "stream": "stdout",
       "text": [
        "\n",
        "\tCombined with hypre_amg, the Hypre algebraic multigrid (BoomerAMG).\n",
        "\t\tCompleted the first linear solve in 0.0111 s."
       ]
      },
      {
       "output_type": "stream",
       "stream": "stdout",
       "text": [
        "\n",
        "\tCombined with hypre_euclid, the Hypre parallel incomplete LU factorization.\n",
        "\t\tCompleted the first linear solve in 0.00595 s."
       ]
      },
      {
       "output_type": "stream",
       "stream": "stdout",
       "text": [
        "\n",
        "\tCombined with hypre_parasails, the Hypre parallel sparse approximate inverse.\n",
        "\t\tCompleted the first linear solve in 0.0358 s."
       ]
      },
      {
       "output_type": "stream",
       "stream": "stdout",
       "text": [
        "\n",
        "Using cg, the Conjugate gradient method.\n",
        "\tCombined with default, the default preconditioner.\n",
        "\t\tCompleted the first linear solve in 0.00119 s."
       ]
      },
      {
       "output_type": "stream",
       "stream": "stdout",
       "text": [
        "\n",
        "\tCombined with none, the No preconditioner.\n",
        "\t\tCompleted the first linear solve in 0.0015 s."
       ]
      },
      {
       "output_type": "stream",
       "stream": "stdout",
       "text": [
        "\n",
        "\tCombined with ilu, the Incomplete LU factorization.\n",
        "\t\tCompleted the first linear solve in 0.00112 s."
       ]
      },
      {
       "output_type": "stream",
       "stream": "stdout",
       "text": [
        "\n",
        "\tCombined with icc, the Incomplete Cholesky factorization.\n",
        "\t\tCompleted the first linear solve in 0.00115 s."
       ]
      },
      {
       "output_type": "stream",
       "stream": "stdout",
       "text": [
        "\n",
        "\tCombined with sor, the Successive over-relaxation.\n",
        "\t\tCompleted the first linear solve in 0.00113 s."
       ]
      },
      {
       "output_type": "stream",
       "stream": "stdout",
       "text": [
        "\n",
        "\tCombined with jacobi, the Jacobi iteration.\n",
        "\t\tCompleted the first linear solve in 0.00124 s."
       ]
      },
      {
       "output_type": "stream",
       "stream": "stdout",
       "text": [
        "\n",
        "\tCombined with bjacobi, the Block Jacobi iteration.\n",
        "\t\tCompleted the first linear solve in 0.00134 s."
       ]
      },
      {
       "output_type": "stream",
       "stream": "stdout",
       "text": [
        "\n",
        "\tCombined with additive_schwarz, the Additive Schwarz.\n",
        "\t\tCompleted the first linear solve in 0.00148 s."
       ]
      },
      {
       "output_type": "stream",
       "stream": "stdout",
       "text": [
        "\n",
        "\tCombined with amg, the Algebraic multigrid.\n",
        "\t\tFailed to complete."
       ]
      },
      {
       "output_type": "stream",
       "stream": "stdout",
       "text": [
        "\n",
        "\tCombined with hypre_amg, the Hypre algebraic multigrid (BoomerAMG).\n",
        "\t\tFailed to complete."
       ]
      },
      {
       "output_type": "stream",
       "stream": "stdout",
       "text": [
        "\n",
        "\tCombined with hypre_euclid, the Hypre parallel incomplete LU factorization.\n",
        "\t\tCompleted the first linear solve in 0.00546 s."
       ]
      },
      {
       "output_type": "stream",
       "stream": "stdout",
       "text": [
        "\n",
        "\tCombined with hypre_parasails, the Hypre parallel sparse approximate inverse.\n",
        "\t\tFailed to complete."
       ]
      },
      {
       "output_type": "stream",
       "stream": "stdout",
       "text": [
        "\n",
        "Using gmres, the Generalized minimal residual method.\n",
        "\tCombined with default, the default preconditioner.\n",
        "\t\tCompleted the first linear solve in 0.00131 s."
       ]
      },
      {
       "output_type": "stream",
       "stream": "stdout",
       "text": [
        "\n",
        "\tCombined with none, the No preconditioner.\n",
        "\t\tCompleted the first linear solve in 0.00275 s."
       ]
      },
      {
       "output_type": "stream",
       "stream": "stdout",
       "text": [
        "\n",
        "\tCombined with ilu, the Incomplete LU factorization.\n",
        "\t\tCompleted the first linear solve in 0.00133 s."
       ]
      },
      {
       "output_type": "stream",
       "stream": "stdout",
       "text": [
        "\n",
        "\tCombined with icc, the Incomplete Cholesky factorization.\n",
        "\t\tCompleted the first linear solve in 0.00134 s."
       ]
      },
      {
       "output_type": "stream",
       "stream": "stdout",
       "text": [
        "\n",
        "\tCombined with sor, the Successive over-relaxation.\n",
        "\t\tCompleted the first linear solve in 0.0014 s."
       ]
      },
      {
       "output_type": "stream",
       "stream": "stdout",
       "text": [
        "\n",
        "\tCombined with jacobi, the Jacobi iteration.\n",
        "\t\tCompleted the first linear solve in 0.00219 s."
       ]
      },
      {
       "output_type": "stream",
       "stream": "stdout",
       "text": [
        "\n",
        "\tCombined with bjacobi, the Block Jacobi iteration.\n",
        "\t\tCompleted the first linear solve in 0.00158 s."
       ]
      },
      {
       "output_type": "stream",
       "stream": "stdout",
       "text": [
        "\n",
        "\tCombined with additive_schwarz, the Additive Schwarz.\n",
        "\t\tCompleted the first linear solve in 0.00167 s."
       ]
      },
      {
       "output_type": "stream",
       "stream": "stdout",
       "text": [
        "\n",
        "\tCombined with amg, the Algebraic multigrid.\n",
        "\t\tCompleted the first linear solve in 0.0109 s."
       ]
      },
      {
       "output_type": "stream",
       "stream": "stdout",
       "text": [
        "\n",
        "\tCombined with hypre_amg, the Hypre algebraic multigrid (BoomerAMG).\n",
        "\t\tCompleted the first linear solve in 0.0104 s."
       ]
      },
      {
       "output_type": "stream",
       "stream": "stdout",
       "text": [
        "\n",
        "\tCombined with hypre_euclid, the Hypre parallel incomplete LU factorization.\n",
        "\t\tCompleted the first linear solve in 0.0055 s."
       ]
      },
      {
       "output_type": "stream",
       "stream": "stdout",
       "text": [
        "\n",
        "\tCombined with hypre_parasails, the Hypre parallel sparse approximate inverse.\n",
        "\t\tCompleted the first linear solve in 0.0359 s."
       ]
      },
      {
       "output_type": "stream",
       "stream": "stdout",
       "text": [
        "\n",
        "Using minres, the Minimal residual method.\n",
        "\tCombined with default, the default preconditioner.\n",
        "\t\tCompleted the first linear solve in 0.00129 s."
       ]
      },
      {
       "output_type": "stream",
       "stream": "stdout",
       "text": [
        "\n",
        "\tCombined with none, the No preconditioner.\n",
        "\t\tCompleted the first linear solve in 0.00185 s."
       ]
      },
      {
       "output_type": "stream",
       "stream": "stdout",
       "text": [
        "\n",
        "\tCombined with ilu, the Incomplete LU factorization.\n",
        "\t\tCompleted the first linear solve in 0.00129 s."
       ]
      },
      {
       "output_type": "stream",
       "stream": "stdout",
       "text": [
        "\n",
        "\tCombined with icc, the Incomplete Cholesky factorization.\n",
        "\t\tCompleted the first linear solve in 0.00119 s."
       ]
      },
      {
       "output_type": "stream",
       "stream": "stdout",
       "text": [
        "\n",
        "\tCombined with sor, the Successive over-relaxation.\n",
        "\t\tCompleted the first linear solve in 0.00126 s."
       ]
      },
      {
       "output_type": "stream",
       "stream": "stdout",
       "text": [
        "\n",
        "\tCombined with jacobi, the Jacobi iteration.\n",
        "\t\tCompleted the first linear solve in 0.00198 s."
       ]
      },
      {
       "output_type": "stream",
       "stream": "stdout",
       "text": [
        "\n",
        "\tCombined with bjacobi, the Block Jacobi iteration.\n",
        "\t\tCompleted the first linear solve in 0.0015 s."
       ]
      },
      {
       "output_type": "stream",
       "stream": "stdout",
       "text": [
        "\n",
        "\tCombined with additive_schwarz, the Additive Schwarz.\n",
        "\t\tCompleted the first linear solve in 0.00165 s."
       ]
      },
      {
       "output_type": "stream",
       "stream": "stdout",
       "text": [
        "\n",
        "\tCombined with amg, the Algebraic multigrid.\n",
        "\t\tCompleted the first linear solve in 0.00999 s."
       ]
      },
      {
       "output_type": "stream",
       "stream": "stdout",
       "text": [
        "\n",
        "\tCombined with hypre_amg, the Hypre algebraic multigrid (BoomerAMG).\n",
        "\t\tCompleted the first linear solve in 0.0106 s."
       ]
      },
      {
       "output_type": "stream",
       "stream": "stdout",
       "text": [
        "\n",
        "\tCombined with hypre_euclid, the Hypre parallel incomplete LU factorization.\n",
        "\t\tCompleted the first linear solve in 0.00557 s."
       ]
      },
      {
       "output_type": "stream",
       "stream": "stdout",
       "text": [
        "\n",
        "\tCombined with hypre_parasails, the Hypre parallel sparse approximate inverse.\n",
        "\t\tFailed to complete."
       ]
      },
      {
       "output_type": "stream",
       "stream": "stdout",
       "text": [
        "\n",
        "Using tfqmr, the Transpose-free quasi-minimal residual method.\n",
        "\tCombined with default, the default preconditioner.\n",
        "\t\tCompleted the first linear solve in 0.00138 s."
       ]
      },
      {
       "output_type": "stream",
       "stream": "stdout",
       "text": [
        "\n",
        "\tCombined with none, the No preconditioner.\n",
        "\t\tCompleted the first linear solve in 0.00191 s."
       ]
      },
      {
       "output_type": "stream",
       "stream": "stdout",
       "text": [
        "\n",
        "\tCombined with ilu, the Incomplete LU factorization.\n",
        "\t\tCompleted the first linear solve in 0.00137 s."
       ]
      },
      {
       "output_type": "stream",
       "stream": "stdout",
       "text": [
        "\n",
        "\tCombined with icc, the Incomplete Cholesky factorization.\n",
        "\t\tCompleted the first linear solve in 0.00146 s."
       ]
      },
      {
       "output_type": "stream",
       "stream": "stdout",
       "text": [
        "\n",
        "\tCombined with sor, the Successive over-relaxation.\n",
        "\t\tCompleted the first linear solve in 0.00134 s."
       ]
      },
      {
       "output_type": "stream",
       "stream": "stdout",
       "text": [
        "\n",
        "\tCombined with jacobi, the Jacobi iteration.\n",
        "\t\tCompleted the first linear solve in 0.00155 s."
       ]
      },
      {
       "output_type": "stream",
       "stream": "stdout",
       "text": [
        "\n",
        "\tCombined with bjacobi, the Block Jacobi iteration.\n",
        "\t\tCompleted the first linear solve in 0.00156 s."
       ]
      },
      {
       "output_type": "stream",
       "stream": "stdout",
       "text": [
        "\n",
        "\tCombined with additive_schwarz, the Additive Schwarz.\n",
        "\t\tCompleted the first linear solve in 0.00174 s."
       ]
      },
      {
       "output_type": "stream",
       "stream": "stdout",
       "text": [
        "\n",
        "\tCombined with amg, the Algebraic multigrid.\n",
        "\t\tFailed to complete."
       ]
      },
      {
       "output_type": "stream",
       "stream": "stdout",
       "text": [
        "\n",
        "\tCombined with hypre_amg, the Hypre algebraic multigrid (BoomerAMG).\n",
        "\t\tFailed to complete."
       ]
      },
      {
       "output_type": "stream",
       "stream": "stdout",
       "text": [
        "\n",
        "\tCombined with hypre_euclid, the Hypre parallel incomplete LU factorization.\n",
        "\t\tCompleted the first linear solve in 0.00551 s."
       ]
      },
      {
       "output_type": "stream",
       "stream": "stdout",
       "text": [
        "\n",
        "\tCombined with hypre_parasails, the Hypre parallel sparse approximate inverse.\n",
        "\t\tCompleted the first linear solve in 0.0352 s."
       ]
      },
      {
       "output_type": "stream",
       "stream": "stdout",
       "text": [
        "\n",
        "Using richardson, the Richardson method.\n",
        "\tCombined with default, the default preconditioner.\n",
        "\t\tCompleted the first linear solve in 0.00367 s."
       ]
      },
      {
       "output_type": "stream",
       "stream": "stdout",
       "text": [
        "\n",
        "\tCombined with none, the No preconditioner.\n",
        "\t\tFailed to complete."
       ]
      },
      {
       "output_type": "stream",
       "stream": "stdout",
       "text": [
        "\n",
        "\tCombined with ilu, the Incomplete LU factorization.\n",
        "\t\tCompleted the first linear solve in 0.00357 s."
       ]
      },
      {
       "output_type": "stream",
       "stream": "stdout",
       "text": [
        "\n",
        "\tCombined with icc, the Incomplete Cholesky factorization.\n",
        "\t\tCompleted the first linear solve in 0.00371 s."
       ]
      },
      {
       "output_type": "stream",
       "stream": "stdout",
       "text": [
        "\n",
        "\tCombined with sor, the Successive over-relaxation.\n",
        "\t\tCompleted the first linear solve in 0.359 s."
       ]
      },
      {
       "output_type": "stream",
       "stream": "stdout",
       "text": [
        "\n",
        "\tCombined with jacobi, the Jacobi iteration.\n",
        "\t\tCompleted the first linear solve in 0.0109 s."
       ]
      },
      {
       "output_type": "stream",
       "stream": "stdout",
       "text": [
        "\n",
        "\tCombined with bjacobi, the Block Jacobi iteration.\n",
        "\t\tCompleted the first linear solve in 0.00407 s."
       ]
      },
      {
       "output_type": "stream",
       "stream": "stdout",
       "text": [
        "\n",
        "\tCombined with additive_schwarz, the Additive Schwarz.\n",
        "\t\tCompleted the first linear solve in 0.00428 s."
       ]
      },
      {
       "output_type": "stream",
       "stream": "stdout",
       "text": [
        "\n",
        "\tCombined with amg, the Algebraic multigrid.\n",
        "\t\tCompleted the first linear solve in 0.0104 s."
       ]
      },
      {
       "output_type": "stream",
       "stream": "stdout",
       "text": [
        "\n",
        "\tCombined with hypre_amg, the Hypre algebraic multigrid (BoomerAMG).\n",
        "\t\tCompleted the first linear solve in 0.0105 s."
       ]
      },
      {
       "output_type": "stream",
       "stream": "stdout",
       "text": [
        "\n",
        "\tCombined with hypre_euclid, the Hypre parallel incomplete LU factorization.\n",
        "\t\tCompleted the first linear solve in 0.00787 s."
       ]
      },
      {
       "output_type": "stream",
       "stream": "stdout",
       "text": [
        "\n",
        "\tCombined with hypre_parasails, the Hypre parallel sparse approximate inverse.\n",
        "\t\tCompleted the first linear solve in 0.044 s."
       ]
      },
      {
       "output_type": "stream",
       "stream": "stdout",
       "text": [
        "\n",
        "Using bicgstab, the Biconjugate gradient stabilized method.\n",
        "\tCombined with default, the default preconditioner.\n",
        "\t\tCompleted the first linear solve in 0.00139 s."
       ]
      },
      {
       "output_type": "stream",
       "stream": "stdout",
       "text": [
        "\n",
        "\tCombined with none, the No preconditioner.\n",
        "\t\tCompleted the first linear solve in 0.00244 s."
       ]
      },
      {
       "output_type": "stream",
       "stream": "stdout",
       "text": [
        "\n",
        "\tCombined with ilu, the Incomplete LU factorization.\n",
        "\t\tCompleted the first linear solve in 0.00136 s."
       ]
      },
      {
       "output_type": "stream",
       "stream": "stdout",
       "text": [
        "\n",
        "\tCombined with icc, the Incomplete Cholesky factorization.\n",
        "\t\tCompleted the first linear solve in 0.00129 s."
       ]
      },
      {
       "output_type": "stream",
       "stream": "stdout",
       "text": [
        "\n",
        "\tCombined with sor, the Successive over-relaxation.\n",
        "\t\tCompleted the first linear solve in 0.00139 s."
       ]
      },
      {
       "output_type": "stream",
       "stream": "stdout",
       "text": [
        "\n",
        "\tCombined with jacobi, the Jacobi iteration.\n",
        "\t\tCompleted the first linear solve in 0.00188 s."
       ]
      },
      {
       "output_type": "stream",
       "stream": "stdout",
       "text": [
        "\n",
        "\tCombined with bjacobi, the Block Jacobi iteration.\n",
        "\t\tCompleted the first linear solve in 0.00153 s."
       ]
      },
      {
       "output_type": "stream",
       "stream": "stdout",
       "text": [
        "\n",
        "\tCombined with additive_schwarz, the Additive Schwarz.\n",
        "\t\tCompleted the first linear solve in 0.00168 s."
       ]
      },
      {
       "output_type": "stream",
       "stream": "stdout",
       "text": [
        "\n",
        "\tCombined with amg, the Algebraic multigrid.\n",
        "\t\tCompleted the first linear solve in 0.0199 s."
       ]
      },
      {
       "output_type": "stream",
       "stream": "stdout",
       "text": [
        "\n",
        "\tCombined with hypre_amg, the Hypre algebraic multigrid (BoomerAMG).\n",
        "\t\tCompleted the first linear solve in 0.0201 s."
       ]
      },
      {
       "output_type": "stream",
       "stream": "stdout",
       "text": [
        "\n",
        "\tCombined with hypre_euclid, the Hypre parallel incomplete LU factorization.\n",
        "\t\tCompleted the first linear solve in 0.00558 s."
       ]
      },
      {
       "output_type": "stream",
       "stream": "stdout",
       "text": [
        "\n",
        "\tCombined with hypre_parasails, the Hypre parallel sparse approximate inverse.\n",
        "\t\tCompleted the first linear solve in 0.0348 s."
       ]
      },
      {
       "output_type": "stream",
       "stream": "stdout",
       "text": [
        "\n"
       ]
      }
     ],
     "prompt_number": 7
    },
    {
     "cell_type": "markdown",
     "metadata": {},
     "source": [
      "We'll visualise the data to highlight the differences in runtime between the solvers and to see how much the preconditioners help."
     ]
    },
    {
     "cell_type": "code",
     "collapsed": false,
     "input": [
      "fig = plt.figure(figsize=(25, 10))\n",
      "ax = fig.add_subplot(111)\n",
      "solvers = [result[0]['method'] for result in results]\n",
      "times_no = [result[1]['time'] for result in results]\n",
      "times_default = [result[0]['time'] for result in results]\n",
      "times_fastest = [min(result, key=lambda x: x['time'])['time'] for result in results]\n",
      "precs_fastest = [min(result, key=lambda x: x['time'])['preconditioner'] for result in results]\n",
      "times_slowest = [max(result, key=lambda x: x['time'])['time'] for result in results]\n",
      "precs_slowest = [max(result, key=lambda x: x['time'])['preconditioner'] for result in results]\n",
      "print times_fastest\n",
      "width = 0.2\n",
      "ind = np.arange(7)\n",
      "rects_fastest = ax.bar(ind, times_fastest, width, color=\"green\", label=\"fastest prec.\")\n",
      "ax.bar(width+ind, times_default, width, color=(0.3, 0.3, 0.3), label=\"default prec.\")\n",
      "ax.bar(2*width+ind, times_no, width, color=(0.8, 0.8, 0.8), label=\"no prec.\")\n",
      "rects_slowest = ax.bar(3*width+ind, times_slowest, width, color=\"red\", alpha=0.8, label=\"slowest prec.\")\n",
      "ax.set_title(\"Time by Solver and Preconditioner\")\n",
      "ax.set_xlabel(\"Solver\")\n",
      "ax.set_ylabel(\"Time (s)\")\n",
      "ax.set_ylim([0, 0.05])\n",
      "ax.legend()\n",
      "ax.set_xticks(np.arange(7)+2*width)\n",
      "xtickNames = plt.setp(ax, xticklabels=solvers)\n",
      "plt.setp(xtickNames, rotation=45)\n",
      "\n",
      "for i, rect in enumerate(rects_fastest):\n",
      "    height = rect.get_height()\n",
      "    ax.text(rect.get_x()+rect.get_width()/2., 1.0*height+0.001, precs_fastest[i], ha='center', va='bottom', rotation=90)\n",
      "plt.show()"
     ],
     "language": "python",
     "metadata": {},
     "outputs": [
      {
       "output_type": "stream",
       "stream": "stdout",
       "text": [
        "[0.0013248920440673828, 0.001116037368774414, 0.0013089179992675781, 0.001190185546875, 0.0013420581817626953, 0.0035741329193115234, 0.0012919902801513672]\n"
       ]
      },
      {
       "output_type": "display_data",
       "png": "[encoded data removed]"
      }
     ],
     "prompt_number": 129
    },
    {
     "cell_type": "markdown",
     "metadata": {},
     "source": [
      "The default preconditioner is a decent choice, while using a badly chosen preconditioner is worse than using none at all."
     ]
    }
   ],
   "metadata": {}
  }
 ]
}