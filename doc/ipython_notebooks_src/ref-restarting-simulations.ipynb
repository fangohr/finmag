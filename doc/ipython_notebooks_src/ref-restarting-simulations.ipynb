{
 "metadata": {
  "name": "ref-restarting-simulations"
 },
 "nbformat": 3,
 "nbformat_minor": 0,
 "worksheets": [
  {
   "cells": [
    {
     "cell_type": "markdown",
     "metadata": {},
     "source": [
      "## Restarting a simulation"
     ]
    },
    {
     "cell_type": "markdown",
     "metadata": {},
     "source": [
      "### Saving restart data"
     ]
    },
    {
     "cell_type": "markdown",
     "metadata": {},
     "source": [
      "We start by creating a simulation object sim1:"
     ]
    },
    {
     "cell_type": "code",
     "collapsed": false,
     "input": [
      "import finmag\n",
      "sim = finmag.example.barmini()\n",
      "sim.run_until(10e-12)"
     ],
     "language": "python",
     "metadata": {},
     "outputs": [
      {
       "output_type": "stream",
       "stream": "stderr",
       "text": [
        "[2013-01-18 10:40:12] INFO: Finmag logging output will be appended to file: '/home/fangohr/.finmag/global.log'\n"
       ]
      },
      {
       "output_type": "stream",
       "stream": "stderr",
       "text": [
        "[2013-01-18 10:40:12] DEBUG:               Finmag: 2713:3bc5e85b75755fee585722a114697293dbd6ab1f\n"
       ]
      },
      {
       "output_type": "stream",
       "stream": "stderr",
       "text": [
        "[2013-01-18 10:40:12] DEBUG:               Dolfin: 1.0.0\n"
       ]
      },
      {
       "output_type": "stream",
       "stream": "stderr",
       "text": [
        "[2013-01-18 10:40:12] DEBUG:           Matplotlib: 1.2.0\n"
       ]
      },
      {
       "output_type": "stream",
       "stream": "stderr",
       "text": [
        "[2013-01-18 10:40:12] DEBUG:                Numpy: 1.6.1\n"
       ]
      },
      {
       "output_type": "stream",
       "stream": "stderr",
       "text": [
        "[2013-01-18 10:40:12] DEBUG:                Scipy: 0.9.0\n"
       ]
      },
      {
       "output_type": "stream",
       "stream": "stderr",
       "text": [
        "[2013-01-18 10:40:12] DEBUG:              IPython: 0.13.1\n"
       ]
      },
      {
       "output_type": "stream",
       "stream": "stderr",
       "text": [
        "[2013-01-18 10:40:12] DEBUG:               Python: 2.7.3\n"
       ]
      },
      {
       "output_type": "stream",
       "stream": "stderr",
       "text": [
        "[2013-01-18 10:40:12] DEBUG:             Paraview: 3.14.1-1ubuntu1\n"
       ]
      },
      {
       "output_type": "stream",
       "stream": "stderr",
       "text": [
        "[2013-01-18 10:40:12] DEBUG:             Sundials: 2.4.0-5\n"
       ]
      },
      {
       "output_type": "stream",
       "stream": "stderr",
       "text": [
        "[2013-01-18 10:40:12] DEBUG:         Boost-Python: 1.46.1\n"
       ]
      },
      {
       "output_type": "stream",
       "stream": "stderr",
       "text": [
        "[2013-01-18 10:40:12] DEBUG:                Linux: Ubuntu 12.04.1 LTS\n"
       ]
      },
      {
       "output_type": "stream",
       "stream": "stderr",
       "text": [
        "[2013-01-18 10:40:12] INFO: Finmag logging output will be written to file: '/home/fangohr/hg/finmag/doc/ipython_notebooks_src/barmini.log' (any old content will be overwritten).\n"
       ]
      },
      {
       "output_type": "stream",
       "stream": "stderr",
       "text": [
        "[2013-01-18 10:40:12] DEBUG: Creating DataWriter for file 'barmini.ndt'\n"
       ]
      },
      {
       "output_type": "stream",
       "stream": "stderr",
       "text": [
        "[2013-01-18 10:40:12] INFO: Creating Sim object 'barmini' (rank=0/1) [Fri Jan 18 10:40:12 2013].\n"
       ]
      },
      {
       "output_type": "stream",
       "stream": "stderr",
       "text": [
        "[2013-01-18 10:40:12] INFO: <Mesh of topological dimension 3 (tetrahedra) with 45 vertices and 96 cells, ordered>\n"
       ]
      },
      {
       "output_type": "stream",
       "stream": "stderr",
       "text": [
        "[2013-01-18 10:40:12] DEBUG: Creating LLG object.\n"
       ]
      },
      {
       "output_type": "stream",
       "stream": "stderr",
       "text": [
        "[2013-01-18 10:40:12] DEBUG: Creating Exchange object with method box-matrix-petsc, in Jacobian.\n"
       ]
      },
      {
       "output_type": "stream",
       "stream": "stderr",
       "text": [
        "[2013-01-18 10:40:12] DEBUG: Adding interaction <finmag.energies.exchange.Exchange object at 0x450fb50> to simulation 'barmini'\n"
       ]
      },
      {
       "output_type": "stream",
       "stream": "stderr",
       "text": [
        "[2013-01-18 10:40:13] DEBUG: Creating Demag object with FK solver.\n"
       ]
      },
      {
       "output_type": "stream",
       "stream": "stderr",
       "text": [
        "[2013-01-18 10:40:13] DEBUG: Adding interaction <finmag.energies.demag.demag.Demag object at 0x4514dd0> to simulation 'barmini'\n"
       ]
      },
      {
       "output_type": "stream",
       "stream": "stderr",
       "text": [
        "[2013-01-18 10:40:13] DEBUG: Demag: Poisson solver parameters.\n",
        "    {'maximum_iterations': 10000, 'divergence_limit': 10000.0, 'relative_tolerance': 1e-06, 'gmres':\n",
        "    {'restart': 30}, 'preconditioner': {'shift_nonzero': 0.0, 'reuse': False,\n",
        "    'same_nonzero_pattern': False, 'ilu': {'fill_level': 0}, 'schwarz': {'overlap': 1}, 'report':\n",
        "    False}, 'error_on_nonconvergence': True, 'monitor_convergence': False, 'nonzero_initial_guess':\n",
        "    False, 'report': True, 'absolute_tolerance': 1e-15}\n"
       ]
      },
      {
       "output_type": "stream",
       "stream": "stderr",
       "text": [
        "[2013-01-18 10:40:13] DEBUG: Demag: Laplace solver parameters.\n",
        "    {'maximum_iterations': 10000, 'divergence_limit': 10000.0, 'relative_tolerance': 1e-06, 'gmres':\n",
        "    {'restart': 30}, 'preconditioner': {'shift_nonzero': 0.0, 'reuse': False,\n",
        "    'same_nonzero_pattern': True, 'ilu': {'fill_level': 0}, 'schwarz': {'overlap': 1}, 'report':\n",
        "    False}, 'error_on_nonconvergence': True, 'monitor_convergence': False, 'nonzero_initial_guess':\n",
        "    False, 'report': True, 'absolute_tolerance': 1e-15}\n"
       ]
      },
      {
       "output_type": "stream",
       "stream": "stderr",
       "text": [
        "[2013-01-18 10:40:13] DEBUG: Creating integrator with backend sundials.\n"
       ]
      },
      {
       "output_type": "stream",
       "stream": "stderr",
       "text": [
        "[2013-01-18 10:40:13] DEBUG: Integrating dynamics up to t = 1e-11\n"
       ]
      },
      {
       "output_type": "stream",
       "stream": "stderr",
       "text": [
        "[2013-01-18 10:40:13] DEBUG: Saving average field values for simulation 'barmini'.\n"
       ]
      },
      {
       "output_type": "stream",
       "stream": "stdout",
       "text": [
        "paraview version 3.14.1, Date: 2012-02-17\n"
       ]
      }
     ],
     "prompt_number": 1
    },
    {
     "cell_type": "markdown",
     "metadata": {},
     "source": [
      "To be able to restart the simulation from a particular point, we need to save the magnetisation at that time before:"
     ]
    },
    {
     "cell_type": "code",
     "collapsed": false,
     "input": [
      "finmag.util.restart.save_restart_data(sim)"
     ],
     "language": "python",
     "metadata": {},
     "outputs": [
      {
       "output_type": "stream",
       "stream": "stderr",
       "text": [
        "[2013-01-18 10:40:19] DEBUG: Have saved restart data at t=1e-11 to barmini-restart.npz (sim.name=barmini)\n"
       ]
      }
     ],
     "prompt_number": 2
    },
    {
     "cell_type": "markdown",
     "metadata": {},
     "source": [
      "We can see from the message that the filename ``barmini-restart.npz`` has been chosen. This is the *canonical* filename, composed of\n",
      "\n",
      "- the simulation name, and\n",
      "- the ``-restart`` and \n",
      "- the default extension ``.npz`` for multiple numpy arrays saved as a zipped file\n",
      "\n",
      "For completeness the simulation name is:"
     ]
    },
    {
     "cell_type": "code",
     "collapsed": false,
     "input": [
      "print(sim.name)"
     ],
     "language": "python",
     "metadata": {},
     "outputs": [
      {
       "output_type": "stream",
       "stream": "stdout",
       "text": [
        "barmini\n"
       ]
      }
     ],
     "prompt_number": 3
    },
    {
     "cell_type": "markdown",
     "metadata": {},
     "source": [
      "Let us also save the magnetisation at this point in time."
     ]
    },
    {
     "cell_type": "code",
     "collapsed": false,
     "input": [
      "m_10em12 = sim.m"
     ],
     "language": "python",
     "metadata": {},
     "outputs": [],
     "prompt_number": 4
    },
    {
     "cell_type": "markdown",
     "metadata": {},
     "source": [
      "We can also choose any filename we like (although we need to stick to the ``.npz`` extension), for example"
     ]
    },
    {
     "cell_type": "code",
     "collapsed": false,
     "input": [
      "finmag.util.restart.save_restart_data(sim, filename=\"my-special-state.npz\")"
     ],
     "language": "python",
     "metadata": {},
     "outputs": [
      {
       "output_type": "stream",
       "stream": "stderr",
       "text": [
        "[2013-01-18 10:40:39] DEBUG: Have saved restart data at t=1e-11 to my-special-state.npz (sim.name=barmini)\n"
       ]
      }
     ],
     "prompt_number": 5
    },
    {
     "cell_type": "markdown",
     "metadata": {},
     "source": [
      "And show the average component values for future reference"
     ]
    },
    {
     "cell_type": "code",
     "collapsed": false,
     "input": [
      "print(\"t=%s, <m>=%s\" % (sim.t, sim.m_average))"
     ],
     "language": "python",
     "metadata": {},
     "outputs": [
      {
       "output_type": "stream",
       "stream": "stdout",
       "text": [
        "t=1e-11, <m>=[ 0.60497229  0.18617598  0.77415633]\n"
       ]
      }
     ],
     "prompt_number": 6
    },
    {
     "cell_type": "markdown",
     "metadata": {},
     "source": [
      "Then carry on with the time integration:"
     ]
    },
    {
     "cell_type": "code",
     "collapsed": false,
     "input": [
      "sim.run_until(100e-12)\n",
      "print(\"t=%s, <m>=%s\" % (sim.t, sim.m_average))"
     ],
     "language": "python",
     "metadata": {},
     "outputs": [
      {
       "output_type": "stream",
       "stream": "stderr",
       "text": [
        "[2013-01-18 10:40:44] DEBUG: Integrating dynamics up to t = 1e-10\n"
       ]
      },
      {
       "output_type": "stream",
       "stream": "stderr",
       "text": [
        "[2013-01-18 10:40:45] DEBUG: Saving average field values for simulation 'barmini'.\n"
       ]
      },
      {
       "output_type": "stream",
       "stream": "stdout",
       "text": [
        "t=1e-10, <m>=[-0.11558417 -0.06512942  0.99115748]\n"
       ]
      }
     ],
     "prompt_number": 7
    },
    {
     "cell_type": "markdown",
     "metadata": {},
     "source": [
      "We know imagine that we need to restart this run, or create another simulation that continues at the point of t=10e-12 where we have saved our restart snapshot:"
     ]
    },
    {
     "cell_type": "markdown",
     "metadata": {},
     "source": [
      "### Restart "
     ]
    },
    {
     "cell_type": "markdown",
     "metadata": {},
     "source": [
      "Imagine we need to go back to t=10e-12 and the corresponding magnetisation configuration. We can use:"
     ]
    },
    {
     "cell_type": "code",
     "collapsed": false,
     "input": [
      "sim.restart()"
     ],
     "language": "python",
     "metadata": {},
     "outputs": [
      {
       "output_type": "stream",
       "stream": "stderr",
       "text": [
        "[2013-01-15 20:46:44] DEBUG: About to load restart data from barmini-restart.npz \n"
       ]
      },
      {
       "output_type": "stream",
       "stream": "stderr",
       "text": [
        "[2013-01-15 20:46:44] DEBUG: Creating integrator with backend sundials.\n"
       ]
      },
      {
       "output_type": "stream",
       "stream": "stderr",
       "text": [
        "[2013-01-15 20:46:44] INFO: llg_integrator: kwds = {'t0': 1e-11}\n"
       ]
      },
      {
       "output_type": "stream",
       "stream": "stderr",
       "text": [
        "[2013-01-15 20:46:44] INFO: Reloaded and set m (<m>=[ 0.60497229  0.18617598  0.77415633]) and time=1e-11 from barmini-restart.npz\n"
       ]
      }
     ],
     "prompt_number": 8
    },
    {
     "cell_type": "markdown",
     "metadata": {},
     "source": [
      "If the ``restart`` method is not given any filename, it will look for the canonical restart name of its simulation object.\n",
      "\n",
      "And just to convince us:"
     ]
    },
    {
     "cell_type": "code",
     "collapsed": false,
     "input": [
      "print(\"time = %s \" % sim.t)\n",
      "print(\"<m> = %s\" % sim.m_average)\n",
      "assert (sim.m == m_10em12).all  # check that this identical to before saving\n"
     ],
     "language": "python",
     "metadata": {},
     "outputs": [
      {
       "output_type": "stream",
       "stream": "stdout",
       "text": [
        "time = 1e-11 \n",
        "<m> = [ 0.60497229  0.18617598  0.77415633]\n"
       ]
      }
     ],
     "prompt_number": 9
    },
    {
     "cell_type": "markdown",
     "metadata": {},
     "source": [
      "If we want to restart from a different configuration (i.e. not from the canonical filename, we need to provide a restart file name):"
     ]
    },
    {
     "cell_type": "code",
     "collapsed": false,
     "input": [
      "sim.restart('my-special-state.npz')"
     ],
     "language": "python",
     "metadata": {},
     "outputs": [
      {
       "output_type": "stream",
       "stream": "stderr",
       "text": [
        "[2013-01-15 20:46:44] DEBUG: About to load restart data from my-special-state.npz \n"
       ]
      },
      {
       "output_type": "stream",
       "stream": "stderr",
       "text": [
        "[2013-01-15 20:46:44] DEBUG: Creating integrator with backend sundials.\n"
       ]
      },
      {
       "output_type": "stream",
       "stream": "stderr",
       "text": [
        "[2013-01-15 20:46:44] INFO: llg_integrator: kwds = {'t0': 1e-11}\n"
       ]
      },
      {
       "output_type": "stream",
       "stream": "stderr",
       "text": [
        "[2013-01-15 20:46:44] INFO: Reloaded and set m (<m>=[ 0.60497229  0.18617598  0.77415633]) and time=1e-11 from my-special-state.npz\n"
       ]
      }
     ],
     "prompt_number": 10
    },
    {
     "cell_type": "markdown",
     "metadata": {},
     "source": [
      "If we want to use the same magnetisation, but change the point in time at which we start the integration, we can use the optional ``t0`` parameter:"
     ]
    },
    {
     "cell_type": "code",
     "collapsed": false,
     "input": [
      "sim.restart('my-special-state.npz', t0=0.42e-12)"
     ],
     "language": "python",
     "metadata": {},
     "outputs": [
      {
       "output_type": "stream",
       "stream": "stderr",
       "text": [
        "[2013-01-15 20:46:44] DEBUG: About to load restart data from my-special-state.npz \n"
       ]
      },
      {
       "output_type": "stream",
       "stream": "stderr",
       "text": [
        "[2013-01-15 20:46:44] DEBUG: Creating integrator with backend sundials.\n"
       ]
      },
      {
       "output_type": "stream",
       "stream": "stderr",
       "text": [
        "[2013-01-15 20:46:44] INFO: llg_integrator: kwds = {'t0': 4.2e-13}\n"
       ]
      },
      {
       "output_type": "stream",
       "stream": "stderr",
       "text": [
        "[2013-01-15 20:46:44] INFO: Reloaded and set m (<m>=[ 0.60497229  0.18617598  0.77415633]) and time=4.2e-13 from my-special-state.npz\n"
       ]
      }
     ],
     "prompt_number": 11
    },
    {
     "cell_type": "code",
     "collapsed": false,
     "input": [
      "print(\"t=%s, <m>=%s\" % (sim.t, sim.m_average))"
     ],
     "language": "python",
     "metadata": {},
     "outputs": [
      {
       "output_type": "stream",
       "stream": "stdout",
       "text": [
        "t=4.2e-13, <m>=[ 0.60497229  0.18617598  0.77415633]\n"
       ]
      }
     ],
     "prompt_number": 12
    },
    {
     "cell_type": "markdown",
     "metadata": {},
     "source": [
      "### Creating a new simulation from saved restart file"
     ]
    },
    {
     "cell_type": "markdown",
     "metadata": {},
     "source": [
      "To create a new simulation that starts from a saved configurtion, we need to create the simulation object (and we have to use exactly the same mesh -- there is no check for this at the moment), and can then use the restart method as before:"
     ]
    },
    {
     "cell_type": "code",
     "collapsed": false,
     "input": [
      "import finmag\n",
      "sim2 = finmag.example.barmini()\n",
      "sim2.restart('my-special-state.npz')"
     ],
     "language": "python",
     "metadata": {},
     "outputs": [
      {
       "output_type": "stream",
       "stream": "stderr",
       "text": [
        "[2013-01-15 20:46:44] INFO: Finmag logging output will be written to file: '/home/fangohr/hg/finmag/doc/ipython_notebooks_src/barmini.log' (any old content will be overwritten).\n"
       ]
      },
      {
       "output_type": "stream",
       "stream": "stderr",
       "text": [
        "[2013-01-15 20:46:44] DEBUG: Creating DataWriter for file 'barmini.ndt'\n"
       ]
      },
      {
       "output_type": "stream",
       "stream": "stderr",
       "text": [
        "[2013-01-15 20:46:44] INFO: Creating Sim object 'barmini' (rank=0/1) [Tue Jan 15 20:46:44 2013].\n"
       ]
      },
      {
       "output_type": "stream",
       "stream": "stderr",
       "text": [
        "[2013-01-15 20:46:44] INFO: <Mesh of topological dimension 3 (tetrahedra) with 45 vertices and 96 cells, ordered>\n"
       ]
      },
      {
       "output_type": "stream",
       "stream": "stderr",
       "text": [
        "[2013-01-15 20:46:44] DEBUG: Creating LLG object.\n"
       ]
      },
      {
       "output_type": "stream",
       "stream": "stderr",
       "text": [
        "[2013-01-15 20:46:44] DEBUG: Creating Exchange object with method box-matrix-petsc, in Jacobian.\n"
       ]
      },
      {
       "output_type": "stream",
       "stream": "stderr",
       "text": [
        "[2013-01-15 20:46:44] DEBUG: Adding interaction <finmag.energies.exchange.Exchange object at 0x4280ad0> to simulation 'barmini'\n"
       ]
      },
      {
       "output_type": "stream",
       "stream": "stderr",
       "text": [
        "[2013-01-15 20:46:44] DEBUG: Creating Demag object with FK solver.\n"
       ]
      },
      {
       "output_type": "stream",
       "stream": "stderr",
       "text": [
        "[2013-01-15 20:46:44] DEBUG: Adding interaction <finmag.energies.demag.demag.Demag object at 0x424ba90> to simulation 'barmini'\n"
       ]
      },
      {
       "output_type": "stream",
       "stream": "stderr",
       "text": [
        "[2013-01-15 20:46:44] DEBUG: Demag: Poisson solver parameters.\n",
        "    {'maximum_iterations': 10000, 'divergence_limit': 10000.0, 'relative_tolerance': 1e-06, 'gmres':\n",
        "    {'restart': 30}, 'preconditioner': {'shift_nonzero': 0.0, 'reuse': False,\n",
        "    'same_nonzero_pattern': False, 'ilu': {'fill_level': 0}, 'schwarz': {'overlap': 1}, 'report':\n",
        "    False}, 'error_on_nonconvergence': True, 'monitor_convergence': False, 'nonzero_initial_guess':\n",
        "    False, 'report': True, 'absolute_tolerance': 1e-15}\n"
       ]
      },
      {
       "output_type": "stream",
       "stream": "stderr",
       "text": [
        "[2013-01-15 20:46:44] DEBUG: Demag: Laplace solver parameters.\n",
        "    {'maximum_iterations': 10000, 'divergence_limit': 10000.0, 'relative_tolerance': 1e-06, 'gmres':\n",
        "    {'restart': 30}, 'preconditioner': {'shift_nonzero': 0.0, 'reuse': False,\n",
        "    'same_nonzero_pattern': True, 'ilu': {'fill_level': 0}, 'schwarz': {'overlap': 1}, 'report':\n",
        "    False}, 'error_on_nonconvergence': True, 'monitor_convergence': False, 'nonzero_initial_guess':\n",
        "    False, 'report': True, 'absolute_tolerance': 1e-15}\n"
       ]
      },
      {
       "output_type": "stream",
       "stream": "stderr",
       "text": [
        "[2013-01-15 20:46:44] DEBUG: About to load restart data from my-special-state.npz \n"
       ]
      },
      {
       "output_type": "stream",
       "stream": "stderr",
       "text": [
        "[2013-01-15 20:46:44] DEBUG: Creating integrator with backend sundials.\n"
       ]
      },
      {
       "output_type": "stream",
       "stream": "stderr",
       "text": [
        "[2013-01-15 20:46:44] INFO: llg_integrator: kwds = {'t0': 1e-11}\n"
       ]
      },
      {
       "output_type": "stream",
       "stream": "stderr",
       "text": [
        "[2013-01-15 20:46:44] INFO: Reloaded and set m (<m>=[ 0.60497229  0.18617598  0.77415633]) and time=1e-11 from my-special-state.npz\n"
       ]
      }
     ],
     "prompt_number": 13
    },
    {
     "cell_type": "code",
     "collapsed": false,
     "input": [
      "print(\"t=%s, <m>=%s\" % (sim.t, sim.m_average))"
     ],
     "language": "python",
     "metadata": {},
     "outputs": [
      {
       "output_type": "stream",
       "stream": "stdout",
       "text": [
        "t=4.2e-13, <m>=[ 0.60497229  0.18617598  0.77415633]\n"
       ]
      }
     ],
     "prompt_number": 14
    },
    {
     "cell_type": "markdown",
     "metadata": {},
     "source": [
      "### What happens under the hood"
     ]
    },
    {
     "cell_type": "markdown",
     "metadata": {},
     "source": [
      "The npz file is a numpy compressed (zip) file that contains multiple numpy arrays. We use those to store the magnetisation and some metadata. This can be retrieved manually using:"
     ]
    },
    {
     "cell_type": "code",
     "collapsed": false,
     "input": [
      "data = finmag.util.restart.load_restart_data(\"my-special-state.npz\")"
     ],
     "language": "python",
     "metadata": {},
     "outputs": [],
     "prompt_number": 9
    },
    {
     "cell_type": "markdown",
     "metadata": {},
     "source": [
      "and will get a dictionary back:"
     ]
    },
    {
     "cell_type": "code",
     "collapsed": false,
     "input": [
      "data"
     ],
     "language": "python",
     "metadata": {},
     "outputs": [
      {
       "output_type": "pyout",
       "prompt_number": 10,
       "text": [
        "{'datetime': datetime.datetime(2013, 1, 18, 10, 40, 39, 77551),\n",
        " 'driver': 'cvode',\n",
        " 'm': array([ 0.61115021,  0.61069781,  0.61025535,  0.61138596,  0.61093579,\n",
        "        0.609461  ,  0.61155487,  0.611425  ,  0.60946569,  0.60357925,\n",
        "        0.60429686,  0.60437239,  0.60362021,  0.60452001,  0.6041633 ,\n",
        "        0.60470296,  0.60572855,  0.60518984,  0.60012674,  0.60056035,\n",
        "        0.60035661,  0.5996364 ,  0.60002845,  0.5996364 ,  0.60035661,\n",
        "        0.60056036,  0.60012674,  0.60518983,  0.60572855,  0.60470295,\n",
        "        0.60416329,  0.60452   ,  0.6036202 ,  0.60437238,  0.60429686,\n",
        "        0.60357925,  0.60946568,  0.611425  ,  0.61155487,  0.609461  ,\n",
        "        0.61093579,  0.61138595,  0.61025535,  0.6106978 ,  0.6111502 ,\n",
        "        0.19036125,  0.18947153,  0.18882083,  0.18702054,  0.188238  ,\n",
        "        0.18917864,  0.18477779,  0.18505946,  0.18621497,  0.18724859,\n",
        "        0.18568352,  0.18524823,  0.18592801,  0.18656015,  0.18718093,\n",
        "        0.18352708,  0.18407302,  0.18594634,  0.18559632,  0.1837066 ,\n",
        "        0.18306422,  0.185056  ,  0.18513167,  0.18505601,  0.18306422,\n",
        "        0.18370659,  0.18559631,  0.18594634,  0.18407301,  0.18352707,\n",
        "        0.18718092,  0.18656014,  0.185928  ,  0.18524823,  0.18568351,\n",
        "        0.18724858,  0.18621497,  0.18505946,  0.18477778,  0.18917863,\n",
        "        0.188238  ,  0.18702053,  0.18882082,  0.18947152,  0.19036124,\n",
        "        0.76828251,  0.76886197,  0.76937318,  0.76891517,  0.76897588,\n",
        "        0.76991476,  0.76932294,  0.76935848,  0.77063321,  0.77500326,\n",
        "        0.77482058,  0.77486587,  0.77528925,  0.77443584,  0.7745644 ,\n",
        "        0.77501752,  0.77408658,  0.77406022,  0.77807577,  0.77818966,\n",
        "        0.77849818,  0.77858235,  0.77826225,  0.77858235,  0.77849818,\n",
        "        0.77818966,  0.77807577,  0.77406022,  0.77408659,  0.77501753,\n",
        "        0.7745644 ,  0.77443585,  0.77528925,  0.77486588,  0.77482059,\n",
        "        0.77500327,  0.77063322,  0.76935849,  0.76932295,  0.76991477,\n",
        "        0.76897589,  0.76891518,  0.76937319,  0.76886198,  0.76828252]),\n",
        " 'simname': 'barmini',\n",
        " 'simtime': 1e-11,\n",
        " 'stats': {'hcur': 4.897932770989257e-14,\n",
        "  'hinused': 4.367299327724109e-21,\n",
        "  'hlast': 4.897932770989257e-14,\n",
        "  'netfails': 2,\n",
        "  'nfevals': 232,\n",
        "  'nlinsetups': 19,\n",
        "  'nsteps': 205,\n",
        "  'qcur': 5,\n",
        "  'qlast': 5,\n",
        "  'tcur': 1.0043232934332115e-11}}"
       ]
      }
     ],
     "prompt_number": 10
    }
   ],
   "metadata": {}
  }
 ]
}