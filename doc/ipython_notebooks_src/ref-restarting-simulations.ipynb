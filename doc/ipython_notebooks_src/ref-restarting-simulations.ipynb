{
 "metadata": {
  "name": "",
  "signature": "sha256:6a40456f0b397f0e9c5e6dea91212aac9ec093db0c3a8aab140766aa87247116"
 },
 "nbformat": 3,
 "nbformat_minor": 0,
 "worksheets": [
  {
   "cells": [
    {
     "cell_type": "markdown",
     "metadata": {},
     "source": [
      "## Restarting a simulation"
     ]
    },
    {
     "cell_type": "markdown",
     "metadata": {},
     "source": [
      "**Purpose**: Demonstrate how a configuration can be saved, and used to continue the simulation later\n",
      "\n",
      "**Other topics touched**\n",
      "\n",
      "**Author and creation date**: Hans Fangohr, Jan 2013\n",
      "\n",
      "**Modifications by**: D. Cortes on 12/09/2014\n"
     ]
    },
    {
     "cell_type": "markdown",
     "metadata": {},
     "source": [
      "### Saving restart data"
     ]
    },
    {
     "cell_type": "markdown",
     "metadata": {},
     "source": [
      "We start by creating a simulation object sim1:"
     ]
    },
    {
     "cell_type": "code",
     "collapsed": false,
     "input": [
      "import finmag\n",
      "sim = finmag.example.barmini()\n",
      "sim.run_until(10e-12)"
     ],
     "language": "python",
     "metadata": {},
     "outputs": [
      {
       "output_type": "stream",
       "stream": "stderr",
       "text": [
        "[2014-09-12 15:57:35] INFO: Finmag logging output will be appended to file: '/home/david/.finmag/global.log'\n"
       ]
      },
      {
       "output_type": "stream",
       "stream": "stderr",
       "text": [
        "[2014-09-12 15:57:35] DEBUG: Building modules in 'native'...\n"
       ]
      },
      {
       "output_type": "stream",
       "stream": "stderr",
       "text": [
        "[2014-09-12 15:57:37] DEBUG: FinMag          5450:331cc720ef8a517ed1c48eb6beccd246e9e63344\n"
       ]
      },
      {
       "output_type": "stream",
       "stream": "stderr",
       "text": [
        "[2014-09-12 15:57:37] DEBUG: Dolfin          1.4.0                Matplotlib      1.3.1               \n"
       ]
      },
      {
       "output_type": "stream",
       "stream": "stderr",
       "text": [
        "[2014-09-12 15:57:37] DEBUG: Numpy           1.8.1                Scipy           0.14.0              \n"
       ]
      },
      {
       "output_type": "stream",
       "stream": "stderr",
       "text": [
        "[2014-09-12 15:57:37] DEBUG: IPython         2.1.0                Python          2.7.6               \n"
       ]
      },
      {
       "output_type": "stream",
       "stream": "stderr",
       "text": [
        "[2014-09-12 15:57:37] DEBUG: Paraview        4.0.1-1ubuntu1       Sundials        2.5.0               \n"
       ]
      },
      {
       "output_type": "stream",
       "stream": "stderr",
       "text": [
        "[2014-09-12 15:57:37] DEBUG: Boost-Python    <unknown>            Linux           Ubuntu 14.04.1 LTS  \n"
       ]
      },
      {
       "output_type": "stream",
       "stream": "stderr",
       "text": [
        "[2014-09-12 15:57:37] DEBUG: Registering debug signal handler. Press Ctrl-Z at any time to stop execution and jump into the debugger.\n"
       ]
      },
      {
       "output_type": "stream",
       "stream": "stderr",
       "text": [
        "[2014-09-12 15:57:37] INFO: Finmag logging output will be written to file: '/home/david/hg/finmag/doc/ipython_notebooks_src/barmini.log' (any old content will be overwritten).\n"
       ]
      },
      {
       "output_type": "stream",
       "stream": "stderr",
       "text": [
        "[2014-09-12 15:57:37] DEBUG: Creating DataWriter for file 'barmini.ndt'\n"
       ]
      },
      {
       "output_type": "stream",
       "stream": "stderr",
       "text": [
        "[2014-09-12 15:57:37] INFO: Creating Sim object 'barmini' (rank=0/1).\n"
       ]
      },
      {
       "output_type": "stream",
       "stream": "stderr",
       "text": [
        "[2014-09-12 15:57:37] INFO: <Mesh of topological dimension 3 (tetrahedra) with 45 vertices and 96 cells, ordered>\n"
       ]
      },
      {
       "output_type": "stream",
       "stream": "stderr",
       "text": [
        "[2014-09-12 15:57:37] DEBUG: Creating LLG object.\n"
       ]
      },
      {
       "output_type": "stream",
       "stream": "stderr",
       "text": [
        "[2014-09-12 15:57:37] DEBUG: Creating Exchange object with method box-matrix-petsc,  in Jacobian.\n"
       ]
      },
      {
       "output_type": "stream",
       "stream": "stderr",
       "text": [
        "[2014-09-12 15:57:37] DEBUG: Adding interaction Exchange to simulation.\n"
       ]
      },
      {
       "output_type": "stream",
       "stream": "stderr",
       "text": [
        "[2014-09-12 15:57:37] DEBUG: Creating Demag object with solver 'FK'.\n"
       ]
      },
      {
       "output_type": "stream",
       "stream": "stderr",
       "text": [
        "[2014-09-12 15:57:37] DEBUG: Demag parameters now: {'phi_1': {'absolute_tolerance': 1e-06, 'relative_tolerance': 1e-06, 'maximum_iterations': 10000}, 'phi_2': {'absolute_tolerance': 1e-06, 'relative_tolerance': 1e-06, 'maximum_iterations': 10000}, 'phi_2_solver': 'default', 'phi_2_preconditioner': 'default', 'phi_1_preconditioner': 'default', 'phi_1_solver': 'default'}\n"
       ]
      },
      {
       "output_type": "stream",
       "stream": "stderr",
       "text": [
        "[2014-09-12 15:57:37] DEBUG: Adding interaction Demag to simulation.\n"
       ]
      },
      {
       "output_type": "stream",
       "stream": "stderr",
       "text": [
        "[2014-09-12 15:57:37] DEBUG: Using Krylov solver for demag.\n"
       ]
      },
      {
       "output_type": "stream",
       "stream": "stderr",
       "text": [
        "[2014-09-12 15:57:37] DEBUG: Creating macro-geometry with demag 1 x 1 tiles (dxdy: 3.0 x 3.0)\n"
       ]
      },
      {
       "output_type": "stream",
       "stream": "stderr",
       "text": [
        "[2014-09-12 15:57:37] DEBUG: Boundary element matrix uses 0.01 MB of memory.\n"
       ]
      },
      {
       "output_type": "stream",
       "stream": "stderr",
       "text": [
        "[2014-09-12 15:57:37] DEBUG: Successfully created simulation 'barmini'\n"
       ]
      },
      {
       "output_type": "stream",
       "stream": "stderr",
       "text": [
        "[2014-09-12 15:57:37] INFO: Create integrator sundials with kwargs={}\n"
       ]
      },
      {
       "output_type": "stream",
       "stream": "stderr",
       "text": [
        "[2014-09-12 15:57:37] DEBUG: Creating integrator with backend sundials.\n"
       ]
      },
      {
       "output_type": "stream",
       "stream": "stderr",
       "text": [
        "[2014-09-12 15:57:37] DEBUG: Updating get method for steps in TableWriter(name=barmini.ndt)\n"
       ]
      },
      {
       "output_type": "stream",
       "stream": "stderr",
       "text": [
        "[2014-09-12 15:57:37] DEBUG: Updating get method for last_step_dt in TableWriter(name=barmini.ndt)\n"
       ]
      },
      {
       "output_type": "stream",
       "stream": "stderr",
       "text": [
        "[2014-09-12 15:57:37] DEBUG: Updating get method for dmdt in TableWriter(name=barmini.ndt)\n"
       ]
      },
      {
       "output_type": "stream",
       "stream": "stderr",
       "text": [
        "[2014-09-12 15:57:37] INFO: Simulation will run until t = 1e-11 s.\n"
       ]
      },
      {
       "output_type": "stream",
       "stream": "stderr",
       "text": [
        "[2014-09-12 15:57:37] INFO: Simulation has reached time t = 1e-11 s.\n"
       ]
      }
     ],
     "prompt_number": 1
    },
    {
     "cell_type": "markdown",
     "metadata": {},
     "source": [
      "To be able to restart the simulation from a particular point, we need to save the magnetisation at that time before:"
     ]
    },
    {
     "cell_type": "code",
     "collapsed": false,
     "input": [
      "sim.save_restart_data()"
     ],
     "language": "python",
     "metadata": {},
     "outputs": [
      {
       "output_type": "stream",
       "stream": "stderr",
       "text": [
        "[2014-09-12 15:57:37] DEBUG: Have saved restart data at t=1e-11 to barmini-restart.npz (sim.name=barmini)\n"
       ]
      }
     ],
     "prompt_number": 2
    },
    {
     "cell_type": "markdown",
     "metadata": {},
     "source": [
      "We can see from the message that the filename ``barmini-restart.npz`` has been chosen. This is the *canonical* filename, composed of\n",
      "\n",
      "- the simulation name, and\n",
      "- the ``-restart`` and \n",
      "- the default extension ``.npz`` for multiple numpy arrays saved as a zipped file\n",
      "\n",
      "For completeness the simulation name is:"
     ]
    },
    {
     "cell_type": "code",
     "collapsed": false,
     "input": [
      "print(sim.name)"
     ],
     "language": "python",
     "metadata": {},
     "outputs": [
      {
       "output_type": "stream",
       "stream": "stdout",
       "text": [
        "barmini\n"
       ]
      }
     ],
     "prompt_number": 3
    },
    {
     "cell_type": "markdown",
     "metadata": {},
     "source": [
      "Let us also save the magnetisation at this point in time."
     ]
    },
    {
     "cell_type": "code",
     "collapsed": false,
     "input": [
      "m_10em12 = sim.m"
     ],
     "language": "python",
     "metadata": {},
     "outputs": [],
     "prompt_number": 4
    },
    {
     "cell_type": "markdown",
     "metadata": {},
     "source": [
      "We can also choose any filename we like (although we need to stick to the ``.npz`` extension), for example"
     ]
    },
    {
     "cell_type": "code",
     "collapsed": false,
     "input": [
      "sim.save_restart_data(filename=\"my-special-state.npz\")"
     ],
     "language": "python",
     "metadata": {},
     "outputs": [
      {
       "output_type": "stream",
       "stream": "stderr",
       "text": [
        "[2014-09-12 15:57:38] DEBUG: Have saved restart data at t=1e-11 to my-special-state.npz (sim.name=barmini)\n"
       ]
      }
     ],
     "prompt_number": 5
    },
    {
     "cell_type": "markdown",
     "metadata": {},
     "source": [
      "And show the average component values for future reference"
     ]
    },
    {
     "cell_type": "code",
     "collapsed": false,
     "input": [
      "print(\"t=%s, <m>=%s\" % (sim.t, sim.m_average))"
     ],
     "language": "python",
     "metadata": {},
     "outputs": [
      {
       "output_type": "stream",
       "stream": "stdout",
       "text": [
        "t=1e-11, <m>=[ 0.60497229  0.18617598  0.77415634]\n"
       ]
      }
     ],
     "prompt_number": 6
    },
    {
     "cell_type": "markdown",
     "metadata": {},
     "source": [
      "Then carry on with the time integration:"
     ]
    },
    {
     "cell_type": "code",
     "collapsed": false,
     "input": [
      "sim.run_until(100e-12)\n",
      "# There is a difference in m when using 4 or more significant digits\n",
      "# and running the simulation in the same computer\n",
      "print(\"t=%s, <m>=[%.3f %.3f %.3f]\" % (sim.t, sim.m_average[0], sim.m_average[1], sim.m_average[2]))"
     ],
     "language": "python",
     "metadata": {},
     "outputs": [
      {
       "output_type": "stream",
       "stream": "stderr",
       "text": [
        "[2014-09-12 15:57:38] INFO: Simulation will run until t = 1e-10 s.\n"
       ]
      },
      {
       "output_type": "stream",
       "stream": "stderr",
       "text": [
        "[2014-09-12 15:57:39] INFO: Simulation has reached time t = 1e-10 s.\n"
       ]
      },
      {
       "output_type": "stream",
       "stream": "stdout",
       "text": [
        "t=1e-10, <m>=[-0.116 -0.065 0.991]\n"
       ]
      }
     ],
     "prompt_number": 7
    },
    {
     "cell_type": "markdown",
     "metadata": {},
     "source": [
      "We now imagine that we need to restart this run, or create another simulation that continues at the point of t=10e-12 where we have saved our restart snapshot:"
     ]
    },
    {
     "cell_type": "markdown",
     "metadata": {},
     "source": [
      "### Restart "
     ]
    },
    {
     "cell_type": "markdown",
     "metadata": {},
     "source": [
      "Imagine we need to go back to t=10e-12 and the corresponding magnetisation configuration. We can use:"
     ]
    },
    {
     "cell_type": "code",
     "collapsed": false,
     "input": [
      "sim.restart()"
     ],
     "language": "python",
     "metadata": {},
     "outputs": [
      {
       "output_type": "stream",
       "stream": "stderr",
       "text": [
        "[2014-09-12 15:57:39] DEBUG: Loading restart data from barmini-restart.npz. \n"
       ]
      },
      {
       "output_type": "stream",
       "stream": "stderr",
       "text": [
        "[2014-09-12 15:57:39] DEBUG: Creating integrator with backend sundials.\n"
       ]
      },
      {
       "output_type": "stream",
       "stream": "stderr",
       "text": [
        "[2014-09-12 15:57:39] DEBUG: llg_integrator: kwds = {'t0': 1e-11}\n"
       ]
      },
      {
       "output_type": "stream",
       "stream": "stderr",
       "text": [
        "[2014-09-12 15:57:39] INFO: Reloaded and set m (<m>=[ 0.60497229  0.18617598  0.77415634]) and time=1e-11 from barmini-restart.npz.\n"
       ]
      }
     ],
     "prompt_number": 8
    },
    {
     "cell_type": "markdown",
     "metadata": {},
     "source": [
      "If the ``restart`` method is not given any filename, it will look for the canonical restart name of its simulation object.\n",
      "\n",
      "And just to convince us:"
     ]
    },
    {
     "cell_type": "code",
     "collapsed": false,
     "input": [
      "print(\"time = %s \" % sim.t)\n",
      "print(\"<m> = %s\" % sim.m_average)\n",
      "assert (sim.m == m_10em12).all  # check that this identical to before saving\n"
     ],
     "language": "python",
     "metadata": {},
     "outputs": [
      {
       "output_type": "stream",
       "stream": "stdout",
       "text": [
        "time = 1e-11 \n",
        "<m> = [ 0.60497229  0.18617598  0.77415634]\n"
       ]
      }
     ],
     "prompt_number": 9
    },
    {
     "cell_type": "markdown",
     "metadata": {},
     "source": [
      "If we want to restart from a different configuration (i.e. not from the canonical filename, we need to provide a restart file name):"
     ]
    },
    {
     "cell_type": "code",
     "collapsed": false,
     "input": [
      "sim.restart('my-special-state.npz')"
     ],
     "language": "python",
     "metadata": {},
     "outputs": [
      {
       "output_type": "stream",
       "stream": "stderr",
       "text": [
        "[2014-09-12 15:57:39] DEBUG: Loading restart data from my-special-state.npz. \n"
       ]
      },
      {
       "output_type": "stream",
       "stream": "stderr",
       "text": [
        "[2014-09-12 15:57:39] DEBUG: Creating integrator with backend sundials.\n"
       ]
      },
      {
       "output_type": "stream",
       "stream": "stderr",
       "text": [
        "[2014-09-12 15:57:39] DEBUG: llg_integrator: kwds = {'t0': 1e-11}\n"
       ]
      },
      {
       "output_type": "stream",
       "stream": "stderr",
       "text": [
        "[2014-09-12 15:57:39] INFO: Reloaded and set m (<m>=[ 0.60497229  0.18617598  0.77415634]) and time=1e-11 from my-special-state.npz.\n"
       ]
      }
     ],
     "prompt_number": 10
    },
    {
     "cell_type": "markdown",
     "metadata": {},
     "source": [
      "If we want to use the same magnetisation, but change the point in time at which we start the integration, we can use the optional ``t0`` parameter:"
     ]
    },
    {
     "cell_type": "code",
     "collapsed": false,
     "input": [
      "sim.restart('my-special-state.npz', t0=0.42e-12)"
     ],
     "language": "python",
     "metadata": {},
     "outputs": [
      {
       "output_type": "stream",
       "stream": "stderr",
       "text": [
        "[2014-09-12 15:57:39] DEBUG: Loading restart data from my-special-state.npz. \n"
       ]
      },
      {
       "output_type": "stream",
       "stream": "stderr",
       "text": [
        "[2014-09-12 15:57:39] DEBUG: Creating integrator with backend sundials.\n"
       ]
      },
      {
       "output_type": "stream",
       "stream": "stderr",
       "text": [
        "[2014-09-12 15:57:39] DEBUG: llg_integrator: kwds = {'t0': 4.2e-13}\n"
       ]
      },
      {
       "output_type": "stream",
       "stream": "stderr",
       "text": [
        "[2014-09-12 15:57:39] INFO: Reloaded and set m (<m>=[ 0.60497229  0.18617598  0.77415634]) and time=4.2e-13 from my-special-state.npz.\n"
       ]
      }
     ],
     "prompt_number": 11
    },
    {
     "cell_type": "code",
     "collapsed": false,
     "input": [
      "print(\"t=%s, <m>=%s\" % (sim.t, sim.m_average))"
     ],
     "language": "python",
     "metadata": {},
     "outputs": [
      {
       "output_type": "stream",
       "stream": "stdout",
       "text": [
        "t=4.2e-13, <m>=[ 0.60497229  0.18617598  0.77415634]\n"
       ]
      }
     ],
     "prompt_number": 12
    },
    {
     "cell_type": "markdown",
     "metadata": {},
     "source": [
      "### Creating a new simulation from saved restart file"
     ]
    },
    {
     "cell_type": "markdown",
     "metadata": {},
     "source": [
      "To create a new simulation that starts from a saved configuration, we need to create the simulation object (and we have to use exactly the same mesh -- there is no check for this at the moment), and can then use the restart method as before:"
     ]
    },
    {
     "cell_type": "code",
     "collapsed": false,
     "input": [
      "import finmag\n",
      "sim2 = finmag.example.barmini()\n",
      "sim2.restart('my-special-state.npz')"
     ],
     "language": "python",
     "metadata": {},
     "outputs": [
      {
       "output_type": "stream",
       "stream": "stderr",
       "text": [
        "[2014-09-12 15:57:40] INFO: Finmag logging output will be written to file: '/home/david/hg/finmag/doc/ipython_notebooks_src/barmini.log' (any old content will be overwritten).\n"
       ]
      },
      {
       "output_type": "stream",
       "stream": "stderr",
       "text": [
        "[2014-09-12 15:57:40] DEBUG: Creating DataWriter for file 'barmini.ndt'\n"
       ]
      },
      {
       "output_type": "stream",
       "stream": "stderr",
       "text": [
        "[2014-09-12 15:57:40] INFO: Creating Sim object 'barmini' (rank=0/1).\n"
       ]
      },
      {
       "output_type": "stream",
       "stream": "stderr",
       "text": [
        "[2014-09-12 15:57:40] INFO: <Mesh of topological dimension 3 (tetrahedra) with 45 vertices and 96 cells, ordered>\n"
       ]
      },
      {
       "output_type": "stream",
       "stream": "stderr",
       "text": [
        "[2014-09-12 15:57:40] DEBUG: Creating LLG object.\n"
       ]
      },
      {
       "output_type": "stream",
       "stream": "stderr",
       "text": [
        "[2014-09-12 15:57:40] DEBUG: Creating Exchange object with method box-matrix-petsc,  in Jacobian.\n"
       ]
      },
      {
       "output_type": "stream",
       "stream": "stderr",
       "text": [
        "[2014-09-12 15:57:40] DEBUG: Adding interaction Exchange to simulation.\n"
       ]
      },
      {
       "output_type": "stream",
       "stream": "stderr",
       "text": [
        "[2014-09-12 15:57:40] DEBUG: Creating Demag object with solver 'FK'.\n"
       ]
      },
      {
       "output_type": "stream",
       "stream": "stderr",
       "text": [
        "[2014-09-12 15:57:40] DEBUG: Demag parameters now: {'phi_1': {'absolute_tolerance': 1e-06, 'relative_tolerance': 1e-06, 'maximum_iterations': 10000}, 'phi_2': {'absolute_tolerance': 1e-06, 'relative_tolerance': 1e-06, 'maximum_iterations': 10000}, 'phi_2_solver': 'default', 'phi_2_preconditioner': 'default', 'phi_1_preconditioner': 'default', 'phi_1_solver': 'default'}\n"
       ]
      },
      {
       "output_type": "stream",
       "stream": "stderr",
       "text": [
        "[2014-09-12 15:57:40] DEBUG: Adding interaction Demag to simulation.\n"
       ]
      },
      {
       "output_type": "stream",
       "stream": "stderr",
       "text": [
        "[2014-09-12 15:57:40] DEBUG: Using Krylov solver for demag.\n"
       ]
      },
      {
       "output_type": "stream",
       "stream": "stderr",
       "text": [
        "[2014-09-12 15:57:40] DEBUG: Creating macro-geometry with demag 1 x 1 tiles (dxdy: 3.0 x 3.0)\n"
       ]
      },
      {
       "output_type": "stream",
       "stream": "stderr",
       "text": [
        "[2014-09-12 15:57:40] DEBUG: Boundary element matrix uses 0.01 MB of memory.\n"
       ]
      },
      {
       "output_type": "stream",
       "stream": "stderr",
       "text": [
        "[2014-09-12 15:57:40] DEBUG: Successfully created simulation 'barmini'\n"
       ]
      },
      {
       "output_type": "stream",
       "stream": "stderr",
       "text": [
        "[2014-09-12 15:57:40] DEBUG: Loading restart data from my-special-state.npz. \n"
       ]
      },
      {
       "output_type": "stream",
       "stream": "stderr",
       "text": [
        "[2014-09-12 15:57:40] DEBUG: Creating integrator with backend sundials.\n"
       ]
      },
      {
       "output_type": "stream",
       "stream": "stderr",
       "text": [
        "[2014-09-12 15:57:40] DEBUG: llg_integrator: kwds = {'t0': 1e-11}\n"
       ]
      },
      {
       "output_type": "stream",
       "stream": "stderr",
       "text": [
        "[2014-09-12 15:57:40] INFO: Reloaded and set m (<m>=[ 0.60497229  0.18617598  0.77415634]) and time=1e-11 from my-special-state.npz.\n"
       ]
      }
     ],
     "prompt_number": 13
    },
    {
     "cell_type": "code",
     "collapsed": false,
     "input": [
      "print(\"t=%s, <m>=%s\" % (sim.t, sim.m_average))"
     ],
     "language": "python",
     "metadata": {},
     "outputs": [
      {
       "output_type": "stream",
       "stream": "stdout",
       "text": [
        "t=4.2e-13, <m>=[ 0.60497229  0.18617598  0.77415634]\n"
       ]
      }
     ],
     "prompt_number": 14
    },
    {
     "cell_type": "markdown",
     "metadata": {},
     "source": [
      "### What happens under the hood"
     ]
    },
    {
     "cell_type": "markdown",
     "metadata": {},
     "source": [
      "The npz file is a numpy compressed (zip) file that contains multiple numpy arrays. We use those to store the magnetisation and some metadata. This can be retrieved manually using:"
     ]
    },
    {
     "cell_type": "code",
     "collapsed": false,
     "input": [
      "data = finmag.sim.sim_helpers.load_restart_data(\"my-special-state.npz\")"
     ],
     "language": "python",
     "metadata": {},
     "outputs": [],
     "prompt_number": 15
    },
    {
     "cell_type": "markdown",
     "metadata": {},
     "source": [
      "and will get a dictionary back:"
     ]
    },
    {
     "cell_type": "code",
     "collapsed": false,
     "input": [
      "#IPYTHON_TEST_IGNORE_OUTPUT \n",
      "data"
     ],
     "language": "python",
     "metadata": {},
     "outputs": [
      {
       "metadata": {},
       "output_type": "pyout",
       "prompt_number": 16,
       "text": [
        "{'datetime': datetime.datetime(2014, 9, 12, 15, 57, 38, 30025),\n",
        " 'driver': 'cvode',\n",
        " 'm': array([ 0.6111496 ,  0.61069709,  0.61025474,  0.61138568,  0.61093543,\n",
        "         0.60946037,  0.61155478,  0.61142485,  0.60946551,  0.60357926,\n",
        "         0.60429697,  0.60437231,  0.6036201 ,  0.60451998,  0.60416312,\n",
        "         0.60470299,  0.60572874,  0.60518985,  0.60012719,  0.60056096,\n",
        "         0.60035712,  0.59963662,  0.60002891,  0.59963662,  0.60035712,\n",
        "         0.60056096,  0.60012719,  0.60518984,  0.60572873,  0.60470299,\n",
        "         0.60416312,  0.60451998,  0.60362009,  0.6043723 ,  0.60429696,\n",
        "         0.60357926,  0.6094655 ,  0.61142484,  0.61155477,  0.60946036,\n",
        "         0.61093542,  0.61138567,  0.61025473,  0.61069708,  0.61114959,\n",
        "         0.19036056,  0.18947088,  0.18882046,  0.18701986,  0.1882375 ,\n",
        "         0.18917831,  0.18477702,  0.18505918,  0.18621493,  0.18724841,\n",
        "         0.18568342,  0.18524835,  0.18592772,  0.18656007,  0.18718111,\n",
        "         0.18352695,  0.18407306,  0.18594687,  0.18559717,  0.18370711,\n",
        "         0.18306474,  0.18505648,  0.18513213,  0.18505648,  0.18306474,\n",
        "         0.18370711,  0.18559717,  0.18594687,  0.18407306,  0.18352695,\n",
        "         0.1871811 ,  0.18656006,  0.18592772,  0.18524834,  0.18568341,\n",
        "         0.1872484 ,  0.18621492,  0.18505917,  0.18477701,  0.18917831,\n",
        "         0.18823749,  0.18701985,  0.18882045,  0.18947087,  0.19036055,\n",
        "         0.76828325,  0.76886278,  0.76937384,  0.76891562,  0.76897636,\n",
        "         0.7699154 ,  0.76932328,  0.76935873,  0.77063343,  0.77500329,\n",
        "         0.77482052,  0.7748659 ,  0.7752894 ,  0.77443588,  0.77456449,\n",
        "         0.77501751,  0.77408643,  0.77406007,  0.77807514,  0.778189  ,\n",
        "         0.7784976 ,  0.77858199,  0.77826171,  0.77858199,  0.7784976 ,\n",
        "         0.778189  ,  0.77807514,  0.77406007,  0.77408643,  0.77501751,\n",
        "         0.77456449,  0.77443588,  0.77528941,  0.77486591,  0.77482052,\n",
        "         0.77500329,  0.77063344,  0.76935873,  0.76932328,  0.76991541,\n",
        "         0.76897637,  0.76891563,  0.76937385,  0.76886279,  0.76828326]),\n",
        " 'simname': 'barmini',\n",
        " 'simtime': 1e-11,\n",
        " 'stats': {'hcur': 3.2736965687546714e-13,\n",
        "  'hinused': 1.3810613099330345e-19,\n",
        "  'hlast': 3.2736965687546714e-13,\n",
        "  'netfails': 0,\n",
        "  'nfevals': 96,\n",
        "  'nlinsetups': 10,\n",
        "  'nsteps': 87,\n",
        "  'qcur': 4,\n",
        "  'qlast': 4,\n",
        "  'tcur': 1.0218850373935563e-11}}"
       ]
      }
     ],
     "prompt_number": 16
    },
    {
     "cell_type": "code",
     "collapsed": false,
     "input": [],
     "language": "python",
     "metadata": {},
     "outputs": [],
     "prompt_number": 16
    }
   ],
   "metadata": {}
  }
 ]
}