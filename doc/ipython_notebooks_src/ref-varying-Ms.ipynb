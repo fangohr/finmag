{
 "metadata": {
  "name": "ref-varying-Ms"
 },
 "nbformat": 3,
 "nbformat_minor": 0,
 "worksheets": [
  {
   "cells": [
    {
     "cell_type": "heading",
     "level": 3,
     "metadata": {},
     "source": [
      "Does Ms at nodes represent the cell-volume weighted Ms?"
     ]
    },
    {
     "cell_type": "markdown",
     "metadata": {},
     "source": [
      "To start we consider a 2d square mesh with three materials disributed in four quadrants: the first quadrant filled with material1, the second and the third quadrants are material2 and the last quadrant is material3. "
     ]
    },
    {
     "cell_type": "code",
     "collapsed": false,
     "input": [
      "import dolfin as df\n",
      "from finmag.util.meshes import plot_mesh\n",
      "\n",
      "mesh = df.UnitSquareMesh(2, 2,'left')\n",
      "\n",
      "class Mat1(df.SubDomain):\n",
      "    def inside(self, x, on_boundary):\n",
      "        return True if x[0] >= 0.5 and x[1] >= 0.5 else False\n",
      "\n",
      "class Mat2(df.SubDomain):\n",
      "    def inside(self, x, on_boundary):\n",
      "        return True if x[0] <= 0.5 else False\n",
      "\n",
      "class Mat3(df.SubDomain):\n",
      "    def inside(self, x, on_boundary):\n",
      "        return True if x[0] >= 0.5 and x[1] <= 0.5 else False\n",
      "\n",
      "subdomains = df.MeshFunction('uint', mesh, 2)\n",
      "subdomain1 = Mat1()\n",
      "subdomain1.mark(subdomains, 0)\n",
      "subdomain2 = Mat2()\n",
      "subdomain2.mark(subdomains, 1)\n",
      "subdomain3 = Mat3()\n",
      "subdomain3.mark(subdomains, 2)\n",
      "    \n",
      "V0 = df.FunctionSpace(mesh, 'DG', 0)\n",
      "Ms_dg  = df.Function(V0)\n",
      "    \n",
      "    \n",
      "Ms1,Ms2,Ms3=[1,3,7]\n",
      "Ms_values = [Ms1,Ms2,Ms3]\n",
      "for cell_no in range(len(subdomains.array())):\n",
      "    subdomain_no = subdomains.array()[cell_no]\n",
      "    Ms_dg.vector()[cell_no] = Ms_values[subdomain_no]\n",
      "    \n",
      "plot_mesh(mesh,dg_fun=Ms_dg)"
     ],
     "language": "python",
     "metadata": {},
     "outputs": [
      {
       "output_type": "stream",
       "stream": "stderr",
       "text": [
        "[2013-02-06 15:21:02] INFO: Finmag logging output will be appended to file: '/home/albert/.finmag/global.log'\n"
       ]
      },
      {
       "output_type": "stream",
       "stream": "stderr",
       "text": [
        "[2013-02-06 15:21:02] DEBUG: Building modules in 'native'...\n"
       ]
      },
      {
       "output_type": "stream",
       "stream": "stderr",
       "text": [
        "[2013-02-06 15:21:04] DEBUG:               Finmag: 2896:b62cdfa378302bb2dd4edb3baaa25bc298d72b12\n"
       ]
      },
      {
       "output_type": "stream",
       "stream": "stderr",
       "text": [
        "[2013-02-06 15:21:04] DEBUG:               Dolfin: 1.0.0\n"
       ]
      },
      {
       "output_type": "stream",
       "stream": "stderr",
       "text": [
        "[2013-02-06 15:21:04] DEBUG:           Matplotlib: 1.3.x\n"
       ]
      },
      {
       "output_type": "stream",
       "stream": "stderr",
       "text": [
        "[2013-02-06 15:21:04] DEBUG:                Numpy: 1.6.2\n"
       ]
      },
      {
       "output_type": "stream",
       "stream": "stderr",
       "text": [
        "[2013-02-06 15:21:04] DEBUG:                Scipy: 0.10.1\n"
       ]
      },
      {
       "output_type": "stream",
       "stream": "stderr",
       "text": [
        "[2013-02-06 15:21:04] DEBUG:              IPython: 0.13.1\n"
       ]
      },
      {
       "output_type": "stream",
       "stream": "stderr",
       "text": [
        "[2013-02-06 15:21:04] DEBUG:               Python: 2.7.3\n"
       ]
      },
      {
       "output_type": "stream",
       "stream": "stderr",
       "text": [
        "[2013-02-06 15:21:04] DEBUG:             Paraview: 3.98~rc3-precise1\n"
       ]
      },
      {
       "output_type": "stream",
       "stream": "stderr",
       "text": [
        "[2013-02-06 15:21:04] DEBUG:             Sundials: 2.4.0-5\n"
       ]
      },
      {
       "output_type": "stream",
       "stream": "stderr",
       "text": [
        "[2013-02-06 15:21:04] DEBUG:         Boost-Python: 1.46.1\n"
       ]
      },
      {
       "output_type": "stream",
       "stream": "stderr",
       "text": [
        "[2013-02-06 15:21:04] DEBUG:                Linux: Ubuntu 12.04.2 LTS\n"
       ]
      },
      {
       "output_type": "stream",
       "stream": "stderr",
       "text": [
        "[2013-02-06 15:21:04] DEBUG: Creating new figure with figsize 'None'\n"
       ]
      },
      {
       "output_type": "pyout",
       "prompt_number": 1,
       "text": [
        "<matplotlib.axes.AxesSubplot at 0x4ca8910>"
       ]
      },
      {
       "output_type": "display_data",
       "png": "[encoded data removed]"
      }
     ],
     "prompt_number": 1
    },
    {
     "cell_type": "markdown",
     "metadata": {},
     "source": [
      "As we can see, the unit square makes up 8 triangles with uniform area A=1/8=0.125, so the area of first node is 1/3*A=0.04166667, and the area for second node is 1/3*A*3=0.125 since there are 3 triangles sharing the same node. According to this rule, we can compute volumes of nodes=[1,3,2,3,6,3,2,3,1]*1/3*A=[ 0.04166667  0.125       0.08333333  0.125       0.25        0.125\n",
      "  0.08333333  0.125       0.04166667];\n",
      "Indeed, the node volumes for nodes are"
     ]
    },
    {
     "cell_type": "code",
     "collapsed": false,
     "input": [
      "S1=df.FunctionSpace(mesh, \"Lagrange\", 1)\n",
      "volumes = df.assemble(df.TestFunction(S1) * df.dx).array()\n",
      "print volumes"
     ],
     "language": "python",
     "metadata": {},
     "outputs": [
      {
       "output_type": "stream",
       "stream": "stdout",
       "text": [
        "[ 0.04166667  0.125       0.08333333  0.125       0.25        0.125\n",
        "  0.08333333  0.125       0.04166667]\n"
       ]
      }
     ],
     "prompt_number": 2
    },
    {
     "cell_type": "markdown",
     "metadata": {},
     "source": [
      "The saturation magnetisation for three materials are Ms1, Ms2 and Ms3, respectively. The coordinates of mesh are \n",
      "[[ 0.   0. ]\n",
      " [ 0.5  0. ]\n",
      " [ 1.   0. ]\n",
      " [ 0.   0.5]\n",
      " [ 0.5  0.5]\n",
      " [ 1.   0.5]\n",
      " [ 0.   1. ]\n",
      " [ 0.5  1. ]\n",
      " [ 1.   1. ]]\n",
      "If the volumes are computed with impact of saturation magnetisation, we expect the results are [Ms2,2*Ms2+Ms3,2*Ms3,3*Ms2,Ms1+3*Ms2+2*Ms3,2*Ms1+Ms3,2*Ms2,Ms2+2*Ms1,Ms1]*1/3*A, which gives"
     ]
    },
    {
     "cell_type": "code",
     "collapsed": false,
     "input": [
      "A=0.125\n",
      "Ms_expect_v=np.array([Ms2,2*Ms2+Ms3,2*Ms3,3*Ms2,Ms1+3*Ms2+2*Ms3,2*Ms1+Ms3,2*Ms2,Ms2+2*Ms1,Ms1])*1.0/3*A\n",
      "print Ms_expect_v\n",
      "Ms_cg_v=df.assemble(Ms_dg*df.TestFunction(S1)* df.dx).array()\n",
      "print Ms_cg_v\n",
      "allclose(Ms_expect_v, Ms_cg_v)"
     ],
     "language": "python",
     "metadata": {},
     "outputs": [
      {
       "output_type": "stream",
       "stream": "stdout",
       "text": [
        "[ 0.125       0.54166667  0.58333333  0.375       1.          0.375       0.25\n",
        "  0.20833333  0.04166667]\n",
        "[ 0.125       0.54166667  0.58333333  0.375       1.          0.375       0.25\n",
        "  0.20833333  0.04166667]\n"
       ]
      },
      {
       "output_type": "pyout",
       "prompt_number": 3,
       "text": [
        "True"
       ]
      }
     ],
     "prompt_number": 3
    },
    {
     "cell_type": "markdown",
     "metadata": {},
     "source": [
      "Therefore, the magnetisation on nodes are calculated by Ms_volume_node/volume_per_node, which is the volume-weighted Ms."
     ]
    },
    {
     "cell_type": "code",
     "collapsed": false,
     "input": [
      "print Ms_cg_v/volumes"
     ],
     "language": "python",
     "metadata": {},
     "outputs": [
      {
       "output_type": "stream",
       "stream": "stdout",
       "text": [
        "[ 3.          4.33333333  7.          3.          4.          3.          3.\n",
        "  1.66666667  1.        ]\n"
       ]
      }
     ],
     "prompt_number": 4
    },
    {
     "cell_type": "raw",
     "metadata": {},
     "source": [
      "Let's see the results given by dolfin interpolate,"
     ]
    },
    {
     "cell_type": "code",
     "collapsed": false,
     "input": [
      "#v=df.interpolate(Ms_dg, df.Function(S1))"
     ],
     "language": "python",
     "metadata": {},
     "outputs": [],
     "prompt_number": 1
    },
    {
     "cell_type": "heading",
     "level": 3,
     "metadata": {},
     "source": [
      "Some plots about DG and CG space"
     ]
    },
    {
     "cell_type": "markdown",
     "metadata": {},
     "source": [
      "The following picture shows the difference between Ms in DG space and CG space."
     ]
    },
    {
     "cell_type": "code",
     "collapsed": false,
     "input": [
      "import numpy as np\n",
      "import dolfin as df\n",
      "from finmag.util import helpers\n",
      "from finmag.util import meshes\n",
      "mesh = meshes.box(0, 0, 0, 10, 10, 1,maxh=0.5)\n",
      "mesh = df.Box(0, 0, 0, 10, 10, 1,10,10,1)\n",
      "\n",
      "\n",
      "def left(coords):\n",
      "    if coords[0]<5: \n",
      "        return True\n",
      "    else:\n",
      "        return False\n",
      "    \n",
      "def right(coords):\n",
      "    return not left(coords)\n",
      "\n",
      "def init_Ms(coords):\n",
      "    if left(coords):\n",
      "        return 10e8\n",
      "    else:\n",
      "        return 5e8\n",
      "    \n",
      "\n",
      "Ms_dg=helpers.scalar_valued_dg_function(init_Ms, mesh)\n",
      "Ms_cg=df.Function(df.FunctionSpace(mesh, \"Lagrange\", 1))\n",
      "\n",
      "S1=df.FunctionSpace(mesh, \"Lagrange\", 1)\n",
      "S3=df.VectorFunctionSpace(mesh, \"Lagrange\", 1, dim=3)\n",
      "volumes = df.assemble(df.TestFunction(S1) * df.dx)\n",
      "Ms_cg_v=df.assemble(Ms_dg*df.TestFunction(S1)* df.dx).array()/volumes\n",
      "Ms_cg.vector().set_local(Ms_cg_v)\n",
      "\n",
      "xs=np.linspace(0,10)\n",
      "Ms_dgs=[Ms_dg(x,0.5,0.5) for x in xs]\n",
      "Ms_cgs=[Ms_cg(x,0.5,0.5) for x in xs]\n",
      "\n",
      "plot(xs,Ms_dgs,'.-',label='Ms_DG')\n",
      "plot(xs,Ms_cgs,'^-',label='Ms_CG')\n",
      "ylim([0.4e9,1.1e9])\n",
      "legend()"
     ],
     "language": "python",
     "metadata": {},
     "outputs": [
      {
       "output_type": "stream",
       "stream": "stderr",
       "text": [
        "[2013-02-06 15:21:17] DEBUG: The mesh './box-0_0-0_0-0_0-10_0-10_0-1_0-0_5.xml.gz' already exists and is automatically returned.\n"
       ]
      },
      {
       "output_type": "pyout",
       "prompt_number": 5,
       "text": [
        "<matplotlib.legend.Legend at 0x50abd90>"
       ]
      },
      {
       "output_type": "display_data",
       "png": "[encoded data removed]"
      }
     ],
     "prompt_number": 5
    },
    {
     "cell_type": "code",
     "collapsed": false,
     "input": [
      "from finmag.energies import Demag\n",
      "m=helpers.vector_valued_function((1,0,0), mesh,normalise=True)\n",
      "\n",
      "demag=Demag()\n",
      "demag.setup(S3, m, Ms_dg)\n",
      "vf=df.Function(S3)\n",
      "field=demag.compute_field()\n",
      "vf.vector().set_local(field)\n",
      "\n",
      "def plot_field(vf):\n",
      "    nx,ny=12,12\n",
      "    X, Y= np.mgrid[1:9:nx*1j,0:10:ny*1j]\n",
      "\n",
      "    U = np.empty((nx, ny))\n",
      "    V = np.empty((nx, ny))\n",
      "\n",
      "    for i in xrange(nx):\n",
      "        for j in xrange(ny):\n",
      "            U[i,j]=vf(X[i,j],Y[i,j],0.5)[0]\n",
      "            V[i,j]=vf(X[i,j],Y[i,j],0.5)[1]\n",
      "    R=np.sqrt(U**2+V**2)\n",
      "    quiver(X,Y,U,V,R)\n",
      "plot_field(vf)"
     ],
     "language": "python",
     "metadata": {},
     "outputs": [
      {
       "output_type": "stream",
       "stream": "stderr",
       "text": [
        "[2013-02-06 15:21:23] DEBUG: Creating Demag object with FK solver.\n"
       ]
      },
      {
       "output_type": "stream",
       "stream": "stderr",
       "text": [
        "[2013-02-06 15:21:23] DEBUG: Demag: Poisson solver parameters.\n",
        "    {'maximum_iterations': 10000, 'divergence_limit': 10000.0, 'relative_tolerance': 1e-06, 'gmres':\n",
        "    {'restart': 30}, 'preconditioner': {'shift_nonzero': 0.0, 'reuse': False,\n",
        "    'same_nonzero_pattern': False, 'ilu': {'fill_level': 0}, 'schwarz': {'overlap': 1}, 'report':\n",
        "    False}, 'error_on_nonconvergence': True, 'monitor_convergence': False, 'nonzero_initial_guess':\n",
        "    False, 'report': True, 'absolute_tolerance': 1e-15}\n"
       ]
      },
      {
       "output_type": "stream",
       "stream": "stderr",
       "text": [
        "[2013-02-06 15:21:23] DEBUG: Demag: Laplace solver parameters.\n",
        "    {'maximum_iterations': 10000, 'divergence_limit': 10000.0, 'relative_tolerance': 1e-06, 'gmres':\n",
        "    {'restart': 30}, 'preconditioner': {'shift_nonzero': 0.0, 'reuse': False,\n",
        "    'same_nonzero_pattern': True, 'ilu': {'fill_level': 0}, 'schwarz': {'overlap': 1}, 'report':\n",
        "    False}, 'error_on_nonconvergence': True, 'monitor_convergence': False, 'nonzero_initial_guess':\n",
        "    False, 'report': True, 'absolute_tolerance': 1e-15}\n"
       ]
      },
      {
       "output_type": "display_data",
       "png": "[encoded data removed]"
      }
     ],
     "prompt_number": 6
    },
    {
     "cell_type": "markdown",
     "metadata": {},
     "source": [
      "The above picture shows the demagnetisation fields for different materials (Ms are defined through init_Ms function), As a comparison, the demagnetisation fields for one material is plotted in the following picture.    "
     ]
    },
    {
     "cell_type": "code",
     "collapsed": false,
     "input": [
      "demag.setup(S3, m, 10e8)\n",
      "field=demag.compute_field()\n",
      "vf.vector().set_local(field)\n",
      "plot_field(vf)"
     ],
     "language": "python",
     "metadata": {},
     "outputs": [
      {
       "output_type": "stream",
       "stream": "stderr",
       "text": [
        "[2013-02-06 15:21:25] DEBUG: Demag: Poisson solver parameters.\n",
        "    {'maximum_iterations': 10000, 'divergence_limit': 10000.0, 'relative_tolerance': 1e-06, 'gmres':\n",
        "    {'restart': 30}, 'preconditioner': {'shift_nonzero': 0.0, 'reuse': False,\n",
        "    'same_nonzero_pattern': False, 'ilu': {'fill_level': 0}, 'schwarz': {'overlap': 1}, 'report':\n",
        "    False}, 'error_on_nonconvergence': True, 'monitor_convergence': False, 'nonzero_initial_guess':\n",
        "    False, 'report': True, 'absolute_tolerance': 1e-15}\n"
       ]
      },
      {
       "output_type": "stream",
       "stream": "stderr",
       "text": [
        "[2013-02-06 15:21:25] DEBUG: Demag: Laplace solver parameters.\n",
        "    {'maximum_iterations': 10000, 'divergence_limit': 10000.0, 'relative_tolerance': 1e-06, 'gmres':\n",
        "    {'restart': 30}, 'preconditioner': {'shift_nonzero': 0.0, 'reuse': False,\n",
        "    'same_nonzero_pattern': True, 'ilu': {'fill_level': 0}, 'schwarz': {'overlap': 1}, 'report':\n",
        "    False}, 'error_on_nonconvergence': True, 'monitor_convergence': False, 'nonzero_initial_guess':\n",
        "    False, 'report': True, 'absolute_tolerance': 1e-15}\n"
       ]
      },
      {
       "output_type": "display_data",
       "png": "[encoded data removed]"
      }
     ],
     "prompt_number": 7
    },
    {
     "cell_type": "code",
     "collapsed": false,
     "input": [],
     "language": "python",
     "metadata": {},
     "outputs": []
    }
   ],
   "metadata": {}
  }
 ]
}