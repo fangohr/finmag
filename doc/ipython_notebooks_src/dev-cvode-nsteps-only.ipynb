{
 "metadata": {
  "name": "",
  "signature": "sha256:b5221eeae5574e7d36aa4bb7d438e6ecfe79b15aea0d701f1c0ab4f920681828"
 },
 "nbformat": 3,
 "nbformat_minor": 0,
 "worksheets": [
  {
   "cells": [
    {
     "cell_type": "markdown",
     "metadata": {},
     "source": [
      "## Developers notes: CVODE - limit the number of steps for time integration"
     ]
    },
    {
     "cell_type": "markdown",
     "metadata": {},
     "source": [
      "It is useful to get control back from CVODE 'every now and then' to save restart data and provide some output to the user. We can do this by limiting (and adjusting) the maximum number of iterations that we allow sundials to carry out. The principle is demonstrated here."
     ]
    },
    {
     "cell_type": "markdown",
     "metadata": {},
     "source": [
      "More detailed information can be found in the [CVODE manual, pdf](https://computation.llnl.gov/casc/sundials/documentation/cv_guide.pdf)"
     ]
    },
    {
     "cell_type": "code",
     "collapsed": false,
     "input": [
      "# set up an example\n",
      "import numpy as np\n",
      "from finmag.util.ode import cvode\n",
      "import finmag.native.sundials as sundials\n",
      "integrator = sundials.cvode(sundials.CV_ADAMS, sundials.CV_FUNCTIONAL)\n",
      "def rhs(t, y, ydot):\n",
      "            ydot[:] = 0.5 * y\n",
      "            return 0\n",
      "  "
     ],
     "language": "python",
     "metadata": {},
     "outputs": [
      {
       "output_type": "stream",
       "stream": "stderr",
       "text": [
        "[2014-09-12 14:33:28] INFO: Finmag logging output will be appended to file: '/home/mb4e10/.finmag/global.log'\n"
       ]
      },
      {
       "output_type": "stream",
       "stream": "stderr",
       "text": [
        "[2014-09-12 14:33:29] DEBUG: Building modules in 'native'...\n"
       ]
      },
      {
       "output_type": "stream",
       "stream": "stderr",
       "text": [
        "[2014-09-12 14:33:34] DEBUG: FinMag          5434:922b8ee9526b6be95f182ae3fc9569f7970ebc81\n"
       ]
      },
      {
       "output_type": "stream",
       "stream": "stderr",
       "text": [
        "[2014-09-12 14:33:34] DEBUG: Dolfin          1.4.0                Matplotlib      1.3.1               \n"
       ]
      },
      {
       "output_type": "stream",
       "stream": "stderr",
       "text": [
        "[2014-09-12 14:33:34] DEBUG: Numpy           1.8.1                Scipy           0.14.0              \n"
       ]
      },
      {
       "output_type": "stream",
       "stream": "stderr",
       "text": [
        "[2014-09-12 14:33:34] DEBUG: IPython         2.1.0                Python          2.7.6               \n"
       ]
      },
      {
       "output_type": "stream",
       "stream": "stderr",
       "text": [
        "[2014-09-12 14:33:34] DEBUG: Paraview        4.0.1-1ubuntu1       Sundials        2.5.0               \n"
       ]
      },
      {
       "output_type": "stream",
       "stream": "stderr",
       "text": [
        "[2014-09-12 14:33:34] DEBUG: Boost-Python    <unknown>            Linux           Ubuntu 14.04.1 LTS  \n"
       ]
      },
      {
       "output_type": "stream",
       "stream": "stderr",
       "text": [
        "[2014-09-12 14:33:34] DEBUG: Registering debug signal handler. Press Ctrl-Z at any time to stop execution and jump into the debugger.\n"
       ]
      }
     ],
     "prompt_number": 1
    },
    {
     "cell_type": "code",
     "collapsed": false,
     "input": [
      "# new function that does the time integration for max_steps only\n",
      "def advance_time(integrator, tout, yout, max_steps=None):\n",
      "    integrator.set_max_num_steps(max_steps)\n",
      "    \"\"\"\n",
      "    *Arguments*\n",
      "\n",
      "      ``tout`` - target time (float)\n",
      "\n",
      "      ``yout`` - state vector (numpy array)\n",
      "\n",
      "      ``max_steps`` - maximum number of steps (integer)\n",
      "    \n",
      "    Given the integrator object, a target time tout, and a state vector yout,\n",
      "    this function integrates towards tout. If max_steps is given and the \n",
      "    number of more than max_steps steps for the integration are reached, \n",
      "    we interrupt the calculation and return False.\n",
      "\n",
      "    If tout is reached within the number of allowed steps, it will return True.\n",
      "    \"\"\"\n",
      "    \n",
      "    if max_steps != None:\n",
      "        integrator.set_max_num_steps(1)\n",
      "        \n",
      "    reached_tout = True\n",
      "    tout_actual = tout\n",
      "    try:\n",
      "        integrator.advance_time(tout, yout)\n",
      "    except RuntimeError, msg:\n",
      "        # if we have reached max_num_steps, the error message will read something like\n",
      "        # expected_error = \"Error in CVODE:CVode (CV_TOO_MUCH_WORK): At t = 0.258733, mxstep steps taken before reaching tout.'\"\n",
      "        if \"CV_TOO_MUCH_WORK\" in msg.message:\n",
      "            reached_tout = False\n",
      "            print (\"not reached t_out\")\n",
      "            # in this case, return cvode current time\n",
      "            tout_actual = integrator.get_current_time()\n",
      "        else: # don't know what this is, raise error again\n",
      "            raise\n",
      "    return reached_tout, tout_actual\n",
      "    "
     ],
     "language": "python",
     "metadata": {},
     "outputs": [],
     "prompt_number": 2
    },
    {
     "cell_type": "markdown",
     "metadata": {},
     "source": [
      "And here we define a function that uses the n-steps only code above:"
     ]
    },
    {
     "cell_type": "code",
     "collapsed": false,
     "input": [
      "def test_advance_time_nsteps():\n",
      "    \"\"\"Wrap up the functionality above to have regression test. We may not need this anymore with Max new testing tool.\"\"\"\n",
      "    import numpy as np\n",
      "    from finmag.util.ode import cvode\n",
      "    import finmag.native.sundials as sundials\n",
      "    integrator = sundials.cvode(sundials.CV_ADAMS, sundials.CV_FUNCTIONAL)\n",
      "    def rhs(t, y, ydot):\n",
      "            ydot[:] = 0.5 * y\n",
      "            return 0\n",
      "\n",
      "    yout = np.zeros(1)\n",
      "    ts = np.linspace(0.1, 1, 10)*0.1\n",
      "    integrator.init(rhs, 0, np.array([1.]))\n",
      "    integrator.set_scalar_tolerances(1e-9, 1e-9)\n",
      "    for i, t in enumerate(ts):\n",
      "        retval, tout_actual = advance_time(integrator, t, yout, 2)\n",
      "        #assert retval == 0.0\n",
      "        print(\"t={:6.4}, yout = {:14}\".format(t,yout)),\n",
      "        print(\"current_time = {:15.10}\".format(integrator.get_current_time())),\n",
      "        print(\"num_steps = {:6}\".format(integrator.get_num_steps())),\n",
      "        print(\"cur_step = {:6}\".format(integrator.get_current_step())),\n",
      "        print(\"rhsevals = {:6}\".format(integrator.get_num_rhs_evals())),\n",
      "        absdiff = abs(yout[0] - np.exp(tout_actual*0.5))\n",
      "        print(\"absdiff = {}\".format(absdiff))\n",
      "    assert absdiff < 2e-9\n",
      "    \n",
      "    return integrator"
     ],
     "language": "python",
     "metadata": {},
     "outputs": [],
     "prompt_number": 3
    },
    {
     "cell_type": "markdown",
     "metadata": {},
     "source": [
      "And then we need to call it:"
     ]
    },
    {
     "cell_type": "code",
     "collapsed": false,
     "input": [
      "integrator = test_advance_time_nsteps()"
     ],
     "language": "python",
     "metadata": {},
     "outputs": [
      {
       "output_type": "stream",
       "stream": "stdout",
       "text": [
        "not reached t_out\n",
        "t=  0.01, yout = [ 1.00003162]  current_time =  6.32455532e-05 num_steps =      1 cur_step = 6.32455532034e-05 rhsevals =      6 absdiff = 5.00026464678e-10\n",
        "not reached t_out\n",
        "t=  0.02, yout = [ 1.00006325]  current_time = 0.0001264911064 num_steps =      2 cur_step = 6.32455532034e-05 rhsevals =      8 absdiff = 1.00008423765e-09\n",
        "not reached t_out\n",
        "t=  0.03, yout = [ 1.00015186]  current_time = 0.0003036963773 num_steps =      3 cur_step = 0.000177205270844 rhsevals =     12 absdiff = 1.00023078708e-09\n",
        "not reached t_out\n",
        "t=  0.04, yout = [ 1.00024048]  current_time = 0.0004809016481 num_steps =      4 cur_step = 0.000177205270844 rhsevals =     13 absdiff = 1.00037755857e-09\n",
        "not reached t_out\n",
        "t=  0.05, yout = [ 1.00112711]  current_time =  0.002252954357 num_steps =      5 cur_step = 0.00177205270844 rhsevals =     14 absdiff = 1.05920872073e-09\n",
        "not reached t_out\n",
        "t=  0.06, yout = [ 1.00397763]  current_time =  0.007939472387 num_steps =      6 cur_step = 0.00568651803047 rhsevals =     18 absdiff = 1.0632004166e-09\n",
        "not reached t_out\n",
        "t=  0.07, yout = [ 1.00683626]  current_time =   0.01362599042 num_steps =      7 cur_step = 0.00568651803047 rhsevals =     19 absdiff = 1.06897690699e-09\n",
        "not reached t_out\n",
        "t=  0.08, yout = [ 1.01656053]  current_time =   0.03284980433 num_steps =      8 cur_step = 0.0192238139121 rhsevals =     20 absdiff = 1.26643628917e-09\n",
        "not reached t_out\n",
        "t=  0.09, yout = [ 1.02637873]  current_time =   0.05207361824 num_steps =      9 cur_step = 0.0192238139121 rhsevals =     22 absdiff = 1.63517888119e-09\n",
        "not reached t_out\n",
        "t=   0.1, yout = [ 1.04056612]  current_time =   0.07952981349 num_steps =     10 cur_step = 0.0274561952488 rhsevals =     26 absdiff = 1.67252589556e-09\n"
       ]
      }
     ],
     "prompt_number": 4
    },
    {
     "cell_type": "code",
     "collapsed": false,
     "input": [
      "integrator.get_actual_init_step()  # the step size that was attempted as the very first step "
     ],
     "language": "python",
     "metadata": {},
     "outputs": [
      {
       "metadata": {},
       "output_type": "pyout",
       "prompt_number": 5,
       "text": [
        "6.324555320338399e-05"
       ]
      }
     ],
     "prompt_number": 5
    },
    {
     "cell_type": "code",
     "collapsed": false,
     "input": [
      "integrator.get_last_step() # the step size used in the last step"
     ],
     "language": "python",
     "metadata": {},
     "outputs": [
      {
       "metadata": {},
       "output_type": "pyout",
       "prompt_number": 6,
       "text": [
        "0.02745619524875278"
       ]
      }
     ],
     "prompt_number": 6
    },
    {
     "cell_type": "markdown",
     "metadata": {},
     "source": [
      "There is a convenient function to get a number of statistics in one shot: "
     ]
    },
    {
     "cell_type": "code",
     "collapsed": false,
     "input": [
      "stats = integrator.get_integrator_stats()\n",
      "nsteps, nfevals, nlinsetups, netfails, qlast, qcur, hinused, hlast, hcur, tcur = stats\n",
      "print stats"
     ],
     "language": "python",
     "metadata": {},
     "outputs": [
      {
       "output_type": "stream",
       "stream": "stdout",
       "text": [
        "(10, 26, 0, 3, 4, 4, 6.324555320338399e-05, 0.02745619524875278, 0.02745619524875278, 0.0795298134904037)\n"
       ]
      }
     ],
     "prompt_number": 7
    }
   ],
   "metadata": {}
  }
 ]
}