{
 "metadata": {
  "name": "dev-cvode-nsteps-only"
 },
 "nbformat": 3,
 "nbformat_minor": 0,
 "worksheets": [
  {
   "cells": [
    {
     "cell_type": "markdown",
     "metadata": {},
     "source": [
      "## developers notes: CVODE - limit the number of steps for time integration"
     ]
    },
    {
     "cell_type": "markdown",
     "metadata": {},
     "source": [
      "It is useful to get control back from CVODE 'every now and then' to save restart data and provide some output to the user. We can do this by limiting (and adjusting) the maximum number of iterations that we allow sundials to carry out."
     ]
    },
    {
     "cell_type": "markdown",
     "metadata": {},
     "source": [
      "More detailed information can be found in the [CVODE manual, pdf](https://computation.llnl.gov/casc/sundials/documentation/cv_guide.pdf)"
     ]
    },
    {
     "cell_type": "code",
     "collapsed": false,
     "input": [
      "# set up an example\n",
      "import numpy as np\n",
      "from finmag.util.ode import cvode\n",
      "import finmag.native.sundials as sundials\n",
      "integrator = sundials.cvode(sundials.CV_ADAMS, sundials.CV_FUNCTIONAL)\n",
      "def rhs(t, y, ydot):\n",
      "            ydot[:] = 0.5 * y\n",
      "            return 0\n",
      "  "
     ],
     "language": "python",
     "metadata": {},
     "outputs": [
      {
       "output_type": "stream",
       "stream": "stderr",
       "text": [
        "[2012-12-19 09:25:36] INFO: Finmag logging output will be appended to file: '/home/fangohr/.finmag/global.log'\n"
       ]
      },
      {
       "output_type": "stream",
       "stream": "stderr",
       "text": [
        "[2012-12-19 09:25:36] DEBUG: Building modules in 'native'...\n"
       ]
      },
      {
       "output_type": "stream",
       "stream": "stderr",
       "text": [
        "[2012-12-19 09:25:37] DEBUG:               Finmag: 2510:dd07fba4c56706d7ae96c467c6662b7adfd47bfc\n"
       ]
      },
      {
       "output_type": "stream",
       "stream": "stderr",
       "text": [
        "[2012-12-19 09:25:37] DEBUG:               Dolfin: 1.0.0\n"
       ]
      },
      {
       "output_type": "stream",
       "stream": "stderr",
       "text": [
        "[2012-12-19 09:25:37] DEBUG:           Matplotlib: 1.2.0\n"
       ]
      },
      {
       "output_type": "stream",
       "stream": "stderr",
       "text": [
        "[2012-12-19 09:25:37] DEBUG:                Numpy: 1.6.1\n"
       ]
      },
      {
       "output_type": "stream",
       "stream": "stderr",
       "text": [
        "[2012-12-19 09:25:37] DEBUG:                Scipy: 0.9.0\n"
       ]
      },
      {
       "output_type": "stream",
       "stream": "stderr",
       "text": [
        "[2012-12-19 09:25:37] DEBUG:              IPython: 0.13.1\n"
       ]
      },
      {
       "output_type": "stream",
       "stream": "stderr",
       "text": [
        "[2012-12-19 09:25:37] DEBUG:               Python: 2.7.3\n"
       ]
      },
      {
       "output_type": "stream",
       "stream": "stderr",
       "text": [
        "[2012-12-19 09:25:37] DEBUG:             Sundials: 2.4.0-5\n"
       ]
      },
      {
       "output_type": "stream",
       "stream": "stderr",
       "text": [
        "[2012-12-19 09:25:37] DEBUG:         Boost-Python: 1.46.1\n"
       ]
      },
      {
       "output_type": "stream",
       "stream": "stderr",
       "text": [
        "[2012-12-19 09:25:37] DEBUG:                Linux: Ubuntu 12.04.1 LTS\n"
       ]
      }
     ],
     "prompt_number": 1
    },
    {
     "cell_type": "code",
     "collapsed": false,
     "input": [
      "# new function that does the time integration for max_steps only\n",
      "def advance_time(integrator, tout, yout, max_steps=None):\n",
      "    integrator.set_max_num_steps(max_steps)\n",
      "    \"\"\"\n",
      "    *Arguments*\n",
      "\n",
      "      ``tout`` - target time (float)\n",
      "\n",
      "      ``yout`` - state vector (numpy array)\n",
      "\n",
      "      ``max_steps`` - maximum number of steps (integer)\n",
      "    \n",
      "    Given the integrator object, a target time tout, and a state vector yout,\n",
      "    this function integrates towards tout. If max_steps is given and the \n",
      "    number of more than max_steps steps for the integration are reached, \n",
      "    we interrupt the calculation and return False.\n",
      "\n",
      "    If tout is reached within the number of allowed steps, it will return True.\n",
      "    \"\"\"\n",
      "    \n",
      "    if max_steps != None:\n",
      "        integrator.set_max_num_steps(1)\n",
      "        \n",
      "    reached_tout = True\n",
      "    tout_actual = tout\n",
      "    try:\n",
      "        integrator.advance_time(tout, yout)\n",
      "    except RuntimeError, msg:\n",
      "        # if we have reached max_num_steps, the error message will read something like\n",
      "        # expected_error = \"Error in CVODE:CVode (CV_TOO_MUCH_WORK): At t = 0.258733, mxstep steps taken before reaching tout.'\"\n",
      "        if \"CV_TOO_MUCH_WORK\" in msg.message:\n",
      "            reached_tout = False\n",
      "            print (\"not reached t_out\")\n",
      "            # in this case, return cvode current time\n",
      "            tout_actual = integrator.get_current_time()\n",
      "        else: # don't know what this is, raise error again\n",
      "            raise\n",
      "    return reached_tout, tout_actual\n",
      "    "
     ],
     "language": "python",
     "metadata": {},
     "outputs": [],
     "prompt_number": 2
    },
    {
     "cell_type": "code",
     "collapsed": false,
     "input": [
      "def test_advance_time_nsteps():\n",
      "    import numpy as np\n",
      "    from finmag.util.ode import cvode\n",
      "    import finmag.native.sundials as sundials\n",
      "    integrator = sundials.cvode(sundials.CV_ADAMS, sundials.CV_FUNCTIONAL)\n",
      "    def rhs(t, y, ydot):\n",
      "            ydot[:] = 0.5 * y\n",
      "            return 0\n",
      "\n",
      "    yout = np.zeros(1)\n",
      "    ts = np.linspace(0.1, 1, 10)*0.1\n",
      "    integrator.init(rhs, 0, np.array([1.]))\n",
      "    integrator.set_scalar_tolerances(1e-9, 1e-9)\n",
      "for i, t in enumerate(ts):\n",
      "    retval, tout_actual = advance_time(integrator, t, yout, 2)\n",
      "    #assert retval == 0.0\n",
      "    print(\"t={:6.4}, yout = {:14}\".format(t,yout)),\n",
      "    print(\"current_time = {:15.10}\".format(integrator.get_current_time())),\n",
      "    print(\"num_steps = {:6}\".format(integrator.get_num_steps())),\n",
      "    print(\"cur_step = {:6}\".format(integrator.get_current_step())),\n",
      "    print(\"rhsevals = {:6}\".format(integrator.get_num_rhs_evals()))\n",
      "    absdiff = abs(yout[0] - np.exp(tout_actual*0.5))\n",
      "    assert absdiff < 2e-9"
     ],
     "language": "python",
     "metadata": {},
     "outputs": [
      {
       "output_type": "stream",
       "stream": "stdout",
       "text": [
        "not reached t_out\n",
        "t=  0.01, yout = [ 1.00006325]  current_time = 0.0001264911064 num_steps =      2 cur_step = 6.32455532034e-05 rhsevals =      8\n",
        "not reached t_out\n",
        "t=  0.02, yout = [ 1.00024048]  current_time = 0.0004809016481 num_steps =      4 cur_step = 0.000177205270844 rhsevals =     13\n",
        "not reached t_out\n",
        "t=  0.03, yout = [ 1.00397763]  current_time =  0.007939472387 num_steps =      6 cur_step = 0.00568651803047 rhsevals =     18\n",
        "not reached t_out\n",
        "t=  0.04, yout = [ 1.01656053]  current_time =   0.03284980433 num_steps =      8 cur_step = 0.0192238139121 rhsevals =     20\n",
        "t=  0.05, yout = [ 1.02531512]  current_time =   0.05207361824 num_steps =      9 cur_step = 0.0507205360613 rhsevals =     22\n",
        "t=  0.06, yout = [ 1.03045454]  current_time =   0.07952981349 num_steps =     10 cur_step = 0.0274561952488 rhsevals =     26\n",
        "t=  0.07, yout = [ 1.03561971]  current_time =   0.07952981349 num_steps =     10 cur_step = 0.0274561952488 rhsevals =     26\n",
        "t=  0.08, yout = [ 1.04081078]  current_time =    0.1069860087 num_steps =     11 cur_step = 0.0505824642197 rhsevals =     27\n",
        "t=  0.09, yout = [ 1.04602786]  current_time =    0.1069860087 num_steps =     11 cur_step = 0.0505824642197 rhsevals =     27\n",
        "t=   0.1, yout = [ 1.0512711]   current_time =    0.1069860087 num_steps =     11 cur_step = 0.0505824642197 rhsevals =     27\n"
       ]
      }
     ],
     "prompt_number": 4
    },
    {
     "cell_type": "code",
     "collapsed": false,
     "input": [
      "integrator.get_"
     ],
     "language": "python",
     "metadata": {},
     "outputs": [
      {
       "ename": "RuntimeError",
       "evalue": "Error in CVDIAG:CVDiagGetLastFlag (-2): CVDIAG memory is NULL.",
       "output_type": "pyerr",
       "traceback": [
        "\u001b[1;31m---------------------------------------------------------------------------\u001b[0m\n\u001b[1;31mRuntimeError\u001b[0m                              Traceback (most recent call last)",
        "\u001b[1;32m<ipython-input-22-092ae585028d>\u001b[0m in \u001b[0;36m<module>\u001b[1;34m()\u001b[0m\n\u001b[1;32m----> 1\u001b[1;33m \u001b[0mintegrator\u001b[0m\u001b[1;33m.\u001b[0m\u001b[0mget_diag_last_flag\u001b[0m\u001b[1;33m(\u001b[0m\u001b[1;33m)\u001b[0m\u001b[1;33m\u001b[0m\u001b[0m\n\u001b[0m",
        "\u001b[1;31mRuntimeError\u001b[0m: Error in CVDIAG:CVDiagGetLastFlag (-2): CVDIAG memory is NULL."
       ]
      }
     ],
     "prompt_number": 22
    },
    {
     "cell_type": "code",
     "collapsed": false,
     "input": [
      "integrator.get_actual_init_step()  # the step size that was attempted as the very first step "
     ],
     "language": "python",
     "metadata": {},
     "outputs": [
      {
       "output_type": "pyout",
       "prompt_number": 4,
       "text": [
        "6.324555320338399e-05"
       ]
      }
     ],
     "prompt_number": 4
    },
    {
     "cell_type": "markdown",
     "metadata": {},
     "source": [
      "    There is a convenient function to get a number of statistics in one shot: "
     ]
    },
    {
     "cell_type": "code",
     "collapsed": false,
     "input": [
      "stats = integrator.get_integrator_stats()\n",
      "nsteps, nfevals, nlinsetups, netfails, qlast, qcur, hinused, hlast, hcur, tcur = stats\n",
      "print nsteps"
     ],
     "language": "python",
     "metadata": {},
     "outputs": [
      {
       "output_type": "stream",
       "stream": "stdout",
       "text": [
        "12\n"
       ]
      }
     ],
     "prompt_number": 14
    },
    {
     "cell_type": "code",
     "collapsed": false,
     "input": [
      "integrator.set_max_num_steps(1)"
     ],
     "language": "python",
     "metadata": {},
     "outputs": [],
     "prompt_number": 10
    },
    {
     "cell_type": "code",
     "collapsed": false,
     "input": [],
     "language": "python",
     "metadata": {},
     "outputs": []
    }
   ],
   "metadata": {}
  }
 ]
}