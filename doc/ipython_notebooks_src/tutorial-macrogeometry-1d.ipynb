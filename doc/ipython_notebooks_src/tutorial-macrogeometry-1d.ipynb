{
 "metadata": {
  "name": "",
  "signature": "sha256:5362dc3464344479a0e4c499aed68b056dcef9b976265c04e9e58101b1f5b11b"
 },
 "nbformat": 3,
 "nbformat_minor": 0,
 "worksheets": [
  {
   "cells": [
    {
     "cell_type": "heading",
     "level": 1,
     "metadata": {},
     "source": [
      "Demagnetisation using periodic boundary conditions"
     ]
    },
    {
     "cell_type": "heading",
     "level": 2,
     "metadata": {},
     "source": [
      "Setting the simulation"
     ]
    },
    {
     "cell_type": "code",
     "collapsed": false,
     "input": [
      "import dolfin as df\n",
      "import numpy as np\n",
      "import matplotlib.pyplot as plt\n",
      "from finmag import Simulation as Sim\n",
      "from finmag.energies import Demag\n",
      "%matplotlib inline"
     ],
     "language": "python",
     "metadata": {},
     "outputs": [],
     "prompt_number": 11
    },
    {
     "cell_type": "markdown",
     "metadata": {},
     "source": [
      "The mesh unit cell is a box with edge length $a$ and number of vertices along one dimension $N_{v}$."
     ]
    },
    {
     "cell_type": "code",
     "collapsed": false,
     "input": [
      "a = 5  # edge length (nm)\n",
      "Nv = 5  # number of verices along one direction\n",
      "\n",
      "mesh = df.BoxMesh(-a/2., -a/2., -a/2., a/2., a/2., a/2., Nv, Nv, Nv)"
     ],
     "language": "python",
     "metadata": {},
     "outputs": [],
     "prompt_number": 12
    },
    {
     "cell_type": "markdown",
     "metadata": {},
     "source": [
      "The simulation object is created with saturation magnetisation $M_\\text{s} = 10^6$ A/m."
     ]
    },
    {
     "cell_type": "code",
     "collapsed": false,
     "input": [
      "Ms = 1e6  # saturation magnetisation (A/m)\n",
      "sim = Sim(mesh, Ms, unit_length=1e-9)"
     ],
     "language": "python",
     "metadata": {},
     "outputs": [
      {
       "output_type": "stream",
       "stream": "stderr",
       "text": [
        "[2014-06-20 12:29:17] INFO: Finmag logging output will be written to file: '/home/mb4e10/finmag/sandbox/periodic/demag/unnamed.log' (any old content will be overwritten).\n"
       ]
      },
      {
       "output_type": "stream",
       "stream": "stderr",
       "text": [
        "[2014-06-20 12:29:17] DEBUG: Creating DataWriter for file 'unnamed.ndt'\n"
       ]
      },
      {
       "output_type": "stream",
       "stream": "stderr",
       "text": [
        "[2014-06-20 12:29:17] INFO: Creating Sim object 'unnamed' (rank=0/1).\n"
       ]
      },
      {
       "output_type": "stream",
       "stream": "stderr",
       "text": [
        "[2014-06-20 12:29:17] INFO: <Mesh of topological dimension 3 (tetrahedra) with 216 vertices and 750 cells, ordered>\n"
       ]
      },
      {
       "output_type": "stream",
       "stream": "stderr",
       "text": [
        "[2014-06-20 12:29:17] DEBUG: Creating LLG object.\n"
       ]
      }
     ],
     "prompt_number": 13
    },
    {
     "cell_type": "markdown",
     "metadata": {},
     "source": [
      "Now, a one-dimensional lattice of $n$ elements is created:"
     ]
    },
    {
     "cell_type": "code",
     "collapsed": false,
     "input": [
      "n = 5\n",
      "lattice = []\n",
      "for i in range(-n/2+1, n/2+1):\n",
      "    lattice.append((a*i, 0, 0))"
     ],
     "language": "python",
     "metadata": {},
     "outputs": [],
     "prompt_number": 14
    },
    {
     "cell_type": "markdown",
     "metadata": {},
     "source": [
      "Demag object is created using already defined lattice and added to the simulation:"
     ]
    },
    {
     "cell_type": "code",
     "collapsed": false,
     "input": [
      "demag = Demag(Ts=lattice)\n",
      "sim.add(demag)"
     ],
     "language": "python",
     "metadata": {},
     "outputs": [
      {
       "output_type": "stream",
       "stream": "stderr",
       "text": [
        "[2014-06-20 12:29:18] DEBUG: Creating Demag object with solver 'FK'.\n"
       ]
      },
      {
       "output_type": "stream",
       "stream": "stderr",
       "text": [
        "[2014-06-20 12:29:18] DEBUG: Adding interaction Demag to simulation.\n"
       ]
      }
     ],
     "prompt_number": 15
    },
    {
     "cell_type": "markdown",
     "metadata": {},
     "source": [
      "Now, the demagnetisation field can be computed for different magnetisation configurations. For instance:"
     ]
    },
    {
     "cell_type": "code",
     "collapsed": false,
     "input": [
      "sim.set_m((0, 0, 1))\n",
      "field = sim.llg.effective_field.get_dolfin_function('Demag')"
     ],
     "language": "python",
     "metadata": {},
     "outputs": [],
     "prompt_number": 16
    },
    {
     "cell_type": "markdown",
     "metadata": {},
     "source": [
      "At a particular point in the mesh, the field value can be extracted:"
     ]
    },
    {
     "cell_type": "code",
     "collapsed": false,
     "input": [
      "field_at_point = field(0, 0, 0)\n",
      "print field_at_point"
     ],
     "language": "python",
     "metadata": {},
     "outputs": [
      {
       "output_type": "stream",
       "stream": "stdout",
       "text": [
        "[  2.76201545e+02   2.06076124e+04  -4.88198509e+05]\n"
       ]
      }
     ],
     "prompt_number": 17
    },
    {
     "cell_type": "heading",
     "level": 2,
     "metadata": {},
     "source": [
      "Demagnetisation field for different number of elements in the lattice"
     ]
    },
    {
     "cell_type": "markdown",
     "metadata": {},
     "source": [
      "An array of possible numbers of ellements in the lattice:"
     ]
    },
    {
     "cell_type": "code",
     "collapsed": false,
     "input": [
      "ns = np.arange(1, 30, 2)\n",
      "print ns"
     ],
     "language": "python",
     "metadata": {},
     "outputs": [
      {
       "output_type": "stream",
       "stream": "stdout",
       "text": [
        "[ 1  3  5  7  9 11 13 15 17 19 21 23 25 27 29]\n"
       ]
      }
     ],
     "prompt_number": 25
    },
    {
     "cell_type": "markdown",
     "metadata": {},
     "source": [
      "The first part of this notebook implemented as a function which returns demagnetisation field for two different magnetisation configurations (0, 0, 1) and (1, 0, 0):\n"
     ]
    },
    {
     "cell_type": "code",
     "collapsed": false,
     "input": [
      "a = 10  # edge length (nm)\n",
      "Nv = 10  # number of verices along one direction\n",
      "\n",
      "mesh = df.BoxMesh(-a/2., -a/2., -a/2., a/2., a/2., a/2., Nv, Nv, Nv)\n",
      "\n",
      "Ms = 1e6  # saturation magnetisation (A/m)\n",
      "sim = Sim(mesh, Ms, unit_length=1e-9)\n",
      "\n",
      "def compute_fields(n):\n",
      "    lattice = []\n",
      "    for i in range(-n/2+1, n/2+1):\n",
      "        lattice.append((a*i, 0, 0))\n",
      "        \n",
      "    demag = Demag(Ts=lattice)\n",
      "    sim.add(demag)\n",
      "    \n",
      "    sim.set_m((1, 0, 0))\n",
      "    field1 = sim.llg.effective_field.get_dolfin_function('Demag')\n",
      "    \n",
      "    sim.set_m((0, 0, 1))\n",
      "    field2 = sim.llg.effective_field.get_dolfin_function('Demag')\n",
      "    \n",
      "    sim.remove_interaction('Demag')\n",
      "    \n",
      "    return field1(0, 0, 0)/Ms, field2(0, 0, 0)/Ms"
     ],
     "language": "python",
     "metadata": {},
     "outputs": [
      {
       "output_type": "stream",
       "stream": "stderr",
       "text": [
        "[2014-06-20 12:35:29] INFO: Finmag logging output will be written to file: '/home/mb4e10/finmag/sandbox/periodic/demag/unnamed.log' (any old content will be overwritten).\n"
       ]
      },
      {
       "output_type": "stream",
       "stream": "stderr",
       "text": [
        "[2014-06-20 12:35:30] DEBUG: Creating DataWriter for file 'unnamed.ndt'\n"
       ]
      },
      {
       "output_type": "stream",
       "stream": "stderr",
       "text": [
        "[2014-06-20 12:35:30] INFO: Creating Sim object 'unnamed' (rank=0/1).\n"
       ]
      },
      {
       "output_type": "stream",
       "stream": "stderr",
       "text": [
        "[2014-06-20 12:35:30] INFO: <Mesh of topological dimension 3 (tetrahedra) with 1331 vertices and 6000 cells, ordered>\n"
       ]
      },
      {
       "output_type": "stream",
       "stream": "stderr",
       "text": [
        "[2014-06-20 12:35:30] DEBUG: Creating LLG object.\n"
       ]
      }
     ],
     "prompt_number": 30
    },
    {
     "cell_type": "markdown",
     "metadata": {},
     "source": [
      "Now, the field is computed for different values of $n$ and plotted:"
     ]
    },
    {
     "cell_type": "code",
     "collapsed": false,
     "input": [
      "field1_list = []\n",
      "field2_list = []\n",
      "\n",
      "for i in ns:\n",
      "    fields = compute_fields(i)\n",
      "    print fields\n",
      "    field1_list.append(fields[0][0])\n",
      "    field2_list.append(fields[1][2])"
     ],
     "language": "python",
     "metadata": {},
     "outputs": [
      {
       "output_type": "stream",
       "stream": "stderr",
       "text": [
        "[2014-06-20 12:39:39] DEBUG: Creating Demag object with solver 'FK'.\n"
       ]
      },
      {
       "output_type": "stream",
       "stream": "stderr",
       "text": [
        "[2014-06-20 12:39:39] DEBUG: Adding interaction Demag to simulation.\n"
       ]
      },
      {
       "output_type": "stream",
       "stream": "stderr",
       "text": [
        "[2014-06-20 12:39:40] DEBUG: Removing interaction 'Demag' from simulation 'unnamed'\n"
       ]
      },
      {
       "output_type": "stream",
       "stream": "stderr",
       "text": [
        "[2014-06-20 12:39:40] DEBUG: Creating Demag object with solver 'FK'.\n"
       ]
      },
      {
       "output_type": "stream",
       "stream": "stderr",
       "text": [
        "[2014-06-20 12:39:40] DEBUG: Adding interaction Demag to simulation.\n"
       ]
      },
      {
       "output_type": "stream",
       "stream": "stderr",
       "text": [
        "[2014-06-20 12:39:42] DEBUG: Removing interaction 'Demag' from simulation 'unnamed'\n"
       ]
      },
      {
       "output_type": "stream",
       "stream": "stdout",
       "text": [
        "(array([-0.33370356,  0.00159785,  0.00159785]), array([ 0.00159785,  0.00159785, -0.33370356]))\n",
        "(array([-0.06380568,  0.00011301,  0.00011301]), array([  1.13661620e-04,   2.06078462e-03,  -4.68286122e-01]))"
       ]
      },
      {
       "output_type": "stream",
       "stream": "stderr",
       "text": [
        "[2014-06-20 12:39:42] DEBUG: Creating Demag object with solver 'FK'.\n"
       ]
      },
      {
       "output_type": "stream",
       "stream": "stderr",
       "text": [
        "[2014-06-20 12:39:42] DEBUG: Adding interaction Demag to simulation.\n"
       ]
      },
      {
       "output_type": "stream",
       "stream": "stderr",
       "text": [
        "[2014-06-20 12:39:44] DEBUG: Removing interaction 'Demag' from simulation 'unnamed'\n"
       ]
      },
      {
       "output_type": "stream",
       "stream": "stdout",
       "text": [
        "\n",
        "(array([ -2.44950567e-02,   1.86103707e-05,   1.86103707e-05]), array([  2.04652827e-05,   2.08473760e-03,  -4.87942295e-01]))"
       ]
      },
      {
       "output_type": "stream",
       "stream": "stderr",
       "text": [
        "[2014-06-20 12:39:44] DEBUG: Creating Demag object with solver 'FK'.\n"
       ]
      },
      {
       "output_type": "stream",
       "stream": "stderr",
       "text": [
        "[2014-06-20 12:39:44] DEBUG: Adding interaction Demag to simulation.\n"
       ]
      },
      {
       "output_type": "stream",
       "stream": "stderr",
       "text": [
        "[2014-06-20 12:39:46] DEBUG: Removing interaction 'Demag' from simulation 'unnamed'\n"
       ]
      },
      {
       "output_type": "stream",
       "stream": "stdout",
       "text": [
        "\n",
        "(array([ -1.27345920e-02,   5.64184008e-06,   5.64184008e-06]), array([  7.56288047e-06,   2.08799199e-03,  -4.93822557e-01]))"
       ]
      },
      {
       "output_type": "stream",
       "stream": "stderr",
       "text": [
        "[2014-06-20 12:39:46] DEBUG: Creating Demag object with solver 'FK'.\n"
       ]
      },
      {
       "output_type": "stream",
       "stream": "stderr",
       "text": [
        "[2014-06-20 12:39:46] DEBUG: Adding interaction Demag to simulation.\n"
       ]
      },
      {
       "output_type": "stream",
       "stream": "stderr",
       "text": [
        "[2014-06-20 12:39:48] DEBUG: Removing interaction 'Demag' from simulation 'unnamed'\n"
       ]
      },
      {
       "output_type": "stream",
       "stream": "stdout",
       "text": [
        "\n",
        "(array([ -7.76488082e-03,   2.54576805e-06,   2.54576805e-06]), array([  4.47003083e-06,   2.08876635e-03,  -4.96307415e-01]))"
       ]
      },
      {
       "output_type": "stream",
       "stream": "stderr",
       "text": [
        "[2014-06-20 12:39:48] DEBUG: Creating Demag object with solver 'FK'.\n"
       ]
      },
      {
       "output_type": "stream",
       "stream": "stderr",
       "text": [
        "[2014-06-20 12:39:48] DEBUG: Adding interaction Demag to simulation.\n"
       ]
      },
      {
       "output_type": "stream",
       "stream": "stderr",
       "text": [
        "[2014-06-20 12:39:52] DEBUG: Removing interaction 'Demag' from simulation 'unnamed'\n"
       ]
      },
      {
       "output_type": "stream",
       "stream": "stdout",
       "text": [
        "\n",
        "(array([ -5.21921974e-03,   1.53062501e-06,   1.53062501e-06]), array([  3.45294751e-06,   2.08901974e-03,  -4.97580245e-01]))"
       ]
      },
      {
       "output_type": "stream",
       "stream": "stderr",
       "text": [
        "[2014-06-20 12:39:52] DEBUG: Creating Demag object with solver 'FK'.\n"
       ]
      },
      {
       "output_type": "stream",
       "stream": "stderr",
       "text": [
        "[2014-06-20 12:39:52] DEBUG: Adding interaction Demag to simulation.\n"
       ]
      },
      {
       "output_type": "stream",
       "stream": "stderr",
       "text": [
        "[2014-06-20 12:39:56] DEBUG: Removing interaction 'Demag' from simulation 'unnamed'\n"
       ]
      },
      {
       "output_type": "stream",
       "stream": "stdout",
       "text": [
        "\n",
        "(array([ -3.74579200e-03,   1.12298549e-06,   1.12298549e-06]), array([  3.04342536e-06,   2.08912131e-03,  -4.98316959e-01]))"
       ]
      },
      {
       "output_type": "stream",
       "stream": "stderr",
       "text": [
        "[2014-06-20 12:39:56] DEBUG: Creating Demag object with solver 'FK'.\n"
       ]
      },
      {
       "output_type": "stream",
       "stream": "stderr",
       "text": [
        "[2014-06-20 12:39:56] DEBUG: Adding interaction Demag to simulation.\n"
       ]
      },
      {
       "output_type": "stream",
       "stream": "stderr",
       "text": [
        "[2014-06-20 12:40:00] DEBUG: Removing interaction 'Demag' from simulation 'unnamed'\n"
       ]
      },
      {
       "output_type": "stream",
       "stream": "stdout",
       "text": [
        "\n",
        "(array([ -2.81785301e-03,   9.34643909e-07,   9.34643909e-07]), array([  2.85369036e-06,   2.08916816e-03,  -4.98780929e-01]))"
       ]
      },
      {
       "output_type": "stream",
       "stream": "stderr",
       "text": [
        "[2014-06-20 12:40:00] DEBUG: Creating Demag object with solver 'FK'.\n"
       ]
      },
      {
       "output_type": "stream",
       "stream": "stderr",
       "text": [
        "[2014-06-20 12:40:00] DEBUG: Adding interaction Demag to simulation.\n"
       ]
      },
      {
       "output_type": "stream",
       "stream": "stderr",
       "text": [
        "[2014-06-20 12:40:05] DEBUG: Removing interaction 'Demag' from simulation 'unnamed'\n"
       ]
      },
      {
       "output_type": "stream",
       "stream": "stdout",
       "text": [
        "\n",
        "(array([ -2.19618484e-03,   8.38208551e-07,   8.38208551e-07]), array([  2.75625308e-06,   2.08919210e-03,  -4.99091763e-01]))"
       ]
      },
      {
       "output_type": "stream",
       "stream": "stderr",
       "text": [
        "[2014-06-20 12:40:05] DEBUG: Creating Demag object with solver 'FK'.\n"
       ]
      },
      {
       "output_type": "stream",
       "stream": "stderr",
       "text": [
        "[2014-06-20 12:40:05] DEBUG: Adding interaction Demag to simulation.\n"
       ]
      },
      {
       "output_type": "stream",
       "stream": "stderr",
       "text": [
        "[2014-06-20 12:40:11] DEBUG: Removing interaction 'Demag' from simulation 'unnamed'\n"
       ]
      },
      {
       "output_type": "stream",
       "stream": "stdout",
       "text": [
        "\n",
        "(array([ -1.75955936e-03,   7.84801272e-07,   7.84801272e-07]), array([  2.70211621e-06,   2.08920533e-03,  -4.99310076e-01]))"
       ]
      },
      {
       "output_type": "stream",
       "stream": "stderr",
       "text": [
        "[2014-06-20 12:40:11] DEBUG: Creating Demag object with solver 'FK'.\n"
       ]
      },
      {
       "output_type": "stream",
       "stream": "stderr",
       "text": [
        "[2014-06-20 12:40:11] DEBUG: Adding interaction Demag to simulation.\n"
       ]
      },
      {
       "output_type": "stream",
       "stream": "stderr",
       "text": [
        "[2014-06-20 12:40:17] DEBUG: Removing interaction 'Demag' from simulation 'unnamed'\n"
       ]
      },
      {
       "output_type": "stream",
       "stream": "stdout",
       "text": [
        "\n",
        "(array([ -1.44125602e-03,   7.53336285e-07,   7.53336285e-07]), array([  2.67010840e-06,   2.08921311e-03,  -4.99469227e-01]))"
       ]
      },
      {
       "output_type": "stream",
       "stream": "stderr",
       "text": [
        "[2014-06-20 12:40:17] DEBUG: Creating Demag object with solver 'FK'.\n"
       ]
      },
      {
       "output_type": "stream",
       "stream": "stderr",
       "text": [
        "[2014-06-20 12:40:17] DEBUG: Adding interaction Demag to simulation.\n"
       ]
      },
      {
       "output_type": "stream",
       "stream": "stderr",
       "text": [
        "[2014-06-20 12:40:23] DEBUG: Removing interaction 'Demag' from simulation 'unnamed'\n"
       ]
      },
      {
       "output_type": "stream",
       "stream": "stdout",
       "text": [
        "\n",
        "(array([ -1.20210849e-03,   7.33848154e-07,   7.33848154e-07]), array([  2.65020739e-06,   2.08921792e-03,  -4.99588801e-01]))"
       ]
      },
      {
       "output_type": "stream",
       "stream": "stderr",
       "text": [
        "[2014-06-20 12:40:23] DEBUG: Creating Demag object with solver 'FK'.\n"
       ]
      },
      {
       "output_type": "stream",
       "stream": "stderr",
       "text": [
        "[2014-06-20 12:40:23] DEBUG: Adding interaction Demag to simulation.\n"
       ]
      },
      {
       "output_type": "stream",
       "stream": "stderr",
       "text": [
        "[2014-06-20 12:40:30] DEBUG: Removing interaction 'Demag' from simulation 'unnamed'\n"
       ]
      },
      {
       "output_type": "stream",
       "stream": "stdout",
       "text": [
        "\n",
        "(array([ -1.01790324e-03,   7.21269737e-07,   7.21269737e-07]), array([  2.63730844e-06,   2.08922101e-03,  -4.99680904e-01]))"
       ]
      },
      {
       "output_type": "stream",
       "stream": "stderr",
       "text": [
        "[2014-06-20 12:40:30] DEBUG: Creating Demag object with solver 'FK'.\n"
       ]
      },
      {
       "output_type": "stream",
       "stream": "stderr",
       "text": [
        "[2014-06-20 12:40:30] DEBUG: Adding interaction Demag to simulation.\n"
       ]
      },
      {
       "output_type": "stream",
       "stream": "stderr",
       "text": [
        "[2014-06-20 12:40:39] DEBUG: Removing interaction 'Demag' from simulation 'unnamed'\n"
       ]
      },
      {
       "output_type": "stream",
       "stream": "stdout",
       "text": [
        "\n",
        "(array([ -8.73020446e-04,   7.12865341e-07,   7.12865341e-07]), array([  2.62865063e-06,   2.08922307e-03,  -4.99753345e-01]))"
       ]
      },
      {
       "output_type": "stream",
       "stream": "stderr",
       "text": [
        "[2014-06-20 12:40:39] DEBUG: Creating Demag object with solver 'FK'.\n"
       ]
      },
      {
       "output_type": "stream",
       "stream": "stderr",
       "text": [
        "[2014-06-20 12:40:39] DEBUG: Adding interaction Demag to simulation.\n"
       ]
      },
      {
       "output_type": "stream",
       "stream": "stderr",
       "text": [
        "[2014-06-20 12:40:47] DEBUG: Removing interaction 'Demag' from simulation 'unnamed'\n"
       ]
      },
      {
       "output_type": "stream",
       "stream": "stdout",
       "text": [
        "\n",
        "(array([ -7.57018957e-04,   7.07082173e-07,   7.07082173e-07]), array([  2.62266383e-06,   2.08922448e-03,  -4.99811346e-01]))"
       ]
      },
      {
       "output_type": "stream",
       "stream": "stdout",
       "text": [
        "\n"
       ]
      }
     ],
     "prompt_number": 34
    },
    {
     "cell_type": "code",
     "collapsed": false,
     "input": [
      "plt.subplot(211)\n",
      "plt.plot(ns, field1_list)\n",
      "\n",
      "plt.subplot(212)\n",
      "plt.plot(ns, field2_list)"
     ],
     "language": "python",
     "metadata": {},
     "outputs": [
      {
       "metadata": {},
       "output_type": "pyout",
       "prompt_number": 35,
       "text": [
        "[<matplotlib.lines.Line2D at 0x7fc26c54fad0>]"
       ]
      },
      {
       "metadata": {},
       "output_type": "display_data",
       "png": "[encoded data removed]",
       "text": [
        "<matplotlib.figure.Figure at 0x7fc26c827790>"
       ]
      }
     ],
     "prompt_number": 35
    }
   ],
   "metadata": {}
  }
 ]
}