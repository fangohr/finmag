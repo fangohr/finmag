{
 "cells": [
  {
   "cell_type": "markdown",
   "metadata": {},
   "source": [
    "# Demagnetisation using periodic boundary conditions"
   ]
  },
  {
   "cell_type": "markdown",
   "metadata": {},
   "source": [
    "## Setting the simulation"
   ]
  },
  {
   "cell_type": "code",
   "execution_count": 1,
   "metadata": {
    "collapsed": false
   },
   "outputs": [
    {
     "name": "stderr",
     "output_type": "stream",
     "text": [
      "[2014-09-12 14:45:45] INFO: Finmag logging output will be appended to file: '/home/mb4e10/.finmag/global.log'\n",
      "[2014-09-12 14:45:45] DEBUG: Building modules in 'native'...\n",
      "[2014-09-12 14:45:46] DEBUG: FinMag          5438:1bb581759ff69c55bae9a12753e0a04f051a5d47\n",
      "[2014-09-12 14:45:46] DEBUG: Dolfin          1.4.0                Matplotlib      1.3.1               \n",
      "[2014-09-12 14:45:46] DEBUG: Numpy           1.8.1                Scipy           0.14.0              \n",
      "[2014-09-12 14:45:46] DEBUG: IPython         2.1.0                Python          2.7.6               \n",
      "[2014-09-12 14:45:46] DEBUG: Paraview        4.0.1-1ubuntu1       Sundials        2.5.0               \n",
      "[2014-09-12 14:45:46] DEBUG: Boost-Python    <unknown>            Linux           Ubuntu 14.04.1 LTS  \n",
      "[2014-09-12 14:45:46] DEBUG: Registering debug signal handler. Press Ctrl-Z at any time to stop execution and jump into the debugger.\n"
     ]
    }
   ],
   "source": [
    "import dolfin as df\n",
    "import numpy as np\n",
    "import matplotlib.pyplot as plt\n",
    "from finmag import Simulation as Sim\n",
    "from finmag.energies import Demag\n",
    "from finmag import MacroGeometry\n",
    "%matplotlib inline"
   ]
  },
  {
   "cell_type": "markdown",
   "metadata": {},
   "source": [
    "The mesh unit cell is a box with edge length $a$ and number of vertices along one dimension $N_{v}$."
   ]
  },
  {
   "cell_type": "code",
   "execution_count": 2,
   "metadata": {
    "collapsed": false
   },
   "outputs": [],
   "source": [
    "a = 5  # edge length (nm)\n",
    "Nv = 5  # number of verices along one direction\n",
    "\n",
    "mesh = df.BoxMesh(-a/2., -a/2., -a/2., a/2., a/2., a/2., Nv, Nv, Nv)"
   ]
  },
  {
   "cell_type": "markdown",
   "metadata": {},
   "source": [
    "The simulation object is created with saturation magnetisation $M_\\text{s} = 10^6$ A/m."
   ]
  },
  {
   "cell_type": "code",
   "execution_count": 3,
   "metadata": {
    "collapsed": false
   },
   "outputs": [
    {
     "name": "stderr",
     "output_type": "stream",
     "text": [
      "[2014-09-12 14:45:50] INFO: Finmag logging output will be written to file: '/home/mb4e10/finmag/doc/ipython_notebooks_src/unnamed.log' (any old content will be overwritten).\n",
      "[2014-09-12 14:45:50] DEBUG: Creating DataWriter for file 'unnamed.ndt'\n",
      "[2014-09-12 14:45:50] INFO: Creating Sim object 'unnamed' (rank=0/1).\n",
      "[2014-09-12 14:45:50] INFO: <Mesh of topological dimension 3 (tetrahedra) with 216 vertices and 750 cells, ordered>\n",
      "[2014-09-12 14:45:50] DEBUG: Creating LLG object.\n"
     ]
    }
   ],
   "source": [
    "Ms = 1e6  # saturation magnetisation (A/m)\n",
    "sim = Sim(mesh, Ms, unit_length=1e-9)"
   ]
  },
  {
   "cell_type": "markdown",
   "metadata": {},
   "source": [
    "Demag object is created using already defined lattice and added to the simulation:"
   ]
  },
  {
   "cell_type": "code",
   "execution_count": 4,
   "metadata": {
    "collapsed": false
   },
   "outputs": [
    {
     "name": "stderr",
     "output_type": "stream",
     "text": [
      "[2014-09-12 14:45:51] DEBUG: Creating Demag object with solver 'FK'.\n",
      "[2014-09-12 14:45:51] DEBUG: Adding interaction Demag to simulation.\n",
      "[2014-09-12 14:45:51] DEBUG: Using Krylov solver for demag.\n",
      "[2014-09-12 14:45:51] DEBUG: Creating macro-geometry with demag 5 x 1 tiles (dxdy: 5.0 x 5.0)\n",
      "[2014-09-12 14:45:52] DEBUG: Boundary element matrix uses 0.18 MB of memory.\n"
     ]
    }
   ],
   "source": [
    "n = 5\n",
    "demag = Demag(macrogeometry=MacroGeometry(nx=n))\n",
    "sim.add(demag)"
   ]
  },
  {
   "cell_type": "markdown",
   "metadata": {},
   "source": [
    "Now, the demagnetisation field can be computed for different magnetisation configurations. For instance:"
   ]
  },
  {
   "cell_type": "code",
   "execution_count": 5,
   "metadata": {
    "collapsed": false
   },
   "outputs": [],
   "source": [
    "sim.set_m((0, 0, 1))\n",
    "field = sim.llg.effective_field.get_dolfin_function('Demag')"
   ]
  },
  {
   "cell_type": "markdown",
   "metadata": {},
   "source": [
    "At a particular point in the mesh, the field value can be extracted:"
   ]
  },
  {
   "cell_type": "code",
   "execution_count": 6,
   "metadata": {
    "collapsed": false
   },
   "outputs": [
    {
     "name": "stdout",
     "output_type": "stream",
     "text": [
      "[  2.76201545e+02   2.06076124e+04  -4.88198509e+05]\n"
     ]
    }
   ],
   "source": [
    "field_at_point = field(0, 0, 0)\n",
    "print field_at_point"
   ]
  },
  {
   "cell_type": "markdown",
   "metadata": {},
   "source": [
    "## Demagnetisation field for different number of elements in the lattice"
   ]
  },
  {
   "cell_type": "markdown",
   "metadata": {},
   "source": [
    "An array of possible numbers of ellements in the lattice:"
   ]
  },
  {
   "cell_type": "code",
   "execution_count": 7,
   "metadata": {
    "collapsed": false
   },
   "outputs": [
    {
     "name": "stdout",
     "output_type": "stream",
     "text": [
      "[ 1  3  5  7  9 11 13 15 17 19 21 23 25 27 29]\n"
     ]
    }
   ],
   "source": [
    "ns = np.arange(1, 30, 2)\n",
    "print ns"
   ]
  },
  {
   "cell_type": "markdown",
   "metadata": {},
   "source": [
    "The first part of this notebook implemented as a function which returns demagnetisation field for two different magnetisation configurations (0, 0, 1) and (1, 0, 0):\n"
   ]
  },
  {
   "cell_type": "code",
   "execution_count": 8,
   "metadata": {
    "collapsed": false
   },
   "outputs": [
    {
     "name": "stderr",
     "output_type": "stream",
     "text": [
      "[2014-09-12 14:46:03] INFO: Finmag logging output will be written to file: '/home/mb4e10/finmag/doc/ipython_notebooks_src/unnamed.log' (any old content will be overwritten).\n",
      "[2014-09-12 14:46:03] DEBUG: Creating DataWriter for file 'unnamed.ndt'\n",
      "[2014-09-12 14:46:03] INFO: Creating Sim object 'unnamed' (rank=0/1).\n",
      "[2014-09-12 14:46:03] INFO: <Mesh of topological dimension 3 (tetrahedra) with 1331 vertices and 6000 cells, ordered>\n",
      "[2014-09-12 14:46:03] DEBUG: Creating LLG object.\n"
     ]
    }
   ],
   "source": [
    "a = 10  # edge length (nm)\n",
    "Nv = 10  # number of verices along one direction\n",
    "\n",
    "mesh = df.BoxMesh(-a/2., -a/2., -a/2., a/2., a/2., a/2., Nv, Nv, Nv)\n",
    "\n",
    "Ms = 1e6  # saturation magnetisation (A/m)\n",
    "sim = Sim(mesh, Ms, unit_length=1e-9)\n",
    "\n",
    "def compute_fields(n):\n",
    "    demag = Demag(macrogeometry=MacroGeometry(nx=n))\n",
    "    sim.add(demag)\n",
    "    \n",
    "    sim.set_m((1, 0, 0))\n",
    "    field1 = sim.llg.effective_field.get_dolfin_function('Demag')\n",
    "    \n",
    "    sim.set_m((0, 0, 1))\n",
    "    field2 = sim.llg.effective_field.get_dolfin_function('Demag')\n",
    "    \n",
    "    sim.remove_interaction('Demag')\n",
    "    \n",
    "    return field1(0, 0, 0)/Ms, field2(0, 0, 0)/Ms"
   ]
  },
  {
   "cell_type": "markdown",
   "metadata": {},
   "source": [
    "Now, the field is computed for different values of $n$ and plotted:"
   ]
  },
  {
   "cell_type": "code",
   "execution_count": 9,
   "metadata": {
    "collapsed": false
   },
   "outputs": [
    {
     "name": "stderr",
     "output_type": "stream",
     "text": [
      "[2014-09-12 14:46:05] DEBUG: Creating Demag object with solver 'FK'.\n",
      "[2014-09-12 14:46:05] DEBUG: Adding interaction Demag to simulation.\n",
      "[2014-09-12 14:46:05] DEBUG: Using Krylov solver for demag.\n",
      "[2014-09-12 14:46:05] DEBUG: Creating macro-geometry with demag 1 x 1 tiles (dxdy: 10.0 x 10.0)\n",
      "[2014-09-12 14:46:06] DEBUG: Boundary element matrix uses 2.76 MB of memory.\n",
      "[2014-09-12 14:46:06] DEBUG: Removing interaction 'Demag' from simulation 'unnamed'\n",
      "[2014-09-12 14:46:06] DEBUG: 'Deleting' get method for E_Demag in TableWriter(name=unnamed.ndt)\n",
      "[2014-09-12 14:46:06] DEBUG: 'Deleting' get method for E_Demag in TableWriter(name=unnamed.ndt)\n",
      "[2014-09-12 14:46:06] DEBUG: Creating Demag object with solver 'FK'.\n",
      "[2014-09-12 14:46:06] DEBUG: Adding interaction Demag to simulation.\n",
      "[2014-09-12 14:46:06] DEBUG: Using Krylov solver for demag.\n",
      "[2014-09-12 14:46:06] DEBUG: Creating macro-geometry with demag 3 x 1 tiles (dxdy: 10.0 x 10.0)\n",
      "[2014-09-12 14:46:07] DEBUG: Boundary element matrix uses 2.76 MB of memory.\n"
     ]
    },
    {
     "ename": "AssertionError",
     "evalue": "Attempt to add a second 'E_Demag' to entities for unnamed.ndt",
     "output_type": "error",
     "traceback": [
      "\u001b[1;31m---------------------------------------------------------------------------\u001b[0m\n\u001b[1;31mAssertionError\u001b[0m                            Traceback (most recent call last)",
      "\u001b[1;32m<ipython-input-9-c1ab82cdc316>\u001b[0m in \u001b[0;36m<module>\u001b[1;34m()\u001b[0m\n\u001b[0;32m      3\u001b[0m \u001b[1;33m\u001b[0m\u001b[0m\n\u001b[0;32m      4\u001b[0m \u001b[1;32mfor\u001b[0m \u001b[0mi\u001b[0m \u001b[1;32min\u001b[0m \u001b[0mns\u001b[0m\u001b[1;33m:\u001b[0m\u001b[1;33m\u001b[0m\u001b[0m\n\u001b[1;32m----> 5\u001b[1;33m     \u001b[0mfields\u001b[0m \u001b[1;33m=\u001b[0m \u001b[0mcompute_fields\u001b[0m\u001b[1;33m(\u001b[0m\u001b[0mi\u001b[0m\u001b[1;33m)\u001b[0m\u001b[1;33m\u001b[0m\u001b[0m\n\u001b[0m\u001b[0;32m      6\u001b[0m     \u001b[0mfield1_list\u001b[0m\u001b[1;33m.\u001b[0m\u001b[0mappend\u001b[0m\u001b[1;33m(\u001b[0m\u001b[0mfields\u001b[0m\u001b[1;33m[\u001b[0m\u001b[1;36m0\u001b[0m\u001b[1;33m]\u001b[0m\u001b[1;33m[\u001b[0m\u001b[1;36m0\u001b[0m\u001b[1;33m]\u001b[0m\u001b[1;33m)\u001b[0m\u001b[1;33m\u001b[0m\u001b[0m\n\u001b[0;32m      7\u001b[0m     \u001b[0mfield2_list\u001b[0m\u001b[1;33m.\u001b[0m\u001b[0mappend\u001b[0m\u001b[1;33m(\u001b[0m\u001b[0mfields\u001b[0m\u001b[1;33m[\u001b[0m\u001b[1;36m1\u001b[0m\u001b[1;33m]\u001b[0m\u001b[1;33m[\u001b[0m\u001b[1;36m2\u001b[0m\u001b[1;33m]\u001b[0m\u001b[1;33m)\u001b[0m\u001b[1;33m\u001b[0m\u001b[0m\n",
      "\u001b[1;32m<ipython-input-8-cae8e9f16863>\u001b[0m in \u001b[0;36mcompute_fields\u001b[1;34m(n)\u001b[0m\n\u001b[0;32m      9\u001b[0m \u001b[1;32mdef\u001b[0m \u001b[0mcompute_fields\u001b[0m\u001b[1;33m(\u001b[0m\u001b[0mn\u001b[0m\u001b[1;33m)\u001b[0m\u001b[1;33m:\u001b[0m\u001b[1;33m\u001b[0m\u001b[0m\n\u001b[0;32m     10\u001b[0m     \u001b[0mdemag\u001b[0m \u001b[1;33m=\u001b[0m \u001b[0mDemag\u001b[0m\u001b[1;33m(\u001b[0m\u001b[0mmacrogeometry\u001b[0m\u001b[1;33m=\u001b[0m\u001b[0mMacroGeometry\u001b[0m\u001b[1;33m(\u001b[0m\u001b[0mnx\u001b[0m\u001b[1;33m=\u001b[0m\u001b[0mn\u001b[0m\u001b[1;33m)\u001b[0m\u001b[1;33m)\u001b[0m\u001b[1;33m\u001b[0m\u001b[0m\n\u001b[1;32m---> 11\u001b[1;33m     \u001b[0msim\u001b[0m\u001b[1;33m.\u001b[0m\u001b[0madd\u001b[0m\u001b[1;33m(\u001b[0m\u001b[0mdemag\u001b[0m\u001b[1;33m)\u001b[0m\u001b[1;33m\u001b[0m\u001b[0m\n\u001b[0m\u001b[0;32m     12\u001b[0m \u001b[1;33m\u001b[0m\u001b[0m\n\u001b[0;32m     13\u001b[0m     \u001b[0msim\u001b[0m\u001b[1;33m.\u001b[0m\u001b[0mset_m\u001b[0m\u001b[1;33m(\u001b[0m\u001b[1;33m(\u001b[0m\u001b[1;36m1\u001b[0m\u001b[1;33m,\u001b[0m \u001b[1;36m0\u001b[0m\u001b[1;33m,\u001b[0m \u001b[1;36m0\u001b[0m\u001b[1;33m)\u001b[0m\u001b[1;33m)\u001b[0m\u001b[1;33m\u001b[0m\u001b[0m\n",
      "\u001b[1;32m/home/mb4e10/finmag/src/finmag/sim/sim.pyc\u001b[0m in \u001b[0;36madd\u001b[1;34m(self, interaction, with_time_update)\u001b[0m\n\u001b[0;32m    300\u001b[0m             \u001b[1;34m'unit'\u001b[0m\u001b[1;33m:\u001b[0m \u001b[1;34m'<J>'\u001b[0m\u001b[1;33m,\u001b[0m\u001b[1;33m\u001b[0m\u001b[0m\n\u001b[0;32m    301\u001b[0m             \u001b[1;34m'get'\u001b[0m\u001b[1;33m:\u001b[0m \u001b[1;32mlambda\u001b[0m \u001b[0msim\u001b[0m\u001b[1;33m:\u001b[0m \u001b[0msim\u001b[0m\u001b[1;33m.\u001b[0m\u001b[0mget_interaction\u001b[0m\u001b[1;33m(\u001b[0m\u001b[0minteraction\u001b[0m\u001b[1;33m.\u001b[0m\u001b[0mname\u001b[0m\u001b[1;33m)\u001b[0m\u001b[1;33m.\u001b[0m\u001b[0mcompute_energy\u001b[0m\u001b[1;33m(\u001b[0m\u001b[1;33m)\u001b[0m\u001b[1;33m,\u001b[0m\u001b[1;33m\u001b[0m\u001b[0m\n\u001b[1;32m--> 302\u001b[1;33m             'header': energy_name})\n\u001b[0m\u001b[0;32m    303\u001b[0m         self.tablewriter.add_entity(field_name, {\n\u001b[0;32m    304\u001b[0m             \u001b[1;34m'unit'\u001b[0m\u001b[1;33m:\u001b[0m \u001b[1;34m'<A/m>'\u001b[0m\u001b[1;33m,\u001b[0m\u001b[1;33m\u001b[0m\u001b[0m\n",
      "\u001b[1;32m/home/mb4e10/finmag/src/finmag/util/fileio.pyc\u001b[0m in \u001b[0;36madd_entity\u001b[1;34m(self, name, dic)\u001b[0m\n\u001b[0;32m    131\u001b[0m         \u001b[1;32massert\u001b[0m \u001b[0mname\u001b[0m \u001b[1;32mnot\u001b[0m \u001b[1;32min\u001b[0m \u001b[0mself\u001b[0m\u001b[1;33m.\u001b[0m\u001b[0m_entities\u001b[0m\u001b[1;33m.\u001b[0m\u001b[0mkeys\u001b[0m\u001b[1;33m(\u001b[0m\u001b[1;33m)\u001b[0m\u001b[1;33m,\u001b[0m\u001b[0;31m \u001b[0m\u001b[0;31m\\\u001b[0m\u001b[1;33m\u001b[0m\u001b[0m\n\u001b[0;32m    132\u001b[0m                               \u001b[1;34m\"Attempt to add a second '{}' to entities for {}\"\u001b[0m\u001b[1;33m.\u001b[0m\u001b[0;31m\\\u001b[0m\u001b[1;33m\u001b[0m\u001b[0m\n\u001b[1;32m--> 133\u001b[1;33m                               \u001b[0mformat\u001b[0m\u001b[1;33m(\u001b[0m\u001b[0mname\u001b[0m\u001b[1;33m,\u001b[0m \u001b[0mself\u001b[0m\u001b[1;33m.\u001b[0m\u001b[0mfilename\u001b[0m\u001b[1;33m)\u001b[0m\u001b[1;33m\u001b[0m\u001b[0m\n\u001b[0m\u001b[0;32m    134\u001b[0m \u001b[1;33m\u001b[0m\u001b[0m\n\u001b[0;32m    135\u001b[0m         \u001b[1;31m# check that right keywords are given\u001b[0m\u001b[1;33m\u001b[0m\u001b[1;33m\u001b[0m\u001b[0m\n",
      "\u001b[1;31mAssertionError\u001b[0m: Attempt to add a second 'E_Demag' to entities for unnamed.ndt"
     ]
    }
   ],
   "source": [
    "field1_list = []\n",
    "field2_list = []\n",
    "\n",
    "for i in ns:\n",
    "    fields = compute_fields(i)\n",
    "    field1_list.append(fields[0][0])\n",
    "    field2_list.append(fields[1][2])"
   ]
  },
  {
   "cell_type": "code",
   "execution_count": 12,
   "metadata": {
    "collapsed": false
   },
   "outputs": [
    {
     "name": "stderr",
     "output_type": "stream",
     "text": [
      "/usr/lib/pymodules/python2.7/matplotlib/figure.py:1595: UserWarning: This figure includes Axes that are not compatible with tight_layout, so its results might be incorrect.\n",
      "  warnings.warn(\"This figure includes Axes that are not \"\n"
     ]
    },
    {
     "data": {
      "image/png": "[encoded data removed]",
      "text/plain": [
       "<matplotlib.figure.Figure at 0x7f915adcd910>"
      ]
     },
     "metadata": {},
     "output_type": "display_data"
    }
   ],
   "source": [
    "plt.figure(figsize=(10, 7))\n",
    "plt.subplot(211)\n",
    "plt.plot(ns, field1_list)\n",
    "plt.xlabel('n')\n",
    "plt.ylabel('Hx')\n",
    "plt.grid()\n",
    "\n",
    "plt.subplot(212)\n",
    "plt.plot(ns, field2_list)\n",
    "plt.xlabel('n')\n",
    "plt.ylabel('Hz')\n",
    "plt.grid()"
   ]
  }
 ],
 "metadata": {
  "kernelspec": {
   "display_name": "Python 2",
   "language": "python",
   "name": "python2"
  },
  "language_info": {
   "codemirror_mode": {
    "name": "ipython",
    "version": 2
   },
   "file_extension": ".py",
   "mimetype": "text/x-python",
   "name": "python",
   "nbconvert_exporter": "python",
   "pygments_lexer": "ipython2",
   "version": "2.7.6"
  }
 },
 "nbformat": 4,
 "nbformat_minor": 0
}
