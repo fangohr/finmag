{
 "metadata": {
  "name": ""
 },
 "nbformat": 3,
 "nbformat_minor": 0,
 "worksheets": [
  {
   "cells": [
    {
     "cell_type": "heading",
     "level": 1,
     "metadata": {},
     "source": [
      "tutorial-mayavi-mlab-visualising-magnetisation"
     ]
    },
    {
     "cell_type": "heading",
     "level": 4,
     "metadata": {},
     "source": [
      "Author: Mark Vousden"
     ]
    },
    {
     "cell_type": "heading",
     "level": 4,
     "metadata": {},
     "source": [
      "Last Modified: 27/03/2014, tested on Mark's So'ton Desktop and his SP35P2Pro"
     ]
    },
    {
     "cell_type": "markdown",
     "metadata": {},
     "source": [
      "This notebook is aimed at users of finmag who are not familiar Mayavi's scripting capabilities and who want to streamline the process of creating pretty graphics. In this notebook we will create some sample data and use Mayavi to display, render and save the image, all without touching your mouse (hopefully!). We will be producing plots with glyphs in this tutorial, but the procedure is very similar for surfaces and other such objects. Much of this information has been obtained from the well-written Mayavi documentation[1]."
     ]
    },
    {
     "cell_type": "code",
     "collapsed": false,
     "input": [
      "import dolfin as df\n",
      "import finmag\n",
      "from mayavi import __version__ as mayavi_version\n",
      "from mayavi import mlab\n",
      "import numpy as np\n",
      "import os\n",
      "\n",
      "title = \"tutorial-visualising-magnetisation-using-mayavi-mlab\"\n",
      "print \"MayAvi Version: \" + mayavi_version"
     ],
     "language": "python",
     "metadata": {},
     "outputs": [
      {
       "output_type": "stream",
       "stream": "stderr",
       "text": [
        "[2014-03-27 19:03:50] INFO: Finmag logging output will be appended to file: '/home/mark/.finmag/global.log'\n"
       ]
      },
      {
       "output_type": "stream",
       "stream": "stderr",
       "text": [
        "[2014-03-27 19:03:50] DEBUG: Building modules in 'native'...\n"
       ]
      },
      {
       "output_type": "stream",
       "stream": "stderr",
       "text": [
        "[2014-03-27 19:03:51] DEBUG: FinMag          4565:726a12fcf48185b85b581251292be92a11958cbb\n"
       ]
      },
      {
       "output_type": "stream",
       "stream": "stderr",
       "text": [
        "[2014-03-27 19:03:51] DEBUG: Dolfin          1.3.0                Matplotlib      1.2.1               \n"
       ]
      },
      {
       "output_type": "stream",
       "stream": "stderr",
       "text": [
        "[2014-03-27 19:03:51] DEBUG: Numpy           1.7.1                Scipy           0.11.0              \n"
       ]
      },
      {
       "output_type": "stream",
       "stream": "stderr",
       "text": [
        "[2014-03-27 19:03:51] DEBUG: IPython         1.1.0                Python          2.7.4               \n"
       ]
      },
      {
       "output_type": "stream",
       "stream": "stderr",
       "text": [
        "[2014-03-27 19:03:51] DEBUG: Paraview        3.98.0-1~exp1        Sundials        2.5.0               \n"
       ]
      },
      {
       "output_type": "stream",
       "stream": "stderr",
       "text": [
        "[2014-03-27 19:03:51] DEBUG: Boost-Python    1.49.0               Linux           Ubuntu 13.04        \n"
       ]
      },
      {
       "output_type": "stream",
       "stream": "stderr",
       "text": [
        "[2014-03-27 19:03:51] DEBUG: Registering debug signal handler. Press Ctrl-Z at any time to stop execution and jump into the debugger.\n"
       ]
      },
      {
       "output_type": "stream",
       "stream": "stdout",
       "text": [
        "MayAvi Version: 4.1.0\n"
       ]
      }
     ],
     "prompt_number": 1
    },
    {
     "cell_type": "markdown",
     "metadata": {},
     "source": [
      "Firstly, lets create some simulation data. Pretty standard stuff."
     ]
    },
    {
     "cell_type": "code",
     "collapsed": false,
     "input": [
      "# Create simulation object with single skyrmion magnetisation.\n",
      "mesh = df.RectangleMesh(-100, -100, 100, 100, 20, 20)\n",
      "sim = finmag.Simulation(mesh, 1e5, unit_length=1e-9)\n",
      "sim.initialise_skyrmions(70)\n",
      "    \n",
      "# Obtain locations for sampling. \"x\", \"y\" and \"z\" are locations of vectors\n",
      "# in 3D space. We set \"z\" to zero everywhere to show an example in 2D space\n",
      "# for simplicity.\n",
      "c = mesh.coordinates().transpose()\n",
      "x, y = c[:]\n",
      "z = np.zeros_like(x)\n",
      "\n",
      "# Obtain vector directions. \"u\", \"v\" and \"w\" define the directions of the\n",
      "# vectors given by the \"x\", \"y\" and \"z\" co-ordinates.\n",
      "u = np.zeros_like(x)\n",
      "v = np.zeros_like(x)\n",
      "w = np.zeros_like(x)\n",
      "\n",
      "for zI in xrange(len(x)):\n",
      "    u[zI], v[zI], w[zI] = sim.llg._m(x[zI], y[zI])"
     ],
     "language": "python",
     "metadata": {},
     "outputs": [
      {
       "output_type": "stream",
       "stream": "stderr",
       "text": [
        "[2014-03-27 19:03:52] INFO: Finmag logging output will be written to file: '/home/mark/Dropbox/Academia/Research/Sandbox/Mayavi2/Notebooks/unnamed.log' (any old content will be overwritten).\n"
       ]
      },
      {
       "output_type": "stream",
       "stream": "stderr",
       "text": [
        "[2014-03-27 19:03:52] DEBUG: Creating DataWriter for file 'unnamed.ndt'\n"
       ]
      },
      {
       "output_type": "stream",
       "stream": "stderr",
       "text": [
        "[2014-03-27 19:03:52] INFO: Creating Sim object 'unnamed' (rank=0/1).\n"
       ]
      },
      {
       "output_type": "stream",
       "stream": "stderr",
       "text": [
        "[2014-03-27 19:03:52] INFO: <Mesh of topological dimension 2 (triangles) with 441 vertices and 800 cells, ordered>\n"
       ]
      },
      {
       "output_type": "stream",
       "stream": "stderr",
       "text": [
        "[2014-03-27 19:03:52] DEBUG: Creating LLG object.\n"
       ]
      }
     ],
     "prompt_number": 2
    },
    {
     "cell_type": "markdown",
     "metadata": {},
     "source": [
      "So now we have some data that precisely describes our field of vectors. Now for the interesting part! We are going to draw some vectors and render them to the \"scene\" (an object that Mayavi uses \"under the hood\" of mlab). Whenever data is modified using mlab, the scene is update automatically for simplicity. So, let's draw some vectors:"
     ]
    },
    {
     "cell_type": "code",
     "collapsed": false,
     "input": [
      "# Plot 3D vector field, and assign a reference scale to each vector equal to\n",
      "# its out-of-plane component. Also use a colourmap that isn't hideous[2], though\n",
      "# you can use your own custom colormap via the 'color' kwarg.\n",
      "vectors = mlab.quiver3d(x, y, z, u, v, w, scalars=w, colormap=\"PuOr\")\n",
      "\n",
      "# Colour vectors by the reference scale we included.\n",
      "vectors.glyph.color_mode = 'color_by_scalar'\n",
      "\n",
      "# Change the vectors to cones, because cones are awesome. NB <!>: I'm sure that\n",
      "# there is a more elegant way of doing this, but I haven't found it yet.\n",
      "cone_source = vectors.glyph.glyph_source.glyph_dict[\"cone_source\"]\n",
      "vectors.glyph.glyph_source.glyph_source = cone_source\n",
      "\n",
      "# Resize the cones.\n",
      "vectors.glyph.glyph_source.glyph_source.height = 0.4\n",
      "vectors.glyph.glyph_source.glyph_source.radius = 0.2\n",
      "\n",
      "# Reposition the cones relative to one-another (so that the result is flat). \n",
      "# Strange that this isn't the default setting, but there you go.\n",
      "vectors.glyph.glyph_source.glyph_source.center = np.zeros(3)\n",
      "\n",
      "# Set the resolution of objects.\n",
      "vectors.glyph.glyph_source.glyph_source.resolution *= 6"
     ],
     "language": "python",
     "metadata": {},
     "outputs": [],
     "prompt_number": 3
    },
    {
     "cell_type": "markdown",
     "metadata": {},
     "source": [
      "Now the cones are in the scene, we must look at them from a nice angle. Once there, we can save our image and enter interactive mode."
     ]
    },
    {
     "cell_type": "code",
     "collapsed": false,
     "input": [
      "# Choose a useful camera angle. Angles given in degrees. Lots of options for\n",
      "# this function, would recommend taking a look at the documentation especially\n",
      "# if you want to create \"rotating camera\" animations.\n",
      "mlab.view(azimuth=90., elevation=0., distance=350.)\n",
      "\n",
      "# Save the image. The size, output format (deduced by the filename) and\n",
      "# magnification can be customised here.\n",
      "mlab.savefig(title + \"-output.png\")\n",
      "\n",
      "# Enable interactivity.\n",
      "mlab.show()"
     ],
     "language": "python",
     "metadata": {},
     "outputs": [],
     "prompt_number": 4
    },
    {
     "cell_type": "markdown",
     "metadata": {},
     "source": [
      "In this example, I have created the glyphs before moving the camera. This is a bad move if we want to automate the process since the glyphs need to be rendered on each action. Two alternatives are present: create the glyphs at the end, or render the whole image only at the end of the process (see the advanced tutorial).\n",
      "\n",
      "You may (or may not) want to look at performing advanced scripting techniques using a more object-oriented approach. This predominantly requires using an instance of the mayavi.engine class and manipulating the pipeline directly [3]. If you use the recording feature of Mayavi, you will see these advanced techniques in action. Using this approach, it becomes a lot easier to change properties of a figure, such as the colour of the background."
     ]
    },
    {
     "cell_type": "heading",
     "level": 3,
     "metadata": {},
     "source": [
      "References:"
     ]
    },
    {
     "cell_type": "markdown",
     "metadata": {},
     "source": [
      "[1] http://docs.enthought.com/mayavi/mayavi/"
     ]
    },
    {
     "cell_type": "markdown",
     "metadata": {},
     "source": [
      "[2] http://woozyvoozie.wordpress.com/2014/02/19/the-rainbow-colourmap-and-an-apology/"
     ]
    },
    {
     "cell_type": "markdown",
     "metadata": {},
     "source": [
      "[3] http://docs.enthought.com/mayavi/mayavi/advanced_scripting.html "
     ]
    }
   ],
   "metadata": {}
  }
 ]
}