{
 "metadata": {
  "name": "ref-using-timings"
 },
 "nbformat": 3,
 "nbformat_minor": 0,
 "worksheets": [
  {
   "cells": [
    {
     "cell_type": "heading",
     "level": 1,
     "metadata": {},
     "source": [
      "How to see where Time is spent in Finmag Simulations"
     ]
    },
    {
     "cell_type": "heading",
     "level": 2,
     "metadata": {},
     "source": [
      "Step 1. Let finmag run"
     ]
    },
    {
     "cell_type": "markdown",
     "metadata": {},
     "source": [
      "Let's run a sample simulation just to let finmag do some work."
     ]
    },
    {
     "cell_type": "code",
     "collapsed": false,
     "input": [
      "import dolfin as df\n",
      "import logging\n",
      "from finmag import Simulation\n",
      "from finmag.energies import Zeeman, Exchange, UniaxialAnisotropy, Demag\n",
      "\n",
      "log = logging.getLogger(name='finmag')\n",
      "log.setLevel(logging.ERROR)\n",
      "\n",
      "mesh = df.Box(0, 0, 0, 100, 10, 10, 50, 5, 5)\n",
      "\n",
      "Ms = 8.6e5\n",
      "A = 13.0e-12\n",
      "H = 1.1 * Ms\n",
      "K1 = 4e3\n",
      "\n",
      "sim = Simulation(mesh, Ms, unit_length=1)\n",
      "sim.set_m((1, 0, 0))\n",
      "sim.add(Exchange(A))\n",
      "sim.add(Demag())\n",
      "sim.add(Zeeman((0, 0, H)))\n",
      "sim.add(UniaxialAnisotropy(K1, (0, 1, 0)))\n",
      "sim.run_until(1e-9)\n",
      "\n",
      "print sim.m_average"
     ],
     "language": "python",
     "metadata": {},
     "outputs": [
      {
       "output_type": "stream",
       "stream": "stdout",
       "text": [
        "[  1.56534232e-04   6.17778204e-04   9.93204268e-01]\n"
       ]
      }
     ],
     "prompt_number": 4
    },
    {
     "cell_type": "heading",
     "level": 2,
     "metadata": {},
     "source": [
      "Step 2. Have a look at the timings"
     ]
    },
    {
     "cell_type": "markdown",
     "metadata": {},
     "source": [
      "finmag will keep track of the runtimes behind the scenes. The information is available in the default_timer object that lives in *finmag.util.timings* and can be printed using the *report* method. It will show the methods or functions that took the most time to execute. The maximum number of items reported can be set by passing an integer value to the *report* method."
     ]
    },
    {
     "cell_type": "code",
     "collapsed": false,
     "input": [
      "from finmag.util.timings import default_timer\n",
      "print default_timer.report(20)"
     ],
     "language": "python",
     "metadata": {},
     "outputs": [
      {
       "output_type": "stream",
       "stream": "stdout",
       "text": [
        "Timings: Showing the up to 20 slowest items.\n",
        "\n",
        "+--------------------+------------------------------+--------+------------+--------------+\n",
        "| class/module       | name                         |  calls |  total (s) | per call (s) |\n",
        "+--------------------+------------------------------+--------+------------+--------------+\n",
        "| FemBemFKSolver     | 1st linear solve             |    535 |       6.43 |        0.012 |\n",
        "| FemBemFKSolver     | Compute phi2 inside          |    535 |          4 |      0.00748 |\n",
        "| LLG                | sundials_jtimes              |    773 |       2.05 |      0.00266 |\n",
        "| FemBemFKSolver     | Compute Phi2                 |    535 |       1.59 |      0.00297 |\n",
        "| Exchange           | compute_field                |   1308 |       1.34 |      0.00103 |\n",
        "| FemBemFKSolver     | 2nd linear solve             |    535 |       1.29 |      0.00242 |\n",
        "| UniaxialAnisotropy | compute_field                |   1308 |       1.13 |     0.000861 |\n",
        "| FemBemFKSolver     | build BEM                    |      1 |      0.926 |        0.926 |\n",
        "| Exchange           | setup                        |      1 |      0.576 |        0.576 |\n",
        "| UniaxialAnisotropy | setup                        |      1 |       0.48 |         0.48 |\n",
        "| FemBemFKSolver     | FKSolver init                |      1 |      0.308 |        0.308 |\n",
        "| FemBemFKSolver     | __compute_field_magpar       |    535 |      0.278 |      0.00052 |\n",
        "| FemBemFKSolver     | phi1 - matrix product        |    535 |      0.253 |     0.000473 |\n",
        "| LLG                | solve                        |    535 |      0.222 |     0.000415 |\n",
        "| Simulation         | __init__                     |      1 |      0.104 |        0.104 |\n",
        "| FemBemFKSolver     | Restrict phi1 to boundary    |    535 |     0.0989 |     0.000185 |\n",
        "| FemBemFKSolver     | Add phi1 and phi2            |    535 |     0.0872 |     0.000163 |\n",
        "| FemBemFKSolver     | phi2 <- Phi2                 |    535 |      0.081 |     0.000151 |\n",
        "| LLG                | __init__                     |      1 |     0.0153 |       0.0153 |\n",
        "| FemBemFKSolver     | phi1 - solve                 |    535 |    0.00399 |     7.46e-06 |\n",
        "+--------------------+------------------------------+--------+------------+--------------+\n",
        "\n",
        "Timings grouped by class or module.\n",
        "\n",
        "+--------------------+----------+------+\n",
        "| class/module       | time (s) |    % |\n",
        "+--------------------+----------+------+\n",
        "| FemBemFKSolver     |     15.4 |   69 |\n",
        "| LLG                |     2.29 |   10 |\n",
        "| Exchange           |     1.92 |  8.6 |\n",
        "| UniaxialAnisotropy |     1.61 |  7.2 |\n",
        "| untimed            |     1.06 |  4.7 |\n",
        "| Simulation         |    0.104 | 0.47 |\n",
        "+--------------------+----------+------+\n",
        "\n",
        "Total wall time 22.33 s.\n",
        "\n"
       ]
      }
     ],
     "prompt_number": 2
    },
    {
     "cell_type": "heading",
     "level": 2,
     "metadata": {},
     "source": [
      "Bonus. Make a pretty picture"
     ]
    },
    {
     "cell_type": "markdown",
     "metadata": {},
     "source": [
      "The data is best visualised using a pie chart."
     ]
    },
    {
     "cell_type": "code",
     "collapsed": false,
     "input": [
      "import matplotlib.pyplot as plt\n",
      "groups, times, shares = zip(* timings.grouped_timings())\n",
      "plt.pie(shares, labels=groups)"
     ],
     "language": "python",
     "metadata": {},
     "outputs": [
      {
       "output_type": "pyout",
       "prompt_number": 3,
       "text": [
        "([<matplotlib.patches.Wedge at 0x4d88310>,\n",
        "  <matplotlib.patches.Wedge at 0x4d88790>,\n",
        "  <matplotlib.patches.Wedge at 0x4d88d10>,\n",
        "  <matplotlib.patches.Wedge at 0x4d88850>,\n",
        "  <matplotlib.patches.Wedge at 0x4d8b750>,\n",
        "  <matplotlib.patches.Wedge at 0x4d8bc50>],\n",
        " [<matplotlib.text.Text at 0x4d886d0>,\n",
        "  <matplotlib.text.Text at 0x4d88c50>,\n",
        "  <matplotlib.text.Text at 0x4d8b190>,\n",
        "  <matplotlib.text.Text at 0x4d8b690>,\n",
        "  <matplotlib.text.Text at 0x4d8bb90>,\n",
        "  <matplotlib.text.Text at 0x4d8f0d0>])"
       ]
      },
      {
       "output_type": "display_data",
       "png": "[encoded data removed]"
      }
     ],
     "prompt_number": 3
    },
    {
     "cell_type": "heading",
     "level": 2,
     "metadata": {},
     "source": [
      "A word of advice to those using the timings module in interactive mode"
     ]
    },
    {
     "cell_type": "markdown",
     "metadata": {},
     "source": [
      "The timings code takes a final look on the clock when the *report* method is called. If there is a long delay between the moment you run the simulation and the moment you ask for the report, the relative timings will be meaningless because the delay is added to the total runtime."
     ]
    },
    {
     "cell_type": "code",
     "collapsed": false,
     "input": [],
     "language": "python",
     "metadata": {},
     "outputs": []
    }
   ],
   "metadata": {}
  }
 ]
}
