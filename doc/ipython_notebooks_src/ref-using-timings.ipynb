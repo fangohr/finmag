{
 "metadata": {
  "name": "using_timings"
 },
 "nbformat": 3,
 "nbformat_minor": 0,
 "worksheets": [
  {
   "cells": [
    {
     "cell_type": "heading",
     "level": 1,
     "metadata": {},
     "source": [
      "How to see where Time is spent in Finmag Simulations"
     ]
    },
    {
     "cell_type": "heading",
     "level": 2,
     "metadata": {},
     "source": [
      "Step 1. Let finmag run"
     ]
    },
    {
     "cell_type": "markdown",
     "metadata": {},
     "source": [
      "Let's run a sample simulation just to let finmag do some work."
     ]
    },
    {
     "cell_type": "code",
     "collapsed": false,
     "input": [
      "import dolfin as df\n",
      "import logging\n",
      "from finmag import Simulation\n",
      "from finmag.energies import Zeeman, Exchange, UniaxialAnisotropy, Demag\n",
      "\n",
      "log = logging.getLogger(name='finmag')\n",
      "log.setLevel(logging.ERROR)\n",
      "\n",
      "mesh = df.Box(0, 0, 0, 100, 10, 10, 50, 5, 5)\n",
      "\n",
      "Ms = 8.6e5\n",
      "A = 13.0e-12\n",
      "H = 1.1 * Ms\n",
      "K1 = 4e3\n",
      "\n",
      "sim = Simulation(mesh, Ms, unit_length=1)\n",
      "sim.set_m((1, 0, 0))\n",
      "sim.add(Exchange(A))\n",
      "sim.add(Demag())\n",
      "sim.add(Zeeman((0, 0, H)))\n",
      "sim.add(UniaxialAnisotropy(K1, (0, 1, 0)))\n",
      "sim.run_until(1e-9)\n",
      "\n",
      "print sim.m_average"
     ],
     "language": "python",
     "metadata": {},
     "outputs": [
      {
       "output_type": "stream",
       "stream": "stdout",
       "text": [
        "[  1.56534232e-04   6.17778204e-04   9.93204268e-01]\n"
       ]
      }
     ],
     "prompt_number": 4
    },
    {
     "cell_type": "heading",
     "level": 2,
     "metadata": {},
     "source": [
      "Step 2. Have a look at the timings"
     ]
    },
    {
     "cell_type": "markdown",
     "metadata": {},
     "source": [
      "finmag will keep track of the runtimes behind the scenes. The information is available in the timings object that lives in *finmag.util.timings* and can be printed using the *report* method. It will show the methods or functions that took the most time to execute. The maximum number of items reported can be set by passing an integer value to the *report* method."
     ]
    },
    {
     "cell_type": "code",
     "collapsed": false,
     "input": [
      "from finmag.util.timings import timings\n",
      "print timings.report(20)"
     ],
     "language": "python",
     "metadata": {},
     "outputs": [
      {
       "output_type": "stream",
       "stream": "stdout",
       "text": [
        "Timings: Showing the up to 20 slowest items.\n",
        "\n",
        "+--------------------+------------------------------+--------+------------+--------------+\n",
        "| class/module       | name                         |  calls |  total (s) | per call (s) |\n",
        "+--------------------+------------------------------+--------+------------+--------------+\n",
        "| FemBemFKSolver     | 1st linear solve             |   1070 |       4.89 |      0.00457 |\n",
        "| FemBemFKSolver     | Compute phi2 inside          |   1070 |       3.11 |       0.0029 |\n",
        "| LLG                | sundials_jtimes              |   1546 |       1.84 |      0.00119 |\n",
        "| FemBemFKSolver     | Compute Phi2                 |   1070 |       1.23 |      0.00115 |\n",
        "| Exchange           | compute_field                |   2616 |       1.09 |     0.000417 |\n",
        "| FemBemFKSolver     | 2nd linear solve             |   1070 |       1.02 |      0.00095 |\n",
        "| UniaxialAnisotropy | compute_field                |   2616 |      0.939 |     0.000359 |\n",
        "| FemBemFKSolver     | build BEM                    |      2 |       0.68 |         0.34 |\n",
        "| LLG                | solve                        |   1070 |      0.375 |     0.000351 |\n",
        "| Exchange           | setup                        |      2 |      0.333 |        0.167 |\n",
        "| UniaxialAnisotropy | setup                        |      2 |      0.325 |        0.163 |\n",
        "| FemBemFKSolver     | __compute_field_magpar       |   1070 |      0.246 |      0.00023 |\n",
        "| FemBemFKSolver     | phi1 - matrix product        |   1070 |      0.223 |     0.000208 |\n",
        "| FemBemFKSolver     | FKSolver init                |      2 |      0.149 |       0.0743 |\n",
        "| FemBemFKSolver     | Restrict phi1 to boundary    |   1070 |      0.091 |      8.5e-05 |\n",
        "| Simulation         | __init__                     |      2 |     0.0849 |       0.0425 |\n",
        "| FemBemFKSolver     | Add phi1 and phi2            |   1070 |     0.0847 |     7.91e-05 |\n",
        "| FemBemFKSolver     | phi2 <- Phi2                 |   1070 |     0.0827 |     7.73e-05 |\n",
        "| LLG                | __init__                     |      2 |     0.0118 |      0.00589 |\n",
        "| FemBemFKSolver     | phi1 - solve                 |   1070 |    0.00341 |     3.19e-06 |\n",
        "+--------------------+------------------------------+--------+------------+--------------+\n",
        "\n",
        "Timings grouped by class or module.\n",
        "\n",
        "+--------------------+----------+------+\n",
        "| class/module       | time (s) |    % |\n",
        "+--------------------+----------+------+\n",
        "| FemBemFKSolver     |     11.8 |   70 |\n",
        "| LLG                |     2.22 |   13 |\n",
        "| Exchange           |     1.42 |  8.5 |\n",
        "| UniaxialAnisotropy |     1.26 |  7.5 |\n",
        "| Simulation         |   0.0849 | 0.51 |\n",
        "+--------------------+----------+------+\n",
        "\n"
       ]
      }
     ],
     "prompt_number": 5
    },
    {
     "cell_type": "heading",
     "level": 2,
     "metadata": {},
     "source": [
      "Bonus. Make a pretty picture"
     ]
    },
    {
     "cell_type": "markdown",
     "metadata": {},
     "source": [
      "The data is best visualised using a pie chart."
     ]
    },
    {
     "cell_type": "code",
     "collapsed": false,
     "input": [
      "import matplotlib.pyplot as plt\n",
      "groups, times, shares = zip(* timings.grouped_timings())\n",
      "plt.pie(shares, labels=groups)"
     ],
     "language": "python",
     "metadata": {},
     "outputs": [
      {
       "output_type": "pyout",
       "prompt_number": 6,
       "text": [
        "([<matplotlib.patches.Wedge at 0x5a38c50>,\n",
        "  <matplotlib.patches.Wedge at 0x5a3c110>,\n",
        "  <matplotlib.patches.Wedge at 0x5a3c690>,\n",
        "  <matplotlib.patches.Wedge at 0x5a3cb90>,\n",
        "  <matplotlib.patches.Wedge at 0x5a3c1d0>],\n",
        " [<matplotlib.text.Text at 0x5a3c050>,\n",
        "  <matplotlib.text.Text at 0x5a3c5d0>,\n",
        "  <matplotlib.text.Text at 0x5a3cad0>,\n",
        "  <matplotlib.text.Text at 0x5a3cfd0>,\n",
        "  <matplotlib.text.Text at 0x5a3f510>])"
       ]
      },
      {
       "output_type": "display_data",
       "png": "[encoded data removed]"
      }
     ],
     "prompt_number": 6
    },
    {
     "cell_type": "code",
     "collapsed": false,
     "input": [],
     "language": "python",
     "metadata": {},
     "outputs": []
    }
   ],
   "metadata": {}
  }
 ]
}