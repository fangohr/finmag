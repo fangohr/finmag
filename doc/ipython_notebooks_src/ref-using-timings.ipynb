{
 "cells": [
  {
   "cell_type": "markdown",
   "metadata": {},
   "source": [
    "# How to see where Time is spent in Finmag Simulations"
   ]
  },
  {
   "cell_type": "markdown",
   "metadata": {},
   "source": [
    "**Purpose**: Demonstrate Finmag's built-in timing capabilities for high-level profiling.\n",
    "\n",
    "**Other topics touched**\n",
    "\n",
    "**Author and creation date**: Marc-Antonio Bisotti, Dec 2012\n",
    "\n",
    "**Modifications by**:"
   ]
  },
  {
   "cell_type": "markdown",
   "metadata": {},
   "source": [
    "## Step 1. Let finmag run"
   ]
  },
  {
   "cell_type": "markdown",
   "metadata": {},
   "source": [
    "Let's run a sample simulation just to let finmag do some work."
   ]
  },
  {
   "cell_type": "code",
   "execution_count": 1,
   "metadata": {
    "collapsed": false
   },
   "outputs": [
    {
     "name": "stderr",
     "output_type": "stream",
     "text": [
      "[2014-06-09 18:12:46] INFO: Finmag logging output will be appended to file: '/home/albert/.finmag/global.log'\n",
      "[2014-06-09 18:12:46] DEBUG: Building modules in 'native'...\n",
      "[2014-06-09 18:12:47] DEBUG: FinMag          5043:7f0fe356afeccbff8db1b1e93f0311cd85159c98\n",
      "[2014-06-09 18:12:47] DEBUG: Dolfin          1.4.0                Matplotlib      1.3.1               \n",
      "[2014-06-09 18:12:47] DEBUG: Numpy           1.8.1                Scipy           0.12.0              \n",
      "[2014-06-09 18:12:47] DEBUG: IPython         2.1.0                Python          2.7.5+              \n",
      "[2014-06-09 18:12:47] DEBUG: Paraview        4.0.1-1              Sundials        2.5.0               \n",
      "[2014-06-09 18:12:47] DEBUG: Boost-Python    <unknown>            Linux           Linux Mint 16 Petra \n",
      "[2014-06-09 18:12:47] DEBUG: Registering debug signal handler. Press Ctrl-Z at any time to stop execution and jump into the debugger.\n"
     ]
    },
    {
     "name": "stdout",
     "output_type": "stream",
     "text": [
      "[  1.56528156e-04   6.17770751e-04   9.93204268e-01]\n"
     ]
    }
   ],
   "source": [
    "import dolfin as df\n",
    "import logging\n",
    "from finmag import Simulation\n",
    "from finmag.energies import Zeeman, Exchange, UniaxialAnisotropy, Demag\n",
    "\n",
    "log = logging.getLogger(name='finmag')\n",
    "log.setLevel(logging.ERROR)\n",
    "\n",
    "mesh = df.BoxMesh(0, 0, 0, 100, 10, 10, 50, 5, 5)\n",
    "\n",
    "Ms = 8.6e5\n",
    "A = 13.0e-12\n",
    "H = 1.1 * Ms\n",
    "K1 = 4e3\n",
    "\n",
    "sim = Simulation(mesh, Ms, unit_length=1)\n",
    "sim.set_m((1, 0, 0))\n",
    "sim.add(Exchange(A))\n",
    "sim.add(Demag())\n",
    "sim.add(Zeeman((0, 0, H)))\n",
    "sim.add(UniaxialAnisotropy(K1, (0, 1, 0)))\n",
    "sim.run_until(1e-9)\n",
    "\n",
    "print sim.m_average"
   ]
  },
  {
   "cell_type": "markdown",
   "metadata": {},
   "source": [
    "## Step 2. Have a look at the timings"
   ]
  },
  {
   "cell_type": "markdown",
   "metadata": {},
   "source": [
    "Finmag will keep track of the runtimes behind the scenes. The information is available in the default_timer object and can be printed using the *report* method. It will show the methods or functions that took the most time to execute. The maximum number of items reported can be set by passing an integer value to the *report* method."
   ]
  },
  {
   "cell_type": "code",
   "execution_count": 2,
   "metadata": {
    "collapsed": false
   },
   "outputs": [
    {
     "name": "stdout",
     "output_type": "stream",
     "text": [
      "Timings: Showing the up to 20 slowest items.\n",
      "\n",
      "+--------------------+------------------------------+--------+------------+--------------+\n",
      "| class/module       | name                         |  calls |  total (s) | per call (s) |\n",
      "+--------------------+------------------------------+--------+------------+--------------+\n",
      "| FKDemag            | compute_field                |    304 |       3.62 |       0.0119 |\n",
      "| LLG                | sundials_jtimes              |    540 |       1.83 |      0.00339 |\n",
      "| LLG                | solve                        |    303 |      0.555 |      0.00183 |\n",
      "| UniaxialAnisotropy | compute_field                |    844 |      0.412 |     0.000488 |\n",
      "| Exchange           | compute_field                |    844 |      0.383 |     0.000454 |\n",
      "| FKDemag            | setup                        |      1 |      0.317 |        0.317 |\n",
      "| UniaxialAnisotropy | setup                        |      1 |      0.172 |        0.172 |\n",
      "| Exchange           | setup                        |      1 |      0.116 |        0.116 |\n",
      "| Simulation         | __init__                     |      1 |     0.0527 |       0.0527 |\n",
      "| LLG                | __init__                     |      1 |     0.0144 |       0.0144 |\n",
      "+--------------------+------------------------------+--------+------------+--------------+\n",
      "\n",
      "Timings grouped by class or module.\n",
      "\n",
      "+--------------------+----------+------+\n",
      "| class/module       | time (s) |    % |\n",
      "+--------------------+----------+------+\n",
      "| untimed            |     15.1 |   67 |\n",
      "| FKDemag            |     3.94 |   17 |\n",
      "| LLG                |      2.4 |   11 |\n",
      "| UniaxialAnisotropy |    0.585 |  2.6 |\n",
      "| Exchange           |    0.499 |  2.2 |\n",
      "| Simulation         |   0.0527 | 0.23 |\n",
      "+--------------------+----------+------+\n",
      "\n",
      "Total wall time 0:00:22.\n"
     ]
    }
   ],
   "source": [
    "# IPYTHON_TEST_IGNORE_OUTPUT\n",
    "\n",
    "from aeon import default_timer\n",
    "print default_timer.report(20)"
   ]
  },
  {
   "cell_type": "markdown",
   "metadata": {},
   "source": [
    "## Bonus: Make a Pretty Picture!"
   ]
  },
  {
   "cell_type": "markdown",
   "metadata": {},
   "source": [
    "The data is best visualised using a pie chart."
   ]
  },
  {
   "cell_type": "code",
   "execution_count": 4,
   "metadata": {
    "collapsed": false
   },
   "outputs": [
    {
     "data": {
      "image/png": "[encoded data removed]",
      "text/plain": [
       "<matplotlib.figure.Figure at 0x5f6ecd0>"
      ]
     },
     "metadata": {},
     "output_type": "display_data"
    }
   ],
   "source": [
    "# IPYTHON_TEST_IGNORE_OUTPUT\n",
    "\n",
    "import matplotlib.pyplot as plt\n",
    "groups, times, shares = zip(* default_timer.grouped_timings())\n",
    "_ = plt.pie(shares, labels=groups)"
   ]
  },
  {
   "cell_type": "markdown",
   "metadata": {},
   "source": [
    "## A word of advice to those using the timings module in interactive mode"
   ]
  },
  {
   "cell_type": "markdown",
   "metadata": {},
   "source": [
    "The timings code takes a final look on the clock when the *report* method is called. If there is a long delay between the moment you run the simulation and the moment you ask for the report, the relative timings will be meaningless because the delay is added to the total runtime."
   ]
  }
 ],
 "metadata": {
  "kernelspec": {
   "display_name": "Python 2",
   "language": "python",
   "name": "python2"
  },
  "language_info": {
   "codemirror_mode": {
    "name": "ipython",
    "version": 2
   },
   "file_extension": ".py",
   "mimetype": "text/x-python",
   "name": "python",
   "nbconvert_exporter": "python",
   "pygments_lexer": "ipython2",
   "version": "2.7.6"
  }
 },
 "nbformat": 4,
 "nbformat_minor": 0
}
