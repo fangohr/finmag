{
 "metadata": {
  "name": ""
 },
 "nbformat": 3,
 "nbformat_minor": 0,
 "worksheets": [
  {
   "cells": [
    {
     "cell_type": "heading",
     "level": 1,
     "metadata": {},
     "source": [
      "How to see where Time is spent in Finmag Simulations"
     ]
    },
    {
     "cell_type": "heading",
     "level": 2,
     "metadata": {},
     "source": [
      "Step 1. Let finmag run"
     ]
    },
    {
     "cell_type": "markdown",
     "metadata": {},
     "source": [
      "Let's run a sample simulation just to let finmag do some work."
     ]
    },
    {
     "cell_type": "code",
     "collapsed": false,
     "input": [
      "import dolfin as df\n",
      "import logging\n",
      "from finmag import Simulation\n",
      "from finmag.energies import Zeeman, Exchange, UniaxialAnisotropy, Demag\n",
      "\n",
      "log = logging.getLogger(name='finmag')\n",
      "log.setLevel(logging.ERROR)\n",
      "\n",
      "mesh = df.BoxMesh(0, 0, 0, 100, 10, 10, 50, 5, 5)\n",
      "\n",
      "Ms = 8.6e5\n",
      "A = 13.0e-12\n",
      "H = 1.1 * Ms\n",
      "K1 = 4e3\n",
      "\n",
      "sim = Simulation(mesh, Ms, unit_length=1)\n",
      "sim.set_m((1, 0, 0))\n",
      "sim.add(Exchange(A))\n",
      "sim.add(Demag())\n",
      "sim.add(Zeeman((0, 0, H)))\n",
      "sim.add(UniaxialAnisotropy(K1, (0, 1, 0)))\n",
      "sim.run_until(1e-9)\n",
      "\n",
      "print sim.m_average"
     ],
     "language": "python",
     "metadata": {},
     "outputs": [
      {
       "output_type": "stream",
       "stream": "stderr",
       "text": [
        "[2014-01-10 12:00:34] INFO: Finmag logging output will be appended to file: '/home/mark/.finmag/global.log'\n"
       ]
      },
      {
       "output_type": "stream",
       "stream": "stderr",
       "text": [
        "[2014-01-10 12:00:34] DEBUG: Building modules in 'native'...\n"
       ]
      },
      {
       "output_type": "stream",
       "stream": "stderr",
       "text": [
        "[2014-01-10 12:00:34] DEBUG:               Finmag: 4330:71728f478aeb0af9ba093732d6286914a6584ec3\n"
       ]
      },
      {
       "output_type": "stream",
       "stream": "stderr",
       "text": [
        "[2014-01-10 12:00:34] DEBUG:               Dolfin: 1.2.0\n"
       ]
      },
      {
       "output_type": "stream",
       "stream": "stderr",
       "text": [
        "[2014-01-10 12:00:34] DEBUG:           Matplotlib: 1.2.1\n"
       ]
      },
      {
       "output_type": "stream",
       "stream": "stderr",
       "text": [
        "[2014-01-10 12:00:34] DEBUG:                Numpy: 1.7.1\n"
       ]
      },
      {
       "output_type": "stream",
       "stream": "stderr",
       "text": [
        "[2014-01-10 12:00:34] DEBUG:                Scipy: 0.11.0\n"
       ]
      },
      {
       "output_type": "stream",
       "stream": "stderr",
       "text": [
        "[2014-01-10 12:00:34] DEBUG:              IPython: 1.1.0\n"
       ]
      },
      {
       "output_type": "stream",
       "stream": "stderr",
       "text": [
        "[2014-01-10 12:00:34] DEBUG:               Python: 2.7.4\n"
       ]
      },
      {
       "output_type": "stream",
       "stream": "stderr",
       "text": [
        "[2014-01-10 12:00:34] DEBUG:             Paraview: 3.98.0-1~exp1\n"
       ]
      },
      {
       "output_type": "stream",
       "stream": "stderr",
       "text": [
        "[2014-01-10 12:00:34] DEBUG:             Sundials: 2.5.0-3\n"
       ]
      },
      {
       "output_type": "stream",
       "stream": "stderr",
       "text": [
        "[2014-01-10 12:00:34] DEBUG:         Boost-Python: 1.49.0\n"
       ]
      },
      {
       "output_type": "stream",
       "stream": "stderr",
       "text": [
        "[2014-01-10 12:00:34] DEBUG:                Linux: Ubuntu 13.04\n"
       ]
      },
      {
       "output_type": "stream",
       "stream": "stderr",
       "text": [
        "[2014-01-10 12:00:34] DEBUG: Registering debug signal handler. Press Ctrl-Z at any time to stop execution and jump into the debugger.\n"
       ]
      },
      {
       "output_type": "stream",
       "stream": "stdout",
       "text": [
        "[  1.56528156e-04   6.17770751e-04   9.93204268e-01]\n"
       ]
      }
     ],
     "prompt_number": 1
    },
    {
     "cell_type": "heading",
     "level": 2,
     "metadata": {},
     "source": [
      "Step 2. Have a look at the timings"
     ]
    },
    {
     "cell_type": "markdown",
     "metadata": {},
     "source": [
      "finmag will keep track of the runtimes behind the scenes. The information is available in the default_timer object and can be printed using the *report* method. It will show the methods or functions that took the most time to execute. The maximum number of items reported can be set by passing an integer value to the *report* method."
     ]
    },
    {
     "cell_type": "code",
     "collapsed": false,
     "input": [
      "# IPYTHON_TEST_IGNORE_OUTPUT\n",
      "\n",
      "from aeon import default_timer\n",
      "print default_timer.report(20)"
     ],
     "language": "python",
     "metadata": {},
     "outputs": [
      {
       "output_type": "stream",
       "stream": "stdout",
       "text": [
        "Timings: Showing the up to 20 slowest items.\n",
        "\n",
        "+--------------------+------------------------------+--------+------------+--------------+\n",
        "| class/module       | name                         |  calls |  total (s) | per call (s) |\n",
        "+--------------------+------------------------------+--------+------------+--------------+\n",
        "| FKDemag            | compute_field                |    304 |       2.16 |      0.00709 |\n",
        "| LLG                | sundials_jtimes              |    540 |      0.479 |     0.000886 |\n",
        "| UniaxialAnisotropy | setup                        |      1 |      0.385 |        0.385 |\n",
        "| Exchange           | compute_field                |    844 |      0.262 |      0.00031 |\n",
        "| UniaxialAnisotropy | compute_field                |    844 |      0.235 |     0.000278 |\n",
        "| FKDemag            | setup                        |      1 |      0.167 |        0.167 |\n",
        "| Exchange           | setup                        |      1 |      0.106 |        0.106 |\n",
        "| Simulation         | __init__                     |      1 |     0.0829 |       0.0829 |\n",
        "| LLG                | solve                        |    303 |     0.0691 |     0.000228 |\n",
        "| LLG                | __init__                     |      1 |     0.0233 |       0.0233 |\n",
        "+--------------------+------------------------------+--------+------------+--------------+\n",
        "\n",
        "Timings grouped by class or module.\n",
        "\n",
        "+--------------------+----------+------+\n",
        "| class/module       | time (s) |    % |\n",
        "+--------------------+----------+------+\n",
        "| FKDemag            |     2.32 |   51 |\n",
        "| untimed            |    0.629 |   14 |\n",
        "| UniaxialAnisotropy |     0.62 |   13 |\n",
        "| LLG                |    0.571 |   12 |\n",
        "| Exchange           |    0.368 |    8 |\n",
        "| Simulation         |   0.0829 |  1.8 |\n",
        "+--------------------+----------+------+\n",
        "\n",
        "Total wall time 0:00:04.\n"
       ]
      }
     ],
     "prompt_number": 2
    },
    {
     "cell_type": "heading",
     "level": 2,
     "metadata": {},
     "source": [
      "Bonus: Make a Pretty Picture!"
     ]
    },
    {
     "cell_type": "markdown",
     "metadata": {},
     "source": [
      "The data is best visualised using a pie chart."
     ]
    },
    {
     "cell_type": "code",
     "collapsed": false,
     "input": [
      "# IPYTHON_TEST_IGNORE_OUTPUT\n",
      "\n",
      "import matplotlib.pyplot as plt\n",
      "groups, times, shares = zip(* default_timer.grouped_timings())\n",
      "plt.pie(shares, labels=groups)"
     ],
     "language": "python",
     "metadata": {},
     "outputs": [],
     "prompt_number": 3
    },
    {
     "cell_type": "heading",
     "level": 2,
     "metadata": {},
     "source": [
      "A word of advice to those using the timings module in interactive mode"
     ]
    },
    {
     "cell_type": "markdown",
     "metadata": {},
     "source": [
      "The timings code takes a final look on the clock when the *report* method is called. If there is a long delay between the moment you run the simulation and the moment you ask for the report, the relative timings will be meaningless because the delay is added to the total runtime."
     ]
    }
   ],
   "metadata": {}
  }
 ]
}