{
 "metadata": {
  "name": "",
  "signature": "sha256:8e28446ad325b62f0eb4f0e0daa1ce9491e2c545b45db64b155d8a32c24e832f"
 },
 "nbformat": 3,
 "nbformat_minor": 0,
 "worksheets": [
  {
   "cells": [
    {
     "cell_type": "markdown",
     "metadata": {},
     "source": [
      "# Finding the DMI constant from the helix length"
     ]
    },
    {
     "cell_type": "markdown",
     "metadata": {},
     "source": [
      "**Author**: Mark Vousden\n",
      "\n",
      "**Date**: Nov 2013\n",
      "\n",
      "**Purpose**: This brief notebook outlines example usage of the DMI_from_helix.py utility in finmag. Two examples will be considered here. Firstly, an example finding the helix length in a system will be found from material parameters. Secondly, an example finding the DMI constant from other material properties as well as the helix length will be considered."
     ]
    },
    {
     "cell_type": "code",
     "collapsed": false,
     "input": [
      "import finmag\n",
      "import finmag.util.DMI_from_helix as dfh\n",
      "import numpy as np"
     ],
     "language": "python",
     "metadata": {},
     "outputs": [
      {
       "output_type": "stream",
       "stream": "stderr",
       "text": [
        "[2014-06-09 19:20:46] INFO: Finmag logging output will be appended to file: '/home/albert/.finmag/global.log'\n"
       ]
      },
      {
       "output_type": "stream",
       "stream": "stderr",
       "text": [
        "[2014-06-09 19:20:46] DEBUG: Building modules in 'native'...\n"
       ]
      },
      {
       "output_type": "stream",
       "stream": "stderr",
       "text": [
        "[2014-06-09 19:20:47] DEBUG: FinMag          5051:42a4fdd71d5f54017564d649ab3c122065c88e83\n"
       ]
      },
      {
       "output_type": "stream",
       "stream": "stderr",
       "text": [
        "[2014-06-09 19:20:47] DEBUG: Dolfin          1.4.0                Matplotlib      1.3.1               \n"
       ]
      },
      {
       "output_type": "stream",
       "stream": "stderr",
       "text": [
        "[2014-06-09 19:20:47] DEBUG: Numpy           1.8.1                Scipy           0.12.0              \n"
       ]
      },
      {
       "output_type": "stream",
       "stream": "stderr",
       "text": [
        "[2014-06-09 19:20:47] DEBUG: IPython         2.1.0                Python          2.7.5+              \n"
       ]
      },
      {
       "output_type": "stream",
       "stream": "stderr",
       "text": [
        "[2014-06-09 19:20:47] DEBUG: Paraview        4.0.1-1              Sundials        2.5.0               \n"
       ]
      },
      {
       "output_type": "stream",
       "stream": "stderr",
       "text": [
        "[2014-06-09 19:20:47] DEBUG: Boost-Python    <unknown>            Linux           Linux Mint 16 Petra \n"
       ]
      },
      {
       "output_type": "stream",
       "stream": "stderr",
       "text": [
        "[2014-06-09 19:20:47] DEBUG: Registering debug signal handler. Press Ctrl-Z at any time to stop execution and jump into the debugger.\n"
       ]
      }
     ],
     "prompt_number": 1
    },
    {
     "cell_type": "markdown",
     "metadata": {},
     "source": [
      "Firstly, system parameters can be defined:"
     ]
    },
    {
     "cell_type": "code",
     "collapsed": false,
     "input": [
      "A = 3.53e-13 #Isotropic exchange energy constant (J/m).\n",
      "Ms = 1.56e5 #Magnetisation Saturation(A/m).\n",
      "H = np.array([1,0,0]) * 0 #External magnetic field strength (A/m), set to zero for this example.\n",
      "D = 2.01e-4 #Dzyaloshinskii-Moriya exchange energy constant (J/m^2)."
     ],
     "language": "python",
     "metadata": {},
     "outputs": [],
     "prompt_number": 2
    },
    {
     "cell_type": "markdown",
     "metadata": {},
     "source": [
      "With these parameters, it is possible to find the helix length of a system with these parameters. This function generates a 1D mesh (using dolfin), and relaxes the system. The magnetic moments that result are subjected to a fourier transform to find the period of the magnetic moments. This period corresponds to the length of the helices."
     ]
    },
    {
     "cell_type": "code",
     "collapsed": false,
     "input": [
      "l = dfh.Find_Helix_Length(D, A, Ms, H=H)\n",
      "print(\"Helix length = {:.2e} m.\".format(l))"
     ],
     "language": "python",
     "metadata": {},
     "outputs": [
      {
       "output_type": "stream",
       "stream": "stderr",
       "text": [
        "[2014-06-09 19:20:59] INFO: Finmag logging output will be written to file: '/home/albert/work/code/finmag/doc/ipython_notebooks_src/Finding_Helix_Length.log' (any old content will be overwritten).\n"
       ]
      },
      {
       "output_type": "stream",
       "stream": "stderr",
       "text": [
        "[2014-06-09 19:20:59] DEBUG: Creating DataWriter for file 'Finding_Helix_Length.ndt'\n"
       ]
      },
      {
       "output_type": "stream",
       "stream": "stderr",
       "text": [
        "[2014-06-09 19:20:59] INFO: Creating Sim object 'Finding_Helix_Length' (rank=0/1).\n"
       ]
      },
      {
       "output_type": "stream",
       "stream": "stderr",
       "text": [
        "[2014-06-09 19:20:59] INFO: <Mesh of topological dimension 1 (intervals) with 1000 vertices and 999 cells, ordered>\n"
       ]
      },
      {
       "output_type": "stream",
       "stream": "stderr",
       "text": [
        "[2014-06-09 19:20:59] DEBUG: Creating LLG object.\n"
       ]
      },
      {
       "output_type": "stream",
       "stream": "stderr",
       "text": [
        "[2014-06-09 19:20:59] DEBUG: Creating Exchange object with method box-matrix-petsc, in Jacobian.\n"
       ]
      },
      {
       "output_type": "stream",
       "stream": "stderr",
       "text": [
        "[2014-06-09 19:20:59] DEBUG: Adding interaction Exchange to simulation.\n"
       ]
      },
      {
       "output_type": "stream",
       "stream": "stderr",
       "text": [
        "[2014-06-09 19:20:59] DEBUG: Creating DMI object with method box-matrix-petsc, in Jacobian.\n"
       ]
      },
      {
       "output_type": "stream",
       "stream": "stderr",
       "text": [
        "[2014-06-09 19:20:59] DEBUG: Adding interaction DMI to simulation.\n"
       ]
      },
      {
       "output_type": "stream",
       "stream": "stderr",
       "text": [
        "[2014-06-09 19:20:59] DEBUG: Adding interaction Zeeman to simulation.\n"
       ]
      },
      {
       "output_type": "stream",
       "stream": "stderr",
       "text": [
        "[2014-06-09 19:20:59] INFO: Create integrator sundials with kwargs={}\n"
       ]
      },
      {
       "output_type": "stream",
       "stream": "stderr",
       "text": [
        "[2014-06-09 19:20:59] DEBUG: Creating integrator with backend sundials.\n"
       ]
      },
      {
       "output_type": "stream",
       "stream": "stderr",
       "text": [
        "[2014-06-09 19:20:59] INFO: Simulation will run until t = 1e-08 s.\n"
       ]
      },
      {
       "output_type": "stream",
       "stream": "stderr",
       "text": [
        "[2014-06-09 19:21:15] INFO: Simulation has reached time t = 1e-08 s.\n"
       ]
      },
      {
       "output_type": "stream",
       "stream": "stderr",
       "text": [
        "[2014-06-09 19:21:15] INFO: Calculating the fourier transform of the magnetisation data.\n"
       ]
      },
      {
       "output_type": "stream",
       "stream": "stdout",
       "text": [
        "Helix length = 2.50e-08 m.\n"
       ]
      }
     ],
     "prompt_number": 3
    },
    {
     "cell_type": "markdown",
     "metadata": {},
     "source": [
      "The DMI constant can also be found from the material properties and helix length via an optimisation method. DMI_from_helix contains a function that does this already. So by defining a new set of system parameters and calling another function, the DMI constant can be found. This function suppresses the output of finmag, since many simulations are created in order to drive the iterative optimisation process."
     ]
    },
    {
     "cell_type": "code",
     "collapsed": false,
     "input": [
      "A = 9.74e-14 #Isotropic exchange energy constant (J/m).\n",
      "Ms = 9.5e4 #Magnetisation Saturation(A/m).\n",
      "H = np.array([1,0,0]) * 0 #External magnetic field strength (A/m), set to zero for this example.\n",
      "l = 11e-9 #Observed helix length (m).\n",
      "\n",
      "d = dfh.Find_DMI(A, Ms, l, H=H)\n",
      "print(\"Dzyaloshinskii-Moriya exchange energy constant = {:.1e} J/m^2.\".format(d))"
     ],
     "language": "python",
     "metadata": {},
     "outputs": [
      {
       "output_type": "stream",
       "stream": "stdout",
       "text": [
        "Dzyaloshinskii-Moriya exchange energy constant = 1.2e-04 J/m^2.\n"
       ]
      }
     ],
     "prompt_number": 4
    }
   ],
   "metadata": {}
  }
 ]
}