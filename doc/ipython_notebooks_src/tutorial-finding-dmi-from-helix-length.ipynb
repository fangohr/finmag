{
 "metadata": {
  "name": "tutorial-finding-dmi-from-helix-length"
 },
 "nbformat": 3,
 "nbformat_minor": 0,
 "worksheets": [
  {
   "cells": [
    {
     "cell_type": "heading",
     "level": 1,
     "metadata": {},
     "source": [
      "tutorial-finding-DMI-from-helix-length"
     ]
    },
    {
     "cell_type": "markdown",
     "metadata": {},
     "source": [
      "This brief notebook outlines example usage of the DMI_from_helix.py utility in finmag. Two examples will be considered here. Firstly, an example finding the helix length in a system will be found from material parameters. Secondly, an example finding the DMI constant from other material properties as well as the helix length will be considered."
     ]
    },
    {
     "cell_type": "code",
     "collapsed": false,
     "input": [
      "import finmag\n",
      "import finmag.util.DMI_from_helix as dfh\n",
      "import numpy as np"
     ],
     "language": "python",
     "metadata": {},
     "outputs": [
      {
       "output_type": "stream",
       "stream": "stderr",
       "text": [
        "[2013-11-01 15:26:41] INFO: Finmag logging output will be appended to file: '/home/mark/.finmag/global.log'\n"
       ]
      },
      {
       "output_type": "stream",
       "stream": "stderr",
       "text": [
        "[2013-11-01 15:26:41] DEBUG: Building modules in 'native'...\n"
       ]
      },
      {
       "output_type": "stream",
       "stream": "stderr",
       "text": [
        "[2013-11-01 15:26:41] DEBUG:               Finmag: 4027:7b6094bee2f835a9df7bae31d9793ef3e770f25c\n"
       ]
      },
      {
       "output_type": "stream",
       "stream": "stderr",
       "text": [
        "[2013-11-01 15:26:41] DEBUG:               Dolfin: 1.2.0\n"
       ]
      },
      {
       "output_type": "stream",
       "stream": "stderr",
       "text": [
        "[2013-11-01 15:26:41] DEBUG:           Matplotlib: 1.2.1\n"
       ]
      },
      {
       "output_type": "stream",
       "stream": "stderr",
       "text": [
        "[2013-11-01 15:26:41] DEBUG:                Numpy: 1.7.1\n"
       ]
      },
      {
       "output_type": "stream",
       "stream": "stderr",
       "text": [
        "[2013-11-01 15:26:41] DEBUG:                Scipy: 0.11.0\n"
       ]
      },
      {
       "output_type": "stream",
       "stream": "stderr",
       "text": [
        "[2013-11-01 15:26:41] DEBUG:              IPython: 0.13.2\n"
       ]
      },
      {
       "output_type": "stream",
       "stream": "stderr",
       "text": [
        "[2013-11-01 15:26:41] DEBUG:               Python: 2.7.4\n"
       ]
      },
      {
       "output_type": "stream",
       "stream": "stderr",
       "text": [
        "[2013-11-01 15:26:41] DEBUG:             Paraview: 3.98.0-1~exp1\n"
       ]
      },
      {
       "output_type": "stream",
       "stream": "stderr",
       "text": [
        "[2013-11-01 15:26:41] DEBUG:             Sundials: 2.5.0-3\n"
       ]
      },
      {
       "output_type": "stream",
       "stream": "stderr",
       "text": [
        "[2013-11-01 15:26:41] DEBUG:         Boost-Python: 1.49.0\n"
       ]
      },
      {
       "output_type": "stream",
       "stream": "stderr",
       "text": [
        "[2013-11-01 15:26:41] DEBUG:                Linux: Ubuntu 13.04\n"
       ]
      }
     ],
     "prompt_number": 1
    },
    {
     "cell_type": "markdown",
     "metadata": {},
     "source": [
      "Firstly, system parameters can be defined:"
     ]
    },
    {
     "cell_type": "code",
     "collapsed": false,
     "input": [
      "A = 3.53e-13 #Isotropic exchange energy constant (J/m).\n",
      "Ms = 1.56e5 #Magnetisation Saturation(A/m).\n",
      "H = np.array([1,0,0]) * 0 #External magnetic field strength (A/m), set to zero for this example.\n",
      "D = 2.01e-4 #Dzyaloshinskii-Moriya exchange energy constant (J/m^2)."
     ],
     "language": "python",
     "metadata": {},
     "outputs": [],
     "prompt_number": 2
    },
    {
     "cell_type": "markdown",
     "metadata": {},
     "source": [
      "With these parameters, it is possible to find the helix length of a system with these parameters. This function generates a 1D mesh (using dolfin), and relaxes the system. The magnetic moments that result are subjected to a fourier transform to find the period of the magnetic moments. This period corresponds to the length of the helices."
     ]
    },
    {
     "cell_type": "code",
     "collapsed": false,
     "input": [
      "l = dfh.Find_Helix_Length(D, A, Ms, H)\n",
      "print(\"Helix length = {:.2e} m.\".format(l))"
     ],
     "language": "python",
     "metadata": {},
     "outputs": [
      {
       "output_type": "stream",
       "stream": "stderr",
       "text": [
        "[2013-11-01 15:26:41] INFO: Finmag logging output will be written to file: '/home/mark/finmag/doc/ipython_notebooks_src/Finding_Helix_Length.log' (any old content will be overwritten).\n"
       ]
      },
      {
       "output_type": "stream",
       "stream": "stderr",
       "text": [
        "[2013-11-01 15:26:41] DEBUG: Creating DataWriter for file 'Finding_Helix_Length.ndt'\n"
       ]
      },
      {
       "output_type": "stream",
       "stream": "stderr",
       "text": [
        "[2013-11-01 15:26:41] INFO: Creating Sim object 'Finding_Helix_Length' (rank=0/1).\n"
       ]
      },
      {
       "output_type": "stream",
       "stream": "stderr",
       "text": [
        "[2013-11-01 15:26:41] INFO: <Mesh of topological dimension 1 (intervals) with 1000 vertices and 999 cells, ordered>\n"
       ]
      },
      {
       "output_type": "stream",
       "stream": "stderr",
       "text": [
        "[2013-11-01 15:26:42] DEBUG: Creating LLG object.\n"
       ]
      },
      {
       "output_type": "stream",
       "stream": "stderr",
       "text": [
        "[2013-11-01 15:26:42] DEBUG: Creating Exchange object with method box-matrix-petsc, in Jacobian.\n"
       ]
      },
      {
       "output_type": "stream",
       "stream": "stderr",
       "text": [
        "[2013-11-01 15:26:42] DEBUG: Creating DMI object with method box-matrix-petsc, in Jacobian.\n"
       ]
      },
      {
       "output_type": "stream",
       "stream": "stderr",
       "text": [
        "[2013-11-01 15:26:42] DEBUG: Adding interaction <finmag.energies.exchange.Exchange object at 0x3d74a90> to simulation 'Finding_Helix_Length'\n"
       ]
      },
      {
       "output_type": "stream",
       "stream": "stderr",
       "text": [
        "[2013-11-01 15:26:42] DEBUG: Adding interaction <finmag.energies.dmi.DMI object at 0x3d74cd0> to simulation 'Finding_Helix_Length'\n"
       ]
      },
      {
       "output_type": "stream",
       "stream": "stderr",
       "text": [
        "[2013-11-01 15:26:42] DEBUG: Adding interaction <finmag.energies.zeeman.Zeeman object at 0x3d74fd0> to simulation 'Finding_Helix_Length'\n"
       ]
      },
      {
       "output_type": "stream",
       "stream": "stderr",
       "text": [
        "[2013-11-01 15:26:42] INFO: Create integrator sundials with kwargs={}\n"
       ]
      },
      {
       "output_type": "stream",
       "stream": "stderr",
       "text": [
        "[2013-11-01 15:26:42] DEBUG: Creating integrator with backend sundials.\n"
       ]
      },
      {
       "output_type": "stream",
       "stream": "stderr",
       "text": [
        "[2013-11-01 15:26:42] INFO: Simulation will run until t = 5e-09 s.\n"
       ]
      },
      {
       "output_type": "stream",
       "stream": "stderr",
       "text": [
        "[2013-11-01 15:26:47] INFO: Simulation has reached time t = 5e-09 s.\n"
       ]
      },
      {
       "output_type": "stream",
       "stream": "stderr",
       "text": [
        "[2013-11-01 15:26:47] INFO: Calculating the fourier transform of the magnetisation data.\n"
       ]
      },
      {
       "output_type": "stream",
       "stream": "stdout",
       "text": [
        "Helix length = 2.50e-08 m.\n"
       ]
      }
     ],
     "prompt_number": 3
    },
    {
     "cell_type": "markdown",
     "metadata": {},
     "source": [
      "The DMI constant can also be found from the material properties and helix length via an optimisation method. DMI_from_helix contains a function that does this already. So by defining a new set of system parameters and calling another function, the DMI constant can be found. This function suppresses the output of finmag, since many simulations are created in order to drive the iterative optimisation process."
     ]
    },
    {
     "cell_type": "code",
     "collapsed": false,
     "input": [
      "A = 9.74e-14 #Isotropic exchange energy constant (J/m).\n",
      "Ms = 9.5e4 #Magnetisation Saturation(A/m).\n",
      "H = np.array([1,0,0]) * 0 #External magnetic field strength (A/m), set to zero for this example.\n",
      "l = 11e-9 #Observed helix length (m).\n",
      "\n",
      "d = dfh.Find_DMI(A, Ms, l, H)\n",
      "print(\"Dzyaloshinskii-Moriya exchange energy constant = {:.2e} J/m^2.\".format(d))"
     ],
     "language": "python",
     "metadata": {},
     "outputs": [
      {
       "output_type": "stream",
       "stream": "stdout",
       "text": [
        "Dzyaloshinskii-Moriya exchange energy constant = 1.18e-04 J/m^2.\n"
       ]
      }
     ],
     "prompt_number": 4
    }
   ],
   "metadata": {}
  }
 ]
}