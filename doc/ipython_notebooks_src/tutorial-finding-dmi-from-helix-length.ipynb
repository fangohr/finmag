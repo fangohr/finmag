{
 "cells": [
  {
   "cell_type": "markdown",
   "metadata": {},
   "source": [
    "# Finding the DMI constant from the helix length"
   ]
  },
  {
   "cell_type": "markdown",
   "metadata": {},
   "source": [
    "**Author**: Mark Vousden\n",
    "\n",
    "**Date**: Nov 2013\n",
    "\n",
    "**Purpose**: This brief notebook outlines example usage of the DMI_from_helix.py utility in finmag. Two examples will be considered here. Firstly, an example finding the helix length in a system will be found from material parameters. Secondly, an example finding the DMI constant from other material properties as well as the helix length will be considered."
   ]
  },
  {
   "cell_type": "code",
   "execution_count": 1,
   "metadata": {
    "collapsed": false
   },
   "outputs": [
    {
     "name": "stderr",
     "output_type": "stream",
     "text": [
      "[2014-09-12 14:27:07] INFO: Finmag logging output will be appended to file: '/home/mb4e10/.finmag/global.log'\n",
      "[2014-09-12 14:27:07] DEBUG: Building modules in 'native'...\n",
      "[2014-09-12 14:27:18] DEBUG: FinMag          5431:ea2861438c88f00ee03ab07fe690858102c8f165\n",
      "[2014-09-12 14:27:18] DEBUG: Dolfin          1.4.0                Matplotlib      1.3.1               \n",
      "[2014-09-12 14:27:18] DEBUG: Numpy           1.8.1                Scipy           0.14.0              \n",
      "[2014-09-12 14:27:18] DEBUG: IPython         2.1.0                Python          2.7.6               \n",
      "[2014-09-12 14:27:18] DEBUG: Paraview        4.0.1-1ubuntu1       Sundials        2.5.0               \n",
      "[2014-09-12 14:27:18] DEBUG: Boost-Python    <unknown>            Linux           Ubuntu 14.04.1 LTS  \n",
      "[2014-09-12 14:27:18] DEBUG: Registering debug signal handler. Press Ctrl-Z at any time to stop execution and jump into the debugger.\n"
     ]
    }
   ],
   "source": [
    "import finmag\n",
    "import finmag.util.DMI_from_helix as dfh\n",
    "import numpy as np"
   ]
  },
  {
   "cell_type": "markdown",
   "metadata": {},
   "source": [
    "Firstly, system parameters can be defined:"
   ]
  },
  {
   "cell_type": "code",
   "execution_count": 2,
   "metadata": {
    "collapsed": false
   },
   "outputs": [],
   "source": [
    "A = 3.53e-13 #Isotropic exchange energy constant (J/m).\n",
    "Ms = 1.56e5 #Magnetisation Saturation(A/m).\n",
    "H = np.array([1,0,0]) * 0 #External magnetic field strength (A/m), set to zero for this example.\n",
    "D = 2.01e-4 #Dzyaloshinskii-Moriya exchange energy constant (J/m^2)."
   ]
  },
  {
   "cell_type": "markdown",
   "metadata": {},
   "source": [
    "With these parameters, it is possible to find the helix length of a system with these parameters. This function generates a 1D mesh (using dolfin), and relaxes the system. The magnetic moments that result are subjected to a fourier transform to find the period of the magnetic moments. This period corresponds to the length of the helices."
   ]
  },
  {
   "cell_type": "code",
   "execution_count": 3,
   "metadata": {
    "collapsed": false
   },
   "outputs": [
    {
     "name": "stderr",
     "output_type": "stream",
     "text": [
      "[2014-09-12 14:27:31] INFO: Finmag logging output will be written to file: '/home/mb4e10/finmag/doc/ipython_notebooks_src/Finding_Helix_Length.log' (any old content will be overwritten).\n",
      "[2014-09-12 14:27:31] DEBUG: Creating DataWriter for file 'Finding_Helix_Length.ndt'\n",
      "[2014-09-12 14:27:31] INFO: Creating Sim object 'Finding_Helix_Length' (rank=0/1).\n",
      "[2014-09-12 14:27:31] INFO: <Mesh of topological dimension 1 (intervals) with 1000 vertices and 999 cells, ordered>\n",
      "[2014-09-12 14:27:32] DEBUG: Creating LLG object.\n",
      "[2014-09-12 14:27:33] DEBUG: Creating Exchange object with method box-matrix-petsc,  in Jacobian.\n",
      "[2014-09-12 14:27:33] DEBUG: Adding interaction Exchange to simulation.\n",
      "[2014-09-12 14:27:33] DEBUG: Creating DMI object with method box-matrix-petsc,  in Jacobian.\n",
      "[2014-09-12 14:27:33] DEBUG: Adding interaction DMI to simulation.\n",
      "[2014-09-12 14:27:33] DEBUG: Adding interaction Zeeman to simulation.\n",
      "[2014-09-12 14:27:34] INFO: Create integrator sundials with kwargs={}\n",
      "[2014-09-12 14:27:34] DEBUG: Creating integrator with backend sundials.\n",
      "[2014-09-12 14:27:34] DEBUG: Updating get method for steps in TableWriter(name=Finding_Helix_Length.ndt)\n",
      "[2014-09-12 14:27:34] DEBUG: Updating get method for last_step_dt in TableWriter(name=Finding_Helix_Length.ndt)\n",
      "[2014-09-12 14:27:34] DEBUG: Updating get method for dmdt in TableWriter(name=Finding_Helix_Length.ndt)\n",
      "[2014-09-12 14:27:34] INFO: Simulation will run until t = 1e-08 s.\n",
      "[2014-09-12 14:27:50] INFO: Simulation has reached time t = 1e-08 s.\n",
      "[2014-09-12 14:27:50] INFO: Calculating the fourier transform of the magnetisation data.\n"
     ]
    },
    {
     "name": "stdout",
     "output_type": "stream",
     "text": [
      "Helix length = 2.50e-08 m.\n"
     ]
    }
   ],
   "source": [
    "l = dfh.Find_Helix_Length(D, A, Ms, H=H)\n",
    "print(\"Helix length = {:.2e} m.\".format(l))"
   ]
  },
  {
   "cell_type": "markdown",
   "metadata": {},
   "source": [
    "The DMI constant can also be found from the material properties and helix length via an optimisation method. DMI_from_helix contains a function that does this already. So by defining a new set of system parameters and calling another function, the DMI constant can be found. This function suppresses the output of finmag, since many simulations are created in order to drive the iterative optimisation process."
   ]
  },
  {
   "cell_type": "code",
   "execution_count": 4,
   "metadata": {
    "collapsed": false
   },
   "outputs": [
    {
     "name": "stdout",
     "output_type": "stream",
     "text": [
      "Dzyaloshinskii-Moriya exchange energy constant = 1.2e-04 J/m^2.\n"
     ]
    }
   ],
   "source": [
    "A = 9.74e-14 #Isotropic exchange energy constant (J/m).\n",
    "Ms = 9.5e4 #Magnetisation Saturation(A/m).\n",
    "H = np.array([1,0,0]) * 0 #External magnetic field strength (A/m), set to zero for this example.\n",
    "l = 11e-9 #Observed helix length (m).\n",
    "\n",
    "d = dfh.Find_DMI(A, Ms, l, H=H)\n",
    "print(\"Dzyaloshinskii-Moriya exchange energy constant = {:.1e} J/m^2.\".format(d))"
   ]
  }
 ],
 "metadata": {
  "kernelspec": {
   "display_name": "Python 2",
   "language": "python",
   "name": "python2"
  },
  "language_info": {
   "codemirror_mode": {
    "name": "ipython",
    "version": 2
   },
   "file_extension": ".py",
   "mimetype": "text/x-python",
   "name": "python",
   "nbconvert_exporter": "python",
   "pygments_lexer": "ipython2",
   "version": "2.7.6"
  }
 },
 "nbformat": 4,
 "nbformat_minor": 0
}
