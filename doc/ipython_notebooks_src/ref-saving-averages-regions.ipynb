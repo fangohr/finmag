{
 "metadata": {
  "name": "",
  "signature": "sha256:72df8afa6c5eb9c4490fe9c2ba293c27e92a22ca0f4054d6970f26c3a76ecb3b"
 },
 "nbformat": 3,
 "nbformat_minor": 0,
 "worksheets": [
  {
   "cells": [
    {
     "cell_type": "heading",
     "level": 2,
     "metadata": {},
     "source": [
      "Saving average saturation magnetisation in different regions."
     ]
    },
    {
     "cell_type": "markdown",
     "metadata": {},
     "source": [
      "**Author**: Weiwei Wang\n",
      "\n",
      "**Date**: Jan 2013\n",
      "\n",
      "**Modifications**: Max Albert, Hans Fangohr"
     ]
    },
    {
     "cell_type": "markdown",
     "metadata": {},
     "source": [
      "Suppose the studied system is a unitcube and we are interested in the average saturation magnetisation in top region (z>0.5) and bottom region (z<0.5), also suppose the initial saturation magnetisation are different, say 8.6e5 A/m in top region and 1e5 A/m in the bottom. "
     ]
    },
    {
     "cell_type": "code",
     "collapsed": false,
     "input": [
      "def top(coords):\n",
      "    if coords[2]>0.5:\n",
      "        return True\n",
      "    else:\n",
      "        return False\n",
      "\n",
      "def bottom(coords):\n",
      "    return not top(coords)\n",
      "\n",
      "def init_Ms(coords):\n",
      "    if top(coords):\n",
      "        return 8.6e5 \n",
      "    else:\n",
      "        return 1e5"
     ],
     "language": "python",
     "metadata": {},
     "outputs": [],
     "prompt_number": 1
    },
    {
     "cell_type": "markdown",
     "metadata": {},
     "source": [
      "The simululation looks like, "
     ]
    },
    {
     "cell_type": "code",
     "collapsed": false,
     "input": [
      "from finmag import Simulation as Sim\n",
      "from finmag.energies import Zeeman\n",
      "from finmag.energies import Demag\n",
      "import dolfin as df\n",
      "import numpy as np\n",
      "\n",
      "from finmag import set_logging_level\n",
      "set_logging_level(\"INFO\")\n",
      "\n",
      "mesh = df.BoxMesh(0, 0, 0, 1, 1, 1, 2, 2, 2)\n",
      "sim = Sim(mesh, init_Ms, unit_length=1e-9)\n",
      "sim.alpha = 0.1\n",
      "sim.set_m((1, 0, 0))\n",
      "\n",
      "H0 = 1e6\n",
      "sim.add(Zeeman((0, 0, H0)))\n",
      "\n",
      "demag=Demag(solver='FK')\n",
      "sim.add(demag)\n",
      "\n",
      "sim.save_m_in_region(bottom, name='bottom')\n",
      "sim.save_m_in_region(top, name='top')\n",
      "sim.schedule('save_ndt', every=1e-12)\n",
      "sim.run_until(1e-10)\n",
      "\n",
      "#ts = np.linspace(0, 1e-10, 101)\n",
      "#for t in ts:\n",
      "#    sim.run_until(t)"
     ],
     "language": "python",
     "metadata": {},
     "outputs": [
      {
       "output_type": "stream",
       "stream": "stderr",
       "text": [
        "[2014-06-09 17:12:55] INFO: Finmag logging output will be appended to file: '/home/albert/.finmag/global.log'\n"
       ]
      },
      {
       "output_type": "stream",
       "stream": "stderr",
       "text": [
        "[2014-06-09 17:12:55] DEBUG: Building modules in 'native'...\n"
       ]
      },
      {
       "output_type": "stream",
       "stream": "stderr",
       "text": [
        "[2014-06-09 17:12:56] DEBUG: FinMag          5037:a2c38d2457060c948af9c8e8b51150308243c971\n"
       ]
      },
      {
       "output_type": "stream",
       "stream": "stderr",
       "text": [
        "[2014-06-09 17:12:56] DEBUG: Dolfin          1.4.0                Matplotlib      1.3.1               \n"
       ]
      },
      {
       "output_type": "stream",
       "stream": "stderr",
       "text": [
        "[2014-06-09 17:12:56] DEBUG: Numpy           1.8.1                Scipy           0.12.0              \n"
       ]
      },
      {
       "output_type": "stream",
       "stream": "stderr",
       "text": [
        "[2014-06-09 17:12:56] DEBUG: IPython         2.1.0                Python          2.7.5+              \n"
       ]
      },
      {
       "output_type": "stream",
       "stream": "stderr",
       "text": [
        "[2014-06-09 17:12:56] DEBUG: Paraview        4.0.1-1              Sundials        2.5.0               \n"
       ]
      },
      {
       "output_type": "stream",
       "stream": "stderr",
       "text": [
        "[2014-06-09 17:12:56] DEBUG: Boost-Python    <unknown>            Linux           Linux Mint 16 Petra \n"
       ]
      },
      {
       "output_type": "stream",
       "stream": "stderr",
       "text": [
        "[2014-06-09 17:12:56] DEBUG: Registering debug signal handler. Press Ctrl-Z at any time to stop execution and jump into the debugger.\n"
       ]
      },
      {
       "output_type": "stream",
       "stream": "stderr",
       "text": [
        "[2014-06-09 17:12:56] INFO: Finmag logging output will be written to file: '/home/albert/work/code/finmag/doc/ipython_notebooks_src/unnamed.log' (any old content will be overwritten).\n"
       ]
      },
      {
       "output_type": "stream",
       "stream": "stderr",
       "text": [
        "[2014-06-09 17:12:56] INFO: Creating Sim object 'unnamed' (rank=0/1).\n"
       ]
      },
      {
       "output_type": "stream",
       "stream": "stderr",
       "text": [
        "[2014-06-09 17:12:56] INFO: <Mesh of topological dimension 3 (tetrahedra) with 27 vertices and 48 cells, ordered>\n"
       ]
      },
      {
       "output_type": "stream",
       "stream": "stderr",
       "text": [
        "[2014-06-09 17:12:56] INFO: Create integrator sundials with kwargs={}\n"
       ]
      },
      {
       "output_type": "stream",
       "stream": "stderr",
       "text": [
        "[2014-06-09 17:12:56] INFO: Simulation will run until t = 1e-10 s.\n"
       ]
      },
      {
       "output_type": "stream",
       "stream": "stderr",
       "text": [
        "[2014-06-09 17:13:01] INFO: Simulation has reached time t = 1e-10 s.\n"
       ]
      }
     ],
     "prompt_number": 2
    },
    {
     "cell_type": "markdown",
     "metadata": {},
     "source": [
      "The data can be loaded through Tablereader class, "
     ]
    },
    {
     "cell_type": "code",
     "collapsed": false,
     "input": [
      "%matplotlib inline\n",
      "import pylab\n",
      "from finmag.util.fileio import Tablereader\n",
      "data = Tablereader('unnamed.ndt')\n",
      "pylab.plot(data['time'],data['m_x'],'.-',label='m_x')\n",
      "pylab.plot(data['time'],data['top_m_x'],'.-',label='top m_x')\n",
      "pylab.plot(data['time'],data['bottom_m_x'],'^-',label='bottom m_x')\n",
      "pylab.legend()"
     ],
     "language": "python",
     "metadata": {},
     "outputs": [
      {
       "metadata": {},
       "output_type": "pyout",
       "prompt_number": 3,
       "text": [
        "<matplotlib.legend.Legend at 0x5ea0550>"
       ]
      },
      {
       "output_type": "stream",
       "stream": "stderr",
       "text": [
        "/usr/local/lib/python2.7/dist-packages/matplotlib/figure.py:1595: UserWarning: This figure includes Axes that are not compatible with tight_layout, so its results might be incorrect.\n",
        "  warnings.warn(\"This figure includes Axes that are not \"\n"
       ]
      },
      {
       "metadata": {},
       "output_type": "display_data",
       "png": "[encoded data removed]",
       "text": [
        "<matplotlib.figure.Figure at 0x46dcd90>"
       ]
      }
     ],
     "prompt_number": 3
    },
    {
     "cell_type": "code",
     "collapsed": false,
     "input": [],
     "language": "python",
     "metadata": {},
     "outputs": []
    }
   ],
   "metadata": {}
  }
 ]
}