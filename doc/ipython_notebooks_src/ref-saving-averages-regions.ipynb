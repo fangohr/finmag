{
 "metadata": {
  "name": "ref-saving-averages-regions"
 },
 "nbformat": 3,
 "nbformat_minor": 0,
 "worksheets": [
  {
   "cells": [
    {
     "cell_type": "heading",
     "level": 2,
     "metadata": {},
     "source": [
      "Saving average saturation magnetisation in different regions."
     ]
    },
    {
     "cell_type": "markdown",
     "metadata": {},
     "source": [
      "Suppose the studied system is a unitcube and we are interested in the average saturation magnetisation in top region (z>0.5) and bottom region (z<0.5), also suppose the initial saturation magnetisation are different, say 8.6e5 A/m in top region and 1e5 A/m in the bottom. "
     ]
    },
    {
     "cell_type": "code",
     "collapsed": false,
     "input": [
      "def top(coords):\n",
      "    if coords[2]>0.5:\n",
      "        return True\n",
      "    else:\n",
      "        return False\n",
      "\n",
      "def bottom(coords):\n",
      "    return not top(coords)\n",
      "\n",
      "def init_Ms(coords):\n",
      "    if top(coords):\n",
      "        return 8.6e5 \n",
      "    else:\n",
      "        return 1e5"
     ],
     "language": "python",
     "metadata": {},
     "outputs": [],
     "prompt_number": 1
    },
    {
     "cell_type": "markdown",
     "metadata": {},
     "source": [
      "The simululation looks like, "
     ]
    },
    {
     "cell_type": "code",
     "collapsed": false,
     "input": [
      "from finmag import Simulation as Sim\n",
      "from finmag.energies import Zeeman\n",
      "from finmag.energies import Demag\n",
      "import dolfin as df\n",
      "import numpy as np\n",
      "\n",
      "from finmag import set_logging_level\n",
      "set_logging_level(\"INFO\")\n",
      "\n",
      "mesh = df.Box(0, 0, 0, 1, 1, 1, 2, 2, 2)\n",
      "sim = Sim(mesh, init_Ms, unit_length=1e-9)\n",
      "sim.alpha = 0.1\n",
      "sim.set_m((1, 0, 0))\n",
      "\n",
      "H0 = 1e6\n",
      "sim.add(Zeeman((0, 0, H0)))\n",
      "\n",
      "demag=Demag(solver='FK')\n",
      "sim.add(demag)\n",
      "\n",
      "sim.save_m_in_region(bottom, name='bottom')\n",
      "sim.save_m_in_region(top, name='top')\n",
      "sim.schedule('save_ndt', every=1e-12)\n",
      "sim.run_until(1e-10)\n",
      "\n",
      "#ts = np.linspace(0, 1e-10, 101)\n",
      "#for t in ts:\n",
      "#    sim.run_until(t)"
     ],
     "language": "python",
     "metadata": {},
     "outputs": [
      {
       "output_type": "stream",
       "stream": "stderr",
       "text": [
        "[2013-02-05 15:22:02] INFO: Finmag logging output will be appended to file: '/home/albert/.finmag/global.log'\n"
       ]
      },
      {
       "output_type": "stream",
       "stream": "stderr",
       "text": [
        "[2013-02-05 15:22:02] DEBUG: Building modules in 'native'...\n"
       ]
      },
      {
       "output_type": "stream",
       "stream": "stderr",
       "text": [
        "[2013-02-05 15:22:04] DEBUG:               Finmag: 2887:7f7f9a2b220c1528ecdc3ea157cfe2d34b7460f3\n"
       ]
      },
      {
       "output_type": "stream",
       "stream": "stderr",
       "text": [
        "[2013-02-05 15:22:04] DEBUG:               Dolfin: 1.0.0\n"
       ]
      },
      {
       "output_type": "stream",
       "stream": "stderr",
       "text": [
        "[2013-02-05 15:22:04] DEBUG:           Matplotlib: 1.3.x\n"
       ]
      },
      {
       "output_type": "stream",
       "stream": "stderr",
       "text": [
        "[2013-02-05 15:22:04] DEBUG:                Numpy: 1.6.2\n"
       ]
      },
      {
       "output_type": "stream",
       "stream": "stderr",
       "text": [
        "[2013-02-05 15:22:04] DEBUG:                Scipy: 0.10.1\n"
       ]
      },
      {
       "output_type": "stream",
       "stream": "stderr",
       "text": [
        "[2013-02-05 15:22:04] DEBUG:              IPython: 0.14.dev\n"
       ]
      },
      {
       "output_type": "stream",
       "stream": "stderr",
       "text": [
        "[2013-02-05 15:22:04] DEBUG:               Python: 2.7.3\n"
       ]
      },
      {
       "output_type": "stream",
       "stream": "stderr",
       "text": [
        "[2013-02-05 15:22:04] DEBUG:             Paraview: 3.98~rc3-precise1\n"
       ]
      },
      {
       "output_type": "stream",
       "stream": "stderr",
       "text": [
        "[2013-02-05 15:22:04] DEBUG:             Sundials: 2.4.0-5\n"
       ]
      },
      {
       "output_type": "stream",
       "stream": "stderr",
       "text": [
        "[2013-02-05 15:22:04] DEBUG:         Boost-Python: 1.46.1\n"
       ]
      },
      {
       "output_type": "stream",
       "stream": "stderr",
       "text": [
        "[2013-02-05 15:22:04] DEBUG:                Linux: Ubuntu 12.04.2 LTS\n"
       ]
      },
      {
       "output_type": "stream",
       "stream": "stderr",
       "text": [
        "[2013-02-05 15:22:04] INFO: Finmag logging output will be written to file: '/home/albert/work/code/finmag/doc/ipython_notebooks_src/unnamed.log' (any old content will be overwritten).\n"
       ]
      },
      {
       "output_type": "stream",
       "stream": "stderr",
       "text": [
        "[2013-02-05 15:22:04] INFO: Creating Sim object 'unnamed' (rank=0/1).\n"
       ]
      },
      {
       "output_type": "stream",
       "stream": "stderr",
       "text": [
        "[2013-02-05 15:22:04] INFO: <Mesh of topological dimension 3 (tetrahedra) with 27 vertices and 48 cells, ordered>\n"
       ]
      },
      {
       "output_type": "stream",
       "stream": "stderr",
       "text": [
        "[2013-02-05 15:22:04] INFO: Simulation will run until t = 1e-10 s.\n"
       ]
      },
      {
       "output_type": "stream",
       "stream": "stderr",
       "text": [
        "[2013-02-05 15:22:09] INFO: Simulation has reached time t = 1e-10 s.\n"
       ]
      }
     ],
     "prompt_number": 2
    },
    {
     "cell_type": "markdown",
     "metadata": {},
     "source": [
      "The data can be loaded through Tablereader class, "
     ]
    },
    {
     "cell_type": "code",
     "collapsed": false,
     "input": [
      "from finmag.util.fileio import Tablereader\n",
      "data = Tablereader('unnamed.ndt')\n",
      "plot(data.time(),data['m_x'],'.-',label='m_x')\n",
      "plot(data.time(),data['top_m_x'],'.-',label='top m_x')\n",
      "plot(data.time(),data['bottom_m_x'],'^-',label='bottom m_x')\n",
      "legend()"
     ],
     "language": "python",
     "metadata": {},
     "outputs": [
      {
       "output_type": "pyout",
       "prompt_number": 3,
       "text": [
        "<matplotlib.legend.Legend at 0x4ab2290>"
       ]
      },
      {
       "output_type": "display_data",
       "png": "[encoded data removed]",
       "text": [
        "<matplotlib.figure.Figure at 0x352c990>"
       ]
      }
     ],
     "prompt_number": 3
    },
    {
     "cell_type": "code",
     "collapsed": false,
     "input": [],
     "language": "python",
     "metadata": {},
     "outputs": []
    }
   ],
   "metadata": {}
  }
 ]
}