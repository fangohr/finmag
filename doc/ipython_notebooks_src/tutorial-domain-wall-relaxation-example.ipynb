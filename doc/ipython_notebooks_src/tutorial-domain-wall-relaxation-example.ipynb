{
 "metadata": {
  "kernelspec": {
   "codemirror_mode": {
    "name": "ipython",
    "version": 2
   },
   "display_name": "IPython (Python 2)",
   "language": "python",
   "name": "python2"
  },
  "name": "",
  "signature": "sha256:013bbb67b62bd6328b19127b92b9a943bf7ca95eb608c43e738fd74c63a56a0d"
 },
 "nbformat": 3,
 "nbformat_minor": 0,
 "worksheets": [
  {
   "cells": [
    {
     "cell_type": "markdown",
     "metadata": {},
     "source": [
      "# Domain wall relaxation in a nanowire"
     ]
    },
    {
     "cell_type": "markdown",
     "metadata": {},
     "source": [
      "**Author**: Max Albert (minor changes Hans Fangohr)\n",
      "\n",
      "**date**: December 2014\n",
      "\n",
      "**purpose**: \n",
      "\n",
      "Demonstrates \n",
      "\n",
      "- creation of domain wall in nanowire, \n",
      "- relaxation and tracking of domain wall \n",
      "- setting of initial magnetisation with function\n",
      "- nice introduction to using the scheduler for abritrary events."
     ]
    },
    {
     "cell_type": "markdown",
     "metadata": {},
     "source": [
      "This is a simple example of domain wall relaxation in a nanowire. It shows how to set up a simulation with a rectangular mesh, relax it and then run it in the presence of an applied field. It also shows how to extract the domain wall position and determine the DW velocity."
     ]
    },
    {
     "cell_type": "markdown",
     "metadata": {},
     "source": [
      "## Relaxing a trial domain wall"
     ]
    },
    {
     "cell_type": "markdown",
     "metadata": {},
     "source": [
      "In order to set up and run the simulation we need the following steps:\n",
      "\n",
      "1. Create a suitable mesh (e.g. a thin film or cylindrical nanowire).\n",
      "\n",
      "2. Create a simulation object which also encapsulates the material parameters.\n",
      "\n",
      "3. Run the relaxation"
     ]
    },
    {
     "cell_type": "markdown",
     "metadata": {},
     "source": [
      "We start by importing some necessary modules. The first commmand `%matplotlib inline` tells the IPython notebook to show any plots in the notebook itself (rather than opening them in a separate window)."
     ]
    },
    {
     "cell_type": "code",
     "collapsed": false,
     "input": [
      "%matplotlib inline\n",
      "from finmag.util.meshes import box, mesh_quality\n",
      "from finmag import sim_with\n",
      "from numpy import pi\n",
      "import os\n",
      "import sys\n",
      "import dolfin as df\n",
      "import numpy as np\n",
      "import matplotlib.pyplot as plt"
     ],
     "language": "python",
     "metadata": {},
     "outputs": [
      {
       "output_type": "stream",
       "stream": "stderr",
       "text": [
        "[2014-12-22 14:17:04] INFO: Finmag logging output will be appended to file: '/home/fangohr/.finmag/global.log'\n"
       ]
      },
      {
       "output_type": "stream",
       "stream": "stderr",
       "text": [
        "[2014-12-22 14:17:04] DEBUG: Building modules in 'native'...\n"
       ]
      },
      {
       "output_type": "stream",
       "stream": "stderr",
       "text": [
        "[2014-12-22 14:17:05] DEBUG: FinMag          5675:d3e19e88b0dffa54b17c8ba9b68eeffc12a4438b\n"
       ]
      },
      {
       "output_type": "stream",
       "stream": "stderr",
       "text": [
        "[2014-12-22 14:17:05] DEBUG: Dolfin          1.4.0                Matplotlib      1.3.1               \n"
       ]
      },
      {
       "output_type": "stream",
       "stream": "stderr",
       "text": [
        "[2014-12-22 14:17:05] DEBUG: Numpy           1.8.2                Scipy           0.13.3              \n"
       ]
      },
      {
       "output_type": "stream",
       "stream": "stderr",
       "text": [
        "[2014-12-22 14:17:05] DEBUG: IPython         2.1.0                Python          2.7.6               \n"
       ]
      },
      {
       "output_type": "stream",
       "stream": "stderr",
       "text": [
        "[2014-12-22 14:17:05] DEBUG: Paraview        4.0.1-1ubuntu1       Sundials        2.5.0               \n"
       ]
      },
      {
       "output_type": "stream",
       "stream": "stderr",
       "text": [
        "[2014-12-22 14:17:05] DEBUG: Boost-Python    <unknown>            Linux           Ubuntu 14.04.1 LTS  \n"
       ]
      },
      {
       "output_type": "stream",
       "stream": "stderr",
       "text": [
        "[2014-12-22 14:17:05] DEBUG: Registering debug signal handler. Press Ctrl-Z at any time to stop execution and jump into the debugger.\n"
       ]
      }
     ],
     "prompt_number": 1
    },
    {
     "cell_type": "markdown",
     "metadata": {},
     "source": [
      "We start by creating a mesh of dimensions `500 nm x 20 nm x 3 nm`. Finmag comes with some predefined mesh creation routines (e.g. `box`, `cylinder`) which we will use here. If you are unsure which arguments they require you can type e.g. \"`box?`\" in a cell, which will open a help window with the options for the `box` function.\n",
      "\n",
      "Internally, the command uses `Netgen` to generate the mesh. The argument `maxh` gives an indication of the maximum edge length of the mesh (note that unfortunately `Netgen` only treats this as a rough indication; unfortunately it is not guaranteed that all edges will indeed be smaller than this length).\n",
      "\n",
      "The argument \"`directory='meshes'`\" tells the command to save the mesh in a subdirectory called \"`meshes`\". We could also directly give it a filename, but this way it's easier to deal with multiple meshes (e.g. if we want to experiment with nanowires of different length or thickness)."
     ]
    },
    {
     "cell_type": "code",
     "collapsed": false,
     "input": [
      "xmin, xmax = -250, +250\n",
      "ymin, ymax = 0, 20\n",
      "zmin, zmax = 0, 3\n",
      "\n",
      "mesh = box(xmin, ymin, zmin, xmax, ymax, zmax, maxh=3.0, directory='meshes')"
     ],
     "language": "python",
     "metadata": {},
     "outputs": [
      {
       "output_type": "stream",
       "stream": "stderr",
       "text": [
        "[2014-12-22 14:17:07] DEBUG: Using netgen to convert /home/fangohr/hg/finmag/doc/ipython_notebooks_src/meshes/box--250_0-0_0-0_0-250_0-20_0-3_0-3_0.geo to DIFFPACK format.\n"
       ]
      },
      {
       "output_type": "stream",
       "stream": "stderr",
       "text": [
        "[2014-12-22 14:17:09] WARNING: Warning: Ignoring netgen's output status of 34304.\n"
       ]
      },
      {
       "output_type": "stream",
       "stream": "stderr",
       "text": [
        "[2014-12-22 14:17:09] DEBUG: Done!\n"
       ]
      },
      {
       "output_type": "stream",
       "stream": "stderr",
       "text": [
        "[2014-12-22 14:17:09] DEBUG: Using dolfin-convert to convert /home/fangohr/hg/finmag/doc/ipython_notebooks_src/meshes/box--250_0-0_0-0_0-250_0-20_0-3_0-3_0.grid to xml format.\n"
       ]
      },
      {
       "output_type": "stream",
       "stream": "stderr",
       "text": [
        "[2014-12-22 14:17:10] DEBUG: Compressing /home/fangohr/hg/finmag/doc/ipython_notebooks_src/meshes/box--250_0-0_0-0_0-250_0-20_0-3_0-3_0.xml\n"
       ]
      }
     ],
     "prompt_number": 2
    },
    {
     "cell_type": "markdown",
     "metadata": {},
     "source": [
      "An easy way to get a rough overview of the mesh quality is to use the helper function `mesh_quality` which comes with Finmag. It prints a histogram of edge lengths of the mesh. This makes it easy to get an idea whether they are below the exchange length of the material. In our case most edges are on the order of 0.8 nm long, which is more than sufficient."
     ]
    },
    {
     "cell_type": "code",
     "collapsed": false,
     "input": [
      "print mesh_quality(mesh)"
     ],
     "language": "python",
     "metadata": {},
     "outputs": [
      {
       "output_type": "stream",
       "stream": "stdout",
       "text": [
        "======== Mesh quality info: ========\n",
        "0.283 \n",
        "0.318 \n",
        "0.354 \n",
        "0.389 \n",
        "0.424 \n",
        "0.460 \n",
        "0.495 \n",
        "0.530 \n",
        "0.566 \n",
        "0.601 **\n",
        "0.636 **\n",
        "0.672 **\n",
        "0.707 *******\n",
        "0.742 ****************************\n",
        "0.778 ***************************\n",
        "0.813 *********************************\n",
        "0.848 **********************************************************************\n",
        "0.884 *******************************************************\n",
        "0.919 *****************************************\n",
        "0.954 *************************\n",
        "0.990 **\n",
        "\n"
       ]
      }
     ],
     "prompt_number": 3
    },
    {
     "cell_type": "markdown",
     "metadata": {},
     "source": [
      "Next we define a few material parameters which we will use in the simulation. We use values typical of Permalloy. Note that we use a large damping constant `alpha=1.0` in order to speed up the relaxation. For the actual dynamics simulation below we need to set this value to a more realistic value (e.g. `alpha=0.01`)."
     ]
    },
    {
     "cell_type": "code",
     "collapsed": false,
     "input": [
      "A = 13e-12   # exchange coupling constant (J/m)\n",
      "Ms = 8e5     # saturation\n",
      "alpha = 1.0  # use large damping for relaxation\n",
      "unit_length = 1e-9  # mesh units are in nanometres"
     ],
     "language": "python",
     "metadata": {},
     "outputs": [],
     "prompt_number": 4
    },
    {
     "cell_type": "markdown",
     "metadata": {},
     "source": [
      "Next we need to define the initial magnetisation profile. We use an `arctan` function to initalise a trial head-to-head domain wall. Let's plot the profile first in order to get a feeling for whether it makes sense. For illustration purposes we use a small offset so that the DW is centred at x=50 and also change the width a little bit."
     ]
    },
    {
     "cell_type": "code",
     "collapsed": false,
     "input": [
      "xs = np.linspace(xmin, xmax, 100)\n",
      "plt.plot(xs, -2./pi * np.arctan((xs - 50.0) / 6.0), label='m_x')\n",
      "plt.xlabel(\"x-position (nm)\")\n",
      "plt.title(\"Trial DW profile\")\n",
      "plt.legend()"
     ],
     "language": "python",
     "metadata": {},
     "outputs": [
      {
       "metadata": {},
       "output_type": "pyout",
       "prompt_number": 5,
       "text": [
        "<matplotlib.legend.Legend at 0x7fce955c0690>"
       ]
      },
      {
       "metadata": {},
       "output_type": "display_data",
       "png": "[encoded data removed]",
       "text": [
        "<matplotlib.figure.Figure at 0x7fce3c1b6850>"
       ]
      }
     ],
     "prompt_number": 5
    },
    {
     "cell_type": "markdown",
     "metadata": {},
     "source": [
      "This looks reasonable so we'll use it for the simulation. In order to initialise the magnetisation `m` we define a function `m_init` which describes this trial domain wall profile and which we will pass to the simulation below. This function should accept the coordinates of a point in the domain and return the magnetisation at this location. Internally, the simulation will apply this function to all mesh vertices and initialise the magnetisation accordingly."
     ]
    },
    {
     "cell_type": "code",
     "collapsed": false,
     "input": [
      "def m_init(pt):\n",
      "    x, y, z = pt\n",
      "    m_x = -2./pi * np.arctan((x - 50.0) / 6.0)\n",
      "    m_y = np.sqrt(1 - m_x*m_x)\n",
      "    m_z = 0.0\n",
      "    return [m_x, m_y, m_z]"
     ],
     "language": "python",
     "metadata": {},
     "outputs": [],
     "prompt_number": 6
    },
    {
     "cell_type": "markdown",
     "metadata": {},
     "source": [
      "Now we are ready to actually create the simulation object. We simply pass it the mesh, the function `m_init` which defines the initial magnetisation profile as well as the material parameters. (Since we don't use uniaxial anisotropy in this example, we don't set `K1` and `K1_axis`)."
     ]
    },
    {
     "cell_type": "code",
     "collapsed": false,
     "input": [
      "sim = sim_with(mesh, m_init=m_init, Ms=Ms, A=A, K1=None, K1_axis=None, alpha=alpha, unit_length=1e-9)"
     ],
     "language": "python",
     "metadata": {},
     "outputs": [
      {
       "output_type": "stream",
       "stream": "stderr",
       "text": [
        "[2014-12-22 14:17:21] INFO: Finmag logging output will be written to file: '/home/fangohr/hg/finmag/doc/ipython_notebooks_src/unnamed.log' (any old content will be overwritten).\n"
       ]
      },
      {
       "output_type": "stream",
       "stream": "stderr",
       "text": [
        "[2014-12-22 14:17:21] DEBUG: Creating DataWriter for file 'unnamed.ndt'\n"
       ]
      },
      {
       "output_type": "stream",
       "stream": "stderr",
       "text": [
        "[2014-12-22 14:17:21] INFO: Creating Sim object 'unnamed' (rank=0/1).\n"
       ]
      },
      {
       "output_type": "stream",
       "stream": "stderr",
       "text": [
        "[2014-12-22 14:17:21] INFO: <Mesh of topological dimension 3 (tetrahedra) with 2716 vertices and 7154 cells, ordered>\n"
       ]
      },
      {
       "output_type": "stream",
       "stream": "stderr",
       "text": [
        "[2014-12-22 14:17:21] DEBUG: Creating LLG object.\n"
       ]
      },
      {
       "output_type": "stream",
       "stream": "stderr",
       "text": [
        "[2014-12-22 14:17:22] DEBUG: Creating Exchange object with method box-matrix-petsc,  in Jacobian.\n"
       ]
      },
      {
       "output_type": "stream",
       "stream": "stderr",
       "text": [
        "[2014-12-22 14:17:22] DEBUG: Adding interaction Exchange to simulation.\n"
       ]
      },
      {
       "output_type": "stream",
       "stream": "stderr",
       "text": [
        "[2014-12-22 14:17:22] DEBUG: Creating Demag object with solver 'FK'.\n"
       ]
      },
      {
       "output_type": "stream",
       "stream": "stderr",
       "text": [
        "[2014-12-22 14:17:22] DEBUG: Demag parameters now: {'phi_1': {'absolute_tolerance': 1e-06, 'relative_tolerance': 1e-06, 'maximum_iterations': 10000}, 'phi_2': {'absolute_tolerance': 1e-06, 'relative_tolerance': 1e-06, 'maximum_iterations': 10000}, 'phi_2_solver': 'default', 'phi_2_preconditioner': 'default', 'phi_1_preconditioner': 'default', 'phi_1_solver': 'default'}\n"
       ]
      },
      {
       "output_type": "stream",
       "stream": "stderr",
       "text": [
        "[2014-12-22 14:17:22] DEBUG: Adding interaction Demag to simulation.\n"
       ]
      },
      {
       "output_type": "stream",
       "stream": "stderr",
       "text": [
        "[2014-12-22 14:17:22] DEBUG: Using Krylov solver for demag.\n"
       ]
      },
      {
       "output_type": "stream",
       "stream": "stderr",
       "text": [
        "[2014-12-22 14:17:22] DEBUG: Creating macro-geometry with demag 1 x 1 tiles (dxdy: 500.0 x 20.0)\n"
       ]
      },
      {
       "output_type": "stream",
       "stream": "stderr",
       "text": [
        "[2014-12-22 14:17:23] DEBUG: Boundary element matrix uses 55.58 MB of memory.\n"
       ]
      },
      {
       "output_type": "stream",
       "stream": "stderr",
       "text": [
        "[2014-12-22 14:17:23] DEBUG: Successfully created simulation 'unnamed'\n"
       ]
      }
     ],
     "prompt_number": 7
    },
    {
     "cell_type": "markdown",
     "metadata": {},
     "source": [
      "A convenient way of visualising the magnetisation is to call the helper function `sim.render_scene()`. This uses Paraview to create a snapshot of the magnetisation. In the example below we adapt a few parameters to \"zoom in\" near the domain wall. Note that unfortunately there are rare cases in which this does not work (either the resulting image is black or there is an error). In this case it is always possible to save the magnetisation to an external file using `sim.save_vtk` and open it manually in Paraview."
     ]
    },
    {
     "cell_type": "code",
     "collapsed": false,
     "input": [
      "sim.render_scene(camera_position=[0, -200, 200], glyph_scale_factor=2.0, fit_view_to_scene=False)"
     ],
     "language": "python",
     "metadata": {},
     "outputs": [
      {
       "output_type": "stream",
       "stream": "stderr",
       "text": [
        "[2014-12-22 14:18:23] INFO: Creating integrator with backend sundials and arguments {'reltol': 1e-06, 'abstol': 1e-06}.\n"
       ]
      },
      {
       "output_type": "stream",
       "stream": "stderr",
       "text": [
        "[2014-12-22 14:18:23] DEBUG: Updating get method for steps in TableWriter(name=unnamed.ndt)\n"
       ]
      },
      {
       "output_type": "stream",
       "stream": "stderr",
       "text": [
        "[2014-12-22 14:18:23] DEBUG: Updating get method for last_step_dt in TableWriter(name=unnamed.ndt)\n"
       ]
      },
      {
       "output_type": "stream",
       "stream": "stderr",
       "text": [
        "[2014-12-22 14:18:23] DEBUG: Updating get method for dmdt in TableWriter(name=unnamed.ndt)\n"
       ]
      },
      {
       "output_type": "stream",
       "stream": "stderr",
       "text": [
        "[2014-12-22 14:18:23] DEBUG: Saved field at t=0.0 to file '/tmp/tmpljynvt/paraview_scene_unnamed.pvd' (snapshot #0; saving took 0.0256 seconds).\n"
       ]
      },
      {
       "output_type": "stream",
       "stream": "stderr",
       "text": [
        "[2014-12-22 14:18:24] DEBUG: Found unused display :3\n"
       ]
      },
      {
       "output_type": "stream",
       "stream": "stderr",
       "text": [
        "[2014-12-22 14:18:24] DEBUG: Rendering Paraview scene on display :3 using xpra.\n"
       ]
      },
      {
       "metadata": {},
       "output_type": "pyout",
       "png": "[encoded data removed]",
       "prompt_number": 8,
       "text": [
        "<IPython.core.display.Image at 0x7fce37e37c10>"
       ]
      }
     ],
     "prompt_number": 8
    },
    {
     "cell_type": "markdown",
     "metadata": {},
     "source": [
      "Next we need to relax the magnetisation. This is achieved by calling `sim.relax()`.\n",
      "\n",
      "It is convenient to save the relaxed state to a file and reload it when needed (for example, if we want to simulate DW motions starting from the same relaxed state but with applied fields of varying strengths). Therefore we first check whether a file with the relaxed state already exists. If this is not the case, we relax the simulation and save the result. Otherwise we simply reload the relaxed state from that file.\n",
      "\n",
      "Note that if some of the simulation parameters (e.g. the mesh size or material parameters) are changed then you will need to manually delete the file \"`relaxed_state.npz`\" and re-run the relaxation)."
     ]
    },
    {
     "cell_type": "code",
     "collapsed": false,
     "input": [
      "relaxed_filename = 'relaxed_state.npz'\n",
      "\n",
      "if not os.path.exists(relaxed_filename):\n",
      "    #sim.schedule('save_vtk', every=1e-10, filename='snapshots_m_relax/m.pvd', overwrite=True)\n",
      "    sim.relax()\n",
      "    sim.save_restart_data(relaxed_filename)\n",
      "else:\n",
      "    sim.restart(relaxed_filename)"
     ],
     "language": "python",
     "metadata": {},
     "outputs": [
      {
       "output_type": "stream",
       "stream": "stderr",
       "text": [
        "[2014-12-22 14:18:30] INFO: Simulation will run until relaxation of the magnetisation.\n"
       ]
      },
      {
       "output_type": "stream",
       "stream": "stderr",
       "text": [
        "[2014-12-22 14:18:30] DEBUG: Relaxation parameters: stopping_dmdt=1.0 (degrees per nanosecond), dt_limit=1e-10, dmdt_increased_counter_limit=10\n"
       ]
      },
      {
       "output_type": "stream",
       "stream": "stderr",
       "text": [
        "[2014-12-22 14:18:31] DEBUG: At t=2e-14, last_dmdt=2.21e+03 * stopping_dmdt, next dt=1e-14.\n"
       ]
      },
      {
       "output_type": "stream",
       "stream": "stderr",
       "text": [
        "[2014-12-22 14:18:32] DEBUG: At t=3e-14, last_dmdt=2.21e+03 * stopping_dmdt, next dt=1e-14.\n"
       ]
      },
      {
       "output_type": "stream",
       "stream": "stderr",
       "text": [
        "[2014-12-22 14:18:32] DEBUG: At t=4.5e-14, last_dmdt=2.2e+03 * stopping_dmdt, next dt=1.5e-14.\n"
       ]
      },
      {
       "output_type": "stream",
       "stream": "stderr",
       "text": [
        "[2014-12-22 14:18:32] DEBUG: At t=6.75e-14, last_dmdt=2.18e+03 * stopping_dmdt, next dt=2.25e-14.\n"
       ]
      },
      {
       "output_type": "stream",
       "stream": "stderr",
       "text": [
        "[2014-12-22 14:18:33] DEBUG: At t=1.01e-13, last_dmdt=2.17e+03 * stopping_dmdt, next dt=3.37e-14.\n"
       ]
      },
      {
       "output_type": "stream",
       "stream": "stderr",
       "text": [
        "[2014-12-22 14:18:33] DEBUG: At t=1.52e-13, last_dmdt=2.14e+03 * stopping_dmdt, next dt=5.06e-14.\n"
       ]
      },
      {
       "output_type": "stream",
       "stream": "stderr",
       "text": [
        "[2014-12-22 14:18:33] DEBUG: At t=2.28e-13, last_dmdt=2.1e+03 * stopping_dmdt, next dt=7.59e-14.\n"
       ]
      },
      {
       "output_type": "stream",
       "stream": "stderr",
       "text": [
        "[2014-12-22 14:18:34] DEBUG: At t=3.42e-13, last_dmdt=2.05e+03 * stopping_dmdt, next dt=1.14e-13.\n"
       ]
      },
      {
       "output_type": "stream",
       "stream": "stderr",
       "text": [
        "[2014-12-22 14:18:35] DEBUG: At t=5.13e-13, last_dmdt=1.97e+03 * stopping_dmdt, next dt=1.71e-13.\n"
       ]
      },
      {
       "output_type": "stream",
       "stream": "stderr",
       "text": [
        "[2014-12-22 14:18:36] DEBUG: At t=7.69e-13, last_dmdt=1.85e+03 * stopping_dmdt, next dt=2.56e-13.\n"
       ]
      },
      {
       "output_type": "stream",
       "stream": "stderr",
       "text": [
        "[2014-12-22 14:18:36] DEBUG: At t=1.15e-12, last_dmdt=1.73e+03 * stopping_dmdt, next dt=3.84e-13.\n"
       ]
      },
      {
       "output_type": "stream",
       "stream": "stderr",
       "text": [
        "[2014-12-22 14:18:38] DEBUG: At t=1.73e-12, last_dmdt=1.58e+03 * stopping_dmdt, next dt=5.77e-13.\n"
       ]
      },
      {
       "output_type": "stream",
       "stream": "stderr",
       "text": [
        "[2014-12-22 14:18:39] DEBUG: At t=2.59e-12, last_dmdt=1.38e+03 * stopping_dmdt, next dt=8.65e-13.\n"
       ]
      },
      {
       "output_type": "stream",
       "stream": "stderr",
       "text": [
        "[2014-12-22 14:18:41] DEBUG: At t=3.89e-12, last_dmdt=1.19e+03 * stopping_dmdt, next dt=1.3e-12.\n"
       ]
      },
      {
       "output_type": "stream",
       "stream": "stderr",
       "text": [
        "[2014-12-22 14:18:42] DEBUG: At t=5.84e-12, last_dmdt=993 * stopping_dmdt, next dt=1.95e-12.\n"
       ]
      },
      {
       "output_type": "stream",
       "stream": "stderr",
       "text": [
        "[2014-12-22 14:18:44] DEBUG: At t=8.76e-12, last_dmdt=783 * stopping_dmdt, next dt=2.92e-12.\n"
       ]
      },
      {
       "output_type": "stream",
       "stream": "stderr",
       "text": [
        "[2014-12-22 14:18:45] DEBUG: At t=1.31e-11, last_dmdt=569 * stopping_dmdt, next dt=4.38e-12.\n"
       ]
      },
      {
       "output_type": "stream",
       "stream": "stderr",
       "text": [
        "[2014-12-22 14:18:47] DEBUG: At t=1.97e-11, last_dmdt=357 * stopping_dmdt, next dt=6.57e-12.\n"
       ]
      },
      {
       "output_type": "stream",
       "stream": "stderr",
       "text": [
        "[2014-12-22 14:18:52] DEBUG: At t=2.96e-11, last_dmdt=307 * stopping_dmdt, next dt=9.85e-12.\n"
       ]
      },
      {
       "output_type": "stream",
       "stream": "stderr",
       "text": [
        "[2014-12-22 14:18:58] DEBUG: At t=4.43e-11, last_dmdt=250 * stopping_dmdt, next dt=1.48e-11.\n"
       ]
      },
      {
       "output_type": "stream",
       "stream": "stderr",
       "text": [
        "[2014-12-22 14:19:07] DEBUG: At t=6.65e-11, last_dmdt=160 * stopping_dmdt, next dt=2.22e-11.\n"
       ]
      },
      {
       "output_type": "stream",
       "stream": "stderr",
       "text": [
        "[2014-12-22 14:19:27] DEBUG: At t=9.98e-11, last_dmdt=82.6 * stopping_dmdt, next dt=3.33e-11.\n"
       ]
      },
      {
       "output_type": "stream",
       "stream": "stderr",
       "text": [
        "[2014-12-22 14:19:52] DEBUG: At t=1.5e-10, last_dmdt=42.8 * stopping_dmdt, next dt=4.99e-11.\n"
       ]
      },
      {
       "output_type": "stream",
       "stream": "stderr",
       "text": [
        "[2014-12-22 14:20:07] DEBUG: At t=2.24e-10, last_dmdt=13.6 * stopping_dmdt, next dt=7.48e-11.\n"
       ]
      },
      {
       "output_type": "stream",
       "stream": "stderr",
       "text": [
        "[2014-12-22 14:20:25] DEBUG: At t=3.24e-10, last_dmdt=2.47 * stopping_dmdt, next dt=1e-10.\n"
       ]
      },
      {
       "output_type": "stream",
       "stream": "stderr",
       "text": [
        "[2014-12-22 14:20:46] DEBUG: Stopping integration at t=4.24e-10, with dmdt=1.44e+07, smaller than threshold=1.75e+07.\n"
       ]
      },
      {
       "output_type": "stream",
       "stream": "stderr",
       "text": [
        "[2014-12-22 14:20:46] DEBUG: Re-initialising CVODE integrator.\n"
       ]
      },
      {
       "output_type": "stream",
       "stream": "stderr",
       "text": [
        "[2014-12-22 14:20:46] DEBUG: Re-initialising CVODE integrator.\n"
       ]
      },
      {
       "output_type": "stream",
       "stream": "stderr",
       "text": [
        "[2014-12-22 14:20:46] INFO: Relaxation finished at time t = 4.2e-10.\n"
       ]
      },
      {
       "output_type": "stream",
       "stream": "stderr",
       "text": [
        "[2014-12-22 14:20:46] DEBUG: Have saved restart data at t=4.24455e-10 to relaxed_state.npz (sim.name=unnamed)\n"
       ]
      }
     ],
     "prompt_number": 9
    },
    {
     "cell_type": "markdown",
     "metadata": {},
     "source": [
      "Let's visualise the relaxed state, too, to see that indeed it is slightly different from the trial DW profile which we used for initialisation."
     ]
    },
    {
     "cell_type": "code",
     "collapsed": false,
     "input": [
      "sim.render_scene(camera_position=[0, -200, 200], glyph_scale_factor=2.0, fit_view_to_scene=False)"
     ],
     "language": "python",
     "metadata": {},
     "outputs": [
      {
       "output_type": "stream",
       "stream": "stderr",
       "text": [
        "[2014-12-22 14:21:08] DEBUG: Saved field at t=4.2445482928e-10 to file '/tmp/tmpvrWl6q/paraview_scene_unnamed.pvd' (snapshot #0; saving took 0.0252 seconds).\n"
       ]
      },
      {
       "output_type": "stream",
       "stream": "stderr",
       "text": [
        "[2014-12-22 14:21:09] DEBUG: Found unused display :3\n"
       ]
      },
      {
       "output_type": "stream",
       "stream": "stderr",
       "text": [
        "[2014-12-22 14:21:09] DEBUG: Rendering Paraview scene on display :3 using xpra.\n"
       ]
      },
      {
       "metadata": {},
       "output_type": "pyout",
       "png": "[encoded data removed]",
       "prompt_number": 10,
       "text": [
        "<IPython.core.display.Image at 0x7fce75fc2650>"
       ]
      }
     ],
     "prompt_number": 10
    },
    {
     "cell_type": "markdown",
     "metadata": {},
     "source": [
      "In order to get a better feeling for the DW profile we can plot the magnetisation components along a line parallel to the x-axis which passes through the centre of the nanowire. We use the function `sim.probe_field_along_line` to probe `m` along such a line and then plot the components `m_x`, `m_y`, `m_z`."
     ]
    },
    {
     "cell_type": "code",
     "collapsed": false,
     "input": [
      "y0 = 0.5 * (ymin + ymax)\n",
      "z0 = 0.5 * (zmin + zmax)\n",
      "\n",
      "m_probed = sim.probe_field_along_line('m', [xmin, y0, z0], [xmax, y0, z0], N=1000)"
     ],
     "language": "python",
     "metadata": {},
     "outputs": [],
     "prompt_number": 11
    },
    {
     "cell_type": "code",
     "collapsed": false,
     "input": [
      "xs = np.linspace(-250, 250, 1000)\n",
      "plt.plot(xs, m_probed[:, 0], label='m_x')\n",
      "plt.plot(xs, m_probed[:, 1], label='m_y')\n",
      "plt.plot(xs, m_probed[:, 2], label='m_z')\n",
      "plt.title(\"Magnetisation components of relaxed state\")\n",
      "plt.legend()"
     ],
     "language": "python",
     "metadata": {},
     "outputs": [
      {
       "metadata": {},
       "output_type": "pyout",
       "prompt_number": 12,
       "text": [
        "<matplotlib.legend.Legend at 0x7fce7cf9b850>"
       ]
      },
      {
       "metadata": {},
       "output_type": "display_data",
       "png": "[encoded data removed]",
       "text": [
        "<matplotlib.figure.Figure at 0x7fce3876fd10>"
       ]
      }
     ],
     "prompt_number": 12
    },
    {
     "cell_type": "markdown",
     "metadata": {},
     "source": [
      "In fact, we can use this same method to extract the domain wall position by checking where `m_x` passes through zero. The following defines a function `domain_wall_centre` which extracts the domain wall position from a simulation object."
     ]
    },
    {
     "cell_type": "code",
     "collapsed": false,
     "input": [
      "class DomainWallError(Exception):\n",
      "    # It is useful to have a special exception to indicate that\n",
      "    # something went wrong when computing the domain wall.\n",
      "    pass\n",
      "\n",
      "\n",
      "def domain_wall_centre(sim, N=1000):\n",
      "    coords = sim.mesh.coordinates()\n",
      "    xmin = coords[:, 0].min()\n",
      "    xmax = coords[:, 0].max()\n",
      "    ymin = coords[:, 1].min()\n",
      "    ymax = coords[:, 1].max()\n",
      "    zmin = coords[:, 2].min()\n",
      "    zmax = coords[:, 2].max()\n",
      "    y0 = 0.5 * (ymin + ymax)\n",
      "    z0 = 0.5 * (zmin + zmax)\n",
      "    \n",
      "    m_probed = sim.probe_field_along_line('m', [xmin, y0, z0], [xmax, y0, z0], N=N)\n",
      "    xs = np.linspace(xmin, xmax, N)\n",
      "    m_x = m_probed[:, 0]\n",
      "    zero_crossings = np.where(np.diff(np.sign(m_x)))[0]\n",
      "    if len(zero_crossings) >= 2:\n",
      "        raise DomainWallError(\"Cannot determine domain wall position (found more than one zero crossing of m_x).\")\n",
      "    elif len(zero_crossings) == 0:\n",
      "        raise DomainWallError(\"No domain wall found.\")\n",
      "\n",
      "    idx = zero_crossings[0]  # index just before the zero crossing\n",
      "\n",
      "    # Return the midpoint of the interval where the zero crossing occurs.\n",
      "    # This is not 100% exact but we can always increase N to increase\n",
      "    # the accuracy if desired.\n",
      "    return 0.5 * (xs[idx] + xs[idx + 1])"
     ],
     "language": "python",
     "metadata": {},
     "outputs": [],
     "prompt_number": 13
    },
    {
     "cell_type": "markdown",
     "metadata": {},
     "source": [
      "When we apply this function to the relaxed simulation we see that indeed the DW is close to the position where we initialised it (x=50 nm)."
     ]
    },
    {
     "cell_type": "code",
     "collapsed": false,
     "input": [
      "domain_wall_centre(sim)"
     ],
     "language": "python",
     "metadata": {},
     "outputs": [
      {
       "metadata": {},
       "output_type": "pyout",
       "prompt_number": 14,
       "text": [
        "50.050050050050061"
       ]
      }
     ],
     "prompt_number": 14
    },
    {
     "cell_type": "markdown",
     "metadata": {},
     "source": [
      "## DW motion with applied field"
     ]
    },
    {
     "cell_type": "markdown",
     "metadata": {},
     "source": [
      "Next we run some dynamics with an applied field which pushes the domain wall along the nanowire. In order to do this we first reload the relaxed state again. We already did this above, but it is nice to have the relaxation and dynamic part clearly separated. We also reset the simulation time to 0. This is not strictly necessary but makes the analysis below slightly nicer.\n",
      "\n",
      "Then we set the damping constant to a smaller value (note that here we use the non-realistic value `alpha=0.5` just to make it run faster; in a real simulation you should use a much smaller value such as 0.01). Finally, we set the strength of the external field."
     ]
    },
    {
     "cell_type": "code",
     "collapsed": false,
     "input": [
      "sim.restart(relaxed_filename)\n",
      "sim.reset_time(0.0)\n",
      "sim.alpha = 0.5  # set to a smaller value for real simulations!\n",
      "sim.set_H_ext([2e4, 0, 0])"
     ],
     "language": "python",
     "metadata": {},
     "outputs": [
      {
       "output_type": "stream",
       "stream": "stderr",
       "text": [
        "[2014-12-22 14:21:36] DEBUG: Loading restart data from relaxed_state.npz. \n"
       ]
      },
      {
       "output_type": "stream",
       "stream": "stderr",
       "text": [
        "[2014-12-22 14:21:36] INFO: Creating integrator with backend sundials and arguments {'t0': 4.244548292803764e-10}.\n"
       ]
      },
      {
       "output_type": "stream",
       "stream": "stderr",
       "text": [
        "[2014-12-22 14:21:36] INFO: Reloaded and set m (<m>=[  2.00394439e-01   1.00780631e-01   1.24397412e-06]) and time=4.2445482928e-10 from relaxed_state.npz.\n"
       ]
      },
      {
       "output_type": "stream",
       "stream": "stderr",
       "text": [
        "[2014-12-22 14:21:36] INFO: Creating integrator with backend sundials and arguments {'t0': 0.0}.\n"
       ]
      },
      {
       "output_type": "stream",
       "stream": "stderr",
       "text": [
        "[2014-12-22 14:21:36] DEBUG: Adding interaction Zeeman to simulation.\n"
       ]
      }
     ],
     "prompt_number": 15
    },
    {
     "cell_type": "markdown",
     "metadata": {},
     "source": [
      "Finmag has a convenient way of performing actions at regular intervals during a simulation. This is achieved using the so-called \"scheduler\" of a simulation object. It comes with some predefined actions (e.g. \"save_m\") but it can also accept an arbitrary Python function.\n",
      "\n",
      "We make use of this by defining a function that prints the current domain wall position as well as a function that stores the current simulation time and DW position. Each of these functions should accept a simulation object as its only argument. They cannot return anything, which is why we store the DW positions in a global variable called \"`dw_positions`\"."
     ]
    },
    {
     "cell_type": "code",
     "collapsed": false,
     "input": [
      "def print_domain_wall_centre(sim):\n",
      "    print \"Domain wall centre at t={}: {}\".format(sim.t, domain_wall_centre(sim))\n",
      "    sys.stdout.flush()"
     ],
     "language": "python",
     "metadata": {},
     "outputs": [],
     "prompt_number": 16
    },
    {
     "cell_type": "code",
     "collapsed": false,
     "input": [
      "dw_positions = []\n",
      "\n",
      "def record_dw_position(sim):\n",
      "    \"\"\"\n",
      "    Save the current simulation time and domain wall\n",
      "    position in the global list 'dw_positions'.\n",
      "    \"\"\"\n",
      "    global dw_positions  # tell Python that we want to change the global variable\n",
      "                        # (otherwise it would think it is a local variable)\n",
      "    data = (sim.t, domain_wall_centre(sim))\n",
      "    dw_positions.append(data)"
     ],
     "language": "python",
     "metadata": {},
     "outputs": [],
     "prompt_number": 17
    },
    {
     "cell_type": "markdown",
     "metadata": {},
     "source": [
      "Now that we have defined these functions we can add them to the scheduler by telling it how often to call them (here: every 10e-12 seconds, i.e. every 10 picoseconds of simulation time). We also schedule saving of the magnetisation every 0.1 ns (however, this is only for illustration; we won't use the saved data below)."
     ]
    },
    {
     "cell_type": "code",
     "collapsed": false,
     "input": [
      "sim.clear_schedule()\n",
      "sim.schedule(print_domain_wall_centre, every=10e-12)\n",
      "sim.schedule(record_dw_position, every=10e-12)\n",
      "sim.schedule('save_m', every=1e-10, filename='snapshots_m_dynamic/m.npy', overwrite=True)"
     ],
     "language": "python",
     "metadata": {},
     "outputs": [
      {
       "output_type": "stream",
       "stream": "stderr",
       "text": [
        "[2014-12-22 14:21:40] DEBUG: Removing scheduled items:\n"
       ]
      },
      {
       "metadata": {},
       "output_type": "pyout",
       "prompt_number": 18,
       "text": [
        "<finmag.scheduler.derivedevents.RepeatingTimeEvent at 0x7fce7cca0ed0>"
       ]
      }
     ],
     "prompt_number": 18
    },
    {
     "cell_type": "markdown",
     "metadata": {},
     "source": [
      "Now run the simulation for 1 nanosecond (this may take a few minutes to complete). Note how, as the simulation runs, it saves the magnetisation at regular intervals and also prints the current DW position."
     ]
    },
    {
     "cell_type": "code",
     "collapsed": false,
     "input": [
      "sim.run_until(1e-9)"
     ],
     "language": "python",
     "metadata": {},
     "outputs": [
      {
       "output_type": "stream",
       "stream": "stderr",
       "text": [
        "[2014-12-22 14:21:43] INFO: Simulation will run until t = 1e-09 s.\n"
       ]
      },
      {
       "output_type": "stream",
       "stream": "stdout",
       "text": [
        "Domain wall centre at t=0.0: 50.0500500501\n"
       ]
      },
      {
       "output_type": "stream",
       "stream": "stderr",
       "text": [
        "[2014-12-22 14:21:43] DEBUG: Saving field data to file 'snapshots_m_dynamic/m_000000.npy'.\n"
       ]
      },
      {
       "output_type": "stream",
       "stream": "stdout",
       "text": [
        "Domain wall centre at t=1e-11: 50.5505505506\n"
       ]
      },
      {
       "output_type": "stream",
       "stream": "stdout",
       "text": [
        "Domain wall centre at t=2e-11: 51.5515515516\n"
       ]
      },
      {
       "output_type": "stream",
       "stream": "stdout",
       "text": [
        "Domain wall centre at t=3e-11: 52.5525525526\n"
       ]
      },
      {
       "output_type": "stream",
       "stream": "stdout",
       "text": [
        "Domain wall centre at t=4e-11: 54.0540540541\n"
       ]
      },
      {
       "output_type": "stream",
       "stream": "stdout",
       "text": [
        "Domain wall centre at t=5e-11: 55.0550550551\n"
       ]
      },
      {
       "output_type": "stream",
       "stream": "stdout",
       "text": [
        "Domain wall centre at t=6e-11: 56.5565565566\n"
       ]
      },
      {
       "output_type": "stream",
       "stream": "stdout",
       "text": [
        "Domain wall centre at t=7e-11: 58.0580580581\n"
       ]
      },
      {
       "output_type": "stream",
       "stream": "stdout",
       "text": [
        "Domain wall centre at t=8e-11: 59.5595595596\n"
       ]
      },
      {
       "output_type": "stream",
       "stream": "stdout",
       "text": [
        "Domain wall centre at t=9e-11: 61.0610610611\n"
       ]
      },
      {
       "output_type": "stream",
       "stream": "stdout",
       "text": [
        "Domain wall centre at t=1e-10: 62.5625625626\n"
       ]
      },
      {
       "output_type": "stream",
       "stream": "stderr",
       "text": [
        "[2014-12-22 14:22:56] DEBUG: Saving field data to file 'snapshots_m_dynamic/m_000001.npy'.\n"
       ]
      },
      {
       "output_type": "stream",
       "stream": "stdout",
       "text": [
        "Domain wall centre at t=1.1e-10: 64.0640640641\n"
       ]
      },
      {
       "output_type": "stream",
       "stream": "stdout",
       "text": [
        "Domain wall centre at t=1.2e-10: 65.0650650651\n"
       ]
      },
      {
       "output_type": "stream",
       "stream": "stdout",
       "text": [
        "Domain wall centre at t=1.3e-10: 66.5665665666\n"
       ]
      },
      {
       "output_type": "stream",
       "stream": "stdout",
       "text": [
        "Domain wall centre at t=1.4e-10: 68.0680680681\n"
       ]
      },
      {
       "output_type": "stream",
       "stream": "stdout",
       "text": [
        "Domain wall centre at t=1.5e-10: 69.5695695696\n"
       ]
      },
      {
       "output_type": "stream",
       "stream": "stdout",
       "text": [
        "Domain wall centre at t=1.6e-10: 71.0710710711\n"
       ]
      },
      {
       "output_type": "stream",
       "stream": "stdout",
       "text": [
        "Domain wall centre at t=1.7e-10: 72.5725725726\n"
       ]
      },
      {
       "output_type": "stream",
       "stream": "stdout",
       "text": [
        "Domain wall centre at t=1.8e-10: 74.0740740741\n"
       ]
      },
      {
       "output_type": "stream",
       "stream": "stdout",
       "text": [
        "Domain wall centre at t=1.9e-10: 75.5755755756\n"
       ]
      },
      {
       "output_type": "stream",
       "stream": "stdout",
       "text": [
        "Domain wall centre at t=2e-10: 77.0770770771\n"
       ]
      },
      {
       "output_type": "stream",
       "stream": "stderr",
       "text": [
        "[2014-12-22 14:24:09] DEBUG: Saving field data to file 'snapshots_m_dynamic/m_000002.npy'.\n"
       ]
      },
      {
       "output_type": "stream",
       "stream": "stdout",
       "text": [
        "Domain wall centre at t=2.1e-10: 78.5785785786\n"
       ]
      },
      {
       "output_type": "stream",
       "stream": "stdout",
       "text": [
        "Domain wall centre at t=2.2e-10: 80.0800800801\n"
       ]
      },
      {
       "output_type": "stream",
       "stream": "stdout",
       "text": [
        "Domain wall centre at t=2.3e-10: 81.5815815816\n"
       ]
      },
      {
       "output_type": "stream",
       "stream": "stdout",
       "text": [
        "Domain wall centre at t=2.4e-10: 83.0830830831\n"
       ]
      },
      {
       "output_type": "stream",
       "stream": "stdout",
       "text": [
        "Domain wall centre at t=2.5e-10: 84.0840840841\n"
       ]
      },
      {
       "output_type": "stream",
       "stream": "stdout",
       "text": [
        "Domain wall centre at t=2.6e-10: 85.5855855856\n"
       ]
      },
      {
       "output_type": "stream",
       "stream": "stdout",
       "text": [
        "Domain wall centre at t=2.7e-10: 87.0870870871\n"
       ]
      },
      {
       "output_type": "stream",
       "stream": "stdout",
       "text": [
        "Domain wall centre at t=2.8e-10: 88.5885885886\n"
       ]
      },
      {
       "output_type": "stream",
       "stream": "stdout",
       "text": [
        "Domain wall centre at t=2.9e-10: 90.0900900901\n"
       ]
      },
      {
       "output_type": "stream",
       "stream": "stdout",
       "text": [
        "Domain wall centre at t=3e-10: 91.5915915916\n"
       ]
      },
      {
       "output_type": "stream",
       "stream": "stderr",
       "text": [
        "[2014-12-22 14:25:24] DEBUG: Saving field data to file 'snapshots_m_dynamic/m_000003.npy'.\n"
       ]
      },
      {
       "output_type": "stream",
       "stream": "stdout",
       "text": [
        "Domain wall centre at t=3.1e-10: 93.0930930931\n"
       ]
      },
      {
       "output_type": "stream",
       "stream": "stdout",
       "text": [
        "Domain wall centre at t=3.2e-10: 94.5945945946\n"
       ]
      },
      {
       "output_type": "stream",
       "stream": "stdout",
       "text": [
        "Domain wall centre at t=3.3e-10: 96.0960960961\n"
       ]
      },
      {
       "output_type": "stream",
       "stream": "stdout",
       "text": [
        "Domain wall centre at t=3.4e-10: 97.5975975976\n"
       ]
      },
      {
       "output_type": "stream",
       "stream": "stdout",
       "text": [
        "Domain wall centre at t=3.5e-10: 99.0990990991\n"
       ]
      },
      {
       "output_type": "stream",
       "stream": "stdout",
       "text": [
        "Domain wall centre at t=3.6e-10: 100.600600601\n"
       ]
      },
      {
       "output_type": "stream",
       "stream": "stdout",
       "text": [
        "Domain wall centre at t=3.7e-10: 102.102102102\n"
       ]
      },
      {
       "output_type": "stream",
       "stream": "stdout",
       "text": [
        "Domain wall centre at t=3.8e-10: 103.103103103\n"
       ]
      },
      {
       "output_type": "stream",
       "stream": "stdout",
       "text": [
        "Domain wall centre at t=3.9e-10: 104.604604605\n"
       ]
      },
      {
       "output_type": "stream",
       "stream": "stdout",
       "text": [
        "Domain wall centre at t=4e-10: 106.106106106\n"
       ]
      },
      {
       "output_type": "stream",
       "stream": "stderr",
       "text": [
        "[2014-12-22 14:26:32] DEBUG: Saving field data to file 'snapshots_m_dynamic/m_000004.npy'.\n"
       ]
      },
      {
       "output_type": "stream",
       "stream": "stdout",
       "text": [
        "Domain wall centre at t=4.1e-10: 107.607607608\n"
       ]
      },
      {
       "output_type": "stream",
       "stream": "stdout",
       "text": [
        "Domain wall centre at t=4.2e-10: 109.109109109\n"
       ]
      },
      {
       "output_type": "stream",
       "stream": "stdout",
       "text": [
        "Domain wall centre at t=4.3e-10: 110.610610611\n"
       ]
      },
      {
       "output_type": "stream",
       "stream": "stdout",
       "text": [
        "Domain wall centre at t=4.4e-10: 112.112112112\n"
       ]
      },
      {
       "output_type": "stream",
       "stream": "stdout",
       "text": [
        "Domain wall centre at t=4.5e-10: 113.613613614\n"
       ]
      },
      {
       "output_type": "stream",
       "stream": "stdout",
       "text": [
        "Domain wall centre at t=4.6e-10: 115.115115115\n"
       ]
      },
      {
       "output_type": "stream",
       "stream": "stdout",
       "text": [
        "Domain wall centre at t=4.7e-10: 116.616616617\n"
       ]
      },
      {
       "output_type": "stream",
       "stream": "stdout",
       "text": [
        "Domain wall centre at t=4.8e-10: 118.118118118\n"
       ]
      },
      {
       "output_type": "stream",
       "stream": "stdout",
       "text": [
        "Domain wall centre at t=4.9e-10: 119.61961962\n"
       ]
      },
      {
       "output_type": "stream",
       "stream": "stdout",
       "text": [
        "Domain wall centre at t=5e-10: 121.121121121\n"
       ]
      },
      {
       "output_type": "stream",
       "stream": "stderr",
       "text": [
        "[2014-12-22 14:27:41] DEBUG: Saving field data to file 'snapshots_m_dynamic/m_000005.npy'.\n"
       ]
      },
      {
       "output_type": "stream",
       "stream": "stdout",
       "text": [
        "Domain wall centre at t=5.1e-10: 122.622622623\n"
       ]
      },
      {
       "output_type": "stream",
       "stream": "stdout",
       "text": [
        "Domain wall centre at t=5.2e-10: 124.124124124\n"
       ]
      },
      {
       "output_type": "stream",
       "stream": "stdout",
       "text": [
        "Domain wall centre at t=5.3e-10: 125.125125125\n"
       ]
      },
      {
       "output_type": "stream",
       "stream": "stdout",
       "text": [
        "Domain wall centre at t=5.4e-10: 126.626626627\n"
       ]
      },
      {
       "output_type": "stream",
       "stream": "stdout",
       "text": [
        "Domain wall centre at t=5.5e-10: 128.128128128\n"
       ]
      },
      {
       "output_type": "stream",
       "stream": "stdout",
       "text": [
        "Domain wall centre at t=5.6e-10: 129.62962963\n"
       ]
      },
      {
       "output_type": "stream",
       "stream": "stdout",
       "text": [
        "Domain wall centre at t=5.7e-10: 131.131131131\n"
       ]
      },
      {
       "output_type": "stream",
       "stream": "stdout",
       "text": [
        "Domain wall centre at t=5.8e-10: 132.632632633\n"
       ]
      },
      {
       "output_type": "stream",
       "stream": "stdout",
       "text": [
        "Domain wall centre at t=5.9e-10: 134.134134134\n"
       ]
      },
      {
       "output_type": "stream",
       "stream": "stdout",
       "text": [
        "Domain wall centre at t=6e-10: 135.635635636\n"
       ]
      },
      {
       "output_type": "stream",
       "stream": "stderr",
       "text": [
        "[2014-12-22 14:28:48] DEBUG: Saving field data to file 'snapshots_m_dynamic/m_000006.npy'.\n"
       ]
      },
      {
       "output_type": "stream",
       "stream": "stdout",
       "text": [
        "Domain wall centre at t=6.1e-10: 137.137137137\n"
       ]
      },
      {
       "output_type": "stream",
       "stream": "stdout",
       "text": [
        "Domain wall centre at t=6.2e-10: 138.638638639\n"
       ]
      },
      {
       "output_type": "stream",
       "stream": "stdout",
       "text": [
        "Domain wall centre at t=6.3e-10: 140.14014014\n"
       ]
      },
      {
       "output_type": "stream",
       "stream": "stdout",
       "text": [
        "Domain wall centre at t=6.4e-10: 141.641641642\n"
       ]
      },
      {
       "output_type": "stream",
       "stream": "stdout",
       "text": [
        "Domain wall centre at t=6.5e-10: 143.143143143\n"
       ]
      },
      {
       "output_type": "stream",
       "stream": "stdout",
       "text": [
        "Domain wall centre at t=6.6e-10: 144.644644645\n"
       ]
      },
      {
       "output_type": "stream",
       "stream": "stdout",
       "text": [
        "Domain wall centre at t=6.7e-10: 146.146146146\n"
       ]
      },
      {
       "output_type": "stream",
       "stream": "stdout",
       "text": [
        "Domain wall centre at t=6.8e-10: 147.647647648\n"
       ]
      },
      {
       "output_type": "stream",
       "stream": "stdout",
       "text": [
        "Domain wall centre at t=6.9e-10: 149.149149149\n"
       ]
      },
      {
       "output_type": "stream",
       "stream": "stdout",
       "text": [
        "Domain wall centre at t=7e-10: 150.650650651\n"
       ]
      },
      {
       "output_type": "stream",
       "stream": "stderr",
       "text": [
        "[2014-12-22 14:30:01] DEBUG: Saving field data to file 'snapshots_m_dynamic/m_000007.npy'.\n"
       ]
      },
      {
       "output_type": "stream",
       "stream": "stdout",
       "text": [
        "Domain wall centre at t=7.1e-10: 152.152152152\n"
       ]
      },
      {
       "output_type": "stream",
       "stream": "stdout",
       "text": [
        "Domain wall centre at t=7.2e-10: 153.653653654\n"
       ]
      },
      {
       "output_type": "stream",
       "stream": "stdout",
       "text": [
        "Domain wall centre at t=7.3e-10: 154.654654655\n"
       ]
      },
      {
       "output_type": "stream",
       "stream": "stdout",
       "text": [
        "Domain wall centre at t=7.4e-10: 156.156156156\n"
       ]
      },
      {
       "output_type": "stream",
       "stream": "stdout",
       "text": [
        "Domain wall centre at t=7.5e-10: 157.657657658\n"
       ]
      },
      {
       "output_type": "stream",
       "stream": "stdout",
       "text": [
        "Domain wall centre at t=7.6e-10: 159.159159159\n"
       ]
      },
      {
       "output_type": "stream",
       "stream": "stdout",
       "text": [
        "Domain wall centre at t=7.7e-10: 160.660660661\n"
       ]
      },
      {
       "output_type": "stream",
       "stream": "stdout",
       "text": [
        "Domain wall centre at t=7.8e-10: 162.162162162\n"
       ]
      },
      {
       "output_type": "stream",
       "stream": "stdout",
       "text": [
        "Domain wall centre at t=7.9e-10: 163.663663664\n"
       ]
      },
      {
       "output_type": "stream",
       "stream": "stdout",
       "text": [
        "Domain wall centre at t=8e-10: 165.165165165\n"
       ]
      },
      {
       "output_type": "stream",
       "stream": "stderr",
       "text": [
        "[2014-12-22 14:31:16] DEBUG: Saving field data to file 'snapshots_m_dynamic/m_000008.npy'.\n"
       ]
      },
      {
       "output_type": "stream",
       "stream": "stdout",
       "text": [
        "Domain wall centre at t=8.1e-10: 166.666666667\n"
       ]
      },
      {
       "output_type": "stream",
       "stream": "stdout",
       "text": [
        "Domain wall centre at t=8.2e-10: 168.168168168\n"
       ]
      },
      {
       "output_type": "stream",
       "stream": "stdout",
       "text": [
        "Domain wall centre at t=8.3e-10: 169.66966967\n"
       ]
      },
      {
       "output_type": "stream",
       "stream": "stdout",
       "text": [
        "Domain wall centre at t=8.4e-10: 171.171171171\n"
       ]
      },
      {
       "output_type": "stream",
       "stream": "stdout",
       "text": [
        "Domain wall centre at t=8.5e-10: 172.672672673\n"
       ]
      },
      {
       "output_type": "stream",
       "stream": "stdout",
       "text": [
        "Domain wall centre at t=8.6e-10: 174.174174174\n"
       ]
      },
      {
       "output_type": "stream",
       "stream": "stdout",
       "text": [
        "Domain wall centre at t=8.7e-10: 175.675675676\n"
       ]
      },
      {
       "output_type": "stream",
       "stream": "stdout",
       "text": [
        "Domain wall centre at t=8.8e-10: 177.177177177\n"
       ]
      },
      {
       "output_type": "stream",
       "stream": "stdout",
       "text": [
        "Domain wall centre at t=8.9e-10: 178.678678679\n"
       ]
      },
      {
       "output_type": "stream",
       "stream": "stdout",
       "text": [
        "Domain wall centre at t=9e-10: 180.18018018\n"
       ]
      },
      {
       "output_type": "stream",
       "stream": "stderr",
       "text": [
        "[2014-12-22 14:32:22] DEBUG: Saving field data to file 'snapshots_m_dynamic/m_000009.npy'.\n"
       ]
      },
      {
       "output_type": "stream",
       "stream": "stdout",
       "text": [
        "Domain wall centre at t=9.1e-10: 181.681681682\n"
       ]
      },
      {
       "output_type": "stream",
       "stream": "stdout",
       "text": [
        "Domain wall centre at t=9.2e-10: 183.683683684\n"
       ]
      },
      {
       "output_type": "stream",
       "stream": "stdout",
       "text": [
        "Domain wall centre at t=9.3e-10: 185.185185185\n"
       ]
      },
      {
       "output_type": "stream",
       "stream": "stdout",
       "text": [
        "Domain wall centre at t=9.4e-10: 186.686686687\n"
       ]
      },
      {
       "output_type": "stream",
       "stream": "stdout",
       "text": [
        "Domain wall centre at t=9.5e-10: 188.188188188\n"
       ]
      },
      {
       "output_type": "stream",
       "stream": "stdout",
       "text": [
        "Domain wall centre at t=9.6e-10: 189.68968969\n"
       ]
      },
      {
       "output_type": "stream",
       "stream": "stdout",
       "text": [
        "Domain wall centre at t=9.7e-10: 191.191191191\n"
       ]
      },
      {
       "output_type": "stream",
       "stream": "stdout",
       "text": [
        "Domain wall centre at t=9.8e-10: 192.692692693\n"
       ]
      },
      {
       "output_type": "stream",
       "stream": "stdout",
       "text": [
        "Domain wall centre at t=9.9e-10: 194.194194194\n"
       ]
      },
      {
       "output_type": "stream",
       "stream": "stdout",
       "text": [
        "Domain wall centre at t=1e-09: 196.196196196\n"
       ]
      },
      {
       "output_type": "stream",
       "stream": "stderr",
       "text": [
        "[2014-12-22 14:33:32] DEBUG: Saving field data to file 'snapshots_m_dynamic/m_000010.npy'.\n"
       ]
      },
      {
       "output_type": "stream",
       "stream": "stderr",
       "text": [
        "[2014-12-22 14:33:32] INFO: Simulation has reached time t = 1e-09 s.\n"
       ]
      }
     ],
     "prompt_number": 19
    },
    {
     "cell_type": "markdown",
     "metadata": {},
     "source": [
      "Once it is finished we can convince us that the list of domain wall positions was indeed populated as intended (we only print the first 10 list elements to avoid a huge amount of output):"
     ]
    },
    {
     "cell_type": "code",
     "collapsed": false,
     "input": [
      "print dw_positions[:10]"
     ],
     "language": "python",
     "metadata": {},
     "outputs": [
      {
       "output_type": "stream",
       "stream": "stdout",
       "text": [
        "[(0.0, 50.050050050050061), (1e-11, 50.550550550550554), (2e-11, 51.551551551551597), (3e-11, 52.552552552552584), (4e-11, 54.054054054054063), (4.9999999999999995e-11, 55.055055055055107), (6e-11, 56.556556556556586), (7e-11, 58.058058058058066), (8.000000000000001e-11, 59.559559559559602), (9.000000000000001e-11, 61.061061061061082)]\n"
       ]
      }
     ],
     "prompt_number": 20
    },
    {
     "cell_type": "markdown",
     "metadata": {},
     "source": [
      "## Plotting the DW position over time and computing the average DW velocity"
     ]
    },
    {
     "cell_type": "markdown",
     "metadata": {},
     "source": [
      "In order to visualise the domain wall dynamics we extract the simulation times and DW positions from `dw_positions` and plot it."
     ]
    },
    {
     "cell_type": "code",
     "collapsed": false,
     "input": [
      "ts, dw_pos = np.array(dw_positions).T"
     ],
     "language": "python",
     "metadata": {},
     "outputs": [],
     "prompt_number": 21
    },
    {
     "cell_type": "code",
     "collapsed": false,
     "input": [
      "plt.plot(ts, dw_pos)\n",
      "plt.title(\"DW position over time\")\n",
      "plt.xlabel(\"Time (s)\")\n",
      "plt.ylabel(\"DW x-position (nm)\")"
     ],
     "language": "python",
     "metadata": {},
     "outputs": [
      {
       "metadata": {},
       "output_type": "pyout",
       "prompt_number": 22,
       "text": [
        "<matplotlib.text.Text at 0x7fce74914c50>"
       ]
      },
      {
       "metadata": {},
       "output_type": "display_data",
       "png": "[encoded data removed]",
       "text": [
        "<matplotlib.figure.Figure at 0x7fce3c0c66d0>"
       ]
      }
     ],
     "prompt_number": 22
    },
    {
     "cell_type": "markdown",
     "metadata": {},
     "source": [
      "The average domain wall velocity can easily be computed from the first and last position:"
     ]
    },
    {
     "cell_type": "code",
     "collapsed": false,
     "input": [
      "avg_velocity = (dw_pos[-1] - dw_pos[0]) / (ts[-1] - ts[0]) * 1e-9"
     ],
     "language": "python",
     "metadata": {},
     "outputs": [],
     "prompt_number": 23
    },
    {
     "cell_type": "code",
     "collapsed": false,
     "input": [
      "print(\"Average domain wall velocity (m/s): {}\".format(avg_velocity))"
     ],
     "language": "python",
     "metadata": {},
     "outputs": [
      {
       "output_type": "stream",
       "stream": "stdout",
       "text": [
        "Average domain wall velocity (m/s): 146.146146146\n"
       ]
      }
     ],
     "prompt_number": 24
    }
   ],
   "metadata": {}
  }
 ]
}