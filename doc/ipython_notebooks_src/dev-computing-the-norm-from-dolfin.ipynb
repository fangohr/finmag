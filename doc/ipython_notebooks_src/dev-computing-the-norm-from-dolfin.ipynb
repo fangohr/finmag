{
 "metadata": {
  "name": "",
  "signature": "sha256:3ac9a8b6ab9be7c91c1fbfa3084418749f5f807b92a9f6ac9e59b6c608325b53"
 },
 "nbformat": 3,
 "nbformat_minor": 0,
 "worksheets": [
  {
   "cells": [
    {
     "cell_type": "markdown",
     "metadata": {},
     "source": [
      "# Compute norm from function space"
     ]
    },
    {
     "cell_type": "code",
     "collapsed": false,
     "input": [
      "from dolfin import *  \n",
      "import dolfin as df\n",
      "import numpy as np\n",
      "\n",
      "import logging\n",
      "df.set_log_level(logging.INFO)\n",
      "df.set_log_level(WARNING)\n",
      "\n",
      "mesh = RectangleMesh(0, 0, 1, 1, 10, 10)  \n",
      "#mesh = Mesh(Rectangle(-10, -10, 10, 10) - Circle(0, 0, 0.1), 10)                \n",
      "V = FunctionSpace(mesh, \"CG\", 1)                                                 \n",
      "W = VectorFunctionSpace(mesh, \"CG\", 1)  \n",
      "w = interpolate(Expression([\"2\", \"1\"]), W)"
     ],
     "language": "python",
     "metadata": {},
     "outputs": [
      {
       "output_type": "stream",
       "stream": "stderr",
       "text": [
        "DEBUG:UFL:No integrals left after transformation, returning empty form.\n"
       ]
      },
      {
       "output_type": "stream",
       "stream": "stderr",
       "text": [
        "DEBUG:FFC:Reusing form from cache.\n"
       ]
      },
      {
       "output_type": "stream",
       "stream": "stderr",
       "text": [
        "DEBUG:UFL:No integrals left after transformation, returning empty form.\n"
       ]
      },
      {
       "output_type": "stream",
       "stream": "stderr",
       "text": [
        "DEBUG:FFC:Reusing form from cache.\n"
       ]
      }
     ],
     "prompt_number": 10
    },
    {
     "cell_type": "code",
     "collapsed": false,
     "input": [
      "%%timeit\n",
      "norm_squared = 0\n",
      "for i in range(2):\n",
      "    norm_squared += w[i] ** 2\n",
      "norm = norm_squared ** 0.5\n",
      "\n",
      "norm = df.project(norm, V)\n",
      "#norm = df.interpolate(norm, V)\n"
     ],
     "language": "python",
     "metadata": {},
     "outputs": [
      {
       "output_type": "stream",
       "stream": "stderr",
       "text": [
        "DEBUG:UFL:No integrals left after transformation, returning empty form.\n"
       ]
      },
      {
       "output_type": "stream",
       "stream": "stderr",
       "text": [
        "DEBUG:UFL:No integrals left after transformation, returning empty form.\n"
       ]
      },
      {
       "output_type": "stream",
       "stream": "stderr",
       "text": [
        "DEBUG:FFC:Reusing form from cache.\n"
       ]
      },
      {
       "output_type": "stream",
       "stream": "stderr",
       "text": [
        "DEBUG:UFL:No integrals left after transformation, returning empty form.\n"
       ]
      },
      {
       "output_type": "stream",
       "stream": "stderr",
       "text": [
        "DEBUG:FFC:Reusing form from cache.\n"
       ]
      },
      {
       "output_type": "stream",
       "stream": "stderr",
       "text": [
        "DEBUG:UFL:No integrals left after transformation, returning empty form.\n"
       ]
      },
      {
       "output_type": "stream",
       "stream": "stderr",
       "text": [
        "DEBUG:UFL:No integrals left after transformation, returning empty form.\n"
       ]
      },
      {
       "output_type": "stream",
       "stream": "stderr",
       "text": [
        "DEBUG:FFC:Reusing form from cache.\n"
       ]
      },
      {
       "output_type": "stream",
       "stream": "stderr",
       "text": [
        "DEBUG:UFL:No integrals left after transformation, returning empty form.\n"
       ]
      },
      {
       "output_type": "stream",
       "stream": "stderr",
       "text": [
        "DEBUG:FFC:Reusing form from cache.\n"
       ]
      },
      {
       "output_type": "stream",
       "stream": "stderr",
       "text": [
        "DEBUG:UFL:No integrals left after transformation, returning empty form.\n"
       ]
      },
      {
       "output_type": "stream",
       "stream": "stderr",
       "text": [
        "DEBUG:UFL:No integrals left after transformation, returning empty form.\n"
       ]
      },
      {
       "output_type": "stream",
       "stream": "stderr",
       "text": [
        "DEBUG:FFC:Reusing form from cache.\n"
       ]
      },
      {
       "output_type": "stream",
       "stream": "stderr",
       "text": [
        "DEBUG:UFL:No integrals left after transformation, returning empty form.\n"
       ]
      },
      {
       "output_type": "stream",
       "stream": "stderr",
       "text": [
        "DEBUG:FFC:Reusing form from cache.\n"
       ]
      },
      {
       "output_type": "stream",
       "stream": "stderr",
       "text": [
        "DEBUG:UFL:No integrals left after transformation, returning empty form.\n"
       ]
      },
      {
       "output_type": "stream",
       "stream": "stderr",
       "text": [
        "DEBUG:UFL:No integrals left after transformation, returning empty form.\n"
       ]
      },
      {
       "output_type": "stream",
       "stream": "stderr",
       "text": [
        "DEBUG:FFC:Reusing form from cache.\n"
       ]
      },
      {
       "output_type": "stream",
       "stream": "stderr",
       "text": [
        "DEBUG:UFL:No integrals left after transformation, returning empty form.\n"
       ]
      },
      {
       "output_type": "stream",
       "stream": "stderr",
       "text": [
        "DEBUG:FFC:Reusing form from cache.\n"
       ]
      },
      {
       "output_type": "stream",
       "stream": "stderr",
       "text": [
        "DEBUG:UFL:No integrals left after transformation, returning empty form.\n"
       ]
      },
      {
       "output_type": "stream",
       "stream": "stderr",
       "text": [
        "DEBUG:UFL:No integrals left after transformation, returning empty form.\n"
       ]
      },
      {
       "output_type": "stream",
       "stream": "stderr",
       "text": [
        "DEBUG:FFC:Reusing form from cache.\n"
       ]
      },
      {
       "output_type": "stream",
       "stream": "stderr",
       "text": [
        "DEBUG:UFL:No integrals left after transformation, returning empty form.\n"
       ]
      },
      {
       "output_type": "stream",
       "stream": "stderr",
       "text": [
        "DEBUG:FFC:Reusing form from cache.\n"
       ]
      },
      {
       "output_type": "stream",
       "stream": "stderr",
       "text": [
        "DEBUG:UFL:No integrals left after transformation, returning empty form.\n"
       ]
      },
      {
       "output_type": "stream",
       "stream": "stderr",
       "text": [
        "DEBUG:UFL:No integrals left after transformation, returning empty form.\n"
       ]
      },
      {
       "output_type": "stream",
       "stream": "stderr",
       "text": [
        "DEBUG:FFC:Reusing form from cache.\n"
       ]
      },
      {
       "output_type": "stream",
       "stream": "stderr",
       "text": [
        "DEBUG:UFL:No integrals left after transformation, returning empty form.\n"
       ]
      },
      {
       "output_type": "stream",
       "stream": "stderr",
       "text": [
        "DEBUG:FFC:Reusing form from cache.\n"
       ]
      },
      {
       "output_type": "stream",
       "stream": "stderr",
       "text": [
        "DEBUG:UFL:No integrals left after transformation, returning empty form.\n"
       ]
      },
      {
       "output_type": "stream",
       "stream": "stderr",
       "text": [
        "DEBUG:UFL:No integrals left after transformation, returning empty form.\n"
       ]
      },
      {
       "output_type": "stream",
       "stream": "stderr",
       "text": [
        "DEBUG:FFC:Reusing form from cache.\n"
       ]
      },
      {
       "output_type": "stream",
       "stream": "stderr",
       "text": [
        "DEBUG:UFL:No integrals left after transformation, returning empty form.\n"
       ]
      },
      {
       "output_type": "stream",
       "stream": "stderr",
       "text": [
        "DEBUG:FFC:Reusing form from cache.\n"
       ]
      },
      {
       "output_type": "stream",
       "stream": "stderr",
       "text": [
        "DEBUG:UFL:No integrals left after transformation, returning empty form.\n"
       ]
      },
      {
       "output_type": "stream",
       "stream": "stderr",
       "text": [
        "DEBUG:UFL:No integrals left after transformation, returning empty form.\n"
       ]
      },
      {
       "output_type": "stream",
       "stream": "stderr",
       "text": [
        "DEBUG:FFC:Reusing form from cache.\n"
       ]
      },
      {
       "output_type": "stream",
       "stream": "stderr",
       "text": [
        "DEBUG:UFL:No integrals left after transformation, returning empty form.\n"
       ]
      },
      {
       "output_type": "stream",
       "stream": "stderr",
       "text": [
        "DEBUG:FFC:Reusing form from cache.\n"
       ]
      },
      {
       "output_type": "stream",
       "stream": "stderr",
       "text": [
        "DEBUG:UFL:No integrals left after transformation, returning empty form.\n"
       ]
      },
      {
       "output_type": "stream",
       "stream": "stderr",
       "text": [
        "DEBUG:UFL:No integrals left after transformation, returning empty form.\n"
       ]
      },
      {
       "output_type": "stream",
       "stream": "stderr",
       "text": [
        "DEBUG:FFC:Reusing form from cache.\n"
       ]
      },
      {
       "output_type": "stream",
       "stream": "stderr",
       "text": [
        "DEBUG:UFL:No integrals left after transformation, returning empty form.\n"
       ]
      },
      {
       "output_type": "stream",
       "stream": "stderr",
       "text": [
        "DEBUG:FFC:Reusing form from cache.\n"
       ]
      },
      {
       "output_type": "stream",
       "stream": "stderr",
       "text": [
        "DEBUG:UFL:No integrals left after transformation, returning empty form.\n"
       ]
      },
      {
       "output_type": "stream",
       "stream": "stderr",
       "text": [
        "DEBUG:UFL:No integrals left after transformation, returning empty form.\n"
       ]
      },
      {
       "output_type": "stream",
       "stream": "stderr",
       "text": [
        "DEBUG:FFC:Reusing form from cache.\n"
       ]
      },
      {
       "output_type": "stream",
       "stream": "stderr",
       "text": [
        "DEBUG:UFL:No integrals left after transformation, returning empty form.\n"
       ]
      },
      {
       "output_type": "stream",
       "stream": "stderr",
       "text": [
        "DEBUG:FFC:Reusing form from cache.\n"
       ]
      },
      {
       "output_type": "stream",
       "stream": "stderr",
       "text": [
        "DEBUG:UFL:No integrals left after transformation, returning empty form.\n"
       ]
      },
      {
       "output_type": "stream",
       "stream": "stderr",
       "text": [
        "DEBUG:UFL:No integrals left after transformation, returning empty form.\n"
       ]
      },
      {
       "output_type": "stream",
       "stream": "stderr",
       "text": [
        "DEBUG:FFC:Reusing form from cache.\n"
       ]
      },
      {
       "output_type": "stream",
       "stream": "stderr",
       "text": [
        "DEBUG:UFL:No integrals left after transformation, returning empty form.\n"
       ]
      },
      {
       "output_type": "stream",
       "stream": "stderr",
       "text": [
        "DEBUG:FFC:Reusing form from cache.\n"
       ]
      },
      {
       "output_type": "stream",
       "stream": "stderr",
       "text": [
        "DEBUG:UFL:No integrals left after transformation, returning empty form.\n"
       ]
      },
      {
       "output_type": "stream",
       "stream": "stderr",
       "text": [
        "DEBUG:UFL:No integrals left after transformation, returning empty form.\n"
       ]
      },
      {
       "output_type": "stream",
       "stream": "stderr",
       "text": [
        "DEBUG:FFC:Reusing form from cache.\n"
       ]
      },
      {
       "output_type": "stream",
       "stream": "stderr",
       "text": [
        "DEBUG:UFL:No integrals left after transformation, returning empty form.\n"
       ]
      },
      {
       "output_type": "stream",
       "stream": "stderr",
       "text": [
        "DEBUG:FFC:Reusing form from cache.\n"
       ]
      },
      {
       "output_type": "stream",
       "stream": "stderr",
       "text": [
        "DEBUG:UFL:No integrals left after transformation, returning empty form.\n"
       ]
      },
      {
       "output_type": "stream",
       "stream": "stderr",
       "text": [
        "DEBUG:UFL:No integrals left after transformation, returning empty form.\n"
       ]
      },
      {
       "output_type": "stream",
       "stream": "stderr",
       "text": [
        "DEBUG:FFC:Reusing form from cache.\n"
       ]
      },
      {
       "output_type": "stream",
       "stream": "stderr",
       "text": [
        "DEBUG:UFL:No integrals left after transformation, returning empty form.\n"
       ]
      },
      {
       "output_type": "stream",
       "stream": "stderr",
       "text": [
        "DEBUG:FFC:Reusing form from cache.\n"
       ]
      },
      {
       "output_type": "stream",
       "stream": "stderr",
       "text": [
        "DEBUG:UFL:No integrals left after transformation, returning empty form.\n"
       ]
      },
      {
       "output_type": "stream",
       "stream": "stderr",
       "text": [
        "DEBUG:UFL:No integrals left after transformation, returning empty form.\n"
       ]
      },
      {
       "output_type": "stream",
       "stream": "stderr",
       "text": [
        "DEBUG:FFC:Reusing form from cache.\n"
       ]
      },
      {
       "output_type": "stream",
       "stream": "stderr",
       "text": [
        "DEBUG:UFL:No integrals left after transformation, returning empty form.\n"
       ]
      },
      {
       "output_type": "stream",
       "stream": "stderr",
       "text": [
        "DEBUG:FFC:Reusing form from cache.\n"
       ]
      },
      {
       "output_type": "stream",
       "stream": "stderr",
       "text": [
        "DEBUG:UFL:No integrals left after transformation, returning empty form.\n"
       ]
      },
      {
       "output_type": "stream",
       "stream": "stderr",
       "text": [
        "DEBUG:UFL:No integrals left after transformation, returning empty form.\n"
       ]
      },
      {
       "output_type": "stream",
       "stream": "stderr",
       "text": [
        "DEBUG:FFC:Reusing form from cache.\n"
       ]
      },
      {
       "output_type": "stream",
       "stream": "stderr",
       "text": [
        "DEBUG:UFL:No integrals left after transformation, returning empty form.\n"
       ]
      },
      {
       "output_type": "stream",
       "stream": "stderr",
       "text": [
        "DEBUG:FFC:Reusing form from cache.\n"
       ]
      },
      {
       "output_type": "stream",
       "stream": "stderr",
       "text": [
        "DEBUG:UFL:No integrals left after transformation, returning empty form.\n"
       ]
      },
      {
       "output_type": "stream",
       "stream": "stderr",
       "text": [
        "DEBUG:UFL:No integrals left after transformation, returning empty form.\n"
       ]
      },
      {
       "output_type": "stream",
       "stream": "stderr",
       "text": [
        "DEBUG:FFC:Reusing form from cache.\n"
       ]
      },
      {
       "output_type": "stream",
       "stream": "stderr",
       "text": [
        "DEBUG:UFL:No integrals left after transformation, returning empty form.\n"
       ]
      },
      {
       "output_type": "stream",
       "stream": "stderr",
       "text": [
        "DEBUG:FFC:Reusing form from cache.\n"
       ]
      },
      {
       "output_type": "stream",
       "stream": "stderr",
       "text": [
        "DEBUG:UFL:No integrals left after transformation, returning empty form.\n"
       ]
      },
      {
       "output_type": "stream",
       "stream": "stderr",
       "text": [
        "DEBUG:UFL:No integrals left after transformation, returning empty form.\n"
       ]
      },
      {
       "output_type": "stream",
       "stream": "stderr",
       "text": [
        "DEBUG:FFC:Reusing form from cache.\n"
       ]
      },
      {
       "output_type": "stream",
       "stream": "stderr",
       "text": [
        "DEBUG:UFL:No integrals left after transformation, returning empty form.\n"
       ]
      },
      {
       "output_type": "stream",
       "stream": "stderr",
       "text": [
        "DEBUG:FFC:Reusing form from cache.\n"
       ]
      },
      {
       "output_type": "stream",
       "stream": "stderr",
       "text": [
        "DEBUG:UFL:No integrals left after transformation, returning empty form.\n"
       ]
      },
      {
       "output_type": "stream",
       "stream": "stderr",
       "text": [
        "DEBUG:UFL:No integrals left after transformation, returning empty form.\n"
       ]
      },
      {
       "output_type": "stream",
       "stream": "stderr",
       "text": [
        "DEBUG:FFC:Reusing form from cache.\n"
       ]
      },
      {
       "output_type": "stream",
       "stream": "stderr",
       "text": [
        "DEBUG:UFL:No integrals left after transformation, returning empty form.\n"
       ]
      },
      {
       "output_type": "stream",
       "stream": "stderr",
       "text": [
        "DEBUG:FFC:Reusing form from cache.\n"
       ]
      },
      {
       "output_type": "stream",
       "stream": "stderr",
       "text": [
        "DEBUG:UFL:No integrals left after transformation, returning empty form.\n"
       ]
      },
      {
       "output_type": "stream",
       "stream": "stderr",
       "text": [
        "DEBUG:UFL:No integrals left after transformation, returning empty form.\n"
       ]
      },
      {
       "output_type": "stream",
       "stream": "stderr",
       "text": [
        "DEBUG:FFC:Reusing form from cache.\n"
       ]
      },
      {
       "output_type": "stream",
       "stream": "stderr",
       "text": [
        "DEBUG:UFL:No integrals left after transformation, returning empty form.\n"
       ]
      },
      {
       "output_type": "stream",
       "stream": "stderr",
       "text": [
        "DEBUG:FFC:Reusing form from cache.\n"
       ]
      },
      {
       "output_type": "stream",
       "stream": "stderr",
       "text": [
        "DEBUG:UFL:No integrals left after transformation, returning empty form.\n"
       ]
      },
      {
       "output_type": "stream",
       "stream": "stderr",
       "text": [
        "DEBUG:UFL:No integrals left after transformation, returning empty form.\n"
       ]
      },
      {
       "output_type": "stream",
       "stream": "stderr",
       "text": [
        "DEBUG:FFC:Reusing form from cache.\n"
       ]
      },
      {
       "output_type": "stream",
       "stream": "stderr",
       "text": [
        "DEBUG:UFL:No integrals left after transformation, returning empty form.\n"
       ]
      },
      {
       "output_type": "stream",
       "stream": "stderr",
       "text": [
        "DEBUG:FFC:Reusing form from cache.\n"
       ]
      },
      {
       "output_type": "stream",
       "stream": "stderr",
       "text": [
        "DEBUG:UFL:No integrals left after transformation, returning empty form.\n"
       ]
      },
      {
       "output_type": "stream",
       "stream": "stderr",
       "text": [
        "DEBUG:UFL:No integrals left after transformation, returning empty form.\n"
       ]
      },
      {
       "output_type": "stream",
       "stream": "stderr",
       "text": [
        "DEBUG:FFC:Reusing form from cache.\n"
       ]
      },
      {
       "output_type": "stream",
       "stream": "stderr",
       "text": [
        "DEBUG:UFL:No integrals left after transformation, returning empty form.\n"
       ]
      },
      {
       "output_type": "stream",
       "stream": "stderr",
       "text": [
        "DEBUG:FFC:Reusing form from cache.\n"
       ]
      },
      {
       "output_type": "stream",
       "stream": "stderr",
       "text": [
        "DEBUG:UFL:No integrals left after transformation, returning empty form.\n"
       ]
      },
      {
       "output_type": "stream",
       "stream": "stderr",
       "text": [
        "DEBUG:UFL:No integrals left after transformation, returning empty form.\n"
       ]
      },
      {
       "output_type": "stream",
       "stream": "stderr",
       "text": [
        "DEBUG:FFC:Reusing form from cache.\n"
       ]
      },
      {
       "output_type": "stream",
       "stream": "stderr",
       "text": [
        "DEBUG:UFL:No integrals left after transformation, returning empty form.\n"
       ]
      },
      {
       "output_type": "stream",
       "stream": "stderr",
       "text": [
        "DEBUG:FFC:Reusing form from cache.\n"
       ]
      },
      {
       "output_type": "stream",
       "stream": "stderr",
       "text": [
        "DEBUG:UFL:No integrals left after transformation, returning empty form.\n"
       ]
      },
      {
       "output_type": "stream",
       "stream": "stderr",
       "text": [
        "DEBUG:UFL:No integrals left after transformation, returning empty form.\n"
       ]
      },
      {
       "output_type": "stream",
       "stream": "stderr",
       "text": [
        "DEBUG:FFC:Reusing form from cache.\n"
       ]
      },
      {
       "output_type": "stream",
       "stream": "stderr",
       "text": [
        "DEBUG:UFL:No integrals left after transformation, returning empty form.\n"
       ]
      },
      {
       "output_type": "stream",
       "stream": "stderr",
       "text": [
        "DEBUG:FFC:Reusing form from cache.\n"
       ]
      },
      {
       "output_type": "stream",
       "stream": "stderr",
       "text": [
        "DEBUG:UFL:No integrals left after transformation, returning empty form.\n"
       ]
      },
      {
       "output_type": "stream",
       "stream": "stderr",
       "text": [
        "DEBUG:UFL:No integrals left after transformation, returning empty form.\n"
       ]
      },
      {
       "output_type": "stream",
       "stream": "stderr",
       "text": [
        "DEBUG:FFC:Reusing form from cache.\n"
       ]
      },
      {
       "output_type": "stream",
       "stream": "stderr",
       "text": [
        "DEBUG:UFL:No integrals left after transformation, returning empty form.\n"
       ]
      },
      {
       "output_type": "stream",
       "stream": "stderr",
       "text": [
        "DEBUG:FFC:Reusing form from cache.\n"
       ]
      },
      {
       "output_type": "stream",
       "stream": "stderr",
       "text": [
        "DEBUG:UFL:No integrals left after transformation, returning empty form.\n"
       ]
      },
      {
       "output_type": "stream",
       "stream": "stderr",
       "text": [
        "DEBUG:UFL:No integrals left after transformation, returning empty form.\n"
       ]
      },
      {
       "output_type": "stream",
       "stream": "stderr",
       "text": [
        "DEBUG:FFC:Reusing form from cache.\n"
       ]
      },
      {
       "output_type": "stream",
       "stream": "stderr",
       "text": [
        "DEBUG:UFL:No integrals left after transformation, returning empty form.\n"
       ]
      },
      {
       "output_type": "stream",
       "stream": "stderr",
       "text": [
        "DEBUG:FFC:Reusing form from cache.\n"
       ]
      },
      {
       "output_type": "stream",
       "stream": "stderr",
       "text": [
        "DEBUG:UFL:No integrals left after transformation, returning empty form.\n"
       ]
      },
      {
       "output_type": "stream",
       "stream": "stderr",
       "text": [
        "DEBUG:UFL:No integrals left after transformation, returning empty form.\n"
       ]
      },
      {
       "output_type": "stream",
       "stream": "stderr",
       "text": [
        "DEBUG:FFC:Reusing form from cache.\n"
       ]
      },
      {
       "output_type": "stream",
       "stream": "stderr",
       "text": [
        "DEBUG:UFL:No integrals left after transformation, returning empty form.\n"
       ]
      },
      {
       "output_type": "stream",
       "stream": "stderr",
       "text": [
        "DEBUG:FFC:Reusing form from cache.\n"
       ]
      },
      {
       "output_type": "stream",
       "stream": "stderr",
       "text": [
        "DEBUG:UFL:No integrals left after transformation, returning empty form.\n"
       ]
      },
      {
       "output_type": "stream",
       "stream": "stderr",
       "text": [
        "DEBUG:UFL:No integrals left after transformation, returning empty form.\n"
       ]
      },
      {
       "output_type": "stream",
       "stream": "stderr",
       "text": [
        "DEBUG:FFC:Reusing form from cache.\n"
       ]
      },
      {
       "output_type": "stream",
       "stream": "stderr",
       "text": [
        "DEBUG:UFL:No integrals left after transformation, returning empty form.\n"
       ]
      },
      {
       "output_type": "stream",
       "stream": "stderr",
       "text": [
        "DEBUG:FFC:Reusing form from cache.\n"
       ]
      },
      {
       "output_type": "stream",
       "stream": "stderr",
       "text": [
        "DEBUG:UFL:No integrals left after transformation, returning empty form.\n"
       ]
      },
      {
       "output_type": "stream",
       "stream": "stderr",
       "text": [
        "DEBUG:UFL:No integrals left after transformation, returning empty form.\n"
       ]
      },
      {
       "output_type": "stream",
       "stream": "stderr",
       "text": [
        "DEBUG:FFC:Reusing form from cache.\n"
       ]
      },
      {
       "output_type": "stream",
       "stream": "stderr",
       "text": [
        "DEBUG:UFL:No integrals left after transformation, returning empty form.\n"
       ]
      },
      {
       "output_type": "stream",
       "stream": "stderr",
       "text": [
        "DEBUG:FFC:Reusing form from cache.\n"
       ]
      },
      {
       "output_type": "stream",
       "stream": "stderr",
       "text": [
        "DEBUG:UFL:No integrals left after transformation, returning empty form.\n"
       ]
      },
      {
       "output_type": "stream",
       "stream": "stderr",
       "text": [
        "DEBUG:UFL:No integrals left after transformation, returning empty form.\n"
       ]
      },
      {
       "output_type": "stream",
       "stream": "stderr",
       "text": [
        "DEBUG:FFC:Reusing form from cache.\n"
       ]
      },
      {
       "output_type": "stream",
       "stream": "stderr",
       "text": [
        "DEBUG:UFL:No integrals left after transformation, returning empty form.\n"
       ]
      },
      {
       "output_type": "stream",
       "stream": "stderr",
       "text": [
        "DEBUG:FFC:Reusing form from cache.\n"
       ]
      },
      {
       "output_type": "stream",
       "stream": "stderr",
       "text": [
        "DEBUG:UFL:No integrals left after transformation, returning empty form.\n"
       ]
      },
      {
       "output_type": "stream",
       "stream": "stderr",
       "text": [
        "DEBUG:UFL:No integrals left after transformation, returning empty form.\n"
       ]
      },
      {
       "output_type": "stream",
       "stream": "stderr",
       "text": [
        "DEBUG:FFC:Reusing form from cache.\n"
       ]
      },
      {
       "output_type": "stream",
       "stream": "stderr",
       "text": [
        "DEBUG:UFL:No integrals left after transformation, returning empty form.\n"
       ]
      },
      {
       "output_type": "stream",
       "stream": "stderr",
       "text": [
        "DEBUG:FFC:Reusing form from cache.\n"
       ]
      },
      {
       "output_type": "stream",
       "stream": "stderr",
       "text": [
        "DEBUG:UFL:No integrals left after transformation, returning empty form.\n"
       ]
      },
      {
       "output_type": "stream",
       "stream": "stderr",
       "text": [
        "DEBUG:UFL:No integrals left after transformation, returning empty form.\n"
       ]
      },
      {
       "output_type": "stream",
       "stream": "stderr",
       "text": [
        "DEBUG:FFC:Reusing form from cache.\n"
       ]
      },
      {
       "output_type": "stream",
       "stream": "stderr",
       "text": [
        "DEBUG:UFL:No integrals left after transformation, returning empty form.\n"
       ]
      },
      {
       "output_type": "stream",
       "stream": "stderr",
       "text": [
        "DEBUG:FFC:Reusing form from cache.\n"
       ]
      },
      {
       "output_type": "stream",
       "stream": "stderr",
       "text": [
        "DEBUG:UFL:No integrals left after transformation, returning empty form.\n"
       ]
      },
      {
       "output_type": "stream",
       "stream": "stderr",
       "text": [
        "DEBUG:UFL:No integrals left after transformation, returning empty form.\n"
       ]
      },
      {
       "output_type": "stream",
       "stream": "stderr",
       "text": [
        "DEBUG:FFC:Reusing form from cache.\n"
       ]
      },
      {
       "output_type": "stream",
       "stream": "stderr",
       "text": [
        "DEBUG:UFL:No integrals left after transformation, returning empty form.\n"
       ]
      },
      {
       "output_type": "stream",
       "stream": "stderr",
       "text": [
        "DEBUG:FFC:Reusing form from cache.\n"
       ]
      },
      {
       "output_type": "stream",
       "stream": "stderr",
       "text": [
        "DEBUG:UFL:No integrals left after transformation, returning empty form.\n"
       ]
      },
      {
       "output_type": "stream",
       "stream": "stderr",
       "text": [
        "DEBUG:UFL:No integrals left after transformation, returning empty form.\n"
       ]
      },
      {
       "output_type": "stream",
       "stream": "stderr",
       "text": [
        "DEBUG:FFC:Reusing form from cache.\n"
       ]
      },
      {
       "output_type": "stream",
       "stream": "stderr",
       "text": [
        "DEBUG:UFL:No integrals left after transformation, returning empty form.\n"
       ]
      },
      {
       "output_type": "stream",
       "stream": "stderr",
       "text": [
        "DEBUG:FFC:Reusing form from cache.\n"
       ]
      },
      {
       "output_type": "stream",
       "stream": "stderr",
       "text": [
        "DEBUG:UFL:No integrals left after transformation, returning empty form.\n"
       ]
      },
      {
       "output_type": "stream",
       "stream": "stderr",
       "text": [
        "DEBUG:UFL:No integrals left after transformation, returning empty form.\n"
       ]
      },
      {
       "output_type": "stream",
       "stream": "stderr",
       "text": [
        "DEBUG:FFC:Reusing form from cache.\n"
       ]
      },
      {
       "output_type": "stream",
       "stream": "stderr",
       "text": [
        "DEBUG:UFL:No integrals left after transformation, returning empty form.\n"
       ]
      },
      {
       "output_type": "stream",
       "stream": "stderr",
       "text": [
        "DEBUG:FFC:Reusing form from cache.\n"
       ]
      },
      {
       "output_type": "stream",
       "stream": "stderr",
       "text": [
        "DEBUG:UFL:No integrals left after transformation, returning empty form.\n"
       ]
      },
      {
       "output_type": "stream",
       "stream": "stderr",
       "text": [
        "DEBUG:UFL:No integrals left after transformation, returning empty form.\n"
       ]
      },
      {
       "output_type": "stream",
       "stream": "stderr",
       "text": [
        "DEBUG:FFC:Reusing form from cache.\n"
       ]
      },
      {
       "output_type": "stream",
       "stream": "stderr",
       "text": [
        "DEBUG:UFL:No integrals left after transformation, returning empty form.\n"
       ]
      },
      {
       "output_type": "stream",
       "stream": "stderr",
       "text": [
        "DEBUG:FFC:Reusing form from cache.\n"
       ]
      },
      {
       "output_type": "stream",
       "stream": "stderr",
       "text": [
        "DEBUG:UFL:No integrals left after transformation, returning empty form.\n"
       ]
      },
      {
       "output_type": "stream",
       "stream": "stderr",
       "text": [
        "DEBUG:UFL:No integrals left after transformation, returning empty form.\n"
       ]
      },
      {
       "output_type": "stream",
       "stream": "stderr",
       "text": [
        "DEBUG:FFC:Reusing form from cache.\n"
       ]
      },
      {
       "output_type": "stream",
       "stream": "stderr",
       "text": [
        "DEBUG:UFL:No integrals left after transformation, returning empty form.\n"
       ]
      },
      {
       "output_type": "stream",
       "stream": "stderr",
       "text": [
        "DEBUG:FFC:Reusing form from cache.\n"
       ]
      },
      {
       "output_type": "stream",
       "stream": "stderr",
       "text": [
        "DEBUG:UFL:No integrals left after transformation, returning empty form.\n"
       ]
      },
      {
       "output_type": "stream",
       "stream": "stderr",
       "text": [
        "DEBUG:UFL:No integrals left after transformation, returning empty form.\n"
       ]
      },
      {
       "output_type": "stream",
       "stream": "stderr",
       "text": [
        "DEBUG:FFC:Reusing form from cache.\n"
       ]
      },
      {
       "output_type": "stream",
       "stream": "stderr",
       "text": [
        "DEBUG:UFL:No integrals left after transformation, returning empty form.\n"
       ]
      },
      {
       "output_type": "stream",
       "stream": "stderr",
       "text": [
        "DEBUG:FFC:Reusing form from cache.\n"
       ]
      },
      {
       "output_type": "stream",
       "stream": "stderr",
       "text": [
        "DEBUG:UFL:No integrals left after transformation, returning empty form.\n"
       ]
      },
      {
       "output_type": "stream",
       "stream": "stderr",
       "text": [
        "DEBUG:UFL:No integrals left after transformation, returning empty form.\n"
       ]
      },
      {
       "output_type": "stream",
       "stream": "stderr",
       "text": [
        "DEBUG:FFC:Reusing form from cache.\n"
       ]
      },
      {
       "output_type": "stream",
       "stream": "stderr",
       "text": [
        "DEBUG:UFL:No integrals left after transformation, returning empty form.\n"
       ]
      },
      {
       "output_type": "stream",
       "stream": "stderr",
       "text": [
        "DEBUG:FFC:Reusing form from cache.\n"
       ]
      },
      {
       "output_type": "stream",
       "stream": "stderr",
       "text": [
        "DEBUG:UFL:No integrals left after transformation, returning empty form.\n"
       ]
      },
      {
       "output_type": "stream",
       "stream": "stderr",
       "text": [
        "DEBUG:UFL:No integrals left after transformation, returning empty form.\n"
       ]
      },
      {
       "output_type": "stream",
       "stream": "stderr",
       "text": [
        "DEBUG:FFC:Reusing form from cache.\n"
       ]
      },
      {
       "output_type": "stream",
       "stream": "stderr",
       "text": [
        "DEBUG:UFL:No integrals left after transformation, returning empty form.\n"
       ]
      },
      {
       "output_type": "stream",
       "stream": "stderr",
       "text": [
        "DEBUG:FFC:Reusing form from cache.\n"
       ]
      },
      {
       "output_type": "stream",
       "stream": "stderr",
       "text": [
        "DEBUG:UFL:No integrals left after transformation, returning empty form.\n"
       ]
      },
      {
       "output_type": "stream",
       "stream": "stderr",
       "text": [
        "DEBUG:UFL:No integrals left after transformation, returning empty form.\n"
       ]
      },
      {
       "output_type": "stream",
       "stream": "stderr",
       "text": [
        "DEBUG:FFC:Reusing form from cache.\n"
       ]
      },
      {
       "output_type": "stream",
       "stream": "stderr",
       "text": [
        "DEBUG:UFL:No integrals left after transformation, returning empty form.\n"
       ]
      },
      {
       "output_type": "stream",
       "stream": "stderr",
       "text": [
        "DEBUG:FFC:Reusing form from cache.\n"
       ]
      },
      {
       "output_type": "stream",
       "stream": "stderr",
       "text": [
        "DEBUG:UFL:No integrals left after transformation, returning empty form.\n"
       ]
      },
      {
       "output_type": "stream",
       "stream": "stderr",
       "text": [
        "DEBUG:UFL:No integrals left after transformation, returning empty form.\n"
       ]
      },
      {
       "output_type": "stream",
       "stream": "stderr",
       "text": [
        "DEBUG:FFC:Reusing form from cache.\n"
       ]
      },
      {
       "output_type": "stream",
       "stream": "stderr",
       "text": [
        "DEBUG:UFL:No integrals left after transformation, returning empty form.\n"
       ]
      },
      {
       "output_type": "stream",
       "stream": "stderr",
       "text": [
        "DEBUG:FFC:Reusing form from cache.\n"
       ]
      },
      {
       "output_type": "stream",
       "stream": "stdout",
       "text": [
        "10 loops, best of 3: 23.4 ms per loop\n"
       ]
      }
     ],
     "prompt_number": 11
    },
    {
     "cell_type": "markdown",
     "metadata": {},
     "source": [
      "This next bit is fast, but doesn't compute the norm ;-|"
     ]
    },
    {
     "cell_type": "code",
     "collapsed": false,
     "input": [
      "%%timeit\n",
      "n = interpolate(Expression(\"sqrt(pow(x[0], 2) + pow(x[1], 2))\"), V)"
     ],
     "language": "python",
     "metadata": {},
     "outputs": [
      {
       "output_type": "stream",
       "stream": "stdout",
       "text": [
        "100 loops, best of 3: 8.77 ms per loop\n"
       ]
      }
     ],
     "prompt_number": 13
    },
    {
     "cell_type": "markdown",
     "metadata": {},
     "source": [
      "# Compute norm via dolfin vector norm function"
     ]
    },
    {
     "cell_type": "code",
     "collapsed": false,
     "input": [
      "vector = w.vector()"
     ],
     "language": "python",
     "metadata": {},
     "outputs": [],
     "prompt_number": 14
    },
    {
     "cell_type": "code",
     "collapsed": false,
     "input": [
      "%%timeit\n",
      "norm2 = vector.norm('l2')\n"
     ],
     "language": "python",
     "metadata": {},
     "outputs": [
      {
       "output_type": "stream",
       "stream": "stdout",
       "text": [
        "1000000 loops, best of 3: 646 ns per loop\n"
       ]
      }
     ],
     "prompt_number": 15
    },
    {
     "cell_type": "code",
     "collapsed": false,
     "input": [
      "print(norm2)"
     ],
     "language": "python",
     "metadata": {},
     "outputs": [
      {
       "output_type": "stream",
       "stream": "stdout",
       "text": [
        "35.3553390593\n"
       ]
      }
     ],
     "prompt_number": 16
    },
    {
     "cell_type": "markdown",
     "metadata": {},
     "source": [
      "Okay, the method above is not suitable: it computes the norm of the whole vector, not the norm for the 2d vector at each node."
     ]
    },
    {
     "cell_type": "markdown",
     "metadata": {},
     "source": [
      "# Compute the norm using dolfin generic vector functions"
     ]
    },
    {
     "cell_type": "code",
     "collapsed": false,
     "input": [
      "mesh = RectangleMesh(0, 0, 1, 1, 10, 10)                \n",
      "V = FunctionSpace(mesh, \"CG\", 1)                                                 \n",
      "W = VectorFunctionSpace(mesh, \"CG\", 1)  \n",
      "w = interpolate(Expression([\"2\", \"1\"]), W)\n",
      "norm = Function(V)\n",
      "norm_vec = norm.vector()\n",
      "print(\"Shape of w = {}\".format(w.vector().get_local().shape))\n",
      "print(\"Shape of norm = {}\".format(norm.vector().get_local().shape))\n",
      "\n"
     ],
     "language": "python",
     "metadata": {},
     "outputs": [
      {
       "output_type": "stream",
       "stream": "stderr",
       "text": [
        "DEBUG:UFL:No integrals left after transformation, returning empty form.\n"
       ]
      },
      {
       "output_type": "stream",
       "stream": "stderr",
       "text": [
        "DEBUG:FFC:Reusing form from cache.\n"
       ]
      },
      {
       "output_type": "stream",
       "stream": "stderr",
       "text": [
        "DEBUG:UFL:No integrals left after transformation, returning empty form.\n"
       ]
      },
      {
       "output_type": "stream",
       "stream": "stderr",
       "text": [
        "DEBUG:FFC:Reusing form from cache.\n"
       ]
      },
      {
       "output_type": "stream",
       "stream": "stdout",
       "text": [
        "Shape of w = (242,)\n",
        "Shape of norm = (121,)\n"
       ]
      }
     ],
     "prompt_number": 17
    },
    {
     "cell_type": "markdown",
     "metadata": {},
     "source": [
      "Compute the norm-squared in dolfin vector:"
     ]
    },
    {
     "cell_type": "code",
     "collapsed": false,
     "input": [
      "%%timeit \n",
      "wx, wy = w.split(deepcopy=True)\n",
      "wnorm2 = (wx.vector() * wx.vector()  + wy.vector() * wy.vector()) \n",
      "#At this point, I don't know how to compute the square root of wnorm2 (without numpy or other non-dolfin-generic-vector code).\n",
      "wnorm = np.sqrt(wnorm2.array())\n",
      "norm_vec.set_local(wnorm)"
     ],
     "language": "python",
     "metadata": {},
     "outputs": [
      {
       "output_type": "stream",
       "stream": "stdout",
       "text": [
        "100 loops, best of 3: 3 ms per loop\n"
       ]
      }
     ],
     "prompt_number": 93
    },
    {
     "cell_type": "markdown",
     "metadata": {},
     "source": [
      "## plot some results"
     ]
    },
    {
     "cell_type": "code",
     "collapsed": false,
     "input": [],
     "language": "python",
     "metadata": {},
     "outputs": []
    },
    {
     "cell_type": "code",
     "collapsed": false,
     "input": [
      "%matplotlib inline\n",
      "import matplotlib.pyplot as plt\n",
      "import matplotlib.tri as tri\n"
     ],
     "language": "python",
     "metadata": {},
     "outputs": [],
     "prompt_number": 48
    },
    {
     "cell_type": "code",
     "collapsed": false,
     "input": [
      "coords = mesh.coordinates()\n",
      "x = coords[:,0]\n",
      "y = coords[:,1]\n",
      "triang = tri.Triangulation(x, y)\n",
      "z = norm2.vector().array()\n",
      "plt.tripcolor(triang, z, shading='flat', cmap=plt.cm.rainbow)\n",
      "plt.colorbar()"
     ],
     "language": "python",
     "metadata": {},
     "outputs": [
      {
       "ename": "AttributeError",
       "evalue": "'float' object has no attribute 'vector'",
       "output_type": "pyerr",
       "traceback": [
        "\u001b[1;31m---------------------------------------------------------------------------\u001b[0m\n\u001b[1;31mAttributeError\u001b[0m                            Traceback (most recent call last)",
        "\u001b[1;32m<ipython-input-50-eee93cfd3b03>\u001b[0m in \u001b[0;36m<module>\u001b[1;34m()\u001b[0m\n\u001b[0;32m      3\u001b[0m \u001b[0my\u001b[0m \u001b[1;33m=\u001b[0m \u001b[0mcoords\u001b[0m\u001b[1;33m[\u001b[0m\u001b[1;33m:\u001b[0m\u001b[1;33m,\u001b[0m\u001b[1;36m1\u001b[0m\u001b[1;33m]\u001b[0m\u001b[1;33m\u001b[0m\u001b[0m\n\u001b[0;32m      4\u001b[0m \u001b[0mtriang\u001b[0m \u001b[1;33m=\u001b[0m \u001b[0mtri\u001b[0m\u001b[1;33m.\u001b[0m\u001b[0mTriangulation\u001b[0m\u001b[1;33m(\u001b[0m\u001b[0mx\u001b[0m\u001b[1;33m,\u001b[0m \u001b[0my\u001b[0m\u001b[1;33m)\u001b[0m\u001b[1;33m\u001b[0m\u001b[0m\n\u001b[1;32m----> 5\u001b[1;33m \u001b[0mz\u001b[0m \u001b[1;33m=\u001b[0m \u001b[0mnorm2\u001b[0m\u001b[1;33m.\u001b[0m\u001b[0mvector\u001b[0m\u001b[1;33m(\u001b[0m\u001b[1;33m)\u001b[0m\u001b[1;33m.\u001b[0m\u001b[0marray\u001b[0m\u001b[1;33m(\u001b[0m\u001b[1;33m)\u001b[0m\u001b[1;33m\u001b[0m\u001b[0m\n\u001b[0m\u001b[0;32m      6\u001b[0m \u001b[0mplt\u001b[0m\u001b[1;33m.\u001b[0m\u001b[0mtripcolor\u001b[0m\u001b[1;33m(\u001b[0m\u001b[0mtriang\u001b[0m\u001b[1;33m,\u001b[0m \u001b[0mz\u001b[0m\u001b[1;33m,\u001b[0m \u001b[0mshading\u001b[0m\u001b[1;33m=\u001b[0m\u001b[1;34m'flat'\u001b[0m\u001b[1;33m,\u001b[0m \u001b[0mcmap\u001b[0m\u001b[1;33m=\u001b[0m\u001b[0mplt\u001b[0m\u001b[1;33m.\u001b[0m\u001b[0mcm\u001b[0m\u001b[1;33m.\u001b[0m\u001b[0mrainbow\u001b[0m\u001b[1;33m)\u001b[0m\u001b[1;33m\u001b[0m\u001b[0m\n\u001b[0;32m      7\u001b[0m \u001b[0mplt\u001b[0m\u001b[1;33m.\u001b[0m\u001b[0mcolorbar\u001b[0m\u001b[1;33m(\u001b[0m\u001b[1;33m)\u001b[0m\u001b[1;33m\u001b[0m\u001b[0m\n",
        "\u001b[1;31mAttributeError\u001b[0m: 'float' object has no attribute 'vector'"
       ]
      }
     ],
     "prompt_number": 50
    },
    {
     "cell_type": "code",
     "collapsed": false,
     "input": [
      "coords[:,0]"
     ],
     "language": "python",
     "metadata": {},
     "outputs": [
      {
       "metadata": {},
       "output_type": "pyout",
       "prompt_number": 27,
       "text": [
        "array([  1.00000000e+01,   1.00000000e+01,  -1.00000000e+01,\n",
        "        -1.00000000e+01,   9.80785280e-02,   9.23879533e-02,\n",
        "         8.31469612e-02,   7.07106781e-02,   5.55570233e-02,\n",
        "         3.82683432e-02,   1.95090322e-02,  -1.83697020e-17,\n",
        "        -1.95090322e-02,  -3.82683432e-02,  -5.55570233e-02,\n",
        "        -7.07106781e-02,  -8.31469612e-02,  -9.23879533e-02,\n",
        "        -9.80785280e-02,  -1.00000000e-01,  -9.80785280e-02,\n",
        "        -9.23879533e-02,  -8.31469612e-02,  -7.07106781e-02,\n",
        "        -5.55570233e-02,  -3.82683432e-02,  -1.95090322e-02,\n",
        "         6.12323400e-18,   1.95090322e-02,   3.82683432e-02,\n",
        "         5.55570233e-02,   7.07106781e-02,   8.31469612e-02,\n",
        "         9.23879533e-02,   9.80785280e-02,   1.00000000e-01,\n",
        "         0.00000000e+00,   0.00000000e+00,   1.00000000e+01,\n",
        "        -1.00000000e+01,   5.00000000e+00,   5.00000000e+00,\n",
        "        -1.00000000e+01,  -5.00000000e+00,  -5.00000000e+00,\n",
        "         5.06260178e+00,   5.06260178e+00,  -5.06260178e+00,\n",
        "        -4.20598777e+00,   1.00000000e+01,   1.00000000e+01,\n",
        "        -1.00000000e+01,   2.70318930e-01,   4.84706261e-01,\n",
        "        -4.14359802e+00,   6.08334837e+00,  -2.98003015e+00,\n",
        "        -2.43078542e+00,  -7.39118845e+00,  -1.00000000e+01,\n",
        "        -7.50000000e+00,   6.90955830e+00,   1.00000000e+01,\n",
        "         7.50000000e+00,  -6.80168496e+00,   2.50000000e+00,\n",
        "         3.26540615e+00,  -6.71906879e+00,   6.71906879e+00,\n",
        "         2.50000000e+00,   3.44416045e+00,   1.00000000e+01,\n",
        "         1.00000000e+01,  -1.98896807e+00,   3.09555092e+00,\n",
        "         2.14155204e+00,  -7.03570705e+00,  -1.45107167e+00,\n",
        "         7.68943278e+00,   7.68943278e+00,  -7.55006663e+00,\n",
        "        -7.50000000e+00,  -1.00000000e+01,  -1.00000000e+01,\n",
        "        -2.50000000e+00,  -2.50000000e+00,   1.00000000e+01,\n",
        "         7.50000000e+00,  -1.00000000e+01,   7.71203827e-01,\n",
        "         2.63001023e+00,   8.43957162e-01,   1.25000000e+00,\n",
        "         3.94007627e+00,   8.04167418e+00,   7.92729629e+00,\n",
        "        -2.05778142e+00,  -4.69656859e+00,  -7.74690315e+00,\n",
        "         2.57988616e+00,  -1.25000000e+00,  -1.93896248e+00,\n",
        "        -2.09732822e+00,  -5.16369580e+00,  -5.02130776e+00,\n",
        "         2.03149424e+00,   5.05568954e+00,   6.00368052e+00,\n",
        "        -6.06844236e+00,  -8.06172824e+00,  -3.31540971e+00,\n",
        "         3.75000000e+00,  -4.89226502e+00,  -4.89190269e+00,\n",
        "        -6.68332022e-01,   3.75000000e+00,   8.20310717e+00,\n",
        "         5.59941499e+00,  -8.56412181e+00,  -8.06071918e+00,\n",
        "        -5.87730804e+00,   5.14806072e+00,   5.59041807e+00,\n",
        "         8.20700505e+00,  -6.32599196e+00,  -8.18802695e+00,\n",
        "         2.84271387e-01,  -3.81259967e+00,  -3.24243511e+00,\n",
        "        -8.71419236e+00,   8.25426964e+00,   8.11921015e+00,\n",
        "        -9.20944363e-01,  -1.60567485e+00,   1.66452085e+00,\n",
        "        -8.67716398e-01,  -6.41769696e+00,   6.39035062e+00,\n",
        "         4.73770902e+00,  -3.31609527e+00,   6.36405453e+00,\n",
        "         6.38783624e+00,   1.81028586e+00,  -5.52694599e-01,\n",
        "         1.47707099e+00,   8.56803594e-01,   3.72894515e+00,\n",
        "        -1.00000000e+01,  -8.51648304e+00,  -3.33731322e+00,\n",
        "        -6.31845391e+00,   3.52009809e+00,  -1.00000000e+01,\n",
        "        -3.37592536e+00,  -3.41053694e+00,  -7.26982249e-01,\n",
        "         2.34386841e+00,  -6.12498789e+00,  -8.75546809e+00,\n",
        "        -6.10208891e+00,   2.26481927e+00,   4.01502808e+00,\n",
        "         4.63893646e+00,   1.25000000e+00,  -6.43994147e-01,\n",
        "        -8.69559423e+00,   5.28026825e+00,  -5.20039355e+00,\n",
        "        -8.63528351e-01,   7.94552547e-01,   3.55557740e-01,\n",
        "         1.12439526e+00,  -1.06256475e+00,  -6.62513665e-01,\n",
        "        -8.74914108e-02,   5.82827391e-01,   6.49871244e-01,\n",
        "        -5.54077120e-01,  -6.88853149e-02,  -6.09608041e-01,\n",
        "         1.57473881e-01,   5.16808633e-01,   2.20465296e-01,\n",
        "        -2.91873451e-01,  -2.11015438e-01,  -4.19756675e-01,\n",
        "         3.12563260e-01,  -3.49220492e-02,  -3.29098457e-01,\n",
        "         3.01134399e-01,   3.22108122e-02,  -2.30597614e-01,\n",
        "         2.87643639e-01,   1.33627484e-01,  -1.77419133e-01,\n",
        "         1.63901469e-01,  -2.46896517e-01,  -6.96899036e-02,\n",
        "        -2.23199453e-02,   1.94275820e-01,  -1.89346145e-01,\n",
        "         1.79805442e-01,   5.91830210e-02,  -1.75276045e-01,\n",
        "         9.01469847e-02,  -8.89833645e-02,   1.84330698e-01,\n",
        "        -1.78369157e-01,   1.12704969e-01,  -1.11264634e-01,\n",
        "        -1.71730699e-02,   1.65659147e-02,   1.27777432e-01,\n",
        "        -1.25623087e-01,   1.50370887e-01,  -1.47939794e-01,\n",
        "         4.39022376e-02,  -4.34518648e-02,   1.41583214e-01,\n",
        "        -1.38793558e-01,   6.82829353e-02,   1.11527140e-01,\n",
        "        -6.74944477e-02,  -1.10679412e-01,  -8.69409873e-02,\n",
        "        -1.34015832e-02,   1.33896677e-01,   1.30924603e-02,\n",
        "        -1.32736686e-01,   6.21576629e-02,   1.01788623e-01,\n",
        "        -1.13881630e-01,   1.13593170e-01,  -1.13181789e-01,\n",
        "        -8.14151665e-02,  -5.93166739e-02,   1.23214883e-02,\n",
        "        -3.64909572e-02])"
       ]
      }
     ],
     "prompt_number": 27
    },
    {
     "cell_type": "markdown",
     "metadata": {},
     "source": [
      "# Wacky stuff from webpage (works on the coordinate, not the field value)\n",
      "http://fenicsproject.org/qa/3693/parallel-vector-operations-something-akin-to-celliterator"
     ]
    },
    {
     "cell_type": "code",
     "collapsed": false,
     "input": [
      "from dolfin import *\n",
      "import numpy as np\n",
      "import math\n",
      "\n",
      "mesh = RectangleMesh(-1, -1, 1, 1, 10, 10)\n",
      "V = FunctionSpace(mesh, 'CG', 1)\n",
      "\n",
      "u = Function(V)\n",
      "uvec = u.vector()\n",
      "\n",
      "dofmap = V.dofmap()\n",
      "dof_x = dofmap.tabulate_all_coordinates(mesh).reshape((-1, 2))\n",
      "first_dof, last_dof = dofmap.ownership_range()  # U.local_size()\n",
      "\n",
      "#rank = MPI.process_number()\n",
      "new_values = np.zeros(last_dof - first_dof)\n",
      "for i in range(len(new_values)):\n",
      "    x, y = dof_x[i]\n",
      "    new_values[i] = math.sqrt(x **2 + y **2)\n",
      "uvec.set_local(new_values)\n",
      "uvec.apply('insert')\n",
      "\n",
      "#plot(u, title=str(rank))\n",
      "#interactive()"
     ],
     "language": "python",
     "metadata": {},
     "outputs": [
      {
       "output_type": "stream",
       "stream": "stderr",
       "text": [
        "DEBUG:UFL:No integrals left after transformation, returning empty form.\n"
       ]
      },
      {
       "output_type": "stream",
       "stream": "stderr",
       "text": [
        "DEBUG:FFC:Reusing form from cache.\n"
       ]
      }
     ],
     "prompt_number": 49
    },
    {
     "cell_type": "code",
     "collapsed": false,
     "input": [
      "dof_x[0]"
     ],
     "language": "python",
     "metadata": {},
     "outputs": [
      {
       "metadata": {},
       "output_type": "pyout",
       "prompt_number": 50,
       "text": [
        "array([-1., -1.])"
       ]
      }
     ],
     "prompt_number": 50
    },
    {
     "cell_type": "code",
     "collapsed": false,
     "input": [
      "mesh.coordinates()[0]"
     ],
     "language": "python",
     "metadata": {},
     "outputs": [
      {
       "metadata": {},
       "output_type": "pyout",
       "prompt_number": 111,
       "text": [
        "array([-1., -1.])"
       ]
      }
     ],
     "prompt_number": 111
    },
    {
     "cell_type": "markdown",
     "metadata": {},
     "source": [
      "## Wacky stuff from http://fenicsproject.org/qa/3532/avoiding-assembly-vector-operations-scalar-vector-spaces"
     ]
    },
    {
     "cell_type": "code",
     "collapsed": false,
     "input": [
      "from dolfin import *\n",
      "\n",
      "mesh = RectangleMesh(0.0, 0.0, 1.0, 1.0, 10, 10)\n",
      "V = FunctionSpace(mesh, \"Lagrange\", 1)\n",
      "V_vec = VectorFunctionSpace(mesh, \"Lagrange\", 1)\n",
      "W = V_vec\n",
      "\n",
      "c = project(Expression('1.1'), V)\n",
      "\n",
      "v = as_vector((1,2))\n",
      "\n",
      "d = project(c*v,V_vec)"
     ],
     "language": "python",
     "metadata": {},
     "outputs": [
      {
       "output_type": "stream",
       "stream": "stderr",
       "text": [
        "DEBUG:UFL:No integrals left after transformation, returning empty form.\n"
       ]
      },
      {
       "output_type": "stream",
       "stream": "stderr",
       "text": [
        "DEBUG:FFC:Reusing form from cache.\n"
       ]
      },
      {
       "output_type": "stream",
       "stream": "stderr",
       "text": [
        "DEBUG:UFL:No integrals left after transformation, returning empty form.\n"
       ]
      },
      {
       "output_type": "stream",
       "stream": "stderr",
       "text": [
        "DEBUG:FFC:Reusing form from cache.\n"
       ]
      },
      {
       "output_type": "stream",
       "stream": "stderr",
       "text": [
        "DEBUG:UFL:No integrals left after transformation, returning empty form.\n"
       ]
      },
      {
       "output_type": "stream",
       "stream": "stderr",
       "text": [
        "DEBUG:UFL:No integrals left after transformation, returning empty form.\n"
       ]
      },
      {
       "output_type": "stream",
       "stream": "stderr",
       "text": [
        "DEBUG:FFC:Reusing form from cache.\n"
       ]
      },
      {
       "output_type": "stream",
       "stream": "stderr",
       "text": [
        "INFO:UFL:Adjusting missing element domain to <Domain built from <triangle cell in 2D> with label dolfin_mesh_with_id_69155>.\n"
       ]
      },
      {
       "output_type": "stream",
       "stream": "stderr",
       "text": [
        "INFO:UFL:Adjusting missing element degree to 1\n"
       ]
      },
      {
       "output_type": "stream",
       "stream": "stderr",
       "text": [
        "DEBUG:UFL:No integrals left after transformation, returning empty form.\n"
       ]
      },
      {
       "output_type": "stream",
       "stream": "stderr",
       "text": [
        "DEBUG:FFC:Reusing form from cache.\n"
       ]
      },
      {
       "output_type": "stream",
       "stream": "stderr",
       "text": [
        "DEBUG:UFL:No integrals left after transformation, returning empty form.\n"
       ]
      },
      {
       "output_type": "stream",
       "stream": "stderr",
       "text": [
        "DEBUG:UFL:No integrals left after transformation, returning empty form.\n"
       ]
      },
      {
       "output_type": "stream",
       "stream": "stderr",
       "text": [
        "DEBUG:FFC:Reusing form from cache.\n"
       ]
      },
      {
       "output_type": "stream",
       "stream": "stderr",
       "text": [
        "DEBUG:UFL:No integrals left after transformation, returning empty form.\n"
       ]
      },
      {
       "output_type": "stream",
       "stream": "stderr",
       "text": [
        "DEBUG:FFC:Reusing form from cache.\n"
       ]
      }
     ],
     "prompt_number": 63
    },
    {
     "cell_type": "code",
     "collapsed": false,
     "input": [
      "d.vector().array()"
     ],
     "language": "python",
     "metadata": {},
     "outputs": [
      {
       "metadata": {},
       "output_type": "pyout",
       "prompt_number": 64,
       "text": [
        "array([ 1.10000041,  2.20000083,  1.10000176,  2.20000351,  1.10000273,\n",
        "        2.20000547,  1.09999831,  2.19999662,  1.09999932,  2.19999863,\n",
        "        1.09999953,  2.19999907,  1.10000147,  2.20000294,  1.09999658,\n",
        "        2.19999315,  1.10000285,  2.20000571,  1.10000161,  2.20000323,\n",
        "        1.10000049,  2.20000099,  1.10000176,  2.20000351,  1.09999947,\n",
        "        2.19999893,  1.10000029,  2.20000058,  1.09999951,  2.19999902,\n",
        "        1.10000098,  2.20000196,  1.10000022,  2.20000044,  1.09999885,\n",
        "        2.1999977 ,  1.09999875,  2.1999975 ,  1.10000287,  2.20000574,\n",
        "        1.09999949,  2.19999899,  1.09999971,  2.19999942,  1.10000273,\n",
        "        2.20000547,  1.10000029,  2.20000058,  1.1       ,  2.19999999,\n",
        "        1.09999936,  2.19999873,  1.10000064,  2.20000128,  1.09999841,\n",
        "        2.19999683,  1.10000246,  2.20000491,  1.10000195,  2.2000039 ,\n",
        "        1.09999957,  2.19999914,  1.09999967,  2.19999933,  1.10000358,\n",
        "        2.20000717,  1.09999831,  2.19999662,  1.09999951,  2.19999902,\n",
        "        1.09999936,  2.19999873,  1.09999927,  2.19999855,  1.09999955,\n",
        "        2.1999991 ,  1.09999927,  2.19999853,  1.10000116,  2.20000233,\n",
        "        1.09999289,  2.19998578,  1.10000129,  2.20000258,  1.09999902,\n",
        "        2.19999805,  1.09999765,  2.19999531,  1.09999932,  2.19999863,\n",
        "        1.10000098,  2.20000196,  1.10000064,  2.20000128,  1.09999955,\n",
        "        2.1999991 ,  1.10000004,  2.20000008,  1.10000029,  2.20000057,\n",
        "        1.09999899,  2.19999798,  1.10000245,  2.20000491,  1.10000236,\n",
        "        2.20000473,  1.09999868,  2.19999736,  1.10000162,  2.20000323,\n",
        "        1.09999953,  2.19999907,  1.10000022,  2.20000044,  1.09999841,\n",
        "        2.19999683,  1.09999927,  2.19999853,  1.10000029,  2.20000057,\n",
        "        1.09999971,  2.19999942,  1.10000025,  2.2000005 ,  1.09999938,\n",
        "        2.19999877,  1.09999807,  2.19999615,  1.0999999 ,  2.19999981,\n",
        "        1.09999978,  2.19999957,  1.10000147,  2.20000294,  1.09999885,\n",
        "        2.1999977 ,  1.10000246,  2.20000491,  1.10000116,  2.20000233,\n",
        "        1.09999899,  2.19999798,  1.10000025,  2.2000005 ,  1.09999959,\n",
        "        2.19999919,  1.09999986,  2.19999972,  1.1000006 ,  2.2000012 ,\n",
        "        1.10000045,  2.2000009 ,  1.09999948,  2.19999895,  1.09999658,\n",
        "        2.19999315,  1.09999875,  2.1999975 ,  1.10000195,  2.2000039 ,\n",
        "        1.09999289,  2.19998578,  1.10000245,  2.20000491,  1.09999938,\n",
        "        2.19999877,  1.09999986,  2.19999972,  1.10000021,  2.20000041,\n",
        "        1.09999975,  2.19999949,  1.0999994 ,  2.1999988 ,  1.09999922,\n",
        "        2.19999844,  1.10000285,  2.20000571,  1.10000287,  2.20000574,\n",
        "        1.09999957,  2.19999914,  1.10000129,  2.20000258,  1.10000236,\n",
        "        2.20000473,  1.09999807,  2.19999615,  1.1000006 ,  2.2000012 ,\n",
        "        1.09999975,  2.19999949,  1.09999977,  2.19999954,  1.09999942,\n",
        "        2.19999884,  1.10000229,  2.20000458,  1.10000161,  2.20000323,\n",
        "        1.09999949,  2.19999899,  1.09999967,  2.19999933,  1.09999902,\n",
        "        2.19999805,  1.09999868,  2.19999736,  1.0999999 ,  2.19999981,\n",
        "        1.10000045,  2.2000009 ,  1.0999994 ,  2.1999988 ,  1.09999942,\n",
        "        2.19999884,  1.09999941,  2.19999882,  1.10000255,  2.2000051 ,\n",
        "        1.10000049,  2.20000099,  1.09999971,  2.19999942,  1.10000358,\n",
        "        2.20000717,  1.09999765,  2.19999531,  1.10000162,  2.20000323,\n",
        "        1.09999978,  2.19999957,  1.09999948,  2.19999895,  1.09999922,\n",
        "        2.19999844,  1.10000229,  2.20000458,  1.10000255,  2.2000051 ,\n",
        "        1.10000004,  2.20000009])"
       ]
      }
     ],
     "prompt_number": 64
    },
    {
     "cell_type": "code",
     "collapsed": false,
     "input": [
      "W = VectorFunctionSpace(mesh, \"CG\", 1)  \n",
      "w = interpolate(Expression([\"2\", \"1\"]), W)\n"
     ],
     "language": "python",
     "metadata": {},
     "outputs": [
      {
       "output_type": "stream",
       "stream": "stderr",
       "text": [
        "DEBUG:UFL:No integrals left after transformation, returning empty form.\n"
       ]
      },
      {
       "output_type": "stream",
       "stream": "stderr",
       "text": [
        "DEBUG:FFC:Reusing form from cache.\n"
       ]
      }
     ],
     "prompt_number": 65
    },
    {
     "cell_type": "code",
     "collapsed": false,
     "input": [
      "%%timeit\n",
      "#dd = w #Function(V_vec)\n",
      "dofs0 = V_vec.sub(0).dofmap().dofs()    # indices of x-components\n",
      "dofs1 = V_vec.sub(1).dofmap().dofs()    # indices of y-components\n",
      "norm = Function(V)\n",
      "norm.vector()[:] = np.sqrt(w.vector()[dofs0] * w.vector()[dofs0] + w.vector()[dofs1] * w.vector()[dofs1])"
     ],
     "language": "python",
     "metadata": {},
     "outputs": [
      {
       "output_type": "stream",
       "stream": "stdout",
       "text": [
        "100 loops, best of 3: 3.23 ms per loop\n"
       ]
      }
     ],
     "prompt_number": 86
    },
    {
     "cell_type": "code",
     "collapsed": false,
     "input": [
      "norm = Function(V)\n"
     ],
     "language": "python",
     "metadata": {},
     "outputs": [],
     "prompt_number": 87
    },
    {
     "cell_type": "code",
     "collapsed": false,
     "input": [
      "\n",
      "%%timeit\n",
      "norm.vector()[:] = np.sqrt(w.vector()[dofs0] * w.vector()[dofs0] + w.vector()[dofs1] * w.vector()[dofs1])"
     ],
     "language": "python",
     "metadata": {},
     "outputs": [
      {
       "output_type": "stream",
       "stream": "stdout",
       "text": [
        "100 loops, best of 3: 2.72 ms per loop\n"
       ]
      }
     ],
     "prompt_number": 88
    },
    {
     "cell_type": "code",
     "collapsed": false,
     "input": [
      "norm.vector().array()"
     ],
     "language": "python",
     "metadata": {},
     "outputs": [
      {
       "metadata": {},
       "output_type": "pyout",
       "prompt_number": 90,
       "text": [
        "array([ 2.23606798,  2.23606798,  2.23606798,  2.23606798,  2.23606798,\n",
        "        2.23606798,  2.23606798,  2.23606798,  2.23606798,  2.23606798,\n",
        "        2.23606798,  2.23606798,  2.23606798,  2.23606798,  2.23606798,\n",
        "        2.23606798,  2.23606798,  2.23606798,  2.23606798,  2.23606798,\n",
        "        2.23606798,  2.23606798,  2.23606798,  2.23606798,  2.23606798,\n",
        "        2.23606798,  2.23606798,  2.23606798,  2.23606798,  2.23606798,\n",
        "        2.23606798,  2.23606798,  2.23606798,  2.23606798,  2.23606798,\n",
        "        2.23606798,  2.23606798,  2.23606798,  2.23606798,  2.23606798,\n",
        "        2.23606798,  2.23606798,  2.23606798,  2.23606798,  2.23606798,\n",
        "        2.23606798,  2.23606798,  2.23606798,  2.23606798,  2.23606798,\n",
        "        2.23606798,  2.23606798,  2.23606798,  2.23606798,  2.23606798,\n",
        "        2.23606798,  2.23606798,  2.23606798,  2.23606798,  2.23606798,\n",
        "        2.23606798,  2.23606798,  2.23606798,  2.23606798,  2.23606798,\n",
        "        2.23606798,  2.23606798,  2.23606798,  2.23606798,  2.23606798,\n",
        "        2.23606798,  2.23606798,  2.23606798,  2.23606798,  2.23606798,\n",
        "        2.23606798,  2.23606798,  2.23606798,  2.23606798,  2.23606798,\n",
        "        2.23606798,  2.23606798,  2.23606798,  2.23606798,  2.23606798,\n",
        "        2.23606798,  2.23606798,  2.23606798,  2.23606798,  2.23606798,\n",
        "        2.23606798,  2.23606798,  2.23606798,  2.23606798,  2.23606798,\n",
        "        2.23606798,  2.23606798,  2.23606798,  2.23606798,  2.23606798,\n",
        "        2.23606798,  2.23606798,  2.23606798,  2.23606798,  2.23606798,\n",
        "        2.23606798,  2.23606798,  2.23606798,  2.23606798,  2.23606798,\n",
        "        2.23606798,  2.23606798,  2.23606798,  2.23606798,  2.23606798,\n",
        "        2.23606798,  2.23606798,  2.23606798,  2.23606798,  2.23606798,\n",
        "        2.23606798])"
       ]
      }
     ],
     "prompt_number": 90
    },
    {
     "cell_type": "markdown",
     "metadata": {},
     "source": [
      "# Done a number of tests. Implement one or two versions as funcions"
     ]
    },
    {
     "cell_type": "code",
     "collapsed": false,
     "input": [
      "import numpy as np\n",
      "\n",
      "def value_dim(w):\n",
      "        if isinstance(w.function_space(), df.FunctionSpace):\n",
      "            # Scalar field.\n",
      "            return 1\n",
      "        else:\n",
      "            # value_shape() returns a tuple (N,) and int is required.\n",
      "            return w.function_space().ufl_element().value_shape()[0]\n",
      "\n",
      "\n",
      "def compute_pointwise_norm(w, target=None, method=1):\n",
      "    \"\"\"Given a function vectior function w, compute the norm at each vertex, and store in scalar function target.\n",
      "    If target is given (a scalar dolfin Function), then store the result in there, and return reference to it.\n",
      "    If traget is not given, create the object and return reference to it.\n",
      "    Method allows to choose which method we use.\n",
      "    \"\"\"\n",
      "    if not target:\n",
      "        raise NotImplementeError(\"This is missing - could cerate a df.Function(V) here\")\n",
      "\n",
      "    dim = value_dim(w)\n",
      "    assert dim in [3], \"Only implemented for 2d and 3d vector field\" \n",
      "\n",
      "    if method == 1:\n",
      "        wx, wy, wz = w.split(deepcopy=True)\n",
      "        wnorm = np.sqrt(wx.vector() * wx.vector()  + wy.vector() * wy.vector() + wz.vector() * wz.vector()) \n",
      "        target.vector().set_local(wnorm)\n",
      "    elif method == 2:\n",
      "        V_vec = w.function_space()\n",
      "        dofs0 = V_vec.sub(0).dofmap().dofs()    # indices of x-components\n",
      "        dofs1 = V_vec.sub(1).dofmap().dofs()    # indices of y-components\n",
      "        dofs2 = V_vec.sub(2).dofmap().dofs()    # indices of z-components\n",
      "\n",
      "        target.vector()[:] = np.sqrt(w.vector()[dofs0] * w.vector()[dofs0] +\\\n",
      "                                     w.vector()[dofs1] * w.vector()[dofs1] +\\\n",
      "                                     w.vector()[dofs2] * w.vector()[dofs2])\n",
      "    else:\n",
      "        raise NotImplementedError(\"method {} unknown\".format(method))"
     ],
     "language": "python",
     "metadata": {},
     "outputs": [],
     "prompt_number": 174
    },
    {
     "cell_type": "code",
     "collapsed": false,
     "input": [
      "import dolfin as df\n",
      "\n",
      "def create_test_system(nx, ny=None):\n",
      "    if not ny:\n",
      "        ny = nx\n",
      "    nz = ny\n",
      "    mesh = df.BoxMesh(0, 0, 0, 1, 1, 1, nx, ny, nz)  \n",
      "    V = df.FunctionSpace(mesh, \"CG\", 1)                                                 \n",
      "    W = df.VectorFunctionSpace(mesh, \"CG\", 1)  \n",
      "    w = df.interpolate(Expression([\"2\", \"1\", \"2\"]), W)\n",
      "    target = df.Function(V)\n",
      "    return w, mesh, V, W, target"
     ],
     "language": "python",
     "metadata": {},
     "outputs": [],
     "prompt_number": 175
    },
    {
     "cell_type": "code",
     "collapsed": false,
     "input": [
      "w, mesh, V, W, norm = create_test_system(5)"
     ],
     "language": "python",
     "metadata": {},
     "outputs": [
      {
       "output_type": "stream",
       "stream": "stderr",
       "text": [
        "DEBUG:UFL:No integrals left after transformation, returning empty form.\n"
       ]
      },
      {
       "output_type": "stream",
       "stream": "stderr",
       "text": [
        "DEBUG:FFC:Reusing form from cache.\n"
       ]
      },
      {
       "output_type": "stream",
       "stream": "stderr",
       "text": [
        "DEBUG:UFL:No integrals left after transformation, returning empty form.\n"
       ]
      },
      {
       "output_type": "stream",
       "stream": "stderr",
       "text": [
        "DEBUG:FFC:Reusing form from cache.\n"
       ]
      }
     ],
     "prompt_number": 176
    },
    {
     "cell_type": "code",
     "collapsed": false,
     "input": [
      "%timeit compute_pointwise_norm(w, norm, method=1)\n",
      "assert norm.vector().array()[0] == np.sqrt(2*2 + 1 + 2*2)"
     ],
     "language": "python",
     "metadata": {},
     "outputs": [
      {
       "output_type": "stream",
       "stream": "stdout",
       "text": [
        "100 loops, best of 3: 10.2 ms per loop\n"
       ]
      }
     ],
     "prompt_number": 177
    },
    {
     "cell_type": "code",
     "collapsed": false,
     "input": [
      "assert norm.vector().array()[0] == np.sqrt(2*2 + 1 + 2*2)"
     ],
     "language": "python",
     "metadata": {},
     "outputs": [],
     "prompt_number": 178
    },
    {
     "cell_type": "code",
     "collapsed": false,
     "input": [
      "%timeit compute_pointwise_norm(w, norm, method=2)\n",
      "assert norm.vector().array()[0] == np.sqrt(2*2 + 1 + 2*2)"
     ],
     "language": "python",
     "metadata": {},
     "outputs": [
      {
       "output_type": "stream",
       "stream": "stdout",
       "text": [
        "10 loops, best of 3: 10.9 ms per loop\n"
       ]
      }
     ],
     "prompt_number": 180
    },
    {
     "cell_type": "code",
     "collapsed": false,
     "input": [
      "compute_pointwise_norm(w, norm, method=1)\n",
      "norm.vector().array()[0]"
     ],
     "language": "python",
     "metadata": {},
     "outputs": [
      {
       "metadata": {},
       "output_type": "pyout",
       "prompt_number": 172,
       "text": [
        "3.0"
       ]
      }
     ],
     "prompt_number": 172
    }
   ],
   "metadata": {}
  }
 ]
}