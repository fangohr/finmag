{
 "metadata": {
  "name": "tutorial-running-simulations-with-dmi"
 },
 "nbformat": 3,
 "nbformat_minor": 0,
 "worksheets": [
  {
   "cells": [
    {
     "cell_type": "markdown",
     "metadata": {},
     "source": [
      "## Running simulations with Dzyaloshinskii-Moriya interaction (DMI)"
     ]
    },
    {
     "cell_type": "markdown",
     "metadata": {},
     "source": [
      "This tutorial runs a set of simulations with DMI where we use finmag's function ``sim_with`` to conveniently create the simulation object."
     ]
    },
    {
     "cell_type": "markdown",
     "metadata": {},
     "source": [
      "###Skyrmion state simulation"
     ]
    },
    {
     "cell_type": "code",
     "collapsed": false,
     "input": [
      "import dolfin as df\n",
      "import finmag"
     ],
     "language": "python",
     "metadata": {},
     "outputs": [],
     "prompt_number": 2
    },
    {
     "cell_type": "markdown",
     "metadata": {},
     "source": [
      "The next step is to create a mesh for thin film sample with dimensions: $x = 50$ nm, $y = 50$ nm and thickess $z = 1$ nm. Number of vertices is chosen such that their spacing is $1$ nm, thus, $n_\\mathrm{x}=50$, $n_\\mathrm{y}=50$ and $n_\\mathrm{z}=1$."
     ]
    },
    {
     "cell_type": "code",
     "collapsed": false,
     "input": [
      "mesh = df.BoxMesh(0,0,0,50e-9,50e-9,1e-9,50,50,1)"
     ],
     "language": "python",
     "metadata": {},
     "outputs": [],
     "prompt_number": 3
    },
    {
     "cell_type": "markdown",
     "metadata": {},
     "source": [
      "At this point, the simulation can be executed by using the ``sim_with`` method. This function requires the following set of arguments with used values in brackets:\n",
      "\n",
      "* mesh\n",
      "* magnetisation saturation ($M_\\mathrm{S}=8\\cdot10^{5} \\mathrm{A/m}$)\n",
      "* initial state of magnetisation ($[1,0,0]$)\n",
      "* exchange energy constant ($A=1\\cdot10^{-11} \\mathrm{J/m}$)\n",
      "* DMI energy constant ($D=6.98\\cdot10^{-3} \\mathrm{J/m^{2}}$)\n",
      "* demagnetisation energy flag (since demagnetisation is not simulated, this flag should be kept as None)\n",
      "* external field ($H_\\mathrm{ex}=[0,0,1600000]\\mathrm{A/m}$)\n",
      "\n",
      "Exchange and DMI energies are calculated using following expressions:\n",
      "\\begin{equation} E_\\mathrm{ex} = A\\int_{\\Omega}(\\nabla \\vec{M})^{2} \\mathrm{d}V \\end{equation} \n",
      "\\begin{equation} E_{dmi}=D\\int_{\\Omega}\\vec{M}\\cdot(\\nabla\\times\\vec{M})\\mathrm{d}V \\end{equation}\n",
      "\n",
      "According to this, ``sim_with`` function can be executed by typing:"
     ]
    },
    {
     "cell_type": "code",
     "collapsed": false,
     "input": [
      "sim1 = finmag.sim_with(mesh, name='skyrmion', Ms=8e5, m_init=[1,0,0], A=1e-11, D=6.98e-3, demag_solver=None, H_ext=[0,0,1600000])"
     ],
     "language": "python",
     "metadata": {},
     "outputs": [
      {
       "output_type": "stream",
       "stream": "stderr",
       "text": [
        "[2013-10-31 13:06:34] INFO: Finmag logging output will be written to file: '/home/mark/finmag/doc/ipython_notebooks_src/skyrmion.log' (any old content will be overwritten).\n"
       ]
      },
      {
       "output_type": "stream",
       "stream": "stderr",
       "text": [
        "[2013-10-31 13:06:34] DEBUG: Creating DataWriter for file 'skyrmion.ndt'\n"
       ]
      },
      {
       "output_type": "stream",
       "stream": "stderr",
       "text": [
        "[2013-10-31 13:06:34] INFO: Creating Sim object 'skyrmion' (rank=0/1).\n"
       ]
      },
      {
       "output_type": "stream",
       "stream": "stderr",
       "text": [
        "[2013-10-31 13:06:34] INFO: <Mesh of topological dimension 3 (tetrahedra) with 5202 vertices and 15000 cells, ordered>\n"
       ]
      },
      {
       "output_type": "stream",
       "stream": "stderr",
       "text": [
        "[2013-10-31 13:06:34] DEBUG: Creating LLG object.\n"
       ]
      },
      {
       "output_type": "stream",
       "stream": "stderr",
       "text": [
        "[2013-10-31 13:06:35] DEBUG: Creating Exchange object with method box-matrix-petsc, in Jacobian.\n"
       ]
      },
      {
       "output_type": "stream",
       "stream": "stderr",
       "text": [
        "[2013-10-31 13:06:35] DEBUG: Adding interaction <finmag.energies.exchange.Exchange object at 0x559d1d0> to simulation 'skyrmion'\n"
       ]
      },
      {
       "output_type": "stream",
       "stream": "stderr",
       "text": [
        "[2013-10-31 13:06:35] DEBUG: Adding interaction <finmag.energies.zeeman.Zeeman object at 0x55b1b90> to simulation 'skyrmion'\n"
       ]
      },
      {
       "output_type": "stream",
       "stream": "stderr",
       "text": [
        "[2013-10-31 13:06:35] DEBUG: Creating DMI object with method box-matrix-petsc, in Jacobian.\n"
       ]
      },
      {
       "output_type": "stream",
       "stream": "stderr",
       "text": [
        "[2013-10-31 13:06:35] DEBUG: Adding interaction <finmag.energies.dmi.DMI object at 0x5994150> to simulation 'skyrmion'\n"
       ]
      },
      {
       "output_type": "stream",
       "stream": "stderr",
       "text": [
        "[2013-10-31 13:06:35] DEBUG: Successfuly created simulation 'skyrmion'\n"
       ]
      }
     ],
     "prompt_number": 4
    },
    {
     "cell_type": "markdown",
     "metadata": {},
     "source": [
      "The parameter ``name`` that is given to the ``sim_with`` creation function sets the name of the simulation. This is used to store the spatially averaged magnetisation data in the ``ndt`` file: the file will be called ``skyrmion.ndt`` if the simulation name is ``skyrmion``. "
     ]
    },
    {
     "cell_type": "markdown",
     "metadata": {},
     "source": [
      "The simulation is executed for $0.3 \\mathrm{ns}$ by typing the following command. This opertion may take a few minutes."
     ]
    },
    {
     "cell_type": "code",
     "collapsed": false,
     "input": [
      "sim1.run_until(0.3e-9)"
     ],
     "language": "python",
     "metadata": {},
     "outputs": [
      {
       "output_type": "stream",
       "stream": "stderr",
       "text": [
        "[2013-10-31 13:06:35] INFO: Create integrator sundials with kwargs={}\n"
       ]
      },
      {
       "output_type": "stream",
       "stream": "stderr",
       "text": [
        "[2013-10-31 13:06:35] DEBUG: Creating integrator with backend sundials.\n"
       ]
      },
      {
       "output_type": "stream",
       "stream": "stderr",
       "text": [
        "[2013-10-31 13:06:35] INFO: Simulation will run until t = 3e-10 s.\n"
       ]
      },
      {
       "output_type": "stream",
       "stream": "stderr",
       "text": [
        "[2013-10-31 13:07:14] INFO: Simulation has reached time t = 3e-10 s.\n"
       ]
      }
     ],
     "prompt_number": 5
    },
    {
     "cell_type": "markdown",
     "metadata": {},
     "source": [
      "After the calculation has finished, a ``pvd`` file can be saved which can be viewed with any VTK compatible program (such as ParaViev, MayaVi, Visit)."
     ]
    },
    {
     "cell_type": "code",
     "collapsed": false,
     "input": [
      "sim1.save_vtk('skyrmion.pvd', overwrite=True)"
     ],
     "language": "python",
     "metadata": {},
     "outputs": [
      {
       "output_type": "stream",
       "stream": "stderr",
       "text": [
        "[2013-10-31 13:07:14] DEBUG: Saved field at t=3e-10 to file 'skyrmion.pvd' (snapshot #0; saving took 0.0279 seconds).\n"
       ]
      }
     ],
     "prompt_number": 6
    },
    {
     "cell_type": "markdown",
     "metadata": {},
     "source": [
      "or alternatively, displayed in Dolfin's Viper plot tool."
     ]
    },
    {
     "cell_type": "code",
     "collapsed": false,
     "input": [
      "df.plot(sim1.llg._m)"
     ],
     "language": "python",
     "metadata": {},
     "outputs": [
      {
       "output_type": "pyout",
       "prompt_number": 7,
       "text": [
        "<dolfin.cpp.io.VTKPlotter; proxy of <Swig Object of type 'boost::shared_ptr< dolfin::VTKPlotter > *' at 0x558d3f0> >"
       ]
      }
     ],
     "prompt_number": 7
    },
    {
     "cell_type": "markdown",
     "metadata": {},
     "source": [
      "###Helical state simulation"
     ]
    },
    {
     "cell_type": "markdown",
     "metadata": {},
     "source": [
      "The following script runs the simulation with the helical state as a result of simulation and saves it into **helical.pvd** file."
     ]
    },
    {
     "cell_type": "code",
     "collapsed": false,
     "input": [
      "import dolfin as df\n",
      "import finmag\n",
      "\n",
      "mesh = df.BoxMesh(0,0,0,50e-9,50e-9,1e-9,50,50,1)\n",
      "sim2 = finmag.sim_with(mesh, name='helical', Ms=8e5, m_init=[1,0,0], A=1e-11, D=6.98e-3, demag_solver=None, H_ext=[0,0,0])\n",
      "sim2.run_until(0.3e-9)\n",
      "sim2.save_vtk('helical.pvd', overwrite=True)"
     ],
     "language": "python",
     "metadata": {},
     "outputs": [
      {
       "output_type": "stream",
       "stream": "stderr",
       "text": [
        "[2013-10-31 13:07:33] INFO: Finmag logging output will be written to file: '/home/mark/finmag/doc/ipython_notebooks_src/helical.log' (any old content will be overwritten).\n"
       ]
      },
      {
       "output_type": "stream",
       "stream": "stderr",
       "text": [
        "[2013-10-31 13:07:33] DEBUG: Creating DataWriter for file 'helical.ndt'\n"
       ]
      },
      {
       "output_type": "stream",
       "stream": "stderr",
       "text": [
        "[2013-10-31 13:07:33] INFO: Creating Sim object 'helical' (rank=0/1).\n"
       ]
      },
      {
       "output_type": "stream",
       "stream": "stderr",
       "text": [
        "[2013-10-31 13:07:33] INFO: <Mesh of topological dimension 3 (tetrahedra) with 5202 vertices and 15000 cells, ordered>\n"
       ]
      },
      {
       "output_type": "stream",
       "stream": "stderr",
       "text": [
        "[2013-10-31 13:07:33] DEBUG: Creating LLG object.\n"
       ]
      },
      {
       "output_type": "stream",
       "stream": "stderr",
       "text": [
        "[2013-10-31 13:07:33] DEBUG: Creating Exchange object with method box-matrix-petsc, in Jacobian.\n"
       ]
      },
      {
       "output_type": "stream",
       "stream": "stderr",
       "text": [
        "[2013-10-31 13:07:33] DEBUG: Adding interaction <finmag.energies.exchange.Exchange object at 0x7648b50> to simulation 'helical'\n"
       ]
      },
      {
       "output_type": "stream",
       "stream": "stderr",
       "text": [
        "[2013-10-31 13:07:33] DEBUG: Adding interaction <finmag.energies.zeeman.Zeeman object at 0x765b150> to simulation 'helical'\n"
       ]
      },
      {
       "output_type": "stream",
       "stream": "stderr",
       "text": [
        "[2013-10-31 13:07:33] DEBUG: Creating DMI object with method box-matrix-petsc, in Jacobian.\n"
       ]
      },
      {
       "output_type": "stream",
       "stream": "stderr",
       "text": [
        "[2013-10-31 13:07:33] DEBUG: Adding interaction <finmag.energies.dmi.DMI object at 0x7649ed0> to simulation 'helical'\n"
       ]
      },
      {
       "output_type": "stream",
       "stream": "stderr",
       "text": [
        "[2013-10-31 13:07:34] DEBUG: Successfuly created simulation 'helical'\n"
       ]
      },
      {
       "output_type": "stream",
       "stream": "stderr",
       "text": [
        "[2013-10-31 13:07:34] INFO: Create integrator sundials with kwargs={}\n"
       ]
      },
      {
       "output_type": "stream",
       "stream": "stderr",
       "text": [
        "[2013-10-31 13:07:34] DEBUG: Creating integrator with backend sundials.\n"
       ]
      },
      {
       "output_type": "stream",
       "stream": "stderr",
       "text": [
        "[2013-10-31 13:07:34] INFO: Simulation will run until t = 3e-10 s.\n"
       ]
      },
      {
       "output_type": "stream",
       "stream": "stderr",
       "text": [
        "[2013-10-31 13:08:40] INFO: Simulation has reached time t = 3e-10 s.\n"
       ]
      },
      {
       "output_type": "stream",
       "stream": "stderr",
       "text": [
        "[2013-10-31 13:08:40] DEBUG: Saved field at t=3e-10 to file 'helical.pvd' (snapshot #0; saving took 0.0279 seconds).\n"
       ]
      }
     ],
     "prompt_number": 9
    },
    {
     "cell_type": "markdown",
     "metadata": {},
     "source": [
      "Alternatively, the magnetisation state can be visualised with:"
     ]
    },
    {
     "cell_type": "code",
     "collapsed": false,
     "input": [
      "df.plot(sim2.llg._m)"
     ],
     "language": "python",
     "metadata": {},
     "outputs": [
      {
       "output_type": "pyout",
       "prompt_number": 10,
       "text": [
        "<dolfin.cpp.io.VTKPlotter; proxy of <Swig Object of type 'boost::shared_ptr< dolfin::VTKPlotter > *' at 0x7641600> >"
       ]
      }
     ],
     "prompt_number": 10
    },
    {
     "cell_type": "markdown",
     "metadata": {},
     "source": [
      "###Ferromagnetic state simulation"
     ]
    },
    {
     "cell_type": "markdown",
     "metadata": {},
     "source": [
      "By increasing the external magnetic field dramatically, ferromagnetic state emerges from the simulation."
     ]
    },
    {
     "cell_type": "code",
     "collapsed": false,
     "input": [
      "import dolfin as df\n",
      "import finmag\n",
      "\n",
      "mesh = df.BoxMesh(0,0,0,50e-9,50e-9,1e-9,50,50,1)\n",
      "sim3 = finmag.sim_with(mesh, name='ferromagnetic', Ms=8e5, m_init=[1,0,0], A=1e-11, D=6.98e-3, demag_solver=None, H_ext=[0,0,1e8])\n",
      "sim3.run_until(0.3e-9)\n",
      "sim3.save_vtk('ferromagnetic.pvd', overwrite=True)"
     ],
     "language": "python",
     "metadata": {},
     "outputs": [
      {
       "output_type": "stream",
       "stream": "stderr",
       "text": [
        "[2013-10-31 13:08:41] INFO: Finmag logging output will be written to file: '/home/mark/finmag/doc/ipython_notebooks_src/ferromagnetic.log' (any old content will be overwritten).\n"
       ]
      },
      {
       "output_type": "stream",
       "stream": "stderr",
       "text": [
        "[2013-10-31 13:08:41] DEBUG: Creating DataWriter for file 'ferromagnetic.ndt'\n"
       ]
      },
      {
       "output_type": "stream",
       "stream": "stderr",
       "text": [
        "[2013-10-31 13:08:41] INFO: Creating Sim object 'ferromagnetic' (rank=0/1).\n"
       ]
      },
      {
       "output_type": "stream",
       "stream": "stderr",
       "text": [
        "[2013-10-31 13:08:41] INFO: <Mesh of topological dimension 3 (tetrahedra) with 5202 vertices and 15000 cells, ordered>\n"
       ]
      },
      {
       "output_type": "stream",
       "stream": "stderr",
       "text": [
        "[2013-10-31 13:08:41] DEBUG: Creating LLG object.\n"
       ]
      },
      {
       "output_type": "stream",
       "stream": "stderr",
       "text": [
        "[2013-10-31 13:08:41] DEBUG: Creating Exchange object with method box-matrix-petsc, in Jacobian.\n"
       ]
      },
      {
       "output_type": "stream",
       "stream": "stderr",
       "text": [
        "[2013-10-31 13:08:41] DEBUG: Adding interaction <finmag.energies.exchange.Exchange object at 0x7662950> to simulation 'ferromagnetic'\n"
       ]
      },
      {
       "output_type": "stream",
       "stream": "stderr",
       "text": [
        "[2013-10-31 13:08:41] DEBUG: Adding interaction <finmag.energies.zeeman.Zeeman object at 0x7670e10> to simulation 'ferromagnetic'\n"
       ]
      },
      {
       "output_type": "stream",
       "stream": "stderr",
       "text": [
        "[2013-10-31 13:08:41] DEBUG: Creating DMI object with method box-matrix-petsc, in Jacobian.\n"
       ]
      },
      {
       "output_type": "stream",
       "stream": "stderr",
       "text": [
        "[2013-10-31 13:08:41] DEBUG: Adding interaction <finmag.energies.dmi.DMI object at 0x7677bd0> to simulation 'ferromagnetic'\n"
       ]
      },
      {
       "output_type": "stream",
       "stream": "stderr",
       "text": [
        "[2013-10-31 13:08:42] DEBUG: Successfuly created simulation 'ferromagnetic'\n"
       ]
      },
      {
       "output_type": "stream",
       "stream": "stderr",
       "text": [
        "[2013-10-31 13:08:42] INFO: Create integrator sundials with kwargs={}\n"
       ]
      },
      {
       "output_type": "stream",
       "stream": "stderr",
       "text": [
        "[2013-10-31 13:08:42] DEBUG: Creating integrator with backend sundials.\n"
       ]
      },
      {
       "output_type": "stream",
       "stream": "stderr",
       "text": [
        "[2013-10-31 13:08:42] INFO: Simulation will run until t = 3e-10 s.\n"
       ]
      },
      {
       "output_type": "stream",
       "stream": "stderr",
       "text": [
        "[2013-10-31 13:08:44] INFO: Simulation has reached time t = 3e-10 s.\n"
       ]
      },
      {
       "output_type": "stream",
       "stream": "stderr",
       "text": [
        "[2013-10-31 13:08:45] DEBUG: Saved field at t=3e-10 to file 'ferromagnetic.pvd' (snapshot #0; saving took 0.0276 seconds).\n"
       ]
      }
     ],
     "prompt_number": 11
    },
    {
     "cell_type": "markdown",
     "metadata": {},
     "source": [
      "Previously simulated state can also be visualised with the following command."
     ]
    },
    {
     "cell_type": "code",
     "collapsed": false,
     "input": [
      "df.plot(sim3.llg._m)"
     ],
     "language": "python",
     "metadata": {},
     "outputs": [
      {
       "output_type": "pyout",
       "prompt_number": 12,
       "text": [
        "<dolfin.cpp.io.VTKPlotter; proxy of <Swig Object of type 'boost::shared_ptr< dolfin::VTKPlotter > *' at 0x7666180> >"
       ]
      }
     ],
     "prompt_number": 12
    }
   ],
   "metadata": {}
  }
 ]
}