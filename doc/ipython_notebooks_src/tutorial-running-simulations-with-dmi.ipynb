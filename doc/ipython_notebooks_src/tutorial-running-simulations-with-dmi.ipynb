{
 "metadata": {
  "name": "tutorial-running-simulations-with-dmi"
 },
 "nbformat": 3,
 "nbformat_minor": 0,
 "worksheets": [
  {
   "cells": [
    {
     "cell_type": "markdown",
     "metadata": {},
     "source": [
      "##Running simulations with Dzyaloshinskii-Moriya interaction (DMI)"
     ]
    },
    {
     "cell_type": "markdown",
     "metadata": {},
     "source": [
      "Similar to the DMI interactions tutorial, this tutorial runs the same set of simulations by using much simpler simulation code. In particular, in this code, finmag's function **sim_with** is used."
     ]
    },
    {
     "cell_type": "markdown",
     "metadata": {},
     "source": [
      "###Skyrmion state simulation"
     ]
    },
    {
     "cell_type": "markdown",
     "metadata": {},
     "source": [
      "In this case, a much smaller set of modules is used. The modules which should be imported are:"
     ]
    },
    {
     "cell_type": "code",
     "collapsed": false,
     "input": [
      "import dolfin as df\n",
      "import finmag"
     ],
     "language": "python",
     "metadata": {},
     "outputs": [],
     "prompt_number": 30
    },
    {
     "cell_type": "markdown",
     "metadata": {},
     "source": [
      "The next step is to create a mesh for thin film sample with dimensions: $x = 50$ nm, $y = 50$ nm and thickess $z = 1$ nm. Number of vertices is chosen such that their spacing is $1$ nm, thus, $n_\\mathrm{x}=50$, $n_\\mathrm{y}=50$ and $n_\\mathrm{z}=1$."
     ]
    },
    {
     "cell_type": "code",
     "collapsed": false,
     "input": [
      "mesh = df.Box(0,0,0,50e-9,50e-9,1e-9,50,50,1)"
     ],
     "language": "python",
     "metadata": {},
     "outputs": [],
     "prompt_number": 31
    },
    {
     "cell_type": "markdown",
     "metadata": {},
     "source": [
      "At this point, the simulation can be executed by using the **sim_with** method. This function requires the following set of arguments with used values in brackets:\n",
      "\n",
      "* mesh\n",
      "* magnetisation saturation ($M_\\mathrm{S}=8\\cdot10^{5} \\mathrm{A/m}$)\n",
      "* initial state of magnetisation ($[1,0,0]$)\n",
      "* exchange energy constant ($A=1\\cdot10^{-11} \\mathrm{J/m}$)\n",
      "* DMI energy constant ($D=6.98\\cdot10^{-3} \\mathrm{J/m^{2}}$)\n",
      "* demagnetisation energy flag (since demagnetisation is not simulated, this flag should be kept as None)\n",
      "* external field ($H_\\mathrm{ex}=[0,0,1600000]\\mathrm{A/m}$)\n",
      "\n",
      "Exchange and DMI energies are calculated using following expressions:\n",
      "\\begin{equation} E_\\mathrm{ex} = A\\int_{\\Omega}(\\nabla \\vec{M})^{2} \\mathrm{d}V \\end{equation} \n",
      "\\begin{equation} E_{dmi}=D\\int_{\\Omega}\\vec{M}\\cdot(\\nabla\\times\\vec{M})\\mathrm{d}V \\end{equation}\n",
      "\n",
      "According to this, **sim_with** function can be executed by typing:"
     ]
    },
    {
     "cell_type": "code",
     "collapsed": false,
     "input": [
      "sim1 = finmag.sim_with(mesh, Ms=8e5, m_init=[1,0,0], A=1e-11, D=6.98e-3, demag_solver=None, H_ext=[0,0,1600000])"
     ],
     "language": "python",
     "metadata": {},
     "outputs": [
      {
       "output_type": "stream",
       "stream": "stderr",
       "text": [
        "[2012-12-10 13:03:45] INFO: Finmag logging output will be appended to file: '/home/mb4e10/finmag/doc/ipython_notebooks_src/unnamed.log'\n"
       ]
      },
      {
       "output_type": "stream",
       "stream": "stderr",
       "text": [
        "[2012-12-10 13:03:45] DEBUG: Creating DataWriter for file 'unnamed.ndt'\n"
       ]
      },
      {
       "output_type": "stream",
       "stream": "stderr",
       "text": [
        "[2012-12-10 13:03:45] INFO: Creating Sim object 'unnamed' (rank=0/1) [Mon Dec 10 13:03:45 2012].\n"
       ]
      },
      {
       "output_type": "stream",
       "stream": "stderr",
       "text": [
        "[2012-12-10 13:03:45] INFO: <Mesh of topological dimension 3 (tetrahedra) with 5202 vertices and 15000 cells, ordered>\n"
       ]
      },
      {
       "output_type": "stream",
       "stream": "stderr",
       "text": [
        "[2012-12-10 13:03:45] DEBUG: Creating LLG object.\n"
       ]
      },
      {
       "output_type": "stream",
       "stream": "stderr",
       "text": [
        "[2012-12-10 13:03:45] DEBUG: Creating Exchange object with method box-matrix-petsc, in Jacobian.\n"
       ]
      },
      {
       "output_type": "stream",
       "stream": "stderr",
       "text": [
        "[2012-12-10 13:03:45] DEBUG: Adding interaction <finmag.energies.exchange.Exchange object at 0xb4dabd0> to simulation 'unnamed'\n"
       ]
      },
      {
       "output_type": "stream",
       "stream": "stderr",
       "text": [
        "[2012-12-10 13:03:45] DEBUG: Adding interaction <finmag.energies.zeeman.Zeeman object at 0xb500510> to simulation 'unnamed'\n"
       ]
      },
      {
       "output_type": "stream",
       "stream": "stderr",
       "text": [
        "[2012-12-10 13:03:45] DEBUG: Creating DMI object with method box-matrix-petsc, in Jacobian.\n"
       ]
      },
      {
       "output_type": "stream",
       "stream": "stderr",
       "text": [
        "[2012-12-10 13:03:45] DEBUG: Adding interaction <finmag.energies.dmi.DMI object at 0xb500150> to simulation 'unnamed'\n"
       ]
      }
     ],
     "prompt_number": 32
    },
    {
     "cell_type": "markdown",
     "metadata": {},
     "source": [
      "The simulation is executed for $0.3 \\mathrm{ns}$ by typing the following command. This opertion may take a few minutes."
     ]
    },
    {
     "cell_type": "code",
     "collapsed": false,
     "input": [
      "sim1.run_until(0.3e-9)"
     ],
     "language": "python",
     "metadata": {},
     "outputs": [
      {
       "output_type": "stream",
       "stream": "stderr",
       "text": [
        "[2012-12-10 13:03:46] DEBUG: Creating LLGIntegrator with backend sundials.\n"
       ]
      }
     ],
     "prompt_number": 33
    },
    {
     "cell_type": "markdown",
     "metadata": {},
     "source": [
      "After the simulation is finished, **.pvd** file can be saved."
     ]
    },
    {
     "cell_type": "code",
     "collapsed": false,
     "input": [
      "sim1.snapshot('skyrmion.pvd', force_overwrite=True)"
     ],
     "language": "python",
     "metadata": {},
     "outputs": [
      {
       "output_type": "stream",
       "stream": "stderr",
       "text": [
        "[2012-12-10 13:04:35] WARNING: Removing file 'skyrmion.pvd' and all associated .vtu files (because force_overwrite=True).\n"
       ]
      },
      {
       "output_type": "stream",
       "stream": "stderr",
       "text": [
        "[2012-12-10 13:04:35] INFO: Saved snapshot of magnetisation at t=3e-10 to file 'skyrmion.pvd' (saving took 0.028 seconds).\n"
       ]
      }
     ],
     "prompt_number": 34
    },
    {
     "cell_type": "markdown",
     "metadata": {},
     "source": [
      "or alternatively, displayed in Dolfin's Viper plot tool."
     ]
    },
    {
     "cell_type": "code",
     "collapsed": false,
     "input": [
      "df.plot(sim1.llg._m)"
     ],
     "language": "python",
     "metadata": {},
     "outputs": [
      {
       "output_type": "pyout",
       "prompt_number": 35,
       "text": [
        "<viper.viper_dolfin.Viper at 0x6424510>"
       ]
      }
     ],
     "prompt_number": 35
    },
    {
     "cell_type": "markdown",
     "metadata": {},
     "source": [
      "###Helical state simulation"
     ]
    },
    {
     "cell_type": "markdown",
     "metadata": {},
     "source": [
      "The following script runs the simulation with the helical state as a result of simulation and saves it into **helical.pvd** file."
     ]
    },
    {
     "cell_type": "code",
     "collapsed": false,
     "input": [
      "import dolfin as df\n",
      "import finmag\n",
      "\n",
      "mesh = df.Box(0,0,0,50e-9,50e-9,1e-9,50,50,1)\n",
      "\n",
      "sim2 = finmag.sim_with(mesh, Ms=8e5, m_init=[1,0,0], A=1e-11, D=6.98e-3, demag_solver=None, H_ext=[0,0,0])\n",
      "\n",
      "sim2.run_until(0.3e-9)\n",
      "\n",
      "sim2.snapshot('helical.pvd', force_overwrite=True)"
     ],
     "language": "python",
     "metadata": {},
     "outputs": [
      {
       "output_type": "stream",
       "stream": "stderr",
       "text": [
        "[2012-12-10 13:04:36] INFO: Finmag logging output will be appended to file: '/home/mb4e10/finmag/doc/ipython_notebooks_src/unnamed.log'\n"
       ]
      },
      {
       "output_type": "stream",
       "stream": "stderr",
       "text": [
        "[2012-12-10 13:04:36] DEBUG: Creating DataWriter for file 'unnamed.ndt'\n"
       ]
      },
      {
       "output_type": "stream",
       "stream": "stderr",
       "text": [
        "[2012-12-10 13:04:36] INFO: Creating Sim object 'unnamed' (rank=0/1) [Mon Dec 10 13:04:36 2012].\n"
       ]
      },
      {
       "output_type": "stream",
       "stream": "stderr",
       "text": [
        "[2012-12-10 13:04:36] INFO: <Mesh of topological dimension 3 (tetrahedra) with 5202 vertices and 15000 cells, ordered>\n"
       ]
      },
      {
       "output_type": "stream",
       "stream": "stderr",
       "text": [
        "[2012-12-10 13:04:36] DEBUG: Creating LLG object.\n"
       ]
      },
      {
       "output_type": "stream",
       "stream": "stderr",
       "text": [
        "[2012-12-10 13:04:36] DEBUG: Creating Exchange object with method box-matrix-petsc, in Jacobian.\n"
       ]
      },
      {
       "output_type": "stream",
       "stream": "stderr",
       "text": [
        "[2012-12-10 13:04:36] DEBUG: Adding interaction <finmag.energies.exchange.Exchange object at 0x640c150> to simulation 'unnamed'\n"
       ]
      },
      {
       "output_type": "stream",
       "stream": "stderr",
       "text": [
        "[2012-12-10 13:04:37] DEBUG: Adding interaction <finmag.energies.zeeman.Zeeman object at 0x641d490> to simulation 'unnamed'\n"
       ]
      },
      {
       "output_type": "stream",
       "stream": "stderr",
       "text": [
        "[2012-12-10 13:04:37] DEBUG: Creating DMI object with method box-matrix-petsc, in Jacobian.\n"
       ]
      },
      {
       "output_type": "stream",
       "stream": "stderr",
       "text": [
        "[2012-12-10 13:04:37] DEBUG: Adding interaction <finmag.energies.dmi.DMI object at 0x6427510> to simulation 'unnamed'\n"
       ]
      },
      {
       "output_type": "stream",
       "stream": "stderr",
       "text": [
        "[2012-12-10 13:04:37] DEBUG: Creating LLGIntegrator with backend sundials.\n"
       ]
      },
      {
       "output_type": "stream",
       "stream": "stderr",
       "text": [
        "[2012-12-10 13:05:20] WARNING: Removing file 'helical.pvd' and all associated .vtu files (because force_overwrite=True).\n"
       ]
      },
      {
       "output_type": "stream",
       "stream": "stderr",
       "text": [
        "[2012-12-10 13:05:20] INFO: Saved snapshot of magnetisation at t=3e-10 to file 'helical.pvd' (saving took 0.0312 seconds).\n"
       ]
      }
     ],
     "prompt_number": 36
    },
    {
     "cell_type": "markdown",
     "metadata": {},
     "source": [
      "Alternatively, the magnetisation state can be visualised with:"
     ]
    },
    {
     "cell_type": "code",
     "collapsed": false,
     "input": [
      "df.plot(sim2.llg._m)"
     ],
     "language": "python",
     "metadata": {},
     "outputs": [
      {
       "output_type": "pyout",
       "prompt_number": 37,
       "text": [
        "<viper.viper_dolfin.Viper at 0x6430850>"
       ]
      }
     ],
     "prompt_number": 37
    },
    {
     "cell_type": "markdown",
     "metadata": {},
     "source": [
      "###Ferromagnetic state simulation"
     ]
    },
    {
     "cell_type": "markdown",
     "metadata": {},
     "source": [
      "By increasing the external magnetic field dramatically, ferromagnetic state emerges from the simulation."
     ]
    },
    {
     "cell_type": "code",
     "collapsed": false,
     "input": [
      "import dolfin as df\n",
      "import finmag\n",
      "\n",
      "mesh = df.Box(0,0,0,50e-9,50e-9,1e-9,50,50,1)\n",
      "\n",
      "sim3 = finmag.sim_with(mesh, Ms=8e5, m_init=[1,0,0], A=1e-11, D=6.98e-3, demag_solver=None, H_ext=[0,0,1e8])\n",
      "\n",
      "sim3.run_until(0.3e-9)\n",
      "\n",
      "sim3.snapshot('ferromagnetic.pvd', force_overwrite=True)"
     ],
     "language": "python",
     "metadata": {},
     "outputs": [
      {
       "output_type": "stream",
       "stream": "stderr",
       "text": [
        "[2012-12-10 13:05:21] INFO: Finmag logging output will be appended to file: '/home/mb4e10/finmag/doc/ipython_notebooks_src/unnamed.log'\n"
       ]
      },
      {
       "output_type": "stream",
       "stream": "stderr",
       "text": [
        "[2012-12-10 13:05:21] DEBUG: Creating DataWriter for file 'unnamed.ndt'\n"
       ]
      },
      {
       "output_type": "stream",
       "stream": "stderr",
       "text": [
        "[2012-12-10 13:05:21] INFO: Creating Sim object 'unnamed' (rank=0/1) [Mon Dec 10 13:05:21 2012].\n"
       ]
      },
      {
       "output_type": "stream",
       "stream": "stderr",
       "text": [
        "[2012-12-10 13:05:21] INFO: <Mesh of topological dimension 3 (tetrahedra) with 5202 vertices and 15000 cells, ordered>\n"
       ]
      },
      {
       "output_type": "stream",
       "stream": "stderr",
       "text": [
        "[2012-12-10 13:05:21] DEBUG: Creating LLG object.\n"
       ]
      },
      {
       "output_type": "stream",
       "stream": "stderr",
       "text": [
        "[2012-12-10 13:05:21] DEBUG: Creating Exchange object with method box-matrix-petsc, in Jacobian.\n"
       ]
      },
      {
       "output_type": "stream",
       "stream": "stderr",
       "text": [
        "[2012-12-10 13:05:21] DEBUG: Adding interaction <finmag.energies.exchange.Exchange object at 0x442db90> to simulation 'unnamed'\n"
       ]
      },
      {
       "output_type": "stream",
       "stream": "stderr",
       "text": [
        "[2012-12-10 13:05:22] DEBUG: Adding interaction <finmag.energies.zeeman.Zeeman object at 0xb4fb750> to simulation 'unnamed'\n"
       ]
      },
      {
       "output_type": "stream",
       "stream": "stderr",
       "text": [
        "[2012-12-10 13:05:22] DEBUG: Creating DMI object with method box-matrix-petsc, in Jacobian.\n"
       ]
      },
      {
       "output_type": "stream",
       "stream": "stderr",
       "text": [
        "[2012-12-10 13:05:22] DEBUG: Adding interaction <finmag.energies.dmi.DMI object at 0xb4fb8d0> to simulation 'unnamed'\n"
       ]
      },
      {
       "output_type": "stream",
       "stream": "stderr",
       "text": [
        "[2012-12-10 13:05:22] DEBUG: Creating LLGIntegrator with backend sundials.\n"
       ]
      },
      {
       "output_type": "stream",
       "stream": "stderr",
       "text": [
        "[2012-12-10 13:05:25] WARNING: Removing file 'ferromagnetic.pvd' and all associated .vtu files (because force_overwrite=True).\n"
       ]
      },
      {
       "output_type": "stream",
       "stream": "stderr",
       "text": [
        "[2012-12-10 13:05:25] INFO: Saved snapshot of magnetisation at t=3e-10 to file 'ferromagnetic.pvd' (saving took 0.0346 seconds).\n"
       ]
      }
     ],
     "prompt_number": 38
    },
    {
     "cell_type": "markdown",
     "metadata": {},
     "source": [
      "Previously simulated state can also be visualised with the following command."
     ]
    },
    {
     "cell_type": "code",
     "collapsed": false,
     "input": [
      "df.plot(sim3.llg._m)"
     ],
     "language": "python",
     "metadata": {},
     "outputs": [
      {
       "output_type": "pyout",
       "prompt_number": 39,
       "text": [
        "<viper.viper_dolfin.Viper at 0x6430790>"
       ]
      }
     ],
     "prompt_number": 39
    }
   ],
   "metadata": {}
  }
 ]
}