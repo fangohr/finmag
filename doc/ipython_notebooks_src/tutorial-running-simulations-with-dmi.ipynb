{
 "metadata": {
  "name": ""
 },
 "nbformat": 3,
 "nbformat_minor": 0,
 "worksheets": [
  {
   "cells": [
    {
     "cell_type": "markdown",
     "metadata": {},
     "source": [
      "## Running simulations with Dzyaloshinskii-Moriya interaction (DMI)"
     ]
    },
    {
     "cell_type": "markdown",
     "metadata": {},
     "source": [
      "This tutorial runs a set of simulations with DMI where we use finmag's function ``sim_with`` to conveniently create the simulation object."
     ]
    },
    {
     "cell_type": "markdown",
     "metadata": {},
     "source": [
      "###Skyrmion state simulation"
     ]
    },
    {
     "cell_type": "code",
     "collapsed": false,
     "input": [
      "import dolfin as df\n",
      "import finmag"
     ],
     "language": "python",
     "metadata": {},
     "outputs": [
      {
       "output_type": "stream",
       "stream": "stderr",
       "text": [
        "[2013-10-11 10:35:42] INFO: Finmag logging output will be appended to file: '/home/ww1g11/.finmag/global.log'\n"
       ]
      },
      {
       "output_type": "stream",
       "stream": "stderr",
       "text": [
        "[2013-10-11 10:35:42] DEBUG: Building modules in 'native'...\n"
       ]
      },
      {
       "output_type": "stream",
       "stream": "stderr",
       "text": [
        "[2013-10-11 10:35:42] DEBUG:               Finmag: 3952:093031e37dafec037ef3827a9a32666783f5388f\n"
       ]
      },
      {
       "output_type": "stream",
       "stream": "stderr",
       "text": [
        "[2013-10-11 10:35:42] DEBUG:               Dolfin: 1.2.0\n"
       ]
      },
      {
       "output_type": "stream",
       "stream": "stderr",
       "text": [
        "[2013-10-11 10:35:42] DEBUG:           Matplotlib: 1.2.1\n"
       ]
      },
      {
       "output_type": "stream",
       "stream": "stderr",
       "text": [
        "[2013-10-11 10:35:42] DEBUG:                Numpy: 1.7.1\n"
       ]
      },
      {
       "output_type": "stream",
       "stream": "stderr",
       "text": [
        "[2013-10-11 10:35:42] DEBUG:                Scipy: 0.11.0\n"
       ]
      },
      {
       "output_type": "stream",
       "stream": "stderr",
       "text": [
        "[2013-10-11 10:35:42] DEBUG:              IPython: 1.1.0\n"
       ]
      },
      {
       "output_type": "stream",
       "stream": "stderr",
       "text": [
        "[2013-10-11 10:35:42] DEBUG:               Python: 2.7.4\n"
       ]
      },
      {
       "output_type": "stream",
       "stream": "stderr",
       "text": [
        "[2013-10-11 10:35:42] DEBUG:             Paraview: 3.98.0-1~exp1\n"
       ]
      },
      {
       "output_type": "stream",
       "stream": "stderr",
       "text": [
        "[2013-10-11 10:35:42] DEBUG:             Sundials: 2.5.0-3\n"
       ]
      },
      {
       "output_type": "stream",
       "stream": "stderr",
       "text": [
        "[2013-10-11 10:35:42] DEBUG:         Boost-Python: 1.49.0\n"
       ]
      },
      {
       "output_type": "stream",
       "stream": "stderr",
       "text": [
        "[2013-10-11 10:35:42] DEBUG:                Linux: Linux Mint 15 Olivia\n"
       ]
      }
     ],
     "prompt_number": 1
    },
    {
     "cell_type": "markdown",
     "metadata": {},
     "source": [
      "The next step is to create a mesh for thin film sample with dimensions: $x = 50$ nm, $y = 50$ nm and thickess $z = 1$ nm. Number of vertices is chosen such that their spacing is $1$ nm, thus, $n_\\mathrm{x}=50$, $n_\\mathrm{y}=50$ and $n_\\mathrm{z}=1$."
     ]
    },
    {
     "cell_type": "code",
     "collapsed": false,
     "input": [
      "mesh = df.BoxMesh(0,0,0,50e-9,50e-9,1e-9,50,50,1)"
     ],
     "language": "python",
     "metadata": {},
     "outputs": [],
     "prompt_number": 2
    },
    {
     "cell_type": "markdown",
     "metadata": {},
     "source": [
      "At this point, the simulation can be executed by using the ``sim_with`` method. This function requires the following set of arguments with used values in brackets:\n",
      "\n",
      "* mesh\n",
      "* magnetisation saturation ($M_\\mathrm{S}=8\\cdot10^{5} \\mathrm{A/m}$)\n",
      "* initial state of magnetisation ($[1,0,0]$)\n",
      "* exchange energy constant ($A=1\\cdot10^{-11} \\mathrm{J/m}$)\n",
      "* DMI energy constant ($D=6.98\\cdot10^{-3} \\mathrm{J/m^{2}}$)\n",
      "* demagnetisation energy flag (since demagnetisation is not simulated, this flag should be kept as None)\n",
      "* external field ($H_\\mathrm{ex}=[0,0,1600000]\\mathrm{A/m}$)\n",
      "\n",
      "Exchange and DMI energies are calculated using following expressions:\n",
      "\\begin{equation} E_\\mathrm{ex} = A\\int_{\\Omega}(\\nabla \\vec{M})^{2} \\mathrm{d}V \\end{equation} \n",
      "\\begin{equation} E_{dmi}=D\\int_{\\Omega}\\vec{M}\\cdot(\\nabla\\times\\vec{M})\\mathrm{d}V \\end{equation}\n",
      "\n",
      "According to this, ``sim_with`` function can be executed by typing:"
     ]
    },
    {
     "cell_type": "code",
     "collapsed": false,
     "input": [
      "sim1 = finmag.sim_with(mesh, name='skyrmion', Ms=8e5, m_init=[1,0,0], A=1e-11, D=6.98e-3, demag_solver=None, H_ext=[0,0,1600000])"
     ],
     "language": "python",
     "metadata": {},
     "outputs": [
      {
       "output_type": "stream",
       "stream": "stderr",
       "text": [
        "[2013-10-11 10:35:43] INFO: Finmag logging output will be written to file: '/home/ww1g11/Softwares/finmag/doc/ipython_notebooks_src/skyrmion.log' (any old content will be overwritten).\n"
       ]
      },
      {
       "output_type": "stream",
       "stream": "stderr",
       "text": [
        "[2013-10-11 10:35:43] DEBUG: Creating DataWriter for file 'skyrmion.ndt'\n"
       ]
      },
      {
       "output_type": "stream",
       "stream": "stderr",
       "text": [
        "[2013-10-11 10:35:43] INFO: Creating Sim object 'skyrmion' (rank=0/1).\n"
       ]
      },
      {
       "output_type": "stream",
       "stream": "stderr",
       "text": [
        "[2013-10-11 10:35:43] INFO: <Mesh of topological dimension 3 (tetrahedra) with 5202 vertices and 15000 cells, ordered>\n"
       ]
      },
      {
       "output_type": "stream",
       "stream": "stderr",
       "text": [
        "[2013-10-11 10:35:43] DEBUG: Creating LLG object.\n"
       ]
      },
      {
       "output_type": "stream",
       "stream": "stderr",
       "text": [
        "[2013-10-11 10:35:43] DEBUG: Creating Exchange object with method box-matrix-petsc, in Jacobian.\n"
       ]
      },
      {
       "output_type": "stream",
       "stream": "stderr",
       "text": [
        "[2013-10-11 10:35:43] DEBUG: Adding interaction <finmag.energies.exchange.Exchange object at 0x3ed7ad0> to simulation 'skyrmion'\n"
       ]
      },
      {
       "output_type": "stream",
       "stream": "stderr",
       "text": [
        "[2013-10-11 10:35:43] DEBUG: Adding interaction <finmag.energies.zeeman.Zeeman object at 0x3ed7b50> to simulation 'skyrmion'\n"
       ]
      },
      {
       "output_type": "stream",
       "stream": "stderr",
       "text": [
        "[2013-10-11 10:35:43] DEBUG: Creating DMI object with method box-matrix-petsc, in Jacobian.\n"
       ]
      },
      {
       "output_type": "stream",
       "stream": "stderr",
       "text": [
        "[2013-10-11 10:35:43] DEBUG: Adding interaction <finmag.energies.dmi.DMI object at 0x42f5990> to simulation 'skyrmion'\n"
       ]
      },
      {
       "output_type": "stream",
       "stream": "stderr",
       "text": [
        "[2013-10-11 10:35:44] DEBUG: Successfuly created simulation 'skyrmion'\n"
       ]
      }
     ],
     "prompt_number": 3
    },
    {
     "cell_type": "markdown",
     "metadata": {},
     "source": [
      "The parameter ``name`` that is given to the ``sim_with`` creation function sets the name of the simulation. This is used to store the spatially averaged magnetisation data in the ``ndt`` file: the file will be called ``skyrmion.ndt`` if the simulation name is ``skyrmion``. "
     ]
    },
    {
     "cell_type": "markdown",
     "metadata": {},
     "source": [
      "The simulation is executed for $0.3 \\mathrm{ns}$ by typing the following command. This opertion may take a few minutes."
     ]
    },
    {
     "cell_type": "code",
     "collapsed": false,
     "input": [
      "sim1.run_until(0.3e-9)"
     ],
     "language": "python",
     "metadata": {},
     "outputs": [
      {
       "output_type": "stream",
       "stream": "stderr",
       "text": [
        "[2013-10-11 10:35:44] INFO: Create integrator sundials with kwargs={}\n"
       ]
      },
      {
       "output_type": "stream",
       "stream": "stderr",
       "text": [
        "[2013-10-11 10:35:44] DEBUG: Creating integrator with backend sundials.\n"
       ]
      },
      {
       "output_type": "stream",
       "stream": "stderr",
       "text": [
        "[2013-10-11 10:35:44] INFO: Simulation will run until t = 3e-10 s.\n"
       ]
      },
      {
       "output_type": "stream",
       "stream": "stderr",
       "text": [
        "[2013-10-11 10:37:37] INFO: Simulation has reached time t = 3e-10 s.\n"
       ]
      }
     ],
     "prompt_number": 4
    },
    {
     "cell_type": "markdown",
     "metadata": {},
     "source": [
      "After the calculation has finished, a ``pvd`` file can be saved which can be viewed with any VTK compatible program (such as ParaViev, MayaVi, Visit)."
     ]
    },
    {
     "cell_type": "code",
     "collapsed": false,
     "input": [
      "sim1.snapshot('skyrmion.pvd', force_overwrite=True)"
     ],
     "language": "python",
     "metadata": {},
     "outputs": [
      {
       "output_type": "stream",
       "stream": "stderr",
       "text": [
        "[2013-10-11 10:37:37] WARNING: Method 'snapshot' is deprecated. Use 'save_vtk' instead.\n"
       ]
      },
      {
       "ename": "AttributeError",
       "evalue": "'Simulation' object has no attribute 'vtk'",
       "output_type": "pyerr",
       "traceback": [
        "\u001b[1;31m---------------------------------------------------------------------------\u001b[0m\n\u001b[1;31mAttributeError\u001b[0m                            Traceback (most recent call last)",
        "\u001b[1;32m<ipython-input-5-9521a4b28ef9>\u001b[0m in \u001b[0;36m<module>\u001b[1;34m()\u001b[0m\n\u001b[1;32m----> 1\u001b[1;33m \u001b[0msim1\u001b[0m\u001b[1;33m.\u001b[0m\u001b[0msnapshot\u001b[0m\u001b[1;33m(\u001b[0m\u001b[1;34m'skyrmion.pvd'\u001b[0m\u001b[1;33m,\u001b[0m \u001b[0mforce_overwrite\u001b[0m\u001b[1;33m=\u001b[0m\u001b[0mTrue\u001b[0m\u001b[1;33m)\u001b[0m\u001b[1;33m\u001b[0m\u001b[0m\n\u001b[0m",
        "\u001b[1;32m/home/ww1g11/Softwares/finmag/src/finmag/sim/sim.so\u001b[0m in \u001b[0;36msim.sim.Simulation.snapshot (sim/sim.c:13039)\u001b[1;34m()\u001b[0m\n",
        "\u001b[1;31mAttributeError\u001b[0m: 'Simulation' object has no attribute 'vtk'"
       ]
      }
     ],
     "prompt_number": 5
    },
    {
     "cell_type": "markdown",
     "metadata": {},
     "source": [
      "or alternatively, displayed in Dolfin's Viper plot tool."
     ]
    },
    {
     "cell_type": "code",
     "collapsed": false,
     "input": [
      "df.plot(sim1.llg._m)"
     ],
     "language": "python",
     "metadata": {},
     "outputs": []
    },
    {
     "cell_type": "markdown",
     "metadata": {},
     "source": [
      "###Helical state simulation"
     ]
    },
    {
     "cell_type": "markdown",
     "metadata": {},
     "source": [
      "The following script runs the simulation with the helical state as a result of simulation and saves it into **helical.pvd** file."
     ]
    },
    {
     "cell_type": "code",
     "collapsed": false,
     "input": [
      "import dolfin as df\n",
      "import finmag\n",
      "\n",
      "mesh = df.Box(0,0,0,50e-9,50e-9,1e-9,50,50,1)\n",
      "sim2 = finmag.sim_with(mesh, name='helical', Ms=8e5, m_init=[1,0,0], A=1e-11, D=6.98e-3, demag_solver=None, H_ext=[0,0,0])\n",
      "sim2.run_until(0.3e-9)\n",
      "sim2.snapshot('helical.pvd', force_overwrite=True)"
     ],
     "language": "python",
     "metadata": {},
     "outputs": []
    },
    {
     "cell_type": "markdown",
     "metadata": {},
     "source": [
      "Alternatively, the magnetisation state can be visualised with:"
     ]
    },
    {
     "cell_type": "code",
     "collapsed": false,
     "input": [
      "df.plot(sim2.llg._m)"
     ],
     "language": "python",
     "metadata": {},
     "outputs": []
    },
    {
     "cell_type": "markdown",
     "metadata": {},
     "source": [
      "###Ferromagnetic state simulation"
     ]
    },
    {
     "cell_type": "markdown",
     "metadata": {},
     "source": [
      "By increasing the external magnetic field dramatically, ferromagnetic state emerges from the simulation."
     ]
    },
    {
     "cell_type": "code",
     "collapsed": false,
     "input": [
      "import dolfin as df\n",
      "import finmag\n",
      "\n",
      "mesh = df.BoxMesh(0,0,0,50e-9,50e-9,1e-9,50,50,1)\n",
      "sim3 = finmag.sim_with(mesh, name='ferromagnetic', Ms=8e5, m_init=[1,0,0], A=1e-11, D=6.98e-3, demag_solver=None, H_ext=[0,0,1e8])\n",
      "sim3.run_until(0.3e-9)\n",
      "sim3.snapshot('ferromagnetic.pvd', force_overwrite=True)"
     ],
     "language": "python",
     "metadata": {},
     "outputs": []
    },
    {
     "cell_type": "markdown",
     "metadata": {},
     "source": [
      "Previously simulated state can also be visualised with the following command."
     ]
    },
    {
     "cell_type": "code",
     "collapsed": false,
     "input": [
      "df.plot(sim3.llg._m)"
     ],
     "language": "python",
     "metadata": {},
     "outputs": []
    }
   ],
   "metadata": {}
  }
 ]
}