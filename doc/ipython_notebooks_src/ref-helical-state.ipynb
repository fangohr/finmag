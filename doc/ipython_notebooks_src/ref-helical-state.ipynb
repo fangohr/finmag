{
 "metadata": {
  "name": "",
  "signature": "sha256:0a60593892bc1320b576f5712a4939681dd75c186f5d0116188427a7a0df89ef"
 },
 "nbformat": 3,
 "nbformat_minor": 0,
 "worksheets": [
  {
   "cells": [
    {
     "cell_type": "heading",
     "level": 1,
     "metadata": {},
     "source": [
      "Helical State"
     ]
    },
    {
     "cell_type": "markdown",
     "metadata": {},
     "source": [
      "Author: Mark Vousden\n",
      "\n",
      "Purpose: not clear, please add. "
     ]
    },
    {
     "cell_type": "code",
     "collapsed": false,
     "input": [
      "import dolfin as df\n",
      "from math import pi, sin, cos\n",
      "from finmag.util.helpers import vector_valued_function\n",
      "from finmag.util.visualization import plot_dolfin_function"
     ],
     "language": "python",
     "metadata": {},
     "outputs": [
      {
       "output_type": "stream",
       "stream": "stderr",
       "text": [
        "[2014-06-06 15:57:14] INFO: Finmag logging output will be appended to file: '/home/fangohr/.finmag/global.log'\n"
       ]
      },
      {
       "output_type": "stream",
       "stream": "stderr",
       "text": [
        "[2014-06-06 15:57:14] DEBUG: Building modules in 'native'...\n"
       ]
      },
      {
       "output_type": "stream",
       "stream": "stderr",
       "text": [
        "[2014-06-06 15:57:15] DEBUG: FinMag          4927:5a40054c2041dde52af1e30223f1c86cd791e09d\n"
       ]
      },
      {
       "output_type": "stream",
       "stream": "stderr",
       "text": [
        "[2014-06-06 15:57:15] DEBUG: Dolfin          1.3.0                Matplotlib      1.3.1               \n"
       ]
      },
      {
       "output_type": "stream",
       "stream": "stderr",
       "text": [
        "[2014-06-06 15:57:15] DEBUG: Numpy           1.8.1                Scipy           0.13.3              \n"
       ]
      },
      {
       "output_type": "stream",
       "stream": "stderr",
       "text": [
        "[2014-06-06 15:57:15] DEBUG: IPython         2.0.0                Python          2.7.6               \n"
       ]
      },
      {
       "output_type": "stream",
       "stream": "stderr",
       "text": [
        "[2014-06-06 15:57:15] DEBUG: Paraview        4.0.1-1ubuntu1       Sundials        2.5.0               \n"
       ]
      },
      {
       "output_type": "stream",
       "stream": "stderr",
       "text": [
        "[2014-06-06 15:57:15] DEBUG: Boost-Python    <unknown>            Linux           Ubuntu 14.04 LTS    \n"
       ]
      },
      {
       "output_type": "stream",
       "stream": "stderr",
       "text": [
        "[2014-06-06 15:57:15] DEBUG: Registering debug signal handler. Press Ctrl-Z at any time to stop execution and jump into the debugger.\n"
       ]
      }
     ],
     "prompt_number": 1
    },
    {
     "cell_type": "markdown",
     "metadata": {},
     "source": [
      "Material paramaters of FeGe."
     ]
    },
    {
     "cell_type": "code",
     "collapsed": false,
     "input": [
      "alpha = 0.05\n",
      "A = 8.78e-12  # J/m\n",
      "D = 1.58e-3  # J/m^2\n",
      "Ms = 3.84e5  # A/m"
     ],
     "language": "python",
     "metadata": {},
     "outputs": [],
     "prompt_number": 2
    },
    {
     "cell_type": "markdown",
     "metadata": {},
     "source": [
      "Mesh."
     ]
    },
    {
     "cell_type": "code",
     "collapsed": false,
     "input": [
      "unit_length = 1e-9\n",
      "radius = 100e-9\n",
      "maxh = 5e-9\n",
      "x0, y0 = 0, 0\n",
      "x1, y1 = 100, 100\n",
      "nx, ny = 20, 20\n",
      "#mesh = df.CircleMesh(df.Point(0, 0), radius, maxh)\n",
      "mesh = df.RectangleMesh(x0, y0, x1, y1, nx, ny)"
     ],
     "language": "python",
     "metadata": {},
     "outputs": [],
     "prompt_number": 3
    },
    {
     "cell_type": "code",
     "collapsed": false,
     "input": [
      "mesh.coordinates().shape"
     ],
     "language": "python",
     "metadata": {},
     "outputs": [
      {
       "metadata": {},
       "output_type": "pyout",
       "prompt_number": 4,
       "text": [
        "(441, 2)"
       ]
      }
     ],
     "prompt_number": 4
    },
    {
     "cell_type": "markdown",
     "metadata": {},
     "source": [
      "Description of helical state."
     ]
    },
    {
     "cell_type": "code",
     "collapsed": false,
     "input": [
      "def helical_state(pos):\n",
      "    \"\"\"\n",
      "    Description of helical state with propagation direction +x.\n",
      "\n",
      "    \"\"\"\n",
      "    x = pos[0]\n",
      "    helical_period = (4 * pi * A / D) / unit_length\n",
      "    k = 2 * pi / helical_period\n",
      "\n",
      "    mx = 0\n",
      "    my = cos(k * x)\n",
      "    mz = sin(k * x)\n",
      "    return (mx, my, mz)"
     ],
     "language": "python",
     "metadata": {},
     "outputs": [],
     "prompt_number": 5
    },
    {
     "cell_type": "markdown",
     "metadata": {},
     "source": [
      "Visualising the helical state."
     ]
    },
    {
     "cell_type": "code",
     "collapsed": false,
     "input": [
      "m = vector_valued_function(helical_state, mesh)"
     ],
     "language": "python",
     "metadata": {},
     "outputs": [],
     "prompt_number": 6
    },
    {
     "cell_type": "markdown",
     "metadata": {},
     "source": [
      "The next line didn't work for me (Hans, Finmag Friday 6 June), so I tried to replace the plot with the (long!) code below. Not ideal at all. The question is, what do we learn from this example and that plot? Mark, can you review what would be good here?"
     ]
    },
    {
     "cell_type": "code",
     "collapsed": false,
     "input": [
      "#plot_dolfin_function(m, color_by_axis=2)"
     ],
     "language": "python",
     "metadata": {},
     "outputs": [],
     "prompt_number": 7
    },
    {
     "cell_type": "code",
     "collapsed": false,
     "input": [
      "%matplotlib inline\n",
      "# create plot\n",
      "import numpy as np\n",
      "\n",
      "xs = np.linspace(x0, x1, nx)\n",
      "ys = np.linspace(y0, y1, ny)\n",
      "scalar = []\n",
      "for x in xs:\n",
      "    for y in ys:\n",
      "        scalar.append(m(x, y)[2])  # probe z component of m\n",
      "u = np.array(scalar)\n",
      "u.shape = (nx, ny)"
     ],
     "language": "python",
     "metadata": {},
     "outputs": [],
     "prompt_number": 8
    },
    {
     "cell_type": "code",
     "collapsed": false,
     "input": [
      "import matplotlib\n",
      "import matplotlib.pyplot as plt\n"
     ],
     "language": "python",
     "metadata": {},
     "outputs": [],
     "prompt_number": 9
    },
    {
     "cell_type": "code",
     "collapsed": false,
     "input": [
      "x, y = np.meshgrid(xs, ys)"
     ],
     "language": "python",
     "metadata": {},
     "outputs": [],
     "prompt_number": 10
    },
    {
     "cell_type": "code",
     "collapsed": false,
     "input": [
      "plt.pcolormesh(x, y, u)"
     ],
     "language": "python",
     "metadata": {},
     "outputs": [
      {
       "metadata": {},
       "output_type": "pyout",
       "prompt_number": 11,
       "text": [
        "<matplotlib.collections.QuadMesh at 0x7fb5a867e390>"
       ]
      },
      {
       "output_type": "stream",
       "stream": "stderr",
       "text": [
        "/usr/lib/pymodules/python2.7/matplotlib/figure.py:1595: UserWarning: This figure includes Axes that are not compatible with tight_layout, so its results might be incorrect.\n",
        "  warnings.warn(\"This figure includes Axes that are not \"\n"
       ]
      },
      {
       "metadata": {},
       "output_type": "display_data",
       "png": "[encoded data removed]",
       "text": [
        "<matplotlib.figure.Figure at 0x7fb5f0ab1b10>"
       ]
      }
     ],
     "prompt_number": 11
    },
    {
     "cell_type": "code",
     "collapsed": false,
     "input": [
      "    "
     ],
     "language": "python",
     "metadata": {},
     "outputs": [],
     "prompt_number": 11
    }
   ],
   "metadata": {}
  }
 ]
}