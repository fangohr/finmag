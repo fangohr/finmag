{
 "metadata": {
  "name": "varying_damping"
 },
 "nbformat": 3,
 "nbformat_minor": 0,
 "worksheets": [
  {
   "cells": [
    {
     "cell_type": "markdown",
     "metadata": {},
     "source": [
      "This is a simple example to show the usuage of spatial damping in finmag. The simulation system is a Permalloy bar with dimensions $200 \\times 20 \\times 10 \\mathrm{nm}^3$. \n",
      "We create the mesh using the dolfin Box class with discretization sizes $5 \\times 5 \\times 10 \\mathrm{nm}^3$ for each cuboid (a cuboid is made up of six tetrahedra)"
     ]
    },
    {
     "cell_type": "code",
     "collapsed": false,
     "input": [
      "import dolfin as df\n",
      "import numpy as np\n",
      "mesh = df.Box(0, 0, 0, 200, 20, 10, 40, 4, 1)"
     ],
     "language": "python",
     "metadata": {},
     "outputs": [],
     "prompt_number": 1
    },
    {
     "cell_type": "markdown",
     "metadata": {},
     "source": [
      "We create a simlation object with this mesh including the exchange and demag interaction, the relative tolerance in demag solver are set to $10^{-10}$."
     ]
    },
    {
     "cell_type": "code",
     "collapsed": false,
     "input": [
      "from finmag import Simulation as Sim\n",
      "from finmag.energies import Exchange\n",
      "from finmag.energies import UniaxialAnisotropy\n",
      "\n",
      "sim = Sim(mesh, 8.6e5, unit_length=1e-9)\n",
      "sim.alpha = 0.01\n",
      "sim.set_m((1, 0, 0))\n",
      "\n",
      "exchange = Exchange(13.0e-12)\n",
      "sim.add(exchange)\n",
      "    \n",
      "anis=UniaxialAnisotropy(K1=1e5,axis=[1,0,0])\n",
      "sim.add(anis)"
     ],
     "language": "python",
     "metadata": {},
     "outputs": [
      {
       "output_type": "stream",
       "stream": "stderr",
       "text": [
        "[16:51:13] DEBUG: Building modules in 'native'...\n"
       ]
      },
      {
       "output_type": "stream",
       "stream": "stderr",
       "text": [
        "[16:51:13] DEBUG: This is Finmag version 2275:53a929e851bf4ed3c1f759a08c0f53ac5c026d17\n"
       ]
      },
      {
       "output_type": "stream",
       "stream": "stderr",
       "text": [
        "[16:51:13] INFO: Creating Sim object (rank=0/1) [Fri Nov 30 16:51:13 2012].\n"
       ]
      },
      {
       "output_type": "stream",
       "stream": "stderr",
       "text": [
        "[16:51:13] INFO: <Mesh of topological dimension 3 (tetrahedra) with 410 vertices and 960 cells, ordered>\n"
       ]
      },
      {
       "output_type": "stream",
       "stream": "stderr",
       "text": [
        "[16:51:13] DEBUG: Creating LLG object.\n"
       ]
      },
      {
       "output_type": "stream",
       "stream": "stderr",
       "text": [
        "[16:51:13] DEBUG: Creating Exchange object with method box-matrix-petsc, in Jacobian.\n"
       ]
      },
      {
       "output_type": "stream",
       "stream": "stderr",
       "text": [
        "[16:51:13] DEBUG: Will create anisotropy axis from '[1, 0, 0]'.\n"
       ]
      },
      {
       "output_type": "stream",
       "stream": "stderr",
       "text": [
        "[16:51:13] DEBUG: Creating UniaxialAnisotropy object with method box-matrix-petsc, in Jacobian.\n"
       ]
      }
     ],
     "prompt_number": 2
    },
    {
     "cell_type": "markdown",
     "metadata": {},
     "source": [
      "We expose the bar in a microwave environment, $h=h_0 \\sin(\\omega t)$ in $y$ direction, which can be approached through TimeZeeman class, "
     ]
    },
    {
     "cell_type": "code",
     "collapsed": false,
     "input": [
      "from finmag.energies import TimeZeeman\n",
      "GHz=1e9\n",
      "omega= 10*2*np.pi*GHz\n",
      "H = df.Expression((\"0.0\",\"H0*sin(omega*t)\" ,\"0.0\"), H0=1e3,omega=omega, t=0.0)\n",
      "H_app = TimeZeeman(H)\n",
      "\n",
      "def update_H_ext(t):\n",
      "    H_app.update(t)\n",
      "\n",
      "sim.add(H_app,with_time_update=update_H_ext)"
     ],
     "language": "python",
     "metadata": {},
     "outputs": [],
     "prompt_number": 3
    },
    {
     "cell_type": "markdown",
     "metadata": {},
     "source": [
      "Suppose the damping at two sides of the bar is 0.05 ($x<200$nm or $x>800$nm) while the middle part is 0.02,  "
     ]
    },
    {
     "cell_type": "code",
     "collapsed": false,
     "input": [
      "llg=sim.llg\n",
      "\n",
      "mult = df.Function(llg.S1)\n",
      "mult.assign(df.Expression(\"(x[0]>150||x[0]<50) ? 5.0 : 2.0\"))\n",
      "sim.spatial_alpha(0.01,mult)"
     ],
     "language": "python",
     "metadata": {},
     "outputs": [],
     "prompt_number": 4
    },
    {
     "cell_type": "markdown",
     "metadata": {},
     "source": [
      "We simulate the system for $1 $ ns and plot the spatial magnetiastion through the middle line of the bar, namely $y=10$ nm, $z=5$nm, "
     ]
    },
    {
     "cell_type": "code",
     "collapsed": false,
     "input": [
      "times = np.linspace(0,1e-9, 11)\n",
      "xs=np.linspace(0,200, 200)\n",
      "for t in times:\n",
      "    print 'time',t\n",
      "    sim.run_until(t)\n",
      "    my=np.array([llg._m(x,10,5)[1] for x in xs])\n",
      "    mz=np.array([llg._m(x,10,5)[2] for x in xs])\n",
      "    ma=np.sqrt(my*my+mz*mz)\n",
      "\n",
      "    plot(xs,ma,label='%d'%(t/(1e-12)))\n",
      "    legend()\n",
      "\n",
      "\n"
     ],
     "language": "python",
     "metadata": {},
     "outputs": [
      {
       "output_type": "stream",
       "stream": "stderr",
       "text": [
        "[16:51:14] DEBUG: Creating LLGIntegrator with backend sundials.\n"
       ]
      },
      {
       "output_type": "stream",
       "stream": "stdout",
       "text": [
        "time 0.0\n",
        "time 1e-10\n",
        "time"
       ]
      },
      {
       "output_type": "stream",
       "stream": "stdout",
       "text": [
        " 2e-10\n",
        "time"
       ]
      },
      {
       "output_type": "stream",
       "stream": "stdout",
       "text": [
        " 3e-10\n",
        "time"
       ]
      },
      {
       "output_type": "stream",
       "stream": "stdout",
       "text": [
        " 4e-10\n",
        "time"
       ]
      },
      {
       "output_type": "stream",
       "stream": "stdout",
       "text": [
        " 5e-10\n",
        "time"
       ]
      },
      {
       "output_type": "stream",
       "stream": "stdout",
       "text": [
        " 6e-10\n",
        "time"
       ]
      },
      {
       "output_type": "stream",
       "stream": "stdout",
       "text": [
        " 7e-10\n",
        "time"
       ]
      },
      {
       "output_type": "stream",
       "stream": "stdout",
       "text": [
        " 8e-10\n",
        "time"
       ]
      },
      {
       "output_type": "stream",
       "stream": "stdout",
       "text": [
        " 9e-10\n",
        "time"
       ]
      },
      {
       "output_type": "stream",
       "stream": "stdout",
       "text": [
        " 1e-09\n"
       ]
      },
      {
       "output_type": "display_data",
       "png": "[encoded data removed]"
      }
     ],
     "prompt_number": 5
    }
   ],
   "metadata": {}
  }
 ]
}