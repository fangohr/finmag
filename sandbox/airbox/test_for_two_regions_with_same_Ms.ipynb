{
 "metadata": {
  "name": "test_for_two_regions_with_same_Ms"
 },
 "nbformat": 3,
 "nbformat_minor": 0,
 "worksheets": [
  {
   "cells": [
    {
     "cell_type": "heading",
     "level": 2,
     "metadata": {},
     "source": [
      "Test: two regions with identical Ms"
     ]
    },
    {
     "cell_type": "markdown",
     "metadata": {},
     "source": [
      "We'd like to run two simulations with very similar geometries:\n",
      "\n",
      "  - The first is on a cuboid mesh with just a single region and constant Ms.\n",
      "\n",
      "  - The second is on a mesh containing two regions (e.g. a cube containing a sphere). However, we set Ms to the same value in both regions, so this should give practically identical results to the first simulation (module inaccuracies due to different mesh discretisation).\n",
      "\n",
      "We let both systems relax and then compare the results."
     ]
    },
    {
     "cell_type": "code",
     "collapsed": false,
     "input": [
      "import textwrap\n",
      "import dolfin as df\n",
      "import numpy as np\n",
      "import finmag\n",
      "import matplotlib.pyplot as plt\n",
      "from mpl_toolkits.mplot3d import axes3d\n",
      "\n",
      "from finmag import sim_with\n",
      "from finmag.util.meshes import box, from_geofile, plot_mesh, plot_mesh_regions\n",
      "from finmag.util.helpers import piecewise_on_subdomains, vector_valued_function"
     ],
     "language": "python",
     "metadata": {},
     "outputs": [
      {
       "output_type": "stream",
       "stream": "stderr",
       "text": [
        "[16:53:30] DEBUG: Building modules in 'native'...\n"
       ]
      },
      {
       "output_type": "stream",
       "stream": "stderr",
       "text": [
        "[16:53:31] DEBUG: This is Finmag version 2293:090397ac779fe170795939208965718a31686960\n"
       ]
      }
     ],
     "prompt_number": 1
    },
    {
     "cell_type": "code",
     "collapsed": false,
     "input": [
      "# Mesh discretisation used for the cube and sphere in the meshes\n",
      "e_cube = 10.0  # cube edge length\n",
      "r_sphere = 3.0\n",
      "maxh_cube = 0.3\n",
      "maxh_sphere = 0.3\n",
      "\n",
      "# Auxiliary value\n",
      "r_cube = 0.5 * e_cube"
     ],
     "language": "python",
     "metadata": {},
     "outputs": [],
     "prompt_number": 2
    },
    {
     "cell_type": "markdown",
     "metadata": {},
     "source": [
      "The first mesh is just a regular cube, centered around the origin."
     ]
    },
    {
     "cell_type": "code",
     "collapsed": false,
     "input": [
      "mesh1 = box(-r_cube, -r_cube, -r_cube, +r_cube, +r_cube, +r_cube, maxh=maxh_cube)"
     ],
     "language": "python",
     "metadata": {},
     "outputs": [
      {
       "output_type": "stream",
       "stream": "stderr",
       "text": [
        "[16:53:32] DEBUG: The mesh './box--5_0--5_0--5_0-5_0-5_0-5_0-5_0.xml.gz' already exists and is automatically returned.\n"
       ]
      }
     ],
     "prompt_number": 3
    },
    {
     "cell_type": "markdown",
     "metadata": {},
     "source": [
      "This is again a mesh with just a single region, but we also specify the \"sphere\" and \"air\" regions, so that the resulting mesh should be the same (or at least very similar) to mesh3 (below) because Netgen gets the same information and probably goes through the same steps when producing the mesh. This should make the comparison of the relaxed magnetisation below much more precise because the positions of the mesh nodes of mesh2 and mesh3 should be essentially identical."
     ]
    },
    {
     "cell_type": "code",
     "collapsed": false,
     "input": [
      "# Write the mesh file from here so that we can adapt maxh interactively from this notebook.\n",
      "with open(\"mesh2.geo\", \"w\") as f:\n",
      "    f.write(textwrap.dedent(\"\"\"\\\n",
      "        algebraic3d\n",
      "\n",
      "        solid inner_sphere = sphere(0, 0, 0; {r_sphere}) -maxh = {maxh_sphere};\n",
      "        solid box = orthobrick(-{r_cube}, -{r_cube}, -{r_cube}; {r_cube}, {r_cube}, {r_cube}) -maxh = {maxh_cube};\n",
      "        solid air = box and not inner_sphere;\n",
      "        solid cube = (inner_sphere and box) or box;\n",
      "\n",
      "        tlo cube;\n",
      "        \"\"\".format(r_sphere=r_sphere, r_cube=r_cube, maxh_sphere=maxh_sphere, maxh_cube=maxh_cube)))"
     ],
     "language": "python",
     "metadata": {},
     "outputs": [],
     "prompt_number": 4
    },
    {
     "cell_type": "code",
     "collapsed": false,
     "input": [
      "mesh2 = from_geofile(\"mesh2.geo\")"
     ],
     "language": "python",
     "metadata": {},
     "outputs": [
      {
       "output_type": "stream",
       "stream": "stderr",
       "text": [
        "[16:53:36] WARNING: The mesh file 'mesh2.xml.gz' is outdated (since it is older than the .geo file 'mesh2.geo') and will be overwritten.\n"
       ]
      },
      {
       "output_type": "stream",
       "stream": "stderr",
       "text": [
        "[16:53:36] DEBUG: Using netgen to convert mesh2.geo to DIFFPACK format.\n"
       ]
      },
      {
       "output_type": "stream",
       "stream": "stderr",
       "text": [
        "[16:53:37] DEBUG: Done!\n"
       ]
      },
      {
       "output_type": "stream",
       "stream": "stderr",
       "text": [
        "[16:53:37] DEBUG: Using dolfin-convert to convert mesh2.grid to xml format.\n"
       ]
      },
      {
       "output_type": "stream",
       "stream": "stderr",
       "text": [
        "[16:53:38] DEBUG: Compressing mesh2.xml\n"
       ]
      }
     ],
     "prompt_number": 5
    },
    {
     "cell_type": "markdown",
     "metadata": {},
     "source": [
      "The third mesh is a cube containing a sphere, where the region inside and outside the sphere are considered as two different regions. However, we set $M_s$ to the same value for both regions."
     ]
    },
    {
     "cell_type": "code",
     "collapsed": false,
     "input": [
      "# Write the mesh file from here so that we can adapt maxh interactively from this notebook.\n",
      "with open(\"mesh3.geo\", \"w\") as f:\n",
      "    f.write(textwrap.dedent(\"\"\"\\\n",
      "        algebraic3d\n",
      "\n",
      "        solid inner_sphere = sphere(0, 0, 0; {r_sphere}) -maxh = {maxh_sphere};\n",
      "        solid box = orthobrick(-{r_cube}, -{r_cube}, -{r_cube}; {r_cube}, {r_cube}, {r_cube}) -maxh = {maxh_cube};\n",
      "        solid sphere_inside_box = box and inner_sphere;\n",
      "        solid air = box and not inner_sphere;\n",
      "\n",
      "        tlo sphere_inside_box;\n",
      "        tlo air;\n",
      "        \"\"\".format(r_sphere=r_sphere, r_cube=r_cube, maxh_sphere=maxh_sphere, maxh_cube=maxh_cube)))"
     ],
     "language": "python",
     "metadata": {},
     "outputs": [],
     "prompt_number": 6
    },
    {
     "cell_type": "code",
     "collapsed": false,
     "input": [
      "mesh3 = from_geofile(\"mesh3.geo\")\n",
      "mesh3_regions = df.MeshFunction(\"uint\", mesh3, \"mesh3_mat.xml\")"
     ],
     "language": "python",
     "metadata": {},
     "outputs": [
      {
       "output_type": "stream",
       "stream": "stderr",
       "text": [
        "[16:53:39] WARNING: The mesh file 'mesh3.xml.gz' is outdated (since it is older than the .geo file 'mesh3.geo') and will be overwritten.\n"
       ]
      },
      {
       "output_type": "stream",
       "stream": "stderr",
       "text": [
        "[16:53:39] DEBUG: Using netgen to convert mesh3.geo to DIFFPACK format.\n"
       ]
      },
      {
       "output_type": "stream",
       "stream": "stderr",
       "text": [
        "[16:53:40] DEBUG: Done!\n"
       ]
      },
      {
       "output_type": "stream",
       "stream": "stderr",
       "text": [
        "[16:53:40] DEBUG: Using dolfin-convert to convert mesh3.grid to xml format.\n"
       ]
      },
      {
       "output_type": "stream",
       "stream": "stderr",
       "text": [
        "[16:53:41] DEBUG: Compressing mesh3.xml\n"
       ]
      }
     ],
     "prompt_number": 7
    },
    {
     "cell_type": "code",
     "collapsed": false,
     "input": [
      "coords1 = mesh1.coordinates()\n",
      "coords2 = mesh2.coordinates()\n",
      "coords3 = mesh3.coordinates()"
     ],
     "language": "python",
     "metadata": {},
     "outputs": [],
     "prompt_number": 8
    },
    {
     "cell_type": "code",
     "collapsed": false,
     "input": [
      "print mesh1\n",
      "print mesh2\n",
      "print mesh3\n",
      "print len(coords1)\n",
      "print len(coords2)\n",
      "print len(coords3)"
     ],
     "language": "python",
     "metadata": {},
     "outputs": [
      {
       "output_type": "stream",
       "stream": "stdout",
       "text": [
        "<Mesh of topological dimension 3 (tetrahedra) with 26 vertices and 43 cells, ordered>\n",
        "<Mesh of topological dimension 3 (tetrahedra) with 26 vertices and 43 cells, ordered>\n",
        "<Mesh of topological dimension 3 (tetrahedra) with 106 vertices and 463 cells, ordered>\n",
        "26\n",
        "26\n",
        "106\n"
       ]
      }
     ],
     "prompt_number": 9
    },
    {
     "cell_type": "code",
     "collapsed": false,
     "input": [
      "def row_norms(a):\n",
      "    \"\"\"\n",
      "    Given a numpy.array `a` of shape NxM, return a 1d array\n",
      "    of length N containing the norm of each row of `a`.\n",
      "    \"\"\"\n",
      "    return np.sum(np.abs(a)**2, axis=-1)**0.5\n",
      "\n",
      "def closest_mesh_vertex_index(pt, mesh):\n",
      "    \"\"\"\n",
      "    Find the index of the vertex in `mesh` that is closest to `pt`.\n",
      "    N.B.: Very crude implementation, only meant for debugging!\n",
      "    \"\"\"\n",
      "    coords = mesh.coordinates()\n",
      "    return np.argmin(row_norms(coords - pt))"
     ],
     "language": "python",
     "metadata": {},
     "outputs": [],
     "prompt_number": 10
    },
    {
     "cell_type": "code",
     "collapsed": false,
     "input": [
      "# Compute the maximum distance of any mesh point in mesh2 to the closest mesh point in mesh3\n",
      "distances = []\n",
      "for pt in coords3:\n",
      "    i = closest_mesh_vertex_index(pt, mesh2)\n",
      "    d = np.linalg.norm(pt - coords2[i])\n",
      "    distances.append(d)\n",
      "print max(distances), np.argmax(distances), coords3[np.argmax(distances)]\n",
      "\n",
      "# Compute the maximum distance of any mesh point in mesh3 to the closest mesh point in mesh2\n",
      "distances = []\n",
      "for pt in coords2:\n",
      "    i = closest_mesh_vertex_index(pt, mesh3)\n",
      "    d = np.linalg.norm(pt - coords3[i])\n",
      "    distances.append(d)\n",
      "print max(distances), np.argmax(distances), coords2[np.argmax(distances)]"
     ],
     "language": "python",
     "metadata": {},
     "outputs": [
      {
       "output_type": "stream",
       "stream": "stdout",
       "text": [
        "4.51189182404 43 [ 1.68388  1.39067 -2.05685]\n",
        "2.27676952282 22 [-0.876441  5.       -0.876441]\n"
       ]
      }
     ],
     "prompt_number": 11
    },
    {
     "cell_type": "markdown",
     "metadata": {},
     "source": [
      "Plot the three meshes. From outside, they look pretty much identical. However, the internal meshing should differ and in particular the third mesh contains two regions, whereas the first two only contain a single region each."
     ]
    },
    {
     "cell_type": "code",
     "collapsed": false,
     "input": [
      "fig = plt.figure(figsize=(20, 5))\n",
      "axes = [fig.add_subplot(1, 3, i, projection='3d') for i in xrange(1, 3+1)]\n",
      "meshes = [mesh1, mesh2, mesh3]\n",
      "[plot_mesh(meshes[i], ax=axes[i]) for i in xrange(3)]"
     ],
     "language": "python",
     "metadata": {},
     "outputs": [
      {
       "output_type": "pyout",
       "prompt_number": 12,
       "text": [
        "[<matplotlib.axes.Axes3DSubplot at 0x4017410>,\n",
        " <matplotlib.axes.Axes3DSubplot at 0x402fb90>,\n",
        " <matplotlib.axes.Axes3DSubplot at 0x414ff90>]"
       ]
      },
      {
       "output_type": "display_data",
       "png": "[encoded data removed]",
       "text": [
        "<matplotlib.figure.Figure at 0x4017450>"
       ]
      }
     ],
     "prompt_number": 12
    },
    {
     "cell_type": "markdown",
     "metadata": {},
     "source": [
      "We also plot the two regions of the third mesh (by plotting the cell midpoints of each region using two different colours)."
     ]
    },
    {
     "cell_type": "code",
     "collapsed": false,
     "input": [
      "plot_mesh_regions(mesh3_regions, regions=[1, 2], colors=[\"green\", \"red\"], alphas=[1.0, 0.5])"
     ],
     "language": "python",
     "metadata": {},
     "outputs": [
      {
       "output_type": "stream",
       "stream": "stderr",
       "text": [
        "[16:53:54] DEBUG: Adjusting axis limits in order to zoom to mesh size\n"
       ]
      },
      {
       "output_type": "pyout",
       "prompt_number": 14,
       "text": [
        "<matplotlib.axes.Axes3DSubplot at 0x4354310>"
       ]
      },
      {
       "output_type": "display_data",
       "png": "[encoded data removed]",
       "text": [
        "<matplotlib.figure.Figure at 0x43576d0>"
       ]
      }
     ],
     "prompt_number": 14
    },
    {
     "cell_type": "code",
     "collapsed": false,
     "input": [
      "# Some parameters common to all simulations\n",
      "Ms = 8.6e5\n",
      "A = 13.0e-12\n",
      "m_init = (1, 0, 0)\n",
      "alpha = 1.0\n",
      "unit_length = 1e-9\n",
      "demag_solver='FK'"
     ],
     "language": "python",
     "metadata": {},
     "outputs": [],
     "prompt_number": 15
    },
    {
     "cell_type": "markdown",
     "metadata": {},
     "source": [
      "Now we define all simulations. They use identical parameters, but the meshes differ, and the last simulation also uses a (constant) function for Ms instead of a single value."
     ]
    },
    {
     "cell_type": "code",
     "collapsed": true,
     "input": [
      "sim1 = sim_with(mesh1, Ms=Ms, m_init=m_init, alpha=alpha, unit_length=unit_length, A=A, demag_solver=demag_solver)\n",
      "sim2 = sim_with(mesh2, Ms=Ms, m_init=m_init, alpha=alpha, unit_length=unit_length, A=A, demag_solver=demag_solver)\n",
      "\n",
      "Ms_vals = (Ms, Ms)\n",
      "Ms_func = piecewise_on_subdomains(mesh3, mesh3_regions, Ms_vals)\n",
      "sim3 = sim_with(mesh3, Ms=Ms_func, m_init=m_init, alpha=alpha, unit_length=unit_length, A=A, demag_solver=demag_solver)\n",
      "\n",
      "sim4 = sim_with(mesh3, Ms=Ms, m_init=m_init, alpha=alpha, unit_length=unit_length, A=A, demag_solver=demag_solver)"
     ],
     "language": "python",
     "metadata": {},
     "outputs": [
      {
       "output_type": "stream",
       "stream": "stderr",
       "text": [
        "[16:53:59] INFO: Creating Sim object 'unnamed'' (rank=0/1) [Sun Dec  2 16:53:59 2012].\n"
       ]
      },
      {
       "output_type": "stream",
       "stream": "stderr",
       "text": [
        "[16:53:59] INFO: <Mesh of topological dimension 3 (tetrahedra) with 26 vertices and 43 cells, ordered>\n"
       ]
      },
      {
       "output_type": "stream",
       "stream": "stderr",
       "text": [
        "[16:53:59] DEBUG: Creating LLG object.\n"
       ]
      },
      {
       "output_type": "stream",
       "stream": "stderr",
       "text": [
        "[16:53:59] DEBUG: Creating Exchange object with method box-matrix-petsc, in Jacobian.\n"
       ]
      },
      {
       "output_type": "stream",
       "stream": "stderr",
       "text": [
        "[16:53:59] DEBUG: Creating Demag object with FK solver.\n"
       ]
      },
      {
       "output_type": "stream",
       "stream": "stderr",
       "text": [
        "[16:53:59] DEBUG: Demag: Poisson solver parameters.\n",
        "    {'maximum_iterations': 10000, 'divergence_limit': 10000.0, 'relative_tolerance': 1e-06, 'gmres':\n",
        "    {'restart': 30}, 'preconditioner': {'shift_nonzero': 0.0, 'reuse': False,\n",
        "    'same_nonzero_pattern': False, 'ilu': {'fill_level': 0}, 'schwarz': {'overlap': 1}, 'report':\n",
        "    False}, 'error_on_nonconvergence': True, 'monitor_convergence': False, 'nonzero_initial_guess':\n",
        "    False, 'report': True, 'absolute_tolerance': 1e-15}\n"
       ]
      },
      {
       "output_type": "stream",
       "stream": "stderr",
       "text": [
        "[16:53:59] DEBUG: Demag: Laplace solver parameters.\n",
        "    {'maximum_iterations': 10000, 'divergence_limit': 10000.0, 'relative_tolerance': 1e-06, 'gmres':\n",
        "    {'restart': 30}, 'preconditioner': {'shift_nonzero': 0.0, 'reuse': False,\n",
        "    'same_nonzero_pattern': True, 'ilu': {'fill_level': 0}, 'schwarz': {'overlap': 1}, 'report':\n",
        "    False}, 'error_on_nonconvergence': True, 'monitor_convergence': False, 'nonzero_initial_guess':\n",
        "    False, 'report': True, 'absolute_tolerance': 1e-15}\n"
       ]
      },
      {
       "output_type": "stream",
       "stream": "stderr",
       "text": [
        "[16:53:59] INFO: Creating Sim object 'unnamed'' (rank=0/1) [Sun Dec  2 16:53:59 2012].\n"
       ]
      },
      {
       "output_type": "stream",
       "stream": "stderr",
       "text": [
        "[16:53:59] INFO: <Mesh of topological dimension 3 (tetrahedra) with 26 vertices and 43 cells, ordered>\n"
       ]
      },
      {
       "output_type": "stream",
       "stream": "stderr",
       "text": [
        "[16:53:59] DEBUG: Creating LLG object.\n"
       ]
      },
      {
       "output_type": "stream",
       "stream": "stderr",
       "text": [
        "[16:53:59] DEBUG: Creating Exchange object with method box-matrix-petsc, in Jacobian.\n"
       ]
      },
      {
       "output_type": "stream",
       "stream": "stderr",
       "text": [
        "[16:53:59] DEBUG: Creating Demag object with FK solver.\n"
       ]
      },
      {
       "output_type": "stream",
       "stream": "stderr",
       "text": [
        "[16:53:59] DEBUG: Demag: Poisson solver parameters.\n",
        "    {'maximum_iterations': 10000, 'divergence_limit': 10000.0, 'relative_tolerance': 1e-06, 'gmres':\n",
        "    {'restart': 30}, 'preconditioner': {'shift_nonzero': 0.0, 'reuse': False,\n",
        "    'same_nonzero_pattern': False, 'ilu': {'fill_level': 0}, 'schwarz': {'overlap': 1}, 'report':\n",
        "    False}, 'error_on_nonconvergence': True, 'monitor_convergence': False, 'nonzero_initial_guess':\n",
        "    False, 'report': True, 'absolute_tolerance': 1e-15}\n"
       ]
      },
      {
       "output_type": "stream",
       "stream": "stderr",
       "text": [
        "[16:53:59] DEBUG: Demag: Laplace solver parameters.\n",
        "    {'maximum_iterations': 10000, 'divergence_limit': 10000.0, 'relative_tolerance': 1e-06, 'gmres':\n",
        "    {'restart': 30}, 'preconditioner': {'shift_nonzero': 0.0, 'reuse': False,\n",
        "    'same_nonzero_pattern': True, 'ilu': {'fill_level': 0}, 'schwarz': {'overlap': 1}, 'report':\n",
        "    False}, 'error_on_nonconvergence': True, 'monitor_convergence': False, 'nonzero_initial_guess':\n",
        "    False, 'report': True, 'absolute_tolerance': 1e-15}\n"
       ]
      },
      {
       "output_type": "stream",
       "stream": "stderr",
       "text": [
        "[16:53:59] INFO: Creating Sim object 'unnamed'' (rank=0/1) [Sun Dec  2 16:53:59 2012].\n"
       ]
      },
      {
       "output_type": "stream",
       "stream": "stderr",
       "text": [
        "[16:53:59] INFO: <Mesh of topological dimension 3 (tetrahedra) with 106 vertices and 463 cells, ordered>\n"
       ]
      },
      {
       "output_type": "stream",
       "stream": "stderr",
       "text": [
        "[16:53:59] DEBUG: Creating LLG object.\n"
       ]
      },
      {
       "output_type": "stream",
       "stream": "stderr",
       "text": [
        "[16:53:59] DEBUG: Creating Exchange object with method box-matrix-petsc, in Jacobian.\n"
       ]
      },
      {
       "output_type": "stream",
       "stream": "stderr",
       "text": [
        "[16:53:59] DEBUG: Creating Demag object with FK solver.\n"
       ]
      },
      {
       "output_type": "stream",
       "stream": "stderr",
       "text": [
        "[16:53:59] DEBUG: Demag: Poisson solver parameters.\n",
        "    {'maximum_iterations': 10000, 'divergence_limit': 10000.0, 'relative_tolerance': 1e-06, 'gmres':\n",
        "    {'restart': 30}, 'preconditioner': {'shift_nonzero': 0.0, 'reuse': False,\n",
        "    'same_nonzero_pattern': False, 'ilu': {'fill_level': 0}, 'schwarz': {'overlap': 1}, 'report':\n",
        "    False}, 'error_on_nonconvergence': True, 'monitor_convergence': False, 'nonzero_initial_guess':\n",
        "    False, 'report': True, 'absolute_tolerance': 1e-15}\n"
       ]
      },
      {
       "output_type": "stream",
       "stream": "stderr",
       "text": [
        "[16:53:59] DEBUG: Demag: Laplace solver parameters.\n",
        "    {'maximum_iterations': 10000, 'divergence_limit': 10000.0, 'relative_tolerance': 1e-06, 'gmres':\n",
        "    {'restart': 30}, 'preconditioner': {'shift_nonzero': 0.0, 'reuse': False,\n",
        "    'same_nonzero_pattern': True, 'ilu': {'fill_level': 0}, 'schwarz': {'overlap': 1}, 'report':\n",
        "    False}, 'error_on_nonconvergence': True, 'monitor_convergence': False, 'nonzero_initial_guess':\n",
        "    False, 'report': True, 'absolute_tolerance': 1e-15}\n"
       ]
      },
      {
       "output_type": "stream",
       "stream": "stderr",
       "text": [
        "[16:53:59] INFO: Creating Sim object 'unnamed'' (rank=0/1) [Sun Dec  2 16:53:59 2012].\n"
       ]
      },
      {
       "output_type": "stream",
       "stream": "stderr",
       "text": [
        "[16:53:59] INFO: <Mesh of topological dimension 3 (tetrahedra) with 106 vertices and 463 cells, ordered>\n"
       ]
      },
      {
       "output_type": "stream",
       "stream": "stderr",
       "text": [
        "[16:53:59] DEBUG: Creating LLG object.\n"
       ]
      },
      {
       "output_type": "stream",
       "stream": "stderr",
       "text": [
        "[16:53:59] DEBUG: Creating Exchange object with method box-matrix-petsc, in Jacobian.\n"
       ]
      },
      {
       "output_type": "stream",
       "stream": "stderr",
       "text": [
        "[16:53:59] DEBUG: Creating Demag object with FK solver.\n"
       ]
      },
      {
       "output_type": "stream",
       "stream": "stderr",
       "text": [
        "[16:53:59] DEBUG: Demag: Poisson solver parameters.\n",
        "    {'maximum_iterations': 10000, 'divergence_limit': 10000.0, 'relative_tolerance': 1e-06, 'gmres':\n",
        "    {'restart': 30}, 'preconditioner': {'shift_nonzero': 0.0, 'reuse': False,\n",
        "    'same_nonzero_pattern': False, 'ilu': {'fill_level': 0}, 'schwarz': {'overlap': 1}, 'report':\n",
        "    False}, 'error_on_nonconvergence': True, 'monitor_convergence': False, 'nonzero_initial_guess':\n",
        "    False, 'report': True, 'absolute_tolerance': 1e-15}\n"
       ]
      },
      {
       "output_type": "stream",
       "stream": "stderr",
       "text": [
        "[16:53:59] DEBUG: Demag: Laplace solver parameters.\n",
        "    {'maximum_iterations': 10000, 'divergence_limit': 10000.0, 'relative_tolerance': 1e-06, 'gmres':\n",
        "    {'restart': 30}, 'preconditioner': {'shift_nonzero': 0.0, 'reuse': False,\n",
        "    'same_nonzero_pattern': True, 'ilu': {'fill_level': 0}, 'schwarz': {'overlap': 1}, 'report':\n",
        "    False}, 'error_on_nonconvergence': True, 'monitor_convergence': False, 'nonzero_initial_guess':\n",
        "    False, 'report': True, 'absolute_tolerance': 1e-15}\n"
       ]
      }
     ],
     "prompt_number": 16
    },
    {
     "cell_type": "markdown",
     "metadata": {},
     "source": [
      "... and relax them:"
     ]
    },
    {
     "cell_type": "code",
     "collapsed": false,
     "input": [
      "sim1.relax()"
     ],
     "language": "python",
     "metadata": {},
     "outputs": [
      {
       "output_type": "stream",
       "stream": "stderr",
       "text": [
        "[13:40:53] INFO: Will integrate until relaxation.\n"
       ]
      },
      {
       "output_type": "stream",
       "stream": "stderr",
       "text": [
        "[13:40:53] DEBUG: Creating LLGIntegrator with backend sundials.\n"
       ]
      },
      {
       "output_type": "stream",
       "stream": "stderr",
       "text": [
        "[13:40:53] DEBUG: SundialsIntegrator: t=1.72e-14, last_dmdt=3.21e+03 * stopping_dmdt, next dt=1.5e-14.\n"
       ]
      },
      {
       "output_type": "stream",
       "stream": "stderr",
       "text": [
        "[13:40:53] DEBUG: SundialsIntegrator: t=3.37e-14, last_dmdt=4.67e+03 * stopping_dmdt, next dt=2.25e-14.\n"
       ]
      },
      {
       "output_type": "stream",
       "stream": "stderr",
       "text": [
        "[13:40:53] DEBUG: SundialsIntegrator: dmdt 1.46 times larger than last time (counting 1/20).\n"
       ]
      },
      {
       "output_type": "stream",
       "stream": "stderr",
       "text": [
        "[13:40:53] DEBUG: SundialsIntegrator: t=5.8e-14, last_dmdt=3.26e+03 * stopping_dmdt, next dt=3.37e-14.\n"
       ]
      },
      {
       "output_type": "stream",
       "stream": "stderr",
       "text": [
        "[13:40:53] DEBUG: SundialsIntegrator: t=1.06e-13, last_dmdt=3.14e+03 * stopping_dmdt, next dt=5.06e-14.\n"
       ]
      },
      {
       "output_type": "stream",
       "stream": "stderr",
       "text": [
        "[13:40:53] DEBUG: SundialsIntegrator: t=1.64e-13, last_dmdt=3.65e+03 * stopping_dmdt, next dt=7.59e-14.\n"
       ]
      },
      {
       "output_type": "stream",
       "stream": "stderr",
       "text": [
        "[13:40:53] DEBUG: SundialsIntegrator: dmdt 1.16 times larger than last time (counting 2/20).\n"
       ]
      },
      {
       "output_type": "stream",
       "stream": "stderr",
       "text": [
        "[13:40:54] DEBUG: SundialsIntegrator: t=2.64e-13, last_dmdt=2.86e+03 * stopping_dmdt, next dt=1.14e-13.\n"
       ]
      },
      {
       "output_type": "stream",
       "stream": "stderr",
       "text": [
        "[13:40:54] DEBUG: SundialsIntegrator: t=4.06e-13, last_dmdt=2.96e+03 * stopping_dmdt, next dt=1.71e-13.\n"
       ]
      },
      {
       "output_type": "stream",
       "stream": "stderr",
       "text": [
        "[13:40:54] DEBUG: SundialsIntegrator: dmdt 1.03 times larger than last time (counting 3/20).\n"
       ]
      },
      {
       "output_type": "stream",
       "stream": "stderr",
       "text": [
        "[13:40:54] DEBUG: SundialsIntegrator: t=6.14e-13, last_dmdt=2.66e+03 * stopping_dmdt, next dt=2.56e-13.\n"
       ]
      },
      {
       "output_type": "stream",
       "stream": "stderr",
       "text": [
        "[13:40:54] DEBUG: SundialsIntegrator: t=9.08e-13, last_dmdt=2.4e+03 * stopping_dmdt, next dt=3.84e-13.\n"
       ]
      },
      {
       "output_type": "stream",
       "stream": "stderr",
       "text": [
        "[13:40:54] DEBUG: SundialsIntegrator: t=1.35e-12, last_dmdt=2.07e+03 * stopping_dmdt, next dt=5.77e-13.\n"
       ]
      },
      {
       "output_type": "stream",
       "stream": "stderr",
       "text": [
        "[13:40:54] DEBUG: SundialsIntegrator: t=1.97e-12, last_dmdt=1.82e+03 * stopping_dmdt, next dt=8.65e-13.\n"
       ]
      },
      {
       "output_type": "stream",
       "stream": "stderr",
       "text": [
        "[13:40:54] DEBUG: SundialsIntegrator: t=2.85e-12, last_dmdt=1.51e+03 * stopping_dmdt, next dt=1.3e-12.\n"
       ]
      },
      {
       "output_type": "stream",
       "stream": "stderr",
       "text": [
        "[13:40:54] DEBUG: SundialsIntegrator: t=4.29e-12, last_dmdt=1.23e+03 * stopping_dmdt, next dt=1.95e-12.\n"
       ]
      },
      {
       "output_type": "stream",
       "stream": "stderr",
       "text": [
        "[13:40:54] DEBUG: SundialsIntegrator: t=6.42e-12, last_dmdt=1.05e+03 * stopping_dmdt, next dt=2.92e-12.\n"
       ]
      },
      {
       "output_type": "stream",
       "stream": "stderr",
       "text": [
        "[13:40:54] DEBUG: SundialsIntegrator: t=9.54e-12, last_dmdt=781 * stopping_dmdt, next dt=4.38e-12.\n"
       ]
      },
      {
       "output_type": "stream",
       "stream": "stderr",
       "text": [
        "[13:40:55] DEBUG: SundialsIntegrator: t=1.41e-11, last_dmdt=515 * stopping_dmdt, next dt=6.57e-12.\n"
       ]
      },
      {
       "output_type": "stream",
       "stream": "stderr",
       "text": [
        "[13:40:55] DEBUG: SundialsIntegrator: t=2.09e-11, last_dmdt=296 * stopping_dmdt, next dt=9.85e-12.\n"
       ]
      },
      {
       "output_type": "stream",
       "stream": "stderr",
       "text": [
        "[13:40:55] DEBUG: SundialsIntegrator: t=3.09e-11, last_dmdt=147 * stopping_dmdt, next dt=1.48e-11.\n"
       ]
      },
      {
       "output_type": "stream",
       "stream": "stderr",
       "text": [
        "[13:40:56] DEBUG: SundialsIntegrator: t=4.58e-11, last_dmdt=42.3 * stopping_dmdt, next dt=2.22e-11.\n"
       ]
      },
      {
       "output_type": "stream",
       "stream": "stderr",
       "text": [
        "[13:40:56] DEBUG: SundialsIntegrator: t=6.8e-11, last_dmdt=7.23 * stopping_dmdt, next dt=3.33e-11.\n"
       ]
      },
      {
       "output_type": "stream",
       "stream": "stderr",
       "text": [
        "[13:40:57] DEBUG: SundialsIntegrator: Stopping at t=1.02e-10, with last_dmdt=1.72e+07, smaller than stopping_dmdt=1.75e+07.\n"
       ]
      }
     ],
     "prompt_number": 42
    },
    {
     "cell_type": "code",
     "collapsed": false,
     "input": [
      "sim2.relax()"
     ],
     "language": "python",
     "metadata": {},
     "outputs": [
      {
       "output_type": "stream",
       "stream": "stderr",
       "text": [
        "[13:40:57] INFO: Will integrate until relaxation.\n"
       ]
      },
      {
       "output_type": "stream",
       "stream": "stderr",
       "text": [
        "[13:40:57] DEBUG: Creating LLGIntegrator with backend sundials.\n"
       ]
      },
      {
       "output_type": "stream",
       "stream": "stderr",
       "text": [
        "[13:40:58] DEBUG: SundialsIntegrator: t=1.74e-14, last_dmdt=3.19e+03 * stopping_dmdt, next dt=1.5e-14.\n"
       ]
      },
      {
       "output_type": "stream",
       "stream": "stderr",
       "text": [
        "[13:40:58] DEBUG: SundialsIntegrator: t=3.42e-14, last_dmdt=4.69e+03 * stopping_dmdt, next dt=2.25e-14.\n"
       ]
      },
      {
       "output_type": "stream",
       "stream": "stderr",
       "text": [
        "[13:40:58] DEBUG: SundialsIntegrator: dmdt 1.47 times larger than last time (counting 1/20).\n"
       ]
      },
      {
       "output_type": "stream",
       "stream": "stderr",
       "text": [
        "[13:40:58] DEBUG: SundialsIntegrator: t=5.94e-14, last_dmdt=3.3e+03 * stopping_dmdt, next dt=3.37e-14.\n"
       ]
      },
      {
       "output_type": "stream",
       "stream": "stderr",
       "text": [
        "[13:40:58] DEBUG: SundialsIntegrator: t=1.1e-13, last_dmdt=3.21e+03 * stopping_dmdt, next dt=5.06e-14.\n"
       ]
      },
      {
       "output_type": "stream",
       "stream": "stderr",
       "text": [
        "[13:40:58] DEBUG: SundialsIntegrator: t=1.69e-13, last_dmdt=3.77e+03 * stopping_dmdt, next dt=7.59e-14.\n"
       ]
      },
      {
       "output_type": "stream",
       "stream": "stderr",
       "text": [
        "[13:40:58] DEBUG: SundialsIntegrator: dmdt 1.18 times larger than last time (counting 2/20).\n"
       ]
      },
      {
       "output_type": "stream",
       "stream": "stderr",
       "text": [
        "[13:40:58] DEBUG: SundialsIntegrator: t=2.48e-13, last_dmdt=2.98e+03 * stopping_dmdt, next dt=1.14e-13.\n"
       ]
      },
      {
       "output_type": "stream",
       "stream": "stderr",
       "text": [
        "[13:40:58] DEBUG: SundialsIntegrator: t=3.8e-13, last_dmdt=2.52e+03 * stopping_dmdt, next dt=1.71e-13.\n"
       ]
      },
      {
       "output_type": "stream",
       "stream": "stderr",
       "text": [
        "[13:40:58] DEBUG: SundialsIntegrator: t=5.56e-13, last_dmdt=2.54e+03 * stopping_dmdt, next dt=2.56e-13.\n"
       ]
      },
      {
       "output_type": "stream",
       "stream": "stderr",
       "text": [
        "[13:40:58] DEBUG: SundialsIntegrator: dmdt 1.01 times larger than last time (counting 3/20).\n"
       ]
      },
      {
       "output_type": "stream",
       "stream": "stderr",
       "text": [
        "[13:40:58] DEBUG: SundialsIntegrator: t=8.22e-13, last_dmdt=2.16e+03 * stopping_dmdt, next dt=3.84e-13.\n"
       ]
      },
      {
       "output_type": "stream",
       "stream": "stderr",
       "text": [
        "[13:40:58] DEBUG: SundialsIntegrator: t=1.23e-12, last_dmdt=1.99e+03 * stopping_dmdt, next dt=5.77e-13.\n"
       ]
      },
      {
       "output_type": "stream",
       "stream": "stderr",
       "text": [
        "[13:40:58] DEBUG: SundialsIntegrator: t=1.84e-12, last_dmdt=1.8e+03 * stopping_dmdt, next dt=8.65e-13.\n"
       ]
      },
      {
       "output_type": "stream",
       "stream": "stderr",
       "text": [
        "[13:40:58] DEBUG: SundialsIntegrator: t=2.8e-12, last_dmdt=1.56e+03 * stopping_dmdt, next dt=1.3e-12.\n"
       ]
      },
      {
       "output_type": "stream",
       "stream": "stderr",
       "text": [
        "[13:40:58] DEBUG: SundialsIntegrator: t=4.11e-12, last_dmdt=1.33e+03 * stopping_dmdt, next dt=1.95e-12.\n"
       ]
      },
      {
       "output_type": "stream",
       "stream": "stderr",
       "text": [
        "[13:40:58] DEBUG: SundialsIntegrator: t=6.26e-12, last_dmdt=995 * stopping_dmdt, next dt=2.92e-12.\n"
       ]
      },
      {
       "output_type": "stream",
       "stream": "stderr",
       "text": [
        "[13:40:59] DEBUG: SundialsIntegrator: t=9.43e-12, last_dmdt=803 * stopping_dmdt, next dt=4.38e-12.\n"
       ]
      },
      {
       "output_type": "stream",
       "stream": "stderr",
       "text": [
        "[13:40:59] DEBUG: SundialsIntegrator: t=1.41e-11, last_dmdt=531 * stopping_dmdt, next dt=6.57e-12.\n"
       ]
      },
      {
       "output_type": "stream",
       "stream": "stderr",
       "text": [
        "[13:40:59] DEBUG: SundialsIntegrator: t=2.07e-11, last_dmdt=306 * stopping_dmdt, next dt=9.85e-12.\n"
       ]
      },
      {
       "output_type": "stream",
       "stream": "stderr",
       "text": [
        "[13:40:59] DEBUG: SundialsIntegrator: t=3.08e-11, last_dmdt=146 * stopping_dmdt, next dt=1.48e-11.\n"
       ]
      },
      {
       "output_type": "stream",
       "stream": "stderr",
       "text": [
        "[13:41:00] DEBUG: SundialsIntegrator: t=4.58e-11, last_dmdt=43.4 * stopping_dmdt, next dt=2.22e-11.\n"
       ]
      },
      {
       "output_type": "stream",
       "stream": "stderr",
       "text": [
        "[13:41:00] DEBUG: SundialsIntegrator: t=6.83e-11, last_dmdt=7.37 * stopping_dmdt, next dt=3.33e-11.\n"
       ]
      },
      {
       "output_type": "stream",
       "stream": "stderr",
       "text": [
        "[13:41:01] DEBUG: SundialsIntegrator: t=1.02e-10, last_dmdt=1.13 * stopping_dmdt, next dt=4.99e-11.\n"
       ]
      },
      {
       "output_type": "stream",
       "stream": "stderr",
       "text": [
        "[13:41:03] DEBUG: SundialsIntegrator: Stopping at t=1.52e-10, with last_dmdt=1.01e+07, smaller than stopping_dmdt=1.75e+07.\n"
       ]
      }
     ],
     "prompt_number": 43
    },
    {
     "cell_type": "code",
     "collapsed": false,
     "input": [
      "sim3.relax()"
     ],
     "language": "python",
     "metadata": {},
     "outputs": [
      {
       "output_type": "stream",
       "stream": "stderr",
       "text": [
        "[13:41:03] INFO: Will integrate until relaxation.\n"
       ]
      },
      {
       "output_type": "stream",
       "stream": "stderr",
       "text": [
        "[13:41:03] DEBUG: Creating LLGIntegrator with backend sundials.\n"
       ]
      },
      {
       "output_type": "stream",
       "stream": "stderr",
       "text": [
        "[13:41:03] DEBUG: SundialsIntegrator: t=1.77e-14, last_dmdt=3.21e+03 * stopping_dmdt, next dt=1.5e-14.\n"
       ]
      },
      {
       "output_type": "stream",
       "stream": "stderr",
       "text": [
        "[13:41:03] DEBUG: SundialsIntegrator: t=3.46e-14, last_dmdt=4.77e+03 * stopping_dmdt, next dt=2.25e-14.\n"
       ]
      },
      {
       "output_type": "stream",
       "stream": "stderr",
       "text": [
        "[13:41:03] DEBUG: SundialsIntegrator: dmdt 1.49 times larger than last time (counting 1/20).\n"
       ]
      },
      {
       "output_type": "stream",
       "stream": "stderr",
       "text": [
        "[13:41:03] DEBUG: SundialsIntegrator: t=5.95e-14, last_dmdt=3.32e+03 * stopping_dmdt, next dt=3.37e-14.\n"
       ]
      },
      {
       "output_type": "stream",
       "stream": "stderr",
       "text": [
        "[13:41:03] DEBUG: SundialsIntegrator: t=1.09e-13, last_dmdt=3.18e+03 * stopping_dmdt, next dt=5.06e-14.\n"
       ]
      },
      {
       "output_type": "stream",
       "stream": "stderr",
       "text": [
        "[13:41:03] DEBUG: SundialsIntegrator: t=1.67e-13, last_dmdt=3.67e+03 * stopping_dmdt, next dt=7.59e-14.\n"
       ]
      },
      {
       "output_type": "stream",
       "stream": "stderr",
       "text": [
        "[13:41:03] DEBUG: SundialsIntegrator: dmdt 1.16 times larger than last time (counting 2/20).\n"
       ]
      },
      {
       "output_type": "stream",
       "stream": "stderr",
       "text": [
        "[13:41:03] DEBUG: SundialsIntegrator: t=2.44e-13, last_dmdt=2.89e+03 * stopping_dmdt, next dt=1.14e-13.\n"
       ]
      },
      {
       "output_type": "stream",
       "stream": "stderr",
       "text": [
        "[13:41:03] DEBUG: SundialsIntegrator: t=3.71e-13, last_dmdt=2.43e+03 * stopping_dmdt, next dt=1.71e-13.\n"
       ]
      },
      {
       "output_type": "stream",
       "stream": "stderr",
       "text": [
        "[13:41:03] DEBUG: SundialsIntegrator: t=5.79e-13, last_dmdt=2.5e+03 * stopping_dmdt, next dt=2.56e-13.\n"
       ]
      },
      {
       "output_type": "stream",
       "stream": "stderr",
       "text": [
        "[13:41:03] DEBUG: SundialsIntegrator: dmdt 1.03 times larger than last time (counting 3/20).\n"
       ]
      },
      {
       "output_type": "stream",
       "stream": "stderr",
       "text": [
        "[13:41:03] DEBUG: SundialsIntegrator: t=8.53e-13, last_dmdt=2.45e+03 * stopping_dmdt, next dt=3.84e-13.\n"
       ]
      },
      {
       "output_type": "stream",
       "stream": "stderr",
       "text": [
        "[13:41:03] DEBUG: SundialsIntegrator: t=1.3e-12, last_dmdt=2.04e+03 * stopping_dmdt, next dt=5.77e-13.\n"
       ]
      },
      {
       "output_type": "stream",
       "stream": "stderr",
       "text": [
        "[13:41:03] DEBUG: SundialsIntegrator: t=1.96e-12, last_dmdt=1.93e+03 * stopping_dmdt, next dt=8.65e-13.\n"
       ]
      },
      {
       "output_type": "stream",
       "stream": "stderr",
       "text": [
        "[13:41:04] DEBUG: SundialsIntegrator: t=2.92e-12, last_dmdt=1.63e+03 * stopping_dmdt, next dt=1.3e-12.\n"
       ]
      },
      {
       "output_type": "stream",
       "stream": "stderr",
       "text": [
        "[13:41:04] DEBUG: SundialsIntegrator: t=4.3e-12, last_dmdt=1.3e+03 * stopping_dmdt, next dt=1.95e-12.\n"
       ]
      },
      {
       "output_type": "stream",
       "stream": "stderr",
       "text": [
        "[13:41:04] DEBUG: SundialsIntegrator: t=6.3e-12, last_dmdt=1.02e+03 * stopping_dmdt, next dt=2.92e-12.\n"
       ]
      },
      {
       "output_type": "stream",
       "stream": "stderr",
       "text": [
        "[13:41:04] DEBUG: SundialsIntegrator: t=9.3e-12, last_dmdt=758 * stopping_dmdt, next dt=4.38e-12.\n"
       ]
      },
      {
       "output_type": "stream",
       "stream": "stderr",
       "text": [
        "[13:41:04] DEBUG: SundialsIntegrator: t=1.38e-11, last_dmdt=516 * stopping_dmdt, next dt=6.57e-12.\n"
       ]
      },
      {
       "output_type": "stream",
       "stream": "stderr",
       "text": [
        "[13:41:05] DEBUG: SundialsIntegrator: t=2.06e-11, last_dmdt=304 * stopping_dmdt, next dt=9.85e-12.\n"
       ]
      },
      {
       "output_type": "stream",
       "stream": "stderr",
       "text": [
        "[13:41:05] DEBUG: SundialsIntegrator: t=3.09e-11, last_dmdt=151 * stopping_dmdt, next dt=1.48e-11.\n"
       ]
      },
      {
       "output_type": "stream",
       "stream": "stderr",
       "text": [
        "[13:41:05] DEBUG: SundialsIntegrator: t=4.62e-11, last_dmdt=44.3 * stopping_dmdt, next dt=2.22e-11.\n"
       ]
      },
      {
       "output_type": "stream",
       "stream": "stderr",
       "text": [
        "[13:41:06] DEBUG: SundialsIntegrator: t=6.88e-11, last_dmdt=7.12 * stopping_dmdt, next dt=3.33e-11.\n"
       ]
      },
      {
       "output_type": "stream",
       "stream": "stderr",
       "text": [
        "[13:41:06] DEBUG: SundialsIntegrator: t=1.03e-10, last_dmdt=1.04 * stopping_dmdt, next dt=4.99e-11.\n"
       ]
      },
      {
       "output_type": "stream",
       "stream": "stderr",
       "text": [
        "[13:41:08] DEBUG: SundialsIntegrator: Stopping at t=1.53e-10, with last_dmdt=9.15e+06, smaller than stopping_dmdt=1.75e+07.\n"
       ]
      }
     ],
     "prompt_number": 44
    },
    {
     "cell_type": "code",
     "collapsed": false,
     "input": [
      "sim4.relax()"
     ],
     "language": "python",
     "metadata": {},
     "outputs": [
      {
       "output_type": "stream",
       "stream": "stderr",
       "text": [
        "[13:41:08] INFO: Will integrate until relaxation.\n"
       ]
      },
      {
       "output_type": "stream",
       "stream": "stderr",
       "text": [
        "[13:41:08] DEBUG: Creating LLGIntegrator with backend sundials.\n"
       ]
      },
      {
       "output_type": "stream",
       "stream": "stderr",
       "text": [
        "[13:41:08] DEBUG: SundialsIntegrator: t=1.77e-14, last_dmdt=3.21e+03 * stopping_dmdt, next dt=1.5e-14.\n"
       ]
      },
      {
       "output_type": "stream",
       "stream": "stderr",
       "text": [
        "[13:41:08] DEBUG: SundialsIntegrator: t=3.46e-14, last_dmdt=4.77e+03 * stopping_dmdt, next dt=2.25e-14.\n"
       ]
      },
      {
       "output_type": "stream",
       "stream": "stderr",
       "text": [
        "[13:41:08] DEBUG: SundialsIntegrator: dmdt 1.49 times larger than last time (counting 1/20).\n"
       ]
      },
      {
       "output_type": "stream",
       "stream": "stderr",
       "text": [
        "[13:41:08] DEBUG: SundialsIntegrator: t=5.95e-14, last_dmdt=3.32e+03 * stopping_dmdt, next dt=3.37e-14.\n"
       ]
      },
      {
       "output_type": "stream",
       "stream": "stderr",
       "text": [
        "[13:41:08] DEBUG: SundialsIntegrator: t=1.09e-13, last_dmdt=3.18e+03 * stopping_dmdt, next dt=5.06e-14.\n"
       ]
      },
      {
       "output_type": "stream",
       "stream": "stderr",
       "text": [
        "[13:41:08] DEBUG: SundialsIntegrator: t=1.67e-13, last_dmdt=3.67e+03 * stopping_dmdt, next dt=7.59e-14.\n"
       ]
      },
      {
       "output_type": "stream",
       "stream": "stderr",
       "text": [
        "[13:41:08] DEBUG: SundialsIntegrator: dmdt 1.16 times larger than last time (counting 2/20).\n"
       ]
      },
      {
       "output_type": "stream",
       "stream": "stderr",
       "text": [
        "[13:41:08] DEBUG: SundialsIntegrator: t=2.44e-13, last_dmdt=2.89e+03 * stopping_dmdt, next dt=1.14e-13.\n"
       ]
      },
      {
       "output_type": "stream",
       "stream": "stderr",
       "text": [
        "[13:41:08] DEBUG: SundialsIntegrator: t=3.71e-13, last_dmdt=2.43e+03 * stopping_dmdt, next dt=1.71e-13.\n"
       ]
      },
      {
       "output_type": "stream",
       "stream": "stderr",
       "text": [
        "[13:41:08] DEBUG: SundialsIntegrator: t=5.79e-13, last_dmdt=2.5e+03 * stopping_dmdt, next dt=2.56e-13.\n"
       ]
      },
      {
       "output_type": "stream",
       "stream": "stderr",
       "text": [
        "[13:41:08] DEBUG: SundialsIntegrator: dmdt 1.03 times larger than last time (counting 3/20).\n"
       ]
      },
      {
       "output_type": "stream",
       "stream": "stderr",
       "text": [
        "[13:41:08] DEBUG: SundialsIntegrator: t=8.53e-13, last_dmdt=2.45e+03 * stopping_dmdt, next dt=3.84e-13.\n"
       ]
      },
      {
       "output_type": "stream",
       "stream": "stderr",
       "text": [
        "[13:41:08] DEBUG: SundialsIntegrator: t=1.3e-12, last_dmdt=2.04e+03 * stopping_dmdt, next dt=5.77e-13.\n"
       ]
      },
      {
       "output_type": "stream",
       "stream": "stderr",
       "text": [
        "[13:41:08] DEBUG: SundialsIntegrator: t=1.96e-12, last_dmdt=1.93e+03 * stopping_dmdt, next dt=8.65e-13.\n"
       ]
      },
      {
       "output_type": "stream",
       "stream": "stderr",
       "text": [
        "[13:41:08] DEBUG: SundialsIntegrator: t=2.92e-12, last_dmdt=1.63e+03 * stopping_dmdt, next dt=1.3e-12.\n"
       ]
      },
      {
       "output_type": "stream",
       "stream": "stderr",
       "text": [
        "[13:41:08] DEBUG: SundialsIntegrator: t=4.3e-12, last_dmdt=1.3e+03 * stopping_dmdt, next dt=1.95e-12.\n"
       ]
      },
      {
       "output_type": "stream",
       "stream": "stderr",
       "text": [
        "[13:41:09] DEBUG: SundialsIntegrator: t=6.3e-12, last_dmdt=1.02e+03 * stopping_dmdt, next dt=2.92e-12.\n"
       ]
      },
      {
       "output_type": "stream",
       "stream": "stderr",
       "text": [
        "[13:41:09] DEBUG: SundialsIntegrator: t=9.3e-12, last_dmdt=758 * stopping_dmdt, next dt=4.38e-12.\n"
       ]
      },
      {
       "output_type": "stream",
       "stream": "stderr",
       "text": [
        "[13:41:09] DEBUG: SundialsIntegrator: t=1.38e-11, last_dmdt=516 * stopping_dmdt, next dt=6.57e-12.\n"
       ]
      },
      {
       "output_type": "stream",
       "stream": "stderr",
       "text": [
        "[13:41:09] DEBUG: SundialsIntegrator: t=2.06e-11, last_dmdt=304 * stopping_dmdt, next dt=9.85e-12.\n"
       ]
      },
      {
       "output_type": "stream",
       "stream": "stderr",
       "text": [
        "[13:41:10] DEBUG: SundialsIntegrator: t=3.09e-11, last_dmdt=151 * stopping_dmdt, next dt=1.48e-11.\n"
       ]
      },
      {
       "output_type": "stream",
       "stream": "stderr",
       "text": [
        "[13:41:10] DEBUG: SundialsIntegrator: t=4.62e-11, last_dmdt=44.3 * stopping_dmdt, next dt=2.22e-11.\n"
       ]
      },
      {
       "output_type": "stream",
       "stream": "stderr",
       "text": [
        "[13:41:11] DEBUG: SundialsIntegrator: t=6.88e-11, last_dmdt=7.12 * stopping_dmdt, next dt=3.33e-11.\n"
       ]
      },
      {
       "output_type": "stream",
       "stream": "stderr",
       "text": [
        "[13:41:11] DEBUG: SundialsIntegrator: t=1.03e-10, last_dmdt=1.04 * stopping_dmdt, next dt=4.99e-11.\n"
       ]
      },
      {
       "output_type": "stream",
       "stream": "stderr",
       "text": [
        "[13:41:12] DEBUG: SundialsIntegrator: Stopping at t=1.53e-10, with last_dmdt=9.15e+06, smaller than stopping_dmdt=1.75e+07.\n"
       ]
      }
     ],
     "prompt_number": 45
    },
    {
     "cell_type": "markdown",
     "metadata": {},
     "source": [
      "Save snapshots of the relaxed configurations."
     ]
    },
    {
     "cell_type": "code",
     "collapsed": false,
     "input": [
      "sim1.snapshot(\"snapshots/sim1_relaxed.pvd\", force_overwrite=True)\n",
      "sim2.snapshot(\"snapshots/sim2_relaxed.pvd\", force_overwrite=True)\n",
      "sim3.snapshot(\"snapshots/sim3_relaxed.pvd\", force_overwrite=True)\n",
      "sim4.snapshot(\"snapshots/sim4_relaxed.pvd\", force_overwrite=True)"
     ],
     "language": "python",
     "metadata": {},
     "outputs": [
      {
       "output_type": "stream",
       "stream": "stderr",
       "text": [
        "[13:41:21] WARNING: Removing file 'snapshots/sim1_relaxed.pvd' and all associated .vtu files (because force_overwrite=True).\n"
       ]
      },
      {
       "output_type": "stream",
       "stream": "stderr",
       "text": [
        "[13:41:21] INFO: Saved snapshot of magnetisation at t=0 to file 'snapshots/sim1_relaxed.pvd' (saving took 0.00792 seconds).\n"
       ]
      },
      {
       "output_type": "stream",
       "stream": "stderr",
       "text": [
        "[13:41:21] WARNING: Removing file 'snapshots/sim2_relaxed.pvd' and all associated .vtu files (because force_overwrite=True).\n"
       ]
      },
      {
       "output_type": "stream",
       "stream": "stderr",
       "text": [
        "[13:41:21] INFO: Saved snapshot of magnetisation at t=0 to file 'snapshots/sim2_relaxed.pvd' (saving took 0.0074 seconds).\n"
       ]
      },
      {
       "output_type": "stream",
       "stream": "stderr",
       "text": [
        "[13:41:21] WARNING: Removing file 'snapshots/sim3_relaxed.pvd' and all associated .vtu files (because force_overwrite=True).\n"
       ]
      },
      {
       "output_type": "stream",
       "stream": "stderr",
       "text": [
        "[13:41:21] INFO: Saved snapshot of magnetisation at t=0 to file 'snapshots/sim3_relaxed.pvd' (saving took 0.00911 seconds).\n"
       ]
      },
      {
       "output_type": "stream",
       "stream": "stderr",
       "text": [
        "[13:41:21] INFO: Saved snapshot of magnetisation at t=0 to file 'snapshots/sim4_relaxed.pvd' (saving took 0.00889 seconds).\n"
       ]
      }
     ],
     "prompt_number": 46
    },
    {
     "cell_type": "markdown",
     "metadata": {},
     "source": [
      "Define helper functions to convert field vectors from the dolfin format (= 1d vector of length 3*N, where N is the number of mesh vertices) to the \"usual\" format, i.e. a Nx3 array."
     ]
    },
    {
     "cell_type": "code",
     "collapsed": false,
     "input": [
      "#def Nx3_array_to_dolfin_1d_vector(v):\n",
      "#    \"\"\"\n",
      "#    Convert the vector `v` of shape Nx3 to a 1d vector of\n",
      "#    length 3*N.\n",
      "#    \"\"\"\n",
      "#    return np.concatenate([v[:, 0], v[:, 1], v[:, 2]])\n",
      "\n",
      "\n",
      "def dolfin_1d_vector_to_Nx3_array(v):\n",
      "    \"\"\"\n",
      "    Convert the vector `v` of shape Nx3 to a 1d vector of\n",
      "    length 3*N.\n",
      "    \"\"\"\n",
      "    assert(len(v) % 3 == 0)\n",
      "    N = len(v)/3\n",
      "    return np.array([[v[i], v[i+N], v[i+2*N]] for i in xrange(N)])"
     ],
     "language": "python",
     "metadata": {},
     "outputs": [],
     "prompt_number": 47
    },
    {
     "cell_type": "markdown",
     "metadata": {},
     "source": [
      "Evaluate the demag field of sim2 at the mesh coordinates of mesh1 (and vice versa?) to compare it to the demag field of sim1."
     ]
    },
    {
     "cell_type": "code",
     "collapsed": false,
     "input": [
      "v_demag1 = dolfin_1d_vector_to_Nx3_array(sim1.get_interaction(\"demag\").compute_field())\n",
      "v_demag2 = dolfin_1d_vector_to_Nx3_array(sim2.get_interaction(\"demag\").compute_field())\n",
      "v_demag3 = dolfin_1d_vector_to_Nx3_array(sim3.get_interaction(\"demag\").compute_field())\n",
      "v_demag4 = dolfin_1d_vector_to_Nx3_array(sim4.get_interaction(\"demag\").compute_field())\n",
      "print v_demag1.shape\n",
      "print v_demag2.shape\n",
      "print v_demag3.shape\n",
      "print v_demag4.shape"
     ],
     "language": "python",
     "metadata": {},
     "outputs": [
      {
       "output_type": "stream",
       "stream": "stdout",
       "text": [
        "(628, 3)\n",
        "(598, 3)\n",
        "(693, 3)\n",
        "(693, 3)\n"
       ]
      }
     ],
     "prompt_number": 48
    },
    {
     "cell_type": "code",
     "collapsed": false,
     "input": [
      "demag3_on_mesh1 = sim3.probe_field(\"demag\", coords1)\n",
      "demag3_on_mesh2 = sim3.probe_field(\"demag\", coords2)\n",
      "demag3_on_mesh3 = sim3.probe_field(\"demag\", coords3)\n",
      "demag4_on_mesh3 = sim4.probe_field(\"demag\", coords3)\n",
      "#demag3_on_mesh1_1d = field_vector_to_dolfin_1d_vector(demag3_on_mesh1)\n",
      "#demag3_on_mesh2_1d = field_vector_to_dolfin_1d_vector(demag3_on_mesh2)\n",
      "#assert((dolfin_1d_vector_to_field_vector(demag3_on_mesh1_1d) == demag3_on_mesh1).all())\n",
      "#assert((dolfin_1d_vector_to_field_vector(demag3_on_mesh2_1d) == demag3_on_mesh2).all())"
     ],
     "language": "python",
     "metadata": {},
     "outputs": [],
     "prompt_number": 49
    },
    {
     "cell_type": "markdown",
     "metadata": {},
     "source": [
      "Hmmm, as the following lines shows the maximum relative error is still quite large (ca. 40%)! Is this because the meshes are too coarse?\n",
      "\n",
      "XXX TODO: Check this!!!"
     ]
    },
    {
     "cell_type": "code",
     "collapsed": false,
     "input": [
      "#demag1 = dolfin_1d_vector_to_field_vector(v_demag1)\n",
      "#demag2 = dolfin_1d_vector_to_field_vector(v_demag2)\n",
      "#demag3 = dolfin_1d_vector_to_field_vector(v_demag3)"
     ],
     "language": "python",
     "metadata": {},
     "outputs": [],
     "prompt_number": 50
    },
    {
     "cell_type": "code",
     "collapsed": false,
     "input": [
      "# XXX TODO: Compare relative to Ms, not the norms!!!\n",
      "w1 = demag3_on_mesh1 - v_demag1\n",
      "w2 = demag3_on_mesh2 - v_demag2\n",
      "w3 = demag3_on_mesh3 - v_demag3\n",
      "w4 = demag4_on_mesh3 - v_demag4\n",
      "print \"Maximum relative error(s) of demag3 on mesh1: {:.4f}, {:.4f}\".format(max(row_norms(w1) / row_norms(demag3_on_mesh1)), max(row_norms(w1) / row_norms(v_demag1)))\n",
      "print \"Maximum relative error(s) of demag3 on mesh2: {:.4f}, {:.4f}\".format(max(row_norms(w2) / row_norms(demag3_on_mesh2)), max(row_norms(w2) / row_norms(v_demag2)))\n",
      "print \"Maximum relative error(s) of demag3 on mesh3: {:.4f}, {:.4f}\".format(max(row_norms(w3) / row_norms(demag3_on_mesh3)), max(row_norms(w3) / row_norms(v_demag3)))\n",
      "print \"Maximum relative error(s) of demag3 on mesh4: {:.4f}, {:.4f}\".format(max(row_norms(w4) / row_norms(demag4_on_mesh3)), max(row_norms(w4) / row_norms(v_demag4)))"
     ],
     "language": "python",
     "metadata": {},
     "outputs": [
      {
       "output_type": "stream",
       "stream": "stdout",
       "text": [
        "Maximum relative error(s) of demag3 on mesh1: 0.3334, 0.3250\n",
        "Maximum relative error(s) of demag3 on mesh2: 0.3354, 0.3316\n",
        "Maximum relative error(s) of demag3 on mesh3: 0.0000, 0.0000\n",
        "Maximum relative error(s) of demag3 on mesh4: 0.0000, 0.0000\n"
       ]
      }
     ],
     "prompt_number": 52
    },
    {
     "cell_type": "code",
     "collapsed": false,
     "input": [],
     "language": "python",
     "metadata": {},
     "outputs": []
    }
   ],
   "metadata": {}
  }
 ]
}