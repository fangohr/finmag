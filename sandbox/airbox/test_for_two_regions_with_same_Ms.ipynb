{
 "metadata": {
  "name": "test_for_two_regions_with_same_Ms"
 },
 "nbformat": 3,
 "nbformat_minor": 0,
 "worksheets": [
  {
   "cells": [
    {
     "cell_type": "heading",
     "level": 2,
     "metadata": {},
     "source": [
      "Test: two regions with identical Ms"
     ]
    },
    {
     "cell_type": "markdown",
     "metadata": {},
     "source": [
      "We'd like to run two simulations with very similar geometries:\n",
      "\n",
      "  - The first is on a cuboid mesh with just a single region and constant Ms.\n",
      "\n",
      "  - The second is on a mesh containing two regions (e.g. a cube containing a sphere). However, we set Ms to the same value in both regions, so this should give practically identical results to the first simulation (module inaccuracies due to different mesh discretisation).\n",
      "\n",
      "We let both systems relax and then compare the results."
     ]
    },
    {
     "cell_type": "code",
     "collapsed": false,
     "input": [
      "import textwrap\n",
      "import dolfin as df\n",
      "import finmag\n",
      "from finmag import sim_with\n",
      "from finmag.util.meshes import box, from_geofile, plot_mesh, plot_mesh_regions\n",
      "from finmag.util.helpers import piecewise_on_subdomains, vector_valued_function"
     ],
     "language": "python",
     "metadata": {},
     "outputs": [
      {
       "output_type": "stream",
       "stream": "stderr",
       "text": [
        "[10:03:24] DEBUG: Executing sim/__init__.py\n"
       ]
      },
      {
       "output_type": "stream",
       "stream": "stderr",
       "text": [
        "[10:03:24] DEBUG: Executing energies/__init__.py.\n"
       ]
      },
      {
       "output_type": "stream",
       "stream": "stderr",
       "text": [
        "[10:03:24] DEBUG: Building modules in 'native'...\n"
       ]
      },
      {
       "output_type": "stream",
       "stream": "stderr",
       "text": [
        "[10:03:25] DEBUG: This is Finmag version 2221:9edda1fdc1e02538906d6d42e2d440387805fc96\n"
       ]
      }
     ],
     "prompt_number": 1
    },
    {
     "cell_type": "code",
     "collapsed": false,
     "input": [
      "# Mesh discretisation used for the cube and sphere in the meshes\n",
      "r_cube = 11.0\n",
      "r_sphere = 5.0\n",
      "maxh_cube = 5.0\n",
      "maxh_sphere = 2.0"
     ],
     "language": "python",
     "metadata": {},
     "outputs": [],
     "prompt_number": 2
    },
    {
     "cell_type": "markdown",
     "metadata": {},
     "source": [
      "The first mesh is just a regular cube, centered around the origin."
     ]
    },
    {
     "cell_type": "code",
     "collapsed": false,
     "input": [
      "mesh1 = box(-r_cube, -r_cube, -r_cube, +r_cube, +r_cube, +r_cube, maxh=maxh_cube)"
     ],
     "language": "python",
     "metadata": {},
     "outputs": [
      {
       "output_type": "stream",
       "stream": "stderr",
       "text": [
        "[10:03:30] WARNING: The mesh file './box--11_0--11_0--11_0-11_0-11_0-11_0-5_000000e+00.xml.gz' is outdated (since it is older than the .geo file './box--11_0--11_0--11_0-11_0-11_0-11_0-5_000000e+00.geo') and will be overwritten.\n"
       ]
      },
      {
       "output_type": "stream",
       "stream": "stderr",
       "text": [
        "[10:03:30] DEBUG: Using netgen to convert ./box--11_0--11_0--11_0-11_0-11_0-11_0-5_000000e+00.geo to DIFFPACK format.\n"
       ]
      },
      {
       "output_type": "stream",
       "stream": "stderr",
       "text": [
        "[10:03:31] DEBUG: Done!\n"
       ]
      },
      {
       "output_type": "stream",
       "stream": "stderr",
       "text": [
        "[10:03:31] DEBUG: Using dolfin-convert to convert ./box--11_0--11_0--11_0-11_0-11_0-11_0-5_000000e+00.grid to xml format.\n"
       ]
      },
      {
       "output_type": "stream",
       "stream": "stderr",
       "text": [
        "[10:03:32] DEBUG: Compressing ./box--11_0--11_0--11_0-11_0-11_0-11_0-5_000000e+00.xml\n"
       ]
      }
     ],
     "prompt_number": 3
    },
    {
     "cell_type": "markdown",
     "metadata": {},
     "source": [
      "The second mesh is a cube containing a sphere, where the region inside and outside the sphere are considered as two different regions. However, we set $M_s$ to the same value for both regions."
     ]
    },
    {
     "cell_type": "code",
     "collapsed": false,
     "input": [
      "# Write the mesh file from here so that we can adapt maxh interactively from this notebook.\n",
      "with open(\"mesh2.geo\", \"w\") as f:\n",
      "    f.write(textwrap.dedent(\"\"\"\\\n",
      "        algebraic3d\n",
      "\n",
      "        solid permalloy = sphere(0, 0, 0; {r_sphere}) -maxh = {maxh_sphere};\n",
      "        solid box = orthobrick(-{r_cube}, -{r_cube}, -{r_cube}; {r_cube}, {r_cube}, {r_cube}) -maxh = {maxh_cube};\n",
      "        solid air = box and not permalloy;\n",
      "\n",
      "        tlo permalloy;\n",
      "        tlo air;\n",
      "        \"\"\".format(r_sphere=r_sphere, r_cube=r_cube, maxh_sphere=maxh_sphere, maxh_cube=maxh_cube)))"
     ],
     "language": "python",
     "metadata": {},
     "outputs": [],
     "prompt_number": 7
    },
    {
     "cell_type": "code",
     "collapsed": false,
     "input": [
      "mesh2 = from_geofile(\"mesh2.geo\")\n",
      "mesh2_regions = df.MeshFunction(\"uint\", mesh2, \"mesh2_mat.xml\")"
     ],
     "language": "python",
     "metadata": {},
     "outputs": [
      {
       "output_type": "stream",
       "stream": "stderr",
       "text": [
        "[10:09:18] WARNING: The mesh file 'mesh2.xml.gz' is outdated (since it is older than the .geo file 'mesh2.geo') and will be overwritten.\n"
       ]
      },
      {
       "output_type": "stream",
       "stream": "stderr",
       "text": [
        "[10:09:18] DEBUG: Using netgen to convert mesh2.geo to DIFFPACK format.\n"
       ]
      },
      {
       "output_type": "stream",
       "stream": "stderr",
       "text": [
        "[10:09:19] DEBUG: Done!\n"
       ]
      },
      {
       "output_type": "stream",
       "stream": "stderr",
       "text": [
        "[10:09:19] DEBUG: Using dolfin-convert to convert mesh2.grid to xml format.\n"
       ]
      },
      {
       "output_type": "stream",
       "stream": "stderr",
       "text": [
        "[10:09:19] DEBUG: Compressing mesh2.xml\n"
       ]
      }
     ],
     "prompt_number": 8
    },
    {
     "cell_type": "code",
     "collapsed": false,
     "input": [
      "print mesh1\n",
      "print mesh2"
     ],
     "language": "python",
     "metadata": {},
     "outputs": [
      {
       "output_type": "stream",
       "stream": "stdout",
       "text": [
        "<Mesh of topological dimension 3 (tetrahedra) with 123 vertices and 331 cells, ordered>\n",
        "<Mesh of topological dimension 3 (tetrahedra) with 278 vertices and 1212 cells, ordered>\n"
       ]
      }
     ],
     "prompt_number": 9
    },
    {
     "cell_type": "code",
     "collapsed": false,
     "input": [
      "plot_mesh(mesh1)"
     ],
     "language": "python",
     "metadata": {},
     "outputs": [
      {
       "output_type": "pyout",
       "prompt_number": 10,
       "text": [
        "<matplotlib.axes.Axes3DSubplot at 0x4cddbd0>"
       ]
      },
      {
       "output_type": "display_data",
       "png": "[encoded data removed]",
       "text": [
        "<matplotlib.figure.Figure at 0x39fbf50>"
       ]
      }
     ],
     "prompt_number": 10
    },
    {
     "cell_type": "code",
     "collapsed": false,
     "input": [
      "plot_mesh(mesh2)"
     ],
     "language": "python",
     "metadata": {},
     "outputs": [
      {
       "output_type": "pyout",
       "prompt_number": 11,
       "text": [
        "<matplotlib.axes.Axes3DSubplot at 0x4cfbc10>"
       ]
      },
      {
       "output_type": "display_data",
       "png": "[encoded data removed]",
       "text": [
        "<matplotlib.figure.Figure at 0x4cebb50>"
       ]
      }
     ],
     "prompt_number": 11
    },
    {
     "cell_type": "code",
     "collapsed": false,
     "input": [
      "plot_mesh_regions(mesh2_regions, regions=[1, 2], colors=[\"green\", \"red\"], alphas=[1.0, 0.3])"
     ],
     "language": "python",
     "metadata": {},
     "outputs": [
      {
       "output_type": "stream",
       "stream": "stderr",
       "text": [
        "[10:09:40] DEBUG: Adjusting axis limits in order to zoom to mesh size\n"
       ]
      },
      {
       "output_type": "pyout",
       "prompt_number": 13,
       "text": [
        "<matplotlib.axes.Axes3DSubplot at 0x5482dd0>"
       ]
      },
      {
       "output_type": "display_data",
       "png": "[encoded data removed]",
       "text": [
        "<matplotlib.figure.Figure at 0x4f02050>"
       ]
      }
     ],
     "prompt_number": 13
    },
    {
     "cell_type": "code",
     "collapsed": false,
     "input": [
      "# Some parameters common to both simulations\n",
      "Ms = 8.6e5\n",
      "A = 13.0e-12\n",
      "m_init = (1, 0, 0)\n",
      "alpha = 1.0\n",
      "unit_length = 1e-9\n",
      "demag_solver='FK'"
     ],
     "language": "python",
     "metadata": {},
     "outputs": [],
     "prompt_number": 14
    },
    {
     "cell_type": "markdown",
     "metadata": {},
     "source": [
      "Now we define both simulations ..."
     ]
    },
    {
     "cell_type": "code",
     "collapsed": true,
     "input": [
      "sim1 = sim_with(mesh1, Ms=Ms, m_init=m_init, alpha=alpha, unit_length=unit_length, A=A, demag_solver=demag_solver)\n",
      "\n",
      "Ms_vals = (8.6e5, 8.6e5)\n",
      "Ms_func = piecewise_on_subdomains(mesh2, mesh2_regions, Ms_vals)\n",
      "sim2 = sim_with(mesh2, Ms=Ms, m_init=m_init, alpha=alpha, unit_length=unit_length, A=A, demag_solver=demag_solver)"
     ],
     "language": "python",
     "metadata": {},
     "outputs": [
      {
       "output_type": "stream",
       "stream": "stderr",
       "text": [
        "[10:09:43] INFO: Creating Sim object (rank=0/1) [Tue Nov 27 10:09:43 2012].\n"
       ]
      },
      {
       "output_type": "stream",
       "stream": "stderr",
       "text": [
        "[10:09:43] INFO: <Mesh of topological dimension 3 (tetrahedra) with 123 vertices and 331 cells, ordered>\n"
       ]
      },
      {
       "output_type": "stream",
       "stream": "stderr",
       "text": [
        "[10:09:43] DEBUG: Creating LLG object.\n"
       ]
      },
      {
       "output_type": "stream",
       "stream": "stderr",
       "text": [
        "[10:09:43] DEBUG: Creating Exchange object with method box-matrix-petsc, in Jacobian.\n"
       ]
      },
      {
       "output_type": "stream",
       "stream": "stderr",
       "text": [
        "[10:09:43] DEBUG: Creating Demag object with FK solver.\n"
       ]
      },
      {
       "output_type": "stream",
       "stream": "stderr",
       "text": [
        "[10:09:44] DEBUG: Demag: Poisson solver parameters.\n",
        "    {'maximum_iterations': 10000, 'divergence_limit': 10000.0, 'relative_tolerance': 1e-06, 'gmres':\n",
        "    {'restart': 30}, 'preconditioner': {'shift_nonzero': 0.0, 'reuse': False,\n",
        "    'same_nonzero_pattern': False, 'ilu': {'fill_level': 0}, 'schwarz': {'overlap': 1}, 'report':\n",
        "    False}, 'error_on_nonconvergence': True, 'monitor_convergence': False, 'nonzero_initial_guess':\n",
        "    False, 'report': True, 'absolute_tolerance': 1e-15}\n"
       ]
      },
      {
       "output_type": "stream",
       "stream": "stderr",
       "text": [
        "[10:09:44] DEBUG: Demag: Laplace solver parameters.\n",
        "    {'maximum_iterations': 10000, 'divergence_limit': 10000.0, 'relative_tolerance': 1e-06, 'gmres':\n",
        "    {'restart': 30}, 'preconditioner': {'shift_nonzero': 0.0, 'reuse': False,\n",
        "    'same_nonzero_pattern': True, 'ilu': {'fill_level': 0}, 'schwarz': {'overlap': 1}, 'report':\n",
        "    False}, 'error_on_nonconvergence': True, 'monitor_convergence': False, 'nonzero_initial_guess':\n",
        "    False, 'report': True, 'absolute_tolerance': 1e-15}\n"
       ]
      },
      {
       "output_type": "stream",
       "stream": "stderr",
       "text": [
        "[10:09:44] INFO: Creating Sim object (rank=0/1) [Tue Nov 27 10:09:44 2012].\n"
       ]
      },
      {
       "output_type": "stream",
       "stream": "stderr",
       "text": [
        "[10:09:44] INFO: <Mesh of topological dimension 3 (tetrahedra) with 278 vertices and 1212 cells, ordered>\n"
       ]
      },
      {
       "output_type": "stream",
       "stream": "stderr",
       "text": [
        "[10:09:44] DEBUG: Creating LLG object.\n"
       ]
      },
      {
       "output_type": "stream",
       "stream": "stderr",
       "text": [
        "[10:09:44] DEBUG: Creating Exchange object with method box-matrix-petsc, in Jacobian.\n"
       ]
      },
      {
       "output_type": "stream",
       "stream": "stderr",
       "text": [
        "[10:09:44] DEBUG: Creating Demag object with FK solver.\n"
       ]
      },
      {
       "output_type": "stream",
       "stream": "stderr",
       "text": [
        "[10:09:44] DEBUG: Demag: Poisson solver parameters.\n",
        "    {'maximum_iterations': 10000, 'divergence_limit': 10000.0, 'relative_tolerance': 1e-06, 'gmres':\n",
        "    {'restart': 30}, 'preconditioner': {'shift_nonzero': 0.0, 'reuse': False,\n",
        "    'same_nonzero_pattern': False, 'ilu': {'fill_level': 0}, 'schwarz': {'overlap': 1}, 'report':\n",
        "    False}, 'error_on_nonconvergence': True, 'monitor_convergence': False, 'nonzero_initial_guess':\n",
        "    False, 'report': True, 'absolute_tolerance': 1e-15}\n"
       ]
      },
      {
       "output_type": "stream",
       "stream": "stderr",
       "text": [
        "[10:09:44] DEBUG: Demag: Laplace solver parameters.\n",
        "    {'maximum_iterations': 10000, 'divergence_limit': 10000.0, 'relative_tolerance': 1e-06, 'gmres':\n",
        "    {'restart': 30}, 'preconditioner': {'shift_nonzero': 0.0, 'reuse': False,\n",
        "    'same_nonzero_pattern': True, 'ilu': {'fill_level': 0}, 'schwarz': {'overlap': 1}, 'report':\n",
        "    False}, 'error_on_nonconvergence': True, 'monitor_convergence': False, 'nonzero_initial_guess':\n",
        "    False, 'report': True, 'absolute_tolerance': 1e-15}\n"
       ]
      }
     ],
     "prompt_number": 15
    },
    {
     "cell_type": "markdown",
     "metadata": {},
     "source": [
      "... and relax them both."
     ]
    },
    {
     "cell_type": "code",
     "collapsed": false,
     "input": [
      "%time sim1.relax()"
     ],
     "language": "python",
     "metadata": {},
     "outputs": [
      {
       "output_type": "stream",
       "stream": "stderr",
       "text": [
        "[10:09:47] INFO: Will integrate until relaxation.\n"
       ]
      },
      {
       "output_type": "stream",
       "stream": "stderr",
       "text": [
        "[10:09:48] DEBUG: Creating LLGIntegrator with backend sundials.\n"
       ]
      },
      {
       "output_type": "stream",
       "stream": "stderr",
       "text": [
        "[10:09:48] DEBUG: SundialsIntegrator: t=1.03e-14, last_dmdt=2.53e+03 * stopping_dmdt, next dt=1.5e-14.\n"
       ]
      },
      {
       "output_type": "stream",
       "stream": "stderr",
       "text": [
        "[10:09:48] DEBUG: SundialsIntegrator: t=3.09e-14, last_dmdt=2.57e+03 * stopping_dmdt, next dt=2.25e-14.\n"
       ]
      },
      {
       "output_type": "stream",
       "stream": "stderr",
       "text": [
        "[10:09:48] DEBUG: SundialsIntegrator: dmdt 1.02 times larger than last time (counting 1/20).\n"
       ]
      },
      {
       "output_type": "stream",
       "stream": "stderr",
       "text": [
        "[10:09:48] DEBUG: SundialsIntegrator: t=7.57e-14, last_dmdt=3.12e+03 * stopping_dmdt, next dt=3.37e-14.\n"
       ]
      },
      {
       "output_type": "stream",
       "stream": "stderr",
       "text": [
        "[10:09:48] DEBUG: SundialsIntegrator: dmdt 1.21 times larger than last time (counting 2/20).\n"
       ]
      },
      {
       "output_type": "stream",
       "stream": "stderr",
       "text": [
        "[10:09:48] DEBUG: SundialsIntegrator: t=1.24e-13, last_dmdt=4.09e+03 * stopping_dmdt, next dt=5.06e-14.\n"
       ]
      },
      {
       "output_type": "stream",
       "stream": "stderr",
       "text": [
        "[10:09:48] DEBUG: SundialsIntegrator: dmdt 1.31 times larger than last time (counting 3/20).\n"
       ]
      },
      {
       "output_type": "stream",
       "stream": "stderr",
       "text": [
        "[10:09:48] DEBUG: SundialsIntegrator: t=1.97e-13, last_dmdt=3.13e+03 * stopping_dmdt, next dt=7.59e-14.\n"
       ]
      },
      {
       "output_type": "stream",
       "stream": "stderr",
       "text": [
        "[10:09:48] DEBUG: SundialsIntegrator: t=2.81e-13, last_dmdt=3.07e+03 * stopping_dmdt, next dt=1.14e-13.\n"
       ]
      },
      {
       "output_type": "stream",
       "stream": "stderr",
       "text": [
        "[10:09:48] DEBUG: SundialsIntegrator: t=4.31e-13, last_dmdt=2.48e+03 * stopping_dmdt, next dt=1.71e-13.\n"
       ]
      },
      {
       "output_type": "stream",
       "stream": "stderr",
       "text": [
        "[10:09:48] DEBUG: SundialsIntegrator: t=6.31e-13, last_dmdt=2.71e+03 * stopping_dmdt, next dt=2.56e-13.\n"
       ]
      },
      {
       "output_type": "stream",
       "stream": "stderr",
       "text": [
        "[10:09:48] DEBUG: SundialsIntegrator: dmdt 1.09 times larger than last time (counting 4/20).\n"
       ]
      },
      {
       "output_type": "stream",
       "stream": "stderr",
       "text": [
        "[10:09:48] DEBUG: SundialsIntegrator: t=9.39e-13, last_dmdt=2.34e+03 * stopping_dmdt, next dt=3.84e-13.\n"
       ]
      },
      {
       "output_type": "stream",
       "stream": "stderr",
       "text": [
        "[10:09:48] DEBUG: SundialsIntegrator: t=1.37e-12, last_dmdt=2.21e+03 * stopping_dmdt, next dt=5.77e-13.\n"
       ]
      },
      {
       "output_type": "stream",
       "stream": "stderr",
       "text": [
        "[10:09:48] DEBUG: SundialsIntegrator: t=2.03e-12, last_dmdt=1.88e+03 * stopping_dmdt, next dt=8.65e-13.\n"
       ]
      },
      {
       "output_type": "stream",
       "stream": "stderr",
       "text": [
        "[10:09:48] DEBUG: SundialsIntegrator: t=3.03e-12, last_dmdt=1.6e+03 * stopping_dmdt, next dt=1.3e-12.\n"
       ]
      },
      {
       "output_type": "stream",
       "stream": "stderr",
       "text": [
        "[10:09:48] DEBUG: SundialsIntegrator: t=4.36e-12, last_dmdt=1.32e+03 * stopping_dmdt, next dt=1.95e-12.\n"
       ]
      },
      {
       "output_type": "stream",
       "stream": "stderr",
       "text": [
        "[10:09:48] DEBUG: SundialsIntegrator: t=6.55e-12, last_dmdt=975 * stopping_dmdt, next dt=2.92e-12.\n"
       ]
      },
      {
       "output_type": "stream",
       "stream": "stderr",
       "text": [
        "[10:09:48] DEBUG: SundialsIntegrator: t=9.68e-12, last_dmdt=785 * stopping_dmdt, next dt=4.38e-12.\n"
       ]
      },
      {
       "output_type": "stream",
       "stream": "stderr",
       "text": [
        "[10:09:48] DEBUG: SundialsIntegrator: t=1.41e-11, last_dmdt=545 * stopping_dmdt, next dt=6.57e-12.\n"
       ]
      },
      {
       "output_type": "stream",
       "stream": "stderr",
       "text": [
        "[10:09:48] DEBUG: SundialsIntegrator: t=2.07e-11, last_dmdt=336 * stopping_dmdt, next dt=9.85e-12.\n"
       ]
      },
      {
       "output_type": "stream",
       "stream": "stderr",
       "text": [
        "[10:09:48] DEBUG: SundialsIntegrator: t=3.11e-11, last_dmdt=183 * stopping_dmdt, next dt=1.48e-11.\n"
       ]
      },
      {
       "output_type": "stream",
       "stream": "stderr",
       "text": [
        "[10:09:49] DEBUG: SundialsIntegrator: t=4.67e-11, last_dmdt=69.9 * stopping_dmdt, next dt=2.22e-11.\n"
       ]
      },
      {
       "output_type": "stream",
       "stream": "stderr",
       "text": [
        "[10:09:49] DEBUG: SundialsIntegrator: t=6.93e-11, last_dmdt=17.6 * stopping_dmdt, next dt=3.33e-11.\n"
       ]
      },
      {
       "output_type": "stream",
       "stream": "stderr",
       "text": [
        "[10:09:49] DEBUG: SundialsIntegrator: t=1.03e-10, last_dmdt=5.58 * stopping_dmdt, next dt=4.99e-11.\n"
       ]
      },
      {
       "output_type": "stream",
       "stream": "stderr",
       "text": [
        "[10:09:49] DEBUG: SundialsIntegrator: t=1.54e-10, last_dmdt=3.97 * stopping_dmdt, next dt=7.48e-11.\n"
       ]
      },
      {
       "output_type": "stream",
       "stream": "stderr",
       "text": [
        "[10:09:49] DEBUG: SundialsIntegrator: t=2.32e-10, last_dmdt=3.48 * stopping_dmdt, next dt=1e-10.\n"
       ]
      },
      {
       "output_type": "stream",
       "stream": "stderr",
       "text": [
        "[10:09:49] DEBUG: SundialsIntegrator: t=3.34e-10, last_dmdt=2.98 * stopping_dmdt, next dt=1e-10.\n"
       ]
      },
      {
       "output_type": "stream",
       "stream": "stderr",
       "text": [
        "[10:09:50] DEBUG: SundialsIntegrator: t=4.4e-10, last_dmdt=2.45 * stopping_dmdt, next dt=1e-10.\n"
       ]
      },
      {
       "output_type": "stream",
       "stream": "stderr",
       "text": [
        "[10:09:50] DEBUG: SundialsIntegrator: t=5.44e-10, last_dmdt=2.09 * stopping_dmdt, next dt=1e-10.\n"
       ]
      },
      {
       "output_type": "stream",
       "stream": "stderr",
       "text": [
        "[10:09:50] DEBUG: SundialsIntegrator: t=6.52e-10, last_dmdt=1.7 * stopping_dmdt, next dt=1e-10.\n"
       ]
      },
      {
       "output_type": "stream",
       "stream": "stderr",
       "text": [
        "[10:09:50] DEBUG: SundialsIntegrator: t=7.52e-10, last_dmdt=1.46 * stopping_dmdt, next dt=1e-10.\n"
       ]
      },
      {
       "output_type": "stream",
       "stream": "stderr",
       "text": [
        "[10:09:50] DEBUG: SundialsIntegrator: t=8.6e-10, last_dmdt=1.12 * stopping_dmdt, next dt=1e-10.\n"
       ]
      },
      {
       "output_type": "stream",
       "stream": "stderr",
       "text": [
        "[10:09:50] DEBUG: SundialsIntegrator: t=9.63e-10, last_dmdt=1.01 * stopping_dmdt, next dt=1e-10.\n"
       ]
      },
      {
       "output_type": "stream",
       "stream": "stderr",
       "text": [
        "[10:09:51] DEBUG: SundialsIntegrator: Stopping at t=1.07e-09, with last_dmdt=1.41e+07, smaller than stopping_dmdt=1.75e+07.\n"
       ]
      },
      {
       "output_type": "stream",
       "stream": "stdout",
       "text": [
        "CPU times: user 18.08 s, sys: 0.18 s, total: 18.26 s\n",
        "Wall time: 3.12 s\n"
       ]
      }
     ],
     "prompt_number": 16
    },
    {
     "cell_type": "code",
     "collapsed": false,
     "input": [
      "%time sim2.relax()"
     ],
     "language": "python",
     "metadata": {},
     "outputs": [
      {
       "output_type": "stream",
       "stream": "stderr",
       "text": [
        "[10:09:53] INFO: Will integrate until relaxation.\n"
       ]
      },
      {
       "output_type": "stream",
       "stream": "stderr",
       "text": [
        "[10:09:53] DEBUG: Creating LLGIntegrator with backend sundials.\n"
       ]
      },
      {
       "output_type": "stream",
       "stream": "stderr",
       "text": [
        "[10:09:53] DEBUG: SundialsIntegrator: t=1.28e-14, last_dmdt=2.5e+03 * stopping_dmdt, next dt=1.5e-14.\n"
       ]
      },
      {
       "output_type": "stream",
       "stream": "stderr",
       "text": [
        "[10:09:53] DEBUG: SundialsIntegrator: t=3.94e-14, last_dmdt=2.96e+03 * stopping_dmdt, next dt=2.25e-14.\n"
       ]
      },
      {
       "output_type": "stream",
       "stream": "stderr",
       "text": [
        "[10:09:53] DEBUG: SundialsIntegrator: dmdt 1.18 times larger than last time (counting 1/20).\n"
       ]
      },
      {
       "output_type": "stream",
       "stream": "stderr",
       "text": [
        "[10:09:53] DEBUG: SundialsIntegrator: t=6.5e-14, last_dmdt=3.75e+03 * stopping_dmdt, next dt=3.37e-14.\n"
       ]
      },
      {
       "output_type": "stream",
       "stream": "stderr",
       "text": [
        "[10:09:53] DEBUG: SundialsIntegrator: dmdt 1.27 times larger than last time (counting 2/20).\n"
       ]
      },
      {
       "output_type": "stream",
       "stream": "stderr",
       "text": [
        "[10:09:53] DEBUG: SundialsIntegrator: t=1.03e-13, last_dmdt=2.69e+03 * stopping_dmdt, next dt=5.06e-14.\n"
       ]
      },
      {
       "output_type": "stream",
       "stream": "stderr",
       "text": [
        "[10:09:53] DEBUG: SundialsIntegrator: t=1.55e-13, last_dmdt=2.66e+03 * stopping_dmdt, next dt=7.59e-14.\n"
       ]
      },
      {
       "output_type": "stream",
       "stream": "stderr",
       "text": [
        "[10:09:53] DEBUG: SundialsIntegrator: t=2.33e-13, last_dmdt=2.43e+03 * stopping_dmdt, next dt=1.14e-13.\n"
       ]
      },
      {
       "output_type": "stream",
       "stream": "stderr",
       "text": [
        "[10:09:53] DEBUG: SundialsIntegrator: t=3.5e-13, last_dmdt=2.38e+03 * stopping_dmdt, next dt=1.71e-13.\n"
       ]
      },
      {
       "output_type": "stream",
       "stream": "stderr",
       "text": [
        "[10:09:53] DEBUG: SundialsIntegrator: t=5.48e-13, last_dmdt=2.31e+03 * stopping_dmdt, next dt=2.56e-13.\n"
       ]
      },
      {
       "output_type": "stream",
       "stream": "stderr",
       "text": [
        "[10:09:53] DEBUG: SundialsIntegrator: t=8.1e-13, last_dmdt=2.37e+03 * stopping_dmdt, next dt=3.84e-13.\n"
       ]
      },
      {
       "output_type": "stream",
       "stream": "stderr",
       "text": [
        "[10:09:53] DEBUG: SundialsIntegrator: dmdt 1.03 times larger than last time (counting 3/20).\n"
       ]
      },
      {
       "output_type": "stream",
       "stream": "stderr",
       "text": [
        "[10:09:53] DEBUG: SundialsIntegrator: t=1.19e-12, last_dmdt=2e+03 * stopping_dmdt, next dt=5.77e-13.\n"
       ]
      },
      {
       "output_type": "stream",
       "stream": "stderr",
       "text": [
        "[10:09:53] DEBUG: SundialsIntegrator: t=1.78e-12, last_dmdt=1.75e+03 * stopping_dmdt, next dt=8.65e-13.\n"
       ]
      },
      {
       "output_type": "stream",
       "stream": "stderr",
       "text": [
        "[10:09:53] DEBUG: SundialsIntegrator: t=2.66e-12, last_dmdt=1.47e+03 * stopping_dmdt, next dt=1.3e-12.\n"
       ]
      },
      {
       "output_type": "stream",
       "stream": "stderr",
       "text": [
        "[10:09:53] DEBUG: SundialsIntegrator: t=4.01e-12, last_dmdt=1.31e+03 * stopping_dmdt, next dt=1.95e-12.\n"
       ]
      },
      {
       "output_type": "stream",
       "stream": "stderr",
       "text": [
        "[10:09:53] DEBUG: SundialsIntegrator: t=6.12e-12, last_dmdt=1.08e+03 * stopping_dmdt, next dt=2.92e-12.\n"
       ]
      },
      {
       "output_type": "stream",
       "stream": "stderr",
       "text": [
        "[10:09:54] DEBUG: SundialsIntegrator: t=9.18e-12, last_dmdt=840 * stopping_dmdt, next dt=4.38e-12.\n"
       ]
      },
      {
       "output_type": "stream",
       "stream": "stderr",
       "text": [
        "[10:09:54] DEBUG: SundialsIntegrator: t=1.37e-11, last_dmdt=568 * stopping_dmdt, next dt=6.57e-12.\n"
       ]
      },
      {
       "output_type": "stream",
       "stream": "stderr",
       "text": [
        "[10:09:54] DEBUG: SundialsIntegrator: t=2.03e-11, last_dmdt=342 * stopping_dmdt, next dt=9.85e-12.\n"
       ]
      },
      {
       "output_type": "stream",
       "stream": "stderr",
       "text": [
        "[10:09:54] DEBUG: SundialsIntegrator: t=3.02e-11, last_dmdt=180 * stopping_dmdt, next dt=1.48e-11.\n"
       ]
      },
      {
       "output_type": "stream",
       "stream": "stderr",
       "text": [
        "[10:09:55] DEBUG: SundialsIntegrator: t=4.5e-11, last_dmdt=60.7 * stopping_dmdt, next dt=2.22e-11.\n"
       ]
      },
      {
       "output_type": "stream",
       "stream": "stderr",
       "text": [
        "[10:09:56] DEBUG: SundialsIntegrator: t=6.72e-11, last_dmdt=15 * stopping_dmdt, next dt=3.33e-11.\n"
       ]
      },
      {
       "output_type": "stream",
       "stream": "stderr",
       "text": [
        "[10:09:57] DEBUG: SundialsIntegrator: t=1e-10, last_dmdt=4.77 * stopping_dmdt, next dt=4.99e-11.\n"
       ]
      },
      {
       "output_type": "stream",
       "stream": "stderr",
       "text": [
        "[10:09:59] DEBUG: SundialsIntegrator: t=1.5e-10, last_dmdt=3.87 * stopping_dmdt, next dt=7.48e-11.\n"
       ]
      },
      {
       "output_type": "stream",
       "stream": "stderr",
       "text": [
        "[10:10:02] DEBUG: SundialsIntegrator: t=2.26e-10, last_dmdt=3.41 * stopping_dmdt, next dt=1e-10.\n"
       ]
      },
      {
       "output_type": "stream",
       "stream": "stderr",
       "text": [
        "[10:10:06] DEBUG: SundialsIntegrator: t=3.26e-10, last_dmdt=2.99 * stopping_dmdt, next dt=1e-10.\n"
       ]
      },
      {
       "output_type": "stream",
       "stream": "stderr",
       "text": [
        "[10:10:09] DEBUG: SundialsIntegrator: t=4.26e-10, last_dmdt=2.55 * stopping_dmdt, next dt=1e-10.\n"
       ]
      },
      {
       "output_type": "stream",
       "stream": "stderr",
       "text": [
        "[10:10:13] DEBUG: SundialsIntegrator: t=5.26e-10, last_dmdt=2.17 * stopping_dmdt, next dt=1e-10.\n"
       ]
      },
      {
       "output_type": "stream",
       "stream": "stderr",
       "text": [
        "[10:10:17] DEBUG: SundialsIntegrator: t=6.26e-10, last_dmdt=1.84 * stopping_dmdt, next dt=1e-10.\n"
       ]
      },
      {
       "output_type": "stream",
       "stream": "stderr",
       "text": [
        "[10:10:20] DEBUG: SundialsIntegrator: t=7.26e-10, last_dmdt=1.57 * stopping_dmdt, next dt=1e-10.\n"
       ]
      },
      {
       "output_type": "stream",
       "stream": "stderr",
       "text": [
        "[10:10:23] DEBUG: SundialsIntegrator: t=8.26e-10, last_dmdt=1.34 * stopping_dmdt, next dt=1e-10.\n"
       ]
      },
      {
       "output_type": "stream",
       "stream": "stderr",
       "text": [
        "[10:10:27] DEBUG: SundialsIntegrator: t=9.26e-10, last_dmdt=1.15 * stopping_dmdt, next dt=1e-10.\n"
       ]
      },
      {
       "output_type": "stream",
       "stream": "stderr",
       "text": [
        "[10:10:30] DEBUG: SundialsIntegrator: Stopping at t=1.03e-09, with last_dmdt=1.72e+07, smaller than stopping_dmdt=1.75e+07.\n"
       ]
      },
      {
       "output_type": "stream",
       "stream": "stdout",
       "text": [
        "CPU times: user 209.54 s, sys: 3.31 s, total: 212.85 s\n",
        "Wall time: 37.59 s\n"
       ]
      }
     ],
     "prompt_number": 17
    },
    {
     "cell_type": "code",
     "collapsed": false,
     "input": [
      "def get_demag_field(sim):\n",
      "    demag_lst = [e for e in sim.llg.effective_field.interactions if isinstance(e, finmag.energies.demag.demag.Demag)]\n",
      "    if len(demag_lst) != 1:\n",
      "        raise ValueError(\"Expected exactly one demag interaction. Found: {}\".format(len(demag_lst)))\n",
      "    return demag_lst[0]"
     ],
     "language": "python",
     "metadata": {},
     "outputs": [],
     "prompt_number": 18
    },
    {
     "cell_type": "code",
     "collapsed": false,
     "input": [
      "demag1 = get_demag_field(sim1)\n",
      "demag2 = get_demag_field(sim2)\n",
      "print demag1, demag2"
     ],
     "language": "python",
     "metadata": {},
     "outputs": [
      {
       "output_type": "stream",
       "stream": "stdout",
       "text": [
        "<finmag.energies.demag.demag.Demag object at 0x59196d0> <finmag.energies.demag.demag.Demag object at 0x5783c10>\n"
       ]
      }
     ],
     "prompt_number": 19
    },
    {
     "cell_type": "code",
     "collapsed": false,
     "input": [
      "type(demag1)"
     ],
     "language": "python",
     "metadata": {},
     "outputs": [
      {
       "output_type": "pyout",
       "prompt_number": 20,
       "text": [
        "finmag.energies.demag.demag.Demag"
       ]
      }
     ],
     "prompt_number": 20
    },
    {
     "cell_type": "markdown",
     "metadata": {},
     "source": [
      "Check that the number of degrees of freedom is correct: each field vector should have the length 3*num_mesh_vectices."
     ]
    },
    {
     "cell_type": "code",
     "collapsed": false,
     "input": [
      "assert (demag1.compute_field().shape == (3 * mesh1.num_vertices(),))\n",
      "assert (demag2.compute_field().shape == (3 * mesh2.num_vertices(),))"
     ],
     "language": "python",
     "metadata": {},
     "outputs": [],
     "prompt_number": 21
    },
    {
     "cell_type": "code",
     "collapsed": false,
     "input": [
      "from finmag.energies import Exchange\n",
      "from finmag.energies import UniaxialAnisotropy\n",
      "from finmag.energies import Zeeman\n",
      "from finmag.energies import Demag\n",
      "\n",
      "field_classes = {\n",
      "    \"exchange\": Exchange,\n",
      "    \"demag\": Demag,\n",
      "    \"anisotropy\": UniaxialAnisotropy,\n",
      "    \"zeeman\": Zeeman\n",
      "    }\n",
      "\n",
      "def get_field_as_dolfin_function(sim, field_type):\n",
      "    \"\"\"\n",
      "    Return the given field as a dolfin.Function.\n",
      "\n",
      "    *Arguments*\n",
      "\n",
      "    field_type: string\n",
      "\n",
      "        The field to be converted to a dolfin.Function.\n",
      "        Must be one of: \"exchange\", \"demag\", \"anisotropy\",\n",
      "        \"zeeman\".\n",
      "    \"\"\"\n",
      "    try:\n",
      "        FieldClass = field_classes[field_type]\n",
      "    except KeyError:\n",
      "        raise ValueError(\"'field_type' must be a string representing one of the known field types: {}\".format(field_classes.keys()))\n",
      "    field_lst = [e for e in sim.llg.effective_field.interactions if isinstance(e, FieldClass)]\n",
      "    if len(field_lst) != 1:\n",
      "        raise ValueError(\"Expected exactly one interaction of type '{}' in simulation. Found: {}\".format(field_type, len(field_lst)))\n",
      "    S3 = df.VectorFunctionSpace(sim.mesh, 'CG', 1)\n",
      "    # XXX TODO: This probably copies the data in a in the process of creating the function. Check whether this is the case!\n",
      "    #           If so, can we avoid this somehow?\n",
      "    #           Also, can we cache the the field function if we want to probe the field at many different locations? It's probably\n",
      "    #           wiser so have a method which returns the field as a function and store it ouside this function.\n",
      "    a = field_lst[0].compute_field()\n",
      "    fun_field = vector_valued_function(a, S3)\n",
      "    return fun_field"
     ],
     "language": "python",
     "metadata": {},
     "outputs": [],
     "prompt_number": 22
    },
    {
     "cell_type": "code",
     "collapsed": false,
     "input": [
      "def probe_field(sim, field_type, pts):\n",
      "    \"\"\"\n",
      "    Probe the field of type `field_type` at point `pt`.\n",
      "\n",
      "    *Arguments*\n",
      "\n",
      "    field_type: string or classname\n",
      "\n",
      "        asdfasdf\n",
      "\n",
      "    pts: single point or list of points\n",
      "\n",
      "        The point(s) where the field should be probed. Can a\n",
      "        single point (= list of 3 floats) or a list of points.\n",
      "\n",
      "    *Returns*\n",
      "\n",
      "        If `pts` is a single point, returns a numpy 3-array\n",
      "        containing the field values at that point. If `pts` is\n",
      "        an iterable of points, returns a list of field values.\n",
      "\n",
      "    *Limitations*\n",
      "\n",
      "    Currently the points where the field is probed must lie\n",
      "    inside the mesh.\n",
      "    \"\"\"\n",
      "    pts = np.array(pts)\n",
      "    probe_at_single_point = False\n",
      "    if pts.ndim == 1 and len(pts) == 3:\n",
      "        probe_at_single_point = True\n",
      "        pts = np.array([pts])\n",
      "    assert(pts.ndim == 2 and pts.shape[1] == 3)\n",
      "\n",
      "    fun_field = get_field_as_dolfin_function(sim, field_type)\n",
      "    res = map(fun_field, pts)\n",
      "    if probe_at_single_point:\n",
      "        res = res[0]\n",
      "    return res"
     ],
     "language": "python",
     "metadata": {},
     "outputs": [],
     "prompt_number": 131
    },
    {
     "cell_type": "code",
     "collapsed": false,
     "input": [
      "## This is a 1-dimensional array, unfortunately.\n",
      "#a = demag1.compute_field()\n",
      "#\n",
      "#from numpy.lib.stride_tricks import as_strided\n",
      "#N = mesh1.num_vertices()\n",
      "#assert(a.shape == (3*N,))  # check that a has the expected shape\n",
      "#stride_a = a.strides[0]\n",
      "#v_field = as_strided(a, shape=(N, 3), strides=(stride_a, N*stride_a)).reshape(a.shape)  # unfortunately, the reshape must make a copy I believe\n",
      "#S3 = df.VectorFunctionSpace(mesh1, 'CG', 1)\n",
      "#fun_field = vector_valued_function(v_field, S3)"
     ],
     "language": "python",
     "metadata": {},
     "outputs": [],
     "prompt_number": 132
    },
    {
     "cell_type": "code",
     "collapsed": false,
     "input": [
      "probe_field(sim1, \"demag\", (0,0,0))\n",
      "probe_field(sim1, \"demag\", [(0,0,0)])"
     ],
     "language": "python",
     "metadata": {},
     "outputs": [
      {
       "output_type": "pyout",
       "prompt_number": 135,
       "text": [
        "[array([-243483.64691174,   13638.23382274,   -3602.10722847])]"
       ]
      }
     ],
     "prompt_number": 135
    },
    {
     "cell_type": "markdown",
     "metadata": {},
     "source": [
      "Test: probe the field at all vertices and check that the result is the same as the field array itself."
     ]
    },
    {
     "cell_type": "code",
     "collapsed": false,
     "input": [
      "fun_demag1 = get_field_as_dolfin_function(sim1, \"demag\")\n",
      "#fun_demag2 = get_field_as_dolfin_function(sim2, \"demag\")"
     ],
     "language": "python",
     "metadata": {},
     "outputs": [],
     "prompt_number": 29
    },
    {
     "cell_type": "code",
     "collapsed": false,
     "input": [
      "N1 = mesh1.num_vertices()\n",
      "N2 = mesh2.num_vertices()"
     ],
     "language": "python",
     "metadata": {},
     "outputs": [],
     "prompt_number": 52
    },
    {
     "cell_type": "markdown",
     "metadata": {},
     "source": [
      "Evaluate the field at all mesh vertices. The result is an array ```vv``` of shape ```(N1, 3)```."
     ]
    },
    {
     "cell_type": "code",
     "collapsed": false,
     "input": [
      "vv = array([fun_demag1(c) for c in mesh1.coordinates()])\n",
      "assert(vv.shape == (N1, 3))\n",
      "print vv.shape"
     ],
     "language": "python",
     "metadata": {},
     "outputs": [
      {
       "output_type": "stream",
       "stream": "stdout",
       "text": [
        "(123, 3)\n"
       ]
      }
     ],
     "prompt_number": 54
    },
    {
     "cell_type": "markdown",
     "metadata": {},
     "source": [
      "Now convert this back into a 1d vector with a layout following the dolfin convention."
     ]
    },
    {
     "cell_type": "code",
     "collapsed": false,
     "input": [
      "vv_1d = np.concatenate([vv[:, 0], vv[:, 1], vv[:, 2]])\n",
      "assert(vv_1d.shape == (369,))\n",
      "print vv_1d.shape"
     ],
     "language": "python",
     "metadata": {},
     "outputs": [
      {
       "output_type": "stream",
       "stream": "stdout",
       "text": [
        "(369,)\n"
       ]
      }
     ],
     "prompt_number": 63
    },
    {
     "cell_type": "markdown",
     "metadata": {},
     "source": [
      "The result should coincide with both the vector ```demag1.compute_field()``` and ```fun_demag1.vector().array()```.\n",
      "\n",
      "Note that the evaluation of ```fun_demag1``` at the mesh vertices introduced very small numerical inaccuracies, so we have to use ```allclose()``` instead of ```==```."
     ]
    },
    {
     "cell_type": "code",
     "collapsed": false,
     "input": [
      "a1 = demag1.compute_field()\n",
      "b1 = fun_demag1.vector().array()\n",
      "assert(vv_1d.shape == a1.shape)\n",
      "assert(vv_1d.shape == b1.shape)\n",
      "assert(allclose(vv_1d, a1))\n",
      "assert(allclose(vv_1d, b1))\n",
      "# Print the inaccuracies for illustration purposes\n",
      "print max(vv_1d - a1)\n",
      "print max(vv_1d - b1)\n",
      "print max(a1 - b1)"
     ],
     "language": "python",
     "metadata": {},
     "outputs": [
      {
       "output_type": "stream",
       "stream": "stdout",
       "text": [
        "2.11002770811e-10\n",
        "2.11002770811e-10\n",
        "0.0\n"
       ]
      }
     ],
     "prompt_number": 125
    },
    {
     "cell_type": "code",
     "collapsed": false,
     "input": [],
     "language": "python",
     "metadata": {},
     "outputs": []
    }
   ],
   "metadata": {}
  }
 ]
}