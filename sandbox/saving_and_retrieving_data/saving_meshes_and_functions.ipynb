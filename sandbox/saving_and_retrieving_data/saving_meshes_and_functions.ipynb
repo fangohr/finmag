{
 "metadata": {
  "name": "saving_meshes_and_functions"
 },
 "nbformat": 3,
 "nbformat_minor": 0,
 "worksheets": [
  {
   "cells": [
    {
     "cell_type": "code",
     "collapsed": false,
     "input": [
      "from dolfin import *\n",
      "import numpy as np"
     ],
     "language": "python",
     "metadata": {},
     "outputs": [],
     "prompt_number": 1
    },
    {
     "cell_type": "markdown",
     "metadata": {},
     "source": [
      "## Creating some sample data"
     ]
    },
    {
     "cell_type": "markdown",
     "metadata": {},
     "source": [
      "Let's create a mesh and define a simple linear function on that mesh."
     ]
    },
    {
     "cell_type": "code",
     "collapsed": false,
     "input": [
      "mesh = UnitCubeMesh(2, 2, 2)\n",
      "V = FunctionSpace(mesh, 'CG', 1)"
     ],
     "language": "python",
     "metadata": {},
     "outputs": [],
     "prompt_number": 2
    },
    {
     "cell_type": "code",
     "collapsed": false,
     "input": [
      "expr = Expression('0.5*x[0]-x[1]')\n",
      "f = interpolate(expr, V)"
     ],
     "language": "python",
     "metadata": {},
     "outputs": [],
     "prompt_number": 3
    },
    {
     "cell_type": "code",
     "collapsed": false,
     "input": [
      "print f.vector().array()"
     ],
     "language": "python",
     "metadata": {},
     "outputs": [
      {
       "output_type": "stream",
       "stream": "stdout",
       "text": [
        "[-0.5  -0.75 -1.    0.    0.5  -0.5  -0.25 -0.5  -0.75 -1.    0.25  0.    0.5\n",
        " -0.5  -0.25  0.   -0.5  -0.75 -1.    0.25  0.    0.5  -0.25  0.   -0.5\n",
        "  0.25  0.  ]\n"
       ]
      }
     ],
     "prompt_number": 4
    },
    {
     "cell_type": "markdown",
     "metadata": {},
     "source": [
      "## Saving the mesh"
     ]
    },
    {
     "cell_type": "markdown",
     "metadata": {},
     "source": [
      "### The internal structure of a mesh"
     ]
    },
    {
     "cell_type": "markdown",
     "metadata": {},
     "source": [
      "The mesh is essentially given by its vertex coordinates (= the geometry) and how they are connected (the topology). These two bits of information can be accesses via `mesh.coordinates()` and `mesh.cells()` as illustrated below. Dolfin seems to store some more data internally (some of which is generated as needed), but my impression is that these two should be enough to fully recreate the mesh."
     ]
    },
    {
     "cell_type": "code",
     "collapsed": false,
     "input": [
      "print mesh.coordinates()[:10]"
     ],
     "language": "python",
     "metadata": {},
     "outputs": [
      {
       "output_type": "stream",
       "stream": "stdout",
       "text": [
        "[[ 0.   0.   0. ]\n",
        " [ 0.5  0.   0. ]\n",
        " [ 1.   0.   0. ]\n",
        " [ 0.   0.5  0. ]\n",
        " [ 0.5  0.5  0. ]\n",
        " [ 1.   0.5  0. ]\n",
        " [ 0.   1.   0. ]\n",
        " [ 0.5  1.   0. ]\n",
        " [ 1.   1.   0. ]\n",
        " [ 0.   0.   0.5]]\n"
       ]
      }
     ],
     "prompt_number": 5
    },
    {
     "cell_type": "code",
     "collapsed": false,
     "input": [
      "print mesh.cells()[:10]"
     ],
     "language": "python",
     "metadata": {},
     "outputs": [
      {
       "output_type": "stream",
       "stream": "stdout",
       "text": [
        "[[ 0  1  4 13]\n",
        " [ 0  1 10 13]\n",
        " [ 0  9 10 13]\n",
        " [ 0  3  4 13]\n",
        " [ 0  9 12 13]\n",
        " [ 0  3 12 13]\n",
        " [ 1  2  5 14]\n",
        " [ 1  2 11 14]\n",
        " [ 1 10 11 14]\n",
        " [ 1  4  5 14]]\n"
       ]
      }
     ],
     "prompt_number": 6
    },
    {
     "cell_type": "markdown",
     "metadata": {},
     "source": [
      "Obviously these can be saved to a file and read back in. However, it is unclear how to construct a mesh from scratch using this information."
     ]
    },
    {
     "cell_type": "markdown",
     "metadata": {},
     "source": [
      "### Saving to `.xml.gz`"
     ]
    },
    {
     "cell_type": "markdown",
     "metadata": {},
     "source": [
      "Dolfin provides a way to save a mesh to a file in `.xml.gz` format:"
     ]
    },
    {
     "cell_type": "code",
     "collapsed": false,
     "input": [
      "F = File('mesh.xml.gz', 'w')\n",
      "F << mesh"
     ],
     "language": "python",
     "metadata": {},
     "outputs": [],
     "prompt_number": 7
    },
    {
     "cell_type": "code",
     "collapsed": false,
     "input": [
      "!ls -lh mesh.xml.gz"
     ],
     "language": "python",
     "metadata": {},
     "outputs": [
      {
       "output_type": "stream",
       "stream": "stdout",
       "text": [
        "-rw-rw-r-- 1 albert albert 686 Mar 15 09:58 mesh.xml.gz\r\n"
       ]
      }
     ],
     "prompt_number": 8
    },
    {
     "cell_type": "markdown",
     "metadata": {},
     "source": [
      "This can be read back in as follows:"
     ]
    },
    {
     "cell_type": "code",
     "collapsed": false,
     "input": [
      "mesh2 = Mesh('mesh.xml.gz')"
     ],
     "language": "python",
     "metadata": {},
     "outputs": [],
     "prompt_number": 9
    },
    {
     "cell_type": "markdown",
     "metadata": {},
     "source": [
      "Indeed, the two meshes seem to be identical:"
     ]
    },
    {
     "cell_type": "code",
     "collapsed": false,
     "input": [
      "print np.allclose(mesh.coordinates(), mesh2.coordinates())\n",
      "print np.allclose(mesh.cells(), mesh2.cells())"
     ],
     "language": "python",
     "metadata": {},
     "outputs": [
      {
       "output_type": "stream",
       "stream": "stdout",
       "text": [
        "True\n",
        "True\n"
       ]
      }
     ],
     "prompt_number": 10
    },
    {
     "cell_type": "markdown",
     "metadata": {},
     "source": [
      "### Saving to HDF5"
     ]
    },
    {
     "cell_type": "markdown",
     "metadata": {},
     "source": [
      "Dolfin provides some support for saving meshes to HDF5:"
     ]
    },
    {
     "cell_type": "code",
     "collapsed": false,
     "input": [
      "F = HDF5File('meshfile.h5', 'w')\n",
      "F.write(mesh, 'My awesome mesh')"
     ],
     "language": "python",
     "metadata": {},
     "outputs": [],
     "prompt_number": 11
    },
    {
     "cell_type": "code",
     "collapsed": false,
     "input": [
      "!ls -lh meshfile.h5"
     ],
     "language": "python",
     "metadata": {},
     "outputs": [
      {
       "output_type": "stream",
       "stream": "stdout",
       "text": [
        "-rw-rw-r-- 1 albert albert 8.6K Mar 15 09:58 meshfile.h5\r\n"
       ]
      }
     ],
     "prompt_number": 12
    },
    {
     "cell_type": "markdown",
     "metadata": {},
     "source": [
      "We can recreate the mesh by creating an empty mesh first and filling it with the data from the file:"
     ]
    },
    {
     "cell_type": "code",
     "collapsed": false,
     "input": [
      "G = HDF5File('meshfile.h5', 'r')"
     ],
     "language": "python",
     "metadata": {},
     "outputs": [],
     "prompt_number": 13
    },
    {
     "cell_type": "code",
     "collapsed": false,
     "input": [
      "# Caveat: The following may not always work, as sometimes\n",
      "# dolfin doesn't flush the data to the file immediately\n",
      "# and thus reading it back in is broken.\n",
      "mesh3 = Mesh()\n",
      "G.read(mesh3, 'My awesome mesh')"
     ],
     "language": "python",
     "metadata": {},
     "outputs": [],
     "prompt_number": 14
    },
    {
     "cell_type": "code",
     "collapsed": false,
     "input": [
      "print np.allclose(mesh.coordinates(), mesh3.coordinates())\n",
      "print np.allclose(mesh.cells(), mesh3.cells())"
     ],
     "language": "python",
     "metadata": {},
     "outputs": [
      {
       "output_type": "stream",
       "stream": "stdout",
       "text": [
        "True\n",
        "True\n"
       ]
      }
     ],
     "prompt_number": 15
    },
    {
     "cell_type": "markdown",
     "metadata": {},
     "source": [
      "## Saving a function"
     ]
    },
    {
     "cell_type": "markdown",
     "metadata": {},
     "source": [
      "### Saving the function vector"
     ]
    },
    {
     "cell_type": "markdown",
     "metadata": {},
     "source": [
      "Internally, the function is represented by a vector, which gives the values of the function at each degree of freedom."
     ]
    },
    {
     "cell_type": "code",
     "collapsed": false,
     "input": [
      "print f.vector()"
     ],
     "language": "python",
     "metadata": {},
     "outputs": [
      {
       "output_type": "stream",
       "stream": "stdout",
       "text": [
        "<PETScVector of size 27>\n"
       ]
      }
     ],
     "prompt_number": 16
    },
    {
     "cell_type": "markdown",
     "metadata": {},
     "source": [
      "It is possible to get a copy of this vector in a numpy.array:"
     ]
    },
    {
     "cell_type": "code",
     "collapsed": false,
     "input": [
      "print f.vector().array()"
     ],
     "language": "python",
     "metadata": {},
     "outputs": [
      {
       "output_type": "stream",
       "stream": "stdout",
       "text": [
        "[-0.5  -0.75 -1.    0.    0.5  -0.5  -0.25 -0.5  -0.75 -1.    0.25  0.    0.5\n",
        " -0.5  -0.25  0.   -0.5  -0.75 -1.    0.25  0.    0.5  -0.25  0.   -0.5\n",
        "  0.25  0.  ]\n"
       ]
      }
     ],
     "prompt_number": 17
    },
    {
     "cell_type": "markdown",
     "metadata": {},
     "source": [
      "The most naive way of saving a function is thus to save this vector to a file."
     ]
    },
    {
     "cell_type": "code",
     "collapsed": false,
     "input": [
      "v = f.vector().array()\n",
      "np.save('f_vec.npy', v)"
     ],
     "language": "python",
     "metadata": {},
     "outputs": [],
     "prompt_number": 18
    },
    {
     "cell_type": "markdown",
     "metadata": {},
     "source": [
      "In order to read it back in, we create a new function (in the same `FunctionSpace`) and fill its vector with the values read from the file:"
     ]
    },
    {
     "cell_type": "code",
     "collapsed": false,
     "input": [
      "g = Function(V)\n",
      "g.vector().set_local(np.load('f_vec.npy'))\n",
      "g.vector()[:] = np.load('f_vec.npy')  # alternative way, but not recommended in parallel"
     ],
     "language": "python",
     "metadata": {},
     "outputs": [],
     "prompt_number": 19
    },
    {
     "cell_type": "markdown",
     "metadata": {},
     "source": [
      "Indeed, this seems to give us back the original function:"
     ]
    },
    {
     "cell_type": "code",
     "collapsed": false,
     "input": [
      "print all(f.vector() == g.vector())\n",
      "print (f.vector() - g.vector()).norm('l2')"
     ],
     "language": "python",
     "metadata": {},
     "outputs": [
      {
       "output_type": "stream",
       "stream": "stdout",
       "text": [
        "True\n",
        "0.0\n"
       ]
      }
     ],
     "prompt_number": 20
    },
    {
     "cell_type": "markdown",
     "metadata": {},
     "source": [
      "### Saving to HDF5"
     ]
    },
    {
     "cell_type": "code",
     "collapsed": false,
     "input": [
      "F = HDF5File('functionfile.h5', 'w')\n",
      "F.write(f.vector(), 'An awesome function')"
     ],
     "language": "python",
     "metadata": {},
     "outputs": [],
     "prompt_number": 21
    },
    {
     "cell_type": "code",
     "collapsed": false,
     "input": [
      "G = HDF5File('functionfile.h5', 'r')"
     ],
     "language": "python",
     "metadata": {},
     "outputs": [],
     "prompt_number": 22
    },
    {
     "cell_type": "code",
     "collapsed": false,
     "input": [
      "# Caveat: The following may not always work, as sometimes\n",
      "# dolfin doesn't flush the data to the file immediately\n",
      "# and thus reading it back in is broken.\n",
      "h = Function(V)\n",
      "G.read(h.vector(), 'An awesome function')"
     ],
     "language": "python",
     "metadata": {},
     "outputs": [],
     "prompt_number": 23
    },
    {
     "cell_type": "code",
     "collapsed": false,
     "input": [
      "print all(f.vector() == g.vector())\n",
      "print (f.vector() - g.vector()).norm('l2')"
     ],
     "language": "python",
     "metadata": {},
     "outputs": [
      {
       "output_type": "stream",
       "stream": "stdout",
       "text": [
        "True\n",
        "0.0\n"
       ]
      }
     ],
     "prompt_number": 24
    },
    {
     "cell_type": "code",
     "collapsed": false,
     "input": [],
     "language": "python",
     "metadata": {},
     "outputs": []
    }
   ],
   "metadata": {}
  }
 ]
}