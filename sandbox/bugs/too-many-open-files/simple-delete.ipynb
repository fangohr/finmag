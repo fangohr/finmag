{
 "metadata": {
  "name": "",
  "signature": "sha256:52e23d670bdb631147f95c732d92fce65a25bb5d2cac674dec9bacc286701d6c"
 },
 "nbformat": 3,
 "nbformat_minor": 0,
 "worksheets": [
  {
   "cells": [
    {
     "cell_type": "code",
     "collapsed": false,
     "input": [
      "import finmag"
     ],
     "language": "python",
     "metadata": {},
     "outputs": [
      {
       "output_type": "stream",
       "stream": "stderr",
       "text": [
        "[2015-03-28 15:59:27] INFO: Finmag logging output will be appended to file: '/home/fangohr/.finmag/global.log'\n"
       ]
      },
      {
       "output_type": "stream",
       "stream": "stderr",
       "text": [
        "[2015-03-28 15:59:27] DEBUG: Building modules in 'native'...\n"
       ]
      },
      {
       "output_type": "stream",
       "stream": "stderr",
       "text": [
        "[2015-03-28 15:59:27] DEBUG: FinMag          5823:a7b501055810a76ba6f4f620d69658bb19d4bbb2\n"
       ]
      },
      {
       "output_type": "stream",
       "stream": "stderr",
       "text": [
        "[2015-03-28 15:59:27] DEBUG: Dolfin          1.4.0                Matplotlib      lazily loaded       \n"
       ]
      },
      {
       "output_type": "stream",
       "stream": "stderr",
       "text": [
        "[2015-03-28 15:59:27] DEBUG: Numpy           1.8.2                Scipy           0.15.1              \n"
       ]
      },
      {
       "output_type": "stream",
       "stream": "stderr",
       "text": [
        "[2015-03-28 15:59:27] DEBUG: IPython         2.4.0                Python          2.7.6               \n"
       ]
      },
      {
       "output_type": "stream",
       "stream": "stderr",
       "text": [
        "[2015-03-28 15:59:28] DEBUG: Paraview        4.0.1-1ubuntu1       Sundials        2.5.0               \n"
       ]
      },
      {
       "output_type": "stream",
       "stream": "stderr",
       "text": [
        "[2015-03-28 15:59:28] DEBUG: Boost-Python    <unknown>            Linux           Ubuntu 14.04.1 LTS  \n"
       ]
      },
      {
       "output_type": "stream",
       "stream": "stderr",
       "text": [
        "[2015-03-28 15:59:28] DEBUG: Registering debug signal handler. Press Ctrl-Z any time to stop execution and jump into the debugger.\n"
       ]
      }
     ],
     "prompt_number": 1
    },
    {
     "cell_type": "code",
     "collapsed": false,
     "input": [
      "reload(finmag)"
     ],
     "language": "python",
     "metadata": {},
     "outputs": [
      {
       "metadata": {},
       "output_type": "pyout",
       "prompt_number": 2,
       "text": [
        "<module 'finmag' from '/home/fangohr/hg/finmag/src/finmag/__init__.pyc'>"
       ]
      }
     ],
     "prompt_number": 2
    },
    {
     "cell_type": "code",
     "collapsed": false,
     "input": [
      "import dolfin as df\n",
      "mesh = df.UnitIntervalMesh(1)"
     ],
     "language": "python",
     "metadata": {},
     "outputs": [],
     "prompt_number": 3
    },
    {
     "cell_type": "code",
     "collapsed": false,
     "input": [
      "s = finmag.Simulation(mesh, Ms=1, unit_length=1e-9, name='simple')"
     ],
     "language": "python",
     "metadata": {},
     "outputs": [
      {
       "output_type": "stream",
       "stream": "stderr",
       "text": [
        "[2015-03-28 15:59:29] INFO: Finmag logging output will be written to file: '/home/fangohr/hg/finmag/sandbox/bugs/too-many-open-files/simple.log' (any old content will be overwritten).\n"
       ]
      },
      {
       "output_type": "stream",
       "stream": "stderr",
       "text": [
        "[2015-03-28 15:59:29] DEBUG: Creating DataWriter for file 'simple.ndt'\n"
       ]
      },
      {
       "output_type": "stream",
       "stream": "stderr",
       "text": [
        "[2015-03-28 15:59:29] INFO: Creating Sim object 'simple' (rank=0/1).\n"
       ]
      },
      {
       "output_type": "stream",
       "stream": "stderr",
       "text": [
        "[2015-03-28 15:59:29] INFO: <Mesh of topological dimension 1 (intervals) with 2 vertices and 1 cells, ordered>\n"
       ]
      },
      {
       "output_type": "stream",
       "stream": "stderr",
       "text": [
        "[2015-03-28 15:59:29] DEBUG: Creating LLG object.\n"
       ]
      }
     ],
     "prompt_number": 4
    },
    {
     "cell_type": "code",
     "collapsed": false,
     "input": [
      "s.delete()"
     ],
     "language": "python",
     "metadata": {},
     "outputs": [
      {
       "output_type": "stream",
       "stream": "stderr",
       "text": [
        "[2015-03-28 15:59:30] DEBUG: delete(): 1-refcount 6 for simple\n"
       ]
      },
      {
       "output_type": "stream",
       "stream": "stderr",
       "text": [
        "[2015-03-28 15:59:30] DEBUG: 'Deletinging all get methods in TableWriter(name=simple.ndt)\n"
       ]
      },
      {
       "output_type": "stream",
       "stream": "stderr",
       "text": [
        "[2015-03-28 15:59:30] DEBUG: 'Deleting' get method for dmdt in TableWriter(name=simple.ndt)\n"
       ]
      },
      {
       "output_type": "stream",
       "stream": "stderr",
       "text": [
        "[2015-03-28 15:59:30] DEBUG: 'Deleting' get method for E_total in TableWriter(name=simple.ndt)\n"
       ]
      },
      {
       "output_type": "stream",
       "stream": "stderr",
       "text": [
        "[2015-03-28 15:59:30] DEBUG: 'Deleting' get method for m in TableWriter(name=simple.ndt)\n"
       ]
      },
      {
       "output_type": "stream",
       "stream": "stderr",
       "text": [
        "[2015-03-28 15:59:30] DEBUG: 'Deleting' get method for steps in TableWriter(name=simple.ndt)\n"
       ]
      },
      {
       "output_type": "stream",
       "stream": "stderr",
       "text": [
        "[2015-03-28 15:59:30] DEBUG: 'Deleting' get method for time in TableWriter(name=simple.ndt)\n"
       ]
      },
      {
       "output_type": "stream",
       "stream": "stderr",
       "text": [
        "[2015-03-28 15:59:30] DEBUG: 'Deleting' get method for H_total in TableWriter(name=simple.ndt)\n"
       ]
      },
      {
       "output_type": "stream",
       "stream": "stderr",
       "text": [
        "[2015-03-28 15:59:30] DEBUG: 'Deleting' get method for last_step_dt in TableWriter(name=simple.ndt)\n"
       ]
      },
      {
       "output_type": "stream",
       "stream": "stderr",
       "text": [
        "[2015-03-28 15:59:30] DEBUG: delete(): 2-refcount 6 for simple\n"
       ]
      },
      {
       "output_type": "stream",
       "stream": "stderr",
       "text": [
        "[2015-03-28 15:59:30] DEBUG: delete(): 3-refcount 5 for simple\n"
       ]
      },
      {
       "output_type": "stream",
       "stream": "stderr",
       "text": [
        "[2015-03-28 15:59:30] DEBUG: Removing scheduled items:\n"
       ]
      },
      {
       "output_type": "stream",
       "stream": "stderr",
       "text": [
        "[2015-03-28 15:59:30] INFO: Creating integrator with backend sundials and arguments {'reltol': 1e-06, 'abstol': 1e-06}.\n"
       ]
      },
      {
       "output_type": "stream",
       "stream": "stderr",
       "text": [
        "[2015-03-28 15:59:30] DEBUG: Updating get method for steps in TableWriter(name=simple.ndt)\n"
       ]
      },
      {
       "output_type": "stream",
       "stream": "stderr",
       "text": [
        "[2015-03-28 15:59:30] DEBUG: Updating get method for last_step_dt in TableWriter(name=simple.ndt)\n"
       ]
      },
      {
       "output_type": "stream",
       "stream": "stderr",
       "text": [
        "[2015-03-28 15:59:30] DEBUG: Updating get method for dmdt in TableWriter(name=simple.ndt)\n"
       ]
      },
      {
       "output_type": "stream",
       "stream": "stderr",
       "text": [
        "[2015-03-28 15:59:30] DEBUG: delete(): 4-refcount 5 for simple\n"
       ]
      },
      {
       "output_type": "stream",
       "stream": "stderr",
       "text": [
        "[2015-03-28 15:59:30] DEBUG: delete(): 5-refcount 5 for simple\n"
       ]
      },
      {
       "output_type": "stream",
       "stream": "stderr",
       "text": [
        "[2015-03-28 15:59:30] DEBUG: delete(): 6-refcount 4 for simple\n"
       ]
      },
      {
       "output_type": "stream",
       "stream": "stderr",
       "text": [
        "[2015-03-28 15:59:30] INFO: Closing logging_handler <logging.handlers.RotatingFileHandler object at 0x7f3de8799ad0> for sim object simple\n"
       ]
      },
      {
       "output_type": "stream",
       "stream": "stderr",
       "text": [
        "[2015-03-28 15:59:30] DEBUG: delete(): 7-refcount 4 for simple\n"
       ]
      },
      {
       "metadata": {},
       "output_type": "pyout",
       "prompt_number": 5,
       "text": [
        "4"
       ]
      }
     ],
     "prompt_number": 5
    },
    {
     "cell_type": "code",
     "collapsed": false,
     "input": [
      "del s"
     ],
     "language": "python",
     "metadata": {},
     "outputs": [
      {
       "output_type": "stream",
       "stream": "stdout",
       "text": [
        "Simulation object simple is going out of scope (__del__())\n"
       ]
      }
     ],
     "prompt_number": 6
    },
    {
     "cell_type": "code",
     "collapsed": false,
     "input": [],
     "language": "python",
     "metadata": {},
     "outputs": []
    }
   ],
   "metadata": {}
  }
 ]
}