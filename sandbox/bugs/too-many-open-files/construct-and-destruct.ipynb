{
 "metadata": {
  "name": "",
  "signature": "sha256:fd01f0e55503b5d35b9b873bbb182bf78a3fc7c15c6685393101dd5d1457a1f0"
 },
 "nbformat": 3,
 "nbformat_minor": 0,
 "worksheets": [
  {
   "cells": [
    {
     "cell_type": "markdown",
     "metadata": {},
     "source": [
      "# Deconstructors in Python"
     ]
    },
    {
     "cell_type": "markdown",
     "metadata": {},
     "source": [
      "Example from http://eli.thegreenplace.net/2009/06/12/safely-using-destructors-in-python"
     ]
    },
    {
     "cell_type": "markdown",
     "metadata": {},
     "source": [
      "## Example 1"
     ]
    },
    {
     "cell_type": "code",
     "collapsed": false,
     "input": [
      "class FooType(object):\n",
      "    def __init__(self, id):\n",
      "        self.id = id\n",
      "        print self.id, 'born'\n",
      "\n",
      "    def __del__(self):\n",
      "        print self.id, 'died'"
     ],
     "language": "python",
     "metadata": {},
     "outputs": [],
     "prompt_number": 2
    },
    {
     "cell_type": "code",
     "collapsed": false,
     "input": [
      "f = FooType(1)"
     ],
     "language": "python",
     "metadata": {},
     "outputs": [
      {
       "output_type": "stream",
       "stream": "stdout",
       "text": [
        "1 born\n"
       ]
      }
     ],
     "prompt_number": 4
    },
    {
     "cell_type": "code",
     "collapsed": false,
     "input": [
      "del f"
     ],
     "language": "python",
     "metadata": {},
     "outputs": [
      {
       "output_type": "stream",
       "stream": "stdout",
       "text": [
        "1 died\n"
       ]
      }
     ],
     "prompt_number": 6
    },
    {
     "cell_type": "markdown",
     "metadata": {},
     "source": [
      "## Example 2"
     ]
    },
    {
     "cell_type": "code",
     "collapsed": false,
     "input": [
      "class FooType(object):\n",
      "    def __init__(self, id):\n",
      "        self.id = id\n",
      "        print self.id, 'born'\n",
      "\n",
      "    def __del__(self):\n",
      "        print self.id, 'died'\n",
      "\n",
      "def make_foo():\n",
      "    print 'Making...'\n",
      "    ft = FooType(1)\n",
      "    print 'Returning...'\n",
      "    return ft\n",
      "\n",
      "print 'Calling...'\n",
      "ft = make_foo()\n",
      "print 'End...'\n"
     ],
     "language": "python",
     "metadata": {},
     "outputs": [
      {
       "output_type": "stream",
       "stream": "stdout",
       "text": [
        "Calling...\n",
        "Making...\n",
        "1 born\n",
        "Returning...\n",
        "End...\n"
       ]
      }
     ],
     "prompt_number": 7
    },
    {
     "cell_type": "code",
     "collapsed": false,
     "input": [
      "del ft"
     ],
     "language": "python",
     "metadata": {},
     "outputs": [
      {
       "output_type": "stream",
       "stream": "stdout",
       "text": [
        "1 died\n"
       ]
      }
     ],
     "prompt_number": 8
    },
    {
     "cell_type": "code",
     "collapsed": false,
     "input": [],
     "language": "python",
     "metadata": {},
     "outputs": []
    }
   ],
   "metadata": {}
  }
 ]
}