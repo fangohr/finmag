{
 "metadata": {
  "name": "spatially-varying-M"
 },
 "nbformat": 3,
 "nbformat_minor": 0,
 "worksheets": [
  {
   "cells": [
    {
     "cell_type": "code",
     "collapsed": false,
     "input": [
      "import dolfin as df"
     ],
     "language": "python",
     "metadata": {},
     "outputs": [],
     "prompt_number": 1
    },
    {
     "cell_type": "code",
     "collapsed": false,
     "input": [
      "mesh = df.Interval(15,0,1)\n",
      "\n",
      "CG1 = df.FunctionSpace(mesh,'CG',1)  \n",
      "DG0 = df.FunctionSpace(mesh,'DG',0)  \n",
      "\n",
      "f = df.interpolate(df.Expression(\"x[0]*x[0]\"),CG1)\n",
      "g = df.interpolate(df.Expression(\"2.0\"),DG0)\n",
      "\n",
      "import numpy as np\n",
      "import pylab\n",
      "pylab.figure(figsize=(10,8))\n",
      "x = linspace(0,1,100)\n",
      "y = [f(x_) for x_ in x]\n",
      "pylab.plot(x,y,'o')"
     ],
     "language": "python",
     "metadata": {},
     "outputs": [
      {
       "output_type": "stream",
       "stream": "stdout",
       "text": [
        "Calling FFC just-in-time (JIT) compiler, this may take some time.\n"
       ]
      },
      {
       "output_type": "stream",
       "stream": "stdout",
       "text": [
        "0.668148148148\n"
       ]
      },
      {
       "output_type": "display_data",
       "png": "[encoded data removed]"
      }
     ],
     "prompt_number": 50
    },
    {
     "cell_type": "markdown",
     "metadata": {},
     "source": [
      "Integrating f over the interval, should be 1/3 (int x^2 dx)"
     ]
    },
    {
     "cell_type": "code",
     "collapsed": false,
     "input": [
      "weak = f * df.dx\n",
      "print(df.assemble(weak))"
     ],
     "language": "python",
     "metadata": {},
     "outputs": [
      {
       "output_type": "stream",
       "stream": "stdout",
       "text": [
        "0.334074074074\n"
       ]
      }
     ],
     "prompt_number": 51
    },
    {
     "cell_type": "markdown",
     "metadata": {},
     "source": [
      "Integrating f*g over interval [0,1] should be 2*1/3"
     ]
    },
    {
     "cell_type": "code",
     "collapsed": false,
     "input": [
      "weak = f * g * df.dx\n",
      "print(df.assemble(weak))"
     ],
     "language": "python",
     "metadata": {},
     "outputs": [
      {
       "output_type": "stream",
       "stream": "stdout",
       "text": [
        "0.668148148148\n"
       ]
      }
     ],
     "prompt_number": 52
    },
    {
     "cell_type": "code",
     "collapsed": false,
     "input": [],
     "language": "python",
     "metadata": {},
     "outputs": []
    }
   ],
   "metadata": {}
  }
 ]
}