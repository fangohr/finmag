{
 "metadata": {
  "name": "",
  "signature": "sha256:17dd14011e21092cfc97d60c26cac00c8923a0f0d4865a60f7fe0794772c3ea2"
 },
 "nbformat": 3,
 "nbformat_minor": 0,
 "worksheets": [
  {
   "cells": [
    {
     "cell_type": "code",
     "collapsed": false,
     "input": [
      "import dolfin as df\n",
      "df.parameters.reorder_dofs_serial = False\n"
     ],
     "language": "python",
     "metadata": {},
     "outputs": [],
     "prompt_number": 25
    },
    {
     "cell_type": "code",
     "collapsed": false,
     "input": [
      "# Example without PBC"
     ],
     "language": "python",
     "metadata": {},
     "outputs": [],
     "prompt_number": 26
    },
    {
     "cell_type": "code",
     "collapsed": false,
     "input": [
      "mesh = df.UnitSquareMesh(3,3)"
     ],
     "language": "python",
     "metadata": {},
     "outputs": [],
     "prompt_number": 27
    },
    {
     "cell_type": "code",
     "collapsed": false,
     "input": [
      "V = df.VectorFunctionSpace(mesh, \"CG\", 1, dim=3)"
     ],
     "language": "python",
     "metadata": {},
     "outputs": [
      {
       "output_type": "stream",
       "stream": "stderr",
       "text": [
        "DEBUG:UFL:No integrals left after transformation, returning empty form.\n"
       ]
      },
      {
       "output_type": "stream",
       "stream": "stderr",
       "text": [
        "DEBUG:FFC:Reusing form from cache.\n"
       ]
      }
     ],
     "prompt_number": 28
    },
    {
     "cell_type": "code",
     "collapsed": false,
     "input": [
      "df.dof_to_vertex_map(V)"
     ],
     "language": "python",
     "metadata": {},
     "outputs": [
      {
       "metadata": {},
       "output_type": "pyout",
       "prompt_number": 29,
       "text": [
        "array([ 0,  3,  6,  9, 12, 15, 18, 21, 24, 27, 30, 33, 36, 39, 42, 45,  1,\n",
        "        4,  7, 10, 13, 16, 19, 22, 25, 28, 31, 34, 37, 40, 43, 46,  2,  5,\n",
        "        8, 11, 14, 17, 20, 23, 26, 29, 32, 35, 38, 41, 44, 47], dtype=uint64)"
       ]
      }
     ],
     "prompt_number": 29
    },
    {
     "cell_type": "code",
     "collapsed": false,
     "input": [
      "df.vertex_to_dof_map(V)"
     ],
     "language": "python",
     "metadata": {},
     "outputs": [
      {
       "metadata": {},
       "output_type": "pyout",
       "prompt_number": 30,
       "text": [
        "array([ 0, 16, 32,  1, 17, 33,  2, 18, 34,  3, 19, 35,  4, 20, 36,  5, 21,\n",
        "       37,  6, 22, 38,  7, 23, 39,  8, 24, 40,  9, 25, 41, 10, 26, 42, 11,\n",
        "       27, 43, 12, 28, 44, 13, 29, 45, 14, 30, 46, 15, 31, 47], dtype=int32)"
       ]
      }
     ],
     "prompt_number": 30
    },
    {
     "cell_type": "markdown",
     "metadata": {},
     "source": [
      "# Now an example with PBC"
     ]
    },
    {
     "cell_type": "code",
     "collapsed": false,
     "input": [
      "mesh = df.IntervalMesh(4, 1, 5)\n",
      "\n",
      "class PeriodicBoundary(df.SubDomain):\n",
      "\n",
      "    def inside(self, x, on_boundary):\n",
      "        return bool(x[0] < 1+df.DOLFIN_EPS and x[0] > 1-df.DOLFIN_EPS and on_boundary)\n",
      "\n",
      "    def map(self, x, y):\n",
      "        y[0] = x[0] - 4.0\n",
      "\n",
      "# Create periodic boundary condition                                            \n",
      "pbc = PeriodicBoundary()\n",
      "\n",
      "fspace = df.VectorFunctionSpace(mesh, 'CG', 1, dim=3, constrained_domain=pbc)\n",
      "\n",
      "expression = df.Expression(['x[0]+0.1', 'x[0]+0.2', 'x[0]+0.3'])\n",
      "\n",
      "f = df.interpolate(expression, fspace)\n",
      "\n",
      "print f.vector().array()"
     ],
     "language": "python",
     "metadata": {},
     "outputs": [
      {
       "output_type": "stream",
       "stream": "stderr",
       "text": [
        "DEBUG:UFL:No integrals left after transformation, returning empty form.\n"
       ]
      },
      {
       "output_type": "stream",
       "stream": "stderr",
       "text": [
        "DEBUG:FFC:Reusing form from cache.\n"
       ]
      },
      {
       "output_type": "stream",
       "stream": "stdout",
       "text": [
        "[ 5.1  2.1  3.1  4.1  5.2  2.2  3.2  4.2  5.3  2.3  3.3  4.3]\n"
       ]
      }
     ],
     "prompt_number": 31
    },
    {
     "cell_type": "code",
     "collapsed": false,
     "input": [
      "mesh.coordinates()"
     ],
     "language": "python",
     "metadata": {},
     "outputs": [
      {
       "metadata": {},
       "output_type": "pyout",
       "prompt_number": 36,
       "text": [
        "array([[ 1.],\n",
        "       [ 2.],\n",
        "       [ 3.],\n",
        "       [ 4.],\n",
        "       [ 5.]])"
       ]
      }
     ],
     "prompt_number": 36
    },
    {
     "cell_type": "code",
     "collapsed": false,
     "input": [
      "df.dof_to_vertex_map(fspace)"
     ],
     "language": "python",
     "metadata": {},
     "outputs": [
      {
       "metadata": {},
       "output_type": "pyout",
       "prompt_number": 32,
       "text": [
        "array([12,  3,  6,  9, 13,  4,  7, 10, 14,  5,  8, 11], dtype=uint64)"
       ]
      }
     ],
     "prompt_number": 32
    },
    {
     "cell_type": "code",
     "collapsed": false,
     "input": [
      "v2dmap = df.vertex_to_dof_map(fspace)\n",
      "print(v2dmap)"
     ],
     "language": "python",
     "metadata": {},
     "outputs": [
      {
       "output_type": "stream",
       "stream": "stdout",
       "text": [
        "[ 0  4  8  1  5  9  2  6 10  3  7 11  0  4  8]\n"
       ]
      }
     ],
     "prompt_number": 39
    },
    {
     "cell_type": "markdown",
     "metadata": {},
     "source": [
      "How to read the above?\n",
      "\n",
      "1. based on the name of the functions, it seems that dolfin using **Degree Of Freedom (dof)** as the name for the original physical degrees of freedom. In our example, these are 3d vectors, located at positions 1, 2, 3, 4 and 5.\n",
      "\n",
      "2. Dolfin uses the name **vertex** to refer to a node in the mesh. (If we use higher order than 1 for the basis functions, we may have more vertices between mesh nodes.)\n",
      "\n",
      "3. The array above should be read with the expectation that it gives indices to reveal component $i_j$, where $i$ is the node position in this example and $j$ is the x, y, or z component, i.e. ``[1_x, 1_y, 1_z, 2_x, 2_y, 2_z, 3_x, 3_y, 3_z, ...``]\n",
      "\n",
      "4. As the first node at position 1 has the same value as node at position 5, the entries 5.1 and 1.1 (and 5.2 and 1.2, and 5.3 and 1.3) are identical. \n",
      "\n"
     ]
    },
    {
     "cell_type": "raw",
     "metadata": {},
     "source": [
      "Here is an example: to find the value of the field at node 0, we can use:\n"
     ]
    },
    {
     "cell_type": "code",
     "collapsed": false,
     "input": [
      "print f.vector().array()[v2dmap[0:3]]"
     ],
     "language": "python",
     "metadata": {},
     "outputs": [
      {
       "output_type": "stream",
       "stream": "stdout",
       "text": [
        "[ 5.1  5.2  5.3]\n"
       ]
      }
     ],
     "prompt_number": 41
    },
    {
     "cell_type": "markdown",
     "metadata": {},
     "source": [
      "While this says 5.1, 5.2 and 5.3, it is the same as 1.1, 1.2 and 1.3 due to the PBC.\n",
      "\n",
      "What about the second node? That information is in positions 3:6"
     ]
    },
    {
     "cell_type": "code",
     "collapsed": false,
     "input": [
      "print f.vector().array()[v2dmap[3:6]]"
     ],
     "language": "python",
     "metadata": {},
     "outputs": [
      {
       "output_type": "stream",
       "stream": "stdout",
       "text": [
        "[ 2.1  2.2  2.3]\n"
       ]
      }
     ],
     "prompt_number": 42
    },
    {
     "cell_type": "markdown",
     "metadata": {},
     "source": [
      "So this works.\n",
      "\n",
      "We can do the re-ordering by using the index map v2dmap in one go like this:"
     ]
    },
    {
     "cell_type": "code",
     "collapsed": false,
     "input": [
      "f.vector().array()[df.vertex_to_dof_map(fspace)]\n"
     ],
     "language": "python",
     "metadata": {},
     "outputs": [
      {
       "metadata": {},
       "output_type": "pyout",
       "prompt_number": 43,
       "text": [
        "array([ 5.1,  5.2,  5.3,  2.1,  2.2,  2.3,  3.1,  3.2,  3.3,  4.1,  4.2,\n",
        "        4.3,  5.1,  5.2,  5.3])"
       ]
      }
     ],
     "prompt_number": 43
    },
    {
     "cell_type": "markdown",
     "metadata": {},
     "source": [
      "Note: degree of freedom at node 5 and degree of freedom at node 1 are the same due to PBC. \n"
     ]
    },
    {
     "cell_type": "code",
     "collapsed": false,
     "input": [
      "# Alternatively, go from our expectation (of dofs) to how dolfin has re-arrange the data like this:"
     ],
     "language": "python",
     "metadata": {},
     "outputs": [],
     "prompt_number": 52
    },
    {
     "cell_type": "code",
     "collapsed": false,
     "input": [
      "import numpy as np\n",
      "\n",
      "# this is the vector we expect:\n",
      "m = np.array([1.1,  1.2,  1.3,  2.1,  2.2,  2.3,  3.1,  3.2,  3.3,  4.1,  4.2,\n",
      "        4.3,  5.1,  5.2,  5.3])\n",
      "m[df.dof_to_vertex_map(fspace)]"
     ],
     "language": "python",
     "metadata": {},
     "outputs": [
      {
       "metadata": {},
       "output_type": "pyout",
       "prompt_number": 53,
       "text": [
        "array([ 5.1,  2.1,  3.1,  4.1,  5.2,  2.2,  3.2,  4.2,  5.3,  2.3,  3.3,\n",
        "        4.3])"
       ]
      }
     ],
     "prompt_number": 53
    },
    {
     "cell_type": "markdown",
     "metadata": {},
     "source": [
      "This should be the same as the order that dolfin has chosen: "
     ]
    },
    {
     "cell_type": "code",
     "collapsed": false,
     "input": [
      "f.vector().array()"
     ],
     "language": "python",
     "metadata": {},
     "outputs": [
      {
       "metadata": {},
       "output_type": "pyout",
       "prompt_number": 51,
       "text": [
        "array([ 5.1,  2.1,  3.1,  4.1,  5.2,  2.2,  3.2,  4.2,  5.3,  2.3,  3.3,\n",
        "        4.3])"
       ]
      }
     ],
     "prompt_number": 51
    },
    {
     "cell_type": "code",
     "collapsed": false,
     "input": [],
     "language": "python",
     "metadata": {},
     "outputs": []
    }
   ],
   "metadata": {}
  }
 ]
}