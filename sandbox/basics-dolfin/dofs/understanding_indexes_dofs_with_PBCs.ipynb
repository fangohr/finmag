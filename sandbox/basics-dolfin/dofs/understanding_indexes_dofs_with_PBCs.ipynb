{
 "cells": [
  {
   "cell_type": "markdown",
   "metadata": {},
   "source": [
    "*This notebook requires fenicstools to generate the DOFs plots* "
   ]
  },
  {
   "cell_type": "code",
   "execution_count": 1,
   "metadata": {
    "collapsed": true
   },
   "outputs": [],
   "source": [
    "import dolfin as df\n",
    "import numpy as np"
   ]
  },
  {
   "cell_type": "code",
   "execution_count": 2,
   "metadata": {
    "collapsed": false
   },
   "outputs": [
    {
     "name": "stderr",
     "output_type": "stream",
     "text": [
      "[2015-04-15 15:28:49] INFO: Finmag logging output will be appended to file: '/home/david/.finmag/global.log'\n",
      "[2015-04-15 15:28:49] DEBUG: Building modules in 'native'...\n",
      "[2015-04-15 15:28:50] DEBUG: FinMag          5797:b416a2672cfee657ac9e9aaf8d69f7daeb55227d\n",
      "[2015-04-15 15:28:50] DEBUG: Dolfin          1.5.0                Matplotlib      lazily loaded       \n",
      "[2015-04-15 15:28:50] DEBUG: Numpy           1.9.2                Scipy           0.13.3              \n",
      "[2015-04-15 15:28:50] DEBUG: IPython         3.1.0                Python          2.7.6               \n",
      "[2015-04-15 15:28:50] DEBUG: Paraview        4.0.1-1ubuntu1       Sundials        2.5.0               \n",
      "[2015-04-15 15:28:50] DEBUG: Boost-Python    <unknown>            Linux           Ubuntu 14.04.2 LTS  \n",
      "[2015-04-15 15:28:50] DEBUG: Registering debug signal handler. Press Ctrl-Z any time to stop execution and jump into the debugger.\n"
     ]
    }
   ],
   "source": [
    "import finmag"
   ]
  },
  {
   "cell_type": "markdown",
   "metadata": {},
   "source": [
    "Generate a 2D sqaure mesh:"
   ]
  },
  {
   "cell_type": "code",
   "execution_count": 3,
   "metadata": {
    "collapsed": false
   },
   "outputs": [],
   "source": [
    "mesh = df.RectangleMesh(-4, -4, 4, 4, 4, 4)"
   ]
  },
  {
   "cell_type": "code",
   "execution_count": 4,
   "metadata": {
    "collapsed": false
   },
   "outputs": [
    {
     "data": {
      "text/plain": [
       "<dolfin.cpp.io.VTKPlotter; proxy of <Swig Object of type 'std::shared_ptr< dolfin::VTKPlotter > *' at 0x7fc417e87780> >"
      ]
     },
     "execution_count": 4,
     "metadata": {},
     "output_type": "execute_result"
    }
   ],
   "source": [
    "df.plot(mesh, interactive=True)"
   ]
  },
  {
   "cell_type": "markdown",
   "metadata": {},
   "source": [
    "Mesh coordinates:"
   ]
  },
  {
   "cell_type": "code",
   "execution_count": 5,
   "metadata": {
    "collapsed": false
   },
   "outputs": [
    {
     "data": {
      "text/plain": [
       "array([[-4., -4.],\n",
       "       [-2., -4.],\n",
       "       [ 0., -4.],\n",
       "       [ 2., -4.],\n",
       "       [ 4., -4.],\n",
       "       [-4., -2.],\n",
       "       [-2., -2.],\n",
       "       [ 0., -2.],\n",
       "       [ 2., -2.],\n",
       "       [ 4., -2.],\n",
       "       [-4.,  0.],\n",
       "       [-2.,  0.],\n",
       "       [ 0.,  0.],\n",
       "       [ 2.,  0.],\n",
       "       [ 4.,  0.],\n",
       "       [-4.,  2.],\n",
       "       [-2.,  2.],\n",
       "       [ 0.,  2.],\n",
       "       [ 2.,  2.],\n",
       "       [ 4.,  2.],\n",
       "       [-4.,  4.],\n",
       "       [-2.,  4.],\n",
       "       [ 0.,  4.],\n",
       "       [ 2.,  4.],\n",
       "       [ 4.,  4.]])"
      ]
     },
     "execution_count": 5,
     "metadata": {},
     "output_type": "execute_result"
    }
   ],
   "source": [
    "mesh.coordinates()"
   ]
  },
  {
   "cell_type": "code",
   "execution_count": 6,
   "metadata": {
    "collapsed": false
   },
   "outputs": [],
   "source": [
    "S1 = df.FunctionSpace(mesh, 'CG', 1)\n",
    "S3 = df.VectorFunctionSpace(mesh, 'CG', 1, dim=3)"
   ]
  },
  {
   "cell_type": "code",
   "execution_count": 10,
   "metadata": {
    "collapsed": true
   },
   "outputs": [],
   "source": [
    "v_fun = df.Function(S3)"
   ]
  },
  {
   "cell_type": "markdown",
   "metadata": {},
   "source": [
    "Simulation with PBCs:"
   ]
  },
  {
   "cell_type": "code",
   "execution_count": 7,
   "metadata": {
    "collapsed": true
   },
   "outputs": [],
   "source": [
    "Ms = 1e5"
   ]
  },
  {
   "cell_type": "code",
   "execution_count": 8,
   "metadata": {
    "collapsed": false
   },
   "outputs": [
    {
     "name": "stderr",
     "output_type": "stream",
     "text": [
      "[2015-04-15 15:29:04] INFO: Finmag logging output will be written to file: '/home/david/tmp/PBC_load_test/unnamed.log' (any old content will be overwritten).\n",
      "[2015-04-15 15:29:04] DEBUG: Creating DataWriter for file 'unnamed.ndt'\n",
      "[2015-04-15 15:29:04] INFO: Creating Sim object 'unnamed' (rank=0/1).\n",
      "[2015-04-15 15:29:04] INFO: <Mesh of topological dimension 2 (triangles) with 25 vertices and 32 cells, ordered>\n",
      "[2015-04-15 15:29:04] DEBUG: Setting 2d periodic boundary conditions (in the xy-plane).\n",
      "[2015-04-15 15:29:04] DEBUG: Creating LLG object.\n"
     ]
    }
   ],
   "source": [
    "sim = finmag.Simulation(mesh, Ms, unit_length=1e-9, pbc='2d')"
   ]
  },
  {
   "cell_type": "markdown",
   "metadata": {},
   "source": [
    "The values in the boundaries are (0, 0, -1) while the rest of the mesh vertexes will have associated a value of (0, 0, 1)"
   ]
  },
  {
   "cell_type": "code",
   "execution_count": 9,
   "metadata": {
    "collapsed": true
   },
   "outputs": [],
   "source": [
    "def m_init(pos):\n",
    "    x, y = pos[0], pos[1]\n",
    "    if x > 3 or x < -3:\n",
    "        return (0, 0, -1)\n",
    "    elif y > 3 or y < -3:\n",
    "        return (0, 0, -1)\n",
    "    else:\n",
    "        return (0, 0, 1)\n",
    "    "
   ]
  },
  {
   "cell_type": "code",
   "execution_count": 10,
   "metadata": {
    "collapsed": false
   },
   "outputs": [],
   "source": [
    "sim.set_m(m_init)"
   ]
  },
  {
   "cell_type": "markdown",
   "metadata": {},
   "source": [
    "Now we will try to visualize the DOFs ordering and the mesh numbering:"
   ]
  },
  {
   "cell_type": "code",
   "execution_count": 46,
   "metadata": {
    "collapsed": true
   },
   "outputs": [],
   "source": [
    "%matplotlib qt4"
   ]
  },
  {
   "cell_type": "code",
   "execution_count": 42,
   "metadata": {
    "collapsed": false
   },
   "outputs": [],
   "source": [
    "import fenicstools"
   ]
  },
  {
   "cell_type": "markdown",
   "metadata": {},
   "source": [
    "We can plot the DOFs (degrees of freedom) of the 3 components of the vector field (in the plot windows, press `D` to get the DOFs and `V` to get the vertex numbering). The values are the array indexes of the vector field, which goes into the mesh in the right order, following the **vertex to dof** mapping (see below):"
   ]
  },
  {
   "cell_type": "code",
   "execution_count": 60,
   "metadata": {
    "collapsed": false
   },
   "outputs": [
    {
     "name": "stdout",
     "output_type": "stream",
     "text": [
      " \n",
      "\u001b[1;37;34mFigure 1 : Plotting dofmaps [0, 1, 2]\u001b[0m \n"
     ]
    }
   ],
   "source": [
    "dmp = fenicstools.DofMapPlotter(sim.S3)\n",
    "dmp.plot([0, 1, 2])\n",
    "dmp.show()"
   ]
  },
  {
   "cell_type": "markdown",
   "metadata": {},
   "source": [
    "<img src='dofs_of_0_1_2.png' width=700>"
   ]
  },
  {
   "cell_type": "markdown",
   "metadata": {},
   "source": [
    "Some values are repeated since they are the PBCs"
   ]
  },
  {
   "cell_type": "markdown",
   "metadata": {},
   "source": [
    "The mesh indexes:"
   ]
  },
  {
   "cell_type": "markdown",
   "metadata": {},
   "source": [
    "<img src='dofs_vertexes.png' width=500>"
   ]
  },
  {
   "cell_type": "markdown",
   "metadata": {},
   "source": [
    "The dolfin vector function (reduced):"
   ]
  },
  {
   "cell_type": "code",
   "execution_count": 65,
   "metadata": {
    "collapsed": false
   },
   "outputs": [
    {
     "data": {
      "text/plain": [
       "array([ 0.,  0.,  0.,  0.,  0.,  0., -1., -1.,  1.,  0.,  0., -1.,  0.,\n",
       "        0.,  0.,  0., -1.,  1.,  0.,  0.,  0.,  0., -1.,  1.,  0.,  0.,\n",
       "        1.,  0.,  0., -1.,  0.,  0.,  1.,  0.,  0.,  1.,  0.,  0.,  1.,\n",
       "        0.,  0., -1.,  0.,  0.,  1.,  0.,  0.,  1.])"
      ]
     },
     "execution_count": 65,
     "metadata": {},
     "output_type": "execute_result"
    }
   ],
   "source": [
    "sim.m_field.f.vector().array()"
   ]
  },
  {
   "cell_type": "markdown",
   "metadata": {},
   "source": [
    "The Vertex to DOF map give us the mapping for going from the dofin function towards the mesh ordering, which is a **full length** vector (the system including boundaries). It automatically copies the repeated values at the boundaries with PBC:"
   ]
  },
  {
   "cell_type": "code",
   "execution_count": 64,
   "metadata": {
    "collapsed": false
   },
   "outputs": [
    {
     "data": {
      "text/plain": [
       "array([ 0,  3,  6,  1,  4,  7, 12, 14, 16, 18, 20, 22,  0,  3,  6,  9, 10,\n",
       "       11,  2,  5,  8, 13, 15, 17, 19, 21, 23,  9, 10, 11, 27, 28, 29, 24,\n",
       "       25, 26, 30, 31, 32, 33, 34, 35, 27, 28, 29, 39, 40, 41, 36, 37, 38,\n",
       "       42, 43, 44, 45, 46, 47, 39, 40, 41,  0,  3,  6,  1,  4,  7, 12, 14,\n",
       "       16, 18, 20, 22,  0,  3,  6], dtype=int32)"
      ]
     },
     "execution_count": 64,
     "metadata": {},
     "output_type": "execute_result"
    }
   ],
   "source": [
    "v2d = df.vertex_to_dof_map(sim.S3)\n",
    "v2d"
   ]
  },
  {
   "cell_type": "markdown",
   "metadata": {},
   "source": [
    "This gives us the dolfin function values in the same order than the mesh, in the *xyz* order\n",
    "\n",
    "$$ [\\underbrace{x_0, y_0, z_0}_\\text{node 0}, \\underbrace{x_1, y_1, z_1}_\\text{node 1}, \\underbrace{x_2, y_2, z_2}_\\text{node 2}, \\ldots  ] $$\n",
    "\n",
    "\n",
    "when calling a dolfin function with the mapping argument. The mapped function in array form looks like:"
   ]
  },
  {
   "cell_type": "code",
   "execution_count": 77,
   "metadata": {
    "collapsed": false
   },
   "outputs": [
    {
     "data": {
      "text/plain": [
       "array([ 0.,  0., -1.,  0.,  0., -1.,  0.,  0., -1.,  0.,  0., -1.,  0.,\n",
       "        0., -1.,  0.,  0., -1.,  0.,  0.,  1.,  0.,  0.,  1.,  0.,  0.,\n",
       "        1.,  0.,  0., -1.,  0.,  0., -1.,  0.,  0.,  1.,  0.,  0.,  1.,\n",
       "        0.,  0.,  1.,  0.,  0., -1.,  0.,  0., -1.,  0.,  0.,  1.,  0.,\n",
       "        0.,  1.,  0.,  0.,  1.,  0.,  0., -1.,  0.,  0., -1.,  0.,  0.,\n",
       "       -1.,  0.,  0., -1.,  0.,  0., -1.,  0.,  0., -1.])"
      ]
     },
     "execution_count": 77,
     "metadata": {},
     "output_type": "execute_result"
    }
   ],
   "source": [
    "vfunction_to_mesh = sim.m_field.f.vector().array()[v2d]\n",
    "vfunction_to_mesh"
   ]
  },
  {
   "cell_type": "markdown",
   "metadata": {},
   "source": [
    "Since we know it is in the *xyz* order with respect to the mesh coordinates, we can print them according to their mesh node association: "
   ]
  },
  {
   "cell_type": "code",
   "execution_count": 76,
   "metadata": {
    "collapsed": false
   },
   "outputs": [
    {
     "name": "stdout",
     "output_type": "stream",
     "text": [
      "[-4. -4.]  -->  [ 0.  0. -1.]\n",
      "[-2. -4.]  -->  [ 0.  0. -1.]\n",
      "[ 0. -4.]  -->  [ 0.  0. -1.]\n",
      "[ 2. -4.]  -->  [ 0.  0. -1.]\n",
      "[ 4. -4.]  -->  [ 0.  0. -1.]\n",
      "[-4. -2.]  -->  [ 0.  0. -1.]\n",
      "[-2. -2.]  -->  [ 0.  0.  1.]\n",
      "[ 0. -2.]  -->  [ 0.  0.  1.]\n",
      "[ 2. -2.]  -->  [ 0.  0.  1.]\n",
      "[ 4. -2.]  -->  [ 0.  0. -1.]\n",
      "[-4.  0.]  -->  [ 0.  0. -1.]\n",
      "[-2.  0.]  -->  [ 0.  0.  1.]\n",
      "[ 0.  0.]  -->  [ 0.  0.  1.]\n",
      "[ 2.  0.]  -->  [ 0.  0.  1.]\n",
      "[ 4.  0.]  -->  [ 0.  0. -1.]\n",
      "[-4.  2.]  -->  [ 0.  0. -1.]\n",
      "[-2.  2.]  -->  [ 0.  0.  1.]\n",
      "[ 0.  2.]  -->  [ 0.  0.  1.]\n",
      "[ 2.  2.]  -->  [ 0.  0.  1.]\n",
      "[ 4.  2.]  -->  [ 0.  0. -1.]\n",
      "[-4.  4.]  -->  [ 0.  0. -1.]\n",
      "[-2.  4.]  -->  [ 0.  0. -1.]\n",
      "[ 0.  4.]  -->  [ 0.  0. -1.]\n",
      "[ 2.  4.]  -->  [ 0.  0. -1.]\n",
      "[ 4.  4.]  -->  [ 0.  0. -1.]\n"
     ]
    }
   ],
   "source": [
    "for i in xrange(len(v2d) / 3):\n",
    "    print sim.mesh.coordinates()[i], ' --> ',  vfunction_to_mesh.reshape(-1, 3)[i]"
   ]
  },
  {
   "cell_type": "markdown",
   "metadata": {},
   "source": [
    "The DOF to vertex map, which is reduced, is:"
   ]
  },
  {
   "cell_type": "code",
   "execution_count": 67,
   "metadata": {
    "collapsed": false
   },
   "outputs": [
    {
     "data": {
      "text/plain": [
       "array([72, 63, 18, 73, 64, 19, 74, 65, 20, 27, 28, 29, 66, 21, 67, 22, 68,\n",
       "       23, 69, 24, 70, 25, 71, 26, 33, 34, 35, 42, 43, 44, 36, 37, 38, 39,\n",
       "       40, 41, 48, 49, 50, 57, 58, 59, 51, 52, 53, 54, 55, 56], dtype=uint64)"
      ]
     },
     "execution_count": 67,
     "metadata": {},
     "output_type": "execute_result"
    }
   ],
   "source": [
    "d2v = df.dof_to_vertex_map(sim.S3)\n",
    "d2v"
   ]
  },
  {
   "cell_type": "markdown",
   "metadata": {},
   "source": [
    "This is the opposite mapping, for going from the ordered mesh towards the *original function* (which has a reduced number of elements, since it does not consider the repeated boundaries)"
   ]
  },
  {
   "cell_type": "code",
   "execution_count": 78,
   "metadata": {
    "collapsed": false
   },
   "outputs": [
    {
     "data": {
      "text/plain": [
       "array([ 0.,  0.,  0.,  0.,  0.,  0., -1., -1.,  1.,  0.,  0., -1.,  0.,\n",
       "        0.,  0.,  0., -1.,  1.,  0.,  0.,  0.,  0., -1.,  1.,  0.,  0.,\n",
       "        1.,  0.,  0., -1.,  0.,  0.,  1.,  0.,  0.,  1.,  0.,  0.,  1.,\n",
       "        0.,  0., -1.,  0.,  0.,  1.,  0.,  0.,  1.])"
      ]
     },
     "execution_count": 78,
     "metadata": {},
     "output_type": "execute_result"
    }
   ],
   "source": [
    "vfunction_mesh_to_original = vfunction_to_mesh[d2v]\n",
    "vfunction_mesh_to_original"
   ]
  },
  {
   "cell_type": "markdown",
   "metadata": {},
   "source": [
    "To compare this array, the original function was:"
   ]
  },
  {
   "cell_type": "code",
   "execution_count": 74,
   "metadata": {
    "collapsed": false
   },
   "outputs": [
    {
     "data": {
      "text/plain": [
       "array([ 0.,  0.,  0.,  0.,  0.,  0., -1., -1.,  1.,  0.,  0., -1.,  0.,\n",
       "        0.,  0.,  0., -1.,  1.,  0.,  0.,  0.,  0., -1.,  1.,  0.,  0.,\n",
       "        1.,  0.,  0., -1.,  0.,  0.,  1.,  0.,  0.,  1.,  0.,  0.,  1.,\n",
       "        0.,  0., -1.,  0.,  0.,  1.,  0.,  0.,  1.])"
      ]
     },
     "execution_count": 74,
     "metadata": {},
     "output_type": "execute_result"
    }
   ],
   "source": [
    "sim.m_field.f.vector().array()"
   ]
  },
  {
   "cell_type": "code",
   "execution_count": null,
   "metadata": {
    "collapsed": true
   },
   "outputs": [],
   "source": []
  }
 ],
 "metadata": {
  "kernelspec": {
   "display_name": "Python 2",
   "language": "python",
   "name": "python2"
  },
  "language_info": {
   "codemirror_mode": {
    "name": "ipython",
    "version": 2
   },
   "file_extension": ".py",
   "mimetype": "text/x-python",
   "name": "python",
   "nbconvert_exporter": "python",
   "pygments_lexer": "ipython2",
   "version": "2.7.6"
  }
 },
 "nbformat": 4,
 "nbformat_minor": 0
}
