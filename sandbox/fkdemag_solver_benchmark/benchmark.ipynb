{
 "metadata": {
  "name": ""
 },
 "nbformat": 3,
 "nbformat_minor": 0,
 "worksheets": [
  {
   "cells": [
    {
     "cell_type": "code",
     "collapsed": false,
     "input": [
      "import dolfin as df\n",
      "import finmag.energies.demag.fk_demag as fk\n",
      "from finmag import Simulation\n",
      "from finmag.energies import Exchange, Zeeman\n",
      "from aeon import default_timer, timed\n",
      "from finmag.util.meshes import sphere, box, plot_mesh_with_paraview\n",
      "from finmag.native.llg import compute_bem_fk\n",
      "from run_measurements import *"
     ],
     "language": "python",
     "metadata": {},
     "outputs": [
      {
       "output_type": "stream",
       "stream": "stderr",
       "text": [
        "[2014-01-09 17:21:55] DEBUG: Building modules in 'native'...\n"
       ]
      },
      {
       "output_type": "stream",
       "stream": "stderr",
       "text": [
        "/usr/local/lib/python2.7/dist-packages/mpl_toolkits/__init__.py:2: UserWarning: Module aeon was already imported from /home/mb8g11/Workspace/aeon/aeon/__init__.pyc, but /usr/local/lib/python2.7/dist-packages is being added to sys.path\n",
        "  __import__('pkg_resources').declare_namespace(__name__)\n",
        "/usr/local/lib/python2.7/dist-packages/mpl_toolkits/__init__.py:2: UserWarning: Module PIL was already imported from /usr/local/lib/python2.7/dist-packages/PIL/__init__.pyc, but /usr/lib/python2.7/dist-packages is being added to sys.path\n",
        "  __import__('pkg_resources').declare_namespace(__name__)\n",
        "[2014-01-09 17:21:56] DEBUG:               Finmag: 4329:5749b10a40b113575618903e80ebad72979b328c"
       ]
      },
      {
       "output_type": "stream",
       "stream": "stderr",
       "text": [
        "\n"
       ]
      },
      {
       "output_type": "stream",
       "stream": "stderr",
       "text": [
        "[2014-01-09 17:21:56] DEBUG:               Dolfin: 1.2.0\n"
       ]
      },
      {
       "output_type": "stream",
       "stream": "stderr",
       "text": [
        "[2014-01-09 17:21:56] DEBUG:           Matplotlib: 1.3.1\n"
       ]
      },
      {
       "output_type": "stream",
       "stream": "stderr",
       "text": [
        "[2014-01-09 17:21:56] DEBUG:                Numpy: 1.8.0\n"
       ]
      },
      {
       "output_type": "stream",
       "stream": "stderr",
       "text": [
        "[2014-01-09 17:21:56] DEBUG:                Scipy: 0.11.0\n"
       ]
      },
      {
       "output_type": "stream",
       "stream": "stderr",
       "text": [
        "[2014-01-09 17:21:56] DEBUG:              IPython: 1.1.0\n"
       ]
      },
      {
       "output_type": "stream",
       "stream": "stderr",
       "text": [
        "[2014-01-09 17:21:56] DEBUG:               Python: 2.7.4\n"
       ]
      },
      {
       "output_type": "stream",
       "stream": "stderr",
       "text": [
        "[2014-01-09 17:21:56] DEBUG:             Paraview: 3.98.0-1~exp1\n"
       ]
      },
      {
       "output_type": "stream",
       "stream": "stderr",
       "text": [
        "[2014-01-09 17:21:56] DEBUG:             Sundials: 2.5.0-3\n"
       ]
      },
      {
       "output_type": "stream",
       "stream": "stderr",
       "text": [
        "[2014-01-09 17:21:56] DEBUG:         Boost-Python: 1.49.0\n"
       ]
      },
      {
       "output_type": "stream",
       "stream": "stderr",
       "text": [
        "[2014-01-09 17:21:56] DEBUG:                Linux: Ubuntu 13.04\n"
       ]
      },
      {
       "output_type": "stream",
       "stream": "stderr",
       "text": [
        "[2014-01-09 17:21:56] DEBUG: Registering debug signal handler. Press Ctrl-Z at any time to stop execution and jump into the debugger.\n"
       ]
      }
     ],
     "prompt_number": 1
    },
    {
     "cell_type": "heading",
     "level": 1,
     "metadata": {},
     "source": [
      "Krylov-Solvers used in Demagnetising Field Computation"
     ]
    },
    {
     "cell_type": "markdown",
     "metadata": {},
     "source": [
      "To see which Krylov subspace methods are available in dolfin, use *krylov\\_solver\\_methods*."
     ]
    },
    {
     "cell_type": "code",
     "collapsed": false,
     "input": [
      "for name, description in df.krylov_solver_methods():\n",
      "    print \"{:<20} {}\".format(name, description)"
     ],
     "language": "python",
     "metadata": {},
     "outputs": [
      {
       "output_type": "stream",
       "stream": "stdout",
       "text": [
        "default              default Krylov method\n",
        "cg                   Conjugate gradient method\n",
        "gmres                Generalized minimal residual method\n",
        "minres               Minimal residual method\n",
        "tfqmr                Transpose-free quasi-minimal residual method\n",
        "richardson           Richardson method\n",
        "bicgstab             Biconjugate gradient stabilized method\n"
       ]
      }
     ],
     "prompt_number": 2
    },
    {
     "cell_type": "markdown",
     "metadata": {},
     "source": [
      "The problems may be preconditioned using one of the methods in *krylov\\_solver\\_preconditioners*."
     ]
    },
    {
     "cell_type": "code",
     "collapsed": false,
     "input": [
      "for name, description in df.krylov_solver_preconditioners():\n",
      "    print \"{:<20} {}\".format(name, description)"
     ],
     "language": "python",
     "metadata": {},
     "outputs": [
      {
       "output_type": "stream",
       "stream": "stdout",
       "text": [
        "default              default preconditioner\n",
        "none                 No preconditioner\n",
        "ilu                  Incomplete LU factorization\n",
        "icc                  Incomplete Cholesky factorization\n",
        "sor                  Successive over-relaxation\n",
        "jacobi               Jacobi iteration\n",
        "bjacobi              Block Jacobi iteration\n",
        "additive_schwarz     Additive Schwarz\n",
        "amg                  Algebraic multigrid\n",
        "hypre_amg            Hypre algebraic multigrid (BoomerAMG)\n",
        "hypre_euclid         Hypre parallel incomplete LU factorization\n",
        "hypre_parasails      Hypre parallel sparse approximate inverse\n"
       ]
      }
     ],
     "prompt_number": 3
    },
    {
     "cell_type": "markdown",
     "metadata": {},
     "source": [
      "We'll extract the solver and preconditioners names for later usage."
     ]
    },
    {
     "cell_type": "code",
     "collapsed": false,
     "input": [
      "solvers = [s[0] for s in df.krylov_solver_methods()]\n",
      "preconditioners = [p[0] for p in df.krylov_solver_preconditioners()]"
     ],
     "language": "python",
     "metadata": {},
     "outputs": [],
     "prompt_number": 4
    },
    {
     "cell_type": "markdown",
     "metadata": {},
     "source": [
      "Since, in principle, every solver can be used with any preconditioner, there are several combinations to check."
     ]
    },
    {
     "cell_type": "code",
     "collapsed": false,
     "input": [
      "m = len(df.krylov_solver_methods())\n",
      "n = len(df.krylov_solver_preconditioners())\n",
      "print \"There are {} solvers, {} preconditioners and thus {} diferent combinations of solver and preconditioner.\".format(m, n, m * n)"
     ],
     "language": "python",
     "metadata": {},
     "outputs": [
      {
       "output_type": "stream",
       "stream": "stdout",
       "text": [
        "There are 7 solvers, 12 preconditioners and thus 84 diferent combinations of solver and preconditioner.\n"
       ]
      }
     ],
     "prompt_number": 5
    },
    {
     "cell_type": "heading",
     "level": 2,
     "metadata": {},
     "source": [
      "A Sample Problem with Analytical Solution"
     ]
    },
    {
     "cell_type": "markdown",
     "metadata": {},
     "source": [
      "We are studying an homogeneously magnetised sphere."
     ]
    },
    {
     "cell_type": "code",
     "collapsed": false,
     "input": [
      "ball = sphere(20.0, 1.2, directory=\"meshes\")\n",
      "BallSpace = df.VectorFunctionSpace(ball, \"CG\", 1)\n",
      "m_ball = df.Function(BallSpace)\n",
      "m_ball.assign(df.Constant((1, 0, 0)))\n",
      "Ms = 1\n",
      "unit_length = 1e-9\n",
      "\n",
      "print \"The used mesh has {} vertices.\".format(ball.num_vertices())\n",
      "plot_mesh_with_paraview(ball)"
     ],
     "language": "python",
     "metadata": {},
     "outputs": [
      {
       "output_type": "stream",
       "stream": "stderr",
       "text": [
        "[2014-01-09 17:21:56] DEBUG: The mesh '/home/mb8g11/Workspace/finmag/sandbox/demag/meshes/sphere-20-1_2.xml.gz' already exists and is automatically returned.\n"
       ]
      },
      {
       "output_type": "stream",
       "stream": "stderr",
       "text": [
        "[2014-01-09 17:21:57] WARNING: Could not find the 'xpra' executable. You may want to install it to avoid annoying pop-up windows from Paraview. Under Debian/Ubuntu you can install it via 'sudo apt-get install xpra'.\n"
       ]
      },
      {
       "output_type": "stream",
       "stream": "stdout",
       "text": [
        "The used mesh has 13431 vertices.\n"
       ]
      },
      {
       "metadata": {},
       "output_type": "pyout",
       "png": "[encoded data removed]",
       "prompt_number": 6,
       "text": [
        "<IPython.core.display.Image at 0x4659b10>"
       ]
      }
     ],
     "prompt_number": 6
    },
    {
     "cell_type": "markdown",
     "metadata": {},
     "source": [
      "The demagnetising field for this problem is known."
     ]
    },
    {
     "cell_type": "code",
     "collapsed": false,
     "input": [
      "H = df.Function(BallSpace)\n",
      "H.assign(df.Constant((-1.0/3.0, 0.0, 0.0)))\n",
      "H_expected = H.vector().array()\n",
      "del(H)\n",
      "tol = 0.002"
     ],
     "language": "python",
     "metadata": {},
     "outputs": [],
     "prompt_number": 7
    },
    {
     "cell_type": "markdown",
     "metadata": {},
     "source": [
      "We will compute the BEM once in advance to save a lot of time."
     ]
    },
    {
     "cell_type": "code",
     "collapsed": false,
     "input": [
      "bem_ball, boundary_to_global_ball = compute_bem_fk(df.BoundaryMesh(ball, 'exterior', False))"
     ],
     "language": "python",
     "metadata": {},
     "outputs": [],
     "prompt_number": 8
    },
    {
     "cell_type": "heading",
     "level": 3,
     "metadata": {},
     "source": [
      "First Linear Solve"
     ]
    },
    {
     "cell_type": "markdown",
     "metadata": {},
     "source": [
      "There are two linear systems involved in the computation of the magnetic potential. We will record the time needed to solve the first one for possible combinations of solver/preconditioner. The experiment will be repeated ten times and the time averaged.\n",
      "\n",
      "All runs that don't meet the tolerance requirements or fail for other reasons will be discarded."
     ]
    },
    {
     "cell_type": "code",
     "collapsed": false,
     "input": [
      "repetitions = 10\n",
      "runner = create_measurement_runner(BallSpace, m_ball, Ms, unit_length, H_expected, tol, repetitions, bem_ball, boundary_to_global_ball)\n",
      "results_1, failed_1 = runner(\"first linear solve\", \"phi_1_solver\", solvers, \"phi_1_preconditioner\", preconditioners, [], \"timings_log_1.txt\", \"results_1.pickled\")"
     ],
     "language": "python",
     "metadata": {},
     "outputs": [
      {
       "output_type": "stream",
       "stream": "stdout",
       "text": [
        "No recorded results found. Will run benchmarks.\n",
        "Time shown for first linear solve in s.\n",
        "\n",
        "               |    default       none        ilu        icc        sor     jacobi    bjacobi additive_schwarz        amg  hypre_amg hypre_euclid hypre_parasails \n",
        "---------------|--------------------------------------------------------------------------------------------------------------------------------------------------\n",
        "default        | "
       ]
      },
      {
       "output_type": "stream",
       "stream": "stdout",
       "text": [
        "    0.0351 "
       ]
      },
      {
       "output_type": "stream",
       "stream": "stdout",
       "text": [
        "    0.0774 "
       ]
      },
      {
       "output_type": "stream",
       "stream": "stdout",
       "text": [
        "    0.0346 "
       ]
      },
      {
       "output_type": "stream",
       "stream": "stdout",
       "text": [
        "    0.0345 "
       ]
      },
      {
       "output_type": "stream",
       "stream": "stdout",
       "text": [
        "    0.0416 "
       ]
      },
      {
       "output_type": "stream",
       "stream": "stdout",
       "text": [
        "    0.0646 "
       ]
      },
      {
       "output_type": "stream",
       "stream": "stdout",
       "text": [
        "    0.0348 "
       ]
      },
      {
       "output_type": "stream",
       "stream": "stdout",
       "text": [
        "          0.0366 "
       ]
      },
      {
       "output_type": "stream",
       "stream": "stdout",
       "text": [
        "     0.208 "
       ]
      },
      {
       "output_type": "stream",
       "stream": "stdout",
       "text": [
        "     0.211 "
       ]
      },
      {
       "output_type": "stream",
       "stream": "stdout",
       "text": [
        "      0.0641 "
       ]
      },
      {
       "output_type": "stream",
       "stream": "stdout",
       "text": [
        "          0.464 \n",
        "cg             | "
       ]
      },
      {
       "output_type": "stream",
       "stream": "stdout",
       "text": [
        "     0.028 "
       ]
      },
      {
       "output_type": "stream",
       "stream": "stdout",
       "text": [
        "    0.0413 "
       ]
      },
      {
       "output_type": "stream",
       "stream": "stdout",
       "text": [
        "    0.0264 "
       ]
      },
      {
       "output_type": "stream",
       "stream": "stdout",
       "text": [
        "    0.0274 "
       ]
      },
      {
       "output_type": "stream",
       "stream": "stdout",
       "text": [
        "    0.0299 "
       ]
      },
      {
       "output_type": "stream",
       "stream": "stdout",
       "text": [
        "    0.0333 "
       ]
      },
      {
       "output_type": "stream",
       "stream": "stdout",
       "text": [
        "    0.0275 "
       ]
      },
      {
       "output_type": "stream",
       "stream": "stdout",
       "text": [
        "          0.0297 "
       ]
      },
      {
       "output_type": "stream",
       "stream": "stdout",
       "text": [
        "         x "
       ]
      },
      {
       "output_type": "stream",
       "stream": "stdout",
       "text": [
        "         x "
       ]
      },
      {
       "output_type": "stream",
       "stream": "stdout",
       "text": [
        "       0.056 "
       ]
      },
      {
       "output_type": "stream",
       "stream": "stdout",
       "text": [
        "              x \n",
        "gmres          | "
       ]
      },
      {
       "output_type": "stream",
       "stream": "stdout",
       "text": [
        "    0.0337 "
       ]
      },
      {
       "output_type": "stream",
       "stream": "stdout",
       "text": [
        "    0.0741 "
       ]
      },
      {
       "output_type": "stream",
       "stream": "stdout",
       "text": [
        "    0.0324 "
       ]
      },
      {
       "output_type": "stream",
       "stream": "stdout",
       "text": [
        "    0.0325 "
       ]
      },
      {
       "output_type": "stream",
       "stream": "stdout",
       "text": [
        "    0.0391 "
       ]
      },
      {
       "output_type": "stream",
       "stream": "stdout",
       "text": [
        "    0.0628 "
       ]
      },
      {
       "output_type": "stream",
       "stream": "stdout",
       "text": [
        "    0.0341 "
       ]
      },
      {
       "output_type": "stream",
       "stream": "stdout",
       "text": [
        "          0.0365 "
       ]
      },
      {
       "output_type": "stream",
       "stream": "stdout",
       "text": [
        "     0.214 "
       ]
      },
      {
       "output_type": "stream",
       "stream": "stdout",
       "text": [
        "     0.212 "
       ]
      },
      {
       "output_type": "stream",
       "stream": "stdout",
       "text": [
        "      0.0621 "
       ]
      },
      {
       "output_type": "stream",
       "stream": "stdout",
       "text": [
        "          0.468 \n",
        "minres         | "
       ]
      },
      {
       "output_type": "stream",
       "stream": "stdout",
       "text": [
        "    0.0298 "
       ]
      },
      {
       "output_type": "stream",
       "stream": "stdout",
       "text": [
        "    0.0441 "
       ]
      },
      {
       "output_type": "stream",
       "stream": "stdout",
       "text": [
        "    0.0296 "
       ]
      },
      {
       "output_type": "stream",
       "stream": "stdout",
       "text": [
        "    0.0314 "
       ]
      },
      {
       "output_type": "stream",
       "stream": "stdout",
       "text": [
        "    0.0337 "
       ]
      },
      {
       "output_type": "stream",
       "stream": "stdout",
       "text": [
        "    0.0386 "
       ]
      },
      {
       "output_type": "stream",
       "stream": "stdout",
       "text": [
        "    0.0317 "
       ]
      },
      {
       "output_type": "stream",
       "stream": "stdout",
       "text": [
        "          0.0334 "
       ]
      },
      {
       "output_type": "stream",
       "stream": "stdout",
       "text": [
        "      0.21 "
       ]
      },
      {
       "output_type": "stream",
       "stream": "stdout",
       "text": [
        "      0.21 "
       ]
      },
      {
       "output_type": "stream",
       "stream": "stdout",
       "text": [
        "      0.0593 "
       ]
      },
      {
       "output_type": "stream",
       "stream": "stdout",
       "text": [
        "              x \n",
        "tfqmr          | "
       ]
      },
      {
       "output_type": "stream",
       "stream": "stdout",
       "text": [
        "    0.0325 "
       ]
      },
      {
       "output_type": "stream",
       "stream": "stdout",
       "text": [
        "    0.0595 "
       ]
      },
      {
       "output_type": "stream",
       "stream": "stdout",
       "text": [
        "    0.0323 "
       ]
      },
      {
       "output_type": "stream",
       "stream": "stdout",
       "text": [
        "    0.0336 "
       ]
      },
      {
       "output_type": "stream",
       "stream": "stdout",
       "text": [
        "    0.0364 "
       ]
      },
      {
       "output_type": "stream",
       "stream": "stdout",
       "text": [
        "    0.0451 "
       ]
      },
      {
       "output_type": "stream",
       "stream": "stdout",
       "text": [
        "    0.0347 "
       ]
      },
      {
       "output_type": "stream",
       "stream": "stdout",
       "text": [
        "          0.0373 "
       ]
      },
      {
       "output_type": "stream",
       "stream": "stdout",
       "text": [
        "         x "
       ]
      },
      {
       "output_type": "stream",
       "stream": "stdout",
       "text": [
        "         x "
       ]
      },
      {
       "output_type": "stream",
       "stream": "stdout",
       "text": [
        "      0.0646 "
       ]
      },
      {
       "output_type": "stream",
       "stream": "stdout",
       "text": [
        "          0.471 \n",
        "richardson     | "
       ]
      },
      {
       "output_type": "stream",
       "stream": "stdout",
       "text": [
        "     0.322 "
       ]
      },
      {
       "output_type": "stream",
       "stream": "stdout",
       "text": [
        "         x "
       ]
      },
      {
       "output_type": "stream",
       "stream": "stdout",
       "text": [
        "     0.323 "
       ]
      },
      {
       "output_type": "stream",
       "stream": "stdout",
       "text": [
        "     0.339 "
       ]
      },
      {
       "output_type": "stream",
       "stream": "stdout",
       "text": [
        "      4.78 "
       ]
      },
      {
       "output_type": "stream",
       "stream": "stdout",
       "text": [
        "     0.848 "
       ]
      },
      {
       "output_type": "stream",
       "stream": "stdout",
       "text": [
        "     0.329 "
       ]
      },
      {
       "output_type": "stream",
       "stream": "stdout",
       "text": [
        "           0.349 "
       ]
      },
      {
       "output_type": "stream",
       "stream": "stdout",
       "text": [
        "     0.224 "
       ]
      },
      {
       "output_type": "stream",
       "stream": "stdout",
       "text": [
        "     0.225 "
       ]
      },
      {
       "output_type": "stream",
       "stream": "stdout",
       "text": [
        "       0.376 "
       ]
      },
      {
       "output_type": "stream",
       "stream": "stdout",
       "text": [
        "           1.12 \n",
        "bicgstab       | "
       ]
      },
      {
       "output_type": "stream",
       "stream": "stdout",
       "text": [
        "     0.037 "
       ]
      },
      {
       "output_type": "stream",
       "stream": "stdout",
       "text": [
        "    0.0495 "
       ]
      },
      {
       "output_type": "stream",
       "stream": "stdout",
       "text": [
        "     0.037 "
       ]
      },
      {
       "output_type": "stream",
       "stream": "stdout",
       "text": [
        "    0.0363 "
       ]
      },
      {
       "output_type": "stream",
       "stream": "stdout",
       "text": [
        "    0.0402 "
       ]
      },
      {
       "output_type": "stream",
       "stream": "stdout",
       "text": [
        "    0.0429 "
       ]
      },
      {
       "output_type": "stream",
       "stream": "stdout",
       "text": [
        "    0.0385 "
       ]
      },
      {
       "output_type": "stream",
       "stream": "stdout",
       "text": [
        "          0.0409 "
       ]
      },
      {
       "output_type": "stream",
       "stream": "stdout",
       "text": [
        "     0.802 "
       ]
      },
      {
       "output_type": "stream",
       "stream": "stdout",
       "text": [
        "     0.797 "
       ]
      },
      {
       "output_type": "stream",
       "stream": "stdout",
       "text": [
        "      0.0685 "
       ]
      },
      {
       "output_type": "stream",
       "stream": "stdout",
       "text": [
        "          0.456 \n",
        "\n",
        "Default combination ran in 0.0351 s.\n",
        "Fastest combination cg/ilu ran in 0.0264 s.\n",
        "That is an 24.8% improvement.\n"
       ]
      }
     ],
     "prompt_number": 9
    },
    {
     "cell_type": "markdown",
     "metadata": {},
     "source": [
      "Visualise the data to highlight the differences in runtime between the solvers and to see how much the preconditioners help."
     ]
    },
    {
     "cell_type": "code",
     "collapsed": false,
     "input": [
      "fig = column_chart(results_1, solvers, offset=0.02)\n",
      "fig.set_size_inches((20, 5))\n",
      "ax = fig.axes[0]\n",
      "ax.set_ylim([0, 0.5])\n",
      "ax.set_title(\"Time Spent Solving the First Linear System by Solver and Preconditioner (Bottom Part)\")"
     ],
     "language": "python",
     "metadata": {},
     "outputs": [
      {
       "metadata": {},
       "output_type": "pyout",
       "prompt_number": 10,
       "text": [
        "<matplotlib.text.Text at 0xbff72d0>"
       ]
      },
      {
       "output_type": "stream",
       "stream": "stderr",
       "text": [
        "/usr/local/lib/python2.7/dist-packages/matplotlib/figure.py:1595: UserWarning: This figure includes Axes that are not compatible with tight_layout, so its results might be incorrect.\n",
        "  warnings.warn(\"This figure includes Axes that are not \"\n"
       ]
      },
      {
       "metadata": {},
       "output_type": "display_data",
       "png": "[encoded data removed]",
       "text": [
        "<matplotlib.figure.Figure at 0x678c810>"
       ]
      }
     ],
     "prompt_number": 10
    },
    {
     "cell_type": "markdown",
     "metadata": {},
     "source": [
      "The default settings are a decent choice, while using a badly chosen preconditioner is worse than using none at all."
     ]
    },
    {
     "cell_type": "heading",
     "level": 3,
     "metadata": {},
     "source": [
      "Second Linear Solve"
     ]
    },
    {
     "cell_type": "markdown",
     "metadata": {},
     "source": [
      "This time, we will record the time needed to solve the second linear system."
     ]
    },
    {
     "cell_type": "code",
     "collapsed": false,
     "input": [
      "results_2, failed_2 = runner(\"second linear solve\", \"phi_2_solver\", solvers, \"phi_2_preconditioner\", preconditioners, [], \"timings_log_2.txt\", \"results_2.pickled\")"
     ],
     "language": "python",
     "metadata": {},
     "outputs": [
      {
       "output_type": "stream",
       "stream": "stdout",
       "text": [
        "No recorded results found. Will run benchmarks.\n",
        "Time shown for second linear solve in s.\n",
        "\n",
        "               |    default       none        ilu        icc        sor     jacobi    bjacobi additive_schwarz        amg  hypre_amg hypre_euclid hypre_parasails \n",
        "---------------|--------------------------------------------------------------------------------------------------------------------------------------------------\n",
        "default        | "
       ]
      },
      {
       "output_type": "stream",
       "stream": "stdout",
       "text": [
        "    0.0218 "
       ]
      },
      {
       "output_type": "stream",
       "stream": "stdout",
       "text": [
        "     0.042 "
       ]
      },
      {
       "output_type": "stream",
       "stream": "stdout",
       "text": [
        "    0.0224 "
       ]
      },
      {
       "output_type": "stream",
       "stream": "stdout",
       "text": [
        "     0.023 "
       ]
      },
      {
       "output_type": "stream",
       "stream": "stdout",
       "text": [
        "    0.0231 "
       ]
      },
      {
       "output_type": "stream",
       "stream": "stdout",
       "text": [
        "    0.0284 "
       ]
      },
      {
       "output_type": "stream",
       "stream": "stdout",
       "text": [
        "    0.0233 "
       ]
      },
      {
       "output_type": "stream",
       "stream": "stdout",
       "text": [
        "          0.0251 "
       ]
      },
      {
       "output_type": "stream",
       "stream": "stdout",
       "text": [
        "     0.143 "
       ]
      },
      {
       "output_type": "stream",
       "stream": "stdout",
       "text": [
        "     0.142 "
       ]
      },
      {
       "output_type": "stream",
       "stream": "stdout",
       "text": [
        "       0.052 "
       ]
      },
      {
       "output_type": "stream",
       "stream": "stdout",
       "text": [
        "          0.381 \n",
        "cg             | "
       ]
      },
      {
       "output_type": "stream",
       "stream": "stdout",
       "text": [
        "    0.0182 "
       ]
      },
      {
       "output_type": "stream",
       "stream": "stdout",
       "text": [
        "      2.01 "
       ]
      },
      {
       "output_type": "stream",
       "stream": "stdout",
       "text": [
        "    0.0181 "
       ]
      },
      {
       "output_type": "stream",
       "stream": "stdout",
       "text": [
        "         x "
       ]
      },
      {
       "output_type": "stream",
       "stream": "stdout",
       "text": [
        "    0.0215 "
       ]
      },
      {
       "output_type": "stream",
       "stream": "stdout",
       "text": [
        "         x "
       ]
      },
      {
       "output_type": "stream",
       "stream": "stdout",
       "text": [
        "    0.0194 "
       ]
      },
      {
       "output_type": "stream",
       "stream": "stdout",
       "text": [
        "          0.0206 "
       ]
      },
      {
       "output_type": "stream",
       "stream": "stdout",
       "text": [
        "     0.144 "
       ]
      },
      {
       "output_type": "stream",
       "stream": "stdout",
       "text": [
        "     0.143 "
       ]
      },
      {
       "output_type": "stream",
       "stream": "stdout",
       "text": [
        "      0.0453 "
       ]
      },
      {
       "output_type": "stream",
       "stream": "stdout",
       "text": [
        "              x \n",
        "gmres          | "
       ]
      },
      {
       "output_type": "stream",
       "stream": "stdout",
       "text": [
        "    0.0219 "
       ]
      },
      {
       "output_type": "stream",
       "stream": "stdout",
       "text": [
        "    0.0414 "
       ]
      },
      {
       "output_type": "stream",
       "stream": "stdout",
       "text": [
        "    0.0218 "
       ]
      },
      {
       "output_type": "stream",
       "stream": "stdout",
       "text": [
        "    0.0231 "
       ]
      },
      {
       "output_type": "stream",
       "stream": "stdout",
       "text": [
        "    0.0229 "
       ]
      },
      {
       "output_type": "stream",
       "stream": "stdout",
       "text": [
        "     0.028 "
       ]
      },
      {
       "output_type": "stream",
       "stream": "stdout",
       "text": [
        "    0.0234 "
       ]
      },
      {
       "output_type": "stream",
       "stream": "stdout",
       "text": [
        "           0.025 "
       ]
      },
      {
       "output_type": "stream",
       "stream": "stdout",
       "text": [
        "     0.143 "
       ]
      },
      {
       "output_type": "stream",
       "stream": "stdout",
       "text": [
        "     0.144 "
       ]
      },
      {
       "output_type": "stream",
       "stream": "stdout",
       "text": [
        "      0.0498 "
       ]
      },
      {
       "output_type": "stream",
       "stream": "stdout",
       "text": [
        "          0.376 \n",
        "minres         | "
       ]
      },
      {
       "output_type": "stream",
       "stream": "stdout",
       "text": [
        "         x "
       ]
      },
      {
       "output_type": "stream",
       "stream": "stdout",
       "text": [
        "         x "
       ]
      },
      {
       "output_type": "stream",
       "stream": "stdout",
       "text": [
        "         x "
       ]
      },
      {
       "output_type": "stream",
       "stream": "stdout",
       "text": [
        "         x "
       ]
      },
      {
       "output_type": "stream",
       "stream": "stdout",
       "text": [
        "         x "
       ]
      },
      {
       "output_type": "stream",
       "stream": "stdout",
       "text": [
        "         x "
       ]
      },
      {
       "output_type": "stream",
       "stream": "stdout",
       "text": [
        "         x "
       ]
      },
      {
       "output_type": "stream",
       "stream": "stdout",
       "text": [
        "               x "
       ]
      },
      {
       "output_type": "stream",
       "stream": "stdout",
       "text": [
        "      0.15 "
       ]
      },
      {
       "output_type": "stream",
       "stream": "stdout",
       "text": [
        "     0.152 "
       ]
      },
      {
       "output_type": "stream",
       "stream": "stdout",
       "text": [
        "           x "
       ]
      },
      {
       "output_type": "stream",
       "stream": "stdout",
       "text": [
        "              x \n",
        "tfqmr          | "
       ]
      },
      {
       "output_type": "stream",
       "stream": "stdout",
       "text": [
        "    0.0238 "
       ]
      },
      {
       "output_type": "stream",
       "stream": "stdout",
       "text": [
        "         x "
       ]
      },
      {
       "output_type": "stream",
       "stream": "stdout",
       "text": [
        "    0.0243 "
       ]
      },
      {
       "output_type": "stream",
       "stream": "stdout",
       "text": [
        "         x "
       ]
      },
      {
       "output_type": "stream",
       "stream": "stdout",
       "text": [
        "     0.025 "
       ]
      },
      {
       "output_type": "stream",
       "stream": "stdout",
       "text": [
        "         x "
       ]
      },
      {
       "output_type": "stream",
       "stream": "stdout",
       "text": [
        "    0.0249 "
       ]
      },
      {
       "output_type": "stream",
       "stream": "stdout",
       "text": [
        "          0.0267 "
       ]
      },
      {
       "output_type": "stream",
       "stream": "stdout",
       "text": [
        "     0.156 "
       ]
      },
      {
       "output_type": "stream",
       "stream": "stdout",
       "text": [
        "     0.158 "
       ]
      },
      {
       "output_type": "stream",
       "stream": "stdout",
       "text": [
        "      0.0525 "
       ]
      },
      {
       "output_type": "stream",
       "stream": "stdout",
       "text": [
        "          0.375 \n",
        "richardson     | "
       ]
      },
      {
       "output_type": "stream",
       "stream": "stdout",
       "text": [
        "    0.0858 "
       ]
      },
      {
       "output_type": "stream",
       "stream": "stdout",
       "text": [
        "         x "
       ]
      },
      {
       "output_type": "stream",
       "stream": "stdout",
       "text": [
        "    0.0871 "
       ]
      },
      {
       "output_type": "stream",
       "stream": "stdout",
       "text": [
        "    0.0931 "
       ]
      },
      {
       "output_type": "stream",
       "stream": "stdout",
       "text": [
        "      4.79 "
       ]
      },
      {
       "output_type": "stream",
       "stream": "stdout",
       "text": [
        "     0.153 "
       ]
      },
      {
       "output_type": "stream",
       "stream": "stdout",
       "text": [
        "    0.0895 "
       ]
      },
      {
       "output_type": "stream",
       "stream": "stdout",
       "text": [
        "          0.0955 "
       ]
      },
      {
       "output_type": "stream",
       "stream": "stdout",
       "text": [
        "     0.148 "
       ]
      },
      {
       "output_type": "stream",
       "stream": "stdout",
       "text": [
        "     0.148 "
       ]
      },
      {
       "output_type": "stream",
       "stream": "stdout",
       "text": [
        "       0.113 "
       ]
      },
      {
       "output_type": "stream",
       "stream": "stdout",
       "text": [
        "          0.502 \n",
        "bicgstab       | "
       ]
      },
      {
       "output_type": "stream",
       "stream": "stdout",
       "text": [
        "    0.0264 "
       ]
      },
      {
       "output_type": "stream",
       "stream": "stdout",
       "text": [
        "         x "
       ]
      },
      {
       "output_type": "stream",
       "stream": "stdout",
       "text": [
        "     0.026 "
       ]
      },
      {
       "output_type": "stream",
       "stream": "stdout",
       "text": [
        "         x "
       ]
      },
      {
       "output_type": "stream",
       "stream": "stdout",
       "text": [
        "    0.0281 "
       ]
      },
      {
       "output_type": "stream",
       "stream": "stdout",
       "text": [
        "         x "
       ]
      },
      {
       "output_type": "stream",
       "stream": "stdout",
       "text": [
        "    0.0274 "
       ]
      },
      {
       "output_type": "stream",
       "stream": "stdout",
       "text": [
        "           0.029 "
       ]
      },
      {
       "output_type": "stream",
       "stream": "stdout",
       "text": [
        "     0.159 "
       ]
      },
      {
       "output_type": "stream",
       "stream": "stdout",
       "text": [
        "      0.16 "
       ]
      },
      {
       "output_type": "stream",
       "stream": "stdout",
       "text": [
        "      0.0542 "
       ]
      },
      {
       "output_type": "stream",
       "stream": "stdout",
       "text": [
        "           0.38 \n",
        "\n",
        "Default combination ran in 0.0218 s.\n",
        "Fastest combination cg/ilu ran in 0.0181 s.\n",
        "That is an 16.6% improvement.\n"
       ]
      }
     ],
     "prompt_number": 11
    },
    {
     "cell_type": "code",
     "collapsed": false,
     "input": [
      "fig = column_chart(results_2, solvers, offset=0.02)\n",
      "fig.set_size_inches((20, 5))\n",
      "ax = fig.axes[0]\n",
      "ax.set_ylim([0, 0.4])\n",
      "ax.set_title(\"Time Spent Solving the Second Linear System by Solver and Preconditioner (Bottom Part)\")"
     ],
     "language": "python",
     "metadata": {},
     "outputs": [
      {
       "metadata": {},
       "output_type": "pyout",
       "prompt_number": 12,
       "text": [
        "<matplotlib.text.Text at 0x6792ed0>"
       ]
      },
      {
       "metadata": {},
       "output_type": "display_data",
       "png": "[encoded data removed]",
       "text": [
        "<matplotlib.figure.Figure at 0x4661f50>"
       ]
      }
     ],
     "prompt_number": 12
    },
    {
     "cell_type": "markdown",
     "metadata": {},
     "source": [
      "We'll delete the BEM before moving on to the next problem."
     ]
    },
    {
     "cell_type": "code",
     "collapsed": false,
     "input": [
      "del(bem_ball)\n",
      "del(boundary_to_global_ball)"
     ],
     "language": "python",
     "metadata": {},
     "outputs": [],
     "prompt_number": 13
    },
    {
     "cell_type": "heading",
     "level": 2,
     "metadata": {},
     "source": [
      "A Worst-Case Scenario"
     ]
    },
    {
     "cell_type": "markdown",
     "metadata": {},
     "source": [
      "A thin magnetic film."
     ]
    },
    {
     "cell_type": "code",
     "collapsed": false,
     "input": [
      "film = box(0, 0, 0, 500, 50, 1, maxh=2.0, directory=\"meshes\")\n",
      "FilmSpace = df.VectorFunctionSpace(film, \"CG\", 1)\n",
      "m_film = df.Function(FilmSpace)\n",
      "m_film.assign(df.Constant((1, 0, 0)))\n",
      "Ms = 1\n",
      "unit_length = 1e-9\n",
      "\n",
      "print \"The used mesh has {} vertices.\".format(film.num_vertices())\n",
      "plot_mesh_with_paraview(film)"
     ],
     "language": "python",
     "metadata": {},
     "outputs": [
      {
       "output_type": "stream",
       "stream": "stderr",
       "text": [
        "[2014-01-09 17:37:06] WARNING: The mesh file '/home/mb8g11/Workspace/finmag/sandbox/demag/meshes/box-0_0-0_0-0_0-500_0-50_0-1_0-2_0.xml.gz' is outdated (since it is older than the .geo file '/home/mb8g11/Workspace/finmag/sandbox/demag/meshes/box-0_0-0_0-0_0-500_0-50_0-1_0-2_0.geo') and will be overwritten.\n"
       ]
      },
      {
       "output_type": "stream",
       "stream": "stderr",
       "text": [
        "[2014-01-09 17:37:06] DEBUG: [DDD] NETGENDIR: /usr/share/netgen\n"
       ]
      },
      {
       "output_type": "stream",
       "stream": "stderr",
       "text": [
        "[2014-01-09 17:37:06] DEBUG: Using netgen to convert /home/mb8g11/Workspace/finmag/sandbox/demag/meshes/box-0_0-0_0-0_0-500_0-50_0-1_0-2_0.geo to DIFFPACK format.\n"
       ]
      },
      {
       "output_type": "stream",
       "stream": "stderr",
       "text": [
        "[2014-01-09 17:37:18] WARNING: Warning: Ignoring netgen's output status of 34304.\n"
       ]
      },
      {
       "output_type": "stream",
       "stream": "stderr",
       "text": [
        "[2014-01-09 17:37:18] DEBUG: Done!\n"
       ]
      },
      {
       "output_type": "stream",
       "stream": "stderr",
       "text": [
        "[2014-01-09 17:37:18] DEBUG: Using dolfin-convert to convert /home/mb8g11/Workspace/finmag/sandbox/demag/meshes/box-0_0-0_0-0_0-500_0-50_0-1_0-2_0.grid to xml format.\n"
       ]
      },
      {
       "output_type": "stream",
       "stream": "stderr",
       "text": [
        "[2014-01-09 17:37:20] DEBUG: Compressing /home/mb8g11/Workspace/finmag/sandbox/demag/meshes/box-0_0-0_0-0_0-500_0-50_0-1_0-2_0.xml\n"
       ]
      },
      {
       "output_type": "stream",
       "stream": "stderr",
       "text": [
        "[2014-01-09 17:37:20] WARNING: Could not find the 'xpra' executable. You may want to install it to avoid annoying pop-up windows from Paraview. Under Debian/Ubuntu you can install it via 'sudo apt-get install xpra'.\n"
       ]
      },
      {
       "output_type": "stream",
       "stream": "stdout",
       "text": [
        "The used mesh has 14330 vertices.\n"
       ]
      },
      {
       "metadata": {},
       "output_type": "pyout",
       "png": "[encoded data removed]",
       "prompt_number": 14,
       "text": [
        "<IPython.core.display.Image at 0x9391910>"
       ]
      }
     ],
     "prompt_number": 14
    },
    {
     "cell_type": "markdown",
     "metadata": {},
     "source": [
      "Because we don't have an analytic solution to compare to, we will use the default solver/preconditioner as a reference."
     ]
    },
    {
     "cell_type": "code",
     "collapsed": false,
     "input": [
      "demag = fk.FKDemag()\n",
      "demag.setup(FilmSpace, m_film, Ms, unit_length)\n",
      "H_expected = demag.compute_field()\n",
      "del(demag)\n",
      "tol = 1e-6"
     ],
     "language": "python",
     "metadata": {},
     "outputs": [],
     "prompt_number": 15
    },
    {
     "cell_type": "markdown",
     "metadata": {},
     "source": [
      "Again, we will pre-compute the boundary element matrix."
     ]
    },
    {
     "cell_type": "code",
     "collapsed": false,
     "input": [
      "bem_film, boundary_to_global_film = compute_bem_fk(df.BoundaryMesh(film, 'exterior', False))"
     ],
     "language": "python",
     "metadata": {},
     "outputs": [],
     "prompt_number": 16
    },
    {
     "cell_type": "heading",
     "level": 3,
     "metadata": {},
     "source": [
      "First Linear Solve"
     ]
    },
    {
     "cell_type": "code",
     "collapsed": false,
     "input": [
      "alt_runner = create_measurement_runner(FilmSpace, m_film, Ms, unit_length, H_expected, tol, repetitions, bem_film, boundary_to_global_film)\n",
      "results_3, failed_3 = alt_runner(\"first linear solve\", \"phi_1_solver\", solvers, \"phi_1_preconditioner\", preconditioners, [], \"timings_log_3.txt\", \"results_3.pickled\")"
     ],
     "language": "python",
     "metadata": {},
     "outputs": [
      {
       "output_type": "stream",
       "stream": "stdout",
       "text": [
        "No recorded results found. Will run benchmarks.\n",
        "Time shown for first linear solve in s.\n",
        "\n",
        "               |    default       none        ilu        icc        sor     jacobi    bjacobi additive_schwarz        amg  hypre_amg hypre_euclid hypre_parasails \n",
        "---------------|--------------------------------------------------------------------------------------------------------------------------------------------------\n",
        "default        | "
       ]
      },
      {
       "output_type": "stream",
       "stream": "stdout",
       "text": [
        "     0.682 "
       ]
      },
      {
       "output_type": "stream",
       "stream": "stdout",
       "text": [
        "         x "
       ]
      },
      {
       "output_type": "stream",
       "stream": "stdout",
       "text": [
        "     0.686 "
       ]
      },
      {
       "output_type": "stream",
       "stream": "stdout",
       "text": [
        "       0.7 "
       ]
      },
      {
       "output_type": "stream",
       "stream": "stdout",
       "text": [
        "      2.23 "
       ]
      },
      {
       "output_type": "stream",
       "stream": "stdout",
       "text": [
        "      3.03 "
       ]
      },
      {
       "output_type": "stream",
       "stream": "stdout",
       "text": [
        "       0.7 "
       ]
      },
      {
       "output_type": "stream",
       "stream": "stdout",
       "text": [
        "           0.737 "
       ]
      },
      {
       "output_type": "stream",
       "stream": "stdout",
       "text": [
        "         x "
       ]
      },
      {
       "output_type": "stream",
       "stream": "stdout",
       "text": [
        "         x "
       ]
      },
      {
       "output_type": "stream",
       "stream": "stdout",
       "text": [
        "       0.757 "
       ]
      },
      {
       "output_type": "stream",
       "stream": "stdout",
       "text": [
        "           1.66 \n",
        "cg             | "
       ]
      },
      {
       "output_type": "stream",
       "stream": "stdout",
       "text": [
        "    0.0685 "
       ]
      },
      {
       "output_type": "stream",
       "stream": "stdout",
       "text": [
        "     0.164 "
       ]
      },
      {
       "output_type": "stream",
       "stream": "stdout",
       "text": [
        "    0.0681 "
       ]
      },
      {
       "output_type": "stream",
       "stream": "stdout",
       "text": [
        "    0.0709 "
       ]
      },
      {
       "output_type": "stream",
       "stream": "stdout",
       "text": [
        "     0.139 "
       ]
      },
      {
       "output_type": "stream",
       "stream": "stdout",
       "text": [
        "      0.16 "
       ]
      },
      {
       "output_type": "stream",
       "stream": "stdout",
       "text": [
        "    0.0719 "
       ]
      },
      {
       "output_type": "stream",
       "stream": "stdout",
       "text": [
        "          0.0766 "
       ]
      },
      {
       "output_type": "stream",
       "stream": "stdout",
       "text": [
        "         x "
       ]
      },
      {
       "output_type": "stream",
       "stream": "stdout",
       "text": [
        "         x "
       ]
      },
      {
       "output_type": "stream",
       "stream": "stdout",
       "text": [
        "       0.105 "
       ]
      },
      {
       "output_type": "stream",
       "stream": "stdout",
       "text": [
        "              x \n",
        "gmres          | "
       ]
      },
      {
       "output_type": "stream",
       "stream": "stdout",
       "text": [
        "      0.67 "
       ]
      },
      {
       "output_type": "stream",
       "stream": "stdout",
       "text": [
        "         x "
       ]
      },
      {
       "output_type": "stream",
       "stream": "stdout",
       "text": [
        "     0.674 "
       ]
      },
      {
       "output_type": "stream",
       "stream": "stdout",
       "text": [
        "     0.694 "
       ]
      },
      {
       "output_type": "stream",
       "stream": "stdout",
       "text": [
        "      2.21 "
       ]
      },
      {
       "output_type": "stream",
       "stream": "stdout",
       "text": [
        "      3.01 "
       ]
      },
      {
       "output_type": "stream",
       "stream": "stdout",
       "text": [
        "     0.694 "
       ]
      },
      {
       "output_type": "stream",
       "stream": "stdout",
       "text": [
        "           0.742 "
       ]
      },
      {
       "output_type": "stream",
       "stream": "stdout",
       "text": [
        "         x "
       ]
      },
      {
       "output_type": "stream",
       "stream": "stdout",
       "text": [
        "         x "
       ]
      },
      {
       "ename": "KeyboardInterrupt",
       "evalue": "",
       "output_type": "pyerr",
       "traceback": [
        "\u001b[1;31m---------------------------------------------------------------------------\u001b[0m\n\u001b[1;31mKeyboardInterrupt\u001b[0m                         Traceback (most recent call last)",
        "\u001b[1;32m<ipython-input-17-64fc81771122>\u001b[0m in \u001b[0;36m<module>\u001b[1;34m()\u001b[0m\n\u001b[0;32m      1\u001b[0m \u001b[0malt_runner\u001b[0m \u001b[1;33m=\u001b[0m \u001b[0mcreate_measurement_runner\u001b[0m\u001b[1;33m(\u001b[0m\u001b[0mFilmSpace\u001b[0m\u001b[1;33m,\u001b[0m \u001b[0mm_film\u001b[0m\u001b[1;33m,\u001b[0m \u001b[0mMs\u001b[0m\u001b[1;33m,\u001b[0m \u001b[0munit_length\u001b[0m\u001b[1;33m,\u001b[0m \u001b[0mH_expected\u001b[0m\u001b[1;33m,\u001b[0m \u001b[0mtol\u001b[0m\u001b[1;33m,\u001b[0m \u001b[0mrepetitions\u001b[0m\u001b[1;33m,\u001b[0m \u001b[0mbem_film\u001b[0m\u001b[1;33m,\u001b[0m \u001b[0mboundary_to_global_film\u001b[0m\u001b[1;33m)\u001b[0m\u001b[1;33m\u001b[0m\u001b[0m\n\u001b[1;32m----> 2\u001b[1;33m \u001b[0mresults_3\u001b[0m\u001b[1;33m,\u001b[0m \u001b[0mfailed_3\u001b[0m \u001b[1;33m=\u001b[0m \u001b[0malt_runner\u001b[0m\u001b[1;33m(\u001b[0m\u001b[1;34m\"first linear solve\"\u001b[0m\u001b[1;33m,\u001b[0m \u001b[1;34m\"phi_1_solver\"\u001b[0m\u001b[1;33m,\u001b[0m \u001b[0msolvers\u001b[0m\u001b[1;33m,\u001b[0m \u001b[1;34m\"phi_1_preconditioner\"\u001b[0m\u001b[1;33m,\u001b[0m \u001b[0mpreconditioners\u001b[0m\u001b[1;33m,\u001b[0m \u001b[1;33m[\u001b[0m\u001b[1;33m]\u001b[0m\u001b[1;33m,\u001b[0m \u001b[1;34m\"timings_log_3.txt\"\u001b[0m\u001b[1;33m,\u001b[0m \u001b[1;34m\"results_3.pickled\"\u001b[0m\u001b[1;33m)\u001b[0m\u001b[1;33m\u001b[0m\u001b[0m\n\u001b[0m",
        "\u001b[1;32m/home/mb8g11/Workspace/finmag/sandbox/demag/run_measurements.py\u001b[0m in \u001b[0;36mrunner\u001b[1;34m(timed_method_name, s_param, solvers, p_param, preconditioners, skip, full_timings_log, results_cache)\u001b[0m\n\u001b[0;32m     93\u001b[0m                 \u001b[1;32mtry\u001b[0m\u001b[1;33m:\u001b[0m\u001b[1;33m\u001b[0m\u001b[0m\n\u001b[0;32m     94\u001b[0m                     \u001b[1;32mfor\u001b[0m \u001b[0mj\u001b[0m \u001b[1;32min\u001b[0m \u001b[0mxrange\u001b[0m\u001b[1;33m(\u001b[0m\u001b[0mrepeats\u001b[0m\u001b[1;33m)\u001b[0m\u001b[1;33m:\u001b[0m  \u001b[1;31m# Repeat to average out little fluctuations.\u001b[0m\u001b[1;33m\u001b[0m\u001b[0m\n\u001b[1;32m---> 95\u001b[1;33m                         \u001b[0mH\u001b[0m \u001b[1;33m=\u001b[0m \u001b[0mdemag\u001b[0m\u001b[1;33m.\u001b[0m\u001b[0mcompute_field\u001b[0m\u001b[1;33m(\u001b[0m\u001b[1;33m)\u001b[0m  \u001b[1;31m# This can fail with some method/preconditioner combinations.\u001b[0m\u001b[1;33m\u001b[0m\u001b[0m\n\u001b[0m\u001b[0;32m     96\u001b[0m                 \u001b[1;32mexcept\u001b[0m \u001b[0mRuntimeError\u001b[0m \u001b[1;32mas\u001b[0m \u001b[0me\u001b[0m\u001b[1;33m:\u001b[0m\u001b[1;33m\u001b[0m\u001b[0m\n\u001b[0;32m     97\u001b[0m                     \u001b[0mdefault_timer\u001b[0m\u001b[1;33m.\u001b[0m\u001b[0mget\u001b[0m\u001b[1;33m(\u001b[0m\u001b[1;34m\"compute_field\"\u001b[0m\u001b[1;33m,\u001b[0m \u001b[1;34m\"FKDemag\"\u001b[0m\u001b[1;33m)\u001b[0m\u001b[1;33m.\u001b[0m\u001b[0mstop\u001b[0m\u001b[1;33m(\u001b[0m\u001b[1;33m)\u001b[0m\u001b[1;33m\u001b[0m\u001b[0m\n",
        "\u001b[1;32m/home/mb8g11/Workspace/aeon/aeon/helpers.pyc\u001b[0m in \u001b[0;36mdecorated_method\u001b[1;34m(self, *args, **kwargs)\u001b[0m\n\u001b[0;32m     71\u001b[0m             \u001b[0mgroup\u001b[0m \u001b[1;33m=\u001b[0m \u001b[0mself\u001b[0m\u001b[1;33m.\u001b[0m\u001b[0m__class__\u001b[0m\u001b[1;33m.\u001b[0m\u001b[0m__name__\u001b[0m\u001b[1;33m\u001b[0m\u001b[0m\n\u001b[0;32m     72\u001b[0m             \u001b[0mtimer\u001b[0m\u001b[1;33m.\u001b[0m\u001b[0mstart\u001b[0m\u001b[1;33m(\u001b[0m\u001b[0mname\u001b[0m\u001b[1;33m,\u001b[0m \u001b[0mgroup\u001b[0m\u001b[1;33m)\u001b[0m\u001b[1;33m\u001b[0m\u001b[0m\n\u001b[1;32m---> 73\u001b[1;33m             \u001b[0mret\u001b[0m \u001b[1;33m=\u001b[0m \u001b[0mmethod\u001b[0m\u001b[1;33m(\u001b[0m\u001b[0mself\u001b[0m\u001b[1;33m,\u001b[0m \u001b[1;33m*\u001b[0m\u001b[0margs\u001b[0m\u001b[1;33m,\u001b[0m \u001b[1;33m**\u001b[0m\u001b[0mkwargs\u001b[0m\u001b[1;33m)\u001b[0m\u001b[1;33m\u001b[0m\u001b[0m\n\u001b[0m\u001b[0;32m     74\u001b[0m             \u001b[0mtimer\u001b[0m\u001b[1;33m.\u001b[0m\u001b[0mstop\u001b[0m\u001b[1;33m(\u001b[0m\u001b[0mname\u001b[0m\u001b[1;33m,\u001b[0m \u001b[0mgroup\u001b[0m\u001b[1;33m)\u001b[0m\u001b[1;33m\u001b[0m\u001b[0m\n\u001b[0;32m     75\u001b[0m             \u001b[1;32mreturn\u001b[0m \u001b[0mret\u001b[0m\u001b[1;33m\u001b[0m\u001b[0m\n",
        "\u001b[1;32m/home/mb8g11/Workspace/finmag/src/finmag/energies/demag/fk_demag.pyc\u001b[0m in \u001b[0;36mcompute_field\u001b[1;34m(self)\u001b[0m\n\u001b[0;32m    199\u001b[0m \u001b[1;33m\u001b[0m\u001b[0m\n\u001b[0;32m    200\u001b[0m         \"\"\"\n\u001b[1;32m--> 201\u001b[1;33m         \u001b[0mself\u001b[0m\u001b[1;33m.\u001b[0m\u001b[0m_compute_magnetic_potential\u001b[0m\u001b[1;33m(\u001b[0m\u001b[1;33m)\u001b[0m\u001b[1;33m\u001b[0m\u001b[0m\n\u001b[0m\u001b[0;32m    202\u001b[0m         \u001b[1;32mreturn\u001b[0m \u001b[0mself\u001b[0m\u001b[1;33m.\u001b[0m\u001b[0m_compute_gradient\u001b[0m\u001b[1;33m(\u001b[0m\u001b[1;33m)\u001b[0m\u001b[1;33m\u001b[0m\u001b[0m\n\u001b[0;32m    203\u001b[0m \u001b[1;33m\u001b[0m\u001b[0m\n",
        "\u001b[1;32m/home/mb8g11/Workspace/finmag/src/finmag/energies/demag/fk_demag.pyc\u001b[0m in \u001b[0;36m_compute_magnetic_potential\u001b[1;34m(self)\u001b[0m\n\u001b[0;32m    267\u001b[0m         \u001b[0mg_1\u001b[0m \u001b[1;33m=\u001b[0m \u001b[0mself\u001b[0m\u001b[1;33m.\u001b[0m\u001b[0m_Ms_times_divergence\u001b[0m \u001b[1;33m*\u001b[0m \u001b[0mself\u001b[0m\u001b[1;33m.\u001b[0m\u001b[0mm\u001b[0m\u001b[1;33m.\u001b[0m\u001b[0mvector\u001b[0m\u001b[1;33m(\u001b[0m\u001b[1;33m)\u001b[0m\u001b[1;33m\u001b[0m\u001b[0m\n\u001b[0;32m    268\u001b[0m         \u001b[1;32mwith\u001b[0m \u001b[0mfk_timed\u001b[0m\u001b[1;33m(\u001b[0m\u001b[1;34m\"first linear solve\"\u001b[0m\u001b[1;33m)\u001b[0m\u001b[1;33m:\u001b[0m\u001b[1;33m\u001b[0m\u001b[0m\n\u001b[1;32m--> 269\u001b[1;33m             \u001b[0mself\u001b[0m\u001b[1;33m.\u001b[0m\u001b[0m_poisson_solver\u001b[0m\u001b[1;33m.\u001b[0m\u001b[0msolve\u001b[0m\u001b[1;33m(\u001b[0m\u001b[0mself\u001b[0m\u001b[1;33m.\u001b[0m\u001b[0m_phi_1\u001b[0m\u001b[1;33m.\u001b[0m\u001b[0mvector\u001b[0m\u001b[1;33m(\u001b[0m\u001b[1;33m)\u001b[0m\u001b[1;33m,\u001b[0m \u001b[0mg_1\u001b[0m\u001b[1;33m)\u001b[0m\u001b[1;33m\u001b[0m\u001b[0m\n\u001b[0m\u001b[0;32m    270\u001b[0m \u001b[1;33m\u001b[0m\u001b[0m\n\u001b[0;32m    271\u001b[0m         \u001b[1;31m# compute _phi_2 on the boundary using the Dirichlet boundary\u001b[0m\u001b[1;33m\u001b[0m\u001b[1;33m\u001b[0m\u001b[0m\n",
        "\u001b[1;31mKeyboardInterrupt\u001b[0m: "
       ]
      },
      {
       "output_type": "stream",
       "stream": "stdout",
       "text": [
        "       0.781"
       ]
      }
     ],
     "prompt_number": 17
    },
    {
     "cell_type": "code",
     "collapsed": false,
     "input": [
      "fig = column_chart(results_3, solvers, offset=0.02)\n",
      "fig.set_size_inches((20, 5))\n",
      "ax = fig.axes[0]\n",
      "ax.set_ylim([0, 0.7])\n",
      "ax.set_title(\"Time Spent Solving the First Linear System by Solver and Preconditioner (Bottom Part)\")"
     ],
     "language": "python",
     "metadata": {},
     "outputs": []
    },
    {
     "cell_type": "heading",
     "level": 3,
     "metadata": {},
     "source": [
      "Second Linear Solve"
     ]
    },
    {
     "cell_type": "code",
     "collapsed": false,
     "input": [
      "results_4, failed_4 = alt_runner(\"second linear solve\", \"phi_2_solver\", solvers, \"phi_2_preconditioner\", preconditioners, [], \"timings_log_4.txt\", \"results_4.pickled\")"
     ],
     "language": "python",
     "metadata": {},
     "outputs": []
    },
    {
     "cell_type": "code",
     "collapsed": false,
     "input": [
      "fig = column_chart(results_4, solvers, offset=0.02)\n",
      "fig.set_size_inches((20, 5))\n",
      "ax = fig.axes[0]\n",
      "ax.set_ylim([0, 0.06])\n",
      "ax.set_title(\"Time Spent Solving the First Linear System by Solver and Preconditioner\")"
     ],
     "language": "python",
     "metadata": {},
     "outputs": []
    },
    {
     "cell_type": "code",
     "collapsed": false,
     "input": [
      "del(bem_film)\n",
      "del(boundary_to_global_film)"
     ],
     "language": "python",
     "metadata": {},
     "outputs": []
    },
    {
     "cell_type": "heading",
     "level": 2,
     "metadata": {},
     "source": [
      "Simulating a Dynamical System"
     ]
    },
    {
     "cell_type": "markdown",
     "metadata": {},
     "source": [
      "Let's see if the time savings in the first and second linear solves translate into a runtime improvement in a full-blown simulation."
     ]
    },
    {
     "cell_type": "code",
     "collapsed": false,
     "input": [
      "mesh = box(0, 0, 0, 500, 25, 1, maxh=2.0)\n",
      "print \"The mesh has {} vertices.\".format(mesh.num_vertices())\n",
      "Ms = 8.6e5\n",
      "unit_length = 1e-9\n",
      "A = 1.3e-11"
     ],
     "language": "python",
     "metadata": {},
     "outputs": []
    },
    {
     "cell_type": "markdown",
     "metadata": {},
     "source": [
      "Each *experiment* has a set of parameters as input and conducts a measurement using the **timed** context."
     ]
    },
    {
     "cell_type": "code",
     "collapsed": false,
     "input": [
      "def experiment(params):\n",
      "    sim = Simulation(mesh, Ms, unit_length)\n",
      "    sim.set_m((1, 0, 0))\n",
      "    sim.add(Exchange(A))\n",
      "    sim.add(Zeeman((Ms, 0, 0)))\n",
      "    demag = fk.FKDemag()\n",
      "    demag.parameters[\"phi_1_solver\"] = params[0]\n",
      "    demag.parameters[\"phi_1_preconditioner\"] = params[1]\n",
      "    demag.parameters[\"phi_2_solver\"] = params[2]\n",
      "    demag.parameters[\"phi_2_preconditioner\"] = params[3]\n",
      "    sim.add(demag)\n",
      "    with timed(\"measurement\"):\n",
      "        sim.run_until(5e-11)"
     ],
     "language": "python",
     "metadata": {},
     "outputs": []
    },
    {
     "cell_type": "markdown",
     "metadata": {},
     "source": [
      "The experiment-*runner* has many sets of parameters as input, and for each of them, records the result of the measurement."
     ]
    },
    {
     "cell_type": "code",
     "collapsed": false,
     "input": [
      "def runner(sets_of_params):\n",
      "    runtimes = []\n",
      "    for params in sets_of_params:\n",
      "        default_timer.reset()\n",
      "        fk.fk_timer.reset()\n",
      "        print \"Conducting the experiment with parameters '{}'.\".format(params)\n",
      "        experiment(params)\n",
      "        runtime = default_timer.time(\"measurement\")\n",
      "        runtimes.append(runtime)\n",
      "    return runtimes"
     ],
     "language": "python",
     "metadata": {},
     "outputs": []
    },
    {
     "cell_type": "markdown",
     "metadata": {},
     "source": [
      "The sets of parameters are defined:"
     ]
    },
    {
     "cell_type": "code",
     "collapsed": false,
     "input": [
      "sets = [\n",
      "    (\"default\", \"default\", \"default\", \"default\"),\n",
      "    (\"cg\", \"ilu\", \"cg\", \"ilu\"),\n",
      "    (\"cg\", \"ilu\", \"cg\", \"none\")]"
     ],
     "language": "python",
     "metadata": {},
     "outputs": []
    },
    {
     "cell_type": "markdown",
     "metadata": {},
     "source": [
      "And the experiments conducted."
     ]
    },
    {
     "cell_type": "code",
     "collapsed": false,
     "input": [
      "runtimes = runner(sets)"
     ],
     "language": "python",
     "metadata": {},
     "outputs": []
    },
    {
     "cell_type": "code",
     "collapsed": false,
     "input": [
      "for params, runtime in zip(sets, runtimes):\n",
      "    print \"With parameters '{}' runtime of {} s.\".format(params, runtime)"
     ],
     "language": "python",
     "metadata": {},
     "outputs": []
    },
    {
     "cell_type": "code",
     "collapsed": false,
     "input": [
      "100 * (1 - runtimes[2] / runtimes[0])"
     ],
     "language": "python",
     "metadata": {},
     "outputs": []
    },
    {
     "cell_type": "code",
     "collapsed": false,
     "input": [],
     "language": "python",
     "metadata": {},
     "outputs": []
    }
   ],
   "metadata": {}
  }
 ]
}