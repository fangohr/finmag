{
 "metadata": {
  "name": "",
  "signature": "sha256:f958ce78be1432907477f8db1bc393716941e4805977c7280ca19e42be10119a"
 },
 "nbformat": 3,
 "nbformat_minor": 0,
 "worksheets": [
  {
   "cells": [
    {
     "cell_type": "heading",
     "level": 1,
     "metadata": {},
     "source": [
      "Benchmarking the Demag Solvers"
     ]
    },
    {
     "cell_type": "code",
     "collapsed": false,
     "input": [
      "import time\n",
      "import numpy as np\n",
      "import dolfin as df\n",
      "import matplotlib.pyplot as plt\n",
      "from finmag.energies import Demag\n",
      "from finmag.util.meshes import sphere"
     ],
     "language": "python",
     "metadata": {},
     "outputs": [],
     "prompt_number": 26
    },
    {
     "cell_type": "markdown",
     "metadata": {},
     "source": [
      "System parameters."
     ]
    },
    {
     "cell_type": "code",
     "collapsed": false,
     "input": [
      "radius = 5.0\n",
      "maxhs = [0.2, 0.225, 0.25, 0.275, 0.3, 0.4, 0.5, 0.6, 0.7, 0.8, 0.9, 1.0]\n",
      "unit_length = 1e-9\n",
      "m_0 = (1, 0, 0)\n",
      "Ms = 1\n",
      "H_ref = np.array((- Ms / 3.0, 0, 0))"
     ],
     "language": "python",
     "metadata": {},
     "outputs": [],
     "prompt_number": 27
    },
    {
     "cell_type": "markdown",
     "metadata": {},
     "source": [
      "We define a function which will run the benchmark given a demag object and the reference solution."
     ]
    },
    {
     "cell_type": "code",
     "collapsed": false,
     "input": [
      "def benchmark(demag, H_ref):\n",
      "    REPETITIONS = 10\n",
      "    start = time.time()\n",
      "    for j in xrange(REPETITIONS):\n",
      "        H = demag.compute_field()\n",
      "    elapsed = (time.time() - start) / REPETITIONS\n",
      "\n",
      "    H = H.reshape((3, -1))\n",
      "    spread = abs(H[0].max() - H[0].min()) \n",
      "    error = abs(H.mean(axis=1)[0] - H_ref[0]) / abs(H_ref[0])\n",
      "\n",
      "    return elapsed, spread, error"
     ],
     "language": "python",
     "metadata": {},
     "outputs": [],
     "prompt_number": 28
    },
    {
     "cell_type": "markdown",
     "metadata": {},
     "source": [
      "We run the benchmarks for each mesh size and each solver. There are 3 options for the FK solver: the default parameters, the optimised parameters and the LU factorisation."
     ]
    },
    {
     "cell_type": "code",
     "collapsed": false,
     "input": [
      "vertices = []\n",
      "methods = (\"FK default\", \"FK opt.\", \"FK LU\", \"GCR\", \"Treecode\")\n",
      "results = []\n",
      "\n",
      "for maxh in maxhs:\n",
      "    mesh = sphere(r=radius, maxh=maxh, directory=\"meshes\")\n",
      "    vertices.append(mesh.num_vertices())\n",
      "    S3 = df.VectorFunctionSpace(mesh, \"Lagrange\", 1)\n",
      "    m = df.Function(S3)\n",
      "    m.assign(df.Constant(m_0))\n",
      "\n",
      "    results_for_this_mesh = []\n",
      "    for method in methods:\n",
      "        if method == \"FK default\":\n",
      "            parameters = {}\n",
      "            parameters[\"phi_1_solver\"] = \"default\"\n",
      "            parameters[\"phi_1_preconditioner\"] = \"default\"\n",
      "            parameters[\"phi_2_solver\"] = \"default\"\n",
      "            parameters[\"phi_2_preconditioner\"] = \"default\"\n",
      "            demag = Demag(\"FK\", solver_type=\"Krylov\", parameters=parameters)\n",
      "        elif method == \"FK opt.\":\n",
      "            parameters = {}\n",
      "            parameters[\"phi_1_solver\"] = \"cg\"\n",
      "            parameters[\"phi_1_preconditioner\"] = \"ilu\"\n",
      "            parameters[\"phi_2_solver\"] = \"cg\"\n",
      "            parameters[\"phi_2_preconditioner\"] = \"ilu\"\n",
      "            demag = Demag(\"FK\", solver_type=\"Krylov\", parameters=parameters)\n",
      "        elif method == \"FK LU\":\n",
      "            demag = Demag(\"FK\", solver_type=\"LU\")\n",
      "        elif method == \"GCR\":\n",
      "            demag = Demag(\"GCR\")\n",
      "        elif method == \"Treecode\":\n",
      "            demag = Demag(\"Treecode\")\n",
      "        else:\n",
      "            import sys\n",
      "            print \"What are you doing?\"\n",
      "            sys.exit(1)\n",
      "\n",
      "        demag.setup(S3, m, Ms, unit_length)\n",
      "        results_for_this_mesh.append(benchmark(demag, H_ref))\n",
      "    results.append(results_for_this_mesh)"
     ],
     "language": "python",
     "metadata": {},
     "outputs": [
      {
       "output_type": "stream",
       "stream": "stderr",
       "text": [
        "[2014-07-04 15:48:09] DEBUG: The mesh '/home/mb8g11/Workspace/finmag/sandbox/fkdemag_solver_benchmark/compare_with_lu/meshes/sphere-5-0_2.xml.gz' already exists and is automatically returned.\n"
       ]
      },
      {
       "output_type": "stream",
       "stream": "stderr",
       "text": [
        "[2014-07-04 15:48:11] DEBUG: Creating Demag object with solver 'FK'.\n"
       ]
      },
      {
       "output_type": "stream",
       "stream": "stderr",
       "text": [
        "[2014-07-04 15:48:11] DEBUG: Setting demag solver parameter phi_1_preconditioner='default'\n"
       ]
      },
      {
       "output_type": "stream",
       "stream": "stderr",
       "text": [
        "[2014-07-04 15:48:11] DEBUG: Setting demag solver parameter phi_2_solver='default'\n"
       ]
      },
      {
       "output_type": "stream",
       "stream": "stderr",
       "text": [
        "[2014-07-04 15:48:11] DEBUG: Setting demag solver parameter phi_1_solver='default'\n"
       ]
      },
      {
       "output_type": "stream",
       "stream": "stderr",
       "text": [
        "[2014-07-04 15:48:11] DEBUG: Setting demag solver parameter phi_2_preconditioner='default'\n"
       ]
      },
      {
       "output_type": "stream",
       "stream": "stderr",
       "text": [
        "[2014-07-04 15:48:11] DEBUG: Demag parameters now: {'phi_1': {'absolute_tolerance': 1e-06, 'relative_tolerance': 1e-06, 'maximum_iterations': 10000}, 'phi_2': {'absolute_tolerance': 1e-06, 'relative_tolerance': 1e-06, 'maximum_iterations': 10000}, 'phi_2_solver': 'default', 'phi_2_preconditioner': 'default', 'phi_1_preconditioner': 'default', 'phi_1_solver': 'default'}\n"
       ]
      },
      {
       "output_type": "stream",
       "stream": "stderr",
       "text": [
        "[2014-07-04 15:48:11] DEBUG: Using Krylov solver for demag.\n"
       ]
      },
      {
       "output_type": "stream",
       "stream": "stderr",
       "text": [
        "[2014-07-04 15:48:20] DEBUG: Boundary element matrix uses 519.91 MB of memory.\n"
       ]
      },
      {
       "output_type": "stream",
       "stream": "stderr",
       "text": [
        "[2014-07-04 15:48:29] DEBUG: Creating Demag object with solver 'FK'.\n"
       ]
      },
      {
       "output_type": "stream",
       "stream": "stderr",
       "text": [
        "[2014-07-04 15:48:29] DEBUG: Setting demag solver parameter phi_1_preconditioner='ilu'\n"
       ]
      },
      {
       "output_type": "stream",
       "stream": "stderr",
       "text": [
        "[2014-07-04 15:48:29] DEBUG: Setting demag solver parameter phi_2_solver='cg'\n"
       ]
      },
      {
       "output_type": "stream",
       "stream": "stderr",
       "text": [
        "[2014-07-04 15:48:29] DEBUG: Setting demag solver parameter phi_1_solver='cg'\n"
       ]
      },
      {
       "output_type": "stream",
       "stream": "stderr",
       "text": [
        "[2014-07-04 15:48:29] DEBUG: Setting demag solver parameter phi_2_preconditioner='ilu'\n"
       ]
      },
      {
       "output_type": "stream",
       "stream": "stderr",
       "text": [
        "[2014-07-04 15:48:29] DEBUG: Demag parameters now: {'phi_1': {'absolute_tolerance': 1e-06, 'relative_tolerance': 1e-06, 'maximum_iterations': 10000}, 'phi_2': {'absolute_tolerance': 1e-06, 'relative_tolerance': 1e-06, 'maximum_iterations': 10000}, 'phi_2_solver': 'cg', 'phi_2_preconditioner': 'ilu', 'phi_1_preconditioner': 'ilu', 'phi_1_solver': 'cg'}\n"
       ]
      },
      {
       "output_type": "stream",
       "stream": "stderr",
       "text": [
        "[2014-07-04 15:48:29] DEBUG: Using Krylov solver for demag.\n"
       ]
      },
      {
       "output_type": "stream",
       "stream": "stderr",
       "text": [
        "[2014-07-04 15:48:38] DEBUG: Boundary element matrix uses 519.91 MB of memory.\n"
       ]
      },
      {
       "output_type": "stream",
       "stream": "stderr",
       "text": [
        "[2014-07-04 15:48:45] DEBUG: Creating Demag object with solver 'FK'.\n"
       ]
      },
      {
       "output_type": "stream",
       "stream": "stderr",
       "text": [
        "[2014-07-04 15:48:46] DEBUG: Using LU solver for demag.\n"
       ]
      },
      {
       "output_type": "stream",
       "stream": "stderr",
       "text": [
        "[2014-07-04 15:48:54] DEBUG: Boundary element matrix uses 519.91 MB of memory.\n"
       ]
      },
      {
       "output_type": "stream",
       "stream": "stderr",
       "text": [
        "[2014-07-04 15:50:16] DEBUG: Creating Demag object with solver 'GCR'.\n"
       ]
      },
      {
       "output_type": "stream",
       "stream": "stderr",
       "text": [
        "[2014-07-04 15:50:37] DEBUG: GCR: Solving for phi_a\n"
       ]
      },
      {
       "output_type": "stream",
       "stream": "stderr",
       "text": [
        "[2014-07-04 15:50:37] DEBUG: GCR: Solving for phi_b on the boundary\n"
       ]
      },
      {
       "output_type": "stream",
       "stream": "stderr",
       "text": [
        "[2014-07-04 15:50:38] DEBUG: GCR: Solve for phi_b (laplace on the inside)\n"
       ]
      },
      {
       "output_type": "stream",
       "stream": "stderr",
       "text": [
        "[2014-07-04 15:50:38] DEBUG: GCR: Solving for phi_a\n"
       ]
      },
      {
       "output_type": "stream",
       "stream": "stderr",
       "text": [
        "[2014-07-04 15:50:38] DEBUG: GCR: Solving for phi_b on the boundary\n"
       ]
      },
      {
       "output_type": "stream",
       "stream": "stderr",
       "text": [
        "[2014-07-04 15:50:40] DEBUG: GCR: Solve for phi_b (laplace on the inside)\n"
       ]
      },
      {
       "output_type": "stream",
       "stream": "stderr",
       "text": [
        "[2014-07-04 15:50:40] DEBUG: GCR: Solving for phi_a\n"
       ]
      },
      {
       "output_type": "stream",
       "stream": "stderr",
       "text": [
        "[2014-07-04 15:50:40] DEBUG: GCR: Solving for phi_b on the boundary\n"
       ]
      },
      {
       "output_type": "stream",
       "stream": "stderr",
       "text": [
        "[2014-07-04 15:50:41] DEBUG: GCR: Solve for phi_b (laplace on the inside)\n"
       ]
      },
      {
       "output_type": "stream",
       "stream": "stderr",
       "text": [
        "[2014-07-04 15:50:41] DEBUG: GCR: Solving for phi_a\n"
       ]
      },
      {
       "output_type": "stream",
       "stream": "stderr",
       "text": [
        "[2014-07-04 15:50:42] DEBUG: GCR: Solving for phi_b on the boundary\n"
       ]
      },
      {
       "output_type": "stream",
       "stream": "stderr",
       "text": [
        "[2014-07-04 15:50:43] DEBUG: GCR: Solve for phi_b (laplace on the inside)\n"
       ]
      },
      {
       "output_type": "stream",
       "stream": "stderr",
       "text": [
        "[2014-07-04 15:50:43] DEBUG: GCR: Solving for phi_a\n"
       ]
      },
      {
       "output_type": "stream",
       "stream": "stderr",
       "text": [
        "[2014-07-04 15:50:43] DEBUG: GCR: Solving for phi_b on the boundary\n"
       ]
      },
      {
       "output_type": "stream",
       "stream": "stderr",
       "text": [
        "[2014-07-04 15:50:44] DEBUG: GCR: Solve for phi_b (laplace on the inside)\n"
       ]
      },
      {
       "output_type": "stream",
       "stream": "stderr",
       "text": [
        "[2014-07-04 15:50:44] DEBUG: GCR: Solving for phi_a\n"
       ]
      },
      {
       "output_type": "stream",
       "stream": "stderr",
       "text": [
        "[2014-07-04 15:50:45] DEBUG: GCR: Solving for phi_b on the boundary\n"
       ]
      },
      {
       "output_type": "stream",
       "stream": "stderr",
       "text": [
        "[2014-07-04 15:50:46] DEBUG: GCR: Solve for phi_b (laplace on the inside)\n"
       ]
      },
      {
       "output_type": "stream",
       "stream": "stderr",
       "text": [
        "[2014-07-04 15:50:46] DEBUG: GCR: Solving for phi_a\n"
       ]
      },
      {
       "output_type": "stream",
       "stream": "stderr",
       "text": [
        "[2014-07-04 15:50:46] DEBUG: GCR: Solving for phi_b on the boundary\n"
       ]
      },
      {
       "output_type": "stream",
       "stream": "stderr",
       "text": [
        "[2014-07-04 15:50:47] DEBUG: GCR: Solve for phi_b (laplace on the inside)\n"
       ]
      },
      {
       "output_type": "stream",
       "stream": "stderr",
       "text": [
        "[2014-07-04 15:50:48] DEBUG: GCR: Solving for phi_a\n"
       ]
      },
      {
       "output_type": "stream",
       "stream": "stderr",
       "text": [
        "[2014-07-04 15:50:48] DEBUG: GCR: Solving for phi_b on the boundary\n"
       ]
      },
      {
       "output_type": "stream",
       "stream": "stderr",
       "text": [
        "[2014-07-04 15:50:49] DEBUG: GCR: Solve for phi_b (laplace on the inside)\n"
       ]
      },
      {
       "output_type": "stream",
       "stream": "stderr",
       "text": [
        "[2014-07-04 15:50:49] DEBUG: GCR: Solving for phi_a\n"
       ]
      },
      {
       "output_type": "stream",
       "stream": "stderr",
       "text": [
        "[2014-07-04 15:50:49] DEBUG: GCR: Solving for phi_b on the boundary\n"
       ]
      },
      {
       "output_type": "stream",
       "stream": "stderr",
       "text": [
        "[2014-07-04 15:50:50] DEBUG: GCR: Solve for phi_b (laplace on the inside)\n"
       ]
      },
      {
       "output_type": "stream",
       "stream": "stderr",
       "text": [
        "[2014-07-04 15:50:51] DEBUG: GCR: Solving for phi_a\n"
       ]
      },
      {
       "output_type": "stream",
       "stream": "stderr",
       "text": [
        "[2014-07-04 15:50:51] DEBUG: GCR: Solving for phi_b on the boundary\n"
       ]
      },
      {
       "output_type": "stream",
       "stream": "stderr",
       "text": [
        "[2014-07-04 15:50:52] DEBUG: GCR: Solve for phi_b (laplace on the inside)\n"
       ]
      },
      {
       "output_type": "stream",
       "stream": "stderr",
       "text": [
        "[2014-07-04 15:50:52] DEBUG: Creating Demag object with solver 'Treecode'.\n"
       ]
      },
      {
       "output_type": "stream",
       "stream": "stderr",
       "text": [
        "[2014-07-04 15:51:21] DEBUG: Using netgen to convert /home/mb8g11/Workspace/finmag/sandbox/fkdemag_solver_benchmark/compare_with_lu/meshes/sphere-5-0_25.geo to DIFFPACK format.\n"
       ]
      },
      {
       "output_type": "stream",
       "stream": "stderr",
       "text": [
        "[2014-07-04 15:52:06] WARNING: Warning: Ignoring netgen's output status of 34304.\n"
       ]
      },
      {
       "output_type": "stream",
       "stream": "stderr",
       "text": [
        "[2014-07-04 15:52:06] DEBUG: Done!\n"
       ]
      },
      {
       "output_type": "stream",
       "stream": "stderr",
       "text": [
        "[2014-07-04 15:52:06] DEBUG: Using dolfin-convert to convert /home/mb8g11/Workspace/finmag/sandbox/fkdemag_solver_benchmark/compare_with_lu/meshes/sphere-5-0_25.grid to xml format.\n"
       ]
      },
      {
       "output_type": "stream",
       "stream": "stderr",
       "text": [
        "[2014-07-04 15:52:10] DEBUG: Compressing /home/mb8g11/Workspace/finmag/sandbox/fkdemag_solver_benchmark/compare_with_lu/meshes/sphere-5-0_25.xml\n"
       ]
      },
      {
       "output_type": "stream",
       "stream": "stderr",
       "text": [
        "[2014-07-04 15:52:12] DEBUG: Creating Demag object with solver 'FK'.\n"
       ]
      },
      {
       "output_type": "stream",
       "stream": "stderr",
       "text": [
        "[2014-07-04 15:52:12] DEBUG: Setting demag solver parameter phi_1_preconditioner='default'\n"
       ]
      },
      {
       "output_type": "stream",
       "stream": "stderr",
       "text": [
        "[2014-07-04 15:52:12] DEBUG: Setting demag solver parameter phi_2_solver='default'\n"
       ]
      },
      {
       "output_type": "stream",
       "stream": "stderr",
       "text": [
        "[2014-07-04 15:52:12] DEBUG: Setting demag solver parameter phi_1_solver='default'\n"
       ]
      },
      {
       "output_type": "stream",
       "stream": "stderr",
       "text": [
        "[2014-07-04 15:52:12] DEBUG: Setting demag solver parameter phi_2_preconditioner='default'\n"
       ]
      },
      {
       "output_type": "stream",
       "stream": "stderr",
       "text": [
        "[2014-07-04 15:52:12] DEBUG: Demag parameters now: {'phi_1': {'absolute_tolerance': 1e-06, 'relative_tolerance': 1e-06, 'maximum_iterations': 10000}, 'phi_2': {'absolute_tolerance': 1e-06, 'relative_tolerance': 1e-06, 'maximum_iterations': 10000}, 'phi_2_solver': 'default', 'phi_2_preconditioner': 'default', 'phi_1_preconditioner': 'default', 'phi_1_solver': 'default'}\n"
       ]
      },
      {
       "output_type": "stream",
       "stream": "stderr",
       "text": [
        "[2014-07-04 15:52:12] DEBUG: Using Krylov solver for demag.\n"
       ]
      },
      {
       "output_type": "stream",
       "stream": "stderr",
       "text": [
        "[2014-07-04 15:52:16] DEBUG: Boundary element matrix uses 215.61 MB of memory.\n"
       ]
      },
      {
       "output_type": "stream",
       "stream": "stderr",
       "text": [
        "[2014-07-04 15:52:19] DEBUG: Creating Demag object with solver 'FK'.\n"
       ]
      },
      {
       "output_type": "stream",
       "stream": "stderr",
       "text": [
        "[2014-07-04 15:52:19] DEBUG: Setting demag solver parameter phi_1_preconditioner='ilu'\n"
       ]
      },
      {
       "output_type": "stream",
       "stream": "stderr",
       "text": [
        "[2014-07-04 15:52:19] DEBUG: Setting demag solver parameter phi_2_solver='cg'\n"
       ]
      },
      {
       "output_type": "stream",
       "stream": "stderr",
       "text": [
        "[2014-07-04 15:52:19] DEBUG: Setting demag solver parameter phi_1_solver='cg'\n"
       ]
      },
      {
       "output_type": "stream",
       "stream": "stderr",
       "text": [
        "[2014-07-04 15:52:19] DEBUG: Setting demag solver parameter phi_2_preconditioner='ilu'\n"
       ]
      },
      {
       "output_type": "stream",
       "stream": "stderr",
       "text": [
        "[2014-07-04 15:52:19] DEBUG: Demag parameters now: {'phi_1': {'absolute_tolerance': 1e-06, 'relative_tolerance': 1e-06, 'maximum_iterations': 10000}, 'phi_2': {'absolute_tolerance': 1e-06, 'relative_tolerance': 1e-06, 'maximum_iterations': 10000}, 'phi_2_solver': 'cg', 'phi_2_preconditioner': 'ilu', 'phi_1_preconditioner': 'ilu', 'phi_1_solver': 'cg'}\n"
       ]
      },
      {
       "output_type": "stream",
       "stream": "stderr",
       "text": [
        "[2014-07-04 15:52:19] DEBUG: Using Krylov solver for demag.\n"
       ]
      },
      {
       "output_type": "stream",
       "stream": "stderr",
       "text": [
        "[2014-07-04 15:52:23] DEBUG: Boundary element matrix uses 215.61 MB of memory.\n"
       ]
      },
      {
       "output_type": "stream",
       "stream": "stderr",
       "text": [
        "[2014-07-04 15:52:26] DEBUG: Creating Demag object with solver 'FK'.\n"
       ]
      },
      {
       "output_type": "stream",
       "stream": "stderr",
       "text": [
        "[2014-07-04 15:52:26] DEBUG: Using LU solver for demag.\n"
       ]
      },
      {
       "output_type": "stream",
       "stream": "stderr",
       "text": [
        "[2014-07-04 15:52:30] DEBUG: Boundary element matrix uses 215.61 MB of memory.\n"
       ]
      },
      {
       "output_type": "stream",
       "stream": "stderr",
       "text": [
        "[2014-07-04 15:52:49] DEBUG: Creating Demag object with solver 'GCR'.\n"
       ]
      },
      {
       "output_type": "stream",
       "stream": "stderr",
       "text": [
        "[2014-07-04 15:53:01] DEBUG: GCR: Solving for phi_a\n"
       ]
      },
      {
       "output_type": "stream",
       "stream": "stderr",
       "text": [
        "[2014-07-04 15:53:01] DEBUG: GCR: Solving for phi_b on the boundary\n"
       ]
      },
      {
       "output_type": "stream",
       "stream": "stderr",
       "text": [
        "[2014-07-04 15:53:01] DEBUG: GCR: Solve for phi_b (laplace on the inside)\n"
       ]
      },
      {
       "output_type": "stream",
       "stream": "stderr",
       "text": [
        "[2014-07-04 15:53:02] DEBUG: GCR: Solving for phi_a\n"
       ]
      },
      {
       "output_type": "stream",
       "stream": "stderr",
       "text": [
        "[2014-07-04 15:53:02] DEBUG: GCR: Solving for phi_b on the boundary\n"
       ]
      },
      {
       "output_type": "stream",
       "stream": "stderr",
       "text": [
        "[2014-07-04 15:53:02] DEBUG: GCR: Solve for phi_b (laplace on the inside)\n"
       ]
      },
      {
       "output_type": "stream",
       "stream": "stderr",
       "text": [
        "[2014-07-04 15:53:02] DEBUG: GCR: Solving for phi_a\n"
       ]
      },
      {
       "output_type": "stream",
       "stream": "stderr",
       "text": [
        "[2014-07-04 15:53:03] DEBUG: GCR: Solving for phi_b on the boundary\n"
       ]
      },
      {
       "output_type": "stream",
       "stream": "stderr",
       "text": [
        "[2014-07-04 15:53:03] DEBUG: GCR: Solve for phi_b (laplace on the inside)\n"
       ]
      },
      {
       "output_type": "stream",
       "stream": "stderr",
       "text": [
        "[2014-07-04 15:53:03] DEBUG: GCR: Solving for phi_a\n"
       ]
      },
      {
       "output_type": "stream",
       "stream": "stderr",
       "text": [
        "[2014-07-04 15:53:03] DEBUG: GCR: Solving for phi_b on the boundary\n"
       ]
      },
      {
       "output_type": "stream",
       "stream": "stderr",
       "text": [
        "[2014-07-04 15:53:04] DEBUG: GCR: Solve for phi_b (laplace on the inside)\n"
       ]
      },
      {
       "output_type": "stream",
       "stream": "stderr",
       "text": [
        "[2014-07-04 15:53:04] DEBUG: GCR: Solving for phi_a\n"
       ]
      },
      {
       "output_type": "stream",
       "stream": "stderr",
       "text": [
        "[2014-07-04 15:53:04] DEBUG: GCR: Solving for phi_b on the boundary\n"
       ]
      },
      {
       "output_type": "stream",
       "stream": "stderr",
       "text": [
        "[2014-07-04 15:53:05] DEBUG: GCR: Solve for phi_b (laplace on the inside)\n"
       ]
      },
      {
       "output_type": "stream",
       "stream": "stderr",
       "text": [
        "[2014-07-04 15:53:05] DEBUG: GCR: Solving for phi_a\n"
       ]
      },
      {
       "output_type": "stream",
       "stream": "stderr",
       "text": [
        "[2014-07-04 15:53:05] DEBUG: GCR: Solving for phi_b on the boundary\n"
       ]
      },
      {
       "output_type": "stream",
       "stream": "stderr",
       "text": [
        "[2014-07-04 15:53:06] DEBUG: GCR: Solve for phi_b (laplace on the inside)\n"
       ]
      },
      {
       "output_type": "stream",
       "stream": "stderr",
       "text": [
        "[2014-07-04 15:53:06] DEBUG: GCR: Solving for phi_a\n"
       ]
      },
      {
       "output_type": "stream",
       "stream": "stderr",
       "text": [
        "[2014-07-04 15:53:06] DEBUG: GCR: Solving for phi_b on the boundary\n"
       ]
      },
      {
       "output_type": "stream",
       "stream": "stderr",
       "text": [
        "[2014-07-04 15:53:07] DEBUG: GCR: Solve for phi_b (laplace on the inside)\n"
       ]
      },
      {
       "output_type": "stream",
       "stream": "stderr",
       "text": [
        "[2014-07-04 15:53:07] DEBUG: GCR: Solving for phi_a\n"
       ]
      },
      {
       "output_type": "stream",
       "stream": "stderr",
       "text": [
        "[2014-07-04 15:53:07] DEBUG: GCR: Solving for phi_b on the boundary\n"
       ]
      },
      {
       "output_type": "stream",
       "stream": "stderr",
       "text": [
        "[2014-07-04 15:53:08] DEBUG: GCR: Solve for phi_b (laplace on the inside)\n"
       ]
      },
      {
       "output_type": "stream",
       "stream": "stderr",
       "text": [
        "[2014-07-04 15:53:08] DEBUG: GCR: Solving for phi_a\n"
       ]
      },
      {
       "output_type": "stream",
       "stream": "stderr",
       "text": [
        "[2014-07-04 15:53:08] DEBUG: GCR: Solving for phi_b on the boundary\n"
       ]
      },
      {
       "output_type": "stream",
       "stream": "stderr",
       "text": [
        "[2014-07-04 15:53:09] DEBUG: GCR: Solve for phi_b (laplace on the inside)\n"
       ]
      },
      {
       "output_type": "stream",
       "stream": "stderr",
       "text": [
        "[2014-07-04 15:53:09] DEBUG: GCR: Solving for phi_a\n"
       ]
      },
      {
       "output_type": "stream",
       "stream": "stderr",
       "text": [
        "[2014-07-04 15:53:09] DEBUG: GCR: Solving for phi_b on the boundary\n"
       ]
      },
      {
       "output_type": "stream",
       "stream": "stderr",
       "text": [
        "[2014-07-04 15:53:09] DEBUG: GCR: Solve for phi_b (laplace on the inside)\n"
       ]
      },
      {
       "output_type": "stream",
       "stream": "stderr",
       "text": [
        "[2014-07-04 15:53:10] DEBUG: Creating Demag object with solver 'Treecode'.\n"
       ]
      },
      {
       "output_type": "stream",
       "stream": "stderr",
       "text": [
        "[2014-07-04 15:53:24] DEBUG: The mesh '/home/mb8g11/Workspace/finmag/sandbox/fkdemag_solver_benchmark/compare_with_lu/meshes/sphere-5-0_3.xml.gz' already exists and is automatically returned.\n"
       ]
      },
      {
       "output_type": "stream",
       "stream": "stderr",
       "text": [
        "[2014-07-04 15:53:24] DEBUG: Creating Demag object with solver 'FK'.\n"
       ]
      },
      {
       "output_type": "stream",
       "stream": "stderr",
       "text": [
        "[2014-07-04 15:53:24] DEBUG: Setting demag solver parameter phi_1_preconditioner='default'\n"
       ]
      },
      {
       "output_type": "stream",
       "stream": "stderr",
       "text": [
        "[2014-07-04 15:53:24] DEBUG: Setting demag solver parameter phi_2_solver='default'\n"
       ]
      },
      {
       "output_type": "stream",
       "stream": "stderr",
       "text": [
        "[2014-07-04 15:53:24] DEBUG: Setting demag solver parameter phi_1_solver='default'\n"
       ]
      },
      {
       "output_type": "stream",
       "stream": "stderr",
       "text": [
        "[2014-07-04 15:53:24] DEBUG: Setting demag solver parameter phi_2_preconditioner='default'\n"
       ]
      },
      {
       "output_type": "stream",
       "stream": "stderr",
       "text": [
        "[2014-07-04 15:53:24] DEBUG: Demag parameters now: {'phi_1': {'absolute_tolerance': 1e-06, 'relative_tolerance': 1e-06, 'maximum_iterations': 10000}, 'phi_2': {'absolute_tolerance': 1e-06, 'relative_tolerance': 1e-06, 'maximum_iterations': 10000}, 'phi_2_solver': 'default', 'phi_2_preconditioner': 'default', 'phi_1_preconditioner': 'default', 'phi_1_solver': 'default'}\n"
       ]
      },
      {
       "output_type": "stream",
       "stream": "stderr",
       "text": [
        "[2014-07-04 15:53:24] DEBUG: Using Krylov solver for demag.\n"
       ]
      },
      {
       "output_type": "stream",
       "stream": "stderr",
       "text": [
        "[2014-07-04 15:53:26] DEBUG: Boundary element matrix uses 103.32 MB of memory.\n"
       ]
      },
      {
       "output_type": "stream",
       "stream": "stderr",
       "text": [
        "[2014-07-04 15:53:27] DEBUG: Creating Demag object with solver 'FK'.\n"
       ]
      },
      {
       "output_type": "stream",
       "stream": "stderr",
       "text": [
        "[2014-07-04 15:53:27] DEBUG: Setting demag solver parameter phi_1_preconditioner='ilu'\n"
       ]
      },
      {
       "output_type": "stream",
       "stream": "stderr",
       "text": [
        "[2014-07-04 15:53:27] DEBUG: Setting demag solver parameter phi_2_solver='cg'\n"
       ]
      },
      {
       "output_type": "stream",
       "stream": "stderr",
       "text": [
        "[2014-07-04 15:53:27] DEBUG: Setting demag solver parameter phi_1_solver='cg'\n"
       ]
      },
      {
       "output_type": "stream",
       "stream": "stderr",
       "text": [
        "[2014-07-04 15:53:27] DEBUG: Setting demag solver parameter phi_2_preconditioner='ilu'\n"
       ]
      },
      {
       "output_type": "stream",
       "stream": "stderr",
       "text": [
        "[2014-07-04 15:53:27] DEBUG: Demag parameters now: {'phi_1': {'absolute_tolerance': 1e-06, 'relative_tolerance': 1e-06, 'maximum_iterations': 10000}, 'phi_2': {'absolute_tolerance': 1e-06, 'relative_tolerance': 1e-06, 'maximum_iterations': 10000}, 'phi_2_solver': 'cg', 'phi_2_preconditioner': 'ilu', 'phi_1_preconditioner': 'ilu', 'phi_1_solver': 'cg'}\n"
       ]
      },
      {
       "output_type": "stream",
       "stream": "stderr",
       "text": [
        "[2014-07-04 15:53:27] DEBUG: Using Krylov solver for demag.\n"
       ]
      },
      {
       "output_type": "stream",
       "stream": "stderr",
       "text": [
        "[2014-07-04 15:53:29] DEBUG: Boundary element matrix uses 103.32 MB of memory.\n"
       ]
      },
      {
       "output_type": "stream",
       "stream": "stderr",
       "text": [
        "[2014-07-04 15:53:30] DEBUG: Creating Demag object with solver 'FK'.\n"
       ]
      },
      {
       "output_type": "stream",
       "stream": "stderr",
       "text": [
        "[2014-07-04 15:53:30] DEBUG: Using LU solver for demag.\n"
       ]
      },
      {
       "output_type": "stream",
       "stream": "stderr",
       "text": [
        "[2014-07-04 15:53:32] DEBUG: Boundary element matrix uses 103.32 MB of memory.\n"
       ]
      },
      {
       "output_type": "stream",
       "stream": "stderr",
       "text": [
        "[2014-07-04 15:53:34] DEBUG: Creating Demag object with solver 'GCR'.\n"
       ]
      },
      {
       "output_type": "stream",
       "stream": "stderr",
       "text": [
        "[2014-07-04 15:53:38] DEBUG: GCR: Solving for phi_a\n"
       ]
      },
      {
       "output_type": "stream",
       "stream": "stderr",
       "text": [
        "[2014-07-04 15:53:38] DEBUG: GCR: Solving for phi_b on the boundary\n"
       ]
      },
      {
       "output_type": "stream",
       "stream": "stderr",
       "text": [
        "[2014-07-04 15:53:39] DEBUG: GCR: Solve for phi_b (laplace on the inside)\n"
       ]
      },
      {
       "output_type": "stream",
       "stream": "stderr",
       "text": [
        "[2014-07-04 15:53:39] DEBUG: GCR: Solving for phi_a\n"
       ]
      },
      {
       "output_type": "stream",
       "stream": "stderr",
       "text": [
        "[2014-07-04 15:53:39] DEBUG: GCR: Solving for phi_b on the boundary\n"
       ]
      },
      {
       "output_type": "stream",
       "stream": "stderr",
       "text": [
        "[2014-07-04 15:53:39] DEBUG: GCR: Solve for phi_b (laplace on the inside)\n"
       ]
      },
      {
       "output_type": "stream",
       "stream": "stderr",
       "text": [
        "[2014-07-04 15:53:39] DEBUG: GCR: Solving for phi_a\n"
       ]
      },
      {
       "output_type": "stream",
       "stream": "stderr",
       "text": [
        "[2014-07-04 15:53:39] DEBUG: GCR: Solving for phi_b on the boundary\n"
       ]
      },
      {
       "output_type": "stream",
       "stream": "stderr",
       "text": [
        "[2014-07-04 15:53:39] DEBUG: GCR: Solve for phi_b (laplace on the inside)\n"
       ]
      },
      {
       "output_type": "stream",
       "stream": "stderr",
       "text": [
        "[2014-07-04 15:53:39] DEBUG: GCR: Solving for phi_a\n"
       ]
      },
      {
       "output_type": "stream",
       "stream": "stderr",
       "text": [
        "[2014-07-04 15:53:39] DEBUG: GCR: Solving for phi_b on the boundary\n"
       ]
      },
      {
       "output_type": "stream",
       "stream": "stderr",
       "text": [
        "[2014-07-04 15:53:40] DEBUG: GCR: Solve for phi_b (laplace on the inside)\n"
       ]
      },
      {
       "output_type": "stream",
       "stream": "stderr",
       "text": [
        "[2014-07-04 15:53:40] DEBUG: GCR: Solving for phi_a\n"
       ]
      },
      {
       "output_type": "stream",
       "stream": "stderr",
       "text": [
        "[2014-07-04 15:53:40] DEBUG: GCR: Solving for phi_b on the boundary\n"
       ]
      },
      {
       "output_type": "stream",
       "stream": "stderr",
       "text": [
        "[2014-07-04 15:53:40] DEBUG: GCR: Solve for phi_b (laplace on the inside)\n"
       ]
      },
      {
       "output_type": "stream",
       "stream": "stderr",
       "text": [
        "[2014-07-04 15:53:40] DEBUG: GCR: Solving for phi_a\n"
       ]
      },
      {
       "output_type": "stream",
       "stream": "stderr",
       "text": [
        "[2014-07-04 15:53:40] DEBUG: GCR: Solving for phi_b on the boundary\n"
       ]
      },
      {
       "output_type": "stream",
       "stream": "stderr",
       "text": [
        "[2014-07-04 15:53:40] DEBUG: GCR: Solve for phi_b (laplace on the inside)\n"
       ]
      },
      {
       "output_type": "stream",
       "stream": "stderr",
       "text": [
        "[2014-07-04 15:53:40] DEBUG: GCR: Solving for phi_a\n"
       ]
      },
      {
       "output_type": "stream",
       "stream": "stderr",
       "text": [
        "[2014-07-04 15:53:40] DEBUG: GCR: Solving for phi_b on the boundary\n"
       ]
      },
      {
       "output_type": "stream",
       "stream": "stderr",
       "text": [
        "[2014-07-04 15:53:41] DEBUG: GCR: Solve for phi_b (laplace on the inside)\n"
       ]
      },
      {
       "output_type": "stream",
       "stream": "stderr",
       "text": [
        "[2014-07-04 15:53:41] DEBUG: GCR: Solving for phi_a\n"
       ]
      },
      {
       "output_type": "stream",
       "stream": "stderr",
       "text": [
        "[2014-07-04 15:53:41] DEBUG: GCR: Solving for phi_b on the boundary\n"
       ]
      },
      {
       "output_type": "stream",
       "stream": "stderr",
       "text": [
        "[2014-07-04 15:53:41] DEBUG: GCR: Solve for phi_b (laplace on the inside)\n"
       ]
      },
      {
       "output_type": "stream",
       "stream": "stderr",
       "text": [
        "[2014-07-04 15:53:41] DEBUG: GCR: Solving for phi_a\n"
       ]
      },
      {
       "output_type": "stream",
       "stream": "stderr",
       "text": [
        "[2014-07-04 15:53:41] DEBUG: GCR: Solving for phi_b on the boundary\n"
       ]
      },
      {
       "output_type": "stream",
       "stream": "stderr",
       "text": [
        "[2014-07-04 15:53:41] DEBUG: GCR: Solve for phi_b (laplace on the inside)\n"
       ]
      },
      {
       "output_type": "stream",
       "stream": "stderr",
       "text": [
        "[2014-07-04 15:53:41] DEBUG: GCR: Solving for phi_a\n"
       ]
      },
      {
       "output_type": "stream",
       "stream": "stderr",
       "text": [
        "[2014-07-04 15:53:41] DEBUG: GCR: Solving for phi_b on the boundary\n"
       ]
      },
      {
       "output_type": "stream",
       "stream": "stderr",
       "text": [
        "[2014-07-04 15:53:42] DEBUG: GCR: Solve for phi_b (laplace on the inside)\n"
       ]
      },
      {
       "output_type": "stream",
       "stream": "stderr",
       "text": [
        "[2014-07-04 15:53:42] DEBUG: Creating Demag object with solver 'Treecode'.\n"
       ]
      },
      {
       "output_type": "stream",
       "stream": "stderr",
       "text": [
        "[2014-07-04 15:53:47] DEBUG: The mesh '/home/mb8g11/Workspace/finmag/sandbox/fkdemag_solver_benchmark/compare_with_lu/meshes/sphere-5-0_4.xml.gz' already exists and is automatically returned.\n"
       ]
      },
      {
       "output_type": "stream",
       "stream": "stderr",
       "text": [
        "[2014-07-04 15:53:47] DEBUG: Creating Demag object with solver 'FK'.\n"
       ]
      },
      {
       "output_type": "stream",
       "stream": "stderr",
       "text": [
        "[2014-07-04 15:53:47] DEBUG: Setting demag solver parameter phi_1_preconditioner='default'\n"
       ]
      },
      {
       "output_type": "stream",
       "stream": "stderr",
       "text": [
        "[2014-07-04 15:53:47] DEBUG: Setting demag solver parameter phi_2_solver='default'\n"
       ]
      },
      {
       "output_type": "stream",
       "stream": "stderr",
       "text": [
        "[2014-07-04 15:53:47] DEBUG: Setting demag solver parameter phi_1_solver='default'\n"
       ]
      },
      {
       "output_type": "stream",
       "stream": "stderr",
       "text": [
        "[2014-07-04 15:53:47] DEBUG: Setting demag solver parameter phi_2_preconditioner='default'\n"
       ]
      },
      {
       "output_type": "stream",
       "stream": "stderr",
       "text": [
        "[2014-07-04 15:53:47] DEBUG: Demag parameters now: {'phi_1': {'absolute_tolerance': 1e-06, 'relative_tolerance': 1e-06, 'maximum_iterations': 10000}, 'phi_2': {'absolute_tolerance': 1e-06, 'relative_tolerance': 1e-06, 'maximum_iterations': 10000}, 'phi_2_solver': 'default', 'phi_2_preconditioner': 'default', 'phi_1_preconditioner': 'default', 'phi_1_solver': 'default'}\n"
       ]
      },
      {
       "output_type": "stream",
       "stream": "stderr",
       "text": [
        "[2014-07-04 15:53:47] DEBUG: Using Krylov solver for demag.\n"
       ]
      },
      {
       "output_type": "stream",
       "stream": "stderr",
       "text": [
        "[2014-07-04 15:53:48] DEBUG: Boundary element matrix uses 31.13 MB of memory.\n"
       ]
      },
      {
       "output_type": "stream",
       "stream": "stderr",
       "text": [
        "[2014-07-04 15:53:48] DEBUG: Creating Demag object with solver 'FK'.\n"
       ]
      },
      {
       "output_type": "stream",
       "stream": "stderr",
       "text": [
        "[2014-07-04 15:53:48] DEBUG: Setting demag solver parameter phi_1_preconditioner='ilu'\n"
       ]
      },
      {
       "output_type": "stream",
       "stream": "stderr",
       "text": [
        "[2014-07-04 15:53:48] DEBUG: Setting demag solver parameter phi_2_solver='cg'\n"
       ]
      },
      {
       "output_type": "stream",
       "stream": "stderr",
       "text": [
        "[2014-07-04 15:53:48] DEBUG: Setting demag solver parameter phi_1_solver='cg'\n"
       ]
      },
      {
       "output_type": "stream",
       "stream": "stderr",
       "text": [
        "[2014-07-04 15:53:48] DEBUG: Setting demag solver parameter phi_2_preconditioner='ilu'\n"
       ]
      },
      {
       "output_type": "stream",
       "stream": "stderr",
       "text": [
        "[2014-07-04 15:53:48] DEBUG: Demag parameters now: {'phi_1': {'absolute_tolerance': 1e-06, 'relative_tolerance': 1e-06, 'maximum_iterations': 10000}, 'phi_2': {'absolute_tolerance': 1e-06, 'relative_tolerance': 1e-06, 'maximum_iterations': 10000}, 'phi_2_solver': 'cg', 'phi_2_preconditioner': 'ilu', 'phi_1_preconditioner': 'ilu', 'phi_1_solver': 'cg'}\n"
       ]
      },
      {
       "output_type": "stream",
       "stream": "stderr",
       "text": [
        "[2014-07-04 15:53:48] DEBUG: Using Krylov solver for demag.\n"
       ]
      },
      {
       "output_type": "stream",
       "stream": "stderr",
       "text": [
        "[2014-07-04 15:53:49] DEBUG: Boundary element matrix uses 31.13 MB of memory.\n"
       ]
      },
      {
       "output_type": "stream",
       "stream": "stderr",
       "text": [
        "[2014-07-04 15:53:49] DEBUG: Creating Demag object with solver 'FK'.\n"
       ]
      },
      {
       "output_type": "stream",
       "stream": "stderr",
       "text": [
        "[2014-07-04 15:53:49] DEBUG: Using LU solver for demag.\n"
       ]
      },
      {
       "output_type": "stream",
       "stream": "stderr",
       "text": [
        "[2014-07-04 15:53:50] DEBUG: Boundary element matrix uses 31.13 MB of memory.\n"
       ]
      },
      {
       "output_type": "stream",
       "stream": "stderr",
       "text": [
        "[2014-07-04 15:53:51] DEBUG: Creating Demag object with solver 'GCR'.\n"
       ]
      },
      {
       "output_type": "stream",
       "stream": "stderr",
       "text": [
        "[2014-07-04 15:53:53] DEBUG: GCR: Solving for phi_a\n"
       ]
      },
      {
       "output_type": "stream",
       "stream": "stderr",
       "text": [
        "[2014-07-04 15:53:53] DEBUG: GCR: Solving for phi_b on the boundary\n"
       ]
      },
      {
       "output_type": "stream",
       "stream": "stderr",
       "text": [
        "[2014-07-04 15:53:53] DEBUG: GCR: Solve for phi_b (laplace on the inside)\n"
       ]
      },
      {
       "output_type": "stream",
       "stream": "stderr",
       "text": [
        "[2014-07-04 15:53:53] DEBUG: GCR: Solving for phi_a\n"
       ]
      },
      {
       "output_type": "stream",
       "stream": "stderr",
       "text": [
        "[2014-07-04 15:53:53] DEBUG: GCR: Solving for phi_b on the boundary\n"
       ]
      },
      {
       "output_type": "stream",
       "stream": "stderr",
       "text": [
        "[2014-07-04 15:53:53] DEBUG: GCR: Solve for phi_b (laplace on the inside)\n"
       ]
      },
      {
       "output_type": "stream",
       "stream": "stderr",
       "text": [
        "[2014-07-04 15:53:53] DEBUG: GCR: Solving for phi_a\n"
       ]
      },
      {
       "output_type": "stream",
       "stream": "stderr",
       "text": [
        "[2014-07-04 15:53:53] DEBUG: GCR: Solving for phi_b on the boundary\n"
       ]
      },
      {
       "output_type": "stream",
       "stream": "stderr",
       "text": [
        "[2014-07-04 15:53:53] DEBUG: GCR: Solve for phi_b (laplace on the inside)\n"
       ]
      },
      {
       "output_type": "stream",
       "stream": "stderr",
       "text": [
        "[2014-07-04 15:53:53] DEBUG: GCR: Solving for phi_a\n"
       ]
      },
      {
       "output_type": "stream",
       "stream": "stderr",
       "text": [
        "[2014-07-04 15:53:53] DEBUG: GCR: Solving for phi_b on the boundary\n"
       ]
      },
      {
       "output_type": "stream",
       "stream": "stderr",
       "text": [
        "[2014-07-04 15:53:54] DEBUG: GCR: Solve for phi_b (laplace on the inside)\n"
       ]
      },
      {
       "output_type": "stream",
       "stream": "stderr",
       "text": [
        "[2014-07-04 15:53:54] DEBUG: GCR: Solving for phi_a\n"
       ]
      },
      {
       "output_type": "stream",
       "stream": "stderr",
       "text": [
        "[2014-07-04 15:53:54] DEBUG: GCR: Solving for phi_b on the boundary\n"
       ]
      },
      {
       "output_type": "stream",
       "stream": "stderr",
       "text": [
        "[2014-07-04 15:53:54] DEBUG: GCR: Solve for phi_b (laplace on the inside)\n"
       ]
      },
      {
       "output_type": "stream",
       "stream": "stderr",
       "text": [
        "[2014-07-04 15:53:54] DEBUG: GCR: Solving for phi_a\n"
       ]
      },
      {
       "output_type": "stream",
       "stream": "stderr",
       "text": [
        "[2014-07-04 15:53:54] DEBUG: GCR: Solving for phi_b on the boundary\n"
       ]
      },
      {
       "output_type": "stream",
       "stream": "stderr",
       "text": [
        "[2014-07-04 15:53:54] DEBUG: GCR: Solve for phi_b (laplace on the inside)\n"
       ]
      },
      {
       "output_type": "stream",
       "stream": "stderr",
       "text": [
        "[2014-07-04 15:53:54] DEBUG: GCR: Solving for phi_a\n"
       ]
      },
      {
       "output_type": "stream",
       "stream": "stderr",
       "text": [
        "[2014-07-04 15:53:54] DEBUG: GCR: Solving for phi_b on the boundary\n"
       ]
      },
      {
       "output_type": "stream",
       "stream": "stderr",
       "text": [
        "[2014-07-04 15:53:54] DEBUG: GCR: Solve for phi_b (laplace on the inside)\n"
       ]
      },
      {
       "output_type": "stream",
       "stream": "stderr",
       "text": [
        "[2014-07-04 15:53:54] DEBUG: GCR: Solving for phi_a\n"
       ]
      },
      {
       "output_type": "stream",
       "stream": "stderr",
       "text": [
        "[2014-07-04 15:53:54] DEBUG: GCR: Solving for phi_b on the boundary\n"
       ]
      },
      {
       "output_type": "stream",
       "stream": "stderr",
       "text": [
        "[2014-07-04 15:53:54] DEBUG: GCR: Solve for phi_b (laplace on the inside)\n"
       ]
      },
      {
       "output_type": "stream",
       "stream": "stderr",
       "text": [
        "[2014-07-04 15:53:54] DEBUG: GCR: Solving for phi_a\n"
       ]
      },
      {
       "output_type": "stream",
       "stream": "stderr",
       "text": [
        "[2014-07-04 15:53:54] DEBUG: GCR: Solving for phi_b on the boundary\n"
       ]
      },
      {
       "output_type": "stream",
       "stream": "stderr",
       "text": [
        "[2014-07-04 15:53:55] DEBUG: GCR: Solve for phi_b (laplace on the inside)\n"
       ]
      },
      {
       "output_type": "stream",
       "stream": "stderr",
       "text": [
        "[2014-07-04 15:53:55] DEBUG: GCR: Solving for phi_a\n"
       ]
      },
      {
       "output_type": "stream",
       "stream": "stderr",
       "text": [
        "[2014-07-04 15:53:55] DEBUG: GCR: Solving for phi_b on the boundary\n"
       ]
      },
      {
       "output_type": "stream",
       "stream": "stderr",
       "text": [
        "[2014-07-04 15:53:55] DEBUG: GCR: Solve for phi_b (laplace on the inside)\n"
       ]
      },
      {
       "output_type": "stream",
       "stream": "stderr",
       "text": [
        "[2014-07-04 15:53:55] DEBUG: Creating Demag object with solver 'Treecode'.\n"
       ]
      },
      {
       "output_type": "stream",
       "stream": "stderr",
       "text": [
        "[2014-07-04 15:53:58] DEBUG: The mesh '/home/mb8g11/Workspace/finmag/sandbox/fkdemag_solver_benchmark/compare_with_lu/meshes/sphere-5-0_5.xml.gz' already exists and is automatically returned.\n"
       ]
      },
      {
       "output_type": "stream",
       "stream": "stderr",
       "text": [
        "[2014-07-04 15:53:58] DEBUG: Creating Demag object with solver 'FK'.\n"
       ]
      },
      {
       "output_type": "stream",
       "stream": "stderr",
       "text": [
        "[2014-07-04 15:53:58] DEBUG: Setting demag solver parameter phi_1_preconditioner='default'\n"
       ]
      },
      {
       "output_type": "stream",
       "stream": "stderr",
       "text": [
        "[2014-07-04 15:53:58] DEBUG: Setting demag solver parameter phi_2_solver='default'\n"
       ]
      },
      {
       "output_type": "stream",
       "stream": "stderr",
       "text": [
        "[2014-07-04 15:53:58] DEBUG: Setting demag solver parameter phi_1_solver='default'\n"
       ]
      },
      {
       "output_type": "stream",
       "stream": "stderr",
       "text": [
        "[2014-07-04 15:53:58] DEBUG: Setting demag solver parameter phi_2_preconditioner='default'\n"
       ]
      },
      {
       "output_type": "stream",
       "stream": "stderr",
       "text": [
        "[2014-07-04 15:53:58] DEBUG: Demag parameters now: {'phi_1': {'absolute_tolerance': 1e-06, 'relative_tolerance': 1e-06, 'maximum_iterations': 10000}, 'phi_2': {'absolute_tolerance': 1e-06, 'relative_tolerance': 1e-06, 'maximum_iterations': 10000}, 'phi_2_solver': 'default', 'phi_2_preconditioner': 'default', 'phi_1_preconditioner': 'default', 'phi_1_solver': 'default'}\n"
       ]
      },
      {
       "output_type": "stream",
       "stream": "stderr",
       "text": [
        "[2014-07-04 15:53:58] DEBUG: Using Krylov solver for demag.\n"
       ]
      },
      {
       "output_type": "stream",
       "stream": "stderr",
       "text": [
        "[2014-07-04 15:53:59] DEBUG: Boundary element matrix uses 11.84 MB of memory.\n"
       ]
      },
      {
       "output_type": "stream",
       "stream": "stderr",
       "text": [
        "[2014-07-04 15:53:59] DEBUG: Creating Demag object with solver 'FK'.\n"
       ]
      },
      {
       "output_type": "stream",
       "stream": "stderr",
       "text": [
        "[2014-07-04 15:53:59] DEBUG: Setting demag solver parameter phi_1_preconditioner='ilu'\n"
       ]
      },
      {
       "output_type": "stream",
       "stream": "stderr",
       "text": [
        "[2014-07-04 15:53:59] DEBUG: Setting demag solver parameter phi_2_solver='cg'\n"
       ]
      },
      {
       "output_type": "stream",
       "stream": "stderr",
       "text": [
        "[2014-07-04 15:53:59] DEBUG: Setting demag solver parameter phi_1_solver='cg'\n"
       ]
      },
      {
       "output_type": "stream",
       "stream": "stderr",
       "text": [
        "[2014-07-04 15:53:59] DEBUG: Setting demag solver parameter phi_2_preconditioner='ilu'\n"
       ]
      },
      {
       "output_type": "stream",
       "stream": "stderr",
       "text": [
        "[2014-07-04 15:53:59] DEBUG: Demag parameters now: {'phi_1': {'absolute_tolerance': 1e-06, 'relative_tolerance': 1e-06, 'maximum_iterations': 10000}, 'phi_2': {'absolute_tolerance': 1e-06, 'relative_tolerance': 1e-06, 'maximum_iterations': 10000}, 'phi_2_solver': 'cg', 'phi_2_preconditioner': 'ilu', 'phi_1_preconditioner': 'ilu', 'phi_1_solver': 'cg'}\n"
       ]
      },
      {
       "output_type": "stream",
       "stream": "stderr",
       "text": [
        "[2014-07-04 15:53:59] DEBUG: Using Krylov solver for demag.\n"
       ]
      },
      {
       "output_type": "stream",
       "stream": "stderr",
       "text": [
        "[2014-07-04 15:53:59] DEBUG: Boundary element matrix uses 11.84 MB of memory.\n"
       ]
      },
      {
       "output_type": "stream",
       "stream": "stderr",
       "text": [
        "[2014-07-04 15:54:00] DEBUG: Creating Demag object with solver 'FK'.\n"
       ]
      },
      {
       "output_type": "stream",
       "stream": "stderr",
       "text": [
        "[2014-07-04 15:54:00] DEBUG: Using LU solver for demag.\n"
       ]
      },
      {
       "output_type": "stream",
       "stream": "stderr",
       "text": [
        "[2014-07-04 15:54:00] DEBUG: Boundary element matrix uses 11.84 MB of memory.\n"
       ]
      },
      {
       "output_type": "stream",
       "stream": "stderr",
       "text": [
        "[2014-07-04 15:54:00] DEBUG: Creating Demag object with solver 'GCR'.\n"
       ]
      },
      {
       "output_type": "stream",
       "stream": "stderr",
       "text": [
        "[2014-07-04 15:54:01] DEBUG: GCR: Solving for phi_a\n"
       ]
      },
      {
       "output_type": "stream",
       "stream": "stderr",
       "text": [
        "[2014-07-04 15:54:01] DEBUG: GCR: Solving for phi_b on the boundary\n"
       ]
      },
      {
       "output_type": "stream",
       "stream": "stderr",
       "text": [
        "[2014-07-04 15:54:01] DEBUG: GCR: Solve for phi_b (laplace on the inside)\n"
       ]
      },
      {
       "output_type": "stream",
       "stream": "stderr",
       "text": [
        "[2014-07-04 15:54:01] DEBUG: GCR: Solving for phi_a\n"
       ]
      },
      {
       "output_type": "stream",
       "stream": "stderr",
       "text": [
        "[2014-07-04 15:54:01] DEBUG: GCR: Solving for phi_b on the boundary\n"
       ]
      },
      {
       "output_type": "stream",
       "stream": "stderr",
       "text": [
        "[2014-07-04 15:54:02] DEBUG: GCR: Solve for phi_b (laplace on the inside)\n"
       ]
      },
      {
       "output_type": "stream",
       "stream": "stderr",
       "text": [
        "[2014-07-04 15:54:02] DEBUG: GCR: Solving for phi_a\n"
       ]
      },
      {
       "output_type": "stream",
       "stream": "stderr",
       "text": [
        "[2014-07-04 15:54:02] DEBUG: GCR: Solving for phi_b on the boundary\n"
       ]
      },
      {
       "output_type": "stream",
       "stream": "stderr",
       "text": [
        "[2014-07-04 15:54:02] DEBUG: GCR: Solve for phi_b (laplace on the inside)\n"
       ]
      },
      {
       "output_type": "stream",
       "stream": "stderr",
       "text": [
        "[2014-07-04 15:54:02] DEBUG: GCR: Solving for phi_a\n"
       ]
      },
      {
       "output_type": "stream",
       "stream": "stderr",
       "text": [
        "[2014-07-04 15:54:02] DEBUG: GCR: Solving for phi_b on the boundary\n"
       ]
      },
      {
       "output_type": "stream",
       "stream": "stderr",
       "text": [
        "[2014-07-04 15:54:02] DEBUG: GCR: Solve for phi_b (laplace on the inside)\n"
       ]
      },
      {
       "output_type": "stream",
       "stream": "stderr",
       "text": [
        "[2014-07-04 15:54:02] DEBUG: GCR: Solving for phi_a\n"
       ]
      },
      {
       "output_type": "stream",
       "stream": "stderr",
       "text": [
        "[2014-07-04 15:54:02] DEBUG: GCR: Solving for phi_b on the boundary\n"
       ]
      },
      {
       "output_type": "stream",
       "stream": "stderr",
       "text": [
        "[2014-07-04 15:54:02] DEBUG: GCR: Solve for phi_b (laplace on the inside)\n"
       ]
      },
      {
       "output_type": "stream",
       "stream": "stderr",
       "text": [
        "[2014-07-04 15:54:02] DEBUG: GCR: Solving for phi_a\n"
       ]
      },
      {
       "output_type": "stream",
       "stream": "stderr",
       "text": [
        "[2014-07-04 15:54:02] DEBUG: GCR: Solving for phi_b on the boundary\n"
       ]
      },
      {
       "output_type": "stream",
       "stream": "stderr",
       "text": [
        "[2014-07-04 15:54:02] DEBUG: GCR: Solve for phi_b (laplace on the inside)\n"
       ]
      },
      {
       "output_type": "stream",
       "stream": "stderr",
       "text": [
        "[2014-07-04 15:54:02] DEBUG: GCR: Solving for phi_a\n"
       ]
      },
      {
       "output_type": "stream",
       "stream": "stderr",
       "text": [
        "[2014-07-04 15:54:02] DEBUG: GCR: Solving for phi_b on the boundary\n"
       ]
      },
      {
       "output_type": "stream",
       "stream": "stderr",
       "text": [
        "[2014-07-04 15:54:02] DEBUG: GCR: Solve for phi_b (laplace on the inside)\n"
       ]
      },
      {
       "output_type": "stream",
       "stream": "stderr",
       "text": [
        "[2014-07-04 15:54:02] DEBUG: GCR: Solving for phi_a\n"
       ]
      },
      {
       "output_type": "stream",
       "stream": "stderr",
       "text": [
        "[2014-07-04 15:54:02] DEBUG: GCR: Solving for phi_b on the boundary\n"
       ]
      },
      {
       "output_type": "stream",
       "stream": "stderr",
       "text": [
        "[2014-07-04 15:54:02] DEBUG: GCR: Solve for phi_b (laplace on the inside)\n"
       ]
      },
      {
       "output_type": "stream",
       "stream": "stderr",
       "text": [
        "[2014-07-04 15:54:02] DEBUG: GCR: Solving for phi_a\n"
       ]
      },
      {
       "output_type": "stream",
       "stream": "stderr",
       "text": [
        "[2014-07-04 15:54:02] DEBUG: GCR: Solving for phi_b on the boundary\n"
       ]
      },
      {
       "output_type": "stream",
       "stream": "stderr",
       "text": [
        "[2014-07-04 15:54:02] DEBUG: GCR: Solve for phi_b (laplace on the inside)\n"
       ]
      },
      {
       "output_type": "stream",
       "stream": "stderr",
       "text": [
        "[2014-07-04 15:54:02] DEBUG: GCR: Solving for phi_a\n"
       ]
      },
      {
       "output_type": "stream",
       "stream": "stderr",
       "text": [
        "[2014-07-04 15:54:02] DEBUG: GCR: Solving for phi_b on the boundary\n"
       ]
      },
      {
       "output_type": "stream",
       "stream": "stderr",
       "text": [
        "[2014-07-04 15:54:03] DEBUG: GCR: Solve for phi_b (laplace on the inside)\n"
       ]
      },
      {
       "output_type": "stream",
       "stream": "stderr",
       "text": [
        "[2014-07-04 15:54:03] DEBUG: Creating Demag object with solver 'Treecode'.\n"
       ]
      },
      {
       "output_type": "stream",
       "stream": "stderr",
       "text": [
        "[2014-07-04 15:54:04] DEBUG: The mesh '/home/mb8g11/Workspace/finmag/sandbox/fkdemag_solver_benchmark/compare_with_lu/meshes/sphere-5-0_6.xml.gz' already exists and is automatically returned.\n"
       ]
      },
      {
       "output_type": "stream",
       "stream": "stderr",
       "text": [
        "[2014-07-04 15:54:04] DEBUG: Creating Demag object with solver 'FK'.\n"
       ]
      },
      {
       "output_type": "stream",
       "stream": "stderr",
       "text": [
        "[2014-07-04 15:54:04] DEBUG: Setting demag solver parameter phi_1_preconditioner='default'\n"
       ]
      },
      {
       "output_type": "stream",
       "stream": "stderr",
       "text": [
        "[2014-07-04 15:54:04] DEBUG: Setting demag solver parameter phi_2_solver='default'\n"
       ]
      },
      {
       "output_type": "stream",
       "stream": "stderr",
       "text": [
        "[2014-07-04 15:54:04] DEBUG: Setting demag solver parameter phi_1_solver='default'\n"
       ]
      },
      {
       "output_type": "stream",
       "stream": "stderr",
       "text": [
        "[2014-07-04 15:54:04] DEBUG: Setting demag solver parameter phi_2_preconditioner='default'\n"
       ]
      },
      {
       "output_type": "stream",
       "stream": "stderr",
       "text": [
        "[2014-07-04 15:54:04] DEBUG: Demag parameters now: {'phi_1': {'absolute_tolerance': 1e-06, 'relative_tolerance': 1e-06, 'maximum_iterations': 10000}, 'phi_2': {'absolute_tolerance': 1e-06, 'relative_tolerance': 1e-06, 'maximum_iterations': 10000}, 'phi_2_solver': 'default', 'phi_2_preconditioner': 'default', 'phi_1_preconditioner': 'default', 'phi_1_solver': 'default'}\n"
       ]
      },
      {
       "output_type": "stream",
       "stream": "stderr",
       "text": [
        "[2014-07-04 15:54:04] DEBUG: Using Krylov solver for demag.\n"
       ]
      },
      {
       "output_type": "stream",
       "stream": "stderr",
       "text": [
        "[2014-07-04 15:54:05] DEBUG: Boundary element matrix uses 5.99 MB of memory.\n"
       ]
      },
      {
       "output_type": "stream",
       "stream": "stderr",
       "text": [
        "[2014-07-04 15:54:05] DEBUG: Creating Demag object with solver 'FK'.\n"
       ]
      },
      {
       "output_type": "stream",
       "stream": "stderr",
       "text": [
        "[2014-07-04 15:54:05] DEBUG: Setting demag solver parameter phi_1_preconditioner='ilu'\n"
       ]
      },
      {
       "output_type": "stream",
       "stream": "stderr",
       "text": [
        "[2014-07-04 15:54:05] DEBUG: Setting demag solver parameter phi_2_solver='cg'\n"
       ]
      },
      {
       "output_type": "stream",
       "stream": "stderr",
       "text": [
        "[2014-07-04 15:54:05] DEBUG: Setting demag solver parameter phi_1_solver='cg'\n"
       ]
      },
      {
       "output_type": "stream",
       "stream": "stderr",
       "text": [
        "[2014-07-04 15:54:05] DEBUG: Setting demag solver parameter phi_2_preconditioner='ilu'\n"
       ]
      },
      {
       "output_type": "stream",
       "stream": "stderr",
       "text": [
        "[2014-07-04 15:54:05] DEBUG: Demag parameters now: {'phi_1': {'absolute_tolerance': 1e-06, 'relative_tolerance': 1e-06, 'maximum_iterations': 10000}, 'phi_2': {'absolute_tolerance': 1e-06, 'relative_tolerance': 1e-06, 'maximum_iterations': 10000}, 'phi_2_solver': 'cg', 'phi_2_preconditioner': 'ilu', 'phi_1_preconditioner': 'ilu', 'phi_1_solver': 'cg'}\n"
       ]
      },
      {
       "output_type": "stream",
       "stream": "stderr",
       "text": [
        "[2014-07-04 15:54:05] DEBUG: Using Krylov solver for demag.\n"
       ]
      },
      {
       "output_type": "stream",
       "stream": "stderr",
       "text": [
        "[2014-07-04 15:54:05] DEBUG: Boundary element matrix uses 5.99 MB of memory.\n"
       ]
      },
      {
       "output_type": "stream",
       "stream": "stderr",
       "text": [
        "[2014-07-04 15:54:05] DEBUG: Creating Demag object with solver 'FK'.\n"
       ]
      },
      {
       "output_type": "stream",
       "stream": "stderr",
       "text": [
        "[2014-07-04 15:54:05] DEBUG: Using LU solver for demag.\n"
       ]
      },
      {
       "output_type": "stream",
       "stream": "stderr",
       "text": [
        "[2014-07-04 15:54:05] DEBUG: Boundary element matrix uses 5.99 MB of memory.\n"
       ]
      },
      {
       "output_type": "stream",
       "stream": "stderr",
       "text": [
        "[2014-07-04 15:54:05] DEBUG: Creating Demag object with solver 'GCR'.\n"
       ]
      },
      {
       "output_type": "stream",
       "stream": "stderr",
       "text": [
        "[2014-07-04 15:54:05] DEBUG: GCR: Solving for phi_a\n"
       ]
      },
      {
       "output_type": "stream",
       "stream": "stderr",
       "text": [
        "[2014-07-04 15:54:06] DEBUG: GCR: Solving for phi_b on the boundary\n"
       ]
      },
      {
       "output_type": "stream",
       "stream": "stderr",
       "text": [
        "[2014-07-04 15:54:06] DEBUG: GCR: Solve for phi_b (laplace on the inside)\n"
       ]
      },
      {
       "output_type": "stream",
       "stream": "stderr",
       "text": [
        "[2014-07-04 15:54:06] DEBUG: GCR: Solving for phi_a\n"
       ]
      },
      {
       "output_type": "stream",
       "stream": "stderr",
       "text": [
        "[2014-07-04 15:54:06] DEBUG: GCR: Solving for phi_b on the boundary\n"
       ]
      },
      {
       "output_type": "stream",
       "stream": "stderr",
       "text": [
        "[2014-07-04 15:54:06] DEBUG: GCR: Solve for phi_b (laplace on the inside)\n"
       ]
      },
      {
       "output_type": "stream",
       "stream": "stderr",
       "text": [
        "[2014-07-04 15:54:06] DEBUG: GCR: Solving for phi_a\n"
       ]
      },
      {
       "output_type": "stream",
       "stream": "stderr",
       "text": [
        "[2014-07-04 15:54:06] DEBUG: GCR: Solving for phi_b on the boundary\n"
       ]
      },
      {
       "output_type": "stream",
       "stream": "stderr",
       "text": [
        "[2014-07-04 15:54:06] DEBUG: GCR: Solve for phi_b (laplace on the inside)\n"
       ]
      },
      {
       "output_type": "stream",
       "stream": "stderr",
       "text": [
        "[2014-07-04 15:54:06] DEBUG: GCR: Solving for phi_a\n"
       ]
      },
      {
       "output_type": "stream",
       "stream": "stderr",
       "text": [
        "[2014-07-04 15:54:06] DEBUG: GCR: Solving for phi_b on the boundary\n"
       ]
      },
      {
       "output_type": "stream",
       "stream": "stderr",
       "text": [
        "[2014-07-04 15:54:06] DEBUG: GCR: Solve for phi_b (laplace on the inside)\n"
       ]
      },
      {
       "output_type": "stream",
       "stream": "stderr",
       "text": [
        "[2014-07-04 15:54:06] DEBUG: GCR: Solving for phi_a\n"
       ]
      },
      {
       "output_type": "stream",
       "stream": "stderr",
       "text": [
        "[2014-07-04 15:54:06] DEBUG: GCR: Solving for phi_b on the boundary\n"
       ]
      },
      {
       "output_type": "stream",
       "stream": "stderr",
       "text": [
        "[2014-07-04 15:54:06] DEBUG: GCR: Solve for phi_b (laplace on the inside)\n"
       ]
      },
      {
       "output_type": "stream",
       "stream": "stderr",
       "text": [
        "[2014-07-04 15:54:06] DEBUG: GCR: Solving for phi_a\n"
       ]
      },
      {
       "output_type": "stream",
       "stream": "stderr",
       "text": [
        "[2014-07-04 15:54:06] DEBUG: GCR: Solving for phi_b on the boundary\n"
       ]
      },
      {
       "output_type": "stream",
       "stream": "stderr",
       "text": [
        "[2014-07-04 15:54:06] DEBUG: GCR: Solve for phi_b (laplace on the inside)\n"
       ]
      },
      {
       "output_type": "stream",
       "stream": "stderr",
       "text": [
        "[2014-07-04 15:54:06] DEBUG: GCR: Solving for phi_a\n"
       ]
      },
      {
       "output_type": "stream",
       "stream": "stderr",
       "text": [
        "[2014-07-04 15:54:06] DEBUG: GCR: Solving for phi_b on the boundary\n"
       ]
      },
      {
       "output_type": "stream",
       "stream": "stderr",
       "text": [
        "[2014-07-04 15:54:06] DEBUG: GCR: Solve for phi_b (laplace on the inside)\n"
       ]
      },
      {
       "output_type": "stream",
       "stream": "stderr",
       "text": [
        "[2014-07-04 15:54:06] DEBUG: GCR: Solving for phi_a\n"
       ]
      },
      {
       "output_type": "stream",
       "stream": "stderr",
       "text": [
        "[2014-07-04 15:54:06] DEBUG: GCR: Solving for phi_b on the boundary\n"
       ]
      },
      {
       "output_type": "stream",
       "stream": "stderr",
       "text": [
        "[2014-07-04 15:54:06] DEBUG: GCR: Solve for phi_b (laplace on the inside)\n"
       ]
      },
      {
       "output_type": "stream",
       "stream": "stderr",
       "text": [
        "[2014-07-04 15:54:06] DEBUG: GCR: Solving for phi_a\n"
       ]
      },
      {
       "output_type": "stream",
       "stream": "stderr",
       "text": [
        "[2014-07-04 15:54:06] DEBUG: GCR: Solving for phi_b on the boundary\n"
       ]
      },
      {
       "output_type": "stream",
       "stream": "stderr",
       "text": [
        "[2014-07-04 15:54:06] DEBUG: GCR: Solve for phi_b (laplace on the inside)\n"
       ]
      },
      {
       "output_type": "stream",
       "stream": "stderr",
       "text": [
        "[2014-07-04 15:54:06] DEBUG: GCR: Solving for phi_a\n"
       ]
      },
      {
       "output_type": "stream",
       "stream": "stderr",
       "text": [
        "[2014-07-04 15:54:06] DEBUG: GCR: Solving for phi_b on the boundary\n"
       ]
      },
      {
       "output_type": "stream",
       "stream": "stderr",
       "text": [
        "[2014-07-04 15:54:06] DEBUG: GCR: Solve for phi_b (laplace on the inside)\n"
       ]
      },
      {
       "output_type": "stream",
       "stream": "stderr",
       "text": [
        "[2014-07-04 15:54:06] DEBUG: Creating Demag object with solver 'Treecode'.\n"
       ]
      },
      {
       "output_type": "stream",
       "stream": "stderr",
       "text": [
        "[2014-07-04 15:54:07] DEBUG: The mesh '/home/mb8g11/Workspace/finmag/sandbox/fkdemag_solver_benchmark/compare_with_lu/meshes/sphere-5-0_7.xml.gz' already exists and is automatically returned.\n"
       ]
      },
      {
       "output_type": "stream",
       "stream": "stderr",
       "text": [
        "[2014-07-04 15:54:07] DEBUG: Creating Demag object with solver 'FK'.\n"
       ]
      },
      {
       "output_type": "stream",
       "stream": "stderr",
       "text": [
        "[2014-07-04 15:54:07] DEBUG: Setting demag solver parameter phi_1_preconditioner='default'\n"
       ]
      },
      {
       "output_type": "stream",
       "stream": "stderr",
       "text": [
        "[2014-07-04 15:54:07] DEBUG: Setting demag solver parameter phi_2_solver='default'\n"
       ]
      },
      {
       "output_type": "stream",
       "stream": "stderr",
       "text": [
        "[2014-07-04 15:54:07] DEBUG: Setting demag solver parameter phi_1_solver='default'\n"
       ]
      },
      {
       "output_type": "stream",
       "stream": "stderr",
       "text": [
        "[2014-07-04 15:54:07] DEBUG: Setting demag solver parameter phi_2_preconditioner='default'\n"
       ]
      },
      {
       "output_type": "stream",
       "stream": "stderr",
       "text": [
        "[2014-07-04 15:54:07] DEBUG: Demag parameters now: {'phi_1': {'absolute_tolerance': 1e-06, 'relative_tolerance': 1e-06, 'maximum_iterations': 10000}, 'phi_2': {'absolute_tolerance': 1e-06, 'relative_tolerance': 1e-06, 'maximum_iterations': 10000}, 'phi_2_solver': 'default', 'phi_2_preconditioner': 'default', 'phi_1_preconditioner': 'default', 'phi_1_solver': 'default'}\n"
       ]
      },
      {
       "output_type": "stream",
       "stream": "stderr",
       "text": [
        "[2014-07-04 15:54:07] DEBUG: Using Krylov solver for demag.\n"
       ]
      },
      {
       "output_type": "stream",
       "stream": "stderr",
       "text": [
        "[2014-07-04 15:54:07] DEBUG: Boundary element matrix uses 3.37 MB of memory.\n"
       ]
      },
      {
       "output_type": "stream",
       "stream": "stderr",
       "text": [
        "[2014-07-04 15:54:07] DEBUG: Creating Demag object with solver 'FK'.\n"
       ]
      },
      {
       "output_type": "stream",
       "stream": "stderr",
       "text": [
        "[2014-07-04 15:54:07] DEBUG: Setting demag solver parameter phi_1_preconditioner='ilu'\n"
       ]
      },
      {
       "output_type": "stream",
       "stream": "stderr",
       "text": [
        "[2014-07-04 15:54:07] DEBUG: Setting demag solver parameter phi_2_solver='cg'\n"
       ]
      },
      {
       "output_type": "stream",
       "stream": "stderr",
       "text": [
        "[2014-07-04 15:54:07] DEBUG: Setting demag solver parameter phi_1_solver='cg'\n"
       ]
      },
      {
       "output_type": "stream",
       "stream": "stderr",
       "text": [
        "[2014-07-04 15:54:07] DEBUG: Setting demag solver parameter phi_2_preconditioner='ilu'\n"
       ]
      },
      {
       "output_type": "stream",
       "stream": "stderr",
       "text": [
        "[2014-07-04 15:54:07] DEBUG: Demag parameters now: {'phi_1': {'absolute_tolerance': 1e-06, 'relative_tolerance': 1e-06, 'maximum_iterations': 10000}, 'phi_2': {'absolute_tolerance': 1e-06, 'relative_tolerance': 1e-06, 'maximum_iterations': 10000}, 'phi_2_solver': 'cg', 'phi_2_preconditioner': 'ilu', 'phi_1_preconditioner': 'ilu', 'phi_1_solver': 'cg'}\n"
       ]
      },
      {
       "output_type": "stream",
       "stream": "stderr",
       "text": [
        "[2014-07-04 15:54:07] DEBUG: Using Krylov solver for demag.\n"
       ]
      },
      {
       "output_type": "stream",
       "stream": "stderr",
       "text": [
        "[2014-07-04 15:54:07] DEBUG: Boundary element matrix uses 3.37 MB of memory.\n"
       ]
      },
      {
       "output_type": "stream",
       "stream": "stderr",
       "text": [
        "[2014-07-04 15:54:07] DEBUG: Creating Demag object with solver 'FK'.\n"
       ]
      },
      {
       "output_type": "stream",
       "stream": "stderr",
       "text": [
        "[2014-07-04 15:54:07] DEBUG: Using LU solver for demag.\n"
       ]
      },
      {
       "output_type": "stream",
       "stream": "stderr",
       "text": [
        "[2014-07-04 15:54:07] DEBUG: Boundary element matrix uses 3.37 MB of memory.\n"
       ]
      },
      {
       "output_type": "stream",
       "stream": "stderr",
       "text": [
        "[2014-07-04 15:54:07] DEBUG: Creating Demag object with solver 'GCR'.\n"
       ]
      },
      {
       "output_type": "stream",
       "stream": "stderr",
       "text": [
        "[2014-07-04 15:54:07] DEBUG: GCR: Solving for phi_a\n"
       ]
      },
      {
       "output_type": "stream",
       "stream": "stderr",
       "text": [
        "[2014-07-04 15:54:07] DEBUG: GCR: Solving for phi_b on the boundary\n"
       ]
      },
      {
       "output_type": "stream",
       "stream": "stderr",
       "text": [
        "[2014-07-04 15:54:07] DEBUG: GCR: Solve for phi_b (laplace on the inside)\n"
       ]
      },
      {
       "output_type": "stream",
       "stream": "stderr",
       "text": [
        "[2014-07-04 15:54:07] DEBUG: GCR: Solving for phi_a\n"
       ]
      },
      {
       "output_type": "stream",
       "stream": "stderr",
       "text": [
        "[2014-07-04 15:54:07] DEBUG: GCR: Solving for phi_b on the boundary\n"
       ]
      },
      {
       "output_type": "stream",
       "stream": "stderr",
       "text": [
        "[2014-07-04 15:54:07] DEBUG: GCR: Solve for phi_b (laplace on the inside)\n"
       ]
      },
      {
       "output_type": "stream",
       "stream": "stderr",
       "text": [
        "[2014-07-04 15:54:07] DEBUG: GCR: Solving for phi_a\n"
       ]
      },
      {
       "output_type": "stream",
       "stream": "stderr",
       "text": [
        "[2014-07-04 15:54:07] DEBUG: GCR: Solving for phi_b on the boundary\n"
       ]
      },
      {
       "output_type": "stream",
       "stream": "stderr",
       "text": [
        "[2014-07-04 15:54:07] DEBUG: GCR: Solve for phi_b (laplace on the inside)\n"
       ]
      },
      {
       "output_type": "stream",
       "stream": "stderr",
       "text": [
        "[2014-07-04 15:54:07] DEBUG: GCR: Solving for phi_a\n"
       ]
      },
      {
       "output_type": "stream",
       "stream": "stderr",
       "text": [
        "[2014-07-04 15:54:07] DEBUG: GCR: Solving for phi_b on the boundary\n"
       ]
      },
      {
       "output_type": "stream",
       "stream": "stderr",
       "text": [
        "[2014-07-04 15:54:07] DEBUG: GCR: Solve for phi_b (laplace on the inside)\n"
       ]
      },
      {
       "output_type": "stream",
       "stream": "stderr",
       "text": [
        "[2014-07-04 15:54:07] DEBUG: GCR: Solving for phi_a\n"
       ]
      },
      {
       "output_type": "stream",
       "stream": "stderr",
       "text": [
        "[2014-07-04 15:54:07] DEBUG: GCR: Solving for phi_b on the boundary\n"
       ]
      },
      {
       "output_type": "stream",
       "stream": "stderr",
       "text": [
        "[2014-07-04 15:54:08] DEBUG: GCR: Solve for phi_b (laplace on the inside)\n"
       ]
      },
      {
       "output_type": "stream",
       "stream": "stderr",
       "text": [
        "[2014-07-04 15:54:08] DEBUG: GCR: Solving for phi_a\n"
       ]
      },
      {
       "output_type": "stream",
       "stream": "stderr",
       "text": [
        "[2014-07-04 15:54:08] DEBUG: GCR: Solving for phi_b on the boundary\n"
       ]
      },
      {
       "output_type": "stream",
       "stream": "stderr",
       "text": [
        "[2014-07-04 15:54:08] DEBUG: GCR: Solve for phi_b (laplace on the inside)\n"
       ]
      },
      {
       "output_type": "stream",
       "stream": "stderr",
       "text": [
        "[2014-07-04 15:54:08] DEBUG: GCR: Solving for phi_a\n"
       ]
      },
      {
       "output_type": "stream",
       "stream": "stderr",
       "text": [
        "[2014-07-04 15:54:08] DEBUG: GCR: Solving for phi_b on the boundary\n"
       ]
      },
      {
       "output_type": "stream",
       "stream": "stderr",
       "text": [
        "[2014-07-04 15:54:08] DEBUG: GCR: Solve for phi_b (laplace on the inside)\n"
       ]
      },
      {
       "output_type": "stream",
       "stream": "stderr",
       "text": [
        "[2014-07-04 15:54:08] DEBUG: GCR: Solving for phi_a\n"
       ]
      },
      {
       "output_type": "stream",
       "stream": "stderr",
       "text": [
        "[2014-07-04 15:54:08] DEBUG: GCR: Solving for phi_b on the boundary\n"
       ]
      },
      {
       "output_type": "stream",
       "stream": "stderr",
       "text": [
        "[2014-07-04 15:54:08] DEBUG: GCR: Solve for phi_b (laplace on the inside)\n"
       ]
      },
      {
       "output_type": "stream",
       "stream": "stderr",
       "text": [
        "[2014-07-04 15:54:08] DEBUG: GCR: Solving for phi_a\n"
       ]
      },
      {
       "output_type": "stream",
       "stream": "stderr",
       "text": [
        "[2014-07-04 15:54:08] DEBUG: GCR: Solving for phi_b on the boundary\n"
       ]
      },
      {
       "output_type": "stream",
       "stream": "stderr",
       "text": [
        "[2014-07-04 15:54:08] DEBUG: GCR: Solve for phi_b (laplace on the inside)\n"
       ]
      },
      {
       "output_type": "stream",
       "stream": "stderr",
       "text": [
        "[2014-07-04 15:54:08] DEBUG: GCR: Solving for phi_a\n"
       ]
      },
      {
       "output_type": "stream",
       "stream": "stderr",
       "text": [
        "[2014-07-04 15:54:08] DEBUG: GCR: Solving for phi_b on the boundary\n"
       ]
      },
      {
       "output_type": "stream",
       "stream": "stderr",
       "text": [
        "[2014-07-04 15:54:08] DEBUG: GCR: Solve for phi_b (laplace on the inside)\n"
       ]
      },
      {
       "output_type": "stream",
       "stream": "stderr",
       "text": [
        "[2014-07-04 15:54:08] DEBUG: Creating Demag object with solver 'Treecode'.\n"
       ]
      },
      {
       "output_type": "stream",
       "stream": "stderr",
       "text": [
        "[2014-07-04 15:54:08] DEBUG: The mesh '/home/mb8g11/Workspace/finmag/sandbox/fkdemag_solver_benchmark/compare_with_lu/meshes/sphere-5-0_8.xml.gz' already exists and is automatically returned.\n"
       ]
      },
      {
       "output_type": "stream",
       "stream": "stderr",
       "text": [
        "[2014-07-04 15:54:08] DEBUG: Creating Demag object with solver 'FK'.\n"
       ]
      },
      {
       "output_type": "stream",
       "stream": "stderr",
       "text": [
        "[2014-07-04 15:54:08] DEBUG: Setting demag solver parameter phi_1_preconditioner='default'\n"
       ]
      },
      {
       "output_type": "stream",
       "stream": "stderr",
       "text": [
        "[2014-07-04 15:54:08] DEBUG: Setting demag solver parameter phi_2_solver='default'\n"
       ]
      },
      {
       "output_type": "stream",
       "stream": "stderr",
       "text": [
        "[2014-07-04 15:54:08] DEBUG: Setting demag solver parameter phi_1_solver='default'\n"
       ]
      },
      {
       "output_type": "stream",
       "stream": "stderr",
       "text": [
        "[2014-07-04 15:54:08] DEBUG: Setting demag solver parameter phi_2_preconditioner='default'\n"
       ]
      },
      {
       "output_type": "stream",
       "stream": "stderr",
       "text": [
        "[2014-07-04 15:54:08] DEBUG: Demag parameters now: {'phi_1': {'absolute_tolerance': 1e-06, 'relative_tolerance': 1e-06, 'maximum_iterations': 10000}, 'phi_2': {'absolute_tolerance': 1e-06, 'relative_tolerance': 1e-06, 'maximum_iterations': 10000}, 'phi_2_solver': 'default', 'phi_2_preconditioner': 'default', 'phi_1_preconditioner': 'default', 'phi_1_solver': 'default'}\n"
       ]
      },
      {
       "output_type": "stream",
       "stream": "stderr",
       "text": [
        "[2014-07-04 15:54:08] DEBUG: Using Krylov solver for demag.\n"
       ]
      },
      {
       "output_type": "stream",
       "stream": "stderr",
       "text": [
        "[2014-07-04 15:54:08] DEBUG: Boundary element matrix uses 1.85 MB of memory.\n"
       ]
      },
      {
       "output_type": "stream",
       "stream": "stderr",
       "text": [
        "[2014-07-04 15:54:08] DEBUG: Creating Demag object with solver 'FK'.\n"
       ]
      },
      {
       "output_type": "stream",
       "stream": "stderr",
       "text": [
        "[2014-07-04 15:54:08] DEBUG: Setting demag solver parameter phi_1_preconditioner='ilu'\n"
       ]
      },
      {
       "output_type": "stream",
       "stream": "stderr",
       "text": [
        "[2014-07-04 15:54:08] DEBUG: Setting demag solver parameter phi_2_solver='cg'\n"
       ]
      },
      {
       "output_type": "stream",
       "stream": "stderr",
       "text": [
        "[2014-07-04 15:54:08] DEBUG: Setting demag solver parameter phi_1_solver='cg'\n"
       ]
      },
      {
       "output_type": "stream",
       "stream": "stderr",
       "text": [
        "[2014-07-04 15:54:08] DEBUG: Setting demag solver parameter phi_2_preconditioner='ilu'\n"
       ]
      },
      {
       "output_type": "stream",
       "stream": "stderr",
       "text": [
        "[2014-07-04 15:54:08] DEBUG: Demag parameters now: {'phi_1': {'absolute_tolerance': 1e-06, 'relative_tolerance': 1e-06, 'maximum_iterations': 10000}, 'phi_2': {'absolute_tolerance': 1e-06, 'relative_tolerance': 1e-06, 'maximum_iterations': 10000}, 'phi_2_solver': 'cg', 'phi_2_preconditioner': 'ilu', 'phi_1_preconditioner': 'ilu', 'phi_1_solver': 'cg'}\n"
       ]
      },
      {
       "output_type": "stream",
       "stream": "stderr",
       "text": [
        "[2014-07-04 15:54:08] DEBUG: Using Krylov solver for demag.\n"
       ]
      },
      {
       "output_type": "stream",
       "stream": "stderr",
       "text": [
        "[2014-07-04 15:54:08] DEBUG: Boundary element matrix uses 1.85 MB of memory.\n"
       ]
      },
      {
       "output_type": "stream",
       "stream": "stderr",
       "text": [
        "[2014-07-04 15:54:08] DEBUG: Creating Demag object with solver 'FK'.\n"
       ]
      },
      {
       "output_type": "stream",
       "stream": "stderr",
       "text": [
        "[2014-07-04 15:54:08] DEBUG: Using LU solver for demag.\n"
       ]
      },
      {
       "output_type": "stream",
       "stream": "stderr",
       "text": [
        "[2014-07-04 15:54:08] DEBUG: Boundary element matrix uses 1.85 MB of memory.\n"
       ]
      },
      {
       "output_type": "stream",
       "stream": "stderr",
       "text": [
        "[2014-07-04 15:54:08] DEBUG: Creating Demag object with solver 'GCR'.\n"
       ]
      },
      {
       "output_type": "stream",
       "stream": "stderr",
       "text": [
        "[2014-07-04 15:54:09] DEBUG: GCR: Solving for phi_a\n"
       ]
      },
      {
       "output_type": "stream",
       "stream": "stderr",
       "text": [
        "[2014-07-04 15:54:09] DEBUG: GCR: Solving for phi_b on the boundary\n"
       ]
      },
      {
       "output_type": "stream",
       "stream": "stderr",
       "text": [
        "[2014-07-04 15:54:09] DEBUG: GCR: Solve for phi_b (laplace on the inside)\n"
       ]
      },
      {
       "output_type": "stream",
       "stream": "stderr",
       "text": [
        "[2014-07-04 15:54:09] DEBUG: GCR: Solving for phi_a\n"
       ]
      },
      {
       "output_type": "stream",
       "stream": "stderr",
       "text": [
        "[2014-07-04 15:54:09] DEBUG: GCR: Solving for phi_b on the boundary\n"
       ]
      },
      {
       "output_type": "stream",
       "stream": "stderr",
       "text": [
        "[2014-07-04 15:54:09] DEBUG: GCR: Solve for phi_b (laplace on the inside)\n"
       ]
      },
      {
       "output_type": "stream",
       "stream": "stderr",
       "text": [
        "[2014-07-04 15:54:09] DEBUG: GCR: Solving for phi_a\n"
       ]
      },
      {
       "output_type": "stream",
       "stream": "stderr",
       "text": [
        "[2014-07-04 15:54:09] DEBUG: GCR: Solving for phi_b on the boundary\n"
       ]
      },
      {
       "output_type": "stream",
       "stream": "stderr",
       "text": [
        "[2014-07-04 15:54:09] DEBUG: GCR: Solve for phi_b (laplace on the inside)\n"
       ]
      },
      {
       "output_type": "stream",
       "stream": "stderr",
       "text": [
        "[2014-07-04 15:54:09] DEBUG: GCR: Solving for phi_a\n"
       ]
      },
      {
       "output_type": "stream",
       "stream": "stderr",
       "text": [
        "[2014-07-04 15:54:09] DEBUG: GCR: Solving for phi_b on the boundary\n"
       ]
      },
      {
       "output_type": "stream",
       "stream": "stderr",
       "text": [
        "[2014-07-04 15:54:09] DEBUG: GCR: Solve for phi_b (laplace on the inside)\n"
       ]
      },
      {
       "output_type": "stream",
       "stream": "stderr",
       "text": [
        "[2014-07-04 15:54:09] DEBUG: GCR: Solving for phi_a\n"
       ]
      },
      {
       "output_type": "stream",
       "stream": "stderr",
       "text": [
        "[2014-07-04 15:54:09] DEBUG: GCR: Solving for phi_b on the boundary\n"
       ]
      },
      {
       "output_type": "stream",
       "stream": "stderr",
       "text": [
        "[2014-07-04 15:54:09] DEBUG: GCR: Solve for phi_b (laplace on the inside)\n"
       ]
      },
      {
       "output_type": "stream",
       "stream": "stderr",
       "text": [
        "[2014-07-04 15:54:09] DEBUG: GCR: Solving for phi_a\n"
       ]
      },
      {
       "output_type": "stream",
       "stream": "stderr",
       "text": [
        "[2014-07-04 15:54:09] DEBUG: GCR: Solving for phi_b on the boundary\n"
       ]
      },
      {
       "output_type": "stream",
       "stream": "stderr",
       "text": [
        "[2014-07-04 15:54:09] DEBUG: GCR: Solve for phi_b (laplace on the inside)\n"
       ]
      },
      {
       "output_type": "stream",
       "stream": "stderr",
       "text": [
        "[2014-07-04 15:54:09] DEBUG: GCR: Solving for phi_a\n"
       ]
      },
      {
       "output_type": "stream",
       "stream": "stderr",
       "text": [
        "[2014-07-04 15:54:09] DEBUG: GCR: Solving for phi_b on the boundary\n"
       ]
      },
      {
       "output_type": "stream",
       "stream": "stderr",
       "text": [
        "[2014-07-04 15:54:09] DEBUG: GCR: Solve for phi_b (laplace on the inside)\n"
       ]
      },
      {
       "output_type": "stream",
       "stream": "stderr",
       "text": [
        "[2014-07-04 15:54:09] DEBUG: GCR: Solving for phi_a\n"
       ]
      },
      {
       "output_type": "stream",
       "stream": "stderr",
       "text": [
        "[2014-07-04 15:54:09] DEBUG: GCR: Solving for phi_b on the boundary\n"
       ]
      },
      {
       "output_type": "stream",
       "stream": "stderr",
       "text": [
        "[2014-07-04 15:54:09] DEBUG: GCR: Solve for phi_b (laplace on the inside)\n"
       ]
      },
      {
       "output_type": "stream",
       "stream": "stderr",
       "text": [
        "[2014-07-04 15:54:09] DEBUG: GCR: Solving for phi_a\n"
       ]
      },
      {
       "output_type": "stream",
       "stream": "stderr",
       "text": [
        "[2014-07-04 15:54:09] DEBUG: GCR: Solving for phi_b on the boundary\n"
       ]
      },
      {
       "output_type": "stream",
       "stream": "stderr",
       "text": [
        "[2014-07-04 15:54:09] DEBUG: GCR: Solve for phi_b (laplace on the inside)\n"
       ]
      },
      {
       "output_type": "stream",
       "stream": "stderr",
       "text": [
        "[2014-07-04 15:54:09] DEBUG: GCR: Solving for phi_a\n"
       ]
      },
      {
       "output_type": "stream",
       "stream": "stderr",
       "text": [
        "[2014-07-04 15:54:09] DEBUG: GCR: Solving for phi_b on the boundary\n"
       ]
      },
      {
       "output_type": "stream",
       "stream": "stderr",
       "text": [
        "[2014-07-04 15:54:09] DEBUG: GCR: Solve for phi_b (laplace on the inside)\n"
       ]
      },
      {
       "output_type": "stream",
       "stream": "stderr",
       "text": [
        "[2014-07-04 15:54:09] DEBUG: Creating Demag object with solver 'Treecode'.\n"
       ]
      },
      {
       "output_type": "stream",
       "stream": "stderr",
       "text": [
        "[2014-07-04 15:54:09] DEBUG: The mesh '/home/mb8g11/Workspace/finmag/sandbox/fkdemag_solver_benchmark/compare_with_lu/meshes/sphere-5-0_9.xml.gz' already exists and is automatically returned.\n"
       ]
      },
      {
       "output_type": "stream",
       "stream": "stderr",
       "text": [
        "[2014-07-04 15:54:09] DEBUG: Creating Demag object with solver 'FK'.\n"
       ]
      },
      {
       "output_type": "stream",
       "stream": "stderr",
       "text": [
        "[2014-07-04 15:54:09] DEBUG: Setting demag solver parameter phi_1_preconditioner='default'\n"
       ]
      },
      {
       "output_type": "stream",
       "stream": "stderr",
       "text": [
        "[2014-07-04 15:54:09] DEBUG: Setting demag solver parameter phi_2_solver='default'\n"
       ]
      },
      {
       "output_type": "stream",
       "stream": "stderr",
       "text": [
        "[2014-07-04 15:54:09] DEBUG: Setting demag solver parameter phi_1_solver='default'\n"
       ]
      },
      {
       "output_type": "stream",
       "stream": "stderr",
       "text": [
        "[2014-07-04 15:54:09] DEBUG: Setting demag solver parameter phi_2_preconditioner='default'\n"
       ]
      },
      {
       "output_type": "stream",
       "stream": "stderr",
       "text": [
        "[2014-07-04 15:54:09] DEBUG: Demag parameters now: {'phi_1': {'absolute_tolerance': 1e-06, 'relative_tolerance': 1e-06, 'maximum_iterations': 10000}, 'phi_2': {'absolute_tolerance': 1e-06, 'relative_tolerance': 1e-06, 'maximum_iterations': 10000}, 'phi_2_solver': 'default', 'phi_2_preconditioner': 'default', 'phi_1_preconditioner': 'default', 'phi_1_solver': 'default'}\n"
       ]
      },
      {
       "output_type": "stream",
       "stream": "stderr",
       "text": [
        "[2014-07-04 15:54:09] DEBUG: Using Krylov solver for demag.\n"
       ]
      },
      {
       "output_type": "stream",
       "stream": "stderr",
       "text": [
        "[2014-07-04 15:54:09] DEBUG: Boundary element matrix uses 1.11 MB of memory.\n"
       ]
      },
      {
       "output_type": "stream",
       "stream": "stderr",
       "text": [
        "[2014-07-04 15:54:09] DEBUG: Creating Demag object with solver 'FK'.\n"
       ]
      },
      {
       "output_type": "stream",
       "stream": "stderr",
       "text": [
        "[2014-07-04 15:54:09] DEBUG: Setting demag solver parameter phi_1_preconditioner='ilu'\n"
       ]
      },
      {
       "output_type": "stream",
       "stream": "stderr",
       "text": [
        "[2014-07-04 15:54:09] DEBUG: Setting demag solver parameter phi_2_solver='cg'\n"
       ]
      },
      {
       "output_type": "stream",
       "stream": "stderr",
       "text": [
        "[2014-07-04 15:54:09] DEBUG: Setting demag solver parameter phi_1_solver='cg'\n"
       ]
      },
      {
       "output_type": "stream",
       "stream": "stderr",
       "text": [
        "[2014-07-04 15:54:09] DEBUG: Setting demag solver parameter phi_2_preconditioner='ilu'\n"
       ]
      },
      {
       "output_type": "stream",
       "stream": "stderr",
       "text": [
        "[2014-07-04 15:54:09] DEBUG: Demag parameters now: {'phi_1': {'absolute_tolerance': 1e-06, 'relative_tolerance': 1e-06, 'maximum_iterations': 10000}, 'phi_2': {'absolute_tolerance': 1e-06, 'relative_tolerance': 1e-06, 'maximum_iterations': 10000}, 'phi_2_solver': 'cg', 'phi_2_preconditioner': 'ilu', 'phi_1_preconditioner': 'ilu', 'phi_1_solver': 'cg'}\n"
       ]
      },
      {
       "output_type": "stream",
       "stream": "stderr",
       "text": [
        "[2014-07-04 15:54:09] DEBUG: Using Krylov solver for demag.\n"
       ]
      },
      {
       "output_type": "stream",
       "stream": "stderr",
       "text": [
        "[2014-07-04 15:54:09] DEBUG: Boundary element matrix uses 1.11 MB of memory.\n"
       ]
      },
      {
       "output_type": "stream",
       "stream": "stderr",
       "text": [
        "[2014-07-04 15:54:09] DEBUG: Creating Demag object with solver 'FK'.\n"
       ]
      },
      {
       "output_type": "stream",
       "stream": "stderr",
       "text": [
        "[2014-07-04 15:54:09] DEBUG: Using LU solver for demag.\n"
       ]
      },
      {
       "output_type": "stream",
       "stream": "stderr",
       "text": [
        "[2014-07-04 15:54:10] DEBUG: Boundary element matrix uses 1.11 MB of memory.\n"
       ]
      },
      {
       "output_type": "stream",
       "stream": "stderr",
       "text": [
        "[2014-07-04 15:54:10] DEBUG: Creating Demag object with solver 'GCR'.\n"
       ]
      },
      {
       "output_type": "stream",
       "stream": "stderr",
       "text": [
        "[2014-07-04 15:54:10] DEBUG: GCR: Solving for phi_a\n"
       ]
      },
      {
       "output_type": "stream",
       "stream": "stderr",
       "text": [
        "[2014-07-04 15:54:10] DEBUG: GCR: Solving for phi_b on the boundary\n"
       ]
      },
      {
       "output_type": "stream",
       "stream": "stderr",
       "text": [
        "[2014-07-04 15:54:10] DEBUG: GCR: Solve for phi_b (laplace on the inside)\n"
       ]
      },
      {
       "output_type": "stream",
       "stream": "stderr",
       "text": [
        "[2014-07-04 15:54:10] DEBUG: GCR: Solving for phi_a\n"
       ]
      },
      {
       "output_type": "stream",
       "stream": "stderr",
       "text": [
        "[2014-07-04 15:54:10] DEBUG: GCR: Solving for phi_b on the boundary\n"
       ]
      },
      {
       "output_type": "stream",
       "stream": "stderr",
       "text": [
        "[2014-07-04 15:54:10] DEBUG: GCR: Solve for phi_b (laplace on the inside)\n"
       ]
      },
      {
       "output_type": "stream",
       "stream": "stderr",
       "text": [
        "[2014-07-04 15:54:10] DEBUG: GCR: Solving for phi_a\n"
       ]
      },
      {
       "output_type": "stream",
       "stream": "stderr",
       "text": [
        "[2014-07-04 15:54:10] DEBUG: GCR: Solving for phi_b on the boundary\n"
       ]
      },
      {
       "output_type": "stream",
       "stream": "stderr",
       "text": [
        "[2014-07-04 15:54:10] DEBUG: GCR: Solve for phi_b (laplace on the inside)\n"
       ]
      },
      {
       "output_type": "stream",
       "stream": "stderr",
       "text": [
        "[2014-07-04 15:54:10] DEBUG: GCR: Solving for phi_a\n"
       ]
      },
      {
       "output_type": "stream",
       "stream": "stderr",
       "text": [
        "[2014-07-04 15:54:10] DEBUG: GCR: Solving for phi_b on the boundary\n"
       ]
      },
      {
       "output_type": "stream",
       "stream": "stderr",
       "text": [
        "[2014-07-04 15:54:10] DEBUG: GCR: Solve for phi_b (laplace on the inside)\n"
       ]
      },
      {
       "output_type": "stream",
       "stream": "stderr",
       "text": [
        "[2014-07-04 15:54:10] DEBUG: GCR: Solving for phi_a\n"
       ]
      },
      {
       "output_type": "stream",
       "stream": "stderr",
       "text": [
        "[2014-07-04 15:54:10] DEBUG: GCR: Solving for phi_b on the boundary\n"
       ]
      },
      {
       "output_type": "stream",
       "stream": "stderr",
       "text": [
        "[2014-07-04 15:54:10] DEBUG: GCR: Solve for phi_b (laplace on the inside)\n"
       ]
      },
      {
       "output_type": "stream",
       "stream": "stderr",
       "text": [
        "[2014-07-04 15:54:10] DEBUG: GCR: Solving for phi_a\n"
       ]
      },
      {
       "output_type": "stream",
       "stream": "stderr",
       "text": [
        "[2014-07-04 15:54:10] DEBUG: GCR: Solving for phi_b on the boundary\n"
       ]
      },
      {
       "output_type": "stream",
       "stream": "stderr",
       "text": [
        "[2014-07-04 15:54:10] DEBUG: GCR: Solve for phi_b (laplace on the inside)\n"
       ]
      },
      {
       "output_type": "stream",
       "stream": "stderr",
       "text": [
        "[2014-07-04 15:54:10] DEBUG: GCR: Solving for phi_a\n"
       ]
      },
      {
       "output_type": "stream",
       "stream": "stderr",
       "text": [
        "[2014-07-04 15:54:10] DEBUG: GCR: Solving for phi_b on the boundary\n"
       ]
      },
      {
       "output_type": "stream",
       "stream": "stderr",
       "text": [
        "[2014-07-04 15:54:10] DEBUG: GCR: Solve for phi_b (laplace on the inside)\n"
       ]
      },
      {
       "output_type": "stream",
       "stream": "stderr",
       "text": [
        "[2014-07-04 15:54:10] DEBUG: GCR: Solving for phi_a\n"
       ]
      },
      {
       "output_type": "stream",
       "stream": "stderr",
       "text": [
        "[2014-07-04 15:54:10] DEBUG: GCR: Solving for phi_b on the boundary\n"
       ]
      },
      {
       "output_type": "stream",
       "stream": "stderr",
       "text": [
        "[2014-07-04 15:54:10] DEBUG: GCR: Solve for phi_b (laplace on the inside)\n"
       ]
      },
      {
       "output_type": "stream",
       "stream": "stderr",
       "text": [
        "[2014-07-04 15:54:10] DEBUG: GCR: Solving for phi_a\n"
       ]
      },
      {
       "output_type": "stream",
       "stream": "stderr",
       "text": [
        "[2014-07-04 15:54:10] DEBUG: GCR: Solving for phi_b on the boundary\n"
       ]
      },
      {
       "output_type": "stream",
       "stream": "stderr",
       "text": [
        "[2014-07-04 15:54:10] DEBUG: GCR: Solve for phi_b (laplace on the inside)\n"
       ]
      },
      {
       "output_type": "stream",
       "stream": "stderr",
       "text": [
        "[2014-07-04 15:54:10] DEBUG: GCR: Solving for phi_a\n"
       ]
      },
      {
       "output_type": "stream",
       "stream": "stderr",
       "text": [
        "[2014-07-04 15:54:10] DEBUG: GCR: Solving for phi_b on the boundary\n"
       ]
      },
      {
       "output_type": "stream",
       "stream": "stderr",
       "text": [
        "[2014-07-04 15:54:10] DEBUG: GCR: Solve for phi_b (laplace on the inside)\n"
       ]
      },
      {
       "output_type": "stream",
       "stream": "stderr",
       "text": [
        "[2014-07-04 15:54:10] DEBUG: Creating Demag object with solver 'Treecode'.\n"
       ]
      },
      {
       "output_type": "stream",
       "stream": "stderr",
       "text": [
        "[2014-07-04 15:54:10] DEBUG: The mesh '/home/mb8g11/Workspace/finmag/sandbox/fkdemag_solver_benchmark/compare_with_lu/meshes/sphere-5-1.xml.gz' already exists and is automatically returned.\n"
       ]
      },
      {
       "output_type": "stream",
       "stream": "stderr",
       "text": [
        "[2014-07-04 15:54:10] DEBUG: Creating Demag object with solver 'FK'.\n"
       ]
      },
      {
       "output_type": "stream",
       "stream": "stderr",
       "text": [
        "[2014-07-04 15:54:10] DEBUG: Setting demag solver parameter phi_1_preconditioner='default'\n"
       ]
      },
      {
       "output_type": "stream",
       "stream": "stderr",
       "text": [
        "[2014-07-04 15:54:10] DEBUG: Setting demag solver parameter phi_2_solver='default'\n"
       ]
      },
      {
       "output_type": "stream",
       "stream": "stderr",
       "text": [
        "[2014-07-04 15:54:10] DEBUG: Setting demag solver parameter phi_1_solver='default'\n"
       ]
      },
      {
       "output_type": "stream",
       "stream": "stderr",
       "text": [
        "[2014-07-04 15:54:10] DEBUG: Setting demag solver parameter phi_2_preconditioner='default'\n"
       ]
      },
      {
       "output_type": "stream",
       "stream": "stderr",
       "text": [
        "[2014-07-04 15:54:10] DEBUG: Demag parameters now: {'phi_1': {'absolute_tolerance': 1e-06, 'relative_tolerance': 1e-06, 'maximum_iterations': 10000}, 'phi_2': {'absolute_tolerance': 1e-06, 'relative_tolerance': 1e-06, 'maximum_iterations': 10000}, 'phi_2_solver': 'default', 'phi_2_preconditioner': 'default', 'phi_1_preconditioner': 'default', 'phi_1_solver': 'default'}\n"
       ]
      },
      {
       "output_type": "stream",
       "stream": "stderr",
       "text": [
        "[2014-07-04 15:54:10] DEBUG: Using Krylov solver for demag.\n"
       ]
      },
      {
       "output_type": "stream",
       "stream": "stderr",
       "text": [
        "[2014-07-04 15:54:10] DEBUG: Boundary element matrix uses 0.82 MB of memory.\n"
       ]
      },
      {
       "output_type": "stream",
       "stream": "stderr",
       "text": [
        "[2014-07-04 15:54:10] DEBUG: Creating Demag object with solver 'FK'.\n"
       ]
      },
      {
       "output_type": "stream",
       "stream": "stderr",
       "text": [
        "[2014-07-04 15:54:10] DEBUG: Setting demag solver parameter phi_1_preconditioner='ilu'\n"
       ]
      },
      {
       "output_type": "stream",
       "stream": "stderr",
       "text": [
        "[2014-07-04 15:54:10] DEBUG: Setting demag solver parameter phi_2_solver='cg'\n"
       ]
      },
      {
       "output_type": "stream",
       "stream": "stderr",
       "text": [
        "[2014-07-04 15:54:10] DEBUG: Setting demag solver parameter phi_1_solver='cg'\n"
       ]
      },
      {
       "output_type": "stream",
       "stream": "stderr",
       "text": [
        "[2014-07-04 15:54:10] DEBUG: Setting demag solver parameter phi_2_preconditioner='ilu'\n"
       ]
      },
      {
       "output_type": "stream",
       "stream": "stderr",
       "text": [
        "[2014-07-04 15:54:10] DEBUG: Demag parameters now: {'phi_1': {'absolute_tolerance': 1e-06, 'relative_tolerance': 1e-06, 'maximum_iterations': 10000}, 'phi_2': {'absolute_tolerance': 1e-06, 'relative_tolerance': 1e-06, 'maximum_iterations': 10000}, 'phi_2_solver': 'cg', 'phi_2_preconditioner': 'ilu', 'phi_1_preconditioner': 'ilu', 'phi_1_solver': 'cg'}\n"
       ]
      },
      {
       "output_type": "stream",
       "stream": "stderr",
       "text": [
        "[2014-07-04 15:54:10] DEBUG: Using Krylov solver for demag.\n"
       ]
      },
      {
       "output_type": "stream",
       "stream": "stderr",
       "text": [
        "[2014-07-04 15:54:10] DEBUG: Boundary element matrix uses 0.82 MB of memory.\n"
       ]
      },
      {
       "output_type": "stream",
       "stream": "stderr",
       "text": [
        "[2014-07-04 15:54:10] DEBUG: Creating Demag object with solver 'FK'.\n"
       ]
      },
      {
       "output_type": "stream",
       "stream": "stderr",
       "text": [
        "[2014-07-04 15:54:10] DEBUG: Using LU solver for demag.\n"
       ]
      },
      {
       "output_type": "stream",
       "stream": "stderr",
       "text": [
        "[2014-07-04 15:54:10] DEBUG: Boundary element matrix uses 0.82 MB of memory.\n"
       ]
      },
      {
       "output_type": "stream",
       "stream": "stderr",
       "text": [
        "[2014-07-04 15:54:10] DEBUG: Creating Demag object with solver 'GCR'.\n"
       ]
      },
      {
       "output_type": "stream",
       "stream": "stderr",
       "text": [
        "[2014-07-04 15:54:10] DEBUG: GCR: Solving for phi_a\n"
       ]
      },
      {
       "output_type": "stream",
       "stream": "stderr",
       "text": [
        "[2014-07-04 15:54:10] DEBUG: GCR: Solving for phi_b on the boundary\n"
       ]
      },
      {
       "output_type": "stream",
       "stream": "stderr",
       "text": [
        "[2014-07-04 15:54:10] DEBUG: GCR: Solve for phi_b (laplace on the inside)\n"
       ]
      },
      {
       "output_type": "stream",
       "stream": "stderr",
       "text": [
        "[2014-07-04 15:54:10] DEBUG: GCR: Solving for phi_a\n"
       ]
      },
      {
       "output_type": "stream",
       "stream": "stderr",
       "text": [
        "[2014-07-04 15:54:10] DEBUG: GCR: Solving for phi_b on the boundary\n"
       ]
      },
      {
       "output_type": "stream",
       "stream": "stderr",
       "text": [
        "[2014-07-04 15:54:11] DEBUG: GCR: Solve for phi_b (laplace on the inside)\n"
       ]
      },
      {
       "output_type": "stream",
       "stream": "stderr",
       "text": [
        "[2014-07-04 15:54:11] DEBUG: GCR: Solving for phi_a\n"
       ]
      },
      {
       "output_type": "stream",
       "stream": "stderr",
       "text": [
        "[2014-07-04 15:54:11] DEBUG: GCR: Solving for phi_b on the boundary\n"
       ]
      },
      {
       "output_type": "stream",
       "stream": "stderr",
       "text": [
        "[2014-07-04 15:54:11] DEBUG: GCR: Solve for phi_b (laplace on the inside)\n"
       ]
      },
      {
       "output_type": "stream",
       "stream": "stderr",
       "text": [
        "[2014-07-04 15:54:11] DEBUG: GCR: Solving for phi_a\n"
       ]
      },
      {
       "output_type": "stream",
       "stream": "stderr",
       "text": [
        "[2014-07-04 15:54:11] DEBUG: GCR: Solving for phi_b on the boundary\n"
       ]
      },
      {
       "output_type": "stream",
       "stream": "stderr",
       "text": [
        "[2014-07-04 15:54:11] DEBUG: GCR: Solve for phi_b (laplace on the inside)\n"
       ]
      },
      {
       "output_type": "stream",
       "stream": "stderr",
       "text": [
        "[2014-07-04 15:54:11] DEBUG: GCR: Solving for phi_a\n"
       ]
      },
      {
       "output_type": "stream",
       "stream": "stderr",
       "text": [
        "[2014-07-04 15:54:11] DEBUG: GCR: Solving for phi_b on the boundary\n"
       ]
      },
      {
       "output_type": "stream",
       "stream": "stderr",
       "text": [
        "[2014-07-04 15:54:11] DEBUG: GCR: Solve for phi_b (laplace on the inside)\n"
       ]
      },
      {
       "output_type": "stream",
       "stream": "stderr",
       "text": [
        "[2014-07-04 15:54:11] DEBUG: GCR: Solving for phi_a\n"
       ]
      },
      {
       "output_type": "stream",
       "stream": "stderr",
       "text": [
        "[2014-07-04 15:54:11] DEBUG: GCR: Solving for phi_b on the boundary\n"
       ]
      },
      {
       "output_type": "stream",
       "stream": "stderr",
       "text": [
        "[2014-07-04 15:54:11] DEBUG: GCR: Solve for phi_b (laplace on the inside)\n"
       ]
      },
      {
       "output_type": "stream",
       "stream": "stderr",
       "text": [
        "[2014-07-04 15:54:11] DEBUG: GCR: Solving for phi_a\n"
       ]
      },
      {
       "output_type": "stream",
       "stream": "stderr",
       "text": [
        "[2014-07-04 15:54:11] DEBUG: GCR: Solving for phi_b on the boundary\n"
       ]
      },
      {
       "output_type": "stream",
       "stream": "stderr",
       "text": [
        "[2014-07-04 15:54:11] DEBUG: GCR: Solve for phi_b (laplace on the inside)\n"
       ]
      },
      {
       "output_type": "stream",
       "stream": "stderr",
       "text": [
        "[2014-07-04 15:54:11] DEBUG: GCR: Solving for phi_a\n"
       ]
      },
      {
       "output_type": "stream",
       "stream": "stderr",
       "text": [
        "[2014-07-04 15:54:11] DEBUG: GCR: Solving for phi_b on the boundary\n"
       ]
      },
      {
       "output_type": "stream",
       "stream": "stderr",
       "text": [
        "[2014-07-04 15:54:11] DEBUG: GCR: Solve for phi_b (laplace on the inside)\n"
       ]
      },
      {
       "output_type": "stream",
       "stream": "stderr",
       "text": [
        "[2014-07-04 15:54:11] DEBUG: GCR: Solving for phi_a\n"
       ]
      },
      {
       "output_type": "stream",
       "stream": "stderr",
       "text": [
        "[2014-07-04 15:54:11] DEBUG: GCR: Solving for phi_b on the boundary\n"
       ]
      },
      {
       "output_type": "stream",
       "stream": "stderr",
       "text": [
        "[2014-07-04 15:54:11] DEBUG: GCR: Solve for phi_b (laplace on the inside)\n"
       ]
      },
      {
       "output_type": "stream",
       "stream": "stderr",
       "text": [
        "[2014-07-04 15:54:11] DEBUG: GCR: Solving for phi_a\n"
       ]
      },
      {
       "output_type": "stream",
       "stream": "stderr",
       "text": [
        "[2014-07-04 15:54:11] DEBUG: GCR: Solving for phi_b on the boundary\n"
       ]
      },
      {
       "output_type": "stream",
       "stream": "stderr",
       "text": [
        "[2014-07-04 15:54:11] DEBUG: GCR: Solve for phi_b (laplace on the inside)\n"
       ]
      },
      {
       "output_type": "stream",
       "stream": "stderr",
       "text": [
        "[2014-07-04 15:54:11] DEBUG: Creating Demag object with solver 'Treecode'.\n"
       ]
      }
     ],
     "prompt_number": 29
    },
    {
     "cell_type": "markdown",
     "metadata": {},
     "source": [
      "Visualising the results."
     ]
    },
    {
     "cell_type": "code",
     "collapsed": false,
     "input": [
      "fig = plt.figure(figsize=(10, 8))\n",
      "\n",
      "ax = fig.add_subplot(211)\n",
      "for i, method in enumerate(methods):\n",
      "    timings = [results_per_mesh[i][0] for results_per_mesh in results]\n",
      "    ax.semilogy(vertices, timings, \"o\", label=method)\n",
      "ax.legend(loc=\"upper left\", prop={'size': 8})\n",
      "ax.set_xlabel(\"vertices\")\n",
      "ax.set_ylabel(\"time (s)\")\n",
      "\n",
      "ax = fig.add_subplot(212)\n",
      "for i, method in enumerate(methods):\n",
      "    errors = [results_per_mesh[i][2] for results_per_mesh in results]\n",
      "    ax.semilogy(vertices, errors, label=method)\n",
      "ax.legend(loc=\"upper right\", prop={'size': 8})\n",
      "ax.set_xlabel(\"vertices\")\n",
      "ax.set_ylabel(\"relative error (%)\")\n",
      "\n",
      "fig.tight_layout()\n",
      "fig.savefig(\"benchmark.png\")"
     ],
     "language": "python",
     "metadata": {},
     "outputs": [
      {
       "metadata": {},
       "output_type": "display_data",
       "png": "[encoded data removed]",
       "text": [
        "<matplotlib.figure.Figure at 0x7f4ecb614710>"
       ]
      }
     ],
     "prompt_number": 30
    },
    {
     "cell_type": "code",
     "collapsed": false,
     "input": [],
     "language": "python",
     "metadata": {},
     "outputs": [],
     "prompt_number": 30
    }
   ],
   "metadata": {}
  }
 ]
}