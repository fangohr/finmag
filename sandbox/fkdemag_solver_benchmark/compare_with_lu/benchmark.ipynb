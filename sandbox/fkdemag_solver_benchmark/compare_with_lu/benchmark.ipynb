{
 "metadata": {
  "name": "",
  "signature": "sha256:8d3766d681b3450799561f1a9b99012c057d851b000a3ef12bb8d4c219010568"
 },
 "nbformat": 3,
 "nbformat_minor": 0,
 "worksheets": [
  {
   "cells": [
    {
     "cell_type": "heading",
     "level": 1,
     "metadata": {},
     "source": [
      "Benchmarking the Demag Solvers"
     ]
    },
    {
     "cell_type": "code",
     "collapsed": false,
     "input": [
      "import time\n",
      "import numpy as np\n",
      "import dolfin as df\n",
      "import matplotlib.pyplot as plt\n",
      "from finmag.energies import Demag\n",
      "from finmag.util.meshes import sphere"
     ],
     "language": "python",
     "metadata": {},
     "outputs": [],
     "prompt_number": 26
    },
    {
     "cell_type": "markdown",
     "metadata": {},
     "source": [
      "System parameters."
     ]
    },
    {
     "cell_type": "code",
     "collapsed": false,
     "input": [
      "radius = 5.0\n",
      "maxhs = [0.2, 0.25, 0.3, 0.4, 0.5, 0.6, 0.7, 0.8, 0.9, 1.0]\n",
      "unit_length = 1e-9\n",
      "m_0 = (1, 0, 0)\n",
      "Ms = 1\n",
      "H_ref = np.array((- Ms / 3.0, 0, 0))"
     ],
     "language": "python",
     "metadata": {},
     "outputs": [],
     "prompt_number": 27
    },
    {
     "cell_type": "markdown",
     "metadata": {},
     "source": [
      "We define a function which will run the benchmark given a demag object and the reference solution."
     ]
    },
    {
     "cell_type": "code",
     "collapsed": false,
     "input": [
      "def benchmark(demag, H_ref):\n",
      "    REPETITIONS = 10\n",
      "    start = time.time()\n",
      "    for j in xrange(REPETITIONS):\n",
      "        H = demag.compute_field()\n",
      "    elapsed = (time.time() - start) / REPETITIONS\n",
      "\n",
      "    H = H.reshape((3, -1))\n",
      "    spread = abs(H[0].max() - H[0].min()) \n",
      "    error = abs(H.mean(axis=1)[0] - H_ref[0]) / abs(H_ref[0])\n",
      "\n",
      "    return elapsed, spread, error"
     ],
     "language": "python",
     "metadata": {},
     "outputs": []
    },
    {
     "cell_type": "markdown",
     "metadata": {},
     "source": [
      "We run the benchmarks for each mesh size and each solver. There are 3 options for the FK solver: the default parameters, the optimised parameters and the LU factorisation."
     ]
    },
    {
     "cell_type": "code",
     "collapsed": false,
     "input": [
      "vertices = []\n",
      "methods = (\"FK default\", \"FK opt.\", \"FK LU\", \"GCR\", \"Treecode\")\n",
      "results = []\n",
      "\n",
      "for maxh in maxhs:\n",
      "    mesh = sphere(r=radius, maxh=maxh, directory=\"meshes\")\n",
      "    vertices.append(mesh.num_vertices())\n",
      "    S3 = df.VectorFunctionSpace(mesh, \"Lagrange\", 1)\n",
      "    m = df.Function(S3)\n",
      "    m.assign(df.Constant(m_0))\n",
      "\n",
      "    results_for_this_mesh = []\n",
      "    for method in methods:\n",
      "        if method == \"FK default\":\n",
      "            parameters = {}\n",
      "            parameters[\"phi_1_solver\"] = \"default\"\n",
      "            parameters[\"phi_1_preconditioner\"] = \"default\"\n",
      "            parameters[\"phi_2_solver\"] = \"default\"\n",
      "            parameters[\"phi_2_preconditioner\"] = \"default\"\n",
      "            demag = Demag(\"FK\", solver_type=\"Krylov\", parameters=parameters)\n",
      "        elif method == \"FK opt.\":\n",
      "            parameters = {}\n",
      "            parameters[\"phi_1_solver\"] = \"cg\"\n",
      "            parameters[\"phi_1_preconditioner\"] = \"ilu\"\n",
      "            parameters[\"phi_2_solver\"] = \"cg\"\n",
      "            parameters[\"phi_2_preconditioner\"] = \"ilu\"\n",
      "            demag = Demag(\"FK\", solver_type=\"Krylov\", parameters=parameters)\n",
      "        elif method == \"FK LU\":\n",
      "            demag = Demag(\"FK\", solver_type=\"LU\")\n",
      "        elif method == \"GCR\":\n",
      "            demag = Demag(\"GCR\")\n",
      "        elif method == \"Treecode\":\n",
      "            demag = Demag(\"Treecode\")\n",
      "        else:\n",
      "            import sys\n",
      "            print \"What are you doing?\"\n",
      "            sys.exit(1)\n",
      "\n",
      "        demag.setup(S3, m, Ms, unit_length)\n",
      "        results_for_this_mesh.append(benchmark(demag, H_ref))\n",
      "    results.append(results_for_this_mesh)"
     ],
     "language": "python",
     "metadata": {},
     "outputs": [
      {
       "output_type": "stream",
       "stream": "stderr",
       "text": [
        "[2014-07-04 15:48:09] DEBUG: The mesh '/home/mb8g11/Workspace/finmag/sandbox/fkdemag_solver_benchmark/compare_with_lu/meshes/sphere-5-0_2.xml.gz' already exists and is automatically returned.\n"
       ]
      },
      {
       "output_type": "stream",
       "stream": "stderr",
       "text": [
        "[2014-07-04 15:48:11] DEBUG: Creating Demag object with solver 'FK'.\n"
       ]
      },
      {
       "output_type": "stream",
       "stream": "stderr",
       "text": [
        "[2014-07-04 15:48:11] DEBUG: Setting demag solver parameter phi_1_preconditioner='default'\n"
       ]
      },
      {
       "output_type": "stream",
       "stream": "stderr",
       "text": [
        "[2014-07-04 15:48:11] DEBUG: Setting demag solver parameter phi_2_solver='default'\n"
       ]
      },
      {
       "output_type": "stream",
       "stream": "stderr",
       "text": [
        "[2014-07-04 15:48:11] DEBUG: Setting demag solver parameter phi_1_solver='default'\n"
       ]
      },
      {
       "output_type": "stream",
       "stream": "stderr",
       "text": [
        "[2014-07-04 15:48:11] DEBUG: Setting demag solver parameter phi_2_preconditioner='default'\n"
       ]
      },
      {
       "output_type": "stream",
       "stream": "stderr",
       "text": [
        "[2014-07-04 15:48:11] DEBUG: Demag parameters now: {'phi_1': {'absolute_tolerance': 1e-06, 'relative_tolerance': 1e-06, 'maximum_iterations': 10000}, 'phi_2': {'absolute_tolerance': 1e-06, 'relative_tolerance': 1e-06, 'maximum_iterations': 10000}, 'phi_2_solver': 'default', 'phi_2_preconditioner': 'default', 'phi_1_preconditioner': 'default', 'phi_1_solver': 'default'}\n"
       ]
      },
      {
       "output_type": "stream",
       "stream": "stderr",
       "text": [
        "[2014-07-04 15:48:11] DEBUG: Using Krylov solver for demag.\n"
       ]
      },
      {
       "output_type": "stream",
       "stream": "stderr",
       "text": [
        "[2014-07-04 15:48:20] DEBUG: Boundary element matrix uses 519.91 MB of memory.\n"
       ]
      },
      {
       "output_type": "stream",
       "stream": "stderr",
       "text": [
        "[2014-07-04 15:48:29] DEBUG: Creating Demag object with solver 'FK'.\n"
       ]
      },
      {
       "output_type": "stream",
       "stream": "stderr",
       "text": [
        "[2014-07-04 15:48:29] DEBUG: Setting demag solver parameter phi_1_preconditioner='ilu'\n"
       ]
      },
      {
       "output_type": "stream",
       "stream": "stderr",
       "text": [
        "[2014-07-04 15:48:29] DEBUG: Setting demag solver parameter phi_2_solver='cg'\n"
       ]
      },
      {
       "output_type": "stream",
       "stream": "stderr",
       "text": [
        "[2014-07-04 15:48:29] DEBUG: Setting demag solver parameter phi_1_solver='cg'\n"
       ]
      },
      {
       "output_type": "stream",
       "stream": "stderr",
       "text": [
        "[2014-07-04 15:48:29] DEBUG: Setting demag solver parameter phi_2_preconditioner='ilu'\n"
       ]
      },
      {
       "output_type": "stream",
       "stream": "stderr",
       "text": [
        "[2014-07-04 15:48:29] DEBUG: Demag parameters now: {'phi_1': {'absolute_tolerance': 1e-06, 'relative_tolerance': 1e-06, 'maximum_iterations': 10000}, 'phi_2': {'absolute_tolerance': 1e-06, 'relative_tolerance': 1e-06, 'maximum_iterations': 10000}, 'phi_2_solver': 'cg', 'phi_2_preconditioner': 'ilu', 'phi_1_preconditioner': 'ilu', 'phi_1_solver': 'cg'}\n"
       ]
      },
      {
       "output_type": "stream",
       "stream": "stderr",
       "text": [
        "[2014-07-04 15:48:29] DEBUG: Using Krylov solver for demag.\n"
       ]
      },
      {
       "output_type": "stream",
       "stream": "stderr",
       "text": [
        "[2014-07-04 15:48:38] DEBUG: Boundary element matrix uses 519.91 MB of memory.\n"
       ]
      },
      {
       "output_type": "stream",
       "stream": "stderr",
       "text": [
        "[2014-07-04 15:48:45] DEBUG: Creating Demag object with solver 'FK'.\n"
       ]
      },
      {
       "output_type": "stream",
       "stream": "stderr",
       "text": [
        "[2014-07-04 15:48:46] DEBUG: Using LU solver for demag.\n"
       ]
      },
      {
       "output_type": "stream",
       "stream": "stderr",
       "text": [
        "[2014-07-04 15:48:54] DEBUG: Boundary element matrix uses 519.91 MB of memory.\n"
       ]
      }
     ]
    },
    {
     "cell_type": "markdown",
     "metadata": {},
     "source": [
      "Visualising the results."
     ]
    },
    {
     "cell_type": "code",
     "collapsed": false,
     "input": [
      "fig = plt.figure(figsize=(10, 8))\n",
      "\n",
      "ax = fig.add_subplot(211)\n",
      "for i, method in enumerate(methods):\n",
      "    timings = [results_per_mesh[i][0] for results_per_mesh in results]\n",
      "    ax.semilogy(vertices, timings, \"o\", label=method)\n",
      "ax.legend(loc=\"upper left\", prop={'size': 8})\n",
      "ax.set_xlabel(\"vertices\")\n",
      "ax.set_ylabel(\"time (s)\")\n",
      "\n",
      "ax = fig.add_subplot(212)\n",
      "for i, method in enumerate(methods):\n",
      "    errors = [results_per_mesh[i][2] for results_per_mesh in results]\n",
      "    ax.semilogy(vertices, errors, label=method)\n",
      "ax.legend(loc=\"upper right\", prop={'size': 8})\n",
      "ax.set_xlabel(\"vertices\")\n",
      "ax.set_ylabel(\"relative error (%)\")\n",
      "\n",
      "fig.tight_layout()\n",
      "fig.savefig(\"benchmark.png\")"
     ],
     "language": "python",
     "metadata": {},
     "outputs": []
    },
    {
     "cell_type": "code",
     "collapsed": false,
     "input": [],
     "language": "python",
     "metadata": {},
     "outputs": []
    }
   ],
   "metadata": {}
  }
 ]
}