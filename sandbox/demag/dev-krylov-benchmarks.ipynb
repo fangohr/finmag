{
 "metadata": {
  "name": "dev-krylov-benchmarks"
 },
 "nbformat": 3,
 "nbformat_minor": 0,
 "worksheets": [
  {
   "cells": [
    {
     "cell_type": "code",
     "collapsed": false,
     "input": [
      "import dolfin as df\n",
      "import finmag.energies.demag.fk_demag as fk\n",
      "from finmag import Simulation\n",
      "from finmag.energies import Exchange, Zeeman\n",
      "from finmag.util.timings import default_timer, timed\n",
      "from finmag.util.meshes import sphere, box, plot_mesh_with_paraview\n",
      "from finmag.native.llg import compute_bem_fk\n",
      "from run_measurements import *"
     ],
     "language": "python",
     "metadata": {},
     "outputs": [],
     "prompt_number": 94
    },
    {
     "cell_type": "heading",
     "level": 1,
     "metadata": {},
     "source": [
      "Krylov-Solvers used in Demagnetising Field Computation"
     ]
    },
    {
     "cell_type": "markdown",
     "metadata": {},
     "source": [
      "To see which Krylov subspace methods are available in dolfin, use *krylov\\_solver\\_methods*."
     ]
    },
    {
     "cell_type": "code",
     "collapsed": false,
     "input": [
      "for name, description in df.krylov_solver_methods():\n",
      "    print \"{:<20} {}\".format(name, description)"
     ],
     "language": "python",
     "metadata": {},
     "outputs": [
      {
       "output_type": "stream",
       "stream": "stdout",
       "text": [
        "default              default Krylov method\n",
        "cg                   Conjugate gradient method\n",
        "gmres                Generalized minimal residual method\n",
        "minres               Minimal residual method\n",
        "tfqmr                Transpose-free quasi-minimal residual method\n",
        "richardson           Richardson method\n",
        "bicgstab             Biconjugate gradient stabilized method\n"
       ]
      }
     ],
     "prompt_number": 2
    },
    {
     "cell_type": "markdown",
     "metadata": {},
     "source": [
      "The problems may be preconditioned using one of the methods in *krylov\\_solver\\_preconditioners*."
     ]
    },
    {
     "cell_type": "code",
     "collapsed": false,
     "input": [
      "for name, description in df.krylov_solver_preconditioners():\n",
      "    print \"{:<20} {}\".format(name, description)"
     ],
     "language": "python",
     "metadata": {},
     "outputs": [
      {
       "output_type": "stream",
       "stream": "stdout",
       "text": [
        "default              default preconditioner\n",
        "none                 No preconditioner\n",
        "ilu                  Incomplete LU factorization\n",
        "icc                  Incomplete Cholesky factorization\n",
        "sor                  Successive over-relaxation\n",
        "jacobi               Jacobi iteration\n",
        "bjacobi              Block Jacobi iteration\n",
        "additive_schwarz     Additive Schwarz\n",
        "amg                  Algebraic multigrid\n",
        "hypre_amg            Hypre algebraic multigrid (BoomerAMG)\n",
        "hypre_euclid         Hypre parallel incomplete LU factorization\n",
        "hypre_parasails      Hypre parallel sparse approximate inverse\n"
       ]
      }
     ],
     "prompt_number": 3
    },
    {
     "cell_type": "markdown",
     "metadata": {},
     "source": [
      "We'll extract the solver and preconditioners names for later usage."
     ]
    },
    {
     "cell_type": "code",
     "collapsed": false,
     "input": [
      "solvers = [s[0] for s in df.krylov_solver_methods()]\n",
      "preconditioners = [p[0] for p in df.krylov_solver_preconditioners()]"
     ],
     "language": "python",
     "metadata": {},
     "outputs": [],
     "prompt_number": 4
    },
    {
     "cell_type": "markdown",
     "metadata": {},
     "source": [
      "Since, in principle, every solver can be used with any preconditioner, there are several combinations to check."
     ]
    },
    {
     "cell_type": "code",
     "collapsed": false,
     "input": [
      "m = len(df.krylov_solver_methods())\n",
      "n = len(df.krylov_solver_preconditioners())\n",
      "print \"There are {} solvers, {} preconditioners and thus {} diferent combinations of solver and preconditioner.\".format(m, n, m * n)"
     ],
     "language": "python",
     "metadata": {},
     "outputs": [
      {
       "output_type": "stream",
       "stream": "stdout",
       "text": [
        "There are 7 solvers, 12 preconditioners and thus 84 diferent combinations of solver and preconditioner.\n"
       ]
      }
     ],
     "prompt_number": 5
    },
    {
     "cell_type": "heading",
     "level": 2,
     "metadata": {},
     "source": [
      "A Sample Problem with Analytical Solution"
     ]
    },
    {
     "cell_type": "markdown",
     "metadata": {},
     "source": [
      "We are studying an homogeneously magnetised sphere."
     ]
    },
    {
     "cell_type": "code",
     "collapsed": false,
     "input": [
      "ball = sphere(20.0, 1.2, directory=\"meshes\")\n",
      "BallSpace = df.VectorFunctionSpace(ball, \"CG\", 1)\n",
      "m_ball = df.Function(BallSpace)\n",
      "m_ball.assign(df.Constant((1, 0, 0)))\n",
      "Ms = 1\n",
      "unit_length = 1e-9\n",
      "\n",
      "print \"The used mesh has {} vertices.\".format(ball.num_vertices())\n",
      "plot_mesh_with_paraview(ball)"
     ],
     "language": "python",
     "metadata": {},
     "outputs": [
      {
       "output_type": "stream",
       "stream": "stderr",
       "text": [
        "[2013-04-12 00:44:34] DEBUG: The mesh '/home/mb8g11/Workspace/finmag/sandbox/demag/meshes/sphere-20-1_2.xml.gz' already exists and is automatically returned.\n"
       ]
      },
      {
       "output_type": "stream",
       "stream": "stdout",
       "text": [
        "The used mesh has 13431 vertices.\n"
       ]
      },
      {
       "output_type": "pyout",
       "png": "[encoded data removed]",
       "prompt_number": 6,
       "text": [
        "<IPython.core.display.Image at 0x3b94f90>"
       ]
      }
     ],
     "prompt_number": 6
    },
    {
     "cell_type": "markdown",
     "metadata": {},
     "source": [
      "The demagnetising field for this problem is known."
     ]
    },
    {
     "cell_type": "code",
     "collapsed": false,
     "input": [
      "H = df.Function(BallSpace)\n",
      "H.assign(df.Constant((-1.0/3.0, 0.0, 0.0)))\n",
      "H_expected = H.vector().array()\n",
      "del(H)\n",
      "tol = 0.002"
     ],
     "language": "python",
     "metadata": {},
     "outputs": [],
     "prompt_number": 7
    },
    {
     "cell_type": "markdown",
     "metadata": {},
     "source": [
      "We will compute the BEM once in advance to save a lot of time."
     ]
    },
    {
     "cell_type": "code",
     "collapsed": false,
     "input": [
      "bem_ball, boundary_to_global_ball = compute_bem_fk(df.BoundaryMesh(ball, 'exterior', False))"
     ],
     "language": "python",
     "metadata": {},
     "outputs": [],
     "prompt_number": 8
    },
    {
     "cell_type": "heading",
     "level": 3,
     "metadata": {},
     "source": [
      "First Linear Solve"
     ]
    },
    {
     "cell_type": "markdown",
     "metadata": {},
     "source": [
      "There are two linear systems involved in the computation of the magnetic potential. We will record the time needed to solve the first one for possible combinations of solver/preconditioner. The experiment will be repeated ten times and the time averaged.\n",
      "\n",
      "All runs that don't meet the tolerance requirements or fail for other reasons will be discarded."
     ]
    },
    {
     "cell_type": "code",
     "collapsed": false,
     "input": [
      "repetitions = 10\n",
      "runner = create_measurement_runner(BallSpace, m_ball, Ms, unit_length, H_expected, tol, repetitions, bem_ball, boundary_to_global_ball)\n",
      "results_1, failed_1 = runner(\"first linear solve\", \"phi_1_solver\", solvers, \"phi_1_preconditioner\", preconditioners, [], \"timings_log_1.txt\", \"results_1.pickled\")"
     ],
     "language": "python",
     "metadata": {},
     "outputs": [
      {
       "output_type": "stream",
       "stream": "stdout",
       "text": [
        "No recorded results found. Will run benchmarks.\n",
        "Time shown for first linear solve in s.\n",
        "\n",
        "               |    default       none        ilu        icc        sor     jacobi    bjacobi additive_schwarz        amg  hypre_amg hypre_euclid hypre_parasails \n",
        "---------------|--------------------------------------------------------------------------------------------------------------------------------------------------\n",
        "default        | "
       ]
      },
      {
       "output_type": "stream",
       "stream": "stdout",
       "text": [
        "    0.0318 "
       ]
      },
      {
       "output_type": "stream",
       "stream": "stdout",
       "text": [
        "    0.0685 "
       ]
      },
      {
       "output_type": "stream",
       "stream": "stdout",
       "text": [
        "    0.0315 "
       ]
      },
      {
       "output_type": "stream",
       "stream": "stdout",
       "text": [
        "    0.0336 "
       ]
      },
      {
       "output_type": "stream",
       "stream": "stdout",
       "text": [
        "    0.0379 "
       ]
      },
      {
       "output_type": "stream",
       "stream": "stdout",
       "text": [
        "    0.0577 "
       ]
      },
      {
       "output_type": "stream",
       "stream": "stdout",
       "text": [
        "    0.0334 "
       ]
      },
      {
       "output_type": "stream",
       "stream": "stdout",
       "text": [
        "          0.0363 "
       ]
      },
      {
       "output_type": "stream",
       "stream": "stdout",
       "text": [
        "     0.207 "
       ]
      },
      {
       "output_type": "stream",
       "stream": "stdout",
       "text": [
        "     0.207 "
       ]
      },
      {
       "output_type": "stream",
       "stream": "stdout",
       "text": [
        "      0.0808 "
       ]
      },
      {
       "output_type": "stream",
       "stream": "stdout",
       "text": [
        "          0.443 \n",
        "cg             | "
       ]
      },
      {
       "output_type": "stream",
       "stream": "stdout",
       "text": [
        "    0.0249 "
       ]
      },
      {
       "output_type": "stream",
       "stream": "stdout",
       "text": [
        "    0.0345 "
       ]
      },
      {
       "output_type": "stream",
       "stream": "stdout",
       "text": [
        "     0.025 "
       ]
      },
      {
       "output_type": "stream",
       "stream": "stdout",
       "text": [
        "    0.0262 "
       ]
      },
      {
       "output_type": "stream",
       "stream": "stdout",
       "text": [
        "    0.0287 "
       ]
      },
      {
       "output_type": "stream",
       "stream": "stdout",
       "text": [
        "    0.0295 "
       ]
      },
      {
       "output_type": "stream",
       "stream": "stdout",
       "text": [
        "    0.0272 "
       ]
      },
      {
       "output_type": "stream",
       "stream": "stdout",
       "text": [
        "          0.0293 "
       ]
      },
      {
       "output_type": "stream",
       "stream": "stdout",
       "text": [
        "         x "
       ]
      },
      {
       "output_type": "stream",
       "stream": "stdout",
       "text": [
        "         x "
       ]
      },
      {
       "output_type": "stream",
       "stream": "stdout",
       "text": [
        "      0.0737 "
       ]
      },
      {
       "output_type": "stream",
       "stream": "stdout",
       "text": [
        "              x \n",
        "gmres          | "
       ]
      },
      {
       "output_type": "stream",
       "stream": "stdout",
       "text": [
        "    0.0316 "
       ]
      },
      {
       "output_type": "stream",
       "stream": "stdout",
       "text": [
        "    0.0681 "
       ]
      },
      {
       "output_type": "stream",
       "stream": "stdout",
       "text": [
        "    0.0316 "
       ]
      },
      {
       "output_type": "stream",
       "stream": "stdout",
       "text": [
        "    0.0335 "
       ]
      },
      {
       "output_type": "stream",
       "stream": "stdout",
       "text": [
        "    0.0379 "
       ]
      },
      {
       "output_type": "stream",
       "stream": "stdout",
       "text": [
        "    0.0573 "
       ]
      },
      {
       "output_type": "stream",
       "stream": "stdout",
       "text": [
        "    0.0334 "
       ]
      },
      {
       "output_type": "stream",
       "stream": "stdout",
       "text": [
        "          0.0357 "
       ]
      },
      {
       "output_type": "stream",
       "stream": "stdout",
       "text": [
        "     0.207 "
       ]
      },
      {
       "output_type": "stream",
       "stream": "stdout",
       "text": [
        "     0.206 "
       ]
      },
      {
       "output_type": "stream",
       "stream": "stdout",
       "text": [
        "      0.0809 "
       ]
      },
      {
       "output_type": "stream",
       "stream": "stdout",
       "text": [
        "          0.442 \n",
        "minres         | "
       ]
      },
      {
       "output_type": "stream",
       "stream": "stdout",
       "text": [
        "    0.0278 "
       ]
      },
      {
       "output_type": "stream",
       "stream": "stdout",
       "text": [
        "    0.0392 "
       ]
      },
      {
       "output_type": "stream",
       "stream": "stdout",
       "text": [
        "    0.0278 "
       ]
      },
      {
       "output_type": "stream",
       "stream": "stdout",
       "text": [
        "    0.0286 "
       ]
      },
      {
       "output_type": "stream",
       "stream": "stdout",
       "text": [
        "     0.031 "
       ]
      },
      {
       "output_type": "stream",
       "stream": "stdout",
       "text": [
        "    0.0335 "
       ]
      },
      {
       "output_type": "stream",
       "stream": "stdout",
       "text": [
        "      0.03 "
       ]
      },
      {
       "output_type": "stream",
       "stream": "stdout",
       "text": [
        "          0.0317 "
       ]
      },
      {
       "output_type": "stream",
       "stream": "stdout",
       "text": [
        "     0.207 "
       ]
      },
      {
       "output_type": "stream",
       "stream": "stdout",
       "text": [
        "     0.208 "
       ]
      },
      {
       "output_type": "stream",
       "stream": "stdout",
       "text": [
        "      0.0767 "
       ]
      },
      {
       "output_type": "stream",
       "stream": "stdout",
       "text": [
        "              x \n",
        "tfqmr          | "
       ]
      },
      {
       "output_type": "stream",
       "stream": "stdout",
       "text": [
        "     0.031 "
       ]
      },
      {
       "output_type": "stream",
       "stream": "stdout",
       "text": [
        "    0.0526 "
       ]
      },
      {
       "output_type": "stream",
       "stream": "stdout",
       "text": [
        "     0.031 "
       ]
      },
      {
       "output_type": "stream",
       "stream": "stdout",
       "text": [
        "    0.0326 "
       ]
      },
      {
       "output_type": "stream",
       "stream": "stdout",
       "text": [
        "    0.0355 "
       ]
      },
      {
       "output_type": "stream",
       "stream": "stdout",
       "text": [
        "    0.0405 "
       ]
      },
      {
       "output_type": "stream",
       "stream": "stdout",
       "text": [
        "    0.0326 "
       ]
      },
      {
       "output_type": "stream",
       "stream": "stdout",
       "text": [
        "          0.0354 "
       ]
      },
      {
       "output_type": "stream",
       "stream": "stdout",
       "text": [
        "         x "
       ]
      },
      {
       "output_type": "stream",
       "stream": "stdout",
       "text": [
        "         x "
       ]
      },
      {
       "output_type": "stream",
       "stream": "stdout",
       "text": [
        "       0.081 "
       ]
      },
      {
       "output_type": "stream",
       "stream": "stdout",
       "text": [
        "          0.443 \n",
        "richardson     | "
       ]
      },
      {
       "output_type": "stream",
       "stream": "stdout",
       "text": [
        "     0.296 "
       ]
      },
      {
       "output_type": "stream",
       "stream": "stdout",
       "text": [
        "         x "
       ]
      },
      {
       "output_type": "stream",
       "stream": "stdout",
       "text": [
        "     0.297 "
       ]
      },
      {
       "output_type": "stream",
       "stream": "stdout",
       "text": [
        "     0.327 "
       ]
      },
      {
       "output_type": "stream",
       "stream": "stdout",
       "text": [
        "      4.61 "
       ]
      },
      {
       "output_type": "stream",
       "stream": "stdout",
       "text": [
        "     0.724 "
       ]
      },
      {
       "output_type": "stream",
       "stream": "stdout",
       "text": [
        "     0.302 "
       ]
      },
      {
       "output_type": "stream",
       "stream": "stdout",
       "text": [
        "            0.32 "
       ]
      },
      {
       "output_type": "stream",
       "stream": "stdout",
       "text": [
        "     0.219 "
       ]
      },
      {
       "output_type": "stream",
       "stream": "stdout",
       "text": [
        "     0.219 "
       ]
      },
      {
       "output_type": "stream",
       "stream": "stdout",
       "text": [
        "       0.367 "
       ]
      },
      {
       "output_type": "stream",
       "stream": "stdout",
       "text": [
        "           1.03 \n",
        "bicgstab       | "
       ]
      },
      {
       "output_type": "stream",
       "stream": "stdout",
       "text": [
        "    0.0344 "
       ]
      },
      {
       "output_type": "stream",
       "stream": "stdout",
       "text": [
        "    0.0425 "
       ]
      },
      {
       "output_type": "stream",
       "stream": "stdout",
       "text": [
        "    0.0343 "
       ]
      },
      {
       "output_type": "stream",
       "stream": "stdout",
       "text": [
        "    0.0357 "
       ]
      },
      {
       "output_type": "stream",
       "stream": "stdout",
       "text": [
        "    0.0379 "
       ]
      },
      {
       "output_type": "stream",
       "stream": "stdout",
       "text": [
        "    0.0382 "
       ]
      },
      {
       "output_type": "stream",
       "stream": "stdout",
       "text": [
        "    0.0362 "
       ]
      },
      {
       "output_type": "stream",
       "stream": "stdout",
       "text": [
        "          0.0383 "
       ]
      },
      {
       "output_type": "stream",
       "stream": "stdout",
       "text": [
        "     0.775 "
       ]
      },
      {
       "output_type": "stream",
       "stream": "stdout",
       "text": [
        "     0.774 "
       ]
      },
      {
       "output_type": "stream",
       "stream": "stdout",
       "text": [
        "      0.0839 "
       ]
      },
      {
       "output_type": "stream",
       "stream": "stdout",
       "text": [
        "          0.432 \n",
        "\n",
        "Default combination ran in 0.0318 s.\n",
        "Fastest combination cg/default ran in 0.0249 s.\n",
        "That is an 21.6% improvement.\n"
       ]
      }
     ],
     "prompt_number": 9
    },
    {
     "cell_type": "markdown",
     "metadata": {},
     "source": [
      "Visualise the data to highlight the differences in runtime between the solvers and to see how much the preconditioners help."
     ]
    },
    {
     "cell_type": "code",
     "collapsed": false,
     "input": [
      "fig = column_chart(results_1, solvers, offset=0.02)\n",
      "fig.set_size_inches((20, 5))\n",
      "ax = fig.axes[0]\n",
      "ax.set_ylim([0, 0.5])\n",
      "ax.set_title(\"Time Spent Solving the First Linear System by Solver and Preconditioner (Bottom Part)\")"
     ],
     "language": "python",
     "metadata": {},
     "outputs": [
      {
       "output_type": "pyout",
       "prompt_number": 10,
       "text": [
        "<matplotlib.text.Text at 0x6776c10>"
       ]
      },
      {
       "output_type": "display_data",
       "png": "[encoded data removed]"
      }
     ],
     "prompt_number": 10
    },
    {
     "cell_type": "markdown",
     "metadata": {},
     "source": [
      "The default settings are a decent choice, while using a badly chosen preconditioner is worse than using none at all."
     ]
    },
    {
     "cell_type": "heading",
     "level": 3,
     "metadata": {},
     "source": [
      "Second Linear Solve"
     ]
    },
    {
     "cell_type": "markdown",
     "metadata": {},
     "source": [
      "This time, we will record the time needed to solve the second linear system."
     ]
    },
    {
     "cell_type": "code",
     "collapsed": false,
     "input": [
      "results_2, failed_2 = runner(\"second linear solve\", \"phi_2_solver\", solvers, \"phi_2_preconditioner\", preconditioners, [], \"timings_log_2.txt\", \"results_2.pickled\")"
     ],
     "language": "python",
     "metadata": {},
     "outputs": [
      {
       "output_type": "stream",
       "stream": "stdout",
       "text": [
        "No recorded results found. Will run benchmarks.\n",
        "Time shown for second linear solve in s.\n",
        "\n",
        "               |    default       none        ilu        icc        sor     jacobi    bjacobi additive_schwarz        amg  hypre_amg hypre_euclid hypre_parasails \n",
        "---------------|--------------------------------------------------------------------------------------------------------------------------------------------------\n",
        "default        | "
       ]
      },
      {
       "output_type": "stream",
       "stream": "stdout",
       "text": [
        "    0.0217 "
       ]
      },
      {
       "output_type": "stream",
       "stream": "stdout",
       "text": [
        "    0.0384 "
       ]
      },
      {
       "output_type": "stream",
       "stream": "stdout",
       "text": [
        "    0.0218 "
       ]
      },
      {
       "output_type": "stream",
       "stream": "stdout",
       "text": [
        "    0.0233 "
       ]
      },
      {
       "output_type": "stream",
       "stream": "stdout",
       "text": [
        "     0.022 "
       ]
      },
      {
       "output_type": "stream",
       "stream": "stdout",
       "text": [
        "    0.0263 "
       ]
      },
      {
       "output_type": "stream",
       "stream": "stdout",
       "text": [
        "    0.0233 "
       ]
      },
      {
       "output_type": "stream",
       "stream": "stdout",
       "text": [
        "          0.0252 "
       ]
      },
      {
       "output_type": "stream",
       "stream": "stdout",
       "text": [
        "      0.14 "
       ]
      },
      {
       "output_type": "stream",
       "stream": "stdout",
       "text": [
        "     0.141 "
       ]
      },
      {
       "output_type": "stream",
       "stream": "stdout",
       "text": [
        "      0.0681 "
       ]
      },
      {
       "output_type": "stream",
       "stream": "stdout",
       "text": [
        "          0.361 \n",
        "cg             | "
       ]
      },
      {
       "output_type": "stream",
       "stream": "stdout",
       "text": [
        "    0.0173 "
       ]
      },
      {
       "output_type": "stream",
       "stream": "stdout",
       "text": [
        "      1.76 "
       ]
      },
      {
       "output_type": "stream",
       "stream": "stdout",
       "text": [
        "    0.0177 "
       ]
      },
      {
       "output_type": "stream",
       "stream": "stdout",
       "text": [
        "         x "
       ]
      },
      {
       "output_type": "stream",
       "stream": "stdout",
       "text": [
        "    0.0198 "
       ]
      },
      {
       "output_type": "stream",
       "stream": "stdout",
       "text": [
        "         x "
       ]
      },
      {
       "output_type": "stream",
       "stream": "stdout",
       "text": [
        "    0.0187 "
       ]
      },
      {
       "output_type": "stream",
       "stream": "stdout",
       "text": [
        "          0.0204 "
       ]
      },
      {
       "output_type": "stream",
       "stream": "stdout",
       "text": [
        "     0.142 "
       ]
      },
      {
       "output_type": "stream",
       "stream": "stdout",
       "text": [
        "     0.141 "
       ]
      },
      {
       "output_type": "stream",
       "stream": "stdout",
       "text": [
        "      0.0633 "
       ]
      },
      {
       "output_type": "stream",
       "stream": "stdout",
       "text": [
        "              x \n",
        "gmres          | "
       ]
      },
      {
       "output_type": "stream",
       "stream": "stdout",
       "text": [
        "    0.0229 "
       ]
      },
      {
       "output_type": "stream",
       "stream": "stdout",
       "text": [
        "    0.0385 "
       ]
      },
      {
       "output_type": "stream",
       "stream": "stdout",
       "text": [
        "    0.0218 "
       ]
      },
      {
       "output_type": "stream",
       "stream": "stdout",
       "text": [
        "    0.0229 "
       ]
      },
      {
       "output_type": "stream",
       "stream": "stdout",
       "text": [
        "    0.0219 "
       ]
      },
      {
       "output_type": "stream",
       "stream": "stdout",
       "text": [
        "    0.0262 "
       ]
      },
      {
       "output_type": "stream",
       "stream": "stdout",
       "text": [
        "    0.0233 "
       ]
      },
      {
       "output_type": "stream",
       "stream": "stdout",
       "text": [
        "          0.0252 "
       ]
      },
      {
       "output_type": "stream",
       "stream": "stdout",
       "text": [
        "      0.14 "
       ]
      },
      {
       "output_type": "stream",
       "stream": "stdout",
       "text": [
        "      0.14 "
       ]
      },
      {
       "output_type": "stream",
       "stream": "stdout",
       "text": [
        "      0.0681 "
       ]
      },
      {
       "output_type": "stream",
       "stream": "stdout",
       "text": [
        "          0.362 \n",
        "minres         | "
       ]
      },
      {
       "output_type": "stream",
       "stream": "stdout",
       "text": [
        "         x "
       ]
      },
      {
       "output_type": "stream",
       "stream": "stdout",
       "text": [
        "         x "
       ]
      },
      {
       "output_type": "stream",
       "stream": "stdout",
       "text": [
        "         x "
       ]
      },
      {
       "output_type": "stream",
       "stream": "stdout",
       "text": [
        "         x "
       ]
      },
      {
       "output_type": "stream",
       "stream": "stdout",
       "text": [
        "         x "
       ]
      },
      {
       "output_type": "stream",
       "stream": "stdout",
       "text": [
        "         x "
       ]
      },
      {
       "output_type": "stream",
       "stream": "stdout",
       "text": [
        "         x "
       ]
      },
      {
       "output_type": "stream",
       "stream": "stdout",
       "text": [
        "               x "
       ]
      },
      {
       "output_type": "stream",
       "stream": "stdout",
       "text": [
        "     0.148 "
       ]
      },
      {
       "output_type": "stream",
       "stream": "stdout",
       "text": [
        "     0.148 "
       ]
      },
      {
       "output_type": "stream",
       "stream": "stdout",
       "text": [
        "           x "
       ]
      },
      {
       "output_type": "stream",
       "stream": "stdout",
       "text": [
        "              x \n",
        "tfqmr          | "
       ]
      },
      {
       "output_type": "stream",
       "stream": "stdout",
       "text": [
        "     0.023 "
       ]
      },
      {
       "output_type": "stream",
       "stream": "stdout",
       "text": [
        "         x "
       ]
      },
      {
       "output_type": "stream",
       "stream": "stdout",
       "text": [
        "    0.0231 "
       ]
      },
      {
       "output_type": "stream",
       "stream": "stdout",
       "text": [
        "         x "
       ]
      },
      {
       "output_type": "stream",
       "stream": "stdout",
       "text": [
        "    0.0235 "
       ]
      },
      {
       "output_type": "stream",
       "stream": "stdout",
       "text": [
        "         x "
       ]
      },
      {
       "output_type": "stream",
       "stream": "stdout",
       "text": [
        "    0.0245 "
       ]
      },
      {
       "output_type": "stream",
       "stream": "stdout",
       "text": [
        "          0.0267 "
       ]
      },
      {
       "output_type": "stream",
       "stream": "stdout",
       "text": [
        "     0.155 "
       ]
      },
      {
       "output_type": "stream",
       "stream": "stdout",
       "text": [
        "     0.154 "
       ]
      },
      {
       "output_type": "stream",
       "stream": "stdout",
       "text": [
        "      0.0692 "
       ]
      },
      {
       "output_type": "stream",
       "stream": "stdout",
       "text": [
        "          0.358 \n",
        "richardson     | "
       ]
      },
      {
       "output_type": "stream",
       "stream": "stdout",
       "text": [
        "      0.08 "
       ]
      },
      {
       "output_type": "stream",
       "stream": "stdout",
       "text": [
        "         x "
       ]
      },
      {
       "output_type": "stream",
       "stream": "stdout",
       "text": [
        "    0.0801 "
       ]
      },
      {
       "output_type": "stream",
       "stream": "stdout",
       "text": [
        "    0.0899 "
       ]
      },
      {
       "output_type": "stream",
       "stream": "stdout",
       "text": [
        "      4.61 "
       ]
      },
      {
       "output_type": "stream",
       "stream": "stdout",
       "text": [
        "     0.131 "
       ]
      },
      {
       "output_type": "stream",
       "stream": "stdout",
       "text": [
        "    0.0835 "
       ]
      },
      {
       "output_type": "stream",
       "stream": "stdout",
       "text": [
        "          0.0891 "
       ]
      },
      {
       "output_type": "stream",
       "stream": "stdout",
       "text": [
        "     0.144 "
       ]
      },
      {
       "output_type": "stream",
       "stream": "stdout",
       "text": [
        "     0.144 "
       ]
      },
      {
       "output_type": "stream",
       "stream": "stdout",
       "text": [
        "       0.128 "
       ]
      },
      {
       "output_type": "stream",
       "stream": "stdout",
       "text": [
        "          0.468 \n",
        "bicgstab       | "
       ]
      },
      {
       "output_type": "stream",
       "stream": "stdout",
       "text": [
        "    0.0246 "
       ]
      },
      {
       "output_type": "stream",
       "stream": "stdout",
       "text": [
        "         x "
       ]
      },
      {
       "output_type": "stream",
       "stream": "stdout",
       "text": [
        "    0.0246 "
       ]
      },
      {
       "output_type": "stream",
       "stream": "stdout",
       "text": [
        "         x "
       ]
      },
      {
       "output_type": "stream",
       "stream": "stdout",
       "text": [
        "    0.0263 "
       ]
      },
      {
       "output_type": "stream",
       "stream": "stdout",
       "text": [
        "         x "
       ]
      },
      {
       "output_type": "stream",
       "stream": "stdout",
       "text": [
        "    0.0262 "
       ]
      },
      {
       "output_type": "stream",
       "stream": "stdout",
       "text": [
        "          0.0283 "
       ]
      },
      {
       "output_type": "stream",
       "stream": "stdout",
       "text": [
        "     0.155 "
       ]
      },
      {
       "output_type": "stream",
       "stream": "stdout",
       "text": [
        "     0.158 "
       ]
      },
      {
       "output_type": "stream",
       "stream": "stdout",
       "text": [
        "      0.0703 "
       ]
      },
      {
       "output_type": "stream",
       "stream": "stdout",
       "text": [
        "          0.357 \n",
        "\n",
        "Default combination ran in 0.0217 s.\n",
        "Fastest combination cg/default ran in 0.0173 s.\n",
        "That is an 20.4% improvement.\n"
       ]
      }
     ],
     "prompt_number": 11
    },
    {
     "cell_type": "code",
     "collapsed": false,
     "input": [
      "fig = column_chart(results_2, solvers, offset=0.02)\n",
      "fig.set_size_inches((20, 5))\n",
      "ax = fig.axes[0]\n",
      "ax.set_ylim([0, 0.4])\n",
      "ax.set_title(\"Time Spent Solving the Second Linear System by Solver and Preconditioner (Bottom Part)\")"
     ],
     "language": "python",
     "metadata": {},
     "outputs": [
      {
       "output_type": "pyout",
       "prompt_number": 12,
       "text": [
        "<matplotlib.text.Text at 0x5c1d990>"
       ]
      },
      {
       "output_type": "display_data",
       "png": "[encoded data removed]"
      }
     ],
     "prompt_number": 12
    },
    {
     "cell_type": "markdown",
     "metadata": {},
     "source": [
      "We'll delete the BEM before moving on to the next problem."
     ]
    },
    {
     "cell_type": "code",
     "collapsed": false,
     "input": [
      "del(bem_ball)\n",
      "del(boundary_to_global_ball)"
     ],
     "language": "python",
     "metadata": {},
     "outputs": [],
     "prompt_number": 13
    },
    {
     "cell_type": "heading",
     "level": 2,
     "metadata": {},
     "source": [
      "A Worst-Case Scenario"
     ]
    },
    {
     "cell_type": "markdown",
     "metadata": {},
     "source": [
      "A thin magnetic film."
     ]
    },
    {
     "cell_type": "code",
     "collapsed": false,
     "input": [
      "film = box(0, 0, 0, 500, 50, 1, maxh=2.0, directory=\"meshes\")\n",
      "FilmSpace = df.VectorFunctionSpace(film, \"CG\", 1)\n",
      "m_film = df.Function(FilmSpace)\n",
      "m_film.assign(df.Constant((1, 0, 0)))\n",
      "Ms = 1\n",
      "unit_length = 1e-9\n",
      "\n",
      "print \"The used mesh has {} vertices.\".format(film.num_vertices())\n",
      "plot_mesh_with_paraview(film)"
     ],
     "language": "python",
     "metadata": {},
     "outputs": [
      {
       "output_type": "stream",
       "stream": "stderr",
       "text": [
        "[2013-04-12 00:54:00] DEBUG: The mesh '/home/mb8g11/Workspace/finmag/sandbox/demag/meshes/box-0_0-0_0-0_0-500_0-50_0-1_0-2_0.xml.gz' already exists and is automatically returned.\n"
       ]
      },
      {
       "output_type": "stream",
       "stream": "stdout",
       "text": [
        "The used mesh has 14330 vertices.\n"
       ]
      },
      {
       "output_type": "pyout",
       "png": "[encoded data removed]",
       "prompt_number": 14,
       "text": [
        "<IPython.core.display.Image at 0x44ef310>"
       ]
      }
     ],
     "prompt_number": 14
    },
    {
     "cell_type": "markdown",
     "metadata": {},
     "source": [
      "Because we don't have an analytic solution to compare to, we will use the default solver/preconditioner as a reference."
     ]
    },
    {
     "cell_type": "code",
     "collapsed": false,
     "input": [
      "demag = fk.FKDemag()\n",
      "demag.setup(FilmSpace, m_film, Ms, unit_length)\n",
      "H_expected = demag.compute_field()\n",
      "del(demag)\n",
      "tol = 1e-6"
     ],
     "language": "python",
     "metadata": {},
     "outputs": [],
     "prompt_number": 15
    },
    {
     "cell_type": "markdown",
     "metadata": {},
     "source": [
      "Again, we will pre-compute the boundary element matrix."
     ]
    },
    {
     "cell_type": "code",
     "collapsed": false,
     "input": [
      "bem_film, boundary_to_global_film = compute_bem_fk(df.BoundaryMesh(film, 'exterior', False))"
     ],
     "language": "python",
     "metadata": {},
     "outputs": [],
     "prompt_number": 16
    },
    {
     "cell_type": "heading",
     "level": 3,
     "metadata": {},
     "source": [
      "First Linear Solve"
     ]
    },
    {
     "cell_type": "code",
     "collapsed": false,
     "input": [
      "alt_runner = create_measurement_runner(FilmSpace, m_film, Ms, unit_length, H_expected, tol, repetitions, bem_film, boundary_to_global_film)\n",
      "results_3, failed_3 = alt_runner(\"first linear solve\", \"phi_1_solver\", solvers, \"phi_1_preconditioner\", preconditioners, [], \"timings_log_3.txt\", \"results_3.pickled\")"
     ],
     "language": "python",
     "metadata": {},
     "outputs": [
      {
       "output_type": "stream",
       "stream": "stdout",
       "text": [
        "No recorded results found. Will run benchmarks.\n",
        "Time shown for first linear solve in s.\n",
        "\n",
        "               |    default       none        ilu        icc        sor     jacobi    bjacobi additive_schwarz        amg  hypre_amg hypre_euclid hypre_parasails \n",
        "---------------|--------------------------------------------------------------------------------------------------------------------------------------------------\n",
        "default        | "
       ]
      },
      {
       "output_type": "stream",
       "stream": "stdout",
       "text": [
        "     0.641 "
       ]
      },
      {
       "output_type": "stream",
       "stream": "stdout",
       "text": [
        "         x "
       ]
      },
      {
       "output_type": "stream",
       "stream": "stdout",
       "text": [
        "     0.639 "
       ]
      },
      {
       "output_type": "stream",
       "stream": "stdout",
       "text": [
        "     0.664 "
       ]
      },
      {
       "output_type": "stream",
       "stream": "stdout",
       "text": [
        "      2.11 "
       ]
      },
      {
       "output_type": "stream",
       "stream": "stdout",
       "text": [
        "      3.91 "
       ]
      },
      {
       "output_type": "stream",
       "stream": "stdout",
       "text": [
        "     0.651 "
       ]
      },
      {
       "output_type": "stream",
       "stream": "stdout",
       "text": [
        "           0.695 "
       ]
      },
      {
       "output_type": "stream",
       "stream": "stdout",
       "text": [
        "         x "
       ]
      },
      {
       "output_type": "stream",
       "stream": "stdout",
       "text": [
        "         x "
       ]
      },
      {
       "output_type": "stream",
       "stream": "stdout",
       "text": [
        "       0.745 "
       ]
      },
      {
       "output_type": "stream",
       "stream": "stdout",
       "text": [
        "           1.56 \n",
        "cg             | "
       ]
      },
      {
       "output_type": "stream",
       "stream": "stdout",
       "text": [
        "    0.0645 "
       ]
      },
      {
       "output_type": "stream",
       "stream": "stdout",
       "text": [
        "     0.149 "
       ]
      },
      {
       "output_type": "stream",
       "stream": "stdout",
       "text": [
        "    0.0643 "
       ]
      },
      {
       "output_type": "stream",
       "stream": "stdout",
       "text": [
        "    0.0684 "
       ]
      },
      {
       "output_type": "stream",
       "stream": "stdout",
       "text": [
        "     0.131 "
       ]
      },
      {
       "output_type": "stream",
       "stream": "stdout",
       "text": [
        "     0.143 "
       ]
      },
      {
       "output_type": "stream",
       "stream": "stdout",
       "text": [
        "    0.0663 "
       ]
      },
      {
       "output_type": "stream",
       "stream": "stdout",
       "text": [
        "          0.0731 "
       ]
      },
      {
       "output_type": "stream",
       "stream": "stdout",
       "text": [
        "         x "
       ]
      },
      {
       "output_type": "stream",
       "stream": "stdout",
       "text": [
        "         x "
       ]
      },
      {
       "output_type": "stream",
       "stream": "stdout",
       "text": [
        "       0.119 "
       ]
      },
      {
       "output_type": "stream",
       "stream": "stdout",
       "text": [
        "              x \n",
        "gmres          | "
       ]
      },
      {
       "output_type": "stream",
       "stream": "stdout",
       "text": [
        "      0.64 "
       ]
      },
      {
       "output_type": "stream",
       "stream": "stdout",
       "text": [
        "         x "
       ]
      },
      {
       "output_type": "stream",
       "stream": "stdout",
       "text": [
        "     0.639 "
       ]
      },
      {
       "output_type": "stream",
       "stream": "stdout",
       "text": [
        "     0.662 "
       ]
      },
      {
       "output_type": "stream",
       "stream": "stdout",
       "text": [
        "       2.1 "
       ]
      },
      {
       "output_type": "stream",
       "stream": "stdout",
       "text": [
        "      3.82 "
       ]
      },
      {
       "output_type": "stream",
       "stream": "stdout",
       "text": [
        "     0.649 "
       ]
      },
      {
       "output_type": "stream",
       "stream": "stdout",
       "text": [
        "           0.696 "
       ]
      },
      {
       "output_type": "stream",
       "stream": "stdout",
       "text": [
        "         x "
       ]
      },
      {
       "output_type": "stream",
       "stream": "stdout",
       "text": [
        "         x "
       ]
      },
      {
       "output_type": "stream",
       "stream": "stdout",
       "text": [
        "        0.74 "
       ]
      },
      {
       "output_type": "stream",
       "stream": "stdout",
       "text": [
        "           1.56 \n",
        "minres         | "
       ]
      },
      {
       "output_type": "stream",
       "stream": "stdout",
       "text": [
        "    0.0751 "
       ]
      },
      {
       "output_type": "stream",
       "stream": "stdout",
       "text": [
        "     0.194 "
       ]
      },
      {
       "output_type": "stream",
       "stream": "stdout",
       "text": [
        "    0.0753 "
       ]
      },
      {
       "output_type": "stream",
       "stream": "stdout",
       "text": [
        "    0.0787 "
       ]
      },
      {
       "output_type": "stream",
       "stream": "stdout",
       "text": [
        "     0.151 "
       ]
      },
      {
       "output_type": "stream",
       "stream": "stdout",
       "text": [
        "     0.188 "
       ]
      },
      {
       "output_type": "stream",
       "stream": "stdout",
       "text": [
        "    0.0773 "
       ]
      },
      {
       "output_type": "stream",
       "stream": "stdout",
       "text": [
        "          0.0836 "
       ]
      },
      {
       "output_type": "stream",
       "stream": "stdout",
       "text": [
        "    0.0549 "
       ]
      },
      {
       "output_type": "stream",
       "stream": "stdout",
       "text": [
        "    0.0549 "
       ]
      },
      {
       "output_type": "stream",
       "stream": "stdout",
       "text": [
        "       0.131 "
       ]
      },
      {
       "output_type": "stream",
       "stream": "stdout",
       "text": [
        "              x \n",
        "tfqmr          | "
       ]
      },
      {
       "output_type": "stream",
       "stream": "stdout",
       "text": [
        "     0.117 "
       ]
      },
      {
       "output_type": "stream",
       "stream": "stdout",
       "text": [
        "         x "
       ]
      },
      {
       "output_type": "stream",
       "stream": "stdout",
       "text": [
        "     0.118 "
       ]
      },
      {
       "output_type": "stream",
       "stream": "stdout",
       "text": [
        "     0.132 "
       ]
      },
      {
       "output_type": "stream",
       "stream": "stdout",
       "text": [
        "     0.257 "
       ]
      },
      {
       "output_type": "stream",
       "stream": "stdout",
       "text": [
        "         x "
       ]
      },
      {
       "output_type": "stream",
       "stream": "stdout",
       "text": [
        "     0.121 "
       ]
      },
      {
       "output_type": "stream",
       "stream": "stdout",
       "text": [
        "           0.132 "
       ]
      },
      {
       "output_type": "stream",
       "stream": "stdout",
       "text": [
        "         x "
       ]
      },
      {
       "output_type": "stream",
       "stream": "stdout",
       "text": [
        "         x "
       ]
      },
      {
       "output_type": "stream",
       "stream": "stdout",
       "text": [
        "       0.181 "
       ]
      },
      {
       "output_type": "stream",
       "stream": "stdout",
       "text": [
        "              x \n",
        "richardson     | "
       ]
      },
      {
       "output_type": "stream",
       "stream": "stdout",
       "text": [
        "         x "
       ]
      },
      {
       "output_type": "stream",
       "stream": "stdout",
       "text": [
        "         x "
       ]
      },
      {
       "output_type": "stream",
       "stream": "stdout",
       "text": [
        "         x "
       ]
      },
      {
       "output_type": "stream",
       "stream": "stdout",
       "text": [
        "         x "
       ]
      },
      {
       "output_type": "stream",
       "stream": "stdout",
       "text": [
        "         x "
       ]
      },
      {
       "output_type": "stream",
       "stream": "stdout",
       "text": [
        "         x "
       ]
      },
      {
       "output_type": "stream",
       "stream": "stdout",
       "text": [
        "         x "
       ]
      },
      {
       "output_type": "stream",
       "stream": "stdout",
       "text": [
        "               x "
       ]
      },
      {
       "output_type": "stream",
       "stream": "stdout",
       "text": [
        "    0.0726 "
       ]
      },
      {
       "output_type": "stream",
       "stream": "stdout",
       "text": [
        "    0.0727 "
       ]
      },
      {
       "output_type": "stream",
       "stream": "stdout",
       "text": [
        "           x "
       ]
      },
      {
       "output_type": "stream",
       "stream": "stdout",
       "text": [
        "              x \n",
        "bicgstab       | "
       ]
      },
      {
       "output_type": "stream",
       "stream": "stdout",
       "text": [
        "     0.108 "
       ]
      },
      {
       "output_type": "stream",
       "stream": "stdout",
       "text": [
        "     0.261 "
       ]
      },
      {
       "output_type": "stream",
       "stream": "stdout",
       "text": [
        "     0.108 "
       ]
      },
      {
       "output_type": "stream",
       "stream": "stdout",
       "text": [
        "     0.114 "
       ]
      },
      {
       "output_type": "stream",
       "stream": "stdout",
       "text": [
        "     0.184 "
       ]
      },
      {
       "output_type": "stream",
       "stream": "stdout",
       "text": [
        "      0.22 "
       ]
      },
      {
       "output_type": "stream",
       "stream": "stdout",
       "text": [
        "     0.111 "
       ]
      },
      {
       "output_type": "stream",
       "stream": "stdout",
       "text": [
        "           0.122 "
       ]
      },
      {
       "output_type": "stream",
       "stream": "stdout",
       "text": [
        "     0.123 "
       ]
      },
      {
       "output_type": "stream",
       "stream": "stdout",
       "text": [
        "     0.123 "
       ]
      },
      {
       "output_type": "stream",
       "stream": "stdout",
       "text": [
        "       0.167 "
       ]
      },
      {
       "output_type": "stream",
       "stream": "stdout",
       "text": [
        "          0.302 \n",
        "\n",
        "Default combination ran in 0.641 s.\n",
        "Fastest combination minres/amg ran in 0.0549 s.\n",
        "That is an 91.4% improvement.\n"
       ]
      }
     ],
     "prompt_number": 17
    },
    {
     "cell_type": "code",
     "collapsed": false,
     "input": [
      "fig = column_chart(results_3, solvers, offset=0.02)\n",
      "fig.set_size_inches((20, 5))\n",
      "ax = fig.axes[0]\n",
      "ax.set_ylim([0, 0.7])\n",
      "ax.set_title(\"Time Spent Solving the First Linear System by Solver and Preconditioner (Bottom Part)\")"
     ],
     "language": "python",
     "metadata": {},
     "outputs": [
      {
       "output_type": "pyout",
       "prompt_number": 23,
       "text": [
        "<matplotlib.text.Text at 0x7b1eb50>"
       ]
      },
      {
       "output_type": "display_data",
       "png": "[encoded data removed]"
      }
     ],
     "prompt_number": 23
    },
    {
     "cell_type": "heading",
     "level": 3,
     "metadata": {},
     "source": [
      "Second Linear Solve"
     ]
    },
    {
     "cell_type": "code",
     "collapsed": false,
     "input": [
      "results_4, failed_4 = alt_runner(\"second linear solve\", \"phi_2_solver\", solvers, \"phi_2_preconditioner\", preconditioners, [], \"timings_log_4.txt\", \"results_4.pickled\")"
     ],
     "language": "python",
     "metadata": {},
     "outputs": [
      {
       "output_type": "stream",
       "stream": "stdout",
       "text": [
        "No recorded results found. Will run benchmarks.\n",
        "Time shown for second linear solve in s.\n",
        "\n",
        "               |    default       none        ilu        icc        sor     jacobi    bjacobi additive_schwarz        amg  hypre_amg hypre_euclid hypre_parasails \n",
        "---------------|--------------------------------------------------------------------------------------------------------------------------------------------------\n",
        "default        | "
       ]
      },
      {
       "output_type": "stream",
       "stream": "stdout",
       "text": [
        "   0.00216 "
       ]
      },
      {
       "output_type": "stream",
       "stream": "stdout",
       "text": [
        "  0.000388 "
       ]
      },
      {
       "output_type": "stream",
       "stream": "stdout",
       "text": [
        "   0.00214 "
       ]
      },
      {
       "output_type": "stream",
       "stream": "stdout",
       "text": [
        "   0.00246 "
       ]
      },
      {
       "output_type": "stream",
       "stream": "stdout",
       "text": [
        "   0.00107 "
       ]
      },
      {
       "output_type": "stream",
       "stream": "stdout",
       "text": [
        "  0.000624 "
       ]
      },
      {
       "output_type": "stream",
       "stream": "stdout",
       "text": [
        "   0.00319 "
       ]
      },
      {
       "output_type": "stream",
       "stream": "stdout",
       "text": [
        "         0.00414 "
       ]
      },
      {
       "output_type": "stream",
       "stream": "stdout",
       "text": [
        "   0.00399 "
       ]
      },
      {
       "output_type": "stream",
       "stream": "stdout",
       "text": [
        "   0.00395 "
       ]
      },
      {
       "output_type": "stream",
       "stream": "stdout",
       "text": [
        "      0.0484 "
       ]
      },
      {
       "output_type": "stream",
       "stream": "stdout",
       "text": [
        "         0.0255 \n",
        "cg             | "
       ]
      },
      {
       "output_type": "stream",
       "stream": "stdout",
       "text": [
        "   0.00211 "
       ]
      },
      {
       "output_type": "stream",
       "stream": "stdout",
       "text": [
        "  0.000343 "
       ]
      },
      {
       "output_type": "stream",
       "stream": "stdout",
       "text": [
        "   0.00215 "
       ]
      },
      {
       "output_type": "stream",
       "stream": "stdout",
       "text": [
        "   0.00242 "
       ]
      },
      {
       "output_type": "stream",
       "stream": "stdout",
       "text": [
        "   0.00102 "
       ]
      },
      {
       "output_type": "stream",
       "stream": "stdout",
       "text": [
        "  0.000564 "
       ]
      },
      {
       "output_type": "stream",
       "stream": "stdout",
       "text": [
        "   0.00319 "
       ]
      },
      {
       "output_type": "stream",
       "stream": "stdout",
       "text": [
        "         0.00404 "
       ]
      },
      {
       "output_type": "stream",
       "stream": "stdout",
       "text": [
        "   0.00388 "
       ]
      },
      {
       "output_type": "stream",
       "stream": "stdout",
       "text": [
        "    0.0039 "
       ]
      },
      {
       "output_type": "stream",
       "stream": "stdout",
       "text": [
        "      0.0484 "
       ]
      },
      {
       "output_type": "stream",
       "stream": "stdout",
       "text": [
        "         0.0265 \n",
        "gmres          | "
       ]
      },
      {
       "output_type": "stream",
       "stream": "stdout",
       "text": [
        "   0.00218 "
       ]
      },
      {
       "output_type": "stream",
       "stream": "stdout",
       "text": [
        "  0.000395 "
       ]
      },
      {
       "output_type": "stream",
       "stream": "stdout",
       "text": [
        "   0.00214 "
       ]
      },
      {
       "output_type": "stream",
       "stream": "stdout",
       "text": [
        "   0.00245 "
       ]
      },
      {
       "output_type": "stream",
       "stream": "stdout",
       "text": [
        "   0.00109 "
       ]
      },
      {
       "output_type": "stream",
       "stream": "stdout",
       "text": [
        "   0.00062 "
       ]
      },
      {
       "output_type": "stream",
       "stream": "stdout",
       "text": [
        "   0.00366 "
       ]
      },
      {
       "output_type": "stream",
       "stream": "stdout",
       "text": [
        "         0.00415 "
       ]
      },
      {
       "output_type": "stream",
       "stream": "stdout",
       "text": [
        "   0.00394 "
       ]
      },
      {
       "output_type": "stream",
       "stream": "stdout",
       "text": [
        "   0.00398 "
       ]
      },
      {
       "output_type": "stream",
       "stream": "stdout",
       "text": [
        "      0.0486 "
       ]
      },
      {
       "output_type": "stream",
       "stream": "stdout",
       "text": [
        "         0.0264 \n",
        "minres         | "
       ]
      },
      {
       "output_type": "stream",
       "stream": "stdout",
       "text": [
        "   0.00229 "
       ]
      },
      {
       "output_type": "stream",
       "stream": "stdout",
       "text": [
        "  0.000528 "
       ]
      },
      {
       "output_type": "stream",
       "stream": "stdout",
       "text": [
        "    0.0023 "
       ]
      },
      {
       "output_type": "stream",
       "stream": "stdout",
       "text": [
        "   0.00261 "
       ]
      },
      {
       "output_type": "stream",
       "stream": "stdout",
       "text": [
        "   0.00121 "
       ]
      },
      {
       "output_type": "stream",
       "stream": "stdout",
       "text": [
        "  0.000757 "
       ]
      },
      {
       "output_type": "stream",
       "stream": "stdout",
       "text": [
        "   0.00378 "
       ]
      },
      {
       "output_type": "stream",
       "stream": "stdout",
       "text": [
        "         0.00469 "
       ]
      },
      {
       "output_type": "stream",
       "stream": "stdout",
       "text": [
        "   0.00414 "
       ]
      },
      {
       "output_type": "stream",
       "stream": "stdout",
       "text": [
        "    0.0041 "
       ]
      },
      {
       "output_type": "stream",
       "stream": "stdout",
       "text": [
        "      0.0487 "
       ]
      },
      {
       "output_type": "stream",
       "stream": "stdout",
       "text": [
        "         0.0268 \n",
        "tfqmr          | "
       ]
      },
      {
       "output_type": "stream",
       "stream": "stdout",
       "text": [
        "   0.00254 "
       ]
      },
      {
       "output_type": "stream",
       "stream": "stdout",
       "text": [
        "  0.000625 "
       ]
      },
      {
       "output_type": "stream",
       "stream": "stdout",
       "text": [
        "   0.00254 "
       ]
      },
      {
       "output_type": "stream",
       "stream": "stdout",
       "text": [
        "   0.00288 "
       ]
      },
      {
       "output_type": "stream",
       "stream": "stdout",
       "text": [
        "   0.00153 "
       ]
      },
      {
       "output_type": "stream",
       "stream": "stdout",
       "text": [
        "  0.000862 "
       ]
      },
      {
       "output_type": "stream",
       "stream": "stdout",
       "text": [
        "   0.00385 "
       ]
      },
      {
       "output_type": "stream",
       "stream": "stdout",
       "text": [
        "         0.00463 "
       ]
      },
      {
       "output_type": "stream",
       "stream": "stdout",
       "text": [
        "     0.005 "
       ]
      },
      {
       "output_type": "stream",
       "stream": "stdout",
       "text": [
        "   0.00497 "
       ]
      },
      {
       "output_type": "stream",
       "stream": "stdout",
       "text": [
        "      0.0488 "
       ]
      },
      {
       "output_type": "stream",
       "stream": "stdout",
       "text": [
        "          0.027 \n",
        "richardson     | "
       ]
      },
      {
       "output_type": "stream",
       "stream": "stdout",
       "text": [
        "   0.00205 "
       ]
      },
      {
       "output_type": "stream",
       "stream": "stdout",
       "text": [
        "   0.00032 "
       ]
      },
      {
       "output_type": "stream",
       "stream": "stdout",
       "text": [
        "   0.00207 "
       ]
      },
      {
       "output_type": "stream",
       "stream": "stdout",
       "text": [
        "   0.00234 "
       ]
      },
      {
       "output_type": "stream",
       "stream": "stdout",
       "text": [
        "      3.49 "
       ]
      },
      {
       "output_type": "stream",
       "stream": "stdout",
       "text": [
        "  0.000575 "
       ]
      },
      {
       "output_type": "stream",
       "stream": "stdout",
       "text": [
        "   0.00331 "
       ]
      },
      {
       "output_type": "stream",
       "stream": "stdout",
       "text": [
        "         0.00403 "
       ]
      },
      {
       "output_type": "stream",
       "stream": "stdout",
       "text": [
        "   0.00283 "
       ]
      },
      {
       "output_type": "stream",
       "stream": "stdout",
       "text": [
        "   0.00287 "
       ]
      },
      {
       "output_type": "stream",
       "stream": "stdout",
       "text": [
        "      0.0484 "
       ]
      },
      {
       "output_type": "stream",
       "stream": "stdout",
       "text": [
        "         0.0264 \n",
        "bicgstab       | "
       ]
      },
      {
       "output_type": "stream",
       "stream": "stdout",
       "text": [
        "   0.00251 "
       ]
      },
      {
       "output_type": "stream",
       "stream": "stdout",
       "text": [
        "  0.000567 "
       ]
      },
      {
       "output_type": "stream",
       "stream": "stdout",
       "text": [
        "   0.00251 "
       ]
      },
      {
       "output_type": "stream",
       "stream": "stdout",
       "text": [
        "   0.00286 "
       ]
      },
      {
       "output_type": "stream",
       "stream": "stdout",
       "text": [
        "   0.00148 "
       ]
      },
      {
       "output_type": "stream",
       "stream": "stdout",
       "text": [
        "  0.000814 "
       ]
      },
      {
       "output_type": "stream",
       "stream": "stdout",
       "text": [
        "   0.00371 "
       ]
      },
      {
       "output_type": "stream",
       "stream": "stdout",
       "text": [
        "         0.00491 "
       ]
      },
      {
       "output_type": "stream",
       "stream": "stdout",
       "text": [
        "    0.0049 "
       ]
      },
      {
       "output_type": "stream",
       "stream": "stdout",
       "text": [
        "   0.00485 "
       ]
      },
      {
       "output_type": "stream",
       "stream": "stdout",
       "text": [
        "      0.0488 "
       ]
      },
      {
       "output_type": "stream",
       "stream": "stdout",
       "text": [
        "         0.0267 \n",
        "\n",
        "Default combination ran in 0.00216 s.\n",
        "Fastest combination richardson/none ran in 0.00032 s.\n",
        "That is an 85.2% improvement.\n"
       ]
      }
     ],
     "prompt_number": 26
    },
    {
     "cell_type": "code",
     "collapsed": false,
     "input": [
      "fig = column_chart(results_4, solvers, offset=0.02)\n",
      "fig.set_size_inches((20, 5))\n",
      "ax = fig.axes[0]\n",
      "ax.set_ylim([0, 0.06])\n",
      "ax.set_title(\"Time Spent Solving the First Linear System by Solver and Preconditioner\")"
     ],
     "language": "python",
     "metadata": {},
     "outputs": [
      {
       "output_type": "pyout",
       "prompt_number": 29,
       "text": [
        "<matplotlib.text.Text at 0x8e990d0>"
       ]
      },
      {
       "output_type": "display_data",
       "png": "[encoded data removed]"
      }
     ],
     "prompt_number": 29
    },
    {
     "cell_type": "code",
     "collapsed": false,
     "input": [
      "del(bem_film)\n",
      "del(boundary_to_global_film)"
     ],
     "language": "python",
     "metadata": {},
     "outputs": [],
     "prompt_number": 21
    },
    {
     "cell_type": "heading",
     "level": 2,
     "metadata": {},
     "source": [
      "Simulating a Dynamical System"
     ]
    },
    {
     "cell_type": "markdown",
     "metadata": {},
     "source": [
      "Let's see if the time savings in the first and second linear solves translate into a runtime improvement in a full-blown simulation."
     ]
    },
    {
     "cell_type": "code",
     "collapsed": false,
     "input": [
      "mesh = box(0, 0, 0, 500, 25, 1, maxh=2.0)\n",
      "print \"The mesh has {} vertices.\".format(mesh.num_vertices())\n",
      "Ms = 8.6e5\n",
      "unit_length = 1e-9\n",
      "A = 1.3e-11"
     ],
     "language": "python",
     "metadata": {},
     "outputs": [
      {
       "output_type": "stream",
       "stream": "stderr",
       "text": [
        "[2013-04-12 23:53:23] DEBUG: The mesh '/home/mb8g11/Workspace/finmag/sandbox/demag/box-0_0-0_0-0_0-500_0-25_0-1_0-2_0.xml.gz' already exists and is automatically returned.\n"
       ]
      },
      {
       "output_type": "stream",
       "stream": "stdout",
       "text": [
        "The mesh has 7291 vertices.\n"
       ]
      }
     ],
     "prompt_number": 99
    },
    {
     "cell_type": "markdown",
     "metadata": {},
     "source": [
      "Each *experiment* has a set of parameters as input and conducts a measurement using the **timed** context."
     ]
    },
    {
     "cell_type": "code",
     "collapsed": false,
     "input": [
      "def experiment(params):\n",
      "    sim = Simulation(mesh, Ms, unit_length)\n",
      "    sim.set_m((1, 0, 0))\n",
      "    sim.add(Exchange(A))\n",
      "    sim.add(Zeeman((Ms, 0, 0)))\n",
      "    demag = fk.FKDemag()\n",
      "    demag.parameters[\"phi_1_solver\"] = params[0]\n",
      "    demag.parameters[\"phi_1_preconditioner\"] = params[1]\n",
      "    demag.parameters[\"phi_2_solver\"] = params[2]\n",
      "    demag.parameters[\"phi_2_preconditioner\"] = params[3]\n",
      "    sim.add(demag)\n",
      "    with timed(\"measurement\"):\n",
      "        sim.run_until(5e-11)"
     ],
     "language": "python",
     "metadata": {},
     "outputs": [],
     "prompt_number": 111
    },
    {
     "cell_type": "markdown",
     "metadata": {},
     "source": [
      "The experiment-*runner* has many sets of parameters as input, and for each of them, records the result of the measurement."
     ]
    },
    {
     "cell_type": "code",
     "collapsed": false,
     "input": [
      "def runner(sets_of_params):\n",
      "    runtimes = []\n",
      "    for params in sets_of_params:\n",
      "        default_timer.reset()\n",
      "        fk.fk_timer.reset()\n",
      "        print \"Conducting the experiment with parameters '{}'.\".format(params)\n",
      "        experiment(params)\n",
      "        runtime = default_timer.time(\"measurement\")\n",
      "        runtimes.append(runtime)\n",
      "    return runtimes"
     ],
     "language": "python",
     "metadata": {},
     "outputs": [],
     "prompt_number": 117
    },
    {
     "cell_type": "markdown",
     "metadata": {},
     "source": [
      "The sets of parameters are defined:"
     ]
    },
    {
     "cell_type": "code",
     "collapsed": false,
     "input": [
      "sets = [\n",
      "    (\"default\", \"default\", \"default\", \"default\"),\n",
      "    (\"cg\", \"ilu\", \"cg\", \"ilu\"),\n",
      "    (\"cg\", \"ilu\", \"cg\", \"none\")]"
     ],
     "language": "python",
     "metadata": {},
     "outputs": [],
     "prompt_number": 118
    },
    {
     "cell_type": "markdown",
     "metadata": {},
     "source": [
      "And the experiments conducted."
     ]
    },
    {
     "cell_type": "code",
     "collapsed": false,
     "input": [
      "runtimes = runner(sets)"
     ],
     "language": "python",
     "metadata": {},
     "outputs": [
      {
       "output_type": "stream",
       "stream": "stderr",
       "text": [
        "[2013-04-13 00:03:04] INFO: Finmag logging output will be written to file: '/home/mb8g11/Workspace/finmag/sandbox/demag/unnamed.log' (any old content will be overwritten).\n"
       ]
      },
      {
       "output_type": "stream",
       "stream": "stderr",
       "text": [
        "[2013-04-13 00:03:04] DEBUG: Creating DataWriter for file 'unnamed.ndt'\n"
       ]
      },
      {
       "output_type": "stream",
       "stream": "stderr",
       "text": [
        "[2013-04-13 00:03:04] INFO: Creating Sim object 'unnamed' (rank=0/1).\n"
       ]
      },
      {
       "output_type": "stream",
       "stream": "stderr",
       "text": [
        "[2013-04-13 00:03:04] INFO: <Mesh of topological dimension 3 (tetrahedra) with 7291 vertices and 20286 cells, ordered>\n"
       ]
      },
      {
       "output_type": "stream",
       "stream": "stderr",
       "text": [
        "[2013-04-13 00:03:04] DEBUG: Creating LLG object.\n"
       ]
      },
      {
       "output_type": "stream",
       "stream": "stderr",
       "text": [
        "[2013-04-13 00:03:04] DEBUG: Creating Exchange object with method box-matrix-petsc, in Jacobian.\n"
       ]
      },
      {
       "output_type": "stream",
       "stream": "stderr",
       "text": [
        "[2013-04-13 00:03:04] DEBUG: Adding interaction <finmag.energies.exchange.Exchange object at 0x1c884710> to simulation 'unnamed'\n"
       ]
      },
      {
       "output_type": "stream",
       "stream": "stderr",
       "text": [
        "[2013-04-13 00:03:04] DEBUG: Adding interaction <finmag.energies.zeeman.Zeeman object at 0x1c884790> to simulation 'unnamed'\n"
       ]
      },
      {
       "output_type": "stream",
       "stream": "stderr",
       "text": [
        "[2013-04-13 00:03:04] DEBUG: Adding interaction <finmag.energies.demag.fk_demag.FKDemag object at 0x1c884890> to simulation 'unnamed'\n"
       ]
      },
      {
       "output_type": "stream",
       "stream": "stderr",
       "text": [
        "[2013-04-13 00:03:11] INFO: Create integrator sundials with kwargs={}\n"
       ]
      },
      {
       "output_type": "stream",
       "stream": "stderr",
       "text": [
        "[2013-04-13 00:03:11] DEBUG: Creating integrator with backend sundials.\n"
       ]
      },
      {
       "output_type": "stream",
       "stream": "stderr",
       "text": [
        "[2013-04-13 00:03:11] INFO: Simulation will run until t = 5e-11 s.\n"
       ]
      },
      {
       "output_type": "stream",
       "stream": "stderr",
       "text": [
        "[2013-04-13 00:05:07] INFO: Simulation has reached time t = 5e-11 s.\n"
       ]
      },
      {
       "output_type": "stream",
       "stream": "stdout",
       "text": [
        "Conducting the experiment with parameters '('default', 'default', 'default', 'default')'.\n",
        "Conducting the experiment with parameters '('cg', 'ilu', 'cg', 'ilu')'."
       ]
      },
      {
       "output_type": "stream",
       "stream": "stderr",
       "text": [
        "[2013-04-13 00:05:07] INFO: Finmag logging output will be written to file: '/home/mb8g11/Workspace/finmag/sandbox/demag/unnamed.log' (any old content will be overwritten).\n"
       ]
      },
      {
       "output_type": "stream",
       "stream": "stderr",
       "text": [
        "[2013-04-13 00:05:07] DEBUG: Creating DataWriter for file 'unnamed.ndt'\n"
       ]
      },
      {
       "output_type": "stream",
       "stream": "stderr",
       "text": [
        "[2013-04-13 00:05:07] INFO: Creating Sim object 'unnamed' (rank=0/1).\n"
       ]
      },
      {
       "output_type": "stream",
       "stream": "stderr",
       "text": [
        "[2013-04-13 00:05:07] INFO: <Mesh of topological dimension 3 (tetrahedra) with 7291 vertices and 20286 cells, ordered>\n"
       ]
      },
      {
       "output_type": "stream",
       "stream": "stderr",
       "text": [
        "[2013-04-13 00:05:07] DEBUG: Creating LLG object.\n"
       ]
      },
      {
       "output_type": "stream",
       "stream": "stderr",
       "text": [
        "[2013-04-13 00:05:07] DEBUG: Creating Exchange object with method box-matrix-petsc, in Jacobian.\n"
       ]
      },
      {
       "output_type": "stream",
       "stream": "stderr",
       "text": [
        "[2013-04-13 00:05:07] DEBUG: Adding interaction <finmag.energies.exchange.Exchange object at 0x2281fe50> to simulation 'unnamed'\n"
       ]
      },
      {
       "output_type": "stream",
       "stream": "stderr",
       "text": [
        "[2013-04-13 00:05:07] DEBUG: Adding interaction <finmag.energies.zeeman.Zeeman object at 0x5073f10> to simulation 'unnamed'\n"
       ]
      },
      {
       "output_type": "stream",
       "stream": "stderr",
       "text": [
        "[2013-04-13 00:05:07] DEBUG: Adding interaction <finmag.energies.demag.fk_demag.FKDemag object at 0x1c857910> to simulation 'unnamed'\n"
       ]
      },
      {
       "output_type": "stream",
       "stream": "stderr",
       "text": [
        "[2013-04-13 00:05:14] INFO: Create integrator sundials with kwargs={}\n"
       ]
      },
      {
       "output_type": "stream",
       "stream": "stderr",
       "text": [
        "[2013-04-13 00:05:14] DEBUG: Creating integrator with backend sundials.\n"
       ]
      },
      {
       "output_type": "stream",
       "stream": "stderr",
       "text": [
        "[2013-04-13 00:05:14] INFO: Simulation will run until t = 5e-11 s.\n"
       ]
      },
      {
       "output_type": "stream",
       "stream": "stderr",
       "text": [
        "[2013-04-13 00:05:53] INFO: Simulation has reached time t = 5e-11 s.\n"
       ]
      },
      {
       "output_type": "stream",
       "stream": "stdout",
       "text": [
        "\n",
        "Conducting the experiment with parameters '('cg', 'ilu', 'cg', 'none')'."
       ]
      },
      {
       "output_type": "stream",
       "stream": "stderr",
       "text": [
        "[2013-04-13 00:05:53] INFO: Finmag logging output will be written to file: '/home/mb8g11/Workspace/finmag/sandbox/demag/unnamed.log' (any old content will be overwritten).\n"
       ]
      },
      {
       "output_type": "stream",
       "stream": "stderr",
       "text": [
        "[2013-04-13 00:05:53] DEBUG: Creating DataWriter for file 'unnamed.ndt'\n"
       ]
      },
      {
       "output_type": "stream",
       "stream": "stderr",
       "text": [
        "[2013-04-13 00:05:53] INFO: Creating Sim object 'unnamed' (rank=0/1).\n"
       ]
      },
      {
       "output_type": "stream",
       "stream": "stderr",
       "text": [
        "[2013-04-13 00:05:53] INFO: <Mesh of topological dimension 3 (tetrahedra) with 7291 vertices and 20286 cells, ordered>\n"
       ]
      },
      {
       "output_type": "stream",
       "stream": "stderr",
       "text": [
        "[2013-04-13 00:05:53] DEBUG: Creating LLG object.\n"
       ]
      },
      {
       "output_type": "stream",
       "stream": "stderr",
       "text": [
        "[2013-04-13 00:05:53] DEBUG: Creating Exchange object with method box-matrix-petsc, in Jacobian.\n"
       ]
      },
      {
       "output_type": "stream",
       "stream": "stderr",
       "text": [
        "[2013-04-13 00:05:53] DEBUG: Adding interaction <finmag.energies.exchange.Exchange object at 0x22820410> to simulation 'unnamed'\n"
       ]
      },
      {
       "output_type": "stream",
       "stream": "stderr",
       "text": [
        "[2013-04-13 00:05:53] DEBUG: Adding interaction <finmag.energies.zeeman.Zeeman object at 0x1c884d90> to simulation 'unnamed'\n"
       ]
      },
      {
       "output_type": "stream",
       "stream": "stderr",
       "text": [
        "[2013-04-13 00:05:53] DEBUG: Adding interaction <finmag.energies.demag.fk_demag.FKDemag object at 0x22820c90> to simulation 'unnamed'\n"
       ]
      },
      {
       "output_type": "stream",
       "stream": "stderr",
       "text": [
        "[2013-04-13 00:06:00] INFO: Create integrator sundials with kwargs={}\n"
       ]
      },
      {
       "output_type": "stream",
       "stream": "stderr",
       "text": [
        "[2013-04-13 00:06:00] DEBUG: Creating integrator with backend sundials.\n"
       ]
      },
      {
       "output_type": "stream",
       "stream": "stderr",
       "text": [
        "[2013-04-13 00:06:00] INFO: Simulation will run until t = 5e-11 s.\n"
       ]
      },
      {
       "output_type": "stream",
       "stream": "stderr",
       "text": [
        "[2013-04-13 00:06:37] INFO: Simulation has reached time t = 5e-11 s.\n"
       ]
      },
      {
       "output_type": "stream",
       "stream": "stdout",
       "text": [
        "\n"
       ]
      }
     ],
     "prompt_number": 119
    },
    {
     "cell_type": "code",
     "collapsed": false,
     "input": [
      "for params, runtime in zip(sets, runtimes):\n",
      "    print \"With parameters '{}' runtime of {} s.\".format(params, runtime)"
     ],
     "language": "python",
     "metadata": {},
     "outputs": [
      {
       "output_type": "stream",
       "stream": "stdout",
       "text": [
        "With parameters '('default', 'default', 'default', 'default')' runtime of 115.922224998 s.\n",
        "With parameters '('cg', 'ilu', 'cg', 'ilu')' runtime of 38.9484469891 s.\n",
        "With parameters '('cg', 'ilu', 'cg', 'none')' runtime of 36.9560339451 s.\n"
       ]
      }
     ],
     "prompt_number": 120
    },
    {
     "cell_type": "code",
     "collapsed": false,
     "input": [
      "100 * (1 - runtimes[2] / runtimes[0])"
     ],
     "language": "python",
     "metadata": {},
     "outputs": [
      {
       "output_type": "pyout",
       "prompt_number": 126,
       "text": [
        "68.11997531485436"
       ]
      }
     ],
     "prompt_number": 126
    },
    {
     "cell_type": "code",
     "collapsed": false,
     "input": [],
     "language": "python",
     "metadata": {},
     "outputs": []
    }
   ],
   "metadata": {}
  }
 ]
}