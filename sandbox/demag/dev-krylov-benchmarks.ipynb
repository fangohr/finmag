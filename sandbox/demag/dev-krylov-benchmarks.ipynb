{
 "metadata": {
  "name": "dev-krylov-benchmarks"
 },
 "nbformat": 3,
 "nbformat_minor": 0,
 "worksheets": [
  {
   "cells": [
    {
     "cell_type": "code",
     "collapsed": false,
     "input": [
      "import dolfin as df\n",
      "import finmag.energies.demag.fk_demag as fk\n",
      "from finmag.util.meshes import sphere, box, plot_mesh_with_paraview\n",
      "from finmag.native.llg import compute_bem_fk\n",
      "from run_measurements import *"
     ],
     "language": "python",
     "metadata": {},
     "outputs": [
      {
       "output_type": "stream",
       "stream": "stderr",
       "text": [
        "[2013-04-11 20:33:21] DEBUG: Building modules in 'native'...\n"
       ]
      },
      {
       "output_type": "stream",
       "stream": "stderr",
       "text": [
        "[2013-04-11 20:33:21] DEBUG:               Finmag: 3428:730c692a10ec28bb038139c302ef6bc893e9d16c\n"
       ]
      },
      {
       "output_type": "stream",
       "stream": "stderr",
       "text": [
        "[2013-04-11 20:33:21] DEBUG:               Dolfin: 1.2.0\n"
       ]
      },
      {
       "output_type": "stream",
       "stream": "stderr",
       "text": [
        "[2013-04-11 20:33:21] DEBUG:           Matplotlib: 1.2.1\n"
       ]
      },
      {
       "output_type": "stream",
       "stream": "stderr",
       "text": [
        "[2013-04-11 20:33:21] DEBUG:                Numpy: 1.7.1\n"
       ]
      },
      {
       "output_type": "stream",
       "stream": "stderr",
       "text": [
        "[2013-04-11 20:33:21] DEBUG:                Scipy: 0.11.0\n"
       ]
      },
      {
       "output_type": "stream",
       "stream": "stderr",
       "text": [
        "[2013-04-11 20:33:21] DEBUG:              IPython: 0.13.2\n"
       ]
      },
      {
       "output_type": "stream",
       "stream": "stderr",
       "text": [
        "[2013-04-11 20:33:21] DEBUG:               Python: 2.7.3\n"
       ]
      },
      {
       "output_type": "stream",
       "stream": "stderr",
       "text": [
        "[2013-04-11 20:33:22] DEBUG:             Paraview: 3.14.1-6build1\n"
       ]
      },
      {
       "output_type": "stream",
       "stream": "stderr",
       "text": [
        "[2013-04-11 20:33:22] DEBUG:             Sundials: 2.5.0-1\n"
       ]
      },
      {
       "output_type": "stream",
       "stream": "stderr",
       "text": [
        "[2013-04-11 20:33:22] DEBUG:         Boost-Python: 1.49.0\n"
       ]
      },
      {
       "output_type": "stream",
       "stream": "stderr",
       "text": [
        "[2013-04-11 20:33:22] DEBUG:                Linux: Ubuntu 12.10\n"
       ]
      }
     ],
     "prompt_number": 1
    },
    {
     "cell_type": "heading",
     "level": 1,
     "metadata": {},
     "source": [
      "Krylov-Solvers used in Demagnetising Field Computation"
     ]
    },
    {
     "cell_type": "markdown",
     "metadata": {},
     "source": [
      "To see which Krylov subspace methods are available in dolfin, use *krylov\\_solver\\_methods*."
     ]
    },
    {
     "cell_type": "code",
     "collapsed": false,
     "input": [
      "for name, description in df.krylov_solver_methods():\n",
      "    print \"{:<20} {}\".format(name, description)"
     ],
     "language": "python",
     "metadata": {},
     "outputs": [
      {
       "output_type": "stream",
       "stream": "stdout",
       "text": [
        "default              default Krylov method\n",
        "cg                   Conjugate gradient method\n",
        "gmres                Generalized minimal residual method\n",
        "minres               Minimal residual method\n",
        "tfqmr                Transpose-free quasi-minimal residual method\n",
        "richardson           Richardson method\n",
        "bicgstab             Biconjugate gradient stabilized method\n"
       ]
      }
     ],
     "prompt_number": 2
    },
    {
     "cell_type": "markdown",
     "metadata": {},
     "source": [
      "The problems may be preconditioned using one of the methods in *krylov\\_solver\\_preconditioners*."
     ]
    },
    {
     "cell_type": "code",
     "collapsed": false,
     "input": [
      "for name, description in df.krylov_solver_preconditioners():\n",
      "    print \"{:<20} {}\".format(name, description)"
     ],
     "language": "python",
     "metadata": {},
     "outputs": [
      {
       "output_type": "stream",
       "stream": "stdout",
       "text": [
        "default              default preconditioner\n",
        "none                 No preconditioner\n",
        "ilu                  Incomplete LU factorization\n",
        "icc                  Incomplete Cholesky factorization\n",
        "sor                  Successive over-relaxation\n",
        "jacobi               Jacobi iteration\n",
        "bjacobi              Block Jacobi iteration\n",
        "additive_schwarz     Additive Schwarz\n",
        "amg                  Algebraic multigrid\n",
        "hypre_amg            Hypre algebraic multigrid (BoomerAMG)\n",
        "hypre_euclid         Hypre parallel incomplete LU factorization\n",
        "hypre_parasails      Hypre parallel sparse approximate inverse\n"
       ]
      }
     ],
     "prompt_number": 3
    },
    {
     "cell_type": "markdown",
     "metadata": {},
     "source": [
      "We'll extract the solver and preconditioners names for later usage."
     ]
    },
    {
     "cell_type": "code",
     "collapsed": false,
     "input": [
      "solvers = [s[0] for s in df.krylov_solver_methods()]\n",
      "preconditioners = [p[0] for p in df.krylov_solver_preconditioners()]"
     ],
     "language": "python",
     "metadata": {},
     "outputs": [],
     "prompt_number": 4
    },
    {
     "cell_type": "markdown",
     "metadata": {},
     "source": [
      "Since, in principle, every solver can be used with any preconditioner, there are several combinations to check."
     ]
    },
    {
     "cell_type": "code",
     "collapsed": false,
     "input": [
      "m = len(df.krylov_solver_methods())\n",
      "n = len(df.krylov_solver_preconditioners())\n",
      "print \"There are {} solvers, {} preconditioners and thus {} diferent combinations of solver and preconditioner.\".format(m, n, m * n)"
     ],
     "language": "python",
     "metadata": {},
     "outputs": [
      {
       "output_type": "stream",
       "stream": "stdout",
       "text": [
        "There are 7 solvers, 12 preconditioners and thus 84 diferent combinations of solver and preconditioner.\n"
       ]
      }
     ],
     "prompt_number": 5
    },
    {
     "cell_type": "heading",
     "level": 2,
     "metadata": {},
     "source": [
      "A Sample Problem with Analytical Solution"
     ]
    },
    {
     "cell_type": "markdown",
     "metadata": {},
     "source": [
      "We are studying an homogeneously magnetised sphere."
     ]
    },
    {
     "cell_type": "code",
     "collapsed": false,
     "input": [
      "ball = sphere(20.0, 1.2, directory=\"meshes\")\n",
      "BallSpace = df.VectorFunctionSpace(ball, \"CG\", 1)\n",
      "m_ball = df.Function(BallSpace)\n",
      "m_ball.assign(df.Constant((1, 0, 0)))\n",
      "Ms = 1\n",
      "unit_length = 1e-9\n",
      "\n",
      "print \"The used mesh has {} vertices.\".format(ball.num_vertices())\n",
      "plot_mesh_with_paraview(ball)"
     ],
     "language": "python",
     "metadata": {},
     "outputs": [
      {
       "output_type": "stream",
       "stream": "stderr",
       "text": [
        "[2013-04-11 20:33:22] DEBUG: The mesh 'meshes/sphere-20-1_2.xml.gz' already exists and is automatically returned.\n"
       ]
      },
      {
       "output_type": "stream",
       "stream": "stdout",
       "text": [
        "The used mesh has 13431 vertices.\n",
        "tmpdir: /tmp/tmpm0NWG7\n"
       ]
      },
      {
       "output_type": "pyout",
       "png": "[encoded data removed]",
       "prompt_number": 6,
       "text": [
        "<IPython.core.display.Image at 0x435e3d0>"
       ]
      }
     ],
     "prompt_number": 6
    },
    {
     "cell_type": "markdown",
     "metadata": {},
     "source": [
      "The demagnetising field for this problem is known."
     ]
    },
    {
     "cell_type": "code",
     "collapsed": false,
     "input": [
      "H = df.Function(BallSpace)\n",
      "H.assign(df.Constant((-1.0/3.0, 0.0, 0.0)))\n",
      "H_expected = H.vector().array()\n",
      "del(H)\n",
      "tol = 0.002"
     ],
     "language": "python",
     "metadata": {},
     "outputs": [],
     "prompt_number": 7
    },
    {
     "cell_type": "markdown",
     "metadata": {},
     "source": [
      "We will compute the BEM once in advance to save a lot of time."
     ]
    },
    {
     "cell_type": "code",
     "collapsed": false,
     "input": [
      "bem_ball, boundary_to_global_ball = compute_bem_fk(df.BoundaryMesh(ball, 'exterior', False))"
     ],
     "language": "python",
     "metadata": {},
     "outputs": [],
     "prompt_number": 8
    },
    {
     "cell_type": "heading",
     "level": 3,
     "metadata": {},
     "source": [
      "First Linear Solve"
     ]
    },
    {
     "cell_type": "markdown",
     "metadata": {},
     "source": [
      "There are two linear systems involved in the computation of the magnetic potential. We will record the time needed to solve the first one for possible combinations of solver/preconditioner. The experiment will be repeated ten times and the time averaged.\n",
      "\n",
      "All runs that don't meet the tolerance requirements or fail for other reasons will be discarded."
     ]
    },
    {
     "cell_type": "code",
     "collapsed": false,
     "input": [
      "repetitions = 10\n",
      "runner = create_measurement_runner(BallSpace, m_ball, Ms, unit_length, H_expected, tol, repetitions, bem_ball, boundary_to_global_ball)\n",
      "results_1, failed_1 = runner(\"first linear solve\", \"phi_1_solver\", solvers, \"phi_1_preconditioner\", preconditioners, [], \"timings_log_1.txt\", \"results_1.pickled\")"
     ],
     "language": "python",
     "metadata": {},
     "outputs": [
      {
       "output_type": "stream",
       "stream": "stdout",
       "text": [
        "No recorded results found. Will run benchmarks.\n",
        "Time shown for first linear solve in s.\n",
        "\n",
        "               |    default       none        ilu        icc        sor     jacobi    bjacobi additive_schwarz        amg  hypre_amg hypre_euclid hypre_parasails \n",
        "---------------|--------------------------------------------------------------------------------------------------------------------------------------------------\n",
        "        default| "
       ]
      },
      {
       "output_type": "stream",
       "stream": "stdout",
       "text": [
        "    0.0319 "
       ]
      },
      {
       "output_type": "stream",
       "stream": "stdout",
       "text": [
        "    0.0698 "
       ]
      },
      {
       "output_type": "stream",
       "stream": "stdout",
       "text": [
        "    0.0327 "
       ]
      },
      {
       "output_type": "stream",
       "stream": "stdout",
       "text": [
        "    0.0332 "
       ]
      },
      {
       "output_type": "stream",
       "stream": "stdout",
       "text": [
        "    0.0377 "
       ]
      },
      {
       "output_type": "stream",
       "stream": "stdout",
       "text": [
        "     0.058 "
       ]
      },
      {
       "output_type": "stream",
       "stream": "stdout",
       "text": [
        "    0.0342 "
       ]
      },
      {
       "output_type": "stream",
       "stream": "stdout",
       "text": [
        "          0.0364 "
       ]
      },
      {
       "output_type": "stream",
       "stream": "stdout",
       "text": [
        "     0.213 "
       ]
      },
      {
       "output_type": "stream",
       "stream": "stdout",
       "text": [
        "     0.216 "
       ]
      }
     ],
     "prompt_number": "*"
    },
    {
     "cell_type": "markdown",
     "metadata": {},
     "source": [
      "Visualise the data to highlight the differences in runtime between the solvers and to see how much the preconditioners help."
     ]
    },
    {
     "cell_type": "code",
     "collapsed": false,
     "input": [
      "fig = column_chart(results_1)\n",
      "fig.set_size_inches((20, 5))\n",
      "ax = fig.axes[0]\n",
      "ax.set_ylim([0, 0.3])\n",
      "ax.set_title(\"Time Spent Solving the First Linear System by Solver and Preconditioner (Bottom Part)\")"
     ],
     "language": "python",
     "metadata": {},
     "outputs": []
    },
    {
     "cell_type": "code",
     "collapsed": false,
     "input": [
      "print results_1"
     ],
     "language": "python",
     "metadata": {},
     "outputs": []
    },
    {
     "cell_type": "markdown",
     "metadata": {},
     "source": [
      "The default settings are a decent choice, while using a badly chosen preconditioner is worse than using none at all."
     ]
    },
    {
     "cell_type": "heading",
     "level": 3,
     "metadata": {},
     "source": [
      "Second Linear Solve"
     ]
    },
    {
     "cell_type": "markdown",
     "metadata": {},
     "source": [
      "This time, we will record the time needed to solve the second linear system."
     ]
    },
    {
     "cell_type": "code",
     "collapsed": false,
     "input": [
      "results_2, failed_2 = runner(\"second linear solve\", \"phi_2_solver\", solvers, \"phi_2_preconditioner\", preconditioners, [], \"timings_log_2.txt\", \"results_2.pickled\")"
     ],
     "language": "python",
     "metadata": {},
     "outputs": []
    },
    {
     "cell_type": "code",
     "collapsed": false,
     "input": [
      "fig = column_chart(results_2)\n",
      "fig.set_size_inches((20, 5))\n",
      "ax = fig.axes[0]\n",
      "ax.set_ylim([0, 0.3])\n",
      "ax.set_title(\"Time Spent Solving the Second Linear System by Solver and Preconditioner (Bottom Part)\")"
     ],
     "language": "python",
     "metadata": {},
     "outputs": []
    },
    {
     "cell_type": "markdown",
     "metadata": {},
     "source": [
      "We'll delete the BEM before moving on to the next problem."
     ]
    },
    {
     "cell_type": "code",
     "collapsed": false,
     "input": [
      "del(bem_ball)\n",
      "del(boundary_to_global_ball)"
     ],
     "language": "python",
     "metadata": {},
     "outputs": []
    },
    {
     "cell_type": "heading",
     "level": 2,
     "metadata": {},
     "source": [
      "A Worst-Case Scenario"
     ]
    },
    {
     "cell_type": "markdown",
     "metadata": {},
     "source": [
      "A thin magnetic film."
     ]
    },
    {
     "cell_type": "code",
     "collapsed": false,
     "input": [
      "film = box(0, 0, 0, 500, 50, 1, maxh=2.0, directory=\"meshes\")\n",
      "FilmSpace = df.VectorFunctionSpace(film, \"CG\", 1)\n",
      "m_film = df.Function(FilmSpace)\n",
      "m_film.assign(df.Constant((1, 0, 0)))\n",
      "Ms = 1\n",
      "unit_length = 1e-9\n",
      "\n",
      "print \"The used mesh has {} vertices.\".format(film.num_vertices())\n",
      "plot_mesh_with_paraview(film)"
     ],
     "language": "python",
     "metadata": {},
     "outputs": []
    },
    {
     "cell_type": "markdown",
     "metadata": {},
     "source": [
      "Because we don't have an analytic solution to compare to, we will use the default solver/preconditioner as a reference."
     ]
    },
    {
     "cell_type": "code",
     "collapsed": false,
     "input": [
      "demag = fk.FKDemag()\n",
      "demag.setup(FilmSpace, m_film, Ms, unit_length)\n",
      "H_expected = demag.compute_field()\n",
      "del(demag)\n",
      "tol = 1e-6"
     ],
     "language": "python",
     "metadata": {},
     "outputs": []
    },
    {
     "cell_type": "markdown",
     "metadata": {},
     "source": [
      "Again, we will pre-compute the boundary element matrix."
     ]
    },
    {
     "cell_type": "code",
     "collapsed": false,
     "input": [
      "bem_film, boundary_to_global_film = compute_bem_fk(df.BoundaryMesh(film, 'exterior', False))"
     ],
     "language": "python",
     "metadata": {},
     "outputs": []
    },
    {
     "cell_type": "heading",
     "level": 3,
     "metadata": {},
     "source": [
      "First Linear Solve"
     ]
    },
    {
     "cell_type": "code",
     "collapsed": false,
     "input": [
      "alt_runner = create_measurement_runner(FilmSpace, m_film, Ms, unit_length, H_expected, tol, repetitions, bem_film, boundary_to_global_film)\n",
      "results_3, failed_3 = alt_runner(\"first linear solve\", \"phi_1_solver\", solvers, \"phi_1_preconditioner\", preconditioners, [], \"timings_log_3.txt\", \"results_3.pickled\")"
     ],
     "language": "python",
     "metadata": {},
     "outputs": []
    },
    {
     "cell_type": "code",
     "collapsed": false,
     "input": [
      "fig = column_chart(results_3)\n",
      "fig.set_size_inches((20, 5))\n",
      "ax = fig.axes[0]\n",
      "ax.set_ylim([0, 0.02])\n",
      "ax.set_title(\"Time Spent Solving the First Linear System by Solver and Preconditioner (Bottom Part)\")"
     ],
     "language": "python",
     "metadata": {},
     "outputs": []
    },
    {
     "cell_type": "heading",
     "level": 3,
     "metadata": {},
     "source": [
      "Second Linear Solve"
     ]
    },
    {
     "cell_type": "code",
     "collapsed": false,
     "input": [
      "results_4, failed_4 = alt_runner(\"first linear solve\", \"phi_2_solver\", solvers, \"phi_2_preconditioner\", preconditioners, [], \"timings_log_4.txt\", \"results_4.pickled\")"
     ],
     "language": "python",
     "metadata": {},
     "outputs": []
    },
    {
     "cell_type": "code",
     "collapsed": false,
     "input": [
      "fig = column_chart(results_4)\n",
      "fig.set_size_inches((20, 5))\n",
      "ax = fig.axes[0]\n",
      "ax.set_ylim([0, 0.005])\n",
      "ax.set_title(\"Time Spent Solving the First Linear System by Solver and Preconditioner\")"
     ],
     "language": "python",
     "metadata": {},
     "outputs": []
    },
    {
     "cell_type": "code",
     "collapsed": false,
     "input": [
      "del(bem_film)\n",
      "del(boundary_to_global_film)"
     ],
     "language": "python",
     "metadata": {},
     "outputs": []
    },
    {
     "cell_type": "code",
     "collapsed": false,
     "input": [],
     "language": "python",
     "metadata": {},
     "outputs": []
    }
   ],
   "metadata": {}
  }
 ]
}