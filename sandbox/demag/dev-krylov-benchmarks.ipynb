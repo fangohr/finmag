{
 "metadata": {
  "name": "dev-krylov-benchmarks"
 },
 "nbformat": 3,
 "nbformat_minor": 0,
 "worksheets": [
  {
   "cells": [
    {
     "cell_type": "code",
     "collapsed": false,
     "input": [
      "import sys\n",
      "import pickle\n",
      "import dolfin as df\n",
      "import matplotlib.pyplot as plt\n",
      "import finmag.energies.demag.fk_demag as fk\n",
      "from finmag.util.meshes import sphere, box, plot_mesh_with_paraview\n",
      "from finmag.util.helpers import vectors\n",
      "from finmag.native.llg import compute_bem_fk\n",
      "from finmag.util.timings import default_timer\n",
      "\n",
      "out = sys.stdout.write\n",
      "flush = sys.stdout.flush"
     ],
     "language": "python",
     "metadata": {},
     "outputs": [
      {
       "output_type": "stream",
       "stream": "stderr",
       "text": [
        "[2013-04-11 15:59:20] DEBUG: Building modules in 'native'...\n"
       ]
      },
      {
       "output_type": "stream",
       "stream": "stderr",
       "text": [
        "[2013-04-11 15:59:20] DEBUG:               Finmag: 3422:832f62fe04306ee58cf5c7849b4f8abfdc551fd5\n"
       ]
      },
      {
       "output_type": "stream",
       "stream": "stderr",
       "text": [
        "[2013-04-11 15:59:20] DEBUG:               Dolfin: 1.2.0\n"
       ]
      },
      {
       "output_type": "stream",
       "stream": "stderr",
       "text": [
        "[2013-04-11 15:59:20] DEBUG:           Matplotlib: 1.2.1\n"
       ]
      },
      {
       "output_type": "stream",
       "stream": "stderr",
       "text": [
        "[2013-04-11 15:59:20] DEBUG:                Numpy: 1.7.1\n"
       ]
      },
      {
       "output_type": "stream",
       "stream": "stderr",
       "text": [
        "[2013-04-11 15:59:20] DEBUG:                Scipy: 0.11.0\n"
       ]
      },
      {
       "output_type": "stream",
       "stream": "stderr",
       "text": [
        "[2013-04-11 15:59:20] DEBUG:              IPython: 0.13.2\n"
       ]
      },
      {
       "output_type": "stream",
       "stream": "stderr",
       "text": [
        "[2013-04-11 15:59:20] DEBUG:               Python: 2.7.3\n"
       ]
      },
      {
       "output_type": "stream",
       "stream": "stderr",
       "text": [
        "[2013-04-11 15:59:20] DEBUG:             Paraview: 3.14.1-6build1\n"
       ]
      },
      {
       "output_type": "stream",
       "stream": "stderr",
       "text": [
        "[2013-04-11 15:59:20] DEBUG:             Sundials: 2.5.0-1\n"
       ]
      },
      {
       "output_type": "stream",
       "stream": "stderr",
       "text": [
        "[2013-04-11 15:59:20] DEBUG:         Boost-Python: 1.49.0\n"
       ]
      },
      {
       "output_type": "stream",
       "stream": "stderr",
       "text": [
        "[2013-04-11 15:59:20] DEBUG:                Linux: Ubuntu 12.10\n"
       ]
      }
     ],
     "prompt_number": 1
    },
    {
     "cell_type": "heading",
     "level": 1,
     "metadata": {},
     "source": [
      "Krylov-Solvers used in Demagnetising Field Computation"
     ]
    },
    {
     "cell_type": "markdown",
     "metadata": {},
     "source": [
      "To see which Krylov subspace methods are available in dolfin, use *krylov\\_solver\\_methods*."
     ]
    },
    {
     "cell_type": "code",
     "collapsed": false,
     "input": [
      "for name, description in df.krylov_solver_methods():\n",
      "    print \"{:<20} {}\".format(name, description)"
     ],
     "language": "python",
     "metadata": {},
     "outputs": [
      {
       "output_type": "stream",
       "stream": "stdout",
       "text": [
        "default              default Krylov method\n",
        "cg                   Conjugate gradient method\n",
        "gmres                Generalized minimal residual method\n",
        "minres               Minimal residual method\n",
        "tfqmr                Transpose-free quasi-minimal residual method\n",
        "richardson           Richardson method\n",
        "bicgstab             Biconjugate gradient stabilized method\n"
       ]
      }
     ],
     "prompt_number": 2
    },
    {
     "cell_type": "markdown",
     "metadata": {},
     "source": [
      "The problems may be preconditioned using one of the methods in *krylov\\_solver\\_preconditioners*."
     ]
    },
    {
     "cell_type": "code",
     "collapsed": false,
     "input": [
      "for name, description in df.krylov_solver_preconditioners():\n",
      "    print \"{:<20} {}\".format(name, description)"
     ],
     "language": "python",
     "metadata": {},
     "outputs": [
      {
       "output_type": "stream",
       "stream": "stdout",
       "text": [
        "default              default preconditioner\n",
        "none                 No preconditioner\n",
        "ilu                  Incomplete LU factorization\n",
        "icc                  Incomplete Cholesky factorization\n",
        "sor                  Successive over-relaxation\n",
        "jacobi               Jacobi iteration\n",
        "bjacobi              Block Jacobi iteration\n",
        "additive_schwarz     Additive Schwarz\n",
        "amg                  Algebraic multigrid\n",
        "hypre_amg            Hypre algebraic multigrid (BoomerAMG)\n",
        "hypre_euclid         Hypre parallel incomplete LU factorization\n",
        "hypre_parasails      Hypre parallel sparse approximate inverse\n"
       ]
      }
     ],
     "prompt_number": 3
    },
    {
     "cell_type": "markdown",
     "metadata": {},
     "source": [
      "Since, in principle, every solver can be used with any preconditioner, there are several combinations to check."
     ]
    },
    {
     "cell_type": "code",
     "collapsed": false,
     "input": [
      "m = len(df.krylov_solver_methods())\n",
      "n = len(df.krylov_solver_preconditioners())\n",
      "print \"There are {} solvers, {} preconditioners and thus {} diferent combinations of solver and preconditioner.\".format(m, n, m * n)"
     ],
     "language": "python",
     "metadata": {},
     "outputs": [
      {
       "output_type": "stream",
       "stream": "stdout",
       "text": [
        "There are 7 solvers, 12 preconditioners and thus 84 diferent combinations of solver and preconditioner.\n"
       ]
      }
     ],
     "prompt_number": 4
    },
    {
     "cell_type": "heading",
     "level": 2,
     "metadata": {},
     "source": [
      "A Sample Problem with Analytical Solution"
     ]
    },
    {
     "cell_type": "markdown",
     "metadata": {},
     "source": [
      "The demagnetising field of an homogeneously magnetised sphere."
     ]
    },
    {
     "cell_type": "code",
     "collapsed": false,
     "input": [
      "mesh = sphere(20.0, 1.5)\n",
      "S3 = df.VectorFunctionSpace(mesh, \"CG\", 1)\n",
      "m = df.Function(S3)\n",
      "m.assign(df.Constant((1, 0, 0)))\n",
      "Ms = 1\n",
      "unit_length = 1e-9\n",
      "H_expected = np.array([-1.0/3.0, 0.0, 0.0])\n",
      "\n",
      "print \"The used mesh has {} vertices.\".format(mesh.num_vertices())\n",
      "plot_mesh_with_paraview(mesh)"
     ],
     "language": "python",
     "metadata": {},
     "outputs": [
      {
       "output_type": "stream",
       "stream": "stderr",
       "text": [
        "[2013-04-11 15:59:21] DEBUG: The mesh './sphere-20-1_5.xml.gz' already exists and is automatically returned.\n"
       ]
      },
      {
       "output_type": "stream",
       "stream": "stdout",
       "text": [
        "The used mesh has 8865 vertices.\n",
        "tmpdir: /tmp/tmp7EWBrm\n"
       ]
      },
      {
       "output_type": "pyout",
       "png": "[encoded data removed]",
       "prompt_number": 5,
       "text": [
        "<IPython.core.display.Image at 0x3740cd0>"
       ]
      }
     ],
     "prompt_number": 5
    },
    {
     "cell_type": "markdown",
     "metadata": {},
     "source": [
      "We will compute the BEM once in advance to save a lot of time."
     ]
    },
    {
     "cell_type": "code",
     "collapsed": false,
     "input": [
      "bem, boundary_to_global = compute_bem_fk(df.BoundaryMesh(mesh, 'exterior', False))"
     ],
     "language": "python",
     "metadata": {},
     "outputs": [],
     "prompt_number": 6
    },
    {
     "cell_type": "markdown",
     "metadata": {},
     "source": [
      "There are two linear systems involved in the computation of the magnetic potential. We will record the time needed to solve the first one for possible combinations of solver/preconditioner."
     ]
    },
    {
     "cell_type": "code",
     "collapsed": false,
     "input": [
      "results = []\n",
      "failed = []\n",
      "\n",
      "fk.fk_timer.reset()\n",
      "default_timer.reset()\n",
      "\n",
      "try:\n",
      "    with open(\"results_phi1.pickled\", \"r\") as f:\n",
      "        results = pickle.load(f)\n",
      "        print \"Results loaded from file.\"\n",
      "except IOError:\n",
      "    print \"No recorded results found. Will run benchmarks.\\nTime shown for first linear solve (in s).\\n\"\n",
      "    full_timings_log = open(\"full_timings.txt\", \"w\") \n",
      "    \n",
      "    # Print the table header.\n",
      "    columns = [15]\n",
      "    print \" \" * columns[0] + \"|\",\n",
      "    for prec, desc in df.krylov_solver_preconditioners():\n",
      "        width = max(10, len(prec))\n",
      "        columns.append(width)\n",
      "        print \"{:>{w}}\".format(prec, w=width),\n",
      "    print \"\\n\" + \"-\" * columns[0] + \"|\" + \"-\" * (len(columns) + sum(columns[1:]))\n",
      "\n",
      "    for method, desc in df.krylov_solver_methods():\n",
      "        # Start a table tow.\n",
      "        print \"{:>{w}}|\".format(method, w=columns[0]),\n",
      "        \n",
      "        # Compute the demagnetising field with the current method and each of the preconditioners.\n",
      "        results_for_this_method = []\n",
      "        for i, prec in enumerate(df.krylov_solver_preconditioners()):\n",
      "            demag = fk.FKDemag()\n",
      "            demag.precomputed_bem(bem, boundary_to_global)\n",
      "            demag.parameters[\"phi_1_solver\"] = method\n",
      "            demag.parameters[\"phi_1_preconditioner\"] = prec[0]\n",
      "            demag.setup(S3, m, Ms, unit_length)\n",
      "            try:\n",
      "                for j in xrange(10):\n",
      "                    H = vectors(demag.compute_field()) #  This can fail with some method/preconditioner combinations.\n",
      "            except RuntimeError as e:\n",
      "                default_timer.stop_last()\n",
      "                failed.append({'method': method, 'preconditioner': prec, 'message': e.message})\n",
      "                print \"{:>{w}}\".format(\"x\", w=columns[i+1]),\n",
      "            else:   \n",
      "                max_diff = np.max(np.abs(H - H_expected))\n",
      "                phi1_time = fk.fk_timer.time_per_call(\"first linear solve\", \"FKDemag\")\n",
      "                results_for_this_method.append({'method': method, 'preconditioner': prec[0], 'error': max_diff, 'time': phi1_time})\n",
      "                print \"{:>{w}.3g}\".format(phi1_time, w=columns[i+1]),\n",
      "            full_timings_log.write(\"\\nTimings for {} with {}.\".format(method, prec[0]))\n",
      "            full_timings_log.write(fk.fk_timer.report()+\"\\n\")\n",
      "            fk.fk_timer.reset()\n",
      "            del(demag)\n",
      "        print \"\"\n",
      "        results.append(results_for_this_method)\n",
      "        full_timings_log.close()\n",
      "        \n",
      "    with open(\"results_phi1.pickled\", \"w\") as f:\n",
      "        pickle.dump(results, f)\n",
      "\n",
      "    \n",
      "default = results[0][0]['time']\n",
      "print \"\\nDefault combination ran in {:.3} s.\".format(default)\n",
      "fastest = min([min(r, key=lambda e: e['time']) for r in results], key=lambda e: e['time'])\n",
      "print \"Fastest combination {}/{} ran in {:.3} s.\".format(fastest['method'], fastest['preconditioner'], fastest['time'])\n",
      "print \"That is an {:.1%} improvement.\".format(1 - fastest['time'] / default)"
     ],
     "language": "python",
     "metadata": {},
     "outputs": [
      {
       "output_type": "stream",
       "stream": "stdout",
       "text": [
        " No recorded results found. Will run benchmarks.\n",
        "Time shown for first linear solve (in s).\n",
        "\n",
        "               |    default       none        ilu        icc        sor     jacobi    bjacobi additive_schwarz        amg  hypre_amg hypre_euclid hypre_parasails \n",
        "---------------|--------------------------------------------------------------------------------------------------------------------------------------------------\n",
        "        default| "
       ]
      },
      {
       "output_type": "stream",
       "stream": "stdout",
       "text": [
        "    0.0158 "
       ]
      },
      {
       "output_type": "stream",
       "stream": "stdout",
       "text": [
        "    0.0379 "
       ]
      },
      {
       "output_type": "stream",
       "stream": "stdout",
       "text": [
        "    0.0163 "
       ]
      },
      {
       "output_type": "stream",
       "stream": "stdout",
       "text": [
        "    0.0165 "
       ]
      },
      {
       "output_type": "stream",
       "stream": "stdout",
       "text": [
        "    0.0184 "
       ]
      },
      {
       "output_type": "stream",
       "stream": "stdout",
       "text": [
        "    0.0297 "
       ]
      },
      {
       "output_type": "stream",
       "stream": "stdout",
       "text": [
        "    0.0174 "
       ]
      },
      {
       "output_type": "stream",
       "stream": "stdout",
       "text": [
        "          0.0176 "
       ]
      },
      {
       "output_type": "stream",
       "stream": "stdout",
       "text": [
        "     0.131 "
       ]
      },
      {
       "output_type": "stream",
       "stream": "stdout",
       "text": [
        "     0.128 "
       ]
      },
      {
       "output_type": "stream",
       "stream": "stdout",
       "text": [
        "      0.0345 "
       ]
      },
      {
       "output_type": "stream",
       "stream": "stdout",
       "text": [
        "          0.285 \n",
        "             cg| "
       ]
      },
      {
       "ename": "ValueError",
       "evalue": "I/O operation on closed file",
       "output_type": "pyerr",
       "traceback": [
        "\u001b[1;31m---------------------------------------------------------------------------\u001b[0m\n\u001b[1;31mValueError\u001b[0m                                Traceback (most recent call last)",
        "\u001b[1;32m<ipython-input-13-b2072815b5dc>\u001b[0m in \u001b[0;36m<module>\u001b[1;34m()\u001b[0m\n\u001b[0;32m     46\u001b[0m                 \u001b[0mresults_for_this_method\u001b[0m\u001b[1;33m.\u001b[0m\u001b[0mappend\u001b[0m\u001b[1;33m(\u001b[0m\u001b[1;33m{\u001b[0m\u001b[1;34m'method'\u001b[0m\u001b[1;33m:\u001b[0m \u001b[0mmethod\u001b[0m\u001b[1;33m,\u001b[0m \u001b[1;34m'preconditioner'\u001b[0m\u001b[1;33m:\u001b[0m \u001b[0mprec\u001b[0m\u001b[1;33m[\u001b[0m\u001b[1;36m0\u001b[0m\u001b[1;33m]\u001b[0m\u001b[1;33m,\u001b[0m \u001b[1;34m'error'\u001b[0m\u001b[1;33m:\u001b[0m \u001b[0mmax_diff\u001b[0m\u001b[1;33m,\u001b[0m \u001b[1;34m'time'\u001b[0m\u001b[1;33m:\u001b[0m \u001b[0mphi1_time\u001b[0m\u001b[1;33m}\u001b[0m\u001b[1;33m)\u001b[0m\u001b[1;33m\u001b[0m\u001b[0m\n\u001b[0;32m     47\u001b[0m                 \u001b[1;32mprint\u001b[0m \u001b[1;34m\"{:>{w}.3g}\"\u001b[0m\u001b[1;33m.\u001b[0m\u001b[0mformat\u001b[0m\u001b[1;33m(\u001b[0m\u001b[0mphi1_time\u001b[0m\u001b[1;33m,\u001b[0m \u001b[0mw\u001b[0m\u001b[1;33m=\u001b[0m\u001b[0mcolumns\u001b[0m\u001b[1;33m[\u001b[0m\u001b[0mi\u001b[0m\u001b[1;33m+\u001b[0m\u001b[1;36m1\u001b[0m\u001b[1;33m]\u001b[0m\u001b[1;33m)\u001b[0m\u001b[1;33m,\u001b[0m\u001b[1;33m\u001b[0m\u001b[0m\n\u001b[1;32m---> 48\u001b[1;33m             \u001b[0mfull_timings_log\u001b[0m\u001b[1;33m.\u001b[0m\u001b[0mwrite\u001b[0m\u001b[1;33m(\u001b[0m\u001b[1;34m\"\\nTimings for {} with {}.\"\u001b[0m\u001b[1;33m.\u001b[0m\u001b[0mformat\u001b[0m\u001b[1;33m(\u001b[0m\u001b[0mmethod\u001b[0m\u001b[1;33m,\u001b[0m \u001b[0mprec\u001b[0m\u001b[1;33m[\u001b[0m\u001b[1;36m0\u001b[0m\u001b[1;33m]\u001b[0m\u001b[1;33m)\u001b[0m\u001b[1;33m)\u001b[0m\u001b[1;33m\u001b[0m\u001b[0m\n\u001b[0m\u001b[0;32m     49\u001b[0m             \u001b[0mfull_timings_log\u001b[0m\u001b[1;33m.\u001b[0m\u001b[0mwrite\u001b[0m\u001b[1;33m(\u001b[0m\u001b[0mfk\u001b[0m\u001b[1;33m.\u001b[0m\u001b[0mfk_timer\u001b[0m\u001b[1;33m.\u001b[0m\u001b[0mreport\u001b[0m\u001b[1;33m(\u001b[0m\u001b[1;33m)\u001b[0m\u001b[1;33m+\u001b[0m\u001b[1;34m\"\\n\"\u001b[0m\u001b[1;33m)\u001b[0m\u001b[1;33m\u001b[0m\u001b[0m\n\u001b[0;32m     50\u001b[0m             \u001b[0mfk\u001b[0m\u001b[1;33m.\u001b[0m\u001b[0mfk_timer\u001b[0m\u001b[1;33m.\u001b[0m\u001b[0mreset\u001b[0m\u001b[1;33m(\u001b[0m\u001b[1;33m)\u001b[0m\u001b[1;33m\u001b[0m\u001b[0m\n",
        "\u001b[1;31mValueError\u001b[0m: I/O operation on closed file"
       ]
      },
      {
       "output_type": "stream",
       "stream": "stdout",
       "text": [
        "    0.0125"
       ]
      }
     ],
     "prompt_number": 13
    },
    {
     "cell_type": "markdown",
     "metadata": {},
     "source": [
      "We'll visualise the data to highlight the differences in runtime between the solvers and to see how much the preconditioners help."
     ]
    },
    {
     "cell_type": "code",
     "collapsed": false,
     "input": [
      "fig = plt.figure(figsize=(25, 10))\n",
      "ax = fig.add_subplot(111)\n",
      "solvers = [result[0]['method'] for result in results]\n",
      "times_no = [result[1]['time'] for result in results]\n",
      "times_default = [result[0]['time'] for result in results]\n",
      "times_fastest = [min(result, key=lambda x: x['time'])['time'] for result in results]\n",
      "precs_fastest = [min(result, key=lambda x: x['time'])['preconditioner'] for result in results]\n",
      "times_slowest = [max(result, key=lambda x: x['time'])['time'] for result in results]\n",
      "precs_slowest = [max(result, key=lambda x: x['time'])['preconditioner'] for result in results]\n",
      "print times_fastest\n",
      "width = 0.2\n",
      "ind = np.arange(7)\n",
      "rects_fastest = ax.bar(ind, times_fastest, width, color=\"green\", label=\"fastest prec.\")\n",
      "ax.bar(width+ind, times_default, width, color=(0.3, 0.3, 0.3), label=\"default prec.\")\n",
      "ax.bar(2*width+ind, times_no, width, color=(0.8, 0.8, 0.8), label=\"no prec.\")\n",
      "rects_slowest = ax.bar(3*width+ind, times_slowest, width, color=\"red\", alpha=0.8, label=\"slowest prec.\")\n",
      "ax.set_title(\"Time by Solver and Preconditioner\")\n",
      "ax.set_xlabel(\"Solver\")\n",
      "ax.set_ylabel(\"Time (s)\")\n",
      "ax.set_ylim([0, 0.8])\n",
      "ax.legend()\n",
      "ax.set_xticks(np.arange(7)+2*width)\n",
      "xtickNames = plt.setp(ax, xticklabels=solvers)\n",
      "plt.setp(xtickNames, rotation=45)\n",
      "\n",
      "\n",
      "for i, rect in enumerate(rects_fastest):\n",
      "    height = rect.get_height()\n",
      "    ax.text(rect.get_x()+rect.get_width()/2., 1.0*height+0.05, precs_fastest[i], ha='center', va='bottom', rotation=90)\n",
      "\n",
      "plt.show()"
     ],
     "language": "python",
     "metadata": {},
     "outputs": [
      {
       "output_type": "stream",
       "stream": "stdout",
       "text": [
        "[0.016098976135253906, 0.012541055679321289, 0.01571512222290039, 0.014070987701416016, 0.015160083770751953, 0.13336586952209473, 0.01896500587463379]\n"
       ]
      },
      {
       "output_type": "display_data",
       "png": "[encoded data removed]"
      }
     ],
     "prompt_number": 8
    },
    {
     "cell_type": "markdown",
     "metadata": {},
     "source": [
      "The default preconditioner is a decent choice, while using a badly chosen preconditioner is worse than using none at all."
     ]
    }
   ],
   "metadata": {}
  }
 ]
}