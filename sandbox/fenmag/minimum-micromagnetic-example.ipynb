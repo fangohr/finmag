{
 "cells": [
  {
   "cell_type": "code",
   "execution_count": 1,
   "metadata": {
    "collapsed": true,
    "deletable": true,
    "editable": true
   },
   "outputs": [],
   "source": [
    "%matplotlib inline"
   ]
  },
  {
   "cell_type": "markdown",
   "metadata": {
    "deletable": true,
    "editable": true
   },
   "source": [
    "# Basic micromagnetics\n",
    "The goal of micromagnetics is to compute the equilibrium magnetization configuration of a given magnetic sample. Its physical shape is modeled by the mesh. The size of the mesh cells is limited by a physical length scale originating from the ferromagnetic exchange interaction and we need to compute the magnetization configuration that arises, when an external magnetic field (the Zeeman field) is applied along a certain spatial direction. The micromagnetic moments $\\vec{m}$ sitting on the sites of the mesh nodes will start to align themselves with the external field, but are also subject to the nearest-neighbour interaction from the exchange. The equation of motion describing the magnetization reversal is the Landau-Lifshitz-Gilbert equation\n",
    "\n",
    "$$\n",
    "\\frac{d\\vec{m}}{dt} = -\\frac{\\gamma}{1 + \\alpha^2}\\left(\\vec{m} \\times \\vec{H}_{\\mathrm{eff}}\\right) - \\frac{\\gamma\\alpha}{1 + \\alpha^2} \\left[\\vec{m} \\times \\left(\\vec{m} \\times \\vec{H}_{\\mathrm{eff}}\\right)\\right]\n",
    "$$\n",
    "\n",
    "given here in its explicit form with the gyromagnetic ration $\\gamma$ and the Gilbert damping parameter $\\alpha$. $\\vec{H}_{\\mathrm{eff}}$ is the effective field acting on the magnetic moment, which in reality consists of more terms than the Zeeman and exchange fields only. It is computed from the functional derivative of the total magnetic energy density $w (\\vec{m})$\n",
    "\n",
    "$$\n",
    "\\vec{H}_{\\mathrm{eff}}(\\vec{m}) = -\\frac{1}{\\mu_0 M_S}\\frac{\\delta w (\\vec{m})}{\\delta \\vec{m}}\n",
    "$$\n",
    "\n",
    "where\n",
    "\n",
    "$$\n",
    "w (\\vec{m}) = A(\\nabla \\vec{m})^2 - \\mu_0 M_S \\vec{m}\\cdot \\vec{H}.\n",
    "$$\n",
    "\n",
    "The used constants are the vacuum permeability $\\mu_0$, the saturation magnetization $M_S$, the ferromagnetic exchange constant $A$ and the Zeeman field $\\vec{H}$.\n"
   ]
  },
  {
   "cell_type": "code",
   "execution_count": 2,
   "metadata": {
    "collapsed": false,
    "deletable": true,
    "editable": true
   },
   "outputs": [
    {
     "name": "stderr",
     "output_type": "stream",
     "text": [
      "/usr/local/lib/python2.7/dist-packages/matplotlib/__init__.py:1357: UserWarning:  This call to matplotlib.use() has no effect\n",
      "because the backend has already been chosen;\n",
      "matplotlib.use() must be called *before* pylab, matplotlib.pyplot,\n",
      "or matplotlib.backends is imported for the first time.\n",
      "\n",
      "  warnings.warn(_use_error_msg)\n"
     ]
    }
   ],
   "source": [
    "import fenics as df\n",
    "import numpy as np\n",
    "import matplotlib.pyplot as plt\n",
    "\n",
    "# Material parameters\n",
    "Ms = 8.6e5  # saturation magnetisation (A/m)\n",
    "alpha = 0.1  # Gilbert damping\n",
    "gamma = 2.211e5  # gyromagnetic ratio\n",
    "A = 1e-11 # exchange constant (J/m)\n",
    "\n",
    "# External magentic field.\n",
    "B = 0.1  # (T)\n",
    "mu0 = 4 * np.pi * 1e-7  # vacuum permeability\n",
    "\n",
    "# Zeeman field\n",
    "H = Ms / 2 * df.Constant((0,0,1))\n",
    "# meaningful time period is of order of nano seconds\n",
    "dt = 1e-12\n",
    "\n",
    "# mesh parameters\n",
    "d = 10e-9\n",
    "thickness = 10e-9\n",
    "nx = ny = 2\n",
    "nz = 1\n",
    "\n",
    "# create mesh\n",
    "p1 = df.Point(0, 0, 0)\n",
    "p2 = df.Point(d, d, thickness)\n",
    "mesh = df.BoxMesh(p1, p2, nx, ny, nz)\n",
    "\n",
    "# define function space for magnetization\n",
    "V = df.VectorFunctionSpace(mesh, \"CG\", 1, dim=3)\n",
    "\n",
    "# define initial M and normalise\n",
    "m_init = df.Constant((1, 0, 0))\n",
    "m = df.interpolate(m_init, V)\n",
    "v = df.TestFunction(V)\n",
    "\n",
    "def energy_density(m):\n",
    "    w_Zeeman = - mu0 * Ms * df.dot(m, H)\n",
    "    w_exchange = A  * df.inner(df.grad(m), df.grad(m))\n",
    "    w = w_Zeeman + w_exchange\n",
    "    return w\n",
    "\n",
    "def effective_field(w, m, volume=None):\n",
    "    return - 1/mu0 * df.derivative(w / Ms * df.dx, m)\n",
    "    # snippet for box method: [do we need it??]\n",
    "    # Heff = df.assemble(dE_dm).array()/volume\n",
    "\n",
    "def LLG(Heff, m, alpha, gamma):\n",
    "    tmp1 = -gamma/(1+alpha*alpha)*df.cross(m, Heff) - alpha*gamma/(1+alpha*alpha)*df.cross(m, df.cross(m, Heff))\n",
    "    # get form that can be turned into vector using 'assemble'\n",
    "    dmdt = df.dot(tmp1, df.TestFunction(V)) * df.dP\n",
    "    return dmdt\n",
    "    \n",
    "def turn_form_to_function(form, vectorspace):\n",
    "    \"\"\"Given a form, compute a function, by projecting the form and the\n",
    "    desired solution u_sol onto test functions.\n",
    "    \n",
    "    This can probably be done more efficiently; review later.\n",
    "    \n",
    "    Help from FEniCS team will be very welcome in re-working this example.\n",
    "    \"\"\"\n",
    "    V = vectorspace\n",
    "    u = df.TrialFunction(V)\n",
    "    v = df.TestFunction(V)\n",
    "    a = df.dot(u, v) * df.dx\n",
    "    L = form * v \n",
    "    u_sol = df.Function(V)\n",
    "    df.solve(a==L, u_sol)\n",
    "    return u_sol\n",
    "\n",
    "\n",
    "def compute_dmdt(m):\n",
    "    \"\"\"Convenience function that does all in one go\"\"\"\n",
    "    \n",
    "    Heff_function = turn_form_to_function(Heff_form, V)\n",
    "    dmdt = LLG(Heff_function, m, alpha, gamma)\n",
    "    return dmdt\n",
    "\n",
    "\n",
    "# hamiltonian\n",
    "w = energy_density(m)\n",
    "# and related effective field\n",
    "Heff_form = effective_field(w, m)\n",
    "\n",
    "\n"
   ]
  },
  {
   "cell_type": "code",
   "execution_count": 3,
   "metadata": {
    "collapsed": true,
    "deletable": true,
    "editable": true
   },
   "outputs": [],
   "source": [
    "# function for integration of system of ODEs\n",
    "\n",
    "def rhs_micromagnetic(m_vector_array, t, counter=[0]):\n",
    "    if counter[0] % 10 == 0:\n",
    "        print(\"{:5} Called with t={}\".format(counter[0], t))\n",
    "    counter[0] += 1\n",
    "    # convert m_vector into function\n",
    "    assert isinstance(m_vector_array, np.ndarray)\n",
    "    m.vector()[:] = m_vector_array[:]\n",
    "    dmdt = compute_dmdt(m)\n",
    "    # convert to vector\n",
    "    dmdt_vector = df.assemble(dmdt)\n",
    "    return dmdt_vector.array()"
   ]
  },
  {
   "cell_type": "markdown",
   "metadata": {
    "deletable": true,
    "editable": true
   },
   "source": [
    "## Integrate ODEs with scipy.integrate"
   ]
  },
  {
   "cell_type": "code",
   "execution_count": 4,
   "metadata": {
    "collapsed": false,
    "deletable": true,
    "editable": true
   },
   "outputs": [
    {
     "name": "stdout",
     "output_type": "stream",
     "text": [
      "    0 Called with t=0\n",
      "CPU times: user 30 ms, sys: 20 ms, total: 50 ms\n",
      "Wall time: 72.3 ms\n"
     ]
    }
   ],
   "source": [
    "%%time\n",
    "from scipy.integrate import odeint\n",
    "m_init = df.Constant((1, 0, 0))\n",
    "m = df.interpolate(m_init, V)\n",
    "ts = np.linspace(0, 5e-10, 100)\n",
    "\n",
    "# empty call of time integrator, just to get FEniCS to cache all forms etc\n",
    "rhs_micromagnetic(m.vector().array(), 0)"
   ]
  },
  {
   "cell_type": "code",
   "execution_count": 5,
   "metadata": {
    "collapsed": false,
    "deletable": true,
    "editable": true
   },
   "outputs": [
    {
     "name": "stdout",
     "output_type": "stream",
     "text": [
      "   10 Called with t=1.28095110944e-13\n",
      "   20 Called with t=2.156961396e-13\n",
      "   30 Called with t=4.78499225567e-13\n",
      "   40 Called with t=2.76443272939e-12\n",
      "   50 Called with t=7.2327101493e-12\n",
      "   60 Called with t=1.30302918587e-11\n",
      "   70 Called with t=1.96547936665e-11\n",
      "   80 Called with t=2.68101680743e-11\n",
      "   90 Called with t=3.39369183859e-11\n",
      "  100 Called with t=4.04182997127e-11\n",
      "  110 Called with t=4.68996810395e-11\n",
      "  120 Called with t=5.46903199096e-11\n",
      "  130 Called with t=6.24809587797e-11\n",
      "  140 Called with t=7.02559852216e-11\n",
      "  150 Called with t=7.80271085564e-11\n",
      "  160 Called with t=8.57699775496e-11\n",
      "  170 Called with t=9.34940103149e-11\n",
      "  180 Called with t=9.98867481011e-11\n",
      "  190 Called with t=1.06377299147e-10\n",
      "  200 Called with t=1.13014570082e-10\n",
      "  210 Called with t=1.20849581199e-10\n",
      "  220 Called with t=1.28760159524e-10\n",
      "  230 Called with t=1.35775266495e-10\n",
      "  240 Called with t=1.42909077414e-10\n",
      "  250 Called with t=1.501220243e-10\n",
      "  260 Called with t=1.58002293238e-10\n",
      "  270 Called with t=1.657406912e-10\n",
      "  280 Called with t=1.73266282699e-10\n",
      "  290 Called with t=1.81193684398e-10\n",
      "  300 Called with t=1.89270692206e-10\n",
      "  310 Called with t=1.97544314242e-10\n",
      "  320 Called with t=2.06017350951e-10\n",
      "  330 Called with t=2.14623330774e-10\n",
      "  340 Called with t=2.23303805195e-10\n",
      "  350 Called with t=2.32027516363e-10\n",
      "  360 Called with t=2.40816082654e-10\n",
      "  370 Called with t=2.49804017604e-10\n",
      "  380 Called with t=2.58888291318e-10\n",
      "  390 Called with t=2.68158551431e-10\n",
      "  400 Called with t=2.77533980178e-10\n",
      "  410 Called with t=2.86979521347e-10\n",
      "  420 Called with t=2.96615952133e-10\n",
      "  430 Called with t=3.06316135829e-10\n",
      "  440 Called with t=3.1611194889e-10\n",
      "  450 Called with t=3.25998580173e-10\n",
      "  460 Called with t=3.35929229779e-10\n",
      "  470 Called with t=3.45945134463e-10\n",
      "  480 Called with t=3.55929205478e-10\n",
      "  490 Called with t=3.65892054047e-10\n",
      "  500 Called with t=3.75798769198e-10\n",
      "  510 Called with t=3.85726277539e-10\n",
      "  520 Called with t=3.95684975663e-10\n",
      "  530 Called with t=4.05582897295e-10\n",
      "  540 Called with t=4.15483815697e-10\n",
      "  550 Called with t=4.25457497671e-10\n",
      "  560 Called with t=4.35365397676e-10\n",
      "  570 Called with t=4.45229443035e-10\n",
      "  580 Called with t=4.55016558848e-10\n",
      "  590 Called with t=4.6483777149e-10\n",
      "  600 Called with t=4.74710129375e-10\n",
      "  610 Called with t=4.84638289692e-10\n",
      "  620 Called with t=4.94789659741e-10\n",
      "CPU times: user 7.34 s, sys: 690 ms, total: 8.03 s\n",
      "Wall time: 8.28 s\n"
     ]
    }
   ],
   "source": [
    "%%time \n",
    "\n",
    "ms = odeint(rhs_micromagnetic, y0=m.vector().array(), t=ts)"
   ]
  },
  {
   "cell_type": "code",
   "execution_count": 6,
   "metadata": {
    "collapsed": false,
    "deletable": true,
    "editable": true
   },
   "outputs": [
    {
     "data": {
      "text/plain": [
       "<matplotlib.text.Text at 0x7f3faf606750>"
      ]
     },
     "execution_count": 6,
     "metadata": {},
     "output_type": "execute_result"
    },
    {
     "data": {
      "image/png": "[encoded data removed]",
      "text/plain": [
       "<matplotlib.figure.Figure at 0x7f3fb6cd8090>"
      ]
     },
     "metadata": {},
     "output_type": "display_data"
    }
   ],
   "source": [
    "import pylab\n",
    "tmp2 = ms[:,0:3]  # might be m_x, m_y, m_z of first vector\n",
    "pylab.plot(ts, tmp2, 'o-')\n",
    "pylab.legend(['$m_x$', '$m_y$', '$m_z$'])\n",
    "pylab.xlabel('$t\\,$[s]')\n",
    "pylab.ylabel('$<M_i>$')"
   ]
  },
  {
   "cell_type": "code",
   "execution_count": null,
   "metadata": {
    "collapsed": true,
    "deletable": true,
    "editable": true
   },
   "outputs": [],
   "source": []
  }
 ],
 "metadata": {
  "kernelspec": {
   "display_name": "Python 2",
   "language": "python",
   "name": "python2"
  },
  "language_info": {
   "codemirror_mode": {
    "name": "ipython",
    "version": 2
   },
   "file_extension": ".py",
   "mimetype": "text/x-python",
   "name": "python",
   "nbconvert_exporter": "python",
   "pygments_lexer": "ipython2",
   "version": "2.7.12"
  }
 },
 "nbformat": 4,
 "nbformat_minor": 2
}
