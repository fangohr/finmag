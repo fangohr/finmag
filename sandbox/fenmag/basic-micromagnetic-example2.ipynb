{
 "cells": [
  {
   "cell_type": "code",
   "execution_count": 38,
   "metadata": {
    "collapsed": true
   },
   "outputs": [],
   "source": [
    "%matplotlib inline"
   ]
  },
  {
   "cell_type": "markdown",
   "metadata": {},
   "source": [
    "# Basic micromagnetics"
   ]
  },
  {
   "cell_type": "code",
   "execution_count": 78,
   "metadata": {
    "collapsed": false
   },
   "outputs": [],
   "source": [
    "import fenics as df\n",
    "import numpy as np\n",
    "import matplotlib.pyplot as plt\n",
    "\n",
    "# Material parameters\n",
    "Ms = 8.6e5  # saturation magnetisation (A/m)\n",
    "alpha = 0.1  # Gilbert damping\n",
    "gamma = 2.211e5  # gyromagnetic ratio\n",
    "A = 1e-11 # exchange constant (J/m)\n",
    "\n",
    "# External magentic field.\n",
    "B = 0.1  # (T)\n",
    "mu0 = 4 * np.pi * 1e-7  # vacuum permeability\n",
    "\n",
    "# Zeeman field\n",
    "H = Ms / 2 * df.Constant((0,1,0))\n",
    "# meaningful time period is of order of nano seconds\n",
    "dt = 1e-12\n",
    "t_array = np.arange(0, 5e-9, dt)\n",
    "\n",
    "############\n",
    "# Simulation\n",
    "############\n",
    "\n",
    "# mesh parameters\n",
    "d = 10e-9\n",
    "thickness = 10e-9\n",
    "nx = ny = 2\n",
    "nz = 1\n",
    "\n",
    "# create mesh\n",
    "p1 = df.Point(0, 0, 0)\n",
    "p2 = df.Point(d, d, thickness)\n",
    "mesh = df.BoxMesh(p1, p2, nx, ny, nz)\n",
    "\n",
    "# define function space for magnetization\n",
    "V = df.VectorFunctionSpace(mesh, \"CG\", 1, dim=3)\n",
    "\n",
    "# define initial M and normalise\n",
    "m_init = df.Constant((1, 0, 0))\n",
    "# define initial value\n",
    "m = df.interpolate(m_init, V)\n",
    "v = df.TestFunction(V)\n",
    "volume = df.assemble(df.dot(v, df.Constant((1, 1, 1))) * df.dx).array()\n",
    "\n",
    "def energy_density(m):\n",
    "    w_Zeeman = - mu0 * Ms * df.dot(m, H)\n",
    "    w_exchange = A  * df.inner(df.grad(m), df.grad(m))\n",
    "    w = w_Zeeman + w_exchange\n",
    "    return w\n",
    "\n",
    "def effective_field(w, m, volume):\n",
    "    return - 1/mu0 * df.derivative(w / Ms * df.dx, m)\n",
    "    # snippet for box method: [do we need it??]\n",
    "    # Heff = df.assemble(dE_dm).array()/volume\n",
    "\n",
    "def LLG(Heff, m, alpha, gamma):\n",
    "    tmp1 = -gamma/(1+alpha*alpha)*df.cross(m, Heff) - alpha*gamma/(1+alpha*alpha)*df.cross(m, df.cross(m, Heff))\n",
    "    # get form that can be turned into vector using 'assemble'\n",
    "    dmdt = df.dot(tmp1, df.TestFunction(V)) * df.dP\n",
    "    return dmdt\n",
    "    \n",
    "def turn_form_to_function(form, vectorspace):\n",
    "    \"\"\"Given a form, compute a function, by projecting the form and the\n",
    "    desired solution u_sol onto test functions.\n",
    "    \n",
    "    This can probably be done more effeciently; review later.\n",
    "    \"\"\"\n",
    "    V = vectorspace\n",
    "    u = df.TrialFunction(V)\n",
    "    v = df.TestFunction(V)\n",
    "    a = df.dot(u, v) * df.dx\n",
    "    L = form * v \n",
    "    u_sol = df.Function(V)\n",
    "    df.solve(a==L, u_sol)\n",
    "    return u_sol\n",
    "\n",
    "                        \n",
    "w = energy_density(m)\n",
    "Heff_form = effective_field(w, m, volume)\n",
    "Heff = turn_form_to_function(Heff_form, V)\n",
    "dmdt = LLG(Heff, m, alpha, gamma)\n",
    "dmdt_vec = df.assemble(dmdt)\n"
   ]
  },
  {
   "cell_type": "code",
   "execution_count": 79,
   "metadata": {
    "collapsed": false
   },
   "outputs": [
    {
     "data": {
      "text/plain": [
       "array([  0.00000000e+00,   9.41316832e+09,  -9.41316832e+10,\n",
       "         0.00000000e+00,   9.41316832e+09,  -9.41316832e+10,\n",
       "         0.00000000e+00,   9.41316832e+09,  -9.41316832e+10,\n",
       "         0.00000000e+00,   9.41316832e+09,  -9.41316832e+10,\n",
       "         0.00000000e+00,   9.41316832e+09,  -9.41316832e+10,\n",
       "         0.00000000e+00,   9.41316832e+09,  -9.41316832e+10,\n",
       "         0.00000000e+00,   9.41316832e+09,  -9.41316832e+10,\n",
       "         0.00000000e+00,   9.41316832e+09,  -9.41316832e+10,\n",
       "         0.00000000e+00,   9.41316832e+09,  -9.41316832e+10,\n",
       "         0.00000000e+00,   9.41316832e+09,  -9.41316832e+10,\n",
       "         0.00000000e+00,   9.41316832e+09,  -9.41316832e+10,\n",
       "         0.00000000e+00,   9.41316832e+09,  -9.41316832e+10,\n",
       "         0.00000000e+00,   9.41316832e+09,  -9.41316832e+10,\n",
       "         0.00000000e+00,   9.41316832e+09,  -9.41316832e+10,\n",
       "         0.00000000e+00,   9.41316832e+09,  -9.41316832e+10,\n",
       "         0.00000000e+00,   9.41316832e+09,  -9.41316832e+10,\n",
       "         0.00000000e+00,   9.41316832e+09,  -9.41316832e+10,\n",
       "         0.00000000e+00,   9.41316832e+09,  -9.41316832e+10])"
      ]
     },
     "execution_count": 79,
     "metadata": {},
     "output_type": "execute_result"
    }
   ],
   "source": [
    "dmdt_vec.array()"
   ]
  },
  {
   "cell_type": "code",
   "execution_count": 80,
   "metadata": {
    "collapsed": false
   },
   "outputs": [
    {
     "data": {
      "text/plain": [
       "array([ 1.,  0.,  0.,  1.,  0.,  0.,  1.,  0.,  0.,  1.,  0.,  0.,  1.,\n",
       "        0.,  0.,  1.,  0.,  0.,  1.,  0.,  0.,  1.,  0.,  0.,  1.,  0.,\n",
       "        0.,  1.,  0.,  0.,  1.,  0.,  0.,  1.,  0.,  0.,  1.,  0.,  0.,\n",
       "        1.,  0.,  0.,  1.,  0.,  0.,  1.,  0.,  0.,  1.,  0.,  0.,  1.,\n",
       "        0.,  0.])"
      ]
     },
     "execution_count": 80,
     "metadata": {},
     "output_type": "execute_result"
    }
   ],
   "source": [
    "m.vector().array()"
   ]
  },
  {
   "cell_type": "markdown",
   "metadata": {},
   "source": [
    "## Attempt to get time integration going\n",
    "Start with non-micromagnetic example"
   ]
  },
  {
   "cell_type": "code",
   "execution_count": 91,
   "metadata": {
    "collapsed": true
   },
   "outputs": [],
   "source": [
    "def rhs_exp(y, t):\n",
    "    dydt = -y   # enter ODE here\n",
    "    return dydt\n",
    "\n",
    "def Euler(f, y0, t0=0, dt=0.1, n=10):\n",
    "    \"\"\"f is the rhs function with signature f(y, t)\"\"\"\n",
    "    ts = [t0]\n",
    "    ys = [y0]\n",
    "    t = t0\n",
    "    y = y0\n",
    "    for i in range(n):\n",
    "        dydt = f(y, t)\n",
    "        y = y + dydt * dt\n",
    "        # store results\n",
    "        ts.append(t)\n",
    "        ys.append(y)\n",
    "\n",
    "        t = t + dt\n",
    "        \n",
    "    return ts, ys"
   ]
  },
  {
   "cell_type": "code",
   "execution_count": 94,
   "metadata": {
    "collapsed": false
   },
   "outputs": [
    {
     "data": {
      "text/plain": [
       "[<matplotlib.lines.Line2D at 0x7f17e222e4d0>]"
      ]
     },
     "execution_count": 94,
     "metadata": {},
     "output_type": "execute_result"
    },
    {
     "data": {
      "image/png": "[encoded data removed]",
      "text/plain": [
       "<matplotlib.figure.Figure at 0x7f17e2465790>"
      ]
     },
     "metadata": {},
     "output_type": "display_data"
    }
   ],
   "source": [
    "ts, ys = Euler(rhs_exp, y0=1, t0=0, n=100)\n",
    "import pylab\n",
    "pylab.plot(ts, ys, 'o-')"
   ]
  },
  {
   "cell_type": "code",
   "execution_count": null,
   "metadata": {
    "collapsed": true
   },
   "outputs": [],
   "source": []
  },
  {
   "cell_type": "markdown",
   "metadata": {},
   "source": [
    "## Not working plotting"
   ]
  },
  {
   "cell_type": "code",
   "execution_count": 41,
   "metadata": {
    "collapsed": false
   },
   "outputs": [
    {
     "data": {
      "text/plain": [
       "<mpl_toolkits.mplot3d.art3d.Line3DCollection at 0x7f17e377df50>"
      ]
     },
     "execution_count": 41,
     "metadata": {},
     "output_type": "execute_result"
    },
    {
     "data": {
      "image/png": "[encoded data removed]",
      "text/plain": [
       "<matplotlib.figure.Figure at 0x7f17e813c690>"
      ]
     },
     "metadata": {},
     "output_type": "display_data"
    }
   ],
   "source": [
    "df.plot(Heff, interactive=True)"
   ]
  },
  {
   "cell_type": "code",
   "execution_count": 42,
   "metadata": {
    "collapsed": false
   },
   "outputs": [
    {
     "data": {
      "text/html": [
       "<!DOCTYPE html>\n",
       "<html>\n",
       "  <head>\n",
       "    <meta http-equiv=\"content-type\" content=\"text/html;charset=UTF-8\" />\n",
       "    <meta name=\"generator\" content=\"FEniCS/DOLFIN (http://fenicsproject.org)\" />\n",
       "    <title>FEniCS/DOLFIN X3DOM plot</title>\n",
       "    <script type=\"text/javascript\" src=\"http://www.x3dom.org/download/x3dom.js\"></script>\n",
       "    <script type=\"text/javascript\" src=\"https://code.jquery.com/jquery-3.1.0.js\"></script>\n",
       "    <script type=\"text/javascript\" src=\"https://rawgit.com/plscott/fenics-x3dom/master/x3dom_support.js\"></script>\n",
       "    <link rel=\"stylesheet\" type=\"text/css\" href=\"http://www.x3dom.org/download/x3dom.css\" />\n",
       "    <link rel=\"stylesheet\" type=\"text/css\" href=\"https://rawgit.com/plscott/fenics-x3dom/master/x3dom_support.css\" />\n",
       "  </head>\n",
       "  <body>\n",
       "    <x3d showStat=\"false\" xmlns=\"http://www.web3d.org/specifications/x3d-namespace\" width=\"500.000000px\" height=\"400.000000px\">\n",
       "      <scene>\n",
       "        <shape>\n",
       "          <appearance>\n",
       "            <material diffuseColor=\"1.000000 1.000000 1.000000\" emissiveColor=\"0.000000 0.000000 0.000000\" specularColor=\"0.000000 0.000000 0.000000\" ambientIntensity=\"0\" shininess=\"0.5\" transparency=\"0\"></material>\n",
       "          </appearance>\n",
       "          <indexedFaceSet solid=\"false\" colorPerVertex=\"true\" coordIndex=\"0 1 4 -1 0 1 10 -1 0 3 4 -1 0 3 12 -1 0 9 10 -1 0 9 12 -1 1 2 5 -1 1 2 11 -1 1 4 5 -1 1 10 11 -1 2 5 14 -1 2 11 14 -1 3 4 7 -1 3 6 7 -1 3 6 15 -1 3 12 15 -1 4 5 8 -1 4 7 8 -1 5 8 17 -1 5 14 17 -1 6 7 16 -1 6 15 16 -1 7 8 17 -1 7 16 17 -1 9 10 13 -1 9 12 13 -1 10 11 14 -1 10 13 14 -1 12 13 16 -1 12 15 16 -1 13 14 17 -1 13 16 17 -1 \">\n",
       "            <coordinate point=\"0 0 0 5e-09 0 0 1e-08 0 0 0 5e-09 0 5e-09 5e-09 0 1e-08 5e-09 0 0 1e-08 0 5e-09 1e-08 0 1e-08 1e-08 0 0 0 1e-08 5e-09 0 1e-08 1e-08 0 1e-08 0 5e-09 1e-08 5e-09 5e-09 1e-08 1e-08 5e-09 1e-08 0 1e-08 1e-08 5e-09 1e-08 1e-08 1e-08 1e-08 1e-08 \"></coordinate>\n",
       "            <metadata min_value=\"1.000000\" max_value=\"1.000000\" color_map=\"0.000000 0.000000 1.000000 0.000000 0.000062 0.999908 0.000002 0.000246 0.999635 0.000006 0.000554 0.999183 0.000015 0.000984 0.998554 0.000030 0.001537 0.997753 0.000051 0.002213 0.996781 0.000081 0.003012 0.995642 0.000121 0.003933 0.994339 0.000171 0.004976 0.992873 0.000234 0.006142 0.991248 0.000311 0.007429 0.989467 0.000402 0.008839 0.987532 0.000510 0.010369 0.985446 0.000635 0.012021 0.983211 0.000778 0.013793 0.980831 0.000942 0.015686 0.978308 0.001126 0.017699 0.975644 0.001332 0.019831 0.972843 0.001562 0.022084 0.969907 0.001816 0.024455 0.966837 0.002096 0.026944 0.963638 0.002402 0.029552 0.960311 0.002737 0.032277 0.956860 0.003099 0.035119 0.953285 0.003492 0.038077 0.949591 0.003916 0.041152 0.945780 0.004371 0.044342 0.941853 0.004859 0.047646 0.937814 0.005382 0.051065 0.933664 0.005939 0.054597 0.929407 0.006531 0.058242 0.925044 0.007161 0.061999 0.920579 0.007828 0.065868 0.916013 0.008533 0.069847 0.911348 0.009278 0.073936 0.906588 0.010063 0.078134 0.901734 0.010890 0.082441 0.896788 0.011758 0.086855 0.891754 0.012668 0.091375 0.886632 0.013623 0.096002 0.881426 0.014621 0.100733 0.876138 0.015665 0.105568 0.870769 0.016754 0.110507 0.865323 0.017890 0.115547 0.859800 0.019073 0.120688 0.854204 0.020304 0.125930 0.848537 0.021583 0.131270 0.842800 0.022912 0.136708 0.836996 0.024291 0.142243 0.831126 0.025720 0.147874 0.825194 0.027200 0.153600 0.819200 0.028732 0.159419 0.813147 0.030316 0.165331 0.807038 0.031953 0.171333 0.800873 0.033643 0.177426 0.794655 0.035387 0.183607 0.788386 0.037185 0.189875 0.782068 0.039039 0.196230 0.775703 0.040947 0.202670 0.769292 0.042911 0.209193 0.762838 0.044932 0.215798 0.756343 0.047009 0.222484 0.749808 0.049143 0.229250 0.743235 0.051335 0.236093 0.736626 0.053584 0.243013 0.729983 0.055891 0.250008 0.723307 0.058257 0.257077 0.716601 0.060681 0.264217 0.709867 0.063165 0.271428 0.703105 0.065708 0.278709 0.696318 0.068311 0.286056 0.689507 0.070973 0.293470 0.682674 0.073695 0.300947 0.675821 0.076478 0.308487 0.668950 0.079321 0.316088 0.662061 0.082225 0.323748 0.655157 0.085190 0.331466 0.648240 0.088216 0.339239 0.641310 0.091302 0.347066 0.634370 0.094450 0.354946 0.627420 0.097660 0.362876 0.620464 0.100930 0.370854 0.613501 0.104262 0.378879 0.606534 0.107656 0.386949 0.599564 0.111111 0.395062 0.592593 0.114628 0.403216 0.585621 0.118206 0.411408 0.578651 0.121845 0.419638 0.571684 0.125546 0.427903 0.564721 0.129309 0.436202 0.557764 0.133132 0.444531 0.550814 0.137017 0.452889 0.543872 0.140963 0.461274 0.536940 0.144970 0.469685 0.530019 0.149038 0.478117 0.523110 0.153167 0.486571 0.516215 0.157356 0.495043 0.509335 0.161605 0.503531 0.502470 0.165914 0.512033 0.495624 0.170283 0.520546 0.488796 0.174712 0.529069 0.481987 0.179200 0.537600 0.475200 0.183747 0.546135 0.468435 0.188353 0.554673 0.461693 0.193017 0.563212 0.454975 0.197740 0.571748 0.448283 0.202520 0.580279 0.441618 0.207358 0.588804 0.434981 0.212252 0.597319 0.428372 0.217203 0.605823 0.421793 0.222211 0.614312 0.415245 0.227274 0.622784 0.408728 0.232392 0.631237 0.402245 0.237566 0.639668 0.395796 0.242793 0.648074 0.389381 0.248075 0.656453 0.383002 0.253410 0.664803 0.376660 0.258797 0.673120 0.370355 0.264237 0.681402 0.364089 0.269729 0.689647 0.357862 0.275271 0.697851 0.351676 0.280864 0.706012 0.345530 0.286507 0.714127 0.339426 0.292199 0.722193 0.333366 0.297940 0.730207 0.327348 0.303729 0.738168 0.321375 0.309565 0.746071 0.315447 0.315447 0.753914 0.309565 0.321375 0.761694 0.303729 0.327348 0.769408 0.297940 0.333366 0.777053 0.292199 0.339426 0.784627 0.286507 0.345530 0.792126 0.280864 0.351676 0.799547 0.275271 0.357862 0.806887 0.269729 0.364089 0.814143 0.264237 0.370355 0.821313 0.258797 0.376660 0.828392 0.253410 0.383002 0.835378 0.248075 0.389381 0.842268 0.242793 0.395796 0.849058 0.237566 0.402245 0.855746 0.232392 0.408728 0.862328 0.227274 0.415245 0.868801 0.222211 0.421793 0.875161 0.217203 0.428372 0.881406 0.212252 0.434981 0.887531 0.207358 0.441618 0.893535 0.202520 0.448283 0.899413 0.197740 0.454975 0.905162 0.193017 0.461693 0.910778 0.188353 0.468435 0.916259 0.183747 0.475200 0.921600 0.179200 0.481987 0.926799 0.174712 0.488796 0.931851 0.170283 0.495624 0.936754 0.165914 0.502470 0.941503 0.161605 0.509335 0.946096 0.157356 0.516215 0.950528 0.153167 0.523110 0.954797 0.149038 0.530019 0.958898 0.144970 0.536940 0.962827 0.140963 0.543872 0.966582 0.137017 0.550814 0.970158 0.133132 0.557764 0.973552 0.129309 0.564721 0.976759 0.125546 0.571684 0.979777 0.121845 0.578651 0.982602 0.118206 0.585621 0.985229 0.114628 0.592593 0.987654 0.111111 0.599564 0.989875 0.107656 0.606534 0.991887 0.104262 0.613501 0.993686 0.100930 0.620464 0.995268 0.097660 0.627420 0.996630 0.094450 0.634370 0.997767 0.091302 0.641310 0.998675 0.088216 0.648240 0.999351 0.085190 0.655157 0.999790 0.082225 0.662061 0.999988 0.079321 0.668950 0.999942 0.076478 0.675821 0.999646 0.073695 0.682674 0.999098 0.070973 0.689507 0.998292 0.068311 0.696318 0.997226 0.065708 0.703105 0.995893 0.063165 0.709867 0.994291 0.060681 0.716601 0.992415 0.058257 0.723307 0.990261 0.055891 0.729983 0.987825 0.053584 0.736626 0.985101 0.051335 0.743235 0.982087 0.049143 0.749808 0.978777 0.047009 0.756343 0.975167 0.044932 0.762838 0.971253 0.042911 0.769292 0.967030 0.040947 0.775703 0.962494 0.039039 0.782068 0.957641 0.037185 0.788386 0.952466 0.035387 0.794655 0.946964 0.033643 0.800873 0.941131 0.031953 0.807038 0.934962 0.030316 0.813147 0.928454 0.028732 0.819200 0.921600 0.027200 0.825194 0.914397 0.025720 0.831126 0.906840 0.024291 0.836996 0.898924 0.022912 0.842800 0.890645 0.021583 0.848537 0.881998 0.020304 0.854204 0.872978 0.019073 0.859800 0.863580 0.017890 0.865323 0.853800 0.016754 0.870769 0.843633 0.015665 0.876138 0.833074 0.014621 0.881426 0.822118 0.013623 0.886632 0.810760 0.012668 0.891754 0.798995 0.011758 0.896788 0.786820 0.010890 0.901734 0.774227 0.010063 0.906588 0.761213 0.009278 0.911348 0.747773 0.008533 0.916013 0.733901 0.007828 0.920579 0.719593 0.007161 0.925044 0.704843 0.006531 0.929407 0.689647 0.005939 0.933664 0.673999 0.005382 0.937814 0.657894 0.004859 0.941853 0.641328 0.004371 0.945780 0.624294 0.003916 0.949591 0.606788 0.003492 0.953285 0.588804 0.003099 0.956860 0.570338 0.002737 0.960311 0.551383 0.002402 0.963638 0.531936 0.002096 0.966837 0.511990 0.001816 0.969907 0.491539 0.001562 0.972843 0.470580 0.001332 0.975644 0.449106 0.001126 0.978308 0.427112 0.000942 0.980831 0.404593 0.000778 0.983211 0.381543 0.000635 0.985446 0.357956 0.000510 0.987532 0.333828 0.000402 0.989467 0.309152 0.000311 0.991248 0.283924 0.000234 0.992873 0.258137 0.000171 0.994339 0.231786 0.000121 0.995642 0.204865 0.000081 0.996781 0.177370 0.000051 0.997753 0.149293 0.000030 0.998554 0.120631 0.000015 0.999183 0.091375 0.000006 0.999635 0.061523 0.000002 0.999908 0.031066 0.000000 1.000000 0.000000 0.000000 \" indices=\"0 0 0 0 0 0 0 0 0 0 0 0 0 0 0 0 0 0 \"></metadata>\n",
       "          </indexedFaceSet>\n",
       "        </shape>\n",
       "        <shape>\n",
       "          <appearance>\n",
       "            <material emissiveColor=\"0.000000 0.000000 0.000000\" specularColor=\"0.000000 0.000000 0.000000\" ambientIntensity=\"0\" shininess=\"0.5\" transparency=\"0\"></material>\n",
       "          </appearance>\n",
       "          <indexedLineSet solid=\"false\" colorPerVertex=\"false\" coordIndex=\"0 1 -1 0 3 -1 0 4 -1 0 9 -1 0 10 -1 0 12 -1 1 2 -1 1 4 -1 1 5 -1 1 10 -1 1 11 -1 2 5 -1 2 11 -1 2 14 -1 3 4 -1 3 6 -1 3 7 -1 3 12 -1 3 15 -1 4 5 -1 4 7 -1 4 8 -1 5 8 -1 5 14 -1 5 17 -1 6 7 -1 6 15 -1 6 16 -1 7 8 -1 7 16 -1 7 17 -1 8 17 -1 9 10 -1 9 12 -1 9 13 -1 10 11 -1 10 13 -1 10 14 -1 11 14 -1 12 13 -1 12 15 -1 12 16 -1 13 14 -1 13 16 -1 13 17 -1 14 17 -1 15 16 -1 16 17 -1 \">\n",
       "            <coordinate point=\"0 0 0 5e-09 0 0 1e-08 0 0 0 5e-09 0 5e-09 5e-09 0 1e-08 5e-09 0 0 1e-08 0 5e-09 1e-08 0 1e-08 1e-08 0 0 0 1e-08 5e-09 0 1e-08 1e-08 0 1e-08 0 5e-09 1e-08 5e-09 5e-09 1e-08 1e-08 5e-09 1e-08 0 1e-08 1e-08 5e-09 1e-08 1e-08 1e-08 1e-08 1e-08 \"></coordinate>\n",
       "          </indexedLineSet>\n",
       "        </shape>\n",
       "        <viewpoint id=\"default\" position=\"0.000000 0.000000 0.000000\" orientation=\"-0.7071067812 0.7071067812 0 1\" fieldOfView=\"0.785398\" centerOfRotation=\"0.000000 0.000000 0.000000\" zNear=\"-1\" zFar=\"-1\"></viewpoint>\n",
       "        <viewpoint id=\"top\" position=\"0.000000 0.000000 0.000000\" orientation=\"-1 0 0 1.5707963267948\" fieldOfView=\"0.785398\" centerOfRotation=\"0.000000 0.000000 0.000000\" zNear=\"-1\" zFar=\"-1\"></viewpoint>\n",
       "        <viewpoint id=\"bottom\" position=\"0.000000 -0.000000 0.000000\" orientation=\"1 0 0 1.5707963267948\" fieldOfView=\"0.785398\" centerOfRotation=\"0.000000 0.000000 0.000000\" zNear=\"-1\" zFar=\"-1\"></viewpoint>\n",
       "        <viewpoint id=\"left\" position=\"0.000000 0.000000 0.000000\" orientation=\"0 1 0 1.5707963267948\" fieldOfView=\"0.785398\" centerOfRotation=\"0.000000 0.000000 0.000000\" zNear=\"-1\" zFar=\"-1\"></viewpoint>\n",
       "        <viewpoint id=\"right\" position=\"-0.000000 0.000000 0.000000\" orientation=\"0 -1 0 1.5707963267948\" fieldOfView=\"0.785398\" centerOfRotation=\"0.000000 0.000000 0.000000\" zNear=\"-1\" zFar=\"-1\"></viewpoint>\n",
       "        <viewpoint id=\"back\" position=\"0.000000 0.000000 -0.000000\" orientation=\"0 1 0 3.1415926535898\" fieldOfView=\"0.785398\" centerOfRotation=\"0.000000 0.000000 0.000000\" zNear=\"-1\" zFar=\"-1\"></viewpoint>\n",
       "        <viewpoint id=\"front\" position=\"0.000000 0.000000 0.000000\" orientation=\"0 0 0 1\" fieldOfView=\"0.785398\" centerOfRotation=\"0.000000 0.000000 0.000000\" zNear=\"-1\" zFar=\"-1\"></viewpoint>\n",
       "        <background skyColor=\"0.950000 0.950000 0.950000\"></background>\n",
       "        <directionalLight ambientIntensity=\"0\" intensity=\"1\"></directionalLight>\n",
       "      </scene>\n",
       "    </x3d>\n",
       "    <div id=\"menu\"><form id=\"menu-items\"><input type=\"radio\" id=\"button-options\" name=\"menu\" checked=\"\" />\n",
       "        <label for=\"button-options\">Options</label>\n",
       "        <input type=\"radio\" id=\"button-summary\" name=\"menu\" />\n",
       "        <label for=\"button-summary\" style=\"display: none;\">Summary</label>\n",
       "        <input type=\"radio\" id=\"button-color\" name=\"menu\" />\n",
       "        <label for=\"button-color\" style=\"display: none;\">Color</label>\n",
       "        <input type=\"radio\" id=\"button-warp\" name=\"menu\" />\n",
       "        <label for=\"button-warp\" style=\"display: none;\">Warp</label>\n",
       "        <input type=\"radio\" id=\"button-viewpoints\" name=\"menu\" />\n",
       "        <label for=\"button-viewpoints\" style=\"display: none;\">Viewpoints</label>\n",
       "      </form>\n",
       "      <div id=\"menu-content\"><div id=\"content-options\" for=\"button-options\"><span>Menu Options</span>\n",
       "          <br />\n",
       "          <form class=\"options\"><input type=\"checkbox\" id=\"select-summary\" />\n",
       "            <label for=\"select-summary\">Summary</label>\n",
       "          </form>\n",
       "          <br />\n",
       "          <form class=\"options\"><input type=\"checkbox\" id=\"select-color\" />\n",
       "            <label for=\"select-color\">Color</label>\n",
       "          </form>\n",
       "          <br />\n",
       "          <form class=\"options\"><input type=\"checkbox\" id=\"select-warp\" />\n",
       "            <label for=\"select-warp\">Warp</label>\n",
       "          </form>\n",
       "          <br />\n",
       "          <form class=\"options\"><input type=\"checkbox\" id=\"select-viewpoints\" />\n",
       "            <label for=\"select-viewpoints\">Viewpoints</label>\n",
       "          </form>\n",
       "        </div>\n",
       "        <div id=\"content-summary\" for=\"button-summary\" hidden=\"\">Number of vertices: 18<br />Number of cells: 24</div>\n",
       "        <div id=\"content-color\" for=\"button-color\" hidden=\"\"><form>\n",
       "            <input id=\"color-checkbox\" type=\"checkbox\" checked=\"\" />\n",
       "            <label for=\"color-checkbox\">Show Color</label>\n",
       "          </form>Current Color Map:<br />\n",
       "          <span id=\"min-color-value\"></span>\n",
       "          <span id=\"color-map\"></span>\n",
       "          <span id=\"max-color-value\"></span>\n",
       "        </div>\n",
       "        <div id=\"content-warp\" for=\"button-warp\" hidden=\"\"><form>\n",
       "            <input id=\"warp-checkbox\" type=\"checkbox\" />\n",
       "            <label for=\"warp-checkbox\">Warp By Scalar</label>\n",
       "            <br />\n",
       "            <input id=\"warp-slider\" type=\"range\" min=\"0\" max=\"5\" step=\"0.01\" value=\"1\" disabled=\"\" />\n",
       "            <br />\n",
       "            <label id=\"warp-slider-val\" for=\"warp-slider\">1</label>\n",
       "          </form>\n",
       "        </div>\n",
       "        <div id=\"content-viewpoints\" for=\"button-viewpoints\" hidden=\"\"><span>Viewpoint Options</span>\n",
       "          <br />\n",
       "          <button class=\"viewpoint\">front</button>\n",
       "          <button class=\"viewpoint\">back</button>\n",
       "          <button class=\"viewpoint\">left</button>\n",
       "          <br />\n",
       "          <button class=\"viewpoint\">right</button>\n",
       "          <button class=\"viewpoint\">top</button>\n",
       "          <button class=\"viewpoint\">bottom</button>\n",
       "        </div>\n",
       "      </div>\n",
       "    </div>\n",
       "  </body>\n",
       "</html>\n"
      ],
      "text/plain": [
       "<IPython.core.display.HTML object>"
      ]
     },
     "execution_count": 42,
     "metadata": {},
     "output_type": "execute_result"
    }
   ],
   "source": [
    "# this would be very cool, but doesn't work for Hans. Anybody got this 3d visualisation to work?\n",
    "from IPython.display import HTML\n",
    "HTML(df.X3DOM().html(m))"
   ]
  },
  {
   "cell_type": "markdown",
   "metadata": {},
   "source": [
    "## Old notes on LLG \n",
    "from Marc Antonio and Hans, I think. See git/finmag/sandbox/cross_product"
   ]
  },
  {
   "cell_type": "code",
   "execution_count": 44,
   "metadata": {
    "collapsed": false
   },
   "outputs": [
    {
     "name": "stdout",
     "output_type": "stream",
     "text": [
      "<Mesh of topological dimension 2 (triangles) with 9 vertices and 8 cells, ordered>\n"
     ]
    }
   ],
   "source": [
    "import dolfin as df\n",
    "import time\n",
    "\n",
    "mesh = df.UnitSquareMesh(2, 2)\n",
    "print mesh\n",
    "S1 = df.FunctionSpace(mesh, 'CG', 1)\n",
    "S3 = df.VectorFunctionSpace(mesh, 'CG', 1, 3)\n",
    "u = df.TrialFunction(S3)\n",
    "v = df.TestFunction(S3)\n",
    "m = df.Function(S3)  # magnetisation\n",
    "Heff = df.Function(S3)  # effective field\n",
    "Ms = df.Function(S1)  # saturation magnetisation\n",
    "alpha = df.Function(S1)  # damping\n",
    "gamma = df.Constant(1)  # gyromagnetic ratio\n",
    "\n",
    "m.assign(df.Constant((1, 0, 0)))\n",
    "Heff.assign(df.Constant((0, 0, 1)))\n",
    "alpha.assign(df.Constant(1))\n",
    "Ms.assign(df.Constant(1))\n",
    "\n",
    "# just assembling it\n",
    "LLG = -gamma/(1+alpha*alpha)*df.cross(m, Heff) - alpha*gamma/(1+alpha*alpha)*df.cross(m, df.cross(m, Heff))\n",
    "L = df.dot(LLG, df.TestFunction(S3)) * df.dP"
   ]
  },
  {
   "cell_type": "code",
   "execution_count": 45,
   "metadata": {
    "collapsed": false
   },
   "outputs": [
    {
     "data": {
      "text/plain": [
       "Form([Integral(Dot(Sum(ComponentTensor(Product(IntValue(-1), Indexed(ComponentTensor(Product(Indexed(Cross(Coefficient(FunctionSpace(Mesh(VectorElement(FiniteElement('Lagrange', triangle, 1), dim=2), 128), VectorElement(FiniteElement('Lagrange', triangle, 1), dim=3)), 134), Cross(Coefficient(FunctionSpace(Mesh(VectorElement(FiniteElement('Lagrange', triangle, 1), dim=2), 128), VectorElement(FiniteElement('Lagrange', triangle, 1), dim=3)), 134), Coefficient(FunctionSpace(Mesh(VectorElement(FiniteElement('Lagrange', triangle, 1), dim=2), 128), VectorElement(FiniteElement('Lagrange', triangle, 1), dim=3)), 137))), MultiIndex((Index(38),))), Division(Product(Coefficient(FunctionSpace(Mesh(VectorElement(FiniteElement('Lagrange', triangle, 1), dim=2), 128), FiniteElement('Lagrange', triangle, 1)), 143), Coefficient(FunctionSpace(None, FiniteElement('Real', None, 0)), 146)), Sum(IntValue(1), Product(Coefficient(FunctionSpace(Mesh(VectorElement(FiniteElement('Lagrange', triangle, 1), dim=2), 128), FiniteElement('Lagrange', triangle, 1)), 143), Coefficient(FunctionSpace(Mesh(VectorElement(FiniteElement('Lagrange', triangle, 1), dim=2), 128), FiniteElement('Lagrange', triangle, 1)), 143))))), MultiIndex((Index(38),))), MultiIndex((Index(39),)))), MultiIndex((Index(39),))), ComponentTensor(Product(Indexed(Cross(Coefficient(FunctionSpace(Mesh(VectorElement(FiniteElement('Lagrange', triangle, 1), dim=2), 128), VectorElement(FiniteElement('Lagrange', triangle, 1), dim=3)), 134), Coefficient(FunctionSpace(Mesh(VectorElement(FiniteElement('Lagrange', triangle, 1), dim=2), 128), VectorElement(FiniteElement('Lagrange', triangle, 1), dim=3)), 137)), MultiIndex((Index(37),))), Division(Product(IntValue(-1), Coefficient(FunctionSpace(None, FiniteElement('Real', None, 0)), 146)), Sum(IntValue(1), Product(Coefficient(FunctionSpace(Mesh(VectorElement(FiniteElement('Lagrange', triangle, 1), dim=2), 128), FiniteElement('Lagrange', triangle, 1)), 143), Coefficient(FunctionSpace(Mesh(VectorElement(FiniteElement('Lagrange', triangle, 1), dim=2), 128), FiniteElement('Lagrange', triangle, 1)), 143))))), MultiIndex((Index(37),)))), Argument(FunctionSpace(Mesh(VectorElement(FiniteElement('Lagrange', triangle, 1), dim=2), 128), VectorElement(FiniteElement('Lagrange', triangle, 1), dim=3)), 0, None)), 'vertex', Mesh(VectorElement(FiniteElement('Lagrange', triangle, 1), dim=2), 128), 'everywhere', {}, None)])"
      ]
     },
     "execution_count": 45,
     "metadata": {},
     "output_type": "execute_result"
    }
   ],
   "source": [
    "L"
   ]
  },
  {
   "cell_type": "code",
   "execution_count": 46,
   "metadata": {
    "collapsed": false
   },
   "outputs": [
    {
     "data": {
      "image/png": "[encoded data removed]",
      "text/latex": [
       "$\\left(\\left[A \\quad | \\quad A_{{i_{39}}} = {\\left({-1}\\right) \\left({\\left(\\left[A \\quad | \\quad A_{{i_{38}}} = {\\left({\\left({\\left({w_h^134}\\right)}\\times{\\left({\\left({w_h^134}\\right)}\\times{\\left({w_h^137}\\right)}\\right)}\\right)}_{{i_{38}}}\\right) \\left(\\frac{\\left({w_h^143}\\right) \\left({w_h^146}\\right)}{\\left({1}\\right) + \\left(\\left({w_h^143}\\right) \\left({w_h^143}\\right)\\right)}\\right)} \\quad \\forall {{i_{38}}} \\right]\\right)}_{{i_{39}}}\\right)} \\quad \\forall {{i_{39}}} \\right]\\right) + \\left(\\left[A \\quad | \\quad A_{{i_{37}}} = {\\left({\\left({\\left({w_h^134}\\right)}\\times{\\left({w_h^137}\\right)}\\right)}_{{i_{37}}}\\right) \\left(\\frac{\\left({-1}\\right) \\left({w_h^146}\\right)}{\\left({1}\\right) + \\left(\\left({w_h^143}\\right) \\left({w_h^143}\\right)\\right)}\\right)} \\quad \\forall {{i_{37}}} \\right]\\right)$"
      ],
      "text/plain": [
       "Sum(ComponentTensor(Product(IntValue(-1), Indexed(ComponentTensor(Product(Indexed(Cross(Coefficient(FunctionSpace(Mesh(VectorElement(FiniteElement('Lagrange', triangle, 1), dim=2), 128), VectorElement(FiniteElement('Lagrange', triangle, 1), dim=3)), 134), Cross(Coefficient(FunctionSpace(Mesh(VectorElement(FiniteElement('Lagrange', triangle, 1), dim=2), 128), VectorElement(FiniteElement('Lagrange', triangle, 1), dim=3)), 134), Coefficient(FunctionSpace(Mesh(VectorElement(FiniteElement('Lagrange', triangle, 1), dim=2), 128), VectorElement(FiniteElement('Lagrange', triangle, 1), dim=3)), 137))), MultiIndex((Index(38),))), Division(Product(Coefficient(FunctionSpace(Mesh(VectorElement(FiniteElement('Lagrange', triangle, 1), dim=2), 128), FiniteElement('Lagrange', triangle, 1)), 143), Coefficient(FunctionSpace(None, FiniteElement('Real', None, 0)), 146)), Sum(IntValue(1), Product(Coefficient(FunctionSpace(Mesh(VectorElement(FiniteElement('Lagrange', triangle, 1), dim=2), 128), FiniteElement('Lagrange', triangle, 1)), 143), Coefficient(FunctionSpace(Mesh(VectorElement(FiniteElement('Lagrange', triangle, 1), dim=2), 128), FiniteElement('Lagrange', triangle, 1)), 143))))), MultiIndex((Index(38),))), MultiIndex((Index(39),)))), MultiIndex((Index(39),))), ComponentTensor(Product(Indexed(Cross(Coefficient(FunctionSpace(Mesh(VectorElement(FiniteElement('Lagrange', triangle, 1), dim=2), 128), VectorElement(FiniteElement('Lagrange', triangle, 1), dim=3)), 134), Coefficient(FunctionSpace(Mesh(VectorElement(FiniteElement('Lagrange', triangle, 1), dim=2), 128), VectorElement(FiniteElement('Lagrange', triangle, 1), dim=3)), 137)), MultiIndex((Index(37),))), Division(Product(IntValue(-1), Coefficient(FunctionSpace(None, FiniteElement('Real', None, 0)), 146)), Sum(IntValue(1), Product(Coefficient(FunctionSpace(Mesh(VectorElement(FiniteElement('Lagrange', triangle, 1), dim=2), 128), FiniteElement('Lagrange', triangle, 1)), 143), Coefficient(FunctionSpace(Mesh(VectorElement(FiniteElement('Lagrange', triangle, 1), dim=2), 128), FiniteElement('Lagrange', triangle, 1)), 143))))), MultiIndex((Index(37),))))"
      ]
     },
     "execution_count": 46,
     "metadata": {},
     "output_type": "execute_result"
    }
   ],
   "source": [
    "LLG"
   ]
  },
  {
   "cell_type": "code",
   "execution_count": 48,
   "metadata": {
    "collapsed": false
   },
   "outputs": [],
   "source": [
    "tmp = df.assemble(L)"
   ]
  },
  {
   "cell_type": "code",
   "execution_count": 50,
   "metadata": {
    "collapsed": false
   },
   "outputs": [
    {
     "data": {
      "text/plain": [
       "array([ 0. ,  0.5,  0.5,  0. ,  0.5,  0.5,  0. ,  0.5,  0.5,  0. ,  0.5,\n",
       "        0.5,  0. ,  0.5,  0.5,  0. ,  0.5,  0.5,  0. ,  0.5,  0.5,  0. ,\n",
       "        0.5,  0.5,  0. ,  0.5,  0.5])"
      ]
     },
     "execution_count": 50,
     "metadata": {},
     "output_type": "execute_result"
    }
   ],
   "source": [
    "tmp.array()"
   ]
  },
  {
   "cell_type": "code",
   "execution_count": 43,
   "metadata": {
    "collapsed": false
   },
   "outputs": [
    {
     "ename": "NameError",
     "evalue": "name 'S3' is not defined",
     "output_type": "error",
     "traceback": [
      "\u001b[0;31m\u001b[0m",
      "\u001b[0;31mNameError\u001b[0mTraceback (most recent call last)",
      "\u001b[0;32m<ipython-input-43-4b8f719488ab>\u001b[0m in \u001b[0;36m<module>\u001b[0;34m()\u001b[0m\n\u001b[0;32m----> 1\u001b[0;31m \u001b[0mdmdt\u001b[0m \u001b[0;34m=\u001b[0m \u001b[0mdf\u001b[0m\u001b[0;34m.\u001b[0m\u001b[0mFunction\u001b[0m\u001b[0;34m(\u001b[0m\u001b[0mS3\u001b[0m\u001b[0;34m)\u001b[0m\u001b[0;34m\u001b[0m\u001b[0m\n\u001b[0m\u001b[1;32m      2\u001b[0m \u001b[0mstart\u001b[0m \u001b[0;34m=\u001b[0m \u001b[0mtime\u001b[0m\u001b[0;34m.\u001b[0m\u001b[0mtime\u001b[0m\u001b[0;34m(\u001b[0m\u001b[0;34m)\u001b[0m\u001b[0;34m\u001b[0m\u001b[0m\n\u001b[1;32m      3\u001b[0m \u001b[0;32mfor\u001b[0m \u001b[0mi\u001b[0m \u001b[0;32min\u001b[0m \u001b[0mxrange\u001b[0m\u001b[0;34m(\u001b[0m\u001b[0;36m1000\u001b[0m\u001b[0;34m)\u001b[0m\u001b[0;34m:\u001b[0m\u001b[0;34m\u001b[0m\u001b[0m\n\u001b[1;32m      4\u001b[0m     \u001b[0mdf\u001b[0m\u001b[0;34m.\u001b[0m\u001b[0massemble\u001b[0m\u001b[0;34m(\u001b[0m\u001b[0mL\u001b[0m\u001b[0;34m,\u001b[0m \u001b[0mtensor\u001b[0m\u001b[0;34m=\u001b[0m\u001b[0mdmdt\u001b[0m\u001b[0;34m.\u001b[0m\u001b[0mvector\u001b[0m\u001b[0;34m(\u001b[0m\u001b[0;34m)\u001b[0m\u001b[0;34m)\u001b[0m\u001b[0;34m\u001b[0m\u001b[0m\n\u001b[1;32m      5\u001b[0m \u001b[0mstop\u001b[0m \u001b[0;34m=\u001b[0m \u001b[0mtime\u001b[0m\u001b[0;34m.\u001b[0m\u001b[0mtime\u001b[0m\u001b[0;34m(\u001b[0m\u001b[0;34m)\u001b[0m\u001b[0;34m\u001b[0m\u001b[0m\n",
      "\u001b[0;31mNameError\u001b[0m: name 'S3' is not defined"
     ]
    }
   ],
   "source": [
    "dmdt = df.Function(S3)\n",
    "start = time.time()\n",
    "for i in xrange(1000):\n",
    "    df.assemble(L, tensor=dmdt.vector())\n",
    "stop = time.time()\n",
    "print \"delta = \", stop - start\n",
    "print dmdt.vector().array()"
   ]
  },
  {
   "cell_type": "code",
   "execution_count": 9,
   "metadata": {
    "collapsed": false
   },
   "outputs": [
    {
     "name": "stdout",
     "output_type": "stream",
     "text": [
      "<Mesh of topological dimension 2 (triangles) with 9 vertices and 8 cells, ordered>\n",
      "delta =  0.738322019577\n",
      "[ 0.   0.5  0.5  0.   0.5  0.5  0.   0.5  0.5  0.   0.5  0.5  0.   0.5  0.5\n",
      "  0.   0.5  0.5  0.   0.5  0.5  0.   0.5  0.5  0.   0.5  0.5]\n",
      "delta =  0.0020580291748\n",
      "[ 0.   0.5  0.5  0.   0.5  0.5  0.   0.5  0.5  0.   0.5  0.5  0.   0.5  0.5\n",
      "  0.   0.5  0.5  0.   0.5  0.5  0.   0.5  0.5  0.   0.5  0.5]\n"
     ]
    }
   ],
   "source": [
    "# more linear algebra, same problem... still need to assemble the cross product\n",
    "# we're doing even more work than before\n",
    "a = df.dot(u, v) * df.dP\n",
    "A = df.assemble(a)\n",
    "b = df.Function(S3)\n",
    "\n",
    "dmdt = df.Function(S3)\n",
    "start = time.time()\n",
    "for i in xrange(2):\n",
    "    df.assemble(L, tensor=b.vector())  # this is what should go out of the loop\n",
    "    df.solve(A, dmdt.vector(), b.vector())  # some variation of this could stay in\n",
    "stop = time.time()\n",
    "print \"delta = \", stop - start\n",
    "print dmdt.vector().array()"
   ]
  },
  {
   "cell_type": "code",
   "execution_count": 10,
   "metadata": {
    "collapsed": false
   },
   "outputs": [
    {
     "data": {
      "image/png": "[encoded data removed]",
      "text/latex": [
       "${w_h^2162}$"
      ],
      "text/plain": [
       "Coefficient(FunctionSpace(Mesh(VectorElement(FiniteElement('Lagrange', triangle, 1), dim=2), 2156), VectorElement(FiniteElement('Lagrange', triangle, 1), dim=3)), 2162)"
      ]
     },
     "execution_count": 10,
     "metadata": {},
     "output_type": "execute_result"
    }
   ],
   "source": [
    "m"
   ]
  },
  {
   "cell_type": "code",
   "execution_count": 11,
   "metadata": {
    "collapsed": false
   },
   "outputs": [
    {
     "data": {
      "image/png": "[encoded data removed]",
      "text/latex": [
       "${w_h^2165}$"
      ],
      "text/plain": [
       "Coefficient(FunctionSpace(Mesh(VectorElement(FiniteElement('Lagrange', triangle, 1), dim=2), 2156), VectorElement(FiniteElement('Lagrange', triangle, 1), dim=3)), 2165)"
      ]
     },
     "execution_count": 11,
     "metadata": {},
     "output_type": "execute_result"
    }
   ],
   "source": [
    "Heff"
   ]
  },
  {
   "cell_type": "code",
   "execution_count": 12,
   "metadata": {
    "collapsed": false
   },
   "outputs": [
    {
     "data": {
      "text/plain": [
       "dolfin.functions.function.Function"
      ]
     },
     "execution_count": 12,
     "metadata": {},
     "output_type": "execute_result"
    }
   ],
   "source": [
    "type(m)"
   ]
  },
  {
   "cell_type": "code",
   "execution_count": 13,
   "metadata": {
    "collapsed": false
   },
   "outputs": [
    {
     "data": {
      "text/plain": [
       "dolfin.functions.function.Function"
      ]
     },
     "execution_count": 13,
     "metadata": {},
     "output_type": "execute_result"
    }
   ],
   "source": [
    "type(Heff)"
   ]
  },
  {
   "cell_type": "code",
   "execution_count": null,
   "metadata": {
    "collapsed": true
   },
   "outputs": [],
   "source": []
  }
 ],
 "metadata": {
  "kernelspec": {
   "display_name": "Python 2",
   "language": "python",
   "name": "python2"
  },
  "language_info": {
   "codemirror_mode": {
    "name": "ipython",
    "version": 2
   },
   "file_extension": ".py",
   "mimetype": "text/x-python",
   "name": "python",
   "nbconvert_exporter": "python",
   "pygments_lexer": "ipython2",
   "version": "2.7.12"
  }
 },
 "nbformat": 4,
 "nbformat_minor": 2
}
