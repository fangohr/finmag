{
 "metadata": {
  "name": "",
  "signature": "sha256:0650eae69aa5f079f975c04d5404240d480522246779416b8303041aaf3a71fe"
 },
 "nbformat": 3,
 "nbformat_minor": 0,
 "worksheets": [
  {
   "cells": [
    {
     "cell_type": "heading",
     "level": 1,
     "metadata": {},
     "source": [
      "oommf Slonczewski code"
     ]
    },
    {
     "cell_type": "heading",
     "level": 2,
     "metadata": {},
     "source": [
      "betaeps and betaepsp"
     ]
    },
    {
     "cell_type": "code",
     "collapsed": false,
     "input": [
      "import sympy\n",
      "sympy.init_printing(use_latex=True)"
     ],
     "language": "python",
     "metadata": {},
     "outputs": [],
     "prompt_number": 113
    },
    {
     "cell_type": "code",
     "collapsed": false,
     "input": [
      "alpha, gamma, Lambda, P, beta, m, p, J, Ms, eps, epsp = sympy.symbols(\"alpha, gamma, Lambda P beta m p J Ms epsilon \\epsilon'\")"
     ],
     "language": "python",
     "metadata": {},
     "outputs": [],
     "prompt_number": 114
    },
    {
     "cell_type": "code",
     "collapsed": false,
     "input": [
      "Lambda_fixed_init = Lambda  # Lambda\n",
      "Lambda_free_init = Lambda_fixed_init  # Lambda"
     ],
     "language": "python",
     "metadata": {},
     "outputs": [],
     "prompt_number": 115
    },
    {
     "cell_type": "code",
     "collapsed": false,
     "input": [
      "P_fixed_init = P  # P\n",
      "P_free_init = P_fixed_init  # P"
     ],
     "language": "python",
     "metadata": {},
     "outputs": [],
     "prompt_number": 116
    },
    {
     "cell_type": "code",
     "collapsed": false,
     "input": [
      "beta_q_plus = Lambda_fixed_init  # Lambda\n",
      "beta_q_minus = Lambda_free_init  # Lambda"
     ],
     "language": "python",
     "metadata": {},
     "outputs": [],
     "prompt_number": 117
    },
    {
     "cell_type": "code",
     "collapsed": false,
     "input": [
      "fixed_temp = beta_q_plus  # Lambda\n",
      "free_temp = beta_q_minus  # Lambda"
     ],
     "language": "python",
     "metadata": {},
     "outputs": [],
     "prompt_number": 118
    },
    {
     "cell_type": "code",
     "collapsed": false,
     "input": [
      "fixed_temp = fixed_temp * fixed_temp  # Lambda^2\n",
      "free_temp = free_temp * free_temp  # Lambda^2"
     ],
     "language": "python",
     "metadata": {},
     "outputs": [],
     "prompt_number": 119
    },
    {
     "cell_type": "code",
     "collapsed": false,
     "input": [
      "fixed_factor_plus = sympy.sqrt(fixed_temp + 1.0)  # sqrt(Lambda^2 + 1)\n",
      "free_factor_plus = sympy.sqrt(free_temp + 1.0)  # sqrt(Lambda^2 + 1)\n",
      "plus_ratio = free_factor_plus / fixed_factor_plus  # 1\n",
      "print \"plus_ratio = {}\".format(plus_ratio)"
     ],
     "language": "python",
     "metadata": {},
     "outputs": [
      {
       "output_type": "stream",
       "stream": "stdout",
       "text": [
        "plus_ratio = 1\n"
       ]
      }
     ],
     "prompt_number": 120
    },
    {
     "cell_type": "code",
     "collapsed": false,
     "input": [
      "fixed_factor_minus = sympy.sqrt(fixed_temp - 1.0)  # sqrt(Lambda^2 - 1)\n",
      "free_factor_minus = sympy.sqrt(free_temp - 1.0)  # sqrt(Lambda^2 - 1)\n",
      "minus_ratio = fixed_factor_minus / free_factor_minus  # 1\n",
      "print \"minus_ratio = {}\".format(minus_ratio)"
     ],
     "language": "python",
     "metadata": {},
     "outputs": [
      {
       "output_type": "stream",
       "stream": "stdout",
       "text": [
        "minus_ratio = 1\n"
       ]
      }
     ],
     "prompt_number": 121
    },
    {
     "cell_type": "code",
     "collapsed": false,
     "input": [
      "B = fixed_factor_minus * free_factor_minus  # Lambda^2 - 1\n",
      "A = fixed_factor_plus * free_factor_plus  # Lambda^2 + 1\n",
      "A, B"
     ],
     "language": "python",
     "metadata": {},
     "outputs": [
      {
       "latex": [
        "$$\\begin{pmatrix}\\Lambda^{2} + 1.0, & \\Lambda^{2} - 1.0\\end{pmatrix}$$"
       ],
       "metadata": {},
       "output_type": "pyout",
       "png": "[encoded data removed]",
       "prompt_number": 122,
       "text": [
        "\u239b 2         2      \u239e\n",
        "\u239d\u039b  + 1.0, \u039b  - 1.0\u23a0"
       ]
      }
     ],
     "prompt_number": 122
    },
    {
     "cell_type": "code",
     "collapsed": false,
     "input": [
      "beta_q_plus = beta * 0.5 * fixed_temp * plus_ratio  # Lambda^2 * beta / 2\n",
      "beta_q_minus = beta * 0.5 * free_temp * minus_ratio  # Lambda^2 * beta / 2\n",
      "beta_q_plus, beta_q_minus"
     ],
     "language": "python",
     "metadata": {},
     "outputs": [
      {
       "latex": [
        "$$\\begin{pmatrix}0.5 \\Lambda^{2} \\beta, & 0.5 \\Lambda^{2} \\beta\\end{pmatrix}$$"
       ],
       "metadata": {},
       "output_type": "pyout",
       "png": "[encoded data removed]",
       "prompt_number": 123,
       "text": [
        "\u239b     2         2  \u239e\n",
        "\u239d0.5\u22c5\u039b \u22c5\u03b2, 0.5\u22c5\u039b \u22c5\u03b2\u23a0"
       ]
      }
     ],
     "prompt_number": 123
    },
    {
     "cell_type": "code",
     "collapsed": false,
     "input": [
      "beta_q_plus = beta_q_plus * P_fixed_init  # P * Lambda^2 * beta / 2\n",
      "beta_q_minus = beta_q_minus * P_free_init  # P * Lambda^2 * beta / 2\n",
      "beta_q_plus, beta_q_minus"
     ],
     "language": "python",
     "metadata": {},
     "outputs": [
      {
       "latex": [
        "$$\\begin{pmatrix}0.5 \\Lambda^{2} P \\beta, & 0.5 \\Lambda^{2} P \\beta\\end{pmatrix}$$"
       ],
       "metadata": {},
       "output_type": "pyout",
       "png": "[encoded data removed]",
       "prompt_number": 124,
       "text": [
        "\u239b     2           2    \u239e\n",
        "\u239d0.5\u22c5\u039b \u22c5P\u22c5\u03b2, 0.5\u22c5\u039b \u22c5P\u22c5\u03b2\u23a0"
       ]
      }
     ],
     "prompt_number": 124
    },
    {
     "cell_type": "code",
     "collapsed": false,
     "input": [
      "fixed_temp = beta_q_plus  # P * Lambda^2 * beta / 2\n",
      "free_temp = beta_q_minus  # P * Lambda^2 * beta / 2\n",
      "\n",
      "beta_q_plus = fixed_temp + free_temp  # P * Lambda^2 * beta\n",
      "beta_q_minus = fixed_temp - free_temp  # 0 ... this simplies things!!!\n",
      "beta_q_plus, beta_q_minus"
     ],
     "language": "python",
     "metadata": {},
     "outputs": [
      {
       "latex": [
        "$$\\begin{pmatrix}1.0 \\Lambda^{2} P \\beta, & 0\\end{pmatrix}$$"
       ],
       "metadata": {},
       "output_type": "pyout",
       "png": "[encoded data removed]",
       "prompt_number": 125,
       "text": [
        "\u239b     2       \u239e\n",
        "\u239d1.0\u22c5\u039b \u22c5P\u22c5\u03b2, 0\u23a0"
       ]
      }
     ],
     "prompt_number": 125
    },
    {
     "cell_type": "code",
     "collapsed": false,
     "input": [
      "Bdot = B\n",
      "Bdot = Bdot * m * p\n",
      "Bdot"
     ],
     "language": "python",
     "metadata": {},
     "outputs": [
      {
       "latex": [
        "$$m p \\left(\\Lambda^{2} - 1.0\\right)$$"
       ],
       "metadata": {},
       "output_type": "pyout",
       "png": "[encoded data removed]",
       "prompt_number": 126,
       "text": [
        "    \u239b 2      \u239e\n",
        "m\u22c5p\u22c5\u239d\u039b  - 1.0\u23a0"
       ]
      }
     ],
     "prompt_number": 126
    },
    {
     "cell_type": "code",
     "collapsed": false,
     "input": [
      "Aplus = A + Bdot  # (Lambda^2 + 1) + (Lambda^2 - 1)(m * p)\n",
      "Aminus = A - Bdot  # (Lambda^2 + 1) - (Lambda^2 - 1)(m * p)\n",
      "Aplus, Aminus"
     ],
     "language": "python",
     "metadata": {},
     "outputs": [
      {
       "latex": [
        "$$\\begin{pmatrix}\\Lambda^{2} + m p \\left(\\Lambda^{2} - 1.0\\right) + 1.0, & \\Lambda^{2} - m p \\left(\\Lambda^{2} - 1.0\\right) + 1.0\\end{pmatrix}$$"
       ],
       "metadata": {},
       "output_type": "pyout",
       "png": "[encoded data removed]",
       "prompt_number": 127,
       "text": [
        "\u239b 2       \u239b 2      \u239e         2       \u239b 2      \u239e      \u239e\n",
        "\u239d\u039b  + m\u22c5p\u22c5\u239d\u039b  - 1.0\u23a0 + 1.0, \u039b  - m\u22c5p\u22c5\u239d\u039b  - 1.0\u23a0 + 1.0\u23a0"
       ]
      }
     ],
     "prompt_number": 127
    },
    {
     "cell_type": "code",
     "collapsed": false,
     "input": [
      "betaeps = beta_q_plus/Aplus + beta_q_minus/Aminus\n",
      "betaeps"
     ],
     "language": "python",
     "metadata": {},
     "outputs": [
      {
       "latex": [
        "$$\\frac{1.0 \\Lambda^{2} P \\beta}{\\Lambda^{2} + m p \\left(\\Lambda^{2} - 1.0\\right) + 1.0}$$"
       ],
       "metadata": {},
       "output_type": "pyout",
       "png": "[encoded data removed]",
       "prompt_number": 128,
       "text": [
        "             2           \n",
        "        1.0\u22c5\u039b \u22c5P\u22c5\u03b2       \n",
        "\u2500\u2500\u2500\u2500\u2500\u2500\u2500\u2500\u2500\u2500\u2500\u2500\u2500\u2500\u2500\u2500\u2500\u2500\u2500\u2500\u2500\u2500\u2500\u2500\u2500\n",
        " 2       \u239b 2      \u239e      \n",
        "\u039b  + m\u22c5p\u22c5\u239d\u039b  - 1.0\u23a0 + 1.0"
       ]
      }
     ],
     "prompt_number": 128
    },
    {
     "cell_type": "code",
     "collapsed": false,
     "input": [
      "betaepsp = beta * epsp\n",
      "betaepsp"
     ],
     "language": "python",
     "metadata": {},
     "outputs": [
      {
       "latex": [
        "$$\\epsilon' \\beta$$"
       ],
       "metadata": {},
       "output_type": "pyout",
       "png": "[encoded data removed]",
       "prompt_number": 129,
       "text": [
        "\\epsilon'\u22c5\u03b2"
       ]
      }
     ],
     "prompt_number": 129
    },
    {
     "cell_type": "code",
     "collapsed": false,
     "input": [
      "betaeps = betaeps\n",
      "betaepsp = betaepsp\n",
      "betaeps, betaepsp"
     ],
     "language": "python",
     "metadata": {},
     "outputs": [
      {
       "latex": [
        "$$\\begin{pmatrix}\\frac{1.0 \\Lambda^{2} P \\beta}{\\Lambda^{2} + m p \\left(\\Lambda^{2} - 1.0\\right) + 1.0}, & \\epsilon' \\beta\\end{pmatrix}$$"
       ],
       "metadata": {},
       "output_type": "pyout",
       "png": "[encoded data removed]",
       "prompt_number": 130,
       "text": [
        "\u239b             2                        \u239e\n",
        "\u239c        1.0\u22c5\u039b \u22c5P\u22c5\u03b2                    \u239f\n",
        "\u239c\u2500\u2500\u2500\u2500\u2500\u2500\u2500\u2500\u2500\u2500\u2500\u2500\u2500\u2500\u2500\u2500\u2500\u2500\u2500\u2500\u2500\u2500\u2500\u2500\u2500, \\epsilon'\u22c5\u03b2\u239f\n",
        "\u239c 2       \u239b 2      \u239e                   \u239f\n",
        "\u239d\u039b  + m\u22c5p\u22c5\u239d\u039b  - 1.0\u23a0 + 1.0             \u23a0"
       ]
      }
     ],
     "prompt_number": 130
    },
    {
     "cell_type": "heading",
     "level": 2,
     "metadata": {},
     "source": [
      "LLG + Slonczewski"
     ]
    },
    {
     "cell_type": "code",
     "collapsed": false,
     "input": [
      "coef1 = alpha * betaeps - betaepsp\n",
      "coef1"
     ],
     "language": "python",
     "metadata": {},
     "outputs": [
      {
       "latex": [
        "$$\\frac{1.0 \\Lambda^{2} P \\alpha \\beta}{\\Lambda^{2} + m p \\left(\\Lambda^{2} - 1.0\\right) + 1.0} - \\epsilon' \\beta$$"
       ],
       "metadata": {},
       "output_type": "pyout",
       "png": "[encoded data removed]",
       "prompt_number": 131,
       "text": [
        "            2                          \n",
        "       1.0\u22c5\u039b \u22c5P\u22c5\u03b1\u22c5\u03b2                    \n",
        "\u2500\u2500\u2500\u2500\u2500\u2500\u2500\u2500\u2500\u2500\u2500\u2500\u2500\u2500\u2500\u2500\u2500\u2500\u2500\u2500\u2500\u2500\u2500\u2500\u2500 - \\epsilon'\u22c5\u03b2\n",
        " 2       \u239b 2      \u239e                    \n",
        "\u039b  + m\u22c5p\u22c5\u239d\u039b  - 1.0\u23a0 + 1.0              "
       ]
      }
     ],
     "prompt_number": 131
    },
    {
     "cell_type": "code",
     "collapsed": false,
     "input": [
      "coef2 = alpha * betaepsp + betaeps\n",
      "coef2"
     ],
     "language": "python",
     "metadata": {},
     "outputs": [
      {
       "latex": [
        "$$\\frac{1.0 \\Lambda^{2} P \\beta}{\\Lambda^{2} + m p \\left(\\Lambda^{2} - 1.0\\right) + 1.0} + \\epsilon' \\alpha \\beta$$"
       ],
       "metadata": {},
       "output_type": "pyout",
       "png": "[encoded data removed]",
       "prompt_number": 132,
       "text": [
        "             2                           \n",
        "        1.0\u22c5\u039b \u22c5P\u22c5\u03b2                       \n",
        "\u2500\u2500\u2500\u2500\u2500\u2500\u2500\u2500\u2500\u2500\u2500\u2500\u2500\u2500\u2500\u2500\u2500\u2500\u2500\u2500\u2500\u2500\u2500\u2500\u2500 + \\epsilon'\u22c5\u03b1\u22c5\u03b2\n",
        " 2       \u239b 2      \u239e                      \n",
        "\u039b  + m\u22c5p\u22c5\u239d\u039b  - 1.0\u23a0 + 1.0                "
       ]
      }
     ],
     "prompt_number": 132
    },
    {
     "cell_type": "code",
     "collapsed": false,
     "input": [
      "mxH = sympy.symbols(\"(m\\\\times{}H)\")\n",
      "scratchA = mxH\n",
      "scratchA = alpha * mxH\n",
      "scratchA"
     ],
     "language": "python",
     "metadata": {},
     "outputs": [
      {
       "latex": [
        "$$(m\\times{}H) \\alpha$$"
       ],
       "metadata": {},
       "output_type": "pyout",
       "png": "[encoded data removed]",
       "prompt_number": 133,
       "text": [
        "(m\\times{}H)\u22c5\u03b1"
       ]
      }
     ],
     "prompt_number": 133
    },
    {
     "cell_type": "code",
     "collapsed": false,
     "input": [
      "mxp = sympy.symbols(\"(m\\\\times{}p)\")\n",
      "scratchB = mxp * coef2\n",
      "scratchA = scratchA + scratchB\n",
      "scratchA"
     ],
     "language": "python",
     "metadata": {},
     "outputs": [
      {
       "latex": [
        "$$(m\\times{}H) \\alpha + (m\\times{}p) \\left(\\frac{1.0 \\Lambda^{2} P \\beta}{\\Lambda^{2} + m p \\left(\\Lambda^{2} - 1.0\\right) + 1.0} + \\epsilon' \\alpha \\beta\\right)$$"
       ],
       "metadata": {},
       "output_type": "pyout",
       "png": "[encoded data removed]",
       "prompt_number": 134,
       "text": [
        "                              \u239b             2                           \u239e\n",
        "                              \u239c        1.0\u22c5\u039b \u22c5P\u22c5\u03b2                       \u239f\n",
        "(m\\times{}H)\u22c5\u03b1 + (m\\times{}p)\u22c5\u239c\u2500\u2500\u2500\u2500\u2500\u2500\u2500\u2500\u2500\u2500\u2500\u2500\u2500\u2500\u2500\u2500\u2500\u2500\u2500\u2500\u2500\u2500\u2500\u2500\u2500 + \\epsilon'\u22c5\u03b1\u22c5\u03b2\u239f\n",
        "                              \u239c 2       \u239b 2      \u239e                      \u239f\n",
        "                              \u239d\u039b  + m\u22c5p\u22c5\u239d\u039b  - 1.0\u23a0 + 1.0                \u23a0"
       ]
      }
     ],
     "prompt_number": 134
    },
    {
     "cell_type": "markdown",
     "metadata": {},
     "source": [
      "Things get messy because of cross products, which I will not represent correctly."
     ]
    },
    {
     "cell_type": "code",
     "collapsed": false,
     "input": [
      "scratchA = scratchA * m\n",
      "scratchA"
     ],
     "language": "python",
     "metadata": {},
     "outputs": [
      {
       "latex": [
        "$$m \\left((m\\times{}H) \\alpha + (m\\times{}p) \\left(\\frac{1.0 \\Lambda^{2} P \\beta}{\\Lambda^{2} + m p \\left(\\Lambda^{2} - 1.0\\right) + 1.0} + \\epsilon' \\alpha \\beta\\right)\\right)$$"
       ],
       "metadata": {},
       "output_type": "pyout",
       "png": "[encoded data removed]",
       "prompt_number": 135,
       "text": [
        "  \u239b                              \u239b             2                           \u239e\u239e\n",
        "  \u239c                              \u239c        1.0\u22c5\u039b \u22c5P\u22c5\u03b2                       \u239f\u239f\n",
        "m\u22c5\u239c(m\\times{}H)\u22c5\u03b1 + (m\\times{}p)\u22c5\u239c\u2500\u2500\u2500\u2500\u2500\u2500\u2500\u2500\u2500\u2500\u2500\u2500\u2500\u2500\u2500\u2500\u2500\u2500\u2500\u2500\u2500\u2500\u2500\u2500\u2500 + \\epsilon'\u22c5\u03b1\u22c5\u03b2\u239f\u239f\n",
        "  \u239c                              \u239c 2       \u239b 2      \u239e                      \u239f\u239f\n",
        "  \u239d                              \u239d\u039b  + m\u22c5p\u22c5\u239d\u039b  - 1.0\u23a0 + 1.0                \u23a0\u23a0"
       ]
      }
     ],
     "prompt_number": 135
    },
    {
     "cell_type": "code",
     "collapsed": false,
     "input": [
      "mxp = mxp * coef1\n",
      "mxp"
     ],
     "language": "python",
     "metadata": {},
     "outputs": [
      {
       "latex": [
        "$$(m\\times{}p) \\left(\\frac{1.0 \\Lambda^{2} P \\alpha \\beta}{\\Lambda^{2} + m p \\left(\\Lambda^{2} - 1.0\\right) + 1.0} - \\epsilon' \\beta\\right)$$"
       ],
       "metadata": {},
       "output_type": "pyout",
       "png": "[encoded data removed]",
       "prompt_number": 136,
       "text": [
        "             \u239b            2                          \u239e\n",
        "             \u239c       1.0\u22c5\u039b \u22c5P\u22c5\u03b1\u22c5\u03b2                    \u239f\n",
        "(m\\times{}p)\u22c5\u239c\u2500\u2500\u2500\u2500\u2500\u2500\u2500\u2500\u2500\u2500\u2500\u2500\u2500\u2500\u2500\u2500\u2500\u2500\u2500\u2500\u2500\u2500\u2500\u2500\u2500 - \\epsilon'\u22c5\u03b2\u239f\n",
        "             \u239c 2       \u239b 2      \u239e                    \u239f\n",
        "             \u239d\u039b  + m\u22c5p\u22c5\u239d\u039b  - 1.0\u23a0 + 1.0              \u23a0"
       ]
      }
     ],
     "prompt_number": 136
    },
    {
     "cell_type": "code",
     "collapsed": false,
     "input": [
      "scratchA = scratchA + mxp\n",
      "scratchA"
     ],
     "language": "python",
     "metadata": {},
     "outputs": [
      {
       "latex": [
        "$$(m\\times{}p) \\left(\\frac{1.0 \\Lambda^{2} P \\alpha \\beta}{\\Lambda^{2} + m p \\left(\\Lambda^{2} - 1.0\\right) + 1.0} - \\epsilon' \\beta\\right) + m \\left((m\\times{}H) \\alpha + (m\\times{}p) \\left(\\frac{1.0 \\Lambda^{2} P \\beta}{\\Lambda^{2} + m p \\left(\\Lambda^{2} - 1.0\\right) + 1.0} + \\epsilon' \\alpha \\beta\\right)\\right)$$"
       ],
       "metadata": {},
       "output_type": "pyout",
       "png": "[encoded data removed]",
       "prompt_number": 137,
       "text": [
        "             \u239b            2                          \u239e     \u239b                  \n",
        "             \u239c       1.0\u22c5\u039b \u22c5P\u22c5\u03b1\u22c5\u03b2                    \u239f     \u239c                  \n",
        "(m\\times{}p)\u22c5\u239c\u2500\u2500\u2500\u2500\u2500\u2500\u2500\u2500\u2500\u2500\u2500\u2500\u2500\u2500\u2500\u2500\u2500\u2500\u2500\u2500\u2500\u2500\u2500\u2500\u2500 - \\epsilon'\u22c5\u03b2\u239f + m\u22c5\u239c(m\\times{}H)\u22c5\u03b1 + (\n",
        "             \u239c 2       \u239b 2      \u239e                    \u239f     \u239c                  \n",
        "             \u239d\u039b  + m\u22c5p\u22c5\u239d\u039b  - 1.0\u23a0 + 1.0              \u23a0     \u239d                  \n",
        "\n",
        "            \u239b             2                           \u239e\u239e\n",
        "            \u239c        1.0\u22c5\u039b \u22c5P\u22c5\u03b2                       \u239f\u239f\n",
        "m\\times{}p)\u22c5\u239c\u2500\u2500\u2500\u2500\u2500\u2500\u2500\u2500\u2500\u2500\u2500\u2500\u2500\u2500\u2500\u2500\u2500\u2500\u2500\u2500\u2500\u2500\u2500\u2500\u2500 + \\epsilon'\u22c5\u03b1\u22c5\u03b2\u239f\u239f\n",
        "            \u239c 2       \u239b 2      \u239e                      \u239f\u239f\n",
        "            \u239d\u039b  + m\u22c5p\u22c5\u239d\u039b  - 1.0\u23a0 + 1.0                \u23a0\u23a0"
       ]
      }
     ],
     "prompt_number": 137
    },
    {
     "cell_type": "code",
     "collapsed": false,
     "input": [
      "scratchA = scratchA - mxH\n",
      "scratchA"
     ],
     "language": "python",
     "metadata": {},
     "outputs": [
      {
       "latex": [
        "$$- (m\\times{}H) + (m\\times{}p) \\left(\\frac{1.0 \\Lambda^{2} P \\alpha \\beta}{\\Lambda^{2} + m p \\left(\\Lambda^{2} - 1.0\\right) + 1.0} - \\epsilon' \\beta\\right) + m \\left((m\\times{}H) \\alpha + (m\\times{}p) \\left(\\frac{1.0 \\Lambda^{2} P \\beta}{\\Lambda^{2} + m p \\left(\\Lambda^{2} - 1.0\\right) + 1.0} + \\epsilon' \\alpha \\beta\\right)\\right)$$"
       ],
       "metadata": {},
       "output_type": "pyout",
       "png": "[encoded data removed]",
       "prompt_number": 138,
       "text": [
        "                             \u239b            2                          \u239e     \u239b  \n",
        "                             \u239c       1.0\u22c5\u039b \u22c5P\u22c5\u03b1\u22c5\u03b2                    \u239f     \u239c  \n",
        "-(m\\times{}H) + (m\\times{}p)\u22c5\u239c\u2500\u2500\u2500\u2500\u2500\u2500\u2500\u2500\u2500\u2500\u2500\u2500\u2500\u2500\u2500\u2500\u2500\u2500\u2500\u2500\u2500\u2500\u2500\u2500\u2500 - \\epsilon'\u22c5\u03b2\u239f + m\u22c5\u239c(m\n",
        "                             \u239c 2       \u239b 2      \u239e                    \u239f     \u239c  \n",
        "                             \u239d\u039b  + m\u22c5p\u22c5\u239d\u039b  - 1.0\u23a0 + 1.0              \u23a0     \u239d  \n",
        "\n",
        "                            \u239b             2                           \u239e\u239e\n",
        "                            \u239c        1.0\u22c5\u039b \u22c5P\u22c5\u03b2                       \u239f\u239f\n",
        "\\times{}H)\u22c5\u03b1 + (m\\times{}p)\u22c5\u239c\u2500\u2500\u2500\u2500\u2500\u2500\u2500\u2500\u2500\u2500\u2500\u2500\u2500\u2500\u2500\u2500\u2500\u2500\u2500\u2500\u2500\u2500\u2500\u2500\u2500 + \\epsilon'\u22c5\u03b1\u22c5\u03b2\u239f\u239f\n",
        "                            \u239c 2       \u239b 2      \u239e                      \u239f\u239f\n",
        "                            \u239d\u039b  + m\u22c5p\u22c5\u239d\u039b  - 1.0\u23a0 + 1.0                \u23a0\u23a0"
       ]
      }
     ],
     "prompt_number": 138
    },
    {
     "cell_type": "code",
     "collapsed": false,
     "input": [
      "scratchA = gamma * scratchA\n",
      "scratchA"
     ],
     "language": "python",
     "metadata": {},
     "outputs": [
      {
       "latex": [
        "$$\\gamma \\left(- (m\\times{}H) + (m\\times{}p) \\left(\\frac{1.0 \\Lambda^{2} P \\alpha \\beta}{\\Lambda^{2} + m p \\left(\\Lambda^{2} - 1.0\\right) + 1.0} - \\epsilon' \\beta\\right) + m \\left((m\\times{}H) \\alpha + (m\\times{}p) \\left(\\frac{1.0 \\Lambda^{2} P \\beta}{\\Lambda^{2} + m p \\left(\\Lambda^{2} - 1.0\\right) + 1.0} + \\epsilon' \\alpha \\beta\\right)\\right)\\right)$$"
       ],
       "metadata": {},
       "output_type": "pyout",
       "png": "[encoded data removed]",
       "prompt_number": 139,
       "text": [
        "  \u239b                             \u239b            2                          \u239e     \n",
        "  \u239c                             \u239c       1.0\u22c5\u039b \u22c5P\u22c5\u03b1\u22c5\u03b2                    \u239f     \n",
        "\u03b3\u22c5\u239c-(m\\times{}H) + (m\\times{}p)\u22c5\u239c\u2500\u2500\u2500\u2500\u2500\u2500\u2500\u2500\u2500\u2500\u2500\u2500\u2500\u2500\u2500\u2500\u2500\u2500\u2500\u2500\u2500\u2500\u2500\u2500\u2500 - \\epsilon'\u22c5\u03b2\u239f + m\u22c5\n",
        "  \u239c                             \u239c 2       \u239b 2      \u239e                    \u239f     \n",
        "  \u239d                             \u239d\u039b  + m\u22c5p\u22c5\u239d\u039b  - 1.0\u23a0 + 1.0              \u23a0     \n",
        "\n",
        "\u239b                              \u239b             2                           \u239e\u239e\u239e\n",
        "\u239c                              \u239c        1.0\u22c5\u039b \u22c5P\u22c5\u03b2                       \u239f\u239f\u239f\n",
        "\u239c(m\\times{}H)\u22c5\u03b1 + (m\\times{}p)\u22c5\u239c\u2500\u2500\u2500\u2500\u2500\u2500\u2500\u2500\u2500\u2500\u2500\u2500\u2500\u2500\u2500\u2500\u2500\u2500\u2500\u2500\u2500\u2500\u2500\u2500\u2500 + \\epsilon'\u22c5\u03b1\u22c5\u03b2\u239f\u239f\u239f\n",
        "\u239c                              \u239c 2       \u239b 2      \u239e                      \u239f\u239f\u239f\n",
        "\u239d                              \u239d\u039b  + m\u22c5p\u22c5\u239d\u039b  - 1.0\u23a0 + 1.0                \u23a0\u23a0\u23a0"
       ]
      }
     ],
     "prompt_number": 139
    },
    {
     "cell_type": "code",
     "collapsed": false,
     "input": [],
     "language": "python",
     "metadata": {},
     "outputs": [],
     "prompt_number": 139
    }
   ],
   "metadata": {}
  }
 ]
}