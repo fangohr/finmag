{
 "metadata": {
  "name": "",
  "signature": "sha256:a1cd5a19fa2084e5d7130f4299fbe4bdf765a1fad2690441b3b31835d356c22c"
 },
 "nbformat": 3,
 "nbformat_minor": 0,
 "worksheets": [
  {
   "cells": [
    {
     "cell_type": "markdown",
     "metadata": {},
     "source": [
      "# Exploring XDMF support in Dolfin"
     ]
    },
    {
     "cell_type": "markdown",
     "metadata": {},
     "source": [
      "In this notebook we create a simple .xdmf file and write two fields (a scalar field and a vector field) at different time steps. We then explore how this data is stored in the .xdmf file and its associated .h5 file."
     ]
    },
    {
     "cell_type": "code",
     "collapsed": false,
     "input": [
      "import dolfin as df\n",
      "import numpy as np\n",
      "\n",
      "# The xdmf features require dolfin 1.1:\n",
      "if df.__version__[:3] < \"1.1\":\n",
      "    raise ValueError(\"The XDMF features require dolfin >= 1.1\")"
     ],
     "language": "python",
     "metadata": {},
     "outputs": [],
     "prompt_number": 1
    },
    {
     "cell_type": "code",
     "collapsed": false,
     "input": [
      "# Clean any existing files\n",
      "!rm -f xdmf_test.h5 xdmf_test.xdmf"
     ],
     "language": "python",
     "metadata": {},
     "outputs": [],
     "prompt_number": 2
    },
    {
     "cell_type": "markdown",
     "metadata": {},
     "source": [
      "### Writing a sample XDFM file"
     ]
    },
    {
     "cell_type": "code",
     "collapsed": false,
     "input": [
      "f = df.File('xdmf_test.xdmf')"
     ],
     "language": "python",
     "metadata": {},
     "outputs": [],
     "prompt_number": 3
    },
    {
     "cell_type": "code",
     "collapsed": false,
     "input": [
      "!ls -lh xdmf_test*"
     ],
     "language": "python",
     "metadata": {},
     "outputs": [
      {
       "output_type": "stream",
       "stream": "stdout",
       "text": [
        "-rw-rw-r-- 1 fangohr fangohr 29K Jul 25 14:44 xdmf_test.txt\r\n"
       ]
      }
     ],
     "prompt_number": 4
    },
    {
     "cell_type": "code",
     "collapsed": false,
     "input": [
      "mesh =  df.BoxMesh(0, 0, 0, 1, 1, 1, 20, 20, 20)\n",
      "V = df.VectorFunctionSpace(mesh, 'Lagrange', 1, dim=3)"
     ],
     "language": "python",
     "metadata": {},
     "outputs": [
      {
       "output_type": "stream",
       "stream": "stderr",
       "text": [
        "DEBUG:UFL:No integrals left after transformation, returning empty form.\n"
       ]
      },
      {
       "output_type": "stream",
       "stream": "stderr",
       "text": [
        "DEBUG:FFC:Reusing form from cache.\n"
       ]
      }
     ],
     "prompt_number": 5
    },
    {
     "cell_type": "code",
     "collapsed": false,
     "input": [
      "# Write a scalar field at time t=0\n",
      "a = 4.2 * np.ones(3*mesh.num_vertices())\n",
      "u = df.Function(V)\n",
      "u.vector().set_local(a)\n",
      "u.rename('u', 'scalar field')\n",
      "\n",
      "f << (u, 0.0)"
     ],
     "language": "python",
     "metadata": {},
     "outputs": [],
     "prompt_number": 6
    },
    {
     "cell_type": "code",
     "collapsed": false,
     "input": [
      "# Write a vector field at time t=0\n",
      "a = np.arange(3.0*mesh.num_vertices())\n",
      "v = df.Function(V)\n",
      "v.vector().set_local(a)\n",
      "v.rename('v', 'vector field')\n",
      "\n",
      "f << (v, 0.0)"
     ],
     "language": "python",
     "metadata": {},
     "outputs": [],
     "prompt_number": 7
    },
    {
     "cell_type": "code",
     "collapsed": false,
     "input": [
      "# Write u and v a few more times, associated with different time steps.\n",
      "\n",
      "f << (u, 1.2)\n",
      "f << (v, 1.2)\n",
      "\n",
      "f << (u, 4.7)\n",
      "f << (v, 6.2)"
     ],
     "language": "python",
     "metadata": {},
     "outputs": [],
     "prompt_number": 9
    },
    {
     "cell_type": "code",
     "collapsed": false,
     "input": [
      "del f"
     ],
     "language": "python",
     "metadata": {},
     "outputs": [],
     "prompt_number": 12
    },
    {
     "cell_type": "code",
     "collapsed": false,
     "input": [
      "!ls -lh xdmf_test*"
     ],
     "language": "python",
     "metadata": {},
     "outputs": [
      {
       "output_type": "stream",
       "stream": "stdout",
       "text": [
        "-rw-rw-r-- 1 fangohr fangohr  23M Jul 25 14:45 xdmf_test.h5\r\n",
        "-rw-rw-r-- 1 fangohr fangohr  29K Jul 25 14:44 xdmf_test.txt\r\n",
        "-rw-rw-r-- 1 fangohr fangohr 6.1K Jul 25 14:45 xdmf_test.xdmf\r\n"
       ]
      }
     ],
     "prompt_number": 10
    },
    {
     "cell_type": "code",
     "collapsed": false,
     "input": [
      "!cat xdmf_test.xdmf"
     ],
     "language": "python",
     "metadata": {},
     "outputs": [
      {
       "output_type": "stream",
       "stream": "stdout",
       "text": [
        "<?xml version=\"1.0\"?>\r\n",
        "<Xdmf Version=\"2.0\" xmlns:xi=\"http://www.w3.org/2001/XInclude\">\r\n",
        "  <Domain>\r\n",
        "    <Grid Name=\"TimeSeries\" GridType=\"Collection\" CollectionType=\"Temporal\">\r\n",
        "      <Time TimeType=\"List\">\r\n",
        "        <DataItem Format=\"XML\" Dimensions=\"6\"> 0 0 1.2 1.2 4.7 6.2</DataItem>\r\n",
        "      </Time>\r\n",
        "      <Grid Name=\"u_0\" GridType=\"Uniform\">\r\n",
        "        <Topology NumberOfElements=\"48\" TopologyType=\"Tetrahedron\">\r\n",
        "          <DataItem Format=\"HDF\" Dimensions=\"48 4\">xdmf_test.h5:/Mesh/0/topology</DataItem>\r\n",
        "        </Topology>\r\n",
        "        <Geometry GeometryType=\"XYZ\">\r\n",
        "          <DataItem Format=\"HDF\" Dimensions=\"27 3\">xdmf_test.h5:/Mesh/0/coordinates</DataItem>\r\n",
        "        </Geometry>\r\n",
        "        <Attribute Name=\"u\" AttributeType=\"Vector\" Center=\"Node\">\r\n",
        "          <DataItem Format=\"HDF\" Dimensions=\"27 3\">xdmf_test.h5:/VisualisationVector/0</DataItem>\r\n",
        "        </Attribute>\r\n",
        "      </Grid>\r\n",
        "      <Grid Name=\"v_1\" GridType=\"Uniform\">\r\n",
        "        <Topology NumberOfElements=\"48\" TopologyType=\"Tetrahedron\">\r\n",
        "          <DataItem Format=\"HDF\" Dimensions=\"48 4\">xdmf_test.h5:/Mesh/1/topology</DataItem>\r\n",
        "        </Topology>\r\n",
        "        <Geometry GeometryType=\"XYZ\">\r\n",
        "          <DataItem Format=\"HDF\" Dimensions=\"27 3\">xdmf_test.h5:/Mesh/1/coordinates</DataItem>\r\n",
        "        </Geometry>\r\n",
        "        <Attribute Name=\"v\" AttributeType=\"Vector\" Center=\"Node\">\r\n",
        "          <DataItem Format=\"HDF\" Dimensions=\"27 3\">xdmf_test.h5:/VisualisationVector/1</DataItem>\r\n",
        "        </Attribute>\r\n",
        "      </Grid>\r\n",
        "      <Grid Name=\"u_2\" GridType=\"Uniform\">\r\n",
        "        <Topology NumberOfElements=\"48\" TopologyType=\"Tetrahedron\">\r\n",
        "          <DataItem Format=\"HDF\" Dimensions=\"48 4\">xdmf_test.h5:/Mesh/2/topology</DataItem>\r\n",
        "        </Topology>\r\n",
        "        <Geometry GeometryType=\"XYZ\">\r\n",
        "          <DataItem Format=\"HDF\" Dimensions=\"27 3\">xdmf_test.h5:/Mesh/2/coordinates</DataItem>\r\n",
        "        </Geometry>\r\n",
        "        <Attribute Name=\"u\" AttributeType=\"Vector\" Center=\"Node\">\r\n",
        "          <DataItem Format=\"HDF\" Dimensions=\"27 3\">xdmf_test.h5:/VisualisationVector/2</DataItem>\r\n",
        "        </Attribute>\r\n",
        "      </Grid>\r\n",
        "      <Grid Name=\"v_3\" GridType=\"Uniform\">\r\n",
        "        <Topology NumberOfElements=\"48\" TopologyType=\"Tetrahedron\">\r\n",
        "          <DataItem Format=\"HDF\" Dimensions=\"48 4\">xdmf_test.h5:/Mesh/3/topology</DataItem>\r\n",
        "        </Topology>\r\n",
        "        <Geometry GeometryType=\"XYZ\">\r\n",
        "          <DataItem Format=\"HDF\" Dimensions=\"27 3\">xdmf_test.h5:/Mesh/3/coordinates</DataItem>\r\n",
        "        </Geometry>\r\n",
        "        <Attribute Name=\"v\" AttributeType=\"Vector\" Center=\"Node\">\r\n",
        "          <DataItem Format=\"HDF\" Dimensions=\"27 3\">xdmf_test.h5:/VisualisationVector/3</DataItem>\r\n",
        "        </Attribute>\r\n",
        "      </Grid>\r\n",
        "      <Grid Name=\"u_4\" GridType=\"Uniform\">\r\n",
        "        <Topology NumberOfElements=\"48\" TopologyType=\"Tetrahedron\">\r\n",
        "          <DataItem Format=\"HDF\" Dimensions=\"48 4\">xdmf_test.h5:/Mesh/4/topology</DataItem>\r\n",
        "        </Topology>\r\n",
        "        <Geometry GeometryType=\"XYZ\">\r\n",
        "          <DataItem Format=\"HDF\" Dimensions=\"27 3\">xdmf_test.h5:/Mesh/4/coordinates</DataItem>\r\n",
        "        </Geometry>\r\n",
        "        <Attribute Name=\"u\" AttributeType=\"Vector\" Center=\"Node\">\r\n",
        "          <DataItem Format=\"HDF\" Dimensions=\"27 3\">xdmf_test.h5:/VisualisationVector/4</DataItem>\r\n",
        "        </Attribute>\r\n",
        "      </Grid>\r\n",
        "      <Grid Name=\"v_5\" GridType=\"Uniform\">\r\n",
        "        <Topology NumberOfElements=\"48\" TopologyType=\"Tetrahedron\">\r\n",
        "          <DataItem Format=\"HDF\" Dimensions=\"48 4\">xdmf_test.h5:/Mesh/5/topology</DataItem>\r\n",
        "        </Topology>\r\n",
        "        <Geometry GeometryType=\"XYZ\">\r\n",
        "          <DataItem Format=\"HDF\" Dimensions=\"27 3\">xdmf_test.h5:/Mesh/5/coordinates</DataItem>\r\n",
        "        </Geometry>\r\n",
        "        <Attribute Name=\"v\" AttributeType=\"Vector\" Center=\"Node\">\r\n",
        "          <DataItem Format=\"HDF\" Dimensions=\"27 3\">xdmf_test.h5:/VisualisationVector/5</DataItem>\r\n",
        "        </Attribute>\r\n",
        "      </Grid>\r\n",
        "    </Grid>\r\n",
        "  </Domain>\r\n",
        "</Xdmf>\r\n"
       ]
      }
     ],
     "prompt_number": 17
    },
    {
     "cell_type": "markdown",
     "metadata": {},
     "source": [
      "## Trying to inspect the hdf5 file (using PyTables)"
     ]
    },
    {
     "cell_type": "code",
     "collapsed": false,
     "input": [
      "import tables"
     ],
     "language": "python",
     "metadata": {},
     "outputs": [],
     "prompt_number": 13
    },
    {
     "cell_type": "code",
     "collapsed": false,
     "input": [
      "f = tables.openFile('xdmf_test.h5', 'r')"
     ],
     "language": "python",
     "metadata": {},
     "outputs": [],
     "prompt_number": 14
    },
    {
     "cell_type": "code",
     "collapsed": false,
     "input": [
      "f.root.Mesh"
     ],
     "language": "python",
     "metadata": {},
     "outputs": [
      {
       "metadata": {},
       "output_type": "pyout",
       "prompt_number": 20,
       "text": [
        "/Mesh (Group) ''\n",
        "  children := ['1' (Group), '0' (Group), '3' (Group), '2' (Group), '5' (Group), '4' (Group), '7' (Group), '6' (Group), '9' (Group), '8' (Group)]"
       ]
      }
     ],
     "prompt_number": 20
    },
    {
     "cell_type": "code",
     "collapsed": false,
     "input": [
      "f.root.VisualisationMesh"
     ],
     "language": "python",
     "metadata": {},
     "outputs": [
      {
       "metadata": {},
       "output_type": "pyout",
       "prompt_number": 14,
       "text": [
        "/VisualisationMesh (Group) ''\n",
        "  children := ['1' (Group), '0' (Group), '3' (Group), '2' (Group), '5' (Group), '4' (Group)]"
       ]
      }
     ],
     "prompt_number": 14
    },
    {
     "cell_type": "code",
     "collapsed": false,
     "input": [
      "list(f.root.VisualisationVector._f_walkNodes('Leaf'))"
     ],
     "language": "python",
     "metadata": {},
     "outputs": [
      {
       "metadata": {},
       "output_type": "pyout",
       "prompt_number": 17,
       "text": [
        "[/VisualisationVector/0 (Array(27, 3)) ''\n",
        "  atom := Float64Atom(shape=(), dflt=0.0)\n",
        "  maindim := 0\n",
        "  flavor := 'numpy'\n",
        "  byteorder := 'little'\n",
        "  chunkshape := None,\n",
        " /VisualisationVector/1 (Array(27, 3)) ''\n",
        "  atom := Float64Atom(shape=(), dflt=0.0)\n",
        "  maindim := 0\n",
        "  flavor := 'numpy'\n",
        "  byteorder := 'little'\n",
        "  chunkshape := None,\n",
        " /VisualisationVector/2 (Array(27, 3)) ''\n",
        "  atom := Float64Atom(shape=(), dflt=0.0)\n",
        "  maindim := 0\n",
        "  flavor := 'numpy'\n",
        "  byteorder := 'little'\n",
        "  chunkshape := None,\n",
        " /VisualisationVector/3 (Array(27, 3)) ''\n",
        "  atom := Float64Atom(shape=(), dflt=0.0)\n",
        "  maindim := 0\n",
        "  flavor := 'numpy'\n",
        "  byteorder := 'little'\n",
        "  chunkshape := None,\n",
        " /VisualisationVector/4 (Array(27, 3)) ''\n",
        "  atom := Float64Atom(shape=(), dflt=0.0)\n",
        "  maindim := 0\n",
        "  flavor := 'numpy'\n",
        "  byteorder := 'little'\n",
        "  chunkshape := None,\n",
        " /VisualisationVector/5 (Array(27, 3)) ''\n",
        "  atom := Float64Atom(shape=(), dflt=0.0)\n",
        "  maindim := 0\n",
        "  flavor := 'numpy'\n",
        "  byteorder := 'little'\n",
        "  chunkshape := None]"
       ]
      }
     ],
     "prompt_number": 17
    },
    {
     "cell_type": "code",
     "collapsed": false,
     "input": [
      "a = list(f.root.VisualisationMesh._f_walkNodes('Leaf'))[0]"
     ],
     "language": "python",
     "metadata": {},
     "outputs": [],
     "prompt_number": 18
    },
    {
     "cell_type": "code",
     "collapsed": false,
     "input": [
      "print array(a.iterrows())"
     ],
     "language": "python",
     "metadata": {},
     "outputs": [
      {
       "output_type": "stream",
       "stream": "stdout",
       "text": [
        "[[ 0.   0.   0. ]\n",
        " [ 0.5  0.   0. ]\n",
        " [ 1.   0.   0. ]\n",
        " [ 0.   0.5  0. ]\n",
        " [ 0.5  0.5  0. ]\n",
        " [ 1.   0.5  0. ]\n",
        " [ 0.   1.   0. ]\n",
        " [ 0.5  1.   0. ]\n",
        " [ 1.   1.   0. ]\n",
        " [ 0.   0.   0.5]\n",
        " [ 0.5  0.   0.5]\n",
        " [ 1.   0.   0.5]\n",
        " [ 0.   0.5  0.5]\n",
        " [ 0.5  0.5  0.5]\n",
        " [ 1.   0.5  0.5]\n",
        " [ 0.   1.   0.5]\n",
        " [ 0.5  1.   0.5]\n",
        " [ 1.   1.   0.5]\n",
        " [ 0.   0.   1. ]\n",
        " [ 0.5  0.   1. ]\n",
        " [ 1.   0.   1. ]\n",
        " [ 0.   0.5  1. ]\n",
        " [ 0.5  0.5  1. ]\n",
        " [ 1.   0.5  1. ]\n",
        " [ 0.   1.   1. ]\n",
        " [ 0.5  1.   1. ]\n",
        " [ 1.   1.   1. ]]\n"
       ]
      }
     ],
     "prompt_number": 21
    },
    {
     "cell_type": "code",
     "collapsed": false,
     "input": [
      "!h5ls -f -r xdmf_test.h5"
     ],
     "language": "python",
     "metadata": {},
     "outputs": [
      {
       "output_type": "stream",
       "stream": "stdout",
       "text": [
        "/                        Group\r\n",
        "/VisualisationMesh       Group\r\n",
        "/VisualisationMesh/0     Group\r\n",
        "/VisualisationMesh/0/coordinates Dataset {27, 3}\r\n",
        "/VisualisationMesh/0/topology Dataset {48, 4}\r\n",
        "/VisualisationMesh/1     Group\r\n",
        "/VisualisationMesh/1/coordinates Dataset {27, 3}\r\n",
        "/VisualisationMesh/1/topology Dataset {48, 4}\r\n",
        "/VisualisationMesh/2     Group\r\n",
        "/VisualisationMesh/2/coordinates Dataset {27, 3}\r\n",
        "/VisualisationMesh/2/topology Dataset {48, 4}\r\n",
        "/VisualisationMesh/3     Group\r\n",
        "/VisualisationMesh/3/coordinates Dataset {27, 3}\r\n",
        "/VisualisationMesh/3/topology Dataset {48, 4}\r\n",
        "/VisualisationMesh/4     Group\r\n",
        "/VisualisationMesh/4/coordinates Dataset {27, 3}\r\n",
        "/VisualisationMesh/4/topology Dataset {48, 4}\r\n",
        "/VisualisationMesh/5     Group\r\n",
        "/VisualisationMesh/5/coordinates Dataset {27, 3}\r\n",
        "/VisualisationMesh/5/topology Dataset {48, 4}\r\n",
        "/VisualisationVector     Group\r\n",
        "/VisualisationVector/0   Dataset {27, 3}\r\n",
        "/VisualisationVector/1   Dataset {27, 3}\r\n",
        "/VisualisationVector/2   Dataset {27, 3}\r\n",
        "/VisualisationVector/3   Dataset {27, 3}\r\n",
        "/VisualisationVector/4   Dataset {27, 3}\r\n",
        "/VisualisationVector/5   Dataset {27, 3}\r\n"
       ]
      }
     ],
     "prompt_number": 22
    },
    {
     "cell_type": "markdown",
     "metadata": {},
     "source": [
      "### Trying to read the data back in"
     ]
    },
    {
     "cell_type": "markdown",
     "metadata": {},
     "source": [
      "Unfortunately, my first crude attempts at reading the data back in didn't work (see below). After asking at https://answers.launchpad.net/dolfin/+question/222230 the dolfin people said that the XDMF format is mainly suitable writing data out for visualisation, but not for reading it back in. :-("
     ]
    },
    {
     "cell_type": "code",
     "collapsed": false,
     "input": [
      "f_in = df.File('xdmf_test.xdmf', 'r')"
     ],
     "language": "python",
     "metadata": {},
     "outputs": [],
     "prompt_number": 21
    },
    {
     "cell_type": "code",
     "collapsed": false,
     "input": [
      "m_in = df.Function(V)"
     ],
     "language": "python",
     "metadata": {},
     "outputs": [],
     "prompt_number": 22
    },
    {
     "cell_type": "code",
     "collapsed": false,
     "input": [
      "f_in >> m_in"
     ],
     "language": "python",
     "metadata": {},
     "outputs": [
      {
       "ename": "RuntimeError",
       "evalue": "\n\n*** -------------------------------------------------------------------------\n*** DOLFIN encountered an error. If you are not able to resolve this issue\n*** using the information listed below, you can ask for help at\n***\n***     fenics@fenicsproject.org\n***\n*** Remember to include the error message listed below and, if possible,\n*** include a *minimal* running example to reproduce the error.\n***\n*** -------------------------------------------------------------------------\n*** Error:   Unable to read object from file.\n*** Reason:  Cannot read objects of type Function from XDMF files.\n*** Where:   This error was encountered inside GenericFile.cpp.\n*** Process: unknown\n*** \n*** DOLFIN version: 1.4.0\n*** Git changeset:  unknown\n*** -------------------------------------------------------------------------\n",
       "output_type": "pyerr",
       "traceback": [
        "\u001b[1;31m---------------------------------------------------------------------------\u001b[0m\n\u001b[1;31mRuntimeError\u001b[0m                              Traceback (most recent call last)",
        "\u001b[1;32m<ipython-input-23-4431e52f8477>\u001b[0m in \u001b[0;36m<module>\u001b[1;34m()\u001b[0m\n\u001b[1;32m----> 1\u001b[1;33m \u001b[0mf_in\u001b[0m \u001b[1;33m>>\u001b[0m \u001b[0mm_in\u001b[0m\u001b[1;33m\u001b[0m\u001b[0m\n\u001b[0m",
        "\u001b[1;31mRuntimeError\u001b[0m: \n\n*** -------------------------------------------------------------------------\n*** DOLFIN encountered an error. If you are not able to resolve this issue\n*** using the information listed below, you can ask for help at\n***\n***     fenics@fenicsproject.org\n***\n*** Remember to include the error message listed below and, if possible,\n*** include a *minimal* running example to reproduce the error.\n***\n*** -------------------------------------------------------------------------\n*** Error:   Unable to read object from file.\n*** Reason:  Cannot read objects of type Function from XDMF files.\n*** Where:   This error was encountered inside GenericFile.cpp.\n*** Process: unknown\n*** \n*** DOLFIN version: 1.4.0\n*** Git changeset:  unknown\n*** -------------------------------------------------------------------------\n"
       ]
      }
     ],
     "prompt_number": 23
    },
    {
     "cell_type": "code",
     "collapsed": false,
     "input": [
      "f_in >> (m_in, 2.5)"
     ],
     "language": "python",
     "metadata": {},
     "outputs": [
      {
       "ename": "TypeError",
       "evalue": "in method 'File___rshift__', argument 2 of type 'dolfin::Function &'",
       "output_type": "pyerr",
       "traceback": [
        "\u001b[1;31m---------------------------------------------------------------------------\u001b[0m\n\u001b[1;31mTypeError\u001b[0m                                 Traceback (most recent call last)",
        "\u001b[1;32m<ipython-input-24-19ad8ba108a4>\u001b[0m in \u001b[0;36m<module>\u001b[1;34m()\u001b[0m\n\u001b[1;32m----> 1\u001b[1;33m \u001b[0mf_in\u001b[0m \u001b[1;33m>>\u001b[0m \u001b[1;33m(\u001b[0m\u001b[0mm_in\u001b[0m\u001b[1;33m,\u001b[0m \u001b[1;36m2.5\u001b[0m\u001b[1;33m)\u001b[0m\u001b[1;33m\u001b[0m\u001b[0m\n\u001b[0m",
        "\u001b[1;31mTypeError\u001b[0m: in method 'File___rshift__', argument 2 of type 'dolfin::Function &'"
       ]
      }
     ],
     "prompt_number": 24
    },
    {
     "cell_type": "code",
     "collapsed": false,
     "input": [],
     "language": "python",
     "metadata": {},
     "outputs": []
    }
   ],
   "metadata": {}
  }
 ]
}