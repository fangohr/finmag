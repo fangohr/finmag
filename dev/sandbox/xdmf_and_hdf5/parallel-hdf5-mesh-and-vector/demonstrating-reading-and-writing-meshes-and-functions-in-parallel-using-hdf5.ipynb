{
 "metadata": {
  "name": "",
  "signature": "sha256:f492be87938f4c894843dbe539c93e2f18c83d1cbf5066f0fdce6c8e56fffb1d"
 },
 "nbformat": 3,
 "nbformat_minor": 0,
 "worksheets": [
  {
   "cells": [
    {
     "cell_type": "markdown",
     "metadata": {},
     "source": [
      "# Testing reading and writing of meshes and function with hdf5\n",
      "\n",
      "*Finmag Friday 25 July 2014*\n",
      "\n",
      "*Becky, David, Hans*\n",
      "\n",
      "*Purpose*: Provide foundations on which we can save finmag meshes and files."
     ]
    },
    {
     "cell_type": "markdown",
     "metadata": {},
     "source": [
      "Write a mesh and function to a hdf5 file using 2 processes:"
     ]
    },
    {
     "cell_type": "code",
     "collapsed": false,
     "input": [
      "!mpirun -np 2 python output.py"
     ],
     "language": "python",
     "metadata": {},
     "outputs": [
      {
       "output_type": "stream",
       "stream": "stdout",
       "text": [
        "Number of global vertices: 36\r\n",
        "Number of global cells: 50\r\n"
       ]
      },
      {
       "output_type": "stream",
       "stream": "stdout",
       "text": [
        "mesh we have written: (21, 2)\r\n",
        "mesh we have written: (21, 2)\r\n",
        "vector we have written: (16,)\r\n",
        "vector we have written: (20,)\r\n"
       ]
      }
     ],
     "prompt_number": 8
    },
    {
     "cell_type": "markdown",
     "metadata": {},
     "source": [
      "Read back using 2 processes:"
     ]
    },
    {
     "cell_type": "code",
     "collapsed": false,
     "input": [
      "!mpirun -np 2 python input.py"
     ],
     "language": "python",
     "metadata": {},
     "outputs": [
      {
       "output_type": "stream",
       "stream": "stdout",
       "text": [
        "Mesh we have read: (21, 2)\r\n",
        "Mesh we have read: (21, 2)\r\n"
       ]
      },
      {
       "output_type": "stream",
       "stream": "stdout",
       "text": [
        "vector we have read: (16,)\r\n",
        "vector we have read: (20,)\r\n"
       ]
      }
     ],
     "prompt_number": 9
    },
    {
     "cell_type": "markdown",
     "metadata": {},
     "source": [
      "Read back using 1 process:"
     ]
    },
    {
     "cell_type": "code",
     "collapsed": false,
     "input": [
      "!mpirun -np 1 python input.py"
     ],
     "language": "python",
     "metadata": {},
     "outputs": [
      {
       "output_type": "stream",
       "stream": "stdout",
       "text": [
        "*** Warning: Could not use partition from file: wrong size\r\n",
        "Mesh we have read: (36, 2)\r\n"
       ]
      },
      {
       "output_type": "stream",
       "stream": "stdout",
       "text": [
        "vector we have read: (36,)\r\n"
       ]
      }
     ],
     "prompt_number": 10
    },
    {
     "cell_type": "markdown",
     "metadata": {},
     "source": [
      "I think the warning tells us that the data was written with a different number of processes, but it seems dolfin deals with that. \n",
      "\n",
      "Now the same for reading the with processes:"
     ]
    },
    {
     "cell_type": "code",
     "collapsed": false,
     "input": [
      "!mpirun -np 3 python input.py"
     ],
     "language": "python",
     "metadata": {},
     "outputs": [
      {
       "output_type": "stream",
       "stream": "stdout",
       "text": [
        "*** Warning: Could not use partition from file: wrong size"
       ]
      },
      {
       "output_type": "stream",
       "stream": "stdout",
       "text": [
        "\r\n",
        "*** Warning: Could not use partition from file: wrong size\r\n",
        "*** Warning: Could not use partition from file: wrong size\r\n",
        "Mesh we have read: (17, 2)\r\n",
        "Mesh we have read: (15, 2)\r\n",
        "Mesh we have read: (15, 2)\r\n"
       ]
      },
      {
       "output_type": "stream",
       "stream": "stdout",
       "text": [
        "vector we have read: (15,)\r\n"
       ]
      },
      {
       "output_type": "stream",
       "stream": "stdout",
       "text": [
        "vector we have read: (11,)\r\n",
        "vector we have read: (10,)\r\n"
       ]
      }
     ],
     "prompt_number": 11
    },
    {
     "cell_type": "markdown",
     "metadata": {},
     "source": [
      "Looking directly into the h5 file: we expect 36 vertices:"
     ]
    },
    {
     "cell_type": "code",
     "collapsed": false,
     "input": [
      "!h5ls u.h5/mesh"
     ],
     "language": "python",
     "metadata": {},
     "outputs": [
      {
       "output_type": "stream",
       "stream": "stdout",
       "text": [
        "cell_indices             Dataset {50}\r\n",
        "coordinates              Dataset {36, 2}\r\n",
        "topology                 Dataset {50, 3}\r\n"
       ]
      }
     ],
     "prompt_number": 15
    },
    {
     "cell_type": "markdown",
     "metadata": {},
     "source": [
      "If we write the mesh with different numbers of processes we still get the same 36 vertices:"
     ]
    },
    {
     "cell_type": "code",
     "collapsed": false,
     "input": [
      "!mpirun -np 4 python output.py\n",
      "!h5ls u.h5/mesh"
     ],
     "language": "python",
     "metadata": {},
     "outputs": [
      {
       "output_type": "stream",
       "stream": "stdout",
       "text": [
        "Number of global vertices: 36\r\n",
        "Number of global cells: 50\r\n"
       ]
      },
      {
       "output_type": "stream",
       "stream": "stdout",
       "text": [
        "mesh we have written: (12, 2)\r\n",
        "mesh we have written: (12, 2)\r\n",
        "mesh we have written: (14, 2)\r\n",
        "mesh we have written: (14, 2)\r\n",
        "vector we have written: (9,)\r\n",
        "vector we have written: (10,)\r\n",
        "vector we have written: (7,)\r\n",
        "vector we have written: (10,)\r\n"
       ]
      },
      {
       "output_type": "stream",
       "stream": "stdout",
       "text": [
        "cell_indices             Dataset {50}\r\n",
        "coordinates              Dataset {36, 2}\r\n",
        "topology                 Dataset {50, 3}\r\n"
       ]
      }
     ],
     "prompt_number": 16
    },
    {
     "cell_type": "markdown",
     "metadata": {},
     "source": [
      "Observation: when writing the data for the function, the elements written add up to the 36 degrees of freedom we expect, independent of the number of processes we use.\n",
      "\n",
      "However, when writing the mesh, some information seems to be duplicated, as the sum of the elements written does grow with the number of processes. We haven't fully understood this yet."
     ]
    },
    {
     "cell_type": "code",
     "collapsed": false,
     "input": [],
     "language": "python",
     "metadata": {},
     "outputs": []
    }
   ],
   "metadata": {}
  }
 ]
}