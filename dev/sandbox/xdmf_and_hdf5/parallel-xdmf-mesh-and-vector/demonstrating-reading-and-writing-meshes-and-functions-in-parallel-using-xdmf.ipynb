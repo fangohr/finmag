{
 "metadata": {
  "name": "",
  "signature": "sha256:908f2f1929235576130ec176cc5e7ccbf9b93a72ba72b8c222b77b6a977bb69a"
 },
 "nbformat": 3,
 "nbformat_minor": 0,
 "worksheets": [
  {
   "cells": [
    {
     "cell_type": "markdown",
     "metadata": {},
     "source": [
      "# Testing reading and writing of meshes and function with xdmf\n",
      "\n",
      "*Finmag Friday 4 August 2014*\n",
      "\n",
      "*David, Hans*\n",
      "\n",
      "*Purpose*: Provide foundations on which we can save finmag meshes and files using xdmf. \n",
      "\n",
      "*Summary of results*: We can write and read meshes from xdmf files, and we can write functions. Both can be read by paraview. Reading data from xdmf files is not encouraged by dolfin team. "
     ]
    },
    {
     "cell_type": "markdown",
     "metadata": {},
     "source": [
      "Write a mesh and function to a hdf5 file using 2 processes:"
     ]
    },
    {
     "cell_type": "code",
     "collapsed": false,
     "input": [
      "from dolfin import *"
     ],
     "language": "python",
     "metadata": {},
     "outputs": [],
     "prompt_number": 1
    },
    {
     "cell_type": "code",
     "collapsed": false,
     "input": [
      "f = File('test.xdmf')"
     ],
     "language": "python",
     "metadata": {},
     "outputs": [],
     "prompt_number": 2
    },
    {
     "cell_type": "code",
     "collapsed": false,
     "input": [
      "%%file output.py \n",
      "\n",
      "from dolfin import *\n",
      "\n",
      "mesh = UnitSquareMesh(5, 5)\n",
      "V = FunctionSpace(mesh, 'CG', 1)\n",
      "u = interpolate(Expression('x[0]'), V)\n",
      "\n",
      "f = File('mesh.xdmf')\n",
      "\n",
      "f << mesh\n",
      "print(\"mesh we have written: {}\".format(mesh.coordinates().shape))\n",
      "del f\n",
      "\n",
      "\n",
      "fu = File('u.xdmf')\n",
      "fu << u\n",
      "print(\"u we have written: {}\".format(u.vector().array().shape))\n",
      "\n",
      "del fu\n",
      "\n",
      "\n",
      "\n"
     ],
     "language": "python",
     "metadata": {},
     "outputs": [
      {
       "output_type": "stream",
       "stream": "stdout",
       "text": [
        "Overwriting output.py\n"
       ]
      }
     ],
     "prompt_number": 3
    },
    {
     "cell_type": "code",
     "collapsed": false,
     "input": [
      "!mpirun -np 2 python output.py"
     ],
     "language": "python",
     "metadata": {},
     "outputs": [
      {
       "output_type": "stream",
       "stream": "stdout",
       "text": [
        "Number of global vertices: 36\r\n",
        "Number of global cells: 50\r\n"
       ]
      },
      {
       "output_type": "stream",
       "stream": "stdout",
       "text": [
        "mesh we have written: (21, 2)\r\n",
        "mesh we have written: (21, 2)\r\n",
        "u we have written: (20,)\r\n",
        "u we have written: (16,)\r\n"
       ]
      }
     ],
     "prompt_number": 4
    },
    {
     "cell_type": "markdown",
     "metadata": {},
     "source": [
      "Read back using 2 processes:"
     ]
    },
    {
     "cell_type": "code",
     "collapsed": false,
     "input": [
      "%%file input.py\n",
      "\n",
      "from dolfin import *\n",
      "\n",
      "mesh2 = Mesh(\"mesh.xdmf\")\n",
      "print(\"Mesh we have read: {}\".format(mesh2.coordinates().shape))\n",
      "\n",
      "print(\"Can't read back from xdmf file, see\\nhttps://answers.launchpad.net/dolfin/+question/222230 \")\n",
      "\n",
      "#V2 = FunctionSpace(mesh2, 'CG', 1)\n",
      "#u2 = Function(V2, 'u.xdmf')\n",
      "#u << f\n",
      "#print \"vector we have read: {}\".format(u2.vector().array().shape)\n",
      "#del f2\n",
      "\n"
     ],
     "language": "python",
     "metadata": {},
     "outputs": [
      {
       "output_type": "stream",
       "stream": "stdout",
       "text": [
        "Overwriting input.py\n"
       ]
      }
     ],
     "prompt_number": 5
    },
    {
     "cell_type": "code",
     "collapsed": false,
     "input": [
      "!mpirun -np 2 python input.py"
     ],
     "language": "python",
     "metadata": {},
     "outputs": [
      {
       "output_type": "stream",
       "stream": "stdout",
       "text": [
        "Mesh we have read: (21, 2)\r\n",
        "Can't read back from xdmf file, see\r\n",
        "https://answers.launchpad.net/dolfin/+question/222230 \r\n",
        "Mesh we have read: (21, 2)\r\n",
        "Can't read back from xdmf file, see\r\n",
        "https://answers.launchpad.net/dolfin/+question/222230 \r\n"
       ]
      }
     ],
     "prompt_number": 6
    },
    {
     "cell_type": "markdown",
     "metadata": {},
     "source": [
      "Read back using 1 process:"
     ]
    },
    {
     "cell_type": "code",
     "collapsed": false,
     "input": [
      "!mpirun -np 1 python input.py"
     ],
     "language": "python",
     "metadata": {},
     "outputs": [
      {
       "output_type": "stream",
       "stream": "stdout",
       "text": [
        "Mesh we have read: (36, 2)\r\n",
        "Can't read back from xdmf file, see\r\n",
        "https://answers.launchpad.net/dolfin/+question/222230 \r\n"
       ]
      }
     ],
     "prompt_number": 7
    },
    {
     "cell_type": "code",
     "collapsed": false,
     "input": [
      "!mpirun -np 3 python input.py"
     ],
     "language": "python",
     "metadata": {},
     "outputs": [
      {
       "output_type": "stream",
       "stream": "stdout",
       "text": [
        "Mesh we have read: (15, 2)"
       ]
      },
      {
       "output_type": "stream",
       "stream": "stdout",
       "text": [
        "\r\n",
        "Mesh we have read: (15, 2)\r\n",
        "Can't read back from xdmf file, see\r\n",
        "https://answers.launchpad.net/dolfin/+question/222230 \r\n",
        "Can't read back from xdmf file, see\r\n",
        "https://answers.launchpad.net/dolfin/+question/222230 \r\n",
        "Mesh we have read: (17, 2)\r\n",
        "Can't read back from xdmf file, see\r\n",
        "https://answers.launchpad.net/dolfin/+question/222230 \r\n"
       ]
      }
     ],
     "prompt_number": 8
    },
    {
     "cell_type": "markdown",
     "metadata": {},
     "source": [
      "Looking directly into the h5 file: we expect 36 vertices:"
     ]
    },
    {
     "cell_type": "markdown",
     "metadata": {},
     "source": [
      "**Observations**: \n",
      "\n",
      "Paraview can read xdmf files.\n",
      "\n",
      "Saving a function to an xdmf file, will automatically save the mesh as well (otherwise paraview couldn't display the data on the mesh).\n",
      "\n",
      "xdmf files point to h5 files. To read back xdmf files, we could read the h5 files, but it is not clear how to find them. Might be cleaner to save hdf5 files directly if we want to re-use data later. This is also the recommended way (https://answers.launchpad.net/dolfin/+question/222230).\n",
      "\n",
      "Need to better understand whether we can save (i) time series in (ia) hdf5 and (ib) xdmf files, and (ii) multiple functions in (iia) hdf5 and (iib) xdmf files. Needs more testing.\n"
     ]
    }
   ],
   "metadata": {}
  }
 ]
}