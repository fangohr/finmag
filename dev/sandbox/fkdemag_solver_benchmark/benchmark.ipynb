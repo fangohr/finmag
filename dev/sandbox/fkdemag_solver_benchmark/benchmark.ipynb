{
 "metadata": {
  "name": ""
 },
 "nbformat": 3,
 "nbformat_minor": 0,
 "worksheets": [
  {
   "cells": [
    {
     "cell_type": "code",
     "collapsed": false,
     "input": [
      "import dolfin as df\n",
      "import finmag.energies.demag.fk_demag as fk\n",
      "from finmag.util.meshes import sphere, box, plot_mesh_with_paraview\n",
      "from measurement_runner import run_measurements, column_chart"
     ],
     "language": "python",
     "metadata": {},
     "outputs": [
      {
       "output_type": "stream",
       "stream": "stderr",
       "text": [
        "[2014-01-13 13:59:54] DEBUG: Building modules in 'native'...\n"
       ]
      },
      {
       "output_type": "stream",
       "stream": "stderr",
       "text": [
        "/usr/local/lib/python2.7/dist-packages/mpl_toolkits/__init__.py:2: UserWarning: Module aeon was already imported from /home/mb8g11/Workspace/aeon/aeon/__init__.pyc, but /usr/local/lib/python2.7/dist-packages is being added to sys.path\n",
        "  __import__('pkg_resources').declare_namespace(__name__)\n",
        "/usr/local/lib/python2.7/dist-packages/mpl_toolkits/__init__.py:2: UserWarning: Module PIL was already imported from /usr/local/lib/python2.7/dist-packages/PIL/__init__.pyc, but /usr/lib/python2.7/dist-packages is being added to sys.path\n",
        "  __import__('pkg_resources').declare_namespace(__name__)\n",
        "[2014-01-13 13:59:55] DEBUG:               Finmag: 4335:cbe566312c369c5f9cf2539aedb84e4be72bb467"
       ]
      },
      {
       "output_type": "stream",
       "stream": "stderr",
       "text": [
        "\n"
       ]
      },
      {
       "output_type": "stream",
       "stream": "stderr",
       "text": [
        "[2014-01-13 13:59:55] DEBUG:               Dolfin: 1.2.0\n"
       ]
      },
      {
       "output_type": "stream",
       "stream": "stderr",
       "text": [
        "[2014-01-13 13:59:55] DEBUG:           Matplotlib: 1.3.1\n"
       ]
      },
      {
       "output_type": "stream",
       "stream": "stderr",
       "text": [
        "[2014-01-13 13:59:55] DEBUG:                Numpy: 1.8.0\n"
       ]
      },
      {
       "output_type": "stream",
       "stream": "stderr",
       "text": [
        "[2014-01-13 13:59:55] DEBUG:                Scipy: 0.11.0\n"
       ]
      },
      {
       "output_type": "stream",
       "stream": "stderr",
       "text": [
        "[2014-01-13 13:59:55] DEBUG:              IPython: 1.1.0\n"
       ]
      },
      {
       "output_type": "stream",
       "stream": "stderr",
       "text": [
        "[2014-01-13 13:59:55] DEBUG:               Python: 2.7.4\n"
       ]
      },
      {
       "output_type": "stream",
       "stream": "stderr",
       "text": [
        "[2014-01-13 13:59:55] DEBUG:             Paraview: 3.98.0-1~exp1\n"
       ]
      },
      {
       "output_type": "stream",
       "stream": "stderr",
       "text": [
        "[2014-01-13 13:59:55] DEBUG:             Sundials: 2.5.0-3\n"
       ]
      },
      {
       "output_type": "stream",
       "stream": "stderr",
       "text": [
        "[2014-01-13 13:59:55] DEBUG:         Boost-Python: 1.49.0\n"
       ]
      },
      {
       "output_type": "stream",
       "stream": "stderr",
       "text": [
        "[2014-01-13 13:59:55] DEBUG:                Linux: Ubuntu 13.04\n"
       ]
      },
      {
       "output_type": "stream",
       "stream": "stderr",
       "text": [
        "[2014-01-13 13:59:55] DEBUG: Registering debug signal handler. Press Ctrl-Z at any time to stop execution and jump into the debugger.\n"
       ]
      }
     ],
     "prompt_number": 1
    },
    {
     "cell_type": "heading",
     "level": 1,
     "metadata": {},
     "source": [
      "Krylov-Solvers used in Demagnetising Field Computation"
     ]
    },
    {
     "cell_type": "markdown",
     "metadata": {},
     "source": [
      "To see which Krylov subspace methods are available in dolfin, use *krylov\\_solver\\_methods*."
     ]
    },
    {
     "cell_type": "code",
     "collapsed": false,
     "input": [
      "for name, description in df.krylov_solver_methods():\n",
      "    print \"{:<20} {}\".format(name, description)"
     ],
     "language": "python",
     "metadata": {},
     "outputs": [
      {
       "output_type": "stream",
       "stream": "stdout",
       "text": [
        "default              default Krylov method\n",
        "cg                   Conjugate gradient method\n",
        "gmres                Generalized minimal residual method\n",
        "minres               Minimal residual method\n",
        "tfqmr                Transpose-free quasi-minimal residual method\n",
        "richardson           Richardson method\n",
        "bicgstab             Biconjugate gradient stabilized method\n"
       ]
      }
     ],
     "prompt_number": 2
    },
    {
     "cell_type": "markdown",
     "metadata": {},
     "source": [
      "The problems may be preconditioned using one of the methods in *krylov\\_solver\\_preconditioners*."
     ]
    },
    {
     "cell_type": "code",
     "collapsed": false,
     "input": [
      "for name, description in df.krylov_solver_preconditioners():\n",
      "    print \"{:<20} {}\".format(name, description)"
     ],
     "language": "python",
     "metadata": {},
     "outputs": [
      {
       "output_type": "stream",
       "stream": "stdout",
       "text": [
        "default              default preconditioner\n",
        "none                 No preconditioner\n",
        "ilu                  Incomplete LU factorization\n",
        "icc                  Incomplete Cholesky factorization\n",
        "sor                  Successive over-relaxation\n",
        "jacobi               Jacobi iteration\n",
        "bjacobi              Block Jacobi iteration\n",
        "additive_schwarz     Additive Schwarz\n",
        "amg                  Algebraic multigrid\n",
        "hypre_amg            Hypre algebraic multigrid (BoomerAMG)\n",
        "hypre_euclid         Hypre parallel incomplete LU factorization\n",
        "hypre_parasails      Hypre parallel sparse approximate inverse\n"
       ]
      }
     ],
     "prompt_number": 3
    },
    {
     "cell_type": "markdown",
     "metadata": {},
     "source": [
      "Since, in principle, every solver can be used with any preconditioner, there are several combinations to check."
     ]
    },
    {
     "cell_type": "code",
     "collapsed": false,
     "input": [
      "m = len(df.krylov_solver_methods())\n",
      "n = len(df.krylov_solver_preconditioners())\n",
      "print \"There are {} solvers, {} preconditioners and thus {} diferent combinations of solver and preconditioner.\".format(m, n, m * n)"
     ],
     "language": "python",
     "metadata": {},
     "outputs": [
      {
       "output_type": "stream",
       "stream": "stdout",
       "text": [
        "There are 7 solvers, 12 preconditioners and thus 84 diferent combinations of solver and preconditioner.\n"
       ]
      }
     ],
     "prompt_number": 4
    },
    {
     "cell_type": "heading",
     "level": 2,
     "metadata": {},
     "source": [
      "A Sample Problem with Analytical Solution"
     ]
    },
    {
     "cell_type": "markdown",
     "metadata": {},
     "source": [
      "We are studying an homogeneously magnetised sphere."
     ]
    },
    {
     "cell_type": "code",
     "collapsed": false,
     "input": [
      "ball = sphere(20.0, 1.2, directory=\"meshes\")\n",
      "m_ball = df.Constant((1, 0, 0))\n",
      "unit_length = 1e-9\n",
      "\n",
      "print \"The used mesh has {} vertices.\".format(ball.num_vertices())\n",
      "plot_mesh_with_paraview(ball)"
     ],
     "language": "python",
     "metadata": {},
     "outputs": [
      {
       "output_type": "stream",
       "stream": "stderr",
       "text": [
        "[2014-01-13 14:00:00] DEBUG: The mesh '/home/mb8g11/Workspace/finmag/sandbox/fkdemag_solver_benchmark/meshes/sphere-20-1_2.xml.gz' already exists and is automatically returned.\n"
       ]
      },
      {
       "output_type": "stream",
       "stream": "stderr",
       "text": [
        "[2014-01-13 14:00:00] WARNING: Could not find the 'xpra' executable. You may want to install it to avoid annoying pop-up windows from Paraview. Under Debian/Ubuntu you can install it via 'sudo apt-get install xpra'.\n"
       ]
      },
      {
       "output_type": "stream",
       "stream": "stdout",
       "text": [
        "The used mesh has 13431 vertices.\n"
       ]
      },
      {
       "metadata": {},
       "output_type": "pyout",
       "png": "[encoded data removed]",
       "prompt_number": 5,
       "text": [
        "<IPython.core.display.Image at 0x55bc890>"
       ]
      }
     ],
     "prompt_number": 5
    },
    {
     "cell_type": "markdown",
     "metadata": {},
     "source": [
      "The demagnetising field for this problem is known."
     ]
    },
    {
     "cell_type": "code",
     "collapsed": false,
     "input": [
      "H_expected_ball = df.Constant((-1.0/3.0, 0.0, 0.0))\n",
      "tol = 0.002"
     ],
     "language": "python",
     "metadata": {},
     "outputs": [],
     "prompt_number": 6
    },
    {
     "cell_type": "heading",
     "level": 3,
     "metadata": {},
     "source": [
      "Linear Solvers"
     ]
    },
    {
     "cell_type": "markdown",
     "metadata": {},
     "source": [
      "There are two linear systems involved in the computation of the magnetic potential. We will record the time needed to solve each for possible combinations of solver/preconditioner. The experiment will be repeated ten times and the time averaged.\n",
      "\n",
      "All runs that don't meet the tolerance requirements or fail for other reasons will be discarded."
     ]
    },
    {
     "cell_type": "code",
     "collapsed": false,
     "input": [
      "repetitions = 10\n",
      "solvers, preconditioners, rb1, fb1, rb2, fb2 = run_measurements(m_ball, ball, unit_length, tol, repetitions, H_expected_ball, \"ball\")"
     ],
     "language": "python",
     "metadata": {},
     "outputs": [
      {
       "output_type": "stream",
       "stream": "stdout",
       "text": [
        "Time shown for first linear solve in s.\n",
        "Results loaded from file.\n",
        "\n",
        "          |    default       none        ilu        icc        sor     jacobi    bjacobi additive_schwarz        amg  hypre_amg hypre_euclid hypre_parasails \n",
        "----------|-------------------------------------------------------------------------------------------------------------------------------------------------- \n",
        "default   |     0.0362     0.0735     0.0333     0.0381     0.0423     0.0664     0.0364           0.0394      0.219      0.217       0.0632           0.466 \n",
        "cg        |     0.0259      0.041     0.0278     0.0281       0.03     0.0354     0.0299            0.031          -          -       0.0563               - \n",
        "gmres     |     0.0324     0.0729     0.0334     0.0349     0.0399     0.0635      0.035           0.0357      0.214      0.211       0.0665            0.46 \n",
        "minres    |     0.0297     0.0438     0.0321     0.0307     0.0321      0.038      0.034           0.0349      0.213      0.211       0.0597               - \n",
        "tfqmr     |     0.0327     0.0598     0.0333     0.0356     0.0373     0.0462     0.0348           0.0381          -          -       0.0629           0.459 \n",
        "richardson|      0.316          -      0.314      0.336        4.7      0.823      0.323            0.343      0.221       0.22        0.367             1.1 \n",
        "bicgstab  |     0.0362     0.0482      0.036      0.036     0.0397     0.0434     0.0381           0.0405      0.777      0.775       0.0664           0.446 \n",
        "\n",
        "Default combination ran in 0.0362 s.\n",
        "Fastest combination cg/default ran in 0.0259 s.\n",
        "That is an 28.4% improvement.\n",
        "\n",
        "Time shown for second linear solve in s.\n",
        "Results loaded from file.\n",
        "\n",
        "          |    default       none        ilu        icc        sor     jacobi    bjacobi additive_schwarz        amg  hypre_amg hypre_euclid hypre_parasails \n",
        "----------|-------------------------------------------------------------------------------------------------------------------------------------------------- \n",
        "default   |     0.0218     0.0415     0.0221     0.0232     0.0227     0.0282     0.0233           0.0242      0.141      0.141       0.0498           0.373 \n",
        "cg        |     0.0179        2.0     0.0193          -      0.021          -     0.0198           0.0209      0.144      0.142       0.0455               - \n",
        "gmres     |     0.0221     0.0412     0.0217     0.0232     0.0226     0.0278     0.0235           0.0244      0.143      0.142       0.0498           0.376 \n",
        "minres    |          -          -          -          -          -          -          -                -      0.151      0.159            -               - \n",
        "tfqmr     |     0.0241          -      0.024          -     0.0255          -     0.0275           0.0277      0.157      0.157        0.051           0.372 \n",
        "richardson|     0.0861          -     0.0849     0.0909       4.82      0.154     0.0906           0.0959      0.149      0.148        0.116           0.504 \n",
        "bicgstab  |     0.0262          -     0.0266          -     0.0277          -     0.0271           0.0282      0.155      0.155       0.0526           0.371 \n",
        "\n",
        "Default combination ran in 0.0218 s.\n",
        "Fastest combination cg/default ran in 0.0179 s.\n",
        "That is an 17.8% improvement.\n",
        "\n"
       ]
      }
     ],
     "prompt_number": 7
    },
    {
     "cell_type": "markdown",
     "metadata": {},
     "source": [
      "Visualise the data to highlight the differences in runtime between the solvers and to see how much the preconditioners help."
     ]
    },
    {
     "cell_type": "code",
     "collapsed": false,
     "input": [
      "fig = column_chart(rb1, solvers, offset=0.02)\n",
      "fig.set_size_inches((20, 5))\n",
      "ax = fig.axes[0]\n",
      "ax.set_ylim([0, 0.5])\n",
      "ax.set_title(\"Time Spent Solving the First Linear System by Solver and Preconditioner (Bottom Part)\")"
     ],
     "language": "python",
     "metadata": {},
     "outputs": [
      {
       "metadata": {},
       "output_type": "pyout",
       "prompt_number": 8,
       "text": [
        "<matplotlib.text.Text at 0x5643b50>"
       ]
      },
      {
       "output_type": "stream",
       "stream": "stderr",
       "text": [
        "/usr/local/lib/python2.7/dist-packages/matplotlib/figure.py:1595: UserWarning: This figure includes Axes that are not compatible with tight_layout, so its results might be incorrect.\n",
        "  warnings.warn(\"This figure includes Axes that are not \"\n"
       ]
      },
      {
       "metadata": {},
       "output_type": "display_data",
       "png": "[encoded data removed]",
       "text": [
        "<matplotlib.figure.Figure at 0x55c4e50>"
       ]
      }
     ],
     "prompt_number": 8
    },
    {
     "cell_type": "markdown",
     "metadata": {},
     "source": [
      "The default settings are a decent choice, while using a badly chosen preconditioner is worse than using none at all."
     ]
    },
    {
     "cell_type": "code",
     "collapsed": false,
     "input": [
      "fig = column_chart(rb2, solvers, offset=0.02)\n",
      "fig.set_size_inches((20, 5))\n",
      "ax = fig.axes[0]\n",
      "ax.set_ylim([0, 0.4])\n",
      "ax.set_title(\"Time Spent Solving the Second Linear System by Solver and Preconditioner (Bottom Part)\")"
     ],
     "language": "python",
     "metadata": {},
     "outputs": [
      {
       "metadata": {},
       "output_type": "pyout",
       "prompt_number": 10,
       "text": [
        "<matplotlib.text.Text at 0x6305190>"
       ]
      },
      {
       "metadata": {},
       "output_type": "display_data",
       "png": "[encoded data removed]",
       "text": [
        "<matplotlib.figure.Figure at 0x6295d90>"
       ]
      }
     ],
     "prompt_number": 10
    },
    {
     "cell_type": "heading",
     "level": 2,
     "metadata": {},
     "source": [
      "A Worst-Case Scenario"
     ]
    },
    {
     "cell_type": "markdown",
     "metadata": {},
     "source": [
      "A thin magnetic film."
     ]
    },
    {
     "cell_type": "code",
     "collapsed": false,
     "input": [
      "film = box(0, 0, 0, 500, 50, 1, maxh=2.0, directory=\"meshes\")\n",
      "m_film = df.Constant((1, 0, 0))\n",
      "unit_length = 1e-9\n",
      "\n",
      "print \"The used mesh has {} vertices.\".format(film.num_vertices())\n",
      "plot_mesh_with_paraview(film)"
     ],
     "language": "python",
     "metadata": {},
     "outputs": [
      {
       "output_type": "stream",
       "stream": "stderr",
       "text": [
        "[2014-01-13 14:01:25] DEBUG: The mesh '/home/mb8g11/Workspace/finmag/sandbox/fkdemag_solver_benchmark/meshes/box-0_0-0_0-0_0-500_0-50_0-1_0-2_0.xml.gz' already exists and is automatically returned.\n"
       ]
      },
      {
       "output_type": "stream",
       "stream": "stderr",
       "text": [
        "[2014-01-13 14:01:26] WARNING: Could not find the 'xpra' executable. You may want to install it to avoid annoying pop-up windows from Paraview. Under Debian/Ubuntu you can install it via 'sudo apt-get install xpra'.\n"
       ]
      },
      {
       "output_type": "stream",
       "stream": "stdout",
       "text": [
        "The used mesh has 14330 vertices.\n"
       ]
      },
      {
       "metadata": {},
       "output_type": "pyout",
       "png": "[encoded data removed]",
       "prompt_number": 11,
       "text": [
        "<IPython.core.display.Image at 0x6295a50>"
       ]
      }
     ],
     "prompt_number": 11
    },
    {
     "cell_type": "markdown",
     "metadata": {},
     "source": [
      "Because we don't have an analytic solution to compare to, the tool will use the default solver/preconditioner as a reference."
     ]
    },
    {
     "cell_type": "code",
     "collapsed": false,
     "input": [
      "tol = 1e-6"
     ],
     "language": "python",
     "metadata": {},
     "outputs": [],
     "prompt_number": 12
    },
    {
     "cell_type": "markdown",
     "metadata": {},
     "source": [
      "The tool will also compute the BEM only once, significantly speeding up the process."
     ]
    },
    {
     "cell_type": "heading",
     "level": 3,
     "metadata": {},
     "source": [
      "First Linear Solve"
     ]
    },
    {
     "cell_type": "code",
     "collapsed": false,
     "input": [
      "solvers, preconditioners, rf1, ff1, rf2, ff2 = run_measurements(m_film, film, unit_length, tol, repetitions, H_expected_film, \"film\")"
     ],
     "language": "python",
     "metadata": {},
     "outputs": []
    },
    {
     "cell_type": "code",
     "collapsed": false,
     "input": [
      "fig = column_chart(rf1, solvers, offset=0.02)\n",
      "fig.set_size_inches((20, 5))\n",
      "ax = fig.axes[0]\n",
      "ax.set_ylim([0, 0.7])\n",
      "ax.set_title(\"Time Spent Solving the First Linear System by Solver and Preconditioner (Bottom Part)\")"
     ],
     "language": "python",
     "metadata": {},
     "outputs": []
    },
    {
     "cell_type": "code",
     "collapsed": false,
     "input": [
      "fig = column_chart(rf2, solvers, offset=0.02)\n",
      "fig.set_size_inches((20, 5))\n",
      "ax = fig.axes[0]\n",
      "ax.set_ylim([0, 0.06])\n",
      "ax.set_title(\"Time Spent Solving the First Linear System by Solver and Preconditioner\")"
     ],
     "language": "python",
     "metadata": {},
     "outputs": []
    },
    {
     "cell_type": "heading",
     "level": 2,
     "metadata": {},
     "source": [
      "Simulating a Dynamical System"
     ]
    },
    {
     "cell_type": "code",
     "collapsed": false,
     "input": [
      "from aeon import default_timer, timed\n",
      "from finmag import Simulation\n",
      "from finmag.energies import Exchange, Zeeman"
     ],
     "language": "python",
     "metadata": {},
     "outputs": []
    },
    {
     "cell_type": "markdown",
     "metadata": {},
     "source": [
      "Let's see if the time savings in the first and second linear solves translate into a runtime improvement in a full-blown simulation."
     ]
    },
    {
     "cell_type": "code",
     "collapsed": false,
     "input": [
      "mesh = box(0, 0, 0, 500, 25, 1, maxh=2.0)\n",
      "print \"The mesh has {} vertices.\".format(mesh.num_vertices())\n",
      "Ms = 8.6e5\n",
      "unit_length = 1e-9\n",
      "A = 1.3e-11"
     ],
     "language": "python",
     "metadata": {},
     "outputs": []
    },
    {
     "cell_type": "markdown",
     "metadata": {},
     "source": [
      "Each *experiment* has a set of parameters as input and conducts a measurement using the **timed** context."
     ]
    },
    {
     "cell_type": "code",
     "collapsed": false,
     "input": [
      "def experiment(params):\n",
      "    sim = Simulation(mesh, Ms, unit_length)\n",
      "    sim.set_m((1, 0, 0))\n",
      "    sim.add(Exchange(A))\n",
      "    sim.add(Zeeman((Ms, 0, 0)))\n",
      "    demag = fk.FKDemag()\n",
      "    demag.parameters[\"phi_1_solver\"] = params[0]\n",
      "    demag.parameters[\"phi_1_preconditioner\"] = params[1]\n",
      "    demag.parameters[\"phi_2_solver\"] = params[2]\n",
      "    demag.parameters[\"phi_2_preconditioner\"] = params[3]\n",
      "    sim.add(demag)\n",
      "    with timed(\"measurement\"):\n",
      "        sim.run_until(5e-11)"
     ],
     "language": "python",
     "metadata": {},
     "outputs": []
    },
    {
     "cell_type": "markdown",
     "metadata": {},
     "source": [
      "The experiment-*runner* has many sets of parameters as input, and for each of them, records the result of the measurement."
     ]
    },
    {
     "cell_type": "code",
     "collapsed": false,
     "input": [
      "def runner(sets_of_params):\n",
      "    runtimes = []\n",
      "    for params in sets_of_params:\n",
      "        default_timer.reset()\n",
      "        fk.fk_timer.reset()\n",
      "        print \"Conducting the experiment with parameters '{}'.\".format(params)\n",
      "        experiment(params)\n",
      "        runtime = default_timer.time(\"measurement\")\n",
      "        runtimes.append(runtime)\n",
      "    return runtimes"
     ],
     "language": "python",
     "metadata": {},
     "outputs": []
    },
    {
     "cell_type": "markdown",
     "metadata": {},
     "source": [
      "The sets of parameters are defined:"
     ]
    },
    {
     "cell_type": "code",
     "collapsed": false,
     "input": [
      "sets = [\n",
      "    (\"default\", \"default\", \"default\", \"default\"),\n",
      "    (\"cg\", \"ilu\", \"cg\", \"ilu\"),\n",
      "    (\"cg\", \"ilu\", \"cg\", \"none\")]"
     ],
     "language": "python",
     "metadata": {},
     "outputs": []
    },
    {
     "cell_type": "markdown",
     "metadata": {},
     "source": [
      "And the experiments conducted."
     ]
    },
    {
     "cell_type": "code",
     "collapsed": false,
     "input": [
      "runtimes = runner(sets)"
     ],
     "language": "python",
     "metadata": {},
     "outputs": []
    },
    {
     "cell_type": "code",
     "collapsed": false,
     "input": [
      "for params, runtime in zip(sets, runtimes):\n",
      "    print \"With parameters '{}' runtime of {} s.\".format(params, runtime)"
     ],
     "language": "python",
     "metadata": {},
     "outputs": []
    },
    {
     "cell_type": "code",
     "collapsed": false,
     "input": [
      "100 * (1 - runtimes[2] / runtimes[0])"
     ],
     "language": "python",
     "metadata": {},
     "outputs": []
    },
    {
     "cell_type": "code",
     "collapsed": false,
     "input": [],
     "language": "python",
     "metadata": {},
     "outputs": []
    }
   ],
   "metadata": {}
  }
 ]
}