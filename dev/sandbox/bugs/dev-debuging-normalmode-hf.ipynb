{
 "metadata": {
  "name": ""
 },
 "nbformat": 3,
 "nbformat_minor": 0,
 "worksheets": [
  {
   "cells": [
    {
     "cell_type": "code",
     "collapsed": false,
     "input": [
      "import finmag\n"
     ],
     "language": "python",
     "metadata": {},
     "outputs": [
      {
       "output_type": "stream",
       "stream": "stderr",
       "text": [
        "[2013-11-11 12:54:50] INFO: Finmag logging output will be appended to file: '/home/fangohr2/.finmag/global.log'\n"
       ]
      },
      {
       "output_type": "stream",
       "stream": "stderr",
       "text": [
        "[2013-11-11 12:54:50] DEBUG: Building modules in 'native'...\n"
       ]
      },
      {
       "output_type": "stream",
       "stream": "stderr",
       "text": [
        "[2013-11-11 12:54:51] DEBUG:               Finmag: 4047:935aa14841c2e1862f2d9b5a9f317dce477f486c\n"
       ]
      },
      {
       "output_type": "stream",
       "stream": "stderr",
       "text": [
        "[2013-11-11 12:54:51] DEBUG:               Dolfin: 1.2.0\n"
       ]
      },
      {
       "output_type": "stream",
       "stream": "stderr",
       "text": [
        "[2013-11-11 12:54:51] DEBUG:           Matplotlib: 1.2.1\n"
       ]
      },
      {
       "output_type": "stream",
       "stream": "stderr",
       "text": [
        "[2013-11-11 12:54:51] DEBUG:                Numpy: 1.7.1\n"
       ]
      },
      {
       "output_type": "stream",
       "stream": "stderr",
       "text": [
        "[2013-11-11 12:54:51] DEBUG:                Scipy: 0.11.0\n"
       ]
      },
      {
       "output_type": "stream",
       "stream": "stderr",
       "text": [
        "[2013-11-11 12:54:51] DEBUG:              IPython: 1.1.0\n"
       ]
      },
      {
       "output_type": "stream",
       "stream": "stderr",
       "text": [
        "[2013-11-11 12:54:51] DEBUG:               Python: 2.7.4\n"
       ]
      },
      {
       "output_type": "stream",
       "stream": "stderr",
       "text": [
        "[2013-11-11 12:54:51] DEBUG:             Paraview: 3.98.0-1~exp1\n"
       ]
      },
      {
       "output_type": "stream",
       "stream": "stderr",
       "text": [
        "[2013-11-11 12:54:51] DEBUG:             Sundials: 2.5.0-3\n"
       ]
      },
      {
       "output_type": "stream",
       "stream": "stderr",
       "text": [
        "[2013-11-11 12:54:51] DEBUG:         Boost-Python: 1.49.0\n"
       ]
      },
      {
       "output_type": "stream",
       "stream": "stderr",
       "text": [
        "[2013-11-11 12:54:51] DEBUG:                Linux: Ubuntu 13.04\n"
       ]
      }
     ],
     "prompt_number": 1
    },
    {
     "cell_type": "code",
     "collapsed": false,
     "input": [
      "sim = finmag.example.normal_modes.disk()"
     ],
     "language": "python",
     "metadata": {},
     "outputs": [
      {
       "output_type": "stream",
       "stream": "stderr",
       "text": [
        "[2013-11-11 12:54:51] INFO: Finmag logging output will be written to file: '/home/fangohr2/hg/finmag/doc/ipython_notebooks_src/unnamed.log' (any old content will be overwritten).\n"
       ]
      },
      {
       "output_type": "stream",
       "stream": "stderr",
       "text": [
        "[2013-11-11 12:54:51] DEBUG: Creating DataWriter for file 'unnamed.ndt'\n"
       ]
      },
      {
       "output_type": "stream",
       "stream": "stderr",
       "text": [
        "[2013-11-11 12:54:51] INFO: Creating Sim object 'unnamed' (rank=0/1).\n"
       ]
      },
      {
       "output_type": "stream",
       "stream": "stderr",
       "text": [
        "[2013-11-11 12:54:51] INFO: <Mesh of topological dimension 3 (tetrahedra) with 333 vertices and 1016 cells, ordered>\n"
       ]
      },
      {
       "output_type": "stream",
       "stream": "stderr",
       "text": [
        "[2013-11-11 12:54:51] DEBUG: Creating LLG object.\n"
       ]
      },
      {
       "output_type": "stream",
       "stream": "stderr",
       "text": [
        "[2013-11-11 12:54:51] DEBUG: Creating Exchange object with method box-matrix-petsc, in Jacobian.\n"
       ]
      },
      {
       "output_type": "stream",
       "stream": "stderr",
       "text": [
        "[2013-11-11 12:54:51] DEBUG: Adding interaction <finmag.energies.exchange.Exchange object at 0x37e8850> to simulation 'unnamed'\n"
       ]
      },
      {
       "output_type": "stream",
       "stream": "stderr",
       "text": [
        "[2013-11-11 12:54:51] DEBUG: Adding interaction <finmag.energies.zeeman.Zeeman object at 0x38c4150> to simulation 'unnamed'\n"
       ]
      },
      {
       "output_type": "stream",
       "stream": "stderr",
       "text": [
        "[2013-11-11 12:54:51] DEBUG: Creating Demag object with solver 'FK'.\n"
       ]
      },
      {
       "output_type": "stream",
       "stream": "stderr",
       "text": [
        "[2013-11-11 12:54:51] DEBUG: Adding interaction <finmag.energies.demag.fk_demag.FKDemag object at 0x38ea7d0> to simulation 'unnamed'\n"
       ]
      },
      {
       "output_type": "stream",
       "stream": "stderr",
       "text": [
        "[2013-11-11 12:54:51] DEBUG: Successfuly created simulation 'unnamed'\n"
       ]
      },
      {
       "output_type": "stream",
       "stream": "stderr",
       "text": [
        "[2013-11-11 12:54:51] DEBUG: Loading restart data from /home/fangohr2/hg/finmag/src/finmag/example/normal_modes/disk_relaxed.npz. \n"
       ]
      },
      {
       "output_type": "stream",
       "stream": "stderr",
       "text": [
        "[2013-11-11 12:54:51] DEBUG: Creating integrator with backend sundials.\n"
       ]
      },
      {
       "output_type": "stream",
       "stream": "stderr",
       "text": [
        "[2013-11-11 12:54:51] DEBUG: llg_integrator: kwds = {'t0': 2.244448292803764e-10}\n"
       ]
      },
      {
       "output_type": "stream",
       "stream": "stderr",
       "text": [
        "[2013-11-11 12:54:51] INFO: Reloaded and set m (<m>=[  9.98589358e-01   9.96248224e-03  -1.63965155e-05]) and time=2.2444482928e-10 from /home/fangohr2/hg/finmag/src/finmag/example/normal_modes/disk_relaxed.npz.\n"
       ]
      }
     ],
     "prompt_number": 2
    },
    {
     "cell_type": "code",
     "collapsed": false,
     "input": [
      "sim.compute_normal_modes(5)"
     ],
     "language": "python",
     "metadata": {},
     "outputs": [
      {
       "output_type": "stream",
       "stream": "stderr",
       "text": [
        "[2013-11-11 12:54:51] DEBUG: Computing basis of the tangent space and transition matrices.\n"
       ]
      },
      {
       "output_type": "stream",
       "stream": "stderr",
       "text": [
        "[2013-11-11 12:54:51] WARNING: Q.shape: (3, 2, 333) (0.0152435302734 MB)\n"
       ]
      },
      {
       "output_type": "stream",
       "stream": "stderr",
       "text": [
        "[2013-11-11 12:54:51] INFO: Assembling eigenproblem matrix.\n"
       ]
      },
      {
       "output_type": "stream",
       "stream": "stderr",
       "text": [
        "[2013-11-11 12:54:51] DEBUG: Processing row 0/666  (time taken so far: 0.00 seconds)\n"
       ]
      },
      {
       "output_type": "stream",
       "stream": "stderr",
       "text": [
        "[2013-11-11 12:54:51] DEBUG: Processing row 50/666  (time taken so far: 0.47 seconds)\n"
       ]
      },
      {
       "output_type": "stream",
       "stream": "stderr",
       "text": [
        "[2013-11-11 12:54:52] DEBUG: Processing row 100/666  (time taken so far: 0.94 seconds)\n"
       ]
      },
      {
       "output_type": "stream",
       "stream": "stderr",
       "text": [
        "[2013-11-11 12:54:52] DEBUG: Processing row 150/666  (time taken so far: 1.40 seconds)\n"
       ]
      },
      {
       "output_type": "stream",
       "stream": "stderr",
       "text": [
        "[2013-11-11 12:54:53] DEBUG: Processing row 200/666  (time taken so far: 1.87 seconds)\n"
       ]
      },
      {
       "output_type": "stream",
       "stream": "stderr",
       "text": [
        "[2013-11-11 12:54:53] DEBUG: Processing row 250/666  (time taken so far: 2.34 seconds)\n"
       ]
      },
      {
       "output_type": "stream",
       "stream": "stderr",
       "text": [
        "[2013-11-11 12:54:54] DEBUG: Processing row 300/666  (time taken so far: 2.81 seconds)\n"
       ]
      },
      {
       "output_type": "stream",
       "stream": "stderr",
       "text": [
        "[2013-11-11 12:54:54] DEBUG: Processing row 350/666  (time taken so far: 3.27 seconds)\n"
       ]
      },
      {
       "output_type": "stream",
       "stream": "stderr",
       "text": [
        "[2013-11-11 12:54:55] DEBUG: Processing row 400/666  (time taken so far: 3.74 seconds)\n"
       ]
      },
      {
       "output_type": "stream",
       "stream": "stderr",
       "text": [
        "[2013-11-11 12:54:55] DEBUG: Processing row 450/666  (time taken so far: 4.21 seconds)\n"
       ]
      },
      {
       "output_type": "stream",
       "stream": "stderr",
       "text": [
        "[2013-11-11 12:54:56] DEBUG: Processing row 500/666  (time taken so far: 4.67 seconds)\n"
       ]
      },
      {
       "output_type": "stream",
       "stream": "stderr",
       "text": [
        "[2013-11-11 12:54:56] DEBUG: Processing row 550/666  (time taken so far: 5.13 seconds)\n"
       ]
      },
      {
       "output_type": "stream",
       "stream": "stderr",
       "text": [
        "[2013-11-11 12:54:57] DEBUG: Processing row 600/666  (time taken so far: 5.60 seconds)\n"
       ]
      },
      {
       "output_type": "stream",
       "stream": "stderr",
       "text": [
        "[2013-11-11 12:54:57] DEBUG: Processing row 650/666  (time taken so far: 6.07 seconds)\n"
       ]
      },
      {
       "output_type": "stream",
       "stream": "stderr",
       "text": [
        "[2013-11-11 12:54:57] DEBUG: Eigenproblem matrix A occupies 6.77 MB of memory.\n"
       ]
      },
      {
       "output_type": "stream",
       "stream": "stderr",
       "text": [
        "[2013-11-11 12:54:57] DEBUG: Solving eigenproblem. This may take a while...\n"
       ]
      },
      {
       "output_type": "stream",
       "stream": "stderr",
       "text": [
        "[2013-11-11 12:54:58] DEBUG: Computing the eigenvalues and eigenvectors took 0.36 seconds\n"
       ]
      },
      {
       "metadata": {},
       "output_type": "pyout",
       "prompt_number": 3,
       "text": [
        "(array([  8.03509057,   9.39994468,  14.57677606,  16.00366191,  17.33810388]),\n",
        " array([[  2.47551356e-03 -1.44670291e-02j,\n",
        "          3.16502388e-05 -2.52423630e-05j,\n",
        "         -1.25333518e-02 -1.15875770e-02j,\n",
        "         -9.86346763e-03 +1.14859333e-02j,\n",
        "         -2.31784038e-06 +3.30628006e-05j],\n",
        "       [  2.52790514e-03 -1.47029798e-02j,\n",
        "         -1.17436495e-03 +3.18807333e-03j,\n",
        "         -1.24720215e-02 -1.15323046e-02j,\n",
        "         -9.44621935e-03 +1.10025859e-02j,\n",
        "          1.32537790e-03 -4.78723556e-03j],\n",
        "       [  2.69693300e-03 -1.56044774e-02j,\n",
        "         -2.43805640e-03 +6.75388669e-03j,\n",
        "         -1.22258570e-02 -1.13344937e-02j,\n",
        "         -7.94911679e-03 +9.21139688e-03j,\n",
        "          2.50818911e-03 -9.45160668e-03j],\n",
        "       ..., \n",
        "       [ -5.80010261e-03 -1.13060824e-03j,\n",
        "         -3.32072516e-04 -1.26988853e-04j,\n",
        "         -6.51742811e-04 +6.88797904e-04j,\n",
        "          5.19195666e-03 +4.69691968e-03j,\n",
        "          1.57191967e-04 +3.39659188e-05j],\n",
        "       [ -6.15092581e-03 -1.15479835e-03j,\n",
        "         -1.91024414e-03 -7.30034612e-04j,\n",
        "          5.95067177e-03 -5.93470500e-03j,\n",
        "          5.85444942e-03 +5.33764790e-03j,\n",
        "         -2.79907488e-03 -8.26295759e-04j],\n",
        "       [ -7.36549904e-03 -1.41759649e-03j,\n",
        "         -4.75924049e-03 -1.84467487e-03j,\n",
        "         -8.40523966e-03 +8.57482086e-03j,\n",
        "          5.44822947e-03 +4.95050115e-03j,\n",
        "          9.00898161e-03 +2.55627810e-03j]]))"
       ]
      }
     ],
     "prompt_number": 3
    },
    {
     "cell_type": "code",
     "collapsed": false,
     "input": [
      "sim.plot_spatially_resolved_normal_mode(2, slice_z='z_max', outfilename=\"normal_mode.png\")"
     ],
     "language": "python",
     "metadata": {},
     "outputs": [
      {
       "ename": "TypeError",
       "evalue": "MeshData_array expected 2 arguments, got 3",
       "output_type": "pyerr",
       "traceback": [
        "\u001b[1;31m---------------------------------------------------------------------------\u001b[0m\n\u001b[1;31mTypeError\u001b[0m                                 Traceback (most recent call last)",
        "\u001b[1;32m<ipython-input-4-a9dad0749201>\u001b[0m in \u001b[0;36m<module>\u001b[1;34m()\u001b[0m\n\u001b[1;32m----> 1\u001b[1;33m \u001b[0msim\u001b[0m\u001b[1;33m.\u001b[0m\u001b[0mplot_spatially_resolved_normal_mode\u001b[0m\u001b[1;33m(\u001b[0m\u001b[1;36m2\u001b[0m\u001b[1;33m,\u001b[0m \u001b[0mslice_z\u001b[0m\u001b[1;33m=\u001b[0m\u001b[1;34m'z_max'\u001b[0m\u001b[1;33m,\u001b[0m \u001b[0moutfilename\u001b[0m\u001b[1;33m=\u001b[0m\u001b[1;34m\"normal_mode.png\"\u001b[0m\u001b[1;33m)\u001b[0m\u001b[1;33m\u001b[0m\u001b[0m\n\u001b[0m",
        "\u001b[1;32m/home/fangohr2/hg/finmag/src/finmag/sim/sim.pyc\u001b[0m in \u001b[0;36mplot_spatially_resolved_normal_mode\u001b[1;34m(self, k, slice_z, components, figure_title, yshift_title, plot_powers, plot_phases, num_phase_colorbar_ticks, cmap_powers, cmap_phases, vmin_powers, show_axis_labels, show_axis_frames, show_colorbars, figsize, outfilename, dpi)\u001b[0m\n\u001b[0;32m   1651\u001b[0m             \u001b[0mshow_axis_labels\u001b[0m\u001b[1;33m=\u001b[0m\u001b[0mshow_axis_labels\u001b[0m\u001b[1;33m,\u001b[0m \u001b[0mshow_axis_frames\u001b[0m\u001b[1;33m=\u001b[0m\u001b[0mshow_axis_frames\u001b[0m\u001b[1;33m,\u001b[0m\u001b[1;33m\u001b[0m\u001b[0m\n\u001b[0;32m   1652\u001b[0m             \u001b[0mshow_colorbars\u001b[0m\u001b[1;33m=\u001b[0m\u001b[0mshow_colorbars\u001b[0m\u001b[1;33m,\u001b[0m \u001b[0mfigsize\u001b[0m\u001b[1;33m=\u001b[0m\u001b[0mfigsize\u001b[0m\u001b[1;33m,\u001b[0m\u001b[1;33m\u001b[0m\u001b[0m\n\u001b[1;32m-> 1653\u001b[1;33m             outfilename=outfilename, dpi=dpi)\n\u001b[0m\u001b[0;32m   1654\u001b[0m         \u001b[1;32mreturn\u001b[0m \u001b[0mfig\u001b[0m\u001b[1;33m\u001b[0m\u001b[0m\n\u001b[0;32m   1655\u001b[0m \u001b[1;33m\u001b[0m\u001b[0m\n",
        "\u001b[1;32m/home/fangohr2/hg/finmag/src/finmag/util/normal_modes.py\u001b[0m in \u001b[0;36mplot_spatially_resolved_normal_mode\u001b[1;34m(sim, w, slice_z, components, figure_title, yshift_title, plot_powers, plot_phases, num_phase_colorbar_ticks, cmap_powers, cmap_phases, vmin_powers, show_axis_labels, show_axis_frames, show_colorbars, figsize, outfilename, dpi)\u001b[0m\n\u001b[0;32m    578\u001b[0m \u001b[1;33m\u001b[0m\u001b[0m\n\u001b[0;32m    579\u001b[0m     \u001b[1;31m# Original line that fails\u001b[0m\u001b[1;33m\u001b[0m\u001b[1;33m\u001b[0m\u001b[0m\n\u001b[1;32m--> 580\u001b[1;33m     \u001b[0mparent_vertex_indices\u001b[0m \u001b[1;33m=\u001b[0m \u001b[0msurface_layer\u001b[0m\u001b[1;33m.\u001b[0m\u001b[0mdata\u001b[0m\u001b[1;33m(\u001b[0m\u001b[1;33m)\u001b[0m\u001b[1;33m.\u001b[0m\u001b[0marray\u001b[0m\u001b[1;33m(\u001b[0m\u001b[1;34m\"parent_vertex_indices\"\u001b[0m\u001b[1;33m,\u001b[0m \u001b[1;36m0\u001b[0m\u001b[1;33m)\u001b[0m\u001b[1;33m\u001b[0m\u001b[0m\n\u001b[0m\u001b[0;32m    581\u001b[0m \u001b[1;33m\u001b[0m\u001b[0m\n\u001b[0;32m    582\u001b[0m     \u001b[1;31m## Hans' attempt to fix (only guessing)\u001b[0m\u001b[1;33m\u001b[0m\u001b[1;33m\u001b[0m\u001b[0m\n",
        "\u001b[1;31mTypeError\u001b[0m: MeshData_array expected 2 arguments, got 3"
       ]
      }
     ],
     "prompt_number": 4
    },
    {
     "cell_type": "code",
     "collapsed": false,
     "input": [
      "#%debug"
     ],
     "language": "python",
     "metadata": {},
     "outputs": [],
     "prompt_number": 5
    }
   ],
   "metadata": {}
  }
 ]
}