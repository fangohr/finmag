{
 "metadata": {
  "name": "",
  "signature": "sha256:2b2497a1b9b7acb88815b2bb09a056d6cd1e24cccbe65c29c35f9c04ee36ca70"
 },
 "nbformat": 3,
 "nbformat_minor": 0,
 "worksheets": [
  {
   "cells": [
    {
     "cell_type": "code",
     "collapsed": false,
     "input": [],
     "language": "python",
     "metadata": {},
     "outputs": [],
     "prompt_number": 0
    },
    {
     "cell_type": "code",
     "collapsed": false,
     "input": [
      "import os\n",
      "import psutil    # sudo apt-get install python-psutils\n",
      "import dolfin as df\n",
      "import finmag\n",
      "\n",
      "# get handle to this process\n",
      "p = psutil.Process(os.getpid())\n",
      "\n",
      "def openfiles():\n",
      "    return p.get_open_files()\n",
      "\n",
      "def openfilescount():\n",
      "    return len(openfiles())\n",
      "\n",
      "def create_finmag_sim_object(name):\n",
      "    mesh = df.UnitIntervalMesh(1)\n",
      "    sim = finmag.Simulation(mesh, Ms=1, unit_length=1e-9, name=name)\n",
      "    return sim\n",
      "\n",
      "def create_sims(base='sim', start=0, stop=20):\n",
      "    sims = []\n",
      "\n",
      "    for i in range(start, stop):\n",
      "        name = '%s-%04d' % (base, i)\n",
      "        print(\"Creating object %s\" % name)\n",
      "        sims.append(create_finmag_sim_object(name))\n",
      "        print(\"name=%s, i=%d, %d files open\" % (name, i, openfilescount()))\n",
      "    return sims\n",
      "\n",
      "#sims = create_sims()\n",
      "#sims = sims + create_sims(base='sim2')\n",
      "\n",
      "\n",
      "\n",
      "\n",
      "\n"
     ],
     "language": "python",
     "metadata": {},
     "outputs": [
      {
       "output_type": "stream",
       "stream": "stderr",
       "text": [
        "[2015-03-27 15:52:44] INFO: Finmag logging output will be appended to file: '/home/fangohr/.finmag/global.log'\n"
       ]
      },
      {
       "output_type": "stream",
       "stream": "stderr",
       "text": [
        "[2015-03-27 15:52:44] DEBUG: Building modules in 'native'...\n"
       ]
      },
      {
       "output_type": "stream",
       "stream": "stderr",
       "text": [
        "[2015-03-27 15:52:44] DEBUG: FinMag          5823:a7b501055810a76ba6f4f620d69658bb19d4bbb2\n"
       ]
      },
      {
       "output_type": "stream",
       "stream": "stderr",
       "text": [
        "[2015-03-27 15:52:44] DEBUG: Dolfin          1.4.0                Matplotlib      lazily loaded       \n"
       ]
      },
      {
       "output_type": "stream",
       "stream": "stderr",
       "text": [
        "[2015-03-27 15:52:44] DEBUG: Numpy           1.8.2                Scipy           0.15.1              \n"
       ]
      },
      {
       "output_type": "stream",
       "stream": "stderr",
       "text": [
        "[2015-03-27 15:52:44] DEBUG: IPython         2.4.0                Python          2.7.6               \n"
       ]
      },
      {
       "output_type": "stream",
       "stream": "stderr",
       "text": [
        "[2015-03-27 15:52:44] DEBUG: Paraview        4.0.1-1ubuntu1       Sundials        2.5.0               \n"
       ]
      },
      {
       "output_type": "stream",
       "stream": "stderr",
       "text": [
        "[2015-03-27 15:52:44] DEBUG: Boost-Python    <unknown>            Linux           Ubuntu 14.04.1 LTS  \n"
       ]
      },
      {
       "output_type": "stream",
       "stream": "stderr",
       "text": [
        "[2015-03-27 15:52:44] DEBUG: Registering debug signal handler. Press Ctrl-Z any time to stop execution and jump into the debugger.\n"
       ]
      }
     ],
     "prompt_number": 1
    },
    {
     "cell_type": "code",
     "collapsed": false,
     "input": [
      "sims = []\n",
      "for i in range(10):\n",
      "    s = create_finmag_sim_object('two')\n",
      "    sims.append(s)\n",
      "    print(openfilescount())\n",
      "    import logging\n",
      "    logging.shutdown()"
     ],
     "language": "python",
     "metadata": {},
     "outputs": [
      {
       "output_type": "stream",
       "stream": "stderr",
       "text": [
        "[2015-03-27 15:55:51] INFO: Finmag logging output will be written to file: '/home/fangohr/hg/finmag/sandbox/bugs/too-many-open-files/two.log' (any old content will be overwritten).\n"
       ]
      },
      {
       "output_type": "stream",
       "stream": "stderr",
       "text": [
        "[2015-03-27 15:55:51] DEBUG: Creating DataWriter for file 'two.ndt'\n"
       ]
      },
      {
       "output_type": "stream",
       "stream": "stderr",
       "text": [
        "[2015-03-27 15:55:51] INFO: Creating Sim object 'two' (rank=0/1).\n"
       ]
      },
      {
       "output_type": "stream",
       "stream": "stderr",
       "text": [
        "[2015-03-27 15:55:51] INFO: <Mesh of topological dimension 1 (intervals) with 2 vertices and 1 cells, ordered>\n"
       ]
      },
      {
       "output_type": "stream",
       "stream": "stderr",
       "text": [
        "[2015-03-27 15:55:51] DEBUG: Creating LLG object.\n"
       ]
      },
      {
       "output_type": "stream",
       "stream": "stdout",
       "text": [
        "105\n"
       ]
      },
      {
       "output_type": "stream",
       "stream": "stderr",
       "text": [
        "[2015-03-27 15:55:51] INFO: Finmag logging output will be written to file: '/home/fangohr/hg/finmag/sandbox/bugs/too-many-open-files/two.log' (any old content will be overwritten).\n"
       ]
      },
      {
       "output_type": "stream",
       "stream": "stderr",
       "text": [
        "[2015-03-27 15:55:51] DEBUG: Creating DataWriter for file 'two.ndt'\n"
       ]
      },
      {
       "output_type": "stream",
       "stream": "stderr",
       "text": [
        "[2015-03-27 15:55:51] INFO: Creating Sim object 'two' (rank=0/1).\n"
       ]
      },
      {
       "output_type": "stream",
       "stream": "stderr",
       "text": [
        "[2015-03-27 15:55:51] INFO: <Mesh of topological dimension 1 (intervals) with 2 vertices and 1 cells, ordered>\n"
       ]
      },
      {
       "output_type": "stream",
       "stream": "stderr",
       "text": [
        "[2015-03-27 15:55:51] DEBUG: Creating LLG object.\n"
       ]
      },
      {
       "output_type": "stream",
       "stream": "stdout",
       "text": [
        "106\n"
       ]
      },
      {
       "output_type": "stream",
       "stream": "stderr",
       "text": [
        "[2015-03-27 15:55:51] INFO: Finmag logging output will be written to file: '/home/fangohr/hg/finmag/sandbox/bugs/too-many-open-files/two.log' (any old content will be overwritten).\n"
       ]
      },
      {
       "output_type": "stream",
       "stream": "stderr",
       "text": [
        "[2015-03-27 15:55:51] DEBUG: Creating DataWriter for file 'two.ndt'\n"
       ]
      },
      {
       "output_type": "stream",
       "stream": "stderr",
       "text": [
        "[2015-03-27 15:55:51] INFO: Creating Sim object 'two' (rank=0/1).\n"
       ]
      },
      {
       "output_type": "stream",
       "stream": "stderr",
       "text": [
        "[2015-03-27 15:55:51] INFO: <Mesh of topological dimension 1 (intervals) with 2 vertices and 1 cells, ordered>\n"
       ]
      },
      {
       "output_type": "stream",
       "stream": "stderr",
       "text": [
        "[2015-03-27 15:55:51] DEBUG: Creating LLG object.\n"
       ]
      },
      {
       "output_type": "stream",
       "stream": "stdout",
       "text": [
        "107\n"
       ]
      },
      {
       "output_type": "stream",
       "stream": "stderr",
       "text": [
        "[2015-03-27 15:55:51] INFO: Finmag logging output will be written to file: '/home/fangohr/hg/finmag/sandbox/bugs/too-many-open-files/two.log' (any old content will be overwritten).\n"
       ]
      },
      {
       "output_type": "stream",
       "stream": "stderr",
       "text": [
        "[2015-03-27 15:55:51] DEBUG: Creating DataWriter for file 'two.ndt'\n"
       ]
      },
      {
       "output_type": "stream",
       "stream": "stderr",
       "text": [
        "[2015-03-27 15:55:51] INFO: Creating Sim object 'two' (rank=0/1).\n"
       ]
      },
      {
       "output_type": "stream",
       "stream": "stderr",
       "text": [
        "[2015-03-27 15:55:51] INFO: <Mesh of topological dimension 1 (intervals) with 2 vertices and 1 cells, ordered>\n"
       ]
      },
      {
       "output_type": "stream",
       "stream": "stderr",
       "text": [
        "[2015-03-27 15:55:51] DEBUG: Creating LLG object.\n"
       ]
      },
      {
       "output_type": "stream",
       "stream": "stdout",
       "text": [
        "108\n"
       ]
      },
      {
       "output_type": "stream",
       "stream": "stderr",
       "text": [
        "[2015-03-27 15:55:51] INFO: Finmag logging output will be written to file: '/home/fangohr/hg/finmag/sandbox/bugs/too-many-open-files/two.log' (any old content will be overwritten).\n"
       ]
      },
      {
       "output_type": "stream",
       "stream": "stderr",
       "text": [
        "[2015-03-27 15:55:51] DEBUG: Creating DataWriter for file 'two.ndt'\n"
       ]
      },
      {
       "output_type": "stream",
       "stream": "stderr",
       "text": [
        "[2015-03-27 15:55:51] INFO: Creating Sim object 'two' (rank=0/1).\n"
       ]
      },
      {
       "output_type": "stream",
       "stream": "stderr",
       "text": [
        "[2015-03-27 15:55:51] INFO: <Mesh of topological dimension 1 (intervals) with 2 vertices and 1 cells, ordered>\n"
       ]
      },
      {
       "output_type": "stream",
       "stream": "stderr",
       "text": [
        "[2015-03-27 15:55:51] DEBUG: Creating LLG object.\n"
       ]
      },
      {
       "output_type": "stream",
       "stream": "stdout",
       "text": [
        "109\n"
       ]
      },
      {
       "output_type": "stream",
       "stream": "stderr",
       "text": [
        "[2015-03-27 15:55:51] INFO: Finmag logging output will be written to file: '/home/fangohr/hg/finmag/sandbox/bugs/too-many-open-files/two.log' (any old content will be overwritten).\n"
       ]
      },
      {
       "output_type": "stream",
       "stream": "stderr",
       "text": [
        "[2015-03-27 15:55:51] DEBUG: Creating DataWriter for file 'two.ndt'\n"
       ]
      },
      {
       "output_type": "stream",
       "stream": "stderr",
       "text": [
        "[2015-03-27 15:55:51] INFO: Creating Sim object 'two' (rank=0/1).\n"
       ]
      },
      {
       "output_type": "stream",
       "stream": "stderr",
       "text": [
        "[2015-03-27 15:55:51] INFO: <Mesh of topological dimension 1 (intervals) with 2 vertices and 1 cells, ordered>\n"
       ]
      },
      {
       "output_type": "stream",
       "stream": "stderr",
       "text": [
        "[2015-03-27 15:55:51] DEBUG: Creating LLG object.\n"
       ]
      },
      {
       "output_type": "stream",
       "stream": "stdout",
       "text": [
        "110\n"
       ]
      },
      {
       "output_type": "stream",
       "stream": "stderr",
       "text": [
        "[2015-03-27 15:55:51] INFO: Finmag logging output will be written to file: '/home/fangohr/hg/finmag/sandbox/bugs/too-many-open-files/two.log' (any old content will be overwritten).\n"
       ]
      },
      {
       "output_type": "stream",
       "stream": "stderr",
       "text": [
        "[2015-03-27 15:55:51] DEBUG: Creating DataWriter for file 'two.ndt'\n"
       ]
      },
      {
       "output_type": "stream",
       "stream": "stderr",
       "text": [
        "[2015-03-27 15:55:51] INFO: Creating Sim object 'two' (rank=0/1).\n"
       ]
      },
      {
       "output_type": "stream",
       "stream": "stderr",
       "text": [
        "[2015-03-27 15:55:51] INFO: <Mesh of topological dimension 1 (intervals) with 2 vertices and 1 cells, ordered>\n"
       ]
      },
      {
       "output_type": "stream",
       "stream": "stderr",
       "text": [
        "[2015-03-27 15:55:51] DEBUG: Creating LLG object.\n"
       ]
      },
      {
       "output_type": "stream",
       "stream": "stdout",
       "text": [
        "111\n"
       ]
      },
      {
       "output_type": "stream",
       "stream": "stderr",
       "text": [
        "[2015-03-27 15:55:51] INFO: Finmag logging output will be written to file: '/home/fangohr/hg/finmag/sandbox/bugs/too-many-open-files/two.log' (any old content will be overwritten).\n"
       ]
      },
      {
       "output_type": "stream",
       "stream": "stderr",
       "text": [
        "[2015-03-27 15:55:51] DEBUG: Creating DataWriter for file 'two.ndt'\n"
       ]
      },
      {
       "output_type": "stream",
       "stream": "stderr",
       "text": [
        "[2015-03-27 15:55:51] INFO: Creating Sim object 'two' (rank=0/1).\n"
       ]
      },
      {
       "output_type": "stream",
       "stream": "stderr",
       "text": [
        "[2015-03-27 15:55:51] INFO: <Mesh of topological dimension 1 (intervals) with 2 vertices and 1 cells, ordered>\n"
       ]
      },
      {
       "output_type": "stream",
       "stream": "stderr",
       "text": [
        "[2015-03-27 15:55:51] DEBUG: Creating LLG object.\n"
       ]
      },
      {
       "output_type": "stream",
       "stream": "stdout",
       "text": [
        "112\n"
       ]
      },
      {
       "output_type": "stream",
       "stream": "stderr",
       "text": [
        "[2015-03-27 15:55:52] INFO: Finmag logging output will be written to file: '/home/fangohr/hg/finmag/sandbox/bugs/too-many-open-files/two.log' (any old content will be overwritten).\n"
       ]
      },
      {
       "output_type": "stream",
       "stream": "stderr",
       "text": [
        "[2015-03-27 15:55:52] DEBUG: Creating DataWriter for file 'two.ndt'\n"
       ]
      },
      {
       "output_type": "stream",
       "stream": "stderr",
       "text": [
        "[2015-03-27 15:55:52] INFO: Creating Sim object 'two' (rank=0/1).\n"
       ]
      },
      {
       "output_type": "stream",
       "stream": "stderr",
       "text": [
        "[2015-03-27 15:55:52] INFO: <Mesh of topological dimension 1 (intervals) with 2 vertices and 1 cells, ordered>\n"
       ]
      },
      {
       "output_type": "stream",
       "stream": "stderr",
       "text": [
        "[2015-03-27 15:55:52] DEBUG: Creating LLG object.\n"
       ]
      },
      {
       "output_type": "stream",
       "stream": "stdout",
       "text": [
        "113\n"
       ]
      },
      {
       "output_type": "stream",
       "stream": "stderr",
       "text": [
        "[2015-03-27 15:55:52] INFO: Finmag logging output will be written to file: '/home/fangohr/hg/finmag/sandbox/bugs/too-many-open-files/two.log' (any old content will be overwritten).\n"
       ]
      },
      {
       "output_type": "stream",
       "stream": "stderr",
       "text": [
        "[2015-03-27 15:55:52] DEBUG: Creating DataWriter for file 'two.ndt'\n"
       ]
      },
      {
       "output_type": "stream",
       "stream": "stderr",
       "text": [
        "[2015-03-27 15:55:52] INFO: Creating Sim object 'two' (rank=0/1).\n"
       ]
      },
      {
       "output_type": "stream",
       "stream": "stderr",
       "text": [
        "[2015-03-27 15:55:52] INFO: <Mesh of topological dimension 1 (intervals) with 2 vertices and 1 cells, ordered>\n"
       ]
      },
      {
       "output_type": "stream",
       "stream": "stderr",
       "text": [
        "[2015-03-27 15:55:52] DEBUG: Creating LLG object.\n"
       ]
      },
      {
       "output_type": "stream",
       "stream": "stdout",
       "text": [
        "114\n"
       ]
      }
     ],
     "prompt_number": 8
    },
    {
     "cell_type": "code",
     "collapsed": false,
     "input": [
      "for s in sims:\n",
      "    s.close_logfile()\n",
      "    print(openfilescount())"
     ],
     "language": "python",
     "metadata": {},
     "outputs": [
      {
       "output_type": "stream",
       "stream": "stderr",
       "text": [
        "[2015-03-27 15:55:57] INFO: Closing logging_handler <logging.handlers.RotatingFileHandler object at 0x7f24d1615450> for sim object two\n"
       ]
      },
      {
       "output_type": "stream",
       "stream": "stderr",
       "text": [
        "[2015-03-27 15:55:57] INFO: Closing logging_handler <logging.handlers.RotatingFileHandler object at 0x7f24d14b2910> for sim object two\n"
       ]
      },
      {
       "output_type": "stream",
       "stream": "stderr",
       "text": [
        "[2015-03-27 15:55:57] INFO: Closing logging_handler <logging.handlers.RotatingFileHandler object at 0x7f24d03e72d0> for sim object two\n"
       ]
      },
      {
       "output_type": "stream",
       "stream": "stderr",
       "text": [
        "[2015-03-27 15:55:57] INFO: Closing logging_handler <logging.handlers.RotatingFileHandler object at 0x7f24d03e9250> for sim object two\n"
       ]
      },
      {
       "output_type": "stream",
       "stream": "stderr",
       "text": [
        "[2015-03-27 15:55:57] INFO: Closing logging_handler <logging.handlers.RotatingFileHandler object at 0x7f24d03e9610> for sim object two\n"
       ]
      },
      {
       "output_type": "stream",
       "stream": "stdout",
       "text": [
        "114\n",
        "113\n",
        "112\n",
        "111\n",
        "109"
       ]
      },
      {
       "output_type": "stream",
       "stream": "stderr",
       "text": [
        "[2015-03-27 15:55:57] INFO: Closing logging_handler <logging.handlers.RotatingFileHandler object at 0x7f24d03ef6d0> for sim object two\n"
       ]
      },
      {
       "output_type": "stream",
       "stream": "stderr",
       "text": [
        "[2015-03-27 15:55:57] INFO: Closing logging_handler <logging.handlers.RotatingFileHandler object at 0x7f24d03ee750> for sim object two\n"
       ]
      },
      {
       "output_type": "stream",
       "stream": "stderr",
       "text": [
        "[2015-03-27 15:55:57] INFO: Closing logging_handler <logging.handlers.RotatingFileHandler object at 0x7f24d03f50d0> for sim object two\n"
       ]
      },
      {
       "output_type": "stream",
       "stream": "stderr",
       "text": [
        "[2015-03-27 15:55:57] INFO: Closing logging_handler <logging.handlers.RotatingFileHandler object at 0x7f24d03f5dd0> for sim object two\n"
       ]
      },
      {
       "output_type": "stream",
       "stream": "stderr",
       "text": [
        "[2015-03-27 15:55:57] INFO: Closing logging_handler <logging.handlers.RotatingFileHandler object at 0x7f24d036aa50> for sim object two\n"
       ]
      },
      {
       "output_type": "stream",
       "stream": "stdout",
       "text": [
        "\n",
        "108\n",
        "107\n",
        "106\n",
        "105\n",
        "104"
       ]
      },
      {
       "output_type": "stream",
       "stream": "stdout",
       "text": [
        "\n"
       ]
      }
     ],
     "prompt_number": 9
    },
    {
     "cell_type": "code",
     "collapsed": false,
     "input": [],
     "language": "python",
     "metadata": {},
     "outputs": []
    }
   ],
   "metadata": {}
  }
 ]
}