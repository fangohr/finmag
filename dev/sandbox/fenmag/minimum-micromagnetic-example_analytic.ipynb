{
 "cells": [
  {
   "cell_type": "code",
   "execution_count": 2,
   "metadata": {
    "collapsed": false,
    "deletable": true,
    "editable": true
   },
   "outputs": [],
   "source": [
    "%matplotlib inline"
   ]
  },
  {
   "cell_type": "markdown",
   "metadata": {
    "deletable": true,
    "editable": true
   },
   "source": [
    "# Basic micromagnetics\n",
    "The goal of micromagnetics is to compute the equilibrium magnetization configuration of a given magnetic sample. Its physical shape is modeled by the mesh. The size of the mesh cells is limited by a physical length scale originating from the ferromagnetic exchange interaction and we need to compute the magnetization configuration that arises, when an external magnetic field (the Zeeman field) is applied along a certain spatial direction. The micromagnetic moments $\\vec{m}$ sitting on the sites of the mesh nodes will start to align themselves with the external field, but are also subject to the nearest-neighbour interaction from the exchange. The equation of motion describing the magnetization reversal is the Landau-Lifshitz-Gilbert equation\n",
    "\n",
    "$$\n",
    "\\frac{d\\vec{m}}{dt} = -\\frac{\\gamma}{1 + \\alpha^2}\\left(\\vec{m} \\times \\vec{H}_{\\mathrm{eff}}\\right) - \\frac{\\gamma\\alpha}{1 + \\alpha^2} \\left[\\vec{m} \\times \\left(\\vec{m} \\times \\vec{H}_{\\mathrm{eff}}\\right)\\right]\n",
    "$$\n",
    "\n",
    "given here in its explicit form with the gyromagnetic ration $\\gamma$ and the Gilbert damping parameter $\\alpha$. $\\vec{H}_{\\mathrm{eff}}$ is the effective field acting on the magnetic moment, which in reality consists of more terms than the Zeeman and exchange fields only. It is computed from the functional derivative of the total magnetic energy density $w (\\vec{m})$\n",
    "\n",
    "$$\n",
    "\\vec{H}_{\\mathrm{eff}}(\\vec{m}) = -\\frac{1}{\\mu_0 M_S}\\frac{\\delta w (\\vec{m})}{\\delta \\vec{m}}\n",
    "$$\n",
    "\n",
    "where\n",
    "\n",
    "$$\n",
    "w (\\vec{m}) = A(\\nabla \\vec{m})^2 - \\mu_0 M_S \\vec{m}\\cdot \\vec{H}.\n",
    "$$\n",
    "\n",
    "The used constants are the vacuum permeability $\\mu_0$, the saturation magnetization $M_S$, the ferromagnetic exchange constant $A$ and the Zeeman field $\\vec{H}$.\n"
   ]
  },
  {
   "cell_type": "code",
   "execution_count": 3,
   "metadata": {
    "collapsed": false,
    "deletable": true,
    "editable": true
   },
   "outputs": [],
   "source": [
    "import fenics as df\n",
    "import numpy as np\n",
    "import matplotlib.pyplot as plt\n",
    "df.parameters[\"plotting_backend\"] = \"matplotlib\"\n",
    "\n",
    "# Material parameters\n",
    "Ms = 8.6e5  # saturation magnetisation (A/m)\n",
    "alpha = 0.1  # Gilbert damping\n",
    "gamma = 2.211e5  # gyromagnetic ratio\n",
    "A = 1e-11 # exchange constant (J/m)\n",
    "\n",
    "# External magentic field.\n",
    "B = 0.1  # (T)\n",
    "mu0 = 4 * np.pi * 1e-7  # vacuum permeability\n",
    "\n",
    "# Zeeman field\n",
    "H = Ms / 2 * df.Constant((0,0,1))\n",
    "# meaningful time period is of order of nano seconds\n",
    "dt = 1e-12\n",
    "\n",
    "# mesh parameters\n",
    "d = 10e-9\n",
    "thickness = 10e-9\n",
    "nx = ny = 2\n",
    "nz = 1\n",
    "\n",
    "# create mesh\n",
    "p1 = df.Point(0, 0, 0)\n",
    "p2 = df.Point(d, d, thickness)\n",
    "mesh = df.BoxMesh(p1, p2, nx, ny, nz)\n",
    "\n",
    "# define function space for magnetization\n",
    "V = df.VectorFunctionSpace(mesh, \"CG\", 1, dim=3)\n",
    "\n",
    "# define initial M and normalise\n",
    "   \n",
    "m_init = df.Expression((\"1\",\"5.*pow((cos(pi*((x[0]-11)/6.))),3)*pow((cos(pi*(x[1]/6.))),3)\", \"0\"), degree=3)\n",
    "# m_init = df.Constant((1, 0, 0))\n",
    "m = df.interpolate(m_init, V)\n",
    "v = df.TestFunction(V)\n",
    "\n",
    "\n",
    "def energy_density(m):\n",
    "    w_Zeeman = - mu0 * Ms * df.dot(m, H)\n",
    "    w_exchange = A  * df.inner(df.grad(m), df.grad(m))\n",
    "    w = w_Zeeman + w_exchange\n",
    "    return w\n",
    "\n",
    "def effective_field(w, m, volume=None):\n",
    "    return - 1/mu0 * df.derivative(w / Ms * df.dx, m)\n",
    "    # snippet for box method: [do we need it??]\n",
    "    # Heff = df.assemble(dE_dm).array()/volume\n",
    "\n",
    "def LLG(Heff, m, alpha, gamma):\n",
    "    tmp1 = -gamma/(1+alpha*alpha)*df.cross(m, Heff) - alpha*gamma/(1+alpha*alpha)*df.cross(m, df.cross(m, Heff))\n",
    "    # get form that can be turned into vector using 'assemble'\n",
    "    dmdt = df.dot(tmp1, df.TestFunction(V)) * df.dP\n",
    "    return dmdt\n",
    "    \n",
    "def turn_form_to_function(form, vectorspace):\n",
    "    \"\"\"Given a form, compute a function, by projecting the form and the\n",
    "    desired solution u_sol onto test functions.\n",
    "    \n",
    "    This can probably be done more efficiently; review later.\n",
    "    \n",
    "    Help from FEniCS team will be very welcome in re-working this example.\n",
    "    \"\"\"\n",
    "    V = vectorspace\n",
    "    u = df.TrialFunction(V)\n",
    "    v = df.TestFunction(V)\n",
    "    a = df.dot(u, v) * df.dx\n",
    "    L = form * v \n",
    "    u_sol = df.Function(V)\n",
    "    df.solve(a==L, u_sol)\n",
    "    return u_sol\n",
    "\n",
    "\n",
    "def compute_dmdt(m):\n",
    "    \"\"\"Convenience function that does all in one go\"\"\"\n",
    "    \n",
    "    Heff_function = turn_form_to_function(Heff_form, V)\n",
    "    dmdt = LLG(Heff_function, m, alpha, gamma)\n",
    "    return dmdt\n",
    "\n",
    "\n",
    "# hamiltonian\n",
    "w = energy_density(m)\n",
    "# and related effective field\n",
    "Heff_form = effective_field(w, m)\n",
    "\n",
    "# function for integration of system of ODEs\n",
    "\n",
    "def rhs_micromagnetic(m_vector_array, t, counter=[0]):\n",
    "    if counter[0] % 10 == 0:\n",
    "        print(\"{:5} Called with t={}\".format(counter[0], t))\n",
    "    counter[0] += 1\n",
    "    # convert m_vector into function\n",
    "    assert isinstance(m_vector_array, np.ndarray)\n",
    "    m.vector()[:] = m_vector_array[:]\n",
    "    dmdt = compute_dmdt(m)\n",
    "    # convert to vector\n",
    "    dmdt_vector = df.assemble(dmdt)\n",
    "    return dmdt_vector.array()"
   ]
  },
  {
   "cell_type": "markdown",
   "metadata": {
    "deletable": true,
    "editable": true
   },
   "source": [
    "## Integrate ODEs with scipy.integrate"
   ]
  },
  {
   "cell_type": "code",
   "execution_count": 6,
   "metadata": {
    "collapsed": false,
    "deletable": true,
    "editable": true
   },
   "outputs": [
    {
     "name": "stdout",
     "output_type": "stream",
     "text": [
      "    0 Called with t=0\n",
      "CPU times: user 44 ms, sys: 4 ms, total: 48 ms\n",
      "Wall time: 41.2 ms\n"
     ]
    }
   ],
   "source": [
    "%%time\n",
    "from scipy.integrate import odeint\n",
    "m_init = df.Constant((1, 0, 0))\n",
    "m = df.interpolate(m_init, V)\n",
    "ts = np.linspace(0, 5e-10, 100)\n",
    "\n",
    "# empty call of time integrator, just to get FEniCS to cache all forms etc\n",
    "rhs_micromagnetic(m.vector().array(), 0)"
   ]
  },
  {
   "cell_type": "code",
   "execution_count": 7,
   "metadata": {
    "collapsed": false,
    "deletable": true,
    "editable": true
   },
   "outputs": [
    {
     "name": "stdout",
     "output_type": "stream",
     "text": [
      "   10 Called with t=1.28095108532e-13\n",
      "   20 Called with t=2.15696137597e-13\n",
      "   30 Called with t=4.78499224791e-13\n",
      "   40 Called with t=2.76444810316e-12\n",
      "   50 Called with t=7.23273299311e-12\n",
      "   60 Called with t=1.30303136665e-11\n",
      "   70 Called with t=1.96548117413e-11\n",
      "   80 Called with t=2.68101854628e-11\n",
      "   90 Called with t=3.39369339442e-11\n",
      "  100 Called with t=4.04183058191e-11\n",
      "  110 Called with t=4.6899677694e-11\n",
      "  120 Called with t=5.46903179096e-11\n",
      "  130 Called with t=6.24809581251e-11\n",
      "  140 Called with t=7.02559843785e-11\n",
      "  150 Called with t=7.80271071413e-11\n",
      "  160 Called with t=8.57699766569e-11\n",
      "  170 Called with t=9.34940106745e-11\n",
      "  180 Called with t=9.9886749371e-11\n",
      "  190 Called with t=1.06377300387e-10\n",
      "  200 Called with t=1.13014569881e-10\n",
      "  210 Called with t=1.20849581399e-10\n",
      "  220 Called with t=1.28760160571e-10\n",
      "  230 Called with t=1.35775268342e-10\n",
      "  240 Called with t=1.42909078493e-10\n",
      "  250 Called with t=1.50122023565e-10\n",
      "  260 Called with t=1.58002293609e-10\n",
      "  270 Called with t=1.6574069268e-10\n",
      "  280 Called with t=1.73266285288e-10\n",
      "  290 Called with t=1.81193686646e-10\n",
      "  300 Called with t=1.89270694045e-10\n",
      "  310 Called with t=1.97544316864e-10\n",
      "  320 Called with t=2.06017352564e-10\n",
      "  330 Called with t=2.14623330185e-10\n",
      "  340 Called with t=2.23303804154e-10\n",
      "  350 Called with t=2.32027515604e-10\n",
      "  360 Called with t=2.40816083276e-10\n",
      "  370 Called with t=2.49804016891e-10\n",
      "  380 Called with t=2.58888289297e-10\n",
      "  390 Called with t=2.6815855093e-10\n",
      "  400 Called with t=2.77533978983e-10\n",
      "  410 Called with t=2.86979517984e-10\n",
      "  420 Called with t=2.96615950429e-10\n",
      "  430 Called with t=3.06316134158e-10\n",
      "  440 Called with t=3.1611194481e-10\n",
      "  450 Called with t=3.25998577297e-10\n",
      "  460 Called with t=3.3592922812e-10\n",
      "  470 Called with t=3.45945130457e-10\n",
      "  480 Called with t=3.55929201975e-10\n",
      "  490 Called with t=3.65892052947e-10\n",
      "  500 Called with t=3.75798765088e-10\n",
      "  510 Called with t=3.85726272156e-10\n",
      "  520 Called with t=3.95684971615e-10\n",
      "  530 Called with t=4.05582891876e-10\n",
      "  540 Called with t=4.15483809041e-10\n",
      "  550 Called with t=4.25457493017e-10\n",
      "  560 Called with t=4.35365391999e-10\n",
      "  570 Called with t=4.45229434317e-10\n",
      "  580 Called with t=4.55016552233e-10\n",
      "  590 Called with t=4.64837765252e-10\n",
      "  600 Called with t=4.74710120926e-10\n",
      "  610 Called with t=4.84638279724e-10\n",
      "  620 Called with t=4.94789651019e-10\n",
      "CPU times: user 5.33 s, sys: 328 ms, total: 5.66 s\n",
      "Wall time: 5.13 s\n"
     ]
    }
   ],
   "source": [
    "%%time \n",
    "\n",
    "ms = odeint(rhs_micromagnetic, y0=m.vector().array(), t=ts)"
   ]
  },
  {
   "cell_type": "code",
   "execution_count": 8,
   "metadata": {
    "collapsed": false,
    "deletable": true,
    "editable": true
   },
   "outputs": [
    {
     "data": {
      "text/plain": [
       "array([  0.00000000e+00,   5.05050505e-12,   1.01010101e-11,\n",
       "         1.51515152e-11,   2.02020202e-11,   2.52525253e-11,\n",
       "         3.03030303e-11,   3.53535354e-11,   4.04040404e-11,\n",
       "         4.54545455e-11,   5.05050505e-11,   5.55555556e-11,\n",
       "         6.06060606e-11,   6.56565657e-11,   7.07070707e-11,\n",
       "         7.57575758e-11,   8.08080808e-11,   8.58585859e-11,\n",
       "         9.09090909e-11,   9.59595960e-11,   1.01010101e-10,\n",
       "         1.06060606e-10,   1.11111111e-10,   1.16161616e-10,\n",
       "         1.21212121e-10,   1.26262626e-10,   1.31313131e-10,\n",
       "         1.36363636e-10,   1.41414141e-10,   1.46464646e-10,\n",
       "         1.51515152e-10,   1.56565657e-10,   1.61616162e-10,\n",
       "         1.66666667e-10,   1.71717172e-10,   1.76767677e-10,\n",
       "         1.81818182e-10,   1.86868687e-10,   1.91919192e-10,\n",
       "         1.96969697e-10,   2.02020202e-10,   2.07070707e-10,\n",
       "         2.12121212e-10,   2.17171717e-10,   2.22222222e-10,\n",
       "         2.27272727e-10,   2.32323232e-10,   2.37373737e-10,\n",
       "         2.42424242e-10,   2.47474747e-10,   2.52525253e-10,\n",
       "         2.57575758e-10,   2.62626263e-10,   2.67676768e-10,\n",
       "         2.72727273e-10,   2.77777778e-10,   2.82828283e-10,\n",
       "         2.87878788e-10,   2.92929293e-10,   2.97979798e-10,\n",
       "         3.03030303e-10,   3.08080808e-10,   3.13131313e-10,\n",
       "         3.18181818e-10,   3.23232323e-10,   3.28282828e-10,\n",
       "         3.33333333e-10,   3.38383838e-10,   3.43434343e-10,\n",
       "         3.48484848e-10,   3.53535354e-10,   3.58585859e-10,\n",
       "         3.63636364e-10,   3.68686869e-10,   3.73737374e-10,\n",
       "         3.78787879e-10,   3.83838384e-10,   3.88888889e-10,\n",
       "         3.93939394e-10,   3.98989899e-10,   4.04040404e-10,\n",
       "         4.09090909e-10,   4.14141414e-10,   4.19191919e-10,\n",
       "         4.24242424e-10,   4.29292929e-10,   4.34343434e-10,\n",
       "         4.39393939e-10,   4.44444444e-10,   4.49494949e-10,\n",
       "         4.54545455e-10,   4.59595960e-10,   4.64646465e-10,\n",
       "         4.69696970e-10,   4.74747475e-10,   4.79797980e-10,\n",
       "         4.84848485e-10,   4.89898990e-10,   4.94949495e-10,\n",
       "         5.00000000e-10])"
      ]
     },
     "execution_count": 8,
     "metadata": {},
     "output_type": "execute_result"
    }
   ],
   "source": [
    "ts"
   ]
  },
  {
   "cell_type": "code",
   "execution_count": 9,
   "metadata": {
    "collapsed": false,
    "deletable": true,
    "editable": true
   },
   "outputs": [
    {
     "data": {
      "text/plain": [
       "<matplotlib.text.Text at 0x7f33ac2b7ad0>"
      ]
     },
     "execution_count": 9,
     "metadata": {},
     "output_type": "execute_result"
    },
    {
     "data": {
      "image/png": "[encoded data removed]",
      "text/plain": [
       "<matplotlib.figure.Figure at 0x7f33f86bbed0>"
      ]
     },
     "metadata": {},
     "output_type": "display_data"
    }
   ],
   "source": [
    "import pylab\n",
    "import sys\n",
    "sys.path.insert(0, \"/home/leo/git/micromagnetics\")\n",
    "\n",
    "from micromagnetictestcases.macrospin.analytic_solution import macrospin_analytic_solution\n",
    "\n",
    "mx_analytic = macrospin_analytic_solution(alpha, gamma, Ms/2, ts)\n",
    "\n",
    "tmp2 = ms[:,0:1]  # might be m_x, m_y, m_z of first vector\n",
    "pylab.plot(ts, tmp2, 'o-')\n",
    "pylab.plot(ts, mx_analytic, 'x-')\n",
    "pylab.legend(['simulation', 'analytical'])\n",
    "pylab.xlabel('$t\\,$[s]')\n",
    "pylab.ylabel('$<M_x>$')"
   ]
  },
  {
   "cell_type": "code",
   "execution_count": null,
   "metadata": {
    "collapsed": true,
    "deletable": true,
    "editable": true
   },
   "outputs": [],
   "source": []
  }
 ],
 "metadata": {
  "kernelspec": {
   "display_name": "Python 2",
   "language": "python",
   "name": "python2"
  },
  "language_info": {
   "codemirror_mode": {
    "name": "ipython",
    "version": 2
   },
   "file_extension": ".py",
   "mimetype": "text/x-python",
   "name": "python",
   "nbconvert_exporter": "python",
   "pygments_lexer": "ipython2",
   "version": "2.7.12"
  }
 },
 "nbformat": 4,
 "nbformat_minor": 2
}
