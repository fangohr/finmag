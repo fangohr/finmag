{
 "metadata": {
  "name": "writing-tri-surf-meshplot"
 },
 "nbformat": 3,
 "nbformat_minor": 0,
 "worksheets": [
  {
   "cells": [
    {
     "cell_type": "code",
     "collapsed": false,
     "input": [
      "import dolfin as df"
     ],
     "language": "python",
     "metadata": {},
     "outputs": [],
     "prompt_number": 2
    },
    {
     "cell_type": "code",
     "collapsed": false,
     "input": [
      "mesh=df.Box(0,0,0,3,6,9,1,2,3)"
     ],
     "language": "python",
     "metadata": {},
     "outputs": [],
     "prompt_number": 28
    },
    {
     "cell_type": "code",
     "collapsed": false,
     "input": [
      "bmesh = df.BoundaryMesh(mesh)"
     ],
     "language": "python",
     "metadata": {},
     "outputs": [],
     "prompt_number": 15
    },
    {
     "cell_type": "code",
     "collapsed": false,
     "input": [
      "print bmesh"
     ],
     "language": "python",
     "metadata": {},
     "outputs": [
      {
       "output_type": "stream",
       "stream": "stdout",
       "text": [
        "<Mesh of topological dimension 2 (triangles) with 56 vertices and 108 cells, ordered>\n"
       ]
      }
     ],
     "prompt_number": 16
    },
    {
     "cell_type": "code",
     "collapsed": false,
     "input": [
      "bmesh.coordinates().shape #can get coordinates of points from here"
     ],
     "language": "python",
     "metadata": {},
     "outputs": [
      {
       "output_type": "pyout",
       "prompt_number": 31,
       "text": [
        "(24, 3)"
       ]
      }
     ],
     "prompt_number": 31
    },
    {
     "cell_type": "code",
     "collapsed": false,
     "input": [
      "df.plot(bmesh) # good as a quick check, but can't include in ipython notebook (and can't close figure window??)"
     ],
     "language": "python",
     "metadata": {},
     "outputs": [
      {
       "output_type": "pyout",
       "prompt_number": 32,
       "text": [
        "<viper.viper_dolfin.Viper at 0x4187e50>"
       ]
      }
     ],
     "prompt_number": 32
    },
    {
     "cell_type": "markdown",
     "metadata": {},
     "source": [
      "Example from matplotlib webpage:"
     ]
    },
    {
     "cell_type": "code",
     "collapsed": false,
     "input": [
      "from mpl_toolkits.mplot3d import Axes3D\n",
      "from matplotlib import cm\n",
      "import matplotlib.pyplot as plt\n",
      "import numpy as np\n",
      "from matplotlib import cm\n",
      "import matplotlib.pyplot as plt\n",
      "import numpy as np\n",
      "\n",
      "n_angles = 36\n",
      "n_radii = 8\n",
      "\n",
      "# An array of radii\n",
      "# Does not include radius r=0, this is to eliminate duplicate points\n",
      "radii = np.linspace(0.125, 1.0, n_radii)\n",
      "\n",
      "# An array of angles\n",
      "angles = np.linspace(0, 2*np.pi, n_angles, endpoint=False)\n",
      "\n",
      "# Repeat all angles for each radius\n",
      "angles = np.repeat(angles[...,np.newaxis], n_radii, axis=1)\n",
      "\n",
      "# Convert polar (radii, angles) coords to cartesian (x, y) coords\n",
      "# (0, 0) is added here. There are no duplicate points in the (x, y) plane\n",
      "x = np.append(0, (radii*np.cos(angles)).flatten())\n",
      "y = np.append(0, (radii*np.sin(angles)).flatten())\n",
      "\n",
      "# Pringle surface\n",
      "z = np.sin(-x*y)\n",
      "\n",
      "fig = plt.figure()\n",
      "ax = fig.gca(projection='3d')\n",
      "\n",
      "ax.plot_trisurf(x, y, z, cmap=cm.jet, linewidth=0.2)\n",
      "\n",
      "#plt.show()"
     ],
     "language": "python",
     "metadata": {},
     "outputs": [
      {
       "output_type": "pyout",
       "prompt_number": 25,
       "text": [
        "<mpl_toolkits.mplot3d.art3d.Poly3DCollection at 0x4007bd0>"
       ]
      }
     ],
     "prompt_number": 25
    },
    {
     "cell_type": "markdown",
     "metadata": {},
     "source": [
      "Attempt to use this to show our boundary mesh"
     ]
    },
    {
     "cell_type": "code",
     "collapsed": false,
     "input": [
      "#def plot_surface_mesh(mesh):\n",
      "if True:\n",
      "    import matplotlib\n",
      "\n",
      "    # the plot_trisurf function has become available in matplotlib 1.2.0\n",
      "    if not matplotlib.__version__[0:3] >= '1.2':\n",
      "        raise NotImplementedError(\"plot_surface_mesh needs matplotlib 1.2, you have %s\" % matplotlib.__version__)\n",
      "\n",
      "    from mpl_toolkits.mplot3d import Axes3D\n",
      "    from matplotlib import cm\n",
      "    import matplotlib.pyplot as plt\n",
      "        \n",
      "    bmesh = df.BoundaryMesh(mesh)\n",
      "    coordinates = bmesh.coordinates()\n",
      "    x = coordinates[:,0]\n",
      "    y = coordinates[:,1]\n",
      "    z = coordinates[:,2]\n",
      "\n",
      "    fig = plt.figure()\n",
      "    ax = fig.gca(projection='3d')\n",
      "    ax.plot_trisurf(x, y, z, cmap=cm.jet, linewidth=0.2)\n",
      "    \n",
      "    #try this: -> ??\n",
      "    #ax.plot_trisurf(x, z, y, cmap=cm.jet, linewidth=0.2)\n",
      "\n",
      "    #plt.show()    "
     ],
     "language": "python",
     "metadata": {},
     "outputs": [],
     "prompt_number": 33
    },
    {
     "cell_type": "markdown",
     "metadata": {},
     "source": [
      "This seems to plot something 2-dimensional -- somehow plot_trisurf does not use the x, y, z arrays of coordinates as I would expect. "
     ]
    },
    {
     "cell_type": "markdown",
     "metadata": {},
     "source": [
      "Other question: how do we get the figure inline and not show up as separate figure window? Need to stop here for now."
     ]
    },
    {
     "cell_type": "code",
     "collapsed": false,
     "input": [],
     "language": "python",
     "metadata": {},
     "outputs": []
    }
   ],
   "metadata": {}
  }
 ]
}