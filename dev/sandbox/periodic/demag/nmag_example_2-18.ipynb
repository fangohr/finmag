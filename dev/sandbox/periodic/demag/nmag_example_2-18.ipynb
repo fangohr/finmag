{
 "metadata": {
  "name": "",
  "signature": "sha256:b6b76ed6a13b02870328a3f737effd894308b82513dd8182ed5d2f60085700d0"
 },
 "nbformat": 3,
 "nbformat_minor": 0,
 "worksheets": [
  {
   "cells": [
    {
     "cell_type": "markdown",
     "metadata": {},
     "source": [
      "# Nmag example 2.18"
     ]
    },
    {
     "cell_type": "markdown",
     "metadata": {},
     "source": [
      "This notebook follows example 2.18 in the Nmag tutorial: http://nmag.soton.ac.uk/nmag/current/manual/singlehtml/manual.html#document-example_2Dperiodicity/doc"
     ]
    },
    {
     "cell_type": "code",
     "collapsed": false,
     "input": [
      "import dolfin as df\n",
      "from finmag import sim_with\n",
      "from finmag.energies.demag import FKDemag\n",
      "import finmag\n",
      "finmag.set_logging_level('INFO')"
     ],
     "language": "python",
     "metadata": {},
     "outputs": [
      {
       "output_type": "stream",
       "stream": "stderr",
       "text": [
        "[2014-06-20 11:03:00] DEBUG: Building modules in 'native'...\n"
       ]
      },
      {
       "output_type": "stream",
       "stream": "stderr",
       "text": [
        "[2014-06-20 11:03:01] DEBUG: FinMag          5126:42408d0cb336cafea5ce26341d00f6053c9caf74\n"
       ]
      },
      {
       "output_type": "stream",
       "stream": "stderr",
       "text": [
        "[2014-06-20 11:03:01] DEBUG: Dolfin          1.4.0                Matplotlib      1.3.1               \n"
       ]
      },
      {
       "output_type": "stream",
       "stream": "stderr",
       "text": [
        "[2014-06-20 11:03:01] DEBUG: Numpy           1.8.1                Scipy           0.14.0              \n"
       ]
      },
      {
       "output_type": "stream",
       "stream": "stderr",
       "text": [
        "[2014-06-20 11:03:01] DEBUG: IPython         3.0.0-dev            Python          2.7.6               \n"
       ]
      },
      {
       "output_type": "stream",
       "stream": "stderr",
       "text": [
        "[2014-06-20 11:03:02] DEBUG: Paraview        4.0.1-1ubuntu1       Sundials        2.5.0               \n"
       ]
      },
      {
       "output_type": "stream",
       "stream": "stderr",
       "text": [
        "[2014-06-20 11:03:02] DEBUG: Boost-Python    <unknown>            Linux           Ubuntu 14.04 LTS    \n"
       ]
      },
      {
       "output_type": "stream",
       "stream": "stderr",
       "text": [
        "[2014-06-20 11:03:02] DEBUG: Registering debug signal handler. Press Ctrl-Z at any time to stop execution and jump into the debugger.\n"
       ]
      }
     ],
     "prompt_number": 1
    },
    {
     "cell_type": "code",
     "collapsed": false,
     "input": [
      "lx = 30\n",
      "ly = 10\n",
      "lz = 10"
     ],
     "language": "python",
     "metadata": {},
     "outputs": [],
     "prompt_number": 2
    },
    {
     "cell_type": "code",
     "collapsed": false,
     "input": [
      "mesh = df.BoxMesh(0, 0, 0, lx, ly, lz, 10, 3, 3)"
     ],
     "language": "python",
     "metadata": {},
     "outputs": [],
     "prompt_number": 3
    },
    {
     "cell_type": "code",
     "collapsed": false,
     "input": [
      "sim = sim_with(mesh, Ms=1e6, m_init=[1, 1, 1], alpha=0.5, A=13e-12, unit_length=1e-9, name='rod')\n",
      "sim.schedule('save_ndt', every=5e-12)\n",
      "sim.relax()"
     ],
     "language": "python",
     "metadata": {},
     "outputs": [
      {
       "output_type": "stream",
       "stream": "stderr",
       "text": [
        "[2014-06-20 11:03:05] INFO: Finmag logging output will be written to file: '/home/cilix/work/simulations/2014-06-18__Stress-testing_the_demag_macrogeometry/rod.log' (any old content will be overwritten).\n"
       ]
      },
      {
       "output_type": "stream",
       "stream": "stderr",
       "text": [
        "[2014-06-20 11:03:05] INFO: Creating Sim object 'rod' (rank=0/1).\n"
       ]
      },
      {
       "output_type": "stream",
       "stream": "stderr",
       "text": [
        "[2014-06-20 11:03:05] INFO: <Mesh of topological dimension 3 (tetrahedra) with 176 vertices and 540 cells, ordered>\n"
       ]
      },
      {
       "output_type": "stream",
       "stream": "stderr",
       "text": [
        "[2014-06-20 11:03:05] INFO: Create integrator sundials with kwargs={}\n"
       ]
      },
      {
       "output_type": "stream",
       "stream": "stderr",
       "text": [
        "[2014-06-20 11:03:05] INFO: Simulation will run until relaxation of the magnetisation.\n"
       ]
      },
      {
       "output_type": "stream",
       "stream": "stderr",
       "text": [
        "[2014-06-20 11:03:14] INFO: Relaxation finished at time t = 4.4e-10.\n"
       ]
      }
     ],
     "prompt_number": 4
    },
    {
     "cell_type": "code",
     "collapsed": false,
     "input": [
      "_ = sim.plot_dynamics(style='-x')"
     ],
     "language": "python",
     "metadata": {},
     "outputs": [
      {
       "metadata": {},
       "output_type": "display_data",
       "png": "[encoded data removed]",
       "text": [
        "<matplotlib.figure.Figure at 0x7fd34283e810>"
       ]
      }
     ],
     "prompt_number": 7
    },
    {
     "cell_type": "markdown",
     "metadata": {},
     "source": [
      "## 2D periodicity"
     ]
    },
    {
     "cell_type": "code",
     "collapsed": false,
     "input": [
      "finmag.set_logging_level('DEBUG')"
     ],
     "language": "python",
     "metadata": {},
     "outputs": [],
     "prompt_number": 8
    },
    {
     "cell_type": "code",
     "collapsed": false,
     "input": [
      "sim2 = sim_with(mesh, Ms=1e6, m_init=[1, 1, 1], alpha=0.5, A=13e-12,\n",
      "                unit_length=1e-9, nx=10, ny=40, spacing_x=30.01, spacing_y=10.01, pbc='2d', name='rod_periodic')\n",
      "sim2.schedule('save_ndt', every=5e-12)"
     ],
     "language": "python",
     "metadata": {},
     "outputs": [
      {
       "output_type": "stream",
       "stream": "stderr",
       "text": [
        "[2014-06-20 11:03:27] INFO: Finmag logging output will be written to file: '/home/cilix/work/simulations/2014-06-18__Stress-testing_the_demag_macrogeometry/rod_periodic.log' (any old content will be overwritten).\n"
       ]
      },
      {
       "output_type": "stream",
       "stream": "stderr",
       "text": [
        "[2014-06-20 11:03:27] DEBUG: Creating DataWriter for file 'rod_periodic.ndt'\n"
       ]
      },
      {
       "output_type": "stream",
       "stream": "stderr",
       "text": [
        "[2014-06-20 11:03:27] INFO: Creating Sim object 'rod_periodic' (rank=0/1).\n"
       ]
      },
      {
       "output_type": "stream",
       "stream": "stderr",
       "text": [
        "[2014-06-20 11:03:27] INFO: <Mesh of topological dimension 3 (tetrahedra) with 176 vertices and 540 cells, ordered>\n"
       ]
      },
      {
       "output_type": "stream",
       "stream": "stderr",
       "text": [
        "[2014-06-20 11:03:27] DEBUG: Setting 2d periodic boundary conditions (in the xy-plane).\n"
       ]
      },
      {
       "output_type": "stream",
       "stream": "stderr",
       "text": [
        "[2014-06-20 11:03:27] DEBUG: Creating LLG object.\n"
       ]
      },
      {
       "output_type": "stream",
       "stream": "stderr",
       "text": [
        "[2014-06-20 11:03:27] DEBUG: Creating Exchange object with method box-matrix-petsc, in Jacobian.\n"
       ]
      },
      {
       "output_type": "stream",
       "stream": "stderr",
       "text": [
        "[2014-06-20 11:03:27] DEBUG: Adding interaction Exchange to simulation.\n"
       ]
      },
      {
       "output_type": "stream",
       "stream": "stderr",
       "text": [
        "[2014-06-20 11:03:27] DEBUG: Creating Demag object with solver 'FK'.\n"
       ]
      },
      {
       "output_type": "stream",
       "stream": "stderr",
       "text": [
        "[2014-06-20 11:03:27] DEBUG: Adding interaction Demag to simulation.\n"
       ]
      },
      {
       "output_type": "stream",
       "stream": "stderr",
       "text": [
        "[2014-06-20 11:03:27] DEBUG: Creating macro-geometry with demag 10 x 40 tiles (spacing: 30.01 x 10.01)\n"
       ]
      },
      {
       "output_type": "stream",
       "stream": "stderr",
       "text": [
        "[2014-06-20 11:03:30] DEBUG: Successfully created simulation 'rod_periodic'\n"
       ]
      },
      {
       "metadata": {},
       "output_type": "pyout",
       "prompt_number": 9,
       "text": [
        "<finmag.scheduler.derivedevents.RepeatingTimeEvent at 0x7fd3423d0350>"
       ]
      }
     ],
     "prompt_number": 9
    },
    {
     "cell_type": "code",
     "collapsed": false,
     "input": [
      "finmag.set_logging_level('INFO')"
     ],
     "language": "python",
     "metadata": {},
     "outputs": [],
     "prompt_number": 10
    },
    {
     "cell_type": "code",
     "collapsed": false,
     "input": [
      "sim2.relax()"
     ],
     "language": "python",
     "metadata": {},
     "outputs": [
      {
       "output_type": "stream",
       "stream": "stderr",
       "text": [
        "[2014-06-20 11:03:30] INFO: Create integrator sundials with kwargs={}\n"
       ]
      },
      {
       "output_type": "stream",
       "stream": "stderr",
       "text": [
        "[2014-06-20 11:03:30] INFO: Simulation will run until relaxation of the magnetisation.\n"
       ]
      },
      {
       "output_type": "stream",
       "stream": "stderr",
       "text": [
        "[2014-06-20 11:04:06] INFO: Relaxation finished at time t = 1.9e-09.\n"
       ]
      }
     ],
     "prompt_number": 11
    },
    {
     "cell_type": "code",
     "collapsed": false,
     "input": [
      "_ = sim2.plot_dynamics(style='-x')"
     ],
     "language": "python",
     "metadata": {},
     "outputs": [
      {
       "metadata": {},
       "output_type": "display_data",
       "png": "[encoded data removed]",
       "text": [
        "<matplotlib.figure.Figure at 0x7fd3423a9c90>"
       ]
      }
     ],
     "prompt_number": 12
    },
    {
     "cell_type": "code",
     "collapsed": false,
     "input": [],
     "language": "python",
     "metadata": {},
     "outputs": []
    }
   ],
   "metadata": {}
  }
 ]
}