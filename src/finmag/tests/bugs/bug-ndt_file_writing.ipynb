{
 "metadata": {
  "name": "",
  "signature": "sha256:0ff87f10e46898aee29c4976805512f9ae5f41da743fe6a36e55e93f8d62eea4"
 },
 "nbformat": 3,
 "nbformat_minor": 0,
 "worksheets": [
  {
   "cells": [
    {
     "cell_type": "markdown",
     "metadata": {},
     "source": [
      "Post bug-fixing  update (20 June 17:10): the file below outlines what went wrong. When we re-execute this notebook, it will not report any errors (at least not right now). The tests below have been converted into the script ``test_bug_ndt_file_writing.py`` and run automatically as part of our test suite. I thus thought to leave this file as is. HF"
     ]
    },
    {
     "cell_type": "markdown",
     "metadata": {},
     "source": [
      "## Saving spatially averaged magnetisation into a file"
     ]
    },
    {
     "cell_type": "markdown",
     "metadata": {},
     "source": [
      "Bug 8 June 2014. On some machines, we seem to have wrong data in the ndt file. Some inspection shows that there are too many columns in the ndt file."
     ]
    },
    {
     "cell_type": "markdown",
     "metadata": {},
     "source": [
      "We didn't have a test for this, it was only caught by chance (Max looking at a plot in a notebook plotting the curves). Max writes:\n",
      "\n",
      "    Quick update for tonight: fortunately this doesn't seem to be very serious. Increasing the number of points to be plotted shows that it is always only the very first data point that is off. So it seems that this is an issue with .ndt saving where the first value is somehow not correctly updated.\n",
      "\n",
      "    I just did a bisection of the history (version control and bisect FTW! :)) and the commit which introduced this buglet is 30145c2f9595 (\"ndt file now saves max dmdt norm\"). However, I can't see offhand why that changeset would introduce the bug. Anyway, off to sleep now. Just thought I'd send this update. Once someone finds the cause of the bug we should also add a regression test (it's a bit strange that this hasn't been picked up by our existing tests).\n",
      "\n"
     ]
    },
    {
     "cell_type": "code",
     "collapsed": false,
     "input": [
      "import finmag"
     ],
     "language": "python",
     "metadata": {},
     "outputs": [
      {
       "output_type": "stream",
       "stream": "stderr",
       "text": [
        "[2014-06-09 12:15:10] INFO: Finmag logging output will be appended to file: '/home/fangohr/.finmag/global.log'\n"
       ]
      },
      {
       "output_type": "stream",
       "stream": "stderr",
       "text": [
        "[2014-06-09 12:15:10] DEBUG: Building modules in 'native'...\n"
       ]
      },
      {
       "output_type": "stream",
       "stream": "stderr",
       "text": [
        "[2014-06-09 12:15:11] DEBUG: FinMag          4951:4de0d0aa9093dd0d412e526879f8a1486a6f6c44\n"
       ]
      },
      {
       "output_type": "stream",
       "stream": "stderr",
       "text": [
        "[2014-06-09 12:15:11] DEBUG: Dolfin          1.3.0                Matplotlib      1.3.1               \n"
       ]
      },
      {
       "output_type": "stream",
       "stream": "stderr",
       "text": [
        "[2014-06-09 12:15:11] DEBUG: Numpy           1.8.1                Scipy           0.13.3              \n"
       ]
      },
      {
       "output_type": "stream",
       "stream": "stderr",
       "text": [
        "[2014-06-09 12:15:11] DEBUG: IPython         2.0.0                Python          2.7.6               \n"
       ]
      },
      {
       "output_type": "stream",
       "stream": "stderr",
       "text": [
        "[2014-06-09 12:15:11] DEBUG: Paraview        4.0.1-1ubuntu1       Sundials        2.5.0               \n"
       ]
      },
      {
       "output_type": "stream",
       "stream": "stderr",
       "text": [
        "[2014-06-09 12:15:11] DEBUG: Boost-Python    <unknown>            Linux           Ubuntu 14.04 LTS    \n"
       ]
      },
      {
       "output_type": "stream",
       "stream": "stderr",
       "text": [
        "[2014-06-09 12:15:11] DEBUG: Registering debug signal handler. Press Ctrl-Z at any time to stop execution and jump into the debugger.\n"
       ]
      }
     ],
     "prompt_number": 1
    },
    {
     "cell_type": "code",
     "collapsed": false,
     "input": [
      "sim = finmag.example.barmini(name='bug-saving-average-data-june-2014')"
     ],
     "language": "python",
     "metadata": {},
     "outputs": [
      {
       "output_type": "stream",
       "stream": "stderr",
       "text": [
        "[2014-06-09 12:15:11] INFO: Finmag logging output will be written to file: '/home/fangohr/hg/finmag/src/finmag/tests/bugs/bug_saving_average_data_june_2014.log' (any old content will be overwritten).\n"
       ]
      },
      {
       "output_type": "stream",
       "stream": "stderr",
       "text": [
        "[2014-06-09 12:15:11] DEBUG: Creating DataWriter for file 'bug_saving_average_data_june_2014.ndt'\n"
       ]
      },
      {
       "output_type": "stream",
       "stream": "stderr",
       "text": [
        "[2014-06-09 12:15:11] INFO: Creating Sim object 'bug-saving-average-data-june-2014' (rank=0/1).\n"
       ]
      },
      {
       "output_type": "stream",
       "stream": "stderr",
       "text": [
        "[2014-06-09 12:15:11] INFO: <Mesh of topological dimension 3 (tetrahedra) with 45 vertices and 96 cells, ordered>\n"
       ]
      },
      {
       "output_type": "stream",
       "stream": "stderr",
       "text": [
        "[2014-06-09 12:15:11] DEBUG: Creating LLG object.\n"
       ]
      },
      {
       "output_type": "stream",
       "stream": "stderr",
       "text": [
        "[2014-06-09 12:15:11] DEBUG: Creating Exchange object with method box-matrix-petsc, in Jacobian.\n"
       ]
      },
      {
       "output_type": "stream",
       "stream": "stderr",
       "text": [
        "[2014-06-09 12:15:11] DEBUG: Adding interaction Exchange to simulation.\n"
       ]
      },
      {
       "output_type": "stream",
       "stream": "stderr",
       "text": [
        "[2014-06-09 12:15:11] DEBUG: Creating Demag object with solver 'FK'.\n"
       ]
      },
      {
       "output_type": "stream",
       "stream": "stderr",
       "text": [
        "[2014-06-09 12:15:11] DEBUG: Adding interaction Demag to simulation.\n"
       ]
      },
      {
       "output_type": "stream",
       "stream": "stderr",
       "text": [
        "[2014-06-09 12:15:11] DEBUG: Successfully created simulation 'bug-saving-average-data-june-2014'\n"
       ]
      }
     ],
     "prompt_number": 2
    },
    {
     "cell_type": "markdown",
     "metadata": {},
     "source": [
      "What is the current magnetisation? We expect it to be $ \\vec{m} = [\\sqrt(2), 0, \\sqrt(2)]$ as this is the initial value in the barmini example."
     ]
    },
    {
     "cell_type": "code",
     "collapsed": false,
     "input": [
      "import math\n",
      "m = sim.get_field_as_dolfin_function('m')\n",
      "points = [[0, 0, 0], [1, 0, 0], [2, 0,0 ], [0, 0, 5], [1, 1, 2], [3, 3, 10]]\n",
      "for point in points:\n",
      "    print(\"m({}) = {}\".format(point, m(point)))\n",
      "    assert (m(point)[0] - math.sqrt(2)) < 1e-15\n",
      "    assert (m(point)[1] - 0) < 1e-15\n",
      "    assert (m(point)[2] - math.sqrt(2)) < 1e-15\n",
      "    \n",
      "    "
     ],
     "language": "python",
     "metadata": {},
     "outputs": [
      {
       "output_type": "stream",
       "stream": "stdout",
       "text": [
        "m([0, 0, 0]) = [ 0.70710678  0.          0.70710678]\n",
        "m([1, 0, 0]) = [ 0.70710678  0.          0.70710678]\n",
        "m([2, 0, 0]) = [ 0.70710678  0.          0.70710678]\n",
        "m([0, 0, 5]) = [ 0.70710678  0.          0.70710678]\n",
        "m([1, 1, 2]) = [ 0.70710678  0.          0.70710678]\n",
        "m([3, 3, 10]) = [ 0.70710678  0.          0.70710678]\n"
       ]
      }
     ],
     "prompt_number": 3
    },
    {
     "cell_type": "code",
     "collapsed": false,
     "input": [
      "sim.save_averages()"
     ],
     "language": "python",
     "metadata": {},
     "outputs": [
      {
       "output_type": "stream",
       "stream": "stderr",
       "text": [
        "[2014-06-09 12:15:12] DEBUG: Saving data to ndt file at t=0.0 (sim.name=bug-saving-average-data-june-2014).\n"
       ]
      }
     ],
     "prompt_number": 4
    },
    {
     "cell_type": "markdown",
     "metadata": {},
     "source": [
      "And to confirm that this has taken place, let's have a look at the data file:"
     ]
    },
    {
     "cell_type": "code",
     "collapsed": false,
     "input": [
      "!cat bug_saving_average_data_june_2014.ndt\n"
     ],
     "language": "python",
     "metadata": {},
     "outputs": [
      {
       "output_type": "stream",
       "stream": "stdout",
       "text": [
        "#               time            E_Demag         E_Exchange            E_total          H_Demag_x          H_Demag_y          H_Demag_z       H_Exchange_x       H_Exchange_y       H_Exchange_z          H_total_x          H_total_y          H_total_z                m_x                m_y                m_z \r\n",
        "#                <s>                <J>                <J>                <J>              <A/m>              <A/m>              <A/m>              <A/m>              <A/m>              <A/m>              <A/m>              <A/m>              <A/m>                 <>                 <>                 <> \r\n",
        "                   0  9.99434122264e-21                  0  9.99434122264e-21     -210808.743122     -19907.0801882     -70862.1056989 -1.89115971695e-09                  0 -1.89115971695e-09     -210808.743122     -19907.0801882     -70862.1056989     0.707106781187                  0     0.707106781187 \r\n"
       ]
      }
     ],
     "prompt_number": 5
    },
    {
     "cell_type": "markdown",
     "metadata": {},
     "source": [
      "The first line contains the title for every column, the second line the (SI) units in which the entity is measured, and the third and any other lines contain the actual data."
     ]
    },
    {
     "cell_type": "markdown",
     "metadata": {},
     "source": [
      "Check that all lines in this data file have the right number of entries (columns)"
     ]
    },
    {
     "cell_type": "code",
     "collapsed": false,
     "input": [
      "def number_of_columns_in_ndt_file_consistent(ndtfile):\n",
      "    lines = open(ndtfile).readlines()\n",
      "    headers = lines[0][1:].split()  # string of leading hash in first line\n",
      "    n = len(headers)\n",
      "    print(\"Found {} headers: = {}\".format(n, headers))\n",
      "    # skip line 1 which contains the units\n",
      "    for i in range(2, len(lines)):\n",
      "        print(\"Found {} columns in line {}.\".format(len(lines[i].split()), i))\n",
      "    print(\"Printed the length to show all the data, now we test each line\")\n",
      "    for i in range(2, len(lines)):\n",
      "        assert(len(lines[i].split()) == n)\n"
     ],
     "language": "python",
     "metadata": {},
     "outputs": [],
     "prompt_number": 6
    },
    {
     "cell_type": "code",
     "collapsed": false,
     "input": [
      "number_of_columns_in_ndt_file_consistent('bug_saving_average_data_june_2014.ndt')"
     ],
     "language": "python",
     "metadata": {},
     "outputs": [
      {
       "output_type": "stream",
       "stream": "stdout",
       "text": [
        "Found 16 headers: = ['time', 'E_Demag', 'E_Exchange', 'E_total', 'H_Demag_x', 'H_Demag_y', 'H_Demag_z', 'H_Exchange_x', 'H_Exchange_y', 'H_Exchange_z', 'H_total_x', 'H_total_y', 'H_total_z', 'm_x', 'm_y', 'm_z']\n",
        "Found 16 columns in line 2.\n",
        "Printed the length to show all the data, now we test each line\n"
       ]
      }
     ],
     "prompt_number": 7
    },
    {
     "cell_type": "code",
     "collapsed": false,
     "input": [
      "def check_magnetisation_is_of_sensible_magnitude(ndtfile):\n",
      "    data = finmag.util.fileio.Tablereader(ndtfile)\n",
      "    mx, my, mz = data['m_x', 'm_y', 'm_z']\n",
      "    print(\"Found {} saved steps.\".format(len(mx)))\n",
      "    assert len(mx) == len(my) == len(mz)\n",
      "    # magnetisation should be normalised, so cannot exceed 1\n",
      "    for m_x, m_y, m_z in zip(mx, my, mz):\n",
      "        assert abs(m_x) <= 1, \"m_x = {}\".format(m_x)\n",
      "        assert abs(m_y) <= 1, \"m_x = {}\".format(m_x)\n",
      "        assert abs(m_z) <= 1, \"m_x = {}\".format(m_x)\n",
      "    "
     ],
     "language": "python",
     "metadata": {},
     "outputs": [],
     "prompt_number": 8
    },
    {
     "cell_type": "code",
     "collapsed": false,
     "input": [
      "check_magnetisation_is_of_sensible_magnitude('bug_saving_average_data_june_2014.ndt')"
     ],
     "language": "python",
     "metadata": {},
     "outputs": [
      {
       "output_type": "stream",
       "stream": "stdout",
       "text": [
        "Found 1 saved steps.\n"
       ]
      }
     ],
     "prompt_number": 9
    },
    {
     "cell_type": "markdown",
     "metadata": {},
     "source": [
      "Now run the simulation for a little longer and save more data"
     ]
    },
    {
     "cell_type": "code",
     "collapsed": false,
     "input": [
      "sim.schedule(\"save_ndt\", every=10e-12)\n",
      "sim.run_until(0.2e-9)"
     ],
     "language": "python",
     "metadata": {},
     "outputs": [
      {
       "output_type": "stream",
       "stream": "stderr",
       "text": [
        "[2014-06-09 12:15:13] INFO: Create integrator sundials with kwargs={}\n"
       ]
      },
      {
       "output_type": "stream",
       "stream": "stderr",
       "text": [
        "[2014-06-09 12:15:13] DEBUG: Creating integrator with backend sundials.\n"
       ]
      },
      {
       "output_type": "stream",
       "stream": "stderr",
       "text": [
        "[2014-06-09 12:15:13] INFO: Simulation will run until t = 2e-10 s.\n"
       ]
      },
      {
       "output_type": "stream",
       "stream": "stderr",
       "text": [
        "[2014-06-09 12:15:13] DEBUG: Saving data to ndt file at t=0.0 (sim.name=bug-saving-average-data-june-2014).\n"
       ]
      },
      {
       "output_type": "stream",
       "stream": "stderr",
       "text": [
        "[2014-06-09 12:15:13] DEBUG: Saving data to ndt file at t=1e-11 (sim.name=bug-saving-average-data-june-2014).\n"
       ]
      },
      {
       "output_type": "stream",
       "stream": "stderr",
       "text": [
        "[2014-06-09 12:15:13] DEBUG: Saving data to ndt file at t=2e-11 (sim.name=bug-saving-average-data-june-2014).\n"
       ]
      },
      {
       "output_type": "stream",
       "stream": "stderr",
       "text": [
        "[2014-06-09 12:15:13] DEBUG: Saving data to ndt file at t=3e-11 (sim.name=bug-saving-average-data-june-2014).\n"
       ]
      },
      {
       "output_type": "stream",
       "stream": "stderr",
       "text": [
        "[2014-06-09 12:15:13] DEBUG: Saving data to ndt file at t=4e-11 (sim.name=bug-saving-average-data-june-2014).\n"
       ]
      },
      {
       "output_type": "stream",
       "stream": "stderr",
       "text": [
        "[2014-06-09 12:15:13] DEBUG: Saving data to ndt file at t=5e-11 (sim.name=bug-saving-average-data-june-2014).\n"
       ]
      },
      {
       "output_type": "stream",
       "stream": "stderr",
       "text": [
        "[2014-06-09 12:15:14] DEBUG: Saving data to ndt file at t=6e-11 (sim.name=bug-saving-average-data-june-2014).\n"
       ]
      },
      {
       "output_type": "stream",
       "stream": "stderr",
       "text": [
        "[2014-06-09 12:15:14] DEBUG: Saving data to ndt file at t=7e-11 (sim.name=bug-saving-average-data-june-2014).\n"
       ]
      },
      {
       "output_type": "stream",
       "stream": "stderr",
       "text": [
        "[2014-06-09 12:15:14] DEBUG: Saving data to ndt file at t=8e-11 (sim.name=bug-saving-average-data-june-2014).\n"
       ]
      },
      {
       "output_type": "stream",
       "stream": "stderr",
       "text": [
        "[2014-06-09 12:15:14] DEBUG: Saving data to ndt file at t=9e-11 (sim.name=bug-saving-average-data-june-2014).\n"
       ]
      },
      {
       "output_type": "stream",
       "stream": "stderr",
       "text": [
        "[2014-06-09 12:15:14] DEBUG: Saving data to ndt file at t=1e-10 (sim.name=bug-saving-average-data-june-2014).\n"
       ]
      },
      {
       "output_type": "stream",
       "stream": "stderr",
       "text": [
        "[2014-06-09 12:15:14] DEBUG: Saving data to ndt file at t=1.1e-10 (sim.name=bug-saving-average-data-june-2014).\n"
       ]
      },
      {
       "output_type": "stream",
       "stream": "stderr",
       "text": [
        "[2014-06-09 12:15:14] DEBUG: Saving data to ndt file at t=1.2e-10 (sim.name=bug-saving-average-data-june-2014).\n"
       ]
      },
      {
       "output_type": "stream",
       "stream": "stderr",
       "text": [
        "[2014-06-09 12:15:14] DEBUG: Saving data to ndt file at t=1.3e-10 (sim.name=bug-saving-average-data-june-2014).\n"
       ]
      },
      {
       "output_type": "stream",
       "stream": "stderr",
       "text": [
        "[2014-06-09 12:15:14] DEBUG: Saving data to ndt file at t=1.4e-10 (sim.name=bug-saving-average-data-june-2014).\n"
       ]
      },
      {
       "output_type": "stream",
       "stream": "stderr",
       "text": [
        "[2014-06-09 12:15:15] DEBUG: Saving data to ndt file at t=1.5e-10 (sim.name=bug-saving-average-data-june-2014).\n"
       ]
      },
      {
       "output_type": "stream",
       "stream": "stderr",
       "text": [
        "[2014-06-09 12:15:15] DEBUG: Saving data to ndt file at t=1.6e-10 (sim.name=bug-saving-average-data-june-2014).\n"
       ]
      },
      {
       "output_type": "stream",
       "stream": "stderr",
       "text": [
        "[2014-06-09 12:15:15] DEBUG: Saving data to ndt file at t=1.7e-10 (sim.name=bug-saving-average-data-june-2014).\n"
       ]
      },
      {
       "output_type": "stream",
       "stream": "stderr",
       "text": [
        "[2014-06-09 12:15:15] DEBUG: Saving data to ndt file at t=1.8e-10 (sim.name=bug-saving-average-data-june-2014).\n"
       ]
      },
      {
       "output_type": "stream",
       "stream": "stderr",
       "text": [
        "[2014-06-09 12:15:15] DEBUG: Saving data to ndt file at t=1.9e-10 (sim.name=bug-saving-average-data-june-2014).\n"
       ]
      },
      {
       "output_type": "stream",
       "stream": "stderr",
       "text": [
        "[2014-06-09 12:15:15] DEBUG: Saving data to ndt file at t=2e-10 (sim.name=bug-saving-average-data-june-2014).\n"
       ]
      },
      {
       "output_type": "stream",
       "stream": "stderr",
       "text": [
        "[2014-06-09 12:15:15] INFO: Simulation has reached time t = 2e-10 s.\n"
       ]
      }
     ],
     "prompt_number": 10
    },
    {
     "cell_type": "code",
     "collapsed": false,
     "input": [
      "number_of_columns_in_ndt_file_consistent('bug_saving_average_data_june_2014.ndt')"
     ],
     "language": "python",
     "metadata": {},
     "outputs": [
      {
       "output_type": "stream",
       "stream": "stdout",
       "text": [
        "Found 16 headers: = ['time', 'E_Demag', 'E_Exchange', 'E_total', 'H_Demag_x', 'H_Demag_y', 'H_Demag_z', 'H_Exchange_x', 'H_Exchange_y', 'H_Exchange_z', 'H_total_x', 'H_total_y', 'H_total_z', 'm_x', 'm_y', 'm_z']\n",
        "Found 16 columns in line 2.\n",
        "Found 21 columns in line 3.\n",
        "Found 21 columns in line 4.\n",
        "Found 21 columns in line 5.\n",
        "Found 21 columns in line 6.\n",
        "Found 21 columns in line 7.\n",
        "Found 21 columns in line 8.\n",
        "Found 21 columns in line 9.\n",
        "Found 21 columns in line 10.\n",
        "Found 21 columns in line 11.\n",
        "Found 21 columns in line 12.\n",
        "Found 21 columns in line 13.\n",
        "Found 21 columns in line 14.\n",
        "Found 21 columns in line 15.\n",
        "Found 21 columns in line 16.\n",
        "Found 21 columns in line 17.\n",
        "Found 21 columns in line 18.\n",
        "Found 21 columns in line 19.\n",
        "Found 21 columns in line 20.\n",
        "Found 21 columns in line 21.\n",
        "Found 21 columns in line 22.\n",
        "Found 21 columns in line 23.\n",
        "Printed the length to show all the data, now we test each line\n"
       ]
      },
      {
       "ename": "AssertionError",
       "evalue": "",
       "output_type": "pyerr",
       "traceback": [
        "\u001b[1;31m---------------------------------------------------------------------------\u001b[0m\n\u001b[1;31mAssertionError\u001b[0m                            Traceback (most recent call last)",
        "\u001b[1;32m<ipython-input-11-2fbbe8898c83>\u001b[0m in \u001b[0;36m<module>\u001b[1;34m()\u001b[0m\n\u001b[1;32m----> 1\u001b[1;33m \u001b[0mnumber_of_columns_in_ndt_file_consistent\u001b[0m\u001b[1;33m(\u001b[0m\u001b[1;34m'bug_saving_average_data_june_2014.ndt'\u001b[0m\u001b[1;33m)\u001b[0m\u001b[1;33m\u001b[0m\u001b[0m\n\u001b[0m",
        "\u001b[1;32m<ipython-input-6-00b4069b7fde>\u001b[0m in \u001b[0;36mnumber_of_columns_in_ndt_file_consistent\u001b[1;34m(ndtfile)\u001b[0m\n\u001b[0;32m      9\u001b[0m     \u001b[1;32mprint\u001b[0m\u001b[1;33m(\u001b[0m\u001b[1;34m\"Printed the length to show all the data, now we test each line\"\u001b[0m\u001b[1;33m)\u001b[0m\u001b[1;33m\u001b[0m\u001b[0m\n\u001b[0;32m     10\u001b[0m     \u001b[1;32mfor\u001b[0m \u001b[0mi\u001b[0m \u001b[1;32min\u001b[0m \u001b[0mrange\u001b[0m\u001b[1;33m(\u001b[0m\u001b[1;36m2\u001b[0m\u001b[1;33m,\u001b[0m \u001b[0mlen\u001b[0m\u001b[1;33m(\u001b[0m\u001b[0mlines\u001b[0m\u001b[1;33m)\u001b[0m\u001b[1;33m)\u001b[0m\u001b[1;33m:\u001b[0m\u001b[1;33m\u001b[0m\u001b[0m\n\u001b[1;32m---> 11\u001b[1;33m         \u001b[1;32massert\u001b[0m\u001b[1;33m(\u001b[0m\u001b[0mlen\u001b[0m\u001b[1;33m(\u001b[0m\u001b[0mlines\u001b[0m\u001b[1;33m[\u001b[0m\u001b[0mi\u001b[0m\u001b[1;33m]\u001b[0m\u001b[1;33m.\u001b[0m\u001b[0msplit\u001b[0m\u001b[1;33m(\u001b[0m\u001b[1;33m)\u001b[0m\u001b[1;33m)\u001b[0m \u001b[1;33m==\u001b[0m \u001b[0mn\u001b[0m\u001b[1;33m)\u001b[0m\u001b[1;33m\u001b[0m\u001b[0m\n\u001b[0m",
        "\u001b[1;31mAssertionError\u001b[0m: "
       ]
      }
     ],
     "prompt_number": 11
    },
    {
     "cell_type": "code",
     "collapsed": false,
     "input": [
      "check_magnetisation_is_of_sensible_magnitude('bug_saving_average_data_june_2014.ndt')"
     ],
     "language": "python",
     "metadata": {},
     "outputs": [
      {
       "output_type": "stream",
       "stream": "stdout",
       "text": [
        "Found 22 saved steps.\n"
       ]
      },
      {
       "ename": "AssertionError",
       "evalue": "m_x = -13356292150.5",
       "output_type": "pyerr",
       "traceback": [
        "\u001b[1;31m---------------------------------------------------------------------------\u001b[0m\n\u001b[1;31mAssertionError\u001b[0m                            Traceback (most recent call last)",
        "\u001b[1;32m<ipython-input-12-afab2357d6ae>\u001b[0m in \u001b[0;36m<module>\u001b[1;34m()\u001b[0m\n\u001b[1;32m----> 1\u001b[1;33m \u001b[0mcheck_magnetisation_is_of_sensible_magnitude\u001b[0m\u001b[1;33m(\u001b[0m\u001b[1;34m'bug_saving_average_data_june_2014.ndt'\u001b[0m\u001b[1;33m)\u001b[0m\u001b[1;33m\u001b[0m\u001b[0m\n\u001b[0m",
        "\u001b[1;32m<ipython-input-8-f6e5e81e5a25>\u001b[0m in \u001b[0;36mcheck_magnetisation_is_of_sensible_magnitude\u001b[1;34m(ndtfile)\u001b[0m\n\u001b[0;32m      6\u001b[0m     \u001b[1;31m# magnetisation should be normalised, so cannot exceed 1\u001b[0m\u001b[1;33m\u001b[0m\u001b[1;33m\u001b[0m\u001b[0m\n\u001b[0;32m      7\u001b[0m     \u001b[1;32mfor\u001b[0m \u001b[0mm_x\u001b[0m\u001b[1;33m,\u001b[0m \u001b[0mm_y\u001b[0m\u001b[1;33m,\u001b[0m \u001b[0mm_z\u001b[0m \u001b[1;32min\u001b[0m \u001b[0mzip\u001b[0m\u001b[1;33m(\u001b[0m\u001b[0mmx\u001b[0m\u001b[1;33m,\u001b[0m \u001b[0mmy\u001b[0m\u001b[1;33m,\u001b[0m \u001b[0mmz\u001b[0m\u001b[1;33m)\u001b[0m\u001b[1;33m:\u001b[0m\u001b[1;33m\u001b[0m\u001b[0m\n\u001b[1;32m----> 8\u001b[1;33m         \u001b[1;32massert\u001b[0m \u001b[0mabs\u001b[0m\u001b[1;33m(\u001b[0m\u001b[0mm_x\u001b[0m\u001b[1;33m)\u001b[0m \u001b[1;33m<=\u001b[0m \u001b[1;36m1\u001b[0m\u001b[1;33m,\u001b[0m \u001b[1;34m\"m_x = {}\"\u001b[0m\u001b[1;33m.\u001b[0m\u001b[0mformat\u001b[0m\u001b[1;33m(\u001b[0m\u001b[0mm_x\u001b[0m\u001b[1;33m)\u001b[0m\u001b[1;33m\u001b[0m\u001b[0m\n\u001b[0m\u001b[0;32m      9\u001b[0m         \u001b[1;32massert\u001b[0m \u001b[0mabs\u001b[0m\u001b[1;33m(\u001b[0m\u001b[0mm_y\u001b[0m\u001b[1;33m)\u001b[0m \u001b[1;33m<=\u001b[0m \u001b[1;36m1\u001b[0m\u001b[1;33m,\u001b[0m \u001b[1;34m\"m_x = {}\"\u001b[0m\u001b[1;33m.\u001b[0m\u001b[0mformat\u001b[0m\u001b[1;33m(\u001b[0m\u001b[0mm_x\u001b[0m\u001b[1;33m)\u001b[0m\u001b[1;33m\u001b[0m\u001b[0m\n\u001b[0;32m     10\u001b[0m         \u001b[1;32massert\u001b[0m \u001b[0mabs\u001b[0m\u001b[1;33m(\u001b[0m\u001b[0mm_z\u001b[0m\u001b[1;33m)\u001b[0m \u001b[1;33m<=\u001b[0m \u001b[1;36m1\u001b[0m\u001b[1;33m,\u001b[0m \u001b[1;34m\"m_x = {}\"\u001b[0m\u001b[1;33m.\u001b[0m\u001b[0mformat\u001b[0m\u001b[1;33m(\u001b[0m\u001b[0mm_x\u001b[0m\u001b[1;33m)\u001b[0m\u001b[1;33m\u001b[0m\u001b[0m\n",
        "\u001b[1;31mAssertionError\u001b[0m: m_x = -13356292150.5"
       ]
      }
     ],
     "prompt_number": 12
    },
    {
     "cell_type": "code",
     "collapsed": false,
     "input": [],
     "language": "python",
     "metadata": {},
     "outputs": []
    },
    {
     "cell_type": "code",
     "collapsed": false,
     "input": [],
     "language": "python",
     "metadata": {},
     "outputs": []
    }
   ],
   "metadata": {}
  }
 ]
}